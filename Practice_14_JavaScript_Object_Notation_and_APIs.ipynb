{
  "cells": [
    {
      "cell_type": "markdown",
      "metadata": {
        "id": "gtETsh5j8vHw"
      },
      "source": [
        "# **Practice 14 - JavaScript Object Notation and APIs**\n",
        "\n",
        "#### **WRITE YOUR NAME HERE**"
      ]
    },
    {
      "cell_type": "markdown",
      "metadata": {
        "id": "Efu_Sse0Wp6P"
      },
      "source": [
        "---\n",
        "\n",
        "**IMPORTANT**:\n",
        "- Before starting the lab, save a copy to your google drive by navigating to `File > Save a copy in Drive` <br>\n",
        "\n",
        "<br>\n",
        "\n",
        "\n",
        "**Instructions**: Complete the lab below.\n",
        "\n",
        "- <font color=red>Tasks</font> indicated in red must be completed to receive credit\n",
        "- Include all code for your work\n",
        "- Include markdown cells with written answers explaining your work when prompted\n",
        "- **NOTE: Your completed lab must be submitted to Canvas as a .ipynb file by the end of the lab session**\n",
        "---"
      ]
    },
    {
      "cell_type": "markdown",
      "metadata": {
        "id": "wFVxj8nD-yIt"
      },
      "source": [
        "<br>"
      ]
    },
    {
      "cell_type": "markdown",
      "metadata": {
        "id": "omeTfTlN4Npb"
      },
      "source": [
        "####<font color=red>Organized</font>\n",
        "\n",
        "**Answers should be organized in the following format for organization and readability**\n"
      ]
    },
    {
      "cell_type": "markdown",
      "metadata": {
        "id": "uLialHuQ4-vU"
      },
      "source": [
        "<font color=red>Example task 1</font>"
      ]
    },
    {
      "cell_type": "code",
      "execution_count": null,
      "metadata": {
        "id": "Mxff4INi5Evt"
      },
      "outputs": [],
      "source": [
        "# 1.\n",
        "\n",
        "# This will be the code block to answer the first part of a task"
      ]
    },
    {
      "cell_type": "markdown",
      "metadata": {
        "id": "A-GtymRS5Syz"
      },
      "source": [
        "1. This will be the text answer/explanation (if prompted) for the first task"
      ]
    },
    {
      "cell_type": "markdown",
      "metadata": {
        "id": "fDAMP6ZC5Zqp"
      },
      "source": [
        "<font color=red>Example task 2</font>"
      ]
    },
    {
      "cell_type": "code",
      "execution_count": null,
      "metadata": {
        "id": "K94QMtU55Zqp"
      },
      "outputs": [],
      "source": [
        "# 2.\n",
        "\n",
        "# This will be the code block to answer the second part of a task"
      ]
    },
    {
      "cell_type": "markdown",
      "metadata": {
        "id": "xRfvDNu25Zqp"
      },
      "source": [
        "2. This will be the text answer/explanation (if prompted) for the second task"
      ]
    },
    {
      "cell_type": "markdown",
      "metadata": {
        "id": "JIEIhg5I5JfN"
      },
      "source": [
        "<br>\n",
        "\n",
        "Continue this format for the remaining subtasks\n"
      ]
    },
    {
      "cell_type": "markdown",
      "metadata": {
        "id": "rcQECH5y4RiC"
      },
      "source": [
        "<br>"
      ]
    },
    {
      "cell_type": "markdown",
      "source": [
        "---\n",
        "\n",
        "<br>"
      ],
      "metadata": {
        "id": "jFiNcIjpjFs7"
      }
    },
    {
      "cell_type": "markdown",
      "source": [
        "#### Packages"
      ],
      "metadata": {
        "id": "QdyJzDgAsFNZ"
      }
    },
    {
      "cell_type": "code",
      "source": [
        "# install packages\n",
        "install.packages(\"jsonlite\")"
      ],
      "metadata": {
        "id": "fYGjK4oX4jSn",
        "colab": {
          "base_uri": "https://localhost:8080/"
        },
        "outputId": "9cbfac8b-b5f9-4cdc-f855-6fbbc39d2999"
      },
      "execution_count": 1,
      "outputs": [
        {
          "output_type": "stream",
          "name": "stderr",
          "text": [
            "Installing package into ‘/usr/local/lib/R/site-library’\n",
            "(as ‘lib’ is unspecified)\n",
            "\n"
          ]
        }
      ]
    },
    {
      "cell_type": "code",
      "source": [
        "# load libraries\n",
        "library(jsonlite)"
      ],
      "metadata": {
        "id": "hyIrgK3amFQl"
      },
      "execution_count": 2,
      "outputs": []
    },
    {
      "cell_type": "markdown",
      "source": [
        "<br>\n",
        "\n",
        "<br>"
      ],
      "metadata": {
        "id": "SNO2ev8txX3p"
      }
    },
    {
      "cell_type": "markdown",
      "metadata": {
        "id": "Q4n93wPOXOPB"
      },
      "source": [
        "<br>\n",
        "\n",
        "---"
      ]
    },
    {
      "cell_type": "markdown",
      "metadata": {
        "id": "oHahMLpO8A9D"
      },
      "source": [
        "####<font color=red>Task 1</font>\n"
      ]
    },
    {
      "cell_type": "markdown",
      "source": [
        "The goal of this assignment is to visualize the use of tobacco across countries over time."
      ],
      "metadata": {
        "id": "yk_jwAyxcL2Z"
      }
    },
    {
      "cell_type": "markdown",
      "metadata": {
        "id": "MYQzfdqoNr0b"
      },
      "source": [
        "<font color=red>Task 1.1</font>\n",
        "\n",
        "* Use the code from lecture to load the `M_Est_tob_curr_std` variable from the WHO website\n",
        "\n",
        "* Extract the `value` list item and store as the data frame `tobacco`\n",
        "\n",
        "* Show the `head()` of the `tobacco` data frame"
      ]
    },
    {
      "cell_type": "code",
      "source": [
        "#1.1\n",
        "# path to data\n",
        "url_path <- \"https://ghoapi.azureedge.net/api/\"\n",
        "\n",
        "# selected variable\n",
        "variable <- \"M_Est_tob_curr_std\"\n",
        "\n",
        "tabacco <- fromJSON(paste0(url_path, variable))$value\n",
        "head(tabacco)\n"
      ],
      "metadata": {
        "colab": {
          "base_uri": "https://localhost:8080/",
          "height": 949
        },
        "id": "G4w7Vyc80YY-",
        "outputId": "d459bb4d-75c5-4005-eede-4588be6663e9"
      },
      "execution_count": 27,
      "outputs": [
        {
          "output_type": "display_data",
          "data": {
            "text/html": [
              "<table class=\"dataframe\">\n",
              "<caption>A data.frame: 6 × 25</caption>\n",
              "<thead>\n",
              "\t<tr><th></th><th scope=col>Id</th><th scope=col>IndicatorCode</th><th scope=col>SpatialDimType</th><th scope=col>SpatialDim</th><th scope=col>ParentLocationCode</th><th scope=col>TimeDimType</th><th scope=col>ParentLocation</th><th scope=col>Dim1Type</th><th scope=col>TimeDim</th><th scope=col>Dim1</th><th scope=col>⋯</th><th scope=col>DataSourceDim</th><th scope=col>Value</th><th scope=col>NumericValue</th><th scope=col>Low</th><th scope=col>High</th><th scope=col>Comments</th><th scope=col>Date</th><th scope=col>TimeDimensionValue</th><th scope=col>TimeDimensionBegin</th><th scope=col>TimeDimensionEnd</th></tr>\n",
              "\t<tr><th></th><th scope=col>&lt;int&gt;</th><th scope=col>&lt;chr&gt;</th><th scope=col>&lt;chr&gt;</th><th scope=col>&lt;chr&gt;</th><th scope=col>&lt;chr&gt;</th><th scope=col>&lt;chr&gt;</th><th scope=col>&lt;chr&gt;</th><th scope=col>&lt;chr&gt;</th><th scope=col>&lt;int&gt;</th><th scope=col>&lt;chr&gt;</th><th scope=col>⋯</th><th scope=col>&lt;lgl&gt;</th><th scope=col>&lt;chr&gt;</th><th scope=col>&lt;dbl&gt;</th><th scope=col>&lt;dbl&gt;</th><th scope=col>&lt;dbl&gt;</th><th scope=col>&lt;chr&gt;</th><th scope=col>&lt;chr&gt;</th><th scope=col>&lt;chr&gt;</th><th scope=col>&lt;chr&gt;</th><th scope=col>&lt;chr&gt;</th></tr>\n",
              "</thead>\n",
              "<tbody>\n",
              "\t<tr><th scope=row>1</th><td> 2682</td><td>M_Est_tob_curr_std</td><td>COUNTRY</td><td>CRI</td><td>AMR</td><td>YEAR</td><td>Americas       </td><td>SEX</td><td>2007</td><td>SEX_BTSX</td><td>⋯</td><td>NA</td><td>14.0 [11.1-16.9]</td><td>14.0</td><td>11.1</td><td>16.9</td><td>NA                                                                                                                                                                                       </td><td>2024-01-16T07:43:41+01:00    </td><td>2007</td><td>2007-01-01T00:00:00+01:00</td><td>2007-12-31T00:00:00+01:00</td></tr>\n",
              "\t<tr><th scope=row>2</th><td> 3891</td><td>M_Est_tob_curr_std</td><td>COUNTRY</td><td>MYS</td><td>WPR</td><td>YEAR</td><td>Western Pacific</td><td>SEX</td><td>2010</td><td>SEX_FMLE</td><td>⋯</td><td>NA</td><td>2.2 [1.6-2.7]   </td><td> 2.2</td><td> 1.6</td><td> 2.7</td><td>NA                                                                                                                                                                                       </td><td>2024-01-16T07:43:05+01:00    </td><td>2010</td><td>2010-01-01T00:00:00+01:00</td><td>2010-12-31T00:00:00+01:00</td></tr>\n",
              "\t<tr><th scope=row>3</th><td> 9957</td><td>M_Est_tob_curr_std</td><td>REGION </td><td>WPR</td><td>NA </td><td>YEAR</td><td>NA             </td><td>SEX</td><td>2015</td><td>SEX_BTSX</td><td>⋯</td><td>NA</td><td>24.0            </td><td>24.0</td><td>  NA</td><td>  NA</td><td>NA                                                                                                                                                                                       </td><td>2024-03-18T14:58:50.757+01:00</td><td>2015</td><td>2015-01-01T00:00:00+01:00</td><td>2015-12-31T00:00:00+01:00</td></tr>\n",
              "\t<tr><th scope=row>4</th><td>10288</td><td>M_Est_tob_curr_std</td><td>COUNTRY</td><td>RWA</td><td>AFR</td><td>YEAR</td><td>Africa         </td><td>SEX</td><td>2010</td><td>SEX_MLE </td><td>⋯</td><td>NA</td><td>26.6 [20.0-33.2]</td><td>26.6</td><td>20.0</td><td>33.2</td><td>NA                                                                                                                                                                                       </td><td>2024-01-16T07:43:04+01:00    </td><td>2010</td><td>2010-01-01T00:00:00+01:00</td><td>2010-12-31T00:00:00+01:00</td></tr>\n",
              "\t<tr><th scope=row>5</th><td>14895</td><td>M_Est_tob_curr_std</td><td>COUNTRY</td><td>FJI</td><td>WPR</td><td>YEAR</td><td>Western Pacific</td><td>SEX</td><td>2015</td><td>SEX_MLE </td><td>⋯</td><td>NA</td><td>44.4 [33.5-55.4]</td><td>44.4</td><td>33.5</td><td>55.4</td><td>Tobacco use estimates are not available. Tobacco smoking estimates are substituted for missing tobacco use estimates.                                                                    </td><td>2024-01-16T07:45:37+01:00    </td><td>2015</td><td>2015-01-01T00:00:00+01:00</td><td>2015-12-31T00:00:00+01:00</td></tr>\n",
              "\t<tr><th scope=row>6</th><td>18369</td><td>M_Est_tob_curr_std</td><td>COUNTRY</td><td>SRB</td><td>EUR</td><td>YEAR</td><td>Europe         </td><td>SEX</td><td>2025</td><td>SEX_FMLE</td><td>⋯</td><td>NA</td><td>39.2 [31.2-47.2]</td><td>39.2</td><td>31.2</td><td>47.2</td><td>Tobacco use estimates are not available. Tobacco smoking estimates are substituted for missing tobacco use estimates. The most recent survey was conducted in 2019. This is a projection.</td><td>2024-01-16T07:45:27+01:00    </td><td>2025</td><td>2025-01-01T00:00:00+01:00</td><td>2025-12-31T00:00:00+01:00</td></tr>\n",
              "</tbody>\n",
              "</table>\n"
            ],
            "text/markdown": "\nA data.frame: 6 × 25\n\n| <!--/--> | Id &lt;int&gt; | IndicatorCode &lt;chr&gt; | SpatialDimType &lt;chr&gt; | SpatialDim &lt;chr&gt; | ParentLocationCode &lt;chr&gt; | TimeDimType &lt;chr&gt; | ParentLocation &lt;chr&gt; | Dim1Type &lt;chr&gt; | TimeDim &lt;int&gt; | Dim1 &lt;chr&gt; | ⋯ ⋯ | DataSourceDim &lt;lgl&gt; | Value &lt;chr&gt; | NumericValue &lt;dbl&gt; | Low &lt;dbl&gt; | High &lt;dbl&gt; | Comments &lt;chr&gt; | Date &lt;chr&gt; | TimeDimensionValue &lt;chr&gt; | TimeDimensionBegin &lt;chr&gt; | TimeDimensionEnd &lt;chr&gt; |\n|---|---|---|---|---|---|---|---|---|---|---|---|---|---|---|---|---|---|---|---|---|---|\n| 1 |  2682 | M_Est_tob_curr_std | COUNTRY | CRI | AMR | YEAR | Americas        | SEX | 2007 | SEX_BTSX | ⋯ | NA | 14.0 [11.1-16.9] | 14.0 | 11.1 | 16.9 | NA                                                                                                                                                                                        | 2024-01-16T07:43:41+01:00     | 2007 | 2007-01-01T00:00:00+01:00 | 2007-12-31T00:00:00+01:00 |\n| 2 |  3891 | M_Est_tob_curr_std | COUNTRY | MYS | WPR | YEAR | Western Pacific | SEX | 2010 | SEX_FMLE | ⋯ | NA | 2.2 [1.6-2.7]    |  2.2 |  1.6 |  2.7 | NA                                                                                                                                                                                        | 2024-01-16T07:43:05+01:00     | 2010 | 2010-01-01T00:00:00+01:00 | 2010-12-31T00:00:00+01:00 |\n| 3 |  9957 | M_Est_tob_curr_std | REGION  | WPR | NA  | YEAR | NA              | SEX | 2015 | SEX_BTSX | ⋯ | NA | 24.0             | 24.0 |   NA |   NA | NA                                                                                                                                                                                        | 2024-03-18T14:58:50.757+01:00 | 2015 | 2015-01-01T00:00:00+01:00 | 2015-12-31T00:00:00+01:00 |\n| 4 | 10288 | M_Est_tob_curr_std | COUNTRY | RWA | AFR | YEAR | Africa          | SEX | 2010 | SEX_MLE  | ⋯ | NA | 26.6 [20.0-33.2] | 26.6 | 20.0 | 33.2 | NA                                                                                                                                                                                        | 2024-01-16T07:43:04+01:00     | 2010 | 2010-01-01T00:00:00+01:00 | 2010-12-31T00:00:00+01:00 |\n| 5 | 14895 | M_Est_tob_curr_std | COUNTRY | FJI | WPR | YEAR | Western Pacific | SEX | 2015 | SEX_MLE  | ⋯ | NA | 44.4 [33.5-55.4] | 44.4 | 33.5 | 55.4 | Tobacco use estimates are not available. Tobacco smoking estimates are substituted for missing tobacco use estimates.                                                                     | 2024-01-16T07:45:37+01:00     | 2015 | 2015-01-01T00:00:00+01:00 | 2015-12-31T00:00:00+01:00 |\n| 6 | 18369 | M_Est_tob_curr_std | COUNTRY | SRB | EUR | YEAR | Europe          | SEX | 2025 | SEX_FMLE | ⋯ | NA | 39.2 [31.2-47.2] | 39.2 | 31.2 | 47.2 | Tobacco use estimates are not available. Tobacco smoking estimates are substituted for missing tobacco use estimates. The most recent survey was conducted in 2019. This is a projection. | 2024-01-16T07:45:27+01:00     | 2025 | 2025-01-01T00:00:00+01:00 | 2025-12-31T00:00:00+01:00 |\n\n",
            "text/latex": "A data.frame: 6 × 25\n\\begin{tabular}{r|lllllllllllllllllllll}\n  & Id & IndicatorCode & SpatialDimType & SpatialDim & ParentLocationCode & TimeDimType & ParentLocation & Dim1Type & TimeDim & Dim1 & ⋯ & DataSourceDim & Value & NumericValue & Low & High & Comments & Date & TimeDimensionValue & TimeDimensionBegin & TimeDimensionEnd\\\\\n  & <int> & <chr> & <chr> & <chr> & <chr> & <chr> & <chr> & <chr> & <int> & <chr> & ⋯ & <lgl> & <chr> & <dbl> & <dbl> & <dbl> & <chr> & <chr> & <chr> & <chr> & <chr>\\\\\n\\hline\n\t1 &  2682 & M\\_Est\\_tob\\_curr\\_std & COUNTRY & CRI & AMR & YEAR & Americas        & SEX & 2007 & SEX\\_BTSX & ⋯ & NA & 14.0 {[}11.1-16.9{]} & 14.0 & 11.1 & 16.9 & NA                                                                                                                                                                                        & 2024-01-16T07:43:41+01:00     & 2007 & 2007-01-01T00:00:00+01:00 & 2007-12-31T00:00:00+01:00\\\\\n\t2 &  3891 & M\\_Est\\_tob\\_curr\\_std & COUNTRY & MYS & WPR & YEAR & Western Pacific & SEX & 2010 & SEX\\_FMLE & ⋯ & NA & 2.2 {[}1.6-2.7{]}    &  2.2 &  1.6 &  2.7 & NA                                                                                                                                                                                        & 2024-01-16T07:43:05+01:00     & 2010 & 2010-01-01T00:00:00+01:00 & 2010-12-31T00:00:00+01:00\\\\\n\t3 &  9957 & M\\_Est\\_tob\\_curr\\_std & REGION  & WPR & NA  & YEAR & NA              & SEX & 2015 & SEX\\_BTSX & ⋯ & NA & 24.0             & 24.0 &   NA &   NA & NA                                                                                                                                                                                        & 2024-03-18T14:58:50.757+01:00 & 2015 & 2015-01-01T00:00:00+01:00 & 2015-12-31T00:00:00+01:00\\\\\n\t4 & 10288 & M\\_Est\\_tob\\_curr\\_std & COUNTRY & RWA & AFR & YEAR & Africa          & SEX & 2010 & SEX\\_MLE  & ⋯ & NA & 26.6 {[}20.0-33.2{]} & 26.6 & 20.0 & 33.2 & NA                                                                                                                                                                                        & 2024-01-16T07:43:04+01:00     & 2010 & 2010-01-01T00:00:00+01:00 & 2010-12-31T00:00:00+01:00\\\\\n\t5 & 14895 & M\\_Est\\_tob\\_curr\\_std & COUNTRY & FJI & WPR & YEAR & Western Pacific & SEX & 2015 & SEX\\_MLE  & ⋯ & NA & 44.4 {[}33.5-55.4{]} & 44.4 & 33.5 & 55.4 & Tobacco use estimates are not available. Tobacco smoking estimates are substituted for missing tobacco use estimates.                                                                     & 2024-01-16T07:45:37+01:00     & 2015 & 2015-01-01T00:00:00+01:00 & 2015-12-31T00:00:00+01:00\\\\\n\t6 & 18369 & M\\_Est\\_tob\\_curr\\_std & COUNTRY & SRB & EUR & YEAR & Europe          & SEX & 2025 & SEX\\_FMLE & ⋯ & NA & 39.2 {[}31.2-47.2{]} & 39.2 & 31.2 & 47.2 & Tobacco use estimates are not available. Tobacco smoking estimates are substituted for missing tobacco use estimates. The most recent survey was conducted in 2019. This is a projection. & 2024-01-16T07:45:27+01:00     & 2025 & 2025-01-01T00:00:00+01:00 & 2025-12-31T00:00:00+01:00\\\\\n\\end{tabular}\n",
            "text/plain": [
              "  Id    IndicatorCode      SpatialDimType SpatialDim ParentLocationCode\n",
              "1  2682 M_Est_tob_curr_std COUNTRY        CRI        AMR               \n",
              "2  3891 M_Est_tob_curr_std COUNTRY        MYS        WPR               \n",
              "3  9957 M_Est_tob_curr_std REGION         WPR        NA                \n",
              "4 10288 M_Est_tob_curr_std COUNTRY        RWA        AFR               \n",
              "5 14895 M_Est_tob_curr_std COUNTRY        FJI        WPR               \n",
              "6 18369 M_Est_tob_curr_std COUNTRY        SRB        EUR               \n",
              "  TimeDimType ParentLocation  Dim1Type TimeDim Dim1     ⋯ DataSourceDim\n",
              "1 YEAR        Americas        SEX      2007    SEX_BTSX ⋯ NA           \n",
              "2 YEAR        Western Pacific SEX      2010    SEX_FMLE ⋯ NA           \n",
              "3 YEAR        NA              SEX      2015    SEX_BTSX ⋯ NA           \n",
              "4 YEAR        Africa          SEX      2010    SEX_MLE  ⋯ NA           \n",
              "5 YEAR        Western Pacific SEX      2015    SEX_MLE  ⋯ NA           \n",
              "6 YEAR        Europe          SEX      2025    SEX_FMLE ⋯ NA           \n",
              "  Value            NumericValue Low  High\n",
              "1 14.0 [11.1-16.9] 14.0         11.1 16.9\n",
              "2 2.2 [1.6-2.7]     2.2          1.6  2.7\n",
              "3 24.0             24.0           NA   NA\n",
              "4 26.6 [20.0-33.2] 26.6         20.0 33.2\n",
              "5 44.4 [33.5-55.4] 44.4         33.5 55.4\n",
              "6 39.2 [31.2-47.2] 39.2         31.2 47.2\n",
              "  Comments                                                                                                                                                                                 \n",
              "1 NA                                                                                                                                                                                       \n",
              "2 NA                                                                                                                                                                                       \n",
              "3 NA                                                                                                                                                                                       \n",
              "4 NA                                                                                                                                                                                       \n",
              "5 Tobacco use estimates are not available. Tobacco smoking estimates are substituted for missing tobacco use estimates.                                                                    \n",
              "6 Tobacco use estimates are not available. Tobacco smoking estimates are substituted for missing tobacco use estimates. The most recent survey was conducted in 2019. This is a projection.\n",
              "  Date                          TimeDimensionValue TimeDimensionBegin       \n",
              "1 2024-01-16T07:43:41+01:00     2007               2007-01-01T00:00:00+01:00\n",
              "2 2024-01-16T07:43:05+01:00     2010               2010-01-01T00:00:00+01:00\n",
              "3 2024-03-18T14:58:50.757+01:00 2015               2015-01-01T00:00:00+01:00\n",
              "4 2024-01-16T07:43:04+01:00     2010               2010-01-01T00:00:00+01:00\n",
              "5 2024-01-16T07:45:37+01:00     2015               2015-01-01T00:00:00+01:00\n",
              "6 2024-01-16T07:45:27+01:00     2025               2025-01-01T00:00:00+01:00\n",
              "  TimeDimensionEnd         \n",
              "1 2007-12-31T00:00:00+01:00\n",
              "2 2010-12-31T00:00:00+01:00\n",
              "3 2015-12-31T00:00:00+01:00\n",
              "4 2010-12-31T00:00:00+01:00\n",
              "5 2015-12-31T00:00:00+01:00\n",
              "6 2025-12-31T00:00:00+01:00"
            ]
          },
          "metadata": {}
        }
      ]
    },
    {
      "cell_type": "markdown",
      "source": [
        "<br>"
      ],
      "metadata": {
        "id": "0zjEI4flUsEh"
      }
    },
    {
      "cell_type": "markdown",
      "metadata": {
        "id": "4D4nboQTUwnf"
      },
      "source": [
        "<font color=red>Task 1.2</font>\n",
        "\n",
        "* Use the `str()` function to explore the data frame\n",
        "\n",
        "* How many columns are in the `tobacco` data frame?\n",
        "\n",
        "* How many rows are in the `tobacco` data frame?"
      ]
    },
    {
      "cell_type": "code",
      "source": [
        "str(tabacco)"
      ],
      "metadata": {
        "colab": {
          "base_uri": "https://localhost:8080/"
        },
        "id": "Gca3RqYb13B5",
        "outputId": "b920aa16-a74f-41c3-f3a4-2a63a23b8667"
      },
      "execution_count": 28,
      "outputs": [
        {
          "output_type": "stream",
          "name": "stdout",
          "text": [
            "'data.frame':\t5181 obs. of  25 variables:\n",
            " $ Id                : int  2682 3891 9957 10288 14895 18369 22189 24428 29960 31351 ...\n",
            " $ IndicatorCode     : chr  \"M_Est_tob_curr_std\" \"M_Est_tob_curr_std\" \"M_Est_tob_curr_std\" \"M_Est_tob_curr_std\" ...\n",
            " $ SpatialDimType    : chr  \"COUNTRY\" \"COUNTRY\" \"REGION\" \"COUNTRY\" ...\n",
            " $ SpatialDim        : chr  \"CRI\" \"MYS\" \"WPR\" \"RWA\" ...\n",
            " $ ParentLocationCode: chr  \"AMR\" \"WPR\" NA \"AFR\" ...\n",
            " $ TimeDimType       : chr  \"YEAR\" \"YEAR\" \"YEAR\" \"YEAR\" ...\n",
            " $ ParentLocation    : chr  \"Americas\" \"Western Pacific\" NA \"Africa\" ...\n",
            " $ Dim1Type          : chr  \"SEX\" \"SEX\" \"SEX\" \"SEX\" ...\n",
            " $ TimeDim           : int  2007 2010 2015 2010 2015 2025 2022 2030 2005 2020 ...\n",
            " $ Dim1              : chr  \"SEX_BTSX\" \"SEX_FMLE\" \"SEX_BTSX\" \"SEX_MLE\" ...\n",
            " $ Dim2Type          : logi  NA NA NA NA NA NA ...\n",
            " $ Dim2              : logi  NA NA NA NA NA NA ...\n",
            " $ Dim3Type          : logi  NA NA NA NA NA NA ...\n",
            " $ Dim3              : logi  NA NA NA NA NA NA ...\n",
            " $ DataSourceDimType : logi  NA NA NA NA NA NA ...\n",
            " $ DataSourceDim     : logi  NA NA NA NA NA NA ...\n",
            " $ Value             : chr  \"14.0 [11.1-16.9]\" \"2.2 [1.6-2.7]\" \"24.0\" \"26.6 [20.0-33.2]\" ...\n",
            " $ NumericValue      : num  14 2.2 24 26.6 44.4 39.2 17.5 20.4 24.2 39.5 ...\n",
            " $ Low               : num  11.1 1.6 NA 20 33.5 31.2 14.3 12.8 19.6 30.5 ...\n",
            " $ High              : num  16.9 2.7 NA 33.2 55.4 47.2 20.8 28.1 28.8 48.5 ...\n",
            " $ Comments          : chr  NA NA NA NA ...\n",
            " $ Date              : chr  \"2024-01-16T07:43:41+01:00\" \"2024-01-16T07:43:05+01:00\" \"2024-03-18T14:58:50.757+01:00\" \"2024-01-16T07:43:04+01:00\" ...\n",
            " $ TimeDimensionValue: chr  \"2007\" \"2010\" \"2015\" \"2010\" ...\n",
            " $ TimeDimensionBegin: chr  \"2007-01-01T00:00:00+01:00\" \"2010-01-01T00:00:00+01:00\" \"2015-01-01T00:00:00+01:00\" \"2010-01-01T00:00:00+01:00\" ...\n",
            " $ TimeDimensionEnd  : chr  \"2007-12-31T00:00:00+01:00\" \"2010-12-31T00:00:00+01:00\" \"2015-12-31T00:00:00+01:00\" \"2010-12-31T00:00:00+01:00\" ...\n"
          ]
        }
      ]
    },
    {
      "cell_type": "markdown",
      "source": [
        "**Task 1.2** <br><br>\n",
        "we have rows 5181 and 25 collumns."
      ],
      "metadata": {
        "id": "dL9pGgKT1642"
      }
    },
    {
      "cell_type": "markdown",
      "metadata": {
        "id": "tbAY19YAbwhr"
      },
      "source": [
        "<br>\n",
        "\n",
        "---"
      ]
    },
    {
      "cell_type": "markdown",
      "metadata": {
        "id": "RKHdiis9bwhr"
      },
      "source": [
        "####<font color=red>Task 2</font>\n"
      ]
    },
    {
      "cell_type": "markdown",
      "source": [
        "Our data is quite a mess! We have rows and columns we don't need. Let's \"clean\" our dataset."
      ],
      "metadata": {
        "id": "YqSpzyaacAXu"
      }
    },
    {
      "cell_type": "markdown",
      "metadata": {
        "id": "d_S1v7g8VK6e"
      },
      "source": [
        "<font color=red>Task 2.1</font>\n",
        "\n",
        "* What are the unique values of the `SpatialDimType` variable? You can use the `unique()` function.\n",
        "\n",
        "* What are the unique values of the `Dim1` variable? Note that this variable represents male, female, or both (overall)\n",
        "\n",
        "* What is the range of years in the dataset based on the `TimeDim` variable?\n",
        "\n",
        "* What is the most recent year of data as indicated by the `TimeDim` variable?"
      ]
    },
    {
      "cell_type": "code",
      "source": [
        "#2.1\n",
        "unique(tabacco$SpatialDimType)\n",
        "unique(tabacco$Dim1)\n",
        "range(tabacco$TimeDim)\n",
        "max(tabacco$TimeDim)"
      ],
      "metadata": {
        "colab": {
          "base_uri": "https://localhost:8080/",
          "height": 86
        },
        "id": "JsZSukfY2i04",
        "outputId": "78802287-8c6d-4f7e-937f-8bb38c1f6ec0"
      },
      "execution_count": 29,
      "outputs": [
        {
          "output_type": "display_data",
          "data": {
            "text/html": [
              "<style>\n",
              ".list-inline {list-style: none; margin:0; padding: 0}\n",
              ".list-inline>li {display: inline-block}\n",
              ".list-inline>li:not(:last-child)::after {content: \"\\00b7\"; padding: 0 .5ex}\n",
              "</style>\n",
              "<ol class=list-inline><li>'COUNTRY'</li><li>'REGION'</li><li>'GLOBAL'</li></ol>\n"
            ],
            "text/markdown": "1. 'COUNTRY'\n2. 'REGION'\n3. 'GLOBAL'\n\n\n",
            "text/latex": "\\begin{enumerate*}\n\\item 'COUNTRY'\n\\item 'REGION'\n\\item 'GLOBAL'\n\\end{enumerate*}\n",
            "text/plain": [
              "[1] \"COUNTRY\" \"REGION\"  \"GLOBAL\" "
            ]
          },
          "metadata": {}
        },
        {
          "output_type": "display_data",
          "data": {
            "text/html": [
              "<style>\n",
              ".list-inline {list-style: none; margin:0; padding: 0}\n",
              ".list-inline>li {display: inline-block}\n",
              ".list-inline>li:not(:last-child)::after {content: \"\\00b7\"; padding: 0 .5ex}\n",
              "</style>\n",
              "<ol class=list-inline><li>'SEX_BTSX'</li><li>'SEX_FMLE'</li><li>'SEX_MLE'</li></ol>\n"
            ],
            "text/markdown": "1. 'SEX_BTSX'\n2. 'SEX_FMLE'\n3. 'SEX_MLE'\n\n\n",
            "text/latex": "\\begin{enumerate*}\n\\item 'SEX\\_BTSX'\n\\item 'SEX\\_FMLE'\n\\item 'SEX\\_MLE'\n\\end{enumerate*}\n",
            "text/plain": [
              "[1] \"SEX_BTSX\" \"SEX_FMLE\" \"SEX_MLE\" "
            ]
          },
          "metadata": {}
        },
        {
          "output_type": "display_data",
          "data": {
            "text/html": [
              "<style>\n",
              ".list-inline {list-style: none; margin:0; padding: 0}\n",
              ".list-inline>li {display: inline-block}\n",
              ".list-inline>li:not(:last-child)::after {content: \"\\00b7\"; padding: 0 .5ex}\n",
              "</style>\n",
              "<ol class=list-inline><li>2000</li><li>2030</li></ol>\n"
            ],
            "text/markdown": "1. 2000\n2. 2030\n\n\n",
            "text/latex": "\\begin{enumerate*}\n\\item 2000\n\\item 2030\n\\end{enumerate*}\n",
            "text/plain": [
              "[1] 2000 2030"
            ]
          },
          "metadata": {}
        },
        {
          "output_type": "display_data",
          "data": {
            "text/html": [
              "2030"
            ],
            "text/markdown": "2030",
            "text/latex": "2030",
            "text/plain": [
              "[1] 2030"
            ]
          },
          "metadata": {}
        }
      ]
    },
    {
      "cell_type": "markdown",
      "source": [
        "<br>"
      ],
      "metadata": {
        "id": "62hCXH3GYjdL"
      }
    },
    {
      "cell_type": "markdown",
      "metadata": {
        "id": "hIZy7XrGYjdM"
      },
      "source": [
        "<font color=red>Task 2.2</font> Since we are interested in visualizing the use of tobacco across countries over time, we need to perform some subsetting\n",
        "\n",
        "* Subset the dataset to only include countries\n",
        "\n",
        "* Subset the dataset to only include rows corresponding to both sexes (overall, not just female or male)\n",
        "\n",
        "* Subset the dataset to only include years prior to (less than 2025)\n",
        "\n",
        "  You may store the resulting data frame as `tobacco2`.\n",
        "  \n",
        "  Hint: You should have 1,320 rows"
      ]
    },
    {
      "cell_type": "code",
      "source": [
        "only_countries <- tabacco[tabacco$SpatialDimType == \"COUNTRY\",]\n",
        "both_sexes <- tabacco[tabacco$Dim1 == \"SEX_BTSX\",]\n",
        "less_2025 <- tabacco[tabacco$TimeDim < 2025,]\n",
        "tabacco2 <- tabacco[tabacco$SpatialDimType == \"COUNTRY\" & tabacco$Dim1 == \"SEX_BTSX\" & tabacco$TimeDim < 2025, ]\n",
        "str(tabacco2)"
      ],
      "metadata": {
        "colab": {
          "base_uri": "https://localhost:8080/"
        },
        "id": "O3LYwI9z5ZpC",
        "outputId": "37d819ab-428d-4bee-fdff-48aa8bf5a039"
      },
      "execution_count": 40,
      "outputs": [
        {
          "output_type": "stream",
          "name": "stdout",
          "text": [
            "'data.frame':\t1320 obs. of  25 variables:\n",
            " $ Id                : int  2682 36327 45203 46153 50436 52593 60804 62667 86633 89580 ...\n",
            " $ IndicatorCode     : chr  \"M_Est_tob_curr_std\" \"M_Est_tob_curr_std\" \"M_Est_tob_curr_std\" \"M_Est_tob_curr_std\" ...\n",
            " $ SpatialDimType    : chr  \"COUNTRY\" \"COUNTRY\" \"COUNTRY\" \"COUNTRY\" ...\n",
            " $ SpatialDim        : chr  \"CRI\" \"CMR\" \"MEX\" \"CHE\" ...\n",
            " $ ParentLocationCode: chr  \"AMR\" \"AFR\" \"AMR\" \"EUR\" ...\n",
            " $ TimeDimType       : chr  \"YEAR\" \"YEAR\" \"YEAR\" \"YEAR\" ...\n",
            " $ ParentLocation    : chr  \"Americas\" \"Africa\" \"Americas\" \"Europe\" ...\n",
            " $ Dim1Type          : chr  \"SEX\" \"SEX\" \"SEX\" \"SEX\" ...\n",
            " $ TimeDim           : int  2007 2022 2020 2020 2022 2000 2010 2000 2021 2022 ...\n",
            " $ Dim1              : chr  \"SEX_BTSX\" \"SEX_BTSX\" \"SEX_BTSX\" \"SEX_BTSX\" ...\n",
            " $ Dim2Type          : logi  NA NA NA NA NA NA ...\n",
            " $ Dim2              : logi  NA NA NA NA NA NA ...\n",
            " $ Dim3Type          : logi  NA NA NA NA NA NA ...\n",
            " $ Dim3              : logi  NA NA NA NA NA NA ...\n",
            " $ DataSourceDimType : logi  NA NA NA NA NA NA ...\n",
            " $ DataSourceDim     : logi  NA NA NA NA NA NA ...\n",
            " $ Value             : chr  \"14.0 [11.1-16.9]\" \"6.5 [4.6-8.4]\" \"15.5 [13.1-17.9]\" \"25.8 [21.0-30.7]\" ...\n",
            " $ NumericValue      : num  14 6.5 15.5 25.8 30.5 26.1 33.1 27 7.9 7.5 ...\n",
            " $ Low               : num  11.1 4.6 13.1 21 24.5 21.9 25.8 21.1 5.8 5.5 ...\n",
            " $ High              : num  16.9 8.4 17.9 30.7 36.4 30.3 40.4 32.9 10 9.5 ...\n",
            " $ Comments          : chr  NA \"The most recent survey was conducted in 2018. This is a projection.\" NA \"Tobacco use estimates are not available. Tobacco smoking estimates are substituted for missing tobacco use esti\"| __truncated__ ...\n",
            " $ Date              : chr  \"2024-01-16T07:43:41+01:00\" \"2024-01-16T07:43:23+01:00\" \"2024-01-16T07:43:37+01:00\" \"2024-01-16T07:45:42+01:00\" ...\n",
            " $ TimeDimensionValue: chr  \"2007\" \"2022\" \"2020\" \"2020\" ...\n",
            " $ TimeDimensionBegin: chr  \"2007-01-01T00:00:00+01:00\" \"2022-01-01T00:00:00+01:00\" \"2020-01-01T00:00:00+01:00\" \"2020-01-01T00:00:00+01:00\" ...\n",
            " $ TimeDimensionEnd  : chr  \"2007-12-31T00:00:00+01:00\" \"2022-12-31T00:00:00+01:00\" \"2020-12-31T00:00:00+01:00\" \"2020-12-31T00:00:00+01:00\" ...\n"
          ]
        }
      ]
    },
    {
      "cell_type": "markdown",
      "source": [
        "<br>"
      ],
      "metadata": {
        "id": "OFP5RBm8Z5nR"
      }
    },
    {
      "cell_type": "markdown",
      "metadata": {
        "id": "AO5XK_2BZ5nS"
      },
      "source": [
        "<font color=red>Task 2.3</font> We don't need most of these columns!\n",
        "\n",
        "* Create a new data frame called `tobacco_clean` that only includes the following variables\n",
        "  * `SpatialDim`\n",
        "  * `TimeDim`\n",
        "  * `NumericValue`\n",
        "\n",
        "* Rename these columns to\n",
        "  * `country`\n",
        "  * `year`\n",
        "  * `prevalence`"
      ]
    },
    {
      "cell_type": "code",
      "source": [
        "tabacco_clean <- data.frame(tabacco2$SpatialDim, tabacco2$TimeDim, tabacco2$NumericValue)\n",
        "names(tabacco_clean) <- c(\"country\", \"year\", \"prevalence\")"
      ],
      "metadata": {
        "id": "VzaBf2Xo-1oi"
      },
      "execution_count": 47,
      "outputs": []
    },
    {
      "cell_type": "markdown",
      "source": [
        "<br>\n",
        "\n",
        "<br>"
      ],
      "metadata": {
        "id": "Y3uLTFt-cuVQ"
      }
    },
    {
      "cell_type": "markdown",
      "metadata": {
        "id": "d2vTPKH9cuVS"
      },
      "source": [
        "<br>\n",
        "\n",
        "---"
      ]
    },
    {
      "cell_type": "markdown",
      "metadata": {
        "id": "NdyRqXaDbKQ5"
      },
      "source": [
        "####<font color=red>Task 3</font>\n"
      ]
    },
    {
      "cell_type": "markdown",
      "metadata": {
        "id": "ygYRgZxybDy2"
      },
      "source": [
        "<font color=red>Task 3.1</font>\n",
        "\n",
        "* Using the `tobacco_clean` data frame, plot a boxplot with `prevalence` on the y-axis and `year` on the x-axis\n",
        "  \n",
        "  Hint: `boxplot(y ~ x)`\n",
        "\n",
        "  Although `year` is a numeric data type, the `boxplot()` function automatically converts the variable to a `factor`.\n",
        "\n",
        "\n",
        "* In a text cell, write your observations from the plot"
      ]
    },
    {
      "cell_type": "code",
      "source": [
        "boxplot(tabacco_clean$prevalence ~ tabacco_clean$year)"
      ],
      "metadata": {
        "colab": {
          "base_uri": "https://localhost:8080/",
          "height": 437
        },
        "id": "ovY-qXTKAI2p",
        "outputId": "44e39416-5670-432a-9b3e-b85074a8dccd"
      },
      "execution_count": 52,
      "outputs": [
        {
          "output_type": "display_data",
          "data": {
            "text/plain": [
              "plot without title"
            ],
            "image/png": "[encoded data removed]"
          },
          "metadata": {
            "image/png": {
              "width": 420,
              "height": 420
            }
          }
        }
      ]
    },
    {
      "cell_type": "markdown",
      "source": [
        "<br>"
      ],
      "metadata": {
        "id": "efwnrRwfeKj8"
      }
    },
    {
      "cell_type": "markdown",
      "metadata": {
        "id": "3yLiPI9eeKj9"
      },
      "source": [
        "<font color=red>Task 3.2</font>\n",
        "\n",
        "Use `R` code to answer the following questions\n",
        "\n",
        "* Which country had the highest tobacco prevalence in 2022?\n",
        "\n",
        "* Which country had the lowest tobacco prevalence in 2022?\n",
        "\n",
        "* What was the prevalence for `USA` in 2022?\n",
        "\n",
        "Note that the countries in the dataset are abbreviations. Feel free to search online for the actual country name!"
      ]
    },
    {
      "cell_type": "code",
      "source": [
        "max(tabacco_clean$prevalence[tabacco_clean$year == 2022])\n",
        "min(tabacco_clean$prevalence[tabacco_clean$year == 2022])\n",
        "tabacco_clean$prevalence[(tabacco_clean$year == 2022) & (tabacco_clean$country == \"USA\")]"
      ],
      "metadata": {
        "colab": {
          "base_uri": "https://localhost:8080/",
          "height": 69
        },
        "id": "yw8b_PWqAmbC",
        "outputId": "81d82962-218c-4b89-898e-5c72646431b8"
      },
      "execution_count": 58,
      "outputs": [
        {
          "output_type": "display_data",
          "data": {
            "text/html": [
              "48.3"
            ],
            "text/markdown": "48.3",
            "text/latex": "48.3",
            "text/plain": [
              "[1] 48.3"
            ]
          },
          "metadata": {}
        },
        {
          "output_type": "display_data",
          "data": {
            "text/html": [
              "3.3"
            ],
            "text/markdown": "3.3",
            "text/latex": "3.3",
            "text/plain": [
              "[1] 3.3"
            ]
          },
          "metadata": {}
        },
        {
          "output_type": "display_data",
          "data": {
            "text/html": [
              "24.3"
            ],
            "text/markdown": "24.3",
            "text/latex": "24.3",
            "text/plain": [
              "[1] 24.3"
            ]
          },
          "metadata": {}
        }
      ]
    },
    {
      "cell_type": "markdown",
      "source": [
        "<br>\n",
        "\n",
        "<br>"
      ],
      "metadata": {
        "id": "TRcRs3mChyPC"
      }
    },
    {
      "cell_type": "markdown",
      "metadata": {
        "id": "btkxm4SbhyPE"
      },
      "source": [
        "<br>\n",
        "\n",
        "---"
      ]
    },
    {
      "cell_type": "markdown",
      "metadata": {
        "id": "Ipb5IiBxhyPF"
      },
      "source": [
        "####<font color=red>Extra Challenge (optional)</font>\n"
      ]
    },
    {
      "cell_type": "markdown",
      "metadata": {
        "id": "-fJvZACVh5-3"
      },
      "source": [
        "<font color=red>Task E.1</font>\n",
        "\n",
        "* Did any country have an increase in prevalence between 2000 and 2022? If so, which countries were they?\n",
        "\n",
        "  There are many ways to do this, but some are more efficient than others."
      ]
    }
  ],
  "metadata": {
    "colab": {
      "provenance": []
    },
    "kernelspec": {
      "display_name": "R",
      "name": "ir"
    }
  },
  "nbformat": 4,
  "nbformat_minor": 0
}