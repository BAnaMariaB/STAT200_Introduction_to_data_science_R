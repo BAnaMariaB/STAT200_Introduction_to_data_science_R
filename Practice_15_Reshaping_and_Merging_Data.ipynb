{
  "cells": [
    {
      "cell_type": "markdown",
      "metadata": {
        "id": "gtETsh5j8vHw"
      },
      "source": [
        "# **Practice 15 - Reshaping and Merging Data**\n",
        "\n",
        "#### Ana-Maria Borduselu"
      ]
    },
    {
      "cell_type": "markdown",
      "metadata": {
        "id": "Efu_Sse0Wp6P"
      },
      "source": [
        "---\n",
        "\n",
        "**IMPORTANT**:\n",
        "- Before starting the lab, save a copy to your google drive by navigating to `File > Save a copy in Drive` <br>\n",
        "\n",
        "<br>\n",
        "\n",
        "\n",
        "**Instructions**: Complete the lab below.\n",
        "\n",
        "- <font color=red>Tasks</font> indicated in red must be completed to receive credit\n",
        "- Include all code for your work\n",
        "- Include markdown cells with written answers explaining your work when prompted\n",
        "- **NOTE: Your completed lab must be submitted to Canvas as a .ipynb file by the end of the lab session**\n",
        "---"
      ]
    },
    {
      "cell_type": "markdown",
      "metadata": {
        "id": "wFVxj8nD-yIt"
      },
      "source": [
        "<br>"
      ]
    },
    {
      "cell_type": "markdown",
      "metadata": {
        "id": "omeTfTlN4Npb"
      },
      "source": [
        "####<font color=red>Organized</font>\n",
        "\n",
        "**Answers should be organized in the following format for organization and readability**\n"
      ]
    },
    {
      "cell_type": "markdown",
      "metadata": {
        "id": "uLialHuQ4-vU"
      },
      "source": [
        "<font color=red>Example task 1</font>"
      ]
    },
    {
      "cell_type": "code",
      "execution_count": null,
      "metadata": {
        "id": "Mxff4INi5Evt"
      },
      "outputs": [],
      "source": [
        "# 1.\n",
        "\n",
        "# This will be the code block to answer the first part of a task"
      ]
    },
    {
      "cell_type": "markdown",
      "metadata": {
        "id": "A-GtymRS5Syz"
      },
      "source": [
        "1. This will be the text answer/explanation (if prompted) for the first task"
      ]
    },
    {
      "cell_type": "markdown",
      "metadata": {
        "id": "fDAMP6ZC5Zqp"
      },
      "source": [
        "<font color=red>Example task 2</font>"
      ]
    },
    {
      "cell_type": "code",
      "execution_count": null,
      "metadata": {
        "id": "K94QMtU55Zqp"
      },
      "outputs": [],
      "source": [
        "# 2.\n",
        "\n",
        "# This will be the code block to answer the second part of a task"
      ]
    },
    {
      "cell_type": "markdown",
      "metadata": {
        "id": "xRfvDNu25Zqp"
      },
      "source": [
        "2. This will be the text answer/explanation (if prompted) for the second task"
      ]
    },
    {
      "cell_type": "markdown",
      "metadata": {
        "id": "JIEIhg5I5JfN"
      },
      "source": [
        "<br>\n",
        "\n",
        "Continue this format for the remaining subtasks\n"
      ]
    },
    {
      "cell_type": "markdown",
      "metadata": {
        "id": "rcQECH5y4RiC"
      },
      "source": [
        "<br>"
      ]
    },
    {
      "cell_type": "markdown",
      "metadata": {
        "id": "jFiNcIjpjFs7"
      },
      "source": [
        "---\n",
        "\n",
        "<br>"
      ]
    },
    {
      "cell_type": "markdown",
      "metadata": {
        "id": "QdyJzDgAsFNZ"
      },
      "source": [
        "#### Packages"
      ]
    },
    {
      "cell_type": "code",
      "execution_count": null,
      "metadata": {
        "id": "BA2Vnt-UZFYm"
      },
      "outputs": [],
      "source": [
        "# none!"
      ]
    },
    {
      "cell_type": "markdown",
      "metadata": {
        "id": "SNO2ev8txX3p"
      },
      "source": [
        "<br>\n",
        "\n",
        "<br>"
      ]
    },
    {
      "cell_type": "markdown",
      "metadata": {
        "id": "Q4n93wPOXOPB"
      },
      "source": [
        "<br>\n",
        "\n",
        "---"
      ]
    },
    {
      "cell_type": "markdown",
      "metadata": {
        "id": "oHahMLpO8A9D"
      },
      "source": [
        "####<font color=red>Task 1</font>\n"
      ]
    },
    {
      "cell_type": "markdown",
      "metadata": {
        "id": "MYQzfdqoNr0b"
      },
      "source": [
        "<font color=red>Task 1.1</font>\n",
        "\n",
        "* Import the global life expectancy data from this link:\n",
        "  https://raw.githubusercontent.com/khasenst/datasets_teaching/refs/heads/main/gapminder_life_expectancy.csv\n",
        "\n",
        "* Verify the dataset was imported correctly using the `head()` function\n",
        "\n",
        "  Note the life expectancy is reported in years."
      ]
    },
    {
      "cell_type": "code",
      "execution_count": 3,
      "metadata": {
        "colab": {
          "base_uri": "https://localhost:8080/",
          "height": 286
        },
        "id": "S0mdhFgOt7hc",
        "outputId": "1b464615-d05e-4c56-bca9-4fc7eccf4f1e"
      },
      "outputs": [
        {
          "data": {
            "text/html": [
              "<table class=\"dataframe\">\n",
              "<caption>A data.frame: 6 × 3</caption>\n",
              "<thead>\n",
              "\t<tr><th></th><th scope=col>country</th><th scope=col>year</th><th scope=col>life_expectancy</th></tr>\n",
              "\t<tr><th></th><th scope=col>&lt;chr&gt;</th><th scope=col>&lt;int&gt;</th><th scope=col>&lt;dbl&gt;</th></tr>\n",
              "</thead>\n",
              "<tbody>\n",
              "\t<tr><th scope=row>1</th><td>Albania            </td><td>1960</td><td>62.87</td></tr>\n",
              "\t<tr><th scope=row>2</th><td>Algeria            </td><td>1960</td><td>47.50</td></tr>\n",
              "\t<tr><th scope=row>3</th><td>Angola             </td><td>1960</td><td>35.98</td></tr>\n",
              "\t<tr><th scope=row>4</th><td>Antigua and Barbuda</td><td>1960</td><td>62.97</td></tr>\n",
              "\t<tr><th scope=row>5</th><td>Argentina          </td><td>1960</td><td>65.39</td></tr>\n",
              "\t<tr><th scope=row>6</th><td>Armenia            </td><td>1960</td><td>66.86</td></tr>\n",
              "</tbody>\n",
              "</table>\n"
            ],
            "text/latex": [
              "A data.frame: 6 × 3\n",
              "\\begin{tabular}{r|lll}\n",
              "  & country & year & life\\_expectancy\\\\\n",
              "  & <chr> & <int> & <dbl>\\\\\n",
              "\\hline\n",
              "\t1 & Albania             & 1960 & 62.87\\\\\n",
              "\t2 & Algeria             & 1960 & 47.50\\\\\n",
              "\t3 & Angola              & 1960 & 35.98\\\\\n",
              "\t4 & Antigua and Barbuda & 1960 & 62.97\\\\\n",
              "\t5 & Argentina           & 1960 & 65.39\\\\\n",
              "\t6 & Armenia             & 1960 & 66.86\\\\\n",
              "\\end{tabular}\n"
            ],
            "text/markdown": [
              "\n",
              "A data.frame: 6 × 3\n",
              "\n",
              "| <!--/--> | country &lt;chr&gt; | year &lt;int&gt; | life_expectancy &lt;dbl&gt; |\n",
              "|---|---|---|---|\n",
              "| 1 | Albania             | 1960 | 62.87 |\n",
              "| 2 | Algeria             | 1960 | 47.50 |\n",
              "| 3 | Angola              | 1960 | 35.98 |\n",
              "| 4 | Antigua and Barbuda | 1960 | 62.97 |\n",
              "| 5 | Argentina           | 1960 | 65.39 |\n",
              "| 6 | Armenia             | 1960 | 66.86 |\n",
              "\n"
            ],
            "text/plain": [
              "  country             year life_expectancy\n",
              "1 Albania             1960 62.87          \n",
              "2 Algeria             1960 47.50          \n",
              "3 Angola              1960 35.98          \n",
              "4 Antigua and Barbuda 1960 62.97          \n",
              "5 Argentina           1960 65.39          \n",
              "6 Armenia             1960 66.86          "
            ]
          },
          "metadata": {},
          "output_type": "display_data"
        }
      ],
      "source": [
        "#1.1\n",
        "df <- read.csv(\"https://raw.githubusercontent.com/khasenst/datasets_teaching/refs/heads/main/gapminder_life_expectancy.csv\")\n",
        "head(df)"
      ]
    },
    {
      "cell_type": "markdown",
      "metadata": {
        "id": "1Qg2Hd0pfI0Q"
      },
      "source": [
        "<br>"
      ]
    },
    {
      "cell_type": "markdown",
      "metadata": {
        "id": "Tm2CCwEWfIPG"
      },
      "source": [
        "<font color=red>Task 1.2</font>\n",
        "\n",
        "* Convert the data frame on life expectancy to wide format such that\n",
        "\n",
        "  * Each country is included as a single row\n",
        "  * Life expectancy for each year is represented by columns"
      ]
    },
    {
      "cell_type": "code",
      "execution_count": 5,
      "metadata": {
        "colab": {
          "base_uri": "https://localhost:8080/",
          "height": 341
        },
        "id": "U-QXwUumxgMs",
        "outputId": "9b16f557-eae9-44a9-ee03-9fb513c4482e"
      },
      "outputs": [
        {
          "data": {
            "text/html": [
              "<table class=\"dataframe\">\n",
              "<caption>A data.frame: 6 × 58</caption>\n",
              "<thead>\n",
              "\t<tr><th></th><th scope=col>country</th><th scope=col>life_expectancy.1960</th><th scope=col>life_expectancy.1961</th><th scope=col>life_expectancy.1962</th><th scope=col>life_expectancy.1963</th><th scope=col>life_expectancy.1964</th><th scope=col>life_expectancy.1965</th><th scope=col>life_expectancy.1966</th><th scope=col>life_expectancy.1967</th><th scope=col>life_expectancy.1968</th><th scope=col>⋯</th><th scope=col>life_expectancy.2007</th><th scope=col>life_expectancy.2008</th><th scope=col>life_expectancy.2009</th><th scope=col>life_expectancy.2010</th><th scope=col>life_expectancy.2011</th><th scope=col>life_expectancy.2012</th><th scope=col>life_expectancy.2013</th><th scope=col>life_expectancy.2014</th><th scope=col>life_expectancy.2015</th><th scope=col>life_expectancy.2016</th></tr>\n",
              "\t<tr><th></th><th scope=col>&lt;chr&gt;</th><th scope=col>&lt;dbl&gt;</th><th scope=col>&lt;dbl&gt;</th><th scope=col>&lt;dbl&gt;</th><th scope=col>&lt;dbl&gt;</th><th scope=col>&lt;dbl&gt;</th><th scope=col>&lt;dbl&gt;</th><th scope=col>&lt;dbl&gt;</th><th scope=col>&lt;dbl&gt;</th><th scope=col>&lt;dbl&gt;</th><th scope=col>⋯</th><th scope=col>&lt;dbl&gt;</th><th scope=col>&lt;dbl&gt;</th><th scope=col>&lt;dbl&gt;</th><th scope=col>&lt;dbl&gt;</th><th scope=col>&lt;dbl&gt;</th><th scope=col>&lt;dbl&gt;</th><th scope=col>&lt;dbl&gt;</th><th scope=col>&lt;dbl&gt;</th><th scope=col>&lt;dbl&gt;</th><th scope=col>&lt;dbl&gt;</th></tr>\n",
              "</thead>\n",
              "<tbody>\n",
              "\t<tr><th scope=row>1</th><td>Albania            </td><td>62.87</td><td>63.92</td><td>64.84</td><td>65.60</td><td>66.18</td><td>66.59</td><td>66.88</td><td>67.11</td><td>67.32</td><td>⋯</td><td>76.6</td><td>76.8</td><td>77.0</td><td>77.2</td><td>77.4</td><td>77.5</td><td>77.7</td><td>77.9</td><td>78.0</td><td>78.1</td></tr>\n",
              "\t<tr><th scope=row>2</th><td>Algeria            </td><td>47.50</td><td>48.02</td><td>48.55</td><td>49.07</td><td>49.58</td><td>50.09</td><td>50.58</td><td>51.05</td><td>51.49</td><td>⋯</td><td>75.3</td><td>75.5</td><td>75.7</td><td>76.0</td><td>76.1</td><td>76.2</td><td>76.3</td><td>76.3</td><td>76.4</td><td>76.5</td></tr>\n",
              "\t<tr><th scope=row>3</th><td>Angola             </td><td>35.98</td><td>36.53</td><td>37.08</td><td>37.63</td><td>38.18</td><td>38.74</td><td>39.28</td><td>39.84</td><td>40.39</td><td>⋯</td><td>56.2</td><td>56.7</td><td>57.1</td><td>57.6</td><td>58.1</td><td>58.5</td><td>58.8</td><td>59.2</td><td>59.6</td><td>60.0</td></tr>\n",
              "\t<tr><th scope=row>4</th><td>Antigua and Barbuda</td><td>62.97</td><td>63.46</td><td>63.93</td><td>64.38</td><td>64.81</td><td>65.23</td><td>65.63</td><td>66.03</td><td>66.41</td><td>⋯</td><td>75.3</td><td>75.5</td><td>75.7</td><td>75.8</td><td>75.9</td><td>76.1</td><td>76.2</td><td>76.3</td><td>76.4</td><td>76.5</td></tr>\n",
              "\t<tr><th scope=row>5</th><td>Argentina          </td><td>65.39</td><td>65.53</td><td>65.64</td><td>65.74</td><td>65.84</td><td>65.95</td><td>66.08</td><td>66.26</td><td>66.47</td><td>⋯</td><td>75.2</td><td>75.4</td><td>75.6</td><td>75.8</td><td>76.0</td><td>76.1</td><td>76.2</td><td>76.3</td><td>76.5</td><td>76.7</td></tr>\n",
              "\t<tr><th scope=row>6</th><td>Armenia            </td><td>66.86</td><td>67.33</td><td>67.82</td><td>68.30</td><td>68.78</td><td>69.26</td><td>69.74</td><td>70.22</td><td>70.67</td><td>⋯</td><td>72.3</td><td>72.3</td><td>72.6</td><td>73.0</td><td>73.5</td><td>73.9</td><td>74.3</td><td>74.5</td><td>74.7</td><td>74.9</td></tr>\n",
              "</tbody>\n",
              "</table>\n"
            ],
            "text/latex": [
              "A data.frame: 6 × 58\n",
              "\\begin{tabular}{r|lllllllllllllllllllll}\n",
              "  & country & life\\_expectancy.1960 & life\\_expectancy.1961 & life\\_expectancy.1962 & life\\_expectancy.1963 & life\\_expectancy.1964 & life\\_expectancy.1965 & life\\_expectancy.1966 & life\\_expectancy.1967 & life\\_expectancy.1968 & ⋯ & life\\_expectancy.2007 & life\\_expectancy.2008 & life\\_expectancy.2009 & life\\_expectancy.2010 & life\\_expectancy.2011 & life\\_expectancy.2012 & life\\_expectancy.2013 & life\\_expectancy.2014 & life\\_expectancy.2015 & life\\_expectancy.2016\\\\\n",
              "  & <chr> & <dbl> & <dbl> & <dbl> & <dbl> & <dbl> & <dbl> & <dbl> & <dbl> & <dbl> & ⋯ & <dbl> & <dbl> & <dbl> & <dbl> & <dbl> & <dbl> & <dbl> & <dbl> & <dbl> & <dbl>\\\\\n",
              "\\hline\n",
              "\t1 & Albania             & 62.87 & 63.92 & 64.84 & 65.60 & 66.18 & 66.59 & 66.88 & 67.11 & 67.32 & ⋯ & 76.6 & 76.8 & 77.0 & 77.2 & 77.4 & 77.5 & 77.7 & 77.9 & 78.0 & 78.1\\\\\n",
              "\t2 & Algeria             & 47.50 & 48.02 & 48.55 & 49.07 & 49.58 & 50.09 & 50.58 & 51.05 & 51.49 & ⋯ & 75.3 & 75.5 & 75.7 & 76.0 & 76.1 & 76.2 & 76.3 & 76.3 & 76.4 & 76.5\\\\\n",
              "\t3 & Angola              & 35.98 & 36.53 & 37.08 & 37.63 & 38.18 & 38.74 & 39.28 & 39.84 & 40.39 & ⋯ & 56.2 & 56.7 & 57.1 & 57.6 & 58.1 & 58.5 & 58.8 & 59.2 & 59.6 & 60.0\\\\\n",
              "\t4 & Antigua and Barbuda & 62.97 & 63.46 & 63.93 & 64.38 & 64.81 & 65.23 & 65.63 & 66.03 & 66.41 & ⋯ & 75.3 & 75.5 & 75.7 & 75.8 & 75.9 & 76.1 & 76.2 & 76.3 & 76.4 & 76.5\\\\\n",
              "\t5 & Argentina           & 65.39 & 65.53 & 65.64 & 65.74 & 65.84 & 65.95 & 66.08 & 66.26 & 66.47 & ⋯ & 75.2 & 75.4 & 75.6 & 75.8 & 76.0 & 76.1 & 76.2 & 76.3 & 76.5 & 76.7\\\\\n",
              "\t6 & Armenia             & 66.86 & 67.33 & 67.82 & 68.30 & 68.78 & 69.26 & 69.74 & 70.22 & 70.67 & ⋯ & 72.3 & 72.3 & 72.6 & 73.0 & 73.5 & 73.9 & 74.3 & 74.5 & 74.7 & 74.9\\\\\n",
              "\\end{tabular}\n"
            ],
            "text/markdown": [
              "\n",
              "A data.frame: 6 × 58\n",
              "\n",
              "| <!--/--> | country &lt;chr&gt; | life_expectancy.1960 &lt;dbl&gt; | life_expectancy.1961 &lt;dbl&gt; | life_expectancy.1962 &lt;dbl&gt; | life_expectancy.1963 &lt;dbl&gt; | life_expectancy.1964 &lt;dbl&gt; | life_expectancy.1965 &lt;dbl&gt; | life_expectancy.1966 &lt;dbl&gt; | life_expectancy.1967 &lt;dbl&gt; | life_expectancy.1968 &lt;dbl&gt; | ⋯ ⋯ | life_expectancy.2007 &lt;dbl&gt; | life_expectancy.2008 &lt;dbl&gt; | life_expectancy.2009 &lt;dbl&gt; | life_expectancy.2010 &lt;dbl&gt; | life_expectancy.2011 &lt;dbl&gt; | life_expectancy.2012 &lt;dbl&gt; | life_expectancy.2013 &lt;dbl&gt; | life_expectancy.2014 &lt;dbl&gt; | life_expectancy.2015 &lt;dbl&gt; | life_expectancy.2016 &lt;dbl&gt; |\n",
              "|---|---|---|---|---|---|---|---|---|---|---|---|---|---|---|---|---|---|---|---|---|---|\n",
              "| 1 | Albania             | 62.87 | 63.92 | 64.84 | 65.60 | 66.18 | 66.59 | 66.88 | 67.11 | 67.32 | ⋯ | 76.6 | 76.8 | 77.0 | 77.2 | 77.4 | 77.5 | 77.7 | 77.9 | 78.0 | 78.1 |\n",
              "| 2 | Algeria             | 47.50 | 48.02 | 48.55 | 49.07 | 49.58 | 50.09 | 50.58 | 51.05 | 51.49 | ⋯ | 75.3 | 75.5 | 75.7 | 76.0 | 76.1 | 76.2 | 76.3 | 76.3 | 76.4 | 76.5 |\n",
              "| 3 | Angola              | 35.98 | 36.53 | 37.08 | 37.63 | 38.18 | 38.74 | 39.28 | 39.84 | 40.39 | ⋯ | 56.2 | 56.7 | 57.1 | 57.6 | 58.1 | 58.5 | 58.8 | 59.2 | 59.6 | 60.0 |\n",
              "| 4 | Antigua and Barbuda | 62.97 | 63.46 | 63.93 | 64.38 | 64.81 | 65.23 | 65.63 | 66.03 | 66.41 | ⋯ | 75.3 | 75.5 | 75.7 | 75.8 | 75.9 | 76.1 | 76.2 | 76.3 | 76.4 | 76.5 |\n",
              "| 5 | Argentina           | 65.39 | 65.53 | 65.64 | 65.74 | 65.84 | 65.95 | 66.08 | 66.26 | 66.47 | ⋯ | 75.2 | 75.4 | 75.6 | 75.8 | 76.0 | 76.1 | 76.2 | 76.3 | 76.5 | 76.7 |\n",
              "| 6 | Armenia             | 66.86 | 67.33 | 67.82 | 68.30 | 68.78 | 69.26 | 69.74 | 70.22 | 70.67 | ⋯ | 72.3 | 72.3 | 72.6 | 73.0 | 73.5 | 73.9 | 74.3 | 74.5 | 74.7 | 74.9 |\n",
              "\n"
            ],
            "text/plain": [
              "  country             life_expectancy.1960 life_expectancy.1961\n",
              "1 Albania             62.87                63.92               \n",
              "2 Algeria             47.50                48.02               \n",
              "3 Angola              35.98                36.53               \n",
              "4 Antigua and Barbuda 62.97                63.46               \n",
              "5 Argentina           65.39                65.53               \n",
              "6 Armenia             66.86                67.33               \n",
              "  life_expectancy.1962 life_expectancy.1963 life_expectancy.1964\n",
              "1 64.84                65.60                66.18               \n",
              "2 48.55                49.07                49.58               \n",
              "3 37.08                37.63                38.18               \n",
              "4 63.93                64.38                64.81               \n",
              "5 65.64                65.74                65.84               \n",
              "6 67.82                68.30                68.78               \n",
              "  life_expectancy.1965 life_expectancy.1966 life_expectancy.1967\n",
              "1 66.59                66.88                67.11               \n",
              "2 50.09                50.58                51.05               \n",
              "3 38.74                39.28                39.84               \n",
              "4 65.23                65.63                66.03               \n",
              "5 65.95                66.08                66.26               \n",
              "6 69.26                69.74                70.22               \n",
              "  life_expectancy.1968 ⋯ life_expectancy.2007 life_expectancy.2008\n",
              "1 67.32                ⋯ 76.6                 76.8                \n",
              "2 51.49                ⋯ 75.3                 75.5                \n",
              "3 40.39                ⋯ 56.2                 56.7                \n",
              "4 66.41                ⋯ 75.3                 75.5                \n",
              "5 66.47                ⋯ 75.2                 75.4                \n",
              "6 70.67                ⋯ 72.3                 72.3                \n",
              "  life_expectancy.2009 life_expectancy.2010 life_expectancy.2011\n",
              "1 77.0                 77.2                 77.4                \n",
              "2 75.7                 76.0                 76.1                \n",
              "3 57.1                 57.6                 58.1                \n",
              "4 75.7                 75.8                 75.9                \n",
              "5 75.6                 75.8                 76.0                \n",
              "6 72.6                 73.0                 73.5                \n",
              "  life_expectancy.2012 life_expectancy.2013 life_expectancy.2014\n",
              "1 77.5                 77.7                 77.9                \n",
              "2 76.2                 76.3                 76.3                \n",
              "3 58.5                 58.8                 59.2                \n",
              "4 76.1                 76.2                 76.3                \n",
              "5 76.1                 76.2                 76.3                \n",
              "6 73.9                 74.3                 74.5                \n",
              "  life_expectancy.2015 life_expectancy.2016\n",
              "1 78.0                 78.1                \n",
              "2 76.4                 76.5                \n",
              "3 59.6                 60.0                \n",
              "4 76.4                 76.5                \n",
              "5 76.5                 76.7                \n",
              "6 74.7                 74.9                "
            ]
          },
          "metadata": {},
          "output_type": "display_data"
        }
      ],
      "source": [
        "#1.2\n",
        "\n",
        "df_wide <- reshape(\n",
        "                    data = df,\n",
        "                    idvar = \"country\",\n",
        "                    timevar = \"year\",\n",
        "                    v.names = \"life_expectancy\",\n",
        "                    direction = \"wide\"\n",
        "\n",
        "                  )\n",
        "head(df_wide)"
      ]
    },
    {
      "cell_type": "markdown",
      "metadata": {
        "id": "KQ4Kd8RQil3y"
      },
      "source": [
        "<br>"
      ]
    },
    {
      "cell_type": "markdown",
      "metadata": {
        "id": "SA8JmnNzil30"
      },
      "source": [
        "<font color=red>Task 1.3</font>\n",
        "\n",
        "* Using the wide-formatted data frame, determine if the life expectancy of any countries ***decreased*** between the years 2010 and 2015\n",
        "\n",
        "* Write your observations in a text cell"
      ]
    },
    {
      "cell_type": "code",
      "execution_count": 8,
      "metadata": {
        "colab": {
          "base_uri": "https://localhost:8080/",
          "height": 255
        },
        "id": "tY1kZE5JyyTx",
        "outputId": "d2ec8c35-3916-4e06-f553-bfb94ed70a88"
      },
      "outputs": [
        {
          "data": {
            "text/html": [
              "<table class=\"dataframe\">\n",
              "<caption>A data.frame: 5 × 3</caption>\n",
              "<thead>\n",
              "\t<tr><th></th><th scope=col>country</th><th scope=col>life_expectancy.2010</th><th scope=col>life_expectancy.2015</th></tr>\n",
              "\t<tr><th></th><th scope=col>&lt;chr&gt;</th><th scope=col>&lt;dbl&gt;</th><th scope=col>&lt;dbl&gt;</th></tr>\n",
              "</thead>\n",
              "<tbody>\n",
              "\t<tr><th scope=row>98</th><td>Libya               </td><td>75.9</td><td>74.1</td></tr>\n",
              "\t<tr><th scope=row>161</th><td>Syria               </td><td>76.5</td><td>68.2</td></tr>\n",
              "\t<tr><th scope=row>174</th><td>United Arab Emirates</td><td>75.6</td><td>75.4</td></tr>\n",
              "\t<tr><th scope=row>180</th><td>Venezuela           </td><td>74.9</td><td>74.8</td></tr>\n",
              "\t<tr><th scope=row>183</th><td>Yemen               </td><td>66.6</td><td>66.0</td></tr>\n",
              "</tbody>\n",
              "</table>\n"
            ],
            "text/latex": [
              "A data.frame: 5 × 3\n",
              "\\begin{tabular}{r|lll}\n",
              "  & country & life\\_expectancy.2010 & life\\_expectancy.2015\\\\\n",
              "  & <chr> & <dbl> & <dbl>\\\\\n",
              "\\hline\n",
              "\t98 & Libya                & 75.9 & 74.1\\\\\n",
              "\t161 & Syria                & 76.5 & 68.2\\\\\n",
              "\t174 & United Arab Emirates & 75.6 & 75.4\\\\\n",
              "\t180 & Venezuela            & 74.9 & 74.8\\\\\n",
              "\t183 & Yemen                & 66.6 & 66.0\\\\\n",
              "\\end{tabular}\n"
            ],
            "text/markdown": [
              "\n",
              "A data.frame: 5 × 3\n",
              "\n",
              "| <!--/--> | country &lt;chr&gt; | life_expectancy.2010 &lt;dbl&gt; | life_expectancy.2015 &lt;dbl&gt; |\n",
              "|---|---|---|---|\n",
              "| 98 | Libya                | 75.9 | 74.1 |\n",
              "| 161 | Syria                | 76.5 | 68.2 |\n",
              "| 174 | United Arab Emirates | 75.6 | 75.4 |\n",
              "| 180 | Venezuela            | 74.9 | 74.8 |\n",
              "| 183 | Yemen                | 66.6 | 66.0 |\n",
              "\n"
            ],
            "text/plain": [
              "    country              life_expectancy.2010 life_expectancy.2015\n",
              "98  Libya                75.9                 74.1                \n",
              "161 Syria                76.5                 68.2                \n",
              "174 United Arab Emirates 75.6                 75.4                \n",
              "180 Venezuela            74.9                 74.8                \n",
              "183 Yemen                66.6                 66.0                "
            ]
          },
          "metadata": {},
          "output_type": "display_data"
        }
      ],
      "source": [
        "# 1.3\n",
        "\n",
        "df_wide[(df_wide$life_expectancy.2015 < df_wide$life_expectancy.2010) == TRUE, c(\"country\", \"life_expectancy.2010\", \"life_expectancy.2015\")]\n"
      ]
    },
    {
      "cell_type": "markdown",
      "metadata": {
        "id": "xyh2fwz8FfOt"
      },
      "source": [
        "**Task 1.3**<br><br>\n",
        "We selected the data where life expectancy between 2010 and 2015 decreased. The countries identified were Libya, Syria, UAE, Venezuela, and Yemen.\n"
      ]
    },
    {
      "cell_type": "markdown",
      "metadata": {
        "id": "ckB8bdQrSnrP"
      },
      "source": [
        "<br>"
      ]
    },
    {
      "cell_type": "markdown",
      "metadata": {
        "id": "PHUk2ve7SnVy"
      },
      "source": [
        "<font color=red>Task 1.4</font>\n",
        "\n",
        "* Use `R` code to determine which country had the greatest ***decrease*** in life expectancy?\n",
        "\n",
        "* Why does this country have such a large decrease in life expectancy? You may search for your answer online"
      ]
    },
    {
      "cell_type": "code",
      "execution_count": 14,
      "metadata": {
        "colab": {
          "base_uri": "https://localhost:8080/",
          "height": 129
        },
        "id": "IdqbFI55FH0e",
        "outputId": "cc3a9a0c-3f3c-4d0e-eb9e-bc142039b9f8"
      },
      "outputs": [
        {
          "data": {
            "text/html": [
              "<table class=\"dataframe\">\n",
              "<caption>A data.frame: 1 × 4</caption>\n",
              "<thead>\n",
              "\t<tr><th></th><th scope=col>country</th><th scope=col>life_expectancy.2010</th><th scope=col>life_expectancy.2015</th><th scope=col>decrease</th></tr>\n",
              "\t<tr><th></th><th scope=col>&lt;chr&gt;</th><th scope=col>&lt;dbl&gt;</th><th scope=col>&lt;dbl&gt;</th><th scope=col>&lt;dbl&gt;</th></tr>\n",
              "</thead>\n",
              "<tbody>\n",
              "\t<tr><th scope=row>161</th><td>Syria</td><td>76.5</td><td>68.2</td><td>8.3</td></tr>\n",
              "</tbody>\n",
              "</table>\n"
            ],
            "text/latex": [
              "A data.frame: 1 × 4\n",
              "\\begin{tabular}{r|llll}\n",
              "  & country & life\\_expectancy.2010 & life\\_expectancy.2015 & decrease\\\\\n",
              "  & <chr> & <dbl> & <dbl> & <dbl>\\\\\n",
              "\\hline\n",
              "\t161 & Syria & 76.5 & 68.2 & 8.3\\\\\n",
              "\\end{tabular}\n"
            ],
            "text/markdown": [
              "\n",
              "A data.frame: 1 × 4\n",
              "\n",
              "| <!--/--> | country &lt;chr&gt; | life_expectancy.2010 &lt;dbl&gt; | life_expectancy.2015 &lt;dbl&gt; | decrease &lt;dbl&gt; |\n",
              "|---|---|---|---|---|\n",
              "| 161 | Syria | 76.5 | 68.2 | 8.3 |\n",
              "\n"
            ],
            "text/plain": [
              "    country life_expectancy.2010 life_expectancy.2015 decrease\n",
              "161 Syria   76.5                 68.2                 8.3     "
            ]
          },
          "metadata": {},
          "output_type": "display_data"
        }
      ],
      "source": [
        "#1.4\n",
        "\n",
        "df_wide[which.max(df_wide$life_expectancy.2010 - df_wide$life_expectancy.2015), c(\"country\", \"life_expectancy.2010\", \"life_expectancy.2015\", \"decrease\")]\n"
      ]
    },
    {
      "cell_type": "markdown",
      "metadata": {
        "id": "kZIMbHknGNmz"
      },
      "source": [
        "**Task 1.4**<br><br>\n",
        "The country with the greatest decrease in life expectancy during this period was Syria, with a decline of approximately 8.3 years. There are many factors that have caused this, such as the civil war, the healthcare system, and the displacement of some local minorities."
      ]
    },
    {
      "cell_type": "markdown",
      "metadata": {
        "id": "B8WjZGy3k6Lf"
      },
      "source": [
        "<br>"
      ]
    },
    {
      "cell_type": "markdown",
      "metadata": {
        "id": "1Pz3gqDpk6Li"
      },
      "source": [
        "<font color=red>Task 1.5</font>\n",
        "\n",
        "* Use `R` code to determine which country had the greatest ***increase*** in life expectancy?\n",
        "\n",
        "* Why does this country have such a large increase in life expectancy? You may search for your answer online"
      ]
    },
    {
      "cell_type": "code",
      "execution_count": 16,
      "metadata": {
        "colab": {
          "base_uri": "https://localhost:8080/",
          "height": 129
        },
        "id": "wQhMuYmxHguT",
        "outputId": "7bcb7fe6-33a9-42e7-f12e-919e83cd9e8d"
      },
      "outputs": [
        {
          "data": {
            "text/html": [
              "<table class=\"dataframe\">\n",
              "<caption>A data.frame: 1 × 4</caption>\n",
              "<thead>\n",
              "\t<tr><th></th><th scope=col>country</th><th scope=col>life_expectancy.2010</th><th scope=col>life_expectancy.2015</th><th scope=col>decrease</th></tr>\n",
              "\t<tr><th></th><th scope=col>&lt;chr&gt;</th><th scope=col>&lt;dbl&gt;</th><th scope=col>&lt;dbl&gt;</th><th scope=col>&lt;dbl&gt;</th></tr>\n",
              "</thead>\n",
              "<tbody>\n",
              "\t<tr><th scope=row>72</th><td>Haiti</td><td>32.2</td><td>64.3</td><td>-32.1</td></tr>\n",
              "</tbody>\n",
              "</table>\n"
            ],
            "text/latex": [
              "A data.frame: 1 × 4\n",
              "\\begin{tabular}{r|llll}\n",
              "  & country & life\\_expectancy.2010 & life\\_expectancy.2015 & decrease\\\\\n",
              "  & <chr> & <dbl> & <dbl> & <dbl>\\\\\n",
              "\\hline\n",
              "\t72 & Haiti & 32.2 & 64.3 & -32.1\\\\\n",
              "\\end{tabular}\n"
            ],
            "text/markdown": [
              "\n",
              "A data.frame: 1 × 4\n",
              "\n",
              "| <!--/--> | country &lt;chr&gt; | life_expectancy.2010 &lt;dbl&gt; | life_expectancy.2015 &lt;dbl&gt; | decrease &lt;dbl&gt; |\n",
              "|---|---|---|---|---|\n",
              "| 72 | Haiti | 32.2 | 64.3 | -32.1 |\n",
              "\n"
            ],
            "text/plain": [
              "   country life_expectancy.2010 life_expectancy.2015 decrease\n",
              "72 Haiti   32.2                 64.3                 -32.1   "
            ]
          },
          "metadata": {},
          "output_type": "display_data"
        }
      ],
      "source": [
        "#1.5\n",
        "\n",
        "df_wide[which.max(df_wide$life_expectancy.2015 - df_wide$life_expectancy.2010), c(\"country\", \"life_expectancy.2010\", \"life_expectancy.2015\", \"decrease\")]\n"
      ]
    },
    {
      "cell_type": "markdown",
      "metadata": {
        "id": "5ES06eSUImYY"
      },
      "source": [
        "**Task 1.5**<br><br>\n",
        "I’m not sure if Haiti is the correct answer, as my online research shows that its life expectancy was around 40, not 32. However, in 2010, there was a sudden drop in population due to the earthquake. The subsequent increase in population could have been an effort to rebuild what was lost."
      ]
    },
    {
      "cell_type": "markdown",
      "metadata": {
        "id": "EiWVeNPDls1C"
      },
      "source": [
        "<br>"
      ]
    },
    {
      "cell_type": "markdown",
      "metadata": {
        "id": "-PeO7FGels1D"
      },
      "source": [
        "<font color=red>Task 1.6</font>\n",
        "\n",
        "* Convert the wide-formatted life expectancy data frame back to long format\n",
        "\n",
        "* Order the data frame by year and country\n",
        "\n",
        "* Remove the row names"
      ]
    },
    {
      "cell_type": "code",
      "execution_count": 20,
      "metadata": {
        "colab": {
          "base_uri": "https://localhost:8080/",
          "height": 286
        },
        "id": "SET0TpKcKlwu",
        "outputId": "913e9118-63e3-48ae-96be-3a9860984e3c"
      },
      "outputs": [
        {
          "data": {
            "text/html": [
              "<table class=\"dataframe\">\n",
              "<caption>A data.frame: 6 × 4</caption>\n",
              "<thead>\n",
              "\t<tr><th></th><th scope=col>country</th><th scope=col>year</th><th scope=col>life_expectancy</th><th scope=col>id</th></tr>\n",
              "\t<tr><th></th><th scope=col>&lt;chr&gt;</th><th scope=col>&lt;chr&gt;</th><th scope=col>&lt;dbl&gt;</th><th scope=col>&lt;int&gt;</th></tr>\n",
              "</thead>\n",
              "<tbody>\n",
              "\t<tr><th scope=row>1</th><td>Albania            </td><td>1960</td><td>62.87</td><td>1</td></tr>\n",
              "\t<tr><th scope=row>2</th><td>Algeria            </td><td>1960</td><td>47.50</td><td>2</td></tr>\n",
              "\t<tr><th scope=row>3</th><td>Angola             </td><td>1960</td><td>35.98</td><td>3</td></tr>\n",
              "\t<tr><th scope=row>4</th><td>Antigua and Barbuda</td><td>1960</td><td>62.97</td><td>4</td></tr>\n",
              "\t<tr><th scope=row>5</th><td>Argentina          </td><td>1960</td><td>65.39</td><td>5</td></tr>\n",
              "\t<tr><th scope=row>6</th><td>Armenia            </td><td>1960</td><td>66.86</td><td>6</td></tr>\n",
              "</tbody>\n",
              "</table>\n"
            ],
            "text/latex": [
              "A data.frame: 6 × 4\n",
              "\\begin{tabular}{r|llll}\n",
              "  & country & year & life\\_expectancy & id\\\\\n",
              "  & <chr> & <chr> & <dbl> & <int>\\\\\n",
              "\\hline\n",
              "\t1 & Albania             & 1960 & 62.87 & 1\\\\\n",
              "\t2 & Algeria             & 1960 & 47.50 & 2\\\\\n",
              "\t3 & Angola              & 1960 & 35.98 & 3\\\\\n",
              "\t4 & Antigua and Barbuda & 1960 & 62.97 & 4\\\\\n",
              "\t5 & Argentina           & 1960 & 65.39 & 5\\\\\n",
              "\t6 & Armenia             & 1960 & 66.86 & 6\\\\\n",
              "\\end{tabular}\n"
            ],
            "text/markdown": [
              "\n",
              "A data.frame: 6 × 4\n",
              "\n",
              "| <!--/--> | country &lt;chr&gt; | year &lt;chr&gt; | life_expectancy &lt;dbl&gt; | id &lt;int&gt; |\n",
              "|---|---|---|---|---|\n",
              "| 1 | Albania             | 1960 | 62.87 | 1 |\n",
              "| 2 | Algeria             | 1960 | 47.50 | 2 |\n",
              "| 3 | Angola              | 1960 | 35.98 | 3 |\n",
              "| 4 | Antigua and Barbuda | 1960 | 62.97 | 4 |\n",
              "| 5 | Argentina           | 1960 | 65.39 | 5 |\n",
              "| 6 | Armenia             | 1960 | 66.86 | 6 |\n",
              "\n"
            ],
            "text/plain": [
              "  country             year life_expectancy id\n",
              "1 Albania             1960 62.87           1 \n",
              "2 Algeria             1960 47.50           2 \n",
              "3 Angola              1960 35.98           3 \n",
              "4 Antigua and Barbuda 1960 62.97           4 \n",
              "5 Argentina           1960 65.39           5 \n",
              "6 Armenia             1960 66.86           6 "
            ]
          },
          "metadata": {},
          "output_type": "display_data"
        }
      ],
      "source": [
        "#1.6\n",
        "df_long <- reshape(df_wide,\n",
        "                   varying = names(df_wide)[-1],  # Select all year columns\n",
        "                   v.names = \"life_expectancy\",   # New column for life expectancy values\n",
        "                   timevar = \"year\",              # New column for years\n",
        "                   times = gsub(\"life_expectancy.\", \"\", names(df_wide)[-1]),  # Extract years\n",
        "                   direction = \"long\")\n",
        "\n",
        "\n",
        "df_long <- df_long[order(df_long$year, df_long$country), ]\n",
        "\n",
        "\n",
        "rownames(df_long) <- NULL\n",
        "\n",
        "\n",
        "head(df_long)\n"
      ]
    },
    {
      "cell_type": "markdown",
      "metadata": {
        "id": "tbAY19YAbwhr"
      },
      "source": [
        "<br>\n",
        "\n",
        "<br>"
      ]
    },
    {
      "cell_type": "markdown",
      "metadata": {
        "id": "g2ug1njL9g_Q"
      },
      "source": [
        "<br>\n",
        "\n",
        "---"
      ]
    },
    {
      "cell_type": "markdown",
      "metadata": {
        "id": "uXln6yVh9g_Q"
      },
      "source": [
        "####<font color=red>Task 2</font>\n"
      ]
    },
    {
      "cell_type": "markdown",
      "metadata": {
        "id": "r_PUJbYm9efw"
      },
      "source": [
        "<font color=red>Task 2.1</font>\n",
        "\n",
        "* Import the global fertility data from this link:\n",
        "  https://raw.githubusercontent.com/khasenst/datasets_teaching/refs/heads/main/gapminder_fertility.csv\n",
        "\n",
        "* Verify the dataset was imported correctly using the `head()` function\n",
        "\n",
        "  Note that fertility is reported in average number of children per woman."
      ]
    },
    {
      "cell_type": "code",
      "execution_count": 25,
      "metadata": {
        "colab": {
          "base_uri": "https://localhost:8080/",
          "height": 286
        },
        "id": "1-GAfL9DK_nM",
        "outputId": "bf2e41d8-02b5-48f5-b055-d94e98438a7a"
      },
      "outputs": [
        {
          "data": {
            "text/html": [
              "<table class=\"dataframe\">\n",
              "<caption>A data.frame: 6 × 3</caption>\n",
              "<thead>\n",
              "\t<tr><th></th><th scope=col>country</th><th scope=col>year</th><th scope=col>fertility</th></tr>\n",
              "\t<tr><th></th><th scope=col>&lt;chr&gt;</th><th scope=col>&lt;int&gt;</th><th scope=col>&lt;dbl&gt;</th></tr>\n",
              "</thead>\n",
              "<tbody>\n",
              "\t<tr><th scope=row>1</th><td>Albania            </td><td>1960</td><td>6.19</td></tr>\n",
              "\t<tr><th scope=row>2</th><td>Algeria            </td><td>1960</td><td>7.65</td></tr>\n",
              "\t<tr><th scope=row>3</th><td>Angola             </td><td>1960</td><td>7.32</td></tr>\n",
              "\t<tr><th scope=row>4</th><td>Antigua and Barbuda</td><td>1960</td><td>4.43</td></tr>\n",
              "\t<tr><th scope=row>5</th><td>Argentina          </td><td>1960</td><td>3.11</td></tr>\n",
              "\t<tr><th scope=row>6</th><td>Armenia            </td><td>1960</td><td>4.55</td></tr>\n",
              "</tbody>\n",
              "</table>\n"
            ],
            "text/latex": [
              "A data.frame: 6 × 3\n",
              "\\begin{tabular}{r|lll}\n",
              "  & country & year & fertility\\\\\n",
              "  & <chr> & <int> & <dbl>\\\\\n",
              "\\hline\n",
              "\t1 & Albania             & 1960 & 6.19\\\\\n",
              "\t2 & Algeria             & 1960 & 7.65\\\\\n",
              "\t3 & Angola              & 1960 & 7.32\\\\\n",
              "\t4 & Antigua and Barbuda & 1960 & 4.43\\\\\n",
              "\t5 & Argentina           & 1960 & 3.11\\\\\n",
              "\t6 & Armenia             & 1960 & 4.55\\\\\n",
              "\\end{tabular}\n"
            ],
            "text/markdown": [
              "\n",
              "A data.frame: 6 × 3\n",
              "\n",
              "| <!--/--> | country &lt;chr&gt; | year &lt;int&gt; | fertility &lt;dbl&gt; |\n",
              "|---|---|---|---|\n",
              "| 1 | Albania             | 1960 | 6.19 |\n",
              "| 2 | Algeria             | 1960 | 7.65 |\n",
              "| 3 | Angola              | 1960 | 7.32 |\n",
              "| 4 | Antigua and Barbuda | 1960 | 4.43 |\n",
              "| 5 | Argentina           | 1960 | 3.11 |\n",
              "| 6 | Armenia             | 1960 | 4.55 |\n",
              "\n"
            ],
            "text/plain": [
              "  country             year fertility\n",
              "1 Albania             1960 6.19     \n",
              "2 Algeria             1960 7.65     \n",
              "3 Angola              1960 7.32     \n",
              "4 Antigua and Barbuda 1960 4.43     \n",
              "5 Argentina           1960 3.11     \n",
              "6 Armenia             1960 4.55     "
            ]
          },
          "metadata": {},
          "output_type": "display_data"
        }
      ],
      "source": [
        "#2.1\n",
        "df_fertility <- read.csv(\"https://raw.githubusercontent.com/khasenst/datasets_teaching/refs/heads/main/gapminder_fertility.csv\")\n",
        "head(df)"
      ]
    },
    {
      "cell_type": "markdown",
      "metadata": {
        "id": "NbGQutQtpHMZ"
      },
      "source": [
        "<br>"
      ]
    },
    {
      "cell_type": "markdown",
      "metadata": {
        "id": "Ei9i1KWfpJXc"
      },
      "source": [
        "<font color=red>Task 2.2</font>\n",
        "\n",
        "* Merge the life expectancy data (long format) from Task 1 with the fertility data from Task 2.1 using a ***left join***.\n",
        "\n",
        "  Note that in our \"by\" arguments, we must specify both country and year as vector. The merge should result in 10,545 rows."
      ]
    },
    {
      "cell_type": "code",
      "execution_count": 27,
      "metadata": {
        "colab": {
          "base_uri": "https://localhost:8080/",
          "height": 303
        },
        "id": "Q9bwhBF6L-2k",
        "outputId": "c986e55e-2768-4c8e-bbde-f5f34a92e3b2"
      },
      "outputs": [
        {
          "data": {
            "text/html": [
              "10545"
            ],
            "text/latex": [
              "10545"
            ],
            "text/markdown": [
              "10545"
            ],
            "text/plain": [
              "[1] 10545"
            ]
          },
          "metadata": {},
          "output_type": "display_data"
        },
        {
          "data": {
            "text/html": [
              "<table class=\"dataframe\">\n",
              "<caption>A data.frame: 6 × 5</caption>\n",
              "<thead>\n",
              "\t<tr><th></th><th scope=col>country</th><th scope=col>year</th><th scope=col>fertility</th><th scope=col>life_expectancy</th><th scope=col>id</th></tr>\n",
              "\t<tr><th></th><th scope=col>&lt;chr&gt;</th><th scope=col>&lt;int&gt;</th><th scope=col>&lt;dbl&gt;</th><th scope=col>&lt;dbl&gt;</th><th scope=col>&lt;int&gt;</th></tr>\n",
              "</thead>\n",
              "<tbody>\n",
              "\t<tr><th scope=row>1</th><td>Albania</td><td>1960</td><td>6.19</td><td>62.87</td><td>1</td></tr>\n",
              "\t<tr><th scope=row>2</th><td>Albania</td><td>1961</td><td>6.08</td><td>63.92</td><td>1</td></tr>\n",
              "\t<tr><th scope=row>3</th><td>Albania</td><td>1962</td><td>5.96</td><td>64.84</td><td>1</td></tr>\n",
              "\t<tr><th scope=row>4</th><td>Albania</td><td>1963</td><td>5.83</td><td>65.60</td><td>1</td></tr>\n",
              "\t<tr><th scope=row>5</th><td>Albania</td><td>1964</td><td>5.71</td><td>66.18</td><td>1</td></tr>\n",
              "\t<tr><th scope=row>6</th><td>Albania</td><td>1965</td><td>5.59</td><td>66.59</td><td>1</td></tr>\n",
              "</tbody>\n",
              "</table>\n"
            ],
            "text/latex": [
              "A data.frame: 6 × 5\n",
              "\\begin{tabular}{r|lllll}\n",
              "  & country & year & fertility & life\\_expectancy & id\\\\\n",
              "  & <chr> & <int> & <dbl> & <dbl> & <int>\\\\\n",
              "\\hline\n",
              "\t1 & Albania & 1960 & 6.19 & 62.87 & 1\\\\\n",
              "\t2 & Albania & 1961 & 6.08 & 63.92 & 1\\\\\n",
              "\t3 & Albania & 1962 & 5.96 & 64.84 & 1\\\\\n",
              "\t4 & Albania & 1963 & 5.83 & 65.60 & 1\\\\\n",
              "\t5 & Albania & 1964 & 5.71 & 66.18 & 1\\\\\n",
              "\t6 & Albania & 1965 & 5.59 & 66.59 & 1\\\\\n",
              "\\end{tabular}\n"
            ],
            "text/markdown": [
              "\n",
              "A data.frame: 6 × 5\n",
              "\n",
              "| <!--/--> | country &lt;chr&gt; | year &lt;int&gt; | fertility &lt;dbl&gt; | life_expectancy &lt;dbl&gt; | id &lt;int&gt; |\n",
              "|---|---|---|---|---|---|\n",
              "| 1 | Albania | 1960 | 6.19 | 62.87 | 1 |\n",
              "| 2 | Albania | 1961 | 6.08 | 63.92 | 1 |\n",
              "| 3 | Albania | 1962 | 5.96 | 64.84 | 1 |\n",
              "| 4 | Albania | 1963 | 5.83 | 65.60 | 1 |\n",
              "| 5 | Albania | 1964 | 5.71 | 66.18 | 1 |\n",
              "| 6 | Albania | 1965 | 5.59 | 66.59 | 1 |\n",
              "\n"
            ],
            "text/plain": [
              "  country year fertility life_expectancy id\n",
              "1 Albania 1960 6.19      62.87           1 \n",
              "2 Albania 1961 6.08      63.92           1 \n",
              "3 Albania 1962 5.96      64.84           1 \n",
              "4 Albania 1963 5.83      65.60           1 \n",
              "5 Albania 1964 5.71      66.18           1 \n",
              "6 Albania 1965 5.59      66.59           1 "
            ]
          },
          "metadata": {},
          "output_type": "display_data"
        }
      ],
      "source": [
        "#2.2\n",
        "df_long$year <- as.numeric(df_long$year)\n",
        "\n",
        "df_merged <- merge(df_fertility,\n",
        "                    df_long,\n",
        "                  by = c(\"country\", \"year\"),\n",
        "                all.x = FALSE,\n",
        "                all.y = FALSE\n",
        "                  )\n",
        "\n",
        "nrow(df_merged)\n",
        "head(df_merged)"
      ]
    },
    {
      "cell_type": "markdown",
      "metadata": {
        "id": "l22ImCV4qwSj"
      },
      "source": [
        "<br>"
      ]
    },
    {
      "cell_type": "markdown",
      "metadata": {
        "id": "_DGxI4yZqwSk"
      },
      "source": [
        "<font color=red>Task 2.3</font>\n",
        "\n",
        "* Convert the merged data frame from Task 2.2 into wide format such that\n",
        "  * Each country is included as a single row\n",
        "  * Life expectancy and fertility for each year is represented by columns"
      ]
    },
    {
      "cell_type": "code",
      "execution_count": 29,
      "metadata": {
        "colab": {
          "base_uri": "https://localhost:8080/",
          "height": 341
        },
        "id": "O2XP-zSNM9c3",
        "outputId": "f62b934c-148a-40b7-b5db-f7b9aeb8b359"
      },
      "outputs": [
        {
          "data": {
            "text/html": [
              "<table class=\"dataframe\">\n",
              "<caption>A data.frame: 6 × 172</caption>\n",
              "<thead>\n",
              "\t<tr><th></th><th scope=col>country</th><th scope=col>fertility.1960</th><th scope=col>life_expectancy.1960</th><th scope=col>id.1960</th><th scope=col>fertility.1961</th><th scope=col>life_expectancy.1961</th><th scope=col>id.1961</th><th scope=col>fertility.1962</th><th scope=col>life_expectancy.1962</th><th scope=col>id.1962</th><th scope=col>⋯</th><th scope=col>id.2013</th><th scope=col>fertility.2014</th><th scope=col>life_expectancy.2014</th><th scope=col>id.2014</th><th scope=col>fertility.2015</th><th scope=col>life_expectancy.2015</th><th scope=col>id.2015</th><th scope=col>fertility.2016</th><th scope=col>life_expectancy.2016</th><th scope=col>id.2016</th></tr>\n",
              "\t<tr><th></th><th scope=col>&lt;chr&gt;</th><th scope=col>&lt;dbl&gt;</th><th scope=col>&lt;dbl&gt;</th><th scope=col>&lt;int&gt;</th><th scope=col>&lt;dbl&gt;</th><th scope=col>&lt;dbl&gt;</th><th scope=col>&lt;int&gt;</th><th scope=col>&lt;dbl&gt;</th><th scope=col>&lt;dbl&gt;</th><th scope=col>&lt;int&gt;</th><th scope=col>⋯</th><th scope=col>&lt;int&gt;</th><th scope=col>&lt;dbl&gt;</th><th scope=col>&lt;dbl&gt;</th><th scope=col>&lt;int&gt;</th><th scope=col>&lt;dbl&gt;</th><th scope=col>&lt;dbl&gt;</th><th scope=col>&lt;int&gt;</th><th scope=col>&lt;dbl&gt;</th><th scope=col>&lt;dbl&gt;</th><th scope=col>&lt;int&gt;</th></tr>\n",
              "</thead>\n",
              "<tbody>\n",
              "\t<tr><th scope=row>1</th><td>Albania            </td><td>6.19</td><td>62.87</td><td>1</td><td>6.08</td><td>63.92</td><td>1</td><td>5.96</td><td>64.84</td><td>1</td><td>⋯</td><td>1</td><td>1.78</td><td>77.9</td><td>1</td><td>1.78</td><td>78.0</td><td>1</td><td>NA</td><td>78.1</td><td>1</td></tr>\n",
              "\t<tr><th scope=row>58</th><td>Algeria            </td><td>7.65</td><td>47.50</td><td>2</td><td>7.65</td><td>48.02</td><td>2</td><td>7.65</td><td>48.55</td><td>2</td><td>⋯</td><td>2</td><td>2.76</td><td>76.3</td><td>2</td><td>2.71</td><td>76.4</td><td>2</td><td>NA</td><td>76.5</td><td>2</td></tr>\n",
              "\t<tr><th scope=row>115</th><td>Angola             </td><td>7.32</td><td>35.98</td><td>3</td><td>7.35</td><td>36.53</td><td>3</td><td>7.39</td><td>37.08</td><td>3</td><td>⋯</td><td>3</td><td>5.75</td><td>59.2</td><td>3</td><td>5.65</td><td>59.6</td><td>3</td><td>NA</td><td>60.0</td><td>3</td></tr>\n",
              "\t<tr><th scope=row>172</th><td>Antigua and Barbuda</td><td>4.43</td><td>62.97</td><td>4</td><td>4.39</td><td>63.46</td><td>4</td><td>4.34</td><td>63.93</td><td>4</td><td>⋯</td><td>4</td><td>2.08</td><td>76.3</td><td>4</td><td>2.06</td><td>76.4</td><td>4</td><td>NA</td><td>76.5</td><td>4</td></tr>\n",
              "\t<tr><th scope=row>229</th><td>Argentina          </td><td>3.11</td><td>65.39</td><td>5</td><td>3.10</td><td>65.53</td><td>5</td><td>3.09</td><td>65.64</td><td>5</td><td>⋯</td><td>5</td><td>2.16</td><td>76.3</td><td>5</td><td>2.15</td><td>76.5</td><td>5</td><td>NA</td><td>76.7</td><td>5</td></tr>\n",
              "\t<tr><th scope=row>286</th><td>Armenia            </td><td>4.55</td><td>66.86</td><td>6</td><td>4.51</td><td>67.33</td><td>6</td><td>4.44</td><td>67.82</td><td>6</td><td>⋯</td><td>6</td><td>1.42</td><td>74.5</td><td>6</td><td>1.41</td><td>74.7</td><td>6</td><td>NA</td><td>74.9</td><td>6</td></tr>\n",
              "</tbody>\n",
              "</table>\n"
            ],
            "text/latex": [
              "A data.frame: 6 × 172\n",
              "\\begin{tabular}{r|lllllllllllllllllllll}\n",
              "  & country & fertility.1960 & life\\_expectancy.1960 & id.1960 & fertility.1961 & life\\_expectancy.1961 & id.1961 & fertility.1962 & life\\_expectancy.1962 & id.1962 & ⋯ & id.2013 & fertility.2014 & life\\_expectancy.2014 & id.2014 & fertility.2015 & life\\_expectancy.2015 & id.2015 & fertility.2016 & life\\_expectancy.2016 & id.2016\\\\\n",
              "  & <chr> & <dbl> & <dbl> & <int> & <dbl> & <dbl> & <int> & <dbl> & <dbl> & <int> & ⋯ & <int> & <dbl> & <dbl> & <int> & <dbl> & <dbl> & <int> & <dbl> & <dbl> & <int>\\\\\n",
              "\\hline\n",
              "\t1 & Albania             & 6.19 & 62.87 & 1 & 6.08 & 63.92 & 1 & 5.96 & 64.84 & 1 & ⋯ & 1 & 1.78 & 77.9 & 1 & 1.78 & 78.0 & 1 & NA & 78.1 & 1\\\\\n",
              "\t58 & Algeria             & 7.65 & 47.50 & 2 & 7.65 & 48.02 & 2 & 7.65 & 48.55 & 2 & ⋯ & 2 & 2.76 & 76.3 & 2 & 2.71 & 76.4 & 2 & NA & 76.5 & 2\\\\\n",
              "\t115 & Angola              & 7.32 & 35.98 & 3 & 7.35 & 36.53 & 3 & 7.39 & 37.08 & 3 & ⋯ & 3 & 5.75 & 59.2 & 3 & 5.65 & 59.6 & 3 & NA & 60.0 & 3\\\\\n",
              "\t172 & Antigua and Barbuda & 4.43 & 62.97 & 4 & 4.39 & 63.46 & 4 & 4.34 & 63.93 & 4 & ⋯ & 4 & 2.08 & 76.3 & 4 & 2.06 & 76.4 & 4 & NA & 76.5 & 4\\\\\n",
              "\t229 & Argentina           & 3.11 & 65.39 & 5 & 3.10 & 65.53 & 5 & 3.09 & 65.64 & 5 & ⋯ & 5 & 2.16 & 76.3 & 5 & 2.15 & 76.5 & 5 & NA & 76.7 & 5\\\\\n",
              "\t286 & Armenia             & 4.55 & 66.86 & 6 & 4.51 & 67.33 & 6 & 4.44 & 67.82 & 6 & ⋯ & 6 & 1.42 & 74.5 & 6 & 1.41 & 74.7 & 6 & NA & 74.9 & 6\\\\\n",
              "\\end{tabular}\n"
            ],
            "text/markdown": [
              "\n",
              "A data.frame: 6 × 172\n",
              "\n",
              "| <!--/--> | country &lt;chr&gt; | fertility.1960 &lt;dbl&gt; | life_expectancy.1960 &lt;dbl&gt; | id.1960 &lt;int&gt; | fertility.1961 &lt;dbl&gt; | life_expectancy.1961 &lt;dbl&gt; | id.1961 &lt;int&gt; | fertility.1962 &lt;dbl&gt; | life_expectancy.1962 &lt;dbl&gt; | id.1962 &lt;int&gt; | ⋯ ⋯ | id.2013 &lt;int&gt; | fertility.2014 &lt;dbl&gt; | life_expectancy.2014 &lt;dbl&gt; | id.2014 &lt;int&gt; | fertility.2015 &lt;dbl&gt; | life_expectancy.2015 &lt;dbl&gt; | id.2015 &lt;int&gt; | fertility.2016 &lt;dbl&gt; | life_expectancy.2016 &lt;dbl&gt; | id.2016 &lt;int&gt; |\n",
              "|---|---|---|---|---|---|---|---|---|---|---|---|---|---|---|---|---|---|---|---|---|---|\n",
              "| 1 | Albania             | 6.19 | 62.87 | 1 | 6.08 | 63.92 | 1 | 5.96 | 64.84 | 1 | ⋯ | 1 | 1.78 | 77.9 | 1 | 1.78 | 78.0 | 1 | NA | 78.1 | 1 |\n",
              "| 58 | Algeria             | 7.65 | 47.50 | 2 | 7.65 | 48.02 | 2 | 7.65 | 48.55 | 2 | ⋯ | 2 | 2.76 | 76.3 | 2 | 2.71 | 76.4 | 2 | NA | 76.5 | 2 |\n",
              "| 115 | Angola              | 7.32 | 35.98 | 3 | 7.35 | 36.53 | 3 | 7.39 | 37.08 | 3 | ⋯ | 3 | 5.75 | 59.2 | 3 | 5.65 | 59.6 | 3 | NA | 60.0 | 3 |\n",
              "| 172 | Antigua and Barbuda | 4.43 | 62.97 | 4 | 4.39 | 63.46 | 4 | 4.34 | 63.93 | 4 | ⋯ | 4 | 2.08 | 76.3 | 4 | 2.06 | 76.4 | 4 | NA | 76.5 | 4 |\n",
              "| 229 | Argentina           | 3.11 | 65.39 | 5 | 3.10 | 65.53 | 5 | 3.09 | 65.64 | 5 | ⋯ | 5 | 2.16 | 76.3 | 5 | 2.15 | 76.5 | 5 | NA | 76.7 | 5 |\n",
              "| 286 | Armenia             | 4.55 | 66.86 | 6 | 4.51 | 67.33 | 6 | 4.44 | 67.82 | 6 | ⋯ | 6 | 1.42 | 74.5 | 6 | 1.41 | 74.7 | 6 | NA | 74.9 | 6 |\n",
              "\n"
            ],
            "text/plain": [
              "    country             fertility.1960 life_expectancy.1960 id.1960\n",
              "1   Albania             6.19           62.87                1      \n",
              "58  Algeria             7.65           47.50                2      \n",
              "115 Angola              7.32           35.98                3      \n",
              "172 Antigua and Barbuda 4.43           62.97                4      \n",
              "229 Argentina           3.11           65.39                5      \n",
              "286 Armenia             4.55           66.86                6      \n",
              "    fertility.1961 life_expectancy.1961 id.1961 fertility.1962\n",
              "1   6.08           63.92                1       5.96          \n",
              "58  7.65           48.02                2       7.65          \n",
              "115 7.35           36.53                3       7.39          \n",
              "172 4.39           63.46                4       4.34          \n",
              "229 3.10           65.53                5       3.09          \n",
              "286 4.51           67.33                6       4.44          \n",
              "    life_expectancy.1962 id.1962 ⋯ id.2013 fertility.2014 life_expectancy.2014\n",
              "1   64.84                1       ⋯ 1       1.78           77.9                \n",
              "58  48.55                2       ⋯ 2       2.76           76.3                \n",
              "115 37.08                3       ⋯ 3       5.75           59.2                \n",
              "172 63.93                4       ⋯ 4       2.08           76.3                \n",
              "229 65.64                5       ⋯ 5       2.16           76.3                \n",
              "286 67.82                6       ⋯ 6       1.42           74.5                \n",
              "    id.2014 fertility.2015 life_expectancy.2015 id.2015 fertility.2016\n",
              "1   1       1.78           78.0                 1       NA            \n",
              "58  2       2.71           76.4                 2       NA            \n",
              "115 3       5.65           59.6                 3       NA            \n",
              "172 4       2.06           76.4                 4       NA            \n",
              "229 5       2.15           76.5                 5       NA            \n",
              "286 6       1.41           74.7                 6       NA            \n",
              "    life_expectancy.2016 id.2016\n",
              "1   78.1                 1      \n",
              "58  76.5                 2      \n",
              "115 60.0                 3      \n",
              "172 76.5                 4      \n",
              "229 76.7                 5      \n",
              "286 74.9                 6      "
            ]
          },
          "metadata": {},
          "output_type": "display_data"
        }
      ],
      "source": [
        "#2.3\n",
        "df_wide_merged <- reshape(df_merged,\n",
        "                         timevar = \"year\",\n",
        "                         idvar = \"country\",\n",
        "                         direction = \"wide\")\n",
        "\n",
        "head(df_wide_merged)"
      ]
    },
    {
      "cell_type": "markdown",
      "metadata": {
        "id": "SezQg_Vgrqnb"
      },
      "source": [
        "<br>"
      ]
    },
    {
      "cell_type": "markdown",
      "metadata": {
        "id": "Mm9WWjbZrqnd"
      },
      "source": [
        "<font color=red>Task 2.4</font>\n",
        "\n",
        "* Plot a scatterplot with fertility during 2015 on the x-axis and life expectancy during 2015 on the y-axis\n",
        "\n",
        "* In a text cell, write your observations. Is there a trend? Speculate as to why/who not.\n",
        "\n",
        "  Hint: `plot(x, y)`"
      ]
    },
    {
      "cell_type": "code",
      "execution_count": 34,
      "metadata": {
        "colab": {
          "base_uri": "https://localhost:8080/",
          "height": 437
        },
        "id": "GNj4LfmrNPkQ",
        "outputId": "4478c7ad-1b6d-46c5-ef85-369f965963e5"
      },
      "outputs": [
        {
          "data": {
            "image/png": "[encoded data removed]",
            "text/plain": [
              "Plot with title “Fertility vs Life Expectancy in 2015”"
            ]
          },
          "metadata": {
            "image/png": {
              "height": 420,
              "width": 420
            }
          },
          "output_type": "display_data"
        }
      ],
      "source": [
        "#2.4\n",
        "plot(df_wide_merged$fertility.2015,\n",
        "     df_wide_merged$life_expectancy.2015,\n",
        "      main = \"Fertility vs Life Expectancy in 2015\",\n",
        "     xlab = \"Fertility Rate \",\n",
        "     ylab = \"Life Expectancy\",\n",
        "     col = \"magenta\")\n"
      ]
    },
    {
      "cell_type": "markdown",
      "metadata": {
        "id": "LYOxwAMltwom"
      },
      "source": [
        "<br>\n",
        "\n",
        "<br>"
      ]
    },
    {
      "cell_type": "markdown",
      "metadata": {
        "id": "A6n3qaywtwom"
      },
      "source": [
        "<br>\n",
        "\n",
        "---"
      ]
    },
    {
      "cell_type": "markdown",
      "metadata": {
        "id": "N186FmWRtwon"
      },
      "source": [
        "####<font color=red>Task 3 - Optional</font>\n"
      ]
    },
    {
      "cell_type": "markdown",
      "metadata": {
        "id": "NKD3VpGStwon"
      },
      "source": [
        "<font color=red>Task 3.1</font>\n",
        "\n",
        "* Import data on countries, regions, and continents from the following link:\n",
        "  https://raw.githubusercontent.com/khasenst/datasets_teaching/refs/heads/main/gapminder_geography.csv\n",
        "\n",
        "* Verify the dataset was imported correctly using the `head()` function"
      ]
    },
    {
      "cell_type": "markdown",
      "metadata": {
        "id": "HvIrRk-Gt_T2"
      },
      "source": [
        "<br>"
      ]
    },
    {
      "cell_type": "markdown",
      "metadata": {
        "id": "KpGdJFzet_jF"
      },
      "source": [
        "<font color=red>Task 3.2</font>\n",
        "\n",
        "* Merge the geography dataset with the merged data from Task 2.3 using an ***inner join***"
      ]
    },
    {
      "cell_type": "markdown",
      "metadata": {
        "id": "bNOvzpuKvN2-"
      },
      "source": [
        "<br>"
      ]
    },
    {
      "cell_type": "markdown",
      "metadata": {
        "id": "9yaI8x2lvN2_"
      },
      "source": [
        "<font color=red>Task 3.3</font>\n",
        "\n",
        "* Plot a boxplot with fertility on the y-axis and continent on the x-axis\n",
        "\n",
        "* Plot a boxplot with life expectancy on the y-axis and continent on the x-axis\n",
        "\n",
        "* What are your observations?\n",
        "\n",
        "  Hint: `boxplot(y ~ x)`"
      ]
    }
  ],
  "metadata": {
    "colab": {
      "provenance": []
    },
    "kernelspec": {
      "display_name": "R",
      "name": "ir"
    }
  },
  "nbformat": 4,
  "nbformat_minor": 0
}
