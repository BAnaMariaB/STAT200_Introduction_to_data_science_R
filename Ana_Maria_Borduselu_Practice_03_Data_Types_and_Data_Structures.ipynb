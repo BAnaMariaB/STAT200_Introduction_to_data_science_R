{
  "nbformat": 4,
  "nbformat_minor": 0,
  "metadata": {
    "colab": {
      "provenance": []
    },
    "kernelspec": {
      "name": "ir",
      "display_name": "R"
    }
  },
  "cells": [
    {
      "cell_type": "markdown",
      "metadata": {
        "id": "gtETsh5j8vHw"
      },
      "source": [
        "# **Practice 03: Data Types and Data Structures**\n",
        "\n",
        "#### **WRITE YOUR NAME HERE**"
      ]
    },
    {
      "cell_type": "markdown",
      "metadata": {
        "id": "Efu_Sse0Wp6P"
      },
      "source": [
        "---\n",
        "\n",
        "**IMPORTANT**:\n",
        "- Before starting the lab, save a copy to your google drive by navigating to `File > Save a copy in Drive` <br>\n",
        "\n",
        "<br>\n",
        "\n",
        "\n",
        "**Instructions**: Complete the lab below.\n",
        "\n",
        "- <font color=red>Tasks</font> indicated in red must be completed to receive credit\n",
        "- Include all code for your work\n",
        "- Include markdown cells with written answers explaining your work when prompted\n",
        "- **NOTE: Your completed lab must be submitted to Canvas as a .ipynb file by the end of the lab session**\n",
        "---"
      ]
    },
    {
      "cell_type": "markdown",
      "source": [
        "<br>"
      ],
      "metadata": {
        "id": "wFVxj8nD-yIt"
      }
    },
    {
      "cell_type": "markdown",
      "metadata": {
        "id": "omeTfTlN4Npb"
      },
      "source": [
        "####<font color=red>Organized</font>\n",
        "\n",
        "**Answers should be organized in the following format for organization and readability**\n"
      ]
    },
    {
      "cell_type": "markdown",
      "source": [
        "<font color=red>Example task 1</font>"
      ],
      "metadata": {
        "id": "uLialHuQ4-vU"
      }
    },
    {
      "cell_type": "code",
      "source": [
        "# 1.\n",
        "\n",
        "# This will be the code block to answer the first part of a task"
      ],
      "metadata": {
        "id": "Mxff4INi5Evt"
      },
      "execution_count": null,
      "outputs": []
    },
    {
      "cell_type": "markdown",
      "source": [
        "1. This will be the text answer/explanation (if prompted) for the first task"
      ],
      "metadata": {
        "id": "A-GtymRS5Syz"
      }
    },
    {
      "cell_type": "markdown",
      "source": [
        "<font color=red>Example task 2</font>"
      ],
      "metadata": {
        "id": "fDAMP6ZC5Zqp"
      }
    },
    {
      "cell_type": "code",
      "source": [
        "# 2.\n",
        "\n",
        "# This will be the code block to answer the second part of a task"
      ],
      "metadata": {
        "id": "K94QMtU55Zqp"
      },
      "execution_count": null,
      "outputs": []
    },
    {
      "cell_type": "markdown",
      "source": [
        "2. This will be the text answer/explanation (if prompted) for the second task"
      ],
      "metadata": {
        "id": "xRfvDNu25Zqp"
      }
    },
    {
      "cell_type": "markdown",
      "source": [
        "<br>\n",
        "\n",
        "Continue this format for the remaining subtasks\n"
      ],
      "metadata": {
        "id": "JIEIhg5I5JfN"
      }
    },
    {
      "cell_type": "markdown",
      "source": [
        "<br>"
      ],
      "metadata": {
        "id": "rcQECH5y4RiC"
      }
    },
    {
      "cell_type": "markdown",
      "source": [
        "<br>\n",
        "\n",
        "---"
      ],
      "metadata": {
        "id": "ZmsKqnb3irdl"
      }
    },
    {
      "cell_type": "markdown",
      "metadata": {
        "id": "lEonqxFHXFKs"
      },
      "source": [
        "####<font color=red>Task 1</font> - Collecting data\n",
        "\n",
        "Collect the following data from at least 4 of your neighbors\n",
        "* Major\n",
        "* Year in school (freshman, sophomore, etc.)\n",
        "* Pets (`TRUE` or `FALSE` with no quotes)\n",
        "* Name of one pet (if no pet, then use `NA` with no quotes)\n",
        "* Hours slept night before\n",
        "\n",
        "\n",
        "If members of your group would not like to provide certain information, that is okay! Simply enter `NA` in their entry\n",
        "\n"
      ]
    },
    {
      "cell_type": "markdown",
      "source": [
        "<font color=red>Task 1.1</font>  Create 5 vectors using `c()` for each of the variables (use variable names that are useful!)\n",
        "\n",
        "\n",
        "\n",
        "\n",
        "\n",
        "\n"
      ],
      "metadata": {
        "id": "cyGpwK7KEvvU"
      }
    },
    {
      "cell_type": "code",
      "source": [
        "#Task 1.1\n",
        "\n",
        "major <- c(\"applied_math\",\"data_science\",\"math\", \"math\")\n",
        "year <- c(\"junior\", \"senior\",\"freshman\", \"freshman\")\n",
        "has_pet <- c(TRUE, TRUE, TRUE, TRUE)\n",
        "name_pet <- c(\"Bombon\", \"Lily\", \"Princess\", \"Chofis\")\n",
        "hours <- c(7,6,8,11)"
      ],
      "metadata": {
        "id": "t_2fSDFVuNoT"
      },
      "execution_count": null,
      "outputs": []
    },
    {
      "cell_type": "markdown",
      "source": [
        "<br>"
      ],
      "metadata": {
        "id": "fbxSXV43GPDH"
      }
    },
    {
      "cell_type": "markdown",
      "source": [
        "<font color=red>Task 1.2</font> Using the five vectors from Task 1.1, create a data frame and store the data frame as the variable `pets`."
      ],
      "metadata": {
        "id": "Gkuf6JHkGM82"
      }
    },
    {
      "cell_type": "code",
      "source": [
        "#Task 1.2\n",
        "pets <- data.frame(major, year, has_pet, name_pet, hours)\n",
        "pets"
      ],
      "metadata": {
        "id": "Dya6YfSeuQaL",
        "outputId": "d6bbf638-f821-4373-e767-33668964edf1",
        "colab": {
          "base_uri": "https://localhost:8080/",
          "height": 223
        }
      },
      "execution_count": null,
      "outputs": [
        {
          "output_type": "display_data",
          "data": {
            "text/html": [
              "<table class=\"dataframe\">\n",
              "<caption>A data.frame: 4 × 5</caption>\n",
              "<thead>\n",
              "\t<tr><th scope=col>major</th><th scope=col>year</th><th scope=col>has_pet</th><th scope=col>name_pet</th><th scope=col>hours</th></tr>\n",
              "\t<tr><th scope=col>&lt;chr&gt;</th><th scope=col>&lt;chr&gt;</th><th scope=col>&lt;lgl&gt;</th><th scope=col>&lt;chr&gt;</th><th scope=col>&lt;dbl&gt;</th></tr>\n",
              "</thead>\n",
              "<tbody>\n",
              "\t<tr><td>applied_math</td><td>junior  </td><td>TRUE</td><td>Bombon  </td><td> 7</td></tr>\n",
              "\t<tr><td>data_science</td><td>senior  </td><td>TRUE</td><td>Lily    </td><td> 6</td></tr>\n",
              "\t<tr><td>math        </td><td>freshman</td><td>TRUE</td><td>Princess</td><td> 8</td></tr>\n",
              "\t<tr><td>math        </td><td>freshman</td><td>TRUE</td><td>Chofis  </td><td>11</td></tr>\n",
              "</tbody>\n",
              "</table>\n"
            ],
            "text/markdown": "\nA data.frame: 4 × 5\n\n| major &lt;chr&gt; | year &lt;chr&gt; | has_pet &lt;lgl&gt; | name_pet &lt;chr&gt; | hours &lt;dbl&gt; |\n|---|---|---|---|---|\n| applied_math | junior   | TRUE | Bombon   |  7 |\n| data_science | senior   | TRUE | Lily     |  6 |\n| math         | freshman | TRUE | Princess |  8 |\n| math         | freshman | TRUE | Chofis   | 11 |\n\n",
            "text/latex": "A data.frame: 4 × 5\n\\begin{tabular}{lllll}\n major & year & has\\_pet & name\\_pet & hours\\\\\n <chr> & <chr> & <lgl> & <chr> & <dbl>\\\\\n\\hline\n\t applied\\_math & junior   & TRUE & Bombon   &  7\\\\\n\t data\\_science & senior   & TRUE & Lily     &  6\\\\\n\t math         & freshman & TRUE & Princess &  8\\\\\n\t math         & freshman & TRUE & Chofis   & 11\\\\\n\\end{tabular}\n",
            "text/plain": [
              "  major        year     has_pet name_pet hours\n",
              "1 applied_math junior   TRUE    Bombon    7   \n",
              "2 data_science senior   TRUE    Lily      6   \n",
              "3 math         freshman TRUE    Princess  8   \n",
              "4 math         freshman TRUE    Chofis   11   "
            ]
          },
          "metadata": {}
        }
      ]
    },
    {
      "cell_type": "markdown",
      "source": [
        "<br>"
      ],
      "metadata": {
        "id": "W6Orl-u1GjeX"
      }
    },
    {
      "cell_type": "markdown",
      "source": [
        "<font color=red>Task 1.3</font> Use the `dim()` function to determine the number of observations and variables in the data frame `pets`."
      ],
      "metadata": {
        "id": "e7Kith1NxgKQ"
      }
    },
    {
      "cell_type": "code",
      "source": [
        "#Task 1.3\n",
        "dim(pets)"
      ],
      "metadata": {
        "id": "3fpHbBq5uTE5",
        "outputId": "77db9ec1-c342-41d3-c6c2-1fe04f1e15d9",
        "colab": {
          "base_uri": "https://localhost:8080/",
          "height": 34
        }
      },
      "execution_count": null,
      "outputs": [
        {
          "output_type": "display_data",
          "data": {
            "text/html": [
              "<style>\n",
              ".list-inline {list-style: none; margin:0; padding: 0}\n",
              ".list-inline>li {display: inline-block}\n",
              ".list-inline>li:not(:last-child)::after {content: \"\\00b7\"; padding: 0 .5ex}\n",
              "</style>\n",
              "<ol class=list-inline><li>4</li><li>5</li></ol>\n"
            ],
            "text/markdown": "1. 4\n2. 5\n\n\n",
            "text/latex": "\\begin{enumerate*}\n\\item 4\n\\item 5\n\\end{enumerate*}\n",
            "text/plain": [
              "[1] 4 5"
            ]
          },
          "metadata": {}
        }
      ]
    },
    {
      "cell_type": "markdown",
      "source": [
        "<br>"
      ],
      "metadata": {
        "id": "ON14YO-xxgKR"
      }
    },
    {
      "cell_type": "markdown",
      "source": [
        "<font color=red>Task 1.4</font> Use the `str()` function to determine which of the variables in the data frame are character data type."
      ],
      "metadata": {
        "id": "ZkDvvivNxvhe"
      }
    },
    {
      "cell_type": "code",
      "source": [
        "#Task 1.4\n",
        "str(pets)\n"
      ],
      "metadata": {
        "id": "s9cGqU_muVMp",
        "outputId": "94a78027-3cc3-4b6b-e7ed-f4987e1e4308",
        "colab": {
          "base_uri": "https://localhost:8080/"
        }
      },
      "execution_count": null,
      "outputs": [
        {
          "output_type": "stream",
          "name": "stdout",
          "text": [
            "'data.frame':\t4 obs. of  5 variables:\n",
            " $ major   : chr  \"applied_math\" \"data_science\" \"math\" \"math\"\n",
            " $ year    : chr  \"junior\" \"senior\" \"freshman\" \"freshman\"\n",
            " $ has_pet : logi  TRUE TRUE TRUE TRUE\n",
            " $ name_pet: chr  \"Bombon\" \"Lily\" \"Princess\" \"Chofis\"\n",
            " $ hours   : num  7 6 8 11\n"
          ]
        }
      ]
    },
    {
      "cell_type": "markdown",
      "source": [
        "<br>"
      ],
      "metadata": {
        "id": "Do6ujC1Axvhf"
      }
    },
    {
      "cell_type": "markdown",
      "source": [
        "<font color=red>Task 1.5</font> Overwrite the names of the data frame to reflect the following:\n",
        "  * `sdsu_major`\n",
        "  * `school_year`\n",
        "  * `pets_true_false`\n",
        "  * `pet_name`\n",
        "  * `sleep_hours`"
      ],
      "metadata": {
        "id": "UPhsdktBx5_7"
      }
    },
    {
      "cell_type": "code",
      "source": [
        "#Task 1.5\n",
        "pets <- data.frame(sdsu_major= major , school_year= year , pets_true_false = has_pet , pet_name = name_pet , sleep_hours = hours )\n",
        "pets"
      ],
      "metadata": {
        "id": "AXcGtbUGuW12",
        "outputId": "8fc29e3d-800e-4616-b14b-607b7c067e13",
        "colab": {
          "base_uri": "https://localhost:8080/",
          "height": 223
        }
      },
      "execution_count": null,
      "outputs": [
        {
          "output_type": "display_data",
          "data": {
            "text/html": [
              "<table class=\"dataframe\">\n",
              "<caption>A data.frame: 4 × 5</caption>\n",
              "<thead>\n",
              "\t<tr><th scope=col>sdsu_major</th><th scope=col>school_year</th><th scope=col>pets_true_false</th><th scope=col>pet_name</th><th scope=col>sleep_hours</th></tr>\n",
              "\t<tr><th scope=col>&lt;chr&gt;</th><th scope=col>&lt;chr&gt;</th><th scope=col>&lt;lgl&gt;</th><th scope=col>&lt;chr&gt;</th><th scope=col>&lt;dbl&gt;</th></tr>\n",
              "</thead>\n",
              "<tbody>\n",
              "\t<tr><td>applied_math</td><td>junior  </td><td>TRUE</td><td>Bombon  </td><td> 7</td></tr>\n",
              "\t<tr><td>data_science</td><td>senior  </td><td>TRUE</td><td>Lily    </td><td> 6</td></tr>\n",
              "\t<tr><td>math        </td><td>freshman</td><td>TRUE</td><td>Princess</td><td> 8</td></tr>\n",
              "\t<tr><td>math        </td><td>freshman</td><td>TRUE</td><td>Chofis  </td><td>11</td></tr>\n",
              "</tbody>\n",
              "</table>\n"
            ],
            "text/markdown": "\nA data.frame: 4 × 5\n\n| sdsu_major &lt;chr&gt; | school_year &lt;chr&gt; | pets_true_false &lt;lgl&gt; | pet_name &lt;chr&gt; | sleep_hours &lt;dbl&gt; |\n|---|---|---|---|---|\n| applied_math | junior   | TRUE | Bombon   |  7 |\n| data_science | senior   | TRUE | Lily     |  6 |\n| math         | freshman | TRUE | Princess |  8 |\n| math         | freshman | TRUE | Chofis   | 11 |\n\n",
            "text/latex": "A data.frame: 4 × 5\n\\begin{tabular}{lllll}\n sdsu\\_major & school\\_year & pets\\_true\\_false & pet\\_name & sleep\\_hours\\\\\n <chr> & <chr> & <lgl> & <chr> & <dbl>\\\\\n\\hline\n\t applied\\_math & junior   & TRUE & Bombon   &  7\\\\\n\t data\\_science & senior   & TRUE & Lily     &  6\\\\\n\t math         & freshman & TRUE & Princess &  8\\\\\n\t math         & freshman & TRUE & Chofis   & 11\\\\\n\\end{tabular}\n",
            "text/plain": [
              "  sdsu_major   school_year pets_true_false pet_name sleep_hours\n",
              "1 applied_math junior      TRUE            Bombon    7         \n",
              "2 data_science senior      TRUE            Lily      6         \n",
              "3 math         freshman    TRUE            Princess  8         \n",
              "4 math         freshman    TRUE            Chofis   11         "
            ]
          },
          "metadata": {}
        }
      ]
    },
    {
      "cell_type": "markdown",
      "source": [
        "<br>"
      ],
      "metadata": {
        "id": "wAUpshd0x5_8"
      }
    },
    {
      "cell_type": "markdown",
      "source": [
        "<font color=red>Task 1.6</font> Assign the name of each student as the row names of the data frame using the `rownames()` functions. Show the results to verify this was performed correctly."
      ],
      "metadata": {
        "id": "FfXLqBLVyqTD"
      }
    },
    {
      "cell_type": "code",
      "source": [
        "#Task 1.6\n",
        "name_students <- c(\"Jesse\", \"Ravier\",\"Sebastien\", \"Abril\")\n",
        "rownames(pets) <- name_students\n",
        "pets"
      ],
      "metadata": {
        "id": "lWRu2wWCuaE2",
        "outputId": "a647a9c4-1cbe-4efa-e588-8c9e06b1c88f",
        "colab": {
          "base_uri": "https://localhost:8080/",
          "height": 223
        }
      },
      "execution_count": null,
      "outputs": [
        {
          "output_type": "display_data",
          "data": {
            "text/html": [
              "<table class=\"dataframe\">\n",
              "<caption>A data.frame: 4 × 5</caption>\n",
              "<thead>\n",
              "\t<tr><th></th><th scope=col>sdsu_major</th><th scope=col>school_year</th><th scope=col>pets_true_false</th><th scope=col>pet_name</th><th scope=col>sleep_hours</th></tr>\n",
              "\t<tr><th></th><th scope=col>&lt;chr&gt;</th><th scope=col>&lt;chr&gt;</th><th scope=col>&lt;lgl&gt;</th><th scope=col>&lt;chr&gt;</th><th scope=col>&lt;dbl&gt;</th></tr>\n",
              "</thead>\n",
              "<tbody>\n",
              "\t<tr><th scope=row>Jesse</th><td>applied_math</td><td>junior  </td><td>TRUE</td><td>Bombon  </td><td> 7</td></tr>\n",
              "\t<tr><th scope=row>Ravier</th><td>data_science</td><td>senior  </td><td>TRUE</td><td>Lily    </td><td> 6</td></tr>\n",
              "\t<tr><th scope=row>Sebastien</th><td>math        </td><td>freshman</td><td>TRUE</td><td>Princess</td><td> 8</td></tr>\n",
              "\t<tr><th scope=row>Abril</th><td>math        </td><td>freshman</td><td>TRUE</td><td>Chofis  </td><td>11</td></tr>\n",
              "</tbody>\n",
              "</table>\n"
            ],
            "text/markdown": "\nA data.frame: 4 × 5\n\n| <!--/--> | sdsu_major &lt;chr&gt; | school_year &lt;chr&gt; | pets_true_false &lt;lgl&gt; | pet_name &lt;chr&gt; | sleep_hours &lt;dbl&gt; |\n|---|---|---|---|---|---|\n| Jesse | applied_math | junior   | TRUE | Bombon   |  7 |\n| Ravier | data_science | senior   | TRUE | Lily     |  6 |\n| Sebastien | math         | freshman | TRUE | Princess |  8 |\n| Abril | math         | freshman | TRUE | Chofis   | 11 |\n\n",
            "text/latex": "A data.frame: 4 × 5\n\\begin{tabular}{r|lllll}\n  & sdsu\\_major & school\\_year & pets\\_true\\_false & pet\\_name & sleep\\_hours\\\\\n  & <chr> & <chr> & <lgl> & <chr> & <dbl>\\\\\n\\hline\n\tJesse & applied\\_math & junior   & TRUE & Bombon   &  7\\\\\n\tRavier & data\\_science & senior   & TRUE & Lily     &  6\\\\\n\tSebastien & math         & freshman & TRUE & Princess &  8\\\\\n\tAbril & math         & freshman & TRUE & Chofis   & 11\\\\\n\\end{tabular}\n",
            "text/plain": [
              "          sdsu_major   school_year pets_true_false pet_name sleep_hours\n",
              "Jesse     applied_math junior      TRUE            Bombon    7         \n",
              "Ravier    data_science senior      TRUE            Lily      6         \n",
              "Sebastien math         freshman    TRUE            Princess  8         \n",
              "Abril     math         freshman    TRUE            Chofis   11         "
            ]
          },
          "metadata": {}
        }
      ]
    },
    {
      "cell_type": "markdown",
      "source": [
        "<br>\n",
        "\n",
        "<br>"
      ],
      "metadata": {
        "id": "zmVw_yB16L4N"
      }
    },
    {
      "cell_type": "markdown",
      "source": [
        "<br>\n",
        "\n",
        "---"
      ],
      "metadata": {
        "id": "Dozgr7NQXFKq"
      }
    },
    {
      "cell_type": "markdown",
      "metadata": {
        "id": "Ek6IuNtolHgW"
      },
      "source": [
        "####<font color=red>Task 2</font> - Manipulating data types and coercion\n",
        "\n"
      ]
    },
    {
      "cell_type": "markdown",
      "source": [
        "<font color=red>Task 2.1</font>\n",
        "\n",
        "1. Choose a number and assign it to a variable.\n",
        "2. Check the data type of your variable using the `class()` function.\n",
        "3. Convert the variable to a character using the `as.character()` function and reassign to the same variable.\n",
        "4. Again, check the data type of your variable using the `class()` function.\n",
        "5. In a text cell, write what you observe in complete sentences.\n",
        "\n",
        "\n",
        "\n",
        "\n"
      ],
      "metadata": {
        "id": "lzlm-Od2xE7F"
      }
    },
    {
      "cell_type": "markdown",
      "source": [
        "<br>"
      ],
      "metadata": {
        "id": "839kGmTftFDw"
      }
    },
    {
      "cell_type": "code",
      "source": [
        "#Task 2.1 1&2\n",
        "a <- 89\n",
        "class(a)\n",
        "\n",
        "#Task 2.1 3&4\n",
        "str <- as.character(a)\n",
        "class(str)"
      ],
      "metadata": {
        "id": "fMMYY9tNw_Jo",
        "outputId": "40ae5338-1273-44c5-b6ef-d83ed78e40e6",
        "colab": {
          "base_uri": "https://localhost:8080/",
          "height": 52
        }
      },
      "execution_count": null,
      "outputs": [
        {
          "output_type": "display_data",
          "data": {
            "text/html": [
              "'numeric'"
            ],
            "text/markdown": "'numeric'",
            "text/latex": "'numeric'",
            "text/plain": [
              "[1] \"numeric\""
            ]
          },
          "metadata": {}
        },
        {
          "output_type": "display_data",
          "data": {
            "text/html": [
              "'character'"
            ],
            "text/markdown": "'character'",
            "text/latex": "'character'",
            "text/plain": [
              "[1] \"character\""
            ]
          },
          "metadata": {}
        }
      ]
    },
    {
      "cell_type": "markdown",
      "source": [
        "*Obseravtion Task 2.1 *<br>\n",
        "When we us the function as.character() to change the data type of a variable. in this case we converted from numeric to character."
      ],
      "metadata": {
        "id": "4B7oCFpDxEkU"
      }
    },
    {
      "cell_type": "markdown",
      "source": [
        "<font color=red>Task 2.2</font>\n",
        "1. Convert the number `1` into a logical data type using the `as.logical()` function. What are your observations?\n",
        "2. Convert the number `-33.8` into a logical data type using the `as.logical()` function. What are your observations?\n",
        "3. Convert the number `0` into a logical data type using the `as.logical()` function. What are your observations?\n",
        "4. Convert the number `2.7` into an integer data type using the `as.integer()` function. What are your observations? Is this what you expected?\n",
        "\n",
        "\n"
      ],
      "metadata": {
        "id": "ut9PfGkttFDw"
      }
    },
    {
      "cell_type": "code",
      "source": [
        "#Task 2.2 1\n",
        "as.logical(1)\n",
        "\n",
        "#Task 2.2 2\n",
        "as.logical(-33.8)\n",
        "\n",
        "#Task 2.2 3\n",
        "as.logical(0)\n",
        "\n",
        "#Task 2.2 4\n",
        "as.logical(2.7)"
      ],
      "metadata": {
        "id": "4HIrojoUvvod"
      },
      "execution_count": null,
      "outputs": []
    },
    {
      "cell_type": "markdown",
      "source": [
        "Observation task 2.2\n",
        "\n",
        "1.It has returned TRUE.<br>\n",
        "2.It has returned TRUE. <br>\n",
        "3.It has returned FALSE. <br>\n",
        "4.It has returned TRUE.<br>\n",
        "From all of this we can conclude that R considers 0 means FALSE and any other numeric type diffrent from 0 is TRUE.\n",
        "\n"
      ],
      "metadata": {
        "id": "CHnFKfcovz2o"
      }
    },
    {
      "cell_type": "markdown",
      "source": [
        "<br>"
      ],
      "metadata": {
        "id": "SlsbFbtSvJXB"
      }
    },
    {
      "cell_type": "markdown",
      "source": [
        "<font color=red>Task 2.3</font>\n",
        "1. Convert the character `\"5.3\"` into a `numeric` data type using the `as.numeric()` function. What are your observations?\n",
        "2. Convert the character `\"5.3\"` into a `logical` data type using the `as.logical()` function. What are your observations?\n",
        "3. Convert the character `\"TRUE\"` into a `logical` data type using the `as.logical()` function. What are your observations?\n",
        "3. Convert the character `\"5.3\"` into an `integer` data type using the `as.integer()` function. What are your observations?\n",
        "4. Create a character string of text of your favorite place to eat and attempt to convert the character into a `numeric` data type. What are your observations?\n",
        "\n"
      ],
      "metadata": {
        "id": "dMO3dpevvJXM"
      }
    },
    {
      "cell_type": "code",
      "source": [
        "#Task 2.3 1\n",
        " as.numeric(\"5.3\")\n",
        "\n",
        "#Task 2.3 2\n",
        "as.logical(\"5.3\")\n",
        "\n",
        "#Task 2.3 3\n",
        "as.logical(\"TRUE\")\n",
        "\n",
        "#Task 2.3 4\n",
        "as.integer(\"5.3\")\n",
        "\n",
        "#Task 2.3 5\n",
        " as.numeric(\"DARCY\")\n"
      ],
      "metadata": {
        "id": "x8LE4Gcxv8gh",
        "outputId": "55faafc5-26c6-478d-b65a-4eeea3135fa2",
        "colab": {
          "base_uri": "https://localhost:8080/",
          "height": 139
        }
      },
      "execution_count": null,
      "outputs": [
        {
          "output_type": "display_data",
          "data": {
            "text/html": [
              "5.3"
            ],
            "text/markdown": "5.3",
            "text/latex": "5.3",
            "text/plain": [
              "[1] 5.3"
            ]
          },
          "metadata": {}
        },
        {
          "output_type": "display_data",
          "data": {
            "text/html": [
              "&lt;NA&gt;"
            ],
            "text/markdown": "&lt;NA&gt;",
            "text/latex": "<NA>",
            "text/plain": [
              "[1] NA"
            ]
          },
          "metadata": {}
        },
        {
          "output_type": "display_data",
          "data": {
            "text/html": [
              "TRUE"
            ],
            "text/markdown": "TRUE",
            "text/latex": "TRUE",
            "text/plain": [
              "[1] TRUE"
            ]
          },
          "metadata": {}
        },
        {
          "output_type": "display_data",
          "data": {
            "text/html": [
              "5"
            ],
            "text/markdown": "5",
            "text/latex": "5",
            "text/plain": [
              "[1] 5"
            ]
          },
          "metadata": {}
        },
        {
          "output_type": "stream",
          "name": "stderr",
          "text": [
            "Warning message:\n",
            "“NAs introduced by coercion”\n"
          ]
        },
        {
          "output_type": "display_data",
          "data": {
            "text/html": [
              "&lt;NA&gt;"
            ],
            "text/markdown": "&lt;NA&gt;",
            "text/latex": "<NA>",
            "text/plain": [
              "[1] NA"
            ]
          },
          "metadata": {}
        }
      ]
    },
    {
      "cell_type": "markdown",
      "source": [
        "Observation task 2.3\n",
        "\n",
        "1.The conversion has worked from character type to numeric type, returning 5.3 as numeric<br>\n",
        "2.The conversion from character type to logival type returned NA <br>\n",
        "3.The conversion has worked from character type to logical type, returning TRUE<br>\n",
        "4.The conversion has worked from character type to integer type, returning 5, when the input was 5.3, it has done a conversion and an aproximation.<br>\n",
        "5.The conversion from character type to numerci didn't work, it even gave us a waring message. This means we can't use strings made of letters to obtain a numeric type\n"
      ],
      "metadata": {
        "id": "9NWb9__fv9jA"
      }
    },
    {
      "cell_type": "markdown",
      "source": [
        "<br>"
      ],
      "metadata": {
        "id": "ECo-lt7LxE7J"
      }
    },
    {
      "cell_type": "markdown",
      "source": [
        "<font color=red>Task 2.4</font>\n",
        "1. Convert the logical `TRUE` into a `numeric` data type using the `as.numeric()` function.  What are your observations?\n",
        "2. Convert the logical `FALSE` into a `numeric` data type using the `as.numeric()` function.  What are your observations?\n",
        "3. Convert the logical `TRUE` into a `character` data type using the `as.character()` function.  What are your observations?\n",
        "4. Convert the logical `FALSE` into an `integer` data type using the `as.integer()` function.  What are your observations?\n",
        "\n",
        "\n"
      ],
      "metadata": {
        "id": "otMvK_6lxHik"
      }
    },
    {
      "cell_type": "code",
      "source": [
        "#Task 2.4 1\n",
        "as.numeric(TRUE)\n",
        "\n",
        "#Task 2.4 2\n",
        "as.numeric(FALSE)\n",
        "\n",
        "#Task 2.4 3\n",
        "as.character(TRUE)\n",
        "\n",
        "#Task 2.4 4\n",
        "as.integer(FALSE)\n"
      ],
      "metadata": {
        "id": "sPu4oFkxwRsb",
        "outputId": "2377c0a0-da45-419d-e939-546c51295c30",
        "colab": {
          "base_uri": "https://localhost:8080/",
          "height": 86
        }
      },
      "execution_count": null,
      "outputs": [
        {
          "output_type": "display_data",
          "data": {
            "text/html": [
              "1"
            ],
            "text/markdown": "1",
            "text/latex": "1",
            "text/plain": [
              "[1] 1"
            ]
          },
          "metadata": {}
        },
        {
          "output_type": "display_data",
          "data": {
            "text/html": [
              "0"
            ],
            "text/markdown": "0",
            "text/latex": "0",
            "text/plain": [
              "[1] 0"
            ]
          },
          "metadata": {}
        },
        {
          "output_type": "display_data",
          "data": {
            "text/html": [
              "'TRUE'"
            ],
            "text/markdown": "'TRUE'",
            "text/latex": "'TRUE'",
            "text/plain": [
              "[1] \"TRUE\""
            ]
          },
          "metadata": {}
        },
        {
          "output_type": "display_data",
          "data": {
            "text/html": [
              "0"
            ],
            "text/markdown": "0",
            "text/latex": "0",
            "text/plain": [
              "[1] 0"
            ]
          },
          "metadata": {}
        }
      ]
    },
    {
      "cell_type": "markdown",
      "source": [
        "Observation task 2.4\n",
        "\n",
        "1.If we convert a logical type to numeric we get 1, when the logic type is True <br>\n",
        "2.If we convert a logical type to numeric we get 0, when the logic type is False<br>\n",
        "3.If we convert a logical type to character we get how that logic type is spelled <br>\n",
        "4.If we convert a logical type to integer we get 1/0, (just like in numerc)\n",
        "<br>"
      ],
      "metadata": {
        "id": "pVCcZdND4GdF"
      }
    },
    {
      "cell_type": "markdown",
      "source": [
        "<font color=red>Task 2.5</font>\n",
        "1. Add a `character` data type to a `numeric` data type. What are your observations?\n",
        "2. Add a `TRUE` logical to a `numeric` data type. What are you observations?\n",
        "3. Add a `character` data type to a `logical` data type. What are your observations?\n",
        "\n"
      ],
      "metadata": {
        "id": "xkSRJnney3nJ"
      }
    },
    {
      "cell_type": "code",
      "source": [
        "#Task 2.5 1\n",
        "\"2\" + 5"
      ],
      "metadata": {
        "id": "zuJwp4UZwdWe",
        "outputId": "f6708864-8744-45c3-b348-bb1c0bff51e0",
        "colab": {
          "base_uri": "https://localhost:8080/",
          "height": 72
        }
      },
      "execution_count": null,
      "outputs": [
        {
          "output_type": "error",
          "ename": "ERROR",
          "evalue": "Error in \"2\" + 5: non-numeric argument to binary operator\n",
          "traceback": [
            "Error in \"2\" + 5: non-numeric argument to binary operator\nTraceback:\n"
          ]
        }
      ]
    },
    {
      "cell_type": "code",
      "source": [
        "#Task 2.5 2\n",
        "TRUE + 5"
      ],
      "metadata": {
        "id": "NYX9kVI8wl8E"
      },
      "execution_count": null,
      "outputs": []
    },
    {
      "cell_type": "code",
      "source": [
        "#Task 2.5 3\n",
        "\"2\"+ TRUE"
      ],
      "metadata": {
        "id": "b1fBHc0Lwor3"
      },
      "execution_count": null,
      "outputs": []
    },
    {
      "cell_type": "markdown",
      "source": [
        "Observation task 2.5\n",
        "\n",
        "1.we get an error when we try to add up a character type and a numeric type. The error points out that we use a non numeric type (reffering to the character type) <br>\n",
        "2.we can add up a numeric and logical type, because logical types have a numeric representation 0/1.<br>\n",
        "3.we get an error when we try to add up a character type and a logical type. The error points out that we use a non numeric type (reffering to the character type), the logical type has a numeric representation so it's not it causing the error, as seen in 2.<br>\n"
      ],
      "metadata": {
        "id": "iDxQMjgBwq4r"
      }
    },
    {
      "cell_type": "markdown",
      "source": [
        "<br>"
      ],
      "metadata": {
        "id": "zvM3Jzl8XoHo"
      }
    },
    {
      "cell_type": "markdown",
      "source": [
        "<br>\n",
        "\n",
        "<br>"
      ],
      "metadata": {
        "id": "OloZ4muSXOPA"
      }
    },
    {
      "cell_type": "markdown",
      "source": [
        "<br>"
      ],
      "metadata": {
        "id": "HHidevYzXoeh"
      }
    }
  ]
}