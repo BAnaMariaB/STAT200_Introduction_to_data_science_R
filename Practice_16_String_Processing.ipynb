{
  "cells": [
    {
      "cell_type": "markdown",
      "metadata": {
        "id": "gtETsh5j8vHw"
      },
      "source": [
        "# **Practice 16 - String Processing**\n",
        "\n",
        "#### Ana-Maria Borduselu"
      ]
    },
    {
      "cell_type": "markdown",
      "metadata": {
        "id": "Efu_Sse0Wp6P"
      },
      "source": [
        "---\n",
        "\n",
        "**IMPORTANT**:\n",
        "- Before starting the lab, save a copy to your google drive by navigating to `File > Save a copy in Drive` <br>\n",
        "\n",
        "<br>\n",
        "\n",
        "\n",
        "**Instructions**: Complete the lab below.\n",
        "\n",
        "- <font color=red>Tasks</font> indicated in red must be completed to receive credit\n",
        "- Include all code for your work\n",
        "- Include markdown cells with written answers explaining your work when prompted\n",
        "- **NOTE: Your completed lab must be submitted to Canvas as a .ipynb file by the end of the lab session**\n",
        "---"
      ]
    },
    {
      "cell_type": "markdown",
      "metadata": {
        "id": "wFVxj8nD-yIt"
      },
      "source": [
        "<br>"
      ]
    },
    {
      "cell_type": "markdown",
      "metadata": {
        "id": "omeTfTlN4Npb"
      },
      "source": [
        "####<font color=red>Organized</font>\n",
        "\n",
        "**Answers should be organized in the following format for organization and readability**\n"
      ]
    },
    {
      "cell_type": "markdown",
      "metadata": {
        "id": "uLialHuQ4-vU"
      },
      "source": [
        "<font color=red>Example task 1</font>"
      ]
    },
    {
      "cell_type": "code",
      "execution_count": null,
      "metadata": {
        "id": "Mxff4INi5Evt"
      },
      "outputs": [],
      "source": [
        "# 1.\n",
        "\n",
        "# This will be the code block to answer the first part of a task"
      ]
    },
    {
      "cell_type": "markdown",
      "metadata": {
        "id": "A-GtymRS5Syz"
      },
      "source": [
        "1. This will be the text answer/explanation (if prompted) for the first task"
      ]
    },
    {
      "cell_type": "markdown",
      "metadata": {
        "id": "fDAMP6ZC5Zqp"
      },
      "source": [
        "<font color=red>Example task 2</font>"
      ]
    },
    {
      "cell_type": "code",
      "execution_count": null,
      "metadata": {
        "id": "K94QMtU55Zqp"
      },
      "outputs": [],
      "source": [
        "# 2.\n",
        "\n",
        "# This will be the code block to answer the second part of a task"
      ]
    },
    {
      "cell_type": "markdown",
      "metadata": {
        "id": "xRfvDNu25Zqp"
      },
      "source": [
        "2. This will be the text answer/explanation (if prompted) for the second task"
      ]
    },
    {
      "cell_type": "markdown",
      "metadata": {
        "id": "JIEIhg5I5JfN"
      },
      "source": [
        "<br>\n",
        "\n",
        "Continue this format for the remaining subtasks\n"
      ]
    },
    {
      "cell_type": "markdown",
      "metadata": {
        "id": "rcQECH5y4RiC"
      },
      "source": [
        "<br>"
      ]
    },
    {
      "cell_type": "markdown",
      "source": [
        "---\n",
        "\n",
        "<br>"
      ],
      "metadata": {
        "id": "jFiNcIjpjFs7"
      }
    },
    {
      "cell_type": "markdown",
      "source": [
        "#### Packages"
      ],
      "metadata": {
        "id": "QdyJzDgAsFNZ"
      }
    },
    {
      "cell_type": "code",
      "source": [
        "# none!"
      ],
      "metadata": {
        "id": "BA2Vnt-UZFYm"
      },
      "execution_count": null,
      "outputs": []
    },
    {
      "cell_type": "markdown",
      "source": [
        "<br>\n",
        "\n",
        "<br>"
      ],
      "metadata": {
        "id": "SNO2ev8txX3p"
      }
    },
    {
      "cell_type": "markdown",
      "metadata": {
        "id": "Q4n93wPOXOPB"
      },
      "source": [
        "<br>\n",
        "\n",
        "---"
      ]
    },
    {
      "cell_type": "markdown",
      "metadata": {
        "id": "oHahMLpO8A9D"
      },
      "source": [
        "####<font color=red>Task 1</font>\n",
        "\n",
        "For today's practice assignment, we will clean and reorganize a set of strings containing movies titles, their genres, and their release dates.\n",
        "\n",
        "We will analyze this data in the next lesson!\n"
      ]
    },
    {
      "cell_type": "markdown",
      "metadata": {
        "id": "MYQzfdqoNr0b"
      },
      "source": [
        "<font color=red>Task 1.1</font>\n",
        "\n",
        "* Load the dataset on movies using the script below.\n",
        "\n",
        "  ```movies <- read.csv(\"https://raw.githubusercontent.com/khasenst/datasets_teaching/refs/heads/main/movies.csv\", header = FALSE)```\n",
        "\n",
        "* Show the first few lines of the `movies` dataset using the `head()` function"
      ]
    },
    {
      "cell_type": "code",
      "source": [
        "#1.1\n",
        "movies <- read.csv(\"https://raw.githubusercontent.com/khasenst/datasets_teaching/refs/heads/main/movies.csv\", header = FALSE)\n",
        "head(movies)"
      ],
      "metadata": {
        "colab": {
          "base_uri": "https://localhost:8080/",
          "height": 286
        },
        "id": "WkasyZiF-HsZ",
        "outputId": "e0de5a06-afff-48b5-ddd1-25a53bc0fad6"
      },
      "execution_count": 26,
      "outputs": [
        {
          "output_type": "display_data",
          "data": {
            "text/html": [
              "<table class=\"dataframe\">\n",
              "<caption>A data.frame: 6 × 1</caption>\n",
              "<thead>\n",
              "\t<tr><th></th><th scope=col>V1</th></tr>\n",
              "\t<tr><th></th><th scope=col>&lt;chr&gt;</th></tr>\n",
              "</thead>\n",
              "<tbody>\n",
              "\t<tr><th scope=row>1</th><td>0000008::Edison Kinetoscopic Record of a Sneeze (1894)::Documentary|Short</td></tr>\n",
              "\t<tr><th scope=row>2</th><td>0000010::La sortie des usines Lumière (1895)::Documentary|Short          </td></tr>\n",
              "\t<tr><th scope=row>3</th><td>0000012::The Arrival of a Train (1896)::Documentary|Short                </td></tr>\n",
              "\t<tr><th scope=row>4</th><td>25::The Oxford and Cambridge University Boat Race (1895)::               </td></tr>\n",
              "\t<tr><th scope=row>5</th><td>0000091::Le manoir du diable (1896)::Short|Horror                        </td></tr>\n",
              "\t<tr><th scope=row>6</th><td>0000131::Une nuit terrible (1896)::Short|Comedy|Horror                   </td></tr>\n",
              "</tbody>\n",
              "</table>\n"
            ],
            "text/markdown": "\nA data.frame: 6 × 1\n\n| <!--/--> | V1 &lt;chr&gt; |\n|---|---|\n| 1 | 0000008::Edison Kinetoscopic Record of a Sneeze (1894)::Documentary|Short |\n| 2 | 0000010::La sortie des usines Lumière (1895)::Documentary|Short           |\n| 3 | 0000012::The Arrival of a Train (1896)::Documentary|Short                 |\n| 4 | 25::The Oxford and Cambridge University Boat Race (1895)::                |\n| 5 | 0000091::Le manoir du diable (1896)::Short|Horror                         |\n| 6 | 0000131::Une nuit terrible (1896)::Short|Comedy|Horror                    |\n\n",
            "text/latex": "A data.frame: 6 × 1\n\\begin{tabular}{r|l}\n  & V1\\\\\n  & <chr>\\\\\n\\hline\n\t1 & 0000008::Edison Kinetoscopic Record of a Sneeze (1894)::Documentary\\textbar{}Short\\\\\n\t2 & 0000010::La sortie des usines Lumière (1895)::Documentary\\textbar{}Short          \\\\\n\t3 & 0000012::The Arrival of a Train (1896)::Documentary\\textbar{}Short                \\\\\n\t4 & 25::The Oxford and Cambridge University Boat Race (1895)::               \\\\\n\t5 & 0000091::Le manoir du diable (1896)::Short\\textbar{}Horror                        \\\\\n\t6 & 0000131::Une nuit terrible (1896)::Short\\textbar{}Comedy\\textbar{}Horror                   \\\\\n\\end{tabular}\n",
            "text/plain": [
              "  V1                                                                       \n",
              "1 0000008::Edison Kinetoscopic Record of a Sneeze (1894)::Documentary|Short\n",
              "2 0000010::La sortie des usines Lumière (1895)::Documentary|Short          \n",
              "3 0000012::The Arrival of a Train (1896)::Documentary|Short                \n",
              "4 25::The Oxford and Cambridge University Boat Race (1895)::               \n",
              "5 0000091::Le manoir du diable (1896)::Short|Horror                        \n",
              "6 0000131::Une nuit terrible (1896)::Short|Comedy|Horror                   "
            ]
          },
          "metadata": {}
        }
      ]
    },
    {
      "cell_type": "markdown",
      "source": [
        "<br>"
      ],
      "metadata": {
        "id": "1Qg2Hd0pfI0Q"
      }
    },
    {
      "cell_type": "markdown",
      "metadata": {
        "id": "Tm2CCwEWfIPG"
      },
      "source": [
        "<font color=red>Task 1.2</font>\n",
        "\n",
        "* Use the `str()` function to determine the number of rows and columns in the data frame"
      ]
    },
    {
      "cell_type": "code",
      "source": [
        "#1.2\n",
        "str(movies)"
      ],
      "metadata": {
        "colab": {
          "base_uri": "https://localhost:8080/"
        },
        "id": "tlZL5s_f-Qq8",
        "outputId": "05ab7fee-67a8-49d6-f0e1-5d112b569ad4"
      },
      "execution_count": 27,
      "outputs": [
        {
          "output_type": "stream",
          "name": "stdout",
          "text": [
            "'data.frame':\t37342 obs. of  1 variable:\n",
            " $ V1: chr  \"0000008::Edison Kinetoscopic Record of a Sneeze (1894)::Documentary|Short\" \"0000010::La sortie des usines Lumière (1895)::Documentary|Short\" \"0000012::The Arrival of a Train (1896)::Documentary|Short\" \"25::The Oxford and Cambridge University Boat Race (1895)::\" ...\n"
          ]
        }
      ]
    },
    {
      "cell_type": "markdown",
      "source": [
        "<br>"
      ],
      "metadata": {
        "id": "gxFyaC0iex2C"
      }
    },
    {
      "cell_type": "markdown",
      "metadata": {
        "id": "8dGsh1Zuex2C"
      },
      "source": [
        "<font color=red>Task 1.3</font>\n",
        "\n",
        "* What information about movies in contained within the data frame? Describe your observations in a text cell."
      ]
    },
    {
      "cell_type": "markdown",
      "source": [
        "**Task 1.3**<br><br>\n",
        "we have the id of the movie, the mane of the movie, the year of realease, the tags associated with the movie"
      ],
      "metadata": {
        "id": "p8yx69M8-W9e"
      }
    },
    {
      "cell_type": "markdown",
      "source": [
        "<br>"
      ],
      "metadata": {
        "id": "oLGdL6n8TWzK"
      }
    },
    {
      "cell_type": "markdown",
      "metadata": {
        "id": "mtQ3jLJhTWzM"
      },
      "source": [
        "<font color=red>Task 1.4</font>\n",
        "\n",
        "This is a lot of data! It's sometimes a good idea to work with a subset of your data (***at first***) when you have many observations, then you can expand you code to the entire datasets. <br>\n",
        "Let's just work with the first 10 movies.\n",
        "\n",
        "*  Extract the first 10 movies and store as a `character` vector in a variable named `movies10`\n"
      ]
    },
    {
      "cell_type": "code",
      "source": [
        "#1.4\n",
        "movies10 <- movies$V1[1:10]\n",
        "movies10"
      ],
      "metadata": {
        "colab": {
          "base_uri": "https://localhost:8080/",
          "height": 86
        },
        "id": "MFt6STXDWhmX",
        "outputId": "50d5c4fd-efe0-47c7-af68-a88da6f51668"
      },
      "execution_count": 28,
      "outputs": [
        {
          "output_type": "display_data",
          "data": {
            "text/html": [
              "<style>\n",
              ".list-inline {list-style: none; margin:0; padding: 0}\n",
              ".list-inline>li {display: inline-block}\n",
              ".list-inline>li:not(:last-child)::after {content: \"\\00b7\"; padding: 0 .5ex}\n",
              "</style>\n",
              "<ol class=list-inline><li>'0000008::Edison Kinetoscopic Record of a Sneeze (1894)::Documentary|Short'</li><li>'0000010::La sortie des usines Lumière (1895)::Documentary|Short'</li><li>'0000012::The Arrival of a Train (1896)::Documentary|Short'</li><li>'25::The Oxford and Cambridge University Boat Race (1895)::'</li><li>'0000091::Le manoir du diable (1896)::Short|Horror'</li><li>'0000131::Une nuit terrible (1896)::Short|Comedy|Horror'</li><li>'0000417::A Trip to the Moon (1902)::Short|Action|Adventure|Comedy|Fantasy|Sci-Fi'</li><li>'0000439::The Great Train Robbery (1903)::Short|Action|Crime|Western'</li><li>'0443::Hiawatha, the Messiah of the Ojibway (1903)::'</li><li>'0000628::The Adventures of Dollie (1908)::Action|Short'</li></ol>\n"
            ],
            "text/markdown": "1. '0000008::Edison Kinetoscopic Record of a Sneeze (1894)::Documentary|Short'\n2. '0000010::La sortie des usines Lumière (1895)::Documentary|Short'\n3. '0000012::The Arrival of a Train (1896)::Documentary|Short'\n4. '25::The Oxford and Cambridge University Boat Race (1895)::'\n5. '0000091::Le manoir du diable (1896)::Short|Horror'\n6. '0000131::Une nuit terrible (1896)::Short|Comedy|Horror'\n7. '0000417::A Trip to the Moon (1902)::Short|Action|Adventure|Comedy|Fantasy|Sci-Fi'\n8. '0000439::The Great Train Robbery (1903)::Short|Action|Crime|Western'\n9. '0443::Hiawatha, the Messiah of the Ojibway (1903)::'\n10. '0000628::The Adventures of Dollie (1908)::Action|Short'\n\n\n",
            "text/latex": "\\begin{enumerate*}\n\\item '0000008::Edison Kinetoscopic Record of a Sneeze (1894)::Documentary\\textbar{}Short'\n\\item '0000010::La sortie des usines Lumière (1895)::Documentary\\textbar{}Short'\n\\item '0000012::The Arrival of a Train (1896)::Documentary\\textbar{}Short'\n\\item '25::The Oxford and Cambridge University Boat Race (1895)::'\n\\item '0000091::Le manoir du diable (1896)::Short\\textbar{}Horror'\n\\item '0000131::Une nuit terrible (1896)::Short\\textbar{}Comedy\\textbar{}Horror'\n\\item '0000417::A Trip to the Moon (1902)::Short\\textbar{}Action\\textbar{}Adventure\\textbar{}Comedy\\textbar{}Fantasy\\textbar{}Sci-Fi'\n\\item '0000439::The Great Train Robbery (1903)::Short\\textbar{}Action\\textbar{}Crime\\textbar{}Western'\n\\item '0443::Hiawatha, the Messiah of the Ojibway (1903)::'\n\\item '0000628::The Adventures of Dollie (1908)::Action\\textbar{}Short'\n\\end{enumerate*}\n",
            "text/plain": [
              " [1] \"0000008::Edison Kinetoscopic Record of a Sneeze (1894)::Documentary|Short\"       \n",
              " [2] \"0000010::La sortie des usines Lumière (1895)::Documentary|Short\"                 \n",
              " [3] \"0000012::The Arrival of a Train (1896)::Documentary|Short\"                       \n",
              " [4] \"25::The Oxford and Cambridge University Boat Race (1895)::\"                      \n",
              " [5] \"0000091::Le manoir du diable (1896)::Short|Horror\"                               \n",
              " [6] \"0000131::Une nuit terrible (1896)::Short|Comedy|Horror\"                          \n",
              " [7] \"0000417::A Trip to the Moon (1902)::Short|Action|Adventure|Comedy|Fantasy|Sci-Fi\"\n",
              " [8] \"0000439::The Great Train Robbery (1903)::Short|Action|Crime|Western\"             \n",
              " [9] \"0443::Hiawatha, the Messiah of the Ojibway (1903)::\"                             \n",
              "[10] \"0000628::The Adventures of Dollie (1908)::Action|Short\"                          "
            ]
          },
          "metadata": {}
        }
      ]
    },
    {
      "cell_type": "markdown",
      "source": [
        "<br>\n",
        "\n",
        "<br>"
      ],
      "metadata": {
        "id": "mqGP3Ng1embq"
      }
    },
    {
      "cell_type": "markdown",
      "metadata": {
        "id": "9KEHo0PDembr"
      },
      "source": [
        "<br>\n",
        "\n",
        "---"
      ]
    },
    {
      "cell_type": "markdown",
      "metadata": {
        "id": "TB6M0nabfbjy"
      },
      "source": [
        "####<font color=red>Task 2</font> - Correcting movies with no genre\n"
      ]
    },
    {
      "cell_type": "markdown",
      "metadata": {
        "id": "XVqPZ9j3jwDp"
      },
      "source": [
        "<font color=red>Task 2.1</font>\n",
        "\n",
        "* Use `nchar()` to determine the length of each string in the character vector `movies10`"
      ]
    },
    {
      "cell_type": "code",
      "source": [
        "#2.1\n",
        "nchar(movies10)"
      ],
      "metadata": {
        "colab": {
          "base_uri": "https://localhost:8080/",
          "height": 34
        },
        "id": "_iRCvvNVXIxL",
        "outputId": "f3e32828-b527-4ce1-f1c4-2dd080a06f1e"
      },
      "execution_count": 29,
      "outputs": [
        {
          "output_type": "display_data",
          "data": {
            "text/html": [
              "<style>\n",
              ".list-inline {list-style: none; margin:0; padding: 0}\n",
              ".list-inline>li {display: inline-block}\n",
              ".list-inline>li:not(:last-child)::after {content: \"\\00b7\"; padding: 0 .5ex}\n",
              "</style>\n",
              "<ol class=list-inline><li>73</li><li>63</li><li>57</li><li>58</li><li>49</li><li>54</li><li>80</li><li>67</li><li>51</li><li>54</li></ol>\n"
            ],
            "text/markdown": "1. 73\n2. 63\n3. 57\n4. 58\n5. 49\n6. 54\n7. 80\n8. 67\n9. 51\n10. 54\n\n\n",
            "text/latex": "\\begin{enumerate*}\n\\item 73\n\\item 63\n\\item 57\n\\item 58\n\\item 49\n\\item 54\n\\item 80\n\\item 67\n\\item 51\n\\item 54\n\\end{enumerate*}\n",
            "text/plain": [
              " [1] 73 63 57 58 49 54 80 67 51 54"
            ]
          },
          "metadata": {}
        }
      ]
    },
    {
      "cell_type": "markdown",
      "source": [
        "<br>"
      ],
      "metadata": {
        "id": "b5PnuaH9kylA"
      }
    },
    {
      "cell_type": "markdown",
      "metadata": {
        "id": "522xOv7mUCOq"
      },
      "source": [
        "<font color=red>Task 2.2</font>\n",
        "\n",
        "* Use `substring()` and `nchar()` to extract the last two characters in each movie description\n",
        "\n",
        "  Hint: `substring(movies10, 1, 2)` extracts the first two characters, but we want the last two characters)\n",
        "\n",
        "* Store your result as the variable `last_two`"
      ]
    },
    {
      "cell_type": "code",
      "source": [
        "#2.2\n",
        "last_two <- substring(movies10, nchar(movies10) - 1, nchar(movies10))\n",
        "last_two\n"
      ],
      "metadata": {
        "colab": {
          "base_uri": "https://localhost:8080/",
          "height": 34
        },
        "id": "vrOfbfd8XyRj",
        "outputId": "7d46a445-fc73-4eae-8d87-4e2746806785"
      },
      "execution_count": 30,
      "outputs": [
        {
          "output_type": "display_data",
          "data": {
            "text/html": [
              "<style>\n",
              ".list-inline {list-style: none; margin:0; padding: 0}\n",
              ".list-inline>li {display: inline-block}\n",
              ".list-inline>li:not(:last-child)::after {content: \"\\00b7\"; padding: 0 .5ex}\n",
              "</style>\n",
              "<ol class=list-inline><li>'rt'</li><li>'rt'</li><li>'rt'</li><li>'::'</li><li>'or'</li><li>'or'</li><li>'Fi'</li><li>'rn'</li><li>'::'</li><li>'rt'</li></ol>\n"
            ],
            "text/markdown": "1. 'rt'\n2. 'rt'\n3. 'rt'\n4. '::'\n5. 'or'\n6. 'or'\n7. 'Fi'\n8. 'rn'\n9. '::'\n10. 'rt'\n\n\n",
            "text/latex": "\\begin{enumerate*}\n\\item 'rt'\n\\item 'rt'\n\\item 'rt'\n\\item '::'\n\\item 'or'\n\\item 'or'\n\\item 'Fi'\n\\item 'rn'\n\\item '::'\n\\item 'rt'\n\\end{enumerate*}\n",
            "text/plain": [
              " [1] \"rt\" \"rt\" \"rt\" \"::\" \"or\" \"or\" \"Fi\" \"rn\" \"::\" \"rt\""
            ]
          },
          "metadata": {}
        }
      ]
    },
    {
      "cell_type": "markdown",
      "source": [
        "<br>"
      ],
      "metadata": {
        "id": "WsI2bH4RUCOu"
      }
    },
    {
      "cell_type": "markdown",
      "metadata": {
        "id": "-6Q4LrtukylA"
      },
      "source": [
        "<font color=red>Task 2.3</font>\n",
        "\n",
        "If the last two characters in a string are `\"::\"`, this means there is no genre specified for that movie. In this case, let's insert a `\"None\"` if there are no specified genres.\n",
        "\n",
        "* Use `which()` to determine which strings end with two colons `\"::\"`"
      ]
    },
    {
      "cell_type": "code",
      "source": [
        "#2.3\n",
        "no_genre <- which(last_two == \"::\")\n"
      ],
      "metadata": {
        "id": "XsviQOoDYB68"
      },
      "execution_count": 31,
      "outputs": []
    },
    {
      "cell_type": "markdown",
      "source": [
        "<br>"
      ],
      "metadata": {
        "id": "aBCMISfJmWbC"
      }
    },
    {
      "cell_type": "markdown",
      "metadata": {
        "id": "ZqTWGtWKUrYw"
      },
      "source": [
        "<font color=red>Task 2.4</font>\n",
        "\n",
        "Use your answer to Task 2.3 to subset the entries where the last two characters are `\"::\"`"
      ]
    },
    {
      "cell_type": "markdown",
      "source": [],
      "metadata": {
        "id": "41SsRieEZl7D"
      }
    },
    {
      "cell_type": "code",
      "source": [
        "#2.4\n",
        "movies10[no_genre] <- paste0(movies10[no_genre], \"None\")\n",
        "movies10"
      ],
      "metadata": {
        "colab": {
          "base_uri": "https://localhost:8080/",
          "height": 104
        },
        "id": "KTJ2p1WOY3VS",
        "outputId": "ae0d6578-6c96-497e-e51a-07a40827d227"
      },
      "execution_count": 32,
      "outputs": [
        {
          "output_type": "display_data",
          "data": {
            "text/html": [
              "<style>\n",
              ".list-inline {list-style: none; margin:0; padding: 0}\n",
              ".list-inline>li {display: inline-block}\n",
              ".list-inline>li:not(:last-child)::after {content: \"\\00b7\"; padding: 0 .5ex}\n",
              "</style>\n",
              "<ol class=list-inline><li>'0000008::Edison Kinetoscopic Record of a Sneeze (1894)::Documentary|Short'</li><li>'0000010::La sortie des usines Lumière (1895)::Documentary|Short'</li><li>'0000012::The Arrival of a Train (1896)::Documentary|Short'</li><li>'25::The Oxford and Cambridge University Boat Race (1895)::None'</li><li>'0000091::Le manoir du diable (1896)::Short|Horror'</li><li>'0000131::Une nuit terrible (1896)::Short|Comedy|Horror'</li><li>'0000417::A Trip to the Moon (1902)::Short|Action|Adventure|Comedy|Fantasy|Sci-Fi'</li><li>'0000439::The Great Train Robbery (1903)::Short|Action|Crime|Western'</li><li>'0443::Hiawatha, the Messiah of the Ojibway (1903)::None'</li><li>'0000628::The Adventures of Dollie (1908)::Action|Short'</li></ol>\n"
            ],
            "text/markdown": "1. '0000008::Edison Kinetoscopic Record of a Sneeze (1894)::Documentary|Short'\n2. '0000010::La sortie des usines Lumière (1895)::Documentary|Short'\n3. '0000012::The Arrival of a Train (1896)::Documentary|Short'\n4. '25::The Oxford and Cambridge University Boat Race (1895)::None'\n5. '0000091::Le manoir du diable (1896)::Short|Horror'\n6. '0000131::Une nuit terrible (1896)::Short|Comedy|Horror'\n7. '0000417::A Trip to the Moon (1902)::Short|Action|Adventure|Comedy|Fantasy|Sci-Fi'\n8. '0000439::The Great Train Robbery (1903)::Short|Action|Crime|Western'\n9. '0443::Hiawatha, the Messiah of the Ojibway (1903)::None'\n10. '0000628::The Adventures of Dollie (1908)::Action|Short'\n\n\n",
            "text/latex": "\\begin{enumerate*}\n\\item '0000008::Edison Kinetoscopic Record of a Sneeze (1894)::Documentary\\textbar{}Short'\n\\item '0000010::La sortie des usines Lumière (1895)::Documentary\\textbar{}Short'\n\\item '0000012::The Arrival of a Train (1896)::Documentary\\textbar{}Short'\n\\item '25::The Oxford and Cambridge University Boat Race (1895)::None'\n\\item '0000091::Le manoir du diable (1896)::Short\\textbar{}Horror'\n\\item '0000131::Une nuit terrible (1896)::Short\\textbar{}Comedy\\textbar{}Horror'\n\\item '0000417::A Trip to the Moon (1902)::Short\\textbar{}Action\\textbar{}Adventure\\textbar{}Comedy\\textbar{}Fantasy\\textbar{}Sci-Fi'\n\\item '0000439::The Great Train Robbery (1903)::Short\\textbar{}Action\\textbar{}Crime\\textbar{}Western'\n\\item '0443::Hiawatha, the Messiah of the Ojibway (1903)::None'\n\\item '0000628::The Adventures of Dollie (1908)::Action\\textbar{}Short'\n\\end{enumerate*}\n",
            "text/plain": [
              " [1] \"0000008::Edison Kinetoscopic Record of a Sneeze (1894)::Documentary|Short\"       \n",
              " [2] \"0000010::La sortie des usines Lumière (1895)::Documentary|Short\"                 \n",
              " [3] \"0000012::The Arrival of a Train (1896)::Documentary|Short\"                       \n",
              " [4] \"25::The Oxford and Cambridge University Boat Race (1895)::None\"                  \n",
              " [5] \"0000091::Le manoir du diable (1896)::Short|Horror\"                               \n",
              " [6] \"0000131::Une nuit terrible (1896)::Short|Comedy|Horror\"                          \n",
              " [7] \"0000417::A Trip to the Moon (1902)::Short|Action|Adventure|Comedy|Fantasy|Sci-Fi\"\n",
              " [8] \"0000439::The Great Train Robbery (1903)::Short|Action|Crime|Western\"             \n",
              " [9] \"0443::Hiawatha, the Messiah of the Ojibway (1903)::None\"                         \n",
              "[10] \"0000628::The Adventures of Dollie (1908)::Action|Short\"                          "
            ]
          },
          "metadata": {}
        }
      ]
    },
    {
      "cell_type": "markdown",
      "source": [
        "<br>"
      ],
      "metadata": {
        "id": "s-wzxOLBUrY0"
      }
    },
    {
      "cell_type": "markdown",
      "metadata": {
        "id": "ooDRuM0HmXdn"
      },
      "source": [
        "<font color=red>Task 2.5</font>\n",
        "\n",
        "* Using `paste0`, concatenate the string `\"None\"` to all of the movies that end with two colons `\"::\"`\n",
        "\n",
        "  For example, the fourth movie will change from\n",
        "\n",
        "  ```\"25::The Oxford and Cambridge University Boat Race (1895)::\"```\n",
        "\n",
        "  to\n",
        "  \n",
        "  ```\"25::The Oxford and Cambridge University Boat Race (1895)::None\"```\n"
      ]
    },
    {
      "cell_type": "code",
      "source": [
        "#2.5\n",
        "last_two_all <- substring(movies$V1, nchar(movies$V1) - 1, nchar(movies$V1))\n",
        "no_genre_all <- which(last_two_all == \"::\")\n",
        "\n"
      ],
      "metadata": {
        "id": "CCYyrLfZalKE"
      },
      "execution_count": 34,
      "outputs": []
    },
    {
      "cell_type": "markdown",
      "source": [
        "<br>"
      ],
      "metadata": {
        "id": "Ps3ZPJimVK4S"
      }
    },
    {
      "cell_type": "markdown",
      "metadata": {
        "id": "ZMl0dvW8VK4O"
      },
      "source": [
        "<font color=red>Task 2.6</font>\n",
        "\n",
        "* Overwrite the original movies with the result from Task 2.5.\n",
        "\n",
        "  Hint: `movies10[which(...)] <- paste0(...)`"
      ]
    },
    {
      "cell_type": "code",
      "source": [
        "#2.6\n",
        "movies$V1[no_genre_all] <- paste0(movies$V1[no_genre_all], \"None\")\n",
        "movies"
      ],
      "metadata": {
        "colab": {
          "base_uri": "https://localhost:8080/",
          "height": 1000
        },
        "id": "A5eCHB8Cbg1n",
        "outputId": "efe051f2-5738-410b-ff95-2edff6f35aa6"
      },
      "execution_count": 35,
      "outputs": [
        {
          "output_type": "display_data",
          "data": {
            "text/html": [
              "<table class=\"dataframe\">\n",
              "<caption>A data.frame: 37342 × 1</caption>\n",
              "<thead>\n",
              "\t<tr><th scope=col>V1</th></tr>\n",
              "\t<tr><th scope=col>&lt;chr&gt;</th></tr>\n",
              "</thead>\n",
              "<tbody>\n",
              "\t<tr><td>0000008::Edison Kinetoscopic Record of a Sneeze (1894)::Documentary|Short        </td></tr>\n",
              "\t<tr><td>0000010::La sortie des usines Lumière (1895)::Documentary|Short                  </td></tr>\n",
              "\t<tr><td>0000012::The Arrival of a Train (1896)::Documentary|Short                        </td></tr>\n",
              "\t<tr><td>25::The Oxford and Cambridge University Boat Race (1895)::None                   </td></tr>\n",
              "\t<tr><td>0000091::Le manoir du diable (1896)::Short|Horror                                </td></tr>\n",
              "\t<tr><td>0000131::Une nuit terrible (1896)::Short|Comedy|Horror                           </td></tr>\n",
              "\t<tr><td>0000417::A Trip to the Moon (1902)::Short|Action|Adventure|Comedy|Fantasy|Sci-Fi </td></tr>\n",
              "\t<tr><td>0000439::The Great Train Robbery (1903)::Short|Action|Crime|Western              </td></tr>\n",
              "\t<tr><td>0443::Hiawatha, the Messiah of the Ojibway (1903)::None                          </td></tr>\n",
              "\t<tr><td>0000628::The Adventures of Dollie (1908)::Action|Short                           </td></tr>\n",
              "\t<tr><td>0000833::The Country Doctor (1909)::Short|Drama                                  </td></tr>\n",
              "\t<tr><td>0001223::Frankenstein (1910)::Short|Horror|Sci-Fi                                </td></tr>\n",
              "\t<tr><td>0001740::The Lonedale Operator (1911)::Short|Drama|Romance                       </td></tr>\n",
              "\t<tr><td>0002101::Cleopatra (1912)::Drama|History                                         </td></tr>\n",
              "\t<tr><td>0002130::L'inferno (1911)::Adventure|Drama|Fantasy|Horror                        </td></tr>\n",
              "\t<tr><td>0002354::Max et Jane veulent faire du théâtre (1911)::Short|Comedy|Romance       </td></tr>\n",
              "\t<tr><td>0002844::Fantômas - À l'ombre de la guillotine (1913)::Crime|Drama               </td></tr>\n",
              "\t<tr><td>0003740::Cabiria (1914)::Adventure|Drama|History                                 </td></tr>\n",
              "\t<tr><td>0003863::Dough and Dynamite (1914)::Comedy|Short                                 </td></tr>\n",
              "\t<tr><td>0004099::His Majesty, the Scarecrow of Oz (1914)::Family|Fantasy|Adventure|Comedy</td></tr>\n",
              "\t<tr><td>0004100::His Musical Career (1914)::Short|Comedy                                 </td></tr>\n",
              "\t<tr><td>0004101::His New Profession (1914)::Short|Comedy                                 </td></tr>\n",
              "\t<tr><td>0004210::Laughing Gas (1914)::Short|Comedy                                       </td></tr>\n",
              "\t<tr><td>0004395::The New Janitor (1914)::Short|Comedy                                    </td></tr>\n",
              "\t<tr><td>0004413::The Ocean Waif (1916)::Short|Comedy|Drama                               </td></tr>\n",
              "\t<tr><td>0004457::The Patchwork Girl of Oz (1914)::Adventure|Family|Fantasy               </td></tr>\n",
              "\t<tr><td>0004518::Recreation (1914)::Comedy|Short                                         </td></tr>\n",
              "\t<tr><td>0004546::The Rounders (1914)::Comedy|Short                                       </td></tr>\n",
              "\t<tr><td>0004936::The Bank (1915)::Comedy|Short                                           </td></tr>\n",
              "\t<tr><td>0004972::The Birth of a Nation (1915)::Drama|History|War                         </td></tr>\n",
              "\t<tr><td>⋮</td></tr>\n",
              "\t<tr><td>13996460::Apartment 407 (2019)::Thriller                                                         </td></tr>\n",
              "\t<tr><td>14025788::Il Divin Codino (2021)::Biography|Drama|Sport                                          </td></tr>\n",
              "\t<tr><td>14035292::Kid 90 (2021)::Documentary|Biography|History                                           </td></tr>\n",
              "\t<tr><td>14058484::Biggie: I Got a Story to Tell (2021)::Documentary|Biography|Music                      </td></tr>\n",
              "\t<tr><td>14062858::Us Again (2021)::Animation|Short|Family|Musical                                        </td></tr>\n",
              "\t<tr><td>14078164::Nate Bargatze: The Greatest Average American (2021)::Comedy                            </td></tr>\n",
              "\t<tr><td>14091818::Ajeeb Daastaans (2021)::Drama|Romance                                                  </td></tr>\n",
              "\t<tr><td>14111726::Cabras da Peste (2021)::Action|Comedy|Crime                                            </td></tr>\n",
              "\t<tr><td>14111734::Operation Varsity Blues: The College Admissions Scandal (2021)::Documentary|Crime|Drama</td></tr>\n",
              "\t<tr><td>14117288::Oprah with Meghan and Harry: A CBS Primetime Special (2021)::Talk-Show                 </td></tr>\n",
              "\t<tr><td>14152756::Seaspiracy (2021)::Documentary                                                         </td></tr>\n",
              "\t<tr><td>14156926::Dardara (2021)::Documentary|Music                                                      </td></tr>\n",
              "\t<tr><td>14164234::Ride or Die (2021)::Drama|Romance|Thriller                                             </td></tr>\n",
              "\t<tr><td>14217100::Ferry (2021)::Action|Crime|Drama|Thriller                                              </td></tr>\n",
              "\t<tr><td>14219522::Dying Is Easy (2021)::Short|Action                                                     </td></tr>\n",
              "\t<tr><td>14220316::Save Ralph (2021)::Animation|Short                                                     </td></tr>\n",
              "\t<tr><td>14237412::Diablada (2020)::Drama|Thriller                                                        </td></tr>\n",
              "\t<tr><td>14264844::P!nk: All I Know So Far (2021)::Documentary|Biography|Music                            </td></tr>\n",
              "\t<tr><td>14280066::The Box (2021)::Drama|Music|Musical                                                    </td></tr>\n",
              "\t<tr><td>14318270::Louis Theroux: Shooting Joe Exotic (2021)::Documentary                                 </td></tr>\n",
              "\t<tr><td>14318430::Why Did You Kill Me? (2021)::Documentary|Crime                                         </td></tr>\n",
              "\t<tr><td>14372240::The Year Earth Changed (2021)::Documentary                                             </td></tr>\n",
              "\t<tr><td>14404280::Homunculus (2021)::Drama|Fantasy|Mystery                                               </td></tr>\n",
              "\t<tr><td>14404882::King Otto (2021)::Documentary|Sport                                                    </td></tr>\n",
              "\t<tr><td>14450630::What Drives Us (2021)::Documentary                                                     </td></tr>\n",
              "\t<tr><td>14499632::22 vs. Earth (2021)::Animation|Short|Adventure                                         </td></tr>\n",
              "\t<tr><td>14527836::Recalled (2021)::Drama|Mystery|Thriller                                                </td></tr>\n",
              "\t<tr><td>14544192::Bo Burnham: Inside (2021)::Comedy|Drama|Music                                          </td></tr>\n",
              "\t<tr><td>14735160::Mum is Pregnant (2021)::None                                                           </td></tr>\n",
              "\t<tr><td>14740904::Juanes: Origen (2021)::Documentary                                                     </td></tr>\n",
              "</tbody>\n",
              "</table>\n"
            ],
            "text/markdown": "\nA data.frame: 37342 × 1\n\n| V1 &lt;chr&gt; |\n|---|\n| 0000008::Edison Kinetoscopic Record of a Sneeze (1894)::Documentary|Short         |\n| 0000010::La sortie des usines Lumière (1895)::Documentary|Short                   |\n| 0000012::The Arrival of a Train (1896)::Documentary|Short                         |\n| 25::The Oxford and Cambridge University Boat Race (1895)::None                    |\n| 0000091::Le manoir du diable (1896)::Short|Horror                                 |\n| 0000131::Une nuit terrible (1896)::Short|Comedy|Horror                            |\n| 0000417::A Trip to the Moon (1902)::Short|Action|Adventure|Comedy|Fantasy|Sci-Fi  |\n| 0000439::The Great Train Robbery (1903)::Short|Action|Crime|Western               |\n| 0443::Hiawatha, the Messiah of the Ojibway (1903)::None                           |\n| 0000628::The Adventures of Dollie (1908)::Action|Short                            |\n| 0000833::The Country Doctor (1909)::Short|Drama                                   |\n| 0001223::Frankenstein (1910)::Short|Horror|Sci-Fi                                 |\n| 0001740::The Lonedale Operator (1911)::Short|Drama|Romance                        |\n| 0002101::Cleopatra (1912)::Drama|History                                          |\n| 0002130::L'inferno (1911)::Adventure|Drama|Fantasy|Horror                         |\n| 0002354::Max et Jane veulent faire du théâtre (1911)::Short|Comedy|Romance        |\n| 0002844::Fantômas - À l'ombre de la guillotine (1913)::Crime|Drama                |\n| 0003740::Cabiria (1914)::Adventure|Drama|History                                  |\n| 0003863::Dough and Dynamite (1914)::Comedy|Short                                  |\n| 0004099::His Majesty, the Scarecrow of Oz (1914)::Family|Fantasy|Adventure|Comedy |\n| 0004100::His Musical Career (1914)::Short|Comedy                                  |\n| 0004101::His New Profession (1914)::Short|Comedy                                  |\n| 0004210::Laughing Gas (1914)::Short|Comedy                                        |\n| 0004395::The New Janitor (1914)::Short|Comedy                                     |\n| 0004413::The Ocean Waif (1916)::Short|Comedy|Drama                                |\n| 0004457::The Patchwork Girl of Oz (1914)::Adventure|Family|Fantasy                |\n| 0004518::Recreation (1914)::Comedy|Short                                          |\n| 0004546::The Rounders (1914)::Comedy|Short                                        |\n| 0004936::The Bank (1915)::Comedy|Short                                            |\n| 0004972::The Birth of a Nation (1915)::Drama|History|War                          |\n| ⋮ |\n| 13996460::Apartment 407 (2019)::Thriller                                                          |\n| 14025788::Il Divin Codino (2021)::Biography|Drama|Sport                                           |\n| 14035292::Kid 90 (2021)::Documentary|Biography|History                                            |\n| 14058484::Biggie: I Got a Story to Tell (2021)::Documentary|Biography|Music                       |\n| 14062858::Us Again (2021)::Animation|Short|Family|Musical                                         |\n| 14078164::Nate Bargatze: The Greatest Average American (2021)::Comedy                             |\n| 14091818::Ajeeb Daastaans (2021)::Drama|Romance                                                   |\n| 14111726::Cabras da Peste (2021)::Action|Comedy|Crime                                             |\n| 14111734::Operation Varsity Blues: The College Admissions Scandal (2021)::Documentary|Crime|Drama |\n| 14117288::Oprah with Meghan and Harry: A CBS Primetime Special (2021)::Talk-Show                  |\n| 14152756::Seaspiracy (2021)::Documentary                                                          |\n| 14156926::Dardara (2021)::Documentary|Music                                                       |\n| 14164234::Ride or Die (2021)::Drama|Romance|Thriller                                              |\n| 14217100::Ferry (2021)::Action|Crime|Drama|Thriller                                               |\n| 14219522::Dying Is Easy (2021)::Short|Action                                                      |\n| 14220316::Save Ralph (2021)::Animation|Short                                                      |\n| 14237412::Diablada (2020)::Drama|Thriller                                                         |\n| 14264844::P!nk: All I Know So Far (2021)::Documentary|Biography|Music                             |\n| 14280066::The Box (2021)::Drama|Music|Musical                                                     |\n| 14318270::Louis Theroux: Shooting Joe Exotic (2021)::Documentary                                  |\n| 14318430::Why Did You Kill Me? (2021)::Documentary|Crime                                          |\n| 14372240::The Year Earth Changed (2021)::Documentary                                              |\n| 14404280::Homunculus (2021)::Drama|Fantasy|Mystery                                                |\n| 14404882::King Otto (2021)::Documentary|Sport                                                     |\n| 14450630::What Drives Us (2021)::Documentary                                                      |\n| 14499632::22 vs. Earth (2021)::Animation|Short|Adventure                                          |\n| 14527836::Recalled (2021)::Drama|Mystery|Thriller                                                 |\n| 14544192::Bo Burnham: Inside (2021)::Comedy|Drama|Music                                           |\n| 14735160::Mum is Pregnant (2021)::None                                                            |\n| 14740904::Juanes: Origen (2021)::Documentary                                                      |\n\n",
            "text/latex": "A data.frame: 37342 × 1\n\\begin{tabular}{l}\n V1\\\\\n <chr>\\\\\n\\hline\n\t 0000008::Edison Kinetoscopic Record of a Sneeze (1894)::Documentary\\textbar{}Short        \\\\\n\t 0000010::La sortie des usines Lumière (1895)::Documentary\\textbar{}Short                  \\\\\n\t 0000012::The Arrival of a Train (1896)::Documentary\\textbar{}Short                        \\\\\n\t 25::The Oxford and Cambridge University Boat Race (1895)::None                   \\\\\n\t 0000091::Le manoir du diable (1896)::Short\\textbar{}Horror                                \\\\\n\t 0000131::Une nuit terrible (1896)::Short\\textbar{}Comedy\\textbar{}Horror                           \\\\\n\t 0000417::A Trip to the Moon (1902)::Short\\textbar{}Action\\textbar{}Adventure\\textbar{}Comedy\\textbar{}Fantasy\\textbar{}Sci-Fi \\\\\n\t 0000439::The Great Train Robbery (1903)::Short\\textbar{}Action\\textbar{}Crime\\textbar{}Western              \\\\\n\t 0443::Hiawatha, the Messiah of the Ojibway (1903)::None                          \\\\\n\t 0000628::The Adventures of Dollie (1908)::Action\\textbar{}Short                           \\\\\n\t 0000833::The Country Doctor (1909)::Short\\textbar{}Drama                                  \\\\\n\t 0001223::Frankenstein (1910)::Short\\textbar{}Horror\\textbar{}Sci-Fi                                \\\\\n\t 0001740::The Lonedale Operator (1911)::Short\\textbar{}Drama\\textbar{}Romance                       \\\\\n\t 0002101::Cleopatra (1912)::Drama\\textbar{}History                                         \\\\\n\t 0002130::L'inferno (1911)::Adventure\\textbar{}Drama\\textbar{}Fantasy\\textbar{}Horror                        \\\\\n\t 0002354::Max et Jane veulent faire du théâtre (1911)::Short\\textbar{}Comedy\\textbar{}Romance       \\\\\n\t 0002844::Fantômas - À l'ombre de la guillotine (1913)::Crime\\textbar{}Drama               \\\\\n\t 0003740::Cabiria (1914)::Adventure\\textbar{}Drama\\textbar{}History                                 \\\\\n\t 0003863::Dough and Dynamite (1914)::Comedy\\textbar{}Short                                 \\\\\n\t 0004099::His Majesty, the Scarecrow of Oz (1914)::Family\\textbar{}Fantasy\\textbar{}Adventure\\textbar{}Comedy\\\\\n\t 0004100::His Musical Career (1914)::Short\\textbar{}Comedy                                 \\\\\n\t 0004101::His New Profession (1914)::Short\\textbar{}Comedy                                 \\\\\n\t 0004210::Laughing Gas (1914)::Short\\textbar{}Comedy                                       \\\\\n\t 0004395::The New Janitor (1914)::Short\\textbar{}Comedy                                    \\\\\n\t 0004413::The Ocean Waif (1916)::Short\\textbar{}Comedy\\textbar{}Drama                               \\\\\n\t 0004457::The Patchwork Girl of Oz (1914)::Adventure\\textbar{}Family\\textbar{}Fantasy               \\\\\n\t 0004518::Recreation (1914)::Comedy\\textbar{}Short                                         \\\\\n\t 0004546::The Rounders (1914)::Comedy\\textbar{}Short                                       \\\\\n\t 0004936::The Bank (1915)::Comedy\\textbar{}Short                                           \\\\\n\t 0004972::The Birth of a Nation (1915)::Drama\\textbar{}History\\textbar{}War                         \\\\\n\t ⋮\\\\\n\t 13996460::Apartment 407 (2019)::Thriller                                                         \\\\\n\t 14025788::Il Divin Codino (2021)::Biography\\textbar{}Drama\\textbar{}Sport                                          \\\\\n\t 14035292::Kid 90 (2021)::Documentary\\textbar{}Biography\\textbar{}History                                           \\\\\n\t 14058484::Biggie: I Got a Story to Tell (2021)::Documentary\\textbar{}Biography\\textbar{}Music                      \\\\\n\t 14062858::Us Again (2021)::Animation\\textbar{}Short\\textbar{}Family\\textbar{}Musical                                        \\\\\n\t 14078164::Nate Bargatze: The Greatest Average American (2021)::Comedy                            \\\\\n\t 14091818::Ajeeb Daastaans (2021)::Drama\\textbar{}Romance                                                  \\\\\n\t 14111726::Cabras da Peste (2021)::Action\\textbar{}Comedy\\textbar{}Crime                                            \\\\\n\t 14111734::Operation Varsity Blues: The College Admissions Scandal (2021)::Documentary\\textbar{}Crime\\textbar{}Drama\\\\\n\t 14117288::Oprah with Meghan and Harry: A CBS Primetime Special (2021)::Talk-Show                 \\\\\n\t 14152756::Seaspiracy (2021)::Documentary                                                         \\\\\n\t 14156926::Dardara (2021)::Documentary\\textbar{}Music                                                      \\\\\n\t 14164234::Ride or Die (2021)::Drama\\textbar{}Romance\\textbar{}Thriller                                             \\\\\n\t 14217100::Ferry (2021)::Action\\textbar{}Crime\\textbar{}Drama\\textbar{}Thriller                                              \\\\\n\t 14219522::Dying Is Easy (2021)::Short\\textbar{}Action                                                     \\\\\n\t 14220316::Save Ralph (2021)::Animation\\textbar{}Short                                                     \\\\\n\t 14237412::Diablada (2020)::Drama\\textbar{}Thriller                                                        \\\\\n\t 14264844::P!nk: All I Know So Far (2021)::Documentary\\textbar{}Biography\\textbar{}Music                            \\\\\n\t 14280066::The Box (2021)::Drama\\textbar{}Music\\textbar{}Musical                                                    \\\\\n\t 14318270::Louis Theroux: Shooting Joe Exotic (2021)::Documentary                                 \\\\\n\t 14318430::Why Did You Kill Me? (2021)::Documentary\\textbar{}Crime                                         \\\\\n\t 14372240::The Year Earth Changed (2021)::Documentary                                             \\\\\n\t 14404280::Homunculus (2021)::Drama\\textbar{}Fantasy\\textbar{}Mystery                                               \\\\\n\t 14404882::King Otto (2021)::Documentary\\textbar{}Sport                                                    \\\\\n\t 14450630::What Drives Us (2021)::Documentary                                                     \\\\\n\t 14499632::22 vs. Earth (2021)::Animation\\textbar{}Short\\textbar{}Adventure                                         \\\\\n\t 14527836::Recalled (2021)::Drama\\textbar{}Mystery\\textbar{}Thriller                                                \\\\\n\t 14544192::Bo Burnham: Inside (2021)::Comedy\\textbar{}Drama\\textbar{}Music                                          \\\\\n\t 14735160::Mum is Pregnant (2021)::None                                                           \\\\\n\t 14740904::Juanes: Origen (2021)::Documentary                                                     \\\\\n\\end{tabular}\n",
            "text/plain": [
              "      V1                                                                                               \n",
              "1     0000008::Edison Kinetoscopic Record of a Sneeze (1894)::Documentary|Short                        \n",
              "2     0000010::La sortie des usines Lumière (1895)::Documentary|Short                                  \n",
              "3     0000012::The Arrival of a Train (1896)::Documentary|Short                                        \n",
              "4     25::The Oxford and Cambridge University Boat Race (1895)::None                                   \n",
              "5     0000091::Le manoir du diable (1896)::Short|Horror                                                \n",
              "6     0000131::Une nuit terrible (1896)::Short|Comedy|Horror                                           \n",
              "7     0000417::A Trip to the Moon (1902)::Short|Action|Adventure|Comedy|Fantasy|Sci-Fi                 \n",
              "8     0000439::The Great Train Robbery (1903)::Short|Action|Crime|Western                              \n",
              "9     0443::Hiawatha, the Messiah of the Ojibway (1903)::None                                          \n",
              "10    0000628::The Adventures of Dollie (1908)::Action|Short                                           \n",
              "11    0000833::The Country Doctor (1909)::Short|Drama                                                  \n",
              "12    0001223::Frankenstein (1910)::Short|Horror|Sci-Fi                                                \n",
              "13    0001740::The Lonedale Operator (1911)::Short|Drama|Romance                                       \n",
              "14    0002101::Cleopatra (1912)::Drama|History                                                         \n",
              "15    0002130::L'inferno (1911)::Adventure|Drama|Fantasy|Horror                                        \n",
              "16    0002354::Max et Jane veulent faire du théâtre (1911)::Short|Comedy|Romance                       \n",
              "17    0002844::Fantômas - À l'ombre de la guillotine (1913)::Crime|Drama                               \n",
              "18    0003740::Cabiria (1914)::Adventure|Drama|History                                                 \n",
              "19    0003863::Dough and Dynamite (1914)::Comedy|Short                                                 \n",
              "20    0004099::His Majesty, the Scarecrow of Oz (1914)::Family|Fantasy|Adventure|Comedy                \n",
              "21    0004100::His Musical Career (1914)::Short|Comedy                                                 \n",
              "22    0004101::His New Profession (1914)::Short|Comedy                                                 \n",
              "23    0004210::Laughing Gas (1914)::Short|Comedy                                                       \n",
              "24    0004395::The New Janitor (1914)::Short|Comedy                                                    \n",
              "25    0004413::The Ocean Waif (1916)::Short|Comedy|Drama                                               \n",
              "26    0004457::The Patchwork Girl of Oz (1914)::Adventure|Family|Fantasy                               \n",
              "27    0004518::Recreation (1914)::Comedy|Short                                                         \n",
              "28    0004546::The Rounders (1914)::Comedy|Short                                                       \n",
              "29    0004936::The Bank (1915)::Comedy|Short                                                           \n",
              "30    0004972::The Birth of a Nation (1915)::Drama|History|War                                         \n",
              "⋮     ⋮                                                                                                \n",
              "37313 13996460::Apartment 407 (2019)::Thriller                                                         \n",
              "37314 14025788::Il Divin Codino (2021)::Biography|Drama|Sport                                          \n",
              "37315 14035292::Kid 90 (2021)::Documentary|Biography|History                                           \n",
              "37316 14058484::Biggie: I Got a Story to Tell (2021)::Documentary|Biography|Music                      \n",
              "37317 14062858::Us Again (2021)::Animation|Short|Family|Musical                                        \n",
              "37318 14078164::Nate Bargatze: The Greatest Average American (2021)::Comedy                            \n",
              "37319 14091818::Ajeeb Daastaans (2021)::Drama|Romance                                                  \n",
              "37320 14111726::Cabras da Peste (2021)::Action|Comedy|Crime                                            \n",
              "37321 14111734::Operation Varsity Blues: The College Admissions Scandal (2021)::Documentary|Crime|Drama\n",
              "37322 14117288::Oprah with Meghan and Harry: A CBS Primetime Special (2021)::Talk-Show                 \n",
              "37323 14152756::Seaspiracy (2021)::Documentary                                                         \n",
              "37324 14156926::Dardara (2021)::Documentary|Music                                                      \n",
              "37325 14164234::Ride or Die (2021)::Drama|Romance|Thriller                                             \n",
              "37326 14217100::Ferry (2021)::Action|Crime|Drama|Thriller                                              \n",
              "37327 14219522::Dying Is Easy (2021)::Short|Action                                                     \n",
              "37328 14220316::Save Ralph (2021)::Animation|Short                                                     \n",
              "37329 14237412::Diablada (2020)::Drama|Thriller                                                        \n",
              "37330 14264844::P!nk: All I Know So Far (2021)::Documentary|Biography|Music                            \n",
              "37331 14280066::The Box (2021)::Drama|Music|Musical                                                    \n",
              "37332 14318270::Louis Theroux: Shooting Joe Exotic (2021)::Documentary                                 \n",
              "37333 14318430::Why Did You Kill Me? (2021)::Documentary|Crime                                         \n",
              "37334 14372240::The Year Earth Changed (2021)::Documentary                                             \n",
              "37335 14404280::Homunculus (2021)::Drama|Fantasy|Mystery                                               \n",
              "37336 14404882::King Otto (2021)::Documentary|Sport                                                    \n",
              "37337 14450630::What Drives Us (2021)::Documentary                                                     \n",
              "37338 14499632::22 vs. Earth (2021)::Animation|Short|Adventure                                         \n",
              "37339 14527836::Recalled (2021)::Drama|Mystery|Thriller                                                \n",
              "37340 14544192::Bo Burnham: Inside (2021)::Comedy|Drama|Music                                          \n",
              "37341 14735160::Mum is Pregnant (2021)::None                                                           \n",
              "37342 14740904::Juanes: Origen (2021)::Documentary                                                     "
            ]
          },
          "metadata": {}
        }
      ]
    },
    {
      "cell_type": "markdown",
      "source": [
        "<br>\n",
        "\n",
        "<br>"
      ],
      "metadata": {
        "id": "tU5bh5PznQ0M"
      }
    },
    {
      "cell_type": "markdown",
      "metadata": {
        "id": "Il9p6NNfnQ0N"
      },
      "source": [
        "<br>\n",
        "\n",
        "---"
      ]
    },
    {
      "cell_type": "markdown",
      "metadata": {
        "id": "wzBEy8rKnQ0O"
      },
      "source": [
        "####<font color=red>Task 3</font> - Extracting meaningful data fields from movie text\n"
      ]
    },
    {
      "cell_type": "markdown",
      "metadata": {
        "id": "7jr6-FaNnQ0O"
      },
      "source": [
        "<font color=red>Task 3.1</font>\n",
        "\n",
        "Each meaningful data field is separated by two colons `\"::\"`\n",
        "\n",
        "* Use `strsplit()` to split each string by the pattern `\"::\"`\n",
        "\n",
        "* What do you observe from the output? What is the `class()` of the output?\n"
      ]
    },
    {
      "cell_type": "code",
      "source": [
        "#3.1\n",
        "split_movies <- strsplit(movies$V1, \"::\")\n",
        "head(split_movies)\n",
        "class(split_movies)\n"
      ],
      "metadata": {
        "colab": {
          "base_uri": "https://localhost:8080/",
          "height": 167
        },
        "id": "aWPqaMJkbu2t",
        "outputId": "d391b34e-40e5-4023-970d-13ec8d7b6e38"
      },
      "execution_count": 37,
      "outputs": [
        {
          "output_type": "display_data",
          "data": {
            "text/html": [
              "<ol>\n",
              "\t<li><style>\n",
              ".list-inline {list-style: none; margin:0; padding: 0}\n",
              ".list-inline>li {display: inline-block}\n",
              ".list-inline>li:not(:last-child)::after {content: \"\\00b7\"; padding: 0 .5ex}\n",
              "</style>\n",
              "<ol class=list-inline><li>'0000008'</li><li>'Edison Kinetoscopic Record of a Sneeze (1894)'</li><li>'Documentary|Short'</li></ol>\n",
              "</li>\n",
              "\t<li><style>\n",
              ".list-inline {list-style: none; margin:0; padding: 0}\n",
              ".list-inline>li {display: inline-block}\n",
              ".list-inline>li:not(:last-child)::after {content: \"\\00b7\"; padding: 0 .5ex}\n",
              "</style>\n",
              "<ol class=list-inline><li>'0000010'</li><li>'La sortie des usines Lumière (1895)'</li><li>'Documentary|Short'</li></ol>\n",
              "</li>\n",
              "\t<li><style>\n",
              ".list-inline {list-style: none; margin:0; padding: 0}\n",
              ".list-inline>li {display: inline-block}\n",
              ".list-inline>li:not(:last-child)::after {content: \"\\00b7\"; padding: 0 .5ex}\n",
              "</style>\n",
              "<ol class=list-inline><li>'0000012'</li><li>'The Arrival of a Train (1896)'</li><li>'Documentary|Short'</li></ol>\n",
              "</li>\n",
              "\t<li><style>\n",
              ".list-inline {list-style: none; margin:0; padding: 0}\n",
              ".list-inline>li {display: inline-block}\n",
              ".list-inline>li:not(:last-child)::after {content: \"\\00b7\"; padding: 0 .5ex}\n",
              "</style>\n",
              "<ol class=list-inline><li>'25'</li><li>'The Oxford and Cambridge University Boat Race (1895)'</li><li>'None'</li></ol>\n",
              "</li>\n",
              "\t<li><style>\n",
              ".list-inline {list-style: none; margin:0; padding: 0}\n",
              ".list-inline>li {display: inline-block}\n",
              ".list-inline>li:not(:last-child)::after {content: \"\\00b7\"; padding: 0 .5ex}\n",
              "</style>\n",
              "<ol class=list-inline><li>'0000091'</li><li>'Le manoir du diable (1896)'</li><li>'Short|Horror'</li></ol>\n",
              "</li>\n",
              "\t<li><style>\n",
              ".list-inline {list-style: none; margin:0; padding: 0}\n",
              ".list-inline>li {display: inline-block}\n",
              ".list-inline>li:not(:last-child)::after {content: \"\\00b7\"; padding: 0 .5ex}\n",
              "</style>\n",
              "<ol class=list-inline><li>'0000131'</li><li>'Une nuit terrible (1896)'</li><li>'Short|Comedy|Horror'</li></ol>\n",
              "</li>\n",
              "</ol>\n"
            ],
            "text/markdown": "1. 1. '0000008'\n2. 'Edison Kinetoscopic Record of a Sneeze (1894)'\n3. 'Documentary|Short'\n\n\n\n2. 1. '0000010'\n2. 'La sortie des usines Lumière (1895)'\n3. 'Documentary|Short'\n\n\n\n3. 1. '0000012'\n2. 'The Arrival of a Train (1896)'\n3. 'Documentary|Short'\n\n\n\n4. 1. '25'\n2. 'The Oxford and Cambridge University Boat Race (1895)'\n3. 'None'\n\n\n\n5. 1. '0000091'\n2. 'Le manoir du diable (1896)'\n3. 'Short|Horror'\n\n\n\n6. 1. '0000131'\n2. 'Une nuit terrible (1896)'\n3. 'Short|Comedy|Horror'\n\n\n\n\n\n",
            "text/latex": "\\begin{enumerate}\n\\item \\begin{enumerate*}\n\\item '0000008'\n\\item 'Edison Kinetoscopic Record of a Sneeze (1894)'\n\\item 'Documentary\\textbar{}Short'\n\\end{enumerate*}\n\n\\item \\begin{enumerate*}\n\\item '0000010'\n\\item 'La sortie des usines Lumière (1895)'\n\\item 'Documentary\\textbar{}Short'\n\\end{enumerate*}\n\n\\item \\begin{enumerate*}\n\\item '0000012'\n\\item 'The Arrival of a Train (1896)'\n\\item 'Documentary\\textbar{}Short'\n\\end{enumerate*}\n\n\\item \\begin{enumerate*}\n\\item '25'\n\\item 'The Oxford and Cambridge University Boat Race (1895)'\n\\item 'None'\n\\end{enumerate*}\n\n\\item \\begin{enumerate*}\n\\item '0000091'\n\\item 'Le manoir du diable (1896)'\n\\item 'Short\\textbar{}Horror'\n\\end{enumerate*}\n\n\\item \\begin{enumerate*}\n\\item '0000131'\n\\item 'Une nuit terrible (1896)'\n\\item 'Short\\textbar{}Comedy\\textbar{}Horror'\n\\end{enumerate*}\n\n\\end{enumerate}\n",
            "text/plain": [
              "[[1]]\n",
              "[1] \"0000008\"                                      \n",
              "[2] \"Edison Kinetoscopic Record of a Sneeze (1894)\"\n",
              "[3] \"Documentary|Short\"                            \n",
              "\n",
              "[[2]]\n",
              "[1] \"0000010\"                             \"La sortie des usines Lumière (1895)\"\n",
              "[3] \"Documentary|Short\"                  \n",
              "\n",
              "[[3]]\n",
              "[1] \"0000012\"                       \"The Arrival of a Train (1896)\"\n",
              "[3] \"Documentary|Short\"            \n",
              "\n",
              "[[4]]\n",
              "[1] \"25\"                                                  \n",
              "[2] \"The Oxford and Cambridge University Boat Race (1895)\"\n",
              "[3] \"None\"                                                \n",
              "\n",
              "[[5]]\n",
              "[1] \"0000091\"                    \"Le manoir du diable (1896)\"\n",
              "[3] \"Short|Horror\"              \n",
              "\n",
              "[[6]]\n",
              "[1] \"0000131\"                  \"Une nuit terrible (1896)\"\n",
              "[3] \"Short|Comedy|Horror\"     \n"
            ]
          },
          "metadata": {}
        },
        {
          "output_type": "display_data",
          "data": {
            "text/html": [
              "'list'"
            ],
            "text/markdown": "'list'",
            "text/latex": "'list'",
            "text/plain": [
              "[1] \"list\""
            ]
          },
          "metadata": {}
        }
      ]
    },
    {
      "cell_type": "markdown",
      "source": [
        "<br>"
      ],
      "metadata": {
        "id": "1cx4Fd5GnuVh"
      }
    },
    {
      "cell_type": "markdown",
      "metadata": {
        "id": "j1waon6anvId"
      },
      "source": [
        "<font color=red>Task 3.2</font>\n",
        "\n",
        "* Use `do.call()` to row bind each list item into a single data frame. If the output is matrix, be sure to convert it to a data frame and store as the variable `movies_clean`\n",
        "\n",
        "  Hint: `do.call(rbind, output from Task 3.1)`\n",
        "\n",
        "* Rename each column to `\"movie_id\"`, `\"movie\"`, `\"genre\"`\n",
        "\n",
        "Your result should appear as follows:"
      ]
    },
    {
      "cell_type": "markdown",
      "source": [
        "![image.png](data:image/png;base64,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)"
      ],
      "metadata": {
        "id": "AydlHmHRc_Ay"
      }
    },
    {
      "cell_type": "code",
      "source": [
        "#3.2\n",
        "split_movies <- strsplit(movies$V1, \"::\")\n",
        "movies_clean <- as.data.frame(do.call(rbind, split_movies), stringsAsFactors = FALSE)\n",
        "colnames(movies_clean) <- c(\"movie_id\", \"movie\", \"genre\")\n",
        "head(movies_clean)\n"
      ],
      "metadata": {
        "colab": {
          "base_uri": "https://localhost:8080/",
          "height": 286
        },
        "id": "9qlrprgUcEs_",
        "outputId": "d5f82691-2c0c-46af-aa4a-c821d646e19c"
      },
      "execution_count": 45,
      "outputs": [
        {
          "output_type": "display_data",
          "data": {
            "text/html": [
              "<table class=\"dataframe\">\n",
              "<caption>A data.frame: 6 × 3</caption>\n",
              "<thead>\n",
              "\t<tr><th></th><th scope=col>movie_id</th><th scope=col>movie</th><th scope=col>genre</th></tr>\n",
              "\t<tr><th></th><th scope=col>&lt;chr&gt;</th><th scope=col>&lt;chr&gt;</th><th scope=col>&lt;chr&gt;</th></tr>\n",
              "</thead>\n",
              "<tbody>\n",
              "\t<tr><th scope=row>1</th><td>0000008</td><td>Edison Kinetoscopic Record of a Sneeze (1894)       </td><td>Documentary|Short  </td></tr>\n",
              "\t<tr><th scope=row>2</th><td>0000010</td><td>La sortie des usines Lumière (1895)                 </td><td>Documentary|Short  </td></tr>\n",
              "\t<tr><th scope=row>3</th><td>0000012</td><td>The Arrival of a Train (1896)                       </td><td>Documentary|Short  </td></tr>\n",
              "\t<tr><th scope=row>4</th><td>25     </td><td>The Oxford and Cambridge University Boat Race (1895)</td><td>None               </td></tr>\n",
              "\t<tr><th scope=row>5</th><td>0000091</td><td>Le manoir du diable (1896)                          </td><td>Short|Horror       </td></tr>\n",
              "\t<tr><th scope=row>6</th><td>0000131</td><td>Une nuit terrible (1896)                            </td><td>Short|Comedy|Horror</td></tr>\n",
              "</tbody>\n",
              "</table>\n"
            ],
            "text/markdown": "\nA data.frame: 6 × 3\n\n| <!--/--> | movie_id &lt;chr&gt; | movie &lt;chr&gt; | genre &lt;chr&gt; |\n|---|---|---|---|\n| 1 | 0000008 | Edison Kinetoscopic Record of a Sneeze (1894)        | Documentary|Short   |\n| 2 | 0000010 | La sortie des usines Lumière (1895)                  | Documentary|Short   |\n| 3 | 0000012 | The Arrival of a Train (1896)                        | Documentary|Short   |\n| 4 | 25      | The Oxford and Cambridge University Boat Race (1895) | None                |\n| 5 | 0000091 | Le manoir du diable (1896)                           | Short|Horror        |\n| 6 | 0000131 | Une nuit terrible (1896)                             | Short|Comedy|Horror |\n\n",
            "text/latex": "A data.frame: 6 × 3\n\\begin{tabular}{r|lll}\n  & movie\\_id & movie & genre\\\\\n  & <chr> & <chr> & <chr>\\\\\n\\hline\n\t1 & 0000008 & Edison Kinetoscopic Record of a Sneeze (1894)        & Documentary\\textbar{}Short  \\\\\n\t2 & 0000010 & La sortie des usines Lumière (1895)                  & Documentary\\textbar{}Short  \\\\\n\t3 & 0000012 & The Arrival of a Train (1896)                        & Documentary\\textbar{}Short  \\\\\n\t4 & 25      & The Oxford and Cambridge University Boat Race (1895) & None               \\\\\n\t5 & 0000091 & Le manoir du diable (1896)                           & Short\\textbar{}Horror       \\\\\n\t6 & 0000131 & Une nuit terrible (1896)                             & Short\\textbar{}Comedy\\textbar{}Horror\\\\\n\\end{tabular}\n",
            "text/plain": [
              "  movie_id movie                                               \n",
              "1 0000008  Edison Kinetoscopic Record of a Sneeze (1894)       \n",
              "2 0000010  La sortie des usines Lumière (1895)                 \n",
              "3 0000012  The Arrival of a Train (1896)                       \n",
              "4 25       The Oxford and Cambridge University Boat Race (1895)\n",
              "5 0000091  Le manoir du diable (1896)                          \n",
              "6 0000131  Une nuit terrible (1896)                            \n",
              "  genre              \n",
              "1 Documentary|Short  \n",
              "2 Documentary|Short  \n",
              "3 Documentary|Short  \n",
              "4 None               \n",
              "5 Short|Horror       \n",
              "6 Short|Comedy|Horror"
            ]
          },
          "metadata": {}
        }
      ]
    },
    {
      "cell_type": "markdown",
      "source": [
        "<br>"
      ],
      "metadata": {
        "id": "K3MCM3gepBg-"
      }
    },
    {
      "cell_type": "markdown",
      "metadata": {
        "id": "mAlg6WgupBg_"
      },
      "source": [
        "<font color=red>Task 3.3</font>\n",
        "\n",
        "* Extract the year of each movie from the `movie` column\n",
        "\n",
        "  Hint: Use `nchar()` and `substring()`\n",
        "\n",
        "* Store the result as the variable `year` in your `movies_clean` data frame\n",
        "\n",
        "Your result should appear as follows:"
      ]
    },
    {
      "cell_type": "markdown",
      "source": [
        "![image.png](data:image/png;base64,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)"
      ],
      "metadata": {
        "id": "722VkEYUdPBq"
      }
    },
    {
      "cell_type": "code",
      "source": [
        "#3.3\n",
        "movies_clean$year <- as.numeric(substring(movies_clean$movie, nchar(movies_clean$movie) - 4, nchar(movies_clean$movie) - 1))\n",
        "head(movies_clean)\n"
      ],
      "metadata": {
        "colab": {
          "base_uri": "https://localhost:8080/",
          "height": 286
        },
        "id": "LTQ8jMdhcS6t",
        "outputId": "d7f66bb9-8fd3-4011-b36f-33560a876bba"
      },
      "execution_count": 46,
      "outputs": [
        {
          "output_type": "display_data",
          "data": {
            "text/html": [
              "<table class=\"dataframe\">\n",
              "<caption>A data.frame: 6 × 4</caption>\n",
              "<thead>\n",
              "\t<tr><th></th><th scope=col>movie_id</th><th scope=col>movie</th><th scope=col>genre</th><th scope=col>year</th></tr>\n",
              "\t<tr><th></th><th scope=col>&lt;chr&gt;</th><th scope=col>&lt;chr&gt;</th><th scope=col>&lt;chr&gt;</th><th scope=col>&lt;dbl&gt;</th></tr>\n",
              "</thead>\n",
              "<tbody>\n",
              "\t<tr><th scope=row>1</th><td>0000008</td><td>Edison Kinetoscopic Record of a Sneeze (1894)       </td><td>Documentary|Short  </td><td>1894</td></tr>\n",
              "\t<tr><th scope=row>2</th><td>0000010</td><td>La sortie des usines Lumière (1895)                 </td><td>Documentary|Short  </td><td>1895</td></tr>\n",
              "\t<tr><th scope=row>3</th><td>0000012</td><td>The Arrival of a Train (1896)                       </td><td>Documentary|Short  </td><td>1896</td></tr>\n",
              "\t<tr><th scope=row>4</th><td>25     </td><td>The Oxford and Cambridge University Boat Race (1895)</td><td>None               </td><td>1895</td></tr>\n",
              "\t<tr><th scope=row>5</th><td>0000091</td><td>Le manoir du diable (1896)                          </td><td>Short|Horror       </td><td>1896</td></tr>\n",
              "\t<tr><th scope=row>6</th><td>0000131</td><td>Une nuit terrible (1896)                            </td><td>Short|Comedy|Horror</td><td>1896</td></tr>\n",
              "</tbody>\n",
              "</table>\n"
            ],
            "text/markdown": "\nA data.frame: 6 × 4\n\n| <!--/--> | movie_id &lt;chr&gt; | movie &lt;chr&gt; | genre &lt;chr&gt; | year &lt;dbl&gt; |\n|---|---|---|---|---|\n| 1 | 0000008 | Edison Kinetoscopic Record of a Sneeze (1894)        | Documentary|Short   | 1894 |\n| 2 | 0000010 | La sortie des usines Lumière (1895)                  | Documentary|Short   | 1895 |\n| 3 | 0000012 | The Arrival of a Train (1896)                        | Documentary|Short   | 1896 |\n| 4 | 25      | The Oxford and Cambridge University Boat Race (1895) | None                | 1895 |\n| 5 | 0000091 | Le manoir du diable (1896)                           | Short|Horror        | 1896 |\n| 6 | 0000131 | Une nuit terrible (1896)                             | Short|Comedy|Horror | 1896 |\n\n",
            "text/latex": "A data.frame: 6 × 4\n\\begin{tabular}{r|llll}\n  & movie\\_id & movie & genre & year\\\\\n  & <chr> & <chr> & <chr> & <dbl>\\\\\n\\hline\n\t1 & 0000008 & Edison Kinetoscopic Record of a Sneeze (1894)        & Documentary\\textbar{}Short   & 1894\\\\\n\t2 & 0000010 & La sortie des usines Lumière (1895)                  & Documentary\\textbar{}Short   & 1895\\\\\n\t3 & 0000012 & The Arrival of a Train (1896)                        & Documentary\\textbar{}Short   & 1896\\\\\n\t4 & 25      & The Oxford and Cambridge University Boat Race (1895) & None                & 1895\\\\\n\t5 & 0000091 & Le manoir du diable (1896)                           & Short\\textbar{}Horror        & 1896\\\\\n\t6 & 0000131 & Une nuit terrible (1896)                             & Short\\textbar{}Comedy\\textbar{}Horror & 1896\\\\\n\\end{tabular}\n",
            "text/plain": [
              "  movie_id movie                                               \n",
              "1 0000008  Edison Kinetoscopic Record of a Sneeze (1894)       \n",
              "2 0000010  La sortie des usines Lumière (1895)                 \n",
              "3 0000012  The Arrival of a Train (1896)                       \n",
              "4 25       The Oxford and Cambridge University Boat Race (1895)\n",
              "5 0000091  Le manoir du diable (1896)                          \n",
              "6 0000131  Une nuit terrible (1896)                            \n",
              "  genre               year\n",
              "1 Documentary|Short   1894\n",
              "2 Documentary|Short   1895\n",
              "3 Documentary|Short   1896\n",
              "4 None                1895\n",
              "5 Short|Horror        1896\n",
              "6 Short|Comedy|Horror 1896"
            ]
          },
          "metadata": {}
        }
      ]
    },
    {
      "cell_type": "markdown",
      "source": [
        "<br>"
      ],
      "metadata": {
        "id": "vYRJzxQQq9RK"
      }
    },
    {
      "cell_type": "markdown",
      "metadata": {
        "id": "B8eKWel2q9RM"
      },
      "source": [
        "<font color=red>Task 3.4</font>\n",
        "\n",
        "* Remove the year of each movie from the `movie` column. For example, the movie\n",
        "\n",
        "  `Edison Kinetoscopic Record of a Sneeze (1894)` should now be\n",
        "\n",
        "  `Edison Kinetoscopic Record of a Sneeze`\n",
        "\n",
        "  Hint: Again, use `nchar()` and `substring()`"
      ]
    },
    {
      "cell_type": "code",
      "source": [
        "#3.4\n",
        "movies_clean$movie <- substring(movies_clean$movie, 1, nchar(movies_clean$movie) - 7)\n",
        "head(movies_clean)\n",
        "\n"
      ],
      "metadata": {
        "colab": {
          "base_uri": "https://localhost:8080/",
          "height": 286
        },
        "id": "VU8UObH7cbar",
        "outputId": "b4166b05-e538-4007-d1da-715e9ce04907"
      },
      "execution_count": 54,
      "outputs": [
        {
          "output_type": "display_data",
          "data": {
            "text/html": [
              "<table class=\"dataframe\">\n",
              "<caption>A data.frame: 6 × 3</caption>\n",
              "<thead>\n",
              "\t<tr><th></th><th scope=col>movie</th><th scope=col>year</th><th scope=col>genre</th></tr>\n",
              "\t<tr><th></th><th scope=col>&lt;chr&gt;</th><th scope=col>&lt;dbl&gt;</th><th scope=col>&lt;chr&gt;</th></tr>\n",
              "</thead>\n",
              "<tbody>\n",
              "\t<tr><th scope=row>1</th><td>Edison Kinetoscopic Record of a       </td><td>1894</td><td>documentary, short   </td></tr>\n",
              "\t<tr><th scope=row>2</th><td>La sortie des usines                  </td><td>1895</td><td>documentary, short   </td></tr>\n",
              "\t<tr><th scope=row>3</th><td>The Arrival of                        </td><td>1896</td><td>documentary, short   </td></tr>\n",
              "\t<tr><th scope=row>4</th><td>The Oxford and Cambridge University Bo</td><td>1895</td><td>none                 </td></tr>\n",
              "\t<tr><th scope=row>5</th><td>Le manoir du                          </td><td>1896</td><td>short, horror        </td></tr>\n",
              "\t<tr><th scope=row>6</th><td>Une nuit t                            </td><td>1896</td><td>short, comedy, horror</td></tr>\n",
              "</tbody>\n",
              "</table>\n"
            ],
            "text/markdown": "\nA data.frame: 6 × 3\n\n| <!--/--> | movie &lt;chr&gt; | year &lt;dbl&gt; | genre &lt;chr&gt; |\n|---|---|---|---|\n| 1 | Edison Kinetoscopic Record of a        | 1894 | documentary, short    |\n| 2 | La sortie des usines                   | 1895 | documentary, short    |\n| 3 | The Arrival of                         | 1896 | documentary, short    |\n| 4 | The Oxford and Cambridge University Bo | 1895 | none                  |\n| 5 | Le manoir du                           | 1896 | short, horror         |\n| 6 | Une nuit t                             | 1896 | short, comedy, horror |\n\n",
            "text/latex": "A data.frame: 6 × 3\n\\begin{tabular}{r|lll}\n  & movie & year & genre\\\\\n  & <chr> & <dbl> & <chr>\\\\\n\\hline\n\t1 & Edison Kinetoscopic Record of a        & 1894 & documentary, short   \\\\\n\t2 & La sortie des usines                   & 1895 & documentary, short   \\\\\n\t3 & The Arrival of                         & 1896 & documentary, short   \\\\\n\t4 & The Oxford and Cambridge University Bo & 1895 & none                 \\\\\n\t5 & Le manoir du                           & 1896 & short, horror        \\\\\n\t6 & Une nuit t                             & 1896 & short, comedy, horror\\\\\n\\end{tabular}\n",
            "text/plain": [
              "  movie                                  year genre                \n",
              "1 Edison Kinetoscopic Record of a        1894 documentary, short   \n",
              "2 La sortie des usines                   1895 documentary, short   \n",
              "3 The Arrival of                         1896 documentary, short   \n",
              "4 The Oxford and Cambridge University Bo 1895 none                 \n",
              "5 Le manoir du                           1896 short, horror        \n",
              "6 Une nuit t                             1896 short, comedy, horror"
            ]
          },
          "metadata": {}
        }
      ]
    },
    {
      "cell_type": "markdown",
      "source": [
        "<br>"
      ],
      "metadata": {
        "id": "FxAbbc1YZqFh"
      }
    },
    {
      "cell_type": "markdown",
      "source": [
        "<font color=red>Task 3.5</font>\n",
        "\n",
        "* Overwrite your `movie` column with this result\n",
        "\n",
        "Your result should appear as follows:"
      ],
      "metadata": {
        "id": "0xdJgi2RZm9d"
      }
    },
    {
      "cell_type": "markdown",
      "source": [
        "![image.png](data:image/png;base64,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)"
      ],
      "metadata": {
        "id": "sySehaZAdcVs"
      }
    },
    {
      "cell_type": "code",
      "source": [
        "#3.5\n",
        "head(movies_clean)"
      ],
      "metadata": {
        "colab": {
          "base_uri": "https://localhost:8080/",
          "height": 286
        },
        "id": "rSWTdzItci2l",
        "outputId": "f8ae6ede-13ed-42aa-ab67-3d4d85623d19"
      },
      "execution_count": 48,
      "outputs": [
        {
          "output_type": "display_data",
          "data": {
            "text/html": [
              "<table class=\"dataframe\">\n",
              "<caption>A data.frame: 6 × 4</caption>\n",
              "<thead>\n",
              "\t<tr><th></th><th scope=col>movie_id</th><th scope=col>movie</th><th scope=col>genre</th><th scope=col>year</th></tr>\n",
              "\t<tr><th></th><th scope=col>&lt;chr&gt;</th><th scope=col>&lt;chr&gt;</th><th scope=col>&lt;chr&gt;</th><th scope=col>&lt;dbl&gt;</th></tr>\n",
              "</thead>\n",
              "<tbody>\n",
              "\t<tr><th scope=row>1</th><td>0000008</td><td>Edison Kinetoscopic Record of a Sneeze       </td><td>Documentary|Short  </td><td>1894</td></tr>\n",
              "\t<tr><th scope=row>2</th><td>0000010</td><td>La sortie des usines Lumière                 </td><td>Documentary|Short  </td><td>1895</td></tr>\n",
              "\t<tr><th scope=row>3</th><td>0000012</td><td>The Arrival of a Train                       </td><td>Documentary|Short  </td><td>1896</td></tr>\n",
              "\t<tr><th scope=row>4</th><td>25     </td><td>The Oxford and Cambridge University Boat Race</td><td>None               </td><td>1895</td></tr>\n",
              "\t<tr><th scope=row>5</th><td>0000091</td><td>Le manoir du diable                          </td><td>Short|Horror       </td><td>1896</td></tr>\n",
              "\t<tr><th scope=row>6</th><td>0000131</td><td>Une nuit terrible                            </td><td>Short|Comedy|Horror</td><td>1896</td></tr>\n",
              "</tbody>\n",
              "</table>\n"
            ],
            "text/markdown": "\nA data.frame: 6 × 4\n\n| <!--/--> | movie_id &lt;chr&gt; | movie &lt;chr&gt; | genre &lt;chr&gt; | year &lt;dbl&gt; |\n|---|---|---|---|---|\n| 1 | 0000008 | Edison Kinetoscopic Record of a Sneeze        | Documentary|Short   | 1894 |\n| 2 | 0000010 | La sortie des usines Lumière                  | Documentary|Short   | 1895 |\n| 3 | 0000012 | The Arrival of a Train                        | Documentary|Short   | 1896 |\n| 4 | 25      | The Oxford and Cambridge University Boat Race | None                | 1895 |\n| 5 | 0000091 | Le manoir du diable                           | Short|Horror        | 1896 |\n| 6 | 0000131 | Une nuit terrible                             | Short|Comedy|Horror | 1896 |\n\n",
            "text/latex": "A data.frame: 6 × 4\n\\begin{tabular}{r|llll}\n  & movie\\_id & movie & genre & year\\\\\n  & <chr> & <chr> & <chr> & <dbl>\\\\\n\\hline\n\t1 & 0000008 & Edison Kinetoscopic Record of a Sneeze        & Documentary\\textbar{}Short   & 1894\\\\\n\t2 & 0000010 & La sortie des usines Lumière                  & Documentary\\textbar{}Short   & 1895\\\\\n\t3 & 0000012 & The Arrival of a Train                        & Documentary\\textbar{}Short   & 1896\\\\\n\t4 & 25      & The Oxford and Cambridge University Boat Race & None                & 1895\\\\\n\t5 & 0000091 & Le manoir du diable                           & Short\\textbar{}Horror        & 1896\\\\\n\t6 & 0000131 & Une nuit terrible                             & Short\\textbar{}Comedy\\textbar{}Horror & 1896\\\\\n\\end{tabular}\n",
            "text/plain": [
              "  movie_id movie                                         genre              \n",
              "1 0000008  Edison Kinetoscopic Record of a Sneeze        Documentary|Short  \n",
              "2 0000010  La sortie des usines Lumière                  Documentary|Short  \n",
              "3 0000012  The Arrival of a Train                        Documentary|Short  \n",
              "4 25       The Oxford and Cambridge University Boat Race None               \n",
              "5 0000091  Le manoir du diable                           Short|Horror       \n",
              "6 0000131  Une nuit terrible                             Short|Comedy|Horror\n",
              "  year\n",
              "1 1894\n",
              "2 1895\n",
              "3 1896\n",
              "4 1895\n",
              "5 1896\n",
              "6 1896"
            ]
          },
          "metadata": {}
        }
      ]
    },
    {
      "cell_type": "markdown",
      "source": [
        "<br>\n",
        "\n",
        "<br>"
      ],
      "metadata": {
        "id": "U7lE-V0RqtAj"
      }
    },
    {
      "cell_type": "markdown",
      "metadata": {
        "id": "78M2QOOcqtAk"
      },
      "source": [
        "<br>\n",
        "\n",
        "---"
      ]
    },
    {
      "cell_type": "markdown",
      "metadata": {
        "id": "hsu408bsqtAl"
      },
      "source": [
        "####<font color=red>Task 4</font> - Formatting the genres\n"
      ]
    },
    {
      "cell_type": "markdown",
      "metadata": {
        "id": "BiFYD-Fdp0pG"
      },
      "source": [
        "<font color=red>Task 4.1</font>\n",
        "\n",
        "* Use `gsub()` to replace all vertical bars `\"\\\\|\"` in the `genre` column to a comma and space `\", \"`\n",
        "\n",
        "  Note that the vertical bar needs the escape backslash!\n",
        "\n",
        "* Overwrite the `genre` column with your result"
      ]
    },
    {
      "cell_type": "code",
      "source": [
        "#4.1\n",
        "movies_clean$genre <- gsub(\"\\\\|\", \", \", movies_clean$genre)\n",
        "head(movies_clean)\n"
      ],
      "metadata": {
        "colab": {
          "base_uri": "https://localhost:8080/",
          "height": 286
        },
        "id": "jMRJa-cAdK-x",
        "outputId": "8ae42c03-44f4-4250-85af-d4199a54f506"
      },
      "execution_count": 49,
      "outputs": [
        {
          "output_type": "display_data",
          "data": {
            "text/html": [
              "<table class=\"dataframe\">\n",
              "<caption>A data.frame: 6 × 4</caption>\n",
              "<thead>\n",
              "\t<tr><th></th><th scope=col>movie_id</th><th scope=col>movie</th><th scope=col>genre</th><th scope=col>year</th></tr>\n",
              "\t<tr><th></th><th scope=col>&lt;chr&gt;</th><th scope=col>&lt;chr&gt;</th><th scope=col>&lt;chr&gt;</th><th scope=col>&lt;dbl&gt;</th></tr>\n",
              "</thead>\n",
              "<tbody>\n",
              "\t<tr><th scope=row>1</th><td>0000008</td><td>Edison Kinetoscopic Record of a Sneeze       </td><td>Documentary, Short   </td><td>1894</td></tr>\n",
              "\t<tr><th scope=row>2</th><td>0000010</td><td>La sortie des usines Lumière                 </td><td>Documentary, Short   </td><td>1895</td></tr>\n",
              "\t<tr><th scope=row>3</th><td>0000012</td><td>The Arrival of a Train                       </td><td>Documentary, Short   </td><td>1896</td></tr>\n",
              "\t<tr><th scope=row>4</th><td>25     </td><td>The Oxford and Cambridge University Boat Race</td><td>None                 </td><td>1895</td></tr>\n",
              "\t<tr><th scope=row>5</th><td>0000091</td><td>Le manoir du diable                          </td><td>Short, Horror        </td><td>1896</td></tr>\n",
              "\t<tr><th scope=row>6</th><td>0000131</td><td>Une nuit terrible                            </td><td>Short, Comedy, Horror</td><td>1896</td></tr>\n",
              "</tbody>\n",
              "</table>\n"
            ],
            "text/markdown": "\nA data.frame: 6 × 4\n\n| <!--/--> | movie_id &lt;chr&gt; | movie &lt;chr&gt; | genre &lt;chr&gt; | year &lt;dbl&gt; |\n|---|---|---|---|---|\n| 1 | 0000008 | Edison Kinetoscopic Record of a Sneeze        | Documentary, Short    | 1894 |\n| 2 | 0000010 | La sortie des usines Lumière                  | Documentary, Short    | 1895 |\n| 3 | 0000012 | The Arrival of a Train                        | Documentary, Short    | 1896 |\n| 4 | 25      | The Oxford and Cambridge University Boat Race | None                  | 1895 |\n| 5 | 0000091 | Le manoir du diable                           | Short, Horror         | 1896 |\n| 6 | 0000131 | Une nuit terrible                             | Short, Comedy, Horror | 1896 |\n\n",
            "text/latex": "A data.frame: 6 × 4\n\\begin{tabular}{r|llll}\n  & movie\\_id & movie & genre & year\\\\\n  & <chr> & <chr> & <chr> & <dbl>\\\\\n\\hline\n\t1 & 0000008 & Edison Kinetoscopic Record of a Sneeze        & Documentary, Short    & 1894\\\\\n\t2 & 0000010 & La sortie des usines Lumière                  & Documentary, Short    & 1895\\\\\n\t3 & 0000012 & The Arrival of a Train                        & Documentary, Short    & 1896\\\\\n\t4 & 25      & The Oxford and Cambridge University Boat Race & None                  & 1895\\\\\n\t5 & 0000091 & Le manoir du diable                           & Short, Horror         & 1896\\\\\n\t6 & 0000131 & Une nuit terrible                             & Short, Comedy, Horror & 1896\\\\\n\\end{tabular}\n",
            "text/plain": [
              "  movie_id movie                                         genre                \n",
              "1 0000008  Edison Kinetoscopic Record of a Sneeze        Documentary, Short   \n",
              "2 0000010  La sortie des usines Lumière                  Documentary, Short   \n",
              "3 0000012  The Arrival of a Train                        Documentary, Short   \n",
              "4 25       The Oxford and Cambridge University Boat Race None                 \n",
              "5 0000091  Le manoir du diable                           Short, Horror        \n",
              "6 0000131  Une nuit terrible                             Short, Comedy, Horror\n",
              "  year\n",
              "1 1894\n",
              "2 1895\n",
              "3 1896\n",
              "4 1895\n",
              "5 1896\n",
              "6 1896"
            ]
          },
          "metadata": {}
        }
      ]
    },
    {
      "cell_type": "markdown",
      "source": [
        "<br>"
      ],
      "metadata": {
        "id": "rTNgpGMlqGMJ"
      }
    },
    {
      "cell_type": "markdown",
      "metadata": {
        "id": "HkuZOZWBsVxG"
      },
      "source": [
        "<font color=red>Task 4.2</font>\n",
        "\n",
        "* Use `tolower()` to convert all genres to lower case\n",
        "\n",
        "* Overwrite the `genre` column with your result"
      ]
    },
    {
      "cell_type": "code",
      "source": [
        "#4.2\n",
        "movies_clean$genre <- tolower(movies_clean$genre)\n",
        "head(movies_clean)\n",
        "\n"
      ],
      "metadata": {
        "colab": {
          "base_uri": "https://localhost:8080/",
          "height": 286
        },
        "id": "YNVI0oKDdRi1",
        "outputId": "01b0819d-4f42-4b2c-be73-3f68da2fadc9"
      },
      "execution_count": 53,
      "outputs": [
        {
          "output_type": "display_data",
          "data": {
            "text/html": [
              "<table class=\"dataframe\">\n",
              "<caption>A data.frame: 6 × 3</caption>\n",
              "<thead>\n",
              "\t<tr><th></th><th scope=col>movie</th><th scope=col>year</th><th scope=col>genre</th></tr>\n",
              "\t<tr><th></th><th scope=col>&lt;chr&gt;</th><th scope=col>&lt;dbl&gt;</th><th scope=col>&lt;chr&gt;</th></tr>\n",
              "</thead>\n",
              "<tbody>\n",
              "\t<tr><th scope=row>1</th><td>Edison Kinetoscopic Record of a Sneeze       </td><td>1894</td><td>documentary, short   </td></tr>\n",
              "\t<tr><th scope=row>2</th><td>La sortie des usines Lumière                 </td><td>1895</td><td>documentary, short   </td></tr>\n",
              "\t<tr><th scope=row>3</th><td>The Arrival of a Train                       </td><td>1896</td><td>documentary, short   </td></tr>\n",
              "\t<tr><th scope=row>4</th><td>The Oxford and Cambridge University Boat Race</td><td>1895</td><td>none                 </td></tr>\n",
              "\t<tr><th scope=row>5</th><td>Le manoir du diable                          </td><td>1896</td><td>short, horror        </td></tr>\n",
              "\t<tr><th scope=row>6</th><td>Une nuit terrible                            </td><td>1896</td><td>short, comedy, horror</td></tr>\n",
              "</tbody>\n",
              "</table>\n"
            ],
            "text/markdown": "\nA data.frame: 6 × 3\n\n| <!--/--> | movie &lt;chr&gt; | year &lt;dbl&gt; | genre &lt;chr&gt; |\n|---|---|---|---|\n| 1 | Edison Kinetoscopic Record of a Sneeze        | 1894 | documentary, short    |\n| 2 | La sortie des usines Lumière                  | 1895 | documentary, short    |\n| 3 | The Arrival of a Train                        | 1896 | documentary, short    |\n| 4 | The Oxford and Cambridge University Boat Race | 1895 | none                  |\n| 5 | Le manoir du diable                           | 1896 | short, horror         |\n| 6 | Une nuit terrible                             | 1896 | short, comedy, horror |\n\n",
            "text/latex": "A data.frame: 6 × 3\n\\begin{tabular}{r|lll}\n  & movie & year & genre\\\\\n  & <chr> & <dbl> & <chr>\\\\\n\\hline\n\t1 & Edison Kinetoscopic Record of a Sneeze        & 1894 & documentary, short   \\\\\n\t2 & La sortie des usines Lumière                  & 1895 & documentary, short   \\\\\n\t3 & The Arrival of a Train                        & 1896 & documentary, short   \\\\\n\t4 & The Oxford and Cambridge University Boat Race & 1895 & none                 \\\\\n\t5 & Le manoir du diable                           & 1896 & short, horror        \\\\\n\t6 & Une nuit terrible                             & 1896 & short, comedy, horror\\\\\n\\end{tabular}\n",
            "text/plain": [
              "  movie                                         year genre                \n",
              "1 Edison Kinetoscopic Record of a Sneeze        1894 documentary, short   \n",
              "2 La sortie des usines Lumière                  1895 documentary, short   \n",
              "3 The Arrival of a Train                        1896 documentary, short   \n",
              "4 The Oxford and Cambridge University Boat Race 1895 none                 \n",
              "5 Le manoir du diable                           1896 short, horror        \n",
              "6 Une nuit terrible                             1896 short, comedy, horror"
            ]
          },
          "metadata": {}
        }
      ]
    },
    {
      "cell_type": "markdown",
      "source": [
        "<br>"
      ],
      "metadata": {
        "id": "Q716YCAAbRRR"
      }
    },
    {
      "cell_type": "markdown",
      "metadata": {
        "id": "bZtNIJqkbRRT"
      },
      "source": [
        "<font color=red>Task 4.3</font>\n",
        "\n",
        "* Create a new data frame from the `movies_clean` data frame with the following columns\n",
        "  * `movie`\n",
        "  * `year`\n",
        "  * `genre`\n",
        "\n",
        "  Note that `movie_id` is being removed\n",
        "\n",
        "  Your result should appear as follows:\n"
      ]
    },
    {
      "cell_type": "code",
      "source": [
        "#4.3\n",
        "movies_clean <- movies_clean[, c(\"movie\", \"year\", \"genre\")]\n",
        "head(movies_clean)\n",
        "\n"
      ],
      "metadata": {
        "colab": {
          "base_uri": "https://localhost:8080/",
          "height": 286
        },
        "id": "VoJg8pDHdf-M",
        "outputId": "795f2e0e-418d-489a-e600-25a78d8d033b"
      },
      "execution_count": 52,
      "outputs": [
        {
          "output_type": "display_data",
          "data": {
            "text/html": [
              "<table class=\"dataframe\">\n",
              "<caption>A data.frame: 6 × 3</caption>\n",
              "<thead>\n",
              "\t<tr><th></th><th scope=col>movie</th><th scope=col>year</th><th scope=col>genre</th></tr>\n",
              "\t<tr><th></th><th scope=col>&lt;chr&gt;</th><th scope=col>&lt;dbl&gt;</th><th scope=col>&lt;chr&gt;</th></tr>\n",
              "</thead>\n",
              "<tbody>\n",
              "\t<tr><th scope=row>1</th><td>Edison Kinetoscopic Record of a Sneeze       </td><td>1894</td><td>documentary, short   </td></tr>\n",
              "\t<tr><th scope=row>2</th><td>La sortie des usines Lumière                 </td><td>1895</td><td>documentary, short   </td></tr>\n",
              "\t<tr><th scope=row>3</th><td>The Arrival of a Train                       </td><td>1896</td><td>documentary, short   </td></tr>\n",
              "\t<tr><th scope=row>4</th><td>The Oxford and Cambridge University Boat Race</td><td>1895</td><td>none                 </td></tr>\n",
              "\t<tr><th scope=row>5</th><td>Le manoir du diable                          </td><td>1896</td><td>short, horror        </td></tr>\n",
              "\t<tr><th scope=row>6</th><td>Une nuit terrible                            </td><td>1896</td><td>short, comedy, horror</td></tr>\n",
              "</tbody>\n",
              "</table>\n"
            ],
            "text/markdown": "\nA data.frame: 6 × 3\n\n| <!--/--> | movie &lt;chr&gt; | year &lt;dbl&gt; | genre &lt;chr&gt; |\n|---|---|---|---|\n| 1 | Edison Kinetoscopic Record of a Sneeze        | 1894 | documentary, short    |\n| 2 | La sortie des usines Lumière                  | 1895 | documentary, short    |\n| 3 | The Arrival of a Train                        | 1896 | documentary, short    |\n| 4 | The Oxford and Cambridge University Boat Race | 1895 | none                  |\n| 5 | Le manoir du diable                           | 1896 | short, horror         |\n| 6 | Une nuit terrible                             | 1896 | short, comedy, horror |\n\n",
            "text/latex": "A data.frame: 6 × 3\n\\begin{tabular}{r|lll}\n  & movie & year & genre\\\\\n  & <chr> & <dbl> & <chr>\\\\\n\\hline\n\t1 & Edison Kinetoscopic Record of a Sneeze        & 1894 & documentary, short   \\\\\n\t2 & La sortie des usines Lumière                  & 1895 & documentary, short   \\\\\n\t3 & The Arrival of a Train                        & 1896 & documentary, short   \\\\\n\t4 & The Oxford and Cambridge University Boat Race & 1895 & none                 \\\\\n\t5 & Le manoir du diable                           & 1896 & short, horror        \\\\\n\t6 & Une nuit terrible                             & 1896 & short, comedy, horror\\\\\n\\end{tabular}\n",
            "text/plain": [
              "  movie                                         year genre                \n",
              "1 Edison Kinetoscopic Record of a Sneeze        1894 documentary, short   \n",
              "2 La sortie des usines Lumière                  1895 documentary, short   \n",
              "3 The Arrival of a Train                        1896 documentary, short   \n",
              "4 The Oxford and Cambridge University Boat Race 1895 none                 \n",
              "5 Le manoir du diable                           1896 short, horror        \n",
              "6 Une nuit terrible                             1896 short, comedy, horror"
            ]
          },
          "metadata": {}
        }
      ]
    },
    {
      "cell_type": "markdown",
      "source": [
        "<br>\n",
        "\n",
        "<br>"
      ],
      "metadata": {
        "id": "n1uPKdYHm2rm"
      }
    },
    {
      "cell_type": "markdown",
      "metadata": {
        "id": "oGY5P2njw9vm"
      },
      "source": [
        "<br>\n",
        "\n",
        "---"
      ]
    },
    {
      "cell_type": "markdown",
      "metadata": {
        "id": "JFP93Hmow9vm"
      },
      "source": [
        "####<font color=red>Task 5 (Optional)</font> - Formatting the genres\n"
      ]
    },
    {
      "cell_type": "markdown",
      "metadata": {
        "id": "mxHY5fCPs8s6"
      },
      "source": [
        "<font color=red>Task 5.1</font>\n",
        "\n",
        "Thus far, we have only clean the first 10 movies in the dataset.\n",
        "\n",
        "* Repeat the previous steps to clean the entire movies dataset."
      ]
    }
  ],
  "metadata": {
    "colab": {
      "provenance": []
    },
    "kernelspec": {
      "display_name": "R",
      "name": "ir"
    }
  },
  "nbformat": 4,
  "nbformat_minor": 0
}