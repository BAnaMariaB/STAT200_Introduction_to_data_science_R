{
  "cells": [
    {
      "cell_type": "markdown",
      "metadata": {
        "id": "gtETsh5j8vHw"
      },
      "source": [
        "# **Practice 08: Boolean Operators and More Subsetting**\n",
        "\n",
        "#### **WRITE YOUR NAME HERE**"
      ]
    },
    {
      "cell_type": "markdown",
      "metadata": {
        "id": "Efu_Sse0Wp6P"
      },
      "source": [
        "---\n",
        "\n",
        "**IMPORTANT**:\n",
        "- Before starting the lab, save a copy to your google drive by navigating to `File > Save a copy in Drive` <br>\n",
        "\n",
        "<br>\n",
        "\n",
        "\n",
        "**Instructions**: Complete the lab below.\n",
        "\n",
        "- <font color=red>Tasks</font> indicated in red must be completed to receive credit\n",
        "- Include all code for your work\n",
        "- Include markdown cells with written answers explaining your work when prompted\n",
        "- **NOTE: Your completed lab must be submitted to Canvas as a .ipynb file by the end of the lab session**\n",
        "---"
      ]
    },
    {
      "cell_type": "markdown",
      "metadata": {
        "id": "wFVxj8nD-yIt"
      },
      "source": [
        "<br>"
      ]
    },
    {
      "cell_type": "markdown",
      "metadata": {
        "id": "omeTfTlN4Npb"
      },
      "source": [
        "####<font color=red>Organized</font>\n",
        "\n",
        "**Answers should be organized in the following format for organization and readability**\n"
      ]
    },
    {
      "cell_type": "markdown",
      "metadata": {
        "id": "uLialHuQ4-vU"
      },
      "source": [
        "<font color=red>Example task 1</font>"
      ]
    },
    {
      "cell_type": "code",
      "execution_count": null,
      "metadata": {
        "id": "Mxff4INi5Evt"
      },
      "outputs": [],
      "source": [
        "# 1.\n",
        "\n",
        "# This will be the code block to answer the first part of a task"
      ]
    },
    {
      "cell_type": "markdown",
      "metadata": {
        "id": "A-GtymRS5Syz"
      },
      "source": [
        "1. This will be the text answer/explanation (if prompted) for the first task"
      ]
    },
    {
      "cell_type": "markdown",
      "metadata": {
        "id": "fDAMP6ZC5Zqp"
      },
      "source": [
        "<font color=red>Example task 2</font>"
      ]
    },
    {
      "cell_type": "code",
      "execution_count": null,
      "metadata": {
        "id": "K94QMtU55Zqp"
      },
      "outputs": [],
      "source": [
        "# 2.\n",
        "\n",
        "# This will be the code block to answer the second part of a task"
      ]
    },
    {
      "cell_type": "markdown",
      "metadata": {
        "id": "xRfvDNu25Zqp"
      },
      "source": [
        "2. This will be the text answer/explanation (if prompted) for the second task"
      ]
    },
    {
      "cell_type": "markdown",
      "metadata": {
        "id": "JIEIhg5I5JfN"
      },
      "source": [
        "<br>\n",
        "\n",
        "Continue this format for the remaining subtasks\n"
      ]
    },
    {
      "cell_type": "markdown",
      "metadata": {
        "id": "rcQECH5y4RiC"
      },
      "source": [
        "<br>"
      ]
    },
    {
      "cell_type": "markdown",
      "metadata": {
        "id": "jFiNcIjpjFs7"
      },
      "source": [
        "---\n",
        "\n",
        "<br>"
      ]
    },
    {
      "cell_type": "markdown",
      "metadata": {
        "id": "QdyJzDgAsFNZ"
      },
      "source": [
        "#### Packages"
      ]
    },
    {
      "cell_type": "code",
      "execution_count": 2,
      "metadata": {
        "id": "O-drIaQ-4cWQ",
        "colab": {
          "base_uri": "https://localhost:8080/"
        },
        "outputId": "ce1a4f6a-3725-4a9c-ea7b-dbe6a073ce31"
      },
      "outputs": [
        {
          "output_type": "stream",
          "name": "stderr",
          "text": [
            "Installing package into ‘/usr/local/lib/R/site-library’\n",
            "(as ‘lib’ is unspecified)\n",
            "\n",
            "Installing package into ‘/usr/local/lib/R/site-library’\n",
            "(as ‘lib’ is unspecified)\n",
            "\n"
          ]
        }
      ],
      "source": [
        "# install packages for today's lecture\n",
        "install.packages(\"dslabs\")\n",
        "install.packages(\"pheatmap\")  # package for heatmap"
      ]
    },
    {
      "cell_type": "code",
      "execution_count": 3,
      "metadata": {
        "id": "fYGjK4oX4jSn"
      },
      "outputs": [],
      "source": [
        "# load the necessary packages\n",
        "library(dslabs)\n",
        "library(pheatmap)"
      ]
    },
    {
      "cell_type": "markdown",
      "metadata": {
        "id": "5hXqBQkzhere"
      },
      "source": [
        "<br>\n",
        "\n",
        "<br>"
      ]
    },
    {
      "cell_type": "markdown",
      "metadata": {
        "id": "Q4n93wPOXOPB"
      },
      "source": [
        "<br>\n",
        "\n",
        "---"
      ]
    },
    {
      "cell_type": "markdown",
      "metadata": {
        "id": "gFPSdK5aXOPB"
      },
      "source": [
        "####<font color=red>Task 1</font> - Loading and Preprocessing the Dataset\n",
        "\n"
      ]
    },
    {
      "cell_type": "markdown",
      "metadata": {
        "id": "SXTflZVXXOPB"
      },
      "source": [
        "<font color=red>Task 1.1</font> Today, we'll be working with salary data available online.\n",
        "\n",
        "* Run the following script to load the salary dataset for today's assignment.\n",
        "\n",
        "```\n",
        "# load data frame\n",
        "data_url                       <- \"https://raw.githubusercontent.com/khasenst/datasets_teaching/refs/heads/main/salary_data.csv\"\n",
        "salary                         <- na.omit(read.csv(data_url, header = TRUE))\n",
        "\n",
        "# convert character variables to factors\n",
        "salary$Gender                  <- as.factor(salary$Gender)\n",
        "salary$Education.Level         <- as.factor(salary$Education.Level)\n",
        "salary$Job.Title               <- as.factor(salary$Job.Title)\n",
        "\n",
        "# reassign levels\n",
        "levels(salary$Education.Level) <-  c(\"missing\", \"BS\", \"BS\", \"HS\",\n",
        "                                     \"MS\", \"MS\", \"PhD\", \"PhD\")\n",
        "salary$Education.Level         <- factor(salary$Education.Level, levels = c(\"missing\", \"HS\", \"BS\", \"MS\", \"PhD\"))\n",
        "```\n"
      ]
    },
    {
      "cell_type": "code",
      "execution_count": 4,
      "metadata": {
        "id": "vl1oPIzmVthg"
      },
      "outputs": [],
      "source": [
        "#1.1\n",
        "# load data frame\n",
        "data_url                       <- \"https://raw.githubusercontent.com/khasenst/datasets_teaching/refs/heads/main/salary_data.csv\"\n",
        "salary                         <- na.omit(read.csv(data_url, header = TRUE))\n",
        "\n",
        "# convert character variables to factors\n",
        "salary$Gender                  <- as.factor(salary$Gender)\n",
        "salary$Education.Level         <- as.factor(salary$Education.Level)\n",
        "salary$Job.Title               <- as.factor(salary$Job.Title)\n",
        "\n",
        "# reassign levels\n",
        "levels(salary$Education.Level) <-  c(\"missing\", \"BS\", \"BS\", \"HS\",\n",
        "                                     \"MS\", \"MS\", \"PhD\", \"PhD\")\n",
        "salary$Education.Level         <- factor(salary$Education.Level, levels = c(\"missing\", \"HS\", \"BS\", \"MS\", \"PhD\"))"
      ]
    },
    {
      "cell_type": "markdown",
      "metadata": {
        "id": "D9Zi7RfgFC7t"
      },
      "source": [
        "<br>"
      ]
    },
    {
      "cell_type": "markdown",
      "metadata": {
        "id": "VdX6RYc8FD0Q"
      },
      "source": [
        "<font color=red>Task 1.2</font> View the first few lines of the `salary` data frame using the `head()` function."
      ]
    },
    {
      "cell_type": "code",
      "execution_count": 5,
      "metadata": {
        "colab": {
          "base_uri": "https://localhost:8080/",
          "height": 393
        },
        "id": "JnbEArNMVthh",
        "outputId": "6c0bb9f9-0e0f-48de-9f3c-bdec978dea10"
      },
      "outputs": [
        {
          "output_type": "display_data",
          "data": {
            "text/html": [
              "<table class=\"dataframe\">\n",
              "<caption>A data.frame: 6 × 6</caption>\n",
              "<thead>\n",
              "\t<tr><th></th><th scope=col>Age</th><th scope=col>Gender</th><th scope=col>Education.Level</th><th scope=col>Job.Title</th><th scope=col>Years.of.Experience</th><th scope=col>Salary</th></tr>\n",
              "\t<tr><th></th><th scope=col>&lt;int&gt;</th><th scope=col>&lt;fct&gt;</th><th scope=col>&lt;fct&gt;</th><th scope=col>&lt;fct&gt;</th><th scope=col>&lt;dbl&gt;</th><th scope=col>&lt;int&gt;</th></tr>\n",
              "</thead>\n",
              "<tbody>\n",
              "\t<tr><th scope=row>1</th><td>32</td><td>Male  </td><td>BS </td><td>Software Engineer</td><td> 5</td><td> 90000</td></tr>\n",
              "\t<tr><th scope=row>2</th><td>28</td><td>Female</td><td>MS </td><td>Data Analyst     </td><td> 3</td><td> 65000</td></tr>\n",
              "\t<tr><th scope=row>3</th><td>45</td><td>Male  </td><td>PhD</td><td>Senior Manager   </td><td>15</td><td>150000</td></tr>\n",
              "\t<tr><th scope=row>4</th><td>36</td><td>Female</td><td>BS </td><td>Sales Associate  </td><td> 7</td><td> 60000</td></tr>\n",
              "\t<tr><th scope=row>5</th><td>52</td><td>Male  </td><td>MS </td><td>Director         </td><td>20</td><td>200000</td></tr>\n",
              "\t<tr><th scope=row>6</th><td>29</td><td>Male  </td><td>BS </td><td>Marketing Analyst</td><td> 2</td><td> 55000</td></tr>\n",
              "</tbody>\n",
              "</table>\n"
            ],
            "text/markdown": "\nA data.frame: 6 × 6\n\n| <!--/--> | Age &lt;int&gt; | Gender &lt;fct&gt; | Education.Level &lt;fct&gt; | Job.Title &lt;fct&gt; | Years.of.Experience &lt;dbl&gt; | Salary &lt;int&gt; |\n|---|---|---|---|---|---|---|\n| 1 | 32 | Male   | BS  | Software Engineer |  5 |  90000 |\n| 2 | 28 | Female | MS  | Data Analyst      |  3 |  65000 |\n| 3 | 45 | Male   | PhD | Senior Manager    | 15 | 150000 |\n| 4 | 36 | Female | BS  | Sales Associate   |  7 |  60000 |\n| 5 | 52 | Male   | MS  | Director          | 20 | 200000 |\n| 6 | 29 | Male   | BS  | Marketing Analyst |  2 |  55000 |\n\n",
            "text/latex": "A data.frame: 6 × 6\n\\begin{tabular}{r|llllll}\n  & Age & Gender & Education.Level & Job.Title & Years.of.Experience & Salary\\\\\n  & <int> & <fct> & <fct> & <fct> & <dbl> & <int>\\\\\n\\hline\n\t1 & 32 & Male   & BS  & Software Engineer &  5 &  90000\\\\\n\t2 & 28 & Female & MS  & Data Analyst      &  3 &  65000\\\\\n\t3 & 45 & Male   & PhD & Senior Manager    & 15 & 150000\\\\\n\t4 & 36 & Female & BS  & Sales Associate   &  7 &  60000\\\\\n\t5 & 52 & Male   & MS  & Director          & 20 & 200000\\\\\n\t6 & 29 & Male   & BS  & Marketing Analyst &  2 &  55000\\\\\n\\end{tabular}\n",
            "text/plain": [
              "  Age Gender Education.Level Job.Title         Years.of.Experience Salary\n",
              "1 32  Male   BS              Software Engineer  5                   90000\n",
              "2 28  Female MS              Data Analyst       3                   65000\n",
              "3 45  Male   PhD             Senior Manager    15                  150000\n",
              "4 36  Female BS              Sales Associate    7                   60000\n",
              "5 52  Male   MS              Director          20                  200000\n",
              "6 29  Male   BS              Marketing Analyst  2                   55000"
            ]
          },
          "metadata": {}
        }
      ],
      "source": [
        "#1.2\n",
        "head(salary)"
      ]
    },
    {
      "cell_type": "markdown",
      "metadata": {
        "id": "fix4kSddABDX"
      },
      "source": [
        "<br>"
      ]
    },
    {
      "cell_type": "markdown",
      "metadata": {
        "id": "1gPRAgw0ABDY"
      },
      "source": [
        "<font color=red>Task 1.3</font> Use the `str()` function to determine the number of rows and columns in the `salary` data frame. Write your observations in a text cell."
      ]
    },
    {
      "cell_type": "code",
      "execution_count": 6,
      "metadata": {
        "colab": {
          "base_uri": "https://localhost:8080/"
        },
        "id": "ICUnkO3MVthh",
        "outputId": "dd180c8b-21de-458b-b3db-3baa8f69d621"
      },
      "outputs": [
        {
          "output_type": "stream",
          "name": "stdout",
          "text": [
            "'data.frame':\t6699 obs. of  6 variables:\n",
            " $ Age                : int  32 28 45 36 52 29 42 31 26 38 ...\n",
            " $ Gender             : Factor w/ 3 levels \"Female\",\"Male\",..: 2 1 2 1 2 2 1 2 1 2 ...\n",
            " $ Education.Level    : Factor w/ 5 levels \"missing\",\"HS\",..: 3 4 5 3 4 3 4 3 3 5 ...\n",
            " $ Job.Title          : Factor w/ 192 levels \"Account Manager\",..: 177 19 146 117 27 95 108 120 96 167 ...\n",
            " $ Years.of.Experience: num  5 3 15 7 20 2 12 4 1 10 ...\n",
            " $ Salary             : int  90000 65000 150000 60000 200000 55000 120000 80000 45000 110000 ...\n",
            " - attr(*, \"na.action\")= 'omit' Named int [1:5] 173 261 3137 5248 6456\n",
            "  ..- attr(*, \"names\")= chr [1:5] \"173\" \"261\" \"3137\" \"5248\" ...\n"
          ]
        }
      ],
      "source": [
        "#1.3\n",
        "str(salary)"
      ]
    },
    {
      "cell_type": "markdown",
      "metadata": {
        "id": "4TpLD0Jy8CLx"
      },
      "source": [
        "<br>\n",
        "\n",
        "<br>"
      ]
    },
    {
      "cell_type": "markdown",
      "metadata": {
        "id": "ayj2a3MX8A9B"
      },
      "source": [
        "<br>\n",
        "\n",
        "---"
      ]
    },
    {
      "cell_type": "markdown",
      "metadata": {
        "id": "oHahMLpO8A9D"
      },
      "source": [
        "####<font color=red>Task 2</font> - Boolean Operators and Order of Execution\n",
        "\n"
      ]
    },
    {
      "cell_type": "markdown",
      "metadata": {
        "id": "ScjnfR6W8A9D"
      },
      "source": [
        "<font color=red>Task 2.1</font>\n",
        "\n",
        "* What is the result of the following Boolean expression?\n",
        "\n",
        "  `!FALSE | TRUE & FALSE`\n",
        "\n",
        "* Explain the order in which the Booleans are evaluated in a text cell."
      ]
    },
    {
      "cell_type": "code",
      "execution_count": 6,
      "metadata": {
        "colab": {
          "base_uri": "https://localhost:8080/",
          "height": 34
        },
        "id": "zPgn7blmVthi",
        "outputId": "46ee7eaf-3281-4429-e0cc-e8ae42aa3708"
      },
      "outputs": [
        {
          "output_type": "display_data",
          "data": {
            "text/html": [
              "TRUE"
            ],
            "text/markdown": "TRUE",
            "text/latex": "TRUE",
            "text/plain": [
              "[1] TRUE"
            ]
          },
          "metadata": {}
        }
      ],
      "source": [
        "#2.1\n",
        "!FALSE | TRUE & FALSE"
      ]
    },
    {
      "cell_type": "markdown",
      "metadata": {
        "id": "9rB47zNbVthi"
      },
      "source": [
        "**Task 2.1** <br>\n",
        "!FALSE ->  TRUE<br>\n",
        "TRUE & FALSE -> FALSE<br>\n",
        "TRUE | FALSE-> TRUE <br>\n",
        "\n",
        "The order is negation, AND and then OR."
      ]
    },
    {
      "cell_type": "markdown",
      "metadata": {
        "id": "NWeL-7kYNXtF"
      },
      "source": [
        "<br>"
      ]
    },
    {
      "cell_type": "markdown",
      "metadata": {
        "id": "qCsFe6BYRH9p"
      },
      "source": [
        "<font color=red>Task 2.2</font>\n",
        "\n",
        "* What is the result of the following Boolean expression?\n",
        "\n",
        "  `(!FALSE | TRUE) & FALSE`\n",
        "\n",
        "* Explain the order in which the Booleans are evaluated in a text cell."
      ]
    },
    {
      "cell_type": "code",
      "execution_count": 7,
      "metadata": {
        "colab": {
          "base_uri": "https://localhost:8080/",
          "height": 34
        },
        "id": "6dJpU4lfVthi",
        "outputId": "e07f4c3c-300c-434e-ba8d-adb8130a71cd"
      },
      "outputs": [
        {
          "output_type": "display_data",
          "data": {
            "text/html": [
              "FALSE"
            ],
            "text/markdown": "FALSE",
            "text/latex": "FALSE",
            "text/plain": [
              "[1] FALSE"
            ]
          },
          "metadata": {}
        }
      ],
      "source": [
        "#2.2\n",
        "(!FALSE | TRUE) & FALSE"
      ]
    },
    {
      "cell_type": "markdown",
      "metadata": {
        "id": "x8yeAYRZVthj"
      },
      "source": [
        "**Task 2.2** <br>\n",
        "!FALSE ->  TRUE<br>\n",
        "(TRUE | TRUE) ->  TRUE<br>\n",
        "TRUE & FALSE ->  FALSE<br>\n",
        "\n",
        "The order we start with the parenthesis, going directly to the negation and the to the OR operation, and finally to the AND operation"
      ]
    },
    {
      "cell_type": "markdown",
      "metadata": {
        "id": "pUBSwZdKNVZZ"
      },
      "source": [
        "<br>\n",
        "\n",
        "<br>"
      ]
    },
    {
      "cell_type": "markdown",
      "metadata": {
        "id": "Nk-S3iq2NcXH"
      },
      "source": [
        "<br>\n",
        "\n",
        "---"
      ]
    },
    {
      "cell_type": "markdown",
      "metadata": {
        "id": "a-IfS98KNcXJ"
      },
      "source": [
        "####<font color=red>Task 3</font> - Subsetting with Boolean Operators\n",
        "\n"
      ]
    },
    {
      "cell_type": "markdown",
      "metadata": {
        "id": "2L0TyvBZNcXJ"
      },
      "source": [
        "<font color=red>Task 3.1</font>\n",
        "\n",
        "* What is the average salary of individuals who have a BS degree AND are less than 25 years of age?\n",
        "\n",
        "* What is the average salary of individuals who have a PhD degree AND are less than 25 years of age?\n",
        "\n",
        "* In your opinion, are these salaries very different? Why? Why not?"
      ]
    },
    {
      "cell_type": "code",
      "source": [
        "#3.1\n",
        "#BS\n",
        "mean(salary$Salary[salary$Education.Level == \"BS\" & salary$Age < 25], na.rm = TRUE)\n",
        "\n",
        "#Phd\n",
        "mean(salary$Salary[salary$Education.Level ==\"PhD\" & salary$Age < 25], na.rm = TRUE)\n"
      ],
      "metadata": {
        "colab": {
          "base_uri": "https://localhost:8080/",
          "height": 52
        },
        "id": "X4TOyhLwXgkj",
        "outputId": "ddc27a8b-ed34-44fd-a9a4-5bb6ca6d6028"
      },
      "execution_count": 11,
      "outputs": [
        {
          "output_type": "display_data",
          "data": {
            "text/html": [
              "60384.1553398058"
            ],
            "text/markdown": "60384.1553398058",
            "text/latex": "60384.1553398058",
            "text/plain": [
              "[1] 60384.16"
            ]
          },
          "metadata": {}
        },
        {
          "output_type": "display_data",
          "data": {
            "text/html": [
              "69875.3125"
            ],
            "text/markdown": "69875.3125",
            "text/latex": "69875.3125",
            "text/plain": [
              "[1] 69875.31"
            ]
          },
          "metadata": {}
        }
      ]
    },
    {
      "cell_type": "markdown",
      "source": [
        "**Task 3.1** <br>\n",
        "In my opinion, the reason why the salaries are slightly different is due to the education level of the individuals. Since a PhD is a higher level of education than a BS, the pay is naturally higher. However, since the individuals are still quite young, the difference in pay is not staggering."
      ],
      "metadata": {
        "id": "GpQgR-miYJod"
      }
    },
    {
      "cell_type": "markdown",
      "metadata": {
        "id": "IuzDbtiNUOL5"
      },
      "source": [
        "<br>"
      ]
    },
    {
      "cell_type": "markdown",
      "metadata": {
        "id": "NwKaNw3jUtGN"
      },
      "source": [
        "<font color=red>Task 3.2</font>\n",
        "\n",
        "* What is the average salary of individuals who have a BS degree AND are greater than or equal to 25 years of age?\n",
        "\n",
        "* What is the average salary of individuals who have a PhD degree AND are greater than or equal to 25 years of age?\n",
        "\n",
        "* In your opinion, are these salaries very different?"
      ]
    },
    {
      "cell_type": "code",
      "source": [
        "#3.2\n",
        "#BS\n",
        "mean(salary$Salary[salary$Education.Level == \"BS\" & salary$Age >= 25], na.rm = TRUE)\n",
        "\n",
        "#phd\n",
        "mean(salary$Salary[salary$Education.Level == \"PhD\" & salary$Age >=25], na.rm = TRUE)\n",
        "\n",
        "\n",
        "\n"
      ],
      "metadata": {
        "colab": {
          "base_uri": "https://localhost:8080/",
          "height": 52
        },
        "id": "oKE_Kw6-Y9qw",
        "outputId": "828fc2d1-b226-45f2-de35-f2f7793c2b08"
      },
      "execution_count": 12,
      "outputs": [
        {
          "output_type": "display_data",
          "data": {
            "text/html": [
              "97622.1424511545"
            ],
            "text/markdown": "97622.1424511545",
            "text/latex": "97622.1424511545",
            "text/plain": [
              "[1] 97622.14"
            ]
          },
          "metadata": {}
        },
        {
          "output_type": "display_data",
          "data": {
            "text/html": [
              "166784.065779749"
            ],
            "text/markdown": "166784.065779749",
            "text/latex": "166784.065779749",
            "text/plain": [
              "[1] 166784.1"
            ]
          },
          "metadata": {}
        }
      ]
    },
    {
      "cell_type": "markdown",
      "source": [
        "**Task 3.2** <br>\n",
        "In my opinion, the reason why the salaries are so different is due to the education level of the individuals. Since a PhD is a higher level of education than a BS, the pay is naturally higher. Unlike in task 3.1, since the individuals are older, the difference in pay is far more visible."
      ],
      "metadata": {
        "id": "lSl7cm2-a6Wu"
      }
    },
    {
      "cell_type": "markdown",
      "metadata": {
        "id": "U95kCAxcUtGQ"
      },
      "source": [
        "<br>"
      ]
    },
    {
      "cell_type": "markdown",
      "metadata": {
        "id": "PiBEHCbxUNpY"
      },
      "source": [
        "<font color=red>Task 3.3</font>\n",
        "\n",
        "* How many individuals have either a MS OR a PhD degree?\n",
        "\n",
        "* Use the NOT logical operator and your answer to the bullet above to determine how many individuals do NOT have an MS OR PhD degree?"
      ]
    },
    {
      "cell_type": "code",
      "source": [
        "#3.3\n",
        "a <- nrow(salary[salary$Education.Level ==\"MS\" | salary$Education.Level ==\"PhD\", ])\n",
        "a\n",
        "\n",
        "# bullet 2 - instead of using OR we could've also just used AND\n",
        "nrow(salary[salary$Education.Level !=\"MS\" | salary$Education.Level !=\"PhD\", ]) - a\n"
      ],
      "metadata": {
        "colab": {
          "base_uri": "https://localhost:8080/",
          "height": 52
        },
        "id": "xbneedTQbTEO",
        "outputId": "89dc122d-8125-4cb5-ebb6-fc3400b239e2"
      },
      "execution_count": 18,
      "outputs": [
        {
          "output_type": "display_data",
          "data": {
            "text/html": [
              "3229"
            ],
            "text/markdown": "3229",
            "text/latex": "3229",
            "text/plain": [
              "[1] 3229"
            ]
          },
          "metadata": {}
        },
        {
          "output_type": "display_data",
          "data": {
            "text/html": [
              "3470"
            ],
            "text/markdown": "3470",
            "text/latex": "3470",
            "text/plain": [
              "[1] 3470"
            ]
          },
          "metadata": {}
        }
      ]
    },
    {
      "cell_type": "markdown",
      "metadata": {
        "id": "tlS_oCJkNcXL"
      },
      "source": [
        "<br>\n",
        "\n",
        "<br>"
      ]
    },
    {
      "cell_type": "markdown",
      "metadata": {
        "id": "1qvDj_DNNhCb"
      },
      "source": [
        "<br>\n",
        "\n",
        "---"
      ]
    },
    {
      "cell_type": "markdown",
      "metadata": {
        "id": "BDUQK9QoNhCc"
      },
      "source": [
        "####<font color=red>Task 4</font> - `which()`, `which.min()`, `which.max()`\n",
        "\n"
      ]
    },
    {
      "cell_type": "markdown",
      "metadata": {
        "id": "xUHCNkfkNhCd"
      },
      "source": [
        "<font color=red>Task 4.1</font>\n",
        "* Use the `which()` function to determine the row indexes of individuals with the following criteria\n",
        "  * Less than 30 years of age\n",
        "  * Female\n",
        "  * Salary greater than $175,000\n",
        "\n",
        "* How many individuals in the data frame satisfy this criteria? Hint: You can use the `length()` function on the output of `which()`\n"
      ]
    },
    {
      "cell_type": "code",
      "source": [
        "#4.1\n",
        "index_criteria <- which(salary$Age < 30 & salary$Gender == \"Female\" & salary$Salary > 175000)\n",
        "index_criteria\n",
        "\n",
        "length(index_criteria)"
      ],
      "metadata": {
        "colab": {
          "base_uri": "https://localhost:8080/",
          "height": 69
        },
        "id": "NYzRYLrEeRyt",
        "outputId": "e28ccbb2-5674-4ddc-a08c-3d41bfef8d62"
      },
      "execution_count": 25,
      "outputs": [
        {
          "output_type": "display_data",
          "data": {
            "text/html": [
              "<style>\n",
              ".list-inline {list-style: none; margin:0; padding: 0}\n",
              ".list-inline>li {display: inline-block}\n",
              ".list-inline>li:not(:last-child)::after {content: \"\\00b7\"; padding: 0 .5ex}\n",
              "</style>\n",
              "<ol class=list-inline><li>506</li><li>530</li><li>542</li><li>550</li><li>560</li><li>570</li><li>580</li><li>590</li><li>620</li><li>632</li><li>640</li><li>650</li><li>660</li><li>670</li><li>700</li><li>712</li><li>720</li><li>730</li><li>740</li><li>750</li><li>760</li><li>770</li><li>780</li><li>790</li><li>800</li><li>811</li><li>828</li><li>846</li><li>856</li><li>866</li><li>876</li><li>886</li><li>896</li><li>906</li><li>916</li><li>926</li><li>936</li><li>944</li><li>953</li></ol>\n"
            ],
            "text/markdown": "1. 506\n2. 530\n3. 542\n4. 550\n5. 560\n6. 570\n7. 580\n8. 590\n9. 620\n10. 632\n11. 640\n12. 650\n13. 660\n14. 670\n15. 700\n16. 712\n17. 720\n18. 730\n19. 740\n20. 750\n21. 760\n22. 770\n23. 780\n24. 790\n25. 800\n26. 811\n27. 828\n28. 846\n29. 856\n30. 866\n31. 876\n32. 886\n33. 896\n34. 906\n35. 916\n36. 926\n37. 936\n38. 944\n39. 953\n\n\n",
            "text/latex": "\\begin{enumerate*}\n\\item 506\n\\item 530\n\\item 542\n\\item 550\n\\item 560\n\\item 570\n\\item 580\n\\item 590\n\\item 620\n\\item 632\n\\item 640\n\\item 650\n\\item 660\n\\item 670\n\\item 700\n\\item 712\n\\item 720\n\\item 730\n\\item 740\n\\item 750\n\\item 760\n\\item 770\n\\item 780\n\\item 790\n\\item 800\n\\item 811\n\\item 828\n\\item 846\n\\item 856\n\\item 866\n\\item 876\n\\item 886\n\\item 896\n\\item 906\n\\item 916\n\\item 926\n\\item 936\n\\item 944\n\\item 953\n\\end{enumerate*}\n",
            "text/plain": [
              " [1] 506 530 542 550 560 570 580 590 620 632 640 650 660 670 700 712 720 730 740\n",
              "[20] 750 760 770 780 790 800 811 828 846 856 866 876 886 896 906 916 926 936 944\n",
              "[39] 953"
            ]
          },
          "metadata": {}
        },
        {
          "output_type": "display_data",
          "data": {
            "text/html": [
              "39"
            ],
            "text/markdown": "39",
            "text/latex": "39",
            "text/plain": [
              "[1] 39"
            ]
          },
          "metadata": {}
        }
      ]
    },
    {
      "cell_type": "markdown",
      "metadata": {
        "id": "OFTThT5xNhCd"
      },
      "source": [
        "<br>"
      ]
    },
    {
      "cell_type": "markdown",
      "metadata": {
        "id": "9FNjyXcSmAvo"
      },
      "source": [
        "<font color=red>Task 4.2</font>\n",
        "* Use the `which.min()` function to determine the index of the minimum salary\n",
        "\n",
        "* Use the index above to extract the corresponding row of the data frame\n",
        "\n",
        "* What is the job title for this individual?\n"
      ]
    },
    {
      "cell_type": "code",
      "source": [
        "min_salary <- which.min(salary$Salary)\n",
        "min_salary\n",
        "\n",
        "row_min_salary <- salary[min_salary,]\n",
        "row_min_salary\n",
        "\n",
        "row_min_salary$Job.Title"
      ],
      "metadata": {
        "colab": {
          "base_uri": "https://localhost:8080/",
          "height": 182
        },
        "id": "_rKDLA2zfZK9",
        "outputId": "a3467d14-5220-4969-f846-c18e4b951c35"
      },
      "execution_count": 23,
      "outputs": [
        {
          "output_type": "display_data",
          "data": {
            "text/html": [
              "259"
            ],
            "text/markdown": "259",
            "text/latex": "259",
            "text/plain": [
              "[1] 259"
            ]
          },
          "metadata": {}
        },
        {
          "output_type": "display_data",
          "data": {
            "text/html": [
              "<table class=\"dataframe\">\n",
              "<caption>A data.frame: 1 × 6</caption>\n",
              "<thead>\n",
              "\t<tr><th></th><th scope=col>Age</th><th scope=col>Gender</th><th scope=col>Education.Level</th><th scope=col>Job.Title</th><th scope=col>Years.of.Experience</th><th scope=col>Salary</th></tr>\n",
              "\t<tr><th></th><th scope=col>&lt;int&gt;</th><th scope=col>&lt;fct&gt;</th><th scope=col>&lt;fct&gt;</th><th scope=col>&lt;fct&gt;</th><th scope=col>&lt;dbl&gt;</th><th scope=col>&lt;int&gt;</th></tr>\n",
              "</thead>\n",
              "<tbody>\n",
              "\t<tr><th scope=row>260</th><td>29</td><td>Male</td><td>BS</td><td>Junior Business Operations Analyst</td><td>1.5</td><td>350</td></tr>\n",
              "</tbody>\n",
              "</table>\n"
            ],
            "text/markdown": "\nA data.frame: 1 × 6\n\n| <!--/--> | Age &lt;int&gt; | Gender &lt;fct&gt; | Education.Level &lt;fct&gt; | Job.Title &lt;fct&gt; | Years.of.Experience &lt;dbl&gt; | Salary &lt;int&gt; |\n|---|---|---|---|---|---|---|\n| 260 | 29 | Male | BS | Junior Business Operations Analyst | 1.5 | 350 |\n\n",
            "text/latex": "A data.frame: 1 × 6\n\\begin{tabular}{r|llllll}\n  & Age & Gender & Education.Level & Job.Title & Years.of.Experience & Salary\\\\\n  & <int> & <fct> & <fct> & <fct> & <dbl> & <int>\\\\\n\\hline\n\t260 & 29 & Male & BS & Junior Business Operations Analyst & 1.5 & 350\\\\\n\\end{tabular}\n",
            "text/plain": [
              "    Age Gender Education.Level Job.Title                         \n",
              "260 29  Male   BS              Junior Business Operations Analyst\n",
              "    Years.of.Experience Salary\n",
              "260 1.5                 350   "
            ]
          },
          "metadata": {}
        },
        {
          "output_type": "display_data",
          "data": {
            "text/html": [
              "Junior Business Operations Analyst\n",
              "<details>\n",
              "\t<summary style=display:list-item;cursor:pointer>\n",
              "\t\t<strong>Levels</strong>:\n",
              "\t</summary>\n",
              "\t<style>\n",
              "\t.list-inline {list-style: none; margin:0; padding: 0}\n",
              "\t.list-inline>li {display: inline-block}\n",
              "\t.list-inline>li:not(:last-child)::after {content: \"\\00b7\"; padding: 0 .5ex}\n",
              "\t</style>\n",
              "\t<ol class=list-inline><li>'Account Manager'</li><li>'Accountant'</li><li>'Administrative Assistant'</li><li>'Back end Developer'</li><li>'Business Analyst'</li><li>'Business Development Manager'</li><li>'Business Intelligence Analyst'</li><li>'CEO'</li><li>'Chief Data Officer'</li><li>'Chief Technology Officer'</li><li>'Content Marketing Manager'</li><li>'Copywriter'</li><li>'Creative Director'</li><li>'Customer Service Manager'</li><li>'Customer Service Rep'</li><li>'Customer Service Representative'</li><li>'Customer Success Manager'</li><li>'Customer Success Rep'</li><li>'Data Analyst'</li><li>'Data Entry Clerk'</li><li>'Data Scientist'</li><li>'Delivery Driver'</li><li>'Developer'</li><li>'Digital Content Producer'</li><li>'Digital Marketing Manager'</li><li>'Digital Marketing Specialist'</li><li>'Director'</li><li>'Director of Business Development'</li><li>'Director of Data Science'</li><li>'Director of Engineering'</li><li>'Director of Finance'</li><li>'Director of HR'</li><li>'Director of Human Capital'</li><li>'Director of Human Resources'</li><li>'Director of Marketing'</li><li>'Director of Operations'</li><li>'Director of Product Management'</li><li>'Director of Sales'</li><li>'Director of Sales and Marketing'</li><li>'Event Coordinator'</li><li>'Financial Advisor'</li><li>'Financial Analyst'</li><li>'Financial Manager'</li><li>'Front end Developer'</li><li>'Front End Developer'</li><li>'Full Stack Engineer'</li><li>'Graphic Designer'</li><li>'Help Desk Analyst'</li><li>'HR Generalist'</li><li>'HR Manager'</li><li>'Human Resources Coordinator'</li><li>'Human Resources Director'</li><li>'Human Resources Manager'</li><li>'IT Manager'</li><li>'IT Support'</li><li>'IT Support Specialist'</li><li>'Junior Account Manager'</li><li>'Junior Accountant'</li><li>'Junior Advertising Coordinator'</li><li>'Junior Business Analyst'</li><li>'Junior Business Development Associate'</li><li>'Junior Business Operations Analyst'</li><li>'Junior Copywriter'</li><li>'Junior Customer Support Specialist'</li><li>'Junior Data Analyst'</li><li>'Junior Data Scientist'</li><li>'Junior Designer'</li><li>'Junior Developer'</li><li>'Junior Financial Advisor'</li><li>'Junior Financial Analyst'</li><li>'Junior HR Coordinator'</li><li>'Junior HR Generalist'</li><li>'Junior Marketing Analyst'</li><li>'Junior Marketing Coordinator'</li><li>'Junior Marketing Manager'</li><li>'Junior Marketing Specialist'</li><li>'Junior Operations Analyst'</li><li>'Junior Operations Coordinator'</li><li>'Junior Operations Manager'</li><li>'Junior Product Manager'</li><li>'Junior Project Manager'</li><li>'Junior Recruiter'</li><li>'Junior Research Scientist'</li><li>'Junior Sales Associate'</li><li>'Junior Sales Representative'</li><li>'Junior Social Media Manager'</li><li>'Junior Social Media Specialist'</li><li>'Junior Software Developer'</li><li>'Junior Software Engineer'</li><li>'Junior UX Designer'</li><li>'Junior Web Designer'</li><li>'Junior Web Developer'</li><li>'Juniour HR Coordinator'</li><li>'Juniour HR Generalist'</li><li>'Marketing Analyst'</li><li>'Marketing Coordinator'</li><li>'Marketing Director'</li><li>'Marketing Manager'</li><li>'Marketing Specialist'</li><li>'Network Engineer'</li><li>'Office Manager'</li><li>'Operations Analyst'</li><li>'Operations Director'</li><li>'Operations Manager'</li><li>'Principal Engineer'</li><li>'Principal Scientist'</li><li>'Product Designer'</li><li>'Product Manager'</li><li>'Product Marketing Manager'</li><li>'Project Engineer'</li><li>'Project Manager'</li><li>'Public Relations Manager'</li><li>'Receptionist'</li><li>'Recruiter'</li><li>'Research Director'</li><li>'Research Scientist'</li><li>'Sales Associate'</li><li>'Sales Director'</li><li>'Sales Executive'</li><li>'Sales Manager'</li><li>'Sales Operations Manager'</li><li>'Sales Representative'</li><li>'Senior Account Executive'</li><li>'Senior Account Manager'</li><li>'Senior Accountant'</li><li>'Senior Business Analyst'</li><li>'Senior Business Development Manager'</li><li>'Senior Consultant'</li><li>'Senior Data Analyst'</li><li>'Senior Data Engineer'</li><li>'Senior Data Scientist'</li><li>'Senior Engineer'</li><li>'Senior Financial Advisor'</li><li>'Senior Financial Analyst'</li><li>'Senior Financial Manager'</li><li>'Senior Graphic Designer'</li><li>'Senior HR Generalist'</li><li>'Senior HR Manager'</li><li>'Senior HR Specialist'</li><li>'Senior Human Resources Coordinator'</li><li>'Senior Human Resources Manager'</li><li>'Senior Human Resources Specialist'</li><li>'Senior IT Consultant'</li><li>'Senior IT Project Manager'</li><li>'Senior IT Support Specialist'</li><li>'Senior Manager'</li><li>'Senior Marketing Analyst'</li><li>'Senior Marketing Coordinator'</li><li>'Senior Marketing Director'</li><li>'Senior Marketing Manager'</li><li>'Senior Marketing Specialist'</li><li>'Senior Operations Analyst'</li><li>'Senior Operations Coordinator'</li><li>'Senior Operations Manager'</li><li>'Senior Product Designer'</li><li>'Senior Product Development Manager'</li><li>'Senior Product Manager'</li><li>'Senior Product Marketing Manager'</li><li>'Senior Project Coordinator'</li><li>'Senior Project Engineer'</li><li>'Senior Project Manager'</li><li>'Senior Quality Assurance Analyst'</li><li>'Senior Research Scientist'</li><li>'Senior Researcher'</li><li>'Senior Sales Manager'</li><li>'Senior Sales Representative'</li><li>'Senior Scientist'</li><li>'Senior Software Architect'</li><li>'Senior Software Developer'</li><li>'Senior Software Engineer'</li><li>'Senior Training Specialist'</li><li>'Senior UX Designer'</li><li>'Social Media Man'</li><li>'Social Media Manager'</li><li>'Social Media Specialist'</li><li>'Software Developer'</li><li>'Software Engineer'</li><li>'Software Engineer Manager'</li><li>'Software Manager'</li><li>'Software Project Manager'</li><li>'Strategy Consultant'</li><li>'Supply Chain Analyst'</li><li>'Supply Chain Manager'</li><li>'Technical Recruiter'</li><li>'Technical Support Specialist'</li><li>'Technical Writer'</li><li>'Training Specialist'</li><li>'UX Designer'</li><li>'UX Researcher'</li><li>'VP of Finance'</li><li>'VP of Operations'</li><li>'Web Developer'</li></ol>\n",
              "</details>"
            ],
            "text/markdown": "Junior Business Operations Analyst\n**Levels**: 1. 'Account Manager'\n2. 'Accountant'\n3. 'Administrative Assistant'\n4. 'Back end Developer'\n5. 'Business Analyst'\n6. 'Business Development Manager'\n7. 'Business Intelligence Analyst'\n8. 'CEO'\n9. 'Chief Data Officer'\n10. 'Chief Technology Officer'\n11. 'Content Marketing Manager'\n12. 'Copywriter'\n13. 'Creative Director'\n14. 'Customer Service Manager'\n15. 'Customer Service Rep'\n16. 'Customer Service Representative'\n17. 'Customer Success Manager'\n18. 'Customer Success Rep'\n19. 'Data Analyst'\n20. 'Data Entry Clerk'\n21. 'Data Scientist'\n22. 'Delivery Driver'\n23. 'Developer'\n24. 'Digital Content Producer'\n25. 'Digital Marketing Manager'\n26. 'Digital Marketing Specialist'\n27. 'Director'\n28. 'Director of Business Development'\n29. 'Director of Data Science'\n30. 'Director of Engineering'\n31. 'Director of Finance'\n32. 'Director of HR'\n33. 'Director of Human Capital'\n34. 'Director of Human Resources'\n35. 'Director of Marketing'\n36. 'Director of Operations'\n37. 'Director of Product Management'\n38. 'Director of Sales'\n39. 'Director of Sales and Marketing'\n40. 'Event Coordinator'\n41. 'Financial Advisor'\n42. 'Financial Analyst'\n43. 'Financial Manager'\n44. 'Front end Developer'\n45. 'Front End Developer'\n46. 'Full Stack Engineer'\n47. 'Graphic Designer'\n48. 'Help Desk Analyst'\n49. 'HR Generalist'\n50. 'HR Manager'\n51. 'Human Resources Coordinator'\n52. 'Human Resources Director'\n53. 'Human Resources Manager'\n54. 'IT Manager'\n55. 'IT Support'\n56. 'IT Support Specialist'\n57. 'Junior Account Manager'\n58. 'Junior Accountant'\n59. 'Junior Advertising Coordinator'\n60. 'Junior Business Analyst'\n61. 'Junior Business Development Associate'\n62. 'Junior Business Operations Analyst'\n63. 'Junior Copywriter'\n64. 'Junior Customer Support Specialist'\n65. 'Junior Data Analyst'\n66. 'Junior Data Scientist'\n67. 'Junior Designer'\n68. 'Junior Developer'\n69. 'Junior Financial Advisor'\n70. 'Junior Financial Analyst'\n71. 'Junior HR Coordinator'\n72. 'Junior HR Generalist'\n73. 'Junior Marketing Analyst'\n74. 'Junior Marketing Coordinator'\n75. 'Junior Marketing Manager'\n76. 'Junior Marketing Specialist'\n77. 'Junior Operations Analyst'\n78. 'Junior Operations Coordinator'\n79. 'Junior Operations Manager'\n80. 'Junior Product Manager'\n81. 'Junior Project Manager'\n82. 'Junior Recruiter'\n83. 'Junior Research Scientist'\n84. 'Junior Sales Associate'\n85. 'Junior Sales Representative'\n86. 'Junior Social Media Manager'\n87. 'Junior Social Media Specialist'\n88. 'Junior Software Developer'\n89. 'Junior Software Engineer'\n90. 'Junior UX Designer'\n91. 'Junior Web Designer'\n92. 'Junior Web Developer'\n93. 'Juniour HR Coordinator'\n94. 'Juniour HR Generalist'\n95. 'Marketing Analyst'\n96. 'Marketing Coordinator'\n97. 'Marketing Director'\n98. 'Marketing Manager'\n99. 'Marketing Specialist'\n100. 'Network Engineer'\n101. 'Office Manager'\n102. 'Operations Analyst'\n103. 'Operations Director'\n104. 'Operations Manager'\n105. 'Principal Engineer'\n106. 'Principal Scientist'\n107. 'Product Designer'\n108. 'Product Manager'\n109. 'Product Marketing Manager'\n110. 'Project Engineer'\n111. 'Project Manager'\n112. 'Public Relations Manager'\n113. 'Receptionist'\n114. 'Recruiter'\n115. 'Research Director'\n116. 'Research Scientist'\n117. 'Sales Associate'\n118. 'Sales Director'\n119. 'Sales Executive'\n120. 'Sales Manager'\n121. 'Sales Operations Manager'\n122. 'Sales Representative'\n123. 'Senior Account Executive'\n124. 'Senior Account Manager'\n125. 'Senior Accountant'\n126. 'Senior Business Analyst'\n127. 'Senior Business Development Manager'\n128. 'Senior Consultant'\n129. 'Senior Data Analyst'\n130. 'Senior Data Engineer'\n131. 'Senior Data Scientist'\n132. 'Senior Engineer'\n133. 'Senior Financial Advisor'\n134. 'Senior Financial Analyst'\n135. 'Senior Financial Manager'\n136. 'Senior Graphic Designer'\n137. 'Senior HR Generalist'\n138. 'Senior HR Manager'\n139. 'Senior HR Specialist'\n140. 'Senior Human Resources Coordinator'\n141. 'Senior Human Resources Manager'\n142. 'Senior Human Resources Specialist'\n143. 'Senior IT Consultant'\n144. 'Senior IT Project Manager'\n145. 'Senior IT Support Specialist'\n146. 'Senior Manager'\n147. 'Senior Marketing Analyst'\n148. 'Senior Marketing Coordinator'\n149. 'Senior Marketing Director'\n150. 'Senior Marketing Manager'\n151. 'Senior Marketing Specialist'\n152. 'Senior Operations Analyst'\n153. 'Senior Operations Coordinator'\n154. 'Senior Operations Manager'\n155. 'Senior Product Designer'\n156. 'Senior Product Development Manager'\n157. 'Senior Product Manager'\n158. 'Senior Product Marketing Manager'\n159. 'Senior Project Coordinator'\n160. 'Senior Project Engineer'\n161. 'Senior Project Manager'\n162. 'Senior Quality Assurance Analyst'\n163. 'Senior Research Scientist'\n164. 'Senior Researcher'\n165. 'Senior Sales Manager'\n166. 'Senior Sales Representative'\n167. 'Senior Scientist'\n168. 'Senior Software Architect'\n169. 'Senior Software Developer'\n170. 'Senior Software Engineer'\n171. 'Senior Training Specialist'\n172. 'Senior UX Designer'\n173. 'Social Media Man'\n174. 'Social Media Manager'\n175. 'Social Media Specialist'\n176. 'Software Developer'\n177. 'Software Engineer'\n178. 'Software Engineer Manager'\n179. 'Software Manager'\n180. 'Software Project Manager'\n181. 'Strategy Consultant'\n182. 'Supply Chain Analyst'\n183. 'Supply Chain Manager'\n184. 'Technical Recruiter'\n185. 'Technical Support Specialist'\n186. 'Technical Writer'\n187. 'Training Specialist'\n188. 'UX Designer'\n189. 'UX Researcher'\n190. 'VP of Finance'\n191. 'VP of Operations'\n192. 'Web Developer'\n\n\n",
            "text/latex": "Junior Business Operations Analyst\n\\emph{Levels}: \\begin{enumerate*}\n\\item 'Account Manager'\n\\item 'Accountant'\n\\item 'Administrative Assistant'\n\\item 'Back end Developer'\n\\item 'Business Analyst'\n\\item 'Business Development Manager'\n\\item 'Business Intelligence Analyst'\n\\item 'CEO'\n\\item 'Chief Data Officer'\n\\item 'Chief Technology Officer'\n\\item 'Content Marketing Manager'\n\\item 'Copywriter'\n\\item 'Creative Director'\n\\item 'Customer Service Manager'\n\\item 'Customer Service Rep'\n\\item 'Customer Service Representative'\n\\item 'Customer Success Manager'\n\\item 'Customer Success Rep'\n\\item 'Data Analyst'\n\\item 'Data Entry Clerk'\n\\item 'Data Scientist'\n\\item 'Delivery Driver'\n\\item 'Developer'\n\\item 'Digital Content Producer'\n\\item 'Digital Marketing Manager'\n\\item 'Digital Marketing Specialist'\n\\item 'Director'\n\\item 'Director of Business Development'\n\\item 'Director of Data Science'\n\\item 'Director of Engineering'\n\\item 'Director of Finance'\n\\item 'Director of HR'\n\\item 'Director of Human Capital'\n\\item 'Director of Human Resources'\n\\item 'Director of Marketing'\n\\item 'Director of Operations'\n\\item 'Director of Product Management'\n\\item 'Director of Sales'\n\\item 'Director of Sales and Marketing'\n\\item 'Event Coordinator'\n\\item 'Financial Advisor'\n\\item 'Financial Analyst'\n\\item 'Financial Manager'\n\\item 'Front end Developer'\n\\item 'Front End Developer'\n\\item 'Full Stack Engineer'\n\\item 'Graphic Designer'\n\\item 'Help Desk Analyst'\n\\item 'HR Generalist'\n\\item 'HR Manager'\n\\item 'Human Resources Coordinator'\n\\item 'Human Resources Director'\n\\item 'Human Resources Manager'\n\\item 'IT Manager'\n\\item 'IT Support'\n\\item 'IT Support Specialist'\n\\item 'Junior Account Manager'\n\\item 'Junior Accountant'\n\\item 'Junior Advertising Coordinator'\n\\item 'Junior Business Analyst'\n\\item 'Junior Business Development Associate'\n\\item 'Junior Business Operations Analyst'\n\\item 'Junior Copywriter'\n\\item 'Junior Customer Support Specialist'\n\\item 'Junior Data Analyst'\n\\item 'Junior Data Scientist'\n\\item 'Junior Designer'\n\\item 'Junior Developer'\n\\item 'Junior Financial Advisor'\n\\item 'Junior Financial Analyst'\n\\item 'Junior HR Coordinator'\n\\item 'Junior HR Generalist'\n\\item 'Junior Marketing Analyst'\n\\item 'Junior Marketing Coordinator'\n\\item 'Junior Marketing Manager'\n\\item 'Junior Marketing Specialist'\n\\item 'Junior Operations Analyst'\n\\item 'Junior Operations Coordinator'\n\\item 'Junior Operations Manager'\n\\item 'Junior Product Manager'\n\\item 'Junior Project Manager'\n\\item 'Junior Recruiter'\n\\item 'Junior Research Scientist'\n\\item 'Junior Sales Associate'\n\\item 'Junior Sales Representative'\n\\item 'Junior Social Media Manager'\n\\item 'Junior Social Media Specialist'\n\\item 'Junior Software Developer'\n\\item 'Junior Software Engineer'\n\\item 'Junior UX Designer'\n\\item 'Junior Web Designer'\n\\item 'Junior Web Developer'\n\\item 'Juniour HR Coordinator'\n\\item 'Juniour HR Generalist'\n\\item 'Marketing Analyst'\n\\item 'Marketing Coordinator'\n\\item 'Marketing Director'\n\\item 'Marketing Manager'\n\\item 'Marketing Specialist'\n\\item 'Network Engineer'\n\\item 'Office Manager'\n\\item 'Operations Analyst'\n\\item 'Operations Director'\n\\item 'Operations Manager'\n\\item 'Principal Engineer'\n\\item 'Principal Scientist'\n\\item 'Product Designer'\n\\item 'Product Manager'\n\\item 'Product Marketing Manager'\n\\item 'Project Engineer'\n\\item 'Project Manager'\n\\item 'Public Relations Manager'\n\\item 'Receptionist'\n\\item 'Recruiter'\n\\item 'Research Director'\n\\item 'Research Scientist'\n\\item 'Sales Associate'\n\\item 'Sales Director'\n\\item 'Sales Executive'\n\\item 'Sales Manager'\n\\item 'Sales Operations Manager'\n\\item 'Sales Representative'\n\\item 'Senior Account Executive'\n\\item 'Senior Account Manager'\n\\item 'Senior Accountant'\n\\item 'Senior Business Analyst'\n\\item 'Senior Business Development Manager'\n\\item 'Senior Consultant'\n\\item 'Senior Data Analyst'\n\\item 'Senior Data Engineer'\n\\item 'Senior Data Scientist'\n\\item 'Senior Engineer'\n\\item 'Senior Financial Advisor'\n\\item 'Senior Financial Analyst'\n\\item 'Senior Financial Manager'\n\\item 'Senior Graphic Designer'\n\\item 'Senior HR Generalist'\n\\item 'Senior HR Manager'\n\\item 'Senior HR Specialist'\n\\item 'Senior Human Resources Coordinator'\n\\item 'Senior Human Resources Manager'\n\\item 'Senior Human Resources Specialist'\n\\item 'Senior IT Consultant'\n\\item 'Senior IT Project Manager'\n\\item 'Senior IT Support Specialist'\n\\item 'Senior Manager'\n\\item 'Senior Marketing Analyst'\n\\item 'Senior Marketing Coordinator'\n\\item 'Senior Marketing Director'\n\\item 'Senior Marketing Manager'\n\\item 'Senior Marketing Specialist'\n\\item 'Senior Operations Analyst'\n\\item 'Senior Operations Coordinator'\n\\item 'Senior Operations Manager'\n\\item 'Senior Product Designer'\n\\item 'Senior Product Development Manager'\n\\item 'Senior Product Manager'\n\\item 'Senior Product Marketing Manager'\n\\item 'Senior Project Coordinator'\n\\item 'Senior Project Engineer'\n\\item 'Senior Project Manager'\n\\item 'Senior Quality Assurance Analyst'\n\\item 'Senior Research Scientist'\n\\item 'Senior Researcher'\n\\item 'Senior Sales Manager'\n\\item 'Senior Sales Representative'\n\\item 'Senior Scientist'\n\\item 'Senior Software Architect'\n\\item 'Senior Software Developer'\n\\item 'Senior Software Engineer'\n\\item 'Senior Training Specialist'\n\\item 'Senior UX Designer'\n\\item 'Social Media Man'\n\\item 'Social Media Manager'\n\\item 'Social Media Specialist'\n\\item 'Software Developer'\n\\item 'Software Engineer'\n\\item 'Software Engineer Manager'\n\\item 'Software Manager'\n\\item 'Software Project Manager'\n\\item 'Strategy Consultant'\n\\item 'Supply Chain Analyst'\n\\item 'Supply Chain Manager'\n\\item 'Technical Recruiter'\n\\item 'Technical Support Specialist'\n\\item 'Technical Writer'\n\\item 'Training Specialist'\n\\item 'UX Designer'\n\\item 'UX Researcher'\n\\item 'VP of Finance'\n\\item 'VP of Operations'\n\\item 'Web Developer'\n\\end{enumerate*}\n",
            "text/plain": [
              "[1] Junior Business Operations Analyst\n",
              "192 Levels: Account Manager Accountant ... Web Developer"
            ]
          },
          "metadata": {}
        }
      ]
    },
    {
      "cell_type": "markdown",
      "metadata": {
        "id": "yOE8ixcPmAvs"
      },
      "source": [
        "<br>"
      ]
    },
    {
      "cell_type": "markdown",
      "metadata": {
        "id": "PUqqHv0am2_o"
      },
      "source": [
        "<font color=red>Task 4.3</font>\n",
        "* Use the `which.max()` function to determine the index of the maximum salary\n",
        "\n",
        "* Use the index above to extract the corresponding row of the data frame\n",
        "\n",
        "* What is the job title for this individual?\n"
      ]
    },
    {
      "cell_type": "code",
      "source": [
        "max_salary <- which.max(salary$Salary)\n",
        "max_salary\n",
        "\n",
        "row_max_salary <- salary[max_salary,]\n",
        "row_max_salary\n",
        "\n",
        "row_max_salary$Job.Title"
      ],
      "metadata": {
        "colab": {
          "base_uri": "https://localhost:8080/",
          "height": 182
        },
        "id": "mE6Rg7h9hGMW",
        "outputId": "bb6ff0b9-4468-4cbd-aa97-ef1b1e80363e"
      },
      "execution_count": 28,
      "outputs": [
        {
          "output_type": "display_data",
          "data": {
            "text/html": [
              "31"
            ],
            "text/markdown": "31",
            "text/latex": "31",
            "text/plain": [
              "[1] 31"
            ]
          },
          "metadata": {}
        },
        {
          "output_type": "display_data",
          "data": {
            "text/html": [
              "<table class=\"dataframe\">\n",
              "<caption>A data.frame: 1 × 6</caption>\n",
              "<thead>\n",
              "\t<tr><th></th><th scope=col>Age</th><th scope=col>Gender</th><th scope=col>Education.Level</th><th scope=col>Job.Title</th><th scope=col>Years.of.Experience</th><th scope=col>Salary</th></tr>\n",
              "\t<tr><th></th><th scope=col>&lt;int&gt;</th><th scope=col>&lt;fct&gt;</th><th scope=col>&lt;fct&gt;</th><th scope=col>&lt;fct&gt;</th><th scope=col>&lt;dbl&gt;</th><th scope=col>&lt;int&gt;</th></tr>\n",
              "</thead>\n",
              "<tbody>\n",
              "\t<tr><th scope=row>31</th><td>50</td><td>Male</td><td>BS</td><td>CEO</td><td>25</td><td>250000</td></tr>\n",
              "</tbody>\n",
              "</table>\n"
            ],
            "text/markdown": "\nA data.frame: 1 × 6\n\n| <!--/--> | Age &lt;int&gt; | Gender &lt;fct&gt; | Education.Level &lt;fct&gt; | Job.Title &lt;fct&gt; | Years.of.Experience &lt;dbl&gt; | Salary &lt;int&gt; |\n|---|---|---|---|---|---|---|\n| 31 | 50 | Male | BS | CEO | 25 | 250000 |\n\n",
            "text/latex": "A data.frame: 1 × 6\n\\begin{tabular}{r|llllll}\n  & Age & Gender & Education.Level & Job.Title & Years.of.Experience & Salary\\\\\n  & <int> & <fct> & <fct> & <fct> & <dbl> & <int>\\\\\n\\hline\n\t31 & 50 & Male & BS & CEO & 25 & 250000\\\\\n\\end{tabular}\n",
            "text/plain": [
              "   Age Gender Education.Level Job.Title Years.of.Experience Salary\n",
              "31 50  Male   BS              CEO       25                  250000"
            ]
          },
          "metadata": {}
        },
        {
          "output_type": "display_data",
          "data": {
            "text/html": [
              "CEO\n",
              "<details>\n",
              "\t<summary style=display:list-item;cursor:pointer>\n",
              "\t\t<strong>Levels</strong>:\n",
              "\t</summary>\n",
              "\t<style>\n",
              "\t.list-inline {list-style: none; margin:0; padding: 0}\n",
              "\t.list-inline>li {display: inline-block}\n",
              "\t.list-inline>li:not(:last-child)::after {content: \"\\00b7\"; padding: 0 .5ex}\n",
              "\t</style>\n",
              "\t<ol class=list-inline><li>'Account Manager'</li><li>'Accountant'</li><li>'Administrative Assistant'</li><li>'Back end Developer'</li><li>'Business Analyst'</li><li>'Business Development Manager'</li><li>'Business Intelligence Analyst'</li><li>'CEO'</li><li>'Chief Data Officer'</li><li>'Chief Technology Officer'</li><li>'Content Marketing Manager'</li><li>'Copywriter'</li><li>'Creative Director'</li><li>'Customer Service Manager'</li><li>'Customer Service Rep'</li><li>'Customer Service Representative'</li><li>'Customer Success Manager'</li><li>'Customer Success Rep'</li><li>'Data Analyst'</li><li>'Data Entry Clerk'</li><li>'Data Scientist'</li><li>'Delivery Driver'</li><li>'Developer'</li><li>'Digital Content Producer'</li><li>'Digital Marketing Manager'</li><li>'Digital Marketing Specialist'</li><li>'Director'</li><li>'Director of Business Development'</li><li>'Director of Data Science'</li><li>'Director of Engineering'</li><li>'Director of Finance'</li><li>'Director of HR'</li><li>'Director of Human Capital'</li><li>'Director of Human Resources'</li><li>'Director of Marketing'</li><li>'Director of Operations'</li><li>'Director of Product Management'</li><li>'Director of Sales'</li><li>'Director of Sales and Marketing'</li><li>'Event Coordinator'</li><li>'Financial Advisor'</li><li>'Financial Analyst'</li><li>'Financial Manager'</li><li>'Front end Developer'</li><li>'Front End Developer'</li><li>'Full Stack Engineer'</li><li>'Graphic Designer'</li><li>'Help Desk Analyst'</li><li>'HR Generalist'</li><li>'HR Manager'</li><li>'Human Resources Coordinator'</li><li>'Human Resources Director'</li><li>'Human Resources Manager'</li><li>'IT Manager'</li><li>'IT Support'</li><li>'IT Support Specialist'</li><li>'Junior Account Manager'</li><li>'Junior Accountant'</li><li>'Junior Advertising Coordinator'</li><li>'Junior Business Analyst'</li><li>'Junior Business Development Associate'</li><li>'Junior Business Operations Analyst'</li><li>'Junior Copywriter'</li><li>'Junior Customer Support Specialist'</li><li>'Junior Data Analyst'</li><li>'Junior Data Scientist'</li><li>'Junior Designer'</li><li>'Junior Developer'</li><li>'Junior Financial Advisor'</li><li>'Junior Financial Analyst'</li><li>'Junior HR Coordinator'</li><li>'Junior HR Generalist'</li><li>'Junior Marketing Analyst'</li><li>'Junior Marketing Coordinator'</li><li>'Junior Marketing Manager'</li><li>'Junior Marketing Specialist'</li><li>'Junior Operations Analyst'</li><li>'Junior Operations Coordinator'</li><li>'Junior Operations Manager'</li><li>'Junior Product Manager'</li><li>'Junior Project Manager'</li><li>'Junior Recruiter'</li><li>'Junior Research Scientist'</li><li>'Junior Sales Associate'</li><li>'Junior Sales Representative'</li><li>'Junior Social Media Manager'</li><li>'Junior Social Media Specialist'</li><li>'Junior Software Developer'</li><li>'Junior Software Engineer'</li><li>'Junior UX Designer'</li><li>'Junior Web Designer'</li><li>'Junior Web Developer'</li><li>'Juniour HR Coordinator'</li><li>'Juniour HR Generalist'</li><li>'Marketing Analyst'</li><li>'Marketing Coordinator'</li><li>'Marketing Director'</li><li>'Marketing Manager'</li><li>'Marketing Specialist'</li><li>'Network Engineer'</li><li>'Office Manager'</li><li>'Operations Analyst'</li><li>'Operations Director'</li><li>'Operations Manager'</li><li>'Principal Engineer'</li><li>'Principal Scientist'</li><li>'Product Designer'</li><li>'Product Manager'</li><li>'Product Marketing Manager'</li><li>'Project Engineer'</li><li>'Project Manager'</li><li>'Public Relations Manager'</li><li>'Receptionist'</li><li>'Recruiter'</li><li>'Research Director'</li><li>'Research Scientist'</li><li>'Sales Associate'</li><li>'Sales Director'</li><li>'Sales Executive'</li><li>'Sales Manager'</li><li>'Sales Operations Manager'</li><li>'Sales Representative'</li><li>'Senior Account Executive'</li><li>'Senior Account Manager'</li><li>'Senior Accountant'</li><li>'Senior Business Analyst'</li><li>'Senior Business Development Manager'</li><li>'Senior Consultant'</li><li>'Senior Data Analyst'</li><li>'Senior Data Engineer'</li><li>'Senior Data Scientist'</li><li>'Senior Engineer'</li><li>'Senior Financial Advisor'</li><li>'Senior Financial Analyst'</li><li>'Senior Financial Manager'</li><li>'Senior Graphic Designer'</li><li>'Senior HR Generalist'</li><li>'Senior HR Manager'</li><li>'Senior HR Specialist'</li><li>'Senior Human Resources Coordinator'</li><li>'Senior Human Resources Manager'</li><li>'Senior Human Resources Specialist'</li><li>'Senior IT Consultant'</li><li>'Senior IT Project Manager'</li><li>'Senior IT Support Specialist'</li><li>'Senior Manager'</li><li>'Senior Marketing Analyst'</li><li>'Senior Marketing Coordinator'</li><li>'Senior Marketing Director'</li><li>'Senior Marketing Manager'</li><li>'Senior Marketing Specialist'</li><li>'Senior Operations Analyst'</li><li>'Senior Operations Coordinator'</li><li>'Senior Operations Manager'</li><li>'Senior Product Designer'</li><li>'Senior Product Development Manager'</li><li>'Senior Product Manager'</li><li>'Senior Product Marketing Manager'</li><li>'Senior Project Coordinator'</li><li>'Senior Project Engineer'</li><li>'Senior Project Manager'</li><li>'Senior Quality Assurance Analyst'</li><li>'Senior Research Scientist'</li><li>'Senior Researcher'</li><li>'Senior Sales Manager'</li><li>'Senior Sales Representative'</li><li>'Senior Scientist'</li><li>'Senior Software Architect'</li><li>'Senior Software Developer'</li><li>'Senior Software Engineer'</li><li>'Senior Training Specialist'</li><li>'Senior UX Designer'</li><li>'Social Media Man'</li><li>'Social Media Manager'</li><li>'Social Media Specialist'</li><li>'Software Developer'</li><li>'Software Engineer'</li><li>'Software Engineer Manager'</li><li>'Software Manager'</li><li>'Software Project Manager'</li><li>'Strategy Consultant'</li><li>'Supply Chain Analyst'</li><li>'Supply Chain Manager'</li><li>'Technical Recruiter'</li><li>'Technical Support Specialist'</li><li>'Technical Writer'</li><li>'Training Specialist'</li><li>'UX Designer'</li><li>'UX Researcher'</li><li>'VP of Finance'</li><li>'VP of Operations'</li><li>'Web Developer'</li></ol>\n",
              "</details>"
            ],
            "text/markdown": "CEO\n**Levels**: 1. 'Account Manager'\n2. 'Accountant'\n3. 'Administrative Assistant'\n4. 'Back end Developer'\n5. 'Business Analyst'\n6. 'Business Development Manager'\n7. 'Business Intelligence Analyst'\n8. 'CEO'\n9. 'Chief Data Officer'\n10. 'Chief Technology Officer'\n11. 'Content Marketing Manager'\n12. 'Copywriter'\n13. 'Creative Director'\n14. 'Customer Service Manager'\n15. 'Customer Service Rep'\n16. 'Customer Service Representative'\n17. 'Customer Success Manager'\n18. 'Customer Success Rep'\n19. 'Data Analyst'\n20. 'Data Entry Clerk'\n21. 'Data Scientist'\n22. 'Delivery Driver'\n23. 'Developer'\n24. 'Digital Content Producer'\n25. 'Digital Marketing Manager'\n26. 'Digital Marketing Specialist'\n27. 'Director'\n28. 'Director of Business Development'\n29. 'Director of Data Science'\n30. 'Director of Engineering'\n31. 'Director of Finance'\n32. 'Director of HR'\n33. 'Director of Human Capital'\n34. 'Director of Human Resources'\n35. 'Director of Marketing'\n36. 'Director of Operations'\n37. 'Director of Product Management'\n38. 'Director of Sales'\n39. 'Director of Sales and Marketing'\n40. 'Event Coordinator'\n41. 'Financial Advisor'\n42. 'Financial Analyst'\n43. 'Financial Manager'\n44. 'Front end Developer'\n45. 'Front End Developer'\n46. 'Full Stack Engineer'\n47. 'Graphic Designer'\n48. 'Help Desk Analyst'\n49. 'HR Generalist'\n50. 'HR Manager'\n51. 'Human Resources Coordinator'\n52. 'Human Resources Director'\n53. 'Human Resources Manager'\n54. 'IT Manager'\n55. 'IT Support'\n56. 'IT Support Specialist'\n57. 'Junior Account Manager'\n58. 'Junior Accountant'\n59. 'Junior Advertising Coordinator'\n60. 'Junior Business Analyst'\n61. 'Junior Business Development Associate'\n62. 'Junior Business Operations Analyst'\n63. 'Junior Copywriter'\n64. 'Junior Customer Support Specialist'\n65. 'Junior Data Analyst'\n66. 'Junior Data Scientist'\n67. 'Junior Designer'\n68. 'Junior Developer'\n69. 'Junior Financial Advisor'\n70. 'Junior Financial Analyst'\n71. 'Junior HR Coordinator'\n72. 'Junior HR Generalist'\n73. 'Junior Marketing Analyst'\n74. 'Junior Marketing Coordinator'\n75. 'Junior Marketing Manager'\n76. 'Junior Marketing Specialist'\n77. 'Junior Operations Analyst'\n78. 'Junior Operations Coordinator'\n79. 'Junior Operations Manager'\n80. 'Junior Product Manager'\n81. 'Junior Project Manager'\n82. 'Junior Recruiter'\n83. 'Junior Research Scientist'\n84. 'Junior Sales Associate'\n85. 'Junior Sales Representative'\n86. 'Junior Social Media Manager'\n87. 'Junior Social Media Specialist'\n88. 'Junior Software Developer'\n89. 'Junior Software Engineer'\n90. 'Junior UX Designer'\n91. 'Junior Web Designer'\n92. 'Junior Web Developer'\n93. 'Juniour HR Coordinator'\n94. 'Juniour HR Generalist'\n95. 'Marketing Analyst'\n96. 'Marketing Coordinator'\n97. 'Marketing Director'\n98. 'Marketing Manager'\n99. 'Marketing Specialist'\n100. 'Network Engineer'\n101. 'Office Manager'\n102. 'Operations Analyst'\n103. 'Operations Director'\n104. 'Operations Manager'\n105. 'Principal Engineer'\n106. 'Principal Scientist'\n107. 'Product Designer'\n108. 'Product Manager'\n109. 'Product Marketing Manager'\n110. 'Project Engineer'\n111. 'Project Manager'\n112. 'Public Relations Manager'\n113. 'Receptionist'\n114. 'Recruiter'\n115. 'Research Director'\n116. 'Research Scientist'\n117. 'Sales Associate'\n118. 'Sales Director'\n119. 'Sales Executive'\n120. 'Sales Manager'\n121. 'Sales Operations Manager'\n122. 'Sales Representative'\n123. 'Senior Account Executive'\n124. 'Senior Account Manager'\n125. 'Senior Accountant'\n126. 'Senior Business Analyst'\n127. 'Senior Business Development Manager'\n128. 'Senior Consultant'\n129. 'Senior Data Analyst'\n130. 'Senior Data Engineer'\n131. 'Senior Data Scientist'\n132. 'Senior Engineer'\n133. 'Senior Financial Advisor'\n134. 'Senior Financial Analyst'\n135. 'Senior Financial Manager'\n136. 'Senior Graphic Designer'\n137. 'Senior HR Generalist'\n138. 'Senior HR Manager'\n139. 'Senior HR Specialist'\n140. 'Senior Human Resources Coordinator'\n141. 'Senior Human Resources Manager'\n142. 'Senior Human Resources Specialist'\n143. 'Senior IT Consultant'\n144. 'Senior IT Project Manager'\n145. 'Senior IT Support Specialist'\n146. 'Senior Manager'\n147. 'Senior Marketing Analyst'\n148. 'Senior Marketing Coordinator'\n149. 'Senior Marketing Director'\n150. 'Senior Marketing Manager'\n151. 'Senior Marketing Specialist'\n152. 'Senior Operations Analyst'\n153. 'Senior Operations Coordinator'\n154. 'Senior Operations Manager'\n155. 'Senior Product Designer'\n156. 'Senior Product Development Manager'\n157. 'Senior Product Manager'\n158. 'Senior Product Marketing Manager'\n159. 'Senior Project Coordinator'\n160. 'Senior Project Engineer'\n161. 'Senior Project Manager'\n162. 'Senior Quality Assurance Analyst'\n163. 'Senior Research Scientist'\n164. 'Senior Researcher'\n165. 'Senior Sales Manager'\n166. 'Senior Sales Representative'\n167. 'Senior Scientist'\n168. 'Senior Software Architect'\n169. 'Senior Software Developer'\n170. 'Senior Software Engineer'\n171. 'Senior Training Specialist'\n172. 'Senior UX Designer'\n173. 'Social Media Man'\n174. 'Social Media Manager'\n175. 'Social Media Specialist'\n176. 'Software Developer'\n177. 'Software Engineer'\n178. 'Software Engineer Manager'\n179. 'Software Manager'\n180. 'Software Project Manager'\n181. 'Strategy Consultant'\n182. 'Supply Chain Analyst'\n183. 'Supply Chain Manager'\n184. 'Technical Recruiter'\n185. 'Technical Support Specialist'\n186. 'Technical Writer'\n187. 'Training Specialist'\n188. 'UX Designer'\n189. 'UX Researcher'\n190. 'VP of Finance'\n191. 'VP of Operations'\n192. 'Web Developer'\n\n\n",
            "text/latex": "CEO\n\\emph{Levels}: \\begin{enumerate*}\n\\item 'Account Manager'\n\\item 'Accountant'\n\\item 'Administrative Assistant'\n\\item 'Back end Developer'\n\\item 'Business Analyst'\n\\item 'Business Development Manager'\n\\item 'Business Intelligence Analyst'\n\\item 'CEO'\n\\item 'Chief Data Officer'\n\\item 'Chief Technology Officer'\n\\item 'Content Marketing Manager'\n\\item 'Copywriter'\n\\item 'Creative Director'\n\\item 'Customer Service Manager'\n\\item 'Customer Service Rep'\n\\item 'Customer Service Representative'\n\\item 'Customer Success Manager'\n\\item 'Customer Success Rep'\n\\item 'Data Analyst'\n\\item 'Data Entry Clerk'\n\\item 'Data Scientist'\n\\item 'Delivery Driver'\n\\item 'Developer'\n\\item 'Digital Content Producer'\n\\item 'Digital Marketing Manager'\n\\item 'Digital Marketing Specialist'\n\\item 'Director'\n\\item 'Director of Business Development'\n\\item 'Director of Data Science'\n\\item 'Director of Engineering'\n\\item 'Director of Finance'\n\\item 'Director of HR'\n\\item 'Director of Human Capital'\n\\item 'Director of Human Resources'\n\\item 'Director of Marketing'\n\\item 'Director of Operations'\n\\item 'Director of Product Management'\n\\item 'Director of Sales'\n\\item 'Director of Sales and Marketing'\n\\item 'Event Coordinator'\n\\item 'Financial Advisor'\n\\item 'Financial Analyst'\n\\item 'Financial Manager'\n\\item 'Front end Developer'\n\\item 'Front End Developer'\n\\item 'Full Stack Engineer'\n\\item 'Graphic Designer'\n\\item 'Help Desk Analyst'\n\\item 'HR Generalist'\n\\item 'HR Manager'\n\\item 'Human Resources Coordinator'\n\\item 'Human Resources Director'\n\\item 'Human Resources Manager'\n\\item 'IT Manager'\n\\item 'IT Support'\n\\item 'IT Support Specialist'\n\\item 'Junior Account Manager'\n\\item 'Junior Accountant'\n\\item 'Junior Advertising Coordinator'\n\\item 'Junior Business Analyst'\n\\item 'Junior Business Development Associate'\n\\item 'Junior Business Operations Analyst'\n\\item 'Junior Copywriter'\n\\item 'Junior Customer Support Specialist'\n\\item 'Junior Data Analyst'\n\\item 'Junior Data Scientist'\n\\item 'Junior Designer'\n\\item 'Junior Developer'\n\\item 'Junior Financial Advisor'\n\\item 'Junior Financial Analyst'\n\\item 'Junior HR Coordinator'\n\\item 'Junior HR Generalist'\n\\item 'Junior Marketing Analyst'\n\\item 'Junior Marketing Coordinator'\n\\item 'Junior Marketing Manager'\n\\item 'Junior Marketing Specialist'\n\\item 'Junior Operations Analyst'\n\\item 'Junior Operations Coordinator'\n\\item 'Junior Operations Manager'\n\\item 'Junior Product Manager'\n\\item 'Junior Project Manager'\n\\item 'Junior Recruiter'\n\\item 'Junior Research Scientist'\n\\item 'Junior Sales Associate'\n\\item 'Junior Sales Representative'\n\\item 'Junior Social Media Manager'\n\\item 'Junior Social Media Specialist'\n\\item 'Junior Software Developer'\n\\item 'Junior Software Engineer'\n\\item 'Junior UX Designer'\n\\item 'Junior Web Designer'\n\\item 'Junior Web Developer'\n\\item 'Juniour HR Coordinator'\n\\item 'Juniour HR Generalist'\n\\item 'Marketing Analyst'\n\\item 'Marketing Coordinator'\n\\item 'Marketing Director'\n\\item 'Marketing Manager'\n\\item 'Marketing Specialist'\n\\item 'Network Engineer'\n\\item 'Office Manager'\n\\item 'Operations Analyst'\n\\item 'Operations Director'\n\\item 'Operations Manager'\n\\item 'Principal Engineer'\n\\item 'Principal Scientist'\n\\item 'Product Designer'\n\\item 'Product Manager'\n\\item 'Product Marketing Manager'\n\\item 'Project Engineer'\n\\item 'Project Manager'\n\\item 'Public Relations Manager'\n\\item 'Receptionist'\n\\item 'Recruiter'\n\\item 'Research Director'\n\\item 'Research Scientist'\n\\item 'Sales Associate'\n\\item 'Sales Director'\n\\item 'Sales Executive'\n\\item 'Sales Manager'\n\\item 'Sales Operations Manager'\n\\item 'Sales Representative'\n\\item 'Senior Account Executive'\n\\item 'Senior Account Manager'\n\\item 'Senior Accountant'\n\\item 'Senior Business Analyst'\n\\item 'Senior Business Development Manager'\n\\item 'Senior Consultant'\n\\item 'Senior Data Analyst'\n\\item 'Senior Data Engineer'\n\\item 'Senior Data Scientist'\n\\item 'Senior Engineer'\n\\item 'Senior Financial Advisor'\n\\item 'Senior Financial Analyst'\n\\item 'Senior Financial Manager'\n\\item 'Senior Graphic Designer'\n\\item 'Senior HR Generalist'\n\\item 'Senior HR Manager'\n\\item 'Senior HR Specialist'\n\\item 'Senior Human Resources Coordinator'\n\\item 'Senior Human Resources Manager'\n\\item 'Senior Human Resources Specialist'\n\\item 'Senior IT Consultant'\n\\item 'Senior IT Project Manager'\n\\item 'Senior IT Support Specialist'\n\\item 'Senior Manager'\n\\item 'Senior Marketing Analyst'\n\\item 'Senior Marketing Coordinator'\n\\item 'Senior Marketing Director'\n\\item 'Senior Marketing Manager'\n\\item 'Senior Marketing Specialist'\n\\item 'Senior Operations Analyst'\n\\item 'Senior Operations Coordinator'\n\\item 'Senior Operations Manager'\n\\item 'Senior Product Designer'\n\\item 'Senior Product Development Manager'\n\\item 'Senior Product Manager'\n\\item 'Senior Product Marketing Manager'\n\\item 'Senior Project Coordinator'\n\\item 'Senior Project Engineer'\n\\item 'Senior Project Manager'\n\\item 'Senior Quality Assurance Analyst'\n\\item 'Senior Research Scientist'\n\\item 'Senior Researcher'\n\\item 'Senior Sales Manager'\n\\item 'Senior Sales Representative'\n\\item 'Senior Scientist'\n\\item 'Senior Software Architect'\n\\item 'Senior Software Developer'\n\\item 'Senior Software Engineer'\n\\item 'Senior Training Specialist'\n\\item 'Senior UX Designer'\n\\item 'Social Media Man'\n\\item 'Social Media Manager'\n\\item 'Social Media Specialist'\n\\item 'Software Developer'\n\\item 'Software Engineer'\n\\item 'Software Engineer Manager'\n\\item 'Software Manager'\n\\item 'Software Project Manager'\n\\item 'Strategy Consultant'\n\\item 'Supply Chain Analyst'\n\\item 'Supply Chain Manager'\n\\item 'Technical Recruiter'\n\\item 'Technical Support Specialist'\n\\item 'Technical Writer'\n\\item 'Training Specialist'\n\\item 'UX Designer'\n\\item 'UX Researcher'\n\\item 'VP of Finance'\n\\item 'VP of Operations'\n\\item 'Web Developer'\n\\end{enumerate*}\n",
            "text/plain": [
              "[1] CEO\n",
              "192 Levels: Account Manager Accountant ... Web Developer"
            ]
          },
          "metadata": {}
        }
      ]
    },
    {
      "cell_type": "markdown",
      "metadata": {
        "id": "MHG07k1PNhCe"
      },
      "source": [
        "<br>\n",
        "\n",
        "<br>"
      ]
    },
    {
      "cell_type": "markdown",
      "metadata": {
        "id": "DjPL1GOvNt9I"
      },
      "source": [
        "<br>\n",
        "\n",
        "---"
      ]
    },
    {
      "cell_type": "markdown",
      "metadata": {
        "id": "Pk15BeItNt9J"
      },
      "source": [
        "####<font color=red>Task 5</font> - `order()`\n",
        "\n"
      ]
    },
    {
      "cell_type": "markdown",
      "metadata": {
        "id": "AhJjQ83eNt9K"
      },
      "source": [
        "<font color=red>Task 5.1</font>\n",
        "\n",
        "* Order the `salary` data frame from smallest salary to largest salary using the `order()` function\n",
        "\n",
        "* Store the ordered data frame as the variable `salary_low_high`\n",
        "\n",
        "* Show the first 10 rows using the `head()` function\n",
        "\n",
        "* In a text cell, write your observations of these 10 rows."
      ]
    },
    {
      "cell_type": "code",
      "source": [
        "salary_low_high <- salary[order(salary$Salary),]\n",
        "head(salary_low_high, 10)"
      ],
      "metadata": {
        "colab": {
          "base_uri": "https://localhost:8080/",
          "height": 411
        },
        "id": "IfLJwUgClIpV",
        "outputId": "fcb0be28-d85e-4e03-ff74-467a1bb22645"
      },
      "execution_count": 31,
      "outputs": [
        {
          "output_type": "display_data",
          "data": {
            "text/html": [
              "<table class=\"dataframe\">\n",
              "<caption>A data.frame: 10 × 6</caption>\n",
              "<thead>\n",
              "\t<tr><th></th><th scope=col>Age</th><th scope=col>Gender</th><th scope=col>Education.Level</th><th scope=col>Job.Title</th><th scope=col>Years.of.Experience</th><th scope=col>Salary</th></tr>\n",
              "\t<tr><th></th><th scope=col>&lt;int&gt;</th><th scope=col>&lt;fct&gt;</th><th scope=col>&lt;fct&gt;</th><th scope=col>&lt;fct&gt;</th><th scope=col>&lt;dbl&gt;</th><th scope=col>&lt;int&gt;</th></tr>\n",
              "</thead>\n",
              "<tbody>\n",
              "\t<tr><th scope=row>260</th><td>29</td><td>Male  </td><td>BS </td><td>Junior Business Operations Analyst</td><td>1.5</td><td>  350</td></tr>\n",
              "\t<tr><th scope=row>4634</th><td>31</td><td>Female</td><td>BS </td><td>Junior HR Coordinator             </td><td>4.0</td><td>  500</td></tr>\n",
              "\t<tr><th scope=row>1891</th><td>25</td><td>Female</td><td>BS </td><td>Front end Developer               </td><td>1.0</td><td>  550</td></tr>\n",
              "\t<tr><th scope=row>2655</th><td>23</td><td>Male  </td><td>PhD</td><td>Software Engineer Manager         </td><td>1.0</td><td>  579</td></tr>\n",
              "\t<tr><th scope=row>3894</th><td>22</td><td>Male  </td><td>HS </td><td>Junior Sales Associate            </td><td>1.0</td><td>25000</td></tr>\n",
              "\t<tr><th scope=row>3907</th><td>29</td><td>Female</td><td>HS </td><td>Junior Sales Associate            </td><td>1.0</td><td>25000</td></tr>\n",
              "\t<tr><th scope=row>3922</th><td>29</td><td>Female</td><td>HS </td><td>Junior Sales Associate            </td><td>1.0</td><td>25000</td></tr>\n",
              "\t<tr><th scope=row>3937</th><td>29</td><td>Female</td><td>HS </td><td>Junior Sales Associate            </td><td>1.0</td><td>25000</td></tr>\n",
              "\t<tr><th scope=row>3952</th><td>29</td><td>Female</td><td>HS </td><td>Junior Sales Associate            </td><td>1.0</td><td>25000</td></tr>\n",
              "\t<tr><th scope=row>3967</th><td>29</td><td>Female</td><td>HS </td><td>Junior Sales Associate            </td><td>1.0</td><td>25000</td></tr>\n",
              "</tbody>\n",
              "</table>\n"
            ],
            "text/markdown": "\nA data.frame: 10 × 6\n\n| <!--/--> | Age &lt;int&gt; | Gender &lt;fct&gt; | Education.Level &lt;fct&gt; | Job.Title &lt;fct&gt; | Years.of.Experience &lt;dbl&gt; | Salary &lt;int&gt; |\n|---|---|---|---|---|---|---|\n| 260 | 29 | Male   | BS  | Junior Business Operations Analyst | 1.5 |   350 |\n| 4634 | 31 | Female | BS  | Junior HR Coordinator              | 4.0 |   500 |\n| 1891 | 25 | Female | BS  | Front end Developer                | 1.0 |   550 |\n| 2655 | 23 | Male   | PhD | Software Engineer Manager          | 1.0 |   579 |\n| 3894 | 22 | Male   | HS  | Junior Sales Associate             | 1.0 | 25000 |\n| 3907 | 29 | Female | HS  | Junior Sales Associate             | 1.0 | 25000 |\n| 3922 | 29 | Female | HS  | Junior Sales Associate             | 1.0 | 25000 |\n| 3937 | 29 | Female | HS  | Junior Sales Associate             | 1.0 | 25000 |\n| 3952 | 29 | Female | HS  | Junior Sales Associate             | 1.0 | 25000 |\n| 3967 | 29 | Female | HS  | Junior Sales Associate             | 1.0 | 25000 |\n\n",
            "text/latex": "A data.frame: 10 × 6\n\\begin{tabular}{r|llllll}\n  & Age & Gender & Education.Level & Job.Title & Years.of.Experience & Salary\\\\\n  & <int> & <fct> & <fct> & <fct> & <dbl> & <int>\\\\\n\\hline\n\t260 & 29 & Male   & BS  & Junior Business Operations Analyst & 1.5 &   350\\\\\n\t4634 & 31 & Female & BS  & Junior HR Coordinator              & 4.0 &   500\\\\\n\t1891 & 25 & Female & BS  & Front end Developer                & 1.0 &   550\\\\\n\t2655 & 23 & Male   & PhD & Software Engineer Manager          & 1.0 &   579\\\\\n\t3894 & 22 & Male   & HS  & Junior Sales Associate             & 1.0 & 25000\\\\\n\t3907 & 29 & Female & HS  & Junior Sales Associate             & 1.0 & 25000\\\\\n\t3922 & 29 & Female & HS  & Junior Sales Associate             & 1.0 & 25000\\\\\n\t3937 & 29 & Female & HS  & Junior Sales Associate             & 1.0 & 25000\\\\\n\t3952 & 29 & Female & HS  & Junior Sales Associate             & 1.0 & 25000\\\\\n\t3967 & 29 & Female & HS  & Junior Sales Associate             & 1.0 & 25000\\\\\n\\end{tabular}\n",
            "text/plain": [
              "     Age Gender Education.Level Job.Title                         \n",
              "260  29  Male   BS              Junior Business Operations Analyst\n",
              "4634 31  Female BS              Junior HR Coordinator             \n",
              "1891 25  Female BS              Front end Developer               \n",
              "2655 23  Male   PhD             Software Engineer Manager         \n",
              "3894 22  Male   HS              Junior Sales Associate            \n",
              "3907 29  Female HS              Junior Sales Associate            \n",
              "3922 29  Female HS              Junior Sales Associate            \n",
              "3937 29  Female HS              Junior Sales Associate            \n",
              "3952 29  Female HS              Junior Sales Associate            \n",
              "3967 29  Female HS              Junior Sales Associate            \n",
              "     Years.of.Experience Salary\n",
              "260  1.5                   350 \n",
              "4634 4.0                   500 \n",
              "1891 1.0                   550 \n",
              "2655 1.0                   579 \n",
              "3894 1.0                 25000 \n",
              "3907 1.0                 25000 \n",
              "3922 1.0                 25000 \n",
              "3937 1.0                 25000 \n",
              "3952 1.0                 25000 \n",
              "3967 1.0                 25000 "
            ]
          },
          "metadata": {}
        }
      ]
    },
    {
      "cell_type": "markdown",
      "source": [
        "**Task 5.1**<br>\n",
        "\n",
        "We can see that most of the lowest-paid individuals are in junior positions, with low experience, holding high school degrees, and are mostly female. Three of them have BS degrees, and one has a PhD.\n",
        "\n",
        "\n",
        "\n"
      ],
      "metadata": {
        "id": "HXlEYVi1mQQx"
      }
    },
    {
      "cell_type": "markdown",
      "metadata": {
        "id": "KSI1dyX3Nt9L"
      },
      "source": [
        "<br>"
      ]
    },
    {
      "cell_type": "markdown",
      "metadata": {
        "id": "DR2TN-rcntjg"
      },
      "source": [
        "<font color=red>Task 5.2</font>\n",
        "\n",
        "* Order the `salary` data frame from smallest salary to largest salary using the `order()` function\n",
        "\n",
        "* Store the ordered data frame as the variable `salary_low_high`\n",
        "\n",
        "* Show the first 10 rows using the `head()` function\n",
        "\n",
        "* In a text cell, write your observations of these 10 rows."
      ]
    },
    {
      "cell_type": "code",
      "source": [
        "#salary_high_low\n",
        "salary_high_low <- salary[order(salary$Salary, decreasing = TRUE),]\n",
        "\n",
        "head(salary_high_low, 10)"
      ],
      "metadata": {
        "colab": {
          "base_uri": "https://localhost:8080/",
          "height": 411
        },
        "id": "JxV7ke3-nspN",
        "outputId": "24bc4f2f-4e67-43de-a404-6e364aa2b546"
      },
      "execution_count": 32,
      "outputs": [
        {
          "output_type": "display_data",
          "data": {
            "text/html": [
              "<table class=\"dataframe\">\n",
              "<caption>A data.frame: 10 × 6</caption>\n",
              "<thead>\n",
              "\t<tr><th></th><th scope=col>Age</th><th scope=col>Gender</th><th scope=col>Education.Level</th><th scope=col>Job.Title</th><th scope=col>Years.of.Experience</th><th scope=col>Salary</th></tr>\n",
              "\t<tr><th></th><th scope=col>&lt;int&gt;</th><th scope=col>&lt;fct&gt;</th><th scope=col>&lt;fct&gt;</th><th scope=col>&lt;fct&gt;</th><th scope=col>&lt;dbl&gt;</th><th scope=col>&lt;int&gt;</th></tr>\n",
              "</thead>\n",
              "<tbody>\n",
              "\t<tr><th scope=row>31</th><td>50</td><td>Male</td><td>BS </td><td>CEO                     </td><td>25</td><td>250000</td></tr>\n",
              "\t<tr><th scope=row>84</th><td>52</td><td>Male</td><td>PhD</td><td>Chief Technology Officer</td><td>24</td><td>250000</td></tr>\n",
              "\t<tr><th scope=row>5002</th><td>45</td><td>Male</td><td>BS </td><td>Financial Manager       </td><td>21</td><td>250000</td></tr>\n",
              "\t<tr><th scope=row>4277</th><td>51</td><td>Male</td><td>PhD</td><td>Data Scientist          </td><td>24</td><td>240000</td></tr>\n",
              "\t<tr><th scope=row>4292</th><td>51</td><td>Male</td><td>PhD</td><td>Data Scientist          </td><td>24</td><td>240000</td></tr>\n",
              "\t<tr><th scope=row>4307</th><td>51</td><td>Male</td><td>PhD</td><td>Data Scientist          </td><td>24</td><td>240000</td></tr>\n",
              "\t<tr><th scope=row>4322</th><td>51</td><td>Male</td><td>PhD</td><td>Data Scientist          </td><td>24</td><td>240000</td></tr>\n",
              "\t<tr><th scope=row>4337</th><td>51</td><td>Male</td><td>PhD</td><td>Data Scientist          </td><td>24</td><td>240000</td></tr>\n",
              "\t<tr><th scope=row>4352</th><td>51</td><td>Male</td><td>PhD</td><td>Data Scientist          </td><td>24</td><td>240000</td></tr>\n",
              "\t<tr><th scope=row>4367</th><td>51</td><td>Male</td><td>PhD</td><td>Data Scientist          </td><td>24</td><td>240000</td></tr>\n",
              "</tbody>\n",
              "</table>\n"
            ],
            "text/markdown": "\nA data.frame: 10 × 6\n\n| <!--/--> | Age &lt;int&gt; | Gender &lt;fct&gt; | Education.Level &lt;fct&gt; | Job.Title &lt;fct&gt; | Years.of.Experience &lt;dbl&gt; | Salary &lt;int&gt; |\n|---|---|---|---|---|---|---|\n| 31 | 50 | Male | BS  | CEO                      | 25 | 250000 |\n| 84 | 52 | Male | PhD | Chief Technology Officer | 24 | 250000 |\n| 5002 | 45 | Male | BS  | Financial Manager        | 21 | 250000 |\n| 4277 | 51 | Male | PhD | Data Scientist           | 24 | 240000 |\n| 4292 | 51 | Male | PhD | Data Scientist           | 24 | 240000 |\n| 4307 | 51 | Male | PhD | Data Scientist           | 24 | 240000 |\n| 4322 | 51 | Male | PhD | Data Scientist           | 24 | 240000 |\n| 4337 | 51 | Male | PhD | Data Scientist           | 24 | 240000 |\n| 4352 | 51 | Male | PhD | Data Scientist           | 24 | 240000 |\n| 4367 | 51 | Male | PhD | Data Scientist           | 24 | 240000 |\n\n",
            "text/latex": "A data.frame: 10 × 6\n\\begin{tabular}{r|llllll}\n  & Age & Gender & Education.Level & Job.Title & Years.of.Experience & Salary\\\\\n  & <int> & <fct> & <fct> & <fct> & <dbl> & <int>\\\\\n\\hline\n\t31 & 50 & Male & BS  & CEO                      & 25 & 250000\\\\\n\t84 & 52 & Male & PhD & Chief Technology Officer & 24 & 250000\\\\\n\t5002 & 45 & Male & BS  & Financial Manager        & 21 & 250000\\\\\n\t4277 & 51 & Male & PhD & Data Scientist           & 24 & 240000\\\\\n\t4292 & 51 & Male & PhD & Data Scientist           & 24 & 240000\\\\\n\t4307 & 51 & Male & PhD & Data Scientist           & 24 & 240000\\\\\n\t4322 & 51 & Male & PhD & Data Scientist           & 24 & 240000\\\\\n\t4337 & 51 & Male & PhD & Data Scientist           & 24 & 240000\\\\\n\t4352 & 51 & Male & PhD & Data Scientist           & 24 & 240000\\\\\n\t4367 & 51 & Male & PhD & Data Scientist           & 24 & 240000\\\\\n\\end{tabular}\n",
            "text/plain": [
              "     Age Gender Education.Level Job.Title                Years.of.Experience\n",
              "31   50  Male   BS              CEO                      25                 \n",
              "84   52  Male   PhD             Chief Technology Officer 24                 \n",
              "5002 45  Male   BS              Financial Manager        21                 \n",
              "4277 51  Male   PhD             Data Scientist           24                 \n",
              "4292 51  Male   PhD             Data Scientist           24                 \n",
              "4307 51  Male   PhD             Data Scientist           24                 \n",
              "4322 51  Male   PhD             Data Scientist           24                 \n",
              "4337 51  Male   PhD             Data Scientist           24                 \n",
              "4352 51  Male   PhD             Data Scientist           24                 \n",
              "4367 51  Male   PhD             Data Scientist           24                 \n",
              "     Salary\n",
              "31   250000\n",
              "84   250000\n",
              "5002 250000\n",
              "4277 240000\n",
              "4292 240000\n",
              "4307 240000\n",
              "4322 240000\n",
              "4337 240000\n",
              "4352 240000\n",
              "4367 240000"
            ]
          },
          "metadata": {}
        }
      ]
    },
    {
      "cell_type": "markdown",
      "source": [
        "**Task 5.2**<br>\n",
        "\n",
        "We can see that most of the highest-paid individuals are have data scientist positions, with 24 Years of experience, holding PhDs, and are all Male. There are only two with BS degrees and one of these individuals is the CEO."
      ],
      "metadata": {
        "id": "NlTHGcl_oO__"
      }
    },
    {
      "cell_type": "markdown",
      "metadata": {
        "id": "g0NVEXsKNt9L"
      },
      "source": [
        "<br>\n",
        "\n",
        "<br>"
      ]
    }
  ],
  "metadata": {
    "colab": {
      "collapsed_sections": [
        "QdyJzDgAsFNZ",
        "gFPSdK5aXOPB",
        "oHahMLpO8A9D",
        "a-IfS98KNcXJ",
        "BDUQK9QoNhCc",
        "Pk15BeItNt9J"
      ],
      "provenance": []
    },
    "kernelspec": {
      "display_name": "R",
      "name": "ir"
    }
  },
  "nbformat": 4,
  "nbformat_minor": 0
}