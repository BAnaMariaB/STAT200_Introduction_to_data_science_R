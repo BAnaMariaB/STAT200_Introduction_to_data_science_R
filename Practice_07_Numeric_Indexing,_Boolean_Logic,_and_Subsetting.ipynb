{
  "cells": [
    {
      "cell_type": "markdown",
      "metadata": {
        "id": "gtETsh5j8vHw"
      },
      "source": [
        "# **Practice 07: Numeric Indexing, Boolean Logic, and Subsetting**\n",
        "\n",
        "#### **WRITE YOUR NAME HERE**"
      ]
    },
    {
      "cell_type": "markdown",
      "metadata": {
        "id": "Efu_Sse0Wp6P"
      },
      "source": [
        "---\n",
        "\n",
        "**IMPORTANT**:\n",
        "- Before starting the lab, save a copy to your google drive by navigating to `File > Save a copy in Drive` <br>\n",
        "\n",
        "<br>\n",
        "\n",
        "\n",
        "**Instructions**: Complete the lab below.\n",
        "\n",
        "- <font color=red>Tasks</font> indicated in red must be completed to receive credit\n",
        "- Include all code for your work\n",
        "- Include markdown cells with written answers explaining your work when prompted\n",
        "- **NOTE: Your completed lab must be submitted to Canvas as a .ipynb file by the end of the lab session**\n",
        "---"
      ]
    },
    {
      "cell_type": "markdown",
      "metadata": {
        "id": "wFVxj8nD-yIt"
      },
      "source": [
        "<br>"
      ]
    },
    {
      "cell_type": "markdown",
      "metadata": {
        "id": "omeTfTlN4Npb"
      },
      "source": [
        "####<font color=red>Organized</font>\n",
        "\n",
        "**Answers should be organized in the following format for organization and readability**\n"
      ]
    },
    {
      "cell_type": "markdown",
      "metadata": {
        "id": "uLialHuQ4-vU"
      },
      "source": [
        "<font color=red>Example task 1</font>"
      ]
    },
    {
      "cell_type": "code",
      "execution_count": 1,
      "metadata": {
        "id": "Mxff4INi5Evt"
      },
      "outputs": [],
      "source": [
        "# 1.\n",
        "\n",
        "# This will be the code block to answer the first part of a task"
      ]
    },
    {
      "cell_type": "markdown",
      "metadata": {
        "id": "A-GtymRS5Syz"
      },
      "source": [
        "1. This will be the text answer/explanation (if prompted) for the first task"
      ]
    },
    {
      "cell_type": "markdown",
      "metadata": {
        "id": "fDAMP6ZC5Zqp"
      },
      "source": [
        "<font color=red>Example task 2</font>"
      ]
    },
    {
      "cell_type": "code",
      "execution_count": 2,
      "metadata": {
        "id": "K94QMtU55Zqp"
      },
      "outputs": [],
      "source": [
        "# 2.\n",
        "\n",
        "# This will be the code block to answer the second part of a task"
      ]
    },
    {
      "cell_type": "markdown",
      "metadata": {
        "id": "xRfvDNu25Zqp"
      },
      "source": [
        "2. This will be the text answer/explanation (if prompted) for the second task"
      ]
    },
    {
      "cell_type": "markdown",
      "metadata": {
        "id": "JIEIhg5I5JfN"
      },
      "source": [
        "<br>\n",
        "\n",
        "Continue this format for the remaining subtasks\n"
      ]
    },
    {
      "cell_type": "markdown",
      "metadata": {
        "id": "rcQECH5y4RiC"
      },
      "source": [
        "<br>"
      ]
    },
    {
      "cell_type": "markdown",
      "source": [
        "---\n",
        "\n",
        "<br>"
      ],
      "metadata": {
        "id": "jFiNcIjpjFs7"
      }
    },
    {
      "cell_type": "markdown",
      "source": [
        "#### Packages"
      ],
      "metadata": {
        "id": "QdyJzDgAsFNZ"
      }
    },
    {
      "cell_type": "code",
      "source": [
        "# install packages for today's lecture\n",
        "install.packages(\"dslabs\")"
      ],
      "metadata": {
        "id": "O-drIaQ-4cWQ",
        "colab": {
          "base_uri": "https://localhost:8080/"
        },
        "outputId": "bff18fa7-bddf-4ec8-f7f0-d3ed02a2f699"
      },
      "execution_count": 3,
      "outputs": [
        {
          "output_type": "stream",
          "name": "stderr",
          "text": [
            "Installing package into ‘/usr/local/lib/R/site-library’\n",
            "(as ‘lib’ is unspecified)\n",
            "\n"
          ]
        }
      ]
    },
    {
      "cell_type": "code",
      "source": [
        "# load the necessary packages\n",
        "library(dslabs)"
      ],
      "metadata": {
        "id": "fYGjK4oX4jSn"
      },
      "execution_count": 4,
      "outputs": []
    },
    {
      "cell_type": "markdown",
      "source": [
        "<br>\n",
        "\n",
        "<br>"
      ],
      "metadata": {
        "id": "5hXqBQkzhere"
      }
    },
    {
      "cell_type": "markdown",
      "metadata": {
        "id": "Q4n93wPOXOPB"
      },
      "source": [
        "<br>\n",
        "\n",
        "---"
      ]
    },
    {
      "cell_type": "markdown",
      "metadata": {
        "id": "gFPSdK5aXOPB"
      },
      "source": [
        "####<font color=red>Task 1</font> - Loading and Preprocessing the Dataset\n",
        "\n"
      ]
    },
    {
      "cell_type": "markdown",
      "metadata": {
        "id": "SXTflZVXXOPB"
      },
      "source": [
        "<font color=red>Task 1.1</font> Today, we'll be working with salary data available online.\n",
        "\n",
        "* Run the following script to load the salary dataset for today's assignment.\n",
        "\n",
        "```\n",
        "# load data frame\n",
        "data_url                       <- \"https://raw.githubusercontent.com/khasenst/datasets_teaching/refs/heads/main/salary_data.csv\"\n",
        "salary                         <- na.omit(read.csv(data_url, header = TRUE))\n",
        "\n",
        "# convert character variables to factors\n",
        "salary$Gender                  <- as.factor(salary$Gender)\n",
        "salary$Education.Level         <- as.factor(salary$Education.Level)\n",
        "salary$Job.Title               <- as.factor(salary$Job.Title)\n",
        "\n",
        "# reassign levels\n",
        "levels(salary$Education.Level) <-  c(\"missing\", \"BS\", \"BS\", \"HS\",\n",
        "                                     \"MS\", \"MS\", \"PhD\", \"PhD\")\n",
        "salary$Education.Level         <- factor(salary$Education.Level, levels = c(\"missing\", \"HS\", \"BS\", \"MS\", \"PhD\"))\n",
        "```\n"
      ]
    },
    {
      "cell_type": "code",
      "source": [
        "#1.1\n",
        "# load data frame\n",
        "data_url                       <- \"https://raw.githubusercontent.com/khasenst/datasets_teaching/refs/heads/main/salary_data.csv\"\n",
        "salary                         <- na.omit(read.csv(data_url, header = TRUE))\n",
        "\n",
        "# convert character variables to factors\n",
        "salary$Gender                  <- as.factor(salary$Gender)\n",
        "salary$Education.Level         <- as.factor(salary$Education.Level)\n",
        "salary$Job.Title               <- as.factor(salary$Job.Title)\n",
        "\n",
        "# reassign levels\n",
        "levels(salary$Education.Level) <-  c(\"missing\", \"BS\", \"BS\", \"HS\",\n",
        "                                     \"MS\", \"MS\", \"PhD\", \"PhD\")\n",
        "salary$Education.Level         <- factor(salary$Education.Level, levels = c(\"missing\", \"HS\", \"BS\", \"MS\", \"PhD\"))"
      ],
      "metadata": {
        "id": "q9NV2pZ8i4ki"
      },
      "execution_count": 5,
      "outputs": []
    },
    {
      "cell_type": "markdown",
      "metadata": {
        "id": "D9Zi7RfgFC7t"
      },
      "source": [
        "<br>"
      ]
    },
    {
      "cell_type": "markdown",
      "metadata": {
        "id": "VdX6RYc8FD0Q"
      },
      "source": [
        "<font color=red>Task 1.2</font> View the first few lines of the `salary` data frame using the `head()` function."
      ]
    },
    {
      "cell_type": "code",
      "source": [
        "#1.2\n",
        "head(salary)"
      ],
      "metadata": {
        "colab": {
          "base_uri": "https://localhost:8080/",
          "height": 286
        },
        "id": "5zJ9DY5sjEob",
        "outputId": "7c1e5671-0e0c-4d80-f74f-9008ac5fc396"
      },
      "execution_count": 6,
      "outputs": [
        {
          "output_type": "display_data",
          "data": {
            "text/html": [
              "<table class=\"dataframe\">\n",
              "<caption>A data.frame: 6 × 6</caption>\n",
              "<thead>\n",
              "\t<tr><th></th><th scope=col>Age</th><th scope=col>Gender</th><th scope=col>Education.Level</th><th scope=col>Job.Title</th><th scope=col>Years.of.Experience</th><th scope=col>Salary</th></tr>\n",
              "\t<tr><th></th><th scope=col>&lt;int&gt;</th><th scope=col>&lt;fct&gt;</th><th scope=col>&lt;fct&gt;</th><th scope=col>&lt;fct&gt;</th><th scope=col>&lt;dbl&gt;</th><th scope=col>&lt;int&gt;</th></tr>\n",
              "</thead>\n",
              "<tbody>\n",
              "\t<tr><th scope=row>1</th><td>32</td><td>Male  </td><td>BS </td><td>Software Engineer</td><td> 5</td><td> 90000</td></tr>\n",
              "\t<tr><th scope=row>2</th><td>28</td><td>Female</td><td>MS </td><td>Data Analyst     </td><td> 3</td><td> 65000</td></tr>\n",
              "\t<tr><th scope=row>3</th><td>45</td><td>Male  </td><td>PhD</td><td>Senior Manager   </td><td>15</td><td>150000</td></tr>\n",
              "\t<tr><th scope=row>4</th><td>36</td><td>Female</td><td>BS </td><td>Sales Associate  </td><td> 7</td><td> 60000</td></tr>\n",
              "\t<tr><th scope=row>5</th><td>52</td><td>Male  </td><td>MS </td><td>Director         </td><td>20</td><td>200000</td></tr>\n",
              "\t<tr><th scope=row>6</th><td>29</td><td>Male  </td><td>BS </td><td>Marketing Analyst</td><td> 2</td><td> 55000</td></tr>\n",
              "</tbody>\n",
              "</table>\n"
            ],
            "text/markdown": "\nA data.frame: 6 × 6\n\n| <!--/--> | Age &lt;int&gt; | Gender &lt;fct&gt; | Education.Level &lt;fct&gt; | Job.Title &lt;fct&gt; | Years.of.Experience &lt;dbl&gt; | Salary &lt;int&gt; |\n|---|---|---|---|---|---|---|\n| 1 | 32 | Male   | BS  | Software Engineer |  5 |  90000 |\n| 2 | 28 | Female | MS  | Data Analyst      |  3 |  65000 |\n| 3 | 45 | Male   | PhD | Senior Manager    | 15 | 150000 |\n| 4 | 36 | Female | BS  | Sales Associate   |  7 |  60000 |\n| 5 | 52 | Male   | MS  | Director          | 20 | 200000 |\n| 6 | 29 | Male   | BS  | Marketing Analyst |  2 |  55000 |\n\n",
            "text/latex": "A data.frame: 6 × 6\n\\begin{tabular}{r|llllll}\n  & Age & Gender & Education.Level & Job.Title & Years.of.Experience & Salary\\\\\n  & <int> & <fct> & <fct> & <fct> & <dbl> & <int>\\\\\n\\hline\n\t1 & 32 & Male   & BS  & Software Engineer &  5 &  90000\\\\\n\t2 & 28 & Female & MS  & Data Analyst      &  3 &  65000\\\\\n\t3 & 45 & Male   & PhD & Senior Manager    & 15 & 150000\\\\\n\t4 & 36 & Female & BS  & Sales Associate   &  7 &  60000\\\\\n\t5 & 52 & Male   & MS  & Director          & 20 & 200000\\\\\n\t6 & 29 & Male   & BS  & Marketing Analyst &  2 &  55000\\\\\n\\end{tabular}\n",
            "text/plain": [
              "  Age Gender Education.Level Job.Title         Years.of.Experience Salary\n",
              "1 32  Male   BS              Software Engineer  5                   90000\n",
              "2 28  Female MS              Data Analyst       3                   65000\n",
              "3 45  Male   PhD             Senior Manager    15                  150000\n",
              "4 36  Female BS              Sales Associate    7                   60000\n",
              "5 52  Male   MS              Director          20                  200000\n",
              "6 29  Male   BS              Marketing Analyst  2                   55000"
            ]
          },
          "metadata": {}
        }
      ]
    },
    {
      "cell_type": "markdown",
      "metadata": {
        "id": "fix4kSddABDX"
      },
      "source": [
        "<br>"
      ]
    },
    {
      "cell_type": "markdown",
      "metadata": {
        "id": "1gPRAgw0ABDY"
      },
      "source": [
        "<font color=red>Task 1.3</font> Use the `str()` function to determine the number of rows and columns in the `salary` data frame. Write your observations in a text cell."
      ]
    },
    {
      "cell_type": "code",
      "source": [
        "#1.3\n",
        "str(salary)"
      ],
      "metadata": {
        "colab": {
          "base_uri": "https://localhost:8080/"
        },
        "id": "Ml8jT5xijLaz",
        "outputId": "5a14cfbf-2401-40f5-e397-af4dc119cc5a"
      },
      "execution_count": 7,
      "outputs": [
        {
          "output_type": "stream",
          "name": "stdout",
          "text": [
            "'data.frame':\t6699 obs. of  6 variables:\n",
            " $ Age                : int  32 28 45 36 52 29 42 31 26 38 ...\n",
            " $ Gender             : Factor w/ 3 levels \"Female\",\"Male\",..: 2 1 2 1 2 2 1 2 1 2 ...\n",
            " $ Education.Level    : Factor w/ 5 levels \"missing\",\"HS\",..: 3 4 5 3 4 3 4 3 3 5 ...\n",
            " $ Job.Title          : Factor w/ 192 levels \"Account Manager\",..: 177 19 146 117 27 95 108 120 96 167 ...\n",
            " $ Years.of.Experience: num  5 3 15 7 20 2 12 4 1 10 ...\n",
            " $ Salary             : int  90000 65000 150000 60000 200000 55000 120000 80000 45000 110000 ...\n",
            " - attr(*, \"na.action\")= 'omit' Named int [1:5] 173 261 3137 5248 6456\n",
            "  ..- attr(*, \"names\")= chr [1:5] \"173\" \"261\" \"3137\" \"5248\" ...\n"
          ]
        }
      ]
    },
    {
      "cell_type": "markdown",
      "metadata": {
        "id": "4TpLD0Jy8CLx"
      },
      "source": [
        "<br>\n",
        "\n",
        "<br>"
      ]
    },
    {
      "cell_type": "markdown",
      "metadata": {
        "id": "ayj2a3MX8A9B"
      },
      "source": [
        "<br>\n",
        "\n",
        "---"
      ]
    },
    {
      "cell_type": "markdown",
      "metadata": {
        "id": "oHahMLpO8A9D"
      },
      "source": [
        "####<font color=red>Task 2</font> - Numeric Indexing\n",
        "\n"
      ]
    },
    {
      "cell_type": "markdown",
      "metadata": {
        "id": "ScjnfR6W8A9D"
      },
      "source": [
        "<font color=red>Task 2.1</font>\n",
        "\n",
        "* Using numeric indexing, extract the second entry of the `Gender` variable in the `salary` data frame. Note there are multiple approaches.\n",
        "\n",
        "* Write your observations in a text cell."
      ]
    },
    {
      "cell_type": "markdown",
      "source": [],
      "metadata": {
        "id": "rztwqiPVj_ou"
      }
    },
    {
      "cell_type": "code",
      "source": [
        "#2.1\n",
        "salary$Gender[2]"
      ],
      "metadata": {
        "colab": {
          "base_uri": "https://localhost:8080/",
          "height": 52
        },
        "id": "UyveyH4fjhgt",
        "outputId": "2e84e977-4888-4e60-ea60-b5dade6737c0"
      },
      "execution_count": 8,
      "outputs": [
        {
          "output_type": "display_data",
          "data": {
            "text/html": [
              "Female\n",
              "<details>\n",
              "\t<summary style=display:list-item;cursor:pointer>\n",
              "\t\t<strong>Levels</strong>:\n",
              "\t</summary>\n",
              "\t<style>\n",
              "\t.list-inline {list-style: none; margin:0; padding: 0}\n",
              "\t.list-inline>li {display: inline-block}\n",
              "\t.list-inline>li:not(:last-child)::after {content: \"\\00b7\"; padding: 0 .5ex}\n",
              "\t</style>\n",
              "\t<ol class=list-inline><li>'Female'</li><li>'Male'</li><li>'Other'</li></ol>\n",
              "</details>"
            ],
            "text/markdown": "Female\n**Levels**: 1. 'Female'\n2. 'Male'\n3. 'Other'\n\n\n",
            "text/latex": "Female\n\\emph{Levels}: \\begin{enumerate*}\n\\item 'Female'\n\\item 'Male'\n\\item 'Other'\n\\end{enumerate*}\n",
            "text/plain": [
              "[1] Female\n",
              "Levels: Female Male Other"
            ]
          },
          "metadata": {}
        }
      ]
    },
    {
      "cell_type": "markdown",
      "metadata": {
        "id": "1VozVkBCBynC"
      },
      "source": [
        "**Task 2.1**<br>\n",
        "There are 3 entries, and since is a factor, the numbering starts from 1 (not 0), there for when we ask for the sencod entry we'll get female."
      ]
    },
    {
      "cell_type": "markdown",
      "metadata": {
        "id": "dokTlTNnBym_"
      },
      "source": [
        "<font color=red>Task 2.2</font>\n",
        "\n",
        "* Using numeric indexing and the `ncol()` function, extract the last column of the `salary` data frame.\n",
        "\n",
        "* What is the data structure of your output [i.e. `class()`]?"
      ]
    },
    {
      "cell_type": "code",
      "source": [
        "#2.2\n",
        "a <- salary[,ncol(salary)]\n",
        "#a\n",
        "#class(a)"
      ],
      "metadata": {
        "id": "Mid2OreAld1H"
      },
      "execution_count": 9,
      "outputs": []
    },
    {
      "cell_type": "markdown",
      "metadata": {
        "id": "4YZA1Pq5jM64"
      },
      "source": [
        "<br>"
      ]
    },
    {
      "cell_type": "markdown",
      "metadata": {
        "id": "Xkogz0DSjM65"
      },
      "source": [
        "<font color=red>Task 2.3</font>\n",
        "\n",
        "* Using numeric indexing and the `nrow()` function, extract the last row of the `salary` data frame.\n",
        "\n",
        "* What is the data structure of your output [i.e. `class()`]?"
      ]
    },
    {
      "cell_type": "code",
      "source": [
        "#2.3\n",
        "b <- salary[nrow(salary),]\n",
        "#b\n",
        "class(b)"
      ],
      "metadata": {
        "colab": {
          "base_uri": "https://localhost:8080/",
          "height": 34
        },
        "id": "s8ojFO_rmR_A",
        "outputId": "314f9290-241f-4dd0-aa9d-752c08bf7064"
      },
      "execution_count": 28,
      "outputs": [
        {
          "output_type": "display_data",
          "data": {
            "text/html": [
              "'data.frame'"
            ],
            "text/markdown": "'data.frame'",
            "text/latex": "'data.frame'",
            "text/plain": [
              "[1] \"data.frame\""
            ]
          },
          "metadata": {}
        }
      ]
    },
    {
      "cell_type": "markdown",
      "metadata": {
        "id": "9bBjOKYdjYjK"
      },
      "source": [
        "<br>"
      ]
    },
    {
      "cell_type": "markdown",
      "metadata": {
        "id": "ryok-CJqjYjL"
      },
      "source": [
        "<font color=red>Task 2.4</font>\n",
        "\n",
        "* Using numeric vector-based indexing, simultaneously extract the entries in rows 5 and 4,323 and columns 2 and 4.\n",
        "\n",
        "* What is the data structure of your output [i.e. `class()`]?"
      ]
    },
    {
      "cell_type": "code",
      "source": [
        "#2.4\n",
        "c <- salary[c(5, 4323), c(2, 4)]\n",
        "#c\n",
        "class(c)"
      ],
      "metadata": {
        "colab": {
          "base_uri": "https://localhost:8080/",
          "height": 34
        },
        "id": "b8Qlp1eUmirI",
        "outputId": "ae7fb6c9-9093-4352-8b34-08372f1ddbee"
      },
      "execution_count": 32,
      "outputs": [
        {
          "output_type": "display_data",
          "data": {
            "text/html": [
              "'data.frame'"
            ],
            "text/markdown": "'data.frame'",
            "text/latex": "'data.frame'",
            "text/plain": [
              "[1] \"data.frame\""
            ]
          },
          "metadata": {}
        }
      ]
    },
    {
      "cell_type": "markdown",
      "metadata": {
        "id": "GkfZ948mj0zX"
      },
      "source": [
        "<br>"
      ]
    },
    {
      "cell_type": "markdown",
      "metadata": {
        "id": "DC1_60lwj0zZ"
      },
      "source": [
        "<font color=red>Task 2.5</font>\n",
        "\n",
        "* What can you conclude about the class of output when subsetting multiple entries/rows from multiple columns?\n",
        "* What can you conclude about the class of output when subsetting multiple entries/rows from a single column?"
      ]
    },
    {
      "cell_type": "markdown",
      "source": [
        "**Task 2.5** <br>\n",
        "\n",
        "\n",
        "*   Subsetting Multiple Rows and Multiple Columns : since multiple rows and multiple columns are selected, the output remains a data frame.\n",
        "*   Subsetting Multiple Rows from a Single Column : simplifies the output into a vector."
      ],
      "metadata": {
        "id": "nq-ZEYMJnn1J"
      }
    },
    {
      "cell_type": "markdown",
      "metadata": {
        "id": "LrA3J22fxS7z"
      },
      "source": [
        "<br>\n",
        "\n",
        "<br>"
      ]
    },
    {
      "cell_type": "markdown",
      "metadata": {
        "id": "lzRp48orxS71"
      },
      "source": [
        "<br>\n",
        "\n",
        "---"
      ]
    },
    {
      "cell_type": "markdown",
      "metadata": {
        "id": "hTA9e5GHhoto"
      },
      "source": [
        "####<font color=red>Task 3</font> - Boolean-based Subsetting for Data Analysis\n"
      ]
    },
    {
      "cell_type": "markdown",
      "metadata": {
        "id": "KdCfUwn5iGz2"
      },
      "source": [
        "<font color=red>Task 3.1</font>\n",
        "\n",
        "* Visualize the relationship between `Salary` and `Education.Level` using the appropiate data visualization\n",
        "\n",
        "* Write your observations in a text cell."
      ]
    },
    {
      "cell_type": "code",
      "source": [
        "boxplot(salary$Salary ~ salary$Education.Level,\n",
        "        xlab = \"Education Level\",\n",
        "        ylab = \"Salary\",\n",
        "        main = \"Salary vs Education Level\")"
      ],
      "metadata": {
        "colab": {
          "base_uri": "https://localhost:8080/",
          "height": 437
        },
        "id": "FgNrlXekoMVP",
        "outputId": "10ea246d-02f5-4a28-f6c6-098040ea2fcb"
      },
      "execution_count": 22,
      "outputs": [
        {
          "output_type": "display_data",
          "data": {
            "text/plain": [
              "Plot with title “Salary vs Education Level”"
            ],
            "image/png": "[encoded data removed]"
          },
          "metadata": {
            "image/png": {
              "width": 420,
              "height": 420
            }
          }
        }
      ]
    },
    {
      "cell_type": "markdown",
      "source": [
        "**Task 3.1** <br>\n",
        "\n",
        "We can observe, higher education correlates with higher earning potential and increased salary dispersion. The salary distribution seems to widen with higher education levels, this shows greater variability and potential for better pay."
      ],
      "metadata": {
        "id": "N8ABpk9Zos74"
      }
    },
    {
      "cell_type": "markdown",
      "source": [
        "<br>"
      ],
      "metadata": {
        "id": "DZv7rSqr7A9x"
      }
    },
    {
      "cell_type": "markdown",
      "source": [
        "<font color=red>Task 3.2</font>\n",
        "\n",
        "* Use subsetting to create a data frame for the following education levels (you should have four data frames in total):\n",
        "  * HS\n",
        "  * BS\n",
        "  * MS\n",
        "  * PhD\n",
        "\n",
        "* How many rows are in each of the four data frames? What is the most common degree in the dataset? Write you answer in a text cell.\n",
        "\n",
        "* Verify you answer by applying the `table()` function to the `Education.Level` variable from the original `salary` data frame."
      ],
      "metadata": {
        "id": "YlWJTXwB7CFr"
      }
    },
    {
      "cell_type": "code",
      "source": [
        "#3.2\n",
        "msing <- salary[salary$Education.Level == \"missing\",]\n",
        "hs <- salary[salary$Education.Level == \"HS\",]\n",
        "bs <- salary[salary$Education.Level == \"BS\",]\n",
        "ms <- salary[salary$Education.Level == \"MS\",]\n",
        "phd <- salary[salary$Education.Level == \"PhD\",]\n",
        "nrow(msing)\n",
        "nrow(hs)\n",
        "nrow(bs)\n",
        "nrow(ms)\n",
        "nrow(phd)\n",
        "\n",
        "table(salary$Education.Level)"
      ],
      "metadata": {
        "colab": {
          "base_uri": "https://localhost:8080/",
          "height": 157
        },
        "id": "9jAzxW7apViS",
        "outputId": "7f6dfd3e-737c-4e80-ddd0-234d4f06cc5e"
      },
      "execution_count": 13,
      "outputs": [
        {
          "output_type": "display_data",
          "data": {
            "text/html": [
              "1"
            ],
            "text/markdown": "1",
            "text/latex": "1",
            "text/plain": [
              "[1] 1"
            ]
          },
          "metadata": {}
        },
        {
          "output_type": "display_data",
          "data": {
            "text/html": [
              "448"
            ],
            "text/markdown": "448",
            "text/latex": "448",
            "text/plain": [
              "[1] 448"
            ]
          },
          "metadata": {}
        },
        {
          "output_type": "display_data",
          "data": {
            "text/html": [
              "3021"
            ],
            "text/markdown": "3021",
            "text/latex": "3021",
            "text/plain": [
              "[1] 3021"
            ]
          },
          "metadata": {}
        },
        {
          "output_type": "display_data",
          "data": {
            "text/html": [
              "1860"
            ],
            "text/markdown": "1860",
            "text/latex": "1860",
            "text/plain": [
              "[1] 1860"
            ]
          },
          "metadata": {}
        },
        {
          "output_type": "display_data",
          "data": {
            "text/html": [
              "1369"
            ],
            "text/markdown": "1369",
            "text/latex": "1369",
            "text/plain": [
              "[1] 1369"
            ]
          },
          "metadata": {}
        },
        {
          "output_type": "display_data",
          "data": {
            "text/plain": [
              "\n",
              "missing      HS      BS      MS     PhD \n",
              "      1     448    3021    1860    1369 "
            ]
          },
          "metadata": {}
        }
      ]
    },
    {
      "cell_type": "markdown",
      "source": [
        "**Task 3.2** <br>\n",
        "The most common degree in the dataset is the Bachelor's Degree, with a total of 3021 individuals.\n"
      ],
      "metadata": {
        "id": "-KU02ILCQaBG"
      }
    },
    {
      "cell_type": "markdown",
      "metadata": {
        "id": "7J_N938JiGz4"
      },
      "source": [
        "<br>"
      ]
    },
    {
      "cell_type": "markdown",
      "source": [
        "<font color=red>Task 3.3</font>\n",
        "\n",
        "* Calculate the ***average*** salary for each education level using the data frame created in Task 3.2.\n",
        "\n",
        "* Do your computed averages align with your observations from you visualization in Task 3.1? Write you observations in a text cell."
      ],
      "metadata": {
        "id": "SSazuN_q9TYC"
      }
    },
    {
      "cell_type": "code",
      "source": [
        "#3.3\n",
        "msing_avg<- mean(msing$Salary, na.rm = TRUE)\n",
        "hs_avg <- mean(hs$Salary, na.rm = TRUE)\n",
        "bs_avg <- mean(bs$Salary, na.rm = TRUE)\n",
        "ms_avg <- mean(ms$Salary, na.rm = TRUE)\n",
        "phd_avg <- mean(phd$Salary, na.rm = TRUE)\n",
        "\n",
        "msing_avg\n",
        "hs_avg\n",
        "bs_avg\n",
        "ms_avg\n",
        "phd_avg\n"
      ],
      "metadata": {
        "colab": {
          "base_uri": "https://localhost:8080/",
          "height": 104
        },
        "id": "wcih6YZQq22i",
        "outputId": "573456ad-d257-4999-a9bd-e11b5dc94a9f"
      },
      "execution_count": 14,
      "outputs": [
        {
          "output_type": "display_data",
          "data": {
            "text/html": [
              "1e+05"
            ],
            "text/markdown": "1e+05",
            "text/latex": "1e+05",
            "text/plain": [
              "[1] 1e+05"
            ]
          },
          "metadata": {}
        },
        {
          "output_type": "display_data",
          "data": {
            "text/html": [
              "36706.6941964286"
            ],
            "text/markdown": "36706.6941964286",
            "text/latex": "36706.6941964286",
            "text/plain": [
              "[1] 36706.69"
            ]
          },
          "metadata": {}
        },
        {
          "output_type": "display_data",
          "data": {
            "text/html": [
              "95082.9086395233"
            ],
            "text/markdown": "95082.9086395233",
            "text/latex": "95082.9086395233",
            "text/plain": [
              "[1] 95082.91"
            ]
          },
          "metadata": {}
        },
        {
          "output_type": "display_data",
          "data": {
            "text/html": [
              "130112.056451613"
            ],
            "text/markdown": "130112.056451613",
            "text/latex": "130112.056451613",
            "text/plain": [
              "[1] 130112.1"
            ]
          },
          "metadata": {}
        },
        {
          "output_type": "display_data",
          "data": {
            "text/html": [
              "165651.457998539"
            ],
            "text/markdown": "165651.457998539",
            "text/latex": "165651.457998539",
            "text/plain": [
              "[1] 165651.5"
            ]
          },
          "metadata": {}
        }
      ]
    },
    {
      "cell_type": "markdown",
      "source": [
        "**Task 3.3** <br>\n",
        "The calculated averages align quite well with the box plot from Task 1.1. It is important to note that overall the averages are a little higher than the medians seen in the boxplot. Except for 1e+05, since we only have input the average equals to the median."
      ],
      "metadata": {
        "id": "zjx_XVfTRQtx"
      }
    },
    {
      "cell_type": "markdown",
      "metadata": {
        "id": "tXngQ5Ic9-h9"
      },
      "source": [
        "<br>"
      ]
    },
    {
      "cell_type": "markdown",
      "source": [
        "<font color=red>Task 3.4</font>\n",
        "\n",
        "* Calculate the ***standard deviation*** of salaries for each education level using the data frame created in Task 3.2.\n",
        "\n",
        "* Do your computed standard deviations align with your observations from you visualization in Task 3.1? Write you observations in a text cell."
      ],
      "metadata": {
        "id": "b11Kv76A9-h-"
      }
    },
    {
      "cell_type": "code",
      "source": [
        "#3.4\n",
        "msing_sd<- sd(msing$Salary, na.rm = TRUE)\n",
        "hs_sd <- sd(hs$Salary, na.rm = TRUE)\n",
        "bs_sd <- sd(bs$Salary, na.rm = TRUE)\n",
        "ms_sd <- sd(ms$Salary, na.rm = TRUE)\n",
        "phd_sd <- sd(phd$Salary, na.rm = TRUE)\n",
        "\n",
        "msing_sd\n",
        "hs_sd\n",
        "bs_sd\n",
        "ms_sd\n",
        "phd_sd"
      ],
      "metadata": {
        "colab": {
          "base_uri": "https://localhost:8080/",
          "height": 104
        },
        "id": "yz_StI-D0aAx",
        "outputId": "316d74bc-c025-40d1-cb07-8bcbe4192d3f"
      },
      "execution_count": 15,
      "outputs": [
        {
          "output_type": "display_data",
          "data": {
            "text/html": [
              "&lt;NA&gt;"
            ],
            "text/markdown": "&lt;NA&gt;",
            "text/latex": "<NA>",
            "text/plain": [
              "[1] NA"
            ]
          },
          "metadata": {}
        },
        {
          "output_type": "display_data",
          "data": {
            "text/html": [
              "22549.1299989965"
            ],
            "text/markdown": "22549.1299989965",
            "text/latex": "22549.1299989965",
            "text/plain": [
              "[1] 22549.13"
            ]
          },
          "metadata": {}
        },
        {
          "output_type": "display_data",
          "data": {
            "text/html": [
              "44091.7901544806"
            ],
            "text/markdown": "44091.7901544806",
            "text/latex": "44091.7901544806",
            "text/plain": [
              "[1] 44091.79"
            ]
          },
          "metadata": {}
        },
        {
          "output_type": "display_data",
          "data": {
            "text/html": [
              "40640.8189331265"
            ],
            "text/markdown": "40640.8189331265",
            "text/latex": "40640.8189331265",
            "text/plain": [
              "[1] 40640.82"
            ]
          },
          "metadata": {}
        },
        {
          "output_type": "display_data",
          "data": {
            "text/html": [
              "34339.7516644216"
            ],
            "text/markdown": "34339.7516644216",
            "text/latex": "34339.7516644216",
            "text/plain": [
              "[1] 34339.75"
            ]
          },
          "metadata": {}
        }
      ]
    },
    {
      "cell_type": "markdown",
      "source": [
        "**Task 3.4** <br>\n",
        "The standard deviations are quite large, which corresponds to wider spreads. This is reflected in the computed standard deviation. Individuals with a high school level of education have the smallest spread, while those with a bachelor's degree have the largest standard deviation and the widest spread."
      ],
      "metadata": {
        "id": "vbiSV-ExT0K7"
      }
    },
    {
      "cell_type": "markdown",
      "metadata": {
        "id": "pbgQk7v_qjdS"
      },
      "source": [
        "<br>\n",
        "\n",
        "<br>"
      ]
    },
    {
      "cell_type": "markdown",
      "metadata": {
        "id": "-Tme1yaHqjdU"
      },
      "source": [
        "<br>\n",
        "\n",
        "---"
      ]
    },
    {
      "cell_type": "markdown",
      "metadata": {
        "id": "3EgpcYxmqjdU"
      },
      "source": [
        "####<font color=red>Task 4</font> - More Subsetting Practice\n",
        "\n",
        "\n"
      ]
    },
    {
      "cell_type": "markdown",
      "metadata": {
        "id": "re8gwaf3qpc-"
      },
      "source": [
        "<font color=red>Task 4.1</font>\n",
        "\n",
        "* What is the average salary for males in the dataset?\n",
        "* What is the average salary for females in the dataset?\n",
        "* What is the average salary for individuals who specified `\"Other\"` as their ender?"
      ]
    },
    {
      "cell_type": "code",
      "source": [
        "#4.1\n",
        "\n",
        "males <- salary[salary$Gender == \"Male\",]\n",
        "females <-salary[salary$Gender == \"Female\",]\n",
        "other <-salary[salary$Gender == \"Other\",]\n",
        "\n",
        "mean(males$Salary, na.rm = TRUE)\n",
        "mean(females$Salary, na.rm = TRUE)\n",
        "mean(other$Salary, na.rm = TRUE)"
      ],
      "metadata": {
        "colab": {
          "base_uri": "https://localhost:8080/",
          "height": 69
        },
        "id": "k5h4UVOI1AL6",
        "outputId": "2f994b8c-f64d-4c39-de85-ea58eee54aa2"
      },
      "execution_count": 16,
      "outputs": [
        {
          "output_type": "display_data",
          "data": {
            "text/html": [
              "121389.870915033"
            ],
            "text/markdown": "121389.870915033",
            "text/latex": "121389.870915033",
            "text/plain": [
              "[1] 121389.9"
            ]
          },
          "metadata": {}
        },
        {
          "output_type": "display_data",
          "data": {
            "text/html": [
              "107888.99867242"
            ],
            "text/markdown": "107888.99867242",
            "text/latex": "107888.99867242",
            "text/plain": [
              "[1] 107889"
            ]
          },
          "metadata": {}
        },
        {
          "output_type": "display_data",
          "data": {
            "text/html": [
              "125869.857142857"
            ],
            "text/markdown": "125869.857142857",
            "text/latex": "125869.857142857",
            "text/plain": [
              "[1] 125869.9"
            ]
          },
          "metadata": {}
        }
      ]
    },
    {
      "cell_type": "markdown",
      "source": [
        "<br>"
      ],
      "metadata": {
        "id": "HJ0DqDyZB5EN"
      }
    },
    {
      "cell_type": "markdown",
      "metadata": {
        "id": "g6g6UEOyB6P6"
      },
      "source": [
        "<font color=red>Task 4.2</font>\n",
        "\n",
        "* From 4.1, which gender has the highest salary on average?\n",
        "\n",
        "* Determine the number of individuals in each gender category using `table()`.\n",
        "\n",
        "* Which sample size appears somewhat unreliable? Explain your answer in a text cell."
      ]
    },
    {
      "cell_type": "code",
      "source": [
        "table(salary$Gender)"
      ],
      "metadata": {
        "colab": {
          "base_uri": "https://localhost:8080/",
          "height": 70
        },
        "id": "-F1Cpkcw5gac",
        "outputId": "0a3efeaf-a506-4a39-a4b1-8fa7ee3002c9"
      },
      "execution_count": 17,
      "outputs": [
        {
          "output_type": "display_data",
          "data": {
            "text/plain": [
              "\n",
              "Female   Male  Other \n",
              "  3013   3672     14 "
            ]
          },
          "metadata": {}
        }
      ]
    },
    {
      "cell_type": "markdown",
      "source": [
        "**Task 4.2** <br>\n",
        "\n",
        "*   The gender has the highest salary on average is Other,with 125 869.\n",
        "*   The sample size that seems most unreliable is Other. Due to being the smallest (14) and most likely not capturing the full representation of the Other population. This is in comparison to the Female and Male categories, which have sample sizes in the 3000s\n",
        "\n"
      ],
      "metadata": {
        "id": "0biR0hqrYVaj"
      }
    },
    {
      "cell_type": "markdown",
      "metadata": {
        "id": "uKedvtGVDrHM"
      },
      "source": [
        "<br>\n",
        "\n",
        "---"
      ]
    },
    {
      "cell_type": "markdown",
      "metadata": {
        "id": "uUelnWDGDrHM"
      },
      "source": [
        "####<font color=red>Task 5</font> - More Subsetting Practice\n",
        "\n",
        "\n"
      ]
    },
    {
      "cell_type": "markdown",
      "metadata": {
        "id": "na7B0ouUCpWK"
      },
      "source": [
        "<font color=red>Task 5.1</font>\n",
        "\n",
        "* What is the average salary of a \"Data Scientist\"?\n",
        "\n",
        "* What is the average salary of a \"Data Analyst\"?"
      ]
    },
    {
      "cell_type": "code",
      "source": [
        "#5.1\n",
        "ds <- salary[salary$Job.Title == \"Data Scientist\",]\n",
        "da <- salary[salary$Job.Title == \"Data Analyst\",]\n",
        "\n",
        "mean(ds$Salary, na.rm = TRUE)\n",
        "mean(da$Salary, na.rm = TRUE)\n",
        "\n"
      ],
      "metadata": {
        "colab": {
          "base_uri": "https://localhost:8080/",
          "height": 52
        },
        "id": "CeDOBz_j2ciA",
        "outputId": "f39c8085-b441-43a6-c710-aabbe2f8a2bd"
      },
      "execution_count": 18,
      "outputs": [
        {
          "output_type": "display_data",
          "data": {
            "text/html": [
              "166105.960264901"
            ],
            "text/markdown": "166105.960264901",
            "text/latex": "166105.960264901",
            "text/plain": [
              "[1] 166106"
            ]
          },
          "metadata": {}
        },
        {
          "output_type": "display_data",
          "data": {
            "text/html": [
              "125090.909090909"
            ],
            "text/markdown": "125090.909090909",
            "text/latex": "125090.909090909",
            "text/plain": [
              "[1] 125090.9"
            ]
          },
          "metadata": {}
        }
      ]
    },
    {
      "cell_type": "markdown",
      "metadata": {
        "id": "ThV3DVKoDVLB"
      },
      "source": [
        "<font color=red>Task 5.2</font>\n",
        "\n",
        "* What is the average age of a \"Data Scientist\"?\n",
        "\n",
        "* What is the average age of a \"Data Analyst\"?"
      ]
    },
    {
      "cell_type": "code",
      "source": [
        "mean(ds$Age, na.rm = TRUE)\n",
        "mean(da$Age, na.rm = TRUE)"
      ],
      "metadata": {
        "colab": {
          "base_uri": "https://localhost:8080/",
          "height": 52
        },
        "id": "jwRXWoaf3Kit",
        "outputId": "2b2c97c3-0727-4212-8dd2-5fca0f967cb1"
      },
      "execution_count": 19,
      "outputs": [
        {
          "output_type": "display_data",
          "data": {
            "text/html": [
              "36.0640176600442"
            ],
            "text/markdown": "36.0640176600442",
            "text/latex": "36.0640176600442",
            "text/plain": [
              "[1] 36.06402"
            ]
          },
          "metadata": {}
        },
        {
          "output_type": "display_data",
          "data": {
            "text/html": [
              "28.6859504132231"
            ],
            "text/markdown": "28.6859504132231",
            "text/latex": "28.6859504132231",
            "text/plain": [
              "[1] 28.68595"
            ]
          },
          "metadata": {}
        }
      ]
    },
    {
      "cell_type": "markdown",
      "source": [
        "<br>"
      ],
      "metadata": {
        "id": "zIiaNhlQD9vP"
      }
    },
    {
      "cell_type": "markdown",
      "metadata": {
        "id": "POIn9Uc2D9vQ"
      },
      "source": [
        "<font color=red>Task 5.3</font>\n",
        "\n",
        "* What is the most common education level of a Data Scientist?\n",
        "\n",
        "  [Hint: Subset \"Data Scientist\" first, then use the `table()` function on `Education.Level`]\n",
        "\n",
        "* What is the most common education level of a Data Analyst?\n"
      ]
    },
    {
      "cell_type": "code",
      "source": [
        "table(ds$Education.Level)\n",
        "table(da$Education.Level)"
      ],
      "metadata": {
        "colab": {
          "base_uri": "https://localhost:8080/",
          "height": 123
        },
        "id": "bZdwQLwW3UtK",
        "outputId": "d6d0e0ef-0729-4d7b-c375-6972b02062c7"
      },
      "execution_count": 20,
      "outputs": [
        {
          "output_type": "display_data",
          "data": {
            "text/plain": [
              "\n",
              "missing      HS      BS      MS     PhD \n",
              "      0       0       8     115     330 "
            ]
          },
          "metadata": {}
        },
        {
          "output_type": "display_data",
          "data": {
            "text/plain": [
              "\n",
              "missing      HS      BS      MS     PhD \n",
              "      0       0     287      76       0 "
            ]
          },
          "metadata": {}
        }
      ]
    },
    {
      "cell_type": "markdown",
      "source": [
        "<br>"
      ],
      "metadata": {
        "id": "TqsFeMPKD3Da"
      }
    },
    {
      "cell_type": "markdown",
      "metadata": {
        "id": "rTEAZrtGD3Dc"
      },
      "source": [
        "<font color=red>Task 5.4</font>\n",
        "\n",
        "* What is the difference between a Data Scientist and a Data Analyst? You may search online!"
      ]
    },
    {
      "cell_type": "markdown",
      "source": [
        "**Task 5.4** <br>\n",
        "\n",
        "\n",
        "*   Data Scientist : builds predictive models, works with machine learning, and handles complex data (structured & unstructured).\n",
        "*   Data Analyst : focuses on interpreting structured data, creating reports,and supporting business decisions."
      ],
      "metadata": {
        "id": "mXadnZ25KPpK"
      }
    }
  ],
  "metadata": {
    "colab": {
      "provenance": [],
      "collapsed_sections": [
        "QdyJzDgAsFNZ",
        "gFPSdK5aXOPB",
        "oHahMLpO8A9D",
        "hTA9e5GHhoto",
        "3EgpcYxmqjdU",
        "uUelnWDGDrHM"
      ]
    },
    "kernelspec": {
      "display_name": "R",
      "name": "ir"
    }
  },
  "nbformat": 4,
  "nbformat_minor": 0
}