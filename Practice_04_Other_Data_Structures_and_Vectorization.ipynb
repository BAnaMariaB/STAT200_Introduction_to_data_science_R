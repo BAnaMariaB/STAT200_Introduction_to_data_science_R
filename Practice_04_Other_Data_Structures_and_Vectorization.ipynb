{
  "nbformat": 4,
  "nbformat_minor": 0,
  "metadata": {
    "colab": {
      "provenance": [],
      "collapsed_sections": [
        "2dxjBOuCnFFP"
      ]
    },
    "kernelspec": {
      "name": "ir",
      "display_name": "R"
    }
  },
  "cells": [
    {
      "cell_type": "markdown",
      "metadata": {
        "id": "gtETsh5j8vHw"
      },
      "source": [
        "# **Practice 04: Other Data Structures and Vectorization**\n",
        "\n",
        "#### **WRITE YOUR NAME HERE**"
      ]
    },
    {
      "cell_type": "markdown",
      "metadata": {
        "id": "Efu_Sse0Wp6P"
      },
      "source": [
        "---\n",
        "\n",
        "**IMPORTANT**:\n",
        "- Before starting the lab, save a copy to your google drive by navigating to `File > Save a copy in Drive` <br>\n",
        "\n",
        "<br>\n",
        "\n",
        "\n",
        "**Instructions**: Complete the lab below.\n",
        "\n",
        "- <font color=red>Tasks</font> indicated in red must be completed to receive credit\n",
        "- Include all code for your work\n",
        "- Include markdown cells with written answers explaining your work when prompted\n",
        "- **NOTE: Your completed lab must be submitted to Canvas as a .ipynb file by the end of the lab session**\n",
        "---"
      ]
    },
    {
      "cell_type": "markdown",
      "source": [
        "<br>"
      ],
      "metadata": {
        "id": "wFVxj8nD-yIt"
      }
    },
    {
      "cell_type": "markdown",
      "metadata": {
        "id": "omeTfTlN4Npb"
      },
      "source": [
        "####<font color=red>Organized</font>\n",
        "\n",
        "**Answers should be organized in the following format for organization and readability**\n"
      ]
    },
    {
      "cell_type": "markdown",
      "source": [
        "<font color=red>Example task 1</font>"
      ],
      "metadata": {
        "id": "uLialHuQ4-vU"
      }
    },
    {
      "cell_type": "code",
      "source": [
        "# 1.\n",
        "\n",
        "# This will be the code block to answer the first part of a task"
      ],
      "metadata": {
        "id": "Mxff4INi5Evt"
      },
      "execution_count": 9,
      "outputs": []
    },
    {
      "cell_type": "markdown",
      "source": [
        "1. This will be the text answer/explanation (if prompted) for the first task"
      ],
      "metadata": {
        "id": "A-GtymRS5Syz"
      }
    },
    {
      "cell_type": "markdown",
      "source": [
        "<font color=red>Example task 2</font>"
      ],
      "metadata": {
        "id": "fDAMP6ZC5Zqp"
      }
    },
    {
      "cell_type": "code",
      "source": [
        "# 2.\n",
        "\n",
        "# This will be the code block to answer the second part of a task"
      ],
      "metadata": {
        "id": "K94QMtU55Zqp"
      },
      "execution_count": null,
      "outputs": []
    },
    {
      "cell_type": "markdown",
      "source": [
        "2. This will be the text answer/explanation (if prompted) for the second task"
      ],
      "metadata": {
        "id": "xRfvDNu25Zqp"
      }
    },
    {
      "cell_type": "markdown",
      "source": [
        "<br>\n",
        "\n",
        "Continue this format for the remaining subtasks\n"
      ],
      "metadata": {
        "id": "JIEIhg5I5JfN"
      }
    },
    {
      "cell_type": "markdown",
      "source": [
        "<br>"
      ],
      "metadata": {
        "id": "rcQECH5y4RiC"
      }
    },
    {
      "cell_type": "markdown",
      "source": [
        "<br>\n",
        "\n",
        "---"
      ],
      "metadata": {
        "id": "Q4n93wPOXOPB"
      }
    },
    {
      "cell_type": "markdown",
      "metadata": {
        "id": "gFPSdK5aXOPB"
      },
      "source": [
        "####<font color=red>Task 1</font> - Data frames - Initial Exploration\n",
        "\n"
      ]
    },
    {
      "cell_type": "markdown",
      "source": [
        "<font color=red>Task 1.1</font> Load the `mtcars` dataset by running `data(mtcars)`."
      ],
      "metadata": {
        "id": "SXTflZVXXOPB"
      }
    },
    {
      "cell_type": "code",
      "source": [
        "# 1.1\n",
        "data(mtcars)"
      ],
      "metadata": {
        "id": "AYEEMWdIPeMK"
      },
      "execution_count": 24,
      "outputs": []
    },
    {
      "cell_type": "markdown",
      "source": [
        "<font color=red>Task 1.2</font> View the first few lines of the `mtcars` data frame using the `head()` function."
      ],
      "metadata": {
        "id": "VdX6RYc8FD0Q"
      }
    },
    {
      "cell_type": "code",
      "source": [
        "# 1.2\n",
        "head(mtcars)"
      ],
      "metadata": {
        "colab": {
          "base_uri": "https://localhost:8080/",
          "height": 286
        },
        "id": "FYHIQLatPqKn",
        "outputId": "8cbd7c55-b415-4838-f4ad-9e4ca6fc3113"
      },
      "execution_count": 2,
      "outputs": [
        {
          "output_type": "display_data",
          "data": {
            "text/html": [
              "<table class=\"dataframe\">\n",
              "<caption>A data.frame: 6 × 11</caption>\n",
              "<thead>\n",
              "\t<tr><th></th><th scope=col>mpg</th><th scope=col>cyl</th><th scope=col>disp</th><th scope=col>hp</th><th scope=col>drat</th><th scope=col>wt</th><th scope=col>qsec</th><th scope=col>vs</th><th scope=col>am</th><th scope=col>gear</th><th scope=col>carb</th></tr>\n",
              "\t<tr><th></th><th scope=col>&lt;dbl&gt;</th><th scope=col>&lt;dbl&gt;</th><th scope=col>&lt;dbl&gt;</th><th scope=col>&lt;dbl&gt;</th><th scope=col>&lt;dbl&gt;</th><th scope=col>&lt;dbl&gt;</th><th scope=col>&lt;dbl&gt;</th><th scope=col>&lt;dbl&gt;</th><th scope=col>&lt;dbl&gt;</th><th scope=col>&lt;dbl&gt;</th><th scope=col>&lt;dbl&gt;</th></tr>\n",
              "</thead>\n",
              "<tbody>\n",
              "\t<tr><th scope=row>Mazda RX4</th><td>21.0</td><td>6</td><td>160</td><td>110</td><td>3.90</td><td>2.620</td><td>16.46</td><td>0</td><td>1</td><td>4</td><td>4</td></tr>\n",
              "\t<tr><th scope=row>Mazda RX4 Wag</th><td>21.0</td><td>6</td><td>160</td><td>110</td><td>3.90</td><td>2.875</td><td>17.02</td><td>0</td><td>1</td><td>4</td><td>4</td></tr>\n",
              "\t<tr><th scope=row>Datsun 710</th><td>22.8</td><td>4</td><td>108</td><td> 93</td><td>3.85</td><td>2.320</td><td>18.61</td><td>1</td><td>1</td><td>4</td><td>1</td></tr>\n",
              "\t<tr><th scope=row>Hornet 4 Drive</th><td>21.4</td><td>6</td><td>258</td><td>110</td><td>3.08</td><td>3.215</td><td>19.44</td><td>1</td><td>0</td><td>3</td><td>1</td></tr>\n",
              "\t<tr><th scope=row>Hornet Sportabout</th><td>18.7</td><td>8</td><td>360</td><td>175</td><td>3.15</td><td>3.440</td><td>17.02</td><td>0</td><td>0</td><td>3</td><td>2</td></tr>\n",
              "\t<tr><th scope=row>Valiant</th><td>18.1</td><td>6</td><td>225</td><td>105</td><td>2.76</td><td>3.460</td><td>20.22</td><td>1</td><td>0</td><td>3</td><td>1</td></tr>\n",
              "</tbody>\n",
              "</table>\n"
            ],
            "text/markdown": "\nA data.frame: 6 × 11\n\n| <!--/--> | mpg &lt;dbl&gt; | cyl &lt;dbl&gt; | disp &lt;dbl&gt; | hp &lt;dbl&gt; | drat &lt;dbl&gt; | wt &lt;dbl&gt; | qsec &lt;dbl&gt; | vs &lt;dbl&gt; | am &lt;dbl&gt; | gear &lt;dbl&gt; | carb &lt;dbl&gt; |\n|---|---|---|---|---|---|---|---|---|---|---|---|\n| Mazda RX4 | 21.0 | 6 | 160 | 110 | 3.90 | 2.620 | 16.46 | 0 | 1 | 4 | 4 |\n| Mazda RX4 Wag | 21.0 | 6 | 160 | 110 | 3.90 | 2.875 | 17.02 | 0 | 1 | 4 | 4 |\n| Datsun 710 | 22.8 | 4 | 108 |  93 | 3.85 | 2.320 | 18.61 | 1 | 1 | 4 | 1 |\n| Hornet 4 Drive | 21.4 | 6 | 258 | 110 | 3.08 | 3.215 | 19.44 | 1 | 0 | 3 | 1 |\n| Hornet Sportabout | 18.7 | 8 | 360 | 175 | 3.15 | 3.440 | 17.02 | 0 | 0 | 3 | 2 |\n| Valiant | 18.1 | 6 | 225 | 105 | 2.76 | 3.460 | 20.22 | 1 | 0 | 3 | 1 |\n\n",
            "text/latex": "A data.frame: 6 × 11\n\\begin{tabular}{r|lllllllllll}\n  & mpg & cyl & disp & hp & drat & wt & qsec & vs & am & gear & carb\\\\\n  & <dbl> & <dbl> & <dbl> & <dbl> & <dbl> & <dbl> & <dbl> & <dbl> & <dbl> & <dbl> & <dbl>\\\\\n\\hline\n\tMazda RX4 & 21.0 & 6 & 160 & 110 & 3.90 & 2.620 & 16.46 & 0 & 1 & 4 & 4\\\\\n\tMazda RX4 Wag & 21.0 & 6 & 160 & 110 & 3.90 & 2.875 & 17.02 & 0 & 1 & 4 & 4\\\\\n\tDatsun 710 & 22.8 & 4 & 108 &  93 & 3.85 & 2.320 & 18.61 & 1 & 1 & 4 & 1\\\\\n\tHornet 4 Drive & 21.4 & 6 & 258 & 110 & 3.08 & 3.215 & 19.44 & 1 & 0 & 3 & 1\\\\\n\tHornet Sportabout & 18.7 & 8 & 360 & 175 & 3.15 & 3.440 & 17.02 & 0 & 0 & 3 & 2\\\\\n\tValiant & 18.1 & 6 & 225 & 105 & 2.76 & 3.460 & 20.22 & 1 & 0 & 3 & 1\\\\\n\\end{tabular}\n",
            "text/plain": [
              "                  mpg  cyl disp hp  drat wt    qsec  vs am gear carb\n",
              "Mazda RX4         21.0 6   160  110 3.90 2.620 16.46 0  1  4    4   \n",
              "Mazda RX4 Wag     21.0 6   160  110 3.90 2.875 17.02 0  1  4    4   \n",
              "Datsun 710        22.8 4   108   93 3.85 2.320 18.61 1  1  4    1   \n",
              "Hornet 4 Drive    21.4 6   258  110 3.08 3.215 19.44 1  0  3    1   \n",
              "Hornet Sportabout 18.7 8   360  175 3.15 3.440 17.02 0  0  3    2   \n",
              "Valiant           18.1 6   225  105 2.76 3.460 20.22 1  0  3    1   "
            ]
          },
          "metadata": {}
        }
      ]
    },
    {
      "cell_type": "markdown",
      "source": [
        "<br>"
      ],
      "metadata": {
        "id": "y8fCZ0rUKcNG"
      }
    },
    {
      "cell_type": "markdown",
      "source": [
        "<font color=red>Task 1.3</font> Use the `str()` function to determine the number of rows and columns in the data frame.\n",
        "\n",
        "In a text cell, write your answer in complete sentences."
      ],
      "metadata": {
        "id": "pA1nRQ8rKcNI"
      }
    },
    {
      "cell_type": "code",
      "source": [
        "# 1.3\n",
        "str(mtcars)"
      ],
      "metadata": {
        "colab": {
          "base_uri": "https://localhost:8080/"
        },
        "id": "8EUbMN_9Pwr_",
        "outputId": "c92ec153-d4b9-4355-ec9b-7419432f1b7a"
      },
      "execution_count": 3,
      "outputs": [
        {
          "output_type": "stream",
          "name": "stdout",
          "text": [
            "'data.frame':\t32 obs. of  11 variables:\n",
            " $ mpg : num  21 21 22.8 21.4 18.7 18.1 14.3 24.4 22.8 19.2 ...\n",
            " $ cyl : num  6 6 4 6 8 6 8 4 4 6 ...\n",
            " $ disp: num  160 160 108 258 360 ...\n",
            " $ hp  : num  110 110 93 110 175 105 245 62 95 123 ...\n",
            " $ drat: num  3.9 3.9 3.85 3.08 3.15 2.76 3.21 3.69 3.92 3.92 ...\n",
            " $ wt  : num  2.62 2.88 2.32 3.21 3.44 ...\n",
            " $ qsec: num  16.5 17 18.6 19.4 17 ...\n",
            " $ vs  : num  0 0 1 1 0 1 0 1 1 1 ...\n",
            " $ am  : num  1 1 1 0 0 0 0 0 0 0 ...\n",
            " $ gear: num  4 4 4 3 3 3 3 4 4 4 ...\n",
            " $ carb: num  4 4 1 1 2 1 4 2 2 4 ...\n"
          ]
        }
      ]
    },
    {
      "cell_type": "markdown",
      "source": [
        "Task 1.3 <br>\n",
        "We have 32 rows and 11 colomns."
      ],
      "metadata": {
        "id": "WlYLzryDTOco"
      }
    },
    {
      "cell_type": "markdown",
      "source": [
        "<br>"
      ],
      "metadata": {
        "id": "wURQO8rw7mg9"
      }
    },
    {
      "cell_type": "markdown",
      "source": [
        "<font color=red>Task 1.4</font> Use the `names()` function to extract and view the variables in the `mtcars` data frame."
      ],
      "metadata": {
        "id": "78I3NXYc7mhD"
      }
    },
    {
      "cell_type": "code",
      "source": [
        "# 1.4\n",
        "names(mtcars)"
      ],
      "metadata": {
        "colab": {
          "base_uri": "https://localhost:8080/",
          "height": 34
        },
        "id": "Pmco3hlrQAR7",
        "outputId": "40421c99-bb20-48aa-83c1-28c98984d429"
      },
      "execution_count": 4,
      "outputs": [
        {
          "output_type": "display_data",
          "data": {
            "text/html": [
              "<style>\n",
              ".list-inline {list-style: none; margin:0; padding: 0}\n",
              ".list-inline>li {display: inline-block}\n",
              ".list-inline>li:not(:last-child)::after {content: \"\\00b7\"; padding: 0 .5ex}\n",
              "</style>\n",
              "<ol class=list-inline><li>'mpg'</li><li>'cyl'</li><li>'disp'</li><li>'hp'</li><li>'drat'</li><li>'wt'</li><li>'qsec'</li><li>'vs'</li><li>'am'</li><li>'gear'</li><li>'carb'</li></ol>\n"
            ],
            "text/markdown": "1. 'mpg'\n2. 'cyl'\n3. 'disp'\n4. 'hp'\n5. 'drat'\n6. 'wt'\n7. 'qsec'\n8. 'vs'\n9. 'am'\n10. 'gear'\n11. 'carb'\n\n\n",
            "text/latex": "\\begin{enumerate*}\n\\item 'mpg'\n\\item 'cyl'\n\\item 'disp'\n\\item 'hp'\n\\item 'drat'\n\\item 'wt'\n\\item 'qsec'\n\\item 'vs'\n\\item 'am'\n\\item 'gear'\n\\item 'carb'\n\\end{enumerate*}\n",
            "text/plain": [
              " [1] \"mpg\"  \"cyl\"  \"disp\" \"hp\"   \"drat\" \"wt\"   \"qsec\" \"vs\"   \"am\"   \"gear\"\n",
              "[11] \"carb\""
            ]
          },
          "metadata": {}
        }
      ]
    },
    {
      "cell_type": "markdown",
      "source": [
        "<br>"
      ],
      "metadata": {
        "id": "t5HefMPI71kF"
      }
    },
    {
      "cell_type": "markdown",
      "source": [
        "<font color=red>Task 1.5</font> Use the `rownames()` function to extract and view the row names in the `mtcars` data frame. In a text cell, write your observations."
      ],
      "metadata": {
        "id": "NYAc9fn-71kK"
      }
    },
    {
      "cell_type": "code",
      "source": [
        "# 1.5\n",
        "rownames(mtcars)"
      ],
      "metadata": {
        "colab": {
          "base_uri": "https://localhost:8080/",
          "height": 69
        },
        "id": "d0bMt781QGgk",
        "outputId": "8e7d25d9-9fc9-4f99-a79b-3cd30cad4bf7"
      },
      "execution_count": 5,
      "outputs": [
        {
          "output_type": "display_data",
          "data": {
            "text/html": [
              "<style>\n",
              ".list-inline {list-style: none; margin:0; padding: 0}\n",
              ".list-inline>li {display: inline-block}\n",
              ".list-inline>li:not(:last-child)::after {content: \"\\00b7\"; padding: 0 .5ex}\n",
              "</style>\n",
              "<ol class=list-inline><li>'Mazda RX4'</li><li>'Mazda RX4 Wag'</li><li>'Datsun 710'</li><li>'Hornet 4 Drive'</li><li>'Hornet Sportabout'</li><li>'Valiant'</li><li>'Duster 360'</li><li>'Merc 240D'</li><li>'Merc 230'</li><li>'Merc 280'</li><li>'Merc 280C'</li><li>'Merc 450SE'</li><li>'Merc 450SL'</li><li>'Merc 450SLC'</li><li>'Cadillac Fleetwood'</li><li>'Lincoln Continental'</li><li>'Chrysler Imperial'</li><li>'Fiat 128'</li><li>'Honda Civic'</li><li>'Toyota Corolla'</li><li>'Toyota Corona'</li><li>'Dodge Challenger'</li><li>'AMC Javelin'</li><li>'Camaro Z28'</li><li>'Pontiac Firebird'</li><li>'Fiat X1-9'</li><li>'Porsche 914-2'</li><li>'Lotus Europa'</li><li>'Ford Pantera L'</li><li>'Ferrari Dino'</li><li>'Maserati Bora'</li><li>'Volvo 142E'</li></ol>\n"
            ],
            "text/markdown": "1. 'Mazda RX4'\n2. 'Mazda RX4 Wag'\n3. 'Datsun 710'\n4. 'Hornet 4 Drive'\n5. 'Hornet Sportabout'\n6. 'Valiant'\n7. 'Duster 360'\n8. 'Merc 240D'\n9. 'Merc 230'\n10. 'Merc 280'\n11. 'Merc 280C'\n12. 'Merc 450SE'\n13. 'Merc 450SL'\n14. 'Merc 450SLC'\n15. 'Cadillac Fleetwood'\n16. 'Lincoln Continental'\n17. 'Chrysler Imperial'\n18. 'Fiat 128'\n19. 'Honda Civic'\n20. 'Toyota Corolla'\n21. 'Toyota Corona'\n22. 'Dodge Challenger'\n23. 'AMC Javelin'\n24. 'Camaro Z28'\n25. 'Pontiac Firebird'\n26. 'Fiat X1-9'\n27. 'Porsche 914-2'\n28. 'Lotus Europa'\n29. 'Ford Pantera L'\n30. 'Ferrari Dino'\n31. 'Maserati Bora'\n32. 'Volvo 142E'\n\n\n",
            "text/latex": "\\begin{enumerate*}\n\\item 'Mazda RX4'\n\\item 'Mazda RX4 Wag'\n\\item 'Datsun 710'\n\\item 'Hornet 4 Drive'\n\\item 'Hornet Sportabout'\n\\item 'Valiant'\n\\item 'Duster 360'\n\\item 'Merc 240D'\n\\item 'Merc 230'\n\\item 'Merc 280'\n\\item 'Merc 280C'\n\\item 'Merc 450SE'\n\\item 'Merc 450SL'\n\\item 'Merc 450SLC'\n\\item 'Cadillac Fleetwood'\n\\item 'Lincoln Continental'\n\\item 'Chrysler Imperial'\n\\item 'Fiat 128'\n\\item 'Honda Civic'\n\\item 'Toyota Corolla'\n\\item 'Toyota Corona'\n\\item 'Dodge Challenger'\n\\item 'AMC Javelin'\n\\item 'Camaro Z28'\n\\item 'Pontiac Firebird'\n\\item 'Fiat X1-9'\n\\item 'Porsche 914-2'\n\\item 'Lotus Europa'\n\\item 'Ford Pantera L'\n\\item 'Ferrari Dino'\n\\item 'Maserati Bora'\n\\item 'Volvo 142E'\n\\end{enumerate*}\n",
            "text/plain": [
              " [1] \"Mazda RX4\"           \"Mazda RX4 Wag\"       \"Datsun 710\"         \n",
              " [4] \"Hornet 4 Drive\"      \"Hornet Sportabout\"   \"Valiant\"            \n",
              " [7] \"Duster 360\"          \"Merc 240D\"           \"Merc 230\"           \n",
              "[10] \"Merc 280\"            \"Merc 280C\"           \"Merc 450SE\"         \n",
              "[13] \"Merc 450SL\"          \"Merc 450SLC\"         \"Cadillac Fleetwood\" \n",
              "[16] \"Lincoln Continental\" \"Chrysler Imperial\"   \"Fiat 128\"           \n",
              "[19] \"Honda Civic\"         \"Toyota Corolla\"      \"Toyota Corona\"      \n",
              "[22] \"Dodge Challenger\"    \"AMC Javelin\"         \"Camaro Z28\"         \n",
              "[25] \"Pontiac Firebird\"    \"Fiat X1-9\"           \"Porsche 914-2\"      \n",
              "[28] \"Lotus Europa\"        \"Ford Pantera L\"      \"Ferrari Dino\"       \n",
              "[31] \"Maserati Bora\"       \"Volvo 142E\"         "
            ]
          },
          "metadata": {}
        }
      ]
    },
    {
      "cell_type": "markdown",
      "source": [
        "Task 1.5 <br>\n",
        "When using rowmanes, we get the name of each car stored in the dataframe."
      ],
      "metadata": {
        "id": "GAjZXifPKpPK"
      }
    },
    {
      "cell_type": "markdown",
      "source": [
        "<font color=red>Task 1.6</font>\n",
        "\n",
        "* Use the script `?mtcars` or search documentation online to determine the meaning of the variables.\n",
        "* In a text cell, what is the definition of the variables `vs` and `am`?"
      ],
      "metadata": {
        "id": "rTWl5crw8Omx"
      }
    },
    {
      "cell_type": "code",
      "source": [
        " # 1.6\n",
        " ?mtcars"
      ],
      "metadata": {
        "id": "Rz-3EtwLQTRY"
      },
      "execution_count": 48,
      "outputs": []
    },
    {
      "cell_type": "markdown",
      "source": [
        "Task 1.6<br>\n",
        "**vs:**  represents Engine, where 1 is v-shaped and 0 is straight. <br>\n",
        "**am:** repressents Transmission, where 1 is automatic and 0 is manual."
      ],
      "metadata": {
        "id": "wg492xDHSCTj"
      }
    },
    {
      "cell_type": "markdown",
      "source": [
        "<br>\n",
        "\n",
        "---"
      ],
      "metadata": {
        "id": "ayj2a3MX8A9B"
      }
    },
    {
      "cell_type": "markdown",
      "metadata": {
        "id": "oHahMLpO8A9D"
      },
      "source": [
        "####<font color=red>Task 2</font> - Cleaning Up Factors\n",
        "\n"
      ]
    },
    {
      "cell_type": "markdown",
      "source": [
        "From 1.6, it should be clear that the variables `vs` and `am` are categorical variables. Therefore, we should convert these into a `factor`."
      ],
      "metadata": {
        "id": "VeYyrdHfjT-G"
      }
    },
    {
      "cell_type": "markdown",
      "source": [
        "<font color=red>Task 2.1</font> Convert the `vs` and `am` variables into a `factor` data structure using the `as.factor()` function and overwrite the variables in the `mtcars` data frame.\n",
        "\n",
        "Use the `str()` function to verify these changes."
      ],
      "metadata": {
        "id": "ScjnfR6W8A9D"
      }
    },
    {
      "cell_type": "code",
      "source": [
        "#2.1\n",
        "mtcars$vs <- as.factor(mtcars$vs)\n",
        "mtcars$am <- as.factor(mtcars$am)\n",
        "\n",
        "str(mtcars)"
      ],
      "metadata": {
        "colab": {
          "base_uri": "https://localhost:8080/"
        },
        "id": "viQnYhkKQkeh",
        "outputId": "b0574e4d-e3d6-4445-9256-de919e921362"
      },
      "execution_count": 25,
      "outputs": [
        {
          "output_type": "stream",
          "name": "stdout",
          "text": [
            "'data.frame':\t32 obs. of  11 variables:\n",
            " $ mpg : num  21 21 22.8 21.4 18.7 18.1 14.3 24.4 22.8 19.2 ...\n",
            " $ cyl : num  6 6 4 6 8 6 8 4 4 6 ...\n",
            " $ disp: num  160 160 108 258 360 ...\n",
            " $ hp  : num  110 110 93 110 175 105 245 62 95 123 ...\n",
            " $ drat: num  3.9 3.9 3.85 3.08 3.15 2.76 3.21 3.69 3.92 3.92 ...\n",
            " $ wt  : num  2.62 2.88 2.32 3.21 3.44 ...\n",
            " $ qsec: num  16.5 17 18.6 19.4 17 ...\n",
            " $ vs  : Factor w/ 2 levels \"0\",\"1\": 1 1 2 2 1 2 1 2 2 2 ...\n",
            " $ am  : Factor w/ 2 levels \"0\",\"1\": 2 2 2 1 1 1 1 1 1 1 ...\n",
            " $ gear: num  4 4 4 3 3 3 3 4 4 4 ...\n",
            " $ carb: num  4 4 1 1 2 1 4 2 2 4 ...\n"
          ]
        }
      ]
    },
    {
      "cell_type": "markdown",
      "source": [
        "<br>"
      ],
      "metadata": {
        "id": "Ct73OIpW8A9F"
      }
    },
    {
      "cell_type": "markdown",
      "source": [
        "<font color=red>Task 2.2</font> Use the `levels()` function to determine the unique categories in the `vs` and `am` variables."
      ],
      "metadata": {
        "id": "UYZp4jpoj6dx"
      }
    },
    {
      "cell_type": "code",
      "source": [
        "#2.2\n",
        "levels(mtcars$vs)\n",
        "levels(mtcars$am)"
      ],
      "metadata": {
        "colab": {
          "base_uri": "https://localhost:8080/",
          "height": 52
        },
        "id": "fejo26vmWJP4",
        "outputId": "f8417e71-f8d4-44e2-b213-b3d2b10716d4"
      },
      "execution_count": 26,
      "outputs": [
        {
          "output_type": "display_data",
          "data": {
            "text/html": [
              "<style>\n",
              ".list-inline {list-style: none; margin:0; padding: 0}\n",
              ".list-inline>li {display: inline-block}\n",
              ".list-inline>li:not(:last-child)::after {content: \"\\00b7\"; padding: 0 .5ex}\n",
              "</style>\n",
              "<ol class=list-inline><li>'0'</li><li>'1'</li></ol>\n"
            ],
            "text/markdown": "1. '0'\n2. '1'\n\n\n",
            "text/latex": "\\begin{enumerate*}\n\\item '0'\n\\item '1'\n\\end{enumerate*}\n",
            "text/plain": [
              "[1] \"0\" \"1\""
            ]
          },
          "metadata": {}
        },
        {
          "output_type": "display_data",
          "data": {
            "text/html": [
              "<style>\n",
              ".list-inline {list-style: none; margin:0; padding: 0}\n",
              ".list-inline>li {display: inline-block}\n",
              ".list-inline>li:not(:last-child)::after {content: \"\\00b7\"; padding: 0 .5ex}\n",
              "</style>\n",
              "<ol class=list-inline><li>'0'</li><li>'1'</li></ol>\n"
            ],
            "text/markdown": "1. '0'\n2. '1'\n\n\n",
            "text/latex": "\\begin{enumerate*}\n\\item '0'\n\\item '1'\n\\end{enumerate*}\n",
            "text/plain": [
              "[1] \"0\" \"1\""
            ]
          },
          "metadata": {}
        }
      ]
    },
    {
      "cell_type": "markdown",
      "source": [
        "<br>"
      ],
      "metadata": {
        "id": "uhZiv8_EkM1z"
      }
    },
    {
      "cell_type": "markdown",
      "source": [
        "<font color=red>Task 2.3</font> Rewrite the levels so that they are more descriptive.\n",
        "\n",
        "For example, for `am`, change the levels to be `'automatic'` for `'0'` and `'manual'` for `'1'`\".\n",
        "\n",
        "Check the levels to verify these changes."
      ],
      "metadata": {
        "id": "xXLRC2qskM14"
      }
    },
    {
      "cell_type": "code",
      "source": [
        "#2.3\n",
        "#am\n",
        "levels(mtcars$am) <- c(\"automatic\" , \"manual\")\n",
        "levels(mtcars$am)\n",
        "\n",
        "#vs\n",
        "levels(mtcars$vs) <- c(\"v-shape\", \"straight\")\n",
        "levels(mtcars$vs)"
      ],
      "metadata": {
        "colab": {
          "base_uri": "https://localhost:8080/",
          "height": 52
        },
        "id": "8a2hrDb1WzyN",
        "outputId": "f4637e49-343a-44af-9efc-bb2084982ee6"
      },
      "execution_count": 32,
      "outputs": [
        {
          "output_type": "display_data",
          "data": {
            "text/html": [
              "<style>\n",
              ".list-inline {list-style: none; margin:0; padding: 0}\n",
              ".list-inline>li {display: inline-block}\n",
              ".list-inline>li:not(:last-child)::after {content: \"\\00b7\"; padding: 0 .5ex}\n",
              "</style>\n",
              "<ol class=list-inline><li>'automatic'</li><li>'manual'</li></ol>\n"
            ],
            "text/markdown": "1. 'automatic'\n2. 'manual'\n\n\n",
            "text/latex": "\\begin{enumerate*}\n\\item 'automatic'\n\\item 'manual'\n\\end{enumerate*}\n",
            "text/plain": [
              "[1] \"automatic\" \"manual\"   "
            ]
          },
          "metadata": {}
        },
        {
          "output_type": "display_data",
          "data": {
            "text/html": [
              "<style>\n",
              ".list-inline {list-style: none; margin:0; padding: 0}\n",
              ".list-inline>li {display: inline-block}\n",
              ".list-inline>li:not(:last-child)::after {content: \"\\00b7\"; padding: 0 .5ex}\n",
              "</style>\n",
              "<ol class=list-inline><li>'v-shape'</li><li>'straight'</li></ol>\n"
            ],
            "text/markdown": "1. 'v-shape'\n2. 'straight'\n\n\n",
            "text/latex": "\\begin{enumerate*}\n\\item 'v-shape'\n\\item 'straight'\n\\end{enumerate*}\n",
            "text/plain": [
              "[1] \"v-shape\"  \"straight\""
            ]
          },
          "metadata": {}
        }
      ]
    },
    {
      "cell_type": "markdown",
      "source": [
        "<br>"
      ],
      "metadata": {
        "id": "CBMQ9QXMlOQg"
      }
    },
    {
      "cell_type": "markdown",
      "source": [
        "<font color=red>Task 2.4</font> Use the `table()` function to determine the number of cars that have automatic transmission in the data frame.\n",
        "\n",
        "In a text cell, write your observations."
      ],
      "metadata": {
        "id": "kDcZ3OjAlOQq"
      }
    },
    {
      "cell_type": "code",
      "source": [
        "#2.4\n",
        "table(mtcars$am)[1]"
      ],
      "metadata": {
        "colab": {
          "base_uri": "https://localhost:8080/",
          "height": 34
        },
        "id": "Y2L4AGsFbTcH",
        "outputId": "749b38f9-09b6-4965-ef04-15b23554d6e6"
      },
      "execution_count": 45,
      "outputs": [
        {
          "output_type": "display_data",
          "data": {
            "text/html": [
              "<strong>automatic:</strong> 19"
            ],
            "text/markdown": "**automatic:** 19",
            "text/latex": "\\textbf{automatic:} 19",
            "text/plain": [
              "automatic \n",
              "       19 "
            ]
          },
          "metadata": {}
        }
      ]
    },
    {
      "cell_type": "markdown",
      "source": [
        "<br>"
      ],
      "metadata": {
        "id": "TkinOk24l2U4"
      }
    },
    {
      "cell_type": "markdown",
      "source": [
        "<font color=red>Task 2.5</font> The `cyl` variable specifies the number of cylinders in the engine of the corresponding car.\n",
        "\n",
        "* Convert the `cyl` variable into a factor and overwrite in the `mtcars` data frame\n",
        "* Find the number of unique levels using the `length()` and `levels()` functions."
      ],
      "metadata": {
        "id": "ZQQ9MXq7l2U6"
      }
    },
    {
      "cell_type": "code",
      "source": [
        "#2.5\n",
        "mtcars$cyl <- as.factor(mtcars$cyl)\n",
        "\n",
        "length(levels(mtcars$cyl))"
      ],
      "metadata": {
        "colab": {
          "base_uri": "https://localhost:8080/",
          "height": 34
        },
        "id": "FbV-MurMbifU",
        "outputId": "f27bcfd7-e1fc-44d9-97dc-30fcadca8abe"
      },
      "execution_count": 42,
      "outputs": [
        {
          "output_type": "display_data",
          "data": {
            "text/html": [
              "3"
            ],
            "text/markdown": "3",
            "text/latex": "3",
            "text/plain": [
              "[1] 3"
            ]
          },
          "metadata": {}
        }
      ]
    },
    {
      "cell_type": "markdown",
      "source": [
        "<font color=red>Task 2.6</font> In a text cell, identify all other variables that should be a `factor` data structure."
      ],
      "metadata": {
        "id": "oQjGcGtCi2iQ"
      }
    },
    {
      "cell_type": "markdown",
      "source": [
        "Task 2.6 <br>\n",
        "Variables that should also be factors are : Number of carburetors, Number of forward gears and Number of cylinders"
      ],
      "metadata": {
        "id": "cvPnlY4mc8d4"
      }
    },
    {
      "cell_type": "markdown",
      "source": [
        "<br>\n",
        "\n",
        "---"
      ],
      "metadata": {
        "id": "X_LYGC2WnDRw"
      }
    },
    {
      "cell_type": "markdown",
      "metadata": {
        "id": "2dxjBOuCnFFP"
      },
      "source": [
        "####<font color=red>Task 3</font> - Vectorized Operations\n",
        "\n"
      ]
    },
    {
      "cell_type": "markdown",
      "source": [
        "<font color=red>Task 3.1</font> Engine displacement is the total volume of air that an engine's pistons move in its cylinders.\n",
        "\n",
        "Calculate engine displacement per cylinder and save it as a new variable called `UnitEngine` in the `mtcars` data frame. Use the `head()` function to verify you answer.\n",
        "* Note displacement per cylinder is defined by `disp` divided by `cyl`."
      ],
      "metadata": {
        "id": "re6SRQtUKpPK"
      }
    },
    {
      "cell_type": "code",
      "source": [
        "#3.1\n",
        "UnitEngine <- mtcars$disp / as.numeric(as.character(mtcars$cyl))\n",
        "mtcars$UnitEngine <- UnitEngine\n",
        "head(mtcars)"
      ],
      "metadata": {
        "colab": {
          "base_uri": "https://localhost:8080/",
          "height": 286
        },
        "id": "ZLBxoRTtdMK0",
        "outputId": "d125d048-d848-4611-91e0-1c99d1a3052c"
      },
      "execution_count": 38,
      "outputs": [
        {
          "output_type": "display_data",
          "data": {
            "text/html": [
              "<table class=\"dataframe\">\n",
              "<caption>A data.frame: 6 × 12</caption>\n",
              "<thead>\n",
              "\t<tr><th></th><th scope=col>mpg</th><th scope=col>cyl</th><th scope=col>disp</th><th scope=col>hp</th><th scope=col>drat</th><th scope=col>wt</th><th scope=col>qsec</th><th scope=col>vs</th><th scope=col>am</th><th scope=col>gear</th><th scope=col>carb</th><th scope=col>UnitEngine</th></tr>\n",
              "\t<tr><th></th><th scope=col>&lt;dbl&gt;</th><th scope=col>&lt;fct&gt;</th><th scope=col>&lt;dbl&gt;</th><th scope=col>&lt;dbl&gt;</th><th scope=col>&lt;dbl&gt;</th><th scope=col>&lt;dbl&gt;</th><th scope=col>&lt;dbl&gt;</th><th scope=col>&lt;fct&gt;</th><th scope=col>&lt;fct&gt;</th><th scope=col>&lt;dbl&gt;</th><th scope=col>&lt;dbl&gt;</th><th scope=col>&lt;dbl&gt;</th></tr>\n",
              "</thead>\n",
              "<tbody>\n",
              "\t<tr><th scope=row>Mazda RX4</th><td>21.0</td><td>6</td><td>160</td><td>110</td><td>3.90</td><td>2.620</td><td>16.46</td><td>v-shape </td><td>manual   </td><td>4</td><td>4</td><td>26.66667</td></tr>\n",
              "\t<tr><th scope=row>Mazda RX4 Wag</th><td>21.0</td><td>6</td><td>160</td><td>110</td><td>3.90</td><td>2.875</td><td>17.02</td><td>v-shape </td><td>manual   </td><td>4</td><td>4</td><td>26.66667</td></tr>\n",
              "\t<tr><th scope=row>Datsun 710</th><td>22.8</td><td>4</td><td>108</td><td> 93</td><td>3.85</td><td>2.320</td><td>18.61</td><td>straight</td><td>manual   </td><td>4</td><td>1</td><td>27.00000</td></tr>\n",
              "\t<tr><th scope=row>Hornet 4 Drive</th><td>21.4</td><td>6</td><td>258</td><td>110</td><td>3.08</td><td>3.215</td><td>19.44</td><td>straight</td><td>automatic</td><td>3</td><td>1</td><td>43.00000</td></tr>\n",
              "\t<tr><th scope=row>Hornet Sportabout</th><td>18.7</td><td>8</td><td>360</td><td>175</td><td>3.15</td><td>3.440</td><td>17.02</td><td>v-shape </td><td>automatic</td><td>3</td><td>2</td><td>45.00000</td></tr>\n",
              "\t<tr><th scope=row>Valiant</th><td>18.1</td><td>6</td><td>225</td><td>105</td><td>2.76</td><td>3.460</td><td>20.22</td><td>straight</td><td>automatic</td><td>3</td><td>1</td><td>37.50000</td></tr>\n",
              "</tbody>\n",
              "</table>\n"
            ],
            "text/markdown": "\nA data.frame: 6 × 12\n\n| <!--/--> | mpg &lt;dbl&gt; | cyl &lt;fct&gt; | disp &lt;dbl&gt; | hp &lt;dbl&gt; | drat &lt;dbl&gt; | wt &lt;dbl&gt; | qsec &lt;dbl&gt; | vs &lt;fct&gt; | am &lt;fct&gt; | gear &lt;dbl&gt; | carb &lt;dbl&gt; | UnitEngine &lt;dbl&gt; |\n|---|---|---|---|---|---|---|---|---|---|---|---|---|\n| Mazda RX4 | 21.0 | 6 | 160 | 110 | 3.90 | 2.620 | 16.46 | v-shape  | manual    | 4 | 4 | 26.66667 |\n| Mazda RX4 Wag | 21.0 | 6 | 160 | 110 | 3.90 | 2.875 | 17.02 | v-shape  | manual    | 4 | 4 | 26.66667 |\n| Datsun 710 | 22.8 | 4 | 108 |  93 | 3.85 | 2.320 | 18.61 | straight | manual    | 4 | 1 | 27.00000 |\n| Hornet 4 Drive | 21.4 | 6 | 258 | 110 | 3.08 | 3.215 | 19.44 | straight | automatic | 3 | 1 | 43.00000 |\n| Hornet Sportabout | 18.7 | 8 | 360 | 175 | 3.15 | 3.440 | 17.02 | v-shape  | automatic | 3 | 2 | 45.00000 |\n| Valiant | 18.1 | 6 | 225 | 105 | 2.76 | 3.460 | 20.22 | straight | automatic | 3 | 1 | 37.50000 |\n\n",
            "text/latex": "A data.frame: 6 × 12\n\\begin{tabular}{r|llllllllllll}\n  & mpg & cyl & disp & hp & drat & wt & qsec & vs & am & gear & carb & UnitEngine\\\\\n  & <dbl> & <fct> & <dbl> & <dbl> & <dbl> & <dbl> & <dbl> & <fct> & <fct> & <dbl> & <dbl> & <dbl>\\\\\n\\hline\n\tMazda RX4 & 21.0 & 6 & 160 & 110 & 3.90 & 2.620 & 16.46 & v-shape  & manual    & 4 & 4 & 26.66667\\\\\n\tMazda RX4 Wag & 21.0 & 6 & 160 & 110 & 3.90 & 2.875 & 17.02 & v-shape  & manual    & 4 & 4 & 26.66667\\\\\n\tDatsun 710 & 22.8 & 4 & 108 &  93 & 3.85 & 2.320 & 18.61 & straight & manual    & 4 & 1 & 27.00000\\\\\n\tHornet 4 Drive & 21.4 & 6 & 258 & 110 & 3.08 & 3.215 & 19.44 & straight & automatic & 3 & 1 & 43.00000\\\\\n\tHornet Sportabout & 18.7 & 8 & 360 & 175 & 3.15 & 3.440 & 17.02 & v-shape  & automatic & 3 & 2 & 45.00000\\\\\n\tValiant & 18.1 & 6 & 225 & 105 & 2.76 & 3.460 & 20.22 & straight & automatic & 3 & 1 & 37.50000\\\\\n\\end{tabular}\n",
            "text/plain": [
              "                  mpg  cyl disp hp  drat wt    qsec  vs       am        gear\n",
              "Mazda RX4         21.0 6   160  110 3.90 2.620 16.46 v-shape  manual    4   \n",
              "Mazda RX4 Wag     21.0 6   160  110 3.90 2.875 17.02 v-shape  manual    4   \n",
              "Datsun 710        22.8 4   108   93 3.85 2.320 18.61 straight manual    4   \n",
              "Hornet 4 Drive    21.4 6   258  110 3.08 3.215 19.44 straight automatic 3   \n",
              "Hornet Sportabout 18.7 8   360  175 3.15 3.440 17.02 v-shape  automatic 3   \n",
              "Valiant           18.1 6   225  105 2.76 3.460 20.22 straight automatic 3   \n",
              "                  carb UnitEngine\n",
              "Mazda RX4         4    26.66667  \n",
              "Mazda RX4 Wag     4    26.66667  \n",
              "Datsun 710        1    27.00000  \n",
              "Hornet 4 Drive    1    43.00000  \n",
              "Hornet Sportabout 2    45.00000  \n",
              "Valiant           1    37.50000  "
            ]
          },
          "metadata": {}
        }
      ]
    },
    {
      "cell_type": "markdown",
      "source": [
        "<br>"
      ],
      "metadata": {
        "id": "DJko-1DoNt3_"
      }
    },
    {
      "cell_type": "markdown",
      "source": [
        "<font color=red>Task 3.2</font> Calculate the average engine displacement of all the cars in the dataset using the `mean()` function.\n"
      ],
      "metadata": {
        "id": "NOY95hSuNt4B"
      }
    },
    {
      "cell_type": "code",
      "source": [
        "#3.2\n",
        "mean(mtcars$UnitEngine)"
      ],
      "metadata": {
        "colab": {
          "base_uri": "https://localhost:8080/",
          "height": 34
        },
        "id": "yl46x-KseamT",
        "outputId": "1003091b-5952-4b05-b1e0-cc8025564f71"
      },
      "execution_count": 41,
      "outputs": [
        {
          "output_type": "display_data",
          "data": {
            "text/html": [
              "35.0286458333333"
            ],
            "text/markdown": "35.0286458333333",
            "text/latex": "35.0286458333333",
            "text/plain": [
              "[1] 35.02865"
            ]
          },
          "metadata": {}
        }
      ]
    },
    {
      "cell_type": "markdown",
      "source": [
        "<br>"
      ],
      "metadata": {
        "id": "HHidevYzXoeh"
      }
    }
  ]
}