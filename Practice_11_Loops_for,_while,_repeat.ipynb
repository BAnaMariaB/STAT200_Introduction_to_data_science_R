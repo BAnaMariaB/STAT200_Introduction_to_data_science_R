{
  "cells": [
    {
      "cell_type": "markdown",
      "metadata": {
        "id": "gtETsh5j8vHw"
      },
      "source": [
        "# **Practice 11: Loops - `for`, `while`, `repeat`**\n",
        "\n",
        "#### **WRITE YOUR NAME HERE**"
      ]
    },
    {
      "cell_type": "markdown",
      "metadata": {
        "id": "Efu_Sse0Wp6P"
      },
      "source": [
        "---\n",
        "\n",
        "**IMPORTANT**:\n",
        "- Before starting the lab, save a copy to your google drive by navigating to `File > Save a copy in Drive` <br>\n",
        "\n",
        "<br>\n",
        "\n",
        "\n",
        "**Instructions**: Complete the lab below.\n",
        "\n",
        "- <font color=red>Tasks</font> indicated in red must be completed to receive credit\n",
        "- Include all code for your work\n",
        "- Include markdown cells with written answers explaining your work when prompted\n",
        "- **NOTE: Your completed lab must be submitted to Canvas as a .ipynb file by the end of the lab session**\n",
        "---"
      ]
    },
    {
      "cell_type": "markdown",
      "metadata": {
        "id": "wFVxj8nD-yIt"
      },
      "source": [
        "<br>"
      ]
    },
    {
      "cell_type": "markdown",
      "metadata": {
        "id": "omeTfTlN4Npb"
      },
      "source": [
        "####<font color=red>Organized</font>\n",
        "\n",
        "**Answers should be organized in the following format for organization and readability**\n"
      ]
    },
    {
      "cell_type": "markdown",
      "metadata": {
        "id": "uLialHuQ4-vU"
      },
      "source": [
        "<font color=red>Example task 1</font>"
      ]
    },
    {
      "cell_type": "code",
      "execution_count": null,
      "metadata": {
        "id": "Mxff4INi5Evt"
      },
      "outputs": [],
      "source": [
        "# 1.\n",
        "\n",
        "# This will be the code block to answer the first part of a task"
      ]
    },
    {
      "cell_type": "markdown",
      "metadata": {
        "id": "A-GtymRS5Syz"
      },
      "source": [
        "1. This will be the text answer/explanation (if prompted) for the first task"
      ]
    },
    {
      "cell_type": "markdown",
      "metadata": {
        "id": "fDAMP6ZC5Zqp"
      },
      "source": [
        "<font color=red>Example task 2</font>"
      ]
    },
    {
      "cell_type": "code",
      "execution_count": null,
      "metadata": {
        "id": "K94QMtU55Zqp"
      },
      "outputs": [],
      "source": [
        "# 2.\n",
        "\n",
        "# This will be the code block to answer the second part of a task"
      ]
    },
    {
      "cell_type": "markdown",
      "metadata": {
        "id": "xRfvDNu25Zqp"
      },
      "source": [
        "2. This will be the text answer/explanation (if prompted) for the second task"
      ]
    },
    {
      "cell_type": "markdown",
      "metadata": {
        "id": "JIEIhg5I5JfN"
      },
      "source": [
        "<br>\n",
        "\n",
        "Continue this format for the remaining subtasks\n"
      ]
    },
    {
      "cell_type": "markdown",
      "metadata": {
        "id": "rcQECH5y4RiC"
      },
      "source": [
        "<br>"
      ]
    },
    {
      "cell_type": "markdown",
      "source": [
        "---\n",
        "\n",
        "<br>"
      ],
      "metadata": {
        "id": "jFiNcIjpjFs7"
      }
    },
    {
      "cell_type": "markdown",
      "source": [
        "#### Packages"
      ],
      "metadata": {
        "id": "QdyJzDgAsFNZ"
      }
    },
    {
      "cell_type": "code",
      "source": [
        "# none"
      ],
      "metadata": {
        "id": "O-drIaQ-4cWQ"
      },
      "execution_count": null,
      "outputs": []
    },
    {
      "cell_type": "markdown",
      "source": [
        "<br>\n",
        "\n",
        "<br>"
      ],
      "metadata": {
        "id": "5hXqBQkzhere"
      }
    },
    {
      "cell_type": "markdown",
      "metadata": {
        "id": "Q4n93wPOXOPB"
      },
      "source": [
        "<br>\n",
        "\n",
        "---"
      ]
    },
    {
      "cell_type": "markdown",
      "metadata": {
        "id": "gFPSdK5aXOPB"
      },
      "source": [
        "####<font color=red>Task 1</font> - Loading and Preprocessing the Dataset\n",
        "\n"
      ]
    },
    {
      "cell_type": "markdown",
      "metadata": {
        "id": "SXTflZVXXOPB"
      },
      "source": [
        "<font color=red>Task 1.1</font> Today, we'll be working with salary data available online.\n",
        "\n",
        "* Run the following script to load the salary dataset for today's assignment.\n",
        "\n",
        "```\n",
        "# load data frame\n",
        "data_url                       <- \"https://raw.githubusercontent.com/khasenst/datasets_teaching/refs/heads/main/salary_data.csv\"\n",
        "salary                         <- na.omit(read.csv(data_url, header = TRUE))\n",
        "\n",
        "# convert character variables to factors\n",
        "salary$Gender                  <- as.factor(salary$Gender)\n",
        "salary$Education.Level         <- as.factor(salary$Education.Level)\n",
        "salary$Job.Title               <- as.factor(salary$Job.Title)\n",
        "\n",
        "# reassign levels\n",
        "levels(salary$Education.Level) <-  c(\"missing\", \"BS\", \"BS\", \"HS\",\n",
        "                                     \"MS\", \"MS\", \"PhD\", \"PhD\")\n",
        "salary$Education.Level         <- factor(salary$Education.Level, levels = c(\"missing\", \"HS\", \"BS\", \"MS\", \"PhD\"))\n",
        "```\n"
      ]
    },
    {
      "cell_type": "code",
      "source": [
        "#1.1\n",
        "# load data frame\n",
        "data_url                       <- \"https://raw.githubusercontent.com/khasenst/datasets_teaching/refs/heads/main/salary_data.csv\"\n",
        "salary                         <- na.omit(read.csv(data_url, header = TRUE))\n",
        "\n",
        "# convert character variables to factors\n",
        "salary$Gender                  <- as.factor(salary$Gender)\n",
        "salary$Education.Level         <- as.factor(salary$Education.Level)\n",
        "salary$Job.Title               <- as.factor(salary$Job.Title)\n",
        "\n",
        "# reassign levels\n",
        "levels(salary$Education.Level) <-  c(\"missing\", \"BS\", \"BS\", \"HS\",\n",
        "                                     \"MS\", \"MS\", \"PhD\", \"PhD\")\n",
        "salary$Education.Level         <- factor(salary$Education.Level, levels = c(\"missing\", \"HS\", \"BS\", \"MS\", \"PhD\"))"
      ],
      "metadata": {
        "id": "GgaZ6ZTAIoLj"
      },
      "execution_count": 2,
      "outputs": []
    },
    {
      "cell_type": "markdown",
      "metadata": {
        "id": "D9Zi7RfgFC7t"
      },
      "source": [
        "<br>"
      ]
    },
    {
      "cell_type": "markdown",
      "metadata": {
        "id": "VdX6RYc8FD0Q"
      },
      "source": [
        "<font color=red>Task 1.2</font> View the first few lines of the `salary` data frame using the `head()` function."
      ]
    },
    {
      "cell_type": "code",
      "source": [
        "#1.2\n",
        "head(salary)"
      ],
      "metadata": {
        "id": "jwOJn1H2ItcC",
        "outputId": "229795f4-412e-40ea-bd05-685804b064a9",
        "colab": {
          "base_uri": "https://localhost:8080/",
          "height": 286
        }
      },
      "execution_count": 3,
      "outputs": [
        {
          "output_type": "display_data",
          "data": {
            "text/html": [
              "<table class=\"dataframe\">\n",
              "<caption>A data.frame: 6 × 6</caption>\n",
              "<thead>\n",
              "\t<tr><th></th><th scope=col>Age</th><th scope=col>Gender</th><th scope=col>Education.Level</th><th scope=col>Job.Title</th><th scope=col>Years.of.Experience</th><th scope=col>Salary</th></tr>\n",
              "\t<tr><th></th><th scope=col>&lt;int&gt;</th><th scope=col>&lt;fct&gt;</th><th scope=col>&lt;fct&gt;</th><th scope=col>&lt;fct&gt;</th><th scope=col>&lt;dbl&gt;</th><th scope=col>&lt;int&gt;</th></tr>\n",
              "</thead>\n",
              "<tbody>\n",
              "\t<tr><th scope=row>1</th><td>32</td><td>Male  </td><td>BS </td><td>Software Engineer</td><td> 5</td><td> 90000</td></tr>\n",
              "\t<tr><th scope=row>2</th><td>28</td><td>Female</td><td>MS </td><td>Data Analyst     </td><td> 3</td><td> 65000</td></tr>\n",
              "\t<tr><th scope=row>3</th><td>45</td><td>Male  </td><td>PhD</td><td>Senior Manager   </td><td>15</td><td>150000</td></tr>\n",
              "\t<tr><th scope=row>4</th><td>36</td><td>Female</td><td>BS </td><td>Sales Associate  </td><td> 7</td><td> 60000</td></tr>\n",
              "\t<tr><th scope=row>5</th><td>52</td><td>Male  </td><td>MS </td><td>Director         </td><td>20</td><td>200000</td></tr>\n",
              "\t<tr><th scope=row>6</th><td>29</td><td>Male  </td><td>BS </td><td>Marketing Analyst</td><td> 2</td><td> 55000</td></tr>\n",
              "</tbody>\n",
              "</table>\n"
            ],
            "text/markdown": "\nA data.frame: 6 × 6\n\n| <!--/--> | Age &lt;int&gt; | Gender &lt;fct&gt; | Education.Level &lt;fct&gt; | Job.Title &lt;fct&gt; | Years.of.Experience &lt;dbl&gt; | Salary &lt;int&gt; |\n|---|---|---|---|---|---|---|\n| 1 | 32 | Male   | BS  | Software Engineer |  5 |  90000 |\n| 2 | 28 | Female | MS  | Data Analyst      |  3 |  65000 |\n| 3 | 45 | Male   | PhD | Senior Manager    | 15 | 150000 |\n| 4 | 36 | Female | BS  | Sales Associate   |  7 |  60000 |\n| 5 | 52 | Male   | MS  | Director          | 20 | 200000 |\n| 6 | 29 | Male   | BS  | Marketing Analyst |  2 |  55000 |\n\n",
            "text/latex": "A data.frame: 6 × 6\n\\begin{tabular}{r|llllll}\n  & Age & Gender & Education.Level & Job.Title & Years.of.Experience & Salary\\\\\n  & <int> & <fct> & <fct> & <fct> & <dbl> & <int>\\\\\n\\hline\n\t1 & 32 & Male   & BS  & Software Engineer &  5 &  90000\\\\\n\t2 & 28 & Female & MS  & Data Analyst      &  3 &  65000\\\\\n\t3 & 45 & Male   & PhD & Senior Manager    & 15 & 150000\\\\\n\t4 & 36 & Female & BS  & Sales Associate   &  7 &  60000\\\\\n\t5 & 52 & Male   & MS  & Director          & 20 & 200000\\\\\n\t6 & 29 & Male   & BS  & Marketing Analyst &  2 &  55000\\\\\n\\end{tabular}\n",
            "text/plain": [
              "  Age Gender Education.Level Job.Title         Years.of.Experience Salary\n",
              "1 32  Male   BS              Software Engineer  5                   90000\n",
              "2 28  Female MS              Data Analyst       3                   65000\n",
              "3 45  Male   PhD             Senior Manager    15                  150000\n",
              "4 36  Female BS              Sales Associate    7                   60000\n",
              "5 52  Male   MS              Director          20                  200000\n",
              "6 29  Male   BS              Marketing Analyst  2                   55000"
            ]
          },
          "metadata": {}
        }
      ]
    },
    {
      "cell_type": "markdown",
      "source": [
        "<br>\n",
        "\n",
        "<br>"
      ],
      "metadata": {
        "id": "qxS6ztRJqMdK"
      }
    },
    {
      "cell_type": "markdown",
      "metadata": {
        "id": "rbeRxp-3qMdM"
      },
      "source": [
        "<br>\n",
        "\n",
        "---"
      ]
    },
    {
      "cell_type": "markdown",
      "metadata": {
        "id": "oHahMLpO8A9D"
      },
      "source": [
        "####<font color=red>Task 2</font> Using `for` loops for data exploration\n"
      ]
    },
    {
      "cell_type": "markdown",
      "metadata": {
        "id": "ScjnfR6W8A9D"
      },
      "source": [
        "<font color=red>Task 2.1</font>\n",
        "\n",
        "* Use the `levels()` function to extract the unique values of the education variable in the `salary` data frame and store as the variable `education_levels`.\n",
        "\n",
        "* Use subsetting to show that the second entry of your defined `education_levels` variable is `\"HS\"`\n",
        "\n"
      ]
    },
    {
      "cell_type": "code",
      "source": [
        "#2.1\n",
        "education_levels = levels(salary$Education.Level)\n",
        "education_levels\n",
        "\n",
        "education_levels[2]"
      ],
      "metadata": {
        "id": "-3AFE7Q2I2aN",
        "outputId": "327ab478-8f9d-4349-f8cc-6b57b34a8968",
        "colab": {
          "base_uri": "https://localhost:8080/",
          "height": 52
        }
      },
      "execution_count": 7,
      "outputs": [
        {
          "output_type": "display_data",
          "data": {
            "text/html": [
              "<style>\n",
              ".list-inline {list-style: none; margin:0; padding: 0}\n",
              ".list-inline>li {display: inline-block}\n",
              ".list-inline>li:not(:last-child)::after {content: \"\\00b7\"; padding: 0 .5ex}\n",
              "</style>\n",
              "<ol class=list-inline><li>'missing'</li><li>'HS'</li><li>'BS'</li><li>'MS'</li><li>'PhD'</li></ol>\n"
            ],
            "text/markdown": "1. 'missing'\n2. 'HS'\n3. 'BS'\n4. 'MS'\n5. 'PhD'\n\n\n",
            "text/latex": "\\begin{enumerate*}\n\\item 'missing'\n\\item 'HS'\n\\item 'BS'\n\\item 'MS'\n\\item 'PhD'\n\\end{enumerate*}\n",
            "text/plain": [
              "[1] \"missing\" \"HS\"      \"BS\"      \"MS\"      \"PhD\"    "
            ]
          },
          "metadata": {}
        },
        {
          "output_type": "display_data",
          "data": {
            "text/html": [
              "'HS'"
            ],
            "text/markdown": "'HS'",
            "text/latex": "'HS'",
            "text/plain": [
              "[1] \"HS\""
            ]
          },
          "metadata": {}
        }
      ]
    },
    {
      "cell_type": "markdown",
      "source": [
        "<br>"
      ],
      "metadata": {
        "id": "ek9vIwz7tqqZ"
      }
    },
    {
      "cell_type": "markdown",
      "metadata": {
        "id": "yDgq4Nvqtcdf"
      },
      "source": [
        "<font color=red>Task 2.2</font>\n",
        "\n",
        "* Write a `for` loop that iterates a vector of consecutive integers from `1` through the total number of education levels\n",
        "\n",
        "* The `for` loop should print the corresponding education level at each iteration\n",
        "\n"
      ]
    },
    {
      "cell_type": "code",
      "source": [
        "#2.2\n",
        "for(i in 1:length(education_levels)){\n",
        "  print(i)\n",
        "}\n",
        "\n",
        "for(i in education_levels){\n",
        "  print(i)\n",
        "}"
      ],
      "metadata": {
        "id": "sc2ot7QkKgQB",
        "outputId": "2291152a-0620-472a-fd2a-fe23ce9a2296",
        "colab": {
          "base_uri": "https://localhost:8080/"
        }
      },
      "execution_count": 16,
      "outputs": [
        {
          "output_type": "stream",
          "name": "stdout",
          "text": [
            "[1] 1\n",
            "[1] 2\n",
            "[1] 3\n",
            "[1] 4\n",
            "[1] 5\n",
            "[1] \"missing\"\n",
            "[1] \"HS\"\n",
            "[1] \"BS\"\n",
            "[1] \"MS\"\n",
            "[1] \"PhD\"\n"
          ]
        }
      ]
    },
    {
      "cell_type": "markdown",
      "source": [
        "<br>"
      ],
      "metadata": {
        "id": "BsLfdENMqzLv"
      }
    },
    {
      "cell_type": "markdown",
      "metadata": {
        "id": "XCfvXLu2qyr7"
      },
      "source": [
        "<font color=red>Task 2.3</font>\n",
        "\n",
        "* Use subsetting to calculate the average salary of individuals with an education level equal to the first entry of your defined `education_levels` variable.\n",
        "\n"
      ]
    },
    {
      "cell_type": "code",
      "source": [
        "#2.3\n",
        "\n",
        "salary[salary$Education.Level == \"missing\",]\n",
        "\n",
        "salary$Salary[salary$Education.Level == \"missing\"]\n",
        "\n",
        "salary$Salary[salary$Education.Level == education_levels[1]]\n",
        "\n"
      ],
      "metadata": {
        "id": "G495COzoNQuW",
        "outputId": "de729151-93a4-49da-f960-e28c2bc58125",
        "colab": {
          "base_uri": "https://localhost:8080/",
          "height": 164
        }
      },
      "execution_count": 22,
      "outputs": [
        {
          "output_type": "display_data",
          "data": {
            "text/html": [
              "<table class=\"dataframe\">\n",
              "<caption>A data.frame: 1 × 6</caption>\n",
              "<thead>\n",
              "\t<tr><th></th><th scope=col>Age</th><th scope=col>Gender</th><th scope=col>Education.Level</th><th scope=col>Job.Title</th><th scope=col>Years.of.Experience</th><th scope=col>Salary</th></tr>\n",
              "\t<tr><th></th><th scope=col>&lt;int&gt;</th><th scope=col>&lt;fct&gt;</th><th scope=col>&lt;fct&gt;</th><th scope=col>&lt;fct&gt;</th><th scope=col>&lt;dbl&gt;</th><th scope=col>&lt;int&gt;</th></tr>\n",
              "</thead>\n",
              "<tbody>\n",
              "\t<tr><th scope=row>2012</th><td>27</td><td>Male</td><td>missing</td><td>Developer</td><td>7</td><td>100000</td></tr>\n",
              "</tbody>\n",
              "</table>\n"
            ],
            "text/markdown": "\nA data.frame: 1 × 6\n\n| <!--/--> | Age &lt;int&gt; | Gender &lt;fct&gt; | Education.Level &lt;fct&gt; | Job.Title &lt;fct&gt; | Years.of.Experience &lt;dbl&gt; | Salary &lt;int&gt; |\n|---|---|---|---|---|---|---|\n| 2012 | 27 | Male | missing | Developer | 7 | 100000 |\n\n",
            "text/latex": "A data.frame: 1 × 6\n\\begin{tabular}{r|llllll}\n  & Age & Gender & Education.Level & Job.Title & Years.of.Experience & Salary\\\\\n  & <int> & <fct> & <fct> & <fct> & <dbl> & <int>\\\\\n\\hline\n\t2012 & 27 & Male & missing & Developer & 7 & 100000\\\\\n\\end{tabular}\n",
            "text/plain": [
              "     Age Gender Education.Level Job.Title Years.of.Experience Salary\n",
              "2012 27  Male   missing         Developer 7                   100000"
            ]
          },
          "metadata": {}
        },
        {
          "output_type": "display_data",
          "data": {
            "text/html": [
              "100000"
            ],
            "text/markdown": "100000",
            "text/latex": "100000",
            "text/plain": [
              "[1] 100000"
            ]
          },
          "metadata": {}
        },
        {
          "output_type": "display_data",
          "data": {
            "text/html": [
              "100000"
            ],
            "text/markdown": "100000",
            "text/latex": "100000",
            "text/plain": [
              "[1] 100000"
            ]
          },
          "metadata": {}
        }
      ]
    },
    {
      "cell_type": "markdown",
      "source": [
        "<br>"
      ],
      "metadata": {
        "id": "ziMNdRmKvA2n"
      }
    },
    {
      "cell_type": "markdown",
      "metadata": {
        "id": "lyWQD9RAvA2n"
      },
      "source": [
        "<font color=red>Task 2.4</font>\n",
        "\n",
        "* Change your `for` loop from Task 2.2 to print the average salary of individuals in each education level\n",
        "\n"
      ]
    },
    {
      "cell_type": "code",
      "source": [
        "#2.5\n",
        "for(i in 1: length(education_levels)){\n",
        "  print(mean(salary$Salary[salary$Education.Level == education_levels[i]]))\n",
        "}"
      ],
      "metadata": {
        "id": "sphgd36pQGub",
        "outputId": "38bc9f3c-497d-4938-d6de-3b62072a28b3",
        "colab": {
          "base_uri": "https://localhost:8080/"
        }
      },
      "execution_count": 24,
      "outputs": [
        {
          "output_type": "stream",
          "name": "stdout",
          "text": [
            "[1] 1e+05\n",
            "[1] 36706.69\n",
            "[1] 95082.91\n",
            "[1] 130112.1\n",
            "[1] 165651.5\n"
          ]
        }
      ]
    },
    {
      "cell_type": "markdown",
      "source": [
        "<br>"
      ],
      "metadata": {
        "id": "Ptn1Kyi_vnYk"
      }
    },
    {
      "cell_type": "markdown",
      "metadata": {
        "id": "1kMEo1U_vnYk"
      },
      "source": [
        "<font color=red>Task 2.5</font>\n",
        "\n",
        "* Change your `for` loop from Task 2.4 iteratively store the computed average salaries in a variable called `salary_averages` (instead of printing them)\n",
        "\n"
      ]
    },
    {
      "cell_type": "code",
      "source": [
        "salary_averages <- seq(1,length(education_levels))\n",
        "\n",
        "for(i in 1: length(education_levels)){\n",
        "  salary_averages[i] <- mean(salary$Salary[salary$Education.Level == education_levels[i]])\n",
        "}\n",
        "salary_averages"
      ],
      "metadata": {
        "id": "UJ94iw8BQUp7",
        "outputId": "4fca1012-780a-4f90-ea53-107589e7f57b",
        "colab": {
          "base_uri": "https://localhost:8080/",
          "height": 34
        }
      },
      "execution_count": 28,
      "outputs": [
        {
          "output_type": "display_data",
          "data": {
            "text/html": [
              "<style>\n",
              ".list-inline {list-style: none; margin:0; padding: 0}\n",
              ".list-inline>li {display: inline-block}\n",
              ".list-inline>li:not(:last-child)::after {content: \"\\00b7\"; padding: 0 .5ex}\n",
              "</style>\n",
              "<ol class=list-inline><li>1e+05</li><li>36706.6941964286</li><li>95082.9086395233</li><li>130112.056451613</li><li>165651.457998539</li></ol>\n"
            ],
            "text/markdown": "1. 1e+05\n2. 36706.6941964286\n3. 95082.9086395233\n4. 130112.056451613\n5. 165651.457998539\n\n\n",
            "text/latex": "\\begin{enumerate*}\n\\item 1e+05\n\\item 36706.6941964286\n\\item 95082.9086395233\n\\item 130112.056451613\n\\item 165651.457998539\n\\end{enumerate*}\n",
            "text/plain": [
              "[1] 100000.00  36706.69  95082.91 130112.06 165651.46"
            ]
          },
          "metadata": {}
        }
      ]
    },
    {
      "cell_type": "markdown",
      "source": [
        "<br>"
      ],
      "metadata": {
        "id": "l3cwQoZIwR_Z"
      }
    },
    {
      "cell_type": "markdown",
      "metadata": {
        "id": "TgXCNOMDwR_a"
      },
      "source": [
        "<font color=red>Task 2.6</font>\n",
        "\n",
        "Create a data frame using your `for` loop output with the following attributes\n",
        "  * The data frame should have two columns: one for education level called `education_level` and one for average salary called `salary_average`\n",
        "  * Each row of the data frame should corresponding to an education level\n",
        "\n"
      ]
    },
    {
      "cell_type": "code",
      "source": [
        "df <- data.frame(education_levels, salary_averages)\n",
        "df"
      ],
      "metadata": {
        "id": "x5JYVj0WQ__1",
        "outputId": "9b3e3aa6-6d35-4949-8d4b-f67bfec2e106",
        "colab": {
          "base_uri": "https://localhost:8080/",
          "height": 255
        }
      },
      "execution_count": 30,
      "outputs": [
        {
          "output_type": "display_data",
          "data": {
            "text/html": [
              "<table class=\"dataframe\">\n",
              "<caption>A data.frame: 5 × 2</caption>\n",
              "<thead>\n",
              "\t<tr><th scope=col>education_levels</th><th scope=col>salary_averages</th></tr>\n",
              "\t<tr><th scope=col>&lt;chr&gt;</th><th scope=col>&lt;dbl&gt;</th></tr>\n",
              "</thead>\n",
              "<tbody>\n",
              "\t<tr><td>missing</td><td>100000.00</td></tr>\n",
              "\t<tr><td>HS     </td><td> 36706.69</td></tr>\n",
              "\t<tr><td>BS     </td><td> 95082.91</td></tr>\n",
              "\t<tr><td>MS     </td><td>130112.06</td></tr>\n",
              "\t<tr><td>PhD    </td><td>165651.46</td></tr>\n",
              "</tbody>\n",
              "</table>\n"
            ],
            "text/markdown": "\nA data.frame: 5 × 2\n\n| education_levels &lt;chr&gt; | salary_averages &lt;dbl&gt; |\n|---|---|\n| missing | 100000.00 |\n| HS      |  36706.69 |\n| BS      |  95082.91 |\n| MS      | 130112.06 |\n| PhD     | 165651.46 |\n\n",
            "text/latex": "A data.frame: 5 × 2\n\\begin{tabular}{ll}\n education\\_levels & salary\\_averages\\\\\n <chr> & <dbl>\\\\\n\\hline\n\t missing & 100000.00\\\\\n\t HS      &  36706.69\\\\\n\t BS      &  95082.91\\\\\n\t MS      & 130112.06\\\\\n\t PhD     & 165651.46\\\\\n\\end{tabular}\n",
            "text/plain": [
              "  education_levels salary_averages\n",
              "1 missing          100000.00      \n",
              "2 HS                36706.69      \n",
              "3 BS                95082.91      \n",
              "4 MS               130112.06      \n",
              "5 PhD              165651.46      "
            ]
          },
          "metadata": {}
        }
      ]
    },
    {
      "cell_type": "markdown",
      "source": [
        "<br>"
      ],
      "metadata": {
        "id": "L_mCut9cxV9x"
      }
    },
    {
      "cell_type": "markdown",
      "metadata": {
        "id": "bbENtiFKxV9y"
      },
      "source": [
        "<font color=red>Task 2.7</font>\n",
        "\n",
        "In a text cell, write your observations from the data frame you created in Task 2.6\n",
        "\n"
      ]
    },
    {
      "cell_type": "markdown",
      "source": [
        "**Task 2.7**\n",
        "\n",
        "We created two vectors one story all the education levels, and one storying the salary_averages. Since the two are well ordered, we can use the data.frame() function to create the data frame."
      ],
      "metadata": {
        "id": "vnYCHChpSbQL"
      }
    },
    {
      "cell_type": "markdown",
      "source": [
        "<br>\n",
        "\n",
        "<br>"
      ],
      "metadata": {
        "id": "HrJ5i3XuX8HJ"
      }
    },
    {
      "cell_type": "markdown",
      "metadata": {
        "id": "2ckIp9dqMRs2"
      },
      "source": [
        "<br>\n",
        "\n",
        "---"
      ]
    },
    {
      "cell_type": "markdown",
      "metadata": {
        "id": "fwjB82h5y4Nq"
      },
      "source": [
        "####<font color=red>Task 3</font> Using `for` loops for data exploration\n"
      ]
    },
    {
      "cell_type": "markdown",
      "metadata": {
        "id": "jdLN3eqsx9Fd"
      },
      "source": [
        "<font color=red>Task 3.1</font>\n",
        "\n",
        "Using code similar to Task 2, create a data frame with the following attributes\n",
        "\n",
        "* The data frame should have two columns: one for job title called `job` and one for average salary called `salary_average`\n",
        "\n",
        "* Each row of the data frame should corresponding to unique job title\n",
        "\n",
        "* Store the data frame as a variable called `job_salaries`\n"
      ]
    },
    {
      "cell_type": "code",
      "source": [
        "#3.1\n",
        "\n",
        "job = levels(salary$Job.Title)\n",
        "\n",
        "salary_average <- seq(1, length(job))\n",
        "\n",
        "for(i in 1 : length(job)){\n",
        "  salary_averages[i] <- mean( salary$Salary[salary$Job.Title == job[i]] )\n",
        "}\n",
        "job_salaries = data.frame(job,salary_averages)\n",
        "job_salaries\n"
      ],
      "metadata": {
        "colab": {
          "base_uri": "https://localhost:8080/",
          "height": 1000
        },
        "id": "rOI0MLyUTJAg",
        "outputId": "b90e12f8-3396-4779-b18e-f5dfdc90995d"
      },
      "execution_count": 36,
      "outputs": [
        {
          "output_type": "display_data",
          "data": {
            "text/html": [
              "<table class=\"dataframe\">\n",
              "<caption>A data.frame: 192 × 2</caption>\n",
              "<thead>\n",
              "\t<tr><th scope=col>job</th><th scope=col>salary_averages</th></tr>\n",
              "\t<tr><th scope=col>&lt;chr&gt;</th><th scope=col>&lt;dbl&gt;</th></tr>\n",
              "</thead>\n",
              "<tbody>\n",
              "\t<tr><td>Account Manager                 </td><td> 75000.00</td></tr>\n",
              "\t<tr><td>Accountant                      </td><td> 55000.00</td></tr>\n",
              "\t<tr><td>Administrative Assistant        </td><td> 50000.00</td></tr>\n",
              "\t<tr><td>Back end Developer              </td><td>102352.56</td></tr>\n",
              "\t<tr><td>Business Analyst                </td><td> 77500.00</td></tr>\n",
              "\t<tr><td>Business Development Manager    </td><td> 90000.00</td></tr>\n",
              "\t<tr><td>Business Intelligence Analyst   </td><td> 85000.00</td></tr>\n",
              "\t<tr><td>CEO                             </td><td>250000.00</td></tr>\n",
              "\t<tr><td>Chief Data Officer              </td><td>220000.00</td></tr>\n",
              "\t<tr><td>Chief Technology Officer        </td><td>250000.00</td></tr>\n",
              "\t<tr><td>Content Marketing Manager       </td><td>123150.68</td></tr>\n",
              "\t<tr><td>Copywriter                      </td><td> 40000.00</td></tr>\n",
              "\t<tr><td>Creative Director               </td><td>120000.00</td></tr>\n",
              "\t<tr><td>Customer Service Manager        </td><td>105000.00</td></tr>\n",
              "\t<tr><td>Customer Service Rep            </td><td> 40000.00</td></tr>\n",
              "\t<tr><td>Customer Service Representative </td><td> 33333.33</td></tr>\n",
              "\t<tr><td>Customer Success Manager        </td><td> 40000.00</td></tr>\n",
              "\t<tr><td>Customer Success Rep            </td><td> 40000.00</td></tr>\n",
              "\t<tr><td>Data Analyst                    </td><td>125090.91</td></tr>\n",
              "\t<tr><td>Data Entry Clerk                </td><td> 35000.00</td></tr>\n",
              "\t<tr><td>Data Scientist                  </td><td>166105.96</td></tr>\n",
              "\t<tr><td>Delivery Driver                 </td><td> 28000.00</td></tr>\n",
              "\t<tr><td>Developer                       </td><td>100000.00</td></tr>\n",
              "\t<tr><td>Digital Content Producer        </td><td> 50000.00</td></tr>\n",
              "\t<tr><td>Digital Marketing Manager       </td><td> 93269.23</td></tr>\n",
              "\t<tr><td>Digital Marketing Specialist    </td><td> 63333.33</td></tr>\n",
              "\t<tr><td>Director                        </td><td>200000.00</td></tr>\n",
              "\t<tr><td>Director of Business Development</td><td>170000.00</td></tr>\n",
              "\t<tr><td>Director of Data Science        </td><td>204561.40</td></tr>\n",
              "\t<tr><td>Director of Engineering         </td><td>180000.00</td></tr>\n",
              "\t<tr><td>⋮</td><td>⋮</td></tr>\n",
              "\t<tr><td>Senior Research Scientist   </td><td>137959.18</td></tr>\n",
              "\t<tr><td>Senior Researcher           </td><td>150000.00</td></tr>\n",
              "\t<tr><td>Senior Sales Manager        </td><td>132500.00</td></tr>\n",
              "\t<tr><td>Senior Sales Representative </td><td> 95000.00</td></tr>\n",
              "\t<tr><td>Senior Scientist            </td><td>123333.33</td></tr>\n",
              "\t<tr><td>Senior Software Architect   </td><td>120000.00</td></tr>\n",
              "\t<tr><td>Senior Software Developer   </td><td>118333.33</td></tr>\n",
              "\t<tr><td>Senior Software Engineer    </td><td>151326.69</td></tr>\n",
              "\t<tr><td>Senior Training Specialist  </td><td>100000.00</td></tr>\n",
              "\t<tr><td>Senior UX Designer          </td><td>155000.00</td></tr>\n",
              "\t<tr><td>Social Media Man            </td><td>100000.00</td></tr>\n",
              "\t<tr><td>Social Media Manager        </td><td> 55000.00</td></tr>\n",
              "\t<tr><td>Social Media Specialist     </td><td> 45000.00</td></tr>\n",
              "\t<tr><td>Software Developer          </td><td> 64680.00</td></tr>\n",
              "\t<tr><td>Software Engineer           </td><td>113243.24</td></tr>\n",
              "\t<tr><td>Software Engineer Manager   </td><td>172502.17</td></tr>\n",
              "\t<tr><td>Software Manager            </td><td>110000.00</td></tr>\n",
              "\t<tr><td>Software Project Manager    </td><td> 95000.00</td></tr>\n",
              "\t<tr><td>Strategy Consultant         </td><td>130000.00</td></tr>\n",
              "\t<tr><td>Supply Chain Analyst        </td><td>130000.00</td></tr>\n",
              "\t<tr><td>Supply Chain Manager        </td><td>105000.00</td></tr>\n",
              "\t<tr><td>Technical Recruiter         </td><td> 70000.00</td></tr>\n",
              "\t<tr><td>Technical Support Specialist</td><td> 40000.00</td></tr>\n",
              "\t<tr><td>Technical Writer            </td><td> 45000.00</td></tr>\n",
              "\t<tr><td>Training Specialist         </td><td> 65000.00</td></tr>\n",
              "\t<tr><td>UX Designer                 </td><td> 80000.00</td></tr>\n",
              "\t<tr><td>UX Researcher               </td><td> 65000.00</td></tr>\n",
              "\t<tr><td>VP of Finance               </td><td>200000.00</td></tr>\n",
              "\t<tr><td>VP of Operations            </td><td>190000.00</td></tr>\n",
              "\t<tr><td>Web Developer               </td><td> 66436.78</td></tr>\n",
              "</tbody>\n",
              "</table>\n"
            ],
            "text/markdown": "\nA data.frame: 192 × 2\n\n| job &lt;chr&gt; | salary_averages &lt;dbl&gt; |\n|---|---|\n| Account Manager                  |  75000.00 |\n| Accountant                       |  55000.00 |\n| Administrative Assistant         |  50000.00 |\n| Back end Developer               | 102352.56 |\n| Business Analyst                 |  77500.00 |\n| Business Development Manager     |  90000.00 |\n| Business Intelligence Analyst    |  85000.00 |\n| CEO                              | 250000.00 |\n| Chief Data Officer               | 220000.00 |\n| Chief Technology Officer         | 250000.00 |\n| Content Marketing Manager        | 123150.68 |\n| Copywriter                       |  40000.00 |\n| Creative Director                | 120000.00 |\n| Customer Service Manager         | 105000.00 |\n| Customer Service Rep             |  40000.00 |\n| Customer Service Representative  |  33333.33 |\n| Customer Success Manager         |  40000.00 |\n| Customer Success Rep             |  40000.00 |\n| Data Analyst                     | 125090.91 |\n| Data Entry Clerk                 |  35000.00 |\n| Data Scientist                   | 166105.96 |\n| Delivery Driver                  |  28000.00 |\n| Developer                        | 100000.00 |\n| Digital Content Producer         |  50000.00 |\n| Digital Marketing Manager        |  93269.23 |\n| Digital Marketing Specialist     |  63333.33 |\n| Director                         | 200000.00 |\n| Director of Business Development | 170000.00 |\n| Director of Data Science         | 204561.40 |\n| Director of Engineering          | 180000.00 |\n| ⋮ | ⋮ |\n| Senior Research Scientist    | 137959.18 |\n| Senior Researcher            | 150000.00 |\n| Senior Sales Manager         | 132500.00 |\n| Senior Sales Representative  |  95000.00 |\n| Senior Scientist             | 123333.33 |\n| Senior Software Architect    | 120000.00 |\n| Senior Software Developer    | 118333.33 |\n| Senior Software Engineer     | 151326.69 |\n| Senior Training Specialist   | 100000.00 |\n| Senior UX Designer           | 155000.00 |\n| Social Media Man             | 100000.00 |\n| Social Media Manager         |  55000.00 |\n| Social Media Specialist      |  45000.00 |\n| Software Developer           |  64680.00 |\n| Software Engineer            | 113243.24 |\n| Software Engineer Manager    | 172502.17 |\n| Software Manager             | 110000.00 |\n| Software Project Manager     |  95000.00 |\n| Strategy Consultant          | 130000.00 |\n| Supply Chain Analyst         | 130000.00 |\n| Supply Chain Manager         | 105000.00 |\n| Technical Recruiter          |  70000.00 |\n| Technical Support Specialist |  40000.00 |\n| Technical Writer             |  45000.00 |\n| Training Specialist          |  65000.00 |\n| UX Designer                  |  80000.00 |\n| UX Researcher                |  65000.00 |\n| VP of Finance                | 200000.00 |\n| VP of Operations             | 190000.00 |\n| Web Developer                |  66436.78 |\n\n",
            "text/latex": "A data.frame: 192 × 2\n\\begin{tabular}{ll}\n job & salary\\_averages\\\\\n <chr> & <dbl>\\\\\n\\hline\n\t Account Manager                  &  75000.00\\\\\n\t Accountant                       &  55000.00\\\\\n\t Administrative Assistant         &  50000.00\\\\\n\t Back end Developer               & 102352.56\\\\\n\t Business Analyst                 &  77500.00\\\\\n\t Business Development Manager     &  90000.00\\\\\n\t Business Intelligence Analyst    &  85000.00\\\\\n\t CEO                              & 250000.00\\\\\n\t Chief Data Officer               & 220000.00\\\\\n\t Chief Technology Officer         & 250000.00\\\\\n\t Content Marketing Manager        & 123150.68\\\\\n\t Copywriter                       &  40000.00\\\\\n\t Creative Director                & 120000.00\\\\\n\t Customer Service Manager         & 105000.00\\\\\n\t Customer Service Rep             &  40000.00\\\\\n\t Customer Service Representative  &  33333.33\\\\\n\t Customer Success Manager         &  40000.00\\\\\n\t Customer Success Rep             &  40000.00\\\\\n\t Data Analyst                     & 125090.91\\\\\n\t Data Entry Clerk                 &  35000.00\\\\\n\t Data Scientist                   & 166105.96\\\\\n\t Delivery Driver                  &  28000.00\\\\\n\t Developer                        & 100000.00\\\\\n\t Digital Content Producer         &  50000.00\\\\\n\t Digital Marketing Manager        &  93269.23\\\\\n\t Digital Marketing Specialist     &  63333.33\\\\\n\t Director                         & 200000.00\\\\\n\t Director of Business Development & 170000.00\\\\\n\t Director of Data Science         & 204561.40\\\\\n\t Director of Engineering          & 180000.00\\\\\n\t ⋮ & ⋮\\\\\n\t Senior Research Scientist    & 137959.18\\\\\n\t Senior Researcher            & 150000.00\\\\\n\t Senior Sales Manager         & 132500.00\\\\\n\t Senior Sales Representative  &  95000.00\\\\\n\t Senior Scientist             & 123333.33\\\\\n\t Senior Software Architect    & 120000.00\\\\\n\t Senior Software Developer    & 118333.33\\\\\n\t Senior Software Engineer     & 151326.69\\\\\n\t Senior Training Specialist   & 100000.00\\\\\n\t Senior UX Designer           & 155000.00\\\\\n\t Social Media Man             & 100000.00\\\\\n\t Social Media Manager         &  55000.00\\\\\n\t Social Media Specialist      &  45000.00\\\\\n\t Software Developer           &  64680.00\\\\\n\t Software Engineer            & 113243.24\\\\\n\t Software Engineer Manager    & 172502.17\\\\\n\t Software Manager             & 110000.00\\\\\n\t Software Project Manager     &  95000.00\\\\\n\t Strategy Consultant          & 130000.00\\\\\n\t Supply Chain Analyst         & 130000.00\\\\\n\t Supply Chain Manager         & 105000.00\\\\\n\t Technical Recruiter          &  70000.00\\\\\n\t Technical Support Specialist &  40000.00\\\\\n\t Technical Writer             &  45000.00\\\\\n\t Training Specialist          &  65000.00\\\\\n\t UX Designer                  &  80000.00\\\\\n\t UX Researcher                &  65000.00\\\\\n\t VP of Finance                & 200000.00\\\\\n\t VP of Operations             & 190000.00\\\\\n\t Web Developer                &  66436.78\\\\\n\\end{tabular}\n",
            "text/plain": [
              "    job                              salary_averages\n",
              "1   Account Manager                   75000.00      \n",
              "2   Accountant                        55000.00      \n",
              "3   Administrative Assistant          50000.00      \n",
              "4   Back end Developer               102352.56      \n",
              "5   Business Analyst                  77500.00      \n",
              "6   Business Development Manager      90000.00      \n",
              "7   Business Intelligence Analyst     85000.00      \n",
              "8   CEO                              250000.00      \n",
              "9   Chief Data Officer               220000.00      \n",
              "10  Chief Technology Officer         250000.00      \n",
              "11  Content Marketing Manager        123150.68      \n",
              "12  Copywriter                        40000.00      \n",
              "13  Creative Director                120000.00      \n",
              "14  Customer Service Manager         105000.00      \n",
              "15  Customer Service Rep              40000.00      \n",
              "16  Customer Service Representative   33333.33      \n",
              "17  Customer Success Manager          40000.00      \n",
              "18  Customer Success Rep              40000.00      \n",
              "19  Data Analyst                     125090.91      \n",
              "20  Data Entry Clerk                  35000.00      \n",
              "21  Data Scientist                   166105.96      \n",
              "22  Delivery Driver                   28000.00      \n",
              "23  Developer                        100000.00      \n",
              "24  Digital Content Producer          50000.00      \n",
              "25  Digital Marketing Manager         93269.23      \n",
              "26  Digital Marketing Specialist      63333.33      \n",
              "27  Director                         200000.00      \n",
              "28  Director of Business Development 170000.00      \n",
              "29  Director of Data Science         204561.40      \n",
              "30  Director of Engineering          180000.00      \n",
              "⋮   ⋮                                ⋮              \n",
              "163 Senior Research Scientist        137959.18      \n",
              "164 Senior Researcher                150000.00      \n",
              "165 Senior Sales Manager             132500.00      \n",
              "166 Senior Sales Representative       95000.00      \n",
              "167 Senior Scientist                 123333.33      \n",
              "168 Senior Software Architect        120000.00      \n",
              "169 Senior Software Developer        118333.33      \n",
              "170 Senior Software Engineer         151326.69      \n",
              "171 Senior Training Specialist       100000.00      \n",
              "172 Senior UX Designer               155000.00      \n",
              "173 Social Media Man                 100000.00      \n",
              "174 Social Media Manager              55000.00      \n",
              "175 Social Media Specialist           45000.00      \n",
              "176 Software Developer                64680.00      \n",
              "177 Software Engineer                113243.24      \n",
              "178 Software Engineer Manager        172502.17      \n",
              "179 Software Manager                 110000.00      \n",
              "180 Software Project Manager          95000.00      \n",
              "181 Strategy Consultant              130000.00      \n",
              "182 Supply Chain Analyst             130000.00      \n",
              "183 Supply Chain Manager             105000.00      \n",
              "184 Technical Recruiter               70000.00      \n",
              "185 Technical Support Specialist      40000.00      \n",
              "186 Technical Writer                  45000.00      \n",
              "187 Training Specialist               65000.00      \n",
              "188 UX Designer                       80000.00      \n",
              "189 UX Researcher                     65000.00      \n",
              "190 VP of Finance                    200000.00      \n",
              "191 VP of Operations                 190000.00      \n",
              "192 Web Developer                     66436.78      "
            ]
          },
          "metadata": {}
        }
      ]
    },
    {
      "cell_type": "markdown",
      "source": [
        "<br>"
      ],
      "metadata": {
        "id": "zwKkeAq0zgdZ"
      }
    },
    {
      "cell_type": "markdown",
      "metadata": {
        "id": "vUCGas-HzsDB"
      },
      "source": [
        "<font color=red>Task 3.2</font>\n",
        "\n",
        "* Use the `order()` function to order the data frame from highest average salary to lowest average salary and store as another data frame\n"
      ]
    },
    {
      "cell_type": "code",
      "source": [
        "new_job_salaries <- data.frame(job_salaries[order(job_salaries$salary_averages, decreasing = TRUE),])\n",
        "new_job_salaries"
      ],
      "metadata": {
        "id": "ZtVYsm_aWKuW",
        "outputId": "1c0cfda0-bda8-4905-ed6b-a2b729b06ecd",
        "colab": {
          "base_uri": "https://localhost:8080/",
          "height": 1000
        }
      },
      "execution_count": 42,
      "outputs": [
        {
          "output_type": "display_data",
          "data": {
            "text/html": [
              "<table class=\"dataframe\">\n",
              "<caption>A data.frame: 192 × 2</caption>\n",
              "<thead>\n",
              "\t<tr><th></th><th scope=col>job</th><th scope=col>salary_averages</th></tr>\n",
              "\t<tr><th></th><th scope=col>&lt;chr&gt;</th><th scope=col>&lt;dbl&gt;</th></tr>\n",
              "</thead>\n",
              "<tbody>\n",
              "\t<tr><th scope=row>8</th><td>CEO                             </td><td>250000.0</td></tr>\n",
              "\t<tr><th scope=row>10</th><td>Chief Technology Officer        </td><td>250000.0</td></tr>\n",
              "\t<tr><th scope=row>9</th><td>Chief Data Officer              </td><td>220000.0</td></tr>\n",
              "\t<tr><th scope=row>29</th><td>Director of Data Science        </td><td>204561.4</td></tr>\n",
              "\t<tr><th scope=row>27</th><td>Director                        </td><td>200000.0</td></tr>\n",
              "\t<tr><th scope=row>190</th><td>VP of Finance                   </td><td>200000.0</td></tr>\n",
              "\t<tr><th scope=row>103</th><td>Operations Director             </td><td>190000.0</td></tr>\n",
              "\t<tr><th scope=row>191</th><td>VP of Operations                </td><td>190000.0</td></tr>\n",
              "\t<tr><th scope=row>34</th><td>Director of Human Resources     </td><td>187500.0</td></tr>\n",
              "\t<tr><th scope=row>97</th><td>Marketing Director              </td><td>183984.4</td></tr>\n",
              "\t<tr><th scope=row>30</th><td>Director of Engineering         </td><td>180000.0</td></tr>\n",
              "\t<tr><th scope=row>33</th><td>Director of Human Capital       </td><td>180000.0</td></tr>\n",
              "\t<tr><th scope=row>39</th><td>Director of Sales and Marketing </td><td>180000.0</td></tr>\n",
              "\t<tr><th scope=row>52</th><td>Human Resources Director        </td><td>180000.0</td></tr>\n",
              "\t<tr><th scope=row>31</th><td>Director of Finance             </td><td>175000.0</td></tr>\n",
              "\t<tr><th scope=row>37</th><td>Director of Product Management  </td><td>175000.0</td></tr>\n",
              "\t<tr><th scope=row>38</th><td>Director of Sales               </td><td>175000.0</td></tr>\n",
              "\t<tr><th scope=row>36</th><td>Director of Operations          </td><td>172727.3</td></tr>\n",
              "\t<tr><th scope=row>178</th><td>Software Engineer Manager       </td><td>172502.2</td></tr>\n",
              "\t<tr><th scope=row>28</th><td>Director of Business Development</td><td>170000.0</td></tr>\n",
              "\t<tr><th scope=row>105</th><td>Principal Engineer              </td><td>170000.0</td></tr>\n",
              "\t<tr><th scope=row>160</th><td>Senior Project Engineer         </td><td>166224.8</td></tr>\n",
              "\t<tr><th scope=row>21</th><td>Data Scientist                  </td><td>166106.0</td></tr>\n",
              "\t<tr><th scope=row>116</th><td>Research Scientist              </td><td>165362.3</td></tr>\n",
              "\t<tr><th scope=row>115</th><td>Research Director               </td><td>163333.3</td></tr>\n",
              "\t<tr><th scope=row>146</th><td>Senior Manager                  </td><td>160000.0</td></tr>\n",
              "\t<tr><th scope=row>149</th><td>Senior Marketing Director       </td><td>160000.0</td></tr>\n",
              "\t<tr><th scope=row>129</th><td>Senior Data Analyst             </td><td>155000.0</td></tr>\n",
              "\t<tr><th scope=row>130</th><td>Senior Data Engineer            </td><td>155000.0</td></tr>\n",
              "\t<tr><th scope=row>172</th><td>Senior UX Designer              </td><td>155000.0</td></tr>\n",
              "\t<tr><th scope=row>⋮</th><td>⋮</td><td>⋮</td></tr>\n",
              "\t<tr><th scope=row>91</th><td>Junior Web Designer                  </td><td>45000.00</td></tr>\n",
              "\t<tr><th scope=row>175</th><td>Social Media Specialist              </td><td>45000.00</td></tr>\n",
              "\t<tr><th scope=row>186</th><td>Technical Writer                     </td><td>45000.00</td></tr>\n",
              "\t<tr><th scope=row>122</th><td>Sales Representative                 </td><td>44078.95</td></tr>\n",
              "\t<tr><th scope=row>119</th><td>Sales Executive                      </td><td>43026.32</td></tr>\n",
              "\t<tr><th scope=row>94</th><td>Juniour HR Generalist                </td><td>43000.00</td></tr>\n",
              "\t<tr><th scope=row>58</th><td>Junior Accountant                    </td><td>41666.67</td></tr>\n",
              "\t<tr><th scope=row>61</th><td>Junior Business Development Associate</td><td>40714.29</td></tr>\n",
              "\t<tr><th scope=row>12</th><td>Copywriter                           </td><td>40000.00</td></tr>\n",
              "\t<tr><th scope=row>15</th><td>Customer Service Rep                 </td><td>40000.00</td></tr>\n",
              "\t<tr><th scope=row>17</th><td>Customer Success Manager             </td><td>40000.00</td></tr>\n",
              "\t<tr><th scope=row>18</th><td>Customer Success Rep                 </td><td>40000.00</td></tr>\n",
              "\t<tr><th scope=row>67</th><td>Junior Designer                      </td><td>40000.00</td></tr>\n",
              "\t<tr><th scope=row>68</th><td>Junior Developer                     </td><td>40000.00</td></tr>\n",
              "\t<tr><th scope=row>78</th><td>Junior Operations Coordinator        </td><td>40000.00</td></tr>\n",
              "\t<tr><th scope=row>185</th><td>Technical Support Specialist         </td><td>40000.00</td></tr>\n",
              "\t<tr><th scope=row>72</th><td>Junior HR Generalist                 </td><td>38250.00</td></tr>\n",
              "\t<tr><th scope=row>71</th><td>Junior HR Coordinator                </td><td>37017.24</td></tr>\n",
              "\t<tr><th scope=row>85</th><td>Junior Sales Representative          </td><td>36951.22</td></tr>\n",
              "\t<tr><th scope=row>117</th><td>Sales Associate                      </td><td>35857.14</td></tr>\n",
              "\t<tr><th scope=row>88</th><td>Junior Software Developer            </td><td>35810.34</td></tr>\n",
              "\t<tr><th scope=row>20</th><td>Data Entry Clerk                     </td><td>35000.00</td></tr>\n",
              "\t<tr><th scope=row>48</th><td>Help Desk Analyst                    </td><td>35000.00</td></tr>\n",
              "\t<tr><th scope=row>64</th><td>Junior Customer Support Specialist   </td><td>35000.00</td></tr>\n",
              "\t<tr><th scope=row>16</th><td>Customer Service Representative      </td><td>33333.33</td></tr>\n",
              "\t<tr><th scope=row>93</th><td>Juniour HR Coordinator               </td><td>32000.00</td></tr>\n",
              "\t<tr><th scope=row>84</th><td>Junior Sales Associate               </td><td>28211.27</td></tr>\n",
              "\t<tr><th scope=row>22</th><td>Delivery Driver                      </td><td>28000.00</td></tr>\n",
              "\t<tr><th scope=row>113</th><td>Receptionist                         </td><td>25000.00</td></tr>\n",
              "\t<tr><th scope=row>62</th><td>Junior Business Operations Analyst   </td><td>17675.00</td></tr>\n",
              "</tbody>\n",
              "</table>\n"
            ],
            "text/markdown": "\nA data.frame: 192 × 2\n\n| <!--/--> | job &lt;chr&gt; | salary_averages &lt;dbl&gt; |\n|---|---|---|\n| 8 | CEO                              | 250000.0 |\n| 10 | Chief Technology Officer         | 250000.0 |\n| 9 | Chief Data Officer               | 220000.0 |\n| 29 | Director of Data Science         | 204561.4 |\n| 27 | Director                         | 200000.0 |\n| 190 | VP of Finance                    | 200000.0 |\n| 103 | Operations Director              | 190000.0 |\n| 191 | VP of Operations                 | 190000.0 |\n| 34 | Director of Human Resources      | 187500.0 |\n| 97 | Marketing Director               | 183984.4 |\n| 30 | Director of Engineering          | 180000.0 |\n| 33 | Director of Human Capital        | 180000.0 |\n| 39 | Director of Sales and Marketing  | 180000.0 |\n| 52 | Human Resources Director         | 180000.0 |\n| 31 | Director of Finance              | 175000.0 |\n| 37 | Director of Product Management   | 175000.0 |\n| 38 | Director of Sales                | 175000.0 |\n| 36 | Director of Operations           | 172727.3 |\n| 178 | Software Engineer Manager        | 172502.2 |\n| 28 | Director of Business Development | 170000.0 |\n| 105 | Principal Engineer               | 170000.0 |\n| 160 | Senior Project Engineer          | 166224.8 |\n| 21 | Data Scientist                   | 166106.0 |\n| 116 | Research Scientist               | 165362.3 |\n| 115 | Research Director                | 163333.3 |\n| 146 | Senior Manager                   | 160000.0 |\n| 149 | Senior Marketing Director        | 160000.0 |\n| 129 | Senior Data Analyst              | 155000.0 |\n| 130 | Senior Data Engineer             | 155000.0 |\n| 172 | Senior UX Designer               | 155000.0 |\n| ⋮ | ⋮ | ⋮ |\n| 91 | Junior Web Designer                   | 45000.00 |\n| 175 | Social Media Specialist               | 45000.00 |\n| 186 | Technical Writer                      | 45000.00 |\n| 122 | Sales Representative                  | 44078.95 |\n| 119 | Sales Executive                       | 43026.32 |\n| 94 | Juniour HR Generalist                 | 43000.00 |\n| 58 | Junior Accountant                     | 41666.67 |\n| 61 | Junior Business Development Associate | 40714.29 |\n| 12 | Copywriter                            | 40000.00 |\n| 15 | Customer Service Rep                  | 40000.00 |\n| 17 | Customer Success Manager              | 40000.00 |\n| 18 | Customer Success Rep                  | 40000.00 |\n| 67 | Junior Designer                       | 40000.00 |\n| 68 | Junior Developer                      | 40000.00 |\n| 78 | Junior Operations Coordinator         | 40000.00 |\n| 185 | Technical Support Specialist          | 40000.00 |\n| 72 | Junior HR Generalist                  | 38250.00 |\n| 71 | Junior HR Coordinator                 | 37017.24 |\n| 85 | Junior Sales Representative           | 36951.22 |\n| 117 | Sales Associate                       | 35857.14 |\n| 88 | Junior Software Developer             | 35810.34 |\n| 20 | Data Entry Clerk                      | 35000.00 |\n| 48 | Help Desk Analyst                     | 35000.00 |\n| 64 | Junior Customer Support Specialist    | 35000.00 |\n| 16 | Customer Service Representative       | 33333.33 |\n| 93 | Juniour HR Coordinator                | 32000.00 |\n| 84 | Junior Sales Associate                | 28211.27 |\n| 22 | Delivery Driver                       | 28000.00 |\n| 113 | Receptionist                          | 25000.00 |\n| 62 | Junior Business Operations Analyst    | 17675.00 |\n\n",
            "text/latex": "A data.frame: 192 × 2\n\\begin{tabular}{r|ll}\n  & job & salary\\_averages\\\\\n  & <chr> & <dbl>\\\\\n\\hline\n\t8 & CEO                              & 250000.0\\\\\n\t10 & Chief Technology Officer         & 250000.0\\\\\n\t9 & Chief Data Officer               & 220000.0\\\\\n\t29 & Director of Data Science         & 204561.4\\\\\n\t27 & Director                         & 200000.0\\\\\n\t190 & VP of Finance                    & 200000.0\\\\\n\t103 & Operations Director              & 190000.0\\\\\n\t191 & VP of Operations                 & 190000.0\\\\\n\t34 & Director of Human Resources      & 187500.0\\\\\n\t97 & Marketing Director               & 183984.4\\\\\n\t30 & Director of Engineering          & 180000.0\\\\\n\t33 & Director of Human Capital        & 180000.0\\\\\n\t39 & Director of Sales and Marketing  & 180000.0\\\\\n\t52 & Human Resources Director         & 180000.0\\\\\n\t31 & Director of Finance              & 175000.0\\\\\n\t37 & Director of Product Management   & 175000.0\\\\\n\t38 & Director of Sales                & 175000.0\\\\\n\t36 & Director of Operations           & 172727.3\\\\\n\t178 & Software Engineer Manager        & 172502.2\\\\\n\t28 & Director of Business Development & 170000.0\\\\\n\t105 & Principal Engineer               & 170000.0\\\\\n\t160 & Senior Project Engineer          & 166224.8\\\\\n\t21 & Data Scientist                   & 166106.0\\\\\n\t116 & Research Scientist               & 165362.3\\\\\n\t115 & Research Director                & 163333.3\\\\\n\t146 & Senior Manager                   & 160000.0\\\\\n\t149 & Senior Marketing Director        & 160000.0\\\\\n\t129 & Senior Data Analyst              & 155000.0\\\\\n\t130 & Senior Data Engineer             & 155000.0\\\\\n\t172 & Senior UX Designer               & 155000.0\\\\\n\t⋮ & ⋮ & ⋮\\\\\n\t91 & Junior Web Designer                   & 45000.00\\\\\n\t175 & Social Media Specialist               & 45000.00\\\\\n\t186 & Technical Writer                      & 45000.00\\\\\n\t122 & Sales Representative                  & 44078.95\\\\\n\t119 & Sales Executive                       & 43026.32\\\\\n\t94 & Juniour HR Generalist                 & 43000.00\\\\\n\t58 & Junior Accountant                     & 41666.67\\\\\n\t61 & Junior Business Development Associate & 40714.29\\\\\n\t12 & Copywriter                            & 40000.00\\\\\n\t15 & Customer Service Rep                  & 40000.00\\\\\n\t17 & Customer Success Manager              & 40000.00\\\\\n\t18 & Customer Success Rep                  & 40000.00\\\\\n\t67 & Junior Designer                       & 40000.00\\\\\n\t68 & Junior Developer                      & 40000.00\\\\\n\t78 & Junior Operations Coordinator         & 40000.00\\\\\n\t185 & Technical Support Specialist          & 40000.00\\\\\n\t72 & Junior HR Generalist                  & 38250.00\\\\\n\t71 & Junior HR Coordinator                 & 37017.24\\\\\n\t85 & Junior Sales Representative           & 36951.22\\\\\n\t117 & Sales Associate                       & 35857.14\\\\\n\t88 & Junior Software Developer             & 35810.34\\\\\n\t20 & Data Entry Clerk                      & 35000.00\\\\\n\t48 & Help Desk Analyst                     & 35000.00\\\\\n\t64 & Junior Customer Support Specialist    & 35000.00\\\\\n\t16 & Customer Service Representative       & 33333.33\\\\\n\t93 & Juniour HR Coordinator                & 32000.00\\\\\n\t84 & Junior Sales Associate                & 28211.27\\\\\n\t22 & Delivery Driver                       & 28000.00\\\\\n\t113 & Receptionist                          & 25000.00\\\\\n\t62 & Junior Business Operations Analyst    & 17675.00\\\\\n\\end{tabular}\n",
            "text/plain": [
              "    job                                   salary_averages\n",
              "8   CEO                                   250000.0       \n",
              "10  Chief Technology Officer              250000.0       \n",
              "9   Chief Data Officer                    220000.0       \n",
              "29  Director of Data Science              204561.4       \n",
              "27  Director                              200000.0       \n",
              "190 VP of Finance                         200000.0       \n",
              "103 Operations Director                   190000.0       \n",
              "191 VP of Operations                      190000.0       \n",
              "34  Director of Human Resources           187500.0       \n",
              "97  Marketing Director                    183984.4       \n",
              "30  Director of Engineering               180000.0       \n",
              "33  Director of Human Capital             180000.0       \n",
              "39  Director of Sales and Marketing       180000.0       \n",
              "52  Human Resources Director              180000.0       \n",
              "31  Director of Finance                   175000.0       \n",
              "37  Director of Product Management        175000.0       \n",
              "38  Director of Sales                     175000.0       \n",
              "36  Director of Operations                172727.3       \n",
              "178 Software Engineer Manager             172502.2       \n",
              "28  Director of Business Development      170000.0       \n",
              "105 Principal Engineer                    170000.0       \n",
              "160 Senior Project Engineer               166224.8       \n",
              "21  Data Scientist                        166106.0       \n",
              "116 Research Scientist                    165362.3       \n",
              "115 Research Director                     163333.3       \n",
              "146 Senior Manager                        160000.0       \n",
              "149 Senior Marketing Director             160000.0       \n",
              "129 Senior Data Analyst                   155000.0       \n",
              "130 Senior Data Engineer                  155000.0       \n",
              "172 Senior UX Designer                    155000.0       \n",
              "⋮   ⋮                                     ⋮              \n",
              "91  Junior Web Designer                   45000.00       \n",
              "175 Social Media Specialist               45000.00       \n",
              "186 Technical Writer                      45000.00       \n",
              "122 Sales Representative                  44078.95       \n",
              "119 Sales Executive                       43026.32       \n",
              "94  Juniour HR Generalist                 43000.00       \n",
              "58  Junior Accountant                     41666.67       \n",
              "61  Junior Business Development Associate 40714.29       \n",
              "12  Copywriter                            40000.00       \n",
              "15  Customer Service Rep                  40000.00       \n",
              "17  Customer Success Manager              40000.00       \n",
              "18  Customer Success Rep                  40000.00       \n",
              "67  Junior Designer                       40000.00       \n",
              "68  Junior Developer                      40000.00       \n",
              "78  Junior Operations Coordinator         40000.00       \n",
              "185 Technical Support Specialist          40000.00       \n",
              "72  Junior HR Generalist                  38250.00       \n",
              "71  Junior HR Coordinator                 37017.24       \n",
              "85  Junior Sales Representative           36951.22       \n",
              "117 Sales Associate                       35857.14       \n",
              "88  Junior Software Developer             35810.34       \n",
              "20  Data Entry Clerk                      35000.00       \n",
              "48  Help Desk Analyst                     35000.00       \n",
              "64  Junior Customer Support Specialist    35000.00       \n",
              "16  Customer Service Representative       33333.33       \n",
              "93  Juniour HR Coordinator                32000.00       \n",
              "84  Junior Sales Associate                28211.27       \n",
              "22  Delivery Driver                       28000.00       \n",
              "113 Receptionist                          25000.00       \n",
              "62  Junior Business Operations Analyst    17675.00       "
            ]
          },
          "metadata": {}
        }
      ]
    },
    {
      "cell_type": "markdown",
      "source": [
        "<br>"
      ],
      "metadata": {
        "id": "CMLblfd8zsDD"
      }
    },
    {
      "cell_type": "markdown",
      "metadata": {
        "id": "DJD3TtIu0NL0"
      },
      "source": [
        "<font color=red>Task 3.3</font>\n",
        "\n",
        "* Show the `head()` and `tail()` of the ordered data frame from Task 3.2\n",
        "* Which jobs have the highest and lowest average salaries?"
      ]
    },
    {
      "cell_type": "code",
      "source": [
        "head(new_job_salaries)\n",
        "tail(new_job_salaries)"
      ],
      "metadata": {
        "id": "wGEl_Nu2XYNU",
        "outputId": "02325137-c2be-4e22-e999-1709c6e08a41",
        "colab": {
          "base_uri": "https://localhost:8080/",
          "height": 555
        }
      },
      "execution_count": 44,
      "outputs": [
        {
          "output_type": "display_data",
          "data": {
            "text/html": [
              "<table class=\"dataframe\">\n",
              "<caption>A data.frame: 6 × 2</caption>\n",
              "<thead>\n",
              "\t<tr><th></th><th scope=col>job</th><th scope=col>salary_averages</th></tr>\n",
              "\t<tr><th></th><th scope=col>&lt;chr&gt;</th><th scope=col>&lt;dbl&gt;</th></tr>\n",
              "</thead>\n",
              "<tbody>\n",
              "\t<tr><th scope=row>8</th><td>CEO                     </td><td>250000.0</td></tr>\n",
              "\t<tr><th scope=row>10</th><td>Chief Technology Officer</td><td>250000.0</td></tr>\n",
              "\t<tr><th scope=row>9</th><td>Chief Data Officer      </td><td>220000.0</td></tr>\n",
              "\t<tr><th scope=row>29</th><td>Director of Data Science</td><td>204561.4</td></tr>\n",
              "\t<tr><th scope=row>27</th><td>Director                </td><td>200000.0</td></tr>\n",
              "\t<tr><th scope=row>190</th><td>VP of Finance           </td><td>200000.0</td></tr>\n",
              "</tbody>\n",
              "</table>\n"
            ],
            "text/markdown": "\nA data.frame: 6 × 2\n\n| <!--/--> | job &lt;chr&gt; | salary_averages &lt;dbl&gt; |\n|---|---|---|\n| 8 | CEO                      | 250000.0 |\n| 10 | Chief Technology Officer | 250000.0 |\n| 9 | Chief Data Officer       | 220000.0 |\n| 29 | Director of Data Science | 204561.4 |\n| 27 | Director                 | 200000.0 |\n| 190 | VP of Finance            | 200000.0 |\n\n",
            "text/latex": "A data.frame: 6 × 2\n\\begin{tabular}{r|ll}\n  & job & salary\\_averages\\\\\n  & <chr> & <dbl>\\\\\n\\hline\n\t8 & CEO                      & 250000.0\\\\\n\t10 & Chief Technology Officer & 250000.0\\\\\n\t9 & Chief Data Officer       & 220000.0\\\\\n\t29 & Director of Data Science & 204561.4\\\\\n\t27 & Director                 & 200000.0\\\\\n\t190 & VP of Finance            & 200000.0\\\\\n\\end{tabular}\n",
            "text/plain": [
              "    job                      salary_averages\n",
              "8   CEO                      250000.0       \n",
              "10  Chief Technology Officer 250000.0       \n",
              "9   Chief Data Officer       220000.0       \n",
              "29  Director of Data Science 204561.4       \n",
              "27  Director                 200000.0       \n",
              "190 VP of Finance            200000.0       "
            ]
          },
          "metadata": {}
        },
        {
          "output_type": "display_data",
          "data": {
            "text/html": [
              "<table class=\"dataframe\">\n",
              "<caption>A data.frame: 6 × 2</caption>\n",
              "<thead>\n",
              "\t<tr><th></th><th scope=col>job</th><th scope=col>salary_averages</th></tr>\n",
              "\t<tr><th></th><th scope=col>&lt;chr&gt;</th><th scope=col>&lt;dbl&gt;</th></tr>\n",
              "</thead>\n",
              "<tbody>\n",
              "\t<tr><th scope=row>16</th><td>Customer Service Representative   </td><td>33333.33</td></tr>\n",
              "\t<tr><th scope=row>93</th><td>Juniour HR Coordinator            </td><td>32000.00</td></tr>\n",
              "\t<tr><th scope=row>84</th><td>Junior Sales Associate            </td><td>28211.27</td></tr>\n",
              "\t<tr><th scope=row>22</th><td>Delivery Driver                   </td><td>28000.00</td></tr>\n",
              "\t<tr><th scope=row>113</th><td>Receptionist                      </td><td>25000.00</td></tr>\n",
              "\t<tr><th scope=row>62</th><td>Junior Business Operations Analyst</td><td>17675.00</td></tr>\n",
              "</tbody>\n",
              "</table>\n"
            ],
            "text/markdown": "\nA data.frame: 6 × 2\n\n| <!--/--> | job &lt;chr&gt; | salary_averages &lt;dbl&gt; |\n|---|---|---|\n| 16 | Customer Service Representative    | 33333.33 |\n| 93 | Juniour HR Coordinator             | 32000.00 |\n| 84 | Junior Sales Associate             | 28211.27 |\n| 22 | Delivery Driver                    | 28000.00 |\n| 113 | Receptionist                       | 25000.00 |\n| 62 | Junior Business Operations Analyst | 17675.00 |\n\n",
            "text/latex": "A data.frame: 6 × 2\n\\begin{tabular}{r|ll}\n  & job & salary\\_averages\\\\\n  & <chr> & <dbl>\\\\\n\\hline\n\t16 & Customer Service Representative    & 33333.33\\\\\n\t93 & Juniour HR Coordinator             & 32000.00\\\\\n\t84 & Junior Sales Associate             & 28211.27\\\\\n\t22 & Delivery Driver                    & 28000.00\\\\\n\t113 & Receptionist                       & 25000.00\\\\\n\t62 & Junior Business Operations Analyst & 17675.00\\\\\n\\end{tabular}\n",
            "text/plain": [
              "    job                                salary_averages\n",
              "16  Customer Service Representative    33333.33       \n",
              "93  Juniour HR Coordinator             32000.00       \n",
              "84  Junior Sales Associate             28211.27       \n",
              "22  Delivery Driver                    28000.00       \n",
              "113 Receptionist                       25000.00       \n",
              "62  Junior Business Operations Analyst 17675.00       "
            ]
          },
          "metadata": {}
        }
      ]
    },
    {
      "cell_type": "markdown",
      "source": [
        "**Task 3.4**\n",
        "\n",
        "CEO has the highest salary and Junior Business Operations Analyst has the lowest salary."
      ],
      "metadata": {
        "id": "I5lzymXvXi_B"
      }
    }
  ],
  "metadata": {
    "colab": {
      "provenance": []
    },
    "kernelspec": {
      "display_name": "R",
      "name": "ir"
    }
  },
  "nbformat": 4,
  "nbformat_minor": 0
}