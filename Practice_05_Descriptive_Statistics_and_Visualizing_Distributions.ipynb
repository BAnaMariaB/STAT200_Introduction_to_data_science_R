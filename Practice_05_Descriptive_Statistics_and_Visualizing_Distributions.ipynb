{
  "cells": [
    {
      "cell_type": "markdown",
      "metadata": {
        "id": "gtETsh5j8vHw"
      },
      "source": [
        "# **Practice 05: Descriptive Statistics and Histograms**\n",
        "\n",
        "#### **WRITE YOUR NAME HERE**"
      ]
    },
    {
      "cell_type": "markdown",
      "metadata": {
        "id": "Efu_Sse0Wp6P"
      },
      "source": [
        "---\n",
        "\n",
        "**IMPORTANT**:\n",
        "- Before starting the lab, save a copy to your google drive by navigating to `File > Save a copy in Drive` <br>\n",
        "\n",
        "<br>\n",
        "\n",
        "\n",
        "**Instructions**: Complete the lab below.\n",
        "\n",
        "- <font color=red>Tasks</font> indicated in red must be completed to receive credit\n",
        "- Include all code for your work\n",
        "- Include markdown cells with written answers explaining your work when prompted\n",
        "- **NOTE: Your completed lab must be submitted to Canvas as a .ipynb file by the end of the lab session**\n",
        "---"
      ]
    },
    {
      "cell_type": "markdown",
      "metadata": {
        "id": "wFVxj8nD-yIt"
      },
      "source": [
        "<br>"
      ]
    },
    {
      "cell_type": "markdown",
      "metadata": {
        "id": "omeTfTlN4Npb"
      },
      "source": [
        "####<font color=red>Organized</font>\n",
        "\n",
        "**Answers should be organized in the following format for organization and readability**\n"
      ]
    },
    {
      "cell_type": "markdown",
      "metadata": {
        "id": "uLialHuQ4-vU"
      },
      "source": [
        "<font color=red>Example task 1</font>"
      ]
    },
    {
      "cell_type": "code",
      "execution_count": null,
      "metadata": {
        "id": "Mxff4INi5Evt"
      },
      "outputs": [],
      "source": [
        "# 1.\n",
        "\n",
        "# This will be the code block to answer the first part of a task"
      ]
    },
    {
      "cell_type": "markdown",
      "metadata": {
        "id": "A-GtymRS5Syz"
      },
      "source": [
        "1. This will be the text answer/explanation (if prompted) for the first task"
      ]
    },
    {
      "cell_type": "markdown",
      "metadata": {
        "id": "fDAMP6ZC5Zqp"
      },
      "source": [
        "<font color=red>Example task 2</font>"
      ]
    },
    {
      "cell_type": "code",
      "execution_count": null,
      "metadata": {
        "id": "K94QMtU55Zqp"
      },
      "outputs": [],
      "source": [
        "# 2.\n",
        "\n",
        "# This will be the code block to answer the second part of a task"
      ]
    },
    {
      "cell_type": "markdown",
      "metadata": {
        "id": "xRfvDNu25Zqp"
      },
      "source": [
        "2. This will be the text answer/explanation (if prompted) for the second task"
      ]
    },
    {
      "cell_type": "markdown",
      "metadata": {
        "id": "JIEIhg5I5JfN"
      },
      "source": [
        "<br>\n",
        "\n",
        "Continue this format for the remaining subtasks\n"
      ]
    },
    {
      "cell_type": "markdown",
      "metadata": {
        "id": "rcQECH5y4RiC"
      },
      "source": [
        "<br>"
      ]
    },
    {
      "cell_type": "markdown",
      "metadata": {
        "id": "Q4n93wPOXOPB"
      },
      "source": [
        "<br>\n",
        "\n",
        "---"
      ]
    },
    {
      "cell_type": "markdown",
      "metadata": {
        "id": "gFPSdK5aXOPB"
      },
      "source": [
        "####<font color=red>Task 1</font> - Exploring Distributions using Histograms\n",
        "\n"
      ]
    },
    {
      "cell_type": "markdown",
      "metadata": {
        "id": "SXTflZVXXOPB"
      },
      "source": [
        "<font color=red>Task 1.1</font> Load the `mtcars` dataset by running `data(mtcars)`."
      ]
    },
    {
      "cell_type": "code",
      "source": [
        "#1.1\n",
        "data(mtcars)"
      ],
      "metadata": {
        "id": "p_WhekbNAPA8"
      },
      "execution_count": 1,
      "outputs": []
    },
    {
      "cell_type": "markdown",
      "metadata": {
        "id": "D9Zi7RfgFC7t"
      },
      "source": [
        "<br>"
      ]
    },
    {
      "cell_type": "markdown",
      "metadata": {
        "id": "VdX6RYc8FD0Q"
      },
      "source": [
        "<font color=red>Task 1.2</font> View the first few lines of the `mtcars` data frame using the `head()` function."
      ]
    },
    {
      "cell_type": "code",
      "source": [
        "#1.2\n",
        "head(mtcars)"
      ],
      "metadata": {
        "colab": {
          "base_uri": "https://localhost:8080/",
          "height": 286
        },
        "id": "kntglcv4ASPt",
        "outputId": "dc7d898f-6dd6-413b-a4df-66e603c1d4a4"
      },
      "execution_count": 2,
      "outputs": [
        {
          "output_type": "display_data",
          "data": {
            "text/html": [
              "<table class=\"dataframe\">\n",
              "<caption>A data.frame: 6 × 11</caption>\n",
              "<thead>\n",
              "\t<tr><th></th><th scope=col>mpg</th><th scope=col>cyl</th><th scope=col>disp</th><th scope=col>hp</th><th scope=col>drat</th><th scope=col>wt</th><th scope=col>qsec</th><th scope=col>vs</th><th scope=col>am</th><th scope=col>gear</th><th scope=col>carb</th></tr>\n",
              "\t<tr><th></th><th scope=col>&lt;dbl&gt;</th><th scope=col>&lt;dbl&gt;</th><th scope=col>&lt;dbl&gt;</th><th scope=col>&lt;dbl&gt;</th><th scope=col>&lt;dbl&gt;</th><th scope=col>&lt;dbl&gt;</th><th scope=col>&lt;dbl&gt;</th><th scope=col>&lt;dbl&gt;</th><th scope=col>&lt;dbl&gt;</th><th scope=col>&lt;dbl&gt;</th><th scope=col>&lt;dbl&gt;</th></tr>\n",
              "</thead>\n",
              "<tbody>\n",
              "\t<tr><th scope=row>Mazda RX4</th><td>21.0</td><td>6</td><td>160</td><td>110</td><td>3.90</td><td>2.620</td><td>16.46</td><td>0</td><td>1</td><td>4</td><td>4</td></tr>\n",
              "\t<tr><th scope=row>Mazda RX4 Wag</th><td>21.0</td><td>6</td><td>160</td><td>110</td><td>3.90</td><td>2.875</td><td>17.02</td><td>0</td><td>1</td><td>4</td><td>4</td></tr>\n",
              "\t<tr><th scope=row>Datsun 710</th><td>22.8</td><td>4</td><td>108</td><td> 93</td><td>3.85</td><td>2.320</td><td>18.61</td><td>1</td><td>1</td><td>4</td><td>1</td></tr>\n",
              "\t<tr><th scope=row>Hornet 4 Drive</th><td>21.4</td><td>6</td><td>258</td><td>110</td><td>3.08</td><td>3.215</td><td>19.44</td><td>1</td><td>0</td><td>3</td><td>1</td></tr>\n",
              "\t<tr><th scope=row>Hornet Sportabout</th><td>18.7</td><td>8</td><td>360</td><td>175</td><td>3.15</td><td>3.440</td><td>17.02</td><td>0</td><td>0</td><td>3</td><td>2</td></tr>\n",
              "\t<tr><th scope=row>Valiant</th><td>18.1</td><td>6</td><td>225</td><td>105</td><td>2.76</td><td>3.460</td><td>20.22</td><td>1</td><td>0</td><td>3</td><td>1</td></tr>\n",
              "</tbody>\n",
              "</table>\n"
            ],
            "text/markdown": "\nA data.frame: 6 × 11\n\n| <!--/--> | mpg &lt;dbl&gt; | cyl &lt;dbl&gt; | disp &lt;dbl&gt; | hp &lt;dbl&gt; | drat &lt;dbl&gt; | wt &lt;dbl&gt; | qsec &lt;dbl&gt; | vs &lt;dbl&gt; | am &lt;dbl&gt; | gear &lt;dbl&gt; | carb &lt;dbl&gt; |\n|---|---|---|---|---|---|---|---|---|---|---|---|\n| Mazda RX4 | 21.0 | 6 | 160 | 110 | 3.90 | 2.620 | 16.46 | 0 | 1 | 4 | 4 |\n| Mazda RX4 Wag | 21.0 | 6 | 160 | 110 | 3.90 | 2.875 | 17.02 | 0 | 1 | 4 | 4 |\n| Datsun 710 | 22.8 | 4 | 108 |  93 | 3.85 | 2.320 | 18.61 | 1 | 1 | 4 | 1 |\n| Hornet 4 Drive | 21.4 | 6 | 258 | 110 | 3.08 | 3.215 | 19.44 | 1 | 0 | 3 | 1 |\n| Hornet Sportabout | 18.7 | 8 | 360 | 175 | 3.15 | 3.440 | 17.02 | 0 | 0 | 3 | 2 |\n| Valiant | 18.1 | 6 | 225 | 105 | 2.76 | 3.460 | 20.22 | 1 | 0 | 3 | 1 |\n\n",
            "text/latex": "A data.frame: 6 × 11\n\\begin{tabular}{r|lllllllllll}\n  & mpg & cyl & disp & hp & drat & wt & qsec & vs & am & gear & carb\\\\\n  & <dbl> & <dbl> & <dbl> & <dbl> & <dbl> & <dbl> & <dbl> & <dbl> & <dbl> & <dbl> & <dbl>\\\\\n\\hline\n\tMazda RX4 & 21.0 & 6 & 160 & 110 & 3.90 & 2.620 & 16.46 & 0 & 1 & 4 & 4\\\\\n\tMazda RX4 Wag & 21.0 & 6 & 160 & 110 & 3.90 & 2.875 & 17.02 & 0 & 1 & 4 & 4\\\\\n\tDatsun 710 & 22.8 & 4 & 108 &  93 & 3.85 & 2.320 & 18.61 & 1 & 1 & 4 & 1\\\\\n\tHornet 4 Drive & 21.4 & 6 & 258 & 110 & 3.08 & 3.215 & 19.44 & 1 & 0 & 3 & 1\\\\\n\tHornet Sportabout & 18.7 & 8 & 360 & 175 & 3.15 & 3.440 & 17.02 & 0 & 0 & 3 & 2\\\\\n\tValiant & 18.1 & 6 & 225 & 105 & 2.76 & 3.460 & 20.22 & 1 & 0 & 3 & 1\\\\\n\\end{tabular}\n",
            "text/plain": [
              "                  mpg  cyl disp hp  drat wt    qsec  vs am gear carb\n",
              "Mazda RX4         21.0 6   160  110 3.90 2.620 16.46 0  1  4    4   \n",
              "Mazda RX4 Wag     21.0 6   160  110 3.90 2.875 17.02 0  1  4    4   \n",
              "Datsun 710        22.8 4   108   93 3.85 2.320 18.61 1  1  4    1   \n",
              "Hornet 4 Drive    21.4 6   258  110 3.08 3.215 19.44 1  0  3    1   \n",
              "Hornet Sportabout 18.7 8   360  175 3.15 3.440 17.02 0  0  3    2   \n",
              "Valiant           18.1 6   225  105 2.76 3.460 20.22 1  0  3    1   "
            ]
          },
          "metadata": {}
        }
      ]
    },
    {
      "cell_type": "markdown",
      "metadata": {
        "id": "Q5fDdHPayDW1"
      },
      "source": [
        "<br>"
      ]
    },
    {
      "cell_type": "markdown",
      "metadata": {
        "id": "EP-dVNZdyDW1"
      },
      "source": [
        "<font color=red>Task 1.3</font> In `R`, we can plot the distribution of a quantitative variable using the `hist()` function.\n",
        "\n",
        "* Plot the histogram of the `mpg` variable in the `mtcars` data frame using the `hist()` function.\n",
        "* Hint: `hist(mtcars$mpg, breaks = 5)`\n",
        "* The `breaks` argument, to an extent, controls the number of bins"
      ]
    },
    {
      "cell_type": "code",
      "source": [
        "#1.3\n",
        "hist(mtcars$mpg, breaks = 5)"
      ],
      "metadata": {
        "colab": {
          "base_uri": "https://localhost:8080/",
          "height": 437
        },
        "id": "dL76SciGAaEN",
        "outputId": "c4cfb6d9-9e06-4bc1-910e-a09fab0e0801"
      },
      "execution_count": 3,
      "outputs": [
        {
          "output_type": "display_data",
          "data": {
            "text/plain": [
              "Plot with title “Histogram of mtcars$mpg”"
            ],
            "image/png": "[encoded data removed]"
          },
          "metadata": {
            "image/png": {
              "width": 420,
              "height": 420
            }
          }
        }
      ]
    },
    {
      "cell_type": "markdown",
      "metadata": {
        "id": "vb1uMf0szwha"
      },
      "source": [
        "<br>"
      ]
    },
    {
      "cell_type": "markdown",
      "metadata": {
        "id": "y5UNbJ6Rzwha"
      },
      "source": [
        "<font color=red>Task 1.4</font> In a text cell, interpret your histogram from Task 1.3 using the following prompts:\n",
        "* Is the distribution of `mpg` symmetric? Left-skewed? Right-skewed?\n",
        "* Is the distribution of `mpg` unimodal? multimodal?\n",
        "* How many cars in the data frame have an `mpg` between 20 and 25?\n",
        "* What percentage of cars in the data frame have an `mpg` of 20 or less?\n"
      ]
    },
    {
      "cell_type": "markdown",
      "source": [
        "**Task 1.4**<br>\n",
        "\n",
        "\n",
        "*   The distribution looks right-skewed as it peaks at (15,20)\n",
        "*   The distribution seems to be bimodal. The two modes are (15,20) and (30,35)\n",
        "*   Between (20,25) we have 8 cars.\n",
        "*   56% percent have an mpg of 20 or less\n",
        "\n"
      ],
      "metadata": {
        "id": "hb9QI2ZLAxqP"
      }
    },
    {
      "cell_type": "markdown",
      "metadata": {
        "id": "bo3oEait19ro"
      },
      "source": [
        "<br>"
      ]
    },
    {
      "cell_type": "markdown",
      "metadata": {
        "id": "yWJFNRmW19ro"
      },
      "source": [
        "<font color=red>Task 1.5</font> In a text cell, interpret your histogram from Task 1.3 using the following prompts:\n",
        "* Using a visual approximation, what is the approximate mean `mpg` of the cars in the data frame?\n",
        "* Using a visual approximation, what is the approximate median `mpg` of the cars in the data frame? Is it less or greater than the mean?\n",
        "* Using a visual approximation, what is the approximate mode of `mpg` of the cars in the data frame?\n",
        "* Using a visual approximation, what is the approximate range of `mpg` of the cars in the data frame?\n",
        "* Using a visual approximation, what is the approximate lower quartile of `mpg`? What is the approximate upper quartile of `mpg`?\n"
      ]
    },
    {
      "cell_type": "markdown",
      "source": [
        "**Task 1.5**\n",
        "\n",
        "\n",
        "*   mean: 20\n",
        "*   median: 18\n",
        "*   mode: 18\n",
        "*   range: 10-35\n",
        "*   lower quartile: 8 , upper quartile: 26\n",
        "\n"
      ],
      "metadata": {
        "id": "KxJcEQ5sC4hL"
      }
    },
    {
      "cell_type": "markdown",
      "metadata": {
        "id": "4TpLD0Jy8CLx"
      },
      "source": [
        "<br>\n",
        "\n",
        "<br>"
      ]
    },
    {
      "cell_type": "markdown",
      "metadata": {
        "id": "ayj2a3MX8A9B"
      },
      "source": [
        "<br>\n",
        "\n",
        "---"
      ]
    },
    {
      "cell_type": "markdown",
      "metadata": {
        "id": "oHahMLpO8A9D"
      },
      "source": [
        "####<font color=red>Task 2</font> - Relating Summary Statistics to Histograms\n",
        "\n"
      ]
    },
    {
      "cell_type": "markdown",
      "metadata": {
        "id": "ScjnfR6W8A9D"
      },
      "source": [
        "<font color=red>Task 2.1</font> Let's match our visual interpretations to the actual summary statistics.\n",
        "\n",
        "* Calculate the mean of `mpg` using the `mean()` function.\n",
        "* Calculate the median of `mpg` using the `median()` function.\n",
        "* Calculate the range of `mpg` using the `range()` function."
      ]
    },
    {
      "cell_type": "code",
      "source": [
        "#Task 2.1\n",
        "mean(mtcars$mpg)\n",
        "median(mtcars$mpg)\n",
        "range(mtcars$mpg)"
      ],
      "metadata": {
        "colab": {
          "base_uri": "https://localhost:8080/",
          "height": 69
        },
        "id": "OK6ICdZWEpGB",
        "outputId": "820054db-01d1-4bcd-a3fa-388f1c132f9e"
      },
      "execution_count": 4,
      "outputs": [
        {
          "output_type": "display_data",
          "data": {
            "text/html": [
              "20.090625"
            ],
            "text/markdown": "20.090625",
            "text/latex": "20.090625",
            "text/plain": [
              "[1] 20.09062"
            ]
          },
          "metadata": {}
        },
        {
          "output_type": "display_data",
          "data": {
            "text/html": [
              "19.2"
            ],
            "text/markdown": "19.2",
            "text/latex": "19.2",
            "text/plain": [
              "[1] 19.2"
            ]
          },
          "metadata": {}
        },
        {
          "output_type": "display_data",
          "data": {
            "text/html": [
              "<style>\n",
              ".list-inline {list-style: none; margin:0; padding: 0}\n",
              ".list-inline>li {display: inline-block}\n",
              ".list-inline>li:not(:last-child)::after {content: \"\\00b7\"; padding: 0 .5ex}\n",
              "</style>\n",
              "<ol class=list-inline><li>10.4</li><li>33.9</li></ol>\n"
            ],
            "text/markdown": "1. 10.4\n2. 33.9\n\n\n",
            "text/latex": "\\begin{enumerate*}\n\\item 10.4\n\\item 33.9\n\\end{enumerate*}\n",
            "text/plain": [
              "[1] 10.4 33.9"
            ]
          },
          "metadata": {}
        }
      ]
    },
    {
      "cell_type": "markdown",
      "metadata": {
        "id": "Ct73OIpW8A9F"
      },
      "source": [
        "<br>"
      ]
    },
    {
      "cell_type": "markdown",
      "metadata": {
        "id": "UYZp4jpoj6dx"
      },
      "source": [
        "<font color=red>Task 2.2</font> Were your visual approximations from Task 1.5 close to the actual summary statistics from Task 2.1?\n",
        "\n",
        "***Don't worry if your visual approximations were off! This is a skill developed with experience.***"
      ]
    },
    {
      "cell_type": "markdown",
      "source": [
        "**Task 2.2**<br>\n",
        "I was almos on point woth the Mean, i got 20 and R has 20.09. The range i had 10-35 which was very close to the actual number. but i was quite off with the median having said 18 , and R calculate 19.2"
      ],
      "metadata": {
        "id": "-ZXSPwymFAUF"
      }
    },
    {
      "cell_type": "markdown",
      "metadata": {
        "id": "47UcQycN7JSI"
      },
      "source": [
        "<font color=red>Task 2.3</font> The `quantile()` function computes several quantiles of a distribution.\n",
        "\n",
        "* Use the `quantile()` function to compute the lower (25%) and upper (75%) quartiles of the `mpg` variable.\n",
        "* Compare the lower and upper quartiles from the `quantile()` function to your visual approximation from Task 1.5 in a text cell."
      ]
    },
    {
      "cell_type": "code",
      "source": [
        "#2.3\n",
        "quantile(mtcars$mpg, 0.25)\n",
        "quantile(mtcars$mpg, 0.75)"
      ],
      "metadata": {
        "colab": {
          "base_uri": "https://localhost:8080/",
          "height": 52
        },
        "id": "IYY6xH4PFclV",
        "outputId": "814418b0-fb23-4ce8-ccf2-027687f24109"
      },
      "execution_count": 6,
      "outputs": [
        {
          "output_type": "display_data",
          "data": {
            "text/html": [
              "<strong>25%:</strong> 15.425"
            ],
            "text/markdown": "**25%:** 15.425",
            "text/latex": "\\textbf{25\\textbackslash{}\\%:} 15.425",
            "text/plain": [
              "   25% \n",
              "15.425 "
            ]
          },
          "metadata": {}
        },
        {
          "output_type": "display_data",
          "data": {
            "text/html": [
              "<strong>75%:</strong> 22.8"
            ],
            "text/markdown": "**75%:** 22.8",
            "text/latex": "\\textbf{75\\textbackslash{}\\%:} 22.8",
            "text/plain": [
              " 75% \n",
              "22.8 "
            ]
          },
          "metadata": {}
        }
      ]
    },
    {
      "cell_type": "markdown",
      "metadata": {
        "id": "Jd2Ex43tEvRp"
      },
      "source": [
        "<br>"
      ]
    },
    {
      "cell_type": "markdown",
      "metadata": {
        "id": "iQtg3iRDEvRq"
      },
      "source": [
        "<font color=red>Task 2.4</font> We will investigate variance and standard deviation more in the future. For now, let's simply apply the functions:\n",
        "\n",
        "* Use the `sd()` function to calculate the standard deviation of `mpg`\n",
        "* Use the `var()` function to calculate the variance of `mpg`\n",
        "* Use the `sqrt()` function to verify that the standard deviation is the square root of the variance\n"
      ]
    },
    {
      "cell_type": "code",
      "source": [
        "#2.4\n",
        "sd(mtcars$mpg)\n",
        "var(mtcars$mpg)\n",
        "sd(mtcars$mpg) == sqrt(var(mtcars$mpg))"
      ],
      "metadata": {
        "colab": {
          "base_uri": "https://localhost:8080/",
          "height": 69
        },
        "id": "WWAUCgGwFwP-",
        "outputId": "5f0e406b-bce0-4c38-c827-b3d2c0e41d5b"
      },
      "execution_count": 9,
      "outputs": [
        {
          "output_type": "display_data",
          "data": {
            "text/html": [
              "6.0269480520891"
            ],
            "text/markdown": "6.0269480520891",
            "text/latex": "6.0269480520891",
            "text/plain": [
              "[1] 6.026948"
            ]
          },
          "metadata": {}
        },
        {
          "output_type": "display_data",
          "data": {
            "text/html": [
              "36.3241028225806"
            ],
            "text/markdown": "36.3241028225806",
            "text/latex": "36.3241028225806",
            "text/plain": [
              "[1] 36.3241"
            ]
          },
          "metadata": {}
        },
        {
          "output_type": "display_data",
          "data": {
            "text/html": [
              "TRUE"
            ],
            "text/markdown": "TRUE",
            "text/latex": "TRUE",
            "text/plain": [
              "[1] TRUE"
            ]
          },
          "metadata": {}
        }
      ]
    },
    {
      "cell_type": "markdown",
      "metadata": {
        "id": "SuCcb6382-1e"
      },
      "source": [
        "<br>\n",
        "\n",
        "<br>"
      ]
    },
    {
      "cell_type": "markdown",
      "metadata": {
        "id": "A04SNoTF2-1f"
      },
      "source": [
        "<br>\n",
        "\n",
        "---"
      ]
    },
    {
      "cell_type": "markdown",
      "metadata": {
        "id": "QYvgZCaV2-1f"
      },
      "source": [
        "####<font color=red>Task 3</font> - Visualizing the Distributions of Categorical Variables (factors)\n",
        "\n"
      ]
    },
    {
      "cell_type": "markdown",
      "metadata": {
        "id": "RjaOLNQz2-1g"
      },
      "source": [
        "<font color=red>Task 3.1</font> Convert the `cyl` variable into a `factor` using `as.factor()`."
      ]
    },
    {
      "cell_type": "code",
      "source": [
        "#3.1\n",
        "mtcars$cyl <- as.factor(mtcars$cyl)\n",
        "\n",
        "str(mtcars)"
      ],
      "metadata": {
        "colab": {
          "base_uri": "https://localhost:8080/"
        },
        "id": "6V1S86BAGYDG",
        "outputId": "2003368c-22dd-4851-dac5-5da9fcfb6d3a"
      },
      "execution_count": 10,
      "outputs": [
        {
          "output_type": "stream",
          "name": "stdout",
          "text": [
            "'data.frame':\t32 obs. of  11 variables:\n",
            " $ mpg : num  21 21 22.8 21.4 18.7 18.1 14.3 24.4 22.8 19.2 ...\n",
            " $ cyl : Factor w/ 3 levels \"4\",\"6\",\"8\": 2 2 1 2 3 2 3 1 1 2 ...\n",
            " $ disp: num  160 160 108 258 360 ...\n",
            " $ hp  : num  110 110 93 110 175 105 245 62 95 123 ...\n",
            " $ drat: num  3.9 3.9 3.85 3.08 3.15 2.76 3.21 3.69 3.92 3.92 ...\n",
            " $ wt  : num  2.62 2.88 2.32 3.21 3.44 ...\n",
            " $ qsec: num  16.5 17 18.6 19.4 17 ...\n",
            " $ vs  : num  0 0 1 1 0 1 0 1 1 1 ...\n",
            " $ am  : num  1 1 1 0 0 0 0 0 0 0 ...\n",
            " $ gear: num  4 4 4 3 3 3 3 4 4 4 ...\n",
            " $ carb: num  4 4 1 1 2 1 4 2 2 4 ...\n"
          ]
        }
      ]
    },
    {
      "cell_type": "markdown",
      "metadata": {
        "id": "FOBijtqI2-1h"
      },
      "source": [
        "<br>"
      ]
    },
    {
      "cell_type": "markdown",
      "metadata": {
        "id": "8G0IZx_E_i8g"
      },
      "source": [
        "<font color=red>Task 3.2</font> Use the `table()` function to count the number of unique levels in the `cyl` variable. Store the output as another variable."
      ]
    },
    {
      "cell_type": "code",
      "source": [
        "#3.2\n",
        "table(mtcars$cyl)"
      ],
      "metadata": {
        "colab": {
          "base_uri": "https://localhost:8080/",
          "height": 70
        },
        "id": "aGq2fW3MGi9j",
        "outputId": "731b7dcb-cef1-4083-db79-9c6fc14c5b95"
      },
      "execution_count": 11,
      "outputs": [
        {
          "output_type": "display_data",
          "data": {
            "text/plain": [
              "\n",
              " 4  6  8 \n",
              "11  7 14 "
            ]
          },
          "metadata": {}
        }
      ]
    },
    {
      "cell_type": "markdown",
      "metadata": {
        "id": "Sba_ojCa_0PR"
      },
      "source": [
        "<br>"
      ]
    },
    {
      "cell_type": "markdown",
      "metadata": {
        "id": "NGvqhYNp_0PS"
      },
      "source": [
        "<font color=red>Task 3.3</font> Use the `barplot()` function to plot the frequency table from Task 3.2 (i.e. the input to the `barplot()` function is the frequency table from Task 3.2)."
      ]
    },
    {
      "cell_type": "code",
      "source": [
        "#3.3\n",
        "barplot(table(mtcars$cyl))"
      ],
      "metadata": {
        "colab": {
          "base_uri": "https://localhost:8080/",
          "height": 437
        },
        "id": "RiqfeqzqGxUx",
        "outputId": "07d1a56f-1208-4800-8ed2-05d0480ce1fd"
      },
      "execution_count": 12,
      "outputs": [
        {
          "output_type": "display_data",
          "data": {
            "text/plain": [
              "plot without title"
            ],
            "image/png": "[encoded data removed]"
          },
          "metadata": {
            "image/png": {
              "width": 420,
              "height": 420
            }
          }
        }
      ]
    },
    {
      "cell_type": "markdown",
      "metadata": {
        "id": "uDlNcublAHpa"
      },
      "source": [
        "<br>"
      ]
    },
    {
      "cell_type": "markdown",
      "metadata": {
        "id": "1fhQOCiDAHpb"
      },
      "source": [
        "<font color=red>Task 3.4</font> Write your observations from the frequency barplot in a text cell."
      ]
    },
    {
      "cell_type": "markdown",
      "metadata": {
        "id": "PkY8Ea3yC5--"
      },
      "source": [
        "Task 3.4 <br>\n",
        "From the bar plot we can see cylinder number in relation with how many cars have them from the mtcars database.\n",
        "\n",
        "*    11 cars have 4 cylinders\n",
        "*    7 cars have 6 cylinders\n",
        "*    14 cars have 8 cylinders\n",
        "\n"
      ]
    },
    {
      "cell_type": "markdown",
      "metadata": {
        "id": "q-Dkl20rC5_A"
      },
      "source": [
        "<font color=red>Task 3.5</font> Would you consider the `cyl` variable to be an ordinal or nominal categorical variable? Explain your answer in a text cell."
      ]
    },
    {
      "cell_type": "markdown",
      "source": [
        "**Task 3.5** <br>\n",
        "I would consider cyl to be an ordinal variable since it store the number of cyliders a car has and there is a limited amout of cyliders one can have. If a car has 8 cylinders it is more powerful then one with 6 cylinders and a 6 cylinder car has more power then a 4 cylinder car."
      ],
      "metadata": {
        "id": "Dw1qyYbiHNuX"
      }
    },
    {
      "cell_type": "markdown",
      "metadata": {
        "id": "JrznDRPyAibD"
      },
      "source": [
        "<br>\n",
        "\n",
        "<br>"
      ]
    }
  ],
  "metadata": {
    "colab": {
      "provenance": []
    },
    "kernelspec": {
      "display_name": "R",
      "name": "ir"
    }
  },
  "nbformat": 4,
  "nbformat_minor": 0
}