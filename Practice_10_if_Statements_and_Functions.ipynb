{
  "cells": [
    {
      "cell_type": "markdown",
      "metadata": {
        "id": "gtETsh5j8vHw"
      },
      "source": [
        "# **Practice 10: `if` Statements and Functions**\n",
        "\n",
        "#### **WRITE YOUR NAME HERE**"
      ]
    },
    {
      "cell_type": "markdown",
      "metadata": {
        "id": "Efu_Sse0Wp6P"
      },
      "source": [
        "---\n",
        "\n",
        "**IMPORTANT**:\n",
        "- Before starting the lab, save a copy to your google drive by navigating to `File > Save a copy in Drive` <br>\n",
        "\n",
        "<br>\n",
        "\n",
        "\n",
        "**Instructions**: Complete the lab below.\n",
        "\n",
        "- <font color=red>Tasks</font> indicated in red must be completed to receive credit\n",
        "- Include all code for your work\n",
        "- Include markdown cells with written answers explaining your work when prompted\n",
        "- **NOTE: Your completed lab must be submitted to Canvas as a .ipynb file by the end of the lab session**\n",
        "---"
      ]
    },
    {
      "cell_type": "markdown",
      "metadata": {
        "id": "wFVxj8nD-yIt"
      },
      "source": [
        "<br>"
      ]
    },
    {
      "cell_type": "markdown",
      "metadata": {
        "id": "omeTfTlN4Npb"
      },
      "source": [
        "####<font color=red>Organized</font>\n",
        "\n",
        "**Answers should be organized in the following format for organization and readability**\n"
      ]
    },
    {
      "cell_type": "markdown",
      "metadata": {
        "id": "uLialHuQ4-vU"
      },
      "source": [
        "<font color=red>Example task 1</font>"
      ]
    },
    {
      "cell_type": "code",
      "execution_count": null,
      "metadata": {
        "id": "Mxff4INi5Evt"
      },
      "outputs": [],
      "source": [
        "# 1.\n",
        "\n",
        "# This will be the code block to answer the first part of a task"
      ]
    },
    {
      "cell_type": "markdown",
      "metadata": {
        "id": "A-GtymRS5Syz"
      },
      "source": [
        "1. This will be the text answer/explanation (if prompted) for the first task"
      ]
    },
    {
      "cell_type": "markdown",
      "metadata": {
        "id": "fDAMP6ZC5Zqp"
      },
      "source": [
        "<font color=red>Example task 2</font>"
      ]
    },
    {
      "cell_type": "code",
      "execution_count": null,
      "metadata": {
        "id": "K94QMtU55Zqp"
      },
      "outputs": [],
      "source": [
        "# 2.\n",
        "\n",
        "# This will be the code block to answer the second part of a task"
      ]
    },
    {
      "cell_type": "markdown",
      "metadata": {
        "id": "xRfvDNu25Zqp"
      },
      "source": [
        "2. This will be the text answer/explanation (if prompted) for the second task"
      ]
    },
    {
      "cell_type": "markdown",
      "metadata": {
        "id": "JIEIhg5I5JfN"
      },
      "source": [
        "<br>\n",
        "\n",
        "Continue this format for the remaining subtasks\n"
      ]
    },
    {
      "cell_type": "markdown",
      "metadata": {
        "id": "rcQECH5y4RiC"
      },
      "source": [
        "<br>"
      ]
    },
    {
      "cell_type": "markdown",
      "source": [
        "---\n",
        "\n",
        "<br>"
      ],
      "metadata": {
        "id": "jFiNcIjpjFs7"
      }
    },
    {
      "cell_type": "markdown",
      "source": [
        "#### Packages"
      ],
      "metadata": {
        "id": "QdyJzDgAsFNZ"
      }
    },
    {
      "cell_type": "code",
      "source": [
        "# install packages for today's lecture\n",
        "install.packages(\"dslabs\")"
      ],
      "metadata": {
        "id": "O-drIaQ-4cWQ"
      },
      "execution_count": null,
      "outputs": []
    },
    {
      "cell_type": "code",
      "source": [
        "# load the necessary packages\n",
        "library(dslabs)"
      ],
      "metadata": {
        "id": "fYGjK4oX4jSn"
      },
      "execution_count": null,
      "outputs": []
    },
    {
      "cell_type": "markdown",
      "source": [
        "<br>\n",
        "\n",
        "<br>"
      ],
      "metadata": {
        "id": "5hXqBQkzhere"
      }
    },
    {
      "cell_type": "markdown",
      "metadata": {
        "id": "Q4n93wPOXOPB"
      },
      "source": [
        "<br>\n",
        "\n",
        "---"
      ]
    },
    {
      "cell_type": "markdown",
      "metadata": {
        "id": "oHahMLpO8A9D"
      },
      "source": [
        "####<font color=red>Task 1</font>\n"
      ]
    },
    {
      "cell_type": "markdown",
      "metadata": {
        "id": "ScjnfR6W8A9D"
      },
      "source": [
        "<font color=red>Task 1.1</font>\n",
        "\n",
        "The quadratic formula can be written as follows:\n",
        "\n",
        "\\begin{align*}\n",
        "x = \\frac{-b \\pm \\sqrt{b^2 - 4ac}} {2a}\n",
        "\\end{align*}\n",
        "\n",
        "* Assign a value of `1` to the variable `a`, assign a value of `0` to the variable `b`, and assign a value of `-1` to the variable `c`\n",
        "\n",
        "* Write a script that solves the quadratic formula using the variables `a`, `b`, and `c`\n",
        "\n",
        "Hint: There are two solutions"
      ]
    },
    {
      "cell_type": "code",
      "source": [
        "# 1.1\n",
        "#x1 <- 1\n",
        "#x2 <- -1\n",
        "\n",
        "#list(x_plus = x1, x_minus = x2)\n",
        "\n",
        "a <- 1\n",
        "b <- 0\n",
        "c <--1\n",
        "# quadratic formula\n",
        "x1 <- (-b-sqrt(b^2 -4*a*c))/(2*a)\n",
        "x2 <- (-b+ sqrt(b^2 -4*a*c))/(2*a)\n",
        "\n",
        "res <- c(x1, x2)\n",
        "\n",
        "res"
      ],
      "metadata": {
        "colab": {
          "base_uri": "https://localhost:8080/",
          "height": 34
        },
        "id": "ihr-UNKha4l9",
        "outputId": "78142daa-1f0d-425d-89d7-de9cd4311c45"
      },
      "execution_count": 10,
      "outputs": [
        {
          "output_type": "display_data",
          "data": {
            "text/html": [
              "<style>\n",
              ".list-inline {list-style: none; margin:0; padding: 0}\n",
              ".list-inline>li {display: inline-block}\n",
              ".list-inline>li:not(:last-child)::after {content: \"\\00b7\"; padding: 0 .5ex}\n",
              "</style>\n",
              "<ol class=list-inline><li>-1</li><li>1</li></ol>\n"
            ],
            "text/markdown": "1. -1\n2. 1\n\n\n",
            "text/latex": "\\begin{enumerate*}\n\\item -1\n\\item 1\n\\end{enumerate*}\n",
            "text/plain": [
              "[1] -1  1"
            ]
          },
          "metadata": {}
        }
      ]
    },
    {
      "cell_type": "markdown",
      "source": [
        "<br>"
      ],
      "metadata": {
        "id": "NWeL-7kYNXtF"
      }
    },
    {
      "cell_type": "markdown",
      "metadata": {
        "id": "qCsFe6BYRH9p"
      },
      "source": [
        "<font color=red>Task 1.2</font>\n",
        "\n",
        "* Create a function called `quadratic_formula` that has the following attributes\n",
        "  * Three input arguments called `a`, `b`, `c`\n",
        "  * The function body should solve the quadratic formula using code from Task 1.1\n",
        "  * Return the two solutions as an unstructured list. Provide meaningful names to each list item.\n",
        "\n",
        "* Use your function to solve the quadratic formula using the values of `a`, `b`, and `c` from Task 1.1 to check your work"
      ]
    },
    {
      "cell_type": "code",
      "source": [
        "#1.2\n",
        "quadratic_formula <- function(a,b,c){\n",
        "\n",
        "  return(list(x1 = (-b-sqrt(b^2 -4*a*c))/(2*a), x2 =  (-b+ sqrt(b^2 -4*a*c))/(2*a)))\n",
        "}\n",
        "\n",
        "quadratic_formula (1,0,-1)"
      ],
      "metadata": {
        "id": "yfVZkN0pyaUP",
        "outputId": "19885190-87df-41da-f0b5-da86c9b3f688",
        "colab": {
          "base_uri": "https://localhost:8080/",
          "height": 114
        }
      },
      "execution_count": 17,
      "outputs": [
        {
          "output_type": "display_data",
          "data": {
            "text/html": [
              "<dl>\n",
              "\t<dt>$x1</dt>\n",
              "\t\t<dd>-1</dd>\n",
              "\t<dt>$x2</dt>\n",
              "\t\t<dd>1</dd>\n",
              "</dl>\n"
            ],
            "text/markdown": "$x1\n:   -1\n$x2\n:   1\n\n\n",
            "text/latex": "\\begin{description}\n\\item[\\$x1] -1\n\\item[\\$x2] 1\n\\end{description}\n",
            "text/plain": [
              "$x1\n",
              "[1] -1\n",
              "\n",
              "$x2\n",
              "[1] 1\n"
            ]
          },
          "metadata": {}
        }
      ]
    },
    {
      "cell_type": "markdown",
      "source": [
        "<br>"
      ],
      "metadata": {
        "id": "fgtUuF6k_e1Q"
      }
    },
    {
      "cell_type": "markdown",
      "metadata": {
        "id": "uC31GEgh_e1S"
      },
      "source": [
        "<font color=red>Task 1.3</font>\n",
        "\n",
        "* Try running your function on the following values\n",
        "`a = 1, b = 0, c = 1`.\n",
        "\n",
        "* You should observe `NaN` values. In a text cell, write why you observe these `NaN` values"
      ]
    },
    {
      "cell_type": "code",
      "source": [
        "#1.3\n",
        "quadratic_formula (1,  0, 1)"
      ],
      "metadata": {
        "id": "lsA7U4ye2Y_q",
        "outputId": "1a57ab51-a75b-410b-e970-4770bee9c99b",
        "colab": {
          "base_uri": "https://localhost:8080/",
          "height": 185
        }
      },
      "execution_count": 18,
      "outputs": [
        {
          "output_type": "stream",
          "name": "stderr",
          "text": [
            "Warning message in sqrt(b^2 - 4 * a * c):\n",
            "“NaNs produced”\n",
            "Warning message in sqrt(b^2 - 4 * a * c):\n",
            "“NaNs produced”\n"
          ]
        },
        {
          "output_type": "display_data",
          "data": {
            "text/html": [
              "<dl>\n",
              "\t<dt>$x1</dt>\n",
              "\t\t<dd>NaN</dd>\n",
              "\t<dt>$x2</dt>\n",
              "\t\t<dd>NaN</dd>\n",
              "</dl>\n"
            ],
            "text/markdown": "$x1\n:   NaN\n$x2\n:   NaN\n\n\n",
            "text/latex": "\\begin{description}\n\\item[\\$x1] NaN\n\\item[\\$x2] NaN\n\\end{description}\n",
            "text/plain": [
              "$x1\n",
              "[1] NaN\n",
              "\n",
              "$x2\n",
              "[1] NaN\n"
            ]
          },
          "metadata": {}
        }
      ]
    },
    {
      "cell_type": "markdown",
      "source": [
        "<br>"
      ],
      "metadata": {
        "id": "Vp-GkrYxA136"
      }
    },
    {
      "cell_type": "markdown",
      "metadata": {
        "id": "tRldWriIA137"
      },
      "source": [
        "<font color=red>Task 1.4</font>\n",
        "\n",
        "* Let's fix the problem encountered in Task 1.3. Use `if` statements to return three potential types of function outputs:\n",
        "    * If b^2 - 4ac is zero, only return the one solution/number\n",
        "\n",
        "    * If b^2 - 4ac is less than zero, return a single `NA` value\n",
        "\n",
        "    * If b^2 - 4ac is greater than zero, return the two real zeros as an unstructured list as before\n",
        "\n",
        "\n",
        "* Run the following commands to confirm your answers\n",
        "```\n",
        "quadratic_formula(1, 0, 0)\n",
        "```\n",
        "```\n",
        "quadratic_formula(1, 0, 1)\n",
        "```\n",
        "```\n",
        "quadratic_formula(1, 0, -1)\n",
        "```"
      ]
    },
    {
      "cell_type": "code",
      "source": [
        "#1.4\n",
        "quadratic_formula <- function(a,b,c){\n",
        "  delta <- b^2 -4*a*c\n",
        "\n",
        "  if(delta==0){\n",
        "    return(list(-b/(2*a)))\n",
        "  }else if(delta<0){\n",
        "    return(NA)\n",
        "  }else{\n",
        "    return(list(x1 = (-b-sqrt(delta))/(2*a), x2 =  (-b+ sqrt(delta))/(2*a)))\n",
        "  }\n",
        "\n",
        "}\n",
        "\n",
        "quadratic_formula(1, 0, 0)\n",
        "quadratic_formula(1, 0, 1)\n",
        "quadratic_formula(1, 0, -1)"
      ],
      "metadata": {
        "id": "eGCIZ9qe3DCs",
        "outputId": "a9a619d0-5956-4bb1-8151-8337f9281f6a",
        "colab": {
          "base_uri": "https://localhost:8080/",
          "height": 177
        }
      },
      "execution_count": 24,
      "outputs": [
        {
          "output_type": "display_data",
          "data": {
            "text/html": [
              "<ol>\n",
              "\t<li>0</li>\n",
              "</ol>\n"
            ],
            "text/markdown": "1. 0\n\n\n",
            "text/latex": "\\begin{enumerate}\n\\item 0\n\\end{enumerate}\n",
            "text/plain": [
              "[[1]]\n",
              "[1] 0\n"
            ]
          },
          "metadata": {}
        },
        {
          "output_type": "display_data",
          "data": {
            "text/html": [
              "&lt;NA&gt;"
            ],
            "text/markdown": "&lt;NA&gt;",
            "text/latex": "<NA>",
            "text/plain": [
              "[1] NA"
            ]
          },
          "metadata": {}
        },
        {
          "output_type": "display_data",
          "data": {
            "text/html": [
              "<dl>\n",
              "\t<dt>$x1</dt>\n",
              "\t\t<dd>-1</dd>\n",
              "\t<dt>$x2</dt>\n",
              "\t\t<dd>1</dd>\n",
              "</dl>\n"
            ],
            "text/markdown": "$x1\n:   -1\n$x2\n:   1\n\n\n",
            "text/latex": "\\begin{description}\n\\item[\\$x1] -1\n\\item[\\$x2] 1\n\\end{description}\n",
            "text/plain": [
              "$x1\n",
              "[1] -1\n",
              "\n",
              "$x2\n",
              "[1] 1\n"
            ]
          },
          "metadata": {}
        }
      ]
    },
    {
      "cell_type": "markdown",
      "source": [
        "<br>"
      ],
      "metadata": {
        "id": "dea_--5VDY0Z"
      }
    },
    {
      "cell_type": "markdown",
      "metadata": {
        "id": "LLIKAMSVDY0Z"
      },
      "source": [
        "<font color=red>Task 1.5</font>\n",
        "\n",
        "* Include a fourth `verbose` argument in your function with the default value of `TRUE`\n",
        "\n",
        "* Include an if statement with the following attributes:\n",
        "\n",
        "  * If the discriminant is less than zero and if the `verbose` argument is `TRUE`, then also print\n",
        "  \n",
        "    `Warning: There are no real zeroes!!! Returning NA...`\n",
        "\n",
        "* Rerun the script `quadratic_formula(1, 0, 1)` to ensure the warning is printed."
      ]
    },
    {
      "cell_type": "code",
      "source": [
        "#1.5\n",
        "quadratic_formula <- function(a,b,c, verbose= TRUE){\n",
        "  delta <- b^2 -4*a*c\n",
        "\n",
        "  if(delta==0 ){\n",
        "    return(list(-b/(2*a)))\n",
        "\n",
        "  }else if(delta<0 & verbose == TRUE){\n",
        "    if(verbose){\n",
        "      print( \"Warning: There are no real zeroes!!! Returning NA...\")\n",
        "    }\n",
        "    return(NA)\n",
        "\n",
        "  }else{\n",
        "    return(list(x1 = (-b-sqrt(delta))/(2*a), x2 =  (-b+ sqrt(delta))/(2*a)))\n",
        "  }\n",
        "}\n",
        "\n",
        "quadratic_formula(1, 0, 0)\n",
        "quadratic_formula(1, 0, 1)\n",
        "quadratic_formula(1, 0, -1)\n"
      ],
      "metadata": {
        "id": "9YWiwdT48YlU",
        "outputId": "153a8f66-41e8-44b2-843a-776b5db5b918",
        "colab": {
          "base_uri": "https://localhost:8080/",
          "height": 195
        }
      },
      "execution_count": 28,
      "outputs": [
        {
          "output_type": "display_data",
          "data": {
            "text/html": [
              "<ol>\n",
              "\t<li>0</li>\n",
              "</ol>\n"
            ],
            "text/markdown": "1. 0\n\n\n",
            "text/latex": "\\begin{enumerate}\n\\item 0\n\\end{enumerate}\n",
            "text/plain": [
              "[[1]]\n",
              "[1] 0\n"
            ]
          },
          "metadata": {}
        },
        {
          "output_type": "stream",
          "name": "stdout",
          "text": [
            "[1] \"Warning: There are no real zeroes!!! Returning NA...\"\n"
          ]
        },
        {
          "output_type": "display_data",
          "data": {
            "text/html": [
              "&lt;NA&gt;"
            ],
            "text/markdown": "&lt;NA&gt;",
            "text/latex": "<NA>",
            "text/plain": [
              "[1] NA"
            ]
          },
          "metadata": {}
        },
        {
          "output_type": "display_data",
          "data": {
            "text/html": [
              "<dl>\n",
              "\t<dt>$x1</dt>\n",
              "\t\t<dd>-1</dd>\n",
              "\t<dt>$x2</dt>\n",
              "\t\t<dd>1</dd>\n",
              "</dl>\n"
            ],
            "text/markdown": "$x1\n:   -1\n$x2\n:   1\n\n\n",
            "text/latex": "\\begin{description}\n\\item[\\$x1] -1\n\\item[\\$x2] 1\n\\end{description}\n",
            "text/plain": [
              "$x1\n",
              "[1] -1\n",
              "\n",
              "$x2\n",
              "[1] 1\n"
            ]
          },
          "metadata": {}
        }
      ]
    },
    {
      "cell_type": "markdown",
      "source": [
        "<br>\n",
        "\n",
        "<br>"
      ],
      "metadata": {
        "id": "HrJ5i3XuX8HJ"
      }
    },
    {
      "cell_type": "markdown",
      "metadata": {
        "id": "2ckIp9dqMRs2"
      },
      "source": [
        "<br>\n",
        "\n",
        "---"
      ]
    },
    {
      "cell_type": "markdown",
      "metadata": {
        "id": "Jf63UfnlMRs4"
      },
      "source": [
        "####<font color=red>Extra Practice (Optional)</font>\n"
      ]
    },
    {
      "cell_type": "markdown",
      "metadata": {
        "id": "SXTflZVXXOPB"
      },
      "source": [
        "<font color=red>Task E.1</font> Run the following script to load the salary dataset.\n",
        "\n",
        "```\n",
        "# load data frame\n",
        "data_url                       <- \"https://raw.githubusercontent.com/khasenst/datasets_teaching/refs/heads/main/salary_data.csv\"\n",
        "salary                         <- na.omit(read.csv(data_url, header = TRUE))\n",
        "\n",
        "# convert character variables to factors\n",
        "salary$Gender                  <- as.factor(salary$Gender)\n",
        "salary$Education.Level         <- as.factor(salary$Education.Level)\n",
        "salary$Job.Title               <- as.factor(salary$Job.Title)\n",
        "\n",
        "# reassign levels\n",
        "levels(salary$Education.Level) <-  c(\"missing\", \"BS\", \"BS\", \"HS\",\n",
        "                                     \"MS\", \"MS\", \"PhD\", \"PhD\")\n",
        "salary$Education.Level         <- factor(salary$Education.Level, levels = c(\"missing\", \"HS\", \"BS\", \"MS\", \"PhD\"))\n",
        "```\n"
      ]
    },
    {
      "cell_type": "code",
      "source": [
        "#E.1\n",
        "# load data frame\n",
        "data_url                       <- \"https://raw.githubusercontent.com/khasenst/datasets_teaching/refs/heads/main/salary_data.csv\"\n",
        "salary                         <- na.omit(read.csv(data_url, header = TRUE))\n",
        "\n",
        "# convert character variables to factors\n",
        "salary$Gender                  <- as.factor(salary$Gender)\n",
        "salary$Education.Level         <- as.factor(salary$Education.Level)\n",
        "salary$Job.Title               <- as.factor(salary$Job.Title)\n",
        "\n",
        "# reassign levels\n",
        "levels(salary$Education.Level) <-  c(\"missing\", \"BS\", \"BS\", \"HS\",\n",
        "                                     \"MS\", \"MS\", \"PhD\", \"PhD\")\n",
        "salary$Education.Level         <- factor(salary$Education.Level, levels = c(\"missing\", \"HS\", \"BS\", \"MS\", \"PhD\"))"
      ],
      "metadata": {
        "id": "EwgZ75Lj9jz2"
      },
      "execution_count": 29,
      "outputs": []
    },
    {
      "cell_type": "markdown",
      "source": [
        "<br>"
      ],
      "metadata": {
        "id": "CIvad_KaMowF"
      }
    },
    {
      "cell_type": "markdown",
      "metadata": {
        "id": "1rM6zPo2MRs5"
      },
      "source": [
        "<font color=red>Task E.2</font>\n",
        "\n",
        "* Calculate the overall `median()` salary of `\"Data Scientists\"` from the `salary` data frame\n",
        "\n",
        "* Among `\"Data Scientists\"`, calculate the `median()` salary of individuals that have a `\"HS\"`, `\"BS\"`, `\"MS\"`, or `\"PhD\"` (separately for each education level)"
      ]
    },
    {
      "cell_type": "code",
      "source": [
        "#E.2\n",
        "ds <- salary[salary$Job.Title ==\"Data Scientist\",]\n",
        "\n",
        "median(ds$Salary)\n",
        "\n",
        "median_salary_ds_vs_Education_Level <-function(education_level){\n",
        "  if(education_level == \"HS\"){\n",
        "    return(median(ds$Salary[ds$Education.Level == \"HS\"]))\n",
        "\n",
        "  }else if(education_level == \"BS\"){\n",
        "    return(median(ds$Salary[ds$Education.Level == \"BS\"]))\n",
        "\n",
        "  }else if(education_level == \"MS\"){\n",
        "    return(median(ds$Salary[ds$Education.Level == \"MS\"]))\n",
        "\n",
        "  }else if(education_level == \"PhD\"){\n",
        "    return(median(ds$Salary[ds$Education.Level == \"PhD\"]))\n",
        "\n",
        "  }else{\n",
        "    return(NA)\n",
        "  }\n",
        "}\n",
        "\n",
        "median_salary_ds_vs_Education_Level(\"HS\")\n",
        "median_salary_ds_vs_Education_Level(\"BS\")\n",
        "median_salary_ds_vs_Education_Level(\"MS\")\n",
        "median_salary_ds_vs_Education_Level(\"PhD\")"
      ],
      "metadata": {
        "id": "nsMl5n_49mnH",
        "outputId": "4011bfbd-b864-4981-d590-ae422b6890e7",
        "colab": {
          "base_uri": "https://localhost:8080/",
          "height": 104
        }
      },
      "execution_count": 57,
      "outputs": [
        {
          "output_type": "display_data",
          "data": {
            "text/html": [
              "168000"
            ],
            "text/markdown": "168000",
            "text/latex": "168000",
            "text/plain": [
              "[1] 168000"
            ]
          },
          "metadata": {}
        },
        {
          "output_type": "display_data",
          "data": {
            "text/html": [
              "&lt;NA&gt;"
            ],
            "text/markdown": "&lt;NA&gt;",
            "text/latex": "<NA>",
            "text/plain": [
              "[1] NA"
            ]
          },
          "metadata": {}
        },
        {
          "output_type": "display_data",
          "data": {
            "text/html": [
              "185000"
            ],
            "text/markdown": "185000",
            "text/latex": "185000",
            "text/plain": [
              "[1] 185000"
            ]
          },
          "metadata": {}
        },
        {
          "output_type": "display_data",
          "data": {
            "text/html": [
              "175000"
            ],
            "text/markdown": "175000",
            "text/latex": "175000",
            "text/plain": [
              "[1] 175000"
            ]
          },
          "metadata": {}
        },
        {
          "output_type": "display_data",
          "data": {
            "text/html": [
              "168000"
            ],
            "text/markdown": "168000",
            "text/latex": "168000",
            "text/plain": [
              "[1] 168000"
            ]
          },
          "metadata": {}
        }
      ]
    },
    {
      "cell_type": "markdown",
      "source": [
        "<br>"
      ],
      "metadata": {
        "id": "T__rhxP0NqsS"
      }
    },
    {
      "cell_type": "markdown",
      "metadata": {
        "id": "z3aya3CdNqsT"
      },
      "source": [
        "<font color=red>Task E.3</font> Calculating the median salaries in Task E.2 can be quite cumbersome if repeated many times! Let's create a function.\n",
        "\n",
        "Create a function called `salary_by_education` with the following attributes:\n",
        "\n",
        "* Inputs: The function should take two inputs.\n",
        "  1. `data`: represents a data frame of salaries\n",
        "  2. `job_title` represents a job title as a character string\n",
        "\n",
        "* Outputs: The function should output an unstructured list with 5 items.\n",
        "  1. Overall median salary of a given `job_title`\n",
        "  2. Median salary of individuals with a `HS` and the given `job_title`\n",
        "  3. Median salary of individuals with a `BS` and the given `job_title`\n",
        "  4. Median salary of individuals with a `MS` and the given `job_title`\n",
        "  5. Median salary of individuals with a `PhD and the given `job_title`\n",
        "\n",
        "  \n",
        "* Run the following script and compare to your answers from Task E.2\n",
        "\n",
        "  `salary_by_education(salary, \"Data Scientist\")`"
      ]
    },
    {
      "cell_type": "code",
      "source": [
        "#E.3\n",
        "salary_by_education <- function(data, job_title){\n",
        "\n",
        "  job_data <-data[data$Job.Title == job_title,]\n",
        "\n",
        "  return( list(\n",
        "    median_salary  = median(job_data$Salary),\n",
        "    hs_median_salary = median(job_data$Salary[job_data$Education.Level == \"HS\"]),\n",
        "    bs_median_salary = median(job_data$Salary[job_data$Education.Level == \"BS\"]),\n",
        "    ms_median_salary = median(job_data$Salary[job_data$Education.Level == \"MS\"]),\n",
        "    phd_median_salary = median(job_data$Salary[job_data$Education.Level == \"PhD\"])\n",
        "  ))\n",
        "\n",
        "}\n",
        "salary_by_education(salary, \"Data Scientist\")"
      ],
      "metadata": {
        "id": "YewUcbqPDOD-",
        "outputId": "20e5c5d6-e3a4-428c-d207-115fe2e46bfc",
        "colab": {
          "base_uri": "https://localhost:8080/",
          "height": 219
        }
      },
      "execution_count": 64,
      "outputs": [
        {
          "output_type": "display_data",
          "data": {
            "text/html": [
              "<dl>\n",
              "\t<dt>$median_salary</dt>\n",
              "\t\t<dd>168000</dd>\n",
              "\t<dt>$hs_median_salary</dt>\n",
              "\t\t<dd>&lt;NA&gt;</dd>\n",
              "\t<dt>$bs_median_salary</dt>\n",
              "\t\t<dd>185000</dd>\n",
              "\t<dt>$ms_median_salary</dt>\n",
              "\t\t<dd>175000</dd>\n",
              "\t<dt>$phd_median_salary</dt>\n",
              "\t\t<dd>168000</dd>\n",
              "</dl>\n"
            ],
            "text/markdown": "$median_salary\n:   168000\n$hs_median_salary\n:   &lt;NA&gt;\n$bs_median_salary\n:   185000\n$ms_median_salary\n:   175000\n$phd_median_salary\n:   168000\n\n\n",
            "text/latex": "\\begin{description}\n\\item[\\$median\\_salary] 168000\n\\item[\\$hs\\_median\\_salary] <NA>\n\\item[\\$bs\\_median\\_salary] 185000\n\\item[\\$ms\\_median\\_salary] 175000\n\\item[\\$phd\\_median\\_salary] 168000\n\\end{description}\n",
            "text/plain": [
              "$median_salary\n",
              "[1] 168000\n",
              "\n",
              "$hs_median_salary\n",
              "[1] NA\n",
              "\n",
              "$bs_median_salary\n",
              "[1] 185000\n",
              "\n",
              "$ms_median_salary\n",
              "[1] 175000\n",
              "\n",
              "$phd_median_salary\n",
              "[1] 168000\n"
            ]
          },
          "metadata": {}
        }
      ]
    },
    {
      "cell_type": "markdown",
      "source": [
        "<br>"
      ],
      "metadata": {
        "id": "gJWCIRZJPMUU"
      }
    },
    {
      "cell_type": "markdown",
      "metadata": {
        "id": "5ryuZmVsPMUU"
      },
      "source": [
        "<font color=red>Task E.4</font> Run the following scripts, which illustrates the efficiency of functions!\n",
        "\n",
        "`salary_by_education(salary, \"Data Scientist\")`\n",
        "\n",
        "`salary_by_education(salary, \"Data Analyst\")`\n",
        "\n",
        "`salary_by_education(salary, \"Marketing Analyst\")`\n",
        "\n",
        "`salary_by_education(salary, \"Junior Sales Associate\")`\n",
        "\n",
        "\n",
        "\n",
        "\n",
        "\n"
      ]
    },
    {
      "cell_type": "code",
      "source": [
        "# E.4\n",
        "\n",
        "salary_by_education(salary, \"Data Scientist\")\n",
        "\n",
        "salary_by_education(salary, \"Data Analyst\")\n",
        "\n",
        "salary_by_education(salary, \"Marketing Analyst\")\n",
        "\n",
        "salary_by_education(salary, \"Junior Sales Associate\")"
      ],
      "metadata": {
        "id": "d9z14IBzGJsC",
        "outputId": "b462090b-84c6-4578-9d55-f4b893026f18",
        "colab": {
          "base_uri": "https://localhost:8080/",
          "height": 782
        }
      },
      "execution_count": 65,
      "outputs": [
        {
          "output_type": "display_data",
          "data": {
            "text/html": [
              "<dl>\n",
              "\t<dt>$median_salary</dt>\n",
              "\t\t<dd>168000</dd>\n",
              "\t<dt>$hs_median_salary</dt>\n",
              "\t\t<dd>&lt;NA&gt;</dd>\n",
              "\t<dt>$bs_median_salary</dt>\n",
              "\t\t<dd>185000</dd>\n",
              "\t<dt>$ms_median_salary</dt>\n",
              "\t\t<dd>175000</dd>\n",
              "\t<dt>$phd_median_salary</dt>\n",
              "\t\t<dd>168000</dd>\n",
              "</dl>\n"
            ],
            "text/markdown": "$median_salary\n:   168000\n$hs_median_salary\n:   &lt;NA&gt;\n$bs_median_salary\n:   185000\n$ms_median_salary\n:   175000\n$phd_median_salary\n:   168000\n\n\n",
            "text/latex": "\\begin{description}\n\\item[\\$median\\_salary] 168000\n\\item[\\$hs\\_median\\_salary] <NA>\n\\item[\\$bs\\_median\\_salary] 185000\n\\item[\\$ms\\_median\\_salary] 175000\n\\item[\\$phd\\_median\\_salary] 168000\n\\end{description}\n",
            "text/plain": [
              "$median_salary\n",
              "[1] 168000\n",
              "\n",
              "$hs_median_salary\n",
              "[1] NA\n",
              "\n",
              "$bs_median_salary\n",
              "[1] 185000\n",
              "\n",
              "$ms_median_salary\n",
              "[1] 175000\n",
              "\n",
              "$phd_median_salary\n",
              "[1] 168000\n"
            ]
          },
          "metadata": {}
        },
        {
          "output_type": "display_data",
          "data": {
            "text/html": [
              "<dl>\n",
              "\t<dt>$median_salary</dt>\n",
              "\t\t<dd>120000</dd>\n",
              "\t<dt>$hs_median_salary</dt>\n",
              "\t\t<dd>&lt;NA&gt;</dd>\n",
              "\t<dt>$bs_median_salary</dt>\n",
              "\t\t<dd>125000</dd>\n",
              "\t<dt>$ms_median_salary</dt>\n",
              "\t\t<dd>1e+05</dd>\n",
              "\t<dt>$phd_median_salary</dt>\n",
              "\t\t<dd>&lt;NA&gt;</dd>\n",
              "</dl>\n"
            ],
            "text/markdown": "$median_salary\n:   120000\n$hs_median_salary\n:   &lt;NA&gt;\n$bs_median_salary\n:   125000\n$ms_median_salary\n:   1e+05\n$phd_median_salary\n:   &lt;NA&gt;\n\n\n",
            "text/latex": "\\begin{description}\n\\item[\\$median\\_salary] 120000\n\\item[\\$hs\\_median\\_salary] <NA>\n\\item[\\$bs\\_median\\_salary] 125000\n\\item[\\$ms\\_median\\_salary] 1e+05\n\\item[\\$phd\\_median\\_salary] <NA>\n\\end{description}\n",
            "text/plain": [
              "$median_salary\n",
              "[1] 120000\n",
              "\n",
              "$hs_median_salary\n",
              "[1] NA\n",
              "\n",
              "$bs_median_salary\n",
              "[1] 125000\n",
              "\n",
              "$ms_median_salary\n",
              "[1] 1e+05\n",
              "\n",
              "$phd_median_salary\n",
              "[1] NA\n"
            ]
          },
          "metadata": {}
        },
        {
          "output_type": "display_data",
          "data": {
            "text/html": [
              "<dl>\n",
              "\t<dt>$median_salary</dt>\n",
              "\t\t<dd>65000</dd>\n",
              "\t<dt>$hs_median_salary</dt>\n",
              "\t\t<dd>&lt;NA&gt;</dd>\n",
              "\t<dt>$bs_median_salary</dt>\n",
              "\t\t<dd>65000</dd>\n",
              "\t<dt>$ms_median_salary</dt>\n",
              "\t\t<dd>&lt;NA&gt;</dd>\n",
              "\t<dt>$phd_median_salary</dt>\n",
              "\t\t<dd>&lt;NA&gt;</dd>\n",
              "</dl>\n"
            ],
            "text/markdown": "$median_salary\n:   65000\n$hs_median_salary\n:   &lt;NA&gt;\n$bs_median_salary\n:   65000\n$ms_median_salary\n:   &lt;NA&gt;\n$phd_median_salary\n:   &lt;NA&gt;\n\n\n",
            "text/latex": "\\begin{description}\n\\item[\\$median\\_salary] 65000\n\\item[\\$hs\\_median\\_salary] <NA>\n\\item[\\$bs\\_median\\_salary] 65000\n\\item[\\$ms\\_median\\_salary] <NA>\n\\item[\\$phd\\_median\\_salary] <NA>\n\\end{description}\n",
            "text/plain": [
              "$median_salary\n",
              "[1] 65000\n",
              "\n",
              "$hs_median_salary\n",
              "[1] NA\n",
              "\n",
              "$bs_median_salary\n",
              "[1] 65000\n",
              "\n",
              "$ms_median_salary\n",
              "[1] NA\n",
              "\n",
              "$phd_median_salary\n",
              "[1] NA\n"
            ]
          },
          "metadata": {}
        },
        {
          "output_type": "display_data",
          "data": {
            "text/html": [
              "<dl>\n",
              "\t<dt>$median_salary</dt>\n",
              "\t\t<dd>26000</dd>\n",
              "\t<dt>$hs_median_salary</dt>\n",
              "\t\t<dd>26000</dd>\n",
              "\t<dt>$bs_median_salary</dt>\n",
              "\t\t<dd>&lt;NA&gt;</dd>\n",
              "\t<dt>$ms_median_salary</dt>\n",
              "\t\t<dd>&lt;NA&gt;</dd>\n",
              "\t<dt>$phd_median_salary</dt>\n",
              "\t\t<dd>&lt;NA&gt;</dd>\n",
              "</dl>\n"
            ],
            "text/markdown": "$median_salary\n:   26000\n$hs_median_salary\n:   26000\n$bs_median_salary\n:   &lt;NA&gt;\n$ms_median_salary\n:   &lt;NA&gt;\n$phd_median_salary\n:   &lt;NA&gt;\n\n\n",
            "text/latex": "\\begin{description}\n\\item[\\$median\\_salary] 26000\n\\item[\\$hs\\_median\\_salary] 26000\n\\item[\\$bs\\_median\\_salary] <NA>\n\\item[\\$ms\\_median\\_salary] <NA>\n\\item[\\$phd\\_median\\_salary] <NA>\n\\end{description}\n",
            "text/plain": [
              "$median_salary\n",
              "[1] 26000\n",
              "\n",
              "$hs_median_salary\n",
              "[1] 26000\n",
              "\n",
              "$bs_median_salary\n",
              "[1] NA\n",
              "\n",
              "$ms_median_salary\n",
              "[1] NA\n",
              "\n",
              "$phd_median_salary\n",
              "[1] NA\n"
            ]
          },
          "metadata": {}
        }
      ]
    }
  ],
  "metadata": {
    "colab": {
      "provenance": []
    },
    "kernelspec": {
      "display_name": "R",
      "name": "ir"
    }
  },
  "nbformat": 4,
  "nbformat_minor": 0
}