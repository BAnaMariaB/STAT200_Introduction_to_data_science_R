{
  "nbformat": 4,
  "nbformat_minor": 0,
  "metadata": {
    "colab": {
      "provenance": [],
      "collapsed_sections": [
        "QdyJzDgAsFNZ",
        "mg6Q3Oi6hbdo",
        "NuJ_NwNSgha4",
        "cjdZOIXSh7_m",
        "37i8yEKTiUWZ"
      ]
    },
    "kernelspec": {
      "name": "ir",
      "display_name": "R"
    }
  },
  "cells": [
    {
      "cell_type": "markdown",
      "metadata": {
        "id": "gtETsh5j8vHw"
      },
      "source": [
        "# **Visualizing Relationships**\n",
        "\n",
        "---\n",
        "\n",
        "<br>"
      ]
    },
    {
      "cell_type": "markdown",
      "source": [
        "## Packages"
      ],
      "metadata": {
        "id": "QdyJzDgAsFNZ"
      }
    },
    {
      "cell_type": "code",
      "source": [
        "# install packages for today's lecture\n",
        "#install.packages(\"dslabs\")\n",
        "install.packages(\"pheatmap\")  # package for heatmap"
      ],
      "metadata": {
        "id": "O-drIaQ-4cWQ"
      },
      "execution_count": null,
      "outputs": []
    },
    {
      "cell_type": "code",
      "source": [
        "# load the necessary packages\n",
        "# library(dslabs)\n",
        "library(pheatmap)"
      ],
      "metadata": {
        "id": "fYGjK4oX4jSn"
      },
      "execution_count": null,
      "outputs": []
    },
    {
      "cell_type": "markdown",
      "source": [
        "<br>\n",
        "\n",
        "<br>"
      ],
      "metadata": {
        "id": "5hXqBQkzhere"
      }
    },
    {
      "cell_type": "markdown",
      "source": [
        "---\n",
        "\n",
        "<br>"
      ],
      "metadata": {
        "id": "jFiNcIjpjFs7"
      }
    },
    {
      "cell_type": "markdown",
      "metadata": {
        "id": "mg6Q3Oi6hbdo"
      },
      "source": [
        "## Preprocessing Variables\n",
        "\n",
        "* First, let's preprocess the variables we need for the analysis"
      ]
    },
    {
      "cell_type": "code",
      "source": [
        "# convert transmission type to a factor\n",
        "mtcars$am <- as.factor(mtcars$am)\n",
        "# relabel levels\n",
        "levels(mtcars$am) <- c(\"automatic\", \"manual\")"
      ],
      "metadata": {
        "id": "JhugmiGJhaOz"
      },
      "execution_count": null,
      "outputs": []
    },
    {
      "cell_type": "markdown",
      "source": [
        "<br>"
      ],
      "metadata": {
        "id": "r_846TXcjLxM"
      }
    },
    {
      "cell_type": "code",
      "source": [
        "# convert number of cylinders to a factor\n",
        "mtcars$cyl <- as.factor(mtcars$cyl)\n",
        "# relabel levels\n",
        "levels(mtcars$cyl) <- c(\"4 cylinders\", \"6 cylinders\", \"8 cylinders\")"
      ],
      "metadata": {
        "id": "neJOrjgYjLMu"
      },
      "execution_count": null,
      "outputs": []
    },
    {
      "cell_type": "markdown",
      "source": [
        "<br>\n",
        "\n",
        "<br>\n",
        "\n"
      ],
      "metadata": {
        "id": "oQSTNN1_4o_b"
      }
    },
    {
      "cell_type": "markdown",
      "source": [
        "---\n",
        "\n",
        "<br>"
      ],
      "metadata": {
        "id": "CZ_RuLy_jEvz"
      }
    },
    {
      "cell_type": "markdown",
      "metadata": {
        "id": "NuJ_NwNSgha4"
      },
      "source": [
        "## Boxplots"
      ]
    },
    {
      "cell_type": "markdown",
      "source": [
        "* In `R`, boxplots are plotted using the `boxplot()` function\n",
        "\n",
        "* The syntax for `boxplot()` is the following:\n",
        "\n",
        "  ``` boxplot(y ~ x) ```\n",
        "\n",
        "  where `y` is our quantitative variable and `x` is our categorical variable (or `factor`)"
      ],
      "metadata": {
        "id": "7hHzY5Yrgha6"
      }
    },
    {
      "cell_type": "markdown",
      "source": [
        "<br>"
      ],
      "metadata": {
        "id": "uXNcF-HLjOgm"
      }
    },
    {
      "cell_type": "code",
      "source": [
        "# controls width and height of plot\n",
        "options(repr.plot.width=8, repr.plot.height=8)"
      ],
      "metadata": {
        "id": "z9zcuSH2hO1G"
      },
      "execution_count": null,
      "outputs": []
    },
    {
      "cell_type": "code",
      "source": [
        "# Create a boxplot of mpg vs number of cylinders\n",
        "boxplot(mtcars$mpg ~ mtcars$cyl,\n",
        "        xlab = \"Number of Cylinders\",\n",
        "        ylab = \"mpg\",\n",
        "        main = \"mpg vs Number of Cylinders\")"
      ],
      "metadata": {
        "id": "cbAPMBMIgha8"
      },
      "execution_count": null,
      "outputs": []
    },
    {
      "cell_type": "markdown",
      "source": [
        "<br>\n",
        "\n",
        "<br>"
      ],
      "metadata": {
        "id": "KBUuWLB3gha8"
      }
    },
    {
      "cell_type": "markdown",
      "source": [
        "---\n",
        "\n",
        "<br>"
      ],
      "metadata": {
        "id": "y0ruj0hEjEUm"
      }
    },
    {
      "cell_type": "markdown",
      "metadata": {
        "id": "cjdZOIXSh7_m"
      },
      "source": [
        "## Scatterplots"
      ]
    },
    {
      "cell_type": "markdown",
      "source": [
        "* In `R`, scatterplots are plotted using the `plot()` function\n",
        "\n",
        "* The syntax for `plot()` is the following:\n",
        "\n",
        "  ``` plot(x, y) ```\n",
        "\n",
        "  where `x` is our independent quantitative variable and `y` is our dependent quantitative variable"
      ],
      "metadata": {
        "id": "-5MHGqIjh7_o"
      }
    },
    {
      "cell_type": "markdown",
      "source": [
        "<br>"
      ],
      "metadata": {
        "id": "r-Dvwrf5jQf5"
      }
    },
    {
      "cell_type": "code",
      "source": [
        "# create a scatterplot of mpg (y-axis) vs hp (x-axis)\n",
        "plot(mtcars$hp, mtcars$mpg,\n",
        "     xlab = \"Horsepower\",\n",
        "     ylab = \"mpg\",\n",
        "     main = \"mpg vs Horsepower\")"
      ],
      "metadata": {
        "id": "2frJCyjAWqGW"
      },
      "execution_count": null,
      "outputs": []
    },
    {
      "cell_type": "markdown",
      "source": [
        "<br>\n",
        "\n",
        "<br>"
      ],
      "metadata": {
        "id": "dtel85nWiUWY"
      }
    },
    {
      "cell_type": "markdown",
      "source": [
        "---\n",
        "\n",
        "<br>"
      ],
      "metadata": {
        "id": "Af08kl4pjDLk"
      }
    },
    {
      "cell_type": "markdown",
      "metadata": {
        "id": "37i8yEKTiUWZ"
      },
      "source": [
        "## Heatmap"
      ]
    },
    {
      "cell_type": "markdown",
      "source": [
        "* In `R`, there are several options for heatmaps\n",
        "\n",
        "* Here, we will use the `pheatmap()` function from the `pheatmap` package\n",
        "\n",
        "* The `pheatmap()` function takes as input a table of frequency counts"
      ],
      "metadata": {
        "id": "DWHlpaQKiUWa"
      }
    },
    {
      "cell_type": "markdown",
      "source": [
        "<br>"
      ],
      "metadata": {
        "id": "KT-6x8yojSBO"
      }
    },
    {
      "cell_type": "code",
      "source": [
        "options(repr.plot.width=6, repr.plot.height=4)\n",
        "\n",
        "# Create the frequency table\n",
        "table_data <- table(mtcars$am, mtcars$cyl)\n",
        "table_data"
      ],
      "metadata": {
        "id": "EFxHqMyPauIv"
      },
      "execution_count": null,
      "outputs": []
    },
    {
      "cell_type": "markdown",
      "source": [
        "<br>"
      ],
      "metadata": {
        "id": "KyvrS7GtjTND"
      }
    },
    {
      "cell_type": "code",
      "source": [
        "# Generate heatmap using pheatmap\n",
        "pheatmap(table_data,\n",
        "         col = colorRampPalette(c(\"white\", \"red\"))(256)  # specifies color range for heatmap\n",
        "         )"
      ],
      "metadata": {
        "id": "s2vOkxt_iwg-"
      },
      "execution_count": null,
      "outputs": []
    },
    {
      "cell_type": "markdown",
      "source": [
        "<br>\n",
        "\n",
        "<br>"
      ],
      "metadata": {
        "id": "2sycSGVCjgsX"
      }
    }
  ]
}