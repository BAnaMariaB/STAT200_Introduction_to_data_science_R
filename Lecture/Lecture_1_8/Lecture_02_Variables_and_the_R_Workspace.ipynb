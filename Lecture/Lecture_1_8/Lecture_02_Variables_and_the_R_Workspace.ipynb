{
  "nbformat": 4,
  "nbformat_minor": 0,
  "metadata": {
    "colab": {
      "provenance": []
    },
    "kernelspec": {
      "name": "ir",
      "display_name": "R"
    }
  },
  "cells": [
    {
      "cell_type": "markdown",
      "metadata": {
        "id": "gtETsh5j8vHw"
      },
      "source": [
        "# **Variables and the R Workspace**\n",
        "\n",
        "---\n",
        "\n",
        "<br>"
      ]
    },
    {
      "cell_type": "markdown",
      "metadata": {
        "id": "zZzxYxtp9b9t"
      },
      "source": [
        "## Variables/Objects"
      ]
    },
    {
      "cell_type": "markdown",
      "source": [
        "* Similar to mathematics, we can use `R` to store numerical values as variables\n",
        "\n",
        "\n",
        "* In the context of coding, we use variables to store values for later use\n",
        "\n",
        "* In `R`, values can be assigned to variables using two different assignment operators\n",
        "  * `<-`\n",
        "  * `=`\n",
        "\n",
        "* It is recommended to use `<-` to assign variables to avoid future confusion (the `=` operator is used for other purposes)"
      ],
      "metadata": {
        "id": "tyQodhUig5Bd"
      }
    },
    {
      "cell_type": "code",
      "metadata": {
        "id": "Z60PpIfIeF4Z"
      },
      "source": [
        "# Assignment using the <- operator\n",
        "x <- 5\n",
        "x"
      ],
      "execution_count": null,
      "outputs": []
    },
    {
      "cell_type": "code",
      "source": [
        "# Assignment using the = operator\n",
        "y = 2\n",
        "y"
      ],
      "metadata": {
        "id": "lSr_jbGptI4q",
        "colab": {
          "base_uri": "https://localhost:8080/",
          "height": 34
        },
        "outputId": "ef015159-dfa5-4509-8f64-f3541015876f"
      },
      "execution_count": null,
      "outputs": [
        {
          "output_type": "display_data",
          "data": {
            "text/html": [
              "2"
            ],
            "text/markdown": "2",
            "text/latex": "2",
            "text/plain": [
              "[1] 2"
            ]
          },
          "metadata": {}
        }
      ]
    },
    {
      "cell_type": "markdown",
      "source": [
        "<br>\n",
        "\n",
        "<br>"
      ],
      "metadata": {
        "id": "ZzGuDSAxgsb2"
      }
    },
    {
      "cell_type": "markdown",
      "source": [
        "* We can also write mathematical expressions with the stored variables\n",
        "\n",
        "* Note that a variable is a type of \"object\"\n",
        "\n",
        "* The word \"object\" is used to describe anything that holds information, such as functions, datasets, etc.\n"
      ],
      "metadata": {
        "id": "wyiVzM4gt2b_"
      }
    },
    {
      "cell_type": "code",
      "source": [
        "x + y"
      ],
      "metadata": {
        "id": "VxvLIQGrueDx",
        "colab": {
          "base_uri": "https://localhost:8080/",
          "height": 34
        },
        "outputId": "b675b23c-8759-470b-e7b8-2c3247c0ba0d"
      },
      "execution_count": null,
      "outputs": [
        {
          "output_type": "display_data",
          "data": {
            "text/html": [
              "7"
            ],
            "text/markdown": "7",
            "text/latex": "7",
            "text/plain": [
              "[1] 7"
            ]
          },
          "metadata": {}
        }
      ]
    },
    {
      "cell_type": "code",
      "source": [
        "z <- x + y"
      ],
      "metadata": {
        "id": "vutce5vmujIE"
      },
      "execution_count": null,
      "outputs": []
    },
    {
      "cell_type": "code",
      "source": [
        "z"
      ],
      "metadata": {
        "colab": {
          "base_uri": "https://localhost:8080/",
          "height": 34
        },
        "id": "WgxuLIfWNg05",
        "outputId": "478d9e45-f753-4531-82a0-145a15d46d9d"
      },
      "execution_count": null,
      "outputs": [
        {
          "output_type": "display_data",
          "data": {
            "text/html": [
              "7"
            ],
            "text/markdown": "7",
            "text/latex": "7",
            "text/plain": [
              "[1] 7"
            ]
          },
          "metadata": {}
        }
      ]
    },
    {
      "cell_type": "markdown",
      "source": [
        "<br>\n",
        "\n",
        "<br>"
      ],
      "metadata": {
        "id": "5ioPnF9Rt3Qr"
      }
    },
    {
      "cell_type": "markdown",
      "source": [
        "\n",
        "### Variable naming conventions"
      ],
      "metadata": {
        "id": "wR1jAVnJgZxE"
      }
    },
    {
      "cell_type": "markdown",
      "source": [
        "* There are many accepted conventions for defining variable names in `R`\n",
        "\n",
        "<br>\n",
        "\n",
        "* In R, variable names <font color='green'>**can**</font>\n",
        "  * start with and contain letters (a-z, A-Z)\n",
        "  * contain numbers, but cannot start with a number\n",
        "  * contain periods `.` and underscores `_`\n",
        "\n",
        "<br>\n",
        "\n",
        "* In R, variable names <font color='red'>**cannot**</font>\n",
        "  * start with a number\n",
        "  * contain special characters such as `@, #, $` etc.\n",
        "  * contain spaces\n",
        "\n",
        "<br>\n",
        "\n",
        "* General variable naming recommendations\n",
        "  * start with a letter\n",
        "  * separate words in a variable name with a period (`.`) or underscore (`_`)\n",
        "\n",
        "<br>\n",
        "\n",
        "* Note: `R` is case sensitive!\n",
        "\n",
        "<br>\n"
      ],
      "metadata": {
        "id": "NlqO7m-su_ZR"
      }
    },
    {
      "cell_type": "code",
      "source": [
        "my.number <- 5\n",
        "my.number"
      ],
      "metadata": {
        "id": "-Sg-mmkzgiU8",
        "colab": {
          "base_uri": "https://localhost:8080/",
          "height": 34
        },
        "outputId": "6f0016cf-c0e8-4305-f80a-32a80e6f7461"
      },
      "execution_count": null,
      "outputs": [
        {
          "output_type": "display_data",
          "data": {
            "text/html": [
              "5"
            ],
            "text/markdown": "5",
            "text/latex": "5",
            "text/plain": [
              "[1] 5"
            ]
          },
          "metadata": {}
        }
      ]
    },
    {
      "cell_type": "code",
      "source": [
        "i_am_defining_1_variable <- 3.2\n",
        "i_am_defining_1_variable"
      ],
      "metadata": {
        "id": "CsmkzYlwxaZi",
        "colab": {
          "base_uri": "https://localhost:8080/",
          "height": 34
        },
        "outputId": "51505f28-ef04-4084-d9dc-ecb1a7e28602"
      },
      "execution_count": null,
      "outputs": [
        {
          "output_type": "display_data",
          "data": {
            "text/html": [
              "3.2"
            ],
            "text/markdown": "3.2",
            "text/latex": "3.2",
            "text/plain": [
              "[1] 3.2"
            ]
          },
          "metadata": {}
        }
      ]
    },
    {
      "cell_type": "markdown",
      "source": [
        "<br>\n",
        "\n",
        "<br>"
      ],
      "metadata": {
        "id": "xpHW-0Byg1J0"
      }
    },
    {
      "cell_type": "markdown",
      "source": [
        "\n",
        "### Traceback errors"
      ],
      "metadata": {
        "id": "bBu0pQdMtibo"
      }
    },
    {
      "cell_type": "markdown",
      "source": [
        "* In `R`, it is inevitable that you will encounter errors called \"Traceback\" errors\n",
        "\n",
        "* These are informative (and sometimes not informative) errors that let you know there is a \"bug\" or error in your code"
      ],
      "metadata": {
        "id": "Bwy7V_r-yBqV"
      }
    },
    {
      "cell_type": "code",
      "source": [
        "5number <- 3.14"
      ],
      "metadata": {
        "id": "UUD-Z5WCtibq",
        "colab": {
          "base_uri": "https://localhost:8080/",
          "height": 106
        },
        "outputId": "c733606f-49db-4c9a-cb57-6cd7e1a7aeac"
      },
      "execution_count": null,
      "outputs": [
        {
          "output_type": "error",
          "ename": "ERROR",
          "evalue": "Error in parse(text = input): <text>:1:2: unexpected symbol\n1: 5number\n     ^\n",
          "traceback": [
            "Error in parse(text = input): <text>:1:2: unexpected symbol\n1: 5number\n     ^\nTraceback:\n"
          ]
        }
      ]
    },
    {
      "cell_type": "code",
      "source": [
        "my$variable <- 2"
      ],
      "metadata": {
        "id": "QFiEiO9vyvYP",
        "colab": {
          "base_uri": "https://localhost:8080/",
          "height": 72
        },
        "outputId": "9bbcf5b1-b907-4b89-cf56-b674673f8aa3"
      },
      "execution_count": null,
      "outputs": [
        {
          "output_type": "error",
          "ename": "ERROR",
          "evalue": "Error: object 'my' not found\n",
          "traceback": [
            "Error: object 'my' not found\nTraceback:\n"
          ]
        }
      ]
    },
    {
      "cell_type": "code",
      "source": [
        "# R is case sensitive\n",
        "A <- 7\n",
        "a <- 5\n",
        "A"
      ],
      "metadata": {
        "id": "usM4A27ry4C4",
        "colab": {
          "base_uri": "https://localhost:8080/",
          "height": 34
        },
        "outputId": "55fad7ea-93b1-448d-b188-029c0716ffbf"
      },
      "execution_count": null,
      "outputs": [
        {
          "output_type": "display_data",
          "data": {
            "text/html": [
              "7"
            ],
            "text/markdown": "7",
            "text/latex": "7",
            "text/plain": [
              "[1] 7"
            ]
          },
          "metadata": {}
        }
      ]
    },
    {
      "cell_type": "code",
      "source": [
        "# lowercase `a` does not have an error\n",
        "a"
      ],
      "metadata": {
        "id": "HkrW-v4Ny9R-",
        "colab": {
          "base_uri": "https://localhost:8080/",
          "height": 34
        },
        "outputId": "41010999-4f0b-4055-db00-55b2c30b3d01"
      },
      "execution_count": null,
      "outputs": [
        {
          "output_type": "display_data",
          "data": {
            "text/html": [
              "5"
            ],
            "text/markdown": "5",
            "text/latex": "5",
            "text/plain": [
              "[1] 5"
            ]
          },
          "metadata": {}
        }
      ]
    },
    {
      "cell_type": "markdown",
      "source": [
        "<br>\n",
        "\n",
        "<br>"
      ],
      "metadata": {
        "id": "FhwUEZLLhQd5"
      }
    },
    {
      "cell_type": "markdown",
      "source": [
        "---\n",
        "\n",
        "<br>"
      ],
      "metadata": {
        "id": "ZmsKqnb3irdl"
      }
    },
    {
      "cell_type": "markdown",
      "metadata": {
        "id": "imKkowSDgClo"
      },
      "source": [
        "## Built-in Variables and Functions\n"
      ]
    },
    {
      "cell_type": "markdown",
      "source": [
        "* The base installation of `R` contains many prebuilt variables"
      ],
      "metadata": {
        "id": "C7PMyBsnzsDo"
      }
    },
    {
      "cell_type": "code",
      "source": [
        "# pi\n",
        "pi"
      ],
      "metadata": {
        "id": "bVVgcNu6ht6c",
        "colab": {
          "base_uri": "https://localhost:8080/",
          "height": 34
        },
        "outputId": "999de995-d908-4c5f-a32a-c1c0ab6ae3de"
      },
      "execution_count": null,
      "outputs": [
        {
          "output_type": "display_data",
          "data": {
            "text/html": [
              "3.14159265358979"
            ],
            "text/markdown": "3.14159265358979",
            "text/latex": "3.14159265358979",
            "text/plain": [
              "[1] 3.141593"
            ]
          },
          "metadata": {}
        }
      ]
    },
    {
      "cell_type": "code",
      "source": [
        "# infinity and negative infinity\n",
        "Inf\n",
        "-Inf"
      ],
      "metadata": {
        "id": "bImcO8SX0hzt",
        "colab": {
          "base_uri": "https://localhost:8080/",
          "height": 52
        },
        "outputId": "3c0d8acc-7ff6-4228-bb44-8b36109aab3a"
      },
      "execution_count": null,
      "outputs": [
        {
          "output_type": "display_data",
          "data": {
            "text/html": [
              "Inf"
            ],
            "text/markdown": "Inf",
            "text/latex": "Inf",
            "text/plain": [
              "[1] Inf"
            ]
          },
          "metadata": {}
        },
        {
          "output_type": "display_data",
          "data": {
            "text/html": [
              "-Inf"
            ],
            "text/markdown": "-Inf",
            "text/latex": "-Inf",
            "text/plain": [
              "[1] -Inf"
            ]
          },
          "metadata": {}
        }
      ]
    },
    {
      "cell_type": "code",
      "source": [
        "# infinity from mathematical operation\n",
        "1/0"
      ],
      "metadata": {
        "id": "rdjnfa-U2Nxs",
        "colab": {
          "base_uri": "https://localhost:8080/",
          "height": 34
        },
        "outputId": "2fea3386-c4e3-4ac2-a3e9-f59629bb2056"
      },
      "execution_count": null,
      "outputs": [
        {
          "output_type": "display_data",
          "data": {
            "text/html": [
              "Inf"
            ],
            "text/markdown": "Inf",
            "text/latex": "Inf",
            "text/plain": [
              "[1] Inf"
            ]
          },
          "metadata": {}
        }
      ]
    },
    {
      "cell_type": "code",
      "source": [
        "# not a number\n",
        "NaN"
      ],
      "metadata": {
        "id": "GV9KTR7P2A_c",
        "colab": {
          "base_uri": "https://localhost:8080/",
          "height": 34
        },
        "outputId": "7b45b874-bfbb-4b1e-ac09-cf620d6d8f6f"
      },
      "execution_count": null,
      "outputs": [
        {
          "output_type": "display_data",
          "data": {
            "text/html": [
              "NaN"
            ],
            "text/markdown": "NaN",
            "text/latex": "NaN",
            "text/plain": [
              "[1] NaN"
            ]
          },
          "metadata": {}
        }
      ]
    },
    {
      "cell_type": "code",
      "source": [
        "# not a number from mathematical operation\n",
        "0/0"
      ],
      "metadata": {
        "id": "0e70hVLn2oMu",
        "colab": {
          "base_uri": "https://localhost:8080/",
          "height": 34
        },
        "outputId": "7c1bc16b-17bf-4fd1-b37c-d94f5d218061"
      },
      "execution_count": null,
      "outputs": [
        {
          "output_type": "display_data",
          "data": {
            "text/html": [
              "NaN"
            ],
            "text/markdown": "NaN",
            "text/latex": "NaN",
            "text/plain": [
              "[1] NaN"
            ]
          },
          "metadata": {}
        }
      ]
    },
    {
      "cell_type": "code",
      "source": [
        "# missing value\n",
        "NA"
      ],
      "metadata": {
        "id": "YEFvf_9S0jqA"
      },
      "execution_count": null,
      "outputs": []
    },
    {
      "cell_type": "code",
      "source": [
        "# empty, undefined object\n",
        "NULL"
      ],
      "metadata": {
        "id": "KSWZDQiJ2IEE"
      },
      "execution_count": null,
      "outputs": []
    },
    {
      "cell_type": "markdown",
      "source": [
        "<br>\n",
        "\n",
        "<br>"
      ],
      "metadata": {
        "id": "iwKo-GJ70lfT"
      }
    },
    {
      "cell_type": "markdown",
      "source": [
        "* The base installation of `R` contains many prebuilt functions\n",
        "\n",
        "* Many of these functions will be introduced with examples throughout the semester\n",
        "\n",
        "<br>\n",
        "Remember:\n",
        "\n",
        "\\begin{align}\n",
        "e^{1} &= e \\\\\n",
        "\\text{log}_{e}(e) &= \\text{ln}(e) = 1\n",
        "\\end{align}"
      ],
      "metadata": {
        "id": "hi2RXOCH2axe"
      }
    },
    {
      "cell_type": "code",
      "source": [
        "# log is the natural logarithm\n",
        "log(1)"
      ],
      "metadata": {
        "id": "TfPHlVOSzz5w",
        "colab": {
          "base_uri": "https://localhost:8080/",
          "height": 34
        },
        "outputId": "f6275783-2155-4d7f-ce03-a9fac8f50a93"
      },
      "execution_count": null,
      "outputs": [
        {
          "output_type": "display_data",
          "data": {
            "text/html": [
              "0"
            ],
            "text/markdown": "0",
            "text/latex": "0",
            "text/plain": [
              "[1] 0"
            ]
          },
          "metadata": {}
        }
      ]
    },
    {
      "cell_type": "code",
      "source": [
        "# euler's number (e)\n",
        "e = exp(1)\n",
        "e"
      ],
      "metadata": {
        "id": "TNVvvgjU0EpG",
        "colab": {
          "base_uri": "https://localhost:8080/",
          "height": 34
        },
        "outputId": "75e17a6f-2732-43c2-e406-84dc24b0a6e8"
      },
      "execution_count": null,
      "outputs": [
        {
          "output_type": "display_data",
          "data": {
            "text/html": [
              "2.71828182845905"
            ],
            "text/markdown": "2.71828182845905",
            "text/latex": "2.71828182845905",
            "text/plain": [
              "[1] 2.718282"
            ]
          },
          "metadata": {}
        }
      ]
    },
    {
      "cell_type": "code",
      "source": [
        "# natural log of euler's number\n",
        "log(e)"
      ],
      "metadata": {
        "id": "IUNUordx0HzF",
        "colab": {
          "base_uri": "https://localhost:8080/",
          "height": 34
        },
        "outputId": "a3a6ac18-ea5e-4587-e148-3b2828e412e5"
      },
      "execution_count": null,
      "outputs": [
        {
          "output_type": "display_data",
          "data": {
            "text/html": [
              "1"
            ],
            "text/markdown": "1",
            "text/latex": "1",
            "text/plain": [
              "[1] 1"
            ]
          },
          "metadata": {}
        }
      ]
    },
    {
      "cell_type": "markdown",
      "source": [
        "<br>\n",
        "\n",
        "<br>"
      ],
      "metadata": {
        "id": "-YQ1y5RahtXb"
      }
    },
    {
      "cell_type": "markdown",
      "source": [
        "### Arguments of a pre-built function"
      ],
      "metadata": {
        "id": "BdouCgANhtXb"
      }
    },
    {
      "cell_type": "markdown",
      "source": [
        "* You can determine the arguments (i.e. inputs) of a function using the `args()` function"
      ],
      "metadata": {
        "id": "d6aVxBoF3ush"
      }
    },
    {
      "cell_type": "code",
      "source": [
        "args(log)"
      ],
      "metadata": {
        "id": "1mTCkTMahtXc",
        "colab": {
          "base_uri": "https://localhost:8080/",
          "height": 52
        },
        "outputId": "c5fd5ce6-b7a4-4024-a9de-73f9221b7cbe"
      },
      "execution_count": null,
      "outputs": [
        {
          "output_type": "display_data",
          "data": {
            "text/html": [
              "<pre class=language-r><code>function (x, base = exp(1)) \n",
              "NULL</code></pre>"
            ],
            "text/markdown": "```r\nfunction (x, base = exp(1)) \nNULL\n```",
            "text/latex": "\\begin{minted}{r}\nfunction (x, base = exp(1)) \nNULL\n\\end{minted}",
            "text/plain": [
              "function (x, base = exp(1)) \n",
              "NULL"
            ]
          },
          "metadata": {}
        }
      ]
    },
    {
      "cell_type": "markdown",
      "source": [
        "* The output above shows that `log()` has two arguments\n",
        "  1. `x` or the input number to be logged\n",
        "  2. the base of the logarithm which is by default Euler's number (*e*)"
      ],
      "metadata": {
        "id": "ENeq7LmN34zV"
      }
    },
    {
      "cell_type": "code",
      "source": [
        "# changing the default to base 10\n",
        "log(exp(1), base = 10)"
      ],
      "metadata": {
        "id": "6VFkY_j64eQm",
        "colab": {
          "base_uri": "https://localhost:8080/",
          "height": 34
        },
        "outputId": "5b582e70-0f94-4c09-ec3f-9d91bada0d69"
      },
      "execution_count": null,
      "outputs": [
        {
          "output_type": "display_data",
          "data": {
            "text/html": [
              "0.434294481903252"
            ],
            "text/markdown": "0.434294481903252",
            "text/latex": "0.434294481903252",
            "text/plain": [
              "[1] 0.4342945"
            ]
          },
          "metadata": {}
        }
      ]
    },
    {
      "cell_type": "code",
      "source": [
        "# changing the default to base 10\n",
        "log(10, base = 10)"
      ],
      "metadata": {
        "id": "EBYL1uB04Mou",
        "colab": {
          "base_uri": "https://localhost:8080/",
          "height": 34
        },
        "outputId": "6e60dd7a-5094-4948-ba4e-b25538f63ff0"
      },
      "execution_count": null,
      "outputs": [
        {
          "output_type": "display_data",
          "data": {
            "text/html": [
              "1"
            ],
            "text/markdown": "1",
            "text/latex": "1",
            "text/plain": [
              "[1] 1"
            ]
          },
          "metadata": {}
        }
      ]
    },
    {
      "cell_type": "code",
      "source": [
        "# changing the default to base 10\n",
        "log(100, base = 10)"
      ],
      "metadata": {
        "id": "z8iLxQYC4VaG",
        "colab": {
          "base_uri": "https://localhost:8080/",
          "height": 34
        },
        "outputId": "880b5a93-91d5-40f7-c1a1-d36754fc89d7"
      },
      "execution_count": null,
      "outputs": [
        {
          "output_type": "display_data",
          "data": {
            "text/html": [
              "2"
            ],
            "text/markdown": "2",
            "text/latex": "2",
            "text/plain": [
              "[1] 2"
            ]
          },
          "metadata": {}
        }
      ]
    },
    {
      "cell_type": "markdown",
      "source": [
        "<br>\n",
        "\n",
        "<br>"
      ],
      "metadata": {
        "id": "_s0gNWSthkrf"
      }
    },
    {
      "cell_type": "markdown",
      "source": [
        "---\n",
        "\n",
        "<br>"
      ],
      "metadata": {
        "id": "aD2HnN88hkrg"
      }
    },
    {
      "cell_type": "markdown",
      "source": [
        "## Prebuilt datasets"
      ],
      "metadata": {
        "id": "1SNJzA0gihf-"
      }
    },
    {
      "cell_type": "markdown",
      "source": [
        "* The base installation of `R` also contains many prebuilt datasets\n",
        "\n",
        "* We use the `data()` function to call an `R` dataset"
      ],
      "metadata": {
        "id": "BMOLhTyU0O2K"
      }
    },
    {
      "cell_type": "code",
      "source": [
        "# load the built-in mtcars dataset\n",
        "data(mtcars)"
      ],
      "metadata": {
        "id": "y9DBmE6Aihf_"
      },
      "execution_count": null,
      "outputs": []
    },
    {
      "cell_type": "code",
      "source": [
        "mtcars"
      ],
      "metadata": {
        "colab": {
          "base_uri": "https://localhost:8080/",
          "height": 1000
        },
        "id": "1xmjl_rKRS4L",
        "outputId": "1e5de058-83f9-4ba5-f7ec-b020b4b24688"
      },
      "execution_count": null,
      "outputs": [
        {
          "output_type": "display_data",
          "data": {
            "text/html": [
              "<table class=\"dataframe\">\n",
              "<caption>A data.frame: 32 × 11</caption>\n",
              "<thead>\n",
              "\t<tr><th></th><th scope=col>mpg</th><th scope=col>cyl</th><th scope=col>disp</th><th scope=col>hp</th><th scope=col>drat</th><th scope=col>wt</th><th scope=col>qsec</th><th scope=col>vs</th><th scope=col>am</th><th scope=col>gear</th><th scope=col>carb</th></tr>\n",
              "\t<tr><th></th><th scope=col>&lt;dbl&gt;</th><th scope=col>&lt;dbl&gt;</th><th scope=col>&lt;dbl&gt;</th><th scope=col>&lt;dbl&gt;</th><th scope=col>&lt;dbl&gt;</th><th scope=col>&lt;dbl&gt;</th><th scope=col>&lt;dbl&gt;</th><th scope=col>&lt;dbl&gt;</th><th scope=col>&lt;dbl&gt;</th><th scope=col>&lt;dbl&gt;</th><th scope=col>&lt;dbl&gt;</th></tr>\n",
              "</thead>\n",
              "<tbody>\n",
              "\t<tr><th scope=row>Mazda RX4</th><td>21.0</td><td>6</td><td>160.0</td><td>110</td><td>3.90</td><td>2.620</td><td>16.46</td><td>0</td><td>1</td><td>4</td><td>4</td></tr>\n",
              "\t<tr><th scope=row>Mazda RX4 Wag</th><td>21.0</td><td>6</td><td>160.0</td><td>110</td><td>3.90</td><td>2.875</td><td>17.02</td><td>0</td><td>1</td><td>4</td><td>4</td></tr>\n",
              "\t<tr><th scope=row>Datsun 710</th><td>22.8</td><td>4</td><td>108.0</td><td> 93</td><td>3.85</td><td>2.320</td><td>18.61</td><td>1</td><td>1</td><td>4</td><td>1</td></tr>\n",
              "\t<tr><th scope=row>Hornet 4 Drive</th><td>21.4</td><td>6</td><td>258.0</td><td>110</td><td>3.08</td><td>3.215</td><td>19.44</td><td>1</td><td>0</td><td>3</td><td>1</td></tr>\n",
              "\t<tr><th scope=row>Hornet Sportabout</th><td>18.7</td><td>8</td><td>360.0</td><td>175</td><td>3.15</td><td>3.440</td><td>17.02</td><td>0</td><td>0</td><td>3</td><td>2</td></tr>\n",
              "\t<tr><th scope=row>Valiant</th><td>18.1</td><td>6</td><td>225.0</td><td>105</td><td>2.76</td><td>3.460</td><td>20.22</td><td>1</td><td>0</td><td>3</td><td>1</td></tr>\n",
              "\t<tr><th scope=row>Duster 360</th><td>14.3</td><td>8</td><td>360.0</td><td>245</td><td>3.21</td><td>3.570</td><td>15.84</td><td>0</td><td>0</td><td>3</td><td>4</td></tr>\n",
              "\t<tr><th scope=row>Merc 240D</th><td>24.4</td><td>4</td><td>146.7</td><td> 62</td><td>3.69</td><td>3.190</td><td>20.00</td><td>1</td><td>0</td><td>4</td><td>2</td></tr>\n",
              "\t<tr><th scope=row>Merc 230</th><td>22.8</td><td>4</td><td>140.8</td><td> 95</td><td>3.92</td><td>3.150</td><td>22.90</td><td>1</td><td>0</td><td>4</td><td>2</td></tr>\n",
              "\t<tr><th scope=row>Merc 280</th><td>19.2</td><td>6</td><td>167.6</td><td>123</td><td>3.92</td><td>3.440</td><td>18.30</td><td>1</td><td>0</td><td>4</td><td>4</td></tr>\n",
              "\t<tr><th scope=row>Merc 280C</th><td>17.8</td><td>6</td><td>167.6</td><td>123</td><td>3.92</td><td>3.440</td><td>18.90</td><td>1</td><td>0</td><td>4</td><td>4</td></tr>\n",
              "\t<tr><th scope=row>Merc 450SE</th><td>16.4</td><td>8</td><td>275.8</td><td>180</td><td>3.07</td><td>4.070</td><td>17.40</td><td>0</td><td>0</td><td>3</td><td>3</td></tr>\n",
              "\t<tr><th scope=row>Merc 450SL</th><td>17.3</td><td>8</td><td>275.8</td><td>180</td><td>3.07</td><td>3.730</td><td>17.60</td><td>0</td><td>0</td><td>3</td><td>3</td></tr>\n",
              "\t<tr><th scope=row>Merc 450SLC</th><td>15.2</td><td>8</td><td>275.8</td><td>180</td><td>3.07</td><td>3.780</td><td>18.00</td><td>0</td><td>0</td><td>3</td><td>3</td></tr>\n",
              "\t<tr><th scope=row>Cadillac Fleetwood</th><td>10.4</td><td>8</td><td>472.0</td><td>205</td><td>2.93</td><td>5.250</td><td>17.98</td><td>0</td><td>0</td><td>3</td><td>4</td></tr>\n",
              "\t<tr><th scope=row>Lincoln Continental</th><td>10.4</td><td>8</td><td>460.0</td><td>215</td><td>3.00</td><td>5.424</td><td>17.82</td><td>0</td><td>0</td><td>3</td><td>4</td></tr>\n",
              "\t<tr><th scope=row>Chrysler Imperial</th><td>14.7</td><td>8</td><td>440.0</td><td>230</td><td>3.23</td><td>5.345</td><td>17.42</td><td>0</td><td>0</td><td>3</td><td>4</td></tr>\n",
              "\t<tr><th scope=row>Fiat 128</th><td>32.4</td><td>4</td><td> 78.7</td><td> 66</td><td>4.08</td><td>2.200</td><td>19.47</td><td>1</td><td>1</td><td>4</td><td>1</td></tr>\n",
              "\t<tr><th scope=row>Honda Civic</th><td>30.4</td><td>4</td><td> 75.7</td><td> 52</td><td>4.93</td><td>1.615</td><td>18.52</td><td>1</td><td>1</td><td>4</td><td>2</td></tr>\n",
              "\t<tr><th scope=row>Toyota Corolla</th><td>33.9</td><td>4</td><td> 71.1</td><td> 65</td><td>4.22</td><td>1.835</td><td>19.90</td><td>1</td><td>1</td><td>4</td><td>1</td></tr>\n",
              "\t<tr><th scope=row>Toyota Corona</th><td>21.5</td><td>4</td><td>120.1</td><td> 97</td><td>3.70</td><td>2.465</td><td>20.01</td><td>1</td><td>0</td><td>3</td><td>1</td></tr>\n",
              "\t<tr><th scope=row>Dodge Challenger</th><td>15.5</td><td>8</td><td>318.0</td><td>150</td><td>2.76</td><td>3.520</td><td>16.87</td><td>0</td><td>0</td><td>3</td><td>2</td></tr>\n",
              "\t<tr><th scope=row>AMC Javelin</th><td>15.2</td><td>8</td><td>304.0</td><td>150</td><td>3.15</td><td>3.435</td><td>17.30</td><td>0</td><td>0</td><td>3</td><td>2</td></tr>\n",
              "\t<tr><th scope=row>Camaro Z28</th><td>13.3</td><td>8</td><td>350.0</td><td>245</td><td>3.73</td><td>3.840</td><td>15.41</td><td>0</td><td>0</td><td>3</td><td>4</td></tr>\n",
              "\t<tr><th scope=row>Pontiac Firebird</th><td>19.2</td><td>8</td><td>400.0</td><td>175</td><td>3.08</td><td>3.845</td><td>17.05</td><td>0</td><td>0</td><td>3</td><td>2</td></tr>\n",
              "\t<tr><th scope=row>Fiat X1-9</th><td>27.3</td><td>4</td><td> 79.0</td><td> 66</td><td>4.08</td><td>1.935</td><td>18.90</td><td>1</td><td>1</td><td>4</td><td>1</td></tr>\n",
              "\t<tr><th scope=row>Porsche 914-2</th><td>26.0</td><td>4</td><td>120.3</td><td> 91</td><td>4.43</td><td>2.140</td><td>16.70</td><td>0</td><td>1</td><td>5</td><td>2</td></tr>\n",
              "\t<tr><th scope=row>Lotus Europa</th><td>30.4</td><td>4</td><td> 95.1</td><td>113</td><td>3.77</td><td>1.513</td><td>16.90</td><td>1</td><td>1</td><td>5</td><td>2</td></tr>\n",
              "\t<tr><th scope=row>Ford Pantera L</th><td>15.8</td><td>8</td><td>351.0</td><td>264</td><td>4.22</td><td>3.170</td><td>14.50</td><td>0</td><td>1</td><td>5</td><td>4</td></tr>\n",
              "\t<tr><th scope=row>Ferrari Dino</th><td>19.7</td><td>6</td><td>145.0</td><td>175</td><td>3.62</td><td>2.770</td><td>15.50</td><td>0</td><td>1</td><td>5</td><td>6</td></tr>\n",
              "\t<tr><th scope=row>Maserati Bora</th><td>15.0</td><td>8</td><td>301.0</td><td>335</td><td>3.54</td><td>3.570</td><td>14.60</td><td>0</td><td>1</td><td>5</td><td>8</td></tr>\n",
              "\t<tr><th scope=row>Volvo 142E</th><td>21.4</td><td>4</td><td>121.0</td><td>109</td><td>4.11</td><td>2.780</td><td>18.60</td><td>1</td><td>1</td><td>4</td><td>2</td></tr>\n",
              "</tbody>\n",
              "</table>\n"
            ],
            "text/markdown": "\nA data.frame: 32 × 11\n\n| <!--/--> | mpg &lt;dbl&gt; | cyl &lt;dbl&gt; | disp &lt;dbl&gt; | hp &lt;dbl&gt; | drat &lt;dbl&gt; | wt &lt;dbl&gt; | qsec &lt;dbl&gt; | vs &lt;dbl&gt; | am &lt;dbl&gt; | gear &lt;dbl&gt; | carb &lt;dbl&gt; |\n|---|---|---|---|---|---|---|---|---|---|---|---|\n| Mazda RX4 | 21.0 | 6 | 160.0 | 110 | 3.90 | 2.620 | 16.46 | 0 | 1 | 4 | 4 |\n| Mazda RX4 Wag | 21.0 | 6 | 160.0 | 110 | 3.90 | 2.875 | 17.02 | 0 | 1 | 4 | 4 |\n| Datsun 710 | 22.8 | 4 | 108.0 |  93 | 3.85 | 2.320 | 18.61 | 1 | 1 | 4 | 1 |\n| Hornet 4 Drive | 21.4 | 6 | 258.0 | 110 | 3.08 | 3.215 | 19.44 | 1 | 0 | 3 | 1 |\n| Hornet Sportabout | 18.7 | 8 | 360.0 | 175 | 3.15 | 3.440 | 17.02 | 0 | 0 | 3 | 2 |\n| Valiant | 18.1 | 6 | 225.0 | 105 | 2.76 | 3.460 | 20.22 | 1 | 0 | 3 | 1 |\n| Duster 360 | 14.3 | 8 | 360.0 | 245 | 3.21 | 3.570 | 15.84 | 0 | 0 | 3 | 4 |\n| Merc 240D | 24.4 | 4 | 146.7 |  62 | 3.69 | 3.190 | 20.00 | 1 | 0 | 4 | 2 |\n| Merc 230 | 22.8 | 4 | 140.8 |  95 | 3.92 | 3.150 | 22.90 | 1 | 0 | 4 | 2 |\n| Merc 280 | 19.2 | 6 | 167.6 | 123 | 3.92 | 3.440 | 18.30 | 1 | 0 | 4 | 4 |\n| Merc 280C | 17.8 | 6 | 167.6 | 123 | 3.92 | 3.440 | 18.90 | 1 | 0 | 4 | 4 |\n| Merc 450SE | 16.4 | 8 | 275.8 | 180 | 3.07 | 4.070 | 17.40 | 0 | 0 | 3 | 3 |\n| Merc 450SL | 17.3 | 8 | 275.8 | 180 | 3.07 | 3.730 | 17.60 | 0 | 0 | 3 | 3 |\n| Merc 450SLC | 15.2 | 8 | 275.8 | 180 | 3.07 | 3.780 | 18.00 | 0 | 0 | 3 | 3 |\n| Cadillac Fleetwood | 10.4 | 8 | 472.0 | 205 | 2.93 | 5.250 | 17.98 | 0 | 0 | 3 | 4 |\n| Lincoln Continental | 10.4 | 8 | 460.0 | 215 | 3.00 | 5.424 | 17.82 | 0 | 0 | 3 | 4 |\n| Chrysler Imperial | 14.7 | 8 | 440.0 | 230 | 3.23 | 5.345 | 17.42 | 0 | 0 | 3 | 4 |\n| Fiat 128 | 32.4 | 4 |  78.7 |  66 | 4.08 | 2.200 | 19.47 | 1 | 1 | 4 | 1 |\n| Honda Civic | 30.4 | 4 |  75.7 |  52 | 4.93 | 1.615 | 18.52 | 1 | 1 | 4 | 2 |\n| Toyota Corolla | 33.9 | 4 |  71.1 |  65 | 4.22 | 1.835 | 19.90 | 1 | 1 | 4 | 1 |\n| Toyota Corona | 21.5 | 4 | 120.1 |  97 | 3.70 | 2.465 | 20.01 | 1 | 0 | 3 | 1 |\n| Dodge Challenger | 15.5 | 8 | 318.0 | 150 | 2.76 | 3.520 | 16.87 | 0 | 0 | 3 | 2 |\n| AMC Javelin | 15.2 | 8 | 304.0 | 150 | 3.15 | 3.435 | 17.30 | 0 | 0 | 3 | 2 |\n| Camaro Z28 | 13.3 | 8 | 350.0 | 245 | 3.73 | 3.840 | 15.41 | 0 | 0 | 3 | 4 |\n| Pontiac Firebird | 19.2 | 8 | 400.0 | 175 | 3.08 | 3.845 | 17.05 | 0 | 0 | 3 | 2 |\n| Fiat X1-9 | 27.3 | 4 |  79.0 |  66 | 4.08 | 1.935 | 18.90 | 1 | 1 | 4 | 1 |\n| Porsche 914-2 | 26.0 | 4 | 120.3 |  91 | 4.43 | 2.140 | 16.70 | 0 | 1 | 5 | 2 |\n| Lotus Europa | 30.4 | 4 |  95.1 | 113 | 3.77 | 1.513 | 16.90 | 1 | 1 | 5 | 2 |\n| Ford Pantera L | 15.8 | 8 | 351.0 | 264 | 4.22 | 3.170 | 14.50 | 0 | 1 | 5 | 4 |\n| Ferrari Dino | 19.7 | 6 | 145.0 | 175 | 3.62 | 2.770 | 15.50 | 0 | 1 | 5 | 6 |\n| Maserati Bora | 15.0 | 8 | 301.0 | 335 | 3.54 | 3.570 | 14.60 | 0 | 1 | 5 | 8 |\n| Volvo 142E | 21.4 | 4 | 121.0 | 109 | 4.11 | 2.780 | 18.60 | 1 | 1 | 4 | 2 |\n\n",
            "text/latex": "A data.frame: 32 × 11\n\\begin{tabular}{r|lllllllllll}\n  & mpg & cyl & disp & hp & drat & wt & qsec & vs & am & gear & carb\\\\\n  & <dbl> & <dbl> & <dbl> & <dbl> & <dbl> & <dbl> & <dbl> & <dbl> & <dbl> & <dbl> & <dbl>\\\\\n\\hline\n\tMazda RX4 & 21.0 & 6 & 160.0 & 110 & 3.90 & 2.620 & 16.46 & 0 & 1 & 4 & 4\\\\\n\tMazda RX4 Wag & 21.0 & 6 & 160.0 & 110 & 3.90 & 2.875 & 17.02 & 0 & 1 & 4 & 4\\\\\n\tDatsun 710 & 22.8 & 4 & 108.0 &  93 & 3.85 & 2.320 & 18.61 & 1 & 1 & 4 & 1\\\\\n\tHornet 4 Drive & 21.4 & 6 & 258.0 & 110 & 3.08 & 3.215 & 19.44 & 1 & 0 & 3 & 1\\\\\n\tHornet Sportabout & 18.7 & 8 & 360.0 & 175 & 3.15 & 3.440 & 17.02 & 0 & 0 & 3 & 2\\\\\n\tValiant & 18.1 & 6 & 225.0 & 105 & 2.76 & 3.460 & 20.22 & 1 & 0 & 3 & 1\\\\\n\tDuster 360 & 14.3 & 8 & 360.0 & 245 & 3.21 & 3.570 & 15.84 & 0 & 0 & 3 & 4\\\\\n\tMerc 240D & 24.4 & 4 & 146.7 &  62 & 3.69 & 3.190 & 20.00 & 1 & 0 & 4 & 2\\\\\n\tMerc 230 & 22.8 & 4 & 140.8 &  95 & 3.92 & 3.150 & 22.90 & 1 & 0 & 4 & 2\\\\\n\tMerc 280 & 19.2 & 6 & 167.6 & 123 & 3.92 & 3.440 & 18.30 & 1 & 0 & 4 & 4\\\\\n\tMerc 280C & 17.8 & 6 & 167.6 & 123 & 3.92 & 3.440 & 18.90 & 1 & 0 & 4 & 4\\\\\n\tMerc 450SE & 16.4 & 8 & 275.8 & 180 & 3.07 & 4.070 & 17.40 & 0 & 0 & 3 & 3\\\\\n\tMerc 450SL & 17.3 & 8 & 275.8 & 180 & 3.07 & 3.730 & 17.60 & 0 & 0 & 3 & 3\\\\\n\tMerc 450SLC & 15.2 & 8 & 275.8 & 180 & 3.07 & 3.780 & 18.00 & 0 & 0 & 3 & 3\\\\\n\tCadillac Fleetwood & 10.4 & 8 & 472.0 & 205 & 2.93 & 5.250 & 17.98 & 0 & 0 & 3 & 4\\\\\n\tLincoln Continental & 10.4 & 8 & 460.0 & 215 & 3.00 & 5.424 & 17.82 & 0 & 0 & 3 & 4\\\\\n\tChrysler Imperial & 14.7 & 8 & 440.0 & 230 & 3.23 & 5.345 & 17.42 & 0 & 0 & 3 & 4\\\\\n\tFiat 128 & 32.4 & 4 &  78.7 &  66 & 4.08 & 2.200 & 19.47 & 1 & 1 & 4 & 1\\\\\n\tHonda Civic & 30.4 & 4 &  75.7 &  52 & 4.93 & 1.615 & 18.52 & 1 & 1 & 4 & 2\\\\\n\tToyota Corolla & 33.9 & 4 &  71.1 &  65 & 4.22 & 1.835 & 19.90 & 1 & 1 & 4 & 1\\\\\n\tToyota Corona & 21.5 & 4 & 120.1 &  97 & 3.70 & 2.465 & 20.01 & 1 & 0 & 3 & 1\\\\\n\tDodge Challenger & 15.5 & 8 & 318.0 & 150 & 2.76 & 3.520 & 16.87 & 0 & 0 & 3 & 2\\\\\n\tAMC Javelin & 15.2 & 8 & 304.0 & 150 & 3.15 & 3.435 & 17.30 & 0 & 0 & 3 & 2\\\\\n\tCamaro Z28 & 13.3 & 8 & 350.0 & 245 & 3.73 & 3.840 & 15.41 & 0 & 0 & 3 & 4\\\\\n\tPontiac Firebird & 19.2 & 8 & 400.0 & 175 & 3.08 & 3.845 & 17.05 & 0 & 0 & 3 & 2\\\\\n\tFiat X1-9 & 27.3 & 4 &  79.0 &  66 & 4.08 & 1.935 & 18.90 & 1 & 1 & 4 & 1\\\\\n\tPorsche 914-2 & 26.0 & 4 & 120.3 &  91 & 4.43 & 2.140 & 16.70 & 0 & 1 & 5 & 2\\\\\n\tLotus Europa & 30.4 & 4 &  95.1 & 113 & 3.77 & 1.513 & 16.90 & 1 & 1 & 5 & 2\\\\\n\tFord Pantera L & 15.8 & 8 & 351.0 & 264 & 4.22 & 3.170 & 14.50 & 0 & 1 & 5 & 4\\\\\n\tFerrari Dino & 19.7 & 6 & 145.0 & 175 & 3.62 & 2.770 & 15.50 & 0 & 1 & 5 & 6\\\\\n\tMaserati Bora & 15.0 & 8 & 301.0 & 335 & 3.54 & 3.570 & 14.60 & 0 & 1 & 5 & 8\\\\\n\tVolvo 142E & 21.4 & 4 & 121.0 & 109 & 4.11 & 2.780 & 18.60 & 1 & 1 & 4 & 2\\\\\n\\end{tabular}\n",
            "text/plain": [
              "                    mpg  cyl disp  hp  drat wt    qsec  vs am gear carb\n",
              "Mazda RX4           21.0 6   160.0 110 3.90 2.620 16.46 0  1  4    4   \n",
              "Mazda RX4 Wag       21.0 6   160.0 110 3.90 2.875 17.02 0  1  4    4   \n",
              "Datsun 710          22.8 4   108.0  93 3.85 2.320 18.61 1  1  4    1   \n",
              "Hornet 4 Drive      21.4 6   258.0 110 3.08 3.215 19.44 1  0  3    1   \n",
              "Hornet Sportabout   18.7 8   360.0 175 3.15 3.440 17.02 0  0  3    2   \n",
              "Valiant             18.1 6   225.0 105 2.76 3.460 20.22 1  0  3    1   \n",
              "Duster 360          14.3 8   360.0 245 3.21 3.570 15.84 0  0  3    4   \n",
              "Merc 240D           24.4 4   146.7  62 3.69 3.190 20.00 1  0  4    2   \n",
              "Merc 230            22.8 4   140.8  95 3.92 3.150 22.90 1  0  4    2   \n",
              "Merc 280            19.2 6   167.6 123 3.92 3.440 18.30 1  0  4    4   \n",
              "Merc 280C           17.8 6   167.6 123 3.92 3.440 18.90 1  0  4    4   \n",
              "Merc 450SE          16.4 8   275.8 180 3.07 4.070 17.40 0  0  3    3   \n",
              "Merc 450SL          17.3 8   275.8 180 3.07 3.730 17.60 0  0  3    3   \n",
              "Merc 450SLC         15.2 8   275.8 180 3.07 3.780 18.00 0  0  3    3   \n",
              "Cadillac Fleetwood  10.4 8   472.0 205 2.93 5.250 17.98 0  0  3    4   \n",
              "Lincoln Continental 10.4 8   460.0 215 3.00 5.424 17.82 0  0  3    4   \n",
              "Chrysler Imperial   14.7 8   440.0 230 3.23 5.345 17.42 0  0  3    4   \n",
              "Fiat 128            32.4 4    78.7  66 4.08 2.200 19.47 1  1  4    1   \n",
              "Honda Civic         30.4 4    75.7  52 4.93 1.615 18.52 1  1  4    2   \n",
              "Toyota Corolla      33.9 4    71.1  65 4.22 1.835 19.90 1  1  4    1   \n",
              "Toyota Corona       21.5 4   120.1  97 3.70 2.465 20.01 1  0  3    1   \n",
              "Dodge Challenger    15.5 8   318.0 150 2.76 3.520 16.87 0  0  3    2   \n",
              "AMC Javelin         15.2 8   304.0 150 3.15 3.435 17.30 0  0  3    2   \n",
              "Camaro Z28          13.3 8   350.0 245 3.73 3.840 15.41 0  0  3    4   \n",
              "Pontiac Firebird    19.2 8   400.0 175 3.08 3.845 17.05 0  0  3    2   \n",
              "Fiat X1-9           27.3 4    79.0  66 4.08 1.935 18.90 1  1  4    1   \n",
              "Porsche 914-2       26.0 4   120.3  91 4.43 2.140 16.70 0  1  5    2   \n",
              "Lotus Europa        30.4 4    95.1 113 3.77 1.513 16.90 1  1  5    2   \n",
              "Ford Pantera L      15.8 8   351.0 264 4.22 3.170 14.50 0  1  5    4   \n",
              "Ferrari Dino        19.7 6   145.0 175 3.62 2.770 15.50 0  1  5    6   \n",
              "Maserati Bora       15.0 8   301.0 335 3.54 3.570 14.60 0  1  5    8   \n",
              "Volvo 142E          21.4 4   121.0 109 4.11 2.780 18.60 1  1  4    2   "
            ]
          },
          "metadata": {}
        }
      ]
    },
    {
      "cell_type": "code",
      "source": [
        "# use head() to show first 6 lines of mtcars dataset\n",
        "head(mtcars)"
      ],
      "metadata": {
        "id": "QD_7HgER1CIA",
        "colab": {
          "base_uri": "https://localhost:8080/",
          "height": 286
        },
        "outputId": "d77e8759-fd16-4988-b23d-1de5d5af4239"
      },
      "execution_count": null,
      "outputs": [
        {
          "output_type": "display_data",
          "data": {
            "text/html": [
              "<table class=\"dataframe\">\n",
              "<caption>A data.frame: 6 × 11</caption>\n",
              "<thead>\n",
              "\t<tr><th></th><th scope=col>mpg</th><th scope=col>cyl</th><th scope=col>disp</th><th scope=col>hp</th><th scope=col>drat</th><th scope=col>wt</th><th scope=col>qsec</th><th scope=col>vs</th><th scope=col>am</th><th scope=col>gear</th><th scope=col>carb</th></tr>\n",
              "\t<tr><th></th><th scope=col>&lt;dbl&gt;</th><th scope=col>&lt;dbl&gt;</th><th scope=col>&lt;dbl&gt;</th><th scope=col>&lt;dbl&gt;</th><th scope=col>&lt;dbl&gt;</th><th scope=col>&lt;dbl&gt;</th><th scope=col>&lt;dbl&gt;</th><th scope=col>&lt;dbl&gt;</th><th scope=col>&lt;dbl&gt;</th><th scope=col>&lt;dbl&gt;</th><th scope=col>&lt;dbl&gt;</th></tr>\n",
              "</thead>\n",
              "<tbody>\n",
              "\t<tr><th scope=row>Mazda RX4</th><td>21.0</td><td>6</td><td>160</td><td>110</td><td>3.90</td><td>2.620</td><td>16.46</td><td>0</td><td>1</td><td>4</td><td>4</td></tr>\n",
              "\t<tr><th scope=row>Mazda RX4 Wag</th><td>21.0</td><td>6</td><td>160</td><td>110</td><td>3.90</td><td>2.875</td><td>17.02</td><td>0</td><td>1</td><td>4</td><td>4</td></tr>\n",
              "\t<tr><th scope=row>Datsun 710</th><td>22.8</td><td>4</td><td>108</td><td> 93</td><td>3.85</td><td>2.320</td><td>18.61</td><td>1</td><td>1</td><td>4</td><td>1</td></tr>\n",
              "\t<tr><th scope=row>Hornet 4 Drive</th><td>21.4</td><td>6</td><td>258</td><td>110</td><td>3.08</td><td>3.215</td><td>19.44</td><td>1</td><td>0</td><td>3</td><td>1</td></tr>\n",
              "\t<tr><th scope=row>Hornet Sportabout</th><td>18.7</td><td>8</td><td>360</td><td>175</td><td>3.15</td><td>3.440</td><td>17.02</td><td>0</td><td>0</td><td>3</td><td>2</td></tr>\n",
              "\t<tr><th scope=row>Valiant</th><td>18.1</td><td>6</td><td>225</td><td>105</td><td>2.76</td><td>3.460</td><td>20.22</td><td>1</td><td>0</td><td>3</td><td>1</td></tr>\n",
              "</tbody>\n",
              "</table>\n"
            ],
            "text/markdown": "\nA data.frame: 6 × 11\n\n| <!--/--> | mpg &lt;dbl&gt; | cyl &lt;dbl&gt; | disp &lt;dbl&gt; | hp &lt;dbl&gt; | drat &lt;dbl&gt; | wt &lt;dbl&gt; | qsec &lt;dbl&gt; | vs &lt;dbl&gt; | am &lt;dbl&gt; | gear &lt;dbl&gt; | carb &lt;dbl&gt; |\n|---|---|---|---|---|---|---|---|---|---|---|---|\n| Mazda RX4 | 21.0 | 6 | 160 | 110 | 3.90 | 2.620 | 16.46 | 0 | 1 | 4 | 4 |\n| Mazda RX4 Wag | 21.0 | 6 | 160 | 110 | 3.90 | 2.875 | 17.02 | 0 | 1 | 4 | 4 |\n| Datsun 710 | 22.8 | 4 | 108 |  93 | 3.85 | 2.320 | 18.61 | 1 | 1 | 4 | 1 |\n| Hornet 4 Drive | 21.4 | 6 | 258 | 110 | 3.08 | 3.215 | 19.44 | 1 | 0 | 3 | 1 |\n| Hornet Sportabout | 18.7 | 8 | 360 | 175 | 3.15 | 3.440 | 17.02 | 0 | 0 | 3 | 2 |\n| Valiant | 18.1 | 6 | 225 | 105 | 2.76 | 3.460 | 20.22 | 1 | 0 | 3 | 1 |\n\n",
            "text/latex": "A data.frame: 6 × 11\n\\begin{tabular}{r|lllllllllll}\n  & mpg & cyl & disp & hp & drat & wt & qsec & vs & am & gear & carb\\\\\n  & <dbl> & <dbl> & <dbl> & <dbl> & <dbl> & <dbl> & <dbl> & <dbl> & <dbl> & <dbl> & <dbl>\\\\\n\\hline\n\tMazda RX4 & 21.0 & 6 & 160 & 110 & 3.90 & 2.620 & 16.46 & 0 & 1 & 4 & 4\\\\\n\tMazda RX4 Wag & 21.0 & 6 & 160 & 110 & 3.90 & 2.875 & 17.02 & 0 & 1 & 4 & 4\\\\\n\tDatsun 710 & 22.8 & 4 & 108 &  93 & 3.85 & 2.320 & 18.61 & 1 & 1 & 4 & 1\\\\\n\tHornet 4 Drive & 21.4 & 6 & 258 & 110 & 3.08 & 3.215 & 19.44 & 1 & 0 & 3 & 1\\\\\n\tHornet Sportabout & 18.7 & 8 & 360 & 175 & 3.15 & 3.440 & 17.02 & 0 & 0 & 3 & 2\\\\\n\tValiant & 18.1 & 6 & 225 & 105 & 2.76 & 3.460 & 20.22 & 1 & 0 & 3 & 1\\\\\n\\end{tabular}\n",
            "text/plain": [
              "                  mpg  cyl disp hp  drat wt    qsec  vs am gear carb\n",
              "Mazda RX4         21.0 6   160  110 3.90 2.620 16.46 0  1  4    4   \n",
              "Mazda RX4 Wag     21.0 6   160  110 3.90 2.875 17.02 0  1  4    4   \n",
              "Datsun 710        22.8 4   108   93 3.85 2.320 18.61 1  1  4    1   \n",
              "Hornet 4 Drive    21.4 6   258  110 3.08 3.215 19.44 1  0  3    1   \n",
              "Hornet Sportabout 18.7 8   360  175 3.15 3.440 17.02 0  0  3    2   \n",
              "Valiant           18.1 6   225  105 2.76 3.460 20.22 1  0  3    1   "
            ]
          },
          "metadata": {}
        }
      ]
    },
    {
      "cell_type": "code",
      "source": [
        "# ignore the code for now!\n",
        "plot(mtcars$hp, mtcars$mpg,\n",
        "     xlab = \"Horsepower\", ylab = \"Miles per Gallon\")"
      ],
      "metadata": {
        "id": "wnEcQIFl82jQ",
        "colab": {
          "base_uri": "https://localhost:8080/",
          "height": 437
        },
        "outputId": "a20979eb-622a-453f-f689-184fff99808a"
      },
      "execution_count": null,
      "outputs": [
        {
          "output_type": "display_data",
          "data": {
            "text/plain": [
              "plot without title"
            ],
            "image/png": "[encoded data removed]"
          },
          "metadata": {
            "image/png": {
              "width": 420,
              "height": 420
            }
          }
        }
      ]
    },
    {
      "cell_type": "markdown",
      "source": [
        "<br>\n",
        "\n",
        "<br>"
      ],
      "metadata": {
        "id": "MzXB9EinihgA"
      }
    },
    {
      "cell_type": "markdown",
      "source": [
        "---\n",
        "\n",
        "<br>"
      ],
      "metadata": {
        "id": "2jh48Dat5m0S"
      }
    },
    {
      "cell_type": "markdown",
      "source": [
        "## Getting help - `R` Documentation"
      ],
      "metadata": {
        "id": "zHLAUzQsiy7R"
      }
    },
    {
      "cell_type": "markdown",
      "source": [
        "* What if you don't know how to use a function? a dataset?\n",
        "\n",
        "* `R` has a help function that shows extensive documentation on the object in question\n",
        "\n",
        "* Another option is to search the documentation online"
      ],
      "metadata": {
        "id": "RgBdykzr1JKr"
      }
    },
    {
      "cell_type": "code",
      "source": [
        "# help documentation for the logarithm function\n",
        "help(\"log\")"
      ],
      "metadata": {
        "id": "yv3z3wCliy7S"
      },
      "execution_count": null,
      "outputs": []
    },
    {
      "cell_type": "code",
      "source": [
        "# shorthand for help documentation for the logarithm function\n",
        "?log"
      ],
      "metadata": {
        "id": "5HD8pQfM3FD_"
      },
      "execution_count": null,
      "outputs": []
    },
    {
      "cell_type": "code",
      "source": [
        "# help documentation for the mtcars dataset\n",
        "?mtcars"
      ],
      "metadata": {
        "id": "N3l1hDZs6aWV"
      },
      "execution_count": null,
      "outputs": []
    },
    {
      "cell_type": "markdown",
      "source": [
        "<br>\n",
        "\n",
        "<br>"
      ],
      "metadata": {
        "id": "YnxSZc2iiy7S"
      }
    },
    {
      "cell_type": "markdown",
      "source": [
        "---\n",
        "\n",
        "<br>"
      ],
      "metadata": {
        "id": "HuC6aOOsihgB"
      }
    },
    {
      "cell_type": "markdown",
      "source": [
        "## Packages and Libraries"
      ],
      "metadata": {
        "id": "kgXpkA1PimVK"
      }
    },
    {
      "cell_type": "markdown",
      "source": [
        "### Installing packages"
      ],
      "metadata": {
        "id": "zUvUZKYmjEhW"
      }
    },
    {
      "cell_type": "markdown",
      "source": [
        "* Although `R` has many prebuilt variables and functions, you may want to perform operations not available in the base installation\n",
        "\n",
        "* We can install external packages/libraries using the `install.packages()` function\n",
        "\n",
        "* The following code installs the `dslabs` package, which contains datasets and code that will be used in this course"
      ],
      "metadata": {
        "id": "-0t_BuDe6fHf"
      }
    },
    {
      "cell_type": "code",
      "source": [
        "# install the dslabs package\n",
        "install.packages(\"dslabs\")"
      ],
      "metadata": {
        "id": "jk4Mfkh2imVK",
        "colab": {
          "base_uri": "https://localhost:8080/"
        },
        "outputId": "545701da-fc97-4370-b0e7-3b8c512a844e"
      },
      "execution_count": null,
      "outputs": [
        {
          "output_type": "stream",
          "name": "stderr",
          "text": [
            "Installing package into ‘/usr/local/lib/R/site-library’\n",
            "(as ‘lib’ is unspecified)\n",
            "\n"
          ]
        }
      ]
    },
    {
      "cell_type": "markdown",
      "source": [
        "<br>\n",
        "\n",
        "<br>"
      ],
      "metadata": {
        "id": "WkGtsSMfjEhZ"
      }
    },
    {
      "cell_type": "markdown",
      "source": [
        "### Loading installed packages"
      ],
      "metadata": {
        "id": "EMobAl1djNUN"
      }
    },
    {
      "cell_type": "markdown",
      "source": [
        "* Installing a package only downloads and installs the package on your computer\n",
        "\n",
        "* If you want to use the functions or code within a package, you must load the package using the `library()` function"
      ],
      "metadata": {
        "id": "HJgGvqJj7RFf"
      }
    },
    {
      "cell_type": "code",
      "source": [
        "library(dslabs)"
      ],
      "metadata": {
        "id": "Kp31FOrMjNUO"
      },
      "execution_count": null,
      "outputs": []
    },
    {
      "cell_type": "markdown",
      "source": [
        "<br>\n",
        "\n",
        "<br>"
      ],
      "metadata": {
        "id": "jZ53Yy_X98h8"
      }
    },
    {
      "cell_type": "markdown",
      "source": [
        "### Using datasets and functions from installed packages"
      ],
      "metadata": {
        "id": "JtA5Wvwb96it"
      }
    },
    {
      "cell_type": "markdown",
      "source": [
        "* You can call a dataset or function from a package you installed using the syntax `::`\n",
        "\n",
        "* For example, the code below calls the `murders` dataset from the `dslabs` library"
      ],
      "metadata": {
        "id": "eRFmFgIe96iv"
      }
    },
    {
      "cell_type": "code",
      "source": [
        "# show the first 6 lines of the murders dataset from dslabs\n",
        "head(dslabs::murders)"
      ],
      "metadata": {
        "id": "gOPF3j4E96iw",
        "colab": {
          "base_uri": "https://localhost:8080/",
          "height": 286
        },
        "outputId": "9fbe0227-e63a-4108-f48c-ab301579270a"
      },
      "execution_count": null,
      "outputs": [
        {
          "output_type": "display_data",
          "data": {
            "text/html": [
              "<table class=\"dataframe\">\n",
              "<caption>A data.frame: 6 × 5</caption>\n",
              "<thead>\n",
              "\t<tr><th></th><th scope=col>state</th><th scope=col>abb</th><th scope=col>region</th><th scope=col>population</th><th scope=col>total</th></tr>\n",
              "\t<tr><th></th><th scope=col>&lt;chr&gt;</th><th scope=col>&lt;chr&gt;</th><th scope=col>&lt;fct&gt;</th><th scope=col>&lt;dbl&gt;</th><th scope=col>&lt;dbl&gt;</th></tr>\n",
              "</thead>\n",
              "<tbody>\n",
              "\t<tr><th scope=row>1</th><td>Alabama   </td><td>AL</td><td>South</td><td> 4779736</td><td> 135</td></tr>\n",
              "\t<tr><th scope=row>2</th><td>Alaska    </td><td>AK</td><td>West </td><td>  710231</td><td>  19</td></tr>\n",
              "\t<tr><th scope=row>3</th><td>Arizona   </td><td>AZ</td><td>West </td><td> 6392017</td><td> 232</td></tr>\n",
              "\t<tr><th scope=row>4</th><td>Arkansas  </td><td>AR</td><td>South</td><td> 2915918</td><td>  93</td></tr>\n",
              "\t<tr><th scope=row>5</th><td>California</td><td>CA</td><td>West </td><td>37253956</td><td>1257</td></tr>\n",
              "\t<tr><th scope=row>6</th><td>Colorado  </td><td>CO</td><td>West </td><td> 5029196</td><td>  65</td></tr>\n",
              "</tbody>\n",
              "</table>\n"
            ],
            "text/markdown": "\nA data.frame: 6 × 5\n\n| <!--/--> | state &lt;chr&gt; | abb &lt;chr&gt; | region &lt;fct&gt; | population &lt;dbl&gt; | total &lt;dbl&gt; |\n|---|---|---|---|---|---|\n| 1 | Alabama    | AL | South |  4779736 |  135 |\n| 2 | Alaska     | AK | West  |   710231 |   19 |\n| 3 | Arizona    | AZ | West  |  6392017 |  232 |\n| 4 | Arkansas   | AR | South |  2915918 |   93 |\n| 5 | California | CA | West  | 37253956 | 1257 |\n| 6 | Colorado   | CO | West  |  5029196 |   65 |\n\n",
            "text/latex": "A data.frame: 6 × 5\n\\begin{tabular}{r|lllll}\n  & state & abb & region & population & total\\\\\n  & <chr> & <chr> & <fct> & <dbl> & <dbl>\\\\\n\\hline\n\t1 & Alabama    & AL & South &  4779736 &  135\\\\\n\t2 & Alaska     & AK & West  &   710231 &   19\\\\\n\t3 & Arizona    & AZ & West  &  6392017 &  232\\\\\n\t4 & Arkansas   & AR & South &  2915918 &   93\\\\\n\t5 & California & CA & West  & 37253956 & 1257\\\\\n\t6 & Colorado   & CO & West  &  5029196 &   65\\\\\n\\end{tabular}\n",
            "text/plain": [
              "  state      abb region population total\n",
              "1 Alabama    AL  South   4779736    135 \n",
              "2 Alaska     AK  West     710231     19 \n",
              "3 Arizona    AZ  West    6392017    232 \n",
              "4 Arkansas   AR  South   2915918     93 \n",
              "5 California CA  West   37253956   1257 \n",
              "6 Colorado   CO  West    5029196     65 "
            ]
          },
          "metadata": {}
        }
      ]
    },
    {
      "cell_type": "markdown",
      "source": [
        "<br>\n",
        "\n",
        "<br>"
      ],
      "metadata": {
        "id": "A62-knDK-W58"
      }
    },
    {
      "cell_type": "markdown",
      "source": [
        "* Note that this will work without the `::` syntax\n",
        "\n",
        "* However, using `::` can keep your code organized"
      ],
      "metadata": {
        "id": "a-pavObS-YWY"
      }
    },
    {
      "cell_type": "code",
      "source": [
        "# show the first 6 lines of the murders dataset from dslabs\n",
        "head(murders)\n",
        "\n",
        "murders <- 5"
      ],
      "metadata": {
        "id": "sd3MgT0v-jga",
        "colab": {
          "base_uri": "https://localhost:8080/",
          "height": 286
        },
        "outputId": "dc615c4b-310e-4514-e381-5637746999f0"
      },
      "execution_count": null,
      "outputs": [
        {
          "output_type": "display_data",
          "data": {
            "text/html": [
              "<table class=\"dataframe\">\n",
              "<caption>A data.frame: 6 × 5</caption>\n",
              "<thead>\n",
              "\t<tr><th></th><th scope=col>state</th><th scope=col>abb</th><th scope=col>region</th><th scope=col>population</th><th scope=col>total</th></tr>\n",
              "\t<tr><th></th><th scope=col>&lt;chr&gt;</th><th scope=col>&lt;chr&gt;</th><th scope=col>&lt;fct&gt;</th><th scope=col>&lt;dbl&gt;</th><th scope=col>&lt;dbl&gt;</th></tr>\n",
              "</thead>\n",
              "<tbody>\n",
              "\t<tr><th scope=row>1</th><td>Alabama   </td><td>AL</td><td>South</td><td> 4779736</td><td> 135</td></tr>\n",
              "\t<tr><th scope=row>2</th><td>Alaska    </td><td>AK</td><td>West </td><td>  710231</td><td>  19</td></tr>\n",
              "\t<tr><th scope=row>3</th><td>Arizona   </td><td>AZ</td><td>West </td><td> 6392017</td><td> 232</td></tr>\n",
              "\t<tr><th scope=row>4</th><td>Arkansas  </td><td>AR</td><td>South</td><td> 2915918</td><td>  93</td></tr>\n",
              "\t<tr><th scope=row>5</th><td>California</td><td>CA</td><td>West </td><td>37253956</td><td>1257</td></tr>\n",
              "\t<tr><th scope=row>6</th><td>Colorado  </td><td>CO</td><td>West </td><td> 5029196</td><td>  65</td></tr>\n",
              "</tbody>\n",
              "</table>\n"
            ],
            "text/markdown": "\nA data.frame: 6 × 5\n\n| <!--/--> | state &lt;chr&gt; | abb &lt;chr&gt; | region &lt;fct&gt; | population &lt;dbl&gt; | total &lt;dbl&gt; |\n|---|---|---|---|---|---|\n| 1 | Alabama    | AL | South |  4779736 |  135 |\n| 2 | Alaska     | AK | West  |   710231 |   19 |\n| 3 | Arizona    | AZ | West  |  6392017 |  232 |\n| 4 | Arkansas   | AR | South |  2915918 |   93 |\n| 5 | California | CA | West  | 37253956 | 1257 |\n| 6 | Colorado   | CO | West  |  5029196 |   65 |\n\n",
            "text/latex": "A data.frame: 6 × 5\n\\begin{tabular}{r|lllll}\n  & state & abb & region & population & total\\\\\n  & <chr> & <chr> & <fct> & <dbl> & <dbl>\\\\\n\\hline\n\t1 & Alabama    & AL & South &  4779736 &  135\\\\\n\t2 & Alaska     & AK & West  &   710231 &   19\\\\\n\t3 & Arizona    & AZ & West  &  6392017 &  232\\\\\n\t4 & Arkansas   & AR & South &  2915918 &   93\\\\\n\t5 & California & CA & West  & 37253956 & 1257\\\\\n\t6 & Colorado   & CO & West  &  5029196 &   65\\\\\n\\end{tabular}\n",
            "text/plain": [
              "  state      abb region population total\n",
              "1 Alabama    AL  South   4779736    135 \n",
              "2 Alaska     AK  West     710231     19 \n",
              "3 Arizona    AZ  West    6392017    232 \n",
              "4 Arkansas   AR  South   2915918     93 \n",
              "5 California CA  West   37253956   1257 \n",
              "6 Colorado   CO  West    5029196     65 "
            ]
          },
          "metadata": {}
        }
      ]
    },
    {
      "cell_type": "markdown",
      "source": [
        "<br>\n",
        "\n",
        "<br>"
      ],
      "metadata": {
        "id": "d4Q1Wy6zjNUP"
      }
    },
    {
      "cell_type": "markdown",
      "source": [
        "### Checking which packages are installed"
      ],
      "metadata": {
        "id": "-f-gf5XtjUFl"
      }
    },
    {
      "cell_type": "markdown",
      "source": [
        "* You can check which packages are installed using the `installed.packages()` function\n",
        "\n",
        "* Note that the `dslabs` package was installed correctly"
      ],
      "metadata": {
        "id": "bwjUZ1g37oeW"
      }
    },
    {
      "cell_type": "code",
      "source": [
        "# list all installed packages\n",
        "installed.packages()"
      ],
      "metadata": {
        "id": "EN3mrCUKjUFm",
        "colab": {
          "base_uri": "https://localhost:8080/",
          "height": 1000
        },
        "outputId": "3d2bba3c-42da-4c56-94fd-0bd8fed02939"
      },
      "execution_count": null,
      "outputs": [
        {
          "output_type": "display_data",
          "data": {
            "text/html": [
              "<table class=\"dataframe\">\n",
              "<caption>A matrix: 176 × 16 of type chr</caption>\n",
              "<thead>\n",
              "\t<tr><th></th><th scope=col>Package</th><th scope=col>LibPath</th><th scope=col>Version</th><th scope=col>Priority</th><th scope=col>Depends</th><th scope=col>Imports</th><th scope=col>LinkingTo</th><th scope=col>Suggests</th><th scope=col>Enhances</th><th scope=col>License</th><th scope=col>License_is_FOSS</th><th scope=col>License_restricts_use</th><th scope=col>OS_type</th><th scope=col>MD5sum</th><th scope=col>NeedsCompilation</th><th scope=col>Built</th></tr>\n",
              "</thead>\n",
              "<tbody>\n",
              "\t<tr><th scope=row>dslabs</th><td><span style=white-space:pre-wrap>dslabs     </span></td><td>/usr/local/lib/R/site-library</td><td><span style=white-space:pre-wrap>0.8.0  </span></td><td><span style=white-space:pre-wrap>NA         </span></td><td><span style=white-space:pre-wrap>R (&gt;= 3.5.0)                 </span></td><td><span style=white-space:pre-wrap>ggplot2                                                                                                                                                              </span></td><td>NA</td><td><span style=white-space:pre-wrap>NA                                                                                                                                                                                                                                                                                                                                                                                                                                                                                                                                                                                                                                                                                                                                                                                                                       </span></td><td><span style=white-space:pre-wrap>NA                                                          </span></td><td><span style=white-space:pre-wrap>Artistic-2.0               </span></td><td>NA</td><td>NA</td><td>NA</td><td>NA</td><td>no </td><td>4.4.2</td></tr>\n",
              "\t<tr><th scope=row>IRdisplay</th><td><span style=white-space:pre-wrap>IRdisplay  </span></td><td>/usr/local/lib/R/site-library</td><td><span style=white-space:pre-wrap>1.1    </span></td><td><span style=white-space:pre-wrap>NA         </span></td><td><span style=white-space:pre-wrap>R (&gt;= 3.0.1)                 </span></td><td><span style=white-space:pre-wrap>methods, repr                                                                                                                                                        </span></td><td>NA</td><td><span style=white-space:pre-wrap>testthat, withr                                                                                                                                                                                                                                                                                                                                                                                                                                                                                                                                                                                                                                                                                                                                                                                                          </span></td><td><span style=white-space:pre-wrap>NA                                                          </span></td><td><span style=white-space:pre-wrap>MIT + file LICENSE         </span></td><td>NA</td><td>NA</td><td>NA</td><td>NA</td><td>no </td><td>4.4.2</td></tr>\n",
              "\t<tr><th scope=row>IRkernel</th><td><span style=white-space:pre-wrap>IRkernel   </span></td><td>/usr/local/lib/R/site-library</td><td><span style=white-space:pre-wrap>1.3.2  </span></td><td><span style=white-space:pre-wrap>NA         </span></td><td><span style=white-space:pre-wrap>R (&gt;= 3.2.0)                 </span></td><td><span style=white-space:pre-wrap>repr (&gt;= 0.4.99), methods, evaluate (&gt;= 0.10), IRdisplay (&gt;=\n",
              "0.3.0.9999), pbdZMQ (&gt;= 0.2-1), crayon, jsonlite (&gt;= 0.9.6),\n",
              "uuid, digest                             </span></td><td>NA</td><td><span style=white-space:pre-wrap>testthat, roxygen2                                                                                                                                                                                                                                                                                                                                                                                                                                                                                                                                                                                                                                                                                                                                                                                                       </span></td><td><span style=white-space:pre-wrap>NA                                                          </span></td><td><span style=white-space:pre-wrap>MIT + file LICENSE         </span></td><td>NA</td><td>NA</td><td>NA</td><td>NA</td><td>no </td><td>4.4.2</td></tr>\n",
              "\t<tr><th scope=row>pbdZMQ</th><td><span style=white-space:pre-wrap>pbdZMQ     </span></td><td>/usr/local/lib/R/site-library</td><td>0.3-13 </td><td><span style=white-space:pre-wrap>NA         </span></td><td><span style=white-space:pre-wrap>R (&gt;= 3.5.0)                 </span></td><td><span style=white-space:pre-wrap>NA                                                                                                                                                                   </span></td><td>NA</td><td><span style=white-space:pre-wrap>NA                                                                                                                                                                                                                                                                                                                                                                                                                                                                                                                                                                                                                                                                                                                                                                                                                       </span></td><td><span style=white-space:pre-wrap>NA                                                          </span></td><td><span style=white-space:pre-wrap>GPL-3                      </span></td><td>NA</td><td>NA</td><td>NA</td><td>NA</td><td>yes</td><td>4.4.2</td></tr>\n",
              "\t<tr><th scope=row>repr</th><td><span style=white-space:pre-wrap>repr       </span></td><td>/usr/local/lib/R/site-library</td><td><span style=white-space:pre-wrap>1.1.7  </span></td><td><span style=white-space:pre-wrap>NA         </span></td><td><span style=white-space:pre-wrap>R (&gt;= 3.0.1)                 </span></td><td><span style=white-space:pre-wrap>utils, grDevices, htmltools, jsonlite, pillar (&gt;= 1.4.0),\n",
              "base64enc                                                                                                 </span></td><td>NA</td><td><span style=white-space:pre-wrap>methods, highr, Cairo, stringr, testthat (&gt;= 3.0.0), leaflet                                                                                                                                                                                                                                                                                                                                                                                                                                                                                                                                                                                                                                                                                                                                                             </span></td><td>data.table, tibble, htmlwidgets, vegalite, plotly, geojsonio</td><td><span style=white-space:pre-wrap>GPL (&gt;= 3)                 </span></td><td>NA</td><td>NA</td><td>NA</td><td>NA</td><td>no </td><td>4.4.2</td></tr>\n",
              "\t<tr><th scope=row>askpass</th><td><span style=white-space:pre-wrap>askpass    </span></td><td><span style=white-space:pre-wrap>/usr/lib/R/site-library      </span></td><td><span style=white-space:pre-wrap>1.2.1  </span></td><td><span style=white-space:pre-wrap>NA         </span></td><td><span style=white-space:pre-wrap>NA                           </span></td><td><span style=white-space:pre-wrap>sys (&gt;= 2.1)                                                                                                                                                         </span></td><td>NA</td><td><span style=white-space:pre-wrap>testthat                                                                                                                                                                                                                                                                                                                                                                                                                                                                                                                                                                                                                                                                                                                                                                                                                 </span></td><td><span style=white-space:pre-wrap>NA                                                          </span></td><td><span style=white-space:pre-wrap>MIT + file LICENSE         </span></td><td>NA</td><td>NA</td><td>NA</td><td>NA</td><td>yes</td><td>4.4.0</td></tr>\n",
              "\t<tr><th scope=row>backports</th><td><span style=white-space:pre-wrap>backports  </span></td><td><span style=white-space:pre-wrap>/usr/lib/R/site-library      </span></td><td><span style=white-space:pre-wrap>1.5.0  </span></td><td><span style=white-space:pre-wrap>NA         </span></td><td><span style=white-space:pre-wrap>R (&gt;= 3.0.0)                 </span></td><td><span style=white-space:pre-wrap>NA                                                                                                                                                                   </span></td><td>NA</td><td><span style=white-space:pre-wrap>NA                                                                                                                                                                                                                                                                                                                                                                                                                                                                                                                                                                                                                                                                                                                                                                                                                       </span></td><td><span style=white-space:pre-wrap>NA                                                          </span></td><td><span style=white-space:pre-wrap>GPL-2 | GPL-3              </span></td><td>NA</td><td>NA</td><td>NA</td><td>NA</td><td>yes</td><td>4.4.0</td></tr>\n",
              "\t<tr><th scope=row>base64enc</th><td><span style=white-space:pre-wrap>base64enc  </span></td><td><span style=white-space:pre-wrap>/usr/lib/R/site-library      </span></td><td><span style=white-space:pre-wrap>0.1-3  </span></td><td><span style=white-space:pre-wrap>NA         </span></td><td><span style=white-space:pre-wrap>R (&gt;= 2.9.0)                 </span></td><td><span style=white-space:pre-wrap>NA                                                                                                                                                                   </span></td><td>NA</td><td><span style=white-space:pre-wrap>NA                                                                                                                                                                                                                                                                                                                                                                                                                                                                                                                                                                                                                                                                                                                                                                                                                       </span></td><td><span style=white-space:pre-wrap>png                                                         </span></td><td><span style=white-space:pre-wrap>GPL-2 | GPL-3              </span></td><td>NA</td><td>NA</td><td>NA</td><td>NA</td><td>yes</td><td>4.0.2</td></tr>\n",
              "\t<tr><th scope=row>bit</th><td><span style=white-space:pre-wrap>bit        </span></td><td><span style=white-space:pre-wrap>/usr/lib/R/site-library      </span></td><td>4.5.0.1</td><td><span style=white-space:pre-wrap>NA         </span></td><td><span style=white-space:pre-wrap>R (&gt;= 3.4.0)                 </span></td><td><span style=white-space:pre-wrap>NA                                                                                                                                                                   </span></td><td>NA</td><td><span style=white-space:pre-wrap>testthat (&gt;= 0.11.0), roxygen2, knitr, markdown, rmarkdown,\n",
              "microbenchmark, bit64 (&gt;= 4.0.0), ff (&gt;= 4.0.0)                                                                                                                                                                                                                                                                                                                                                                                                                                                                                                                                                                                                                                                                                                             </span></td><td><span style=white-space:pre-wrap>NA                                                          </span></td><td><span style=white-space:pre-wrap>GPL-2 | GPL-3              </span></td><td>NA</td><td>NA</td><td>NA</td><td>NA</td><td>yes</td><td>4.4.0</td></tr>\n",
              "\t<tr><th scope=row>bit64</th><td><span style=white-space:pre-wrap>bit64      </span></td><td><span style=white-space:pre-wrap>/usr/lib/R/site-library      </span></td><td>4.6.0-1</td><td><span style=white-space:pre-wrap>NA         </span></td><td>R (&gt;= 3.4.0), bit (&gt;= 4.0.0) </td><td><span style=white-space:pre-wrap>graphics, methods, stats, utils                                                                                                                                      </span></td><td>NA</td><td><span style=white-space:pre-wrap>testthat (&gt;= 3.0.3), withr                                                                                                                                                                                                                                                                                                                                                                                                                                                                                                                                                                                                                                                                                                                                                                                               </span></td><td><span style=white-space:pre-wrap>NA                                                          </span></td><td><span style=white-space:pre-wrap>GPL-2 | GPL-3              </span></td><td>NA</td><td>NA</td><td>NA</td><td>NA</td><td>yes</td><td>4.4.0</td></tr>\n",
              "\t<tr><th scope=row>blob</th><td><span style=white-space:pre-wrap>blob       </span></td><td><span style=white-space:pre-wrap>/usr/lib/R/site-library      </span></td><td><span style=white-space:pre-wrap>1.2.4  </span></td><td><span style=white-space:pre-wrap>NA         </span></td><td><span style=white-space:pre-wrap>NA                           </span></td><td><span style=white-space:pre-wrap>methods, rlang, vctrs (&gt;= 0.2.1)                                                                                                                                     </span></td><td>NA</td><td><span style=white-space:pre-wrap>covr, crayon, pillar (&gt;= 1.2.1), testthat                                                                                                                                                                                                                                                                                                                                                                                                                                                                                                                                                                                                                                                                                                                                                                                </span></td><td><span style=white-space:pre-wrap>NA                                                          </span></td><td><span style=white-space:pre-wrap>MIT + file LICENSE         </span></td><td>NA</td><td>NA</td><td>NA</td><td>NA</td><td>no </td><td>4.2.0</td></tr>\n",
              "\t<tr><th scope=row>boot</th><td><span style=white-space:pre-wrap>boot       </span></td><td><span style=white-space:pre-wrap>/usr/lib/R/site-library      </span></td><td>1.3-31 </td><td>recommended</td><td>R (&gt;= 3.0.0), graphics, stats</td><td><span style=white-space:pre-wrap>NA                                                                                                                                                                   </span></td><td>NA</td><td><span style=white-space:pre-wrap>MASS, survival                                                                                                                                                                                                                                                                                                                                                                                                                                                                                                                                                                                                                                                                                                                                                                                                           </span></td><td><span style=white-space:pre-wrap>NA                                                          </span></td><td><span style=white-space:pre-wrap>Unlimited                  </span></td><td>NA</td><td>NA</td><td>NA</td><td>NA</td><td>no </td><td>4.4.0</td></tr>\n",
              "\t<tr><th scope=row>brew</th><td><span style=white-space:pre-wrap>brew       </span></td><td><span style=white-space:pre-wrap>/usr/lib/R/site-library      </span></td><td>1.0-10 </td><td><span style=white-space:pre-wrap>NA         </span></td><td><span style=white-space:pre-wrap>NA                           </span></td><td><span style=white-space:pre-wrap>NA                                                                                                                                                                   </span></td><td>NA</td><td><span style=white-space:pre-wrap>testthat (&gt;= 3.0.0)                                                                                                                                                                                                                                                                                                                                                                                                                                                                                                                                                                                                                                                                                                                                                                                                      </span></td><td><span style=white-space:pre-wrap>NA                                                          </span></td><td><span style=white-space:pre-wrap>GPL (&gt;= 2)                 </span></td><td>NA</td><td>NA</td><td>NA</td><td>NA</td><td>no </td><td>4.3.0</td></tr>\n",
              "\t<tr><th scope=row>brio</th><td><span style=white-space:pre-wrap>brio       </span></td><td><span style=white-space:pre-wrap>/usr/lib/R/site-library      </span></td><td><span style=white-space:pre-wrap>1.1.5  </span></td><td><span style=white-space:pre-wrap>NA         </span></td><td><span style=white-space:pre-wrap>R (&gt;= 3.6)                   </span></td><td><span style=white-space:pre-wrap>NA                                                                                                                                                                   </span></td><td>NA</td><td><span style=white-space:pre-wrap>covr, testthat (&gt;= 3.0.0)                                                                                                                                                                                                                                                                                                                                                                                                                                                                                                                                                                                                                                                                                                                                                                                                </span></td><td><span style=white-space:pre-wrap>NA                                                          </span></td><td><span style=white-space:pre-wrap>MIT + file LICENSE         </span></td><td>NA</td><td>NA</td><td>NA</td><td>NA</td><td>yes</td><td>4.3.0</td></tr>\n",
              "\t<tr><th scope=row>broom</th><td><span style=white-space:pre-wrap>broom      </span></td><td><span style=white-space:pre-wrap>/usr/lib/R/site-library      </span></td><td><span style=white-space:pre-wrap>1.0.7  </span></td><td><span style=white-space:pre-wrap>NA         </span></td><td><span style=white-space:pre-wrap>R (&gt;= 3.5)                   </span></td><td><span style=white-space:pre-wrap>backports, dplyr (&gt;= 1.0.0), generics (&gt;= 0.0.2), glue,\n",
              "lifecycle, purrr, rlang, stringr, tibble (&gt;= 3.0.0), tidyr (&gt;=\n",
              "1.0.0)                                      </span></td><td>NA</td><td>AER, AUC, bbmle, betareg (&gt;= 3.2-1), biglm, binGroup, boot,\n",
              "btergm (&gt;= 1.10.6), car (&gt;= 3.1-2), carData, caret, cluster,\n",
              "cmprsk, coda, covr, drc, e1071, emmeans, epiR, ergm (&gt;=\n",
              "3.10.4), fixest (&gt;= 0.9.0), gam (&gt;= 1.15), gee, geepack,\n",
              "ggplot2, glmnet, glmnetUtils, gmm, Hmisc, irlba, interp,\n",
              "joineRML, Kendall, knitr, ks, Lahman, lavaan (&gt;= 0.6.18),\n",
              "leaps, lfe, lm.beta, lme4, lmodel2, lmtest (&gt;= 0.9.38),\n",
              "lsmeans, maps, margins, MASS, mclust, mediation, metafor, mfx,\n",
              "mgcv, mlogit, modeldata, modeltests (&gt;= 0.1.6), muhaz,\n",
              "multcomp, network, nnet, orcutt (&gt;= 2.2), ordinal, plm, poLCA,\n",
              "psych, quantreg, rmarkdown, robust, robustbase, rsample,\n",
              "sandwich, spdep (&gt;= 1.1), spatialreg, speedglm, spelling,\n",
              "survey, survival (&gt;= 3.6-4), systemfit, testthat (&gt;= 2.1.0),\n",
              "tseries, vars, zoo</td><td><span style=white-space:pre-wrap>NA                                                          </span></td><td><span style=white-space:pre-wrap>MIT + file LICENSE         </span></td><td>NA</td><td>NA</td><td>NA</td><td>NA</td><td>no </td><td>4.4.0</td></tr>\n",
              "\t<tr><th scope=row>bslib</th><td><span style=white-space:pre-wrap>bslib      </span></td><td><span style=white-space:pre-wrap>/usr/lib/R/site-library      </span></td><td><span style=white-space:pre-wrap>0.8.0  </span></td><td><span style=white-space:pre-wrap>NA         </span></td><td><span style=white-space:pre-wrap>R (&gt;= 2.10)                  </span></td><td>base64enc, cachem, fastmap (&gt;= 1.1.1), grDevices, htmltools\n",
              "(&gt;= 0.5.8), jquerylib (&gt;= 0.1.3), jsonlite, lifecycle, memoise\n",
              "(&gt;= 2.0.1), mime, rlang, sass (&gt;= 0.4.9)</td><td>NA</td><td><span style=white-space:pre-wrap>bsicons, curl, fontawesome, future, ggplot2, knitr, magrittr,\n",
              "rappdirs, rmarkdown (&gt;= 2.7), shiny (&gt; 1.8.1), testthat,\n",
              "thematic, withr                                                                                                                                                                                                                                                                                                                                                                                                                                                                                                                                                                                                                                                                                 </span></td><td><span style=white-space:pre-wrap>NA                                                          </span></td><td><span style=white-space:pre-wrap>MIT + file LICENSE         </span></td><td>NA</td><td>NA</td><td>NA</td><td>NA</td><td>no </td><td>4.4.0</td></tr>\n",
              "\t<tr><th scope=row>cachem</th><td><span style=white-space:pre-wrap>cachem     </span></td><td><span style=white-space:pre-wrap>/usr/lib/R/site-library      </span></td><td><span style=white-space:pre-wrap>1.1.0  </span></td><td><span style=white-space:pre-wrap>NA         </span></td><td><span style=white-space:pre-wrap>NA                           </span></td><td><span style=white-space:pre-wrap>rlang, fastmap (&gt;= 1.2.0)                                                                                                                                            </span></td><td>NA</td><td><span style=white-space:pre-wrap>testthat                                                                                                                                                                                                                                                                                                                                                                                                                                                                                                                                                                                                                                                                                                                                                                                                                 </span></td><td><span style=white-space:pre-wrap>NA                                                          </span></td><td><span style=white-space:pre-wrap>MIT + file LICENSE         </span></td><td>NA</td><td>NA</td><td>NA</td><td>NA</td><td>yes</td><td>4.4.0</td></tr>\n",
              "\t<tr><th scope=row>callr</th><td><span style=white-space:pre-wrap>callr      </span></td><td><span style=white-space:pre-wrap>/usr/lib/R/site-library      </span></td><td><span style=white-space:pre-wrap>3.7.6  </span></td><td><span style=white-space:pre-wrap>NA         </span></td><td><span style=white-space:pre-wrap>R (&gt;= 3.4)                   </span></td><td><span style=white-space:pre-wrap>processx (&gt;= 3.6.1), R6, utils                                                                                                                                       </span></td><td>NA</td><td><span style=white-space:pre-wrap>asciicast (&gt;= 2.3.1), cli (&gt;= 1.1.0), mockery, ps, rprojroot,\n",
              "spelling, testthat (&gt;= 3.2.0), withr (&gt;= 2.3.0)                                                                                                                                                                                                                                                                                                                                                                                                                                                                                                                                                                                                                                                                                                           </span></td><td><span style=white-space:pre-wrap>NA                                                          </span></td><td><span style=white-space:pre-wrap>MIT + file LICENSE         </span></td><td>NA</td><td>NA</td><td>NA</td><td>NA</td><td>no </td><td>4.3.0</td></tr>\n",
              "\t<tr><th scope=row>cellranger</th><td>cellranger </td><td><span style=white-space:pre-wrap>/usr/lib/R/site-library      </span></td><td><span style=white-space:pre-wrap>1.1.0  </span></td><td><span style=white-space:pre-wrap>NA         </span></td><td><span style=white-space:pre-wrap>R (&gt;= 3.0.0)                 </span></td><td><span style=white-space:pre-wrap>rematch, tibble                                                                                                                                                      </span></td><td>NA</td><td><span style=white-space:pre-wrap>covr, testthat (&gt;= 1.0.0), knitr, rmarkdown                                                                                                                                                                                                                                                                                                                                                                                                                                                                                                                                                                                                                                                                                                                                                                              </span></td><td><span style=white-space:pre-wrap>NA                                                          </span></td><td><span style=white-space:pre-wrap>MIT + file LICENSE         </span></td><td>NA</td><td>NA</td><td>NA</td><td>NA</td><td>no </td><td>4.0.1</td></tr>\n",
              "\t<tr><th scope=row>class</th><td><span style=white-space:pre-wrap>class      </span></td><td><span style=white-space:pre-wrap>/usr/lib/R/site-library      </span></td><td>7.3-23 </td><td>recommended</td><td><span style=white-space:pre-wrap>R (&gt;= 3.0.0), stats, utils   </span></td><td><span style=white-space:pre-wrap>MASS                                                                                                                                                                 </span></td><td>NA</td><td><span style=white-space:pre-wrap>NA                                                                                                                                                                                                                                                                                                                                                                                                                                                                                                                                                                                                                                                                                                                                                                                                                       </span></td><td><span style=white-space:pre-wrap>NA                                                          </span></td><td><span style=white-space:pre-wrap>GPL-2 | GPL-3              </span></td><td>NA</td><td>NA</td><td>NA</td><td>NA</td><td>yes</td><td>4.4.0</td></tr>\n",
              "\t<tr><th scope=row>cli</th><td><span style=white-space:pre-wrap>cli        </span></td><td><span style=white-space:pre-wrap>/usr/lib/R/site-library      </span></td><td><span style=white-space:pre-wrap>3.6.3  </span></td><td><span style=white-space:pre-wrap>NA         </span></td><td><span style=white-space:pre-wrap>R (&gt;= 3.4)                   </span></td><td><span style=white-space:pre-wrap>utils                                                                                                                                                                </span></td><td>NA</td><td><span style=white-space:pre-wrap>callr, covr, crayon, digest, glue (&gt;= 1.6.0), grDevices,\n",
              "htmltools, htmlwidgets, knitr, methods, mockery, processx, ps\n",
              "(&gt;= 1.3.4.9000), rlang (&gt;= 1.0.2.9003), rmarkdown, rprojroot,\n",
              "rstudioapi, testthat, tibble, whoami, withr                                                                                                                                                                                                                                                                                                                                                                                                                                                                                                                                                                                      </span></td><td><span style=white-space:pre-wrap>NA                                                          </span></td><td><span style=white-space:pre-wrap>MIT + file LICENSE         </span></td><td>NA</td><td>NA</td><td>NA</td><td>NA</td><td>yes</td><td>4.4.0</td></tr>\n",
              "\t<tr><th scope=row>clipr</th><td><span style=white-space:pre-wrap>clipr      </span></td><td><span style=white-space:pre-wrap>/usr/lib/R/site-library      </span></td><td><span style=white-space:pre-wrap>0.8.0  </span></td><td><span style=white-space:pre-wrap>NA         </span></td><td><span style=white-space:pre-wrap>NA                           </span></td><td><span style=white-space:pre-wrap>utils                                                                                                                                                                </span></td><td>NA</td><td><span style=white-space:pre-wrap>covr, knitr, rmarkdown, rstudioapi (&gt;= 0.5), testthat (&gt;=\n",
              "2.0.0)                                                                                                                                                                                                                                                                                                                                                                                                                                                                                                                                                                                                                                                                                                                                                        </span></td><td><span style=white-space:pre-wrap>NA                                                          </span></td><td><span style=white-space:pre-wrap>GPL-3                      </span></td><td>NA</td><td>NA</td><td>NA</td><td>NA</td><td>no </td><td>4.2.0</td></tr>\n",
              "\t<tr><th scope=row>cluster</th><td><span style=white-space:pre-wrap>cluster    </span></td><td><span style=white-space:pre-wrap>/usr/lib/R/site-library      </span></td><td><span style=white-space:pre-wrap>2.1.8  </span></td><td>recommended</td><td><span style=white-space:pre-wrap>R (&gt;= 3.5.0)                 </span></td><td><span style=white-space:pre-wrap>graphics, grDevices, stats, utils                                                                                                                                    </span></td><td>NA</td><td><span style=white-space:pre-wrap>MASS, Matrix                                                                                                                                                                                                                                                                                                                                                                                                                                                                                                                                                                                                                                                                                                                                                                                                             </span></td><td><span style=white-space:pre-wrap>mvoutlier, fpc, ellipse, sfsmisc                            </span></td><td><span style=white-space:pre-wrap>GPL (&gt;= 2)                 </span></td><td>NA</td><td>NA</td><td>NA</td><td>NA</td><td>yes</td><td>4.4.0</td></tr>\n",
              "\t<tr><th scope=row>codetools</th><td><span style=white-space:pre-wrap>codetools  </span></td><td><span style=white-space:pre-wrap>/usr/lib/R/site-library      </span></td><td>0.2-20 </td><td>recommended</td><td><span style=white-space:pre-wrap>R (&gt;= 2.1)                   </span></td><td><span style=white-space:pre-wrap>NA                                                                                                                                                                   </span></td><td>NA</td><td><span style=white-space:pre-wrap>NA                                                                                                                                                                                                                                                                                                                                                                                                                                                                                                                                                                                                                                                                                                                                                                                                                       </span></td><td><span style=white-space:pre-wrap>NA                                                          </span></td><td><span style=white-space:pre-wrap>GPL                        </span></td><td>NA</td><td>NA</td><td>NA</td><td>NA</td><td>no </td><td>4.3.0</td></tr>\n",
              "\t<tr><th scope=row>colorspace</th><td>colorspace </td><td><span style=white-space:pre-wrap>/usr/lib/R/site-library      </span></td><td><span style=white-space:pre-wrap>2.1-1  </span></td><td><span style=white-space:pre-wrap>NA         </span></td><td><span style=white-space:pre-wrap>R (&gt;= 3.0.0), methods        </span></td><td><span style=white-space:pre-wrap>graphics, grDevices, stats                                                                                                                                           </span></td><td>NA</td><td><span style=white-space:pre-wrap>datasets, utils, KernSmooth, MASS, kernlab, mvtnorm, vcd,\n",
              "tcltk, shiny, shinyjs, ggplot2, dplyr, scales, grid, png, jpeg,\n",
              "knitr, rmarkdown, RColorBrewer, rcartocolor, scico, viridis,\n",
              "wesanderson                                                                                                                                                                                                                                                                                                                                                                                                                                                                                                                                                                                                                    </span></td><td><span style=white-space:pre-wrap>NA                                                          </span></td><td>BSD_3_clause + file LICENSE</td><td>NA</td><td>NA</td><td>NA</td><td>NA</td><td>yes</td><td>4.4.0</td></tr>\n",
              "\t<tr><th scope=row>commonmark</th><td>commonmark </td><td>/usr/lib/R/site-library      </td><td>1.9.2  </td><td>NA         </td><td>NA                           </td><td>NA                                                                                                                                                                   </td><td>NA</td><td>curl, testthat, xml2                                                                                                                                                                                                                                                                                                                                                                                                                                                                                                                                                                                                                                                                                                                                                                                                     </td><td>NA                                                          </td><td>BSD_2_clause + file LICENSE</td><td>NA</td><td>NA</td><td>NA</td><td>NA</td><td>yes</td><td>4.4.0</td></tr>\n",
              "\t<tr><th scope=row>conflicted</th><td>conflicted </td><td><span style=white-space:pre-wrap>/usr/lib/R/site-library      </span></td><td><span style=white-space:pre-wrap>1.2.0  </span></td><td><span style=white-space:pre-wrap>NA         </span></td><td><span style=white-space:pre-wrap>R (&gt;= 3.2)                   </span></td><td><span style=white-space:pre-wrap>cli (&gt;= 3.4.0), memoise, rlang (&gt;= 1.0.0)                                                                                                                            </span></td><td>NA</td><td><span style=white-space:pre-wrap>callr, covr, dplyr, Matrix, methods, pkgload, testthat (&gt;=\n",
              "3.0.0), withr                                                                                                                                                                                                                                                                                                                                                                                                                                                                                                                                                                                                                                                                                                                                                </span></td><td><span style=white-space:pre-wrap>NA                                                          </span></td><td><span style=white-space:pre-wrap>MIT + file LICENSE         </span></td><td>NA</td><td>NA</td><td>NA</td><td>NA</td><td>no </td><td>4.2.0</td></tr>\n",
              "\t<tr><th scope=row>cpp11</th><td><span style=white-space:pre-wrap>cpp11      </span></td><td><span style=white-space:pre-wrap>/usr/lib/R/site-library      </span></td><td><span style=white-space:pre-wrap>0.5.1  </span></td><td><span style=white-space:pre-wrap>NA         </span></td><td><span style=white-space:pre-wrap>R (&gt;= 4.0.0)                 </span></td><td><span style=white-space:pre-wrap>NA                                                                                                                                                                   </span></td><td>NA</td><td><span style=white-space:pre-wrap>bench, brio, callr, cli, covr, decor, desc, ggplot2, glue,\n",
              "knitr, lobstr, mockery, progress, rmarkdown, scales, Rcpp,\n",
              "testthat (&gt;= 3.2.0), tibble, utils, vctrs, withr                                                                                                                                                                                                                                                                                                                                                                                                                                                                                                                                                                                                                                                 </span></td><td><span style=white-space:pre-wrap>NA                                                          </span></td><td><span style=white-space:pre-wrap>MIT + file LICENSE         </span></td><td>NA</td><td>NA</td><td>NA</td><td>NA</td><td>no </td><td>4.4.0</td></tr>\n",
              "\t<tr><th scope=row>crayon</th><td>crayon     </td><td>/usr/lib/R/site-library      </td><td>1.5.3  </td><td>NA         </td><td>NA                           </td><td>grDevices, methods, utils                                                                                                                                            </td><td>NA</td><td>mockery, rstudioapi, testthat, withr                                                                                                                                                                                                                                                                                                                                                                                                                                                                                                                                                                                                                                                                                                                                                                                     </td><td>NA                                                          </td><td>MIT + file LICENSE         </td><td>NA</td><td>NA</td><td>NA</td><td>NA</td><td>no </td><td>4.4.0</td></tr>\n",
              "\t<tr><th scope=row>credentials</th><td>credentials</td><td><span style=white-space:pre-wrap>/usr/lib/R/site-library      </span></td><td><span style=white-space:pre-wrap>2.0.2  </span></td><td><span style=white-space:pre-wrap>NA         </span></td><td><span style=white-space:pre-wrap>NA                           </span></td><td><span style=white-space:pre-wrap>openssl (&gt;= 1.3), sys (&gt;= 2.1), curl, jsonlite, askpass                                                                                                              </span></td><td>NA</td><td><span style=white-space:pre-wrap>testthat, knitr, rmarkdown                                                                                                                                                                                                                                                                                                                                                                                                                                                                                                                                                                                                                                                                                                                                                                                               </span></td><td><span style=white-space:pre-wrap>NA                                                          </span></td><td><span style=white-space:pre-wrap>MIT + file LICENSE         </span></td><td>NA</td><td>NA</td><td>NA</td><td>NA</td><td>no </td><td>4.4.0</td></tr>\n",
              "\t<tr><th scope=row>⋮</th><td>⋮</td><td>⋮</td><td>⋮</td><td>⋮</td><td>⋮</td><td>⋮</td><td>⋮</td><td>⋮</td><td>⋮</td><td>⋮</td><td>⋮</td><td>⋮</td><td>⋮</td><td>⋮</td><td>⋮</td><td>⋮</td></tr>\n",
              "\t<tr><th scope=row>urlchecker</th><td>urlchecker </td><td>/usr/lib/R/site-library</td><td>1.0.1 </td><td><span style=white-space:pre-wrap>NA  </span></td><td><span style=white-space:pre-wrap>R (&gt;= 3.3)   </span></td><td><span style=white-space:pre-wrap>cli, curl, tools, xml2                                                                                                                                                                                                                                                                               </span></td><td><span style=white-space:pre-wrap>NA                                                    </span></td><td><span style=white-space:pre-wrap>covr                                                                                                                                                                                                     </span></td><td><span style=white-space:pre-wrap>NA                                                   </span></td><td><span style=white-space:pre-wrap>GPL-3                                 </span></td><td>NA</td><td>NA</td><td>NA</td><td>NA</td><td>no </td><td>4.2.0</td></tr>\n",
              "\t<tr><th scope=row>usethis</th><td><span style=white-space:pre-wrap>usethis    </span></td><td>/usr/lib/R/site-library</td><td>3.1.0 </td><td><span style=white-space:pre-wrap>NA  </span></td><td><span style=white-space:pre-wrap>R (&gt;= 3.6)   </span></td><td>cli (&gt;= 3.0.1), clipr (&gt;= 0.3.0), crayon, curl (&gt;= 2.7), desc\n",
              "(&gt;= 1.4.2), fs (&gt;= 1.3.0), gert (&gt;= 1.4.1), gh (&gt;= 1.2.1), glue\n",
              "(&gt;= 1.3.0), jsonlite, lifecycle (&gt;= 1.0.0), purrr, rappdirs,\n",
              "rlang (&gt;= 1.1.0), rprojroot (&gt;= 1.2), rstudioapi, stats, tools,\n",
              "utils, whisker, withr (&gt;= 2.3.0), yaml</td><td><span style=white-space:pre-wrap>NA                                                    </span></td><td><span style=white-space:pre-wrap>covr, knitr, magick, pkgload (&gt;= 1.3.2.1), rmarkdown,\n",
              "roxygen2 (&gt;= 7.1.2), spelling (&gt;= 1.2), styler (&gt;= 1.2.0),\n",
              "testthat (&gt;= 3.1.8)                                                                   </span></td><td><span style=white-space:pre-wrap>NA                                                   </span></td><td><span style=white-space:pre-wrap>MIT + file LICENSE                    </span></td><td>NA</td><td>NA</td><td>NA</td><td>NA</td><td>no </td><td>4.4.0</td></tr>\n",
              "\t<tr><th scope=row>utf8</th><td><span style=white-space:pre-wrap>utf8       </span></td><td>/usr/lib/R/site-library</td><td>1.2.4 </td><td><span style=white-space:pre-wrap>NA  </span></td><td><span style=white-space:pre-wrap>R (&gt;= 2.10)  </span></td><td><span style=white-space:pre-wrap>NA                                                                                                                                                                                                                                                                                                   </span></td><td><span style=white-space:pre-wrap>NA                                                    </span></td><td><span style=white-space:pre-wrap>cli, covr, knitr, rlang, rmarkdown, testthat (&gt;= 3.0.0),\n",
              "withr                                                                                                                                          </span></td><td><span style=white-space:pre-wrap>NA                                                   </span></td><td>Apache License (== 2.0) | file LICENSE</td><td>NA</td><td>NA</td><td>NA</td><td>NA</td><td>yes</td><td>4.3.0</td></tr>\n",
              "\t<tr><th scope=row>uuid</th><td><span style=white-space:pre-wrap>uuid       </span></td><td>/usr/lib/R/site-library</td><td>1.2-1 </td><td><span style=white-space:pre-wrap>NA  </span></td><td>R (&gt;= 2.9.0) </td><td><span style=white-space:pre-wrap>NA                                                                                                                                                                                                                                                                                                   </span></td><td><span style=white-space:pre-wrap>NA                                                    </span></td><td><span style=white-space:pre-wrap>NA                                                                                                                                                                                                       </span></td><td><span style=white-space:pre-wrap>NA                                                   </span></td><td><span style=white-space:pre-wrap>MIT + file LICENSE                    </span></td><td>NA</td><td>NA</td><td>NA</td><td>NA</td><td>yes</td><td>4.4.0</td></tr>\n",
              "\t<tr><th scope=row>vctrs</th><td><span style=white-space:pre-wrap>vctrs      </span></td><td>/usr/lib/R/site-library</td><td>0.6.5 </td><td><span style=white-space:pre-wrap>NA  </span></td><td>R (&gt;= 3.5.0) </td><td><span style=white-space:pre-wrap>cli (&gt;= 3.4.0), glue, lifecycle (&gt;= 1.0.3), rlang (&gt;= 1.1.0)                                                                                                                                                                                                                                         </span></td><td><span style=white-space:pre-wrap>NA                                                    </span></td><td><span style=white-space:pre-wrap>bit64, covr, crayon, dplyr (&gt;= 0.8.5), generics, knitr,\n",
              "pillar (&gt;= 1.4.4), pkgdown (&gt;= 2.0.1), rmarkdown, testthat (&gt;=\n",
              "3.0.0), tibble (&gt;= 3.1.3), waldo (&gt;= 0.2.0), withr, xml2,\n",
              "zeallot              </span></td><td><span style=white-space:pre-wrap>NA                                                   </span></td><td><span style=white-space:pre-wrap>MIT + file LICENSE                    </span></td><td>NA</td><td>NA</td><td>NA</td><td>NA</td><td>yes</td><td>4.3.0</td></tr>\n",
              "\t<tr><th scope=row>viridisLite</th><td>viridisLite</td><td>/usr/lib/R/site-library</td><td>0.4.2 </td><td><span style=white-space:pre-wrap>NA  </span></td><td><span style=white-space:pre-wrap>R (&gt;= 2.10)  </span></td><td><span style=white-space:pre-wrap>NA                                                                                                                                                                                                                                                                                                   </span></td><td><span style=white-space:pre-wrap>NA                                                    </span></td><td><span style=white-space:pre-wrap>hexbin (&gt;= 1.27.0), ggplot2 (&gt;= 1.0.1), testthat, covr                                                                                                                                                   </span></td><td><span style=white-space:pre-wrap>NA                                                   </span></td><td><span style=white-space:pre-wrap>MIT + file LICENSE                    </span></td><td>NA</td><td>NA</td><td>NA</td><td>NA</td><td>no </td><td>4.2.0</td></tr>\n",
              "\t<tr><th scope=row>vroom</th><td><span style=white-space:pre-wrap>vroom      </span></td><td>/usr/lib/R/site-library</td><td>1.6.5 </td><td><span style=white-space:pre-wrap>NA  </span></td><td><span style=white-space:pre-wrap>R (&gt;= 3.6)   </span></td><td><span style=white-space:pre-wrap>bit64, cli (&gt;= 3.2.0), crayon, glue, hms, lifecycle (&gt;=\n",
              "1.0.3), methods, rlang (&gt;= 0.4.2), stats, tibble (&gt;= 2.0.0),\n",
              "tidyselect, tzdb (&gt;= 0.1.1), vctrs (&gt;= 0.2.0), withr                                                                                                                          </span></td><td>cpp11 (&gt;= 0.2.0), progress (&gt;= 1.2.1), tzdb (&gt;= 0.1.1)</td><td><span style=white-space:pre-wrap>archive, bench (&gt;= 1.1.0), covr, curl, dplyr, forcats, fs,\n",
              "ggplot2, knitr, patchwork, prettyunits, purrr, rmarkdown,\n",
              "rstudioapi, scales, spelling, testthat (&gt;= 2.1.0), tidyr,\n",
              "utils, waldo, xml2     </span></td><td><span style=white-space:pre-wrap>NA                                                   </span></td><td><span style=white-space:pre-wrap>MIT + file LICENSE                    </span></td><td>NA</td><td>NA</td><td>NA</td><td>NA</td><td>yes</td><td>4.3.0</td></tr>\n",
              "\t<tr><th scope=row>waldo</th><td><span style=white-space:pre-wrap>waldo      </span></td><td>/usr/lib/R/site-library</td><td>0.6.1 </td><td><span style=white-space:pre-wrap>NA  </span></td><td><span style=white-space:pre-wrap>R (&gt;= 4.0)   </span></td><td><span style=white-space:pre-wrap>cli, diffobj (&gt;= 0.3.4), glue, methods, rlang (&gt;= 1.1.0)                                                                                                                                                                                                                                             </span></td><td><span style=white-space:pre-wrap>NA                                                    </span></td><td><span style=white-space:pre-wrap>bit64, R6, S7, testthat (&gt;= 3.0.0), withr, xml2                                                                                                                                                          </span></td><td><span style=white-space:pre-wrap>NA                                                   </span></td><td><span style=white-space:pre-wrap>MIT + file LICENSE                    </span></td><td>NA</td><td>NA</td><td>NA</td><td>NA</td><td>no </td><td>4.4.0</td></tr>\n",
              "\t<tr><th scope=row>whisker</th><td>whisker    </td><td>/usr/lib/R/site-library</td><td>0.4.1 </td><td>NA  </td><td>NA           </td><td>NA                                                                                                                                                                                                                                                                                                   </td><td>NA                                                    </td><td>markdown                                                                                                                                                                                                 </td><td>NA                                                   </td><td>GPL-3                                 </td><td>NA</td><td>NA</td><td>NA</td><td>NA</td><td>no </td><td>4.2.0</td></tr>\n",
              "\t<tr><th scope=row>withr</th><td><span style=white-space:pre-wrap>withr      </span></td><td>/usr/lib/R/site-library</td><td>3.0.2 </td><td><span style=white-space:pre-wrap>NA  </span></td><td>R (&gt;= 3.6.0) </td><td><span style=white-space:pre-wrap>graphics, grDevices                                                                                                                                                                                                                                                                                  </span></td><td><span style=white-space:pre-wrap>NA                                                    </span></td><td><span style=white-space:pre-wrap>callr, DBI, knitr, methods, rlang, rmarkdown (&gt;= 2.12),\n",
              "RSQLite, testthat (&gt;= 3.0.0)                                                                                                                    </span></td><td><span style=white-space:pre-wrap>NA                                                   </span></td><td><span style=white-space:pre-wrap>MIT + file LICENSE                    </span></td><td>NA</td><td>NA</td><td>NA</td><td>NA</td><td>no </td><td>4.4.0</td></tr>\n",
              "\t<tr><th scope=row>xfun</th><td><span style=white-space:pre-wrap>xfun       </span></td><td>/usr/lib/R/site-library</td><td><span style=white-space:pre-wrap>0.50  </span></td><td><span style=white-space:pre-wrap>NA  </span></td><td>R (&gt;= 3.2.0) </td><td><span style=white-space:pre-wrap>grDevices, stats, tools                                                                                                                                                                                                                                                                              </span></td><td><span style=white-space:pre-wrap>NA                                                    </span></td><td>testit, parallel, codetools, methods, rstudioapi, tinytex (&gt;=\n",
              "0.30), mime, litedown (&gt;= 0.4), commonmark, knitr (&gt;= 1.47),\n",
              "remotes, pak, rhub, renv, curl, xml2, jsonlite, magick, yaml,\n",
              "qs, rmarkdown</td><td><span style=white-space:pre-wrap>NA                                                   </span></td><td><span style=white-space:pre-wrap>MIT + file LICENSE                    </span></td><td>NA</td><td>NA</td><td>NA</td><td>NA</td><td>yes</td><td>4.4.0</td></tr>\n",
              "\t<tr><th scope=row>xml2</th><td><span style=white-space:pre-wrap>xml2       </span></td><td>/usr/lib/R/site-library</td><td>1.3.6 </td><td><span style=white-space:pre-wrap>NA  </span></td><td>R (&gt;= 3.6.0) </td><td><span style=white-space:pre-wrap>cli, methods, rlang (&gt;= 1.1.0)                                                                                                                                                                                                                                                                       </span></td><td><span style=white-space:pre-wrap>NA                                                    </span></td><td><span style=white-space:pre-wrap>covr, curl, httr, knitr, magrittr, mockery, rmarkdown,\n",
              "testthat (&gt;= 3.0.0)                                                                                                                              </span></td><td><span style=white-space:pre-wrap>NA                                                   </span></td><td><span style=white-space:pre-wrap>MIT + file LICENSE                    </span></td><td>NA</td><td>NA</td><td>NA</td><td>NA</td><td>yes</td><td>4.3.0</td></tr>\n",
              "\t<tr><th scope=row>xopen</th><td><span style=white-space:pre-wrap>xopen      </span></td><td>/usr/lib/R/site-library</td><td>1.0.1 </td><td><span style=white-space:pre-wrap>NA  </span></td><td><span style=white-space:pre-wrap>R (&gt;= 3.1)   </span></td><td><span style=white-space:pre-wrap>processx                                                                                                                                                                                                                                                                                             </span></td><td><span style=white-space:pre-wrap>NA                                                    </span></td><td><span style=white-space:pre-wrap>ps, testthat (&gt;= 3.0.0)                                                                                                                                                                                  </span></td><td><span style=white-space:pre-wrap>NA                                                   </span></td><td><span style=white-space:pre-wrap>MIT + file LICENSE                    </span></td><td>NA</td><td>NA</td><td>NA</td><td>NA</td><td>no </td><td>4.3.0</td></tr>\n",
              "\t<tr><th scope=row>xtable</th><td><span style=white-space:pre-wrap>xtable     </span></td><td>/usr/lib/R/site-library</td><td>1.8-4 </td><td><span style=white-space:pre-wrap>NA  </span></td><td>R (&gt;= 2.10.0)</td><td><span style=white-space:pre-wrap>stats, utils                                                                                                                                                                                                                                                                                         </span></td><td><span style=white-space:pre-wrap>NA                                                    </span></td><td><span style=white-space:pre-wrap>knitr, plm, zoo, survival                                                                                                                                                                                </span></td><td><span style=white-space:pre-wrap>NA                                                   </span></td><td><span style=white-space:pre-wrap>GPL (&gt;= 2)                            </span></td><td>NA</td><td>NA</td><td>NA</td><td>NA</td><td>no </td><td>4.0.1</td></tr>\n",
              "\t<tr><th scope=row>yaml</th><td>yaml       </td><td>/usr/lib/R/site-library</td><td>2.3.10</td><td>NA  </td><td>NA           </td><td>NA                                                                                                                                                                                                                                                                                                   </td><td>NA                                                    </td><td>RUnit                                                                                                                                                                                                    </td><td>NA                                                   </td><td>BSD_3_clause + file LICENSE           </td><td>NA</td><td>NA</td><td>NA</td><td>NA</td><td>yes</td><td>4.4.0</td></tr>\n",
              "\t<tr><th scope=row>zip</th><td>zip        </td><td>/usr/lib/R/site-library</td><td>2.3.1 </td><td>NA  </td><td>NA           </td><td>NA                                                                                                                                                                                                                                                                                                   </td><td>NA                                                    </td><td>covr, processx, R6, testthat, withr                                                                                                                                                                      </td><td>NA                                                   </td><td>MIT + file LICENSE                    </td><td>NA</td><td>NA</td><td>NA</td><td>NA</td><td>yes</td><td>4.3.0</td></tr>\n",
              "\t<tr><th scope=row>base</th><td>base       </td><td>/usr/lib/R/library     </td><td>4.4.2 </td><td>base</td><td>NA           </td><td>NA                                                                                                                                                                                                                                                                                                   </td><td>NA                                                    </td><td>methods                                                                                                                                                                                                  </td><td>chron, date, round                                   </td><td>Part of R 4.4.2                       </td><td>NA</td><td>NA</td><td>NA</td><td>NA</td><td>NA </td><td>4.4.2</td></tr>\n",
              "\t<tr><th scope=row>compiler</th><td>compiler   </td><td>/usr/lib/R/library     </td><td>4.4.2 </td><td>base</td><td>NA           </td><td>NA                                                                                                                                                                                                                                                                                                   </td><td>NA                                                    </td><td>NA                                                                                                                                                                                                       </td><td>NA                                                   </td><td>Part of R 4.4.2                       </td><td>NA</td><td>NA</td><td>NA</td><td>NA</td><td>NA </td><td>4.4.2</td></tr>\n",
              "\t<tr><th scope=row>datasets</th><td>datasets   </td><td>/usr/lib/R/library     </td><td>4.4.2 </td><td>base</td><td>NA           </td><td>NA                                                                                                                                                                                                                                                                                                   </td><td>NA                                                    </td><td>NA                                                                                                                                                                                                       </td><td>NA                                                   </td><td>Part of R 4.4.2                       </td><td>NA</td><td>NA</td><td>NA</td><td>NA</td><td>NA </td><td>4.4.2</td></tr>\n",
              "\t<tr><th scope=row>graphics</th><td>graphics   </td><td>/usr/lib/R/library     </td><td>4.4.2 </td><td>base</td><td>NA           </td><td>grDevices                                                                                                                                                                                                                                                                                            </td><td>NA                                                    </td><td>NA                                                                                                                                                                                                       </td><td>vcd                                                  </td><td>Part of R 4.4.2                       </td><td>NA</td><td>NA</td><td>NA</td><td>NA</td><td>yes</td><td>4.4.2</td></tr>\n",
              "\t<tr><th scope=row>grDevices</th><td>grDevices  </td><td>/usr/lib/R/library     </td><td>4.4.2 </td><td>base</td><td>NA           </td><td>NA                                                                                                                                                                                                                                                                                                   </td><td>NA                                                    </td><td>KernSmooth                                                                                                                                                                                               </td><td>NA                                                   </td><td>Part of R 4.4.2                       </td><td>NA</td><td>NA</td><td>NA</td><td>NA</td><td>yes</td><td>4.4.2</td></tr>\n",
              "\t<tr><th scope=row>grid</th><td>grid       </td><td>/usr/lib/R/library     </td><td>4.4.2 </td><td>base</td><td>NA           </td><td>grDevices, utils                                                                                                                                                                                                                                                                                     </td><td>NA                                                    </td><td>NA                                                                                                                                                                                                       </td><td>NA                                                   </td><td>Part of R 4.4.2                       </td><td>NA</td><td>NA</td><td>NA</td><td>NA</td><td>yes</td><td>4.4.2</td></tr>\n",
              "\t<tr><th scope=row>methods</th><td>methods    </td><td>/usr/lib/R/library     </td><td>4.4.2 </td><td>base</td><td>NA           </td><td>utils, stats                                                                                                                                                                                                                                                                                         </td><td>NA                                                    </td><td>codetools                                                                                                                                                                                                </td><td>NA                                                   </td><td>Part of R 4.4.2                       </td><td>NA</td><td>NA</td><td>NA</td><td>NA</td><td>yes</td><td>4.4.2</td></tr>\n",
              "\t<tr><th scope=row>parallel</th><td>parallel   </td><td>/usr/lib/R/library     </td><td>4.4.2 </td><td>base</td><td>NA           </td><td>tools, compiler                                                                                                                                                                                                                                                                                      </td><td>NA                                                    </td><td>methods                                                                                                                                                                                                  </td><td>snow, Rmpi                                           </td><td>Part of R 4.4.2                       </td><td>NA</td><td>NA</td><td>NA</td><td>NA</td><td>yes</td><td>4.4.2</td></tr>\n",
              "\t<tr><th scope=row>splines</th><td>splines    </td><td>/usr/lib/R/library     </td><td>4.4.2 </td><td>base</td><td>NA           </td><td>graphics, stats                                                                                                                                                                                                                                                                                      </td><td>NA                                                    </td><td>Matrix, methods                                                                                                                                                                                          </td><td>NA                                                   </td><td>Part of R 4.4.2                       </td><td>NA</td><td>NA</td><td>NA</td><td>NA</td><td>yes</td><td>4.4.2</td></tr>\n",
              "\t<tr><th scope=row>stats</th><td>stats      </td><td>/usr/lib/R/library     </td><td>4.4.2 </td><td>base</td><td>NA           </td><td>utils, grDevices, graphics                                                                                                                                                                                                                                                                           </td><td>NA                                                    </td><td>MASS, Matrix, SuppDists, methods, stats4                                                                                                                                                                 </td><td>Kendall, coin, multcomp, pcaPP, pspearman, robustbase</td><td>Part of R 4.4.2                       </td><td>NA</td><td>NA</td><td>NA</td><td>NA</td><td>yes</td><td>4.4.2</td></tr>\n",
              "\t<tr><th scope=row>stats4</th><td>stats4     </td><td>/usr/lib/R/library     </td><td>4.4.2 </td><td>base</td><td>NA           </td><td>graphics, methods, stats                                                                                                                                                                                                                                                                             </td><td>NA                                                    </td><td>NA                                                                                                                                                                                                       </td><td>NA                                                   </td><td>Part of R 4.4.2                       </td><td>NA</td><td>NA</td><td>NA</td><td>NA</td><td>NA </td><td>4.4.2</td></tr>\n",
              "\t<tr><th scope=row>tcltk</th><td>tcltk      </td><td>/usr/lib/R/library     </td><td>4.4.2 </td><td>base</td><td>NA           </td><td>utils                                                                                                                                                                                                                                                                                                </td><td>NA                                                    </td><td>NA                                                                                                                                                                                                       </td><td>NA                                                   </td><td>Part of R 4.4.2                       </td><td>NA</td><td>NA</td><td>NA</td><td>NA</td><td>yes</td><td>4.4.2</td></tr>\n",
              "\t<tr><th scope=row>tools</th><td>tools      </td><td>/usr/lib/R/library     </td><td>4.4.2 </td><td>base</td><td>NA           </td><td>NA                                                                                                                                                                                                                                                                                                   </td><td>NA                                                    </td><td>codetools, methods, xml2, curl, commonmark, knitr, xfun, mathjaxr, V8                                                                                                                                    </td><td>NA                                                   </td><td>Part of R 4.4.2                       </td><td>NA</td><td>NA</td><td>NA</td><td>NA</td><td>yes</td><td>4.4.2</td></tr>\n",
              "\t<tr><th scope=row>utils</th><td>utils      </td><td>/usr/lib/R/library     </td><td>4.4.2 </td><td>base</td><td>NA           </td><td>NA                                                                                                                                                                                                                                                                                                   </td><td>NA                                                    </td><td>methods, xml2, commonmark, knitr, jsonlite                                                                                                                                                               </td><td>NA                                                   </td><td>Part of R 4.4.2                       </td><td>NA</td><td>NA</td><td>NA</td><td>NA</td><td>yes</td><td>4.4.2</td></tr>\n",
              "</tbody>\n",
              "</table>\n"
            ],
            "text/markdown": "\nA matrix: 176 × 16 of type chr\n\n| <!--/--> | Package | LibPath | Version | Priority | Depends | Imports | LinkingTo | Suggests | Enhances | License | License_is_FOSS | License_restricts_use | OS_type | MD5sum | NeedsCompilation | Built |\n|---|---|---|---|---|---|---|---|---|---|---|---|---|---|---|---|---|\n| dslabs | dslabs      | /usr/local/lib/R/site-library | 0.8.0   | NA          | R (&gt;= 3.5.0)                  | ggplot2                                                                                                                                                               | NA | NA                                                                                                                                                                                                                                                                                                                                                                                                                                                                                                                                                                                                                                                                                                                                                                                                                        | NA                                                           | Artistic-2.0                | NA | NA | NA | NA | no  | 4.4.2 |\n| IRdisplay | IRdisplay   | /usr/local/lib/R/site-library | 1.1     | NA          | R (&gt;= 3.0.1)                  | methods, repr                                                                                                                                                         | NA | testthat, withr                                                                                                                                                                                                                                                                                                                                                                                                                                                                                                                                                                                                                                                                                                                                                                                                           | NA                                                           | MIT + file LICENSE          | NA | NA | NA | NA | no  | 4.4.2 |\n| IRkernel | IRkernel    | /usr/local/lib/R/site-library | 1.3.2   | NA          | R (&gt;= 3.2.0)                  | repr (&gt;= 0.4.99), methods, evaluate (&gt;= 0.10), IRdisplay (&gt;=\n0.3.0.9999), pbdZMQ (&gt;= 0.2-1), crayon, jsonlite (&gt;= 0.9.6),\nuuid, digest                              | NA | testthat, roxygen2                                                                                                                                                                                                                                                                                                                                                                                                                                                                                                                                                                                                                                                                                                                                                                                                        | NA                                                           | MIT + file LICENSE          | NA | NA | NA | NA | no  | 4.4.2 |\n| pbdZMQ | pbdZMQ      | /usr/local/lib/R/site-library | 0.3-13  | NA          | R (&gt;= 3.5.0)                  | NA                                                                                                                                                                    | NA | NA                                                                                                                                                                                                                                                                                                                                                                                                                                                                                                                                                                                                                                                                                                                                                                                                                        | NA                                                           | GPL-3                       | NA | NA | NA | NA | yes | 4.4.2 |\n| repr | repr        | /usr/local/lib/R/site-library | 1.1.7   | NA          | R (&gt;= 3.0.1)                  | utils, grDevices, htmltools, jsonlite, pillar (&gt;= 1.4.0),\nbase64enc                                                                                                  | NA | methods, highr, Cairo, stringr, testthat (&gt;= 3.0.0), leaflet                                                                                                                                                                                                                                                                                                                                                                                                                                                                                                                                                                                                                                                                                                                                                              | data.table, tibble, htmlwidgets, vegalite, plotly, geojsonio | GPL (&gt;= 3)                  | NA | NA | NA | NA | no  | 4.4.2 |\n| askpass | askpass     | /usr/lib/R/site-library       | 1.2.1   | NA          | NA                            | sys (&gt;= 2.1)                                                                                                                                                          | NA | testthat                                                                                                                                                                                                                                                                                                                                                                                                                                                                                                                                                                                                                                                                                                                                                                                                                  | NA                                                           | MIT + file LICENSE          | NA | NA | NA | NA | yes | 4.4.0 |\n| backports | backports   | /usr/lib/R/site-library       | 1.5.0   | NA          | R (&gt;= 3.0.0)                  | NA                                                                                                                                                                    | NA | NA                                                                                                                                                                                                                                                                                                                                                                                                                                                                                                                                                                                                                                                                                                                                                                                                                        | NA                                                           | GPL-2 | GPL-3               | NA | NA | NA | NA | yes | 4.4.0 |\n| base64enc | base64enc   | /usr/lib/R/site-library       | 0.1-3   | NA          | R (&gt;= 2.9.0)                  | NA                                                                                                                                                                    | NA | NA                                                                                                                                                                                                                                                                                                                                                                                                                                                                                                                                                                                                                                                                                                                                                                                                                        | png                                                          | GPL-2 | GPL-3               | NA | NA | NA | NA | yes | 4.0.2 |\n| bit | bit         | /usr/lib/R/site-library       | 4.5.0.1 | NA          | R (&gt;= 3.4.0)                  | NA                                                                                                                                                                    | NA | testthat (&gt;= 0.11.0), roxygen2, knitr, markdown, rmarkdown,\nmicrobenchmark, bit64 (&gt;= 4.0.0), ff (&gt;= 4.0.0)                                                                                                                                                                                                                                                                                                                                                                                                                                                                                                                                                                                                                                                                                                              | NA                                                           | GPL-2 | GPL-3               | NA | NA | NA | NA | yes | 4.4.0 |\n| bit64 | bit64       | /usr/lib/R/site-library       | 4.6.0-1 | NA          | R (&gt;= 3.4.0), bit (&gt;= 4.0.0)  | graphics, methods, stats, utils                                                                                                                                       | NA | testthat (&gt;= 3.0.3), withr                                                                                                                                                                                                                                                                                                                                                                                                                                                                                                                                                                                                                                                                                                                                                                                                | NA                                                           | GPL-2 | GPL-3               | NA | NA | NA | NA | yes | 4.4.0 |\n| blob | blob        | /usr/lib/R/site-library       | 1.2.4   | NA          | NA                            | methods, rlang, vctrs (&gt;= 0.2.1)                                                                                                                                      | NA | covr, crayon, pillar (&gt;= 1.2.1), testthat                                                                                                                                                                                                                                                                                                                                                                                                                                                                                                                                                                                                                                                                                                                                                                                 | NA                                                           | MIT + file LICENSE          | NA | NA | NA | NA | no  | 4.2.0 |\n| boot | boot        | /usr/lib/R/site-library       | 1.3-31  | recommended | R (&gt;= 3.0.0), graphics, stats | NA                                                                                                                                                                    | NA | MASS, survival                                                                                                                                                                                                                                                                                                                                                                                                                                                                                                                                                                                                                                                                                                                                                                                                            | NA                                                           | Unlimited                   | NA | NA | NA | NA | no  | 4.4.0 |\n| brew | brew        | /usr/lib/R/site-library       | 1.0-10  | NA          | NA                            | NA                                                                                                                                                                    | NA | testthat (&gt;= 3.0.0)                                                                                                                                                                                                                                                                                                                                                                                                                                                                                                                                                                                                                                                                                                                                                                                                       | NA                                                           | GPL (&gt;= 2)                  | NA | NA | NA | NA | no  | 4.3.0 |\n| brio | brio        | /usr/lib/R/site-library       | 1.1.5   | NA          | R (&gt;= 3.6)                    | NA                                                                                                                                                                    | NA | covr, testthat (&gt;= 3.0.0)                                                                                                                                                                                                                                                                                                                                                                                                                                                                                                                                                                                                                                                                                                                                                                                                 | NA                                                           | MIT + file LICENSE          | NA | NA | NA | NA | yes | 4.3.0 |\n| broom | broom       | /usr/lib/R/site-library       | 1.0.7   | NA          | R (&gt;= 3.5)                    | backports, dplyr (&gt;= 1.0.0), generics (&gt;= 0.0.2), glue,\nlifecycle, purrr, rlang, stringr, tibble (&gt;= 3.0.0), tidyr (&gt;=\n1.0.0)                                       | NA | AER, AUC, bbmle, betareg (&gt;= 3.2-1), biglm, binGroup, boot,\nbtergm (&gt;= 1.10.6), car (&gt;= 3.1-2), carData, caret, cluster,\ncmprsk, coda, covr, drc, e1071, emmeans, epiR, ergm (&gt;=\n3.10.4), fixest (&gt;= 0.9.0), gam (&gt;= 1.15), gee, geepack,\nggplot2, glmnet, glmnetUtils, gmm, Hmisc, irlba, interp,\njoineRML, Kendall, knitr, ks, Lahman, lavaan (&gt;= 0.6.18),\nleaps, lfe, lm.beta, lme4, lmodel2, lmtest (&gt;= 0.9.38),\nlsmeans, maps, margins, MASS, mclust, mediation, metafor, mfx,\nmgcv, mlogit, modeldata, modeltests (&gt;= 0.1.6), muhaz,\nmultcomp, network, nnet, orcutt (&gt;= 2.2), ordinal, plm, poLCA,\npsych, quantreg, rmarkdown, robust, robustbase, rsample,\nsandwich, spdep (&gt;= 1.1), spatialreg, speedglm, spelling,\nsurvey, survival (&gt;= 3.6-4), systemfit, testthat (&gt;= 2.1.0),\ntseries, vars, zoo | NA                                                           | MIT + file LICENSE          | NA | NA | NA | NA | no  | 4.4.0 |\n| bslib | bslib       | /usr/lib/R/site-library       | 0.8.0   | NA          | R (&gt;= 2.10)                   | base64enc, cachem, fastmap (&gt;= 1.1.1), grDevices, htmltools\n(&gt;= 0.5.8), jquerylib (&gt;= 0.1.3), jsonlite, lifecycle, memoise\n(&gt;= 2.0.1), mime, rlang, sass (&gt;= 0.4.9) | NA | bsicons, curl, fontawesome, future, ggplot2, knitr, magrittr,\nrappdirs, rmarkdown (&gt;= 2.7), shiny (&gt; 1.8.1), testthat,\nthematic, withr                                                                                                                                                                                                                                                                                                                                                                                                                                                                                                                                                                                                                                                                                  | NA                                                           | MIT + file LICENSE          | NA | NA | NA | NA | no  | 4.4.0 |\n| cachem | cachem      | /usr/lib/R/site-library       | 1.1.0   | NA          | NA                            | rlang, fastmap (&gt;= 1.2.0)                                                                                                                                             | NA | testthat                                                                                                                                                                                                                                                                                                                                                                                                                                                                                                                                                                                                                                                                                                                                                                                                                  | NA                                                           | MIT + file LICENSE          | NA | NA | NA | NA | yes | 4.4.0 |\n| callr | callr       | /usr/lib/R/site-library       | 3.7.6   | NA          | R (&gt;= 3.4)                    | processx (&gt;= 3.6.1), R6, utils                                                                                                                                        | NA | asciicast (&gt;= 2.3.1), cli (&gt;= 1.1.0), mockery, ps, rprojroot,\nspelling, testthat (&gt;= 3.2.0), withr (&gt;= 2.3.0)                                                                                                                                                                                                                                                                                                                                                                                                                                                                                                                                                                                                                                                                                                            | NA                                                           | MIT + file LICENSE          | NA | NA | NA | NA | no  | 4.3.0 |\n| cellranger | cellranger  | /usr/lib/R/site-library       | 1.1.0   | NA          | R (&gt;= 3.0.0)                  | rematch, tibble                                                                                                                                                       | NA | covr, testthat (&gt;= 1.0.0), knitr, rmarkdown                                                                                                                                                                                                                                                                                                                                                                                                                                                                                                                                                                                                                                                                                                                                                                               | NA                                                           | MIT + file LICENSE          | NA | NA | NA | NA | no  | 4.0.1 |\n| class | class       | /usr/lib/R/site-library       | 7.3-23  | recommended | R (&gt;= 3.0.0), stats, utils    | MASS                                                                                                                                                                  | NA | NA                                                                                                                                                                                                                                                                                                                                                                                                                                                                                                                                                                                                                                                                                                                                                                                                                        | NA                                                           | GPL-2 | GPL-3               | NA | NA | NA | NA | yes | 4.4.0 |\n| cli | cli         | /usr/lib/R/site-library       | 3.6.3   | NA          | R (&gt;= 3.4)                    | utils                                                                                                                                                                 | NA | callr, covr, crayon, digest, glue (&gt;= 1.6.0), grDevices,\nhtmltools, htmlwidgets, knitr, methods, mockery, processx, ps\n(&gt;= 1.3.4.9000), rlang (&gt;= 1.0.2.9003), rmarkdown, rprojroot,\nrstudioapi, testthat, tibble, whoami, withr                                                                                                                                                                                                                                                                                                                                                                                                                                                                                                                                                                                       | NA                                                           | MIT + file LICENSE          | NA | NA | NA | NA | yes | 4.4.0 |\n| clipr | clipr       | /usr/lib/R/site-library       | 0.8.0   | NA          | NA                            | utils                                                                                                                                                                 | NA | covr, knitr, rmarkdown, rstudioapi (&gt;= 0.5), testthat (&gt;=\n2.0.0)                                                                                                                                                                                                                                                                                                                                                                                                                                                                                                                                                                                                                                                                                                                                                         | NA                                                           | GPL-3                       | NA | NA | NA | NA | no  | 4.2.0 |\n| cluster | cluster     | /usr/lib/R/site-library       | 2.1.8   | recommended | R (&gt;= 3.5.0)                  | graphics, grDevices, stats, utils                                                                                                                                     | NA | MASS, Matrix                                                                                                                                                                                                                                                                                                                                                                                                                                                                                                                                                                                                                                                                                                                                                                                                              | mvoutlier, fpc, ellipse, sfsmisc                             | GPL (&gt;= 2)                  | NA | NA | NA | NA | yes | 4.4.0 |\n| codetools | codetools   | /usr/lib/R/site-library       | 0.2-20  | recommended | R (&gt;= 2.1)                    | NA                                                                                                                                                                    | NA | NA                                                                                                                                                                                                                                                                                                                                                                                                                                                                                                                                                                                                                                                                                                                                                                                                                        | NA                                                           | GPL                         | NA | NA | NA | NA | no  | 4.3.0 |\n| colorspace | colorspace  | /usr/lib/R/site-library       | 2.1-1   | NA          | R (&gt;= 3.0.0), methods         | graphics, grDevices, stats                                                                                                                                            | NA | datasets, utils, KernSmooth, MASS, kernlab, mvtnorm, vcd,\ntcltk, shiny, shinyjs, ggplot2, dplyr, scales, grid, png, jpeg,\nknitr, rmarkdown, RColorBrewer, rcartocolor, scico, viridis,\nwesanderson                                                                                                                                                                                                                                                                                                                                                                                                                                                                                                                                                                                                                     | NA                                                           | BSD_3_clause + file LICENSE | NA | NA | NA | NA | yes | 4.4.0 |\n| commonmark | commonmark  | /usr/lib/R/site-library       | 1.9.2   | NA          | NA                            | NA                                                                                                                                                                    | NA | curl, testthat, xml2                                                                                                                                                                                                                                                                                                                                                                                                                                                                                                                                                                                                                                                                                                                                                                                                      | NA                                                           | BSD_2_clause + file LICENSE | NA | NA | NA | NA | yes | 4.4.0 |\n| conflicted | conflicted  | /usr/lib/R/site-library       | 1.2.0   | NA          | R (&gt;= 3.2)                    | cli (&gt;= 3.4.0), memoise, rlang (&gt;= 1.0.0)                                                                                                                             | NA | callr, covr, dplyr, Matrix, methods, pkgload, testthat (&gt;=\n3.0.0), withr                                                                                                                                                                                                                                                                                                                                                                                                                                                                                                                                                                                                                                                                                                                                                 | NA                                                           | MIT + file LICENSE          | NA | NA | NA | NA | no  | 4.2.0 |\n| cpp11 | cpp11       | /usr/lib/R/site-library       | 0.5.1   | NA          | R (&gt;= 4.0.0)                  | NA                                                                                                                                                                    | NA | bench, brio, callr, cli, covr, decor, desc, ggplot2, glue,\nknitr, lobstr, mockery, progress, rmarkdown, scales, Rcpp,\ntestthat (&gt;= 3.2.0), tibble, utils, vctrs, withr                                                                                                                                                                                                                                                                                                                                                                                                                                                                                                                                                                                                                                                  | NA                                                           | MIT + file LICENSE          | NA | NA | NA | NA | no  | 4.4.0 |\n| crayon | crayon      | /usr/lib/R/site-library       | 1.5.3   | NA          | NA                            | grDevices, methods, utils                                                                                                                                             | NA | mockery, rstudioapi, testthat, withr                                                                                                                                                                                                                                                                                                                                                                                                                                                                                                                                                                                                                                                                                                                                                                                      | NA                                                           | MIT + file LICENSE          | NA | NA | NA | NA | no  | 4.4.0 |\n| credentials | credentials | /usr/lib/R/site-library       | 2.0.2   | NA          | NA                            | openssl (&gt;= 1.3), sys (&gt;= 2.1), curl, jsonlite, askpass                                                                                                               | NA | testthat, knitr, rmarkdown                                                                                                                                                                                                                                                                                                                                                                                                                                                                                                                                                                                                                                                                                                                                                                                                | NA                                                           | MIT + file LICENSE          | NA | NA | NA | NA | no  | 4.4.0 |\n| ⋮ | ⋮ | ⋮ | ⋮ | ⋮ | ⋮ | ⋮ | ⋮ | ⋮ | ⋮ | ⋮ | ⋮ | ⋮ | ⋮ | ⋮ | ⋮ | ⋮ |\n| urlchecker | urlchecker  | /usr/lib/R/site-library | 1.0.1  | NA   | R (&gt;= 3.3)    | cli, curl, tools, xml2                                                                                                                                                                                                                                                                                | NA                                                     | covr                                                                                                                                                                                                      | NA                                                    | GPL-3                                  | NA | NA | NA | NA | no  | 4.2.0 |\n| usethis | usethis     | /usr/lib/R/site-library | 3.1.0  | NA   | R (&gt;= 3.6)    | cli (&gt;= 3.0.1), clipr (&gt;= 0.3.0), crayon, curl (&gt;= 2.7), desc\n(&gt;= 1.4.2), fs (&gt;= 1.3.0), gert (&gt;= 1.4.1), gh (&gt;= 1.2.1), glue\n(&gt;= 1.3.0), jsonlite, lifecycle (&gt;= 1.0.0), purrr, rappdirs,\nrlang (&gt;= 1.1.0), rprojroot (&gt;= 1.2), rstudioapi, stats, tools,\nutils, whisker, withr (&gt;= 2.3.0), yaml | NA                                                     | covr, knitr, magick, pkgload (&gt;= 1.3.2.1), rmarkdown,\nroxygen2 (&gt;= 7.1.2), spelling (&gt;= 1.2), styler (&gt;= 1.2.0),\ntestthat (&gt;= 3.1.8)                                                                    | NA                                                    | MIT + file LICENSE                     | NA | NA | NA | NA | no  | 4.4.0 |\n| utf8 | utf8        | /usr/lib/R/site-library | 1.2.4  | NA   | R (&gt;= 2.10)   | NA                                                                                                                                                                                                                                                                                                    | NA                                                     | cli, covr, knitr, rlang, rmarkdown, testthat (&gt;= 3.0.0),\nwithr                                                                                                                                           | NA                                                    | Apache License (== 2.0) | file LICENSE | NA | NA | NA | NA | yes | 4.3.0 |\n| uuid | uuid        | /usr/lib/R/site-library | 1.2-1  | NA   | R (&gt;= 2.9.0)  | NA                                                                                                                                                                                                                                                                                                    | NA                                                     | NA                                                                                                                                                                                                        | NA                                                    | MIT + file LICENSE                     | NA | NA | NA | NA | yes | 4.4.0 |\n| vctrs | vctrs       | /usr/lib/R/site-library | 0.6.5  | NA   | R (&gt;= 3.5.0)  | cli (&gt;= 3.4.0), glue, lifecycle (&gt;= 1.0.3), rlang (&gt;= 1.1.0)                                                                                                                                                                                                                                          | NA                                                     | bit64, covr, crayon, dplyr (&gt;= 0.8.5), generics, knitr,\npillar (&gt;= 1.4.4), pkgdown (&gt;= 2.0.1), rmarkdown, testthat (&gt;=\n3.0.0), tibble (&gt;= 3.1.3), waldo (&gt;= 0.2.0), withr, xml2,\nzeallot               | NA                                                    | MIT + file LICENSE                     | NA | NA | NA | NA | yes | 4.3.0 |\n| viridisLite | viridisLite | /usr/lib/R/site-library | 0.4.2  | NA   | R (&gt;= 2.10)   | NA                                                                                                                                                                                                                                                                                                    | NA                                                     | hexbin (&gt;= 1.27.0), ggplot2 (&gt;= 1.0.1), testthat, covr                                                                                                                                                    | NA                                                    | MIT + file LICENSE                     | NA | NA | NA | NA | no  | 4.2.0 |\n| vroom | vroom       | /usr/lib/R/site-library | 1.6.5  | NA   | R (&gt;= 3.6)    | bit64, cli (&gt;= 3.2.0), crayon, glue, hms, lifecycle (&gt;=\n1.0.3), methods, rlang (&gt;= 0.4.2), stats, tibble (&gt;= 2.0.0),\ntidyselect, tzdb (&gt;= 0.1.1), vctrs (&gt;= 0.2.0), withr                                                                                                                           | cpp11 (&gt;= 0.2.0), progress (&gt;= 1.2.1), tzdb (&gt;= 0.1.1) | archive, bench (&gt;= 1.1.0), covr, curl, dplyr, forcats, fs,\nggplot2, knitr, patchwork, prettyunits, purrr, rmarkdown,\nrstudioapi, scales, spelling, testthat (&gt;= 2.1.0), tidyr,\nutils, waldo, xml2      | NA                                                    | MIT + file LICENSE                     | NA | NA | NA | NA | yes | 4.3.0 |\n| waldo | waldo       | /usr/lib/R/site-library | 0.6.1  | NA   | R (&gt;= 4.0)    | cli, diffobj (&gt;= 0.3.4), glue, methods, rlang (&gt;= 1.1.0)                                                                                                                                                                                                                                              | NA                                                     | bit64, R6, S7, testthat (&gt;= 3.0.0), withr, xml2                                                                                                                                                           | NA                                                    | MIT + file LICENSE                     | NA | NA | NA | NA | no  | 4.4.0 |\n| whisker | whisker     | /usr/lib/R/site-library | 0.4.1  | NA   | NA            | NA                                                                                                                                                                                                                                                                                                    | NA                                                     | markdown                                                                                                                                                                                                  | NA                                                    | GPL-3                                  | NA | NA | NA | NA | no  | 4.2.0 |\n| withr | withr       | /usr/lib/R/site-library | 3.0.2  | NA   | R (&gt;= 3.6.0)  | graphics, grDevices                                                                                                                                                                                                                                                                                   | NA                                                     | callr, DBI, knitr, methods, rlang, rmarkdown (&gt;= 2.12),\nRSQLite, testthat (&gt;= 3.0.0)                                                                                                                     | NA                                                    | MIT + file LICENSE                     | NA | NA | NA | NA | no  | 4.4.0 |\n| xfun | xfun        | /usr/lib/R/site-library | 0.50   | NA   | R (&gt;= 3.2.0)  | grDevices, stats, tools                                                                                                                                                                                                                                                                               | NA                                                     | testit, parallel, codetools, methods, rstudioapi, tinytex (&gt;=\n0.30), mime, litedown (&gt;= 0.4), commonmark, knitr (&gt;= 1.47),\nremotes, pak, rhub, renv, curl, xml2, jsonlite, magick, yaml,\nqs, rmarkdown | NA                                                    | MIT + file LICENSE                     | NA | NA | NA | NA | yes | 4.4.0 |\n| xml2 | xml2        | /usr/lib/R/site-library | 1.3.6  | NA   | R (&gt;= 3.6.0)  | cli, methods, rlang (&gt;= 1.1.0)                                                                                                                                                                                                                                                                        | NA                                                     | covr, curl, httr, knitr, magrittr, mockery, rmarkdown,\ntestthat (&gt;= 3.0.0)                                                                                                                               | NA                                                    | MIT + file LICENSE                     | NA | NA | NA | NA | yes | 4.3.0 |\n| xopen | xopen       | /usr/lib/R/site-library | 1.0.1  | NA   | R (&gt;= 3.1)    | processx                                                                                                                                                                                                                                                                                              | NA                                                     | ps, testthat (&gt;= 3.0.0)                                                                                                                                                                                   | NA                                                    | MIT + file LICENSE                     | NA | NA | NA | NA | no  | 4.3.0 |\n| xtable | xtable      | /usr/lib/R/site-library | 1.8-4  | NA   | R (&gt;= 2.10.0) | stats, utils                                                                                                                                                                                                                                                                                          | NA                                                     | knitr, plm, zoo, survival                                                                                                                                                                                 | NA                                                    | GPL (&gt;= 2)                             | NA | NA | NA | NA | no  | 4.0.1 |\n| yaml | yaml        | /usr/lib/R/site-library | 2.3.10 | NA   | NA            | NA                                                                                                                                                                                                                                                                                                    | NA                                                     | RUnit                                                                                                                                                                                                     | NA                                                    | BSD_3_clause + file LICENSE            | NA | NA | NA | NA | yes | 4.4.0 |\n| zip | zip         | /usr/lib/R/site-library | 2.3.1  | NA   | NA            | NA                                                                                                                                                                                                                                                                                                    | NA                                                     | covr, processx, R6, testthat, withr                                                                                                                                                                       | NA                                                    | MIT + file LICENSE                     | NA | NA | NA | NA | yes | 4.3.0 |\n| base | base        | /usr/lib/R/library      | 4.4.2  | base | NA            | NA                                                                                                                                                                                                                                                                                                    | NA                                                     | methods                                                                                                                                                                                                   | chron, date, round                                    | Part of R 4.4.2                        | NA | NA | NA | NA | NA  | 4.4.2 |\n| compiler | compiler    | /usr/lib/R/library      | 4.4.2  | base | NA            | NA                                                                                                                                                                                                                                                                                                    | NA                                                     | NA                                                                                                                                                                                                        | NA                                                    | Part of R 4.4.2                        | NA | NA | NA | NA | NA  | 4.4.2 |\n| datasets | datasets    | /usr/lib/R/library      | 4.4.2  | base | NA            | NA                                                                                                                                                                                                                                                                                                    | NA                                                     | NA                                                                                                                                                                                                        | NA                                                    | Part of R 4.4.2                        | NA | NA | NA | NA | NA  | 4.4.2 |\n| graphics | graphics    | /usr/lib/R/library      | 4.4.2  | base | NA            | grDevices                                                                                                                                                                                                                                                                                             | NA                                                     | NA                                                                                                                                                                                                        | vcd                                                   | Part of R 4.4.2                        | NA | NA | NA | NA | yes | 4.4.2 |\n| grDevices | grDevices   | /usr/lib/R/library      | 4.4.2  | base | NA            | NA                                                                                                                                                                                                                                                                                                    | NA                                                     | KernSmooth                                                                                                                                                                                                | NA                                                    | Part of R 4.4.2                        | NA | NA | NA | NA | yes | 4.4.2 |\n| grid | grid        | /usr/lib/R/library      | 4.4.2  | base | NA            | grDevices, utils                                                                                                                                                                                                                                                                                      | NA                                                     | NA                                                                                                                                                                                                        | NA                                                    | Part of R 4.4.2                        | NA | NA | NA | NA | yes | 4.4.2 |\n| methods | methods     | /usr/lib/R/library      | 4.4.2  | base | NA            | utils, stats                                                                                                                                                                                                                                                                                          | NA                                                     | codetools                                                                                                                                                                                                 | NA                                                    | Part of R 4.4.2                        | NA | NA | NA | NA | yes | 4.4.2 |\n| parallel | parallel    | /usr/lib/R/library      | 4.4.2  | base | NA            | tools, compiler                                                                                                                                                                                                                                                                                       | NA                                                     | methods                                                                                                                                                                                                   | snow, Rmpi                                            | Part of R 4.4.2                        | NA | NA | NA | NA | yes | 4.4.2 |\n| splines | splines     | /usr/lib/R/library      | 4.4.2  | base | NA            | graphics, stats                                                                                                                                                                                                                                                                                       | NA                                                     | Matrix, methods                                                                                                                                                                                           | NA                                                    | Part of R 4.4.2                        | NA | NA | NA | NA | yes | 4.4.2 |\n| stats | stats       | /usr/lib/R/library      | 4.4.2  | base | NA            | utils, grDevices, graphics                                                                                                                                                                                                                                                                            | NA                                                     | MASS, Matrix, SuppDists, methods, stats4                                                                                                                                                                  | Kendall, coin, multcomp, pcaPP, pspearman, robustbase | Part of R 4.4.2                        | NA | NA | NA | NA | yes | 4.4.2 |\n| stats4 | stats4      | /usr/lib/R/library      | 4.4.2  | base | NA            | graphics, methods, stats                                                                                                                                                                                                                                                                              | NA                                                     | NA                                                                                                                                                                                                        | NA                                                    | Part of R 4.4.2                        | NA | NA | NA | NA | NA  | 4.4.2 |\n| tcltk | tcltk       | /usr/lib/R/library      | 4.4.2  | base | NA            | utils                                                                                                                                                                                                                                                                                                 | NA                                                     | NA                                                                                                                                                                                                        | NA                                                    | Part of R 4.4.2                        | NA | NA | NA | NA | yes | 4.4.2 |\n| tools | tools       | /usr/lib/R/library      | 4.4.2  | base | NA            | NA                                                                                                                                                                                                                                                                                                    | NA                                                     | codetools, methods, xml2, curl, commonmark, knitr, xfun, mathjaxr, V8                                                                                                                                     | NA                                                    | Part of R 4.4.2                        | NA | NA | NA | NA | yes | 4.4.2 |\n| utils | utils       | /usr/lib/R/library      | 4.4.2  | base | NA            | NA                                                                                                                                                                                                                                                                                                    | NA                                                     | methods, xml2, commonmark, knitr, jsonlite                                                                                                                                                                | NA                                                    | Part of R 4.4.2                        | NA | NA | NA | NA | yes | 4.4.2 |\n\n",
            "text/latex": "A matrix: 176 × 16 of type chr\n\\begin{tabular}{r|llllllllllllllll}\n  & Package & LibPath & Version & Priority & Depends & Imports & LinkingTo & Suggests & Enhances & License & License\\_is\\_FOSS & License\\_restricts\\_use & OS\\_type & MD5sum & NeedsCompilation & Built\\\\\n\\hline\n\tdslabs & dslabs      & /usr/local/lib/R/site-library & 0.8.0   & NA          & R (>= 3.5.0)                  & ggplot2                                                                                                                                                               & NA & NA                                                                                                                                                                                                                                                                                                                                                                                                                                                                                                                                                                                                                                                                                                                                                                                                                        & NA                                                           & Artistic-2.0                & NA & NA & NA & NA & no  & 4.4.2\\\\\n\tIRdisplay & IRdisplay   & /usr/local/lib/R/site-library & 1.1     & NA          & R (>= 3.0.1)                  & methods, repr                                                                                                                                                         & NA & testthat, withr                                                                                                                                                                                                                                                                                                                                                                                                                                                                                                                                                                                                                                                                                                                                                                                                           & NA                                                           & MIT + file LICENSE          & NA & NA & NA & NA & no  & 4.4.2\\\\\n\tIRkernel & IRkernel    & /usr/local/lib/R/site-library & 1.3.2   & NA          & R (>= 3.2.0)                  & repr (>= 0.4.99), methods, evaluate (>= 0.10), IRdisplay (>=\n0.3.0.9999), pbdZMQ (>= 0.2-1), crayon, jsonlite (>= 0.9.6),\nuuid, digest                              & NA & testthat, roxygen2                                                                                                                                                                                                                                                                                                                                                                                                                                                                                                                                                                                                                                                                                                                                                                                                        & NA                                                           & MIT + file LICENSE          & NA & NA & NA & NA & no  & 4.4.2\\\\\n\tpbdZMQ & pbdZMQ      & /usr/local/lib/R/site-library & 0.3-13  & NA          & R (>= 3.5.0)                  & NA                                                                                                                                                                    & NA & NA                                                                                                                                                                                                                                                                                                                                                                                                                                                                                                                                                                                                                                                                                                                                                                                                                        & NA                                                           & GPL-3                       & NA & NA & NA & NA & yes & 4.4.2\\\\\n\trepr & repr        & /usr/local/lib/R/site-library & 1.1.7   & NA          & R (>= 3.0.1)                  & utils, grDevices, htmltools, jsonlite, pillar (>= 1.4.0),\nbase64enc                                                                                                  & NA & methods, highr, Cairo, stringr, testthat (>= 3.0.0), leaflet                                                                                                                                                                                                                                                                                                                                                                                                                                                                                                                                                                                                                                                                                                                                                              & data.table, tibble, htmlwidgets, vegalite, plotly, geojsonio & GPL (>= 3)                  & NA & NA & NA & NA & no  & 4.4.2\\\\\n\taskpass & askpass     & /usr/lib/R/site-library       & 1.2.1   & NA          & NA                            & sys (>= 2.1)                                                                                                                                                          & NA & testthat                                                                                                                                                                                                                                                                                                                                                                                                                                                                                                                                                                                                                                                                                                                                                                                                                  & NA                                                           & MIT + file LICENSE          & NA & NA & NA & NA & yes & 4.4.0\\\\\n\tbackports & backports   & /usr/lib/R/site-library       & 1.5.0   & NA          & R (>= 3.0.0)                  & NA                                                                                                                                                                    & NA & NA                                                                                                                                                                                                                                                                                                                                                                                                                                                                                                                                                                                                                                                                                                                                                                                                                        & NA                                                           & GPL-2 \\textbar{} GPL-3               & NA & NA & NA & NA & yes & 4.4.0\\\\\n\tbase64enc & base64enc   & /usr/lib/R/site-library       & 0.1-3   & NA          & R (>= 2.9.0)                  & NA                                                                                                                                                                    & NA & NA                                                                                                                                                                                                                                                                                                                                                                                                                                                                                                                                                                                                                                                                                                                                                                                                                        & png                                                          & GPL-2 \\textbar{} GPL-3               & NA & NA & NA & NA & yes & 4.0.2\\\\\n\tbit & bit         & /usr/lib/R/site-library       & 4.5.0.1 & NA          & R (>= 3.4.0)                  & NA                                                                                                                                                                    & NA & testthat (>= 0.11.0), roxygen2, knitr, markdown, rmarkdown,\nmicrobenchmark, bit64 (>= 4.0.0), ff (>= 4.0.0)                                                                                                                                                                                                                                                                                                                                                                                                                                                                                                                                                                                                                                                                                                              & NA                                                           & GPL-2 \\textbar{} GPL-3               & NA & NA & NA & NA & yes & 4.4.0\\\\\n\tbit64 & bit64       & /usr/lib/R/site-library       & 4.6.0-1 & NA          & R (>= 3.4.0), bit (>= 4.0.0)  & graphics, methods, stats, utils                                                                                                                                       & NA & testthat (>= 3.0.3), withr                                                                                                                                                                                                                                                                                                                                                                                                                                                                                                                                                                                                                                                                                                                                                                                                & NA                                                           & GPL-2 \\textbar{} GPL-3               & NA & NA & NA & NA & yes & 4.4.0\\\\\n\tblob & blob        & /usr/lib/R/site-library       & 1.2.4   & NA          & NA                            & methods, rlang, vctrs (>= 0.2.1)                                                                                                                                      & NA & covr, crayon, pillar (>= 1.2.1), testthat                                                                                                                                                                                                                                                                                                                                                                                                                                                                                                                                                                                                                                                                                                                                                                                 & NA                                                           & MIT + file LICENSE          & NA & NA & NA & NA & no  & 4.2.0\\\\\n\tboot & boot        & /usr/lib/R/site-library       & 1.3-31  & recommended & R (>= 3.0.0), graphics, stats & NA                                                                                                                                                                    & NA & MASS, survival                                                                                                                                                                                                                                                                                                                                                                                                                                                                                                                                                                                                                                                                                                                                                                                                            & NA                                                           & Unlimited                   & NA & NA & NA & NA & no  & 4.4.0\\\\\n\tbrew & brew        & /usr/lib/R/site-library       & 1.0-10  & NA          & NA                            & NA                                                                                                                                                                    & NA & testthat (>= 3.0.0)                                                                                                                                                                                                                                                                                                                                                                                                                                                                                                                                                                                                                                                                                                                                                                                                       & NA                                                           & GPL (>= 2)                  & NA & NA & NA & NA & no  & 4.3.0\\\\\n\tbrio & brio        & /usr/lib/R/site-library       & 1.1.5   & NA          & R (>= 3.6)                    & NA                                                                                                                                                                    & NA & covr, testthat (>= 3.0.0)                                                                                                                                                                                                                                                                                                                                                                                                                                                                                                                                                                                                                                                                                                                                                                                                 & NA                                                           & MIT + file LICENSE          & NA & NA & NA & NA & yes & 4.3.0\\\\\n\tbroom & broom       & /usr/lib/R/site-library       & 1.0.7   & NA          & R (>= 3.5)                    & backports, dplyr (>= 1.0.0), generics (>= 0.0.2), glue,\nlifecycle, purrr, rlang, stringr, tibble (>= 3.0.0), tidyr (>=\n1.0.0)                                       & NA & AER, AUC, bbmle, betareg (>= 3.2-1), biglm, binGroup, boot,\nbtergm (>= 1.10.6), car (>= 3.1-2), carData, caret, cluster,\ncmprsk, coda, covr, drc, e1071, emmeans, epiR, ergm (>=\n3.10.4), fixest (>= 0.9.0), gam (>= 1.15), gee, geepack,\nggplot2, glmnet, glmnetUtils, gmm, Hmisc, irlba, interp,\njoineRML, Kendall, knitr, ks, Lahman, lavaan (>= 0.6.18),\nleaps, lfe, lm.beta, lme4, lmodel2, lmtest (>= 0.9.38),\nlsmeans, maps, margins, MASS, mclust, mediation, metafor, mfx,\nmgcv, mlogit, modeldata, modeltests (>= 0.1.6), muhaz,\nmultcomp, network, nnet, orcutt (>= 2.2), ordinal, plm, poLCA,\npsych, quantreg, rmarkdown, robust, robustbase, rsample,\nsandwich, spdep (>= 1.1), spatialreg, speedglm, spelling,\nsurvey, survival (>= 3.6-4), systemfit, testthat (>= 2.1.0),\ntseries, vars, zoo & NA                                                           & MIT + file LICENSE          & NA & NA & NA & NA & no  & 4.4.0\\\\\n\tbslib & bslib       & /usr/lib/R/site-library       & 0.8.0   & NA          & R (>= 2.10)                   & base64enc, cachem, fastmap (>= 1.1.1), grDevices, htmltools\n(>= 0.5.8), jquerylib (>= 0.1.3), jsonlite, lifecycle, memoise\n(>= 2.0.1), mime, rlang, sass (>= 0.4.9) & NA & bsicons, curl, fontawesome, future, ggplot2, knitr, magrittr,\nrappdirs, rmarkdown (>= 2.7), shiny (> 1.8.1), testthat,\nthematic, withr                                                                                                                                                                                                                                                                                                                                                                                                                                                                                                                                                                                                                                                                                  & NA                                                           & MIT + file LICENSE          & NA & NA & NA & NA & no  & 4.4.0\\\\\n\tcachem & cachem      & /usr/lib/R/site-library       & 1.1.0   & NA          & NA                            & rlang, fastmap (>= 1.2.0)                                                                                                                                             & NA & testthat                                                                                                                                                                                                                                                                                                                                                                                                                                                                                                                                                                                                                                                                                                                                                                                                                  & NA                                                           & MIT + file LICENSE          & NA & NA & NA & NA & yes & 4.4.0\\\\\n\tcallr & callr       & /usr/lib/R/site-library       & 3.7.6   & NA          & R (>= 3.4)                    & processx (>= 3.6.1), R6, utils                                                                                                                                        & NA & asciicast (>= 2.3.1), cli (>= 1.1.0), mockery, ps, rprojroot,\nspelling, testthat (>= 3.2.0), withr (>= 2.3.0)                                                                                                                                                                                                                                                                                                                                                                                                                                                                                                                                                                                                                                                                                                            & NA                                                           & MIT + file LICENSE          & NA & NA & NA & NA & no  & 4.3.0\\\\\n\tcellranger & cellranger  & /usr/lib/R/site-library       & 1.1.0   & NA          & R (>= 3.0.0)                  & rematch, tibble                                                                                                                                                       & NA & covr, testthat (>= 1.0.0), knitr, rmarkdown                                                                                                                                                                                                                                                                                                                                                                                                                                                                                                                                                                                                                                                                                                                                                                               & NA                                                           & MIT + file LICENSE          & NA & NA & NA & NA & no  & 4.0.1\\\\\n\tclass & class       & /usr/lib/R/site-library       & 7.3-23  & recommended & R (>= 3.0.0), stats, utils    & MASS                                                                                                                                                                  & NA & NA                                                                                                                                                                                                                                                                                                                                                                                                                                                                                                                                                                                                                                                                                                                                                                                                                        & NA                                                           & GPL-2 \\textbar{} GPL-3               & NA & NA & NA & NA & yes & 4.4.0\\\\\n\tcli & cli         & /usr/lib/R/site-library       & 3.6.3   & NA          & R (>= 3.4)                    & utils                                                                                                                                                                 & NA & callr, covr, crayon, digest, glue (>= 1.6.0), grDevices,\nhtmltools, htmlwidgets, knitr, methods, mockery, processx, ps\n(>= 1.3.4.9000), rlang (>= 1.0.2.9003), rmarkdown, rprojroot,\nrstudioapi, testthat, tibble, whoami, withr                                                                                                                                                                                                                                                                                                                                                                                                                                                                                                                                                                                       & NA                                                           & MIT + file LICENSE          & NA & NA & NA & NA & yes & 4.4.0\\\\\n\tclipr & clipr       & /usr/lib/R/site-library       & 0.8.0   & NA          & NA                            & utils                                                                                                                                                                 & NA & covr, knitr, rmarkdown, rstudioapi (>= 0.5), testthat (>=\n2.0.0)                                                                                                                                                                                                                                                                                                                                                                                                                                                                                                                                                                                                                                                                                                                                                         & NA                                                           & GPL-3                       & NA & NA & NA & NA & no  & 4.2.0\\\\\n\tcluster & cluster     & /usr/lib/R/site-library       & 2.1.8   & recommended & R (>= 3.5.0)                  & graphics, grDevices, stats, utils                                                                                                                                     & NA & MASS, Matrix                                                                                                                                                                                                                                                                                                                                                                                                                                                                                                                                                                                                                                                                                                                                                                                                              & mvoutlier, fpc, ellipse, sfsmisc                             & GPL (>= 2)                  & NA & NA & NA & NA & yes & 4.4.0\\\\\n\tcodetools & codetools   & /usr/lib/R/site-library       & 0.2-20  & recommended & R (>= 2.1)                    & NA                                                                                                                                                                    & NA & NA                                                                                                                                                                                                                                                                                                                                                                                                                                                                                                                                                                                                                                                                                                                                                                                                                        & NA                                                           & GPL                         & NA & NA & NA & NA & no  & 4.3.0\\\\\n\tcolorspace & colorspace  & /usr/lib/R/site-library       & 2.1-1   & NA          & R (>= 3.0.0), methods         & graphics, grDevices, stats                                                                                                                                            & NA & datasets, utils, KernSmooth, MASS, kernlab, mvtnorm, vcd,\ntcltk, shiny, shinyjs, ggplot2, dplyr, scales, grid, png, jpeg,\nknitr, rmarkdown, RColorBrewer, rcartocolor, scico, viridis,\nwesanderson                                                                                                                                                                                                                                                                                                                                                                                                                                                                                                                                                                                                                     & NA                                                           & BSD\\_3\\_clause + file LICENSE & NA & NA & NA & NA & yes & 4.4.0\\\\\n\tcommonmark & commonmark  & /usr/lib/R/site-library       & 1.9.2   & NA          & NA                            & NA                                                                                                                                                                    & NA & curl, testthat, xml2                                                                                                                                                                                                                                                                                                                                                                                                                                                                                                                                                                                                                                                                                                                                                                                                      & NA                                                           & BSD\\_2\\_clause + file LICENSE & NA & NA & NA & NA & yes & 4.4.0\\\\\n\tconflicted & conflicted  & /usr/lib/R/site-library       & 1.2.0   & NA          & R (>= 3.2)                    & cli (>= 3.4.0), memoise, rlang (>= 1.0.0)                                                                                                                             & NA & callr, covr, dplyr, Matrix, methods, pkgload, testthat (>=\n3.0.0), withr                                                                                                                                                                                                                                                                                                                                                                                                                                                                                                                                                                                                                                                                                                                                                 & NA                                                           & MIT + file LICENSE          & NA & NA & NA & NA & no  & 4.2.0\\\\\n\tcpp11 & cpp11       & /usr/lib/R/site-library       & 0.5.1   & NA          & R (>= 4.0.0)                  & NA                                                                                                                                                                    & NA & bench, brio, callr, cli, covr, decor, desc, ggplot2, glue,\nknitr, lobstr, mockery, progress, rmarkdown, scales, Rcpp,\ntestthat (>= 3.2.0), tibble, utils, vctrs, withr                                                                                                                                                                                                                                                                                                                                                                                                                                                                                                                                                                                                                                                  & NA                                                           & MIT + file LICENSE          & NA & NA & NA & NA & no  & 4.4.0\\\\\n\tcrayon & crayon      & /usr/lib/R/site-library       & 1.5.3   & NA          & NA                            & grDevices, methods, utils                                                                                                                                             & NA & mockery, rstudioapi, testthat, withr                                                                                                                                                                                                                                                                                                                                                                                                                                                                                                                                                                                                                                                                                                                                                                                      & NA                                                           & MIT + file LICENSE          & NA & NA & NA & NA & no  & 4.4.0\\\\\n\tcredentials & credentials & /usr/lib/R/site-library       & 2.0.2   & NA          & NA                            & openssl (>= 1.3), sys (>= 2.1), curl, jsonlite, askpass                                                                                                               & NA & testthat, knitr, rmarkdown                                                                                                                                                                                                                                                                                                                                                                                                                                                                                                                                                                                                                                                                                                                                                                                                & NA                                                           & MIT + file LICENSE          & NA & NA & NA & NA & no  & 4.4.0\\\\\n\t⋮ & ⋮ & ⋮ & ⋮ & ⋮ & ⋮ & ⋮ & ⋮ & ⋮ & ⋮ & ⋮ & ⋮ & ⋮ & ⋮ & ⋮ & ⋮ & ⋮\\\\\n\turlchecker & urlchecker  & /usr/lib/R/site-library & 1.0.1  & NA   & R (>= 3.3)    & cli, curl, tools, xml2                                                                                                                                                                                                                                                                                & NA                                                     & covr                                                                                                                                                                                                      & NA                                                    & GPL-3                                  & NA & NA & NA & NA & no  & 4.2.0\\\\\n\tusethis & usethis     & /usr/lib/R/site-library & 3.1.0  & NA   & R (>= 3.6)    & cli (>= 3.0.1), clipr (>= 0.3.0), crayon, curl (>= 2.7), desc\n(>= 1.4.2), fs (>= 1.3.0), gert (>= 1.4.1), gh (>= 1.2.1), glue\n(>= 1.3.0), jsonlite, lifecycle (>= 1.0.0), purrr, rappdirs,\nrlang (>= 1.1.0), rprojroot (>= 1.2), rstudioapi, stats, tools,\nutils, whisker, withr (>= 2.3.0), yaml & NA                                                     & covr, knitr, magick, pkgload (>= 1.3.2.1), rmarkdown,\nroxygen2 (>= 7.1.2), spelling (>= 1.2), styler (>= 1.2.0),\ntestthat (>= 3.1.8)                                                                    & NA                                                    & MIT + file LICENSE                     & NA & NA & NA & NA & no  & 4.4.0\\\\\n\tutf8 & utf8        & /usr/lib/R/site-library & 1.2.4  & NA   & R (>= 2.10)   & NA                                                                                                                                                                                                                                                                                                    & NA                                                     & cli, covr, knitr, rlang, rmarkdown, testthat (>= 3.0.0),\nwithr                                                                                                                                           & NA                                                    & Apache License (== 2.0) \\textbar{} file LICENSE & NA & NA & NA & NA & yes & 4.3.0\\\\\n\tuuid & uuid        & /usr/lib/R/site-library & 1.2-1  & NA   & R (>= 2.9.0)  & NA                                                                                                                                                                                                                                                                                                    & NA                                                     & NA                                                                                                                                                                                                        & NA                                                    & MIT + file LICENSE                     & NA & NA & NA & NA & yes & 4.4.0\\\\\n\tvctrs & vctrs       & /usr/lib/R/site-library & 0.6.5  & NA   & R (>= 3.5.0)  & cli (>= 3.4.0), glue, lifecycle (>= 1.0.3), rlang (>= 1.1.0)                                                                                                                                                                                                                                          & NA                                                     & bit64, covr, crayon, dplyr (>= 0.8.5), generics, knitr,\npillar (>= 1.4.4), pkgdown (>= 2.0.1), rmarkdown, testthat (>=\n3.0.0), tibble (>= 3.1.3), waldo (>= 0.2.0), withr, xml2,\nzeallot               & NA                                                    & MIT + file LICENSE                     & NA & NA & NA & NA & yes & 4.3.0\\\\\n\tviridisLite & viridisLite & /usr/lib/R/site-library & 0.4.2  & NA   & R (>= 2.10)   & NA                                                                                                                                                                                                                                                                                                    & NA                                                     & hexbin (>= 1.27.0), ggplot2 (>= 1.0.1), testthat, covr                                                                                                                                                    & NA                                                    & MIT + file LICENSE                     & NA & NA & NA & NA & no  & 4.2.0\\\\\n\tvroom & vroom       & /usr/lib/R/site-library & 1.6.5  & NA   & R (>= 3.6)    & bit64, cli (>= 3.2.0), crayon, glue, hms, lifecycle (>=\n1.0.3), methods, rlang (>= 0.4.2), stats, tibble (>= 2.0.0),\ntidyselect, tzdb (>= 0.1.1), vctrs (>= 0.2.0), withr                                                                                                                           & cpp11 (>= 0.2.0), progress (>= 1.2.1), tzdb (>= 0.1.1) & archive, bench (>= 1.1.0), covr, curl, dplyr, forcats, fs,\nggplot2, knitr, patchwork, prettyunits, purrr, rmarkdown,\nrstudioapi, scales, spelling, testthat (>= 2.1.0), tidyr,\nutils, waldo, xml2      & NA                                                    & MIT + file LICENSE                     & NA & NA & NA & NA & yes & 4.3.0\\\\\n\twaldo & waldo       & /usr/lib/R/site-library & 0.6.1  & NA   & R (>= 4.0)    & cli, diffobj (>= 0.3.4), glue, methods, rlang (>= 1.1.0)                                                                                                                                                                                                                                              & NA                                                     & bit64, R6, S7, testthat (>= 3.0.0), withr, xml2                                                                                                                                                           & NA                                                    & MIT + file LICENSE                     & NA & NA & NA & NA & no  & 4.4.0\\\\\n\twhisker & whisker     & /usr/lib/R/site-library & 0.4.1  & NA   & NA            & NA                                                                                                                                                                                                                                                                                                    & NA                                                     & markdown                                                                                                                                                                                                  & NA                                                    & GPL-3                                  & NA & NA & NA & NA & no  & 4.2.0\\\\\n\twithr & withr       & /usr/lib/R/site-library & 3.0.2  & NA   & R (>= 3.6.0)  & graphics, grDevices                                                                                                                                                                                                                                                                                   & NA                                                     & callr, DBI, knitr, methods, rlang, rmarkdown (>= 2.12),\nRSQLite, testthat (>= 3.0.0)                                                                                                                     & NA                                                    & MIT + file LICENSE                     & NA & NA & NA & NA & no  & 4.4.0\\\\\n\txfun & xfun        & /usr/lib/R/site-library & 0.50   & NA   & R (>= 3.2.0)  & grDevices, stats, tools                                                                                                                                                                                                                                                                               & NA                                                     & testit, parallel, codetools, methods, rstudioapi, tinytex (>=\n0.30), mime, litedown (>= 0.4), commonmark, knitr (>= 1.47),\nremotes, pak, rhub, renv, curl, xml2, jsonlite, magick, yaml,\nqs, rmarkdown & NA                                                    & MIT + file LICENSE                     & NA & NA & NA & NA & yes & 4.4.0\\\\\n\txml2 & xml2        & /usr/lib/R/site-library & 1.3.6  & NA   & R (>= 3.6.0)  & cli, methods, rlang (>= 1.1.0)                                                                                                                                                                                                                                                                        & NA                                                     & covr, curl, httr, knitr, magrittr, mockery, rmarkdown,\ntestthat (>= 3.0.0)                                                                                                                               & NA                                                    & MIT + file LICENSE                     & NA & NA & NA & NA & yes & 4.3.0\\\\\n\txopen & xopen       & /usr/lib/R/site-library & 1.0.1  & NA   & R (>= 3.1)    & processx                                                                                                                                                                                                                                                                                              & NA                                                     & ps, testthat (>= 3.0.0)                                                                                                                                                                                   & NA                                                    & MIT + file LICENSE                     & NA & NA & NA & NA & no  & 4.3.0\\\\\n\txtable & xtable      & /usr/lib/R/site-library & 1.8-4  & NA   & R (>= 2.10.0) & stats, utils                                                                                                                                                                                                                                                                                          & NA                                                     & knitr, plm, zoo, survival                                                                                                                                                                                 & NA                                                    & GPL (>= 2)                             & NA & NA & NA & NA & no  & 4.0.1\\\\\n\tyaml & yaml        & /usr/lib/R/site-library & 2.3.10 & NA   & NA            & NA                                                                                                                                                                                                                                                                                                    & NA                                                     & RUnit                                                                                                                                                                                                     & NA                                                    & BSD\\_3\\_clause + file LICENSE            & NA & NA & NA & NA & yes & 4.4.0\\\\\n\tzip & zip         & /usr/lib/R/site-library & 2.3.1  & NA   & NA            & NA                                                                                                                                                                                                                                                                                                    & NA                                                     & covr, processx, R6, testthat, withr                                                                                                                                                                       & NA                                                    & MIT + file LICENSE                     & NA & NA & NA & NA & yes & 4.3.0\\\\\n\tbase & base        & /usr/lib/R/library      & 4.4.2  & base & NA            & NA                                                                                                                                                                                                                                                                                                    & NA                                                     & methods                                                                                                                                                                                                   & chron, date, round                                    & Part of R 4.4.2                        & NA & NA & NA & NA & NA  & 4.4.2\\\\\n\tcompiler & compiler    & /usr/lib/R/library      & 4.4.2  & base & NA            & NA                                                                                                                                                                                                                                                                                                    & NA                                                     & NA                                                                                                                                                                                                        & NA                                                    & Part of R 4.4.2                        & NA & NA & NA & NA & NA  & 4.4.2\\\\\n\tdatasets & datasets    & /usr/lib/R/library      & 4.4.2  & base & NA            & NA                                                                                                                                                                                                                                                                                                    & NA                                                     & NA                                                                                                                                                                                                        & NA                                                    & Part of R 4.4.2                        & NA & NA & NA & NA & NA  & 4.4.2\\\\\n\tgraphics & graphics    & /usr/lib/R/library      & 4.4.2  & base & NA            & grDevices                                                                                                                                                                                                                                                                                             & NA                                                     & NA                                                                                                                                                                                                        & vcd                                                   & Part of R 4.4.2                        & NA & NA & NA & NA & yes & 4.4.2\\\\\n\tgrDevices & grDevices   & /usr/lib/R/library      & 4.4.2  & base & NA            & NA                                                                                                                                                                                                                                                                                                    & NA                                                     & KernSmooth                                                                                                                                                                                                & NA                                                    & Part of R 4.4.2                        & NA & NA & NA & NA & yes & 4.4.2\\\\\n\tgrid & grid        & /usr/lib/R/library      & 4.4.2  & base & NA            & grDevices, utils                                                                                                                                                                                                                                                                                      & NA                                                     & NA                                                                                                                                                                                                        & NA                                                    & Part of R 4.4.2                        & NA & NA & NA & NA & yes & 4.4.2\\\\\n\tmethods & methods     & /usr/lib/R/library      & 4.4.2  & base & NA            & utils, stats                                                                                                                                                                                                                                                                                          & NA                                                     & codetools                                                                                                                                                                                                 & NA                                                    & Part of R 4.4.2                        & NA & NA & NA & NA & yes & 4.4.2\\\\\n\tparallel & parallel    & /usr/lib/R/library      & 4.4.2  & base & NA            & tools, compiler                                                                                                                                                                                                                                                                                       & NA                                                     & methods                                                                                                                                                                                                   & snow, Rmpi                                            & Part of R 4.4.2                        & NA & NA & NA & NA & yes & 4.4.2\\\\\n\tsplines & splines     & /usr/lib/R/library      & 4.4.2  & base & NA            & graphics, stats                                                                                                                                                                                                                                                                                       & NA                                                     & Matrix, methods                                                                                                                                                                                           & NA                                                    & Part of R 4.4.2                        & NA & NA & NA & NA & yes & 4.4.2\\\\\n\tstats & stats       & /usr/lib/R/library      & 4.4.2  & base & NA            & utils, grDevices, graphics                                                                                                                                                                                                                                                                            & NA                                                     & MASS, Matrix, SuppDists, methods, stats4                                                                                                                                                                  & Kendall, coin, multcomp, pcaPP, pspearman, robustbase & Part of R 4.4.2                        & NA & NA & NA & NA & yes & 4.4.2\\\\\n\tstats4 & stats4      & /usr/lib/R/library      & 4.4.2  & base & NA            & graphics, methods, stats                                                                                                                                                                                                                                                                              & NA                                                     & NA                                                                                                                                                                                                        & NA                                                    & Part of R 4.4.2                        & NA & NA & NA & NA & NA  & 4.4.2\\\\\n\ttcltk & tcltk       & /usr/lib/R/library      & 4.4.2  & base & NA            & utils                                                                                                                                                                                                                                                                                                 & NA                                                     & NA                                                                                                                                                                                                        & NA                                                    & Part of R 4.4.2                        & NA & NA & NA & NA & yes & 4.4.2\\\\\n\ttools & tools       & /usr/lib/R/library      & 4.4.2  & base & NA            & NA                                                                                                                                                                                                                                                                                                    & NA                                                     & codetools, methods, xml2, curl, commonmark, knitr, xfun, mathjaxr, V8                                                                                                                                     & NA                                                    & Part of R 4.4.2                        & NA & NA & NA & NA & yes & 4.4.2\\\\\n\tutils & utils       & /usr/lib/R/library      & 4.4.2  & base & NA            & NA                                                                                                                                                                                                                                                                                                    & NA                                                     & methods, xml2, commonmark, knitr, jsonlite                                                                                                                                                                & NA                                                    & Part of R 4.4.2                        & NA & NA & NA & NA & yes & 4.4.2\\\\\n\\end{tabular}\n",
            "text/plain": [
              "            Package     LibPath                       Version Priority   \n",
              "dslabs      dslabs      /usr/local/lib/R/site-library 0.8.0   NA         \n",
              "IRdisplay   IRdisplay   /usr/local/lib/R/site-library 1.1     NA         \n",
              "IRkernel    IRkernel    /usr/local/lib/R/site-library 1.3.2   NA         \n",
              "pbdZMQ      pbdZMQ      /usr/local/lib/R/site-library 0.3-13  NA         \n",
              "repr        repr        /usr/local/lib/R/site-library 1.1.7   NA         \n",
              "askpass     askpass     /usr/lib/R/site-library       1.2.1   NA         \n",
              "backports   backports   /usr/lib/R/site-library       1.5.0   NA         \n",
              "base64enc   base64enc   /usr/lib/R/site-library       0.1-3   NA         \n",
              "bit         bit         /usr/lib/R/site-library       4.5.0.1 NA         \n",
              "bit64       bit64       /usr/lib/R/site-library       4.6.0-1 NA         \n",
              "blob        blob        /usr/lib/R/site-library       1.2.4   NA         \n",
              "boot        boot        /usr/lib/R/site-library       1.3-31  recommended\n",
              "brew        brew        /usr/lib/R/site-library       1.0-10  NA         \n",
              "brio        brio        /usr/lib/R/site-library       1.1.5   NA         \n",
              "broom       broom       /usr/lib/R/site-library       1.0.7   NA         \n",
              "bslib       bslib       /usr/lib/R/site-library       0.8.0   NA         \n",
              "cachem      cachem      /usr/lib/R/site-library       1.1.0   NA         \n",
              "callr       callr       /usr/lib/R/site-library       3.7.6   NA         \n",
              "cellranger  cellranger  /usr/lib/R/site-library       1.1.0   NA         \n",
              "class       class       /usr/lib/R/site-library       7.3-23  recommended\n",
              "cli         cli         /usr/lib/R/site-library       3.6.3   NA         \n",
              "clipr       clipr       /usr/lib/R/site-library       0.8.0   NA         \n",
              "cluster     cluster     /usr/lib/R/site-library       2.1.8   recommended\n",
              "codetools   codetools   /usr/lib/R/site-library       0.2-20  recommended\n",
              "colorspace  colorspace  /usr/lib/R/site-library       2.1-1   NA         \n",
              "commonmark  commonmark  /usr/lib/R/site-library       1.9.2   NA         \n",
              "conflicted  conflicted  /usr/lib/R/site-library       1.2.0   NA         \n",
              "cpp11       cpp11       /usr/lib/R/site-library       0.5.1   NA         \n",
              "crayon      crayon      /usr/lib/R/site-library       1.5.3   NA         \n",
              "credentials credentials /usr/lib/R/site-library       2.0.2   NA         \n",
              "⋮           ⋮           ⋮                             ⋮       ⋮          \n",
              "urlchecker  urlchecker  /usr/lib/R/site-library       1.0.1   NA         \n",
              "usethis     usethis     /usr/lib/R/site-library       3.1.0   NA         \n",
              "utf8        utf8        /usr/lib/R/site-library       1.2.4   NA         \n",
              "uuid        uuid        /usr/lib/R/site-library       1.2-1   NA         \n",
              "vctrs       vctrs       /usr/lib/R/site-library       0.6.5   NA         \n",
              "viridisLite viridisLite /usr/lib/R/site-library       0.4.2   NA         \n",
              "vroom       vroom       /usr/lib/R/site-library       1.6.5   NA         \n",
              "waldo       waldo       /usr/lib/R/site-library       0.6.1   NA         \n",
              "whisker     whisker     /usr/lib/R/site-library       0.4.1   NA         \n",
              "withr       withr       /usr/lib/R/site-library       3.0.2   NA         \n",
              "xfun        xfun        /usr/lib/R/site-library       0.50    NA         \n",
              "xml2        xml2        /usr/lib/R/site-library       1.3.6   NA         \n",
              "xopen       xopen       /usr/lib/R/site-library       1.0.1   NA         \n",
              "xtable      xtable      /usr/lib/R/site-library       1.8-4   NA         \n",
              "yaml        yaml        /usr/lib/R/site-library       2.3.10  NA         \n",
              "zip         zip         /usr/lib/R/site-library       2.3.1   NA         \n",
              "base        base        /usr/lib/R/library            4.4.2   base       \n",
              "compiler    compiler    /usr/lib/R/library            4.4.2   base       \n",
              "datasets    datasets    /usr/lib/R/library            4.4.2   base       \n",
              "graphics    graphics    /usr/lib/R/library            4.4.2   base       \n",
              "grDevices   grDevices   /usr/lib/R/library            4.4.2   base       \n",
              "grid        grid        /usr/lib/R/library            4.4.2   base       \n",
              "methods     methods     /usr/lib/R/library            4.4.2   base       \n",
              "parallel    parallel    /usr/lib/R/library            4.4.2   base       \n",
              "splines     splines     /usr/lib/R/library            4.4.2   base       \n",
              "stats       stats       /usr/lib/R/library            4.4.2   base       \n",
              "stats4      stats4      /usr/lib/R/library            4.4.2   base       \n",
              "tcltk       tcltk       /usr/lib/R/library            4.4.2   base       \n",
              "tools       tools       /usr/lib/R/library            4.4.2   base       \n",
              "utils       utils       /usr/lib/R/library            4.4.2   base       \n",
              "            Depends                      \n",
              "dslabs      R (>= 3.5.0)                 \n",
              "IRdisplay   R (>= 3.0.1)                 \n",
              "IRkernel    R (>= 3.2.0)                 \n",
              "pbdZMQ      R (>= 3.5.0)                 \n",
              "repr        R (>= 3.0.1)                 \n",
              "askpass     NA                           \n",
              "backports   R (>= 3.0.0)                 \n",
              "base64enc   R (>= 2.9.0)                 \n",
              "bit         R (>= 3.4.0)                 \n",
              "bit64       R (>= 3.4.0), bit (>= 4.0.0) \n",
              "blob        NA                           \n",
              "boot        R (>= 3.0.0), graphics, stats\n",
              "brew        NA                           \n",
              "brio        R (>= 3.6)                   \n",
              "broom       R (>= 3.5)                   \n",
              "bslib       R (>= 2.10)                  \n",
              "cachem      NA                           \n",
              "callr       R (>= 3.4)                   \n",
              "cellranger  R (>= 3.0.0)                 \n",
              "class       R (>= 3.0.0), stats, utils   \n",
              "cli         R (>= 3.4)                   \n",
              "clipr       NA                           \n",
              "cluster     R (>= 3.5.0)                 \n",
              "codetools   R (>= 2.1)                   \n",
              "colorspace  R (>= 3.0.0), methods        \n",
              "commonmark  NA                           \n",
              "conflicted  R (>= 3.2)                   \n",
              "cpp11       R (>= 4.0.0)                 \n",
              "crayon      NA                           \n",
              "credentials NA                           \n",
              "⋮           ⋮                            \n",
              "urlchecker  R (>= 3.3)                   \n",
              "usethis     R (>= 3.6)                   \n",
              "utf8        R (>= 2.10)                  \n",
              "uuid        R (>= 2.9.0)                 \n",
              "vctrs       R (>= 3.5.0)                 \n",
              "viridisLite R (>= 2.10)                  \n",
              "vroom       R (>= 3.6)                   \n",
              "waldo       R (>= 4.0)                   \n",
              "whisker     NA                           \n",
              "withr       R (>= 3.6.0)                 \n",
              "xfun        R (>= 3.2.0)                 \n",
              "xml2        R (>= 3.6.0)                 \n",
              "xopen       R (>= 3.1)                   \n",
              "xtable      R (>= 2.10.0)                \n",
              "yaml        NA                           \n",
              "zip         NA                           \n",
              "base        NA                           \n",
              "compiler    NA                           \n",
              "datasets    NA                           \n",
              "graphics    NA                           \n",
              "grDevices   NA                           \n",
              "grid        NA                           \n",
              "methods     NA                           \n",
              "parallel    NA                           \n",
              "splines     NA                           \n",
              "stats       NA                           \n",
              "stats4      NA                           \n",
              "tcltk       NA                           \n",
              "tools       NA                           \n",
              "utils       NA                           \n",
              "            Imports                                                                                                                                                                                                                                                                                              \n",
              "dslabs      ggplot2                                                                                                                                                                                                                                                                                              \n",
              "IRdisplay   methods, repr                                                                                                                                                                                                                                                                                        \n",
              "IRkernel    repr (>= 0.4.99), methods, evaluate (>= 0.10), IRdisplay (>=\\n0.3.0.9999), pbdZMQ (>= 0.2-1), crayon, jsonlite (>= 0.9.6),\\nuuid, digest                                                                                                                                                             \n",
              "pbdZMQ      NA                                                                                                                                                                                                                                                                                                   \n",
              "repr        utils, grDevices, htmltools, jsonlite, pillar (>= 1.4.0),\\nbase64enc                                                                                                                                                                                                                                 \n",
              "askpass     sys (>= 2.1)                                                                                                                                                                                                                                                                                         \n",
              "backports   NA                                                                                                                                                                                                                                                                                                   \n",
              "base64enc   NA                                                                                                                                                                                                                                                                                                   \n",
              "bit         NA                                                                                                                                                                                                                                                                                                   \n",
              "bit64       graphics, methods, stats, utils                                                                                                                                                                                                                                                                      \n",
              "blob        methods, rlang, vctrs (>= 0.2.1)                                                                                                                                                                                                                                                                     \n",
              "boot        NA                                                                                                                                                                                                                                                                                                   \n",
              "brew        NA                                                                                                                                                                                                                                                                                                   \n",
              "brio        NA                                                                                                                                                                                                                                                                                                   \n",
              "broom       backports, dplyr (>= 1.0.0), generics (>= 0.0.2), glue,\\nlifecycle, purrr, rlang, stringr, tibble (>= 3.0.0), tidyr (>=\\n1.0.0)                                                                                                                                                                      \n",
              "bslib       base64enc, cachem, fastmap (>= 1.1.1), grDevices, htmltools\\n(>= 0.5.8), jquerylib (>= 0.1.3), jsonlite, lifecycle, memoise\\n(>= 2.0.1), mime, rlang, sass (>= 0.4.9)                                                                                                                                \n",
              "cachem      rlang, fastmap (>= 1.2.0)                                                                                                                                                                                                                                                                            \n",
              "callr       processx (>= 3.6.1), R6, utils                                                                                                                                                                                                                                                                       \n",
              "cellranger  rematch, tibble                                                                                                                                                                                                                                                                                      \n",
              "class       MASS                                                                                                                                                                                                                                                                                                 \n",
              "cli         utils                                                                                                                                                                                                                                                                                                \n",
              "clipr       utils                                                                                                                                                                                                                                                                                                \n",
              "cluster     graphics, grDevices, stats, utils                                                                                                                                                                                                                                                                    \n",
              "codetools   NA                                                                                                                                                                                                                                                                                                   \n",
              "colorspace  graphics, grDevices, stats                                                                                                                                                                                                                                                                           \n",
              "commonmark  NA                                                                                                                                                                                                                                                                                                   \n",
              "conflicted  cli (>= 3.4.0), memoise, rlang (>= 1.0.0)                                                                                                                                                                                                                                                            \n",
              "cpp11       NA                                                                                                                                                                                                                                                                                                   \n",
              "crayon      grDevices, methods, utils                                                                                                                                                                                                                                                                            \n",
              "credentials openssl (>= 1.3), sys (>= 2.1), curl, jsonlite, askpass                                                                                                                                                                                                                                              \n",
              "⋮           ⋮                                                                                                                                                                                                                                                                                                    \n",
              "urlchecker  cli, curl, tools, xml2                                                                                                                                                                                                                                                                               \n",
              "usethis     cli (>= 3.0.1), clipr (>= 0.3.0), crayon, curl (>= 2.7), desc\\n(>= 1.4.2), fs (>= 1.3.0), gert (>= 1.4.1), gh (>= 1.2.1), glue\\n(>= 1.3.0), jsonlite, lifecycle (>= 1.0.0), purrr, rappdirs,\\nrlang (>= 1.1.0), rprojroot (>= 1.2), rstudioapi, stats, tools,\\nutils, whisker, withr (>= 2.3.0), yaml\n",
              "utf8        NA                                                                                                                                                                                                                                                                                                   \n",
              "uuid        NA                                                                                                                                                                                                                                                                                                   \n",
              "vctrs       cli (>= 3.4.0), glue, lifecycle (>= 1.0.3), rlang (>= 1.1.0)                                                                                                                                                                                                                                         \n",
              "viridisLite NA                                                                                                                                                                                                                                                                                                   \n",
              "vroom       bit64, cli (>= 3.2.0), crayon, glue, hms, lifecycle (>=\\n1.0.3), methods, rlang (>= 0.4.2), stats, tibble (>= 2.0.0),\\ntidyselect, tzdb (>= 0.1.1), vctrs (>= 0.2.0), withr                                                                                                                          \n",
              "waldo       cli, diffobj (>= 0.3.4), glue, methods, rlang (>= 1.1.0)                                                                                                                                                                                                                                             \n",
              "whisker     NA                                                                                                                                                                                                                                                                                                   \n",
              "withr       graphics, grDevices                                                                                                                                                                                                                                                                                  \n",
              "xfun        grDevices, stats, tools                                                                                                                                                                                                                                                                              \n",
              "xml2        cli, methods, rlang (>= 1.1.0)                                                                                                                                                                                                                                                                       \n",
              "xopen       processx                                                                                                                                                                                                                                                                                             \n",
              "xtable      stats, utils                                                                                                                                                                                                                                                                                         \n",
              "yaml        NA                                                                                                                                                                                                                                                                                                   \n",
              "zip         NA                                                                                                                                                                                                                                                                                                   \n",
              "base        NA                                                                                                                                                                                                                                                                                                   \n",
              "compiler    NA                                                                                                                                                                                                                                                                                                   \n",
              "datasets    NA                                                                                                                                                                                                                                                                                                   \n",
              "graphics    grDevices                                                                                                                                                                                                                                                                                            \n",
              "grDevices   NA                                                                                                                                                                                                                                                                                                   \n",
              "grid        grDevices, utils                                                                                                                                                                                                                                                                                     \n",
              "methods     utils, stats                                                                                                                                                                                                                                                                                         \n",
              "parallel    tools, compiler                                                                                                                                                                                                                                                                                      \n",
              "splines     graphics, stats                                                                                                                                                                                                                                                                                      \n",
              "stats       utils, grDevices, graphics                                                                                                                                                                                                                                                                           \n",
              "stats4      graphics, methods, stats                                                                                                                                                                                                                                                                             \n",
              "tcltk       utils                                                                                                                                                                                                                                                                                                \n",
              "tools       NA                                                                                                                                                                                                                                                                                                   \n",
              "utils       NA                                                                                                                                                                                                                                                                                                   \n",
              "            LinkingTo                                             \n",
              "dslabs      NA                                                    \n",
              "IRdisplay   NA                                                    \n",
              "IRkernel    NA                                                    \n",
              "pbdZMQ      NA                                                    \n",
              "repr        NA                                                    \n",
              "askpass     NA                                                    \n",
              "backports   NA                                                    \n",
              "base64enc   NA                                                    \n",
              "bit         NA                                                    \n",
              "bit64       NA                                                    \n",
              "blob        NA                                                    \n",
              "boot        NA                                                    \n",
              "brew        NA                                                    \n",
              "brio        NA                                                    \n",
              "broom       NA                                                    \n",
              "bslib       NA                                                    \n",
              "cachem      NA                                                    \n",
              "callr       NA                                                    \n",
              "cellranger  NA                                                    \n",
              "class       NA                                                    \n",
              "cli         NA                                                    \n",
              "clipr       NA                                                    \n",
              "cluster     NA                                                    \n",
              "codetools   NA                                                    \n",
              "colorspace  NA                                                    \n",
              "commonmark  NA                                                    \n",
              "conflicted  NA                                                    \n",
              "cpp11       NA                                                    \n",
              "crayon      NA                                                    \n",
              "credentials NA                                                    \n",
              "⋮           ⋮                                                     \n",
              "urlchecker  NA                                                    \n",
              "usethis     NA                                                    \n",
              "utf8        NA                                                    \n",
              "uuid        NA                                                    \n",
              "vctrs       NA                                                    \n",
              "viridisLite NA                                                    \n",
              "vroom       cpp11 (>= 0.2.0), progress (>= 1.2.1), tzdb (>= 0.1.1)\n",
              "waldo       NA                                                    \n",
              "whisker     NA                                                    \n",
              "withr       NA                                                    \n",
              "xfun        NA                                                    \n",
              "xml2        NA                                                    \n",
              "xopen       NA                                                    \n",
              "xtable      NA                                                    \n",
              "yaml        NA                                                    \n",
              "zip         NA                                                    \n",
              "base        NA                                                    \n",
              "compiler    NA                                                    \n",
              "datasets    NA                                                    \n",
              "graphics    NA                                                    \n",
              "grDevices   NA                                                    \n",
              "grid        NA                                                    \n",
              "methods     NA                                                    \n",
              "parallel    NA                                                    \n",
              "splines     NA                                                    \n",
              "stats       NA                                                    \n",
              "stats4      NA                                                    \n",
              "tcltk       NA                                                    \n",
              "tools       NA                                                    \n",
              "utils       NA                                                    \n",
              "            Suggests                                                                                                                                                                                                                                                                                                                                                                                                                                                                                                                                                                                                                                                                                                                                                                                                                 \n",
              "dslabs      NA                                                                                                                                                                                                                                                                                                                                                                                                                                                                                                                                                                                                                                                                                                                                                                                                                       \n",
              "IRdisplay   testthat, withr                                                                                                                                                                                                                                                                                                                                                                                                                                                                                                                                                                                                                                                                                                                                                                                                          \n",
              "IRkernel    testthat, roxygen2                                                                                                                                                                                                                                                                                                                                                                                                                                                                                                                                                                                                                                                                                                                                                                                                       \n",
              "pbdZMQ      NA                                                                                                                                                                                                                                                                                                                                                                                                                                                                                                                                                                                                                                                                                                                                                                                                                       \n",
              "repr        methods, highr, Cairo, stringr, testthat (>= 3.0.0), leaflet                                                                                                                                                                                                                                                                                                                                                                                                                                                                                                                                                                                                                                                                                                                                                             \n",
              "askpass     testthat                                                                                                                                                                                                                                                                                                                                                                                                                                                                                                                                                                                                                                                                                                                                                                                                                 \n",
              "backports   NA                                                                                                                                                                                                                                                                                                                                                                                                                                                                                                                                                                                                                                                                                                                                                                                                                       \n",
              "base64enc   NA                                                                                                                                                                                                                                                                                                                                                                                                                                                                                                                                                                                                                                                                                                                                                                                                                       \n",
              "bit         testthat (>= 0.11.0), roxygen2, knitr, markdown, rmarkdown,\\nmicrobenchmark, bit64 (>= 4.0.0), ff (>= 4.0.0)                                                                                                                                                                                                                                                                                                                                                                                                                                                                                                                                                                                                                                                                                                             \n",
              "bit64       testthat (>= 3.0.3), withr                                                                                                                                                                                                                                                                                                                                                                                                                                                                                                                                                                                                                                                                                                                                                                                               \n",
              "blob        covr, crayon, pillar (>= 1.2.1), testthat                                                                                                                                                                                                                                                                                                                                                                                                                                                                                                                                                                                                                                                                                                                                                                                \n",
              "boot        MASS, survival                                                                                                                                                                                                                                                                                                                                                                                                                                                                                                                                                                                                                                                                                                                                                                                                           \n",
              "brew        testthat (>= 3.0.0)                                                                                                                                                                                                                                                                                                                                                                                                                                                                                                                                                                                                                                                                                                                                                                                                      \n",
              "brio        covr, testthat (>= 3.0.0)                                                                                                                                                                                                                                                                                                                                                                                                                                                                                                                                                                                                                                                                                                                                                                                                \n",
              "broom       AER, AUC, bbmle, betareg (>= 3.2-1), biglm, binGroup, boot,\\nbtergm (>= 1.10.6), car (>= 3.1-2), carData, caret, cluster,\\ncmprsk, coda, covr, drc, e1071, emmeans, epiR, ergm (>=\\n3.10.4), fixest (>= 0.9.0), gam (>= 1.15), gee, geepack,\\nggplot2, glmnet, glmnetUtils, gmm, Hmisc, irlba, interp,\\njoineRML, Kendall, knitr, ks, Lahman, lavaan (>= 0.6.18),\\nleaps, lfe, lm.beta, lme4, lmodel2, lmtest (>= 0.9.38),\\nlsmeans, maps, margins, MASS, mclust, mediation, metafor, mfx,\\nmgcv, mlogit, modeldata, modeltests (>= 0.1.6), muhaz,\\nmultcomp, network, nnet, orcutt (>= 2.2), ordinal, plm, poLCA,\\npsych, quantreg, rmarkdown, robust, robustbase, rsample,\\nsandwich, spdep (>= 1.1), spatialreg, speedglm, spelling,\\nsurvey, survival (>= 3.6-4), systemfit, testthat (>= 2.1.0),\\ntseries, vars, zoo\n",
              "bslib       bsicons, curl, fontawesome, future, ggplot2, knitr, magrittr,\\nrappdirs, rmarkdown (>= 2.7), shiny (> 1.8.1), testthat,\\nthematic, withr                                                                                                                                                                                                                                                                                                                                                                                                                                                                                                                                                                                                                                                                                 \n",
              "cachem      testthat                                                                                                                                                                                                                                                                                                                                                                                                                                                                                                                                                                                                                                                                                                                                                                                                                 \n",
              "callr       asciicast (>= 2.3.1), cli (>= 1.1.0), mockery, ps, rprojroot,\\nspelling, testthat (>= 3.2.0), withr (>= 2.3.0)                                                                                                                                                                                                                                                                                                                                                                                                                                                                                                                                                                                                                                                                                                           \n",
              "cellranger  covr, testthat (>= 1.0.0), knitr, rmarkdown                                                                                                                                                                                                                                                                                                                                                                                                                                                                                                                                                                                                                                                                                                                                                                              \n",
              "class       NA                                                                                                                                                                                                                                                                                                                                                                                                                                                                                                                                                                                                                                                                                                                                                                                                                       \n",
              "cli         callr, covr, crayon, digest, glue (>= 1.6.0), grDevices,\\nhtmltools, htmlwidgets, knitr, methods, mockery, processx, ps\\n(>= 1.3.4.9000), rlang (>= 1.0.2.9003), rmarkdown, rprojroot,\\nrstudioapi, testthat, tibble, whoami, withr                                                                                                                                                                                                                                                                                                                                                                                                                                                                                                                                                                                      \n",
              "clipr       covr, knitr, rmarkdown, rstudioapi (>= 0.5), testthat (>=\\n2.0.0)                                                                                                                                                                                                                                                                                                                                                                                                                                                                                                                                                                                                                                                                                                                                                        \n",
              "cluster     MASS, Matrix                                                                                                                                                                                                                                                                                                                                                                                                                                                                                                                                                                                                                                                                                                                                                                                                             \n",
              "codetools   NA                                                                                                                                                                                                                                                                                                                                                                                                                                                                                                                                                                                                                                                                                                                                                                                                                       \n",
              "colorspace  datasets, utils, KernSmooth, MASS, kernlab, mvtnorm, vcd,\\ntcltk, shiny, shinyjs, ggplot2, dplyr, scales, grid, png, jpeg,\\nknitr, rmarkdown, RColorBrewer, rcartocolor, scico, viridis,\\nwesanderson                                                                                                                                                                                                                                                                                                                                                                                                                                                                                                                                                                                                                    \n",
              "commonmark  curl, testthat, xml2                                                                                                                                                                                                                                                                                                                                                                                                                                                                                                                                                                                                                                                                                                                                                                                                     \n",
              "conflicted  callr, covr, dplyr, Matrix, methods, pkgload, testthat (>=\\n3.0.0), withr                                                                                                                                                                                                                                                                                                                                                                                                                                                                                                                                                                                                                                                                                                                                                \n",
              "cpp11       bench, brio, callr, cli, covr, decor, desc, ggplot2, glue,\\nknitr, lobstr, mockery, progress, rmarkdown, scales, Rcpp,\\ntestthat (>= 3.2.0), tibble, utils, vctrs, withr                                                                                                                                                                                                                                                                                                                                                                                                                                                                                                                                                                                                                                                 \n",
              "crayon      mockery, rstudioapi, testthat, withr                                                                                                                                                                                                                                                                                                                                                                                                                                                                                                                                                                                                                                                                                                                                                                                     \n",
              "credentials testthat, knitr, rmarkdown                                                                                                                                                                                                                                                                                                                                                                                                                                                                                                                                                                                                                                                                                                                                                                                               \n",
              "⋮           ⋮                                                                                                                                                                                                                                                                                                                                                                                                                                                                                                                                                                                                                                                                                                                                                                                                                        \n",
              "urlchecker  covr                                                                                                                                                                                                                                                                                                                                                                                                                                                                                                                                                                                                                                                                                                                                                                                                                     \n",
              "usethis     covr, knitr, magick, pkgload (>= 1.3.2.1), rmarkdown,\\nroxygen2 (>= 7.1.2), spelling (>= 1.2), styler (>= 1.2.0),\\ntestthat (>= 3.1.8)                                                                                                                                                                                                                                                                                                                                                                                                                                                                                                                                                                                                                                                                                   \n",
              "utf8        cli, covr, knitr, rlang, rmarkdown, testthat (>= 3.0.0),\\nwithr                                                                                                                                                                                                                                                                                                                                                                                                                                                                                                                                                                                                                                                                                                                                                          \n",
              "uuid        NA                                                                                                                                                                                                                                                                                                                                                                                                                                                                                                                                                                                                                                                                                                                                                                                                                       \n",
              "vctrs       bit64, covr, crayon, dplyr (>= 0.8.5), generics, knitr,\\npillar (>= 1.4.4), pkgdown (>= 2.0.1), rmarkdown, testthat (>=\\n3.0.0), tibble (>= 3.1.3), waldo (>= 0.2.0), withr, xml2,\\nzeallot                                                                                                                                                                                                                                                                                                                                                                                                                                                                                                                                                                                                                              \n",
              "viridisLite hexbin (>= 1.27.0), ggplot2 (>= 1.0.1), testthat, covr                                                                                                                                                                                                                                                                                                                                                                                                                                                                                                                                                                                                                                                                                                                                                                   \n",
              "vroom       archive, bench (>= 1.1.0), covr, curl, dplyr, forcats, fs,\\nggplot2, knitr, patchwork, prettyunits, purrr, rmarkdown,\\nrstudioapi, scales, spelling, testthat (>= 2.1.0), tidyr,\\nutils, waldo, xml2                                                                                                                                                                                                                                                                                                                                                                                                                                                                                                                                                                                                                     \n",
              "waldo       bit64, R6, S7, testthat (>= 3.0.0), withr, xml2                                                                                                                                                                                                                                                                                                                                                                                                                                                                                                                                                                                                                                                                                                                                                                          \n",
              "whisker     markdown                                                                                                                                                                                                                                                                                                                                                                                                                                                                                                                                                                                                                                                                                                                                                                                                                 \n",
              "withr       callr, DBI, knitr, methods, rlang, rmarkdown (>= 2.12),\\nRSQLite, testthat (>= 3.0.0)                                                                                                                                                                                                                                                                                                                                                                                                                                                                                                                                                                                                                                                                                                                                    \n",
              "xfun        testit, parallel, codetools, methods, rstudioapi, tinytex (>=\\n0.30), mime, litedown (>= 0.4), commonmark, knitr (>= 1.47),\\nremotes, pak, rhub, renv, curl, xml2, jsonlite, magick, yaml,\\nqs, rmarkdown                                                                                                                                                                                                                                                                                                                                                                                                                                                                                                                                                                                                                \n",
              "xml2        covr, curl, httr, knitr, magrittr, mockery, rmarkdown,\\ntestthat (>= 3.0.0)                                                                                                                                                                                                                                                                                                                                                                                                                                                                                                                                                                                                                                                                                                                                              \n",
              "xopen       ps, testthat (>= 3.0.0)                                                                                                                                                                                                                                                                                                                                                                                                                                                                                                                                                                                                                                                                                                                                                                                                  \n",
              "xtable      knitr, plm, zoo, survival                                                                                                                                                                                                                                                                                                                                                                                                                                                                                                                                                                                                                                                                                                                                                                                                \n",
              "yaml        RUnit                                                                                                                                                                                                                                                                                                                                                                                                                                                                                                                                                                                                                                                                                                                                                                                                                    \n",
              "zip         covr, processx, R6, testthat, withr                                                                                                                                                                                                                                                                                                                                                                                                                                                                                                                                                                                                                                                                                                                                                                                      \n",
              "base        methods                                                                                                                                                                                                                                                                                                                                                                                                                                                                                                                                                                                                                                                                                                                                                                                                                  \n",
              "compiler    NA                                                                                                                                                                                                                                                                                                                                                                                                                                                                                                                                                                                                                                                                                                                                                                                                                       \n",
              "datasets    NA                                                                                                                                                                                                                                                                                                                                                                                                                                                                                                                                                                                                                                                                                                                                                                                                                       \n",
              "graphics    NA                                                                                                                                                                                                                                                                                                                                                                                                                                                                                                                                                                                                                                                                                                                                                                                                                       \n",
              "grDevices   KernSmooth                                                                                                                                                                                                                                                                                                                                                                                                                                                                                                                                                                                                                                                                                                                                                                                                               \n",
              "grid        NA                                                                                                                                                                                                                                                                                                                                                                                                                                                                                                                                                                                                                                                                                                                                                                                                                       \n",
              "methods     codetools                                                                                                                                                                                                                                                                                                                                                                                                                                                                                                                                                                                                                                                                                                                                                                                                                \n",
              "parallel    methods                                                                                                                                                                                                                                                                                                                                                                                                                                                                                                                                                                                                                                                                                                                                                                                                                  \n",
              "splines     Matrix, methods                                                                                                                                                                                                                                                                                                                                                                                                                                                                                                                                                                                                                                                                                                                                                                                                          \n",
              "stats       MASS, Matrix, SuppDists, methods, stats4                                                                                                                                                                                                                                                                                                                                                                                                                                                                                                                                                                                                                                                                                                                                                                                 \n",
              "stats4      NA                                                                                                                                                                                                                                                                                                                                                                                                                                                                                                                                                                                                                                                                                                                                                                                                                       \n",
              "tcltk       NA                                                                                                                                                                                                                                                                                                                                                                                                                                                                                                                                                                                                                                                                                                                                                                                                                       \n",
              "tools       codetools, methods, xml2, curl, commonmark, knitr, xfun, mathjaxr, V8                                                                                                                                                                                                                                                                                                                                                                                                                                                                                                                                                                                                                                                                                                                                                    \n",
              "utils       methods, xml2, commonmark, knitr, jsonlite                                                                                                                                                                                                                                                                                                                                                                                                                                                                                                                                                                                                                                                                                                                                                                               \n",
              "            Enhances                                                    \n",
              "dslabs      NA                                                          \n",
              "IRdisplay   NA                                                          \n",
              "IRkernel    NA                                                          \n",
              "pbdZMQ      NA                                                          \n",
              "repr        data.table, tibble, htmlwidgets, vegalite, plotly, geojsonio\n",
              "askpass     NA                                                          \n",
              "backports   NA                                                          \n",
              "base64enc   png                                                         \n",
              "bit         NA                                                          \n",
              "bit64       NA                                                          \n",
              "blob        NA                                                          \n",
              "boot        NA                                                          \n",
              "brew        NA                                                          \n",
              "brio        NA                                                          \n",
              "broom       NA                                                          \n",
              "bslib       NA                                                          \n",
              "cachem      NA                                                          \n",
              "callr       NA                                                          \n",
              "cellranger  NA                                                          \n",
              "class       NA                                                          \n",
              "cli         NA                                                          \n",
              "clipr       NA                                                          \n",
              "cluster     mvoutlier, fpc, ellipse, sfsmisc                            \n",
              "codetools   NA                                                          \n",
              "colorspace  NA                                                          \n",
              "commonmark  NA                                                          \n",
              "conflicted  NA                                                          \n",
              "cpp11       NA                                                          \n",
              "crayon      NA                                                          \n",
              "credentials NA                                                          \n",
              "⋮           ⋮                                                           \n",
              "urlchecker  NA                                                          \n",
              "usethis     NA                                                          \n",
              "utf8        NA                                                          \n",
              "uuid        NA                                                          \n",
              "vctrs       NA                                                          \n",
              "viridisLite NA                                                          \n",
              "vroom       NA                                                          \n",
              "waldo       NA                                                          \n",
              "whisker     NA                                                          \n",
              "withr       NA                                                          \n",
              "xfun        NA                                                          \n",
              "xml2        NA                                                          \n",
              "xopen       NA                                                          \n",
              "xtable      NA                                                          \n",
              "yaml        NA                                                          \n",
              "zip         NA                                                          \n",
              "base        chron, date, round                                          \n",
              "compiler    NA                                                          \n",
              "datasets    NA                                                          \n",
              "graphics    vcd                                                         \n",
              "grDevices   NA                                                          \n",
              "grid        NA                                                          \n",
              "methods     NA                                                          \n",
              "parallel    snow, Rmpi                                                  \n",
              "splines     NA                                                          \n",
              "stats       Kendall, coin, multcomp, pcaPP, pspearman, robustbase       \n",
              "stats4      NA                                                          \n",
              "tcltk       NA                                                          \n",
              "tools       NA                                                          \n",
              "utils       NA                                                          \n",
              "            License                                License_is_FOSS\n",
              "dslabs      Artistic-2.0                           NA             \n",
              "IRdisplay   MIT + file LICENSE                     NA             \n",
              "IRkernel    MIT + file LICENSE                     NA             \n",
              "pbdZMQ      GPL-3                                  NA             \n",
              "repr        GPL (>= 3)                             NA             \n",
              "askpass     MIT + file LICENSE                     NA             \n",
              "backports   GPL-2 | GPL-3                          NA             \n",
              "base64enc   GPL-2 | GPL-3                          NA             \n",
              "bit         GPL-2 | GPL-3                          NA             \n",
              "bit64       GPL-2 | GPL-3                          NA             \n",
              "blob        MIT + file LICENSE                     NA             \n",
              "boot        Unlimited                              NA             \n",
              "brew        GPL (>= 2)                             NA             \n",
              "brio        MIT + file LICENSE                     NA             \n",
              "broom       MIT + file LICENSE                     NA             \n",
              "bslib       MIT + file LICENSE                     NA             \n",
              "cachem      MIT + file LICENSE                     NA             \n",
              "callr       MIT + file LICENSE                     NA             \n",
              "cellranger  MIT + file LICENSE                     NA             \n",
              "class       GPL-2 | GPL-3                          NA             \n",
              "cli         MIT + file LICENSE                     NA             \n",
              "clipr       GPL-3                                  NA             \n",
              "cluster     GPL (>= 2)                             NA             \n",
              "codetools   GPL                                    NA             \n",
              "colorspace  BSD_3_clause + file LICENSE            NA             \n",
              "commonmark  BSD_2_clause + file LICENSE            NA             \n",
              "conflicted  MIT + file LICENSE                     NA             \n",
              "cpp11       MIT + file LICENSE                     NA             \n",
              "crayon      MIT + file LICENSE                     NA             \n",
              "credentials MIT + file LICENSE                     NA             \n",
              "⋮           ⋮                                      ⋮              \n",
              "urlchecker  GPL-3                                  NA             \n",
              "usethis     MIT + file LICENSE                     NA             \n",
              "utf8        Apache License (== 2.0) | file LICENSE NA             \n",
              "uuid        MIT + file LICENSE                     NA             \n",
              "vctrs       MIT + file LICENSE                     NA             \n",
              "viridisLite MIT + file LICENSE                     NA             \n",
              "vroom       MIT + file LICENSE                     NA             \n",
              "waldo       MIT + file LICENSE                     NA             \n",
              "whisker     GPL-3                                  NA             \n",
              "withr       MIT + file LICENSE                     NA             \n",
              "xfun        MIT + file LICENSE                     NA             \n",
              "xml2        MIT + file LICENSE                     NA             \n",
              "xopen       MIT + file LICENSE                     NA             \n",
              "xtable      GPL (>= 2)                             NA             \n",
              "yaml        BSD_3_clause + file LICENSE            NA             \n",
              "zip         MIT + file LICENSE                     NA             \n",
              "base        Part of R 4.4.2                        NA             \n",
              "compiler    Part of R 4.4.2                        NA             \n",
              "datasets    Part of R 4.4.2                        NA             \n",
              "graphics    Part of R 4.4.2                        NA             \n",
              "grDevices   Part of R 4.4.2                        NA             \n",
              "grid        Part of R 4.4.2                        NA             \n",
              "methods     Part of R 4.4.2                        NA             \n",
              "parallel    Part of R 4.4.2                        NA             \n",
              "splines     Part of R 4.4.2                        NA             \n",
              "stats       Part of R 4.4.2                        NA             \n",
              "stats4      Part of R 4.4.2                        NA             \n",
              "tcltk       Part of R 4.4.2                        NA             \n",
              "tools       Part of R 4.4.2                        NA             \n",
              "utils       Part of R 4.4.2                        NA             \n",
              "            License_restricts_use OS_type MD5sum NeedsCompilation Built\n",
              "dslabs      NA                    NA      NA     no               4.4.2\n",
              "IRdisplay   NA                    NA      NA     no               4.4.2\n",
              "IRkernel    NA                    NA      NA     no               4.4.2\n",
              "pbdZMQ      NA                    NA      NA     yes              4.4.2\n",
              "repr        NA                    NA      NA     no               4.4.2\n",
              "askpass     NA                    NA      NA     yes              4.4.0\n",
              "backports   NA                    NA      NA     yes              4.4.0\n",
              "base64enc   NA                    NA      NA     yes              4.0.2\n",
              "bit         NA                    NA      NA     yes              4.4.0\n",
              "bit64       NA                    NA      NA     yes              4.4.0\n",
              "blob        NA                    NA      NA     no               4.2.0\n",
              "boot        NA                    NA      NA     no               4.4.0\n",
              "brew        NA                    NA      NA     no               4.3.0\n",
              "brio        NA                    NA      NA     yes              4.3.0\n",
              "broom       NA                    NA      NA     no               4.4.0\n",
              "bslib       NA                    NA      NA     no               4.4.0\n",
              "cachem      NA                    NA      NA     yes              4.4.0\n",
              "callr       NA                    NA      NA     no               4.3.0\n",
              "cellranger  NA                    NA      NA     no               4.0.1\n",
              "class       NA                    NA      NA     yes              4.4.0\n",
              "cli         NA                    NA      NA     yes              4.4.0\n",
              "clipr       NA                    NA      NA     no               4.2.0\n",
              "cluster     NA                    NA      NA     yes              4.4.0\n",
              "codetools   NA                    NA      NA     no               4.3.0\n",
              "colorspace  NA                    NA      NA     yes              4.4.0\n",
              "commonmark  NA                    NA      NA     yes              4.4.0\n",
              "conflicted  NA                    NA      NA     no               4.2.0\n",
              "cpp11       NA                    NA      NA     no               4.4.0\n",
              "crayon      NA                    NA      NA     no               4.4.0\n",
              "credentials NA                    NA      NA     no               4.4.0\n",
              "⋮           ⋮                     ⋮       ⋮      ⋮                ⋮    \n",
              "urlchecker  NA                    NA      NA     no               4.2.0\n",
              "usethis     NA                    NA      NA     no               4.4.0\n",
              "utf8        NA                    NA      NA     yes              4.3.0\n",
              "uuid        NA                    NA      NA     yes              4.4.0\n",
              "vctrs       NA                    NA      NA     yes              4.3.0\n",
              "viridisLite NA                    NA      NA     no               4.2.0\n",
              "vroom       NA                    NA      NA     yes              4.3.0\n",
              "waldo       NA                    NA      NA     no               4.4.0\n",
              "whisker     NA                    NA      NA     no               4.2.0\n",
              "withr       NA                    NA      NA     no               4.4.0\n",
              "xfun        NA                    NA      NA     yes              4.4.0\n",
              "xml2        NA                    NA      NA     yes              4.3.0\n",
              "xopen       NA                    NA      NA     no               4.3.0\n",
              "xtable      NA                    NA      NA     no               4.0.1\n",
              "yaml        NA                    NA      NA     yes              4.4.0\n",
              "zip         NA                    NA      NA     yes              4.3.0\n",
              "base        NA                    NA      NA     NA               4.4.2\n",
              "compiler    NA                    NA      NA     NA               4.4.2\n",
              "datasets    NA                    NA      NA     NA               4.4.2\n",
              "graphics    NA                    NA      NA     yes              4.4.2\n",
              "grDevices   NA                    NA      NA     yes              4.4.2\n",
              "grid        NA                    NA      NA     yes              4.4.2\n",
              "methods     NA                    NA      NA     yes              4.4.2\n",
              "parallel    NA                    NA      NA     yes              4.4.2\n",
              "splines     NA                    NA      NA     yes              4.4.2\n",
              "stats       NA                    NA      NA     yes              4.4.2\n",
              "stats4      NA                    NA      NA     NA               4.4.2\n",
              "tcltk       NA                    NA      NA     yes              4.4.2\n",
              "tools       NA                    NA      NA     yes              4.4.2\n",
              "utils       NA                    NA      NA     yes              4.4.2"
            ]
          },
          "metadata": {}
        }
      ]
    },
    {
      "cell_type": "markdown",
      "source": [
        "<br>\n",
        "\n",
        "<br>"
      ],
      "metadata": {
        "id": "yLUMrgqmjUFn"
      }
    },
    {
      "cell_type": "markdown",
      "source": [
        "### A note on R libraries and Google Colaboratory\n",
        "\n",
        "* Typically, packages/libraries only need to be installed one time\n",
        "\n",
        "* However, any packages we use must be installed each time we run a Google Colaboratory notebook\n",
        "\n",
        "* If using an installed library, the library must be loaded every new `R` session"
      ],
      "metadata": {
        "id": "DvHVsRq_jZg9"
      }
    },
    {
      "cell_type": "markdown",
      "source": [
        "<br>\n",
        "\n",
        "<br>"
      ],
      "metadata": {
        "id": "Io21bCitjZg-"
      }
    },
    {
      "cell_type": "markdown",
      "source": [
        "---\n",
        "\n",
        "<br>"
      ],
      "metadata": {
        "id": "B6wtkoqeimVK"
      }
    },
    {
      "cell_type": "markdown",
      "source": [
        "## R Workspace"
      ],
      "metadata": {
        "id": "gfo0cspL-yIs"
      }
    },
    {
      "cell_type": "markdown",
      "source": [
        "* Every time we assign a variable or create a function, it is stored in the \"R Workspace\"\n",
        "\n",
        "* We can check all of the objects stored in our workspace using the `ls()` function"
      ],
      "metadata": {
        "id": "MOKLPUqc_vRJ"
      }
    },
    {
      "cell_type": "code",
      "source": [
        "# list all objects in the workspace\n",
        "ls()"
      ],
      "metadata": {
        "id": "xgtd08kkAHQi",
        "colab": {
          "base_uri": "https://localhost:8080/",
          "height": 34
        },
        "outputId": "536eac10-1613-4e75-8297-ed9cb131fca0"
      },
      "execution_count": null,
      "outputs": [
        {
          "output_type": "display_data",
          "data": {
            "text/html": [
              "<style>\n",
              ".list-inline {list-style: none; margin:0; padding: 0}\n",
              ".list-inline>li {display: inline-block}\n",
              ".list-inline>li:not(:last-child)::after {content: \"\\00b7\"; padding: 0 .5ex}\n",
              "</style>\n",
              "<ol class=list-inline><li>'a'</li><li>'A'</li><li>'e'</li><li>'i_am_defining_1_variable'</li><li>'mtcars'</li><li>'murders'</li><li>'my.number'</li><li>'x'</li><li>'y'</li><li>'z'</li></ol>\n"
            ],
            "text/markdown": "1. 'a'\n2. 'A'\n3. 'e'\n4. 'i_am_defining_1_variable'\n5. 'mtcars'\n6. 'murders'\n7. 'my.number'\n8. 'x'\n9. 'y'\n10. 'z'\n\n\n",
            "text/latex": "\\begin{enumerate*}\n\\item 'a'\n\\item 'A'\n\\item 'e'\n\\item 'i\\_am\\_defining\\_1\\_variable'\n\\item 'mtcars'\n\\item 'murders'\n\\item 'my.number'\n\\item 'x'\n\\item 'y'\n\\item 'z'\n\\end{enumerate*}\n",
            "text/plain": [
              " [1] \"a\"                        \"A\"                       \n",
              " [3] \"e\"                        \"i_am_defining_1_variable\"\n",
              " [5] \"mtcars\"                   \"murders\"                 \n",
              " [7] \"my.number\"                \"x\"                       \n",
              " [9] \"y\"                        \"z\"                       "
            ]
          },
          "metadata": {}
        }
      ]
    },
    {
      "cell_type": "markdown",
      "source": [
        "<br>\n",
        "\n",
        "<br>"
      ],
      "metadata": {
        "id": "Q9WYbe4cAPO7"
      }
    },
    {
      "cell_type": "markdown",
      "source": [
        "* We can remove objects from the workspace using the `rm()` function"
      ],
      "metadata": {
        "id": "DpGdxBdnARKX"
      }
    },
    {
      "cell_type": "code",
      "source": [
        "# check the value of x\n",
        "x"
      ],
      "metadata": {
        "id": "6E7P6RmMA03A",
        "colab": {
          "base_uri": "https://localhost:8080/",
          "height": 34
        },
        "outputId": "38a364e7-4b5d-44c5-a96a-82962db17517"
      },
      "execution_count": null,
      "outputs": [
        {
          "output_type": "display_data",
          "data": {
            "text/html": [
              "5"
            ],
            "text/markdown": "5",
            "text/latex": "5",
            "text/plain": [
              "[1] 5"
            ]
          },
          "metadata": {}
        }
      ]
    },
    {
      "cell_type": "code",
      "source": [
        "# remove the variable x from the R workspace\n",
        "rm('x')"
      ],
      "metadata": {
        "id": "JFTyFotE-yIt"
      },
      "execution_count": null,
      "outputs": []
    },
    {
      "cell_type": "code",
      "source": [
        "# show the updated workspace\n",
        "ls()"
      ],
      "metadata": {
        "id": "QBcnp076Awdp",
        "colab": {
          "base_uri": "https://localhost:8080/",
          "height": 34
        },
        "outputId": "12b9c96a-c4c4-401a-81c5-bae3eb1b4937"
      },
      "execution_count": null,
      "outputs": [
        {
          "output_type": "display_data",
          "data": {
            "text/html": [
              "<style>\n",
              ".list-inline {list-style: none; margin:0; padding: 0}\n",
              ".list-inline>li {display: inline-block}\n",
              ".list-inline>li:not(:last-child)::after {content: \"\\00b7\"; padding: 0 .5ex}\n",
              "</style>\n",
              "<ol class=list-inline><li>'a'</li><li>'A'</li><li>'e'</li><li>'i_am_defining_1_variable'</li><li>'mtcars'</li><li>'murders'</li><li>'my.number'</li><li>'y'</li><li>'z'</li></ol>\n"
            ],
            "text/markdown": "1. 'a'\n2. 'A'\n3. 'e'\n4. 'i_am_defining_1_variable'\n5. 'mtcars'\n6. 'murders'\n7. 'my.number'\n8. 'y'\n9. 'z'\n\n\n",
            "text/latex": "\\begin{enumerate*}\n\\item 'a'\n\\item 'A'\n\\item 'e'\n\\item 'i\\_am\\_defining\\_1\\_variable'\n\\item 'mtcars'\n\\item 'murders'\n\\item 'my.number'\n\\item 'y'\n\\item 'z'\n\\end{enumerate*}\n",
            "text/plain": [
              "[1] \"a\"                        \"A\"                       \n",
              "[3] \"e\"                        \"i_am_defining_1_variable\"\n",
              "[5] \"mtcars\"                   \"murders\"                 \n",
              "[7] \"my.number\"                \"y\"                       \n",
              "[9] \"z\"                       "
            ]
          },
          "metadata": {}
        }
      ]
    },
    {
      "cell_type": "code",
      "source": [
        "# x is no longer in the workspace\n",
        "x"
      ],
      "metadata": {
        "id": "j37JoPntA5tl",
        "colab": {
          "base_uri": "https://localhost:8080/",
          "height": 72
        },
        "outputId": "ffe27a78-e3d4-4652-fcc3-1fdcb1bdb588"
      },
      "execution_count": null,
      "outputs": [
        {
          "output_type": "error",
          "ename": "ERROR",
          "evalue": "Error: object 'x' not found\n",
          "traceback": [
            "Error: object 'x' not found\nTraceback:\n"
          ]
        }
      ]
    },
    {
      "cell_type": "markdown",
      "source": [
        "<br>\n",
        "\n",
        "<br>"
      ],
      "metadata": {
        "id": "1W8w3LggA8KU"
      }
    },
    {
      "cell_type": "markdown",
      "source": [
        "* We can remove all objects from the workspace"
      ],
      "metadata": {
        "id": "PicvbLTbA8KV"
      }
    },
    {
      "cell_type": "code",
      "source": [
        "# remove all objects from the workspace\n",
        "rm(list = ls())"
      ],
      "metadata": {
        "id": "TGDEJ8VFA_6I"
      },
      "execution_count": null,
      "outputs": []
    },
    {
      "cell_type": "code",
      "source": [
        "# show the updated workspace\n",
        "ls()"
      ],
      "metadata": {
        "id": "IRSl8X0EBDF4",
        "colab": {
          "base_uri": "https://localhost:8080/",
          "height": 17
        },
        "outputId": "3b0df527-f252-4a5a-e248-09360fd84938"
      },
      "execution_count": null,
      "outputs": [
        {
          "output_type": "display_data",
          "data": {
            "text/html": [],
            "text/markdown": "",
            "text/latex": "",
            "text/plain": [
              "character(0)"
            ]
          },
          "metadata": {}
        }
      ]
    },
    {
      "cell_type": "markdown",
      "source": [
        "<br>\n",
        "\n",
        "<br>"
      ],
      "metadata": {
        "id": "wFVxj8nD-yIt"
      }
    },
    {
      "cell_type": "markdown",
      "source": [
        "---\n",
        "\n",
        "<br>"
      ],
      "metadata": {
        "id": "jEBVHEwx-yIu"
      }
    },
    {
      "cell_type": "markdown",
      "source": [
        "## Scripting and Linear Logic"
      ],
      "metadata": {
        "id": "s5j0pUK2jgsV"
      }
    },
    {
      "cell_type": "markdown",
      "source": [
        "* Code in `R` is typically written as a \"script\"\n",
        "\n",
        "* A script is a sequence of commands that perform perform tasks, analyses, or data manipulations\n",
        "\n",
        "* Everything we have done thus far is scripting!"
      ],
      "metadata": {
        "id": "u4jxtm2qCvoI"
      }
    },
    {
      "cell_type": "markdown",
      "source": [
        "<br>\n",
        "\n",
        "<br>"
      ],
      "metadata": {
        "id": "2sycSGVCjgsX"
      }
    },
    {
      "cell_type": "markdown",
      "source": [
        "---\n",
        "\n",
        "<br>"
      ],
      "metadata": {
        "id": "akm7Fc1kjgsX"
      }
    },
    {
      "cell_type": "markdown",
      "source": [
        "## Commenting Code and Coding Guidelines\n",
        "\n",
        "* Notice that we have been using the hashtag `#` in many lines of our code\n",
        "\n",
        "* A line of code after a `#` symbol is a comment and is ignored by R\n",
        "\n",
        "* Comments are very useful for keeping your code organized and readable"
      ],
      "metadata": {
        "id": "tzBBqwczjky5"
      }
    },
    {
      "cell_type": "code",
      "source": [
        "# head(mtcars)"
      ],
      "metadata": {
        "id": "DYl18I8Ijky6"
      },
      "execution_count": null,
      "outputs": []
    }
  ]
}