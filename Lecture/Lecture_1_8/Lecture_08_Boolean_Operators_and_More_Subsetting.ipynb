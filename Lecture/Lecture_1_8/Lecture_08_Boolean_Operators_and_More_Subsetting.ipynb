{
  "nbformat": 4,
  "nbformat_minor": 0,
  "metadata": {
    "colab": {
      "provenance": []
    },
    "kernelspec": {
      "name": "ir",
      "display_name": "R"
    }
  },
  "cells": [
    {
      "cell_type": "markdown",
      "metadata": {
        "id": "gtETsh5j8vHw"
      },
      "source": [
        "# **Lecture 08 - Boolean Operators and More Subsetting**\n",
        "\n",
        "---\n",
        "\n",
        "<br>"
      ]
    },
    {
      "cell_type": "markdown",
      "source": [
        "## Packages"
      ],
      "metadata": {
        "id": "QdyJzDgAsFNZ"
      }
    },
    {
      "cell_type": "code",
      "source": [
        "# install packages for today's lecture\n",
        "install.packages(\"dslabs\")"
      ],
      "metadata": {
        "id": "O-drIaQ-4cWQ",
        "colab": {
          "base_uri": "https://localhost:8080/"
        },
        "outputId": "43b0625a-998c-41fb-b2c7-37369c847c57"
      },
      "execution_count": null,
      "outputs": [
        {
          "output_type": "stream",
          "name": "stderr",
          "text": [
            "Installing package into ‘/usr/local/lib/R/site-library’\n",
            "(as ‘lib’ is unspecified)\n",
            "\n"
          ]
        }
      ]
    },
    {
      "cell_type": "code",
      "source": [
        "# load the necessary packages\n",
        "library(dslabs)"
      ],
      "metadata": {
        "id": "fYGjK4oX4jSn"
      },
      "execution_count": null,
      "outputs": []
    },
    {
      "cell_type": "code",
      "source": [
        "# load murders dataset from the dslabs package\n",
        "data(murders)"
      ],
      "metadata": {
        "id": "-TCNpTzSAREP"
      },
      "execution_count": null,
      "outputs": []
    },
    {
      "cell_type": "code",
      "source": [
        "# view the first few lines\n",
        "head(murders)"
      ],
      "metadata": {
        "id": "FpQhat4LAVhA",
        "colab": {
          "base_uri": "https://localhost:8080/",
          "height": 286
        },
        "outputId": "e22042f1-13c6-4d23-d863-3bf2fcb4ce76"
      },
      "execution_count": null,
      "outputs": [
        {
          "output_type": "display_data",
          "data": {
            "text/html": [
              "<table class=\"dataframe\">\n",
              "<caption>A data.frame: 6 × 5</caption>\n",
              "<thead>\n",
              "\t<tr><th></th><th scope=col>state</th><th scope=col>abb</th><th scope=col>region</th><th scope=col>population</th><th scope=col>total</th></tr>\n",
              "\t<tr><th></th><th scope=col>&lt;chr&gt;</th><th scope=col>&lt;chr&gt;</th><th scope=col>&lt;fct&gt;</th><th scope=col>&lt;dbl&gt;</th><th scope=col>&lt;dbl&gt;</th></tr>\n",
              "</thead>\n",
              "<tbody>\n",
              "\t<tr><th scope=row>1</th><td>Alabama   </td><td>AL</td><td>South</td><td> 4779736</td><td> 135</td></tr>\n",
              "\t<tr><th scope=row>2</th><td>Alaska    </td><td>AK</td><td>West </td><td>  710231</td><td>  19</td></tr>\n",
              "\t<tr><th scope=row>3</th><td>Arizona   </td><td>AZ</td><td>West </td><td> 6392017</td><td> 232</td></tr>\n",
              "\t<tr><th scope=row>4</th><td>Arkansas  </td><td>AR</td><td>South</td><td> 2915918</td><td>  93</td></tr>\n",
              "\t<tr><th scope=row>5</th><td>California</td><td>CA</td><td>West </td><td>37253956</td><td>1257</td></tr>\n",
              "\t<tr><th scope=row>6</th><td>Colorado  </td><td>CO</td><td>West </td><td> 5029196</td><td>  65</td></tr>\n",
              "</tbody>\n",
              "</table>\n"
            ],
            "text/markdown": "\nA data.frame: 6 × 5\n\n| <!--/--> | state &lt;chr&gt; | abb &lt;chr&gt; | region &lt;fct&gt; | population &lt;dbl&gt; | total &lt;dbl&gt; |\n|---|---|---|---|---|---|\n| 1 | Alabama    | AL | South |  4779736 |  135 |\n| 2 | Alaska     | AK | West  |   710231 |   19 |\n| 3 | Arizona    | AZ | West  |  6392017 |  232 |\n| 4 | Arkansas   | AR | South |  2915918 |   93 |\n| 5 | California | CA | West  | 37253956 | 1257 |\n| 6 | Colorado   | CO | West  |  5029196 |   65 |\n\n",
            "text/latex": "A data.frame: 6 × 5\n\\begin{tabular}{r|lllll}\n  & state & abb & region & population & total\\\\\n  & <chr> & <chr> & <fct> & <dbl> & <dbl>\\\\\n\\hline\n\t1 & Alabama    & AL & South &  4779736 &  135\\\\\n\t2 & Alaska     & AK & West  &   710231 &   19\\\\\n\t3 & Arizona    & AZ & West  &  6392017 &  232\\\\\n\t4 & Arkansas   & AR & South &  2915918 &   93\\\\\n\t5 & California & CA & West  & 37253956 & 1257\\\\\n\t6 & Colorado   & CO & West  &  5029196 &   65\\\\\n\\end{tabular}\n",
            "text/plain": [
              "  state      abb region population total\n",
              "1 Alabama    AL  South   4779736    135 \n",
              "2 Alaska     AK  West     710231     19 \n",
              "3 Arizona    AZ  West    6392017    232 \n",
              "4 Arkansas   AR  South   2915918     93 \n",
              "5 California CA  West   37253956   1257 \n",
              "6 Colorado   CO  West    5029196     65 "
            ]
          },
          "metadata": {}
        }
      ]
    },
    {
      "cell_type": "markdown",
      "source": [
        "<br>\n",
        "\n",
        "<br>"
      ],
      "metadata": {
        "id": "5hXqBQkzhere"
      }
    },
    {
      "cell_type": "markdown",
      "source": [
        "---\n",
        "\n",
        "<br>"
      ],
      "metadata": {
        "id": "jFiNcIjpjFs7"
      }
    },
    {
      "cell_type": "markdown",
      "metadata": {
        "id": "zZzxYxtp9b9t"
      },
      "source": [
        "## Boolean Operators"
      ]
    },
    {
      "cell_type": "markdown",
      "source": [
        "Last time, we learned how to subset using\n",
        "\n",
        "* numeric-based indexing\n",
        "* Boolean expressions\n",
        "\n",
        "For example, we learned how to extract the total number of gun-related murders across states in the western region"
      ],
      "metadata": {
        "id": "tyQodhUig5Bd"
      }
    },
    {
      "cell_type": "code",
      "source": [
        "# subsetting to extract total number of murders across western states\n",
        "murders$total[murders$region == \"West\"]"
      ],
      "metadata": {
        "id": "1cIeYWoyQhzj",
        "colab": {
          "base_uri": "https://localhost:8080/",
          "height": 34
        },
        "outputId": "51c3f6d2-365a-4c2b-c593-e02b895fb8e7"
      },
      "execution_count": null,
      "outputs": [
        {
          "output_type": "display_data",
          "data": {
            "text/html": [
              "<style>\n",
              ".list-inline {list-style: none; margin:0; padding: 0}\n",
              ".list-inline>li {display: inline-block}\n",
              ".list-inline>li:not(:last-child)::after {content: \"\\00b7\"; padding: 0 .5ex}\n",
              "</style>\n",
              "<ol class=list-inline><li>19</li><li>232</li><li>1257</li><li>65</li><li>7</li><li>12</li><li>12</li><li>84</li><li>67</li><li>36</li><li>22</li><li>93</li><li>5</li></ol>\n"
            ],
            "text/markdown": "1. 19\n2. 232\n3. 1257\n4. 65\n5. 7\n6. 12\n7. 12\n8. 84\n9. 67\n10. 36\n11. 22\n12. 93\n13. 5\n\n\n",
            "text/latex": "\\begin{enumerate*}\n\\item 19\n\\item 232\n\\item 1257\n\\item 65\n\\item 7\n\\item 12\n\\item 12\n\\item 84\n\\item 67\n\\item 36\n\\item 22\n\\item 93\n\\item 5\n\\end{enumerate*}\n",
            "text/plain": [
              " [1]   19  232 1257   65    7   12   12   84   67   36   22   93    5"
            ]
          },
          "metadata": {}
        }
      ]
    },
    {
      "cell_type": "markdown",
      "source": [
        "<br>"
      ],
      "metadata": {
        "id": "d-I4VYpnQUI4"
      }
    },
    {
      "cell_type": "markdown",
      "source": [
        "* What if we want states in either the western or southern regions?\n",
        "\n",
        "* What if we want all regions except for the western region?\n",
        "\n",
        "* This subsetting requires knowledge of Boolean operators..."
      ],
      "metadata": {
        "id": "GimvTbU6QU9k"
      }
    },
    {
      "cell_type": "code",
      "source": [
        "head(murders)"
      ],
      "metadata": {
        "colab": {
          "base_uri": "https://localhost:8080/",
          "height": 286
        },
        "id": "Kgfg7Vb5Qwf-",
        "outputId": "95cb618b-11bb-4115-9700-5f64805a95af"
      },
      "execution_count": null,
      "outputs": [
        {
          "output_type": "display_data",
          "data": {
            "text/html": [
              "<table class=\"dataframe\">\n",
              "<caption>A data.frame: 6 × 5</caption>\n",
              "<thead>\n",
              "\t<tr><th></th><th scope=col>state</th><th scope=col>abb</th><th scope=col>region</th><th scope=col>population</th><th scope=col>total</th></tr>\n",
              "\t<tr><th></th><th scope=col>&lt;chr&gt;</th><th scope=col>&lt;chr&gt;</th><th scope=col>&lt;fct&gt;</th><th scope=col>&lt;dbl&gt;</th><th scope=col>&lt;dbl&gt;</th></tr>\n",
              "</thead>\n",
              "<tbody>\n",
              "\t<tr><th scope=row>1</th><td>Alabama   </td><td>AL</td><td>South</td><td> 4779736</td><td> 135</td></tr>\n",
              "\t<tr><th scope=row>2</th><td>Alaska    </td><td>AK</td><td>West </td><td>  710231</td><td>  19</td></tr>\n",
              "\t<tr><th scope=row>3</th><td>Arizona   </td><td>AZ</td><td>West </td><td> 6392017</td><td> 232</td></tr>\n",
              "\t<tr><th scope=row>4</th><td>Arkansas  </td><td>AR</td><td>South</td><td> 2915918</td><td>  93</td></tr>\n",
              "\t<tr><th scope=row>5</th><td>California</td><td>CA</td><td>West </td><td>37253956</td><td>1257</td></tr>\n",
              "\t<tr><th scope=row>6</th><td>Colorado  </td><td>CO</td><td>West </td><td> 5029196</td><td>  65</td></tr>\n",
              "</tbody>\n",
              "</table>\n"
            ],
            "text/markdown": "\nA data.frame: 6 × 5\n\n| <!--/--> | state &lt;chr&gt; | abb &lt;chr&gt; | region &lt;fct&gt; | population &lt;dbl&gt; | total &lt;dbl&gt; |\n|---|---|---|---|---|---|\n| 1 | Alabama    | AL | South |  4779736 |  135 |\n| 2 | Alaska     | AK | West  |   710231 |   19 |\n| 3 | Arizona    | AZ | West  |  6392017 |  232 |\n| 4 | Arkansas   | AR | South |  2915918 |   93 |\n| 5 | California | CA | West  | 37253956 | 1257 |\n| 6 | Colorado   | CO | West  |  5029196 |   65 |\n\n",
            "text/latex": "A data.frame: 6 × 5\n\\begin{tabular}{r|lllll}\n  & state & abb & region & population & total\\\\\n  & <chr> & <chr> & <fct> & <dbl> & <dbl>\\\\\n\\hline\n\t1 & Alabama    & AL & South &  4779736 &  135\\\\\n\t2 & Alaska     & AK & West  &   710231 &   19\\\\\n\t3 & Arizona    & AZ & West  &  6392017 &  232\\\\\n\t4 & Arkansas   & AR & South &  2915918 &   93\\\\\n\t5 & California & CA & West  & 37253956 & 1257\\\\\n\t6 & Colorado   & CO & West  &  5029196 &   65\\\\\n\\end{tabular}\n",
            "text/plain": [
              "  state      abb region population total\n",
              "1 Alabama    AL  South   4779736    135 \n",
              "2 Alaska     AK  West     710231     19 \n",
              "3 Arizona    AZ  West    6392017    232 \n",
              "4 Arkansas   AR  South   2915918     93 \n",
              "5 California CA  West   37253956   1257 \n",
              "6 Colorado   CO  West    5029196     65 "
            ]
          },
          "metadata": {}
        }
      ]
    },
    {
      "cell_type": "markdown",
      "source": [
        "<br>"
      ],
      "metadata": {
        "id": "lOOaiSPEA5Fn"
      }
    },
    {
      "cell_type": "markdown",
      "source": [
        "* There are three Boolean operators that you must know\n",
        "\n",
        "  * AND\n",
        "  * OR\n",
        "  * NOT"
      ],
      "metadata": {
        "id": "WhIoUvyPRoOQ"
      }
    },
    {
      "cell_type": "markdown",
      "source": [
        "<br>"
      ],
      "metadata": {
        "id": "aMEwMXRiR0ej"
      }
    },
    {
      "cell_type": "markdown",
      "metadata": {
        "id": "DNdfZ2slCOYs"
      },
      "source": [
        "### Logical AND\n",
        "\n",
        "\n"
      ]
    },
    {
      "cell_type": "markdown",
      "metadata": {
        "id": "6FhyOclQdjwD"
      },
      "source": [
        "The logical AND is a Boolean operator that produces `TRUE` if **all** logicals in a statement are `TRUE`\n",
        "\n",
        "The logical AND operator is represented by the `&` symbol"
      ]
    },
    {
      "cell_type": "markdown",
      "source": [
        "<br>"
      ],
      "metadata": {
        "id": "whfZuOndEOpS"
      }
    },
    {
      "cell_type": "code",
      "metadata": {
        "id": "aKI_mtE8EBZQ",
        "colab": {
          "base_uri": "https://localhost:8080/",
          "height": 34
        },
        "outputId": "17b29b4b-25af-41ed-9554-3cacbaf89aef"
      },
      "source": [
        "# TRUE & TRUE is equal to TRUE\n",
        "TRUE & TRUE"
      ],
      "execution_count": null,
      "outputs": [
        {
          "output_type": "display_data",
          "data": {
            "text/html": [
              "TRUE"
            ],
            "text/markdown": "TRUE",
            "text/latex": "TRUE",
            "text/plain": [
              "[1] TRUE"
            ]
          },
          "metadata": {}
        }
      ]
    },
    {
      "cell_type": "markdown",
      "source": [
        "<br>"
      ],
      "metadata": {
        "id": "RWnqSO56EPA_"
      }
    },
    {
      "cell_type": "code",
      "metadata": {
        "id": "QjcIiWaUENr5",
        "colab": {
          "base_uri": "https://localhost:8080/",
          "height": 34
        },
        "outputId": "fcfa4a91-a6ed-4409-e2e7-2afb4c8910e0"
      },
      "source": [
        "# TRUE & FALSE is equal to FALSE\n",
        "TRUE & FALSE"
      ],
      "execution_count": null,
      "outputs": [
        {
          "output_type": "display_data",
          "data": {
            "text/html": [
              "FALSE"
            ],
            "text/markdown": "FALSE",
            "text/latex": "FALSE",
            "text/plain": [
              "[1] FALSE"
            ]
          },
          "metadata": {}
        }
      ]
    },
    {
      "cell_type": "markdown",
      "source": [
        "<br>"
      ],
      "metadata": {
        "id": "Eluby92lEPaN"
      }
    },
    {
      "cell_type": "code",
      "metadata": {
        "id": "6Xm1J9ijESw5",
        "colab": {
          "base_uri": "https://localhost:8080/",
          "height": 34
        },
        "outputId": "6f3e176d-6cef-4aa5-d019-8b4bc2f75c1d"
      },
      "source": [
        "# FALSE & FALSE is equal to FALSE\n",
        "FALSE & FALSE"
      ],
      "execution_count": null,
      "outputs": [
        {
          "output_type": "display_data",
          "data": {
            "text/html": [
              "FALSE"
            ],
            "text/markdown": "FALSE",
            "text/latex": "FALSE",
            "text/plain": [
              "[1] FALSE"
            ]
          },
          "metadata": {}
        }
      ]
    },
    {
      "cell_type": "markdown",
      "metadata": {
        "id": "lCUw1PtlfGWw"
      },
      "source": [
        "<br>"
      ]
    },
    {
      "cell_type": "markdown",
      "metadata": {
        "id": "50hQg7LCEeCR"
      },
      "source": [
        "What is the value of (`TRUE` and `TRUE` and `FALSE` and `TRUE`)?\n",
        "\n"
      ]
    },
    {
      "cell_type": "code",
      "metadata": {
        "id": "z8mgrwz8EZFc",
        "colab": {
          "base_uri": "https://localhost:8080/",
          "height": 34
        },
        "outputId": "2d50cc45-a9be-44e1-90c1-410e28e7fc37"
      },
      "source": [
        "TRUE & TRUE & FALSE & TRUE"
      ],
      "execution_count": null,
      "outputs": [
        {
          "output_type": "display_data",
          "data": {
            "text/html": [
              "FALSE"
            ],
            "text/markdown": "FALSE",
            "text/latex": "FALSE",
            "text/plain": [
              "[1] FALSE"
            ]
          },
          "metadata": {}
        }
      ]
    },
    {
      "cell_type": "markdown",
      "metadata": {
        "id": "fVL5ThcBfG34"
      },
      "source": [
        "<br>\n",
        "\n",
        "<br>"
      ]
    },
    {
      "cell_type": "markdown",
      "metadata": {
        "id": "VvxG_8N4EzCZ"
      },
      "source": [
        "### Logical OR\n",
        "\n",
        "\n"
      ]
    },
    {
      "cell_type": "markdown",
      "metadata": {
        "id": "NU1pgP6QdnIr"
      },
      "source": [
        "The logical OR is a Boolean operator that produces `TRUE` if **any** of the logicals in a statement are `TRUE`\n",
        "\n",
        "The logical OR operator is represented by the `|` symbol. This can be found above the Enter key on your keyboard (Shift + \\)\n",
        "\n",
        "The `|` symbol is above the Enter button on your keyboard."
      ]
    },
    {
      "cell_type": "markdown",
      "source": [
        "<br>"
      ],
      "metadata": {
        "id": "iKpMpF0GEWK2"
      }
    },
    {
      "cell_type": "code",
      "metadata": {
        "id": "bAOpplrLE7IZ",
        "colab": {
          "base_uri": "https://localhost:8080/",
          "height": 34
        },
        "outputId": "0bea0313-3b1c-4439-df4e-dbc47ed97f34"
      },
      "source": [
        "# TRUE | TRUE is equal to TRUE\n",
        "TRUE | TRUE"
      ],
      "execution_count": null,
      "outputs": [
        {
          "output_type": "display_data",
          "data": {
            "text/html": [
              "TRUE"
            ],
            "text/markdown": "TRUE",
            "text/latex": "TRUE",
            "text/plain": [
              "[1] TRUE"
            ]
          },
          "metadata": {}
        }
      ]
    },
    {
      "cell_type": "markdown",
      "source": [
        "<br>"
      ],
      "metadata": {
        "id": "jwOs1GtTEW9Z"
      }
    },
    {
      "cell_type": "code",
      "metadata": {
        "id": "FiayxSRmFXbB",
        "colab": {
          "base_uri": "https://localhost:8080/",
          "height": 34
        },
        "outputId": "7dac3446-377c-401f-b48b-d5294c159633"
      },
      "source": [
        "# TRUE | FALSE is equal to TRUE\n",
        "TRUE | FALSE"
      ],
      "execution_count": null,
      "outputs": [
        {
          "output_type": "display_data",
          "data": {
            "text/html": [
              "TRUE"
            ],
            "text/markdown": "TRUE",
            "text/latex": "TRUE",
            "text/plain": [
              "[1] TRUE"
            ]
          },
          "metadata": {}
        }
      ]
    },
    {
      "cell_type": "markdown",
      "source": [
        "<br>"
      ],
      "metadata": {
        "id": "2YZO8idwEXX2"
      }
    },
    {
      "cell_type": "code",
      "metadata": {
        "id": "UmxrjUlVFaZ9",
        "colab": {
          "base_uri": "https://localhost:8080/",
          "height": 34
        },
        "outputId": "61f744a9-7d79-42c3-f502-7326a600d9fe"
      },
      "source": [
        "# FALSE | FALSE is equal to FALSE\n",
        "FALSE | FALSE"
      ],
      "execution_count": null,
      "outputs": [
        {
          "output_type": "display_data",
          "data": {
            "text/html": [
              "FALSE"
            ],
            "text/markdown": "FALSE",
            "text/latex": "FALSE",
            "text/plain": [
              "[1] FALSE"
            ]
          },
          "metadata": {}
        }
      ]
    },
    {
      "cell_type": "markdown",
      "metadata": {
        "id": "fSkK52oSfI3k"
      },
      "source": [
        "<br>"
      ]
    },
    {
      "cell_type": "markdown",
      "metadata": {
        "id": "o0blEA_eFfwT"
      },
      "source": [
        "What is the value of (`FALSE` or `TRUE` or `FALSE` or `FALSE`)?\n",
        "\n"
      ]
    },
    {
      "cell_type": "code",
      "metadata": {
        "id": "PE2gFzuPH6qN",
        "colab": {
          "base_uri": "https://localhost:8080/",
          "height": 34
        },
        "outputId": "8c11ca88-fa94-463a-9ebc-c442ad6dc623"
      },
      "source": [
        "FALSE | TRUE | FALSE | FALSE"
      ],
      "execution_count": null,
      "outputs": [
        {
          "output_type": "display_data",
          "data": {
            "text/html": [
              "TRUE"
            ],
            "text/markdown": "TRUE",
            "text/latex": "TRUE",
            "text/plain": [
              "[1] TRUE"
            ]
          },
          "metadata": {}
        }
      ]
    },
    {
      "cell_type": "markdown",
      "metadata": {
        "id": "5eJfJ5eZFMx4"
      },
      "source": [
        "<br>\n",
        "\n",
        "<br>"
      ]
    },
    {
      "cell_type": "markdown",
      "metadata": {
        "id": "XToNIQuqFvTb"
      },
      "source": [
        "### Logical NOT\n",
        "\n"
      ]
    },
    {
      "cell_type": "markdown",
      "metadata": {
        "id": "LvJmd7E0drkI"
      },
      "source": [
        "The logical NOT simply returns the opposite of the logical (i.e. make `TRUE` a `FALSE` and makes `FALSE` a `TRUE`)\n",
        "\n",
        "The logical NOT operator is represented by the `!` symbol."
      ]
    },
    {
      "cell_type": "markdown",
      "source": [
        "<br>"
      ],
      "metadata": {
        "id": "qK8pT3BREdbw"
      }
    },
    {
      "cell_type": "code",
      "metadata": {
        "id": "G7JveUBwGBU2",
        "colab": {
          "base_uri": "https://localhost:8080/",
          "height": 34
        },
        "outputId": "b629f240-dee7-4af8-d24a-338138c9012f"
      },
      "source": [
        "!TRUE"
      ],
      "execution_count": null,
      "outputs": [
        {
          "output_type": "display_data",
          "data": {
            "text/html": [
              "FALSE"
            ],
            "text/markdown": "FALSE",
            "text/latex": "FALSE",
            "text/plain": [
              "[1] FALSE"
            ]
          },
          "metadata": {}
        }
      ]
    },
    {
      "cell_type": "markdown",
      "source": [
        "<br>"
      ],
      "metadata": {
        "id": "nx9PyOFgEd1t"
      }
    },
    {
      "cell_type": "code",
      "metadata": {
        "id": "KeWE6rcqGCh-",
        "colab": {
          "base_uri": "https://localhost:8080/",
          "height": 34
        },
        "outputId": "9bd6de27-0cfb-4697-951e-f28f1d581304"
      },
      "source": [
        "!FALSE"
      ],
      "execution_count": null,
      "outputs": [
        {
          "output_type": "display_data",
          "data": {
            "text/html": [
              "TRUE"
            ],
            "text/markdown": "TRUE",
            "text/latex": "TRUE",
            "text/plain": [
              "[1] TRUE"
            ]
          },
          "metadata": {}
        }
      ]
    },
    {
      "cell_type": "markdown",
      "source": [
        "<br>"
      ],
      "metadata": {
        "id": "VrB_LqkUEeWo"
      }
    },
    {
      "cell_type": "code",
      "metadata": {
        "id": "E4iGnC-rGIaq",
        "colab": {
          "base_uri": "https://localhost:8080/",
          "height": 34
        },
        "outputId": "95bd9086-e3f6-459c-a054-f4cbd2116f09"
      },
      "source": [
        "!TRUE | !FALSE"
      ],
      "execution_count": null,
      "outputs": [
        {
          "output_type": "display_data",
          "data": {
            "text/html": [
              "TRUE"
            ],
            "text/markdown": "TRUE",
            "text/latex": "TRUE",
            "text/plain": [
              "[1] TRUE"
            ]
          },
          "metadata": {}
        }
      ]
    },
    {
      "cell_type": "markdown",
      "metadata": {
        "id": "LMAJSihB_WKW"
      },
      "source": [
        "<br>\n",
        "\n",
        "<br>"
      ]
    },
    {
      "cell_type": "markdown",
      "metadata": {
        "id": "FMTuMl0F_WKX"
      },
      "source": [
        "### \"Order of Operators\" for Boolean Expressions\n",
        "\n"
      ]
    },
    {
      "cell_type": "markdown",
      "metadata": {
        "id": "x79Gi-y-_WKX"
      },
      "source": [
        "* We can use different Boolean operators in a single expression\n",
        "\n",
        "* The order of operators is\n",
        "  * NOT `!` first\n",
        "  * AND `&` second\n",
        "  * OR `|` third\n",
        "\n",
        "* You can control order by using parentheses, simple to algebra!"
      ]
    },
    {
      "cell_type": "markdown",
      "source": [
        "<br>"
      ],
      "metadata": {
        "id": "alTpMK9a_WKX"
      }
    },
    {
      "cell_type": "code",
      "metadata": {
        "colab": {
          "base_uri": "https://localhost:8080/",
          "height": 34
        },
        "id": "yw1HnPVE_WKX",
        "outputId": "6b7413d8-b007-4c83-e374-772ce1ebbb6c"
      },
      "source": [
        "FALSE | TRUE | FALSE & FALSE"
      ],
      "execution_count": null,
      "outputs": [
        {
          "output_type": "display_data",
          "data": {
            "text/html": [
              "TRUE"
            ],
            "text/markdown": "TRUE",
            "text/latex": "TRUE",
            "text/plain": [
              "[1] TRUE"
            ]
          },
          "metadata": {}
        }
      ]
    },
    {
      "cell_type": "markdown",
      "source": [
        "<br>"
      ],
      "metadata": {
        "id": "mpvL88QDAQdU"
      }
    },
    {
      "cell_type": "code",
      "source": [
        "(FALSE | TRUE | FALSE) & FALSE"
      ],
      "metadata": {
        "colab": {
          "base_uri": "https://localhost:8080/",
          "height": 34
        },
        "id": "Oc1FGyxDAA4D",
        "outputId": "8c31719a-21e3-4c02-ae2f-d62d585bec18"
      },
      "execution_count": null,
      "outputs": [
        {
          "output_type": "display_data",
          "data": {
            "text/html": [
              "FALSE"
            ],
            "text/markdown": "FALSE",
            "text/latex": "FALSE",
            "text/plain": [
              "[1] FALSE"
            ]
          },
          "metadata": {}
        }
      ]
    },
    {
      "cell_type": "markdown",
      "source": [
        "<br>"
      ],
      "metadata": {
        "id": "4bKMprcFASxI"
      }
    },
    {
      "cell_type": "code",
      "source": [
        "(FALSE | TRUE | FALSE) & !FALSE"
      ],
      "metadata": {
        "colab": {
          "base_uri": "https://localhost:8080/",
          "height": 34
        },
        "id": "C8lrXHGxAMLj",
        "outputId": "6c68e8ad-f67f-4e0f-de10-01bc7bf3ab09"
      },
      "execution_count": null,
      "outputs": [
        {
          "output_type": "display_data",
          "data": {
            "text/html": [
              "TRUE"
            ],
            "text/markdown": "TRUE",
            "text/latex": "TRUE",
            "text/plain": [
              "[1] TRUE"
            ]
          },
          "metadata": {}
        }
      ]
    },
    {
      "cell_type": "markdown",
      "source": [
        "<br>\n",
        "\n",
        "<br>"
      ],
      "metadata": {
        "id": "HU3cJJNeCsNh"
      }
    },
    {
      "cell_type": "markdown",
      "source": [
        "---\n",
        "\n",
        "<br>"
      ],
      "metadata": {
        "id": "g9gCWOxnFatl"
      }
    },
    {
      "cell_type": "markdown",
      "metadata": {
        "id": "GnxqYk6bFatm"
      },
      "source": [
        "## Boolean-based Operators Subsetting"
      ]
    },
    {
      "cell_type": "markdown",
      "source": [
        "* When applying Boolean operators to vectors, the operator is applied to each corresponding entry\n",
        "\n",
        "* For example, we can subset all rows in the western OR southern region\n",
        "\n",
        "* Every `TRUE` corresponds to a row where `region` is either `\"West\"` or `\"South\"`"
      ],
      "metadata": {
        "id": "3h3oq87qSEQN"
      }
    },
    {
      "cell_type": "code",
      "source": [
        "murders$region == \"West\""
      ],
      "metadata": {
        "colab": {
          "base_uri": "https://localhost:8080/",
          "height": 69
        },
        "id": "4LMDYr_JSPd0",
        "outputId": "c321da52-5a2d-497d-b7a3-d5283532babd"
      },
      "execution_count": null,
      "outputs": [
        {
          "output_type": "display_data",
          "data": {
            "text/html": [
              "<style>\n",
              ".list-inline {list-style: none; margin:0; padding: 0}\n",
              ".list-inline>li {display: inline-block}\n",
              ".list-inline>li:not(:last-child)::after {content: \"\\00b7\"; padding: 0 .5ex}\n",
              "</style>\n",
              "<ol class=list-inline><li>FALSE</li><li>TRUE</li><li>TRUE</li><li>FALSE</li><li>TRUE</li><li>TRUE</li><li>FALSE</li><li>FALSE</li><li>FALSE</li><li>FALSE</li><li>FALSE</li><li>TRUE</li><li>TRUE</li><li>FALSE</li><li>FALSE</li><li>FALSE</li><li>FALSE</li><li>FALSE</li><li>FALSE</li><li>FALSE</li><li>FALSE</li><li>FALSE</li><li>FALSE</li><li>FALSE</li><li>FALSE</li><li>FALSE</li><li>TRUE</li><li>FALSE</li><li>TRUE</li><li>FALSE</li><li>FALSE</li><li>TRUE</li><li>FALSE</li><li>FALSE</li><li>FALSE</li><li>FALSE</li><li>FALSE</li><li>TRUE</li><li>FALSE</li><li>FALSE</li><li>FALSE</li><li>FALSE</li><li>FALSE</li><li>FALSE</li><li>TRUE</li><li>FALSE</li><li>FALSE</li><li>TRUE</li><li>FALSE</li><li>FALSE</li><li>TRUE</li></ol>\n"
            ],
            "text/markdown": "1. FALSE\n2. TRUE\n3. TRUE\n4. FALSE\n5. TRUE\n6. TRUE\n7. FALSE\n8. FALSE\n9. FALSE\n10. FALSE\n11. FALSE\n12. TRUE\n13. TRUE\n14. FALSE\n15. FALSE\n16. FALSE\n17. FALSE\n18. FALSE\n19. FALSE\n20. FALSE\n21. FALSE\n22. FALSE\n23. FALSE\n24. FALSE\n25. FALSE\n26. FALSE\n27. TRUE\n28. FALSE\n29. TRUE\n30. FALSE\n31. FALSE\n32. TRUE\n33. FALSE\n34. FALSE\n35. FALSE\n36. FALSE\n37. FALSE\n38. TRUE\n39. FALSE\n40. FALSE\n41. FALSE\n42. FALSE\n43. FALSE\n44. FALSE\n45. TRUE\n46. FALSE\n47. FALSE\n48. TRUE\n49. FALSE\n50. FALSE\n51. TRUE\n\n\n",
            "text/latex": "\\begin{enumerate*}\n\\item FALSE\n\\item TRUE\n\\item TRUE\n\\item FALSE\n\\item TRUE\n\\item TRUE\n\\item FALSE\n\\item FALSE\n\\item FALSE\n\\item FALSE\n\\item FALSE\n\\item TRUE\n\\item TRUE\n\\item FALSE\n\\item FALSE\n\\item FALSE\n\\item FALSE\n\\item FALSE\n\\item FALSE\n\\item FALSE\n\\item FALSE\n\\item FALSE\n\\item FALSE\n\\item FALSE\n\\item FALSE\n\\item FALSE\n\\item TRUE\n\\item FALSE\n\\item TRUE\n\\item FALSE\n\\item FALSE\n\\item TRUE\n\\item FALSE\n\\item FALSE\n\\item FALSE\n\\item FALSE\n\\item FALSE\n\\item TRUE\n\\item FALSE\n\\item FALSE\n\\item FALSE\n\\item FALSE\n\\item FALSE\n\\item FALSE\n\\item TRUE\n\\item FALSE\n\\item FALSE\n\\item TRUE\n\\item FALSE\n\\item FALSE\n\\item TRUE\n\\end{enumerate*}\n",
            "text/plain": [
              " [1] FALSE  TRUE  TRUE FALSE  TRUE  TRUE FALSE FALSE FALSE FALSE FALSE  TRUE\n",
              "[13]  TRUE FALSE FALSE FALSE FALSE FALSE FALSE FALSE FALSE FALSE FALSE FALSE\n",
              "[25] FALSE FALSE  TRUE FALSE  TRUE FALSE FALSE  TRUE FALSE FALSE FALSE FALSE\n",
              "[37] FALSE  TRUE FALSE FALSE FALSE FALSE FALSE FALSE  TRUE FALSE FALSE  TRUE\n",
              "[49] FALSE FALSE  TRUE"
            ]
          },
          "metadata": {}
        }
      ]
    },
    {
      "cell_type": "code",
      "source": [
        "murders$region == \"South\""
      ],
      "metadata": {
        "colab": {
          "base_uri": "https://localhost:8080/",
          "height": 69
        },
        "id": "o1v8iU21B4Ns",
        "outputId": "053c4907-bf3b-415b-f939-77be79257425"
      },
      "execution_count": null,
      "outputs": [
        {
          "output_type": "display_data",
          "data": {
            "text/html": [
              "<style>\n",
              ".list-inline {list-style: none; margin:0; padding: 0}\n",
              ".list-inline>li {display: inline-block}\n",
              ".list-inline>li:not(:last-child)::after {content: \"\\00b7\"; padding: 0 .5ex}\n",
              "</style>\n",
              "<ol class=list-inline><li>TRUE</li><li>FALSE</li><li>FALSE</li><li>TRUE</li><li>FALSE</li><li>FALSE</li><li>FALSE</li><li>TRUE</li><li>TRUE</li><li>TRUE</li><li>TRUE</li><li>FALSE</li><li>FALSE</li><li>FALSE</li><li>FALSE</li><li>FALSE</li><li>FALSE</li><li>TRUE</li><li>TRUE</li><li>FALSE</li><li>TRUE</li><li>FALSE</li><li>FALSE</li><li>FALSE</li><li>TRUE</li><li>FALSE</li><li>FALSE</li><li>FALSE</li><li>FALSE</li><li>FALSE</li><li>FALSE</li><li>FALSE</li><li>FALSE</li><li>TRUE</li><li>FALSE</li><li>FALSE</li><li>TRUE</li><li>FALSE</li><li>FALSE</li><li>FALSE</li><li>TRUE</li><li>FALSE</li><li>TRUE</li><li>TRUE</li><li>FALSE</li><li>FALSE</li><li>TRUE</li><li>FALSE</li><li>TRUE</li><li>FALSE</li><li>FALSE</li></ol>\n"
            ],
            "text/markdown": "1. TRUE\n2. FALSE\n3. FALSE\n4. TRUE\n5. FALSE\n6. FALSE\n7. FALSE\n8. TRUE\n9. TRUE\n10. TRUE\n11. TRUE\n12. FALSE\n13. FALSE\n14. FALSE\n15. FALSE\n16. FALSE\n17. FALSE\n18. TRUE\n19. TRUE\n20. FALSE\n21. TRUE\n22. FALSE\n23. FALSE\n24. FALSE\n25. TRUE\n26. FALSE\n27. FALSE\n28. FALSE\n29. FALSE\n30. FALSE\n31. FALSE\n32. FALSE\n33. FALSE\n34. TRUE\n35. FALSE\n36. FALSE\n37. TRUE\n38. FALSE\n39. FALSE\n40. FALSE\n41. TRUE\n42. FALSE\n43. TRUE\n44. TRUE\n45. FALSE\n46. FALSE\n47. TRUE\n48. FALSE\n49. TRUE\n50. FALSE\n51. FALSE\n\n\n",
            "text/latex": "\\begin{enumerate*}\n\\item TRUE\n\\item FALSE\n\\item FALSE\n\\item TRUE\n\\item FALSE\n\\item FALSE\n\\item FALSE\n\\item TRUE\n\\item TRUE\n\\item TRUE\n\\item TRUE\n\\item FALSE\n\\item FALSE\n\\item FALSE\n\\item FALSE\n\\item FALSE\n\\item FALSE\n\\item TRUE\n\\item TRUE\n\\item FALSE\n\\item TRUE\n\\item FALSE\n\\item FALSE\n\\item FALSE\n\\item TRUE\n\\item FALSE\n\\item FALSE\n\\item FALSE\n\\item FALSE\n\\item FALSE\n\\item FALSE\n\\item FALSE\n\\item FALSE\n\\item TRUE\n\\item FALSE\n\\item FALSE\n\\item TRUE\n\\item FALSE\n\\item FALSE\n\\item FALSE\n\\item TRUE\n\\item FALSE\n\\item TRUE\n\\item TRUE\n\\item FALSE\n\\item FALSE\n\\item TRUE\n\\item FALSE\n\\item TRUE\n\\item FALSE\n\\item FALSE\n\\end{enumerate*}\n",
            "text/plain": [
              " [1]  TRUE FALSE FALSE  TRUE FALSE FALSE FALSE  TRUE  TRUE  TRUE  TRUE FALSE\n",
              "[13] FALSE FALSE FALSE FALSE FALSE  TRUE  TRUE FALSE  TRUE FALSE FALSE FALSE\n",
              "[25]  TRUE FALSE FALSE FALSE FALSE FALSE FALSE FALSE FALSE  TRUE FALSE FALSE\n",
              "[37]  TRUE FALSE FALSE FALSE  TRUE FALSE  TRUE  TRUE FALSE FALSE  TRUE FALSE\n",
              "[49]  TRUE FALSE FALSE"
            ]
          },
          "metadata": {}
        }
      ]
    },
    {
      "cell_type": "code",
      "source": [
        "murders$region == \"West\" | murders$region == \"South\""
      ],
      "metadata": {
        "colab": {
          "base_uri": "https://localhost:8080/",
          "height": 69
        },
        "id": "4KVnF6EWB_ME",
        "outputId": "2f061954-bd67-46df-dd4c-be0580c76225"
      },
      "execution_count": null,
      "outputs": [
        {
          "output_type": "display_data",
          "data": {
            "text/html": [
              "<style>\n",
              ".list-inline {list-style: none; margin:0; padding: 0}\n",
              ".list-inline>li {display: inline-block}\n",
              ".list-inline>li:not(:last-child)::after {content: \"\\00b7\"; padding: 0 .5ex}\n",
              "</style>\n",
              "<ol class=list-inline><li>TRUE</li><li>TRUE</li><li>TRUE</li><li>TRUE</li><li>TRUE</li><li>TRUE</li><li>FALSE</li><li>TRUE</li><li>TRUE</li><li>TRUE</li><li>TRUE</li><li>TRUE</li><li>TRUE</li><li>FALSE</li><li>FALSE</li><li>FALSE</li><li>FALSE</li><li>TRUE</li><li>TRUE</li><li>FALSE</li><li>TRUE</li><li>FALSE</li><li>FALSE</li><li>FALSE</li><li>TRUE</li><li>FALSE</li><li>TRUE</li><li>FALSE</li><li>TRUE</li><li>FALSE</li><li>FALSE</li><li>TRUE</li><li>FALSE</li><li>TRUE</li><li>FALSE</li><li>FALSE</li><li>TRUE</li><li>TRUE</li><li>FALSE</li><li>FALSE</li><li>TRUE</li><li>FALSE</li><li>TRUE</li><li>TRUE</li><li>TRUE</li><li>FALSE</li><li>TRUE</li><li>TRUE</li><li>TRUE</li><li>FALSE</li><li>TRUE</li></ol>\n"
            ],
            "text/markdown": "1. TRUE\n2. TRUE\n3. TRUE\n4. TRUE\n5. TRUE\n6. TRUE\n7. FALSE\n8. TRUE\n9. TRUE\n10. TRUE\n11. TRUE\n12. TRUE\n13. TRUE\n14. FALSE\n15. FALSE\n16. FALSE\n17. FALSE\n18. TRUE\n19. TRUE\n20. FALSE\n21. TRUE\n22. FALSE\n23. FALSE\n24. FALSE\n25. TRUE\n26. FALSE\n27. TRUE\n28. FALSE\n29. TRUE\n30. FALSE\n31. FALSE\n32. TRUE\n33. FALSE\n34. TRUE\n35. FALSE\n36. FALSE\n37. TRUE\n38. TRUE\n39. FALSE\n40. FALSE\n41. TRUE\n42. FALSE\n43. TRUE\n44. TRUE\n45. TRUE\n46. FALSE\n47. TRUE\n48. TRUE\n49. TRUE\n50. FALSE\n51. TRUE\n\n\n",
            "text/latex": "\\begin{enumerate*}\n\\item TRUE\n\\item TRUE\n\\item TRUE\n\\item TRUE\n\\item TRUE\n\\item TRUE\n\\item FALSE\n\\item TRUE\n\\item TRUE\n\\item TRUE\n\\item TRUE\n\\item TRUE\n\\item TRUE\n\\item FALSE\n\\item FALSE\n\\item FALSE\n\\item FALSE\n\\item TRUE\n\\item TRUE\n\\item FALSE\n\\item TRUE\n\\item FALSE\n\\item FALSE\n\\item FALSE\n\\item TRUE\n\\item FALSE\n\\item TRUE\n\\item FALSE\n\\item TRUE\n\\item FALSE\n\\item FALSE\n\\item TRUE\n\\item FALSE\n\\item TRUE\n\\item FALSE\n\\item FALSE\n\\item TRUE\n\\item TRUE\n\\item FALSE\n\\item FALSE\n\\item TRUE\n\\item FALSE\n\\item TRUE\n\\item TRUE\n\\item TRUE\n\\item FALSE\n\\item TRUE\n\\item TRUE\n\\item TRUE\n\\item FALSE\n\\item TRUE\n\\end{enumerate*}\n",
            "text/plain": [
              " [1]  TRUE  TRUE  TRUE  TRUE  TRUE  TRUE FALSE  TRUE  TRUE  TRUE  TRUE  TRUE\n",
              "[13]  TRUE FALSE FALSE FALSE FALSE  TRUE  TRUE FALSE  TRUE FALSE FALSE FALSE\n",
              "[25]  TRUE FALSE  TRUE FALSE  TRUE FALSE FALSE  TRUE FALSE  TRUE FALSE FALSE\n",
              "[37]  TRUE  TRUE FALSE FALSE  TRUE FALSE  TRUE  TRUE  TRUE FALSE  TRUE  TRUE\n",
              "[49]  TRUE FALSE  TRUE"
            ]
          },
          "metadata": {}
        }
      ]
    },
    {
      "cell_type": "markdown",
      "source": [
        "<br>"
      ],
      "metadata": {
        "id": "2TknpclYTIrd"
      }
    },
    {
      "cell_type": "markdown",
      "source": [
        "* We can then use this Boolean vector to subset the data frame\n",
        "\n",
        "* Notice that only western and southern regions are included"
      ],
      "metadata": {
        "id": "QkLe4WXcTJ7Q"
      }
    },
    {
      "cell_type": "code",
      "source": [
        "murders[murders$region == \"West\" | murders$region == \"South\", ]"
      ],
      "metadata": {
        "colab": {
          "base_uri": "https://localhost:8080/",
          "height": 1000
        },
        "id": "pBDYLkbDTNiI",
        "outputId": "df45eb1c-8628-444d-b842-9f78583d395a"
      },
      "execution_count": null,
      "outputs": [
        {
          "output_type": "display_data",
          "data": {
            "text/html": [
              "<table class=\"dataframe\">\n",
              "<caption>A data.frame: 30 × 5</caption>\n",
              "<thead>\n",
              "\t<tr><th></th><th scope=col>state</th><th scope=col>abb</th><th scope=col>region</th><th scope=col>population</th><th scope=col>total</th></tr>\n",
              "\t<tr><th></th><th scope=col>&lt;chr&gt;</th><th scope=col>&lt;chr&gt;</th><th scope=col>&lt;fct&gt;</th><th scope=col>&lt;dbl&gt;</th><th scope=col>&lt;dbl&gt;</th></tr>\n",
              "</thead>\n",
              "<tbody>\n",
              "\t<tr><th scope=row>1</th><td>Alabama             </td><td>AL</td><td>South</td><td> 4779736</td><td> 135</td></tr>\n",
              "\t<tr><th scope=row>2</th><td>Alaska              </td><td>AK</td><td>West </td><td>  710231</td><td>  19</td></tr>\n",
              "\t<tr><th scope=row>3</th><td>Arizona             </td><td>AZ</td><td>West </td><td> 6392017</td><td> 232</td></tr>\n",
              "\t<tr><th scope=row>4</th><td>Arkansas            </td><td>AR</td><td>South</td><td> 2915918</td><td>  93</td></tr>\n",
              "\t<tr><th scope=row>5</th><td>California          </td><td>CA</td><td>West </td><td>37253956</td><td>1257</td></tr>\n",
              "\t<tr><th scope=row>6</th><td>Colorado            </td><td>CO</td><td>West </td><td> 5029196</td><td>  65</td></tr>\n",
              "\t<tr><th scope=row>8</th><td>Delaware            </td><td>DE</td><td>South</td><td>  897934</td><td>  38</td></tr>\n",
              "\t<tr><th scope=row>9</th><td>District of Columbia</td><td>DC</td><td>South</td><td>  601723</td><td>  99</td></tr>\n",
              "\t<tr><th scope=row>10</th><td>Florida             </td><td>FL</td><td>South</td><td>19687653</td><td> 669</td></tr>\n",
              "\t<tr><th scope=row>11</th><td>Georgia             </td><td>GA</td><td>South</td><td> 9920000</td><td> 376</td></tr>\n",
              "\t<tr><th scope=row>12</th><td>Hawaii              </td><td>HI</td><td>West </td><td> 1360301</td><td>   7</td></tr>\n",
              "\t<tr><th scope=row>13</th><td>Idaho               </td><td>ID</td><td>West </td><td> 1567582</td><td>  12</td></tr>\n",
              "\t<tr><th scope=row>18</th><td>Kentucky            </td><td>KY</td><td>South</td><td> 4339367</td><td> 116</td></tr>\n",
              "\t<tr><th scope=row>19</th><td>Louisiana           </td><td>LA</td><td>South</td><td> 4533372</td><td> 351</td></tr>\n",
              "\t<tr><th scope=row>21</th><td>Maryland            </td><td>MD</td><td>South</td><td> 5773552</td><td> 293</td></tr>\n",
              "\t<tr><th scope=row>25</th><td>Mississippi         </td><td>MS</td><td>South</td><td> 2967297</td><td> 120</td></tr>\n",
              "\t<tr><th scope=row>27</th><td>Montana             </td><td>MT</td><td>West </td><td>  989415</td><td>  12</td></tr>\n",
              "\t<tr><th scope=row>29</th><td>Nevada              </td><td>NV</td><td>West </td><td> 2700551</td><td>  84</td></tr>\n",
              "\t<tr><th scope=row>32</th><td>New Mexico          </td><td>NM</td><td>West </td><td> 2059179</td><td>  67</td></tr>\n",
              "\t<tr><th scope=row>34</th><td>North Carolina      </td><td>NC</td><td>South</td><td> 9535483</td><td> 286</td></tr>\n",
              "\t<tr><th scope=row>37</th><td>Oklahoma            </td><td>OK</td><td>South</td><td> 3751351</td><td> 111</td></tr>\n",
              "\t<tr><th scope=row>38</th><td>Oregon              </td><td>OR</td><td>West </td><td> 3831074</td><td>  36</td></tr>\n",
              "\t<tr><th scope=row>41</th><td>South Carolina      </td><td>SC</td><td>South</td><td> 4625364</td><td> 207</td></tr>\n",
              "\t<tr><th scope=row>43</th><td>Tennessee           </td><td>TN</td><td>South</td><td> 6346105</td><td> 219</td></tr>\n",
              "\t<tr><th scope=row>44</th><td>Texas               </td><td>TX</td><td>South</td><td>25145561</td><td> 805</td></tr>\n",
              "\t<tr><th scope=row>45</th><td>Utah                </td><td>UT</td><td>West </td><td> 2763885</td><td>  22</td></tr>\n",
              "\t<tr><th scope=row>47</th><td>Virginia            </td><td>VA</td><td>South</td><td> 8001024</td><td> 250</td></tr>\n",
              "\t<tr><th scope=row>48</th><td>Washington          </td><td>WA</td><td>West </td><td> 6724540</td><td>  93</td></tr>\n",
              "\t<tr><th scope=row>49</th><td>West Virginia       </td><td>WV</td><td>South</td><td> 1852994</td><td>  27</td></tr>\n",
              "\t<tr><th scope=row>51</th><td>Wyoming             </td><td>WY</td><td>West </td><td>  563626</td><td>   5</td></tr>\n",
              "</tbody>\n",
              "</table>\n"
            ],
            "text/markdown": "\nA data.frame: 30 × 5\n\n| <!--/--> | state &lt;chr&gt; | abb &lt;chr&gt; | region &lt;fct&gt; | population &lt;dbl&gt; | total &lt;dbl&gt; |\n|---|---|---|---|---|---|\n| 1 | Alabama              | AL | South |  4779736 |  135 |\n| 2 | Alaska               | AK | West  |   710231 |   19 |\n| 3 | Arizona              | AZ | West  |  6392017 |  232 |\n| 4 | Arkansas             | AR | South |  2915918 |   93 |\n| 5 | California           | CA | West  | 37253956 | 1257 |\n| 6 | Colorado             | CO | West  |  5029196 |   65 |\n| 8 | Delaware             | DE | South |   897934 |   38 |\n| 9 | District of Columbia | DC | South |   601723 |   99 |\n| 10 | Florida              | FL | South | 19687653 |  669 |\n| 11 | Georgia              | GA | South |  9920000 |  376 |\n| 12 | Hawaii               | HI | West  |  1360301 |    7 |\n| 13 | Idaho                | ID | West  |  1567582 |   12 |\n| 18 | Kentucky             | KY | South |  4339367 |  116 |\n| 19 | Louisiana            | LA | South |  4533372 |  351 |\n| 21 | Maryland             | MD | South |  5773552 |  293 |\n| 25 | Mississippi          | MS | South |  2967297 |  120 |\n| 27 | Montana              | MT | West  |   989415 |   12 |\n| 29 | Nevada               | NV | West  |  2700551 |   84 |\n| 32 | New Mexico           | NM | West  |  2059179 |   67 |\n| 34 | North Carolina       | NC | South |  9535483 |  286 |\n| 37 | Oklahoma             | OK | South |  3751351 |  111 |\n| 38 | Oregon               | OR | West  |  3831074 |   36 |\n| 41 | South Carolina       | SC | South |  4625364 |  207 |\n| 43 | Tennessee            | TN | South |  6346105 |  219 |\n| 44 | Texas                | TX | South | 25145561 |  805 |\n| 45 | Utah                 | UT | West  |  2763885 |   22 |\n| 47 | Virginia             | VA | South |  8001024 |  250 |\n| 48 | Washington           | WA | West  |  6724540 |   93 |\n| 49 | West Virginia        | WV | South |  1852994 |   27 |\n| 51 | Wyoming              | WY | West  |   563626 |    5 |\n\n",
            "text/latex": "A data.frame: 30 × 5\n\\begin{tabular}{r|lllll}\n  & state & abb & region & population & total\\\\\n  & <chr> & <chr> & <fct> & <dbl> & <dbl>\\\\\n\\hline\n\t1 & Alabama              & AL & South &  4779736 &  135\\\\\n\t2 & Alaska               & AK & West  &   710231 &   19\\\\\n\t3 & Arizona              & AZ & West  &  6392017 &  232\\\\\n\t4 & Arkansas             & AR & South &  2915918 &   93\\\\\n\t5 & California           & CA & West  & 37253956 & 1257\\\\\n\t6 & Colorado             & CO & West  &  5029196 &   65\\\\\n\t8 & Delaware             & DE & South &   897934 &   38\\\\\n\t9 & District of Columbia & DC & South &   601723 &   99\\\\\n\t10 & Florida              & FL & South & 19687653 &  669\\\\\n\t11 & Georgia              & GA & South &  9920000 &  376\\\\\n\t12 & Hawaii               & HI & West  &  1360301 &    7\\\\\n\t13 & Idaho                & ID & West  &  1567582 &   12\\\\\n\t18 & Kentucky             & KY & South &  4339367 &  116\\\\\n\t19 & Louisiana            & LA & South &  4533372 &  351\\\\\n\t21 & Maryland             & MD & South &  5773552 &  293\\\\\n\t25 & Mississippi          & MS & South &  2967297 &  120\\\\\n\t27 & Montana              & MT & West  &   989415 &   12\\\\\n\t29 & Nevada               & NV & West  &  2700551 &   84\\\\\n\t32 & New Mexico           & NM & West  &  2059179 &   67\\\\\n\t34 & North Carolina       & NC & South &  9535483 &  286\\\\\n\t37 & Oklahoma             & OK & South &  3751351 &  111\\\\\n\t38 & Oregon               & OR & West  &  3831074 &   36\\\\\n\t41 & South Carolina       & SC & South &  4625364 &  207\\\\\n\t43 & Tennessee            & TN & South &  6346105 &  219\\\\\n\t44 & Texas                & TX & South & 25145561 &  805\\\\\n\t45 & Utah                 & UT & West  &  2763885 &   22\\\\\n\t47 & Virginia             & VA & South &  8001024 &  250\\\\\n\t48 & Washington           & WA & West  &  6724540 &   93\\\\\n\t49 & West Virginia        & WV & South &  1852994 &   27\\\\\n\t51 & Wyoming              & WY & West  &   563626 &    5\\\\\n\\end{tabular}\n",
            "text/plain": [
              "   state                abb region population total\n",
              "1  Alabama              AL  South   4779736    135 \n",
              "2  Alaska               AK  West     710231     19 \n",
              "3  Arizona              AZ  West    6392017    232 \n",
              "4  Arkansas             AR  South   2915918     93 \n",
              "5  California           CA  West   37253956   1257 \n",
              "6  Colorado             CO  West    5029196     65 \n",
              "8  Delaware             DE  South    897934     38 \n",
              "9  District of Columbia DC  South    601723     99 \n",
              "10 Florida              FL  South  19687653    669 \n",
              "11 Georgia              GA  South   9920000    376 \n",
              "12 Hawaii               HI  West    1360301      7 \n",
              "13 Idaho                ID  West    1567582     12 \n",
              "18 Kentucky             KY  South   4339367    116 \n",
              "19 Louisiana            LA  South   4533372    351 \n",
              "21 Maryland             MD  South   5773552    293 \n",
              "25 Mississippi          MS  South   2967297    120 \n",
              "27 Montana              MT  West     989415     12 \n",
              "29 Nevada               NV  West    2700551     84 \n",
              "32 New Mexico           NM  West    2059179     67 \n",
              "34 North Carolina       NC  South   9535483    286 \n",
              "37 Oklahoma             OK  South   3751351    111 \n",
              "38 Oregon               OR  West    3831074     36 \n",
              "41 South Carolina       SC  South   4625364    207 \n",
              "43 Tennessee            TN  South   6346105    219 \n",
              "44 Texas                TX  South  25145561    805 \n",
              "45 Utah                 UT  West    2763885     22 \n",
              "47 Virginia             VA  South   8001024    250 \n",
              "48 Washington           WA  West    6724540     93 \n",
              "49 West Virginia        WV  South   1852994     27 \n",
              "51 Wyoming              WY  West     563626      5 "
            ]
          },
          "metadata": {}
        }
      ]
    },
    {
      "cell_type": "markdown",
      "source": [
        "<br>"
      ],
      "metadata": {
        "id": "bCCQKqHTTcQu"
      }
    },
    {
      "cell_type": "markdown",
      "source": [
        "* Extract rows from all regions except western region"
      ],
      "metadata": {
        "id": "YiEJFj8bTcQv"
      }
    },
    {
      "cell_type": "code",
      "source": [
        "# NOT the western region\n",
        "!(murders$region == \"West\")"
      ],
      "metadata": {
        "colab": {
          "base_uri": "https://localhost:8080/",
          "height": 69
        },
        "id": "5Y1UVFasTkTk",
        "outputId": "8dc30969-9509-42a3-d549-8bd08e0754c1"
      },
      "execution_count": null,
      "outputs": [
        {
          "output_type": "display_data",
          "data": {
            "text/html": [
              "<style>\n",
              ".list-inline {list-style: none; margin:0; padding: 0}\n",
              ".list-inline>li {display: inline-block}\n",
              ".list-inline>li:not(:last-child)::after {content: \"\\00b7\"; padding: 0 .5ex}\n",
              "</style>\n",
              "<ol class=list-inline><li>TRUE</li><li>FALSE</li><li>FALSE</li><li>TRUE</li><li>FALSE</li><li>FALSE</li><li>TRUE</li><li>TRUE</li><li>TRUE</li><li>TRUE</li><li>TRUE</li><li>FALSE</li><li>FALSE</li><li>TRUE</li><li>TRUE</li><li>TRUE</li><li>TRUE</li><li>TRUE</li><li>TRUE</li><li>TRUE</li><li>TRUE</li><li>TRUE</li><li>TRUE</li><li>TRUE</li><li>TRUE</li><li>TRUE</li><li>FALSE</li><li>TRUE</li><li>FALSE</li><li>TRUE</li><li>TRUE</li><li>FALSE</li><li>TRUE</li><li>TRUE</li><li>TRUE</li><li>TRUE</li><li>TRUE</li><li>FALSE</li><li>TRUE</li><li>TRUE</li><li>TRUE</li><li>TRUE</li><li>TRUE</li><li>TRUE</li><li>FALSE</li><li>TRUE</li><li>TRUE</li><li>FALSE</li><li>TRUE</li><li>TRUE</li><li>FALSE</li></ol>\n"
            ],
            "text/markdown": "1. TRUE\n2. FALSE\n3. FALSE\n4. TRUE\n5. FALSE\n6. FALSE\n7. TRUE\n8. TRUE\n9. TRUE\n10. TRUE\n11. TRUE\n12. FALSE\n13. FALSE\n14. TRUE\n15. TRUE\n16. TRUE\n17. TRUE\n18. TRUE\n19. TRUE\n20. TRUE\n21. TRUE\n22. TRUE\n23. TRUE\n24. TRUE\n25. TRUE\n26. TRUE\n27. FALSE\n28. TRUE\n29. FALSE\n30. TRUE\n31. TRUE\n32. FALSE\n33. TRUE\n34. TRUE\n35. TRUE\n36. TRUE\n37. TRUE\n38. FALSE\n39. TRUE\n40. TRUE\n41. TRUE\n42. TRUE\n43. TRUE\n44. TRUE\n45. FALSE\n46. TRUE\n47. TRUE\n48. FALSE\n49. TRUE\n50. TRUE\n51. FALSE\n\n\n",
            "text/latex": "\\begin{enumerate*}\n\\item TRUE\n\\item FALSE\n\\item FALSE\n\\item TRUE\n\\item FALSE\n\\item FALSE\n\\item TRUE\n\\item TRUE\n\\item TRUE\n\\item TRUE\n\\item TRUE\n\\item FALSE\n\\item FALSE\n\\item TRUE\n\\item TRUE\n\\item TRUE\n\\item TRUE\n\\item TRUE\n\\item TRUE\n\\item TRUE\n\\item TRUE\n\\item TRUE\n\\item TRUE\n\\item TRUE\n\\item TRUE\n\\item TRUE\n\\item FALSE\n\\item TRUE\n\\item FALSE\n\\item TRUE\n\\item TRUE\n\\item FALSE\n\\item TRUE\n\\item TRUE\n\\item TRUE\n\\item TRUE\n\\item TRUE\n\\item FALSE\n\\item TRUE\n\\item TRUE\n\\item TRUE\n\\item TRUE\n\\item TRUE\n\\item TRUE\n\\item FALSE\n\\item TRUE\n\\item TRUE\n\\item FALSE\n\\item TRUE\n\\item TRUE\n\\item FALSE\n\\end{enumerate*}\n",
            "text/plain": [
              " [1]  TRUE FALSE FALSE  TRUE FALSE FALSE  TRUE  TRUE  TRUE  TRUE  TRUE FALSE\n",
              "[13] FALSE  TRUE  TRUE  TRUE  TRUE  TRUE  TRUE  TRUE  TRUE  TRUE  TRUE  TRUE\n",
              "[25]  TRUE  TRUE FALSE  TRUE FALSE  TRUE  TRUE FALSE  TRUE  TRUE  TRUE  TRUE\n",
              "[37]  TRUE FALSE  TRUE  TRUE  TRUE  TRUE  TRUE  TRUE FALSE  TRUE  TRUE FALSE\n",
              "[49]  TRUE  TRUE FALSE"
            ]
          },
          "metadata": {}
        }
      ]
    },
    {
      "cell_type": "code",
      "source": [
        "# all rows not in the western region\n",
        "murders[!(murders$region == \"West\"), ]"
      ],
      "metadata": {
        "colab": {
          "base_uri": "https://localhost:8080/",
          "height": 1000
        },
        "outputId": "70f19d77-ea07-4945-bcc3-5c29bb928370",
        "id": "Gt0SuGC5TcQw"
      },
      "execution_count": null,
      "outputs": [
        {
          "output_type": "display_data",
          "data": {
            "text/html": [
              "<table class=\"dataframe\">\n",
              "<caption>A data.frame: 38 × 5</caption>\n",
              "<thead>\n",
              "\t<tr><th></th><th scope=col>state</th><th scope=col>abb</th><th scope=col>region</th><th scope=col>population</th><th scope=col>total</th></tr>\n",
              "\t<tr><th></th><th scope=col>&lt;chr&gt;</th><th scope=col>&lt;chr&gt;</th><th scope=col>&lt;fct&gt;</th><th scope=col>&lt;dbl&gt;</th><th scope=col>&lt;dbl&gt;</th></tr>\n",
              "</thead>\n",
              "<tbody>\n",
              "\t<tr><th scope=row>1</th><td>Alabama             </td><td>AL</td><td>South        </td><td> 4779736</td><td>135</td></tr>\n",
              "\t<tr><th scope=row>4</th><td>Arkansas            </td><td>AR</td><td>South        </td><td> 2915918</td><td> 93</td></tr>\n",
              "\t<tr><th scope=row>7</th><td>Connecticut         </td><td>CT</td><td>Northeast    </td><td> 3574097</td><td> 97</td></tr>\n",
              "\t<tr><th scope=row>8</th><td>Delaware            </td><td>DE</td><td>South        </td><td>  897934</td><td> 38</td></tr>\n",
              "\t<tr><th scope=row>9</th><td>District of Columbia</td><td>DC</td><td>South        </td><td>  601723</td><td> 99</td></tr>\n",
              "\t<tr><th scope=row>10</th><td>Florida             </td><td>FL</td><td>South        </td><td>19687653</td><td>669</td></tr>\n",
              "\t<tr><th scope=row>11</th><td>Georgia             </td><td>GA</td><td>South        </td><td> 9920000</td><td>376</td></tr>\n",
              "\t<tr><th scope=row>14</th><td>Illinois            </td><td>IL</td><td>North Central</td><td>12830632</td><td>364</td></tr>\n",
              "\t<tr><th scope=row>15</th><td>Indiana             </td><td>IN</td><td>North Central</td><td> 6483802</td><td>142</td></tr>\n",
              "\t<tr><th scope=row>16</th><td>Iowa                </td><td>IA</td><td>North Central</td><td> 3046355</td><td> 21</td></tr>\n",
              "\t<tr><th scope=row>17</th><td>Kansas              </td><td>KS</td><td>North Central</td><td> 2853118</td><td> 63</td></tr>\n",
              "\t<tr><th scope=row>18</th><td>Kentucky            </td><td>KY</td><td>South        </td><td> 4339367</td><td>116</td></tr>\n",
              "\t<tr><th scope=row>19</th><td>Louisiana           </td><td>LA</td><td>South        </td><td> 4533372</td><td>351</td></tr>\n",
              "\t<tr><th scope=row>20</th><td>Maine               </td><td>ME</td><td>Northeast    </td><td> 1328361</td><td> 11</td></tr>\n",
              "\t<tr><th scope=row>21</th><td>Maryland            </td><td>MD</td><td>South        </td><td> 5773552</td><td>293</td></tr>\n",
              "\t<tr><th scope=row>22</th><td>Massachusetts       </td><td>MA</td><td>Northeast    </td><td> 6547629</td><td>118</td></tr>\n",
              "\t<tr><th scope=row>23</th><td>Michigan            </td><td>MI</td><td>North Central</td><td> 9883640</td><td>413</td></tr>\n",
              "\t<tr><th scope=row>24</th><td>Minnesota           </td><td>MN</td><td>North Central</td><td> 5303925</td><td> 53</td></tr>\n",
              "\t<tr><th scope=row>25</th><td>Mississippi         </td><td>MS</td><td>South        </td><td> 2967297</td><td>120</td></tr>\n",
              "\t<tr><th scope=row>26</th><td>Missouri            </td><td>MO</td><td>North Central</td><td> 5988927</td><td>321</td></tr>\n",
              "\t<tr><th scope=row>28</th><td>Nebraska            </td><td>NE</td><td>North Central</td><td> 1826341</td><td> 32</td></tr>\n",
              "\t<tr><th scope=row>30</th><td>New Hampshire       </td><td>NH</td><td>Northeast    </td><td> 1316470</td><td>  5</td></tr>\n",
              "\t<tr><th scope=row>31</th><td>New Jersey          </td><td>NJ</td><td>Northeast    </td><td> 8791894</td><td>246</td></tr>\n",
              "\t<tr><th scope=row>33</th><td>New York            </td><td>NY</td><td>Northeast    </td><td>19378102</td><td>517</td></tr>\n",
              "\t<tr><th scope=row>34</th><td>North Carolina      </td><td>NC</td><td>South        </td><td> 9535483</td><td>286</td></tr>\n",
              "\t<tr><th scope=row>35</th><td>North Dakota        </td><td>ND</td><td>North Central</td><td>  672591</td><td>  4</td></tr>\n",
              "\t<tr><th scope=row>36</th><td>Ohio                </td><td>OH</td><td>North Central</td><td>11536504</td><td>310</td></tr>\n",
              "\t<tr><th scope=row>37</th><td>Oklahoma            </td><td>OK</td><td>South        </td><td> 3751351</td><td>111</td></tr>\n",
              "\t<tr><th scope=row>39</th><td>Pennsylvania        </td><td>PA</td><td>Northeast    </td><td>12702379</td><td>457</td></tr>\n",
              "\t<tr><th scope=row>40</th><td>Rhode Island        </td><td>RI</td><td>Northeast    </td><td> 1052567</td><td> 16</td></tr>\n",
              "\t<tr><th scope=row>41</th><td>South Carolina      </td><td>SC</td><td>South        </td><td> 4625364</td><td>207</td></tr>\n",
              "\t<tr><th scope=row>42</th><td>South Dakota        </td><td>SD</td><td>North Central</td><td>  814180</td><td>  8</td></tr>\n",
              "\t<tr><th scope=row>43</th><td>Tennessee           </td><td>TN</td><td>South        </td><td> 6346105</td><td>219</td></tr>\n",
              "\t<tr><th scope=row>44</th><td>Texas               </td><td>TX</td><td>South        </td><td>25145561</td><td>805</td></tr>\n",
              "\t<tr><th scope=row>46</th><td>Vermont             </td><td>VT</td><td>Northeast    </td><td>  625741</td><td>  2</td></tr>\n",
              "\t<tr><th scope=row>47</th><td>Virginia            </td><td>VA</td><td>South        </td><td> 8001024</td><td>250</td></tr>\n",
              "\t<tr><th scope=row>49</th><td>West Virginia       </td><td>WV</td><td>South        </td><td> 1852994</td><td> 27</td></tr>\n",
              "\t<tr><th scope=row>50</th><td>Wisconsin           </td><td>WI</td><td>North Central</td><td> 5686986</td><td> 97</td></tr>\n",
              "</tbody>\n",
              "</table>\n"
            ],
            "text/markdown": "\nA data.frame: 38 × 5\n\n| <!--/--> | state &lt;chr&gt; | abb &lt;chr&gt; | region &lt;fct&gt; | population &lt;dbl&gt; | total &lt;dbl&gt; |\n|---|---|---|---|---|---|\n| 1 | Alabama              | AL | South         |  4779736 | 135 |\n| 4 | Arkansas             | AR | South         |  2915918 |  93 |\n| 7 | Connecticut          | CT | Northeast     |  3574097 |  97 |\n| 8 | Delaware             | DE | South         |   897934 |  38 |\n| 9 | District of Columbia | DC | South         |   601723 |  99 |\n| 10 | Florida              | FL | South         | 19687653 | 669 |\n| 11 | Georgia              | GA | South         |  9920000 | 376 |\n| 14 | Illinois             | IL | North Central | 12830632 | 364 |\n| 15 | Indiana              | IN | North Central |  6483802 | 142 |\n| 16 | Iowa                 | IA | North Central |  3046355 |  21 |\n| 17 | Kansas               | KS | North Central |  2853118 |  63 |\n| 18 | Kentucky             | KY | South         |  4339367 | 116 |\n| 19 | Louisiana            | LA | South         |  4533372 | 351 |\n| 20 | Maine                | ME | Northeast     |  1328361 |  11 |\n| 21 | Maryland             | MD | South         |  5773552 | 293 |\n| 22 | Massachusetts        | MA | Northeast     |  6547629 | 118 |\n| 23 | Michigan             | MI | North Central |  9883640 | 413 |\n| 24 | Minnesota            | MN | North Central |  5303925 |  53 |\n| 25 | Mississippi          | MS | South         |  2967297 | 120 |\n| 26 | Missouri             | MO | North Central |  5988927 | 321 |\n| 28 | Nebraska             | NE | North Central |  1826341 |  32 |\n| 30 | New Hampshire        | NH | Northeast     |  1316470 |   5 |\n| 31 | New Jersey           | NJ | Northeast     |  8791894 | 246 |\n| 33 | New York             | NY | Northeast     | 19378102 | 517 |\n| 34 | North Carolina       | NC | South         |  9535483 | 286 |\n| 35 | North Dakota         | ND | North Central |   672591 |   4 |\n| 36 | Ohio                 | OH | North Central | 11536504 | 310 |\n| 37 | Oklahoma             | OK | South         |  3751351 | 111 |\n| 39 | Pennsylvania         | PA | Northeast     | 12702379 | 457 |\n| 40 | Rhode Island         | RI | Northeast     |  1052567 |  16 |\n| 41 | South Carolina       | SC | South         |  4625364 | 207 |\n| 42 | South Dakota         | SD | North Central |   814180 |   8 |\n| 43 | Tennessee            | TN | South         |  6346105 | 219 |\n| 44 | Texas                | TX | South         | 25145561 | 805 |\n| 46 | Vermont              | VT | Northeast     |   625741 |   2 |\n| 47 | Virginia             | VA | South         |  8001024 | 250 |\n| 49 | West Virginia        | WV | South         |  1852994 |  27 |\n| 50 | Wisconsin            | WI | North Central |  5686986 |  97 |\n\n",
            "text/latex": "A data.frame: 38 × 5\n\\begin{tabular}{r|lllll}\n  & state & abb & region & population & total\\\\\n  & <chr> & <chr> & <fct> & <dbl> & <dbl>\\\\\n\\hline\n\t1 & Alabama              & AL & South         &  4779736 & 135\\\\\n\t4 & Arkansas             & AR & South         &  2915918 &  93\\\\\n\t7 & Connecticut          & CT & Northeast     &  3574097 &  97\\\\\n\t8 & Delaware             & DE & South         &   897934 &  38\\\\\n\t9 & District of Columbia & DC & South         &   601723 &  99\\\\\n\t10 & Florida              & FL & South         & 19687653 & 669\\\\\n\t11 & Georgia              & GA & South         &  9920000 & 376\\\\\n\t14 & Illinois             & IL & North Central & 12830632 & 364\\\\\n\t15 & Indiana              & IN & North Central &  6483802 & 142\\\\\n\t16 & Iowa                 & IA & North Central &  3046355 &  21\\\\\n\t17 & Kansas               & KS & North Central &  2853118 &  63\\\\\n\t18 & Kentucky             & KY & South         &  4339367 & 116\\\\\n\t19 & Louisiana            & LA & South         &  4533372 & 351\\\\\n\t20 & Maine                & ME & Northeast     &  1328361 &  11\\\\\n\t21 & Maryland             & MD & South         &  5773552 & 293\\\\\n\t22 & Massachusetts        & MA & Northeast     &  6547629 & 118\\\\\n\t23 & Michigan             & MI & North Central &  9883640 & 413\\\\\n\t24 & Minnesota            & MN & North Central &  5303925 &  53\\\\\n\t25 & Mississippi          & MS & South         &  2967297 & 120\\\\\n\t26 & Missouri             & MO & North Central &  5988927 & 321\\\\\n\t28 & Nebraska             & NE & North Central &  1826341 &  32\\\\\n\t30 & New Hampshire        & NH & Northeast     &  1316470 &   5\\\\\n\t31 & New Jersey           & NJ & Northeast     &  8791894 & 246\\\\\n\t33 & New York             & NY & Northeast     & 19378102 & 517\\\\\n\t34 & North Carolina       & NC & South         &  9535483 & 286\\\\\n\t35 & North Dakota         & ND & North Central &   672591 &   4\\\\\n\t36 & Ohio                 & OH & North Central & 11536504 & 310\\\\\n\t37 & Oklahoma             & OK & South         &  3751351 & 111\\\\\n\t39 & Pennsylvania         & PA & Northeast     & 12702379 & 457\\\\\n\t40 & Rhode Island         & RI & Northeast     &  1052567 &  16\\\\\n\t41 & South Carolina       & SC & South         &  4625364 & 207\\\\\n\t42 & South Dakota         & SD & North Central &   814180 &   8\\\\\n\t43 & Tennessee            & TN & South         &  6346105 & 219\\\\\n\t44 & Texas                & TX & South         & 25145561 & 805\\\\\n\t46 & Vermont              & VT & Northeast     &   625741 &   2\\\\\n\t47 & Virginia             & VA & South         &  8001024 & 250\\\\\n\t49 & West Virginia        & WV & South         &  1852994 &  27\\\\\n\t50 & Wisconsin            & WI & North Central &  5686986 &  97\\\\\n\\end{tabular}\n",
            "text/plain": [
              "   state                abb region        population total\n",
              "1  Alabama              AL  South          4779736   135  \n",
              "4  Arkansas             AR  South          2915918    93  \n",
              "7  Connecticut          CT  Northeast      3574097    97  \n",
              "8  Delaware             DE  South           897934    38  \n",
              "9  District of Columbia DC  South           601723    99  \n",
              "10 Florida              FL  South         19687653   669  \n",
              "11 Georgia              GA  South          9920000   376  \n",
              "14 Illinois             IL  North Central 12830632   364  \n",
              "15 Indiana              IN  North Central  6483802   142  \n",
              "16 Iowa                 IA  North Central  3046355    21  \n",
              "17 Kansas               KS  North Central  2853118    63  \n",
              "18 Kentucky             KY  South          4339367   116  \n",
              "19 Louisiana            LA  South          4533372   351  \n",
              "20 Maine                ME  Northeast      1328361    11  \n",
              "21 Maryland             MD  South          5773552   293  \n",
              "22 Massachusetts        MA  Northeast      6547629   118  \n",
              "23 Michigan             MI  North Central  9883640   413  \n",
              "24 Minnesota            MN  North Central  5303925    53  \n",
              "25 Mississippi          MS  South          2967297   120  \n",
              "26 Missouri             MO  North Central  5988927   321  \n",
              "28 Nebraska             NE  North Central  1826341    32  \n",
              "30 New Hampshire        NH  Northeast      1316470     5  \n",
              "31 New Jersey           NJ  Northeast      8791894   246  \n",
              "33 New York             NY  Northeast     19378102   517  \n",
              "34 North Carolina       NC  South          9535483   286  \n",
              "35 North Dakota         ND  North Central   672591     4  \n",
              "36 Ohio                 OH  North Central 11536504   310  \n",
              "37 Oklahoma             OK  South          3751351   111  \n",
              "39 Pennsylvania         PA  Northeast     12702379   457  \n",
              "40 Rhode Island         RI  Northeast      1052567    16  \n",
              "41 South Carolina       SC  South          4625364   207  \n",
              "42 South Dakota         SD  North Central   814180     8  \n",
              "43 Tennessee            TN  South          6346105   219  \n",
              "44 Texas                TX  South         25145561   805  \n",
              "46 Vermont              VT  Northeast       625741     2  \n",
              "47 Virginia             VA  South          8001024   250  \n",
              "49 West Virginia        WV  South          1852994    27  \n",
              "50 Wisconsin            WI  North Central  5686986    97  "
            ]
          },
          "metadata": {}
        }
      ]
    },
    {
      "cell_type": "code",
      "source": [
        "# all rows not in the western region\n",
        "murders[(murders$region != \"West\"), ]"
      ],
      "metadata": {
        "colab": {
          "base_uri": "https://localhost:8080/",
          "height": 1000
        },
        "id": "zrcDDUFmCwjh",
        "outputId": "33429faf-fa05-437f-efb5-64c0137aec7d"
      },
      "execution_count": null,
      "outputs": [
        {
          "output_type": "display_data",
          "data": {
            "text/html": [
              "<table class=\"dataframe\">\n",
              "<caption>A data.frame: 38 × 5</caption>\n",
              "<thead>\n",
              "\t<tr><th></th><th scope=col>state</th><th scope=col>abb</th><th scope=col>region</th><th scope=col>population</th><th scope=col>total</th></tr>\n",
              "\t<tr><th></th><th scope=col>&lt;chr&gt;</th><th scope=col>&lt;chr&gt;</th><th scope=col>&lt;fct&gt;</th><th scope=col>&lt;dbl&gt;</th><th scope=col>&lt;dbl&gt;</th></tr>\n",
              "</thead>\n",
              "<tbody>\n",
              "\t<tr><th scope=row>1</th><td>Alabama             </td><td>AL</td><td>South        </td><td> 4779736</td><td>135</td></tr>\n",
              "\t<tr><th scope=row>4</th><td>Arkansas            </td><td>AR</td><td>South        </td><td> 2915918</td><td> 93</td></tr>\n",
              "\t<tr><th scope=row>7</th><td>Connecticut         </td><td>CT</td><td>Northeast    </td><td> 3574097</td><td> 97</td></tr>\n",
              "\t<tr><th scope=row>8</th><td>Delaware            </td><td>DE</td><td>South        </td><td>  897934</td><td> 38</td></tr>\n",
              "\t<tr><th scope=row>9</th><td>District of Columbia</td><td>DC</td><td>South        </td><td>  601723</td><td> 99</td></tr>\n",
              "\t<tr><th scope=row>10</th><td>Florida             </td><td>FL</td><td>South        </td><td>19687653</td><td>669</td></tr>\n",
              "\t<tr><th scope=row>11</th><td>Georgia             </td><td>GA</td><td>South        </td><td> 9920000</td><td>376</td></tr>\n",
              "\t<tr><th scope=row>14</th><td>Illinois            </td><td>IL</td><td>North Central</td><td>12830632</td><td>364</td></tr>\n",
              "\t<tr><th scope=row>15</th><td>Indiana             </td><td>IN</td><td>North Central</td><td> 6483802</td><td>142</td></tr>\n",
              "\t<tr><th scope=row>16</th><td>Iowa                </td><td>IA</td><td>North Central</td><td> 3046355</td><td> 21</td></tr>\n",
              "\t<tr><th scope=row>17</th><td>Kansas              </td><td>KS</td><td>North Central</td><td> 2853118</td><td> 63</td></tr>\n",
              "\t<tr><th scope=row>18</th><td>Kentucky            </td><td>KY</td><td>South        </td><td> 4339367</td><td>116</td></tr>\n",
              "\t<tr><th scope=row>19</th><td>Louisiana           </td><td>LA</td><td>South        </td><td> 4533372</td><td>351</td></tr>\n",
              "\t<tr><th scope=row>20</th><td>Maine               </td><td>ME</td><td>Northeast    </td><td> 1328361</td><td> 11</td></tr>\n",
              "\t<tr><th scope=row>21</th><td>Maryland            </td><td>MD</td><td>South        </td><td> 5773552</td><td>293</td></tr>\n",
              "\t<tr><th scope=row>22</th><td>Massachusetts       </td><td>MA</td><td>Northeast    </td><td> 6547629</td><td>118</td></tr>\n",
              "\t<tr><th scope=row>23</th><td>Michigan            </td><td>MI</td><td>North Central</td><td> 9883640</td><td>413</td></tr>\n",
              "\t<tr><th scope=row>24</th><td>Minnesota           </td><td>MN</td><td>North Central</td><td> 5303925</td><td> 53</td></tr>\n",
              "\t<tr><th scope=row>25</th><td>Mississippi         </td><td>MS</td><td>South        </td><td> 2967297</td><td>120</td></tr>\n",
              "\t<tr><th scope=row>26</th><td>Missouri            </td><td>MO</td><td>North Central</td><td> 5988927</td><td>321</td></tr>\n",
              "\t<tr><th scope=row>28</th><td>Nebraska            </td><td>NE</td><td>North Central</td><td> 1826341</td><td> 32</td></tr>\n",
              "\t<tr><th scope=row>30</th><td>New Hampshire       </td><td>NH</td><td>Northeast    </td><td> 1316470</td><td>  5</td></tr>\n",
              "\t<tr><th scope=row>31</th><td>New Jersey          </td><td>NJ</td><td>Northeast    </td><td> 8791894</td><td>246</td></tr>\n",
              "\t<tr><th scope=row>33</th><td>New York            </td><td>NY</td><td>Northeast    </td><td>19378102</td><td>517</td></tr>\n",
              "\t<tr><th scope=row>34</th><td>North Carolina      </td><td>NC</td><td>South        </td><td> 9535483</td><td>286</td></tr>\n",
              "\t<tr><th scope=row>35</th><td>North Dakota        </td><td>ND</td><td>North Central</td><td>  672591</td><td>  4</td></tr>\n",
              "\t<tr><th scope=row>36</th><td>Ohio                </td><td>OH</td><td>North Central</td><td>11536504</td><td>310</td></tr>\n",
              "\t<tr><th scope=row>37</th><td>Oklahoma            </td><td>OK</td><td>South        </td><td> 3751351</td><td>111</td></tr>\n",
              "\t<tr><th scope=row>39</th><td>Pennsylvania        </td><td>PA</td><td>Northeast    </td><td>12702379</td><td>457</td></tr>\n",
              "\t<tr><th scope=row>40</th><td>Rhode Island        </td><td>RI</td><td>Northeast    </td><td> 1052567</td><td> 16</td></tr>\n",
              "\t<tr><th scope=row>41</th><td>South Carolina      </td><td>SC</td><td>South        </td><td> 4625364</td><td>207</td></tr>\n",
              "\t<tr><th scope=row>42</th><td>South Dakota        </td><td>SD</td><td>North Central</td><td>  814180</td><td>  8</td></tr>\n",
              "\t<tr><th scope=row>43</th><td>Tennessee           </td><td>TN</td><td>South        </td><td> 6346105</td><td>219</td></tr>\n",
              "\t<tr><th scope=row>44</th><td>Texas               </td><td>TX</td><td>South        </td><td>25145561</td><td>805</td></tr>\n",
              "\t<tr><th scope=row>46</th><td>Vermont             </td><td>VT</td><td>Northeast    </td><td>  625741</td><td>  2</td></tr>\n",
              "\t<tr><th scope=row>47</th><td>Virginia            </td><td>VA</td><td>South        </td><td> 8001024</td><td>250</td></tr>\n",
              "\t<tr><th scope=row>49</th><td>West Virginia       </td><td>WV</td><td>South        </td><td> 1852994</td><td> 27</td></tr>\n",
              "\t<tr><th scope=row>50</th><td>Wisconsin           </td><td>WI</td><td>North Central</td><td> 5686986</td><td> 97</td></tr>\n",
              "</tbody>\n",
              "</table>\n"
            ],
            "text/markdown": "\nA data.frame: 38 × 5\n\n| <!--/--> | state &lt;chr&gt; | abb &lt;chr&gt; | region &lt;fct&gt; | population &lt;dbl&gt; | total &lt;dbl&gt; |\n|---|---|---|---|---|---|\n| 1 | Alabama              | AL | South         |  4779736 | 135 |\n| 4 | Arkansas             | AR | South         |  2915918 |  93 |\n| 7 | Connecticut          | CT | Northeast     |  3574097 |  97 |\n| 8 | Delaware             | DE | South         |   897934 |  38 |\n| 9 | District of Columbia | DC | South         |   601723 |  99 |\n| 10 | Florida              | FL | South         | 19687653 | 669 |\n| 11 | Georgia              | GA | South         |  9920000 | 376 |\n| 14 | Illinois             | IL | North Central | 12830632 | 364 |\n| 15 | Indiana              | IN | North Central |  6483802 | 142 |\n| 16 | Iowa                 | IA | North Central |  3046355 |  21 |\n| 17 | Kansas               | KS | North Central |  2853118 |  63 |\n| 18 | Kentucky             | KY | South         |  4339367 | 116 |\n| 19 | Louisiana            | LA | South         |  4533372 | 351 |\n| 20 | Maine                | ME | Northeast     |  1328361 |  11 |\n| 21 | Maryland             | MD | South         |  5773552 | 293 |\n| 22 | Massachusetts        | MA | Northeast     |  6547629 | 118 |\n| 23 | Michigan             | MI | North Central |  9883640 | 413 |\n| 24 | Minnesota            | MN | North Central |  5303925 |  53 |\n| 25 | Mississippi          | MS | South         |  2967297 | 120 |\n| 26 | Missouri             | MO | North Central |  5988927 | 321 |\n| 28 | Nebraska             | NE | North Central |  1826341 |  32 |\n| 30 | New Hampshire        | NH | Northeast     |  1316470 |   5 |\n| 31 | New Jersey           | NJ | Northeast     |  8791894 | 246 |\n| 33 | New York             | NY | Northeast     | 19378102 | 517 |\n| 34 | North Carolina       | NC | South         |  9535483 | 286 |\n| 35 | North Dakota         | ND | North Central |   672591 |   4 |\n| 36 | Ohio                 | OH | North Central | 11536504 | 310 |\n| 37 | Oklahoma             | OK | South         |  3751351 | 111 |\n| 39 | Pennsylvania         | PA | Northeast     | 12702379 | 457 |\n| 40 | Rhode Island         | RI | Northeast     |  1052567 |  16 |\n| 41 | South Carolina       | SC | South         |  4625364 | 207 |\n| 42 | South Dakota         | SD | North Central |   814180 |   8 |\n| 43 | Tennessee            | TN | South         |  6346105 | 219 |\n| 44 | Texas                | TX | South         | 25145561 | 805 |\n| 46 | Vermont              | VT | Northeast     |   625741 |   2 |\n| 47 | Virginia             | VA | South         |  8001024 | 250 |\n| 49 | West Virginia        | WV | South         |  1852994 |  27 |\n| 50 | Wisconsin            | WI | North Central |  5686986 |  97 |\n\n",
            "text/latex": "A data.frame: 38 × 5\n\\begin{tabular}{r|lllll}\n  & state & abb & region & population & total\\\\\n  & <chr> & <chr> & <fct> & <dbl> & <dbl>\\\\\n\\hline\n\t1 & Alabama              & AL & South         &  4779736 & 135\\\\\n\t4 & Arkansas             & AR & South         &  2915918 &  93\\\\\n\t7 & Connecticut          & CT & Northeast     &  3574097 &  97\\\\\n\t8 & Delaware             & DE & South         &   897934 &  38\\\\\n\t9 & District of Columbia & DC & South         &   601723 &  99\\\\\n\t10 & Florida              & FL & South         & 19687653 & 669\\\\\n\t11 & Georgia              & GA & South         &  9920000 & 376\\\\\n\t14 & Illinois             & IL & North Central & 12830632 & 364\\\\\n\t15 & Indiana              & IN & North Central &  6483802 & 142\\\\\n\t16 & Iowa                 & IA & North Central &  3046355 &  21\\\\\n\t17 & Kansas               & KS & North Central &  2853118 &  63\\\\\n\t18 & Kentucky             & KY & South         &  4339367 & 116\\\\\n\t19 & Louisiana            & LA & South         &  4533372 & 351\\\\\n\t20 & Maine                & ME & Northeast     &  1328361 &  11\\\\\n\t21 & Maryland             & MD & South         &  5773552 & 293\\\\\n\t22 & Massachusetts        & MA & Northeast     &  6547629 & 118\\\\\n\t23 & Michigan             & MI & North Central &  9883640 & 413\\\\\n\t24 & Minnesota            & MN & North Central &  5303925 &  53\\\\\n\t25 & Mississippi          & MS & South         &  2967297 & 120\\\\\n\t26 & Missouri             & MO & North Central &  5988927 & 321\\\\\n\t28 & Nebraska             & NE & North Central &  1826341 &  32\\\\\n\t30 & New Hampshire        & NH & Northeast     &  1316470 &   5\\\\\n\t31 & New Jersey           & NJ & Northeast     &  8791894 & 246\\\\\n\t33 & New York             & NY & Northeast     & 19378102 & 517\\\\\n\t34 & North Carolina       & NC & South         &  9535483 & 286\\\\\n\t35 & North Dakota         & ND & North Central &   672591 &   4\\\\\n\t36 & Ohio                 & OH & North Central & 11536504 & 310\\\\\n\t37 & Oklahoma             & OK & South         &  3751351 & 111\\\\\n\t39 & Pennsylvania         & PA & Northeast     & 12702379 & 457\\\\\n\t40 & Rhode Island         & RI & Northeast     &  1052567 &  16\\\\\n\t41 & South Carolina       & SC & South         &  4625364 & 207\\\\\n\t42 & South Dakota         & SD & North Central &   814180 &   8\\\\\n\t43 & Tennessee            & TN & South         &  6346105 & 219\\\\\n\t44 & Texas                & TX & South         & 25145561 & 805\\\\\n\t46 & Vermont              & VT & Northeast     &   625741 &   2\\\\\n\t47 & Virginia             & VA & South         &  8001024 & 250\\\\\n\t49 & West Virginia        & WV & South         &  1852994 &  27\\\\\n\t50 & Wisconsin            & WI & North Central &  5686986 &  97\\\\\n\\end{tabular}\n",
            "text/plain": [
              "   state                abb region        population total\n",
              "1  Alabama              AL  South          4779736   135  \n",
              "4  Arkansas             AR  South          2915918    93  \n",
              "7  Connecticut          CT  Northeast      3574097    97  \n",
              "8  Delaware             DE  South           897934    38  \n",
              "9  District of Columbia DC  South           601723    99  \n",
              "10 Florida              FL  South         19687653   669  \n",
              "11 Georgia              GA  South          9920000   376  \n",
              "14 Illinois             IL  North Central 12830632   364  \n",
              "15 Indiana              IN  North Central  6483802   142  \n",
              "16 Iowa                 IA  North Central  3046355    21  \n",
              "17 Kansas               KS  North Central  2853118    63  \n",
              "18 Kentucky             KY  South          4339367   116  \n",
              "19 Louisiana            LA  South          4533372   351  \n",
              "20 Maine                ME  Northeast      1328361    11  \n",
              "21 Maryland             MD  South          5773552   293  \n",
              "22 Massachusetts        MA  Northeast      6547629   118  \n",
              "23 Michigan             MI  North Central  9883640   413  \n",
              "24 Minnesota            MN  North Central  5303925    53  \n",
              "25 Mississippi          MS  South          2967297   120  \n",
              "26 Missouri             MO  North Central  5988927   321  \n",
              "28 Nebraska             NE  North Central  1826341    32  \n",
              "30 New Hampshire        NH  Northeast      1316470     5  \n",
              "31 New Jersey           NJ  Northeast      8791894   246  \n",
              "33 New York             NY  Northeast     19378102   517  \n",
              "34 North Carolina       NC  South          9535483   286  \n",
              "35 North Dakota         ND  North Central   672591     4  \n",
              "36 Ohio                 OH  North Central 11536504   310  \n",
              "37 Oklahoma             OK  South          3751351   111  \n",
              "39 Pennsylvania         PA  Northeast     12702379   457  \n",
              "40 Rhode Island         RI  Northeast      1052567    16  \n",
              "41 South Carolina       SC  South          4625364   207  \n",
              "42 South Dakota         SD  North Central   814180     8  \n",
              "43 Tennessee            TN  South          6346105   219  \n",
              "44 Texas                TX  South         25145561   805  \n",
              "46 Vermont              VT  Northeast       625741     2  \n",
              "47 Virginia             VA  South          8001024   250  \n",
              "49 West Virginia        WV  South          1852994    27  \n",
              "50 Wisconsin            WI  North Central  5686986    97  "
            ]
          },
          "metadata": {}
        }
      ]
    },
    {
      "cell_type": "markdown",
      "source": [
        "<br>"
      ],
      "metadata": {
        "id": "ulRBUSQ0Txq4"
      }
    },
    {
      "cell_type": "markdown",
      "source": [
        "* Extract rows from all regions except western region with murders less than 5"
      ],
      "metadata": {
        "id": "M7eon77CTxMO"
      }
    },
    {
      "cell_type": "code",
      "source": [
        "!(murders$region == \"West\") & murders$total < 5"
      ],
      "metadata": {
        "colab": {
          "base_uri": "https://localhost:8080/",
          "height": 69
        },
        "id": "2eHDfy9QC-mp",
        "outputId": "77d10f88-1005-457d-e910-27f6c89b76f6"
      },
      "execution_count": null,
      "outputs": [
        {
          "output_type": "display_data",
          "data": {
            "text/html": [
              "<style>\n",
              ".list-inline {list-style: none; margin:0; padding: 0}\n",
              ".list-inline>li {display: inline-block}\n",
              ".list-inline>li:not(:last-child)::after {content: \"\\00b7\"; padding: 0 .5ex}\n",
              "</style>\n",
              "<ol class=list-inline><li>FALSE</li><li>FALSE</li><li>FALSE</li><li>FALSE</li><li>FALSE</li><li>FALSE</li><li>FALSE</li><li>FALSE</li><li>FALSE</li><li>FALSE</li><li>FALSE</li><li>FALSE</li><li>FALSE</li><li>FALSE</li><li>FALSE</li><li>FALSE</li><li>FALSE</li><li>FALSE</li><li>FALSE</li><li>FALSE</li><li>FALSE</li><li>FALSE</li><li>FALSE</li><li>FALSE</li><li>FALSE</li><li>FALSE</li><li>FALSE</li><li>FALSE</li><li>FALSE</li><li>FALSE</li><li>FALSE</li><li>FALSE</li><li>FALSE</li><li>FALSE</li><li>TRUE</li><li>FALSE</li><li>FALSE</li><li>FALSE</li><li>FALSE</li><li>FALSE</li><li>FALSE</li><li>FALSE</li><li>FALSE</li><li>FALSE</li><li>FALSE</li><li>TRUE</li><li>FALSE</li><li>FALSE</li><li>FALSE</li><li>FALSE</li><li>FALSE</li></ol>\n"
            ],
            "text/markdown": "1. FALSE\n2. FALSE\n3. FALSE\n4. FALSE\n5. FALSE\n6. FALSE\n7. FALSE\n8. FALSE\n9. FALSE\n10. FALSE\n11. FALSE\n12. FALSE\n13. FALSE\n14. FALSE\n15. FALSE\n16. FALSE\n17. FALSE\n18. FALSE\n19. FALSE\n20. FALSE\n21. FALSE\n22. FALSE\n23. FALSE\n24. FALSE\n25. FALSE\n26. FALSE\n27. FALSE\n28. FALSE\n29. FALSE\n30. FALSE\n31. FALSE\n32. FALSE\n33. FALSE\n34. FALSE\n35. TRUE\n36. FALSE\n37. FALSE\n38. FALSE\n39. FALSE\n40. FALSE\n41. FALSE\n42. FALSE\n43. FALSE\n44. FALSE\n45. FALSE\n46. TRUE\n47. FALSE\n48. FALSE\n49. FALSE\n50. FALSE\n51. FALSE\n\n\n",
            "text/latex": "\\begin{enumerate*}\n\\item FALSE\n\\item FALSE\n\\item FALSE\n\\item FALSE\n\\item FALSE\n\\item FALSE\n\\item FALSE\n\\item FALSE\n\\item FALSE\n\\item FALSE\n\\item FALSE\n\\item FALSE\n\\item FALSE\n\\item FALSE\n\\item FALSE\n\\item FALSE\n\\item FALSE\n\\item FALSE\n\\item FALSE\n\\item FALSE\n\\item FALSE\n\\item FALSE\n\\item FALSE\n\\item FALSE\n\\item FALSE\n\\item FALSE\n\\item FALSE\n\\item FALSE\n\\item FALSE\n\\item FALSE\n\\item FALSE\n\\item FALSE\n\\item FALSE\n\\item FALSE\n\\item TRUE\n\\item FALSE\n\\item FALSE\n\\item FALSE\n\\item FALSE\n\\item FALSE\n\\item FALSE\n\\item FALSE\n\\item FALSE\n\\item FALSE\n\\item FALSE\n\\item TRUE\n\\item FALSE\n\\item FALSE\n\\item FALSE\n\\item FALSE\n\\item FALSE\n\\end{enumerate*}\n",
            "text/plain": [
              " [1] FALSE FALSE FALSE FALSE FALSE FALSE FALSE FALSE FALSE FALSE FALSE FALSE\n",
              "[13] FALSE FALSE FALSE FALSE FALSE FALSE FALSE FALSE FALSE FALSE FALSE FALSE\n",
              "[25] FALSE FALSE FALSE FALSE FALSE FALSE FALSE FALSE FALSE FALSE  TRUE FALSE\n",
              "[37] FALSE FALSE FALSE FALSE FALSE FALSE FALSE FALSE FALSE  TRUE FALSE FALSE\n",
              "[49] FALSE FALSE FALSE"
            ]
          },
          "metadata": {}
        }
      ]
    },
    {
      "cell_type": "code",
      "source": [
        "# NOT the western region\n",
        "murders[!(murders$region == \"West\") & murders$total < 5, ]"
      ],
      "metadata": {
        "colab": {
          "base_uri": "https://localhost:8080/",
          "height": 160
        },
        "outputId": "be20969f-0267-4133-f21d-dde0f9f8e51c",
        "id": "M6rzaPJ_TxMO"
      },
      "execution_count": null,
      "outputs": [
        {
          "output_type": "display_data",
          "data": {
            "text/html": [
              "<table class=\"dataframe\">\n",
              "<caption>A data.frame: 2 × 5</caption>\n",
              "<thead>\n",
              "\t<tr><th></th><th scope=col>state</th><th scope=col>abb</th><th scope=col>region</th><th scope=col>population</th><th scope=col>total</th></tr>\n",
              "\t<tr><th></th><th scope=col>&lt;chr&gt;</th><th scope=col>&lt;chr&gt;</th><th scope=col>&lt;fct&gt;</th><th scope=col>&lt;dbl&gt;</th><th scope=col>&lt;dbl&gt;</th></tr>\n",
              "</thead>\n",
              "<tbody>\n",
              "\t<tr><th scope=row>35</th><td>North Dakota</td><td>ND</td><td>North Central</td><td>672591</td><td>4</td></tr>\n",
              "\t<tr><th scope=row>46</th><td>Vermont     </td><td>VT</td><td>Northeast    </td><td>625741</td><td>2</td></tr>\n",
              "</tbody>\n",
              "</table>\n"
            ],
            "text/markdown": "\nA data.frame: 2 × 5\n\n| <!--/--> | state &lt;chr&gt; | abb &lt;chr&gt; | region &lt;fct&gt; | population &lt;dbl&gt; | total &lt;dbl&gt; |\n|---|---|---|---|---|---|\n| 35 | North Dakota | ND | North Central | 672591 | 4 |\n| 46 | Vermont      | VT | Northeast     | 625741 | 2 |\n\n",
            "text/latex": "A data.frame: 2 × 5\n\\begin{tabular}{r|lllll}\n  & state & abb & region & population & total\\\\\n  & <chr> & <chr> & <fct> & <dbl> & <dbl>\\\\\n\\hline\n\t35 & North Dakota & ND & North Central & 672591 & 4\\\\\n\t46 & Vermont      & VT & Northeast     & 625741 & 2\\\\\n\\end{tabular}\n",
            "text/plain": [
              "   state        abb region        population total\n",
              "35 North Dakota ND  North Central 672591     4    \n",
              "46 Vermont      VT  Northeast     625741     2    "
            ]
          },
          "metadata": {}
        }
      ]
    },
    {
      "cell_type": "markdown",
      "source": [
        "<br>\n",
        "\n",
        "<br>"
      ],
      "metadata": {
        "id": "IIu2A_1JCv3l"
      }
    },
    {
      "cell_type": "markdown",
      "source": [
        "---\n",
        "\n",
        "<br>"
      ],
      "metadata": {
        "id": "ZXflJVXiSfHh"
      }
    },
    {
      "cell_type": "markdown",
      "metadata": {
        "id": "adz0I7RbSfHi"
      },
      "source": [
        "## `%in%` Operator"
      ]
    },
    {
      "cell_type": "markdown",
      "source": [
        "* The `%in%` operator can be used to find all entries of a vector that are in entries of another vector\n",
        "\n",
        "* The script below produces a Boolean vector with `TRUE` entries indicating western OR southern regions"
      ],
      "metadata": {
        "id": "No2H4YlQULW-"
      }
    },
    {
      "cell_type": "code",
      "source": [
        "murders$region %in% c(\"West\", \"South\")"
      ],
      "metadata": {
        "colab": {
          "base_uri": "https://localhost:8080/",
          "height": 69
        },
        "id": "Dp5z1wqXUZW0",
        "outputId": "2b1031b3-58e3-4495-b696-bc739c63e4ed"
      },
      "execution_count": null,
      "outputs": [
        {
          "output_type": "display_data",
          "data": {
            "text/html": [
              "<style>\n",
              ".list-inline {list-style: none; margin:0; padding: 0}\n",
              ".list-inline>li {display: inline-block}\n",
              ".list-inline>li:not(:last-child)::after {content: \"\\00b7\"; padding: 0 .5ex}\n",
              "</style>\n",
              "<ol class=list-inline><li>TRUE</li><li>TRUE</li><li>TRUE</li><li>TRUE</li><li>TRUE</li><li>TRUE</li><li>FALSE</li><li>TRUE</li><li>TRUE</li><li>TRUE</li><li>TRUE</li><li>TRUE</li><li>TRUE</li><li>FALSE</li><li>FALSE</li><li>FALSE</li><li>FALSE</li><li>TRUE</li><li>TRUE</li><li>FALSE</li><li>TRUE</li><li>FALSE</li><li>FALSE</li><li>FALSE</li><li>TRUE</li><li>FALSE</li><li>TRUE</li><li>FALSE</li><li>TRUE</li><li>FALSE</li><li>FALSE</li><li>TRUE</li><li>FALSE</li><li>TRUE</li><li>FALSE</li><li>FALSE</li><li>TRUE</li><li>TRUE</li><li>FALSE</li><li>FALSE</li><li>TRUE</li><li>FALSE</li><li>TRUE</li><li>TRUE</li><li>TRUE</li><li>FALSE</li><li>TRUE</li><li>TRUE</li><li>TRUE</li><li>FALSE</li><li>TRUE</li></ol>\n"
            ],
            "text/markdown": "1. TRUE\n2. TRUE\n3. TRUE\n4. TRUE\n5. TRUE\n6. TRUE\n7. FALSE\n8. TRUE\n9. TRUE\n10. TRUE\n11. TRUE\n12. TRUE\n13. TRUE\n14. FALSE\n15. FALSE\n16. FALSE\n17. FALSE\n18. TRUE\n19. TRUE\n20. FALSE\n21. TRUE\n22. FALSE\n23. FALSE\n24. FALSE\n25. TRUE\n26. FALSE\n27. TRUE\n28. FALSE\n29. TRUE\n30. FALSE\n31. FALSE\n32. TRUE\n33. FALSE\n34. TRUE\n35. FALSE\n36. FALSE\n37. TRUE\n38. TRUE\n39. FALSE\n40. FALSE\n41. TRUE\n42. FALSE\n43. TRUE\n44. TRUE\n45. TRUE\n46. FALSE\n47. TRUE\n48. TRUE\n49. TRUE\n50. FALSE\n51. TRUE\n\n\n",
            "text/latex": "\\begin{enumerate*}\n\\item TRUE\n\\item TRUE\n\\item TRUE\n\\item TRUE\n\\item TRUE\n\\item TRUE\n\\item FALSE\n\\item TRUE\n\\item TRUE\n\\item TRUE\n\\item TRUE\n\\item TRUE\n\\item TRUE\n\\item FALSE\n\\item FALSE\n\\item FALSE\n\\item FALSE\n\\item TRUE\n\\item TRUE\n\\item FALSE\n\\item TRUE\n\\item FALSE\n\\item FALSE\n\\item FALSE\n\\item TRUE\n\\item FALSE\n\\item TRUE\n\\item FALSE\n\\item TRUE\n\\item FALSE\n\\item FALSE\n\\item TRUE\n\\item FALSE\n\\item TRUE\n\\item FALSE\n\\item FALSE\n\\item TRUE\n\\item TRUE\n\\item FALSE\n\\item FALSE\n\\item TRUE\n\\item FALSE\n\\item TRUE\n\\item TRUE\n\\item TRUE\n\\item FALSE\n\\item TRUE\n\\item TRUE\n\\item TRUE\n\\item FALSE\n\\item TRUE\n\\end{enumerate*}\n",
            "text/plain": [
              " [1]  TRUE  TRUE  TRUE  TRUE  TRUE  TRUE FALSE  TRUE  TRUE  TRUE  TRUE  TRUE\n",
              "[13]  TRUE FALSE FALSE FALSE FALSE  TRUE  TRUE FALSE  TRUE FALSE FALSE FALSE\n",
              "[25]  TRUE FALSE  TRUE FALSE  TRUE FALSE FALSE  TRUE FALSE  TRUE FALSE FALSE\n",
              "[37]  TRUE  TRUE FALSE FALSE  TRUE FALSE  TRUE  TRUE  TRUE FALSE  TRUE  TRUE\n",
              "[49]  TRUE FALSE  TRUE"
            ]
          },
          "metadata": {}
        }
      ]
    },
    {
      "cell_type": "markdown",
      "source": [
        "<br>"
      ],
      "metadata": {
        "id": "cBYdSKQ8UuGc"
      }
    },
    {
      "cell_type": "markdown",
      "source": [
        "* Compare to our prior script"
      ],
      "metadata": {
        "id": "xzTdznFsU6CN"
      }
    },
    {
      "cell_type": "code",
      "source": [
        "murders$region == \"West\" | murders$region == \"South\""
      ],
      "metadata": {
        "colab": {
          "base_uri": "https://localhost:8080/",
          "height": 69
        },
        "id": "yHTX3VMqUl1E",
        "outputId": "7dc8e2cf-dbce-4511-eacd-314c0f899ab4"
      },
      "execution_count": null,
      "outputs": [
        {
          "output_type": "display_data",
          "data": {
            "text/html": [
              "<style>\n",
              ".list-inline {list-style: none; margin:0; padding: 0}\n",
              ".list-inline>li {display: inline-block}\n",
              ".list-inline>li:not(:last-child)::after {content: \"\\00b7\"; padding: 0 .5ex}\n",
              "</style>\n",
              "<ol class=list-inline><li>TRUE</li><li>TRUE</li><li>TRUE</li><li>TRUE</li><li>TRUE</li><li>TRUE</li><li>FALSE</li><li>TRUE</li><li>TRUE</li><li>TRUE</li><li>TRUE</li><li>TRUE</li><li>TRUE</li><li>FALSE</li><li>FALSE</li><li>FALSE</li><li>FALSE</li><li>TRUE</li><li>TRUE</li><li>FALSE</li><li>TRUE</li><li>FALSE</li><li>FALSE</li><li>FALSE</li><li>TRUE</li><li>FALSE</li><li>TRUE</li><li>FALSE</li><li>TRUE</li><li>FALSE</li><li>FALSE</li><li>TRUE</li><li>FALSE</li><li>TRUE</li><li>FALSE</li><li>FALSE</li><li>TRUE</li><li>TRUE</li><li>FALSE</li><li>FALSE</li><li>TRUE</li><li>FALSE</li><li>TRUE</li><li>TRUE</li><li>TRUE</li><li>FALSE</li><li>TRUE</li><li>TRUE</li><li>TRUE</li><li>FALSE</li><li>TRUE</li></ol>\n"
            ],
            "text/markdown": "1. TRUE\n2. TRUE\n3. TRUE\n4. TRUE\n5. TRUE\n6. TRUE\n7. FALSE\n8. TRUE\n9. TRUE\n10. TRUE\n11. TRUE\n12. TRUE\n13. TRUE\n14. FALSE\n15. FALSE\n16. FALSE\n17. FALSE\n18. TRUE\n19. TRUE\n20. FALSE\n21. TRUE\n22. FALSE\n23. FALSE\n24. FALSE\n25. TRUE\n26. FALSE\n27. TRUE\n28. FALSE\n29. TRUE\n30. FALSE\n31. FALSE\n32. TRUE\n33. FALSE\n34. TRUE\n35. FALSE\n36. FALSE\n37. TRUE\n38. TRUE\n39. FALSE\n40. FALSE\n41. TRUE\n42. FALSE\n43. TRUE\n44. TRUE\n45. TRUE\n46. FALSE\n47. TRUE\n48. TRUE\n49. TRUE\n50. FALSE\n51. TRUE\n\n\n",
            "text/latex": "\\begin{enumerate*}\n\\item TRUE\n\\item TRUE\n\\item TRUE\n\\item TRUE\n\\item TRUE\n\\item TRUE\n\\item FALSE\n\\item TRUE\n\\item TRUE\n\\item TRUE\n\\item TRUE\n\\item TRUE\n\\item TRUE\n\\item FALSE\n\\item FALSE\n\\item FALSE\n\\item FALSE\n\\item TRUE\n\\item TRUE\n\\item FALSE\n\\item TRUE\n\\item FALSE\n\\item FALSE\n\\item FALSE\n\\item TRUE\n\\item FALSE\n\\item TRUE\n\\item FALSE\n\\item TRUE\n\\item FALSE\n\\item FALSE\n\\item TRUE\n\\item FALSE\n\\item TRUE\n\\item FALSE\n\\item FALSE\n\\item TRUE\n\\item TRUE\n\\item FALSE\n\\item FALSE\n\\item TRUE\n\\item FALSE\n\\item TRUE\n\\item TRUE\n\\item TRUE\n\\item FALSE\n\\item TRUE\n\\item TRUE\n\\item TRUE\n\\item FALSE\n\\item TRUE\n\\end{enumerate*}\n",
            "text/plain": [
              " [1]  TRUE  TRUE  TRUE  TRUE  TRUE  TRUE FALSE  TRUE  TRUE  TRUE  TRUE  TRUE\n",
              "[13]  TRUE FALSE FALSE FALSE FALSE  TRUE  TRUE FALSE  TRUE FALSE FALSE FALSE\n",
              "[25]  TRUE FALSE  TRUE FALSE  TRUE FALSE FALSE  TRUE FALSE  TRUE FALSE FALSE\n",
              "[37]  TRUE  TRUE FALSE FALSE  TRUE FALSE  TRUE  TRUE  TRUE FALSE  TRUE  TRUE\n",
              "[49]  TRUE FALSE  TRUE"
            ]
          },
          "metadata": {}
        }
      ]
    },
    {
      "cell_type": "markdown",
      "source": [
        "<br>"
      ],
      "metadata": {
        "id": "noiOFKdSSfHj"
      }
    },
    {
      "cell_type": "code",
      "source": [
        "# extract rows in western and southern regions using %in% operator\n",
        "murders[murders$region %in% c(\"West\", \"South\"), ]"
      ],
      "metadata": {
        "colab": {
          "base_uri": "https://localhost:8080/",
          "height": 1000
        },
        "id": "xQUG3MDKU_GS",
        "outputId": "a182a23b-cde2-4cc6-dfad-ba4519d09e2f"
      },
      "execution_count": null,
      "outputs": [
        {
          "output_type": "display_data",
          "data": {
            "text/html": [
              "<table class=\"dataframe\">\n",
              "<caption>A data.frame: 30 × 5</caption>\n",
              "<thead>\n",
              "\t<tr><th></th><th scope=col>state</th><th scope=col>abb</th><th scope=col>region</th><th scope=col>population</th><th scope=col>total</th></tr>\n",
              "\t<tr><th></th><th scope=col>&lt;chr&gt;</th><th scope=col>&lt;chr&gt;</th><th scope=col>&lt;fct&gt;</th><th scope=col>&lt;dbl&gt;</th><th scope=col>&lt;dbl&gt;</th></tr>\n",
              "</thead>\n",
              "<tbody>\n",
              "\t<tr><th scope=row>1</th><td>Alabama             </td><td>AL</td><td>South</td><td> 4779736</td><td> 135</td></tr>\n",
              "\t<tr><th scope=row>2</th><td>Alaska              </td><td>AK</td><td>West </td><td>  710231</td><td>  19</td></tr>\n",
              "\t<tr><th scope=row>3</th><td>Arizona             </td><td>AZ</td><td>West </td><td> 6392017</td><td> 232</td></tr>\n",
              "\t<tr><th scope=row>4</th><td>Arkansas            </td><td>AR</td><td>South</td><td> 2915918</td><td>  93</td></tr>\n",
              "\t<tr><th scope=row>5</th><td>California          </td><td>CA</td><td>West </td><td>37253956</td><td>1257</td></tr>\n",
              "\t<tr><th scope=row>6</th><td>Colorado            </td><td>CO</td><td>West </td><td> 5029196</td><td>  65</td></tr>\n",
              "\t<tr><th scope=row>8</th><td>Delaware            </td><td>DE</td><td>South</td><td>  897934</td><td>  38</td></tr>\n",
              "\t<tr><th scope=row>9</th><td>District of Columbia</td><td>DC</td><td>South</td><td>  601723</td><td>  99</td></tr>\n",
              "\t<tr><th scope=row>10</th><td>Florida             </td><td>FL</td><td>South</td><td>19687653</td><td> 669</td></tr>\n",
              "\t<tr><th scope=row>11</th><td>Georgia             </td><td>GA</td><td>South</td><td> 9920000</td><td> 376</td></tr>\n",
              "\t<tr><th scope=row>12</th><td>Hawaii              </td><td>HI</td><td>West </td><td> 1360301</td><td>   7</td></tr>\n",
              "\t<tr><th scope=row>13</th><td>Idaho               </td><td>ID</td><td>West </td><td> 1567582</td><td>  12</td></tr>\n",
              "\t<tr><th scope=row>18</th><td>Kentucky            </td><td>KY</td><td>South</td><td> 4339367</td><td> 116</td></tr>\n",
              "\t<tr><th scope=row>19</th><td>Louisiana           </td><td>LA</td><td>South</td><td> 4533372</td><td> 351</td></tr>\n",
              "\t<tr><th scope=row>21</th><td>Maryland            </td><td>MD</td><td>South</td><td> 5773552</td><td> 293</td></tr>\n",
              "\t<tr><th scope=row>25</th><td>Mississippi         </td><td>MS</td><td>South</td><td> 2967297</td><td> 120</td></tr>\n",
              "\t<tr><th scope=row>27</th><td>Montana             </td><td>MT</td><td>West </td><td>  989415</td><td>  12</td></tr>\n",
              "\t<tr><th scope=row>29</th><td>Nevada              </td><td>NV</td><td>West </td><td> 2700551</td><td>  84</td></tr>\n",
              "\t<tr><th scope=row>32</th><td>New Mexico          </td><td>NM</td><td>West </td><td> 2059179</td><td>  67</td></tr>\n",
              "\t<tr><th scope=row>34</th><td>North Carolina      </td><td>NC</td><td>South</td><td> 9535483</td><td> 286</td></tr>\n",
              "\t<tr><th scope=row>37</th><td>Oklahoma            </td><td>OK</td><td>South</td><td> 3751351</td><td> 111</td></tr>\n",
              "\t<tr><th scope=row>38</th><td>Oregon              </td><td>OR</td><td>West </td><td> 3831074</td><td>  36</td></tr>\n",
              "\t<tr><th scope=row>41</th><td>South Carolina      </td><td>SC</td><td>South</td><td> 4625364</td><td> 207</td></tr>\n",
              "\t<tr><th scope=row>43</th><td>Tennessee           </td><td>TN</td><td>South</td><td> 6346105</td><td> 219</td></tr>\n",
              "\t<tr><th scope=row>44</th><td>Texas               </td><td>TX</td><td>South</td><td>25145561</td><td> 805</td></tr>\n",
              "\t<tr><th scope=row>45</th><td>Utah                </td><td>UT</td><td>West </td><td> 2763885</td><td>  22</td></tr>\n",
              "\t<tr><th scope=row>47</th><td>Virginia            </td><td>VA</td><td>South</td><td> 8001024</td><td> 250</td></tr>\n",
              "\t<tr><th scope=row>48</th><td>Washington          </td><td>WA</td><td>West </td><td> 6724540</td><td>  93</td></tr>\n",
              "\t<tr><th scope=row>49</th><td>West Virginia       </td><td>WV</td><td>South</td><td> 1852994</td><td>  27</td></tr>\n",
              "\t<tr><th scope=row>51</th><td>Wyoming             </td><td>WY</td><td>West </td><td>  563626</td><td>   5</td></tr>\n",
              "</tbody>\n",
              "</table>\n"
            ],
            "text/markdown": "\nA data.frame: 30 × 5\n\n| <!--/--> | state &lt;chr&gt; | abb &lt;chr&gt; | region &lt;fct&gt; | population &lt;dbl&gt; | total &lt;dbl&gt; |\n|---|---|---|---|---|---|\n| 1 | Alabama              | AL | South |  4779736 |  135 |\n| 2 | Alaska               | AK | West  |   710231 |   19 |\n| 3 | Arizona              | AZ | West  |  6392017 |  232 |\n| 4 | Arkansas             | AR | South |  2915918 |   93 |\n| 5 | California           | CA | West  | 37253956 | 1257 |\n| 6 | Colorado             | CO | West  |  5029196 |   65 |\n| 8 | Delaware             | DE | South |   897934 |   38 |\n| 9 | District of Columbia | DC | South |   601723 |   99 |\n| 10 | Florida              | FL | South | 19687653 |  669 |\n| 11 | Georgia              | GA | South |  9920000 |  376 |\n| 12 | Hawaii               | HI | West  |  1360301 |    7 |\n| 13 | Idaho                | ID | West  |  1567582 |   12 |\n| 18 | Kentucky             | KY | South |  4339367 |  116 |\n| 19 | Louisiana            | LA | South |  4533372 |  351 |\n| 21 | Maryland             | MD | South |  5773552 |  293 |\n| 25 | Mississippi          | MS | South |  2967297 |  120 |\n| 27 | Montana              | MT | West  |   989415 |   12 |\n| 29 | Nevada               | NV | West  |  2700551 |   84 |\n| 32 | New Mexico           | NM | West  |  2059179 |   67 |\n| 34 | North Carolina       | NC | South |  9535483 |  286 |\n| 37 | Oklahoma             | OK | South |  3751351 |  111 |\n| 38 | Oregon               | OR | West  |  3831074 |   36 |\n| 41 | South Carolina       | SC | South |  4625364 |  207 |\n| 43 | Tennessee            | TN | South |  6346105 |  219 |\n| 44 | Texas                | TX | South | 25145561 |  805 |\n| 45 | Utah                 | UT | West  |  2763885 |   22 |\n| 47 | Virginia             | VA | South |  8001024 |  250 |\n| 48 | Washington           | WA | West  |  6724540 |   93 |\n| 49 | West Virginia        | WV | South |  1852994 |   27 |\n| 51 | Wyoming              | WY | West  |   563626 |    5 |\n\n",
            "text/latex": "A data.frame: 30 × 5\n\\begin{tabular}{r|lllll}\n  & state & abb & region & population & total\\\\\n  & <chr> & <chr> & <fct> & <dbl> & <dbl>\\\\\n\\hline\n\t1 & Alabama              & AL & South &  4779736 &  135\\\\\n\t2 & Alaska               & AK & West  &   710231 &   19\\\\\n\t3 & Arizona              & AZ & West  &  6392017 &  232\\\\\n\t4 & Arkansas             & AR & South &  2915918 &   93\\\\\n\t5 & California           & CA & West  & 37253956 & 1257\\\\\n\t6 & Colorado             & CO & West  &  5029196 &   65\\\\\n\t8 & Delaware             & DE & South &   897934 &   38\\\\\n\t9 & District of Columbia & DC & South &   601723 &   99\\\\\n\t10 & Florida              & FL & South & 19687653 &  669\\\\\n\t11 & Georgia              & GA & South &  9920000 &  376\\\\\n\t12 & Hawaii               & HI & West  &  1360301 &    7\\\\\n\t13 & Idaho                & ID & West  &  1567582 &   12\\\\\n\t18 & Kentucky             & KY & South &  4339367 &  116\\\\\n\t19 & Louisiana            & LA & South &  4533372 &  351\\\\\n\t21 & Maryland             & MD & South &  5773552 &  293\\\\\n\t25 & Mississippi          & MS & South &  2967297 &  120\\\\\n\t27 & Montana              & MT & West  &   989415 &   12\\\\\n\t29 & Nevada               & NV & West  &  2700551 &   84\\\\\n\t32 & New Mexico           & NM & West  &  2059179 &   67\\\\\n\t34 & North Carolina       & NC & South &  9535483 &  286\\\\\n\t37 & Oklahoma             & OK & South &  3751351 &  111\\\\\n\t38 & Oregon               & OR & West  &  3831074 &   36\\\\\n\t41 & South Carolina       & SC & South &  4625364 &  207\\\\\n\t43 & Tennessee            & TN & South &  6346105 &  219\\\\\n\t44 & Texas                & TX & South & 25145561 &  805\\\\\n\t45 & Utah                 & UT & West  &  2763885 &   22\\\\\n\t47 & Virginia             & VA & South &  8001024 &  250\\\\\n\t48 & Washington           & WA & West  &  6724540 &   93\\\\\n\t49 & West Virginia        & WV & South &  1852994 &   27\\\\\n\t51 & Wyoming              & WY & West  &   563626 &    5\\\\\n\\end{tabular}\n",
            "text/plain": [
              "   state                abb region population total\n",
              "1  Alabama              AL  South   4779736    135 \n",
              "2  Alaska               AK  West     710231     19 \n",
              "3  Arizona              AZ  West    6392017    232 \n",
              "4  Arkansas             AR  South   2915918     93 \n",
              "5  California           CA  West   37253956   1257 \n",
              "6  Colorado             CO  West    5029196     65 \n",
              "8  Delaware             DE  South    897934     38 \n",
              "9  District of Columbia DC  South    601723     99 \n",
              "10 Florida              FL  South  19687653    669 \n",
              "11 Georgia              GA  South   9920000    376 \n",
              "12 Hawaii               HI  West    1360301      7 \n",
              "13 Idaho                ID  West    1567582     12 \n",
              "18 Kentucky             KY  South   4339367    116 \n",
              "19 Louisiana            LA  South   4533372    351 \n",
              "21 Maryland             MD  South   5773552    293 \n",
              "25 Mississippi          MS  South   2967297    120 \n",
              "27 Montana              MT  West     989415     12 \n",
              "29 Nevada               NV  West    2700551     84 \n",
              "32 New Mexico           NM  West    2059179     67 \n",
              "34 North Carolina       NC  South   9535483    286 \n",
              "37 Oklahoma             OK  South   3751351    111 \n",
              "38 Oregon               OR  West    3831074     36 \n",
              "41 South Carolina       SC  South   4625364    207 \n",
              "43 Tennessee            TN  South   6346105    219 \n",
              "44 Texas                TX  South  25145561    805 \n",
              "45 Utah                 UT  West    2763885     22 \n",
              "47 Virginia             VA  South   8001024    250 \n",
              "48 Washington           WA  West    6724540     93 \n",
              "49 West Virginia        WV  South   1852994     27 \n",
              "51 Wyoming              WY  West     563626      5 "
            ]
          },
          "metadata": {}
        }
      ]
    },
    {
      "cell_type": "markdown",
      "source": [
        "<br>\n",
        "\n",
        "<br>"
      ],
      "metadata": {
        "id": "8AvZuC-PSfHk"
      }
    },
    {
      "cell_type": "markdown",
      "source": [
        "---\n",
        "\n",
        "<br>"
      ],
      "metadata": {
        "id": "v8P6rALACv3n"
      }
    },
    {
      "cell_type": "markdown",
      "metadata": {
        "id": "lvPULanNCv3n"
      },
      "source": [
        "## `which()`"
      ]
    },
    {
      "cell_type": "markdown",
      "source": [
        "* It is often useful to determine the index of all the `TRUE` values in a Boolean vector\n",
        "\n",
        "* The `which()` function does exactly this"
      ],
      "metadata": {
        "id": "E2pOz-FDCv3o"
      }
    },
    {
      "cell_type": "markdown",
      "source": [
        "<br>"
      ],
      "metadata": {
        "id": "BcOb6ZlDVr_o"
      }
    },
    {
      "cell_type": "markdown",
      "source": [
        "* The example below shows a `TRUE` where the entries in the vector `x` are equal to `3`"
      ],
      "metadata": {
        "id": "gVB1mpZJVjyS"
      }
    },
    {
      "cell_type": "code",
      "source": [
        "x <- c(1, 3, 5, 7, 9)\n",
        "\n",
        "x == 3"
      ],
      "metadata": {
        "colab": {
          "base_uri": "https://localhost:8080/",
          "height": 34
        },
        "id": "PV1sFw8DVafg",
        "outputId": "09fd962f-655c-4623-cf2d-e24707cc0d2f"
      },
      "execution_count": null,
      "outputs": [
        {
          "output_type": "display_data",
          "data": {
            "text/html": [
              "<style>\n",
              ".list-inline {list-style: none; margin:0; padding: 0}\n",
              ".list-inline>li {display: inline-block}\n",
              ".list-inline>li:not(:last-child)::after {content: \"\\00b7\"; padding: 0 .5ex}\n",
              "</style>\n",
              "<ol class=list-inline><li>FALSE</li><li>TRUE</li><li>FALSE</li><li>FALSE</li><li>FALSE</li></ol>\n"
            ],
            "text/markdown": "1. FALSE\n2. TRUE\n3. FALSE\n4. FALSE\n5. FALSE\n\n\n",
            "text/latex": "\\begin{enumerate*}\n\\item FALSE\n\\item TRUE\n\\item FALSE\n\\item FALSE\n\\item FALSE\n\\end{enumerate*}\n",
            "text/plain": [
              "[1] FALSE  TRUE FALSE FALSE FALSE"
            ]
          },
          "metadata": {}
        }
      ]
    },
    {
      "cell_type": "markdown",
      "source": [
        "<br>"
      ],
      "metadata": {
        "id": "cp823RVSVuIk"
      }
    },
    {
      "cell_type": "markdown",
      "source": [
        "* The `which()` function identifies the index of the `TRUE` values\n",
        "\n",
        "* That is, the value `3` is the second entry in the vector `x`"
      ],
      "metadata": {
        "id": "uiOMyZ0QVuIl"
      }
    },
    {
      "cell_type": "code",
      "source": [
        "# determine the index of 3 in vector x\n",
        "which(x == 3)"
      ],
      "metadata": {
        "colab": {
          "base_uri": "https://localhost:8080/",
          "height": 34
        },
        "outputId": "bf46d5da-9d22-439a-cdaf-795fc471ba83",
        "id": "dthCv-rEVuIm"
      },
      "execution_count": null,
      "outputs": [
        {
          "output_type": "display_data",
          "data": {
            "text/html": [
              "2"
            ],
            "text/markdown": "2",
            "text/latex": "2",
            "text/plain": [
              "[1] 2"
            ]
          },
          "metadata": {}
        }
      ]
    },
    {
      "cell_type": "markdown",
      "source": [
        "<br>"
      ],
      "metadata": {
        "id": "2RPnjQREV-QE"
      }
    },
    {
      "cell_type": "markdown",
      "source": [
        "* We can then use these indexes to subset!"
      ],
      "metadata": {
        "id": "bXDFuw9vV-QF"
      }
    },
    {
      "cell_type": "code",
      "source": [
        "# explicitly subset the second entry\n",
        "x[2]"
      ],
      "metadata": {
        "colab": {
          "base_uri": "https://localhost:8080/",
          "height": 34
        },
        "outputId": "c61fa9ee-afd0-4895-848f-f42d719305ef",
        "id": "7kGKqRNwV-QG"
      },
      "execution_count": null,
      "outputs": [
        {
          "output_type": "display_data",
          "data": {
            "text/html": [
              "3"
            ],
            "text/markdown": "3",
            "text/latex": "3",
            "text/plain": [
              "[1] 3"
            ]
          },
          "metadata": {}
        }
      ]
    },
    {
      "cell_type": "code",
      "source": [
        "# subset second entry using which()\n",
        "x[which(x == 3)]"
      ],
      "metadata": {
        "colab": {
          "base_uri": "https://localhost:8080/",
          "height": 34
        },
        "id": "EJd5HSEPWFH-",
        "outputId": "e8d82fad-6a8e-4c68-f42c-5e9eef3b9d8b"
      },
      "execution_count": null,
      "outputs": [
        {
          "output_type": "display_data",
          "data": {
            "text/html": [
              "3"
            ],
            "text/markdown": "3",
            "text/latex": "3",
            "text/plain": [
              "[1] 3"
            ]
          },
          "metadata": {}
        }
      ]
    },
    {
      "cell_type": "code",
      "source": [
        "x[x == 3]"
      ],
      "metadata": {
        "colab": {
          "base_uri": "https://localhost:8080/",
          "height": 34
        },
        "id": "r9rutQ6wD8jR",
        "outputId": "5e2923f5-16ab-4eb8-8074-bbfedabd9053"
      },
      "execution_count": null,
      "outputs": [
        {
          "output_type": "display_data",
          "data": {
            "text/html": [
              "3"
            ],
            "text/markdown": "3",
            "text/latex": "3",
            "text/plain": [
              "[1] 3"
            ]
          },
          "metadata": {}
        }
      ]
    },
    {
      "cell_type": "markdown",
      "source": [
        "<br>\n",
        "\n",
        "<br>"
      ],
      "metadata": {
        "id": "cndHphTTWPGM"
      }
    },
    {
      "cell_type": "markdown",
      "source": [
        "---\n",
        "\n",
        "<br>"
      ],
      "metadata": {
        "id": "vSZ9iL66WPGN"
      }
    },
    {
      "cell_type": "markdown",
      "metadata": {
        "id": "_Ns-0xJmWPGO"
      },
      "source": [
        "## `which.min()`, `which.max()`"
      ]
    },
    {
      "cell_type": "markdown",
      "source": [
        "* `which.min()` determines the index of the minimum of a vector\n",
        "\n",
        "* `which.max()` determines the index of the maximum of a vector\n",
        "\n",
        "* These functions are useful for determining rows corresponding to the min or max of a variable"
      ],
      "metadata": {
        "id": "rnce5MDJWPGO"
      }
    },
    {
      "cell_type": "markdown",
      "source": [
        "<br>"
      ],
      "metadata": {
        "id": "5p1Ji3hfWuZa"
      }
    },
    {
      "cell_type": "markdown",
      "source": [
        "* Determine minimum total murders in data frame"
      ],
      "metadata": {
        "id": "Bd_UKqWjWpA9"
      }
    },
    {
      "cell_type": "code",
      "source": [
        "# minimum total murders\n",
        "min(murders$total)"
      ],
      "metadata": {
        "colab": {
          "base_uri": "https://localhost:8080/",
          "height": 34
        },
        "id": "wHRKT5VVWd90",
        "outputId": "a574d487-7a36-4829-81f5-1beef055d8ed"
      },
      "execution_count": null,
      "outputs": [
        {
          "output_type": "display_data",
          "data": {
            "text/html": [
              "2"
            ],
            "text/markdown": "2",
            "text/latex": "2",
            "text/plain": [
              "[1] 2"
            ]
          },
          "metadata": {}
        }
      ]
    },
    {
      "cell_type": "markdown",
      "source": [
        "<br>"
      ],
      "metadata": {
        "id": "02VNOnuWW59w"
      }
    },
    {
      "cell_type": "markdown",
      "source": [
        "* Determine index of minimum total murders in data frame\n",
        "\n",
        "* The 46th entry of the `total` variable is the smallest value"
      ],
      "metadata": {
        "id": "3IdS5heqW59x"
      }
    },
    {
      "cell_type": "code",
      "source": [
        "# index minimum total murders\n",
        "which.min(murders$total)"
      ],
      "metadata": {
        "colab": {
          "base_uri": "https://localhost:8080/",
          "height": 34
        },
        "outputId": "a348a5ef-8673-45f4-eafb-65c91d545fa2",
        "id": "75X5NWY0W59y"
      },
      "execution_count": null,
      "outputs": [
        {
          "output_type": "display_data",
          "data": {
            "text/html": [
              "46"
            ],
            "text/markdown": "46",
            "text/latex": "46",
            "text/plain": [
              "[1] 46"
            ]
          },
          "metadata": {}
        }
      ]
    },
    {
      "cell_type": "markdown",
      "source": [
        "<br>"
      ],
      "metadata": {
        "id": "P9CqaacJXDrJ"
      }
    },
    {
      "cell_type": "markdown",
      "source": [
        "* Determine row or state that has the lowest murder total"
      ],
      "metadata": {
        "id": "fy88KB5SXDrK"
      }
    },
    {
      "cell_type": "code",
      "source": [
        "# state with lowest murders\n",
        "murders$state[which.min(murders$total)]"
      ],
      "metadata": {
        "colab": {
          "base_uri": "https://localhost:8080/",
          "height": 34
        },
        "outputId": "efe8a672-e924-4e42-ebf6-00d5c77d0aab",
        "id": "yu0lUb1DXDrL"
      },
      "execution_count": null,
      "outputs": [
        {
          "output_type": "display_data",
          "data": {
            "text/html": [
              "'Vermont'"
            ],
            "text/markdown": "'Vermont'",
            "text/latex": "'Vermont'",
            "text/plain": [
              "[1] \"Vermont\""
            ]
          },
          "metadata": {}
        }
      ]
    },
    {
      "cell_type": "code",
      "source": [
        "# row with lowest murders\n",
        "murders[which.min(murders$total), ]"
      ],
      "metadata": {
        "colab": {
          "base_uri": "https://localhost:8080/",
          "height": 129
        },
        "id": "-R2o1YKUXNYr",
        "outputId": "b54c183a-b9fb-4589-a401-d943e6d5c74b"
      },
      "execution_count": null,
      "outputs": [
        {
          "output_type": "display_data",
          "data": {
            "text/html": [
              "<table class=\"dataframe\">\n",
              "<caption>A data.frame: 1 × 5</caption>\n",
              "<thead>\n",
              "\t<tr><th></th><th scope=col>state</th><th scope=col>abb</th><th scope=col>region</th><th scope=col>population</th><th scope=col>total</th></tr>\n",
              "\t<tr><th></th><th scope=col>&lt;chr&gt;</th><th scope=col>&lt;chr&gt;</th><th scope=col>&lt;fct&gt;</th><th scope=col>&lt;dbl&gt;</th><th scope=col>&lt;dbl&gt;</th></tr>\n",
              "</thead>\n",
              "<tbody>\n",
              "\t<tr><th scope=row>46</th><td>Vermont</td><td>VT</td><td>Northeast</td><td>625741</td><td>2</td></tr>\n",
              "</tbody>\n",
              "</table>\n"
            ],
            "text/markdown": "\nA data.frame: 1 × 5\n\n| <!--/--> | state &lt;chr&gt; | abb &lt;chr&gt; | region &lt;fct&gt; | population &lt;dbl&gt; | total &lt;dbl&gt; |\n|---|---|---|---|---|---|\n| 46 | Vermont | VT | Northeast | 625741 | 2 |\n\n",
            "text/latex": "A data.frame: 1 × 5\n\\begin{tabular}{r|lllll}\n  & state & abb & region & population & total\\\\\n  & <chr> & <chr> & <fct> & <dbl> & <dbl>\\\\\n\\hline\n\t46 & Vermont & VT & Northeast & 625741 & 2\\\\\n\\end{tabular}\n",
            "text/plain": [
              "   state   abb region    population total\n",
              "46 Vermont VT  Northeast 625741     2    "
            ]
          },
          "metadata": {}
        }
      ]
    },
    {
      "cell_type": "markdown",
      "source": [
        "<br>"
      ],
      "metadata": {
        "id": "P_nNzFVMXWSn"
      }
    },
    {
      "cell_type": "markdown",
      "source": [
        "* What about the highest number of murders?"
      ],
      "metadata": {
        "id": "h07yQ0hwXWSp"
      }
    },
    {
      "cell_type": "code",
      "source": [
        "which.max(murders$total)"
      ],
      "metadata": {
        "colab": {
          "base_uri": "https://localhost:8080/",
          "height": 34
        },
        "id": "rdWfqtlpEwFJ",
        "outputId": "9e33c18a-2a4a-4885-c21f-f3569542da8f"
      },
      "execution_count": null,
      "outputs": [
        {
          "output_type": "display_data",
          "data": {
            "text/html": [
              "5"
            ],
            "text/markdown": "5",
            "text/latex": "5",
            "text/plain": [
              "[1] 5"
            ]
          },
          "metadata": {}
        }
      ]
    },
    {
      "cell_type": "code",
      "source": [
        "# row with highest murders\n",
        "murders[which.max(murders$total), ]"
      ],
      "metadata": {
        "colab": {
          "base_uri": "https://localhost:8080/",
          "height": 129
        },
        "outputId": "f05d2ead-a60c-4e74-8b4a-049962c478f1",
        "id": "RmzsTOgyXWSq"
      },
      "execution_count": null,
      "outputs": [
        {
          "output_type": "display_data",
          "data": {
            "text/html": [
              "<table class=\"dataframe\">\n",
              "<caption>A data.frame: 1 × 5</caption>\n",
              "<thead>\n",
              "\t<tr><th></th><th scope=col>state</th><th scope=col>abb</th><th scope=col>region</th><th scope=col>population</th><th scope=col>total</th></tr>\n",
              "\t<tr><th></th><th scope=col>&lt;chr&gt;</th><th scope=col>&lt;chr&gt;</th><th scope=col>&lt;fct&gt;</th><th scope=col>&lt;dbl&gt;</th><th scope=col>&lt;dbl&gt;</th></tr>\n",
              "</thead>\n",
              "<tbody>\n",
              "\t<tr><th scope=row>5</th><td>California</td><td>CA</td><td>West</td><td>37253956</td><td>1257</td></tr>\n",
              "</tbody>\n",
              "</table>\n"
            ],
            "text/markdown": "\nA data.frame: 1 × 5\n\n| <!--/--> | state &lt;chr&gt; | abb &lt;chr&gt; | region &lt;fct&gt; | population &lt;dbl&gt; | total &lt;dbl&gt; |\n|---|---|---|---|---|---|\n| 5 | California | CA | West | 37253956 | 1257 |\n\n",
            "text/latex": "A data.frame: 1 × 5\n\\begin{tabular}{r|lllll}\n  & state & abb & region & population & total\\\\\n  & <chr> & <chr> & <fct> & <dbl> & <dbl>\\\\\n\\hline\n\t5 & California & CA & West & 37253956 & 1257\\\\\n\\end{tabular}\n",
            "text/plain": [
              "  state      abb region population total\n",
              "5 California CA  West   37253956   1257 "
            ]
          },
          "metadata": {}
        }
      ]
    },
    {
      "cell_type": "markdown",
      "source": [
        "<br>\n",
        "\n",
        "<br>"
      ],
      "metadata": {
        "id": "BWhkDXagC-Yk"
      }
    },
    {
      "cell_type": "markdown",
      "source": [
        "---\n",
        "\n",
        "<br>"
      ],
      "metadata": {
        "id": "bPJlK-Z9C-Ym"
      }
    },
    {
      "cell_type": "markdown",
      "metadata": {
        "id": "AxZoCulkC-Yn"
      },
      "source": [
        "## The `order()` function"
      ]
    },
    {
      "cell_type": "markdown",
      "source": [
        "* The `order()` function orders a vector in increasing or decreasing order and provides the index of the order\n",
        "\n",
        "* This is useful for ordering a data frame from smallest to largest etc."
      ],
      "metadata": {
        "id": "6YgxhJBtX34F"
      }
    },
    {
      "cell_type": "markdown",
      "source": [
        "<br>"
      ],
      "metadata": {
        "id": "BG7fIioBYGeU"
      }
    },
    {
      "cell_type": "markdown",
      "source": [
        "* Let's order the `total` variable of the `murders` data frame in increasing order\n",
        "\n",
        "* Note the output of `order()` is the ***index***, NOT the actual values\n",
        "\n",
        "* From the output below, we know the 5th entry corresponds to the largest total murders"
      ],
      "metadata": {
        "id": "oNHHJk2DYHPt"
      }
    },
    {
      "cell_type": "code",
      "source": [
        "# index of total murders from smallest to largest\n",
        "order(murders$total)"
      ],
      "metadata": {
        "colab": {
          "base_uri": "https://localhost:8080/",
          "height": 52
        },
        "id": "tq_7_RxbYBCV",
        "outputId": "cc278db3-c864-4438-baf3-0e19730ee21f"
      },
      "execution_count": null,
      "outputs": [
        {
          "output_type": "display_data",
          "data": {
            "text/html": [
              "<style>\n",
              ".list-inline {list-style: none; margin:0; padding: 0}\n",
              ".list-inline>li {display: inline-block}\n",
              ".list-inline>li:not(:last-child)::after {content: \"\\00b7\"; padding: 0 .5ex}\n",
              "</style>\n",
              "<ol class=list-inline><li>46</li><li>35</li><li>30</li><li>51</li><li>12</li><li>42</li><li>20</li><li>13</li><li>27</li><li>40</li><li>2</li><li>16</li><li>45</li><li>49</li><li>28</li><li>38</li><li>8</li><li>24</li><li>17</li><li>6</li><li>32</li><li>29</li><li>4</li><li>48</li><li>7</li><li>50</li><li>9</li><li>37</li><li>18</li><li>22</li><li>25</li><li>1</li><li>15</li><li>41</li><li>43</li><li>3</li><li>31</li><li>47</li><li>34</li><li>21</li><li>36</li><li>26</li><li>19</li><li>14</li><li>11</li><li>23</li><li>39</li><li>33</li><li>10</li><li>44</li><li>5</li></ol>\n"
            ],
            "text/markdown": "1. 46\n2. 35\n3. 30\n4. 51\n5. 12\n6. 42\n7. 20\n8. 13\n9. 27\n10. 40\n11. 2\n12. 16\n13. 45\n14. 49\n15. 28\n16. 38\n17. 8\n18. 24\n19. 17\n20. 6\n21. 32\n22. 29\n23. 4\n24. 48\n25. 7\n26. 50\n27. 9\n28. 37\n29. 18\n30. 22\n31. 25\n32. 1\n33. 15\n34. 41\n35. 43\n36. 3\n37. 31\n38. 47\n39. 34\n40. 21\n41. 36\n42. 26\n43. 19\n44. 14\n45. 11\n46. 23\n47. 39\n48. 33\n49. 10\n50. 44\n51. 5\n\n\n",
            "text/latex": "\\begin{enumerate*}\n\\item 46\n\\item 35\n\\item 30\n\\item 51\n\\item 12\n\\item 42\n\\item 20\n\\item 13\n\\item 27\n\\item 40\n\\item 2\n\\item 16\n\\item 45\n\\item 49\n\\item 28\n\\item 38\n\\item 8\n\\item 24\n\\item 17\n\\item 6\n\\item 32\n\\item 29\n\\item 4\n\\item 48\n\\item 7\n\\item 50\n\\item 9\n\\item 37\n\\item 18\n\\item 22\n\\item 25\n\\item 1\n\\item 15\n\\item 41\n\\item 43\n\\item 3\n\\item 31\n\\item 47\n\\item 34\n\\item 21\n\\item 36\n\\item 26\n\\item 19\n\\item 14\n\\item 11\n\\item 23\n\\item 39\n\\item 33\n\\item 10\n\\item 44\n\\item 5\n\\end{enumerate*}\n",
            "text/plain": [
              " [1] 46 35 30 51 12 42 20 13 27 40  2 16 45 49 28 38  8 24 17  6 32 29  4 48  7\n",
              "[26] 50  9 37 18 22 25  1 15 41 43  3 31 47 34 21 36 26 19 14 11 23 39 33 10 44\n",
              "[51]  5"
            ]
          },
          "metadata": {}
        }
      ]
    },
    {
      "cell_type": "markdown",
      "source": [
        "<br>"
      ],
      "metadata": {
        "id": "-SO9gA6eYykL"
      }
    },
    {
      "cell_type": "markdown",
      "source": [
        "* We can now extract the rows corresponding to the indexes from the `which()` function\n",
        "\n",
        "* Note how the data frame is now in ascending order by total murders"
      ],
      "metadata": {
        "id": "NCBweMOfY3FT"
      }
    },
    {
      "cell_type": "code",
      "source": [
        "# index of total murders from smallest to largest\n",
        "murders[order(murders$total), ]"
      ],
      "metadata": {
        "colab": {
          "base_uri": "https://localhost:8080/",
          "height": 1000
        },
        "id": "ZkosAbBBY00f",
        "outputId": "6473d62d-3f94-45cd-96f4-44b1ed933625"
      },
      "execution_count": null,
      "outputs": [
        {
          "output_type": "display_data",
          "data": {
            "text/html": [
              "<table class=\"dataframe\">\n",
              "<caption>A data.frame: 51 × 5</caption>\n",
              "<thead>\n",
              "\t<tr><th></th><th scope=col>state</th><th scope=col>abb</th><th scope=col>region</th><th scope=col>population</th><th scope=col>total</th></tr>\n",
              "\t<tr><th></th><th scope=col>&lt;chr&gt;</th><th scope=col>&lt;chr&gt;</th><th scope=col>&lt;fct&gt;</th><th scope=col>&lt;dbl&gt;</th><th scope=col>&lt;dbl&gt;</th></tr>\n",
              "</thead>\n",
              "<tbody>\n",
              "\t<tr><th scope=row>46</th><td>Vermont             </td><td>VT</td><td>Northeast    </td><td>  625741</td><td>   2</td></tr>\n",
              "\t<tr><th scope=row>35</th><td>North Dakota        </td><td>ND</td><td>North Central</td><td>  672591</td><td>   4</td></tr>\n",
              "\t<tr><th scope=row>30</th><td>New Hampshire       </td><td>NH</td><td>Northeast    </td><td> 1316470</td><td>   5</td></tr>\n",
              "\t<tr><th scope=row>51</th><td>Wyoming             </td><td>WY</td><td>West         </td><td>  563626</td><td>   5</td></tr>\n",
              "\t<tr><th scope=row>12</th><td>Hawaii              </td><td>HI</td><td>West         </td><td> 1360301</td><td>   7</td></tr>\n",
              "\t<tr><th scope=row>42</th><td>South Dakota        </td><td>SD</td><td>North Central</td><td>  814180</td><td>   8</td></tr>\n",
              "\t<tr><th scope=row>20</th><td>Maine               </td><td>ME</td><td>Northeast    </td><td> 1328361</td><td>  11</td></tr>\n",
              "\t<tr><th scope=row>13</th><td>Idaho               </td><td>ID</td><td>West         </td><td> 1567582</td><td>  12</td></tr>\n",
              "\t<tr><th scope=row>27</th><td>Montana             </td><td>MT</td><td>West         </td><td>  989415</td><td>  12</td></tr>\n",
              "\t<tr><th scope=row>40</th><td>Rhode Island        </td><td>RI</td><td>Northeast    </td><td> 1052567</td><td>  16</td></tr>\n",
              "\t<tr><th scope=row>2</th><td>Alaska              </td><td>AK</td><td>West         </td><td>  710231</td><td>  19</td></tr>\n",
              "\t<tr><th scope=row>16</th><td>Iowa                </td><td>IA</td><td>North Central</td><td> 3046355</td><td>  21</td></tr>\n",
              "\t<tr><th scope=row>45</th><td>Utah                </td><td>UT</td><td>West         </td><td> 2763885</td><td>  22</td></tr>\n",
              "\t<tr><th scope=row>49</th><td>West Virginia       </td><td>WV</td><td>South        </td><td> 1852994</td><td>  27</td></tr>\n",
              "\t<tr><th scope=row>28</th><td>Nebraska            </td><td>NE</td><td>North Central</td><td> 1826341</td><td>  32</td></tr>\n",
              "\t<tr><th scope=row>38</th><td>Oregon              </td><td>OR</td><td>West         </td><td> 3831074</td><td>  36</td></tr>\n",
              "\t<tr><th scope=row>8</th><td>Delaware            </td><td>DE</td><td>South        </td><td>  897934</td><td>  38</td></tr>\n",
              "\t<tr><th scope=row>24</th><td>Minnesota           </td><td>MN</td><td>North Central</td><td> 5303925</td><td>  53</td></tr>\n",
              "\t<tr><th scope=row>17</th><td>Kansas              </td><td>KS</td><td>North Central</td><td> 2853118</td><td>  63</td></tr>\n",
              "\t<tr><th scope=row>6</th><td>Colorado            </td><td>CO</td><td>West         </td><td> 5029196</td><td>  65</td></tr>\n",
              "\t<tr><th scope=row>32</th><td>New Mexico          </td><td>NM</td><td>West         </td><td> 2059179</td><td>  67</td></tr>\n",
              "\t<tr><th scope=row>29</th><td>Nevada              </td><td>NV</td><td>West         </td><td> 2700551</td><td>  84</td></tr>\n",
              "\t<tr><th scope=row>4</th><td>Arkansas            </td><td>AR</td><td>South        </td><td> 2915918</td><td>  93</td></tr>\n",
              "\t<tr><th scope=row>48</th><td>Washington          </td><td>WA</td><td>West         </td><td> 6724540</td><td>  93</td></tr>\n",
              "\t<tr><th scope=row>7</th><td>Connecticut         </td><td>CT</td><td>Northeast    </td><td> 3574097</td><td>  97</td></tr>\n",
              "\t<tr><th scope=row>50</th><td>Wisconsin           </td><td>WI</td><td>North Central</td><td> 5686986</td><td>  97</td></tr>\n",
              "\t<tr><th scope=row>9</th><td>District of Columbia</td><td>DC</td><td>South        </td><td>  601723</td><td>  99</td></tr>\n",
              "\t<tr><th scope=row>37</th><td>Oklahoma            </td><td>OK</td><td>South        </td><td> 3751351</td><td> 111</td></tr>\n",
              "\t<tr><th scope=row>18</th><td>Kentucky            </td><td>KY</td><td>South        </td><td> 4339367</td><td> 116</td></tr>\n",
              "\t<tr><th scope=row>22</th><td>Massachusetts       </td><td>MA</td><td>Northeast    </td><td> 6547629</td><td> 118</td></tr>\n",
              "\t<tr><th scope=row>25</th><td>Mississippi         </td><td>MS</td><td>South        </td><td> 2967297</td><td> 120</td></tr>\n",
              "\t<tr><th scope=row>1</th><td>Alabama             </td><td>AL</td><td>South        </td><td> 4779736</td><td> 135</td></tr>\n",
              "\t<tr><th scope=row>15</th><td>Indiana             </td><td>IN</td><td>North Central</td><td> 6483802</td><td> 142</td></tr>\n",
              "\t<tr><th scope=row>41</th><td>South Carolina      </td><td>SC</td><td>South        </td><td> 4625364</td><td> 207</td></tr>\n",
              "\t<tr><th scope=row>43</th><td>Tennessee           </td><td>TN</td><td>South        </td><td> 6346105</td><td> 219</td></tr>\n",
              "\t<tr><th scope=row>3</th><td>Arizona             </td><td>AZ</td><td>West         </td><td> 6392017</td><td> 232</td></tr>\n",
              "\t<tr><th scope=row>31</th><td>New Jersey          </td><td>NJ</td><td>Northeast    </td><td> 8791894</td><td> 246</td></tr>\n",
              "\t<tr><th scope=row>47</th><td>Virginia            </td><td>VA</td><td>South        </td><td> 8001024</td><td> 250</td></tr>\n",
              "\t<tr><th scope=row>34</th><td>North Carolina      </td><td>NC</td><td>South        </td><td> 9535483</td><td> 286</td></tr>\n",
              "\t<tr><th scope=row>21</th><td>Maryland            </td><td>MD</td><td>South        </td><td> 5773552</td><td> 293</td></tr>\n",
              "\t<tr><th scope=row>36</th><td>Ohio                </td><td>OH</td><td>North Central</td><td>11536504</td><td> 310</td></tr>\n",
              "\t<tr><th scope=row>26</th><td>Missouri            </td><td>MO</td><td>North Central</td><td> 5988927</td><td> 321</td></tr>\n",
              "\t<tr><th scope=row>19</th><td>Louisiana           </td><td>LA</td><td>South        </td><td> 4533372</td><td> 351</td></tr>\n",
              "\t<tr><th scope=row>14</th><td>Illinois            </td><td>IL</td><td>North Central</td><td>12830632</td><td> 364</td></tr>\n",
              "\t<tr><th scope=row>11</th><td>Georgia             </td><td>GA</td><td>South        </td><td> 9920000</td><td> 376</td></tr>\n",
              "\t<tr><th scope=row>23</th><td>Michigan            </td><td>MI</td><td>North Central</td><td> 9883640</td><td> 413</td></tr>\n",
              "\t<tr><th scope=row>39</th><td>Pennsylvania        </td><td>PA</td><td>Northeast    </td><td>12702379</td><td> 457</td></tr>\n",
              "\t<tr><th scope=row>33</th><td>New York            </td><td>NY</td><td>Northeast    </td><td>19378102</td><td> 517</td></tr>\n",
              "\t<tr><th scope=row>10</th><td>Florida             </td><td>FL</td><td>South        </td><td>19687653</td><td> 669</td></tr>\n",
              "\t<tr><th scope=row>44</th><td>Texas               </td><td>TX</td><td>South        </td><td>25145561</td><td> 805</td></tr>\n",
              "\t<tr><th scope=row>5</th><td>California          </td><td>CA</td><td>West         </td><td>37253956</td><td>1257</td></tr>\n",
              "</tbody>\n",
              "</table>\n"
            ],
            "text/markdown": "\nA data.frame: 51 × 5\n\n| <!--/--> | state &lt;chr&gt; | abb &lt;chr&gt; | region &lt;fct&gt; | population &lt;dbl&gt; | total &lt;dbl&gt; |\n|---|---|---|---|---|---|\n| 46 | Vermont              | VT | Northeast     |   625741 |    2 |\n| 35 | North Dakota         | ND | North Central |   672591 |    4 |\n| 30 | New Hampshire        | NH | Northeast     |  1316470 |    5 |\n| 51 | Wyoming              | WY | West          |   563626 |    5 |\n| 12 | Hawaii               | HI | West          |  1360301 |    7 |\n| 42 | South Dakota         | SD | North Central |   814180 |    8 |\n| 20 | Maine                | ME | Northeast     |  1328361 |   11 |\n| 13 | Idaho                | ID | West          |  1567582 |   12 |\n| 27 | Montana              | MT | West          |   989415 |   12 |\n| 40 | Rhode Island         | RI | Northeast     |  1052567 |   16 |\n| 2 | Alaska               | AK | West          |   710231 |   19 |\n| 16 | Iowa                 | IA | North Central |  3046355 |   21 |\n| 45 | Utah                 | UT | West          |  2763885 |   22 |\n| 49 | West Virginia        | WV | South         |  1852994 |   27 |\n| 28 | Nebraska             | NE | North Central |  1826341 |   32 |\n| 38 | Oregon               | OR | West          |  3831074 |   36 |\n| 8 | Delaware             | DE | South         |   897934 |   38 |\n| 24 | Minnesota            | MN | North Central |  5303925 |   53 |\n| 17 | Kansas               | KS | North Central |  2853118 |   63 |\n| 6 | Colorado             | CO | West          |  5029196 |   65 |\n| 32 | New Mexico           | NM | West          |  2059179 |   67 |\n| 29 | Nevada               | NV | West          |  2700551 |   84 |\n| 4 | Arkansas             | AR | South         |  2915918 |   93 |\n| 48 | Washington           | WA | West          |  6724540 |   93 |\n| 7 | Connecticut          | CT | Northeast     |  3574097 |   97 |\n| 50 | Wisconsin            | WI | North Central |  5686986 |   97 |\n| 9 | District of Columbia | DC | South         |   601723 |   99 |\n| 37 | Oklahoma             | OK | South         |  3751351 |  111 |\n| 18 | Kentucky             | KY | South         |  4339367 |  116 |\n| 22 | Massachusetts        | MA | Northeast     |  6547629 |  118 |\n| 25 | Mississippi          | MS | South         |  2967297 |  120 |\n| 1 | Alabama              | AL | South         |  4779736 |  135 |\n| 15 | Indiana              | IN | North Central |  6483802 |  142 |\n| 41 | South Carolina       | SC | South         |  4625364 |  207 |\n| 43 | Tennessee            | TN | South         |  6346105 |  219 |\n| 3 | Arizona              | AZ | West          |  6392017 |  232 |\n| 31 | New Jersey           | NJ | Northeast     |  8791894 |  246 |\n| 47 | Virginia             | VA | South         |  8001024 |  250 |\n| 34 | North Carolina       | NC | South         |  9535483 |  286 |\n| 21 | Maryland             | MD | South         |  5773552 |  293 |\n| 36 | Ohio                 | OH | North Central | 11536504 |  310 |\n| 26 | Missouri             | MO | North Central |  5988927 |  321 |\n| 19 | Louisiana            | LA | South         |  4533372 |  351 |\n| 14 | Illinois             | IL | North Central | 12830632 |  364 |\n| 11 | Georgia              | GA | South         |  9920000 |  376 |\n| 23 | Michigan             | MI | North Central |  9883640 |  413 |\n| 39 | Pennsylvania         | PA | Northeast     | 12702379 |  457 |\n| 33 | New York             | NY | Northeast     | 19378102 |  517 |\n| 10 | Florida              | FL | South         | 19687653 |  669 |\n| 44 | Texas                | TX | South         | 25145561 |  805 |\n| 5 | California           | CA | West          | 37253956 | 1257 |\n\n",
            "text/latex": "A data.frame: 51 × 5\n\\begin{tabular}{r|lllll}\n  & state & abb & region & population & total\\\\\n  & <chr> & <chr> & <fct> & <dbl> & <dbl>\\\\\n\\hline\n\t46 & Vermont              & VT & Northeast     &   625741 &    2\\\\\n\t35 & North Dakota         & ND & North Central &   672591 &    4\\\\\n\t30 & New Hampshire        & NH & Northeast     &  1316470 &    5\\\\\n\t51 & Wyoming              & WY & West          &   563626 &    5\\\\\n\t12 & Hawaii               & HI & West          &  1360301 &    7\\\\\n\t42 & South Dakota         & SD & North Central &   814180 &    8\\\\\n\t20 & Maine                & ME & Northeast     &  1328361 &   11\\\\\n\t13 & Idaho                & ID & West          &  1567582 &   12\\\\\n\t27 & Montana              & MT & West          &   989415 &   12\\\\\n\t40 & Rhode Island         & RI & Northeast     &  1052567 &   16\\\\\n\t2 & Alaska               & AK & West          &   710231 &   19\\\\\n\t16 & Iowa                 & IA & North Central &  3046355 &   21\\\\\n\t45 & Utah                 & UT & West          &  2763885 &   22\\\\\n\t49 & West Virginia        & WV & South         &  1852994 &   27\\\\\n\t28 & Nebraska             & NE & North Central &  1826341 &   32\\\\\n\t38 & Oregon               & OR & West          &  3831074 &   36\\\\\n\t8 & Delaware             & DE & South         &   897934 &   38\\\\\n\t24 & Minnesota            & MN & North Central &  5303925 &   53\\\\\n\t17 & Kansas               & KS & North Central &  2853118 &   63\\\\\n\t6 & Colorado             & CO & West          &  5029196 &   65\\\\\n\t32 & New Mexico           & NM & West          &  2059179 &   67\\\\\n\t29 & Nevada               & NV & West          &  2700551 &   84\\\\\n\t4 & Arkansas             & AR & South         &  2915918 &   93\\\\\n\t48 & Washington           & WA & West          &  6724540 &   93\\\\\n\t7 & Connecticut          & CT & Northeast     &  3574097 &   97\\\\\n\t50 & Wisconsin            & WI & North Central &  5686986 &   97\\\\\n\t9 & District of Columbia & DC & South         &   601723 &   99\\\\\n\t37 & Oklahoma             & OK & South         &  3751351 &  111\\\\\n\t18 & Kentucky             & KY & South         &  4339367 &  116\\\\\n\t22 & Massachusetts        & MA & Northeast     &  6547629 &  118\\\\\n\t25 & Mississippi          & MS & South         &  2967297 &  120\\\\\n\t1 & Alabama              & AL & South         &  4779736 &  135\\\\\n\t15 & Indiana              & IN & North Central &  6483802 &  142\\\\\n\t41 & South Carolina       & SC & South         &  4625364 &  207\\\\\n\t43 & Tennessee            & TN & South         &  6346105 &  219\\\\\n\t3 & Arizona              & AZ & West          &  6392017 &  232\\\\\n\t31 & New Jersey           & NJ & Northeast     &  8791894 &  246\\\\\n\t47 & Virginia             & VA & South         &  8001024 &  250\\\\\n\t34 & North Carolina       & NC & South         &  9535483 &  286\\\\\n\t21 & Maryland             & MD & South         &  5773552 &  293\\\\\n\t36 & Ohio                 & OH & North Central & 11536504 &  310\\\\\n\t26 & Missouri             & MO & North Central &  5988927 &  321\\\\\n\t19 & Louisiana            & LA & South         &  4533372 &  351\\\\\n\t14 & Illinois             & IL & North Central & 12830632 &  364\\\\\n\t11 & Georgia              & GA & South         &  9920000 &  376\\\\\n\t23 & Michigan             & MI & North Central &  9883640 &  413\\\\\n\t39 & Pennsylvania         & PA & Northeast     & 12702379 &  457\\\\\n\t33 & New York             & NY & Northeast     & 19378102 &  517\\\\\n\t10 & Florida              & FL & South         & 19687653 &  669\\\\\n\t44 & Texas                & TX & South         & 25145561 &  805\\\\\n\t5 & California           & CA & West          & 37253956 & 1257\\\\\n\\end{tabular}\n",
            "text/plain": [
              "   state                abb region        population total\n",
              "46 Vermont              VT  Northeast       625741      2 \n",
              "35 North Dakota         ND  North Central   672591      4 \n",
              "30 New Hampshire        NH  Northeast      1316470      5 \n",
              "51 Wyoming              WY  West            563626      5 \n",
              "12 Hawaii               HI  West           1360301      7 \n",
              "42 South Dakota         SD  North Central   814180      8 \n",
              "20 Maine                ME  Northeast      1328361     11 \n",
              "13 Idaho                ID  West           1567582     12 \n",
              "27 Montana              MT  West            989415     12 \n",
              "40 Rhode Island         RI  Northeast      1052567     16 \n",
              "2  Alaska               AK  West            710231     19 \n",
              "16 Iowa                 IA  North Central  3046355     21 \n",
              "45 Utah                 UT  West           2763885     22 \n",
              "49 West Virginia        WV  South          1852994     27 \n",
              "28 Nebraska             NE  North Central  1826341     32 \n",
              "38 Oregon               OR  West           3831074     36 \n",
              "8  Delaware             DE  South           897934     38 \n",
              "24 Minnesota            MN  North Central  5303925     53 \n",
              "17 Kansas               KS  North Central  2853118     63 \n",
              "6  Colorado             CO  West           5029196     65 \n",
              "32 New Mexico           NM  West           2059179     67 \n",
              "29 Nevada               NV  West           2700551     84 \n",
              "4  Arkansas             AR  South          2915918     93 \n",
              "48 Washington           WA  West           6724540     93 \n",
              "7  Connecticut          CT  Northeast      3574097     97 \n",
              "50 Wisconsin            WI  North Central  5686986     97 \n",
              "9  District of Columbia DC  South           601723     99 \n",
              "37 Oklahoma             OK  South          3751351    111 \n",
              "18 Kentucky             KY  South          4339367    116 \n",
              "22 Massachusetts        MA  Northeast      6547629    118 \n",
              "25 Mississippi          MS  South          2967297    120 \n",
              "1  Alabama              AL  South          4779736    135 \n",
              "15 Indiana              IN  North Central  6483802    142 \n",
              "41 South Carolina       SC  South          4625364    207 \n",
              "43 Tennessee            TN  South          6346105    219 \n",
              "3  Arizona              AZ  West           6392017    232 \n",
              "31 New Jersey           NJ  Northeast      8791894    246 \n",
              "47 Virginia             VA  South          8001024    250 \n",
              "34 North Carolina       NC  South          9535483    286 \n",
              "21 Maryland             MD  South          5773552    293 \n",
              "36 Ohio                 OH  North Central 11536504    310 \n",
              "26 Missouri             MO  North Central  5988927    321 \n",
              "19 Louisiana            LA  South          4533372    351 \n",
              "14 Illinois             IL  North Central 12830632    364 \n",
              "11 Georgia              GA  South          9920000    376 \n",
              "23 Michigan             MI  North Central  9883640    413 \n",
              "39 Pennsylvania         PA  Northeast     12702379    457 \n",
              "33 New York             NY  Northeast     19378102    517 \n",
              "10 Florida              FL  South         19687653    669 \n",
              "44 Texas                TX  South         25145561    805 \n",
              "5  California           CA  West          37253956   1257 "
            ]
          },
          "metadata": {}
        }
      ]
    },
    {
      "cell_type": "markdown",
      "source": [
        "<br>"
      ],
      "metadata": {
        "id": "_f6kLGFLZDsu"
      }
    },
    {
      "cell_type": "markdown",
      "source": [
        "* `order()` also has a `decreasing` option to order in descending order (i.e. largest to smallest)"
      ],
      "metadata": {
        "id": "yoJpbdPIZDsv"
      }
    },
    {
      "cell_type": "code",
      "source": [
        "order(murders$total, decreasing = TRUE)"
      ],
      "metadata": {
        "colab": {
          "base_uri": "https://localhost:8080/",
          "height": 52
        },
        "id": "Eorw4mK4F4AF",
        "outputId": "9d27c638-a5fd-4e3f-ded0-24dee5f2b2b9"
      },
      "execution_count": null,
      "outputs": [
        {
          "output_type": "display_data",
          "data": {
            "text/html": [
              "<style>\n",
              ".list-inline {list-style: none; margin:0; padding: 0}\n",
              ".list-inline>li {display: inline-block}\n",
              ".list-inline>li:not(:last-child)::after {content: \"\\00b7\"; padding: 0 .5ex}\n",
              "</style>\n",
              "<ol class=list-inline><li>5</li><li>44</li><li>10</li><li>33</li><li>39</li><li>23</li><li>11</li><li>14</li><li>19</li><li>26</li><li>36</li><li>21</li><li>34</li><li>47</li><li>31</li><li>3</li><li>43</li><li>41</li><li>15</li><li>1</li><li>25</li><li>22</li><li>18</li><li>37</li><li>9</li><li>7</li><li>50</li><li>4</li><li>48</li><li>29</li><li>32</li><li>6</li><li>17</li><li>24</li><li>8</li><li>38</li><li>28</li><li>49</li><li>45</li><li>16</li><li>2</li><li>40</li><li>13</li><li>27</li><li>20</li><li>42</li><li>12</li><li>30</li><li>51</li><li>35</li><li>46</li></ol>\n"
            ],
            "text/markdown": "1. 5\n2. 44\n3. 10\n4. 33\n5. 39\n6. 23\n7. 11\n8. 14\n9. 19\n10. 26\n11. 36\n12. 21\n13. 34\n14. 47\n15. 31\n16. 3\n17. 43\n18. 41\n19. 15\n20. 1\n21. 25\n22. 22\n23. 18\n24. 37\n25. 9\n26. 7\n27. 50\n28. 4\n29. 48\n30. 29\n31. 32\n32. 6\n33. 17\n34. 24\n35. 8\n36. 38\n37. 28\n38. 49\n39. 45\n40. 16\n41. 2\n42. 40\n43. 13\n44. 27\n45. 20\n46. 42\n47. 12\n48. 30\n49. 51\n50. 35\n51. 46\n\n\n",
            "text/latex": "\\begin{enumerate*}\n\\item 5\n\\item 44\n\\item 10\n\\item 33\n\\item 39\n\\item 23\n\\item 11\n\\item 14\n\\item 19\n\\item 26\n\\item 36\n\\item 21\n\\item 34\n\\item 47\n\\item 31\n\\item 3\n\\item 43\n\\item 41\n\\item 15\n\\item 1\n\\item 25\n\\item 22\n\\item 18\n\\item 37\n\\item 9\n\\item 7\n\\item 50\n\\item 4\n\\item 48\n\\item 29\n\\item 32\n\\item 6\n\\item 17\n\\item 24\n\\item 8\n\\item 38\n\\item 28\n\\item 49\n\\item 45\n\\item 16\n\\item 2\n\\item 40\n\\item 13\n\\item 27\n\\item 20\n\\item 42\n\\item 12\n\\item 30\n\\item 51\n\\item 35\n\\item 46\n\\end{enumerate*}\n",
            "text/plain": [
              " [1]  5 44 10 33 39 23 11 14 19 26 36 21 34 47 31  3 43 41 15  1 25 22 18 37  9\n",
              "[26]  7 50  4 48 29 32  6 17 24  8 38 28 49 45 16  2 40 13 27 20 42 12 30 51 35\n",
              "[51] 46"
            ]
          },
          "metadata": {}
        }
      ]
    },
    {
      "cell_type": "code",
      "source": [
        "# index of total murders from smallest to largest\n",
        "murders[order(murders$total, decreasing = TRUE), ]"
      ],
      "metadata": {
        "colab": {
          "base_uri": "https://localhost:8080/",
          "height": 1000
        },
        "outputId": "756c9a12-28fa-4529-9fdc-95749d7c73c2",
        "id": "KIHzo6oTZDsv"
      },
      "execution_count": null,
      "outputs": [
        {
          "output_type": "display_data",
          "data": {
            "text/html": [
              "<table class=\"dataframe\">\n",
              "<caption>A data.frame: 51 × 5</caption>\n",
              "<thead>\n",
              "\t<tr><th></th><th scope=col>state</th><th scope=col>abb</th><th scope=col>region</th><th scope=col>population</th><th scope=col>total</th></tr>\n",
              "\t<tr><th></th><th scope=col>&lt;chr&gt;</th><th scope=col>&lt;chr&gt;</th><th scope=col>&lt;fct&gt;</th><th scope=col>&lt;dbl&gt;</th><th scope=col>&lt;dbl&gt;</th></tr>\n",
              "</thead>\n",
              "<tbody>\n",
              "\t<tr><th scope=row>5</th><td>California          </td><td>CA</td><td>West         </td><td>37253956</td><td>1257</td></tr>\n",
              "\t<tr><th scope=row>44</th><td>Texas               </td><td>TX</td><td>South        </td><td>25145561</td><td> 805</td></tr>\n",
              "\t<tr><th scope=row>10</th><td>Florida             </td><td>FL</td><td>South        </td><td>19687653</td><td> 669</td></tr>\n",
              "\t<tr><th scope=row>33</th><td>New York            </td><td>NY</td><td>Northeast    </td><td>19378102</td><td> 517</td></tr>\n",
              "\t<tr><th scope=row>39</th><td>Pennsylvania        </td><td>PA</td><td>Northeast    </td><td>12702379</td><td> 457</td></tr>\n",
              "\t<tr><th scope=row>23</th><td>Michigan            </td><td>MI</td><td>North Central</td><td> 9883640</td><td> 413</td></tr>\n",
              "\t<tr><th scope=row>11</th><td>Georgia             </td><td>GA</td><td>South        </td><td> 9920000</td><td> 376</td></tr>\n",
              "\t<tr><th scope=row>14</th><td>Illinois            </td><td>IL</td><td>North Central</td><td>12830632</td><td> 364</td></tr>\n",
              "\t<tr><th scope=row>19</th><td>Louisiana           </td><td>LA</td><td>South        </td><td> 4533372</td><td> 351</td></tr>\n",
              "\t<tr><th scope=row>26</th><td>Missouri            </td><td>MO</td><td>North Central</td><td> 5988927</td><td> 321</td></tr>\n",
              "\t<tr><th scope=row>36</th><td>Ohio                </td><td>OH</td><td>North Central</td><td>11536504</td><td> 310</td></tr>\n",
              "\t<tr><th scope=row>21</th><td>Maryland            </td><td>MD</td><td>South        </td><td> 5773552</td><td> 293</td></tr>\n",
              "\t<tr><th scope=row>34</th><td>North Carolina      </td><td>NC</td><td>South        </td><td> 9535483</td><td> 286</td></tr>\n",
              "\t<tr><th scope=row>47</th><td>Virginia            </td><td>VA</td><td>South        </td><td> 8001024</td><td> 250</td></tr>\n",
              "\t<tr><th scope=row>31</th><td>New Jersey          </td><td>NJ</td><td>Northeast    </td><td> 8791894</td><td> 246</td></tr>\n",
              "\t<tr><th scope=row>3</th><td>Arizona             </td><td>AZ</td><td>West         </td><td> 6392017</td><td> 232</td></tr>\n",
              "\t<tr><th scope=row>43</th><td>Tennessee           </td><td>TN</td><td>South        </td><td> 6346105</td><td> 219</td></tr>\n",
              "\t<tr><th scope=row>41</th><td>South Carolina      </td><td>SC</td><td>South        </td><td> 4625364</td><td> 207</td></tr>\n",
              "\t<tr><th scope=row>15</th><td>Indiana             </td><td>IN</td><td>North Central</td><td> 6483802</td><td> 142</td></tr>\n",
              "\t<tr><th scope=row>1</th><td>Alabama             </td><td>AL</td><td>South        </td><td> 4779736</td><td> 135</td></tr>\n",
              "\t<tr><th scope=row>25</th><td>Mississippi         </td><td>MS</td><td>South        </td><td> 2967297</td><td> 120</td></tr>\n",
              "\t<tr><th scope=row>22</th><td>Massachusetts       </td><td>MA</td><td>Northeast    </td><td> 6547629</td><td> 118</td></tr>\n",
              "\t<tr><th scope=row>18</th><td>Kentucky            </td><td>KY</td><td>South        </td><td> 4339367</td><td> 116</td></tr>\n",
              "\t<tr><th scope=row>37</th><td>Oklahoma            </td><td>OK</td><td>South        </td><td> 3751351</td><td> 111</td></tr>\n",
              "\t<tr><th scope=row>9</th><td>District of Columbia</td><td>DC</td><td>South        </td><td>  601723</td><td>  99</td></tr>\n",
              "\t<tr><th scope=row>7</th><td>Connecticut         </td><td>CT</td><td>Northeast    </td><td> 3574097</td><td>  97</td></tr>\n",
              "\t<tr><th scope=row>50</th><td>Wisconsin           </td><td>WI</td><td>North Central</td><td> 5686986</td><td>  97</td></tr>\n",
              "\t<tr><th scope=row>4</th><td>Arkansas            </td><td>AR</td><td>South        </td><td> 2915918</td><td>  93</td></tr>\n",
              "\t<tr><th scope=row>48</th><td>Washington          </td><td>WA</td><td>West         </td><td> 6724540</td><td>  93</td></tr>\n",
              "\t<tr><th scope=row>29</th><td>Nevada              </td><td>NV</td><td>West         </td><td> 2700551</td><td>  84</td></tr>\n",
              "\t<tr><th scope=row>32</th><td>New Mexico          </td><td>NM</td><td>West         </td><td> 2059179</td><td>  67</td></tr>\n",
              "\t<tr><th scope=row>6</th><td>Colorado            </td><td>CO</td><td>West         </td><td> 5029196</td><td>  65</td></tr>\n",
              "\t<tr><th scope=row>17</th><td>Kansas              </td><td>KS</td><td>North Central</td><td> 2853118</td><td>  63</td></tr>\n",
              "\t<tr><th scope=row>24</th><td>Minnesota           </td><td>MN</td><td>North Central</td><td> 5303925</td><td>  53</td></tr>\n",
              "\t<tr><th scope=row>8</th><td>Delaware            </td><td>DE</td><td>South        </td><td>  897934</td><td>  38</td></tr>\n",
              "\t<tr><th scope=row>38</th><td>Oregon              </td><td>OR</td><td>West         </td><td> 3831074</td><td>  36</td></tr>\n",
              "\t<tr><th scope=row>28</th><td>Nebraska            </td><td>NE</td><td>North Central</td><td> 1826341</td><td>  32</td></tr>\n",
              "\t<tr><th scope=row>49</th><td>West Virginia       </td><td>WV</td><td>South        </td><td> 1852994</td><td>  27</td></tr>\n",
              "\t<tr><th scope=row>45</th><td>Utah                </td><td>UT</td><td>West         </td><td> 2763885</td><td>  22</td></tr>\n",
              "\t<tr><th scope=row>16</th><td>Iowa                </td><td>IA</td><td>North Central</td><td> 3046355</td><td>  21</td></tr>\n",
              "\t<tr><th scope=row>2</th><td>Alaska              </td><td>AK</td><td>West         </td><td>  710231</td><td>  19</td></tr>\n",
              "\t<tr><th scope=row>40</th><td>Rhode Island        </td><td>RI</td><td>Northeast    </td><td> 1052567</td><td>  16</td></tr>\n",
              "\t<tr><th scope=row>13</th><td>Idaho               </td><td>ID</td><td>West         </td><td> 1567582</td><td>  12</td></tr>\n",
              "\t<tr><th scope=row>27</th><td>Montana             </td><td>MT</td><td>West         </td><td>  989415</td><td>  12</td></tr>\n",
              "\t<tr><th scope=row>20</th><td>Maine               </td><td>ME</td><td>Northeast    </td><td> 1328361</td><td>  11</td></tr>\n",
              "\t<tr><th scope=row>42</th><td>South Dakota        </td><td>SD</td><td>North Central</td><td>  814180</td><td>   8</td></tr>\n",
              "\t<tr><th scope=row>12</th><td>Hawaii              </td><td>HI</td><td>West         </td><td> 1360301</td><td>   7</td></tr>\n",
              "\t<tr><th scope=row>30</th><td>New Hampshire       </td><td>NH</td><td>Northeast    </td><td> 1316470</td><td>   5</td></tr>\n",
              "\t<tr><th scope=row>51</th><td>Wyoming             </td><td>WY</td><td>West         </td><td>  563626</td><td>   5</td></tr>\n",
              "\t<tr><th scope=row>35</th><td>North Dakota        </td><td>ND</td><td>North Central</td><td>  672591</td><td>   4</td></tr>\n",
              "\t<tr><th scope=row>46</th><td>Vermont             </td><td>VT</td><td>Northeast    </td><td>  625741</td><td>   2</td></tr>\n",
              "</tbody>\n",
              "</table>\n"
            ],
            "text/markdown": "\nA data.frame: 51 × 5\n\n| <!--/--> | state &lt;chr&gt; | abb &lt;chr&gt; | region &lt;fct&gt; | population &lt;dbl&gt; | total &lt;dbl&gt; |\n|---|---|---|---|---|---|\n| 5 | California           | CA | West          | 37253956 | 1257 |\n| 44 | Texas                | TX | South         | 25145561 |  805 |\n| 10 | Florida              | FL | South         | 19687653 |  669 |\n| 33 | New York             | NY | Northeast     | 19378102 |  517 |\n| 39 | Pennsylvania         | PA | Northeast     | 12702379 |  457 |\n| 23 | Michigan             | MI | North Central |  9883640 |  413 |\n| 11 | Georgia              | GA | South         |  9920000 |  376 |\n| 14 | Illinois             | IL | North Central | 12830632 |  364 |\n| 19 | Louisiana            | LA | South         |  4533372 |  351 |\n| 26 | Missouri             | MO | North Central |  5988927 |  321 |\n| 36 | Ohio                 | OH | North Central | 11536504 |  310 |\n| 21 | Maryland             | MD | South         |  5773552 |  293 |\n| 34 | North Carolina       | NC | South         |  9535483 |  286 |\n| 47 | Virginia             | VA | South         |  8001024 |  250 |\n| 31 | New Jersey           | NJ | Northeast     |  8791894 |  246 |\n| 3 | Arizona              | AZ | West          |  6392017 |  232 |\n| 43 | Tennessee            | TN | South         |  6346105 |  219 |\n| 41 | South Carolina       | SC | South         |  4625364 |  207 |\n| 15 | Indiana              | IN | North Central |  6483802 |  142 |\n| 1 | Alabama              | AL | South         |  4779736 |  135 |\n| 25 | Mississippi          | MS | South         |  2967297 |  120 |\n| 22 | Massachusetts        | MA | Northeast     |  6547629 |  118 |\n| 18 | Kentucky             | KY | South         |  4339367 |  116 |\n| 37 | Oklahoma             | OK | South         |  3751351 |  111 |\n| 9 | District of Columbia | DC | South         |   601723 |   99 |\n| 7 | Connecticut          | CT | Northeast     |  3574097 |   97 |\n| 50 | Wisconsin            | WI | North Central |  5686986 |   97 |\n| 4 | Arkansas             | AR | South         |  2915918 |   93 |\n| 48 | Washington           | WA | West          |  6724540 |   93 |\n| 29 | Nevada               | NV | West          |  2700551 |   84 |\n| 32 | New Mexico           | NM | West          |  2059179 |   67 |\n| 6 | Colorado             | CO | West          |  5029196 |   65 |\n| 17 | Kansas               | KS | North Central |  2853118 |   63 |\n| 24 | Minnesota            | MN | North Central |  5303925 |   53 |\n| 8 | Delaware             | DE | South         |   897934 |   38 |\n| 38 | Oregon               | OR | West          |  3831074 |   36 |\n| 28 | Nebraska             | NE | North Central |  1826341 |   32 |\n| 49 | West Virginia        | WV | South         |  1852994 |   27 |\n| 45 | Utah                 | UT | West          |  2763885 |   22 |\n| 16 | Iowa                 | IA | North Central |  3046355 |   21 |\n| 2 | Alaska               | AK | West          |   710231 |   19 |\n| 40 | Rhode Island         | RI | Northeast     |  1052567 |   16 |\n| 13 | Idaho                | ID | West          |  1567582 |   12 |\n| 27 | Montana              | MT | West          |   989415 |   12 |\n| 20 | Maine                | ME | Northeast     |  1328361 |   11 |\n| 42 | South Dakota         | SD | North Central |   814180 |    8 |\n| 12 | Hawaii               | HI | West          |  1360301 |    7 |\n| 30 | New Hampshire        | NH | Northeast     |  1316470 |    5 |\n| 51 | Wyoming              | WY | West          |   563626 |    5 |\n| 35 | North Dakota         | ND | North Central |   672591 |    4 |\n| 46 | Vermont              | VT | Northeast     |   625741 |    2 |\n\n",
            "text/latex": "A data.frame: 51 × 5\n\\begin{tabular}{r|lllll}\n  & state & abb & region & population & total\\\\\n  & <chr> & <chr> & <fct> & <dbl> & <dbl>\\\\\n\\hline\n\t5 & California           & CA & West          & 37253956 & 1257\\\\\n\t44 & Texas                & TX & South         & 25145561 &  805\\\\\n\t10 & Florida              & FL & South         & 19687653 &  669\\\\\n\t33 & New York             & NY & Northeast     & 19378102 &  517\\\\\n\t39 & Pennsylvania         & PA & Northeast     & 12702379 &  457\\\\\n\t23 & Michigan             & MI & North Central &  9883640 &  413\\\\\n\t11 & Georgia              & GA & South         &  9920000 &  376\\\\\n\t14 & Illinois             & IL & North Central & 12830632 &  364\\\\\n\t19 & Louisiana            & LA & South         &  4533372 &  351\\\\\n\t26 & Missouri             & MO & North Central &  5988927 &  321\\\\\n\t36 & Ohio                 & OH & North Central & 11536504 &  310\\\\\n\t21 & Maryland             & MD & South         &  5773552 &  293\\\\\n\t34 & North Carolina       & NC & South         &  9535483 &  286\\\\\n\t47 & Virginia             & VA & South         &  8001024 &  250\\\\\n\t31 & New Jersey           & NJ & Northeast     &  8791894 &  246\\\\\n\t3 & Arizona              & AZ & West          &  6392017 &  232\\\\\n\t43 & Tennessee            & TN & South         &  6346105 &  219\\\\\n\t41 & South Carolina       & SC & South         &  4625364 &  207\\\\\n\t15 & Indiana              & IN & North Central &  6483802 &  142\\\\\n\t1 & Alabama              & AL & South         &  4779736 &  135\\\\\n\t25 & Mississippi          & MS & South         &  2967297 &  120\\\\\n\t22 & Massachusetts        & MA & Northeast     &  6547629 &  118\\\\\n\t18 & Kentucky             & KY & South         &  4339367 &  116\\\\\n\t37 & Oklahoma             & OK & South         &  3751351 &  111\\\\\n\t9 & District of Columbia & DC & South         &   601723 &   99\\\\\n\t7 & Connecticut          & CT & Northeast     &  3574097 &   97\\\\\n\t50 & Wisconsin            & WI & North Central &  5686986 &   97\\\\\n\t4 & Arkansas             & AR & South         &  2915918 &   93\\\\\n\t48 & Washington           & WA & West          &  6724540 &   93\\\\\n\t29 & Nevada               & NV & West          &  2700551 &   84\\\\\n\t32 & New Mexico           & NM & West          &  2059179 &   67\\\\\n\t6 & Colorado             & CO & West          &  5029196 &   65\\\\\n\t17 & Kansas               & KS & North Central &  2853118 &   63\\\\\n\t24 & Minnesota            & MN & North Central &  5303925 &   53\\\\\n\t8 & Delaware             & DE & South         &   897934 &   38\\\\\n\t38 & Oregon               & OR & West          &  3831074 &   36\\\\\n\t28 & Nebraska             & NE & North Central &  1826341 &   32\\\\\n\t49 & West Virginia        & WV & South         &  1852994 &   27\\\\\n\t45 & Utah                 & UT & West          &  2763885 &   22\\\\\n\t16 & Iowa                 & IA & North Central &  3046355 &   21\\\\\n\t2 & Alaska               & AK & West          &   710231 &   19\\\\\n\t40 & Rhode Island         & RI & Northeast     &  1052567 &   16\\\\\n\t13 & Idaho                & ID & West          &  1567582 &   12\\\\\n\t27 & Montana              & MT & West          &   989415 &   12\\\\\n\t20 & Maine                & ME & Northeast     &  1328361 &   11\\\\\n\t42 & South Dakota         & SD & North Central &   814180 &    8\\\\\n\t12 & Hawaii               & HI & West          &  1360301 &    7\\\\\n\t30 & New Hampshire        & NH & Northeast     &  1316470 &    5\\\\\n\t51 & Wyoming              & WY & West          &   563626 &    5\\\\\n\t35 & North Dakota         & ND & North Central &   672591 &    4\\\\\n\t46 & Vermont              & VT & Northeast     &   625741 &    2\\\\\n\\end{tabular}\n",
            "text/plain": [
              "   state                abb region        population total\n",
              "5  California           CA  West          37253956   1257 \n",
              "44 Texas                TX  South         25145561    805 \n",
              "10 Florida              FL  South         19687653    669 \n",
              "33 New York             NY  Northeast     19378102    517 \n",
              "39 Pennsylvania         PA  Northeast     12702379    457 \n",
              "23 Michigan             MI  North Central  9883640    413 \n",
              "11 Georgia              GA  South          9920000    376 \n",
              "14 Illinois             IL  North Central 12830632    364 \n",
              "19 Louisiana            LA  South          4533372    351 \n",
              "26 Missouri             MO  North Central  5988927    321 \n",
              "36 Ohio                 OH  North Central 11536504    310 \n",
              "21 Maryland             MD  South          5773552    293 \n",
              "34 North Carolina       NC  South          9535483    286 \n",
              "47 Virginia             VA  South          8001024    250 \n",
              "31 New Jersey           NJ  Northeast      8791894    246 \n",
              "3  Arizona              AZ  West           6392017    232 \n",
              "43 Tennessee            TN  South          6346105    219 \n",
              "41 South Carolina       SC  South          4625364    207 \n",
              "15 Indiana              IN  North Central  6483802    142 \n",
              "1  Alabama              AL  South          4779736    135 \n",
              "25 Mississippi          MS  South          2967297    120 \n",
              "22 Massachusetts        MA  Northeast      6547629    118 \n",
              "18 Kentucky             KY  South          4339367    116 \n",
              "37 Oklahoma             OK  South          3751351    111 \n",
              "9  District of Columbia DC  South           601723     99 \n",
              "7  Connecticut          CT  Northeast      3574097     97 \n",
              "50 Wisconsin            WI  North Central  5686986     97 \n",
              "4  Arkansas             AR  South          2915918     93 \n",
              "48 Washington           WA  West           6724540     93 \n",
              "29 Nevada               NV  West           2700551     84 \n",
              "32 New Mexico           NM  West           2059179     67 \n",
              "6  Colorado             CO  West           5029196     65 \n",
              "17 Kansas               KS  North Central  2853118     63 \n",
              "24 Minnesota            MN  North Central  5303925     53 \n",
              "8  Delaware             DE  South           897934     38 \n",
              "38 Oregon               OR  West           3831074     36 \n",
              "28 Nebraska             NE  North Central  1826341     32 \n",
              "49 West Virginia        WV  South          1852994     27 \n",
              "45 Utah                 UT  West           2763885     22 \n",
              "16 Iowa                 IA  North Central  3046355     21 \n",
              "2  Alaska               AK  West            710231     19 \n",
              "40 Rhode Island         RI  Northeast      1052567     16 \n",
              "13 Idaho                ID  West           1567582     12 \n",
              "27 Montana              MT  West            989415     12 \n",
              "20 Maine                ME  Northeast      1328361     11 \n",
              "42 South Dakota         SD  North Central   814180      8 \n",
              "12 Hawaii               HI  West           1360301      7 \n",
              "30 New Hampshire        NH  Northeast      1316470      5 \n",
              "51 Wyoming              WY  West            563626      5 \n",
              "35 North Dakota         ND  North Central   672591      4 \n",
              "46 Vermont              VT  Northeast       625741      2 "
            ]
          },
          "metadata": {}
        }
      ]
    },
    {
      "cell_type": "markdown",
      "source": [
        "<br>"
      ],
      "metadata": {
        "id": "rQj2q5TAZWjA"
      }
    },
    {
      "cell_type": "markdown",
      "source": [
        "* This is useful for barplots. More on this later!"
      ],
      "metadata": {
        "id": "eKHijPPKZWjB"
      }
    },
    {
      "cell_type": "code",
      "source": [
        "# index of total murders from smallest to largest\n",
        "murders_ordered <- murders[order(murders$total, decreasing = TRUE), ]\n",
        "\n",
        "# plot barplot\n",
        "options(repr.plot.width=12, repr.plot.height=8)\n",
        "barplot(murders_ordered$total,\n",
        "        names.arg = murders_ordered$state,\n",
        "        las = 2,\n",
        "        col = murders_ordered$region)"
      ],
      "metadata": {
        "colab": {
          "base_uri": "https://localhost:8080/",
          "height": 497
        },
        "outputId": "d9a8dd3b-7b74-46b0-de17-4211693a57b9",
        "id": "G-I1_AdtZWjB"
      },
      "execution_count": null,
      "outputs": [
        {
          "output_type": "display_data",
          "data": {
            "text/plain": [
              "plot without title"
            ],
            "image/png": "[encoded data removed]"
          },
          "metadata": {
            "image/png": {
              "width": 720,
              "height": 480
            }
          }
        }
      ]
    },
    {
      "cell_type": "markdown",
      "source": [
        "<br>\n",
        "\n",
        "<br>"
      ],
      "metadata": {
        "id": "HbXtYgBTDHKm"
      }
    },
    {
      "cell_type": "markdown",
      "source": [
        "---\n",
        "\n",
        "<br>"
      ],
      "metadata": {
        "id": "gEykD7iDDHKn"
      }
    },
    {
      "cell_type": "markdown",
      "metadata": {
        "id": "-YHGqxC3DHKo"
      },
      "source": [
        "## Other subsetting syntax"
      ]
    },
    {
      "cell_type": "markdown",
      "source": [
        "* Note that you can also subset by name of the variable"
      ],
      "metadata": {
        "id": "iOoViOwhaAoU"
      }
    },
    {
      "cell_type": "markdown",
      "source": [
        "<br>"
      ],
      "metadata": {
        "id": "tNygH3inalnz"
      }
    },
    {
      "cell_type": "markdown",
      "source": [
        "* The script below extracts the `total` variable from the `murders` data frame by its name"
      ],
      "metadata": {
        "id": "3YVIF8-ham6a"
      }
    },
    {
      "cell_type": "code",
      "source": [
        "murders$total"
      ],
      "metadata": {
        "colab": {
          "base_uri": "https://localhost:8080/",
          "height": 52
        },
        "id": "VNDr-SfXGdEm",
        "outputId": "8be9516c-ce3d-4469-bdef-41f5ddaf0400"
      },
      "execution_count": null,
      "outputs": [
        {
          "output_type": "display_data",
          "data": {
            "text/html": [
              "<style>\n",
              ".list-inline {list-style: none; margin:0; padding: 0}\n",
              ".list-inline>li {display: inline-block}\n",
              ".list-inline>li:not(:last-child)::after {content: \"\\00b7\"; padding: 0 .5ex}\n",
              "</style>\n",
              "<ol class=list-inline><li>135</li><li>19</li><li>232</li><li>93</li><li>1257</li><li>65</li><li>97</li><li>38</li><li>99</li><li>669</li><li>376</li><li>7</li><li>12</li><li>364</li><li>142</li><li>21</li><li>63</li><li>116</li><li>351</li><li>11</li><li>293</li><li>118</li><li>413</li><li>53</li><li>120</li><li>321</li><li>12</li><li>32</li><li>84</li><li>5</li><li>246</li><li>67</li><li>517</li><li>286</li><li>4</li><li>310</li><li>111</li><li>36</li><li>457</li><li>16</li><li>207</li><li>8</li><li>219</li><li>805</li><li>22</li><li>2</li><li>250</li><li>93</li><li>27</li><li>97</li><li>5</li></ol>\n"
            ],
            "text/markdown": "1. 135\n2. 19\n3. 232\n4. 93\n5. 1257\n6. 65\n7. 97\n8. 38\n9. 99\n10. 669\n11. 376\n12. 7\n13. 12\n14. 364\n15. 142\n16. 21\n17. 63\n18. 116\n19. 351\n20. 11\n21. 293\n22. 118\n23. 413\n24. 53\n25. 120\n26. 321\n27. 12\n28. 32\n29. 84\n30. 5\n31. 246\n32. 67\n33. 517\n34. 286\n35. 4\n36. 310\n37. 111\n38. 36\n39. 457\n40. 16\n41. 207\n42. 8\n43. 219\n44. 805\n45. 22\n46. 2\n47. 250\n48. 93\n49. 27\n50. 97\n51. 5\n\n\n",
            "text/latex": "\\begin{enumerate*}\n\\item 135\n\\item 19\n\\item 232\n\\item 93\n\\item 1257\n\\item 65\n\\item 97\n\\item 38\n\\item 99\n\\item 669\n\\item 376\n\\item 7\n\\item 12\n\\item 364\n\\item 142\n\\item 21\n\\item 63\n\\item 116\n\\item 351\n\\item 11\n\\item 293\n\\item 118\n\\item 413\n\\item 53\n\\item 120\n\\item 321\n\\item 12\n\\item 32\n\\item 84\n\\item 5\n\\item 246\n\\item 67\n\\item 517\n\\item 286\n\\item 4\n\\item 310\n\\item 111\n\\item 36\n\\item 457\n\\item 16\n\\item 207\n\\item 8\n\\item 219\n\\item 805\n\\item 22\n\\item 2\n\\item 250\n\\item 93\n\\item 27\n\\item 97\n\\item 5\n\\end{enumerate*}\n",
            "text/plain": [
              " [1]  135   19  232   93 1257   65   97   38   99  669  376    7   12  364  142\n",
              "[16]   21   63  116  351   11  293  118  413   53  120  321   12   32   84    5\n",
              "[31]  246   67  517  286    4  310  111   36  457   16  207    8  219  805   22\n",
              "[46]    2  250   93   27   97    5"
            ]
          },
          "metadata": {}
        }
      ]
    },
    {
      "cell_type": "code",
      "source": [
        "# use the variable name total to extract\n",
        "murders[, \"total\"]"
      ],
      "metadata": {
        "colab": {
          "base_uri": "https://localhost:8080/",
          "height": 52
        },
        "id": "f2Bw1CuWaF0k",
        "outputId": "24b49b11-5b09-4227-db96-c9046ce59e9d"
      },
      "execution_count": null,
      "outputs": [
        {
          "output_type": "display_data",
          "data": {
            "text/html": [
              "<style>\n",
              ".list-inline {list-style: none; margin:0; padding: 0}\n",
              ".list-inline>li {display: inline-block}\n",
              ".list-inline>li:not(:last-child)::after {content: \"\\00b7\"; padding: 0 .5ex}\n",
              "</style>\n",
              "<ol class=list-inline><li>135</li><li>19</li><li>232</li><li>93</li><li>1257</li><li>65</li><li>97</li><li>38</li><li>99</li><li>669</li><li>376</li><li>7</li><li>12</li><li>364</li><li>142</li><li>21</li><li>63</li><li>116</li><li>351</li><li>11</li><li>293</li><li>118</li><li>413</li><li>53</li><li>120</li><li>321</li><li>12</li><li>32</li><li>84</li><li>5</li><li>246</li><li>67</li><li>517</li><li>286</li><li>4</li><li>310</li><li>111</li><li>36</li><li>457</li><li>16</li><li>207</li><li>8</li><li>219</li><li>805</li><li>22</li><li>2</li><li>250</li><li>93</li><li>27</li><li>97</li><li>5</li></ol>\n"
            ],
            "text/markdown": "1. 135\n2. 19\n3. 232\n4. 93\n5. 1257\n6. 65\n7. 97\n8. 38\n9. 99\n10. 669\n11. 376\n12. 7\n13. 12\n14. 364\n15. 142\n16. 21\n17. 63\n18. 116\n19. 351\n20. 11\n21. 293\n22. 118\n23. 413\n24. 53\n25. 120\n26. 321\n27. 12\n28. 32\n29. 84\n30. 5\n31. 246\n32. 67\n33. 517\n34. 286\n35. 4\n36. 310\n37. 111\n38. 36\n39. 457\n40. 16\n41. 207\n42. 8\n43. 219\n44. 805\n45. 22\n46. 2\n47. 250\n48. 93\n49. 27\n50. 97\n51. 5\n\n\n",
            "text/latex": "\\begin{enumerate*}\n\\item 135\n\\item 19\n\\item 232\n\\item 93\n\\item 1257\n\\item 65\n\\item 97\n\\item 38\n\\item 99\n\\item 669\n\\item 376\n\\item 7\n\\item 12\n\\item 364\n\\item 142\n\\item 21\n\\item 63\n\\item 116\n\\item 351\n\\item 11\n\\item 293\n\\item 118\n\\item 413\n\\item 53\n\\item 120\n\\item 321\n\\item 12\n\\item 32\n\\item 84\n\\item 5\n\\item 246\n\\item 67\n\\item 517\n\\item 286\n\\item 4\n\\item 310\n\\item 111\n\\item 36\n\\item 457\n\\item 16\n\\item 207\n\\item 8\n\\item 219\n\\item 805\n\\item 22\n\\item 2\n\\item 250\n\\item 93\n\\item 27\n\\item 97\n\\item 5\n\\end{enumerate*}\n",
            "text/plain": [
              " [1]  135   19  232   93 1257   65   97   38   99  669  376    7   12  364  142\n",
              "[16]   21   63  116  351   11  293  118  413   53  120  321   12   32   84    5\n",
              "[31]  246   67  517  286    4  310  111   36  457   16  207    8  219  805   22\n",
              "[46]    2  250   93   27   97    5"
            ]
          },
          "metadata": {}
        }
      ]
    },
    {
      "cell_type": "markdown",
      "source": [
        "<br>"
      ],
      "metadata": {
        "id": "2ICpsG-QasCd"
      }
    },
    {
      "cell_type": "markdown",
      "source": [
        "* The script below extracts both the `state` and `total` variables from the `murders` data frame by their variable names"
      ],
      "metadata": {
        "id": "He3iZ2XUas4U"
      }
    },
    {
      "cell_type": "code",
      "source": [
        "# use a vector of variable names to extract\n",
        "murders[, c(\"state\", \"total\")]"
      ],
      "metadata": {
        "colab": {
          "base_uri": "https://localhost:8080/",
          "height": 1000
        },
        "id": "glwuPZtVaIn7",
        "outputId": "251ab058-91fe-4903-f54c-55f9f35f9580"
      },
      "execution_count": null,
      "outputs": [
        {
          "output_type": "display_data",
          "data": {
            "text/html": [
              "<table class=\"dataframe\">\n",
              "<caption>A data.frame: 51 × 2</caption>\n",
              "<thead>\n",
              "\t<tr><th scope=col>state</th><th scope=col>total</th></tr>\n",
              "\t<tr><th scope=col>&lt;chr&gt;</th><th scope=col>&lt;dbl&gt;</th></tr>\n",
              "</thead>\n",
              "<tbody>\n",
              "\t<tr><td>Alabama             </td><td> 135</td></tr>\n",
              "\t<tr><td>Alaska              </td><td>  19</td></tr>\n",
              "\t<tr><td>Arizona             </td><td> 232</td></tr>\n",
              "\t<tr><td>Arkansas            </td><td>  93</td></tr>\n",
              "\t<tr><td>California          </td><td>1257</td></tr>\n",
              "\t<tr><td>Colorado            </td><td>  65</td></tr>\n",
              "\t<tr><td>Connecticut         </td><td>  97</td></tr>\n",
              "\t<tr><td>Delaware            </td><td>  38</td></tr>\n",
              "\t<tr><td>District of Columbia</td><td>  99</td></tr>\n",
              "\t<tr><td>Florida             </td><td> 669</td></tr>\n",
              "\t<tr><td>Georgia             </td><td> 376</td></tr>\n",
              "\t<tr><td>Hawaii              </td><td>   7</td></tr>\n",
              "\t<tr><td>Idaho               </td><td>  12</td></tr>\n",
              "\t<tr><td>Illinois            </td><td> 364</td></tr>\n",
              "\t<tr><td>Indiana             </td><td> 142</td></tr>\n",
              "\t<tr><td>Iowa                </td><td>  21</td></tr>\n",
              "\t<tr><td>Kansas              </td><td>  63</td></tr>\n",
              "\t<tr><td>Kentucky            </td><td> 116</td></tr>\n",
              "\t<tr><td>Louisiana           </td><td> 351</td></tr>\n",
              "\t<tr><td>Maine               </td><td>  11</td></tr>\n",
              "\t<tr><td>Maryland            </td><td> 293</td></tr>\n",
              "\t<tr><td>Massachusetts       </td><td> 118</td></tr>\n",
              "\t<tr><td>Michigan            </td><td> 413</td></tr>\n",
              "\t<tr><td>Minnesota           </td><td>  53</td></tr>\n",
              "\t<tr><td>Mississippi         </td><td> 120</td></tr>\n",
              "\t<tr><td>Missouri            </td><td> 321</td></tr>\n",
              "\t<tr><td>Montana             </td><td>  12</td></tr>\n",
              "\t<tr><td>Nebraska            </td><td>  32</td></tr>\n",
              "\t<tr><td>Nevada              </td><td>  84</td></tr>\n",
              "\t<tr><td>New Hampshire       </td><td>   5</td></tr>\n",
              "\t<tr><td>New Jersey          </td><td> 246</td></tr>\n",
              "\t<tr><td>New Mexico          </td><td>  67</td></tr>\n",
              "\t<tr><td>New York            </td><td> 517</td></tr>\n",
              "\t<tr><td>North Carolina      </td><td> 286</td></tr>\n",
              "\t<tr><td>North Dakota        </td><td>   4</td></tr>\n",
              "\t<tr><td>Ohio                </td><td> 310</td></tr>\n",
              "\t<tr><td>Oklahoma            </td><td> 111</td></tr>\n",
              "\t<tr><td>Oregon              </td><td>  36</td></tr>\n",
              "\t<tr><td>Pennsylvania        </td><td> 457</td></tr>\n",
              "\t<tr><td>Rhode Island        </td><td>  16</td></tr>\n",
              "\t<tr><td>South Carolina      </td><td> 207</td></tr>\n",
              "\t<tr><td>South Dakota        </td><td>   8</td></tr>\n",
              "\t<tr><td>Tennessee           </td><td> 219</td></tr>\n",
              "\t<tr><td>Texas               </td><td> 805</td></tr>\n",
              "\t<tr><td>Utah                </td><td>  22</td></tr>\n",
              "\t<tr><td>Vermont             </td><td>   2</td></tr>\n",
              "\t<tr><td>Virginia            </td><td> 250</td></tr>\n",
              "\t<tr><td>Washington          </td><td>  93</td></tr>\n",
              "\t<tr><td>West Virginia       </td><td>  27</td></tr>\n",
              "\t<tr><td>Wisconsin           </td><td>  97</td></tr>\n",
              "\t<tr><td>Wyoming             </td><td>   5</td></tr>\n",
              "</tbody>\n",
              "</table>\n"
            ],
            "text/markdown": "\nA data.frame: 51 × 2\n\n| state &lt;chr&gt; | total &lt;dbl&gt; |\n|---|---|\n| Alabama              |  135 |\n| Alaska               |   19 |\n| Arizona              |  232 |\n| Arkansas             |   93 |\n| California           | 1257 |\n| Colorado             |   65 |\n| Connecticut          |   97 |\n| Delaware             |   38 |\n| District of Columbia |   99 |\n| Florida              |  669 |\n| Georgia              |  376 |\n| Hawaii               |    7 |\n| Idaho                |   12 |\n| Illinois             |  364 |\n| Indiana              |  142 |\n| Iowa                 |   21 |\n| Kansas               |   63 |\n| Kentucky             |  116 |\n| Louisiana            |  351 |\n| Maine                |   11 |\n| Maryland             |  293 |\n| Massachusetts        |  118 |\n| Michigan             |  413 |\n| Minnesota            |   53 |\n| Mississippi          |  120 |\n| Missouri             |  321 |\n| Montana              |   12 |\n| Nebraska             |   32 |\n| Nevada               |   84 |\n| New Hampshire        |    5 |\n| New Jersey           |  246 |\n| New Mexico           |   67 |\n| New York             |  517 |\n| North Carolina       |  286 |\n| North Dakota         |    4 |\n| Ohio                 |  310 |\n| Oklahoma             |  111 |\n| Oregon               |   36 |\n| Pennsylvania         |  457 |\n| Rhode Island         |   16 |\n| South Carolina       |  207 |\n| South Dakota         |    8 |\n| Tennessee            |  219 |\n| Texas                |  805 |\n| Utah                 |   22 |\n| Vermont              |    2 |\n| Virginia             |  250 |\n| Washington           |   93 |\n| West Virginia        |   27 |\n| Wisconsin            |   97 |\n| Wyoming              |    5 |\n\n",
            "text/latex": "A data.frame: 51 × 2\n\\begin{tabular}{ll}\n state & total\\\\\n <chr> & <dbl>\\\\\n\\hline\n\t Alabama              &  135\\\\\n\t Alaska               &   19\\\\\n\t Arizona              &  232\\\\\n\t Arkansas             &   93\\\\\n\t California           & 1257\\\\\n\t Colorado             &   65\\\\\n\t Connecticut          &   97\\\\\n\t Delaware             &   38\\\\\n\t District of Columbia &   99\\\\\n\t Florida              &  669\\\\\n\t Georgia              &  376\\\\\n\t Hawaii               &    7\\\\\n\t Idaho                &   12\\\\\n\t Illinois             &  364\\\\\n\t Indiana              &  142\\\\\n\t Iowa                 &   21\\\\\n\t Kansas               &   63\\\\\n\t Kentucky             &  116\\\\\n\t Louisiana            &  351\\\\\n\t Maine                &   11\\\\\n\t Maryland             &  293\\\\\n\t Massachusetts        &  118\\\\\n\t Michigan             &  413\\\\\n\t Minnesota            &   53\\\\\n\t Mississippi          &  120\\\\\n\t Missouri             &  321\\\\\n\t Montana              &   12\\\\\n\t Nebraska             &   32\\\\\n\t Nevada               &   84\\\\\n\t New Hampshire        &    5\\\\\n\t New Jersey           &  246\\\\\n\t New Mexico           &   67\\\\\n\t New York             &  517\\\\\n\t North Carolina       &  286\\\\\n\t North Dakota         &    4\\\\\n\t Ohio                 &  310\\\\\n\t Oklahoma             &  111\\\\\n\t Oregon               &   36\\\\\n\t Pennsylvania         &  457\\\\\n\t Rhode Island         &   16\\\\\n\t South Carolina       &  207\\\\\n\t South Dakota         &    8\\\\\n\t Tennessee            &  219\\\\\n\t Texas                &  805\\\\\n\t Utah                 &   22\\\\\n\t Vermont              &    2\\\\\n\t Virginia             &  250\\\\\n\t Washington           &   93\\\\\n\t West Virginia        &   27\\\\\n\t Wisconsin            &   97\\\\\n\t Wyoming              &    5\\\\\n\\end{tabular}\n",
            "text/plain": [
              "   state                total\n",
              "1  Alabama               135 \n",
              "2  Alaska                 19 \n",
              "3  Arizona               232 \n",
              "4  Arkansas               93 \n",
              "5  California           1257 \n",
              "6  Colorado               65 \n",
              "7  Connecticut            97 \n",
              "8  Delaware               38 \n",
              "9  District of Columbia   99 \n",
              "10 Florida               669 \n",
              "11 Georgia               376 \n",
              "12 Hawaii                  7 \n",
              "13 Idaho                  12 \n",
              "14 Illinois              364 \n",
              "15 Indiana               142 \n",
              "16 Iowa                   21 \n",
              "17 Kansas                 63 \n",
              "18 Kentucky              116 \n",
              "19 Louisiana             351 \n",
              "20 Maine                  11 \n",
              "21 Maryland              293 \n",
              "22 Massachusetts         118 \n",
              "23 Michigan              413 \n",
              "24 Minnesota              53 \n",
              "25 Mississippi           120 \n",
              "26 Missouri              321 \n",
              "27 Montana                12 \n",
              "28 Nebraska               32 \n",
              "29 Nevada                 84 \n",
              "30 New Hampshire           5 \n",
              "31 New Jersey            246 \n",
              "32 New Mexico             67 \n",
              "33 New York              517 \n",
              "34 North Carolina        286 \n",
              "35 North Dakota            4 \n",
              "36 Ohio                  310 \n",
              "37 Oklahoma              111 \n",
              "38 Oregon                 36 \n",
              "39 Pennsylvania          457 \n",
              "40 Rhode Island           16 \n",
              "41 South Carolina        207 \n",
              "42 South Dakota            8 \n",
              "43 Tennessee             219 \n",
              "44 Texas                 805 \n",
              "45 Utah                   22 \n",
              "46 Vermont                 2 \n",
              "47 Virginia              250 \n",
              "48 Washington             93 \n",
              "49 West Virginia          27 \n",
              "50 Wisconsin              97 \n",
              "51 Wyoming                 5 "
            ]
          },
          "metadata": {}
        }
      ]
    },
    {
      "cell_type": "markdown",
      "source": [
        "<br>"
      ],
      "metadata": {
        "id": "XFLizbX5a4Uo"
      }
    },
    {
      "cell_type": "markdown",
      "source": [
        "* Total murders in western region"
      ],
      "metadata": {
        "id": "PZ-YaCh0a4Uq"
      }
    },
    {
      "cell_type": "code",
      "source": [
        "murders[murders$region == \"West\", \"total\"]"
      ],
      "metadata": {
        "colab": {
          "base_uri": "https://localhost:8080/",
          "height": 34
        },
        "outputId": "3e9aaf94-48ce-4814-945e-312c42aa5d07",
        "id": "b1GSSxEFa4Uq"
      },
      "execution_count": null,
      "outputs": [
        {
          "output_type": "display_data",
          "data": {
            "text/html": [
              "<style>\n",
              ".list-inline {list-style: none; margin:0; padding: 0}\n",
              ".list-inline>li {display: inline-block}\n",
              ".list-inline>li:not(:last-child)::after {content: \"\\00b7\"; padding: 0 .5ex}\n",
              "</style>\n",
              "<ol class=list-inline><li>19</li><li>232</li><li>1257</li><li>65</li><li>7</li><li>12</li><li>12</li><li>84</li><li>67</li><li>36</li><li>22</li><li>93</li><li>5</li></ol>\n"
            ],
            "text/markdown": "1. 19\n2. 232\n3. 1257\n4. 65\n5. 7\n6. 12\n7. 12\n8. 84\n9. 67\n10. 36\n11. 22\n12. 93\n13. 5\n\n\n",
            "text/latex": "\\begin{enumerate*}\n\\item 19\n\\item 232\n\\item 1257\n\\item 65\n\\item 7\n\\item 12\n\\item 12\n\\item 84\n\\item 67\n\\item 36\n\\item 22\n\\item 93\n\\item 5\n\\end{enumerate*}\n",
            "text/plain": [
              " [1]   19  232 1257   65    7   12   12   84   67   36   22   93    5"
            ]
          },
          "metadata": {}
        }
      ]
    },
    {
      "cell_type": "markdown",
      "source": [
        "<br>"
      ],
      "metadata": {
        "id": "8GP5c5VKbJcJ"
      }
    },
    {
      "cell_type": "markdown",
      "source": [
        "* state and total murders ordered"
      ],
      "metadata": {
        "id": "SnQmK8rCbJcK"
      }
    },
    {
      "cell_type": "code",
      "source": [
        "murders[order(murders$total, decreasing = TRUE), c(\"state\", \"total\")]"
      ],
      "metadata": {
        "colab": {
          "base_uri": "https://localhost:8080/",
          "height": 1000
        },
        "outputId": "0cd6199c-d00a-4a70-dfe1-0a498f440cd7",
        "id": "VCb6Ig2UbJcK"
      },
      "execution_count": null,
      "outputs": [
        {
          "output_type": "display_data",
          "data": {
            "text/html": [
              "<table class=\"dataframe\">\n",
              "<caption>A data.frame: 51 × 2</caption>\n",
              "<thead>\n",
              "\t<tr><th></th><th scope=col>state</th><th scope=col>total</th></tr>\n",
              "\t<tr><th></th><th scope=col>&lt;chr&gt;</th><th scope=col>&lt;dbl&gt;</th></tr>\n",
              "</thead>\n",
              "<tbody>\n",
              "\t<tr><th scope=row>5</th><td>California          </td><td>1257</td></tr>\n",
              "\t<tr><th scope=row>44</th><td>Texas               </td><td> 805</td></tr>\n",
              "\t<tr><th scope=row>10</th><td>Florida             </td><td> 669</td></tr>\n",
              "\t<tr><th scope=row>33</th><td>New York            </td><td> 517</td></tr>\n",
              "\t<tr><th scope=row>39</th><td>Pennsylvania        </td><td> 457</td></tr>\n",
              "\t<tr><th scope=row>23</th><td>Michigan            </td><td> 413</td></tr>\n",
              "\t<tr><th scope=row>11</th><td>Georgia             </td><td> 376</td></tr>\n",
              "\t<tr><th scope=row>14</th><td>Illinois            </td><td> 364</td></tr>\n",
              "\t<tr><th scope=row>19</th><td>Louisiana           </td><td> 351</td></tr>\n",
              "\t<tr><th scope=row>26</th><td>Missouri            </td><td> 321</td></tr>\n",
              "\t<tr><th scope=row>36</th><td>Ohio                </td><td> 310</td></tr>\n",
              "\t<tr><th scope=row>21</th><td>Maryland            </td><td> 293</td></tr>\n",
              "\t<tr><th scope=row>34</th><td>North Carolina      </td><td> 286</td></tr>\n",
              "\t<tr><th scope=row>47</th><td>Virginia            </td><td> 250</td></tr>\n",
              "\t<tr><th scope=row>31</th><td>New Jersey          </td><td> 246</td></tr>\n",
              "\t<tr><th scope=row>3</th><td>Arizona             </td><td> 232</td></tr>\n",
              "\t<tr><th scope=row>43</th><td>Tennessee           </td><td> 219</td></tr>\n",
              "\t<tr><th scope=row>41</th><td>South Carolina      </td><td> 207</td></tr>\n",
              "\t<tr><th scope=row>15</th><td>Indiana             </td><td> 142</td></tr>\n",
              "\t<tr><th scope=row>1</th><td>Alabama             </td><td> 135</td></tr>\n",
              "\t<tr><th scope=row>25</th><td>Mississippi         </td><td> 120</td></tr>\n",
              "\t<tr><th scope=row>22</th><td>Massachusetts       </td><td> 118</td></tr>\n",
              "\t<tr><th scope=row>18</th><td>Kentucky            </td><td> 116</td></tr>\n",
              "\t<tr><th scope=row>37</th><td>Oklahoma            </td><td> 111</td></tr>\n",
              "\t<tr><th scope=row>9</th><td>District of Columbia</td><td>  99</td></tr>\n",
              "\t<tr><th scope=row>7</th><td>Connecticut         </td><td>  97</td></tr>\n",
              "\t<tr><th scope=row>50</th><td>Wisconsin           </td><td>  97</td></tr>\n",
              "\t<tr><th scope=row>4</th><td>Arkansas            </td><td>  93</td></tr>\n",
              "\t<tr><th scope=row>48</th><td>Washington          </td><td>  93</td></tr>\n",
              "\t<tr><th scope=row>29</th><td>Nevada              </td><td>  84</td></tr>\n",
              "\t<tr><th scope=row>32</th><td>New Mexico          </td><td>  67</td></tr>\n",
              "\t<tr><th scope=row>6</th><td>Colorado            </td><td>  65</td></tr>\n",
              "\t<tr><th scope=row>17</th><td>Kansas              </td><td>  63</td></tr>\n",
              "\t<tr><th scope=row>24</th><td>Minnesota           </td><td>  53</td></tr>\n",
              "\t<tr><th scope=row>8</th><td>Delaware            </td><td>  38</td></tr>\n",
              "\t<tr><th scope=row>38</th><td>Oregon              </td><td>  36</td></tr>\n",
              "\t<tr><th scope=row>28</th><td>Nebraska            </td><td>  32</td></tr>\n",
              "\t<tr><th scope=row>49</th><td>West Virginia       </td><td>  27</td></tr>\n",
              "\t<tr><th scope=row>45</th><td>Utah                </td><td>  22</td></tr>\n",
              "\t<tr><th scope=row>16</th><td>Iowa                </td><td>  21</td></tr>\n",
              "\t<tr><th scope=row>2</th><td>Alaska              </td><td>  19</td></tr>\n",
              "\t<tr><th scope=row>40</th><td>Rhode Island        </td><td>  16</td></tr>\n",
              "\t<tr><th scope=row>13</th><td>Idaho               </td><td>  12</td></tr>\n",
              "\t<tr><th scope=row>27</th><td>Montana             </td><td>  12</td></tr>\n",
              "\t<tr><th scope=row>20</th><td>Maine               </td><td>  11</td></tr>\n",
              "\t<tr><th scope=row>42</th><td>South Dakota        </td><td>   8</td></tr>\n",
              "\t<tr><th scope=row>12</th><td>Hawaii              </td><td>   7</td></tr>\n",
              "\t<tr><th scope=row>30</th><td>New Hampshire       </td><td>   5</td></tr>\n",
              "\t<tr><th scope=row>51</th><td>Wyoming             </td><td>   5</td></tr>\n",
              "\t<tr><th scope=row>35</th><td>North Dakota        </td><td>   4</td></tr>\n",
              "\t<tr><th scope=row>46</th><td>Vermont             </td><td>   2</td></tr>\n",
              "</tbody>\n",
              "</table>\n"
            ],
            "text/markdown": "\nA data.frame: 51 × 2\n\n| <!--/--> | state &lt;chr&gt; | total &lt;dbl&gt; |\n|---|---|---|\n| 5 | California           | 1257 |\n| 44 | Texas                |  805 |\n| 10 | Florida              |  669 |\n| 33 | New York             |  517 |\n| 39 | Pennsylvania         |  457 |\n| 23 | Michigan             |  413 |\n| 11 | Georgia              |  376 |\n| 14 | Illinois             |  364 |\n| 19 | Louisiana            |  351 |\n| 26 | Missouri             |  321 |\n| 36 | Ohio                 |  310 |\n| 21 | Maryland             |  293 |\n| 34 | North Carolina       |  286 |\n| 47 | Virginia             |  250 |\n| 31 | New Jersey           |  246 |\n| 3 | Arizona              |  232 |\n| 43 | Tennessee            |  219 |\n| 41 | South Carolina       |  207 |\n| 15 | Indiana              |  142 |\n| 1 | Alabama              |  135 |\n| 25 | Mississippi          |  120 |\n| 22 | Massachusetts        |  118 |\n| 18 | Kentucky             |  116 |\n| 37 | Oklahoma             |  111 |\n| 9 | District of Columbia |   99 |\n| 7 | Connecticut          |   97 |\n| 50 | Wisconsin            |   97 |\n| 4 | Arkansas             |   93 |\n| 48 | Washington           |   93 |\n| 29 | Nevada               |   84 |\n| 32 | New Mexico           |   67 |\n| 6 | Colorado             |   65 |\n| 17 | Kansas               |   63 |\n| 24 | Minnesota            |   53 |\n| 8 | Delaware             |   38 |\n| 38 | Oregon               |   36 |\n| 28 | Nebraska             |   32 |\n| 49 | West Virginia        |   27 |\n| 45 | Utah                 |   22 |\n| 16 | Iowa                 |   21 |\n| 2 | Alaska               |   19 |\n| 40 | Rhode Island         |   16 |\n| 13 | Idaho                |   12 |\n| 27 | Montana              |   12 |\n| 20 | Maine                |   11 |\n| 42 | South Dakota         |    8 |\n| 12 | Hawaii               |    7 |\n| 30 | New Hampshire        |    5 |\n| 51 | Wyoming              |    5 |\n| 35 | North Dakota         |    4 |\n| 46 | Vermont              |    2 |\n\n",
            "text/latex": "A data.frame: 51 × 2\n\\begin{tabular}{r|ll}\n  & state & total\\\\\n  & <chr> & <dbl>\\\\\n\\hline\n\t5 & California           & 1257\\\\\n\t44 & Texas                &  805\\\\\n\t10 & Florida              &  669\\\\\n\t33 & New York             &  517\\\\\n\t39 & Pennsylvania         &  457\\\\\n\t23 & Michigan             &  413\\\\\n\t11 & Georgia              &  376\\\\\n\t14 & Illinois             &  364\\\\\n\t19 & Louisiana            &  351\\\\\n\t26 & Missouri             &  321\\\\\n\t36 & Ohio                 &  310\\\\\n\t21 & Maryland             &  293\\\\\n\t34 & North Carolina       &  286\\\\\n\t47 & Virginia             &  250\\\\\n\t31 & New Jersey           &  246\\\\\n\t3 & Arizona              &  232\\\\\n\t43 & Tennessee            &  219\\\\\n\t41 & South Carolina       &  207\\\\\n\t15 & Indiana              &  142\\\\\n\t1 & Alabama              &  135\\\\\n\t25 & Mississippi          &  120\\\\\n\t22 & Massachusetts        &  118\\\\\n\t18 & Kentucky             &  116\\\\\n\t37 & Oklahoma             &  111\\\\\n\t9 & District of Columbia &   99\\\\\n\t7 & Connecticut          &   97\\\\\n\t50 & Wisconsin            &   97\\\\\n\t4 & Arkansas             &   93\\\\\n\t48 & Washington           &   93\\\\\n\t29 & Nevada               &   84\\\\\n\t32 & New Mexico           &   67\\\\\n\t6 & Colorado             &   65\\\\\n\t17 & Kansas               &   63\\\\\n\t24 & Minnesota            &   53\\\\\n\t8 & Delaware             &   38\\\\\n\t38 & Oregon               &   36\\\\\n\t28 & Nebraska             &   32\\\\\n\t49 & West Virginia        &   27\\\\\n\t45 & Utah                 &   22\\\\\n\t16 & Iowa                 &   21\\\\\n\t2 & Alaska               &   19\\\\\n\t40 & Rhode Island         &   16\\\\\n\t13 & Idaho                &   12\\\\\n\t27 & Montana              &   12\\\\\n\t20 & Maine                &   11\\\\\n\t42 & South Dakota         &    8\\\\\n\t12 & Hawaii               &    7\\\\\n\t30 & New Hampshire        &    5\\\\\n\t51 & Wyoming              &    5\\\\\n\t35 & North Dakota         &    4\\\\\n\t46 & Vermont              &    2\\\\\n\\end{tabular}\n",
            "text/plain": [
              "   state                total\n",
              "5  California           1257 \n",
              "44 Texas                 805 \n",
              "10 Florida               669 \n",
              "33 New York              517 \n",
              "39 Pennsylvania          457 \n",
              "23 Michigan              413 \n",
              "11 Georgia               376 \n",
              "14 Illinois              364 \n",
              "19 Louisiana             351 \n",
              "26 Missouri              321 \n",
              "36 Ohio                  310 \n",
              "21 Maryland              293 \n",
              "34 North Carolina        286 \n",
              "47 Virginia              250 \n",
              "31 New Jersey            246 \n",
              "3  Arizona               232 \n",
              "43 Tennessee             219 \n",
              "41 South Carolina        207 \n",
              "15 Indiana               142 \n",
              "1  Alabama               135 \n",
              "25 Mississippi           120 \n",
              "22 Massachusetts         118 \n",
              "18 Kentucky              116 \n",
              "37 Oklahoma              111 \n",
              "9  District of Columbia   99 \n",
              "7  Connecticut            97 \n",
              "50 Wisconsin              97 \n",
              "4  Arkansas               93 \n",
              "48 Washington             93 \n",
              "29 Nevada                 84 \n",
              "32 New Mexico             67 \n",
              "6  Colorado               65 \n",
              "17 Kansas                 63 \n",
              "24 Minnesota              53 \n",
              "8  Delaware               38 \n",
              "38 Oregon                 36 \n",
              "28 Nebraska               32 \n",
              "49 West Virginia          27 \n",
              "45 Utah                   22 \n",
              "16 Iowa                   21 \n",
              "2  Alaska                 19 \n",
              "40 Rhode Island           16 \n",
              "13 Idaho                  12 \n",
              "27 Montana                12 \n",
              "20 Maine                  11 \n",
              "42 South Dakota            8 \n",
              "12 Hawaii                  7 \n",
              "30 New Hampshire           5 \n",
              "51 Wyoming                 5 \n",
              "35 North Dakota            4 \n",
              "46 Vermont                 2 "
            ]
          },
          "metadata": {}
        }
      ]
    }
  ]
}