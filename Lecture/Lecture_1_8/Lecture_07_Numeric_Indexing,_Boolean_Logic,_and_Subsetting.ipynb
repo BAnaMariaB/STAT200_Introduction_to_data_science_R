{
  "nbformat": 4,
  "nbformat_minor": 0,
  "metadata": {
    "colab": {
      "provenance": [],
      "collapsed_sections": [
        "QdyJzDgAsFNZ"
      ]
    },
    "kernelspec": {
      "name": "ir",
      "display_name": "R"
    }
  },
  "cells": [
    {
      "cell_type": "markdown",
      "metadata": {
        "id": "gtETsh5j8vHw"
      },
      "source": [
        "# **Lecture 07 - Numeric Indexing, Boolean Logic, and Subsetting**\n",
        "\n",
        "---\n",
        "\n",
        "<br>"
      ]
    },
    {
      "cell_type": "markdown",
      "source": [
        "## Packages"
      ],
      "metadata": {
        "id": "QdyJzDgAsFNZ"
      }
    },
    {
      "cell_type": "code",
      "source": [
        "# install packages for today's lecture\n",
        "install.packages(\"dslabs\")"
      ],
      "metadata": {
        "id": "O-drIaQ-4cWQ",
        "colab": {
          "base_uri": "https://localhost:8080/"
        },
        "outputId": "8f32c535-0abd-42f1-d361-e707e3899c3d"
      },
      "execution_count": null,
      "outputs": [
        {
          "output_type": "stream",
          "name": "stderr",
          "text": [
            "Installing package into ‘/usr/local/lib/R/site-library’\n",
            "(as ‘lib’ is unspecified)\n",
            "\n"
          ]
        }
      ]
    },
    {
      "cell_type": "code",
      "source": [
        "# load the necessary packages\n",
        "library(dslabs)"
      ],
      "metadata": {
        "id": "fYGjK4oX4jSn"
      },
      "execution_count": null,
      "outputs": []
    },
    {
      "cell_type": "code",
      "source": [
        "# load murders dataset from the dslabs package\n",
        "data(murders)"
      ],
      "metadata": {
        "id": "-TCNpTzSAREP"
      },
      "execution_count": null,
      "outputs": []
    },
    {
      "cell_type": "code",
      "source": [
        "# view the first few lines\n",
        "head(murders)"
      ],
      "metadata": {
        "id": "FpQhat4LAVhA",
        "colab": {
          "base_uri": "https://localhost:8080/",
          "height": 286
        },
        "outputId": "94b1ceb7-3ceb-4a60-eb33-005f68cb4483"
      },
      "execution_count": null,
      "outputs": [
        {
          "output_type": "display_data",
          "data": {
            "text/html": [
              "<table class=\"dataframe\">\n",
              "<caption>A data.frame: 6 × 5</caption>\n",
              "<thead>\n",
              "\t<tr><th></th><th scope=col>state</th><th scope=col>abb</th><th scope=col>region</th><th scope=col>population</th><th scope=col>total</th></tr>\n",
              "\t<tr><th></th><th scope=col>&lt;chr&gt;</th><th scope=col>&lt;chr&gt;</th><th scope=col>&lt;fct&gt;</th><th scope=col>&lt;dbl&gt;</th><th scope=col>&lt;dbl&gt;</th></tr>\n",
              "</thead>\n",
              "<tbody>\n",
              "\t<tr><th scope=row>1</th><td>Alabama   </td><td>AL</td><td>South</td><td> 4779736</td><td> 135</td></tr>\n",
              "\t<tr><th scope=row>2</th><td>Alaska    </td><td>AK</td><td>West </td><td>  710231</td><td>  19</td></tr>\n",
              "\t<tr><th scope=row>3</th><td>Arizona   </td><td>AZ</td><td>West </td><td> 6392017</td><td> 232</td></tr>\n",
              "\t<tr><th scope=row>4</th><td>Arkansas  </td><td>AR</td><td>South</td><td> 2915918</td><td>  93</td></tr>\n",
              "\t<tr><th scope=row>5</th><td>California</td><td>CA</td><td>West </td><td>37253956</td><td>1257</td></tr>\n",
              "\t<tr><th scope=row>6</th><td>Colorado  </td><td>CO</td><td>West </td><td> 5029196</td><td>  65</td></tr>\n",
              "</tbody>\n",
              "</table>\n"
            ],
            "text/markdown": "\nA data.frame: 6 × 5\n\n| <!--/--> | state &lt;chr&gt; | abb &lt;chr&gt; | region &lt;fct&gt; | population &lt;dbl&gt; | total &lt;dbl&gt; |\n|---|---|---|---|---|---|\n| 1 | Alabama    | AL | South |  4779736 |  135 |\n| 2 | Alaska     | AK | West  |   710231 |   19 |\n| 3 | Arizona    | AZ | West  |  6392017 |  232 |\n| 4 | Arkansas   | AR | South |  2915918 |   93 |\n| 5 | California | CA | West  | 37253956 | 1257 |\n| 6 | Colorado   | CO | West  |  5029196 |   65 |\n\n",
            "text/latex": "A data.frame: 6 × 5\n\\begin{tabular}{r|lllll}\n  & state & abb & region & population & total\\\\\n  & <chr> & <chr> & <fct> & <dbl> & <dbl>\\\\\n\\hline\n\t1 & Alabama    & AL & South &  4779736 &  135\\\\\n\t2 & Alaska     & AK & West  &   710231 &   19\\\\\n\t3 & Arizona    & AZ & West  &  6392017 &  232\\\\\n\t4 & Arkansas   & AR & South &  2915918 &   93\\\\\n\t5 & California & CA & West  & 37253956 & 1257\\\\\n\t6 & Colorado   & CO & West  &  5029196 &   65\\\\\n\\end{tabular}\n",
            "text/plain": [
              "  state      abb region population total\n",
              "1 Alabama    AL  South   4779736    135 \n",
              "2 Alaska     AK  West     710231     19 \n",
              "3 Arizona    AZ  West    6392017    232 \n",
              "4 Arkansas   AR  South   2915918     93 \n",
              "5 California CA  West   37253956   1257 \n",
              "6 Colorado   CO  West    5029196     65 "
            ]
          },
          "metadata": {}
        }
      ]
    },
    {
      "cell_type": "markdown",
      "source": [
        "<br>\n",
        "\n",
        "<br>"
      ],
      "metadata": {
        "id": "5hXqBQkzhere"
      }
    },
    {
      "cell_type": "markdown",
      "source": [
        "---\n",
        "\n",
        "<br>"
      ],
      "metadata": {
        "id": "jFiNcIjpjFs7"
      }
    },
    {
      "cell_type": "markdown",
      "metadata": {
        "id": "zZzxYxtp9b9t"
      },
      "source": [
        "## Subsetting Data"
      ]
    },
    {
      "cell_type": "markdown",
      "source": [
        "Thus far, we have used descriptive statistics and data visualization to preliminarily explore our dataset.\n",
        "\n",
        "For example,\n",
        "\n",
        "* We can extract a single column from a data frame and compute the mean"
      ],
      "metadata": {
        "id": "tyQodhUig5Bd"
      }
    },
    {
      "cell_type": "code",
      "metadata": {
        "id": "Z60PpIfIeF4Z",
        "colab": {
          "base_uri": "https://localhost:8080/",
          "height": 34
        },
        "outputId": "ff529407-31fa-4715-ea09-8de5b5d6a5d9"
      },
      "source": [
        "# calculate average total murders across entire dataset\n",
        "mean(murders$total)"
      ],
      "execution_count": null,
      "outputs": [
        {
          "output_type": "display_data",
          "data": {
            "text/html": [
              "184.372549019608"
            ],
            "text/markdown": "184.372549019608",
            "text/latex": "184.372549019608",
            "text/plain": [
              "[1] 184.3725"
            ]
          },
          "metadata": {}
        }
      ]
    },
    {
      "cell_type": "markdown",
      "source": [
        "<br>"
      ],
      "metadata": {
        "id": "lOOaiSPEA5Fn"
      }
    },
    {
      "cell_type": "markdown",
      "source": [
        "* We can plot the relationship between two variables"
      ],
      "metadata": {
        "id": "oW9AfviJA4L5"
      }
    },
    {
      "cell_type": "code",
      "source": [
        "# plot a boxplot of total murders by region\n",
        "boxplot(murders$total ~ murders$region,\n",
        "        xlab = \"Region\", ylab = \"Total Murders\")"
      ],
      "metadata": {
        "id": "lSr_jbGptI4q",
        "colab": {
          "base_uri": "https://localhost:8080/",
          "height": 437
        },
        "outputId": "eb9882b6-e6fe-442d-9023-ec9c25df2257"
      },
      "execution_count": null,
      "outputs": [
        {
          "output_type": "display_data",
          "data": {
            "text/plain": [
              "plot without title"
            ],
            "image/png": "[encoded data removed]"
          },
          "metadata": {
            "image/png": {
              "width": 420,
              "height": 420
            }
          }
        }
      ]
    },
    {
      "cell_type": "markdown",
      "source": [
        "<br>\n",
        "\n",
        "<br>"
      ],
      "metadata": {
        "id": "ZzGuDSAxgsb2"
      }
    },
    {
      "cell_type": "markdown",
      "source": [
        "* But what if we’re only interested in a portion or “subset” of our data?\n",
        "\n",
        "* For example, what if we want to know the average number of murders in each region?\n",
        "\n",
        "* What if we only want to focus on the western region?\n",
        "\n",
        "* To do so, we must use ***“subsetting”***"
      ],
      "metadata": {
        "id": "wyiVzM4gt2b_"
      }
    },
    {
      "cell_type": "markdown",
      "source": [
        "<br>"
      ],
      "metadata": {
        "id": "SI6R_tiyBLj5"
      }
    },
    {
      "cell_type": "markdown",
      "source": [
        "* There are several approaches to subsetting data\n",
        "  * numeric-based subsetting\n",
        "  * Boolean-based subsetting\n",
        "  * subsetting using indexing functions [e.g., `which()`]\n",
        "  * subsetting by variable names\n",
        "\n",
        "<br>\n",
        "\n",
        "* In this lecture, we will cover\n",
        "  * numeric-based subsetting\n",
        "  * Boolean-based subsetting\n",
        "\n",
        "\n"
      ],
      "metadata": {
        "id": "UWrfL5QIBOmh"
      }
    },
    {
      "cell_type": "markdown",
      "source": [
        "<br>\n",
        "\n",
        "<br>"
      ],
      "metadata": {
        "id": "V2J8BW32Gajg"
      }
    },
    {
      "cell_type": "markdown",
      "source": [
        "---\n",
        "\n",
        "<br>"
      ],
      "metadata": {
        "id": "KM-c0VkOGajh"
      }
    },
    {
      "cell_type": "markdown",
      "metadata": {
        "id": "valqQ3ucGaji"
      },
      "source": [
        "## Numeric-based indexing"
      ]
    },
    {
      "cell_type": "markdown",
      "source": [
        "* The simplest form of subsetting is using indexing\n",
        "\n",
        "* Indexing simply pulls an entry from a vector or data frame using an index (a number specifying the location of a data entry)\n",
        "\n",
        "* The syntax for indexing is performed using\n",
        "  * square brackets `[]` for vectors\n",
        "  * square brackets with comma `[,]` for data frames"
      ],
      "metadata": {
        "id": "nPsdUfmYGiAA"
      }
    },
    {
      "cell_type": "markdown",
      "source": [
        "<br>"
      ],
      "metadata": {
        "id": "3wDieSGzIF-W"
      }
    },
    {
      "cell_type": "markdown",
      "metadata": {
        "id": "HrtQWdkdIFlV"
      },
      "source": [
        "## Numeric-based indexing - Vectors"
      ]
    },
    {
      "cell_type": "markdown",
      "source": [
        "\n",
        "* Consider the vector `total` from the `murders` data frame\n",
        "* We can subset the first value of a vector using indexing\n",
        "* Here, we simply specify `[1]` to extract the first entry"
      ],
      "metadata": {
        "id": "i1iam99CG4g8"
      }
    },
    {
      "cell_type": "markdown",
      "source": [
        "<br>"
      ],
      "metadata": {
        "id": "lUK4bhNNHer8"
      }
    },
    {
      "cell_type": "code",
      "source": [
        " # extract the first entry from the total column\n",
        " murders$total[1]"
      ],
      "metadata": {
        "colab": {
          "base_uri": "https://localhost:8080/",
          "height": 34
        },
        "id": "Sl5I6wQfHEtr",
        "outputId": "11eb9fd7-cb08-46b3-fbef-2f7088deaf6c"
      },
      "execution_count": null,
      "outputs": [
        {
          "output_type": "display_data",
          "data": {
            "text/html": [
              "135"
            ],
            "text/markdown": "135",
            "text/latex": "135",
            "text/plain": [
              "[1] 135"
            ]
          },
          "metadata": {}
        }
      ]
    },
    {
      "cell_type": "code",
      "source": [
        "# check our work\n",
        "head(murders)"
      ],
      "metadata": {
        "colab": {
          "base_uri": "https://localhost:8080/",
          "height": 286
        },
        "id": "JAuLIK5eHYko",
        "outputId": "91be94ef-201b-49a8-c501-e88523e59ae2"
      },
      "execution_count": null,
      "outputs": [
        {
          "output_type": "display_data",
          "data": {
            "text/html": [
              "<table class=\"dataframe\">\n",
              "<caption>A data.frame: 6 × 5</caption>\n",
              "<thead>\n",
              "\t<tr><th></th><th scope=col>state</th><th scope=col>abb</th><th scope=col>region</th><th scope=col>population</th><th scope=col>total</th></tr>\n",
              "\t<tr><th></th><th scope=col>&lt;chr&gt;</th><th scope=col>&lt;chr&gt;</th><th scope=col>&lt;fct&gt;</th><th scope=col>&lt;dbl&gt;</th><th scope=col>&lt;dbl&gt;</th></tr>\n",
              "</thead>\n",
              "<tbody>\n",
              "\t<tr><th scope=row>1</th><td>Alabama   </td><td>AL</td><td>South</td><td> 4779736</td><td> 135</td></tr>\n",
              "\t<tr><th scope=row>2</th><td>Alaska    </td><td>AK</td><td>West </td><td>  710231</td><td>  19</td></tr>\n",
              "\t<tr><th scope=row>3</th><td>Arizona   </td><td>AZ</td><td>West </td><td> 6392017</td><td> 232</td></tr>\n",
              "\t<tr><th scope=row>4</th><td>Arkansas  </td><td>AR</td><td>South</td><td> 2915918</td><td>  93</td></tr>\n",
              "\t<tr><th scope=row>5</th><td>California</td><td>CA</td><td>West </td><td>37253956</td><td>1257</td></tr>\n",
              "\t<tr><th scope=row>6</th><td>Colorado  </td><td>CO</td><td>West </td><td> 5029196</td><td>  65</td></tr>\n",
              "</tbody>\n",
              "</table>\n"
            ],
            "text/markdown": "\nA data.frame: 6 × 5\n\n| <!--/--> | state &lt;chr&gt; | abb &lt;chr&gt; | region &lt;fct&gt; | population &lt;dbl&gt; | total &lt;dbl&gt; |\n|---|---|---|---|---|---|\n| 1 | Alabama    | AL | South |  4779736 |  135 |\n| 2 | Alaska     | AK | West  |   710231 |   19 |\n| 3 | Arizona    | AZ | West  |  6392017 |  232 |\n| 4 | Arkansas   | AR | South |  2915918 |   93 |\n| 5 | California | CA | West  | 37253956 | 1257 |\n| 6 | Colorado   | CO | West  |  5029196 |   65 |\n\n",
            "text/latex": "A data.frame: 6 × 5\n\\begin{tabular}{r|lllll}\n  & state & abb & region & population & total\\\\\n  & <chr> & <chr> & <fct> & <dbl> & <dbl>\\\\\n\\hline\n\t1 & Alabama    & AL & South &  4779736 &  135\\\\\n\t2 & Alaska     & AK & West  &   710231 &   19\\\\\n\t3 & Arizona    & AZ & West  &  6392017 &  232\\\\\n\t4 & Arkansas   & AR & South &  2915918 &   93\\\\\n\t5 & California & CA & West  & 37253956 & 1257\\\\\n\t6 & Colorado   & CO & West  &  5029196 &   65\\\\\n\\end{tabular}\n",
            "text/plain": [
              "  state      abb region population total\n",
              "1 Alabama    AL  South   4779736    135 \n",
              "2 Alaska     AK  West     710231     19 \n",
              "3 Arizona    AZ  West    6392017    232 \n",
              "4 Arkansas   AR  South   2915918     93 \n",
              "5 California CA  West   37253956   1257 \n",
              "6 Colorado   CO  West    5029196     65 "
            ]
          },
          "metadata": {}
        }
      ]
    },
    {
      "cell_type": "markdown",
      "source": [
        "<br>"
      ],
      "metadata": {
        "id": "_igPifuEHl7U"
      }
    },
    {
      "cell_type": "markdown",
      "source": [
        "* We can extract multiple values at once\n",
        "* We do this by specifying a vector of indexes"
      ],
      "metadata": {
        "id": "kTiIHE84H771"
      }
    },
    {
      "cell_type": "code",
      "source": [
        "c(1, 3, nrow(murders))"
      ],
      "metadata": {
        "colab": {
          "base_uri": "https://localhost:8080/",
          "height": 34
        },
        "id": "uoPcQTFmzcat",
        "outputId": "82650453-c772-43b7-8ff6-fd2d01c82051"
      },
      "execution_count": null,
      "outputs": [
        {
          "output_type": "display_data",
          "data": {
            "text/html": [
              "<style>\n",
              ".list-inline {list-style: none; margin:0; padding: 0}\n",
              ".list-inline>li {display: inline-block}\n",
              ".list-inline>li:not(:last-child)::after {content: \"\\00b7\"; padding: 0 .5ex}\n",
              "</style>\n",
              "<ol class=list-inline><li>1</li><li>3</li><li>51</li></ol>\n"
            ],
            "text/markdown": "1. 1\n2. 3\n3. 51\n\n\n",
            "text/latex": "\\begin{enumerate*}\n\\item 1\n\\item 3\n\\item 51\n\\end{enumerate*}\n",
            "text/plain": [
              "[1]  1  3 51"
            ]
          },
          "metadata": {}
        }
      ]
    },
    {
      "cell_type": "code",
      "source": [
        " # extract the first, third, and last entry from the total column\n",
        " murders$total[c(1, 3, nrow(murders))]"
      ],
      "metadata": {
        "colab": {
          "base_uri": "https://localhost:8080/",
          "height": 34
        },
        "id": "J1tA9WaZHi9-",
        "outputId": "cd0058ea-4bfd-45cb-92f8-e7af1ef39cba"
      },
      "execution_count": null,
      "outputs": [
        {
          "output_type": "display_data",
          "data": {
            "text/html": [
              "<style>\n",
              ".list-inline {list-style: none; margin:0; padding: 0}\n",
              ".list-inline>li {display: inline-block}\n",
              ".list-inline>li:not(:last-child)::after {content: \"\\00b7\"; padding: 0 .5ex}\n",
              "</style>\n",
              "<ol class=list-inline><li>135</li><li>232</li><li>5</li></ol>\n"
            ],
            "text/markdown": "1. 135\n2. 232\n3. 5\n\n\n",
            "text/latex": "\\begin{enumerate*}\n\\item 135\n\\item 232\n\\item 5\n\\end{enumerate*}\n",
            "text/plain": [
              "[1] 135 232   5"
            ]
          },
          "metadata": {}
        }
      ]
    },
    {
      "cell_type": "code",
      "source": [
        "# check our work\n",
        "tail(murders)"
      ],
      "metadata": {
        "colab": {
          "base_uri": "https://localhost:8080/",
          "height": 286
        },
        "id": "v3OiorBdH0Ja",
        "outputId": "b4d5c243-2093-4e37-ff1d-b8b6c6e53e32"
      },
      "execution_count": null,
      "outputs": [
        {
          "output_type": "display_data",
          "data": {
            "text/html": [
              "<table class=\"dataframe\">\n",
              "<caption>A data.frame: 6 × 5</caption>\n",
              "<thead>\n",
              "\t<tr><th></th><th scope=col>state</th><th scope=col>abb</th><th scope=col>region</th><th scope=col>population</th><th scope=col>total</th></tr>\n",
              "\t<tr><th></th><th scope=col>&lt;chr&gt;</th><th scope=col>&lt;chr&gt;</th><th scope=col>&lt;fct&gt;</th><th scope=col>&lt;dbl&gt;</th><th scope=col>&lt;dbl&gt;</th></tr>\n",
              "</thead>\n",
              "<tbody>\n",
              "\t<tr><th scope=row>46</th><td>Vermont      </td><td>VT</td><td>Northeast    </td><td> 625741</td><td>  2</td></tr>\n",
              "\t<tr><th scope=row>47</th><td>Virginia     </td><td>VA</td><td>South        </td><td>8001024</td><td>250</td></tr>\n",
              "\t<tr><th scope=row>48</th><td>Washington   </td><td>WA</td><td>West         </td><td>6724540</td><td> 93</td></tr>\n",
              "\t<tr><th scope=row>49</th><td>West Virginia</td><td>WV</td><td>South        </td><td>1852994</td><td> 27</td></tr>\n",
              "\t<tr><th scope=row>50</th><td>Wisconsin    </td><td>WI</td><td>North Central</td><td>5686986</td><td> 97</td></tr>\n",
              "\t<tr><th scope=row>51</th><td>Wyoming      </td><td>WY</td><td>West         </td><td> 563626</td><td>  5</td></tr>\n",
              "</tbody>\n",
              "</table>\n"
            ],
            "text/markdown": "\nA data.frame: 6 × 5\n\n| <!--/--> | state &lt;chr&gt; | abb &lt;chr&gt; | region &lt;fct&gt; | population &lt;dbl&gt; | total &lt;dbl&gt; |\n|---|---|---|---|---|---|\n| 46 | Vermont       | VT | Northeast     |  625741 |   2 |\n| 47 | Virginia      | VA | South         | 8001024 | 250 |\n| 48 | Washington    | WA | West          | 6724540 |  93 |\n| 49 | West Virginia | WV | South         | 1852994 |  27 |\n| 50 | Wisconsin     | WI | North Central | 5686986 |  97 |\n| 51 | Wyoming       | WY | West          |  563626 |   5 |\n\n",
            "text/latex": "A data.frame: 6 × 5\n\\begin{tabular}{r|lllll}\n  & state & abb & region & population & total\\\\\n  & <chr> & <chr> & <fct> & <dbl> & <dbl>\\\\\n\\hline\n\t46 & Vermont       & VT & Northeast     &  625741 &   2\\\\\n\t47 & Virginia      & VA & South         & 8001024 & 250\\\\\n\t48 & Washington    & WA & West          & 6724540 &  93\\\\\n\t49 & West Virginia & WV & South         & 1852994 &  27\\\\\n\t50 & Wisconsin     & WI & North Central & 5686986 &  97\\\\\n\t51 & Wyoming       & WY & West          &  563626 &   5\\\\\n\\end{tabular}\n",
            "text/plain": [
              "   state         abb region        population total\n",
              "46 Vermont       VT  Northeast      625741      2  \n",
              "47 Virginia      VA  South         8001024    250  \n",
              "48 Washington    WA  West          6724540     93  \n",
              "49 West Virginia WV  South         1852994     27  \n",
              "50 Wisconsin     WI  North Central 5686986     97  \n",
              "51 Wyoming       WY  West           563626      5  "
            ]
          },
          "metadata": {}
        }
      ]
    },
    {
      "cell_type": "markdown",
      "source": [
        "<br>"
      ],
      "metadata": {
        "id": "6E4ZpX6-IPMa"
      }
    },
    {
      "cell_type": "markdown",
      "metadata": {
        "id": "JUftbX38IPMb"
      },
      "source": [
        "## Numeric-based indexing - Data Frames"
      ]
    },
    {
      "cell_type": "markdown",
      "source": [
        "\n",
        "* Indexing data frames are a bit more complicated\n",
        "* Since data frames have two dimensions, rows and columns, we must use the syntax `[row_indexes, column_indexes]`\n",
        "* Row indexes are specified to the ***left*** of the comma\n",
        "* Column indexes are specified to the ***right*** of the comma"
      ],
      "metadata": {
        "id": "lqxdrFn9IPMc"
      }
    },
    {
      "cell_type": "markdown",
      "source": [
        "<br>"
      ],
      "metadata": {
        "id": "BqElUl8hItxc"
      }
    },
    {
      "cell_type": "markdown",
      "source": [
        "* We can extract the first row of the `murders` data frame by including `[1,]` to the ***left*** of the comma\n",
        "* If we want all columns, we leave a blank to the right of the comma"
      ],
      "metadata": {
        "id": "h53R416hI-j0"
      }
    },
    {
      "cell_type": "code",
      "source": [
        "# extract the first row of the murders data frame\n",
        "murders[1, ]"
      ],
      "metadata": {
        "colab": {
          "base_uri": "https://localhost:8080/",
          "height": 129
        },
        "id": "cQmMQFkAIu5x",
        "outputId": "234754b3-072f-4fd1-a644-5252653932de"
      },
      "execution_count": null,
      "outputs": [
        {
          "output_type": "display_data",
          "data": {
            "text/html": [
              "<table class=\"dataframe\">\n",
              "<caption>A data.frame: 1 × 5</caption>\n",
              "<thead>\n",
              "\t<tr><th></th><th scope=col>state</th><th scope=col>abb</th><th scope=col>region</th><th scope=col>population</th><th scope=col>total</th></tr>\n",
              "\t<tr><th></th><th scope=col>&lt;chr&gt;</th><th scope=col>&lt;chr&gt;</th><th scope=col>&lt;fct&gt;</th><th scope=col>&lt;dbl&gt;</th><th scope=col>&lt;dbl&gt;</th></tr>\n",
              "</thead>\n",
              "<tbody>\n",
              "\t<tr><th scope=row>1</th><td>Alabama</td><td>AL</td><td>South</td><td>4779736</td><td>135</td></tr>\n",
              "</tbody>\n",
              "</table>\n"
            ],
            "text/markdown": "\nA data.frame: 1 × 5\n\n| <!--/--> | state &lt;chr&gt; | abb &lt;chr&gt; | region &lt;fct&gt; | population &lt;dbl&gt; | total &lt;dbl&gt; |\n|---|---|---|---|---|---|\n| 1 | Alabama | AL | South | 4779736 | 135 |\n\n",
            "text/latex": "A data.frame: 1 × 5\n\\begin{tabular}{r|lllll}\n  & state & abb & region & population & total\\\\\n  & <chr> & <chr> & <fct> & <dbl> & <dbl>\\\\\n\\hline\n\t1 & Alabama & AL & South & 4779736 & 135\\\\\n\\end{tabular}\n",
            "text/plain": [
              "  state   abb region population total\n",
              "1 Alabama AL  South  4779736    135  "
            ]
          },
          "metadata": {}
        }
      ]
    },
    {
      "cell_type": "markdown",
      "source": [
        "<br>"
      ],
      "metadata": {
        "id": "nYeqJuQHI3OQ"
      }
    },
    {
      "cell_type": "markdown",
      "source": [
        "* We can extract the first column of the `murders` data frame by including `[,1]` to the ***right*** of the comma\n",
        "* If we want all the rows, we leave a blank to the left of the comma"
      ],
      "metadata": {
        "id": "CYoURTS4JF9z"
      }
    },
    {
      "cell_type": "code",
      "source": [
        "# extract the first column of the murders data frame\n",
        "murders[, 1]"
      ],
      "metadata": {
        "id": "FnZkytTGI4Rt",
        "colab": {
          "base_uri": "https://localhost:8080/",
          "height": 86
        },
        "outputId": "5460a996-ceb5-487f-d664-d73b0e6e8097"
      },
      "execution_count": null,
      "outputs": [
        {
          "output_type": "display_data",
          "data": {
            "text/html": [
              "<style>\n",
              ".list-inline {list-style: none; margin:0; padding: 0}\n",
              ".list-inline>li {display: inline-block}\n",
              ".list-inline>li:not(:last-child)::after {content: \"\\00b7\"; padding: 0 .5ex}\n",
              "</style>\n",
              "<ol class=list-inline><li>'Alabama'</li><li>'Alaska'</li><li>'Arizona'</li><li>'Arkansas'</li><li>'California'</li><li>'Colorado'</li><li>'Connecticut'</li><li>'Delaware'</li><li>'District of Columbia'</li><li>'Florida'</li><li>'Georgia'</li><li>'Hawaii'</li><li>'Idaho'</li><li>'Illinois'</li><li>'Indiana'</li><li>'Iowa'</li><li>'Kansas'</li><li>'Kentucky'</li><li>'Louisiana'</li><li>'Maine'</li><li>'Maryland'</li><li>'Massachusetts'</li><li>'Michigan'</li><li>'Minnesota'</li><li>'Mississippi'</li><li>'Missouri'</li><li>'Montana'</li><li>'Nebraska'</li><li>'Nevada'</li><li>'New Hampshire'</li><li>'New Jersey'</li><li>'New Mexico'</li><li>'New York'</li><li>'North Carolina'</li><li>'North Dakota'</li><li>'Ohio'</li><li>'Oklahoma'</li><li>'Oregon'</li><li>'Pennsylvania'</li><li>'Rhode Island'</li><li>'South Carolina'</li><li>'South Dakota'</li><li>'Tennessee'</li><li>'Texas'</li><li>'Utah'</li><li>'Vermont'</li><li>'Virginia'</li><li>'Washington'</li><li>'West Virginia'</li><li>'Wisconsin'</li><li>'Wyoming'</li></ol>\n"
            ],
            "text/markdown": "1. 'Alabama'\n2. 'Alaska'\n3. 'Arizona'\n4. 'Arkansas'\n5. 'California'\n6. 'Colorado'\n7. 'Connecticut'\n8. 'Delaware'\n9. 'District of Columbia'\n10. 'Florida'\n11. 'Georgia'\n12. 'Hawaii'\n13. 'Idaho'\n14. 'Illinois'\n15. 'Indiana'\n16. 'Iowa'\n17. 'Kansas'\n18. 'Kentucky'\n19. 'Louisiana'\n20. 'Maine'\n21. 'Maryland'\n22. 'Massachusetts'\n23. 'Michigan'\n24. 'Minnesota'\n25. 'Mississippi'\n26. 'Missouri'\n27. 'Montana'\n28. 'Nebraska'\n29. 'Nevada'\n30. 'New Hampshire'\n31. 'New Jersey'\n32. 'New Mexico'\n33. 'New York'\n34. 'North Carolina'\n35. 'North Dakota'\n36. 'Ohio'\n37. 'Oklahoma'\n38. 'Oregon'\n39. 'Pennsylvania'\n40. 'Rhode Island'\n41. 'South Carolina'\n42. 'South Dakota'\n43. 'Tennessee'\n44. 'Texas'\n45. 'Utah'\n46. 'Vermont'\n47. 'Virginia'\n48. 'Washington'\n49. 'West Virginia'\n50. 'Wisconsin'\n51. 'Wyoming'\n\n\n",
            "text/latex": "\\begin{enumerate*}\n\\item 'Alabama'\n\\item 'Alaska'\n\\item 'Arizona'\n\\item 'Arkansas'\n\\item 'California'\n\\item 'Colorado'\n\\item 'Connecticut'\n\\item 'Delaware'\n\\item 'District of Columbia'\n\\item 'Florida'\n\\item 'Georgia'\n\\item 'Hawaii'\n\\item 'Idaho'\n\\item 'Illinois'\n\\item 'Indiana'\n\\item 'Iowa'\n\\item 'Kansas'\n\\item 'Kentucky'\n\\item 'Louisiana'\n\\item 'Maine'\n\\item 'Maryland'\n\\item 'Massachusetts'\n\\item 'Michigan'\n\\item 'Minnesota'\n\\item 'Mississippi'\n\\item 'Missouri'\n\\item 'Montana'\n\\item 'Nebraska'\n\\item 'Nevada'\n\\item 'New Hampshire'\n\\item 'New Jersey'\n\\item 'New Mexico'\n\\item 'New York'\n\\item 'North Carolina'\n\\item 'North Dakota'\n\\item 'Ohio'\n\\item 'Oklahoma'\n\\item 'Oregon'\n\\item 'Pennsylvania'\n\\item 'Rhode Island'\n\\item 'South Carolina'\n\\item 'South Dakota'\n\\item 'Tennessee'\n\\item 'Texas'\n\\item 'Utah'\n\\item 'Vermont'\n\\item 'Virginia'\n\\item 'Washington'\n\\item 'West Virginia'\n\\item 'Wisconsin'\n\\item 'Wyoming'\n\\end{enumerate*}\n",
            "text/plain": [
              " [1] \"Alabama\"              \"Alaska\"               \"Arizona\"             \n",
              " [4] \"Arkansas\"             \"California\"           \"Colorado\"            \n",
              " [7] \"Connecticut\"          \"Delaware\"             \"District of Columbia\"\n",
              "[10] \"Florida\"              \"Georgia\"              \"Hawaii\"              \n",
              "[13] \"Idaho\"                \"Illinois\"             \"Indiana\"             \n",
              "[16] \"Iowa\"                 \"Kansas\"               \"Kentucky\"            \n",
              "[19] \"Louisiana\"            \"Maine\"                \"Maryland\"            \n",
              "[22] \"Massachusetts\"        \"Michigan\"             \"Minnesota\"           \n",
              "[25] \"Mississippi\"          \"Missouri\"             \"Montana\"             \n",
              "[28] \"Nebraska\"             \"Nevada\"               \"New Hampshire\"       \n",
              "[31] \"New Jersey\"           \"New Mexico\"           \"New York\"            \n",
              "[34] \"North Carolina\"       \"North Dakota\"         \"Ohio\"                \n",
              "[37] \"Oklahoma\"             \"Oregon\"               \"Pennsylvania\"        \n",
              "[40] \"Rhode Island\"         \"South Carolina\"       \"South Dakota\"        \n",
              "[43] \"Tennessee\"            \"Texas\"                \"Utah\"                \n",
              "[46] \"Vermont\"              \"Virginia\"             \"Washington\"          \n",
              "[49] \"West Virginia\"        \"Wisconsin\"            \"Wyoming\"             "
            ]
          },
          "metadata": {}
        }
      ]
    },
    {
      "cell_type": "markdown",
      "source": [
        "<br>"
      ],
      "metadata": {
        "id": "Wf8ndQ4pJKYo"
      }
    },
    {
      "cell_type": "markdown",
      "source": [
        "* Indexing both rows and columns"
      ],
      "metadata": {
        "id": "LnYu02agJPer"
      }
    },
    {
      "cell_type": "code",
      "source": [
        "# to check our work...\n",
        "head(murders)"
      ],
      "metadata": {
        "colab": {
          "base_uri": "https://localhost:8080/",
          "height": 286
        },
        "id": "bc66ef3nJWnj",
        "outputId": "d7b89673-a9f7-4bd7-bb18-28e9592496da"
      },
      "execution_count": null,
      "outputs": [
        {
          "output_type": "display_data",
          "data": {
            "text/html": [
              "<table class=\"dataframe\">\n",
              "<caption>A data.frame: 6 × 5</caption>\n",
              "<thead>\n",
              "\t<tr><th></th><th scope=col>state</th><th scope=col>abb</th><th scope=col>region</th><th scope=col>population</th><th scope=col>total</th></tr>\n",
              "\t<tr><th></th><th scope=col>&lt;chr&gt;</th><th scope=col>&lt;chr&gt;</th><th scope=col>&lt;fct&gt;</th><th scope=col>&lt;dbl&gt;</th><th scope=col>&lt;dbl&gt;</th></tr>\n",
              "</thead>\n",
              "<tbody>\n",
              "\t<tr><th scope=row>1</th><td>Alabama   </td><td>AL</td><td>South</td><td> 4779736</td><td> 135</td></tr>\n",
              "\t<tr><th scope=row>2</th><td>Alaska    </td><td>AK</td><td>West </td><td>  710231</td><td>  19</td></tr>\n",
              "\t<tr><th scope=row>3</th><td>Arizona   </td><td>AZ</td><td>West </td><td> 6392017</td><td> 232</td></tr>\n",
              "\t<tr><th scope=row>4</th><td>Arkansas  </td><td>AR</td><td>South</td><td> 2915918</td><td>  93</td></tr>\n",
              "\t<tr><th scope=row>5</th><td>California</td><td>CA</td><td>West </td><td>37253956</td><td>1257</td></tr>\n",
              "\t<tr><th scope=row>6</th><td>Colorado  </td><td>CO</td><td>West </td><td> 5029196</td><td>  65</td></tr>\n",
              "</tbody>\n",
              "</table>\n"
            ],
            "text/markdown": "\nA data.frame: 6 × 5\n\n| <!--/--> | state &lt;chr&gt; | abb &lt;chr&gt; | region &lt;fct&gt; | population &lt;dbl&gt; | total &lt;dbl&gt; |\n|---|---|---|---|---|---|\n| 1 | Alabama    | AL | South |  4779736 |  135 |\n| 2 | Alaska     | AK | West  |   710231 |   19 |\n| 3 | Arizona    | AZ | West  |  6392017 |  232 |\n| 4 | Arkansas   | AR | South |  2915918 |   93 |\n| 5 | California | CA | West  | 37253956 | 1257 |\n| 6 | Colorado   | CO | West  |  5029196 |   65 |\n\n",
            "text/latex": "A data.frame: 6 × 5\n\\begin{tabular}{r|lllll}\n  & state & abb & region & population & total\\\\\n  & <chr> & <chr> & <fct> & <dbl> & <dbl>\\\\\n\\hline\n\t1 & Alabama    & AL & South &  4779736 &  135\\\\\n\t2 & Alaska     & AK & West  &   710231 &   19\\\\\n\t3 & Arizona    & AZ & West  &  6392017 &  232\\\\\n\t4 & Arkansas   & AR & South &  2915918 &   93\\\\\n\t5 & California & CA & West  & 37253956 & 1257\\\\\n\t6 & Colorado   & CO & West  &  5029196 &   65\\\\\n\\end{tabular}\n",
            "text/plain": [
              "  state      abb region population total\n",
              "1 Alabama    AL  South   4779736    135 \n",
              "2 Alaska     AK  West     710231     19 \n",
              "3 Arizona    AZ  West    6392017    232 \n",
              "4 Arkansas   AR  South   2915918     93 \n",
              "5 California CA  West   37253956   1257 \n",
              "6 Colorado   CO  West    5029196     65 "
            ]
          },
          "metadata": {}
        }
      ]
    },
    {
      "cell_type": "code",
      "source": [
        "# extract the first row and first column\n",
        "murders[1, 1]"
      ],
      "metadata": {
        "colab": {
          "base_uri": "https://localhost:8080/",
          "height": 34
        },
        "id": "Z2K07qZAJQAW",
        "outputId": "11c28c7b-0631-4e9f-91a1-0bd7c807aa2c"
      },
      "execution_count": null,
      "outputs": [
        {
          "output_type": "display_data",
          "data": {
            "text/html": [
              "'Alabama'"
            ],
            "text/markdown": "'Alabama'",
            "text/latex": "'Alabama'",
            "text/plain": [
              "[1] \"Alabama\""
            ]
          },
          "metadata": {}
        }
      ]
    },
    {
      "cell_type": "code",
      "source": [
        "# another way to extract the first row and first column\n",
        "murders$state[1]"
      ],
      "metadata": {
        "colab": {
          "base_uri": "https://localhost:8080/",
          "height": 34
        },
        "id": "R87ivDHq9BPt",
        "outputId": "2654b750-0a8c-41e7-df5b-2375891013c9"
      },
      "execution_count": null,
      "outputs": [
        {
          "output_type": "display_data",
          "data": {
            "text/html": [
              "'Alabama'"
            ],
            "text/markdown": "'Alabama'",
            "text/latex": "'Alabama'",
            "text/plain": [
              "[1] \"Alabama\""
            ]
          },
          "metadata": {}
        }
      ]
    },
    {
      "cell_type": "markdown",
      "source": [
        "<br>"
      ],
      "metadata": {
        "id": "jPxA1bge9IJP"
      }
    },
    {
      "cell_type": "code",
      "source": [
        "# extract the first row and third column\n",
        "murders[1, 3]"
      ],
      "metadata": {
        "colab": {
          "base_uri": "https://localhost:8080/",
          "height": 52
        },
        "id": "LQc2cAQjJaeX",
        "outputId": "78a0af61-8d0e-4271-e83b-c355681a9a26"
      },
      "execution_count": null,
      "outputs": [
        {
          "output_type": "display_data",
          "data": {
            "text/html": [
              "South\n",
              "<details>\n",
              "\t<summary style=display:list-item;cursor:pointer>\n",
              "\t\t<strong>Levels</strong>:\n",
              "\t</summary>\n",
              "\t<style>\n",
              "\t.list-inline {list-style: none; margin:0; padding: 0}\n",
              "\t.list-inline>li {display: inline-block}\n",
              "\t.list-inline>li:not(:last-child)::after {content: \"\\00b7\"; padding: 0 .5ex}\n",
              "\t</style>\n",
              "\t<ol class=list-inline><li>'Northeast'</li><li>'South'</li><li>'North Central'</li><li>'West'</li></ol>\n",
              "</details>"
            ],
            "text/markdown": "South\n**Levels**: 1. 'Northeast'\n2. 'South'\n3. 'North Central'\n4. 'West'\n\n\n",
            "text/latex": "South\n\\emph{Levels}: \\begin{enumerate*}\n\\item 'Northeast'\n\\item 'South'\n\\item 'North Central'\n\\item 'West'\n\\end{enumerate*}\n",
            "text/plain": [
              "[1] South\n",
              "Levels: Northeast South North Central West"
            ]
          },
          "metadata": {}
        }
      ]
    },
    {
      "cell_type": "code",
      "source": [
        "# another way to extract the first row and third column\n",
        "murders$region[1]"
      ],
      "metadata": {
        "id": "rGm70-6D9FPw"
      },
      "execution_count": null,
      "outputs": []
    },
    {
      "cell_type": "markdown",
      "source": [
        "<br>"
      ],
      "metadata": {
        "id": "tR-mqbbw9KQI"
      }
    },
    {
      "cell_type": "code",
      "source": [
        "# extract the fifth and sixth rows and first and third columns\n",
        "murders[c(5, 6), c(1, 3)]"
      ],
      "metadata": {
        "id": "vEe2wTWgJgC5",
        "colab": {
          "base_uri": "https://localhost:8080/",
          "height": 160
        },
        "outputId": "700187f8-a1b2-4f8c-940b-f044995ae1ec"
      },
      "execution_count": null,
      "outputs": [
        {
          "output_type": "display_data",
          "data": {
            "text/html": [
              "<table class=\"dataframe\">\n",
              "<caption>A data.frame: 2 × 2</caption>\n",
              "<thead>\n",
              "\t<tr><th></th><th scope=col>state</th><th scope=col>region</th></tr>\n",
              "\t<tr><th></th><th scope=col>&lt;chr&gt;</th><th scope=col>&lt;fct&gt;</th></tr>\n",
              "</thead>\n",
              "<tbody>\n",
              "\t<tr><th scope=row>5</th><td>California</td><td>West</td></tr>\n",
              "\t<tr><th scope=row>6</th><td>Colorado  </td><td>West</td></tr>\n",
              "</tbody>\n",
              "</table>\n"
            ],
            "text/markdown": "\nA data.frame: 2 × 2\n\n| <!--/--> | state &lt;chr&gt; | region &lt;fct&gt; |\n|---|---|---|\n| 5 | California | West |\n| 6 | Colorado   | West |\n\n",
            "text/latex": "A data.frame: 2 × 2\n\\begin{tabular}{r|ll}\n  & state & region\\\\\n  & <chr> & <fct>\\\\\n\\hline\n\t5 & California & West\\\\\n\t6 & Colorado   & West\\\\\n\\end{tabular}\n",
            "text/plain": [
              "  state      region\n",
              "5 California West  \n",
              "6 Colorado   West  "
            ]
          },
          "metadata": {}
        }
      ]
    },
    {
      "cell_type": "markdown",
      "source": [
        "<br>\n",
        "\n",
        "<br>"
      ],
      "metadata": {
        "id": "xMAH2v-EBov8"
      }
    },
    {
      "cell_type": "markdown",
      "source": [
        "---\n",
        "\n",
        "<br>"
      ],
      "metadata": {
        "id": "ShbSwbtFBteD"
      }
    },
    {
      "cell_type": "markdown",
      "metadata": {
        "id": "IouQACk2BteE"
      },
      "source": [
        "## Boolean Expressions"
      ]
    },
    {
      "cell_type": "markdown",
      "source": [
        "* Subsetting using numeric indexing is very useful, but there is a problem!\n",
        "\n",
        "* What if we don't know the indexes we need to subset?\n",
        "\n",
        "* For example, what if we only wanted rows from the western region?"
      ],
      "metadata": {
        "id": "30Ort3zYKFLN"
      }
    },
    {
      "cell_type": "markdown",
      "source": [
        "* We would need to determine which rows correspond to the states in the western region...\n",
        "\n",
        "* We can use Boolean-based subsetting for this purpose\n",
        "\n",
        "* But first, some background on Boolean expressions..."
      ],
      "metadata": {
        "id": "Pw_FDqxY9aKl"
      }
    },
    {
      "cell_type": "markdown",
      "source": [
        "<br>"
      ],
      "metadata": {
        "id": "5ioPnF9Rt3Qr"
      }
    },
    {
      "cell_type": "markdown",
      "source": [
        "\n",
        "### Background - Logical Data Type"
      ],
      "metadata": {
        "id": "wR1jAVnJgZxE"
      }
    },
    {
      "cell_type": "markdown",
      "source": [
        "* Boolean-based subsetting is performed using the logical data type"
      ],
      "metadata": {
        "id": "NlqO7m-su_ZR"
      }
    },
    {
      "cell_type": "markdown",
      "metadata": {
        "id": "vvUI57kMdUdn"
      },
      "source": [
        "* A variable of logical data type in R can be one of two values\n",
        "\n",
        "  *   `TRUE` or `FALSE`\n",
        "  *    `T` for `TRUE` or `F` for `FALSE`\n",
        "  *    `1` for `TRUE` or `0` for `FALSE`"
      ]
    },
    {
      "cell_type": "markdown",
      "source": [
        "<br>"
      ],
      "metadata": {
        "id": "W97m9fibEBFc"
      }
    },
    {
      "cell_type": "code",
      "metadata": {
        "id": "UrXhWckzDV0h"
      },
      "source": [
        "# logical variable\n",
        "my_true <- TRUE\n",
        "my_true"
      ],
      "execution_count": null,
      "outputs": []
    },
    {
      "cell_type": "markdown",
      "source": [
        "<br>"
      ],
      "metadata": {
        "id": "jKpNaEl-ECdY"
      }
    },
    {
      "cell_type": "code",
      "metadata": {
        "id": "f8L3La0L-gYa"
      },
      "source": [
        "my_false <- FALSE\n",
        "my_false"
      ],
      "execution_count": null,
      "outputs": []
    },
    {
      "cell_type": "markdown",
      "source": [
        "<br>\n",
        "\n",
        "<br>"
      ],
      "metadata": {
        "id": "NvB6bXNJEEEY"
      }
    },
    {
      "cell_type": "markdown",
      "metadata": {
        "id": "bAlhmtxaiMHz"
      },
      "source": [
        "### Background - Boolean Expressions\n",
        "\n"
      ]
    },
    {
      "cell_type": "markdown",
      "metadata": {
        "id": "p2nu8O0wiWT9"
      },
      "source": [
        "To perform Boolean subsetting...\n",
        "\n",
        "* We can compare quantities or character strings using Boolean expressions\n",
        "\n",
        "* The result of these expressions is a logical\n",
        "\n"
      ]
    },
    {
      "cell_type": "markdown",
      "metadata": {
        "id": "uK_aYSSJivMC"
      },
      "source": [
        "<br>"
      ]
    },
    {
      "cell_type": "markdown",
      "metadata": {
        "id": "VrqhNsxQited"
      },
      "source": [
        "* `==` determines if two quantities or character strings are equivalent\n",
        "\n"
      ]
    },
    {
      "cell_type": "code",
      "metadata": {
        "id": "5D-_btXJi1xj",
        "colab": {
          "base_uri": "https://localhost:8080/",
          "height": 34
        },
        "outputId": "8dde75e9-0420-44ec-8bf0-6027364ce03b"
      },
      "source": [
        "# Is 5 equal to 5?\n",
        "5 == 5"
      ],
      "execution_count": null,
      "outputs": [
        {
          "output_type": "display_data",
          "data": {
            "text/html": [
              "TRUE"
            ],
            "text/markdown": "TRUE",
            "text/latex": "TRUE",
            "text/plain": [
              "[1] TRUE"
            ]
          },
          "metadata": {}
        }
      ]
    },
    {
      "cell_type": "code",
      "metadata": {
        "id": "UExQayu3jF1X",
        "colab": {
          "base_uri": "https://localhost:8080/",
          "height": 34
        },
        "outputId": "514e2989-e045-43d8-da49-5221063a76f3"
      },
      "source": [
        "# Is 5 equal to 2 + 3?\n",
        "5 == 2 + 3"
      ],
      "execution_count": null,
      "outputs": [
        {
          "output_type": "display_data",
          "data": {
            "text/html": [
              "TRUE"
            ],
            "text/markdown": "TRUE",
            "text/latex": "TRUE",
            "text/plain": [
              "[1] TRUE"
            ]
          },
          "metadata": {}
        }
      ]
    },
    {
      "cell_type": "code",
      "metadata": {
        "id": "XYB8aZHVksbY",
        "colab": {
          "base_uri": "https://localhost:8080/",
          "height": 34
        },
        "outputId": "8d7aec55-09d6-46de-e629-85f3cd466e77"
      },
      "source": [
        "# Is 5 equal to 2 + 4?\n",
        "5 == 2 + 4"
      ],
      "execution_count": null,
      "outputs": [
        {
          "output_type": "display_data",
          "data": {
            "text/html": [
              "FALSE"
            ],
            "text/markdown": "FALSE",
            "text/latex": "FALSE",
            "text/plain": [
              "[1] FALSE"
            ]
          },
          "metadata": {}
        }
      ]
    },
    {
      "cell_type": "code",
      "metadata": {
        "id": "wDx1r8S9jJnX",
        "colab": {
          "base_uri": "https://localhost:8080/",
          "height": 34
        },
        "outputId": "57c8ed6d-7aaa-4b54-8c55-5218445acb6a"
      },
      "source": [
        "# comparing characters\n",
        "\"Hello\" == \"Hello\""
      ],
      "execution_count": null,
      "outputs": [
        {
          "output_type": "display_data",
          "data": {
            "text/html": [
              "TRUE"
            ],
            "text/markdown": "TRUE",
            "text/latex": "TRUE",
            "text/plain": [
              "[1] TRUE"
            ]
          },
          "metadata": {}
        }
      ]
    },
    {
      "cell_type": "code",
      "metadata": {
        "id": "Ko135uXYjNZ_",
        "colab": {
          "base_uri": "https://localhost:8080/",
          "height": 34
        },
        "outputId": "96d7e5e6-ac12-47dd-a356-f87b5ac2e455"
      },
      "source": [
        "# R does not understand semantic meaning!\n",
        "\"Hello\" == \"Hi\""
      ],
      "execution_count": null,
      "outputs": [
        {
          "output_type": "display_data",
          "data": {
            "text/html": [
              "FALSE"
            ],
            "text/markdown": "FALSE",
            "text/latex": "FALSE",
            "text/plain": [
              "[1] FALSE"
            ]
          },
          "metadata": {}
        }
      ]
    },
    {
      "cell_type": "markdown",
      "metadata": {
        "id": "CP5R-gP6iM_b"
      },
      "source": [
        "<br>"
      ]
    },
    {
      "cell_type": "markdown",
      "metadata": {
        "id": "cLaSlIsRFPYu"
      },
      "source": [
        "<br>"
      ]
    },
    {
      "cell_type": "markdown",
      "metadata": {
        "id": "zpm6lrJajR6K"
      },
      "source": [
        "* `!=` determines if two quantities or character strings are NOT equivalent\n",
        "\n"
      ]
    },
    {
      "cell_type": "code",
      "metadata": {
        "id": "fmyF15tZjW16",
        "colab": {
          "base_uri": "https://localhost:8080/",
          "height": 34
        },
        "outputId": "8df4d674-b718-4fb1-a24a-a4486a505c9c"
      },
      "source": [
        "# Is 5 NOT equal to 2 + 3?\n",
        "5 != 2 + 3"
      ],
      "execution_count": null,
      "outputs": [
        {
          "output_type": "display_data",
          "data": {
            "text/html": [
              "FALSE"
            ],
            "text/markdown": "FALSE",
            "text/latex": "FALSE",
            "text/plain": [
              "[1] FALSE"
            ]
          },
          "metadata": {}
        }
      ]
    },
    {
      "cell_type": "code",
      "metadata": {
        "id": "ecOUHR9Ek0_n",
        "colab": {
          "base_uri": "https://localhost:8080/",
          "height": 34
        },
        "outputId": "a97d6e71-8eea-412a-cbe5-729241d60687"
      },
      "source": [
        "# Is 5 NOT equal to 2 + 4?\n",
        "5 != 2 + 4"
      ],
      "execution_count": null,
      "outputs": [
        {
          "output_type": "display_data",
          "data": {
            "text/html": [
              "TRUE"
            ],
            "text/markdown": "TRUE",
            "text/latex": "TRUE",
            "text/plain": [
              "[1] TRUE"
            ]
          },
          "metadata": {}
        }
      ]
    },
    {
      "cell_type": "code",
      "metadata": {
        "id": "l8YmH5Awk7NL",
        "colab": {
          "base_uri": "https://localhost:8080/",
          "height": 34
        },
        "outputId": "c21cd1a7-9b06-40e4-8123-cabbaefd399c"
      },
      "source": [
        "# comparing characters\n",
        "\"Hello\" != \"Hello\""
      ],
      "execution_count": null,
      "outputs": [
        {
          "output_type": "display_data",
          "data": {
            "text/html": [
              "FALSE"
            ],
            "text/markdown": "FALSE",
            "text/latex": "FALSE",
            "text/plain": [
              "[1] FALSE"
            ]
          },
          "metadata": {}
        }
      ]
    },
    {
      "cell_type": "code",
      "metadata": {
        "id": "S8k1oaIGk3-n",
        "colab": {
          "base_uri": "https://localhost:8080/",
          "height": 34
        },
        "outputId": "1b73cf7e-ab79-48ca-a0e3-4482313258a4"
      },
      "source": [
        "\"Hello\" != \"Hi\""
      ],
      "execution_count": null,
      "outputs": [
        {
          "output_type": "display_data",
          "data": {
            "text/html": [
              "TRUE"
            ],
            "text/markdown": "TRUE",
            "text/latex": "TRUE",
            "text/plain": [
              "[1] TRUE"
            ]
          },
          "metadata": {}
        }
      ]
    },
    {
      "cell_type": "markdown",
      "metadata": {
        "id": "oIqC9fTmlErY"
      },
      "source": [
        "<br>"
      ]
    },
    {
      "cell_type": "markdown",
      "metadata": {
        "id": "AanlroWEFP0E"
      },
      "source": [
        "<br>"
      ]
    },
    {
      "cell_type": "markdown",
      "metadata": {
        "id": "3PBGkwZilEri"
      },
      "source": [
        "* `<` determines if one quantity is less than another\n",
        "* `<=` determines if one quantity is less than or equal to another\n",
        "* `>` determines if one quantity is greater than another\n",
        "* `>=` determines if one quantity is greater than or equal to another\n",
        "\n"
      ]
    },
    {
      "cell_type": "code",
      "metadata": {
        "id": "1HuU8HvUlErj",
        "colab": {
          "base_uri": "https://localhost:8080/",
          "height": 34
        },
        "outputId": "069156ad-4f84-4f14-d5e5-76f26b36704c"
      },
      "source": [
        "# Is 5 less than 5?\n",
        "5 < 5"
      ],
      "execution_count": null,
      "outputs": [
        {
          "output_type": "display_data",
          "data": {
            "text/html": [
              "FALSE"
            ],
            "text/markdown": "FALSE",
            "text/latex": "FALSE",
            "text/plain": [
              "[1] FALSE"
            ]
          },
          "metadata": {}
        }
      ]
    },
    {
      "cell_type": "code",
      "metadata": {
        "id": "3okGV7Uslsw7",
        "colab": {
          "base_uri": "https://localhost:8080/",
          "height": 34
        },
        "outputId": "9a45b9e5-a30a-4f84-c0f9-5a3070be389d"
      },
      "source": [
        "# Is 5 less than or equal to 5?\n",
        "5 <= 5"
      ],
      "execution_count": null,
      "outputs": [
        {
          "output_type": "display_data",
          "data": {
            "text/html": [
              "TRUE"
            ],
            "text/markdown": "TRUE",
            "text/latex": "TRUE",
            "text/plain": [
              "[1] TRUE"
            ]
          },
          "metadata": {}
        }
      ]
    },
    {
      "cell_type": "markdown",
      "source": [
        "<br>"
      ],
      "metadata": {
        "id": "o2I10PsGFatj"
      }
    },
    {
      "cell_type": "markdown",
      "source": [
        "* We can apply Boolean expressions and logic to vectors as well!"
      ],
      "metadata": {
        "id": "6Iu1wgS7FgCV"
      }
    },
    {
      "cell_type": "code",
      "source": [
        "# define a vector\n",
        "x <- c(1, 3, 5, 7, 9)"
      ],
      "metadata": {
        "id": "V3HVXrQ9Ft42",
        "colab": {
          "base_uri": "https://localhost:8080/",
          "height": 34
        },
        "outputId": "1fc59af7-738b-4fd8-c0d4-7a1e2cf9be2d"
      },
      "execution_count": null,
      "outputs": [
        {
          "output_type": "display_data",
          "data": {
            "text/html": [
              "<style>\n",
              ".list-inline {list-style: none; margin:0; padding: 0}\n",
              ".list-inline>li {display: inline-block}\n",
              ".list-inline>li:not(:last-child)::after {content: \"\\00b7\"; padding: 0 .5ex}\n",
              "</style>\n",
              "<ol class=list-inline><li>1</li><li>3</li><li>5</li><li>7</li><li>9</li></ol>\n"
            ],
            "text/markdown": "1. 1\n2. 3\n3. 5\n4. 7\n5. 9\n\n\n",
            "text/latex": "\\begin{enumerate*}\n\\item 1\n\\item 3\n\\item 5\n\\item 7\n\\item 9\n\\end{enumerate*}\n",
            "text/plain": [
              "[1] 1 3 5 7 9"
            ]
          },
          "metadata": {}
        }
      ]
    },
    {
      "cell_type": "markdown",
      "source": [
        "<br>"
      ],
      "metadata": {
        "id": "7dYm1dUwF2zL"
      }
    },
    {
      "cell_type": "markdown",
      "source": [
        "* Similar to the Boolean expressions above, we can compare a vector to a value\n",
        "* The expression below determines if each vector value is greater than 5"
      ],
      "metadata": {
        "id": "lO0L2lPFF4K3"
      }
    },
    {
      "cell_type": "code",
      "source": [
        "# determine which values of x are greater than 5\n",
        "x > 5"
      ],
      "metadata": {
        "id": "pgKYlJYpF4K4",
        "colab": {
          "base_uri": "https://localhost:8080/",
          "height": 34
        },
        "outputId": "15a50bdd-acd0-41e5-a5c8-89599ff763af"
      },
      "execution_count": null,
      "outputs": [
        {
          "output_type": "display_data",
          "data": {
            "text/html": [
              "<style>\n",
              ".list-inline {list-style: none; margin:0; padding: 0}\n",
              ".list-inline>li {display: inline-block}\n",
              ".list-inline>li:not(:last-child)::after {content: \"\\00b7\"; padding: 0 .5ex}\n",
              "</style>\n",
              "<ol class=list-inline><li>FALSE</li><li>FALSE</li><li>FALSE</li><li>TRUE</li><li>TRUE</li></ol>\n"
            ],
            "text/markdown": "1. FALSE\n2. FALSE\n3. FALSE\n4. TRUE\n5. TRUE\n\n\n",
            "text/latex": "\\begin{enumerate*}\n\\item FALSE\n\\item FALSE\n\\item FALSE\n\\item TRUE\n\\item TRUE\n\\end{enumerate*}\n",
            "text/plain": [
              "[1] FALSE FALSE FALSE  TRUE  TRUE"
            ]
          },
          "metadata": {}
        }
      ]
    },
    {
      "cell_type": "markdown",
      "source": [
        "<br>"
      ],
      "metadata": {
        "id": "EsuyFjIpGUa2"
      }
    },
    {
      "cell_type": "code",
      "source": [
        "# determine values that are equal to 9\n",
        "x == 9"
      ],
      "metadata": {
        "id": "9hcHRqlFGUa4",
        "colab": {
          "base_uri": "https://localhost:8080/",
          "height": 34
        },
        "outputId": "d30700cc-635c-4e53-97d5-e2410bdd4d95"
      },
      "execution_count": null,
      "outputs": [
        {
          "output_type": "display_data",
          "data": {
            "text/html": [
              "<style>\n",
              ".list-inline {list-style: none; margin:0; padding: 0}\n",
              ".list-inline>li {display: inline-block}\n",
              ".list-inline>li:not(:last-child)::after {content: \"\\00b7\"; padding: 0 .5ex}\n",
              "</style>\n",
              "<ol class=list-inline><li>FALSE</li><li>FALSE</li><li>FALSE</li><li>FALSE</li><li>TRUE</li></ol>\n"
            ],
            "text/markdown": "1. FALSE\n2. FALSE\n3. FALSE\n4. FALSE\n5. TRUE\n\n\n",
            "text/latex": "\\begin{enumerate*}\n\\item FALSE\n\\item FALSE\n\\item FALSE\n\\item FALSE\n\\item TRUE\n\\end{enumerate*}\n",
            "text/plain": [
              "[1] FALSE FALSE FALSE FALSE  TRUE"
            ]
          },
          "metadata": {}
        }
      ]
    },
    {
      "cell_type": "markdown",
      "source": [
        "<br>\n",
        "\n",
        "<br>"
      ],
      "metadata": {
        "id": "HU3cJJNeCsNh"
      }
    },
    {
      "cell_type": "markdown",
      "source": [
        "---\n",
        "\n",
        "<br>"
      ],
      "metadata": {
        "id": "g9gCWOxnFatl"
      }
    },
    {
      "cell_type": "markdown",
      "metadata": {
        "id": "GnxqYk6bFatm"
      },
      "source": [
        "## Boolean-based Subsetting - Vectors"
      ]
    },
    {
      "cell_type": "markdown",
      "source": [
        "* The result of logical comparisons with vectors results in another vector of Booleans/logicals\n",
        "\n",
        "* Boolean-based subsetting is similar to numeric-based indexing\n",
        "\n",
        "* We use the same `[]` syntax, except we subset using all of the `TRUE` values in the Boolean vector!"
      ],
      "metadata": {
        "id": "STnvu9z4Gy3-"
      }
    },
    {
      "cell_type": "markdown",
      "source": [
        "<br>"
      ],
      "metadata": {
        "id": "PmOtkGA0HNh7"
      }
    },
    {
      "cell_type": "markdown",
      "source": [
        "* From our prior example,"
      ],
      "metadata": {
        "id": "hHHHb6XDHd9N"
      }
    },
    {
      "cell_type": "code",
      "source": [
        "# define a vector\n",
        "x <- c(1, 3, 5, 7, 9)"
      ],
      "metadata": {
        "id": "DLDEJVQyHgoc"
      },
      "execution_count": null,
      "outputs": []
    },
    {
      "cell_type": "code",
      "source": [
        "# determine which values of x are greater than 5\n",
        "x > 5"
      ],
      "metadata": {
        "colab": {
          "base_uri": "https://localhost:8080/",
          "height": 34
        },
        "id": "SblNjlTkHjG2",
        "outputId": "2636310f-bfc3-4e3c-f42c-77e975e935dd"
      },
      "execution_count": null,
      "outputs": [
        {
          "output_type": "display_data",
          "data": {
            "text/html": [
              "<style>\n",
              ".list-inline {list-style: none; margin:0; padding: 0}\n",
              ".list-inline>li {display: inline-block}\n",
              ".list-inline>li:not(:last-child)::after {content: \"\\00b7\"; padding: 0 .5ex}\n",
              "</style>\n",
              "<ol class=list-inline><li>FALSE</li><li>FALSE</li><li>FALSE</li><li>TRUE</li><li>TRUE</li></ol>\n"
            ],
            "text/markdown": "1. FALSE\n2. FALSE\n3. FALSE\n4. TRUE\n5. TRUE\n\n\n",
            "text/latex": "\\begin{enumerate*}\n\\item FALSE\n\\item FALSE\n\\item FALSE\n\\item TRUE\n\\item TRUE\n\\end{enumerate*}\n",
            "text/plain": [
              "[1] FALSE FALSE FALSE  TRUE  TRUE"
            ]
          },
          "metadata": {}
        }
      ]
    },
    {
      "cell_type": "markdown",
      "source": [
        "<br>"
      ],
      "metadata": {
        "id": "ULgJMUFIHpYt"
      }
    },
    {
      "cell_type": "markdown",
      "source": [
        "* The following script extracts all entries of the vector `x` where the corresponding Boolean entry is `TRUE`\n",
        "* That is, where values in `x` are greater than 5"
      ],
      "metadata": {
        "id": "bfRuQaxhHqR9"
      }
    },
    {
      "cell_type": "code",
      "source": [
        "# subset using boolean vector\n",
        "x[x > 5]"
      ],
      "metadata": {
        "colab": {
          "base_uri": "https://localhost:8080/",
          "height": 34
        },
        "id": "1WhHOE7nHk5k",
        "outputId": "f9607494-0daf-4d09-cff4-f6ee3f1d405a"
      },
      "execution_count": null,
      "outputs": [
        {
          "output_type": "display_data",
          "data": {
            "text/html": [
              "<style>\n",
              ".list-inline {list-style: none; margin:0; padding: 0}\n",
              ".list-inline>li {display: inline-block}\n",
              ".list-inline>li:not(:last-child)::after {content: \"\\00b7\"; padding: 0 .5ex}\n",
              "</style>\n",
              "<ol class=list-inline><li>7</li><li>9</li></ol>\n"
            ],
            "text/markdown": "1. 7\n2. 9\n\n\n",
            "text/latex": "\\begin{enumerate*}\n\\item 7\n\\item 9\n\\end{enumerate*}\n",
            "text/plain": [
              "[1] 7 9"
            ]
          },
          "metadata": {}
        }
      ]
    },
    {
      "cell_type": "markdown",
      "source": [
        "<br>"
      ],
      "metadata": {
        "id": "D9tv8UY4H9LH"
      }
    },
    {
      "cell_type": "markdown",
      "source": [
        "* The following script extracts all entries of the vector `x` where values in `x` are equal to 9"
      ],
      "metadata": {
        "id": "qtnWppfyH9LI"
      }
    },
    {
      "cell_type": "code",
      "source": [
        "x == 9"
      ],
      "metadata": {
        "colab": {
          "base_uri": "https://localhost:8080/",
          "height": 34
        },
        "id": "hWtPQ7zw4FQD",
        "outputId": "f1e456e4-8e12-49b6-93e6-b7c40fa669ca"
      },
      "execution_count": null,
      "outputs": [
        {
          "output_type": "display_data",
          "data": {
            "text/html": [
              "<style>\n",
              ".list-inline {list-style: none; margin:0; padding: 0}\n",
              ".list-inline>li {display: inline-block}\n",
              ".list-inline>li:not(:last-child)::after {content: \"\\00b7\"; padding: 0 .5ex}\n",
              "</style>\n",
              "<ol class=list-inline><li>FALSE</li><li>FALSE</li><li>FALSE</li><li>FALSE</li><li>TRUE</li></ol>\n"
            ],
            "text/markdown": "1. FALSE\n2. FALSE\n3. FALSE\n4. FALSE\n5. TRUE\n\n\n",
            "text/latex": "\\begin{enumerate*}\n\\item FALSE\n\\item FALSE\n\\item FALSE\n\\item FALSE\n\\item TRUE\n\\end{enumerate*}\n",
            "text/plain": [
              "[1] FALSE FALSE FALSE FALSE  TRUE"
            ]
          },
          "metadata": {}
        }
      ]
    },
    {
      "cell_type": "code",
      "source": [
        "# subset using boolean vector\n",
        "x[x == 9]"
      ],
      "metadata": {
        "colab": {
          "base_uri": "https://localhost:8080/",
          "height": 34
        },
        "outputId": "17e46416-b3d2-4a07-cb2c-df2f1ee0f22e",
        "id": "wDx27VGRH9LJ"
      },
      "execution_count": null,
      "outputs": [
        {
          "output_type": "display_data",
          "data": {
            "text/html": [
              "9"
            ],
            "text/markdown": "9",
            "text/latex": "9",
            "text/plain": [
              "[1] 9"
            ]
          },
          "metadata": {}
        }
      ]
    },
    {
      "cell_type": "markdown",
      "source": [
        "<br>"
      ],
      "metadata": {
        "id": "OseQJtxJLCxm"
      }
    },
    {
      "cell_type": "markdown",
      "source": [
        "* Going back to our `murders` data frame, we can extract all entries from the western region"
      ],
      "metadata": {
        "id": "3fR-CqTWLCxo"
      }
    },
    {
      "cell_type": "code",
      "source": [
        "# select all states in the western region\n",
        "murders$region == \"West\""
      ],
      "metadata": {
        "colab": {
          "base_uri": "https://localhost:8080/",
          "height": 69
        },
        "outputId": "062c65de-97c0-43b9-8f5b-2f23d4852b34",
        "id": "iobfUgY4LCxo"
      },
      "execution_count": null,
      "outputs": [
        {
          "output_type": "display_data",
          "data": {
            "text/html": [
              "<style>\n",
              ".list-inline {list-style: none; margin:0; padding: 0}\n",
              ".list-inline>li {display: inline-block}\n",
              ".list-inline>li:not(:last-child)::after {content: \"\\00b7\"; padding: 0 .5ex}\n",
              "</style>\n",
              "<ol class=list-inline><li>FALSE</li><li>TRUE</li><li>TRUE</li><li>FALSE</li><li>TRUE</li><li>TRUE</li><li>FALSE</li><li>FALSE</li><li>FALSE</li><li>FALSE</li><li>FALSE</li><li>TRUE</li><li>TRUE</li><li>FALSE</li><li>FALSE</li><li>FALSE</li><li>FALSE</li><li>FALSE</li><li>FALSE</li><li>FALSE</li><li>FALSE</li><li>FALSE</li><li>FALSE</li><li>FALSE</li><li>FALSE</li><li>FALSE</li><li>TRUE</li><li>FALSE</li><li>TRUE</li><li>FALSE</li><li>FALSE</li><li>TRUE</li><li>FALSE</li><li>FALSE</li><li>FALSE</li><li>FALSE</li><li>FALSE</li><li>TRUE</li><li>FALSE</li><li>FALSE</li><li>FALSE</li><li>FALSE</li><li>FALSE</li><li>FALSE</li><li>TRUE</li><li>FALSE</li><li>FALSE</li><li>TRUE</li><li>FALSE</li><li>FALSE</li><li>TRUE</li></ol>\n"
            ],
            "text/markdown": "1. FALSE\n2. TRUE\n3. TRUE\n4. FALSE\n5. TRUE\n6. TRUE\n7. FALSE\n8. FALSE\n9. FALSE\n10. FALSE\n11. FALSE\n12. TRUE\n13. TRUE\n14. FALSE\n15. FALSE\n16. FALSE\n17. FALSE\n18. FALSE\n19. FALSE\n20. FALSE\n21. FALSE\n22. FALSE\n23. FALSE\n24. FALSE\n25. FALSE\n26. FALSE\n27. TRUE\n28. FALSE\n29. TRUE\n30. FALSE\n31. FALSE\n32. TRUE\n33. FALSE\n34. FALSE\n35. FALSE\n36. FALSE\n37. FALSE\n38. TRUE\n39. FALSE\n40. FALSE\n41. FALSE\n42. FALSE\n43. FALSE\n44. FALSE\n45. TRUE\n46. FALSE\n47. FALSE\n48. TRUE\n49. FALSE\n50. FALSE\n51. TRUE\n\n\n",
            "text/latex": "\\begin{enumerate*}\n\\item FALSE\n\\item TRUE\n\\item TRUE\n\\item FALSE\n\\item TRUE\n\\item TRUE\n\\item FALSE\n\\item FALSE\n\\item FALSE\n\\item FALSE\n\\item FALSE\n\\item TRUE\n\\item TRUE\n\\item FALSE\n\\item FALSE\n\\item FALSE\n\\item FALSE\n\\item FALSE\n\\item FALSE\n\\item FALSE\n\\item FALSE\n\\item FALSE\n\\item FALSE\n\\item FALSE\n\\item FALSE\n\\item FALSE\n\\item TRUE\n\\item FALSE\n\\item TRUE\n\\item FALSE\n\\item FALSE\n\\item TRUE\n\\item FALSE\n\\item FALSE\n\\item FALSE\n\\item FALSE\n\\item FALSE\n\\item TRUE\n\\item FALSE\n\\item FALSE\n\\item FALSE\n\\item FALSE\n\\item FALSE\n\\item FALSE\n\\item TRUE\n\\item FALSE\n\\item FALSE\n\\item TRUE\n\\item FALSE\n\\item FALSE\n\\item TRUE\n\\end{enumerate*}\n",
            "text/plain": [
              " [1] FALSE  TRUE  TRUE FALSE  TRUE  TRUE FALSE FALSE FALSE FALSE FALSE  TRUE\n",
              "[13]  TRUE FALSE FALSE FALSE FALSE FALSE FALSE FALSE FALSE FALSE FALSE FALSE\n",
              "[25] FALSE FALSE  TRUE FALSE  TRUE FALSE FALSE  TRUE FALSE FALSE FALSE FALSE\n",
              "[37] FALSE  TRUE FALSE FALSE FALSE FALSE FALSE FALSE  TRUE FALSE FALSE  TRUE\n",
              "[49] FALSE FALSE  TRUE"
            ]
          },
          "metadata": {}
        }
      ]
    },
    {
      "cell_type": "code",
      "source": [
        "# subset using boolean vector\n",
        "murders$region[murders$region == \"West\"]"
      ],
      "metadata": {
        "colab": {
          "base_uri": "https://localhost:8080/",
          "height": 52
        },
        "id": "bFupVtwqLIeE",
        "outputId": "27f35b3f-1763-4c60-9a0f-c7e933bd96c9"
      },
      "execution_count": null,
      "outputs": [
        {
          "output_type": "display_data",
          "data": {
            "text/html": [
              "<style>\n",
              ".list-inline {list-style: none; margin:0; padding: 0}\n",
              ".list-inline>li {display: inline-block}\n",
              ".list-inline>li:not(:last-child)::after {content: \"\\00b7\"; padding: 0 .5ex}\n",
              "</style>\n",
              "<ol class=list-inline><li>West</li><li>West</li><li>West</li><li>West</li><li>West</li><li>West</li><li>West</li><li>West</li><li>West</li><li>West</li><li>West</li><li>West</li><li>West</li></ol>\n",
              "\n",
              "<details>\n",
              "\t<summary style=display:list-item;cursor:pointer>\n",
              "\t\t<strong>Levels</strong>:\n",
              "\t</summary>\n",
              "\t<style>\n",
              "\t.list-inline {list-style: none; margin:0; padding: 0}\n",
              "\t.list-inline>li {display: inline-block}\n",
              "\t.list-inline>li:not(:last-child)::after {content: \"\\00b7\"; padding: 0 .5ex}\n",
              "\t</style>\n",
              "\t<ol class=list-inline><li>'Northeast'</li><li>'South'</li><li>'North Central'</li><li>'West'</li></ol>\n",
              "</details>"
            ],
            "text/markdown": "1. West\n2. West\n3. West\n4. West\n5. West\n6. West\n7. West\n8. West\n9. West\n10. West\n11. West\n12. West\n13. West\n\n\n\n**Levels**: 1. 'Northeast'\n2. 'South'\n3. 'North Central'\n4. 'West'\n\n\n",
            "text/latex": "\\begin{enumerate*}\n\\item West\n\\item West\n\\item West\n\\item West\n\\item West\n\\item West\n\\item West\n\\item West\n\\item West\n\\item West\n\\item West\n\\item West\n\\item West\n\\end{enumerate*}\n\n\\emph{Levels}: \\begin{enumerate*}\n\\item 'Northeast'\n\\item 'South'\n\\item 'North Central'\n\\item 'West'\n\\end{enumerate*}\n",
            "text/plain": [
              " [1] West West West West West West West West West West West West West\n",
              "Levels: Northeast South North Central West"
            ]
          },
          "metadata": {}
        }
      ]
    },
    {
      "cell_type": "markdown",
      "source": [
        "<br>"
      ],
      "metadata": {
        "id": "oro-wf9zLbiK"
      }
    },
    {
      "cell_type": "markdown",
      "source": [
        "* Boolean subsetting enables us to create Boolean expressions from one vector that subsets entries from another vector\n",
        "\n",
        "* This is the real power of Boolean subsetting!"
      ],
      "metadata": {
        "id": "cCTI1G2jLbiL"
      }
    },
    {
      "cell_type": "code",
      "source": [
        "# subset using boolean vector\n",
        "murders$total[murders$region == \"West\"]"
      ],
      "metadata": {
        "colab": {
          "base_uri": "https://localhost:8080/",
          "height": 34
        },
        "outputId": "35b2e286-b4a1-4183-e79c-765f3fa9bdd8",
        "id": "9Ha8b53jLbiL"
      },
      "execution_count": null,
      "outputs": [
        {
          "output_type": "display_data",
          "data": {
            "text/html": [
              "<style>\n",
              ".list-inline {list-style: none; margin:0; padding: 0}\n",
              ".list-inline>li {display: inline-block}\n",
              ".list-inline>li:not(:last-child)::after {content: \"\\00b7\"; padding: 0 .5ex}\n",
              "</style>\n",
              "<ol class=list-inline><li>19</li><li>232</li><li>1257</li><li>65</li><li>7</li><li>12</li><li>12</li><li>84</li><li>67</li><li>36</li><li>22</li><li>93</li><li>5</li></ol>\n"
            ],
            "text/markdown": "1. 19\n2. 232\n3. 1257\n4. 65\n5. 7\n6. 12\n7. 12\n8. 84\n9. 67\n10. 36\n11. 22\n12. 93\n13. 5\n\n\n",
            "text/latex": "\\begin{enumerate*}\n\\item 19\n\\item 232\n\\item 1257\n\\item 65\n\\item 7\n\\item 12\n\\item 12\n\\item 84\n\\item 67\n\\item 36\n\\item 22\n\\item 93\n\\item 5\n\\end{enumerate*}\n",
            "text/plain": [
              " [1]   19  232 1257   65    7   12   12   84   67   36   22   93    5"
            ]
          },
          "metadata": {}
        }
      ]
    },
    {
      "cell_type": "code",
      "source": [
        "# average total murders across states in the western region\n",
        "mean(murders$total[murders$region == \"West\"])"
      ],
      "metadata": {
        "colab": {
          "base_uri": "https://localhost:8080/",
          "height": 34
        },
        "id": "ro4GNPxQLtzo",
        "outputId": "c3be23b3-108c-406d-be6c-7c5218ce3fb8"
      },
      "execution_count": null,
      "outputs": [
        {
          "output_type": "display_data",
          "data": {
            "text/html": [
              "147"
            ],
            "text/markdown": "147",
            "text/latex": "147",
            "text/plain": [
              "[1] 147"
            ]
          },
          "metadata": {}
        }
      ]
    },
    {
      "cell_type": "markdown",
      "source": [
        "<br>\n",
        "\n",
        "<br>"
      ],
      "metadata": {
        "id": "jksAXnRZISA7"
      }
    },
    {
      "cell_type": "markdown",
      "source": [
        "---\n",
        "\n",
        "<br>"
      ],
      "metadata": {
        "id": "RES5otmeISA7"
      }
    },
    {
      "cell_type": "markdown",
      "metadata": {
        "id": "F9x4et91ISA8"
      },
      "source": [
        "## Boolean-based Subsetting - Data Frames"
      ]
    },
    {
      "cell_type": "markdown",
      "source": [
        "* Boolean-based subsetting for data frames in similar to numeric-based indexing for data frames\n",
        "\n",
        "* We use the same `[,]` syntax, except we subset using all of the `TRUE` values in the Boolean vector!"
      ],
      "metadata": {
        "id": "YoXmKKoPISA8"
      }
    },
    {
      "cell_type": "markdown",
      "source": [
        "<br>"
      ],
      "metadata": {
        "id": "fowLKvObISA8"
      }
    },
    {
      "cell_type": "markdown",
      "source": [
        "* Using the same Boolean vector from above, we can extract all rows in the `murders` data frame\n",
        "\n",
        "* Notice the `,` in the square brackets\n",
        "\n",
        "* We place the Boolean vector to the left of the comma to extract the rows"
      ],
      "metadata": {
        "id": "7Egk0Kq1Mvh7"
      }
    },
    {
      "cell_type": "code",
      "source": [
        "# subset all rows in western region\n",
        "murders[murders$region == \"West\", ]"
      ],
      "metadata": {
        "colab": {
          "base_uri": "https://localhost:8080/",
          "height": 505
        },
        "id": "NTCxEgmFM-eT",
        "outputId": "834490e8-6dd9-42f4-e91b-57790858f619"
      },
      "execution_count": null,
      "outputs": [
        {
          "output_type": "display_data",
          "data": {
            "text/html": [
              "<table class=\"dataframe\">\n",
              "<caption>A data.frame: 13 × 5</caption>\n",
              "<thead>\n",
              "\t<tr><th></th><th scope=col>state</th><th scope=col>abb</th><th scope=col>region</th><th scope=col>population</th><th scope=col>total</th></tr>\n",
              "\t<tr><th></th><th scope=col>&lt;chr&gt;</th><th scope=col>&lt;chr&gt;</th><th scope=col>&lt;fct&gt;</th><th scope=col>&lt;dbl&gt;</th><th scope=col>&lt;dbl&gt;</th></tr>\n",
              "</thead>\n",
              "<tbody>\n",
              "\t<tr><th scope=row>2</th><td>Alaska    </td><td>AK</td><td>West</td><td>  710231</td><td>  19</td></tr>\n",
              "\t<tr><th scope=row>3</th><td>Arizona   </td><td>AZ</td><td>West</td><td> 6392017</td><td> 232</td></tr>\n",
              "\t<tr><th scope=row>5</th><td>California</td><td>CA</td><td>West</td><td>37253956</td><td>1257</td></tr>\n",
              "\t<tr><th scope=row>6</th><td>Colorado  </td><td>CO</td><td>West</td><td> 5029196</td><td>  65</td></tr>\n",
              "\t<tr><th scope=row>12</th><td>Hawaii    </td><td>HI</td><td>West</td><td> 1360301</td><td>   7</td></tr>\n",
              "\t<tr><th scope=row>13</th><td>Idaho     </td><td>ID</td><td>West</td><td> 1567582</td><td>  12</td></tr>\n",
              "\t<tr><th scope=row>27</th><td>Montana   </td><td>MT</td><td>West</td><td>  989415</td><td>  12</td></tr>\n",
              "\t<tr><th scope=row>29</th><td>Nevada    </td><td>NV</td><td>West</td><td> 2700551</td><td>  84</td></tr>\n",
              "\t<tr><th scope=row>32</th><td>New Mexico</td><td>NM</td><td>West</td><td> 2059179</td><td>  67</td></tr>\n",
              "\t<tr><th scope=row>38</th><td>Oregon    </td><td>OR</td><td>West</td><td> 3831074</td><td>  36</td></tr>\n",
              "\t<tr><th scope=row>45</th><td>Utah      </td><td>UT</td><td>West</td><td> 2763885</td><td>  22</td></tr>\n",
              "\t<tr><th scope=row>48</th><td>Washington</td><td>WA</td><td>West</td><td> 6724540</td><td>  93</td></tr>\n",
              "\t<tr><th scope=row>51</th><td>Wyoming   </td><td>WY</td><td>West</td><td>  563626</td><td>   5</td></tr>\n",
              "</tbody>\n",
              "</table>\n"
            ],
            "text/markdown": "\nA data.frame: 13 × 5\n\n| <!--/--> | state &lt;chr&gt; | abb &lt;chr&gt; | region &lt;fct&gt; | population &lt;dbl&gt; | total &lt;dbl&gt; |\n|---|---|---|---|---|---|\n| 2 | Alaska     | AK | West |   710231 |   19 |\n| 3 | Arizona    | AZ | West |  6392017 |  232 |\n| 5 | California | CA | West | 37253956 | 1257 |\n| 6 | Colorado   | CO | West |  5029196 |   65 |\n| 12 | Hawaii     | HI | West |  1360301 |    7 |\n| 13 | Idaho      | ID | West |  1567582 |   12 |\n| 27 | Montana    | MT | West |   989415 |   12 |\n| 29 | Nevada     | NV | West |  2700551 |   84 |\n| 32 | New Mexico | NM | West |  2059179 |   67 |\n| 38 | Oregon     | OR | West |  3831074 |   36 |\n| 45 | Utah       | UT | West |  2763885 |   22 |\n| 48 | Washington | WA | West |  6724540 |   93 |\n| 51 | Wyoming    | WY | West |   563626 |    5 |\n\n",
            "text/latex": "A data.frame: 13 × 5\n\\begin{tabular}{r|lllll}\n  & state & abb & region & population & total\\\\\n  & <chr> & <chr> & <fct> & <dbl> & <dbl>\\\\\n\\hline\n\t2 & Alaska     & AK & West &   710231 &   19\\\\\n\t3 & Arizona    & AZ & West &  6392017 &  232\\\\\n\t5 & California & CA & West & 37253956 & 1257\\\\\n\t6 & Colorado   & CO & West &  5029196 &   65\\\\\n\t12 & Hawaii     & HI & West &  1360301 &    7\\\\\n\t13 & Idaho      & ID & West &  1567582 &   12\\\\\n\t27 & Montana    & MT & West &   989415 &   12\\\\\n\t29 & Nevada     & NV & West &  2700551 &   84\\\\\n\t32 & New Mexico & NM & West &  2059179 &   67\\\\\n\t38 & Oregon     & OR & West &  3831074 &   36\\\\\n\t45 & Utah       & UT & West &  2763885 &   22\\\\\n\t48 & Washington & WA & West &  6724540 &   93\\\\\n\t51 & Wyoming    & WY & West &   563626 &    5\\\\\n\\end{tabular}\n",
            "text/plain": [
              "   state      abb region population total\n",
              "2  Alaska     AK  West     710231     19 \n",
              "3  Arizona    AZ  West    6392017    232 \n",
              "5  California CA  West   37253956   1257 \n",
              "6  Colorado   CO  West    5029196     65 \n",
              "12 Hawaii     HI  West    1360301      7 \n",
              "13 Idaho      ID  West    1567582     12 \n",
              "27 Montana    MT  West     989415     12 \n",
              "29 Nevada     NV  West    2700551     84 \n",
              "32 New Mexico NM  West    2059179     67 \n",
              "38 Oregon     OR  West    3831074     36 \n",
              "45 Utah       UT  West    2763885     22 \n",
              "48 Washington WA  West    6724540     93 \n",
              "51 Wyoming    WY  West     563626      5 "
            ]
          },
          "metadata": {}
        }
      ]
    },
    {
      "cell_type": "markdown",
      "source": [
        "<br>"
      ],
      "metadata": {
        "id": "Z7ImRYwJM_Kj"
      }
    },
    {
      "cell_type": "markdown",
      "source": [
        "* Since we extracted entire rows, the output above is another data frame!\n",
        "\n",
        "* This means we can extract columns as before"
      ],
      "metadata": {
        "id": "0zq6iU8LM_9W"
      }
    },
    {
      "cell_type": "code",
      "source": [
        "# output of boolean is a data frame\n",
        "class(murders[murders$region == \"West\", ])"
      ],
      "metadata": {
        "colab": {
          "base_uri": "https://localhost:8080/",
          "height": 34
        },
        "id": "rf2LGEcEN7u_",
        "outputId": "aeaa2341-7e6a-4804-8cdf-8abd445b2143"
      },
      "execution_count": null,
      "outputs": [
        {
          "output_type": "display_data",
          "data": {
            "text/html": [
              "'data.frame'"
            ],
            "text/markdown": "'data.frame'",
            "text/latex": "'data.frame'",
            "text/plain": [
              "[1] \"data.frame\""
            ]
          },
          "metadata": {}
        }
      ]
    },
    {
      "cell_type": "code",
      "source": [
        "# extract total murders across states in western region\n",
        "murders[murders$region == \"West\", 1]"
      ],
      "metadata": {
        "colab": {
          "base_uri": "https://localhost:8080/",
          "height": 34
        },
        "id": "9zASuVpIMs5t",
        "outputId": "ce4a5c19-2647-456d-b2d8-1eef59000a1c"
      },
      "execution_count": null,
      "outputs": [
        {
          "output_type": "display_data",
          "data": {
            "text/html": [
              "<style>\n",
              ".list-inline {list-style: none; margin:0; padding: 0}\n",
              ".list-inline>li {display: inline-block}\n",
              ".list-inline>li:not(:last-child)::after {content: \"\\00b7\"; padding: 0 .5ex}\n",
              "</style>\n",
              "<ol class=list-inline><li>'Alaska'</li><li>'Arizona'</li><li>'California'</li><li>'Colorado'</li><li>'Hawaii'</li><li>'Idaho'</li><li>'Montana'</li><li>'Nevada'</li><li>'New Mexico'</li><li>'Oregon'</li><li>'Utah'</li><li>'Washington'</li><li>'Wyoming'</li></ol>\n"
            ],
            "text/markdown": "1. 'Alaska'\n2. 'Arizona'\n3. 'California'\n4. 'Colorado'\n5. 'Hawaii'\n6. 'Idaho'\n7. 'Montana'\n8. 'Nevada'\n9. 'New Mexico'\n10. 'Oregon'\n11. 'Utah'\n12. 'Washington'\n13. 'Wyoming'\n\n\n",
            "text/latex": "\\begin{enumerate*}\n\\item 'Alaska'\n\\item 'Arizona'\n\\item 'California'\n\\item 'Colorado'\n\\item 'Hawaii'\n\\item 'Idaho'\n\\item 'Montana'\n\\item 'Nevada'\n\\item 'New Mexico'\n\\item 'Oregon'\n\\item 'Utah'\n\\item 'Washington'\n\\item 'Wyoming'\n\\end{enumerate*}\n",
            "text/plain": [
              " [1] \"Alaska\"     \"Arizona\"    \"California\" \"Colorado\"   \"Hawaii\"    \n",
              " [6] \"Idaho\"      \"Montana\"    \"Nevada\"     \"New Mexico\" \"Oregon\"    \n",
              "[11] \"Utah\"       \"Washington\" \"Wyoming\"   "
            ]
          },
          "metadata": {}
        }
      ]
    },
    {
      "cell_type": "code",
      "source": [
        "murders[murders$region == \"West\", ]$total"
      ],
      "metadata": {
        "colab": {
          "base_uri": "https://localhost:8080/",
          "height": 34
        },
        "id": "USDG_H9A5lHA",
        "outputId": "235dc15f-39aa-401a-a5ef-76f5f0f768ac"
      },
      "execution_count": null,
      "outputs": [
        {
          "output_type": "display_data",
          "data": {
            "text/html": [
              "<style>\n",
              ".list-inline {list-style: none; margin:0; padding: 0}\n",
              ".list-inline>li {display: inline-block}\n",
              ".list-inline>li:not(:last-child)::after {content: \"\\00b7\"; padding: 0 .5ex}\n",
              "</style>\n",
              "<ol class=list-inline><li>19</li><li>232</li><li>1257</li><li>65</li><li>7</li><li>12</li><li>12</li><li>84</li><li>67</li><li>36</li><li>22</li><li>93</li><li>5</li></ol>\n"
            ],
            "text/markdown": "1. 19\n2. 232\n3. 1257\n4. 65\n5. 7\n6. 12\n7. 12\n8. 84\n9. 67\n10. 36\n11. 22\n12. 93\n13. 5\n\n\n",
            "text/latex": "\\begin{enumerate*}\n\\item 19\n\\item 232\n\\item 1257\n\\item 65\n\\item 7\n\\item 12\n\\item 12\n\\item 84\n\\item 67\n\\item 36\n\\item 22\n\\item 93\n\\item 5\n\\end{enumerate*}\n",
            "text/plain": [
              " [1]   19  232 1257   65    7   12   12   84   67   36   22   93    5"
            ]
          },
          "metadata": {}
        }
      ]
    },
    {
      "cell_type": "markdown",
      "source": [
        "<br>\n",
        "\n",
        "<br>"
      ],
      "metadata": {
        "id": "Yz0RA5akOP_T"
      }
    },
    {
      "cell_type": "markdown",
      "source": [
        "---\n",
        "\n",
        "<br>"
      ],
      "metadata": {
        "id": "jbvKGx7iOP_U"
      }
    },
    {
      "cell_type": "markdown",
      "metadata": {
        "id": "hoREp6E-OP_V"
      },
      "source": [
        "## Boolean-based Subsetting - Examples"
      ]
    },
    {
      "cell_type": "markdown",
      "source": [
        "* There are many ways to do the same thing!"
      ],
      "metadata": {
        "id": "00KSE_ugOP_W"
      }
    },
    {
      "cell_type": "code",
      "source": [
        "# original example\n",
        "murders$total[murders$region == \"West\"]"
      ],
      "metadata": {
        "colab": {
          "base_uri": "https://localhost:8080/",
          "height": 34
        },
        "id": "p2FF8-7NOW6L",
        "outputId": "d4aa641a-0465-4282-ae75-69a2946426b0"
      },
      "execution_count": null,
      "outputs": [
        {
          "output_type": "display_data",
          "data": {
            "text/html": [
              "<style>\n",
              ".list-inline {list-style: none; margin:0; padding: 0}\n",
              ".list-inline>li {display: inline-block}\n",
              ".list-inline>li:not(:last-child)::after {content: \"\\00b7\"; padding: 0 .5ex}\n",
              "</style>\n",
              "<ol class=list-inline><li>19</li><li>232</li><li>1257</li><li>65</li><li>7</li><li>12</li><li>12</li><li>84</li><li>67</li><li>36</li><li>22</li><li>93</li><li>5</li></ol>\n"
            ],
            "text/markdown": "1. 19\n2. 232\n3. 1257\n4. 65\n5. 7\n6. 12\n7. 12\n8. 84\n9. 67\n10. 36\n11. 22\n12. 93\n13. 5\n\n\n",
            "text/latex": "\\begin{enumerate*}\n\\item 19\n\\item 232\n\\item 1257\n\\item 65\n\\item 7\n\\item 12\n\\item 12\n\\item 84\n\\item 67\n\\item 36\n\\item 22\n\\item 93\n\\item 5\n\\end{enumerate*}\n",
            "text/plain": [
              " [1]   19  232 1257   65    7   12   12   84   67   36   22   93    5"
            ]
          },
          "metadata": {}
        }
      ]
    },
    {
      "cell_type": "markdown",
      "source": [
        "<br>"
      ],
      "metadata": {
        "id": "GjHQYPeCO733"
      }
    },
    {
      "cell_type": "code",
      "source": [
        "# example on data frame\n",
        "murders[murders$region == \"West\", ]$total"
      ],
      "metadata": {
        "colab": {
          "base_uri": "https://localhost:8080/",
          "height": 34
        },
        "id": "GOyRC1ZwOZ7X",
        "outputId": "94906e54-1897-40e3-81a5-938ce21c94ea"
      },
      "execution_count": null,
      "outputs": [
        {
          "output_type": "display_data",
          "data": {
            "text/html": [
              "<style>\n",
              ".list-inline {list-style: none; margin:0; padding: 0}\n",
              ".list-inline>li {display: inline-block}\n",
              ".list-inline>li:not(:last-child)::after {content: \"\\00b7\"; padding: 0 .5ex}\n",
              "</style>\n",
              "<ol class=list-inline><li>19</li><li>232</li><li>1257</li><li>65</li><li>7</li><li>12</li><li>12</li><li>84</li><li>67</li><li>36</li><li>22</li><li>93</li><li>5</li></ol>\n"
            ],
            "text/markdown": "1. 19\n2. 232\n3. 1257\n4. 65\n5. 7\n6. 12\n7. 12\n8. 84\n9. 67\n10. 36\n11. 22\n12. 93\n13. 5\n\n\n",
            "text/latex": "\\begin{enumerate*}\n\\item 19\n\\item 232\n\\item 1257\n\\item 65\n\\item 7\n\\item 12\n\\item 12\n\\item 84\n\\item 67\n\\item 36\n\\item 22\n\\item 93\n\\item 5\n\\end{enumerate*}\n",
            "text/plain": [
              " [1]   19  232 1257   65    7   12   12   84   67   36   22   93    5"
            ]
          },
          "metadata": {}
        }
      ]
    },
    {
      "cell_type": "markdown",
      "source": [
        "<br>"
      ],
      "metadata": {
        "id": "BzPf08hrO98A"
      }
    },
    {
      "cell_type": "code",
      "source": [
        "# pulling the 5th column\n",
        "murders[murders$region == \"West\", 5]"
      ],
      "metadata": {
        "colab": {
          "base_uri": "https://localhost:8080/",
          "height": 34
        },
        "id": "h5l4IX34OdfZ",
        "outputId": "89511d8f-0391-4db7-de6d-0a8ee603551d"
      },
      "execution_count": null,
      "outputs": [
        {
          "output_type": "display_data",
          "data": {
            "text/html": [
              "<style>\n",
              ".list-inline {list-style: none; margin:0; padding: 0}\n",
              ".list-inline>li {display: inline-block}\n",
              ".list-inline>li:not(:last-child)::after {content: \"\\00b7\"; padding: 0 .5ex}\n",
              "</style>\n",
              "<ol class=list-inline><li>19</li><li>232</li><li>1257</li><li>65</li><li>7</li><li>12</li><li>12</li><li>84</li><li>67</li><li>36</li><li>22</li><li>93</li><li>5</li></ol>\n"
            ],
            "text/markdown": "1. 19\n2. 232\n3. 1257\n4. 65\n5. 7\n6. 12\n7. 12\n8. 84\n9. 67\n10. 36\n11. 22\n12. 93\n13. 5\n\n\n",
            "text/latex": "\\begin{enumerate*}\n\\item 19\n\\item 232\n\\item 1257\n\\item 65\n\\item 7\n\\item 12\n\\item 12\n\\item 84\n\\item 67\n\\item 36\n\\item 22\n\\item 93\n\\item 5\n\\end{enumerate*}\n",
            "text/plain": [
              " [1]   19  232 1257   65    7   12   12   84   67   36   22   93    5"
            ]
          },
          "metadata": {}
        }
      ]
    },
    {
      "cell_type": "markdown",
      "source": [
        "<br>"
      ],
      "metadata": {
        "id": "TsION2Y6O-V_"
      }
    },
    {
      "cell_type": "code",
      "source": [
        "# extract using column names\n",
        "murders[murders$region == \"West\", names(murders) == \"total\"]"
      ],
      "metadata": {
        "colab": {
          "base_uri": "https://localhost:8080/",
          "height": 34
        },
        "id": "XNrYmrBnOeJJ",
        "outputId": "c5143c72-eb79-49f8-e163-4bcbdab62309"
      },
      "execution_count": null,
      "outputs": [
        {
          "output_type": "display_data",
          "data": {
            "text/html": [
              "<style>\n",
              ".list-inline {list-style: none; margin:0; padding: 0}\n",
              ".list-inline>li {display: inline-block}\n",
              ".list-inline>li:not(:last-child)::after {content: \"\\00b7\"; padding: 0 .5ex}\n",
              "</style>\n",
              "<ol class=list-inline><li>19</li><li>232</li><li>1257</li><li>65</li><li>7</li><li>12</li><li>12</li><li>84</li><li>67</li><li>36</li><li>22</li><li>93</li><li>5</li></ol>\n"
            ],
            "text/markdown": "1. 19\n2. 232\n3. 1257\n4. 65\n5. 7\n6. 12\n7. 12\n8. 84\n9. 67\n10. 36\n11. 22\n12. 93\n13. 5\n\n\n",
            "text/latex": "\\begin{enumerate*}\n\\item 19\n\\item 232\n\\item 1257\n\\item 65\n\\item 7\n\\item 12\n\\item 12\n\\item 84\n\\item 67\n\\item 36\n\\item 22\n\\item 93\n\\item 5\n\\end{enumerate*}\n",
            "text/plain": [
              " [1]   19  232 1257   65    7   12   12   84   67   36   22   93    5"
            ]
          },
          "metadata": {}
        }
      ]
    },
    {
      "cell_type": "markdown",
      "source": [
        "<br>"
      ],
      "metadata": {
        "id": "g8z8WS_GO-8V"
      }
    },
    {
      "cell_type": "code",
      "source": [
        "# extract column first, then subset entries\n",
        "murders[,names(murders) == \"total\"][murders$region == \"West\"]"
      ],
      "metadata": {
        "colab": {
          "base_uri": "https://localhost:8080/",
          "height": 34
        },
        "id": "ZdxNxCXeOpDX",
        "outputId": "02d9e948-2df7-4f3e-aa50-e54e87d7e8cc"
      },
      "execution_count": null,
      "outputs": [
        {
          "output_type": "display_data",
          "data": {
            "text/html": [
              "<style>\n",
              ".list-inline {list-style: none; margin:0; padding: 0}\n",
              ".list-inline>li {display: inline-block}\n",
              ".list-inline>li:not(:last-child)::after {content: \"\\00b7\"; padding: 0 .5ex}\n",
              "</style>\n",
              "<ol class=list-inline><li>19</li><li>232</li><li>1257</li><li>65</li><li>7</li><li>12</li><li>12</li><li>84</li><li>67</li><li>36</li><li>22</li><li>93</li><li>5</li></ol>\n"
            ],
            "text/markdown": "1. 19\n2. 232\n3. 1257\n4. 65\n5. 7\n6. 12\n7. 12\n8. 84\n9. 67\n10. 36\n11. 22\n12. 93\n13. 5\n\n\n",
            "text/latex": "\\begin{enumerate*}\n\\item 19\n\\item 232\n\\item 1257\n\\item 65\n\\item 7\n\\item 12\n\\item 12\n\\item 84\n\\item 67\n\\item 36\n\\item 22\n\\item 93\n\\item 5\n\\end{enumerate*}\n",
            "text/plain": [
              " [1]   19  232 1257   65    7   12   12   84   67   36   22   93    5"
            ]
          },
          "metadata": {}
        }
      ]
    },
    {
      "cell_type": "markdown",
      "source": [
        "<br>"
      ],
      "metadata": {
        "id": "KLpgj3jrISA9"
      }
    },
    {
      "cell_type": "markdown",
      "source": [
        "<br>\n",
        "\n",
        "<br>"
      ],
      "metadata": {
        "id": "IIu2A_1JCv3l"
      }
    }
  ]
}