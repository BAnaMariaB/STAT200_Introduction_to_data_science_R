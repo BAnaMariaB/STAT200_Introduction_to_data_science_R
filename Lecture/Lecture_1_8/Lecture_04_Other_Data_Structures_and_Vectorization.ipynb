{
  "nbformat": 4,
  "nbformat_minor": 0,
  "metadata": {
    "colab": {
      "provenance": [],
      "collapsed_sections": [
        "QdyJzDgAsFNZ",
        "KgAhK9tntkvs",
        "d8VRZdaN6Lz2",
        "vLUPjM3j6RfO",
        "mMfxt4Azmaqu",
        "809tQAzTLtbf",
        "WmD73fnoOvQN",
        "8oTrhf5FO5A6"
      ]
    },
    "kernelspec": {
      "name": "ir",
      "display_name": "R"
    }
  },
  "cells": [
    {
      "cell_type": "markdown",
      "metadata": {
        "id": "gtETsh5j8vHw"
      },
      "source": [
        "# **Other Data Structures**\n",
        "\n",
        "---\n",
        "\n",
        "<br>"
      ]
    },
    {
      "cell_type": "markdown",
      "source": [
        "## Packages"
      ],
      "metadata": {
        "id": "QdyJzDgAsFNZ"
      }
    },
    {
      "cell_type": "code",
      "source": [
        "# install packages for today's lecture\n",
        "install.packages(\"dslabs\")"
      ],
      "metadata": {
        "id": "O-drIaQ-4cWQ"
      },
      "execution_count": null,
      "outputs": []
    },
    {
      "cell_type": "code",
      "source": [
        "# load the necessary packages\n",
        "library(dslabs)"
      ],
      "metadata": {
        "id": "fYGjK4oX4jSn"
      },
      "execution_count": null,
      "outputs": []
    },
    {
      "cell_type": "markdown",
      "source": [
        "<br>\n",
        "\n",
        "<br>\n",
        "\n"
      ],
      "metadata": {
        "id": "oQSTNN1_4o_b"
      }
    },
    {
      "cell_type": "markdown",
      "metadata": {
        "id": "KgAhK9tntkvs"
      },
      "source": [
        "## Data Structures"
      ]
    },
    {
      "cell_type": "markdown",
      "source": [
        "<br>"
      ],
      "metadata": {
        "id": "Ma-N5bBL2jy3"
      }
    },
    {
      "cell_type": "markdown",
      "source": [
        "* Data types can be considered the most basic form of data\n",
        "\n",
        "* A collection of data types form what we call a **data structure**\n",
        "\n",
        "* The `R` programming language has many data structures"
      ],
      "metadata": {
        "id": "Lwwjh_NR19if"
      }
    },
    {
      "cell_type": "markdown",
      "source": [
        "<br>"
      ],
      "metadata": {
        "id": "jAlJ_1sQ2guP"
      }
    },
    {
      "cell_type": "markdown",
      "source": [
        "* Data structures we covered previously are:\n",
        "  *  data frames\n",
        "  *  vectors"
      ],
      "metadata": {
        "id": "Qdye2IEJ2h9X"
      }
    },
    {
      "cell_type": "markdown",
      "source": [
        "* Today, we will cover the `factor` and `list` data structures\n",
        "  "
      ],
      "metadata": {
        "id": "qwZbt_cVD-YR"
      }
    },
    {
      "cell_type": "markdown",
      "source": [
        "<br>\n",
        "\n",
        "<br>"
      ],
      "metadata": {
        "id": "fO10JToh-GoB"
      }
    },
    {
      "cell_type": "markdown",
      "metadata": {
        "id": "d8VRZdaN6Lz2"
      },
      "source": [
        "### Factors"
      ]
    },
    {
      "cell_type": "markdown",
      "source": [
        "* Let's reacquaint ourselves with the `murders` data frame from the `dslabs` package"
      ],
      "metadata": {
        "id": "cPGyXEflt1yo"
      }
    },
    {
      "cell_type": "code",
      "source": [
        "# view first few lines\n",
        "head(murders)"
      ],
      "metadata": {
        "id": "ZzWMbtl6t_PE"
      },
      "execution_count": null,
      "outputs": []
    },
    {
      "cell_type": "code",
      "source": [
        "# view attributes of data frame\n",
        "str(murders)"
      ],
      "metadata": {
        "id": "Qwz97ArhEg-Z"
      },
      "execution_count": null,
      "outputs": []
    },
    {
      "cell_type": "markdown",
      "source": [
        "<br>"
      ],
      "metadata": {
        "id": "jrgE-BljuGZg"
      }
    },
    {
      "cell_type": "markdown",
      "source": [
        "* From the output above, notice that the `region` column is a `factor` class"
      ],
      "metadata": {
        "id": "ZdO8wx7IE9IU"
      }
    },
    {
      "cell_type": "markdown",
      "source": [
        "<br>"
      ],
      "metadata": {
        "id": "OPRMtXnRuOfq"
      }
    },
    {
      "cell_type": "code",
      "source": [
        "# confirm the class of the region variable\n",
        "class(murders$region)"
      ],
      "metadata": {
        "id": "HVMrEw8gFazP"
      },
      "execution_count": null,
      "outputs": []
    },
    {
      "cell_type": "markdown",
      "source": [
        "<br>\n",
        "\n",
        "<br>"
      ],
      "metadata": {
        "id": "qHHEsP9KFh09"
      }
    },
    {
      "cell_type": "markdown",
      "source": [
        "* Although factors appear similar to character vectors, they are not programmatically the same\n",
        "\n",
        "* Factors are useful for storing categorical data (i.e. data that can be partitioned into distinct groups)\n",
        "\n",
        "* Think of factors as categorical variables"
      ],
      "metadata": {
        "id": "OqIXaSJJGMqb"
      }
    },
    {
      "cell_type": "markdown",
      "source": [
        "<br>"
      ],
      "metadata": {
        "id": "WnJCwvDfuU2X"
      }
    },
    {
      "cell_type": "markdown",
      "source": [
        "* For example, each observation (row) of the `murders` dataframe can be placed in a `region` category\n",
        "  * Northeast\n",
        "  * South\n",
        "  * North Central\n",
        "  * West\n",
        "\n",
        "* In `R`, categories of a `factor` are called \"levels\""
      ],
      "metadata": {
        "id": "K4G_WVFfHECw"
      }
    },
    {
      "cell_type": "markdown",
      "source": [
        "<br>"
      ],
      "metadata": {
        "id": "K6grsEWVuX-3"
      }
    },
    {
      "cell_type": "markdown",
      "source": [
        "* The colab interface allows you to view the levels of a variable"
      ],
      "metadata": {
        "id": "KdApmDE-FaoJ"
      }
    },
    {
      "cell_type": "code",
      "source": [
        "murders$region"
      ],
      "metadata": {
        "id": "bi0dJ63XG9Xa"
      },
      "execution_count": null,
      "outputs": []
    },
    {
      "cell_type": "markdown",
      "source": [
        "<br>"
      ],
      "metadata": {
        "id": "_sz3TKMvHL3x"
      }
    },
    {
      "cell_type": "markdown",
      "source": [
        "#### `levels()`"
      ],
      "metadata": {
        "id": "AG4p2fAFuema"
      }
    },
    {
      "cell_type": "markdown",
      "source": [
        "* We can list  the unique categories of a `factor` using the `levels()` function"
      ],
      "metadata": {
        "id": "jKTbgja2HNNY"
      }
    },
    {
      "cell_type": "code",
      "source": [
        "# list levels of the region factor\n",
        "levels(murders$region)"
      ],
      "metadata": {
        "id": "djRsPjsmHNGg"
      },
      "execution_count": null,
      "outputs": []
    },
    {
      "cell_type": "markdown",
      "source": [
        "<br>\n",
        "\n",
        "<br>"
      ],
      "metadata": {
        "id": "UZtGjN056Lz3"
      }
    },
    {
      "cell_type": "markdown",
      "source": [
        "#### Change the names factor levels"
      ],
      "metadata": {
        "id": "LVi8-M2EF0gN"
      }
    },
    {
      "cell_type": "markdown",
      "source": [
        "* You can also change the names of the unique categories (i.e. levels)\n",
        "\n",
        "* Simply create a character vector of your desired category names and overwrite the levels"
      ],
      "metadata": {
        "id": "gqLn7QFrF0gb"
      }
    },
    {
      "cell_type": "code",
      "source": [
        "# view levels of the region variable\n",
        "levels(murders$region)"
      ],
      "metadata": {
        "id": "e8S2UDXGGa6I"
      },
      "execution_count": null,
      "outputs": []
    },
    {
      "cell_type": "code",
      "source": [
        "# create new names for the levels\n",
        "levels(murders$region) <- c(\"NE\", \"S\", \"NC\", \"W\")"
      ],
      "metadata": {
        "id": "AI95_C_bF0gc"
      },
      "execution_count": null,
      "outputs": []
    },
    {
      "cell_type": "code",
      "source": [
        "# check our work\n",
        "head(murders)"
      ],
      "metadata": {
        "id": "TigfttZCGoBi"
      },
      "execution_count": null,
      "outputs": []
    },
    {
      "cell_type": "markdown",
      "source": [
        "<br>\n",
        "\n",
        "<br>"
      ],
      "metadata": {
        "id": "vZm6KXpLGzHI"
      }
    },
    {
      "cell_type": "markdown",
      "source": [
        "#### `table()`"
      ],
      "metadata": {
        "id": "DWCAF5RZGzHC"
      }
    },
    {
      "cell_type": "markdown",
      "source": [
        "* The function `table()` counts the occurence of each category in a factor"
      ],
      "metadata": {
        "id": "ocnds4RnGzHI"
      }
    },
    {
      "cell_type": "code",
      "source": [
        "# apply table() to the region variable\n",
        "table(murders$region)"
      ],
      "metadata": {
        "id": "1-FufT7uGzHI"
      },
      "execution_count": null,
      "outputs": []
    },
    {
      "cell_type": "markdown",
      "source": [
        "<br>"
      ],
      "metadata": {
        "id": "BB-oj3hhHUhH"
      }
    },
    {
      "cell_type": "markdown",
      "source": [
        "* The output of `table()` indicates there are\n",
        "  * 9 states in the northeast region category\n",
        "  * 17 states in the southern category\n",
        "  * 12 states in the north central category\n",
        "  * 13 states in the western category"
      ],
      "metadata": {
        "id": "WUOmgY4LHWpA"
      }
    },
    {
      "cell_type": "markdown",
      "source": [
        "<br>\n",
        "\n",
        "<br>"
      ],
      "metadata": {
        "id": "TSix-4UxF0gc"
      }
    },
    {
      "cell_type": "markdown",
      "source": [
        "#### `factor()`"
      ],
      "metadata": {
        "id": "VMiX1_tsHHf9"
      }
    },
    {
      "cell_type": "markdown",
      "source": [
        "* Note that factors have a preset ordering\n",
        "\n",
        "* For example the factor above shows `NE`, `S`, `NC`, and `W`"
      ],
      "metadata": {
        "id": "nMoklUE_HHgD"
      }
    },
    {
      "cell_type": "markdown",
      "source": [
        "<br>"
      ],
      "metadata": {
        "id": "BIbsEerNJMjC"
      }
    },
    {
      "cell_type": "markdown",
      "source": [
        "* The function `factor()` is useful for creating factor data structures and reordering the categories\n",
        "\n",
        "* This can be useful for data reporting where there is some ordering to the categories (e.g., age groups, education level, etc.)"
      ],
      "metadata": {
        "id": "j6SioAdFJNBm"
      }
    },
    {
      "cell_type": "markdown",
      "source": [
        "<br>"
      ],
      "metadata": {
        "id": "W03QTzH0JPii"
      }
    },
    {
      "cell_type": "code",
      "source": [
        "# reorder the levels of the region variable\n",
        "new_order <- c(\"W\", \"S\", \"NC\", \"NE\")\n",
        "murders$region <- factor(murders$region, new_order)"
      ],
      "metadata": {
        "id": "H0oItZB9HHgD"
      },
      "execution_count": null,
      "outputs": []
    },
    {
      "cell_type": "code",
      "source": [
        "# check our work\n",
        "murders$region"
      ],
      "metadata": {
        "id": "Uv0AP-VwJXW5"
      },
      "execution_count": null,
      "outputs": []
    },
    {
      "cell_type": "code",
      "source": [
        "# apply table() to the region variable with new ordering\n",
        "table(murders$region)"
      ],
      "metadata": {
        "id": "IuFLwVSM2tDh"
      },
      "execution_count": null,
      "outputs": []
    },
    {
      "cell_type": "markdown",
      "source": [
        "<br>\n",
        "\n",
        "<br>"
      ],
      "metadata": {
        "id": "G61ToOGeHHgD"
      }
    },
    {
      "cell_type": "markdown",
      "source": [
        "#### `as.factor()`"
      ],
      "metadata": {
        "id": "vJ5EwoyCJiKZ"
      }
    },
    {
      "cell_type": "markdown",
      "source": [
        "* When working with a new dataset, it is common to have `factor` variables in the `character` class\n",
        "\n",
        "* We can use the function `as.factor()` to convert these character variables into factors"
      ],
      "metadata": {
        "id": "9Ql8TXB4JiKh"
      }
    },
    {
      "cell_type": "markdown",
      "source": [
        "<br>"
      ],
      "metadata": {
        "id": "hjoTpdwlJiKi"
      }
    },
    {
      "cell_type": "code",
      "source": [
        "# convert the factor to a character using as.character()\n",
        "example <- as.character(murders$region)\n",
        "example"
      ],
      "metadata": {
        "id": "v8JuVveJJiKi"
      },
      "execution_count": null,
      "outputs": []
    },
    {
      "cell_type": "code",
      "source": [
        "class(example)"
      ],
      "metadata": {
        "id": "JMBFciYWJ6r-"
      },
      "execution_count": null,
      "outputs": []
    },
    {
      "cell_type": "markdown",
      "source": [
        "<br>"
      ],
      "metadata": {
        "id": "CXkvtuVaJ85X"
      }
    },
    {
      "cell_type": "code",
      "source": [
        "# convert the character vector back to a factor vector\n",
        "example <- as.factor(example)\n",
        "example"
      ],
      "metadata": {
        "id": "khobfNq7JiKi"
      },
      "execution_count": null,
      "outputs": []
    },
    {
      "cell_type": "code",
      "source": [
        "class(example)"
      ],
      "metadata": {
        "id": "5t89apaMKKkY"
      },
      "execution_count": null,
      "outputs": []
    },
    {
      "cell_type": "markdown",
      "source": [
        "<br>"
      ],
      "metadata": {
        "id": "gYeJKHbVKTwZ"
      }
    },
    {
      "cell_type": "markdown",
      "source": [
        "* Note that the levels have been reordered\n",
        "\n",
        "* You can repeat the reordering process to revert back to the order we desire"
      ],
      "metadata": {
        "id": "Qhqje_XdKMfg"
      }
    },
    {
      "cell_type": "code",
      "source": [
        "factor(murders$region, new_order)"
      ],
      "metadata": {
        "id": "2aAm4xNjKVyh"
      },
      "execution_count": null,
      "outputs": []
    },
    {
      "cell_type": "markdown",
      "source": [
        "<br>\n",
        "\n",
        "<br>"
      ],
      "metadata": {
        "id": "nXnnn2LAJiKi"
      }
    },
    {
      "cell_type": "markdown",
      "metadata": {
        "id": "vLUPjM3j6RfO"
      },
      "source": [
        "### Lists"
      ]
    },
    {
      "cell_type": "markdown",
      "source": [
        "* Data frames are a special kind of (structured) list\n",
        "  * Each variable in a dataframe is an item in the list\n",
        "  * ***Each list item must be the same length***\n",
        "\n",
        "* But what if we have list items of different lengths?\n",
        "\n",
        "* What if our list items aren't vectors? What if they are other lists? Matrices?\n",
        "\n",
        "* We can then use the (unstructured) `list` data structure"
      ],
      "metadata": {
        "id": "9_UiZzxNIs1x"
      }
    },
    {
      "cell_type": "markdown",
      "source": [
        "<br>"
      ],
      "metadata": {
        "id": "R4b9U-w3JYGx"
      }
    },
    {
      "cell_type": "markdown",
      "source": [
        "* Below is an example showing how to create an unstructured list using the `list()` function\n",
        "\n",
        "* Notice how the variables in the list do not need to be the same length or the same data structure"
      ],
      "metadata": {
        "id": "TGPu60ZEJZRl"
      }
    },
    {
      "cell_type": "code",
      "source": [
        "record <- list(name = \"John Doe\",\n",
        "               student_id = 1234,\n",
        "               grades = c(95, 82, 91, 97, 93),\n",
        "               final_grade = \"A\")"
      ],
      "metadata": {
        "id": "gdCjlYrpJW0t"
      },
      "execution_count": null,
      "outputs": []
    },
    {
      "cell_type": "code",
      "source": [
        "record"
      ],
      "metadata": {
        "id": "mkiiGC3WJwCR"
      },
      "execution_count": null,
      "outputs": []
    },
    {
      "cell_type": "markdown",
      "source": [
        "<br>"
      ],
      "metadata": {
        "id": "jxTVC3uDJ0G2"
      }
    },
    {
      "cell_type": "markdown",
      "source": [
        "* Similar to dataframes, we can extract items from a list using the `$` operator"
      ],
      "metadata": {
        "id": "PTQlK5YEJ0G3"
      }
    },
    {
      "cell_type": "code",
      "source": [
        "# extract grades from the record list\n",
        "record$grades"
      ],
      "metadata": {
        "id": "sDQL00GbJ0G3"
      },
      "execution_count": null,
      "outputs": []
    },
    {
      "cell_type": "markdown",
      "source": [
        "<br>"
      ],
      "metadata": {
        "id": "yD2vf7w7LKAP"
      }
    },
    {
      "cell_type": "markdown",
      "source": [
        "#### `names()`"
      ],
      "metadata": {
        "id": "qOW3xiqwLKAU"
      }
    },
    {
      "cell_type": "code",
      "source": [
        "# extract the list names\n",
        "names(record)"
      ],
      "metadata": {
        "id": "70Lb5UhiLKAV"
      },
      "execution_count": null,
      "outputs": []
    },
    {
      "cell_type": "markdown",
      "source": [
        "<br>"
      ],
      "metadata": {
        "id": "HYyR_92ZLY5-"
      }
    },
    {
      "cell_type": "markdown",
      "source": [
        "#### `length()`"
      ],
      "metadata": {
        "id": "zKbxNV-8LY6E"
      }
    },
    {
      "cell_type": "code",
      "source": [
        "# number of list items\n",
        "length(record)"
      ],
      "metadata": {
        "id": "KUhvJvniLY6E"
      },
      "execution_count": null,
      "outputs": []
    },
    {
      "cell_type": "markdown",
      "source": [
        "<br>"
      ],
      "metadata": {
        "id": "An6gLU7B5Szr"
      }
    },
    {
      "cell_type": "markdown",
      "source": [
        "#### `as.list()`"
      ],
      "metadata": {
        "id": "p8CXg70g5Szt"
      }
    },
    {
      "cell_type": "markdown",
      "source": [
        "* As mentioned earlier, data frames are structured lists\n",
        "* We can convert data frames to an unstructured list using the function `as.list()`"
      ],
      "metadata": {
        "id": "dNNgTZLQ5UzN"
      }
    },
    {
      "cell_type": "code",
      "source": [
        "# convert the murders data frame to an unstructured list\n",
        "murders_list <- as.list(murders)\n",
        "murders_list"
      ],
      "metadata": {
        "id": "OhjzLrQa5Ml4"
      },
      "execution_count": null,
      "outputs": []
    },
    {
      "cell_type": "markdown",
      "source": [
        "<br>"
      ],
      "metadata": {
        "id": "1EpDgWfJ5l4w"
      }
    },
    {
      "cell_type": "markdown",
      "source": [
        "* This conversion is useful if you would like to add list items\n",
        "* (Unstructured) list items do not need to be the same length or class!"
      ],
      "metadata": {
        "id": "asNXuMNd5mzf"
      }
    },
    {
      "cell_type": "code",
      "source": [
        "# add the indicator for country\n",
        "murders_list$country <- \"USA\"\n",
        "murders_list"
      ],
      "metadata": {
        "id": "93Jtd6aF52F4"
      },
      "execution_count": null,
      "outputs": []
    },
    {
      "cell_type": "markdown",
      "source": [
        "<br>\n",
        "\n",
        "<br>"
      ],
      "metadata": {
        "id": "uPQtGIfh6RfO"
      }
    },
    {
      "cell_type": "markdown",
      "metadata": {
        "id": "mMfxt4Azmaqu"
      },
      "source": [
        "## Vectorized Operations"
      ]
    },
    {
      "cell_type": "markdown",
      "source": [
        "* A major advantage of using R is operations are vectorized\n",
        "\n",
        "* That is, R can perform a mathematical operation on a collection of vector values all at once, as opposed to on each element of the vector\n",
        "\n",
        "* Other languages are capable of vectorized operations, but typically require libraries to perform these operations"
      ],
      "metadata": {
        "id": "YcoFlbkXoq0V"
      }
    },
    {
      "cell_type": "markdown",
      "source": [
        "<br>\n",
        "\n",
        "<br>"
      ],
      "metadata": {
        "id": "egPNrezNpm58"
      }
    },
    {
      "cell_type": "markdown",
      "source": [
        "* Let's define two vectors"
      ],
      "metadata": {
        "id": "FmkmoFPypnRF"
      }
    },
    {
      "cell_type": "code",
      "source": [
        "# define two numeric vectors\n",
        "x <- c(1, 2, 3, 4)\n",
        "y <- c(2, 3, 4, 5)"
      ],
      "metadata": {
        "id": "aGKMSMeNpo3N"
      },
      "execution_count": null,
      "outputs": []
    },
    {
      "cell_type": "markdown",
      "source": [
        "<br>"
      ],
      "metadata": {
        "id": "_VEbOi1cpxoV"
      }
    },
    {
      "cell_type": "markdown",
      "source": [
        "* Adding a scalar to a vector adds the scalar to each element of the vector"
      ],
      "metadata": {
        "id": "vE2FRBIcpy49"
      }
    },
    {
      "cell_type": "code",
      "source": [
        "# show the contents of x\n",
        "x"
      ],
      "metadata": {
        "id": "Q99mOVt-qQjs"
      },
      "execution_count": null,
      "outputs": []
    },
    {
      "cell_type": "code",
      "source": [
        "# add a scalar to a vector\n",
        "10 + x"
      ],
      "metadata": {
        "id": "Nj3OH0TNp_Lt"
      },
      "execution_count": null,
      "outputs": []
    },
    {
      "cell_type": "markdown",
      "source": [
        "<br>"
      ],
      "metadata": {
        "id": "krs_jSr9qG6X"
      }
    },
    {
      "cell_type": "markdown",
      "source": [
        "* Adding two vectors adds each corresponding element of the two vectors"
      ],
      "metadata": {
        "id": "a80ekw5uqG6Y"
      }
    },
    {
      "cell_type": "code",
      "source": [
        "# show the contents of x\n",
        "x"
      ],
      "metadata": {
        "id": "1Zw8aTQiqbjM"
      },
      "execution_count": null,
      "outputs": []
    },
    {
      "cell_type": "code",
      "source": [
        "# show the contents of Y\n",
        "y"
      ],
      "metadata": {
        "id": "Dfhryo_5qcsc"
      },
      "execution_count": null,
      "outputs": []
    },
    {
      "cell_type": "code",
      "source": [
        "# add the two vectors\n",
        "x + y"
      ],
      "metadata": {
        "id": "XQZzuQRmqA6r"
      },
      "execution_count": null,
      "outputs": []
    },
    {
      "cell_type": "markdown",
      "source": [
        "<br>"
      ],
      "metadata": {
        "id": "k3m6HZlyqinf"
      }
    },
    {
      "cell_type": "markdown",
      "source": [
        "* The same is true for subtraction, multiplication, division, and exponentiation!"
      ],
      "metadata": {
        "id": "yi4uzSF0qinf"
      }
    },
    {
      "cell_type": "code",
      "source": [
        "# show the contents of x\n",
        "x"
      ],
      "metadata": {
        "id": "oHmnpx94MtOO"
      },
      "execution_count": null,
      "outputs": []
    },
    {
      "cell_type": "code",
      "source": [
        "# scalar subtraction\n",
        "x - 1"
      ],
      "metadata": {
        "id": "gGEACpLyqqqM"
      },
      "execution_count": null,
      "outputs": []
    },
    {
      "cell_type": "code",
      "source": [
        "# vector subtraction\n",
        "y - x"
      ],
      "metadata": {
        "id": "lVgLpUNVqzeU"
      },
      "execution_count": null,
      "outputs": []
    },
    {
      "cell_type": "markdown",
      "source": [
        "<br>"
      ],
      "metadata": {
        "id": "hba3rVQerQLM"
      }
    },
    {
      "cell_type": "code",
      "source": [
        "# show the contents of x\n",
        "x"
      ],
      "metadata": {
        "id": "BLNafT1eMuO6"
      },
      "execution_count": null,
      "outputs": []
    },
    {
      "cell_type": "code",
      "source": [
        "# scalar multiplication\n",
        "2 * x"
      ],
      "metadata": {
        "id": "KNmHy5i7qols"
      },
      "execution_count": null,
      "outputs": []
    },
    {
      "cell_type": "code",
      "source": [
        "# vector multiplication\n",
        "x * y"
      ],
      "metadata": {
        "id": "iY_4iMyAq5kc"
      },
      "execution_count": null,
      "outputs": []
    },
    {
      "cell_type": "markdown",
      "source": [
        "<br>"
      ],
      "metadata": {
        "id": "sOP2zdoerQn7"
      }
    },
    {
      "cell_type": "code",
      "source": [
        "# show the contents of x\n",
        "x"
      ],
      "metadata": {
        "id": "nRbXzFCgMuqV"
      },
      "execution_count": null,
      "outputs": []
    },
    {
      "cell_type": "code",
      "source": [
        "# scalar division\n",
        "x / 4"
      ],
      "metadata": {
        "id": "nXPxi7zNqtf7"
      },
      "execution_count": null,
      "outputs": []
    },
    {
      "cell_type": "code",
      "source": [
        "# vector division\n",
        "x / y"
      ],
      "metadata": {
        "id": "Grd7w0RQq-WE"
      },
      "execution_count": null,
      "outputs": []
    },
    {
      "cell_type": "markdown",
      "source": [
        "<br>"
      ],
      "metadata": {
        "id": "NOExFbj5rNJk"
      }
    },
    {
      "cell_type": "code",
      "source": [
        "# show the contents of x\n",
        "x"
      ],
      "metadata": {
        "id": "UGP_Y7RwMvKP"
      },
      "execution_count": null,
      "outputs": []
    },
    {
      "cell_type": "code",
      "source": [
        "# exponential to a scalar\n",
        "x^2"
      ],
      "metadata": {
        "id": "uidMmUd1qvQr"
      },
      "execution_count": null,
      "outputs": []
    },
    {
      "cell_type": "code",
      "source": [
        "# exponentiation to a vector\n",
        "x^y"
      ],
      "metadata": {
        "id": "njQX1WTTrIrK"
      },
      "execution_count": null,
      "outputs": []
    },
    {
      "cell_type": "markdown",
      "source": [
        "<br>"
      ],
      "metadata": {
        "id": "QVoRLDAMNbn2"
      }
    },
    {
      "cell_type": "markdown",
      "source": [
        "* Even other functions can perform vectorized operations\n",
        "\n",
        "* For example, we can convert every numeric value into a character"
      ],
      "metadata": {
        "id": "-48z-DReNdOA"
      }
    },
    {
      "cell_type": "code",
      "source": [
        "# show the contents of x\n",
        "x"
      ],
      "metadata": {
        "id": "KvYjFq3rNbn2"
      },
      "execution_count": null,
      "outputs": []
    },
    {
      "cell_type": "code",
      "source": [
        "# convert each element of x into a character\n",
        "as.character(x)"
      ],
      "metadata": {
        "id": "lpBEJn1RNlQI"
      },
      "execution_count": null,
      "outputs": []
    },
    {
      "cell_type": "markdown",
      "source": [
        "<br>\n",
        "\n",
        "<br>"
      ],
      "metadata": {
        "id": "rlDNYNNZl_5i"
      }
    },
    {
      "cell_type": "markdown",
      "metadata": {
        "id": "809tQAzTLtbf"
      },
      "source": [
        "## Overwriting and Inserting Columns in a Data Frame"
      ]
    },
    {
      "cell_type": "markdown",
      "source": [
        "#### Overwriting columns/variables"
      ],
      "metadata": {
        "id": "WmD73fnoOvQN"
      }
    },
    {
      "cell_type": "markdown",
      "source": [
        "* In the last lecture, we created the following data frame with columns\n",
        "  * mood\n",
        "  * hours\n",
        "  * weather\n",
        "  * calories"
      ],
      "metadata": {
        "id": "Zx_WrlkDtVfe"
      }
    },
    {
      "cell_type": "code",
      "source": [
        "# create variables using c()\n",
        "mood        <- c(\"happy\", \"sad\", \"sad\", \"happy\")\n",
        "hours       <- c(1, 2, 1, 4)\n",
        "weather     <- c(\"sunny\", \"cloudy\", \"cloudy\", \"sunny\")\n",
        "temperature <- c(75, 62, 71, 83)"
      ],
      "metadata": {
        "id": "OLayb1oztkmg"
      },
      "execution_count": null,
      "outputs": []
    },
    {
      "cell_type": "code",
      "source": [
        "# create data frame from vectors\n",
        "my_data <- data.frame(mood, hours, weather, temperature)\n",
        "my_data"
      ],
      "metadata": {
        "id": "JyVLT78mImUs"
      },
      "execution_count": null,
      "outputs": []
    },
    {
      "cell_type": "markdown",
      "source": [
        "<br>"
      ],
      "metadata": {
        "id": "pQyK3lTNIwQ-"
      }
    },
    {
      "cell_type": "markdown",
      "source": [
        "* Notice that the `mood` and `weather` variables are `character` class\n",
        "\n",
        "* However, these are categorical and should therefore be a `factor` class\n",
        "\n",
        "* We can convert each of these variables using `as.factor()`"
      ],
      "metadata": {
        "id": "Y6r2pV31OAN-"
      }
    },
    {
      "cell_type": "code",
      "source": [
        "# convert character data types to factors\n",
        "mood_factor    <- as.factor(my_data$mood)\n",
        "weather_factor <- as.factor(my_data$weather)"
      ],
      "metadata": {
        "id": "stY3VDmBIbh2"
      },
      "execution_count": null,
      "outputs": []
    },
    {
      "cell_type": "markdown",
      "source": [
        "<br>"
      ],
      "metadata": {
        "id": "RQeUEeOFOeKN"
      }
    },
    {
      "cell_type": "markdown",
      "source": [
        "* To overwrite the existing variables, we simply assign the factors to the same columns"
      ],
      "metadata": {
        "id": "-EvkLMImOeKT"
      }
    },
    {
      "cell_type": "code",
      "source": [
        "# convert character data types to factors\n",
        "my_data$mood    <- mood_factor\n",
        "my_data$weather <- weather_factor"
      ],
      "metadata": {
        "id": "jO0eZ-O_OeKT"
      },
      "execution_count": null,
      "outputs": []
    },
    {
      "cell_type": "code",
      "source": [
        "# check our work\n",
        "head(my_data)"
      ],
      "metadata": {
        "id": "zaAxziNROofY"
      },
      "execution_count": null,
      "outputs": []
    },
    {
      "cell_type": "markdown",
      "source": [
        "<br>"
      ],
      "metadata": {
        "id": "LFlblO99PJSi"
      }
    },
    {
      "cell_type": "markdown",
      "source": [
        "* Or we can do it all at once!"
      ],
      "metadata": {
        "id": "eAdQpdMGPJSq"
      }
    },
    {
      "cell_type": "code",
      "source": [
        "# convert character data types to factors\n",
        "my_data$mood    <- as.factor(my_data$mood)\n",
        "my_data$weather <- as.factor(my_data$weather)"
      ],
      "metadata": {
        "id": "HT6ktL2RPJSq"
      },
      "execution_count": null,
      "outputs": []
    },
    {
      "cell_type": "code",
      "source": [
        "# check our work\n",
        "head(my_data)"
      ],
      "metadata": {
        "id": "gQaPhIZvPJSq"
      },
      "execution_count": null,
      "outputs": []
    },
    {
      "cell_type": "markdown",
      "source": [
        "<br>\n",
        "\n",
        "<br>"
      ],
      "metadata": {
        "id": "e6DnqkW5O-aC"
      }
    },
    {
      "cell_type": "markdown",
      "source": [
        "#### Inserting columns/variables"
      ],
      "metadata": {
        "id": "8oTrhf5FO5A6"
      }
    },
    {
      "cell_type": "markdown",
      "source": [
        "* We often need to create new columns in a data frame\n",
        "\n",
        "* For example, what if we have a new variable?\n",
        "\n",
        "* What if we want to store the result of a vector operation?"
      ],
      "metadata": {
        "id": "6T1UJt_rMro5"
      }
    },
    {
      "cell_type": "markdown",
      "source": [
        "<br>"
      ],
      "metadata": {
        "id": "qqgFIJJiPkWM"
      }
    },
    {
      "cell_type": "markdown",
      "source": [
        "* To illustrate this concept, let's first create a vector describing if we ate lunch or not"
      ],
      "metadata": {
        "id": "y_TF6J2EMBbz"
      }
    },
    {
      "cell_type": "code",
      "source": [
        "# create a vector indicating if we ate lunch\n",
        "lunch <- c(\"yes\", \"no\", \"no\", \"yes\")\n",
        "lunch"
      ],
      "metadata": {
        "id": "VL0qMFh_Ltbi"
      },
      "execution_count": null,
      "outputs": []
    },
    {
      "cell_type": "markdown",
      "source": [
        "<br>"
      ],
      "metadata": {
        "id": "ukWeA8q8MPVl"
      }
    },
    {
      "cell_type": "markdown",
      "source": [
        "* We can insert the `lunch` variable in the `my_data` data frame using the `$` operator\n",
        "\n",
        "* We will call this new variable `ate_lunch`"
      ],
      "metadata": {
        "id": "TgoF-hqqMPVm"
      }
    },
    {
      "cell_type": "code",
      "source": [
        "# insert the variable lunch in the data frame\n",
        "my_data$ate_lunch <- lunch\n",
        "my_data"
      ],
      "metadata": {
        "id": "tZZvHeLfMYpi"
      },
      "execution_count": null,
      "outputs": []
    },
    {
      "cell_type": "markdown",
      "source": [
        "<br>"
      ],
      "metadata": {
        "id": "ZzaUaRfXP3p2"
      }
    },
    {
      "cell_type": "markdown",
      "source": [
        "* Note this should be a factor as well"
      ],
      "metadata": {
        "id": "GwI8awpBP3p-"
      }
    },
    {
      "cell_type": "code",
      "source": [
        "# insert the variable lunch in the data frame\n",
        "my_data$ate_lunch <- as.factor(lunch)\n",
        "my_data"
      ],
      "metadata": {
        "id": "kyR9s18IP3p-"
      },
      "execution_count": null,
      "outputs": []
    },
    {
      "cell_type": "markdown",
      "source": [
        "<br>"
      ],
      "metadata": {
        "id": "tKkdR1uwQJpl"
      }
    },
    {
      "cell_type": "markdown",
      "source": [
        "* What if we want our temperature in celsius?\n",
        "\n",
        "* We know the equation for this conversion is\n",
        "\n",
        "\\begin{align*}\n",
        "\\text{celsius} = \\frac{5}{9}(\\text{fahrenheit} - 32)\n",
        "\\end{align*}"
      ],
      "metadata": {
        "id": "4yca_ouzQJpq"
      }
    },
    {
      "cell_type": "code",
      "source": [
        "# convert temperature into celsius and insert as new column\n",
        "my_data$temperature_celsius <- (5/9) * (my_data$temperature - 32)"
      ],
      "metadata": {
        "id": "t6AGisNpQJpq"
      },
      "execution_count": null,
      "outputs": []
    },
    {
      "cell_type": "code",
      "source": [
        "# check our work\n",
        "head(my_data)"
      ],
      "metadata": {
        "id": "PDZ-Q7BfQ2JH"
      },
      "execution_count": null,
      "outputs": []
    },
    {
      "cell_type": "markdown",
      "source": [
        "<br>\n",
        "\n",
        "<br>"
      ],
      "metadata": {
        "id": "eBI0cRryLtbj"
      }
    },
    {
      "cell_type": "markdown",
      "source": [
        "<br>"
      ],
      "metadata": {
        "id": "tisFs_qnIuQ-"
      }
    }
  ]
}