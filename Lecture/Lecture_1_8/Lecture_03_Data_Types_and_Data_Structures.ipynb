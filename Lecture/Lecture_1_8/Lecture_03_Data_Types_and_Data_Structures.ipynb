{
  "nbformat": 4,
  "nbformat_minor": 0,
  "metadata": {
    "colab": {
      "provenance": [],
      "collapsed_sections": [
        "QdyJzDgAsFNZ",
        "zZzxYxtp9b9t",
        "iHAKt34NxMby",
        "d9zScL76y732",
        "UohczxAOfeUQ",
        "0FxaDUYifyzK",
        "j00JkNTCiKfB",
        "M6OI18UYfoY7",
        "4t3ID1AUi9MV",
        "Uq9e26BzjJYr",
        "KgAhK9tntkvs",
        "k0s9PJBW21MY",
        "_ue9rLTBknuV",
        "Ajts1idHlQdR",
        "wrHWizwkkWgf",
        "tUUdrgMPlkqx",
        "I9rFZ_P1mVp4",
        "pt02ZQQnmsKQ",
        "thJhQdXC6Fvl",
        "KYOKkjngnkIE",
        "H_kzKln4KWa9",
        "YnsMvFUkrP5X",
        "5IrmBLL9tKGD",
        "_vZ292OgvZM9",
        "qeyeLprqp--e"
      ]
    },
    "kernelspec": {
      "name": "ir",
      "display_name": "R"
    }
  },
  "cells": [
    {
      "cell_type": "markdown",
      "metadata": {
        "id": "gtETsh5j8vHw"
      },
      "source": [
        "# **Data Types and Data Structures**\n",
        "\n",
        "---\n",
        "\n",
        "<br>"
      ]
    },
    {
      "cell_type": "markdown",
      "source": [
        "## Packages"
      ],
      "metadata": {
        "id": "QdyJzDgAsFNZ"
      }
    },
    {
      "cell_type": "code",
      "source": [
        "# install packages for today's lecture\n",
        "install.packages(\"dslabs\")"
      ],
      "metadata": {
        "id": "O-drIaQ-4cWQ"
      },
      "execution_count": null,
      "outputs": []
    },
    {
      "cell_type": "code",
      "source": [
        "# load the necessary packages\n",
        "library(dslabs)"
      ],
      "metadata": {
        "id": "fYGjK4oX4jSn"
      },
      "execution_count": null,
      "outputs": []
    },
    {
      "cell_type": "markdown",
      "source": [
        "<br>\n",
        "\n",
        "<br>\n",
        "\n"
      ],
      "metadata": {
        "id": "oQSTNN1_4o_b"
      }
    },
    {
      "cell_type": "markdown",
      "metadata": {
        "id": "zZzxYxtp9b9t"
      },
      "source": [
        "## Data Types"
      ]
    },
    {
      "cell_type": "markdown",
      "source": [
        "* The `R` programming language has several data types\n",
        "\n",
        "* For this class, and in practice, the data types most often used for data science are\n",
        "  *   `numeric`\n",
        "  *   `character`\n",
        "  *   `logical`\n",
        "  *   `integer`"
      ],
      "metadata": {
        "id": "tyQodhUig5Bd"
      }
    },
    {
      "cell_type": "markdown",
      "source": [
        "<br>\n",
        "\n",
        "<br>"
      ],
      "metadata": {
        "id": "_ZI4abu5wnUD"
      }
    },
    {
      "cell_type": "markdown",
      "source": [
        "* **Today, we focus on the `numeric` and `character` data types**"
      ],
      "metadata": {
        "id": "dtrFTX0Swkea"
      }
    },
    {
      "cell_type": "markdown",
      "source": [
        "<br>\n",
        "\n",
        "<br>"
      ],
      "metadata": {
        "id": "scjDPtjZwqun"
      }
    },
    {
      "cell_type": "markdown",
      "source": [
        "* The `logical` data type will be covered extensively in the lecture on subsetting\n",
        "\n",
        "* The `integer` data type will be briefly mentioned in the lecture on loops"
      ],
      "metadata": {
        "id": "dfMk2wqpwuq6"
      }
    },
    {
      "cell_type": "markdown",
      "source": [
        "<br>"
      ],
      "metadata": {
        "id": "HcQVjlgYvizr"
      }
    },
    {
      "cell_type": "markdown",
      "metadata": {
        "id": "iHAKt34NxMby"
      },
      "source": [
        "### `numeric` data type"
      ]
    },
    {
      "cell_type": "markdown",
      "source": [
        "* The numeric data type is, well, a number!\n",
        "\n",
        "* You can check the data type of your variables using the `class()` function"
      ],
      "metadata": {
        "id": "UYzR7-SvxQw7"
      }
    },
    {
      "cell_type": "code",
      "metadata": {
        "id": "r2PMXSpQyO_p"
      },
      "source": [
        "# store a numeric value as a variable\n",
        "x <- 3.14\n",
        "x"
      ],
      "execution_count": null,
      "outputs": []
    },
    {
      "cell_type": "markdown",
      "source": [
        "<br>"
      ],
      "metadata": {
        "id": "2npibknIyfRR"
      }
    },
    {
      "cell_type": "code",
      "source": [
        "# check the data type of the stored variable using class()\n",
        "class(x)"
      ],
      "metadata": {
        "id": "aJrcqKIfyO_q"
      },
      "execution_count": null,
      "outputs": []
    },
    {
      "cell_type": "markdown",
      "source": [
        "<br>\n",
        "\n",
        "* We see above that the class of the variable `x` is `numeric`"
      ],
      "metadata": {
        "id": "bc6xhM95xvky"
      }
    },
    {
      "cell_type": "markdown",
      "source": [
        "<br>"
      ],
      "metadata": {
        "id": "taosTQX-yg2B"
      }
    },
    {
      "cell_type": "code",
      "metadata": {
        "id": "Z60PpIfIeF4Z"
      },
      "source": [
        "# store a value as a variable\n",
        "y <- 5\n",
        "y"
      ],
      "execution_count": null,
      "outputs": []
    },
    {
      "cell_type": "markdown",
      "source": [
        "<br>"
      ],
      "metadata": {
        "id": "RvG2dCA4yjS2"
      }
    },
    {
      "cell_type": "code",
      "source": [
        "# check the data type of the stored variable using class()\n",
        "class(y)"
      ],
      "metadata": {
        "id": "lSr_jbGptI4q"
      },
      "execution_count": null,
      "outputs": []
    },
    {
      "cell_type": "markdown",
      "source": [
        "<br>\n",
        "\n",
        "* Although the variable `y` is assigned the \"integer\" value of 5, the class of the variable `y` is still `numeric`"
      ],
      "metadata": {
        "id": "WfOOuEziytiC"
      }
    },
    {
      "cell_type": "markdown",
      "source": [
        "<br>\n",
        "\n",
        "<br>"
      ],
      "metadata": {
        "id": "ZzGuDSAxgsb2"
      }
    },
    {
      "cell_type": "markdown",
      "metadata": {
        "id": "d9zScL76y732"
      },
      "source": [
        "### `character` data type"
      ]
    },
    {
      "cell_type": "markdown",
      "source": [
        "* The character data type is essentially text\n",
        "\n",
        "* A character is denoted by quotations `\" \"` or apostrophes `' '` surrounding a letter or phrase"
      ],
      "metadata": {
        "id": "yLRV2Ikiy733"
      }
    },
    {
      "cell_type": "code",
      "metadata": {
        "id": "EC8OMx60y733"
      },
      "source": [
        "# store text value as a variable\n",
        "my_text <- \"this is my text\"\n",
        "my_text"
      ],
      "execution_count": null,
      "outputs": []
    },
    {
      "cell_type": "markdown",
      "source": [
        "<br>"
      ],
      "metadata": {
        "id": "mlho_1tay734"
      }
    },
    {
      "cell_type": "code",
      "source": [
        "# check the data type of the stored variable using class()\n",
        "class(my_text)"
      ],
      "metadata": {
        "id": "PRXMaSsSy735"
      },
      "execution_count": null,
      "outputs": []
    },
    {
      "cell_type": "markdown",
      "source": [
        "<br>\n",
        "\n",
        "* We see above that the class of the variable `my_text` is `character`"
      ],
      "metadata": {
        "id": "szZj3BBMy735"
      }
    },
    {
      "cell_type": "markdown",
      "source": [
        "<br>"
      ],
      "metadata": {
        "id": "Xhy02ywAzuYD"
      }
    },
    {
      "cell_type": "markdown",
      "source": [
        "* We can also use apotrophes to define a `character` data type"
      ],
      "metadata": {
        "id": "O1HUvH8LztUy"
      }
    },
    {
      "cell_type": "code",
      "metadata": {
        "id": "Xf0J4trAztUx"
      },
      "source": [
        "# store a value as a variable\n",
        "my_text2 <- 'this is my text'\n",
        "my_text2"
      ],
      "execution_count": null,
      "outputs": []
    },
    {
      "cell_type": "markdown",
      "source": [
        "<br>"
      ],
      "metadata": {
        "id": "yfVUw1VdztUy"
      }
    },
    {
      "cell_type": "code",
      "source": [
        "# check the data type of the stored variable using class()\n",
        "class(my_text2)"
      ],
      "metadata": {
        "id": "HLQVNlqfztUy"
      },
      "execution_count": null,
      "outputs": []
    },
    {
      "cell_type": "markdown",
      "source": [
        "<br>"
      ],
      "metadata": {
        "id": "7UgDTVsp0EZy"
      }
    },
    {
      "cell_type": "markdown",
      "source": [
        "* Caution: Numeric data can be stored as a `character` data type"
      ],
      "metadata": {
        "id": "O0KCbeKx0EZz"
      }
    },
    {
      "cell_type": "code",
      "metadata": {
        "id": "PfDTbnFF0EZ0"
      },
      "source": [
        "# store a value as a variable\n",
        "my_text3 <- '3.14'\n",
        "my_text3"
      ],
      "execution_count": null,
      "outputs": []
    },
    {
      "cell_type": "markdown",
      "source": [
        "<br>"
      ],
      "metadata": {
        "id": "LWTkvle10EZ1"
      }
    },
    {
      "cell_type": "code",
      "source": [
        "# check the data type of the stored variable using class()\n",
        "class(my_text3)"
      ],
      "metadata": {
        "id": "Urka6bPI0EZ2"
      },
      "execution_count": null,
      "outputs": []
    },
    {
      "cell_type": "markdown",
      "source": [
        "<br>\n",
        "\n",
        "<br>"
      ],
      "metadata": {
        "id": "1Dr-tONtfeUK"
      }
    },
    {
      "cell_type": "markdown",
      "metadata": {
        "id": "UohczxAOfeUQ"
      },
      "source": [
        "### `logical` data type"
      ]
    },
    {
      "cell_type": "markdown",
      "source": [
        "* The `logical` data type (also known as a Boolean) is VERY IMPORTANT!!!\n",
        "* They are binary values that take on values of `TRUE` or `FALSE`. In R,\n",
        "  *   `0` is `FALSE`\n",
        "  *   `1` is `TRUE`"
      ],
      "metadata": {
        "id": "lLN0J3rpfeUQ"
      }
    },
    {
      "cell_type": "markdown",
      "source": [
        "<br>"
      ],
      "metadata": {
        "id": "FvTbxDizhR3p"
      }
    },
    {
      "cell_type": "code",
      "metadata": {
        "id": "ZRssdwwi6Qx7"
      },
      "source": [
        "# store a logical variable\n",
        "my_logical <- TRUE\n",
        "my_logical"
      ],
      "execution_count": null,
      "outputs": []
    },
    {
      "cell_type": "markdown",
      "source": [
        "<br>"
      ],
      "metadata": {
        "id": "nP2rfGZrhSPh"
      }
    },
    {
      "cell_type": "code",
      "metadata": {
        "id": "yA-71Xj26Xxb"
      },
      "source": [
        "# check the data type of the stored variable using class()\n",
        "class(my_logical)"
      ],
      "execution_count": null,
      "outputs": []
    },
    {
      "cell_type": "markdown",
      "source": [
        "<br>"
      ],
      "metadata": {
        "id": "bskYVxS1hSpu"
      }
    },
    {
      "cell_type": "code",
      "metadata": {
        "id": "xZp42SNB6j8B"
      },
      "source": [
        "# store a logical variable\n",
        "my_logical <- FALSE\n",
        "my_logical"
      ],
      "execution_count": null,
      "outputs": []
    },
    {
      "cell_type": "markdown",
      "source": [
        "<br>"
      ],
      "metadata": {
        "id": "fV-845pVhTG5"
      }
    },
    {
      "cell_type": "code",
      "metadata": {
        "id": "7949lPnw6l58"
      },
      "source": [
        "class(my_logical)"
      ],
      "execution_count": null,
      "outputs": []
    },
    {
      "cell_type": "markdown",
      "source": [
        "<br>\n",
        "\n",
        "<br>"
      ],
      "metadata": {
        "id": "w7lGRaI8foY6"
      }
    },
    {
      "cell_type": "markdown",
      "metadata": {
        "id": "0FxaDUYifyzK"
      },
      "source": [
        "### `integer` data type"
      ]
    },
    {
      "cell_type": "markdown",
      "source": [
        "* The `integer` data type is often used for looping mechanisms (covered later)\n",
        "* Numbers are stored as the `numeric` data type by default\n",
        "* We can convert the `numeric` data type to an `integer` data type using `as.integer()`"
      ],
      "metadata": {
        "id": "0jmMVsbcfyzR"
      }
    },
    {
      "cell_type": "markdown",
      "source": [
        "<br>"
      ],
      "metadata": {
        "id": "0IMnmE8WhNzF"
      }
    },
    {
      "cell_type": "code",
      "source": [
        "# store a numeric data type\n",
        "b <- 5"
      ],
      "metadata": {
        "id": "upOUHIW6gur9"
      },
      "execution_count": null,
      "outputs": []
    },
    {
      "cell_type": "markdown",
      "source": [
        "<br>"
      ],
      "metadata": {
        "id": "yky5bMO7hQh6"
      }
    },
    {
      "cell_type": "code",
      "source": [
        "# check the data type of the stored variable using class()\n",
        "class(b)"
      ],
      "metadata": {
        "id": "UgdQdR1dhIKU"
      },
      "execution_count": null,
      "outputs": []
    },
    {
      "cell_type": "markdown",
      "source": [
        "<br>"
      ],
      "metadata": {
        "id": "6sVz4OaUhT9R"
      }
    },
    {
      "cell_type": "code",
      "source": [
        "# convert to an integer data type using as.integer()\n",
        "b <- as.integer(b)"
      ],
      "metadata": {
        "id": "TkMImZKXhUOn"
      },
      "execution_count": null,
      "outputs": []
    },
    {
      "cell_type": "markdown",
      "source": [
        "<br>"
      ],
      "metadata": {
        "id": "xfu9tgo6haUp"
      }
    },
    {
      "cell_type": "code",
      "source": [
        "# check the data type of the stored variable using class()\n",
        "class(b)"
      ],
      "metadata": {
        "id": "Ffji4Q6KhaUx"
      },
      "execution_count": null,
      "outputs": []
    },
    {
      "cell_type": "markdown",
      "source": [
        "<br>\n",
        "\n",
        "<br>"
      ],
      "metadata": {
        "id": "uSsftwr2fyzR"
      }
    },
    {
      "cell_type": "markdown",
      "metadata": {
        "id": "j00JkNTCiKfB"
      },
      "source": [
        "## Converting Between Data Types"
      ]
    },
    {
      "cell_type": "markdown",
      "source": [
        "* Sometimes, you may encounter data stored in the incorrect data type\n",
        "* Therefore, it is helpful to convert between data types using the following functions\n",
        "  * `as.numeric()`\n",
        "  * `as.character()`\n",
        "  * `as.logical()`\n",
        "  * `as.integer()`"
      ],
      "metadata": {
        "id": "huuB49O21jIq"
      }
    },
    {
      "cell_type": "markdown",
      "source": [
        "<br>"
      ],
      "metadata": {
        "id": "T70Y1OzDiUPR"
      }
    },
    {
      "cell_type": "markdown",
      "metadata": {
        "id": "M6OI18UYfoY7"
      },
      "source": [
        "### `as.numeric()`"
      ]
    },
    {
      "cell_type": "code",
      "source": [
        "# store a character data type\n",
        "c <- '3.14'\n",
        "c"
      ],
      "metadata": {
        "id": "yt66I2iMiWon"
      },
      "execution_count": null,
      "outputs": []
    },
    {
      "cell_type": "code",
      "source": [
        "# checking the data type using class()\n",
        "class(c)"
      ],
      "metadata": {
        "id": "qkehysbWihKu"
      },
      "execution_count": null,
      "outputs": []
    },
    {
      "cell_type": "markdown",
      "source": [
        "<br>"
      ],
      "metadata": {
        "id": "Q1IuWulPi0DE"
      }
    },
    {
      "cell_type": "code",
      "source": [
        "# convert the character data type to numeric\n",
        "c <- as.numeric(c)\n",
        "c"
      ],
      "metadata": {
        "id": "rUi84zadikcG"
      },
      "execution_count": null,
      "outputs": []
    },
    {
      "cell_type": "code",
      "source": [
        "# checking the data type using class()\n",
        "class(c)"
      ],
      "metadata": {
        "id": "c0JgKv1miwd2"
      },
      "execution_count": null,
      "outputs": []
    },
    {
      "cell_type": "markdown",
      "source": [
        "<br>\n",
        "\n",
        "<br>"
      ],
      "metadata": {
        "id": "YmQaGxIwi7SR"
      }
    },
    {
      "cell_type": "markdown",
      "metadata": {
        "id": "4t3ID1AUi9MV"
      },
      "source": [
        "### `as.character()`"
      ]
    },
    {
      "cell_type": "code",
      "source": [
        "# store a character data type\n",
        "c <- 3.14\n",
        "c"
      ],
      "metadata": {
        "id": "5pjiiNd_i9Ma"
      },
      "execution_count": null,
      "outputs": []
    },
    {
      "cell_type": "code",
      "source": [
        "# checking the data type using class()\n",
        "class(c)"
      ],
      "metadata": {
        "id": "9TNusaC3i9Ma"
      },
      "execution_count": null,
      "outputs": []
    },
    {
      "cell_type": "markdown",
      "source": [
        "<br>"
      ],
      "metadata": {
        "id": "eDmZrPZ2i9Ma"
      }
    },
    {
      "cell_type": "code",
      "source": [
        "# convert the numeric data type to character\n",
        "c <- as.character(c)\n",
        "c"
      ],
      "metadata": {
        "id": "BCQJyVw5i9Ma"
      },
      "execution_count": null,
      "outputs": []
    },
    {
      "cell_type": "code",
      "source": [
        "# checking the data type using class()\n",
        "class(c)"
      ],
      "metadata": {
        "id": "VF9BQPfOi9Mb"
      },
      "execution_count": null,
      "outputs": []
    },
    {
      "cell_type": "markdown",
      "source": [
        "<br>\n",
        "\n",
        "<br>"
      ],
      "metadata": {
        "id": "R-Ape7qNjJYm"
      }
    },
    {
      "cell_type": "markdown",
      "metadata": {
        "id": "Uq9e26BzjJYr"
      },
      "source": [
        "### `as.logical()`"
      ]
    },
    {
      "cell_type": "code",
      "source": [
        "# store a numeric data type\n",
        "c <- 1\n",
        "c"
      ],
      "metadata": {
        "id": "Ms_c4OxEjJYr"
      },
      "execution_count": null,
      "outputs": []
    },
    {
      "cell_type": "code",
      "source": [
        "# checking the data type using class()\n",
        "class(c)"
      ],
      "metadata": {
        "id": "BYVr99yDjJYr"
      },
      "execution_count": null,
      "outputs": []
    },
    {
      "cell_type": "markdown",
      "source": [
        "<br>"
      ],
      "metadata": {
        "id": "evyuu3gRjJYs"
      }
    },
    {
      "cell_type": "code",
      "source": [
        "# convert the character data type to numeric\n",
        "c <- as.logical(c)\n",
        "c"
      ],
      "metadata": {
        "id": "yUyTZppdjJYs"
      },
      "execution_count": null,
      "outputs": []
    },
    {
      "cell_type": "code",
      "source": [
        "# checking the data type using class()\n",
        "class(c)"
      ],
      "metadata": {
        "id": "IKsCzOe0jJYs"
      },
      "execution_count": null,
      "outputs": []
    },
    {
      "cell_type": "markdown",
      "source": [
        "<br>"
      ],
      "metadata": {
        "id": "Nb-foCRMjiye"
      }
    },
    {
      "cell_type": "code",
      "source": [
        "# store a numeric data type\n",
        "c <- 0\n",
        "c"
      ],
      "metadata": {
        "id": "P-Y1oGrUjkDY"
      },
      "execution_count": null,
      "outputs": []
    },
    {
      "cell_type": "code",
      "source": [
        "# checking the data type using class()\n",
        "class(c)"
      ],
      "metadata": {
        "id": "sZqztpxujkDk"
      },
      "execution_count": null,
      "outputs": []
    },
    {
      "cell_type": "markdown",
      "source": [
        "<br>"
      ],
      "metadata": {
        "id": "J54MxbD4jkDk"
      }
    },
    {
      "cell_type": "code",
      "source": [
        "# convert the character data type to numeric\n",
        "c <- as.logical(c)\n",
        "c"
      ],
      "metadata": {
        "id": "_9xN2vw1jkDk"
      },
      "execution_count": null,
      "outputs": []
    },
    {
      "cell_type": "code",
      "source": [
        "# checking the data type using class()\n",
        "class(c)"
      ],
      "metadata": {
        "id": "TKEN5Ij9jkDk"
      },
      "execution_count": null,
      "outputs": []
    },
    {
      "cell_type": "markdown",
      "source": [
        "<br>\n",
        "\n",
        "<br>"
      ],
      "metadata": {
        "id": "7t9bU3d3y80J"
      }
    },
    {
      "cell_type": "markdown",
      "source": [
        "---\n",
        "\n",
        "<br>"
      ],
      "metadata": {
        "id": "ZmsKqnb3irdl"
      }
    },
    {
      "cell_type": "markdown",
      "metadata": {
        "id": "KgAhK9tntkvs"
      },
      "source": [
        "## Data Structures"
      ]
    },
    {
      "cell_type": "markdown",
      "source": [
        "<br>"
      ],
      "metadata": {
        "id": "Ma-N5bBL2jy3"
      }
    },
    {
      "cell_type": "markdown",
      "source": [
        "* Data types can be considered the most basic form of data\n",
        "\n",
        "* A collection of data types form what we call a **data structure**\n",
        "\n",
        "* The `R` programming language has many data structures"
      ],
      "metadata": {
        "id": "Lwwjh_NR19if"
      }
    },
    {
      "cell_type": "markdown",
      "source": [
        "<br>"
      ],
      "metadata": {
        "id": "jAlJ_1sQ2guP"
      }
    },
    {
      "cell_type": "markdown",
      "source": [
        "* Data structures we will commonly use in `R` are:\n",
        "  *  dataframes\n",
        "  *  vectors\n",
        "  *  factors (categorical data)\n",
        "  *  lists\n",
        "  "
      ],
      "metadata": {
        "id": "Qdye2IEJ2h9X"
      }
    },
    {
      "cell_type": "markdown",
      "source": [
        "<br>"
      ],
      "metadata": {
        "id": "bWasj4c1j4Rp"
      }
    },
    {
      "cell_type": "markdown",
      "source": [
        "* In today's lecture, we will cover data frames as they are the most important data structure for data science in R!"
      ],
      "metadata": {
        "id": "fSs_gmByj5cV"
      }
    },
    {
      "cell_type": "markdown",
      "source": [
        "<br>\n",
        "\n",
        "<br>"
      ],
      "metadata": {
        "id": "sibr0oO323MR"
      }
    },
    {
      "cell_type": "markdown",
      "metadata": {
        "id": "k0s9PJBW21MY"
      },
      "source": [
        "### Dataframes"
      ]
    },
    {
      "cell_type": "markdown",
      "source": [
        "* Dataframes are possibly the most important data structure for this course\n",
        "\n",
        "* If our data is not in the form of a dataframe, then we typically convert our data into a dataframe"
      ],
      "metadata": {
        "id": "eCkXojBh21MZ"
      }
    },
    {
      "cell_type": "markdown",
      "source": [
        "<br>"
      ],
      "metadata": {
        "id": "qY1EjcsK4Tz4"
      }
    },
    {
      "cell_type": "markdown",
      "source": [
        "* We can load the `murders` dataset from the `dslabs` library as a data frame example\n",
        "\n",
        "* A dataframe, as shown below, is essentially a table with rows and columns\n",
        "\n",
        "* Each row represents an **observation**\n",
        "\n",
        "* Each column represents a **variable** describing some attribute of each observation"
      ],
      "metadata": {
        "id": "06TCpLvz4-Lu"
      }
    },
    {
      "cell_type": "code",
      "metadata": {
        "id": "Xs1Nw3NC21MZ"
      },
      "source": [
        "murders"
      ],
      "execution_count": null,
      "outputs": []
    },
    {
      "cell_type": "markdown",
      "source": [
        "<br>"
      ],
      "metadata": {
        "id": "xy8xs1RT5end"
      }
    },
    {
      "cell_type": "markdown",
      "source": [
        "* Similar to the data types, we can also check the type of data structure using the `class()` function"
      ],
      "metadata": {
        "id": "kUnHMI8D5hE6"
      }
    },
    {
      "cell_type": "code",
      "source": [
        "# check the type of of class\n",
        "class(murders)"
      ],
      "metadata": {
        "id": "Rl3exaQN5cFg"
      },
      "execution_count": null,
      "outputs": []
    },
    {
      "cell_type": "markdown",
      "source": [
        "<br>\n",
        "\n",
        "<br>"
      ],
      "metadata": {
        "id": "8ySUnajN7P7o"
      }
    },
    {
      "cell_type": "markdown",
      "source": [
        "#### `head()`"
      ],
      "metadata": {
        "id": "_ue9rLTBknuV"
      }
    },
    {
      "cell_type": "markdown",
      "source": [
        "* Data frames can have many observations\n",
        "* The `head()` function is useful for viewing the first few lines of a data frame for initial exploration"
      ],
      "metadata": {
        "id": "ZYjt9CN7knua"
      }
    },
    {
      "cell_type": "code",
      "source": [
        "# using head() to view first 6 lines (by default)\n",
        "head(murders)"
      ],
      "metadata": {
        "id": "w13XirLbknub"
      },
      "execution_count": null,
      "outputs": []
    },
    {
      "cell_type": "markdown",
      "source": [
        "<br>"
      ],
      "metadata": {
        "id": "JUXtCG-ulNCt"
      }
    },
    {
      "cell_type": "code",
      "source": [
        "# view the first 2 lines using head()\n",
        "head(murders, 2)"
      ],
      "metadata": {
        "id": "haNDnOa2lGiz"
      },
      "execution_count": null,
      "outputs": []
    },
    {
      "cell_type": "markdown",
      "source": [
        "<br>\n",
        "\n",
        "<br>"
      ],
      "metadata": {
        "id": "zlXA4Fllknub"
      }
    },
    {
      "cell_type": "markdown",
      "source": [
        "#### `tail()`"
      ],
      "metadata": {
        "id": "Ajts1idHlQdR"
      }
    },
    {
      "cell_type": "markdown",
      "source": [
        "* The `tail()` function is useful for viewing the last few lines of a data frame for initial exploration"
      ],
      "metadata": {
        "id": "O9a-VZiFlQda"
      }
    },
    {
      "cell_type": "code",
      "source": [
        "# using tail() to view last 6 lines (by default)\n",
        "tail(murders)"
      ],
      "metadata": {
        "id": "XDPtbWIklQda"
      },
      "execution_count": null,
      "outputs": []
    },
    {
      "cell_type": "markdown",
      "source": [
        "<br>"
      ],
      "metadata": {
        "id": "DxWhm5iklQda"
      }
    },
    {
      "cell_type": "code",
      "source": [
        "# view the last 2 lines using tail()\n",
        "tail(murders, 2)"
      ],
      "metadata": {
        "id": "JeYMqpQglQda"
      },
      "execution_count": null,
      "outputs": []
    },
    {
      "cell_type": "markdown",
      "source": [
        "<br>\n",
        "\n",
        "<br>"
      ],
      "metadata": {
        "id": "hHLsBjnplQda"
      }
    },
    {
      "cell_type": "markdown",
      "source": [
        "#### `str()`"
      ],
      "metadata": {
        "id": "wrHWizwkkWgf"
      }
    },
    {
      "cell_type": "markdown",
      "source": [
        "* We can use the `str()` function to describe attributes of the dataframe\n",
        "\n",
        "* From the output below, we observe the following\n",
        "  * The dataframe `murders` contains 51 observations (rows)\n",
        "  * There are 5 variables (columns)\n",
        "  * The variables in the dataframe are `state`, `abb`, `region`, `population`, `total`\n",
        "  * The dataframe contains `character` (chr), `factor`, and `numeric` (num) data"
      ],
      "metadata": {
        "id": "112_jqp88WhV"
      }
    },
    {
      "cell_type": "code",
      "source": [
        "# using str()\n",
        "str(murders)"
      ],
      "metadata": {
        "id": "rQEqZPJs8UEN"
      },
      "execution_count": null,
      "outputs": []
    },
    {
      "cell_type": "markdown",
      "source": [
        "<br>\n",
        "\n",
        "<br>"
      ],
      "metadata": {
        "id": "1L3SlaMo6SZ6"
      }
    },
    {
      "cell_type": "markdown",
      "source": [
        "#### `ncol()`, `nrow()`, `dim()`"
      ],
      "metadata": {
        "id": "tUUdrgMPlkqx"
      }
    },
    {
      "cell_type": "markdown",
      "source": [
        "* `ncol()` provides the number of variables (columns) in a data frame\n"
      ],
      "metadata": {
        "id": "iF8QC-Nwlkq6"
      }
    },
    {
      "cell_type": "code",
      "source": [
        "# view the number of columns using ncol()\n",
        "ncol(murders)"
      ],
      "metadata": {
        "id": "FNiFe1lUlkq6"
      },
      "execution_count": null,
      "outputs": []
    },
    {
      "cell_type": "markdown",
      "source": [
        "<br>"
      ],
      "metadata": {
        "id": "JldYM15tmAeG"
      }
    },
    {
      "cell_type": "markdown",
      "source": [
        "* `nrow()` provides the number of observations (rows) in a data frame\n"
      ],
      "metadata": {
        "id": "5vCz11fTmBbU"
      }
    },
    {
      "cell_type": "code",
      "source": [
        "# view the number of columns using nrow()\n",
        "nrow(murders)"
      ],
      "metadata": {
        "id": "92IqXE_hmBbU"
      },
      "execution_count": null,
      "outputs": []
    },
    {
      "cell_type": "markdown",
      "source": [
        "<br>"
      ],
      "metadata": {
        "id": "JGOVHLlSmDP2"
      }
    },
    {
      "cell_type": "markdown",
      "source": [
        "* `dim()` provides both the number of observations and variables of a data frame\n"
      ],
      "metadata": {
        "id": "pBUFr35RmDP9"
      }
    },
    {
      "cell_type": "code",
      "source": [
        "# view the dimensions of a data frame\n",
        "dim(murders)"
      ],
      "metadata": {
        "id": "bB0m_El5mDP9"
      },
      "execution_count": null,
      "outputs": []
    },
    {
      "cell_type": "markdown",
      "source": [
        "<br>\n",
        "\n",
        "<br>"
      ],
      "metadata": {
        "id": "DK9XbaLzmVpz"
      }
    },
    {
      "cell_type": "markdown",
      "source": [
        "#### `names()`"
      ],
      "metadata": {
        "id": "I9rFZ_P1mVp4"
      }
    },
    {
      "cell_type": "markdown",
      "source": [
        "* The `names()` function extracts all of the variable names of a data frame"
      ],
      "metadata": {
        "id": "AUPBDBpXmZx4"
      }
    },
    {
      "cell_type": "code",
      "source": [
        "# extract the variable names of the murders data frame\n",
        "names(murders)"
      ],
      "metadata": {
        "id": "A1bImU-cmeDl"
      },
      "execution_count": null,
      "outputs": []
    },
    {
      "cell_type": "code",
      "source": [
        "# variables names are a character class\n",
        "class(names(murders))"
      ],
      "metadata": {
        "id": "5-HGMsv6mkbb"
      },
      "execution_count": null,
      "outputs": []
    },
    {
      "cell_type": "markdown",
      "source": [
        "<br>\n",
        "\n",
        "<br>"
      ],
      "metadata": {
        "id": "aI_XbYoAmsKP"
      }
    },
    {
      "cell_type": "markdown",
      "source": [
        "#### Extracting variables using the `$` operator"
      ],
      "metadata": {
        "id": "pt02ZQQnmsKQ"
      }
    },
    {
      "cell_type": "markdown",
      "source": [
        "* To access a single variable, we use the `$` operator\n",
        "\n",
        "* The following code extracts the `population` variable from the `murders` dataframe"
      ],
      "metadata": {
        "id": "fl-3OFCA-HjD"
      }
    },
    {
      "cell_type": "code",
      "source": [
        "# extract a variable from a dataframe using $\n",
        "murders$population"
      ],
      "metadata": {
        "id": "i5fQ1Rix-HjE"
      },
      "execution_count": null,
      "outputs": []
    },
    {
      "cell_type": "markdown",
      "source": [
        "<br>"
      ],
      "metadata": {
        "id": "A0dX-zD6_JI-"
      }
    },
    {
      "cell_type": "markdown",
      "source": [
        "* Accessing a single variable from the dataframe results in a vector!\n",
        "\n",
        "* This is our next data structure..."
      ],
      "metadata": {
        "id": "98diyv-h_K7w"
      }
    },
    {
      "cell_type": "markdown",
      "source": [
        "<br>\n",
        "\n",
        "<br>"
      ],
      "metadata": {
        "id": "fO10JToh-GoB"
      }
    },
    {
      "cell_type": "markdown",
      "metadata": {
        "id": "thJhQdXC6Fvl"
      },
      "source": [
        "### Vectors"
      ]
    },
    {
      "cell_type": "markdown",
      "source": [
        "* A vector is a collection of elements that share the same data type\n",
        "\n",
        "* That is,\n",
        "  * all values in a numeric vector must be numeric\n",
        "  * all values in a character vector must be a character\n",
        "\n"
      ],
      "metadata": {
        "id": "se--u0wODOSP"
      }
    },
    {
      "cell_type": "markdown",
      "source": [
        "<br>"
      ],
      "metadata": {
        "id": "d_LSCA_4D3yK"
      }
    },
    {
      "cell_type": "markdown",
      "source": [
        "* For example, the `population` variable from the `murders` dataframe is a numeric vector\n",
        "\n",
        "* We can check the data type in the vector using the `class()` function"
      ],
      "metadata": {
        "id": "uGkHC2wrD5CA"
      }
    },
    {
      "cell_type": "code",
      "source": [
        "# store the population column as pop\n",
        "pop <- murders$population\n",
        "\n",
        "# check stored properly\n",
        "pop"
      ],
      "metadata": {
        "id": "uqQh3uQIDZT4"
      },
      "execution_count": null,
      "outputs": []
    },
    {
      "cell_type": "markdown",
      "source": [
        "<br>"
      ],
      "metadata": {
        "id": "4c7CS8BjFzo_"
      }
    },
    {
      "cell_type": "code",
      "source": [
        "# check the data type of the vector pop\n",
        "class(pop)"
      ],
      "metadata": {
        "id": "KAOmdkmUEQ6C"
      },
      "execution_count": null,
      "outputs": []
    },
    {
      "cell_type": "markdown",
      "source": [
        "<br>\n",
        "\n",
        "<br>"
      ],
      "metadata": {
        "id": "mCz1dgJaEdto"
      }
    },
    {
      "cell_type": "markdown",
      "source": [
        "* The `state` variable from the `murders` dataframe is a character vector\n",
        "\n",
        "* We can check the data type in the vector using the `class()` function"
      ],
      "metadata": {
        "id": "qkb-LlqKEfRg"
      }
    },
    {
      "cell_type": "code",
      "source": [
        "# show the contents of the state variable\n",
        "murders$state"
      ],
      "metadata": {
        "id": "_A3SY50UEfRh"
      },
      "execution_count": null,
      "outputs": []
    },
    {
      "cell_type": "markdown",
      "source": [
        "<br>"
      ],
      "metadata": {
        "id": "ds06bSXbFvtA"
      }
    },
    {
      "cell_type": "code",
      "source": [
        "# check the data type of the state variable\n",
        "class(murders$state)"
      ],
      "metadata": {
        "id": "lMrbiVyuEfRh"
      },
      "execution_count": null,
      "outputs": []
    },
    {
      "cell_type": "markdown",
      "source": [
        "<br>\n",
        "\n",
        "<br>"
      ],
      "metadata": {
        "id": "5rU6qG6wnkH3"
      }
    },
    {
      "cell_type": "markdown",
      "source": [
        "#### `length()`"
      ],
      "metadata": {
        "id": "KYOKkjngnkIE"
      }
    },
    {
      "cell_type": "markdown",
      "source": [
        "* The `length()` function outputs the length of the vector"
      ],
      "metadata": {
        "id": "KjrNISaCnkIF"
      }
    },
    {
      "cell_type": "code",
      "source": [
        "# determine the length of a vector\n",
        "length(murders$total)"
      ],
      "metadata": {
        "id": "CWyrkWIPnkIF"
      },
      "execution_count": null,
      "outputs": []
    },
    {
      "cell_type": "markdown",
      "source": [
        "<br>\n",
        "\n",
        "<br>"
      ],
      "metadata": {
        "id": "QMFTwgEk6Fvj"
      }
    },
    {
      "cell_type": "markdown",
      "source": [
        "## Creating Vectors and Data Frames"
      ],
      "metadata": {
        "id": "H_kzKln4KWa9"
      }
    },
    {
      "cell_type": "markdown",
      "source": [
        "* If we collected our own data, we would like to store the data in a data frame\n",
        "\n",
        "* Therefore, it would be helpful to know how to create our own vectors and data frames\n",
        "\n"
      ],
      "metadata": {
        "id": "JfLZz0fjbk3_"
      }
    },
    {
      "cell_type": "markdown",
      "source": [
        "<br>\n",
        "\n",
        "<br>"
      ],
      "metadata": {
        "id": "Y_rhBRqksTNS"
      }
    },
    {
      "cell_type": "markdown",
      "metadata": {
        "id": "YnsMvFUkrP5X"
      },
      "source": [
        "### Creating Vectors"
      ]
    },
    {
      "cell_type": "markdown",
      "source": [
        "* We can create vectors using the `c()` function\n",
        "\n",
        "* Here, the 'c' in `c()` represents the word \"concatenate\"\n",
        "\n",
        "* To concatenate a set of objects is to link them or connect them together"
      ],
      "metadata": {
        "id": "80HtCmj7rWjo"
      }
    },
    {
      "cell_type": "markdown",
      "source": [
        "<br>\n",
        "\n",
        "<br>"
      ],
      "metadata": {
        "id": "caKAgmbsrrbb"
      }
    },
    {
      "cell_type": "markdown",
      "source": [
        "* The example below concatenates the number 2 and 8 using the `c()` to create a vector\n",
        "\n",
        "* The vector is then assigned to the variable `my_vector`"
      ],
      "metadata": {
        "id": "2lS3Uph7rr0o"
      }
    },
    {
      "cell_type": "code",
      "source": [
        "# create a vector using the c() function\n",
        "my_vector <- c(2, 8)\n",
        "my_vector"
      ],
      "metadata": {
        "id": "ESQlOtxbryco"
      },
      "execution_count": null,
      "outputs": []
    },
    {
      "cell_type": "code",
      "source": [
        "# check the class of my_vector\n",
        "class(my_vector)"
      ],
      "metadata": {
        "id": "gR-CV8OJsF2Z"
      },
      "execution_count": null,
      "outputs": []
    },
    {
      "cell_type": "markdown",
      "source": [
        "<br>\n",
        "\n",
        "<br>"
      ],
      "metadata": {
        "id": "j2heRAG4sYw6"
      }
    },
    {
      "cell_type": "markdown",
      "metadata": {
        "id": "5IrmBLL9tKGD"
      },
      "source": [
        "### Creating data frames"
      ]
    },
    {
      "cell_type": "markdown",
      "source": [
        "* Variables (columns) of a data frame are vectors\n",
        "\n",
        "* We can create a data frame from several vectors\n",
        "\n",
        "* Note that these vectors must all be the same length"
      ],
      "metadata": {
        "id": "tNOjPf3msYw7"
      }
    },
    {
      "cell_type": "markdown",
      "source": [
        "<br>\n",
        "\n",
        "<br>"
      ],
      "metadata": {
        "id": "tvy9elmOtT2S"
      }
    },
    {
      "cell_type": "markdown",
      "source": [
        "* Let's create a data frame with 4 observations (rows) and 4 variables (columns)\n",
        "\n",
        "* The first step is to create the vectors for each variable\n",
        "  * mood\n",
        "  * hours\n",
        "  * weather\n",
        "  * calories"
      ],
      "metadata": {
        "id": "Zx_WrlkDtVfe"
      }
    },
    {
      "cell_type": "code",
      "source": [
        "# create variables using c()\n",
        "mood        <- c(\"happy\", \"sad\", \"sad\", \"happy\")\n",
        "hours       <- c(1, 2, 1, 4)\n",
        "weather     <- c(\"sunny\", \"cloudy\", \"cloudy\", \"sunny\")\n",
        "temperature <- c(75, 62, 71, 83)"
      ],
      "metadata": {
        "id": "OLayb1oztkmg"
      },
      "execution_count": null,
      "outputs": []
    },
    {
      "cell_type": "markdown",
      "source": [
        "<br>\n",
        "\n",
        "<br>"
      ],
      "metadata": {
        "id": "q7jITypMuU5q"
      }
    },
    {
      "cell_type": "markdown",
      "source": [
        "* Using the four vectors above, we can create a data frame using the `data.frame()` function"
      ],
      "metadata": {
        "id": "42B2uOt1uVoB"
      }
    },
    {
      "cell_type": "code",
      "source": [
        "my_data <- data.frame(mood, hours, weather, temperature)\n",
        "my_data"
      ],
      "metadata": {
        "id": "eQtaEzsnuTnm"
      },
      "execution_count": null,
      "outputs": []
    },
    {
      "cell_type": "markdown",
      "source": [
        "<br>\n",
        "\n",
        "<br>"
      ],
      "metadata": {
        "id": "Mg_nYhoEveM0"
      }
    },
    {
      "cell_type": "markdown",
      "metadata": {
        "id": "_vZ292OgvZM9"
      },
      "source": [
        "#### Variable names"
      ]
    },
    {
      "cell_type": "markdown",
      "source": [
        "* Setting variable names when defining the data frame"
      ],
      "metadata": {
        "id": "UmNXWlZav7N3"
      }
    },
    {
      "cell_type": "code",
      "source": [
        "# specifying variable names\n",
        "my_data <- data.frame(my_mood = mood, number_hours = hours, type_of_weather = weather, temperatureF = temperature)\n",
        "my_data"
      ],
      "metadata": {
        "id": "hZwZOmJ0uw4m"
      },
      "execution_count": null,
      "outputs": []
    },
    {
      "cell_type": "markdown",
      "source": [
        "<br>"
      ],
      "metadata": {
        "id": "Ss6muY4MoyLU"
      }
    },
    {
      "cell_type": "markdown",
      "source": [
        "* Overwriting existing variable names"
      ],
      "metadata": {
        "id": "XHlYTeDso1t6"
      }
    },
    {
      "cell_type": "code",
      "source": [
        "# redefine the data frame using old names\n",
        "my_data <- data.frame(mood, hours, weather, temperature)\n",
        "my_data"
      ],
      "metadata": {
        "id": "V0dMKJ0doz0k"
      },
      "execution_count": null,
      "outputs": []
    },
    {
      "cell_type": "code",
      "source": [
        "# check names of the data frame using names()\n",
        "names(my_data)"
      ],
      "metadata": {
        "id": "H2eCm4HMo9gU"
      },
      "execution_count": null,
      "outputs": []
    },
    {
      "cell_type": "markdown",
      "source": [
        "<br>"
      ],
      "metadata": {
        "id": "-Y1vY96fpHiE"
      }
    },
    {
      "cell_type": "markdown",
      "source": [
        "* Create a new character vector of variable names"
      ],
      "metadata": {
        "id": "gAnstNb4pG6j"
      }
    },
    {
      "cell_type": "code",
      "source": [
        "# we can create a whole new character vector of names\n",
        "new_names <- c(\"my_mood\", \"number_hours\", \"type_of_weather\", \"temperatureF\")\n",
        "new_names"
      ],
      "metadata": {
        "id": "57nJpp6HpG6o"
      },
      "execution_count": null,
      "outputs": []
    },
    {
      "cell_type": "markdown",
      "source": [
        "<br>"
      ],
      "metadata": {
        "id": "uSH6bOcIpv-P"
      }
    },
    {
      "cell_type": "markdown",
      "source": [
        "* Overwrite the existing variable names with the new variable names"
      ],
      "metadata": {
        "id": "GPufNFVEpw5q"
      }
    },
    {
      "cell_type": "code",
      "source": [
        "# overwrite the old names using the new names\n",
        "names(my_data) <- new_names"
      ],
      "metadata": {
        "id": "-ESTIziqpaa8"
      },
      "execution_count": null,
      "outputs": []
    },
    {
      "cell_type": "code",
      "source": [
        "# check our work\n",
        "names(my_data)"
      ],
      "metadata": {
        "id": "frvjknFlpfPs"
      },
      "execution_count": null,
      "outputs": []
    },
    {
      "cell_type": "markdown",
      "source": [
        "<br>\n",
        "\n",
        "<br>"
      ],
      "metadata": {
        "id": "SW7ihUipwQT9"
      }
    },
    {
      "cell_type": "markdown",
      "metadata": {
        "id": "qeyeLprqp--e"
      },
      "source": [
        "#### Row names"
      ]
    },
    {
      "cell_type": "markdown",
      "source": [
        "* In addition to variable (column) names, R also allows names for rows of a data frame\n",
        "* We can check the row names of a data frame using the `rownames()` function"
      ],
      "metadata": {
        "id": "YIuolX2-qCoC"
      }
    },
    {
      "cell_type": "code",
      "source": [
        "my_data"
      ],
      "metadata": {
        "id": "iMGTcmZjqx2D"
      },
      "execution_count": null,
      "outputs": []
    },
    {
      "cell_type": "code",
      "source": [
        "# view the row names\n",
        "rownames(my_data)"
      ],
      "metadata": {
        "id": "mFeQITo2qXaU"
      },
      "execution_count": null,
      "outputs": []
    },
    {
      "cell_type": "markdown",
      "source": [
        "<br>"
      ],
      "metadata": {
        "id": "w8Hog97HqlFk"
      }
    },
    {
      "cell_type": "markdown",
      "source": [
        "* By default, row names of a data frame simply count the number of rows as shown above\n",
        "* We an customize our row names, similar to the variable names of a data frame"
      ],
      "metadata": {
        "id": "UE9x4eGUq600"
      }
    },
    {
      "cell_type": "code",
      "source": [
        "# create character vector of new row names\n",
        "new_row_names <- c(\"Person 1\", \"Person 2\", \"Person 3\", \"Person 4\")"
      ],
      "metadata": {
        "id": "PwH2M3qTrEhc"
      },
      "execution_count": null,
      "outputs": []
    },
    {
      "cell_type": "code",
      "source": [
        "# overwrite old row names\n",
        "rownames(my_data) <- new_row_names\n",
        "my_data"
      ],
      "metadata": {
        "id": "z1YykM8urO9g"
      },
      "execution_count": null,
      "outputs": []
    },
    {
      "cell_type": "markdown",
      "source": [
        "<br>\n",
        "\n",
        "<br>"
      ],
      "metadata": {
        "id": "SjDVqqMgp_qW"
      }
    }
  ]
}