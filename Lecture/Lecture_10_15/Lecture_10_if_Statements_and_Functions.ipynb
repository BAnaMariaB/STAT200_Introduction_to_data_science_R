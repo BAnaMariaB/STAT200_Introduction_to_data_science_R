{
  "nbformat": 4,
  "nbformat_minor": 0,
  "metadata": {
    "colab": {
      "provenance": [],
      "collapsed_sections": [
        "DaReKmsLEbh1",
        "JAiPp8CRF-B4",
        "zzb9m2ccxQb7"
      ]
    },
    "kernelspec": {
      "name": "ir",
      "display_name": "R"
    }
  },
  "cells": [
    {
      "cell_type": "markdown",
      "metadata": {
        "id": "gtETsh5j8vHw"
      },
      "source": [
        "# **Lecture 10 - `if` Statements and Functions**\n",
        "\n",
        "---\n",
        "\n",
        "<br>"
      ]
    },
    {
      "cell_type": "markdown",
      "source": [
        "## Packages"
      ],
      "metadata": {
        "id": "QdyJzDgAsFNZ"
      }
    },
    {
      "cell_type": "code",
      "source": [
        "# install packages for today's lecture\n",
        "install.packages(\"dslabs\")"
      ],
      "metadata": {
        "id": "O-drIaQ-4cWQ"
      },
      "execution_count": null,
      "outputs": []
    },
    {
      "cell_type": "code",
      "source": [
        "# load the necessary packages\n",
        "library(dslabs)"
      ],
      "metadata": {
        "id": "fYGjK4oX4jSn"
      },
      "execution_count": null,
      "outputs": []
    },
    {
      "cell_type": "code",
      "source": [
        "# load murders dataset from the dslabs package\n",
        "data(murders)"
      ],
      "metadata": {
        "id": "-TCNpTzSAREP"
      },
      "execution_count": null,
      "outputs": []
    },
    {
      "cell_type": "code",
      "source": [
        "# view the first few lines\n",
        "head(murders)"
      ],
      "metadata": {
        "id": "FpQhat4LAVhA"
      },
      "execution_count": null,
      "outputs": []
    },
    {
      "cell_type": "markdown",
      "source": [
        "<br>\n",
        "\n",
        "<br>"
      ],
      "metadata": {
        "id": "5hXqBQkzhere"
      }
    },
    {
      "cell_type": "markdown",
      "source": [
        "---\n",
        "\n",
        "<br>"
      ],
      "metadata": {
        "id": "jFiNcIjpjFs7"
      }
    },
    {
      "cell_type": "markdown",
      "metadata": {
        "id": "zZzxYxtp9b9t"
      },
      "source": [
        "## `if` Statements and Conditional Expressions"
      ]
    },
    {
      "cell_type": "markdown",
      "source": [
        "### What is an `if` statement?"
      ],
      "metadata": {
        "id": "IQ-PvCRLkpWS"
      }
    },
    {
      "cell_type": "markdown",
      "source": [
        "* `if` statements are scripts that incorporate conditional logic in your code\n",
        "\n",
        "* That is, they run lines of code only when a \"statement\" is `TRUE`\n",
        "\n",
        "* Conversely, `if` statements can avoid running lines of code when a \"statement\" is `FALSE`"
      ],
      "metadata": {
        "id": "F26NNiCRkuIs"
      }
    },
    {
      "cell_type": "markdown",
      "source": [
        "<br>\n",
        "\n",
        "<br>"
      ],
      "metadata": {
        "id": "sH87rdNVp8Yf"
      }
    },
    {
      "cell_type": "markdown",
      "source": [
        "### Why use `if` statements?\n",
        "\n",
        "* `if` statements can be used to automate data preprocessing and data analysis\n",
        "  * For example, you can use `if` statements to run a procedure if there are missing values\n",
        "\n",
        "<br>\n",
        "\n",
        "* `if` statements can also be used to print a message to help with debugging (error handling)\n",
        "\n",
        "  * For example, you can use an `if` statement to output a message if an `Age` value is less than 0"
      ],
      "metadata": {
        "id": "TZUcgCEPmLP5"
      }
    },
    {
      "cell_type": "markdown",
      "source": [
        "<br>\n",
        "\n",
        "<br>"
      ],
      "metadata": {
        "id": "_M0tOiSBmn3P"
      }
    },
    {
      "cell_type": "markdown",
      "source": [
        "### `if` Statement Syntax"
      ],
      "metadata": {
        "id": "KboNAtLbmmQW"
      }
    },
    {
      "cell_type": "markdown",
      "source": [
        "An `if` statement in `R` is created using the following syntax\n",
        "\n",
        "\n",
        "```\n",
        "if (Boolean Expression) {\n",
        "  if statement body\n",
        "}\n",
        "```\n",
        "\n",
        "* `if`\n",
        "  * An `if` statement is initiated using the `if` keyword\n",
        "\n",
        "* Boolean Expression\n",
        "  * Following the `if` keyword is a Boolean statement in parenthesis\n",
        "  * This should statement should produce a single logical value `TRUE` or `FALSE`\n",
        "\n",
        "* `if` Statement Body\n",
        "  * If the Boolean expression is `TRUE`, then the code in the `if` statement body is executed\n",
        "  * If the Boolean expression is `FALSE`, then the code in the `if` statement body is NOT executed"
      ],
      "metadata": {
        "id": "aQKusgdcocu5"
      }
    },
    {
      "cell_type": "markdown",
      "source": [
        "<br>\n",
        "\n",
        "<br>"
      ],
      "metadata": {
        "id": "A71fWfD5p-Bz"
      }
    },
    {
      "cell_type": "markdown",
      "source": [
        "### `if` Statement Examples"
      ],
      "metadata": {
        "id": "90JQZIx8qAQm"
      }
    },
    {
      "cell_type": "code",
      "metadata": {
        "id": "UBzLi2Xb_mgU"
      },
      "source": [
        "# store a logical\n",
        "my_logical <- TRUE\n",
        "\n",
        "# prints hello when statement is TRUE\n",
        "if (my_logical) {\n",
        "  print(\"Hello\")\n",
        "}"
      ],
      "execution_count": null,
      "outputs": []
    },
    {
      "cell_type": "markdown",
      "source": [
        "<br>"
      ],
      "metadata": {
        "id": "LiccZOai2KIR"
      }
    },
    {
      "cell_type": "code",
      "source": [
        "# store a variable\n",
        "x <- 5\n",
        "\n",
        "# prints hello when statement is TRUE\n",
        "if (x < 10) {\n",
        "  print(\"Hello\")\n",
        "}"
      ],
      "metadata": {
        "id": "Zi_s5FIb2FDx"
      },
      "execution_count": null,
      "outputs": []
    },
    {
      "cell_type": "markdown",
      "source": [
        "<br>"
      ],
      "metadata": {
        "id": "pswNiQMCqMSu"
      }
    },
    {
      "cell_type": "code",
      "metadata": {
        "id": "K5iUKeViA8q5"
      },
      "source": [
        "# store a character\n",
        "x <- \"five\"\n",
        "\n",
        "# does not print hello since statement is FALSE\n",
        "if (x == 5) {\n",
        "  print(\"Hello\")\n",
        "}\n",
        "\n",
        "print(\"Did not print 'Hello'\")"
      ],
      "execution_count": null,
      "outputs": []
    },
    {
      "cell_type": "markdown",
      "source": [
        "<br>"
      ],
      "metadata": {
        "id": "laOlu-O9qNTS"
      }
    },
    {
      "cell_type": "code",
      "metadata": {
        "id": "0oRXKBJhBGgt"
      },
      "source": [
        "# 1 is equivalent to TRUE\n",
        "if (1) {\n",
        "  print(\"Hello\")\n",
        "}"
      ],
      "execution_count": null,
      "outputs": []
    },
    {
      "cell_type": "markdown",
      "source": [
        "<br>"
      ],
      "metadata": {
        "id": "8x7pt16aqO1q"
      }
    },
    {
      "cell_type": "code",
      "metadata": {
        "id": "-EoQsn0KBMY8"
      },
      "source": [
        "# 0 is equivalent to FALSE\n",
        "if (0) {\n",
        "  print(\"Hello\")\n",
        "}\n",
        "# does not print anything since the statement is false"
      ],
      "execution_count": null,
      "outputs": []
    },
    {
      "cell_type": "markdown",
      "source": [
        "<br>\n",
        "\n",
        "<br>"
      ],
      "metadata": {
        "id": "c78eCfWpqXpK"
      }
    },
    {
      "cell_type": "markdown",
      "source": [
        "### `if, else, else if` Statements"
      ],
      "metadata": {
        "id": "bsJrrVOqqXpK"
      }
    },
    {
      "cell_type": "markdown",
      "source": [
        "* If the Boolean expression produces a `FALSE`, we can use an `else` statement to execute a different block of code"
      ],
      "metadata": {
        "id": "NHmKVPwlqc1Y"
      }
    },
    {
      "cell_type": "code",
      "metadata": {
        "id": "AU2ZMYTNBZx1"
      },
      "source": [
        "# if else statement\n",
        "# if the first statement is TRUE then print \"Hello\"\n",
        "# But if the first statement is not TRUE then print \"Sorry, first statement not true\"\n",
        "\n",
        "x <- 5\n",
        "\n",
        "if (x > 10) {\n",
        "  print(\"Hello\")\n",
        "\n",
        "} else {\n",
        "  print(\"Sorry, first statement not true\")\n",
        "}"
      ],
      "execution_count": null,
      "outputs": []
    },
    {
      "cell_type": "markdown",
      "source": [
        "<br>"
      ],
      "metadata": {
        "id": "XvaCY9CdqyHi"
      }
    },
    {
      "cell_type": "markdown",
      "source": [
        "* If the Boolean expression produces a `FALSE`, we can use an `else if` statement to evaluate another Boolean expression and execute a different block of code if the expression is `TRUE`"
      ],
      "metadata": {
        "id": "hv_PATLmq2Sr"
      }
    },
    {
      "cell_type": "code",
      "metadata": {
        "id": "S8KfnhlutbkQ"
      },
      "source": [
        "# if else if statement\n",
        "# if the first statement is TRUE then print \"Hello\"\n",
        "# if the first statement is not TRUE and the second statement is TRUE then print \"Sorry, first statement not true\"\n",
        "# if the first two statements are not true, then default to third statement\n",
        "\n",
        "x <- 5\n",
        "\n",
        "if (x > 10) {\n",
        "  print(\"Hello\")\n",
        "\n",
        "} else if (x < 7) {\n",
        "  print(\"Sorry, first statement not true\")\n",
        "\n",
        "} else {\n",
        "  print(\"Default to the third statement\")\n",
        "}"
      ],
      "execution_count": null,
      "outputs": []
    },
    {
      "cell_type": "markdown",
      "source": [
        "<br>"
      ],
      "metadata": {
        "id": "JcDe7YavrC3q"
      }
    },
    {
      "cell_type": "code",
      "source": [
        "# if else if statement\n",
        "# if the first statement is TRUE then print \"Hello\"\n",
        "# if the first statement is not TRUE and the second statement is TRUE then print \"Sorry, first statement not true\"\n",
        "# if the first two statements are not true, then default to third statement\n",
        "\n",
        "x <- 8\n",
        "\n",
        "if (x > 10) {\n",
        "  print(\"Hello\")\n",
        "\n",
        "} else if (x < 7) {\n",
        "  print(\"Sorry, first statement not true\")\n",
        "\n",
        "} else {\n",
        "  print(\"Default to the third statement\")\n",
        "}"
      ],
      "metadata": {
        "id": "rOr8sJuErEE9"
      },
      "execution_count": null,
      "outputs": []
    },
    {
      "cell_type": "markdown",
      "source": [
        "<br>\n",
        "\n",
        "<br>"
      ],
      "metadata": {
        "id": "9OZvSerJ3H4L"
      }
    },
    {
      "cell_type": "markdown",
      "source": [
        "### `ifelse()`"
      ],
      "metadata": {
        "id": "L6f5eNdUsNV7"
      }
    },
    {
      "cell_type": "markdown",
      "source": [
        "* A shorthand for of an `if-else` statement can be written using the `ifelse()` function"
      ],
      "metadata": {
        "id": "VH0RYLaRsNV7"
      }
    },
    {
      "cell_type": "code",
      "source": [
        "# traditional approach\n",
        "if (FALSE) {\n",
        "  print(\"Hello\")\n",
        "} else {\n",
        "  print(\"Sorry, first statement not true\")\n",
        "}"
      ],
      "metadata": {
        "id": "En_l5m8gscG-"
      },
      "execution_count": null,
      "outputs": []
    },
    {
      "cell_type": "markdown",
      "source": [
        "<br>"
      ],
      "metadata": {
        "id": "57IQqsgSsqar"
      }
    },
    {
      "cell_type": "code",
      "source": [
        "# using ifelse()\n",
        "ifelse(FALSE, \"Hello\", \"Sorry, first statement not true\")"
      ],
      "metadata": {
        "id": "2r9C_J2eseRo"
      },
      "execution_count": null,
      "outputs": []
    },
    {
      "cell_type": "markdown",
      "source": [
        "<br>\n",
        "\n",
        "<br>"
      ],
      "metadata": {
        "id": "uWPVzwM5sNV5"
      }
    },
    {
      "cell_type": "markdown",
      "source": [
        "---\n",
        "\n",
        "<br>"
      ],
      "metadata": {
        "id": "sE2hwwuh3H4L"
      }
    },
    {
      "cell_type": "markdown",
      "metadata": {
        "id": "nyupfahm3QPb"
      },
      "source": [
        "## Functions"
      ]
    },
    {
      "cell_type": "markdown",
      "metadata": {
        "id": "8NNJrHbIvuNV"
      },
      "source": [
        "### What are functions in R?\n",
        "\n",
        "<img src=\"https://upload.wikimedia.org/wikipedia/commons/thumb/3/3b/Function_machine2.svg/1200px-Function_machine2.svg.png\" style=\"background-color:red;\" width=\"300\" >"
      ]
    },
    {
      "cell_type": "markdown",
      "metadata": {
        "id": "qMsl45QEvxy-"
      },
      "source": [
        "Functions in R\n",
        "1. take one or more arguments as input,\n",
        "\n",
        "2. perform a given task using these inputs, and\n",
        "\n",
        "3. return one or more objects as output"
      ]
    },
    {
      "cell_type": "markdown",
      "source": [
        "<br>"
      ],
      "metadata": {
        "id": "Rmwl3dLjrrSc"
      }
    },
    {
      "cell_type": "markdown",
      "metadata": {
        "id": "q5RuxEjQzPBA"
      },
      "source": [
        "Example: The minimum function `min()`\n",
        "1. takes a numeric vector as input,\n",
        "\n",
        "2. finds the minimum of the vector, and\n",
        "\n",
        "3. returns the minimum"
      ]
    },
    {
      "cell_type": "markdown",
      "metadata": {
        "id": "lJNwNA7gxNlw"
      },
      "source": [
        "<br>"
      ]
    },
    {
      "cell_type": "markdown",
      "metadata": {
        "id": "0GGLVLDt1CNa"
      },
      "source": [
        "### Why use functions?\n",
        "\n",
        "* Avoid running several lines over and over again (i.e. more efficient coding)\n",
        "\n",
        "* Allows us to use functions others have built without having to know what it does internally!\n",
        "  * This becomes useful when we start using functions to implement complex statistical algorithms"
      ]
    },
    {
      "cell_type": "markdown",
      "metadata": {
        "id": "HETcZP6e1IKQ"
      },
      "source": [
        "<br>"
      ]
    },
    {
      "cell_type": "markdown",
      "source": [
        "### Function Syntax"
      ],
      "metadata": {
        "id": "mAsISsmTvCqV"
      }
    },
    {
      "cell_type": "markdown",
      "metadata": {
        "id": "cqAZTmRxxE5V"
      },
      "source": [
        "An R function is created using the keyword `function()` using the syntax below\n",
        "\n",
        "\n",
        "```\n",
        "function_name <- function(arg_1, arg_2, ...) {\n",
        "   Function body\n",
        "   return(output)\n",
        "}\n",
        "```\n",
        "\n",
        "* Function Name\n",
        "  * this is the actual name of the function and is stored as an R object of class type 'function'\n",
        "\n",
        "* Arguments\n",
        "  * Arguments (`arg_1, arg_2, ...`) are placeholders. When you call a function, you pass a value (e.g., number, vector, dataframe etc.) to the argument\n",
        "\n",
        "* Function Body\n",
        "  * This is a collection of R commands performed by the function when it is called\n",
        "\n",
        "* Return Value\n",
        "  * Returns the value of the function and is the last expression in the function body\n",
        "\n"
      ]
    },
    {
      "cell_type": "markdown",
      "metadata": {
        "id": "4jdbcvf7wr_q"
      },
      "source": [
        "<br>\n",
        "\n",
        "<br>"
      ]
    },
    {
      "cell_type": "markdown",
      "metadata": {
        "id": "qk5RjuMn24NX"
      },
      "source": [
        "### Creating our own mode function `myMode()`\n"
      ]
    },
    {
      "cell_type": "markdown",
      "metadata": {
        "id": "lZBeTihd3GZN"
      },
      "source": [
        "* Three measures of central tendency in data\n",
        "  * mean\n",
        "  * median\n",
        "  * mode"
      ]
    },
    {
      "cell_type": "markdown",
      "source": [
        "<br>"
      ],
      "metadata": {
        "id": "1Z4BcZqGtQNS"
      }
    },
    {
      "cell_type": "markdown",
      "source": [
        "* We are already familiar with the `mean()` and `median()` functions\n"
      ],
      "metadata": {
        "id": "i5J2UgBXuSbF"
      }
    },
    {
      "cell_type": "code",
      "source": [
        "# using the mean function\n",
        "mean(murders$total)"
      ],
      "metadata": {
        "id": "W8sCWJVSuTQA"
      },
      "execution_count": null,
      "outputs": []
    },
    {
      "cell_type": "code",
      "source": [
        "# using the median function\n",
        "median(murders$total)"
      ],
      "metadata": {
        "id": "EREmCBxvuZ9p"
      },
      "execution_count": null,
      "outputs": []
    },
    {
      "cell_type": "markdown",
      "source": [
        "<br>"
      ],
      "metadata": {
        "id": "AANQivfRuTxh"
      }
    },
    {
      "cell_type": "markdown",
      "source": [
        "\n",
        "* `R` does not have a built-in function to find the mode\n",
        "\n",
        "* We can build our own!"
      ],
      "metadata": {
        "id": "q-x-NTSxtRMb"
      }
    },
    {
      "cell_type": "markdown",
      "metadata": {
        "id": "xyGWKCl64OZK"
      },
      "source": [
        "<br>"
      ]
    },
    {
      "cell_type": "markdown",
      "metadata": {
        "id": "9TSGiMHy4Oy4"
      },
      "source": [
        "* The mode of a vector is the value that occurs most often.\n",
        "\n",
        "<br>\n",
        "\n",
        "\n",
        "* What is the mode of the following vector (without using R)?\n",
        "```\n",
        "c(4, 8, 4, 8, 4, 5)\n",
        "```\n",
        "\n",
        "\n"
      ]
    },
    {
      "cell_type": "markdown",
      "metadata": {
        "id": "UJaBvZrF49rZ"
      },
      "source": [
        "<br>"
      ]
    },
    {
      "cell_type": "markdown",
      "metadata": {
        "id": "NB563Cze4zTQ"
      },
      "source": [
        "How do we arrive at the answer above?\n",
        "1. Identified the unique values of the vector\n",
        "2. Counted the occurrence of the unique values\n",
        "3. Returned the value that occurred most often\n",
        "\n",
        "We can replicate these steps in R"
      ]
    },
    {
      "cell_type": "markdown",
      "source": [
        "<br>"
      ],
      "metadata": {
        "id": "1qZF23_5uwC_"
      }
    },
    {
      "cell_type": "markdown",
      "source": [
        "* Identify the unique values of a vector and count occurence of unique values using `table()`"
      ],
      "metadata": {
        "id": "sxNtAUQkvXbw"
      }
    },
    {
      "cell_type": "code",
      "metadata": {
        "id": "Rfl9w7Tl1Skp"
      },
      "source": [
        "my_vector <- c(4, 8, 4, 8, 4, 5)\n",
        "\n",
        "# the table() function finds the frequency/counts of\n",
        "# all unique values in the vector\n",
        "vector_freq <- table(my_vector)\n",
        "vector_freq"
      ],
      "execution_count": null,
      "outputs": []
    },
    {
      "cell_type": "markdown",
      "source": [
        "<br>"
      ],
      "metadata": {
        "id": "EmOowjPsuzdG"
      }
    },
    {
      "cell_type": "markdown",
      "source": [
        "* Find the index of the maximum"
      ],
      "metadata": {
        "id": "6VOmx5invkc0"
      }
    },
    {
      "cell_type": "code",
      "metadata": {
        "id": "5qocqAJu7qkJ"
      },
      "source": [
        "# Find the index of the maximum\n",
        "max_index <- which.max(vector_freq)\n",
        "max_index"
      ],
      "execution_count": null,
      "outputs": []
    },
    {
      "cell_type": "markdown",
      "source": [
        "<br>"
      ],
      "metadata": {
        "id": "KXfjTiJ-u09z"
      }
    },
    {
      "cell_type": "markdown",
      "source": [
        "* Find the number that occurs most often"
      ],
      "metadata": {
        "id": "yN6dahfovmw7"
      }
    },
    {
      "cell_type": "code",
      "metadata": {
        "id": "9Pc9vN4Z8ZPp"
      },
      "source": [
        "# Find the number corresponding to the max index\n",
        "mode_out <- names(vector_freq[max_index])\n",
        "mode_out"
      ],
      "execution_count": null,
      "outputs": []
    },
    {
      "cell_type": "code",
      "source": [
        "class(mode_out)"
      ],
      "metadata": {
        "id": "Wl22zCA5vzc8"
      },
      "execution_count": null,
      "outputs": []
    },
    {
      "cell_type": "markdown",
      "source": [
        "<br>"
      ],
      "metadata": {
        "id": "fZLBAL2wu1VI"
      }
    },
    {
      "cell_type": "markdown",
      "source": [
        "* The variable `mode_out` is a `character` data type\n",
        "* Therefore, we should convert `mode_out` to a `numeric` data type\n"
      ],
      "metadata": {
        "id": "Aad-Va5pv10W"
      }
    },
    {
      "cell_type": "code",
      "metadata": {
        "id": "Xj7aGfOQ8u0V"
      },
      "source": [
        "# need to convert the value to a number\n",
        "as.numeric(mode_out)"
      ],
      "execution_count": null,
      "outputs": []
    },
    {
      "cell_type": "markdown",
      "source": [
        "<br>"
      ],
      "metadata": {
        "id": "EwA6MbKsu1yR"
      }
    },
    {
      "cell_type": "markdown",
      "source": [
        "* Place them all together into a single script\n",
        "* Not a function yet!!!"
      ],
      "metadata": {
        "id": "3GebDwdAwCSi"
      }
    },
    {
      "cell_type": "code",
      "metadata": {
        "id": "UBqy_DCW9JCQ"
      },
      "source": [
        "# vector\n",
        "my_vector <- c(4, 8, 4, 8, 4, 5)\n",
        "\n",
        "# count frequency of unique values\n",
        "vector_freq <- table(my_vector)\n",
        "\n",
        "# find index of maximum counts\n",
        "max_index <- which.max(vector_freq)\n",
        "\n",
        "# extract the number corresponding to max frequency\n",
        "mode_out <- names(vector_freq[max_index])\n",
        "\n",
        "# convert the mode to a numeric class\n",
        "as.numeric(mode_out)"
      ],
      "execution_count": null,
      "outputs": []
    },
    {
      "cell_type": "markdown",
      "metadata": {
        "id": "Gdkabw2i9DHj"
      },
      "source": [
        "<br>\n",
        "\n",
        "<br>"
      ]
    },
    {
      "cell_type": "markdown",
      "metadata": {
        "id": "ldr3GGHW9DH9"
      },
      "source": [
        "### Creating the myMode function"
      ]
    },
    {
      "cell_type": "markdown",
      "source": [
        "* We can now convert the script above into a function"
      ],
      "metadata": {
        "id": "wtIZ15r5wctI"
      }
    },
    {
      "cell_type": "code",
      "metadata": {
        "id": "FoQ2QmpC9Ys4"
      },
      "source": [
        "myMode <- function(my_vector) {\n",
        "\n",
        "  # find frequencies\n",
        "  vector_freq <- table(my_vector)\n",
        "\n",
        "  # find max index\n",
        "  max_index <- which.max(vector_freq)\n",
        "\n",
        "  # find value with max index\n",
        "  mode_out <- names(vector_freq[max_index])\n",
        "\n",
        "  # our return statement\n",
        "  return(as.numeric(mode_out))\n",
        "}"
      ],
      "execution_count": null,
      "outputs": []
    },
    {
      "cell_type": "code",
      "metadata": {
        "id": "PSCMFVul9q65"
      },
      "source": [
        "# running the myMode() function\n",
        "myMode(c(4, 8, 4, 8, 4, 5))"
      ],
      "execution_count": null,
      "outputs": []
    },
    {
      "cell_type": "markdown",
      "metadata": {
        "id": "f15p6lY3wsSQ"
      },
      "source": [
        "<br>"
      ]
    },
    {
      "cell_type": "markdown",
      "source": [
        "* We aren't quite done yet!\n",
        "\n",
        "* What happens if we have multiple modes (i.e. more than one value have a tie for occurring most often)?"
      ],
      "metadata": {
        "id": "hgYA405Cw_QN"
      }
    },
    {
      "cell_type": "markdown",
      "source": [
        "<br>"
      ],
      "metadata": {
        "id": "iNBp1hrRxXjT"
      }
    },
    {
      "cell_type": "markdown",
      "metadata": {
        "id": "NaI8XaQG-DZf"
      },
      "source": [
        "* What is the mode of the following vector?\n",
        "\n",
        "```\n",
        "c(4, 8, 4, 8, 4, 5, 8)\n",
        "```"
      ]
    },
    {
      "cell_type": "code",
      "metadata": {
        "id": "PQdee2XT-CEp"
      },
      "source": [
        "# running the myMode() function\n",
        "myMode(c(4, 8, 4, 8, 4, 5, 8))"
      ],
      "execution_count": null,
      "outputs": []
    },
    {
      "cell_type": "markdown",
      "source": [
        "<br>"
      ],
      "metadata": {
        "id": "q2NRK6yBxc6G"
      }
    },
    {
      "cell_type": "markdown",
      "metadata": {
        "id": "5OjiT1Rf-ghC"
      },
      "source": [
        "* The `which.max()` function only returns the index of the first maximum value\n",
        "* We want to return all values corresponding to the maximum frequency"
      ]
    },
    {
      "cell_type": "code",
      "metadata": {
        "id": "5L7sLE8I-yhj"
      },
      "source": [
        "my_vector <- c(4, 8, 4, 8, 4, 5, 8)\n",
        "\n",
        "# find frequencies\n",
        "vector_freq <- table(my_vector)\n",
        "vector_freq"
      ],
      "execution_count": null,
      "outputs": []
    },
    {
      "cell_type": "markdown",
      "source": [
        "<br>"
      ],
      "metadata": {
        "id": "PEsOwe2PxobM"
      }
    },
    {
      "cell_type": "markdown",
      "source": [
        "* Find the maximum frequency"
      ],
      "metadata": {
        "id": "bY9iePLdyIlH"
      }
    },
    {
      "cell_type": "code",
      "metadata": {
        "id": "6E_jwIEf_OG6"
      },
      "source": [
        "# find maximum frequency\n",
        "max_freq <- max(vector_freq)\n",
        "max_freq"
      ],
      "execution_count": null,
      "outputs": []
    },
    {
      "cell_type": "markdown",
      "source": [
        "<br>"
      ],
      "metadata": {
        "id": "CzoRlMlvxovg"
      }
    },
    {
      "cell_type": "markdown",
      "source": [
        "* We can use a Boolean expression to find which frequencies equal the max frequency"
      ],
      "metadata": {
        "id": "Pb_9BNWbx_ri"
      }
    },
    {
      "cell_type": "code",
      "metadata": {
        "id": "YJkG7BJZ_c5Q"
      },
      "source": [
        "# find max index\n",
        "max_index <- which(vector_freq == max_freq)\n",
        "max_index"
      ],
      "execution_count": null,
      "outputs": []
    },
    {
      "cell_type": "markdown",
      "source": [
        "<br>"
      ],
      "metadata": {
        "id": "OcInl8Ljxo4g"
      }
    },
    {
      "cell_type": "markdown",
      "source": [
        "* Extract all numbers corresponding to the max frequency"
      ],
      "metadata": {
        "id": "OCRZkKQHyRgD"
      }
    },
    {
      "cell_type": "code",
      "metadata": {
        "id": "Ei72VeZj_mjp"
      },
      "source": [
        "mode_out <- names(vector_freq)[max_index]\n",
        "mode_out"
      ],
      "execution_count": null,
      "outputs": []
    },
    {
      "cell_type": "markdown",
      "source": [
        "<br>"
      ],
      "metadata": {
        "id": "QaU4rXiQxpAH"
      }
    },
    {
      "cell_type": "markdown",
      "source": [
        "* Convert the modes to a `numeric` data type"
      ],
      "metadata": {
        "id": "a6qsIx1RyUs-"
      }
    },
    {
      "cell_type": "code",
      "metadata": {
        "id": "QTFl7xf9_vRg"
      },
      "source": [
        "as.numeric(mode_out)"
      ],
      "execution_count": null,
      "outputs": []
    },
    {
      "cell_type": "markdown",
      "source": [
        "<br>"
      ],
      "metadata": {
        "id": "5xzIDL3wyuqd"
      }
    },
    {
      "cell_type": "markdown",
      "source": [
        "* We can now convert the script above into a function"
      ],
      "metadata": {
        "id": "bcpd_Jx8yjt_"
      }
    },
    {
      "cell_type": "code",
      "metadata": {
        "id": "EfpyCdvxABQA"
      },
      "source": [
        "myMode <- function(my_vector) {\n",
        "\n",
        "  # find frequencies\n",
        "  vector_freq <- table(my_vector)\n",
        "\n",
        "  # find max index(es)\n",
        "  max_freq  <- max(vector_freq)\n",
        "  max_index <- which(vector_freq == max_freq)\n",
        "\n",
        "  # find value with max index\n",
        "  mode_out <- names(vector_freq)[max_index]\n",
        "\n",
        "  # our return statement\n",
        "  return(as.numeric(mode_out))\n",
        "}"
      ],
      "execution_count": null,
      "outputs": []
    },
    {
      "cell_type": "code",
      "metadata": {
        "id": "alg79hjpAWXt"
      },
      "source": [
        "myMode(c(4, 8, 4, 8, 4, 5, 8))"
      ],
      "execution_count": null,
      "outputs": []
    },
    {
      "cell_type": "markdown",
      "metadata": {
        "id": "qZzZtw5jyjt9"
      },
      "source": [
        "<br>\n",
        "\n",
        "<br>"
      ]
    },
    {
      "cell_type": "markdown",
      "metadata": {
        "id": "rsPF5O8Wyjt_"
      },
      "source": [
        "### More Function Customizations"
      ]
    },
    {
      "cell_type": "markdown",
      "metadata": {
        "id": "cNHEf0lCA2oN"
      },
      "source": [
        "What if we want a warning if there is more than one mode?\n",
        "* We can include print and if statements"
      ]
    },
    {
      "cell_type": "markdown",
      "source": [
        "<br>"
      ],
      "metadata": {
        "id": "O7Q3WYjOy6Mm"
      }
    },
    {
      "cell_type": "markdown",
      "source": [
        "* Determine the number of modes using the `length()` function"
      ],
      "metadata": {
        "id": "-YJ0tlcKy7LN"
      }
    },
    {
      "cell_type": "code",
      "metadata": {
        "id": "5VH1h0O7BHVz"
      },
      "source": [
        "modes <- myMode(c(4, 8, 4, 8, 4, 5, 8))\n",
        "modes\n",
        "\n",
        "length(modes)  # number of modes"
      ],
      "execution_count": null,
      "outputs": []
    },
    {
      "cell_type": "markdown",
      "source": [
        "<br>"
      ],
      "metadata": {
        "id": "SX8vjuo4zF3L"
      }
    },
    {
      "cell_type": "markdown",
      "source": [
        "* `paste()` is another `R` function that enables concatenate character strings and code"
      ],
      "metadata": {
        "id": "5rUaGF1PzHBs"
      }
    },
    {
      "cell_type": "code",
      "metadata": {
        "id": "h7dMuQENBz3q"
      },
      "source": [
        "paste(\"Number of modes:\", length(modes), sep=\" \")"
      ],
      "execution_count": null,
      "outputs": []
    },
    {
      "cell_type": "markdown",
      "source": [
        "<br>"
      ],
      "metadata": {
        "id": "B0yTkhSsy_y3"
      }
    },
    {
      "cell_type": "markdown",
      "source": [
        "* Incorporate the print statement in the function"
      ],
      "metadata": {
        "id": "Ho9pWv5RzUsq"
      }
    },
    {
      "cell_type": "code",
      "metadata": {
        "id": "Jhhjkn62A2oO"
      },
      "source": [
        "myMode <- function(my_vector) {\n",
        "\n",
        "  # find frequencies\n",
        "  vector_freq <- table(my_vector)\n",
        "\n",
        "  # find max index(es)\n",
        "  max_freq  <- max(vector_freq)\n",
        "  max_index <- which(vector_freq == max_freq)\n",
        "\n",
        "  # find value with max index\n",
        "  mode_out <- names(vector_freq)[max_index]\n",
        "\n",
        "  # statement for number of modes\n",
        "  nb_modes <- length(mode_out)\n",
        "  if (nb_modes > 1) {\n",
        "    print( paste(\"Number of modes:\", length(mode_out), sep=\" \") )\n",
        "  }\n",
        "\n",
        "  # our return statement\n",
        "  return(as.numeric(mode_out))\n",
        "}"
      ],
      "execution_count": null,
      "outputs": []
    },
    {
      "cell_type": "markdown",
      "source": [
        "<br>"
      ],
      "metadata": {
        "id": "IEDWXGJbzczg"
      }
    },
    {
      "cell_type": "code",
      "metadata": {
        "id": "UV0Hpp-tCW3d"
      },
      "source": [
        "# single mode\n",
        "modes <- myMode(c(4, 8, 4, 8, 4, 5))\n",
        "modes"
      ],
      "execution_count": null,
      "outputs": []
    },
    {
      "cell_type": "markdown",
      "source": [
        "<br>"
      ],
      "metadata": {
        "id": "KvDqxW22zfD3"
      }
    },
    {
      "cell_type": "code",
      "metadata": {
        "id": "nhbiXXBzDTN2"
      },
      "source": [
        "# multiple modes\n",
        "modes <- myMode(c(4, 8, 4, 8, 4, 5, 8))"
      ],
      "execution_count": null,
      "outputs": []
    },
    {
      "cell_type": "code",
      "source": [
        "# check model output\n",
        "modes"
      ],
      "metadata": {
        "id": "GcJr6Qn7zm5B"
      },
      "execution_count": null,
      "outputs": []
    },
    {
      "cell_type": "markdown",
      "metadata": {
        "id": "AFaY6aijDffA"
      },
      "source": [
        "<br>\n",
        "\n",
        "<br>"
      ]
    },
    {
      "cell_type": "markdown",
      "metadata": {
        "id": "XR4WO-75Dffa"
      },
      "source": [
        "What if we want to be able to turn on/off verbosity (i.e. turn on/off the comments)?\n",
        "* Can add a function argument\n",
        "\n",
        "* Function arguments can have default values\n",
        "\n",
        "* We will make a verbosity argument default to `FALSE`\n",
        "\n",
        "* When the argument is `TRUE`, the function will print the statement\n"
      ]
    },
    {
      "cell_type": "markdown",
      "source": [
        "<br>"
      ],
      "metadata": {
        "id": "sf9uResezxZ4"
      }
    },
    {
      "cell_type": "code",
      "metadata": {
        "id": "l6NhvnjTDr65"
      },
      "source": [
        "myMode <- function(my_vector, verbose = FALSE) {\n",
        "\n",
        "  # find frequencies\n",
        "  vector_freq <- table(my_vector)\n",
        "\n",
        "  # find max index(es)\n",
        "  max_freq  <- max(vector_freq)\n",
        "  max_index <- which(vector_freq == max_freq)\n",
        "\n",
        "  # find value with max index\n",
        "  mode_out <- names(vector_freq)[max_index]\n",
        "\n",
        "\n",
        "  # only print if verbose is TRUE\n",
        "  if (verbose) {\n",
        "\n",
        "    # statement for number of modes\n",
        "    nb_modes <- length(mode_out)\n",
        "    if (nb_modes > 1) {\n",
        "      print( paste(\"Number of modes:\", length(modes), sep=\" \") )\n",
        "    }\n",
        "\n",
        "  }\n",
        "\n",
        "  # our return statement\n",
        "  return(as.numeric(mode_out))\n",
        "}"
      ],
      "execution_count": null,
      "outputs": []
    },
    {
      "cell_type": "markdown",
      "source": [
        "<br>"
      ],
      "metadata": {
        "id": "ULWaw1TZzzoC"
      }
    },
    {
      "cell_type": "code",
      "metadata": {
        "id": "d50aib5cDffa"
      },
      "source": [
        "modes <- myMode(c(4, 8, 4, 8, 4, 5, 8))\n",
        "modes"
      ],
      "execution_count": null,
      "outputs": []
    },
    {
      "cell_type": "markdown",
      "source": [
        "<br>"
      ],
      "metadata": {
        "id": "-Gcfj9zfz1Ng"
      }
    },
    {
      "cell_type": "code",
      "metadata": {
        "id": "jB2LL1SFEPpm"
      },
      "source": [
        "modes <- myMode(c(4, 8, 4, 8, 4, 5, 8), verbose = TRUE)\n",
        "modes"
      ],
      "execution_count": null,
      "outputs": []
    },
    {
      "cell_type": "markdown",
      "metadata": {
        "id": "pBBQObBL3-8T"
      },
      "source": [
        "<br>\n",
        "\n",
        "<br>"
      ]
    },
    {
      "cell_type": "markdown",
      "source": [
        "* What if we want to return multiple outputs:\n",
        "  * Modes of a vector\n",
        "  * Number of modes\n",
        "\n",
        "* Multiple outputs are returned as an ***unstructured list***"
      ],
      "metadata": {
        "id": "J2dLiqKH3_X3"
      }
    },
    {
      "cell_type": "code",
      "source": [
        "myMode <- function(my_vector, verbose = FALSE) {\n",
        "\n",
        "  # find frequencies\n",
        "  vector_freq <- table(my_vector)\n",
        "\n",
        "  # find max index(es)\n",
        "  max_freq  <- max(vector_freq)\n",
        "  max_index <- which(vector_freq == max_freq)\n",
        "\n",
        "  # find value with max index\n",
        "  mode_out <- names(vector_freq)[max_index]\n",
        "\n",
        "\n",
        "  # only print if verbose is TRUE\n",
        "  if (verbose) {\n",
        "\n",
        "    # statement for number of modes\n",
        "    nb_modes <- length(mode_out)\n",
        "    if (nb_modes > 1) {\n",
        "      print( paste(\"Number of modes:\", length(modes), sep=\" \") )\n",
        "    }\n",
        "\n",
        "  }\n",
        "\n",
        "  # create list of outputs\n",
        "  function_output <- list(modes        = as.numeric(mode_out),\n",
        "                          number_modes = length(mode_out))\n",
        "\n",
        "  # return list\n",
        "  return(function_output)\n",
        "}"
      ],
      "metadata": {
        "id": "lLLPxK3p4T4Q"
      },
      "execution_count": null,
      "outputs": []
    },
    {
      "cell_type": "code",
      "source": [
        "modes <- myMode(c(4, 8, 4, 8, 4, 5, 8))\n",
        "modes"
      ],
      "metadata": {
        "id": "R8c9XuIK4hfX"
      },
      "execution_count": null,
      "outputs": []
    },
    {
      "cell_type": "code",
      "source": [
        "# extract modes from output list\n",
        "modes$modes"
      ],
      "metadata": {
        "id": "DNDH_IiV4oMb"
      },
      "execution_count": null,
      "outputs": []
    },
    {
      "cell_type": "code",
      "source": [
        "# extract number of modes from output list\n",
        "modes$number_modes"
      ],
      "metadata": {
        "id": "bJ9y1U5E4pfr"
      },
      "execution_count": null,
      "outputs": []
    },
    {
      "cell_type": "markdown",
      "metadata": {
        "id": "0ldNYsRhEbhc"
      },
      "source": [
        "<br>\n",
        "\n",
        "<br>"
      ]
    },
    {
      "cell_type": "markdown",
      "metadata": {
        "id": "DaReKmsLEbh1"
      },
      "source": [
        "### Debugging\n",
        "\n",
        "* What if we want to find the mode of a character vector? What do we change?\n"
      ]
    },
    {
      "cell_type": "code",
      "metadata": {
        "id": "k3aa5XDfEbh1"
      },
      "source": [
        "modes <- myMode(c(\"four\", \"eight\", \"four\", \"eight\",\n",
        "                  \"four\", \"five\", \"eight\"))\n",
        "modes"
      ],
      "execution_count": null,
      "outputs": []
    },
    {
      "cell_type": "markdown",
      "source": [
        "<br>"
      ],
      "metadata": {
        "id": "6aKuMoNT0Ej2"
      }
    },
    {
      "cell_type": "markdown",
      "metadata": {
        "id": "UZBuItUsE6PT"
      },
      "source": [
        "* We are attempting to convert a character vector to numeric\n",
        "\n",
        "* We can avoid this by checking for this in our function"
      ]
    },
    {
      "cell_type": "code",
      "metadata": {
        "id": "cm_7f5j4E5iU"
      },
      "source": [
        "myMode <- function(my_vector, verbose = FALSE) {\n",
        "\n",
        "  # find frequencies\n",
        "  vector_freq <- table(my_vector)\n",
        "\n",
        "  # find max index(es)\n",
        "  max_freq  <- max(vector_freq)\n",
        "  max_index <- which(vector_freq == max_freq)\n",
        "\n",
        "  # find value with max index\n",
        "  mode_out <- names(vector_freq)[max_index]\n",
        "\n",
        "\n",
        "  # only print if verbose is TRUE\n",
        "  if (verbose) {\n",
        "\n",
        "    # statement for number of modes\n",
        "    nb_modes <- length(mode_out)\n",
        "    if (nb_modes > 1) {\n",
        "      print( paste(\"Number of modes:\", length(modes), sep=\" \") )\n",
        "    }\n",
        "\n",
        "  }\n",
        "\n",
        "  # our return statement\n",
        "  if (class(my_vector) == 'numeric') {\n",
        "\n",
        "    function_output <- list(modes        = as.numeric(mode_out),\n",
        "                            number_modes = length(mode_out))\n",
        "    return(function_output)\n",
        "\n",
        "  } else {\n",
        "\n",
        "    function_output <- list(modes        = mode_out,\n",
        "                            number_modes = length(mode_out))\n",
        "    return(function_output)\n",
        "\n",
        "  }\n",
        "\n",
        "}"
      ],
      "execution_count": null,
      "outputs": []
    },
    {
      "cell_type": "markdown",
      "source": [
        "<br>"
      ],
      "metadata": {
        "id": "D4YXYg2V0Ub_"
      }
    },
    {
      "cell_type": "code",
      "metadata": {
        "id": "y2BG9534FXOZ"
      },
      "source": [
        "modes <- myMode(c(\"four\", \"eight\", \"four\", \"eight\",\n",
        "                  \"four\", \"five\", \"eight\"))\n",
        "modes"
      ],
      "execution_count": null,
      "outputs": []
    },
    {
      "cell_type": "markdown",
      "metadata": {
        "id": "27NKVXyY9297"
      },
      "source": [
        "<br>\n",
        "\n",
        "<br>\n"
      ]
    },
    {
      "cell_type": "markdown",
      "metadata": {
        "id": "JAiPp8CRF-B4"
      },
      "source": [
        "## Built-in Functions"
      ]
    },
    {
      "cell_type": "markdown",
      "metadata": {
        "id": "7sZUtt2cGEzQ"
      },
      "source": [
        "The `unique()` function finds all unique values in a vector or table"
      ]
    },
    {
      "cell_type": "code",
      "metadata": {
        "id": "kANUQoqAGgte"
      },
      "source": [
        "my_vector <- c(3, 2, 4, 4, 2, 4, 4, 4, 2)\n",
        "unique(my_vector)"
      ],
      "execution_count": null,
      "outputs": []
    },
    {
      "cell_type": "markdown",
      "metadata": {
        "id": "cnLFAd0sG51k"
      },
      "source": [
        "<br>"
      ]
    },
    {
      "cell_type": "markdown",
      "metadata": {
        "id": "V1tO7PjuGre4"
      },
      "source": [
        "`sort()` sorts a vector"
      ]
    },
    {
      "cell_type": "code",
      "metadata": {
        "id": "7HfcVZ9dGt35"
      },
      "source": [
        "my_vector <- c(3, 2, 4, 4, 2, 4, 4, 4, 2)\n",
        "sort(my_vector)"
      ],
      "execution_count": null,
      "outputs": []
    },
    {
      "cell_type": "markdown",
      "metadata": {
        "id": "hibpmYQRHG2z"
      },
      "source": [
        "<br>"
      ]
    },
    {
      "cell_type": "markdown",
      "metadata": {
        "id": "CEyTq5xzHG21"
      },
      "source": [
        "We are already familiar with the `mean()` function, but the `mean()` function, like many others, have additional arguments you can use"
      ]
    },
    {
      "cell_type": "code",
      "metadata": {
        "id": "Y1MrETKiHG22"
      },
      "source": [
        "my_vector <- c(3, 2, 4, 4, 2, 4, 4, 4, 2, NA)\n",
        "mean(my_vector)"
      ],
      "execution_count": null,
      "outputs": []
    },
    {
      "cell_type": "markdown",
      "source": [
        "<br>"
      ],
      "metadata": {
        "id": "fjZ5lTJa064Y"
      }
    },
    {
      "cell_type": "markdown",
      "source": [
        "* The `mean()` function outputs `NA` if there are missing values in the numeric vector\n",
        "\n",
        "* The `mean()` function has an `na.omit` argument with a default value of `FALSE`\n",
        "\n",
        "* The `na.omit` argument can be changed to `TRUE` to remove `NA` values before calculating the mean"
      ],
      "metadata": {
        "id": "39w4qjY20fFq"
      }
    },
    {
      "cell_type": "code",
      "source": [
        "mean(my_vector, na.rm = TRUE)"
      ],
      "metadata": {
        "id": "lrdKdoRV03bm"
      },
      "execution_count": null,
      "outputs": []
    },
    {
      "cell_type": "markdown",
      "metadata": {
        "id": "6NYErywqH6OA"
      },
      "source": [
        "<br>"
      ]
    },
    {
      "cell_type": "markdown",
      "metadata": {
        "id": "MHRj0JW7H6OA"
      },
      "source": [
        "* Identify which variables you have already stored in your workspace"
      ]
    },
    {
      "cell_type": "code",
      "metadata": {
        "id": "tp56xDbsH6OB"
      },
      "source": [
        "ls()"
      ],
      "execution_count": null,
      "outputs": []
    },
    {
      "cell_type": "markdown",
      "metadata": {
        "id": "CHqFXi4KIKit"
      },
      "source": [
        "<br>"
      ]
    },
    {
      "cell_type": "markdown",
      "metadata": {
        "id": "iHBcNcx4IKiu"
      },
      "source": [
        "* Remove objects from your workspace"
      ]
    },
    {
      "cell_type": "code",
      "metadata": {
        "id": "P_g3CE9fIKiv"
      },
      "source": [
        "rm(list = ls())"
      ],
      "execution_count": null,
      "outputs": []
    },
    {
      "cell_type": "code",
      "metadata": {
        "id": "7vKUP2DdIP1C"
      },
      "source": [
        "ls()"
      ],
      "execution_count": null,
      "outputs": []
    },
    {
      "cell_type": "markdown",
      "metadata": {
        "id": "qEdERDSwH_SO"
      },
      "source": [
        "<br>"
      ]
    },
    {
      "cell_type": "markdown",
      "metadata": {
        "id": "zzb9m2ccxQb7"
      },
      "source": [
        "\n",
        "\n",
        "## Scope of functions"
      ]
    },
    {
      "cell_type": "markdown",
      "metadata": {
        "id": "0bT9TBq6IV8G"
      },
      "source": [
        "* Scope is essentially knowing where variables can and cannot be accessed\n",
        "\n",
        "* This concept is best understood through example"
      ]
    },
    {
      "cell_type": "code",
      "metadata": {
        "id": "oPH1EGLHvQAf"
      },
      "source": [
        "# function adds 5 to x\n",
        "add_5 <- function(x) {\n",
        "  y <- x + 5\n",
        "  return(y)\n",
        "}"
      ],
      "execution_count": null,
      "outputs": []
    },
    {
      "cell_type": "code",
      "metadata": {
        "id": "iI4ROYHiInsl"
      },
      "source": [
        "add_5(2)"
      ],
      "execution_count": null,
      "outputs": []
    },
    {
      "cell_type": "markdown",
      "source": [
        "<br>"
      ],
      "metadata": {
        "id": "l9QzuB9A1DCp"
      }
    },
    {
      "cell_type": "markdown",
      "metadata": {
        "id": "NcgDVISPK6Y9"
      },
      "source": [
        "* We stored the variable `y` in this function\n",
        "* Let's see if we can access it"
      ]
    },
    {
      "cell_type": "code",
      "metadata": {
        "id": "QIIrXaxcKTvi"
      },
      "source": [
        "y"
      ],
      "execution_count": null,
      "outputs": []
    },
    {
      "cell_type": "markdown",
      "source": [
        "<br>"
      ],
      "metadata": {
        "id": "y3sDG8UE1E3y"
      }
    },
    {
      "cell_type": "markdown",
      "metadata": {
        "id": "BTafysSmKW2i"
      },
      "source": [
        "* The variable `y` only exists with the function `add_5` (i.e. the scope of `y`)\n",
        "* In this case, `y` is a **local variable** since it is define locally within a function"
      ]
    },
    {
      "cell_type": "markdown",
      "metadata": {
        "id": "1R221wRPLCCk"
      },
      "source": [
        "<br>"
      ]
    },
    {
      "cell_type": "markdown",
      "metadata": {
        "id": "CgZt-JcrLegt"
      },
      "source": [
        "* What happens in the following?"
      ]
    },
    {
      "cell_type": "code",
      "metadata": {
        "id": "ieIzOPYdJvkq"
      },
      "source": [
        "# function adds x and y\n",
        "add_y <- function(x) {\n",
        "  return(x + y)\n",
        "}"
      ],
      "execution_count": null,
      "outputs": []
    },
    {
      "cell_type": "code",
      "metadata": {
        "id": "O9d1PpmwIv8C"
      },
      "source": [
        "y <- 3\n",
        "add_y(2)"
      ],
      "execution_count": null,
      "outputs": []
    },
    {
      "cell_type": "markdown",
      "source": [
        "<br>"
      ],
      "metadata": {
        "id": "2-E84ozi1KRd"
      }
    },
    {
      "cell_type": "markdown",
      "metadata": {
        "id": "tic0VxqOLpaF"
      },
      "source": [
        "* Careful when using variables that are not defined in a function!\n",
        "* R will pull the variable globally if possible\n",
        "* This can lead to annoying bugs down the road"
      ]
    },
    {
      "cell_type": "markdown",
      "metadata": {
        "id": "eQFgHNCyLveM"
      },
      "source": [
        "<br>"
      ]
    },
    {
      "cell_type": "code",
      "metadata": {
        "id": "Kgn565NjJa40"
      },
      "source": [
        "# remove all variables\n",
        "rm(list = ls())\n",
        "\n",
        "# function adds 5 to x\n",
        "add_5 <- function(x) {\n",
        "  y <- x + 5\n",
        "  return(y)\n",
        "}"
      ],
      "execution_count": null,
      "outputs": []
    },
    {
      "cell_type": "code",
      "metadata": {
        "id": "rmz8JZFFMOFb"
      },
      "source": [
        "add_5(2)\n",
        "y"
      ],
      "execution_count": null,
      "outputs": []
    },
    {
      "cell_type": "markdown",
      "source": [
        "<br>\n",
        "\n",
        "<br>"
      ],
      "metadata": {
        "id": "XInc1gUV9CJb"
      }
    },
    {
      "cell_type": "markdown",
      "source": [
        "<br>\n",
        "\n",
        "<br>"
      ],
      "metadata": {
        "id": "7jxQ4BZW3QPc"
      }
    }
  ]
}