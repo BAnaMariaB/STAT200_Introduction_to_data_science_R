{
  "nbformat": 4,
  "nbformat_minor": 0,
  "metadata": {
    "colab": {
      "provenance": []
    },
    "kernelspec": {
      "name": "ir",
      "display_name": "R"
    }
  },
  "cells": [
    {
      "cell_type": "markdown",
      "metadata": {
        "id": "gtETsh5j8vHw"
      },
      "source": [
        "# **Lecture 13 - Importing/Exporting Data**\n",
        "\n",
        "---\n",
        "\n",
        "<br>"
      ]
    },
    {
      "cell_type": "markdown",
      "source": [
        "### Packages"
      ],
      "metadata": {
        "id": "QdyJzDgAsFNZ"
      }
    },
    {
      "cell_type": "code",
      "source": [
        "# install packages\n",
        "install.packages(\"dslabs\")\n",
        "install.packages(\"readxl\")   # imports excel spreadsheets\n",
        "install.packages(\"writexl\")  # exports excel spreadsheets"
      ],
      "metadata": {
        "id": "O-drIaQ-4cWQ"
      },
      "execution_count": null,
      "outputs": []
    },
    {
      "cell_type": "code",
      "source": [
        "# load libraries\n",
        "library(dslabs)\n",
        "library(readxl)\n",
        "library(writexl)"
      ],
      "metadata": {
        "id": "cA36kxW2pZMi"
      },
      "execution_count": null,
      "outputs": []
    },
    {
      "cell_type": "markdown",
      "source": [
        "<br>\n",
        "\n",
        "<br>"
      ],
      "metadata": {
        "id": "5hXqBQkzhere"
      }
    },
    {
      "cell_type": "markdown",
      "source": [
        "---\n",
        "\n",
        "<br>"
      ],
      "metadata": {
        "id": "jFiNcIjpjFs7"
      }
    },
    {
      "cell_type": "markdown",
      "metadata": {
        "id": "Am_oL_2OujkL"
      },
      "source": [
        "### Importing-Exporting Data"
      ]
    },
    {
      "cell_type": "markdown",
      "metadata": {
        "id": "-LN92_P_uxgG"
      },
      "source": [
        "* Thus far, we have learned a lot about how we can use `R` to process data\n",
        "  * Descriptive statistics\n",
        "  * Plotting\n",
        "  * Subsetting\n",
        "  * Functions\n",
        "  * Loops"
      ]
    },
    {
      "cell_type": "markdown",
      "source": [
        "<br>"
      ],
      "metadata": {
        "id": "TSS0KB3AnIms"
      }
    },
    {
      "cell_type": "markdown",
      "source": [
        "* The datasets we used are either preloaded in a package or I have provided code to load data\n",
        "\n",
        "* Obviously, this is not the case in real-world data analysis!"
      ],
      "metadata": {
        "id": "F4oSVJTBnGKi"
      }
    },
    {
      "cell_type": "markdown",
      "source": [
        "<br>"
      ],
      "metadata": {
        "id": "BKBkORlVnzQA"
      }
    },
    {
      "cell_type": "markdown",
      "source": [
        "* In today's lecture, we'll learn how to\n",
        "\n",
        "  * import data into `R` from various file formats\n",
        "\n",
        "  * export data out of `R` onto our computers\n",
        "\n",
        "  * navigate a file directories using `R` code"
      ],
      "metadata": {
        "id": "q5BbPecYn0Rl"
      }
    },
    {
      "cell_type": "markdown",
      "source": [
        "<br>\n",
        "\n",
        "<br>"
      ],
      "metadata": {
        "id": "ez3KD1O95fNk"
      }
    },
    {
      "cell_type": "markdown",
      "source": [
        "---\n",
        "\n",
        "<br>"
      ],
      "metadata": {
        "id": "_xfb0UiW5jeZ"
      }
    },
    {
      "cell_type": "markdown",
      "metadata": {
        "id": "9Pq6kFnKokii"
      },
      "source": [
        "### Importing Data"
      ]
    },
    {
      "cell_type": "markdown",
      "source": [
        "* Importing data is the process of bringing data that is stored in a separate environment into your own `R` working environment\n",
        "\n",
        "* The way we import data depends how the desired data is stored externally\n",
        "\n",
        "* Most often, the data you will encounter in your career will either be in a text file format or spreadsheet format"
      ],
      "metadata": {
        "id": "Sz426L4ArGfM"
      }
    },
    {
      "cell_type": "markdown",
      "source": [
        "<br>"
      ],
      "metadata": {
        "id": "IzE7dgPXrHlF"
      }
    },
    {
      "cell_type": "markdown",
      "source": [
        "#### Text Files - `.csv`"
      ],
      "metadata": {
        "id": "ZrE3m7rZomCZ"
      }
    },
    {
      "cell_type": "markdown",
      "source": [
        "* The majority of text file formats you will encounter will have the extension\n",
        "  * .csv\n",
        "  * .txt"
      ],
      "metadata": {
        "id": "UNv4hnMRotCW"
      }
    },
    {
      "cell_type": "markdown",
      "source": [
        "<br>"
      ],
      "metadata": {
        "id": "-XC09RWluQF4"
      }
    },
    {
      "cell_type": "markdown",
      "source": [
        "* The file extension `.csv` means \"comma separated value\"\n",
        "\n",
        "* Data within `.csv` files is stored as a table with rows and columns\n",
        "\n",
        "* Each row of data is a separate line\n",
        "\n",
        "* Each column of data is separated by a comma (\",\")\n"
      ],
      "metadata": {
        "id": "pCi4VGa5uwpw"
      }
    },
    {
      "cell_type": "markdown",
      "source": [
        "<br>"
      ],
      "metadata": {
        "id": "OaveEVxcvVGQ"
      }
    },
    {
      "cell_type": "markdown",
      "source": [
        "* In text files, the character string that defines a separate column, such as the \",\" in `.csv` is called a \"***delimiter***\"\n",
        "\n",
        "* Another way to refer to `.csv` files is \"comma delimited files\""
      ],
      "metadata": {
        "id": "Mh6FPGyjvWwE"
      }
    },
    {
      "cell_type": "markdown",
      "source": [
        "<br>"
      ],
      "metadata": {
        "id": "KoiLrLGzvNYy"
      }
    },
    {
      "cell_type": "markdown",
      "source": [
        "* Our familiar `murders` data frame in `.csv` format can be found at the following web address:\n",
        "\n",
        "  https://raw.githubusercontent.com/khasenst/datasets_teaching/refs/heads/main/murders.csv\n",
        "\n",
        "* Note how each column in the `murders` dataset is separated by a comma\n",
        "\n"
      ],
      "metadata": {
        "id": "2mBWTdJor02x"
      }
    },
    {
      "cell_type": "markdown",
      "source": [
        "<br>"
      ],
      "metadata": {
        "id": "9vaxTgUeuRHV"
      }
    },
    {
      "cell_type": "markdown",
      "source": [
        "##### Importing a `.csv` file"
      ],
      "metadata": {
        "id": "gdQZ35jnvw-a"
      }
    },
    {
      "cell_type": "markdown",
      "source": [
        "* In `R`, `.csv` files can be imported using the `read.csv()` function"
      ],
      "metadata": {
        "id": "XMNqnPD1v2QO"
      }
    },
    {
      "cell_type": "markdown",
      "source": [
        "![image.png](data:image/png;base64,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)"
      ],
      "metadata": {
        "id": "WYuJ6Ji_xsZB"
      }
    },
    {
      "cell_type": "markdown",
      "source": [
        "* `file` - filepath to the dataset\n",
        "\n",
        "* `header` - Set to `TRUE` if the first line in your data contains the variable names\n",
        "\n",
        "* `sep` - The delimiter in your file. This is by default a \",\" for comma separated files"
      ],
      "metadata": {
        "id": "a-70yk3txzi2"
      }
    },
    {
      "cell_type": "markdown",
      "source": [
        "<br>"
      ],
      "metadata": {
        "id": "NVIo9Tr7yLQT"
      }
    },
    {
      "cell_type": "markdown",
      "source": [
        "* The script below loads the `murders` dataset from the `.csv` format into `R` as a data frame"
      ],
      "metadata": {
        "id": "uM0h8ClmyL4l"
      }
    },
    {
      "cell_type": "code",
      "source": [
        "# load the murders dataset as a csv file\n",
        "murders_csv <- read.csv(file = \"https://raw.githubusercontent.com/khasenst/datasets_teaching/refs/heads/main/murders.csv\",\n",
        "                        header = TRUE,\n",
        "                        sep = \",\")"
      ],
      "metadata": {
        "id": "SCFLLvDnyRwJ"
      },
      "execution_count": null,
      "outputs": []
    },
    {
      "cell_type": "code",
      "source": [
        "# verify it was loaded correctly\n",
        "head(murders_csv)"
      ],
      "metadata": {
        "id": "Tu-N8gjgylfu"
      },
      "execution_count": null,
      "outputs": []
    },
    {
      "cell_type": "code",
      "source": [
        "# check its class\n",
        "class(murders_csv)"
      ],
      "metadata": {
        "id": "umbSWbIDynst"
      },
      "execution_count": null,
      "outputs": []
    },
    {
      "cell_type": "markdown",
      "source": [
        "<br>"
      ],
      "metadata": {
        "id": "iwQNJuxnyJpI"
      }
    },
    {
      "cell_type": "markdown",
      "source": [
        "* It's as easy as that!"
      ],
      "metadata": {
        "id": "KdLlTRgfy4CV"
      }
    },
    {
      "cell_type": "markdown",
      "source": [
        "<br>"
      ],
      "metadata": {
        "id": "iqCpODg7y3Yh"
      }
    },
    {
      "cell_type": "markdown",
      "source": [
        "##### Importing a `.txt` file"
      ],
      "metadata": {
        "id": "COvv2qvDzhbk"
      }
    },
    {
      "cell_type": "markdown",
      "source": [
        "* In `R`, `.txt` files can be imported using the `read.table()` function"
      ],
      "metadata": {
        "id": "SzqRiN7ozhbk"
      }
    },
    {
      "cell_type": "markdown",
      "source": [
        "![image.png](data:image/png;base64,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)"
      ],
      "metadata": {
        "id": "U86a7ddUzhbl"
      }
    },
    {
      "cell_type": "markdown",
      "source": [
        "* `file` - filepath to the dataset\n",
        "\n",
        "* `header` - Set to `TRUE` if the first line in your data contains the variable names\n",
        "\n",
        "* `sep` - The delimiter in your file. This is by default an empty string."
      ],
      "metadata": {
        "id": "rJyGr2ES0eui"
      }
    },
    {
      "cell_type": "markdown",
      "source": [
        "<br>"
      ],
      "metadata": {
        "id": "D6As6SCV2bC2"
      }
    },
    {
      "cell_type": "markdown",
      "source": [
        "* Since the default delimiter for the `read.table()` function is an empty string, which is not very useful, we must specify a delimiter\n",
        "\n",
        "* Other than a comma, the tab is the most common delimiter when storing data as a `.txt` file\n",
        "\n",
        "* To specify a \"tab\" in `R`, we use the delimiter `\"\\t\"`"
      ],
      "metadata": {
        "id": "85LC--Ka2F5l"
      }
    },
    {
      "cell_type": "markdown",
      "source": [
        "<br>"
      ],
      "metadata": {
        "id": "WZ9idJ0t0hUp"
      }
    },
    {
      "cell_type": "markdown",
      "source": [
        "* The script below loads the `murders` dataset from the `.txt` format into `R` as a data frame from the following url\n",
        "\n",
        "  https://raw.githubusercontent.com/khasenst/datasets_teaching/refs/heads/main/murders_tab.txt"
      ],
      "metadata": {
        "id": "103UrAfq0vJG"
      }
    },
    {
      "cell_type": "code",
      "source": [
        "# load the murders dataset as a csv file\n",
        "murders_tab <- read.table(file = \"https://raw.githubusercontent.com/khasenst/datasets_teaching/refs/heads/main/murders_tab.txt\",\n",
        "                          header = TRUE,\n",
        "                          sep = \"\\t\")"
      ],
      "metadata": {
        "id": "7zokYvhG0r98"
      },
      "execution_count": null,
      "outputs": []
    },
    {
      "cell_type": "code",
      "source": [
        "# verify it was loaded correctly\n",
        "head(murders_tab)"
      ],
      "metadata": {
        "id": "ZCwZ0SFy2zXJ"
      },
      "execution_count": null,
      "outputs": []
    },
    {
      "cell_type": "code",
      "source": [
        "# check its class\n",
        "class(murders_tab)"
      ],
      "metadata": {
        "id": "F15IpsRR2zXL"
      },
      "execution_count": null,
      "outputs": []
    },
    {
      "cell_type": "markdown",
      "source": [
        "<br>"
      ],
      "metadata": {
        "id": "qZXu9swY24QH"
      }
    },
    {
      "cell_type": "markdown",
      "source": [
        "* Other delimiters include period `\".\"`, `\"|\"`, `\";\"` etc.\n",
        "\n",
        "* Below is an example script that imports a text file into `R` with the `\"|\"` delimiter from the following url\n",
        "\n",
        "  https://raw.githubusercontent.com/khasenst/datasets_teaching/refs/heads/main/murders_pipe.txt"
      ],
      "metadata": {
        "id": "bOrg-DdA25qO"
      }
    },
    {
      "cell_type": "code",
      "source": [
        "# load the murders dataset as a csv file\n",
        "murders_pipe <- read.table(file = \"https://raw.githubusercontent.com/khasenst/datasets_teaching/refs/heads/main/murders_pipe.txt\",\n",
        "                           header = TRUE,\n",
        "                           sep = \"|\")"
      ],
      "metadata": {
        "id": "GkMmgBdR3Q7Y"
      },
      "execution_count": null,
      "outputs": []
    },
    {
      "cell_type": "code",
      "source": [
        "# verify it was loaded correctly\n",
        "head(murders_pipe)"
      ],
      "metadata": {
        "id": "5WK5E8by3Q7Z"
      },
      "execution_count": null,
      "outputs": []
    },
    {
      "cell_type": "code",
      "source": [
        "# check its class\n",
        "class(murders_tab)"
      ],
      "metadata": {
        "id": "KhJahP0G3Q7Z"
      },
      "execution_count": null,
      "outputs": []
    },
    {
      "cell_type": "markdown",
      "source": [
        "<br>\n",
        "\n",
        "<br>"
      ],
      "metadata": {
        "id": "FZoKfkA50lfr"
      }
    },
    {
      "cell_type": "markdown",
      "source": [
        "#### Excel Files and Spreadsheets"
      ],
      "metadata": {
        "id": "h6siLQMLou1e"
      }
    },
    {
      "cell_type": "markdown",
      "source": [
        "* To import data from spreadsheets, namely files in Microsoft Excel (`.xlsx`) format, we can use the `read_excel()` function from the `readxl` library\n",
        "\n",
        "<br>\n",
        "\n",
        "* The `read_excel()` function has many optional function arguments, but most of the time, we only need two\n",
        "\n",
        "  * `path` - filepath to the dataset\n",
        "\n",
        "  * `sheet` - An optional arugment specifying the sheet number you would like to import"
      ],
      "metadata": {
        "id": "km0NDYWP4RFD"
      }
    },
    {
      "cell_type": "markdown",
      "source": [
        "<br>"
      ],
      "metadata": {
        "id": "Xz1XH8Fo6od7"
      }
    },
    {
      "cell_type": "markdown",
      "source": [
        "* The script below loads the `murders` dataset from the `.xlsx` format into `R` as a data frame\n",
        "\n",
        "* Unfortunately, we aren't able to load the excel file directly from a url\n",
        "\n",
        "* Therefore, we must download the file and upload it to Google Colaboratory\n",
        "  https://github.com/khasenst/datasets_teaching/blob/main/murders.xlsx"
      ],
      "metadata": {
        "id": "1AAtWEXG6ri7"
      }
    },
    {
      "cell_type": "code",
      "source": [
        "# import the first sheet\n",
        "murders_sheet1 <- read_excel(path = \"murders.xlsx\",\n",
        "                             sheet = 1)\n",
        "\n",
        "head(murders_sheet1)"
      ],
      "metadata": {
        "id": "BXG0pPLE4lv_"
      },
      "execution_count": null,
      "outputs": []
    },
    {
      "cell_type": "code",
      "source": [
        "# import the first sheet\n",
        "murders_sheet2 <- read_excel(path = \"murders.xlsx\",\n",
        "                            sheet = 2)\n",
        "\n",
        "head(murders_sheet2)"
      ],
      "metadata": {
        "id": "o5ctRyca6C6w"
      },
      "execution_count": null,
      "outputs": []
    },
    {
      "cell_type": "code",
      "source": [
        "# combine (if you want)\n",
        "murders_excel <- data.frame(murders_sheet1,\n",
        "                            total = murders$total)\n",
        "\n",
        "head(murders_excel)"
      ],
      "metadata": {
        "id": "UgwAiEIz6IPZ"
      },
      "execution_count": null,
      "outputs": []
    },
    {
      "cell_type": "markdown",
      "source": [
        "<br>"
      ],
      "metadata": {
        "id": "FSCiLCPYoyi1"
      }
    },
    {
      "cell_type": "markdown",
      "source": [
        "#### Other File Formats"
      ],
      "metadata": {
        "id": "XhmR8qEDoyI8"
      }
    },
    {
      "cell_type": "markdown",
      "source": [
        "* The formats discussed thus far are mostly meant to store structured data\n",
        "\n",
        "* That is, data that takes the form of a table where rows represent observations and columns represent variables\n",
        "\n",
        "* Next lecture, we will discuss other that can store either structured or unstructured data\n",
        "  * JSON\n",
        "  * html\n",
        "  * xml"
      ],
      "metadata": {
        "id": "A2ORZvC2o5Zo"
      }
    },
    {
      "cell_type": "markdown",
      "source": [
        "* There are many other more file formats relevant to special types of data, but these are outside scope of this course\n",
        "  * Shapefiles for spatial data\n",
        "  * `.png` or `.jpg` for images\n",
        "  * `.dcm` or `.nii` for medical images"
      ],
      "metadata": {
        "id": "qzc9jwctOePh"
      }
    },
    {
      "cell_type": "markdown",
      "source": [
        "<br>\n",
        "\n",
        "<br>"
      ],
      "metadata": {
        "id": "VvET8iAWpBII"
      }
    },
    {
      "cell_type": "markdown",
      "source": [
        "---\n",
        "\n",
        "<br>"
      ],
      "metadata": {
        "id": "tR7mAStRpBIJ"
      }
    },
    {
      "cell_type": "markdown",
      "metadata": {
        "id": "tjycCX73pBIK"
      },
      "source": [
        "### Exporting Data"
      ]
    },
    {
      "cell_type": "markdown",
      "source": [
        "* After importing data and performing your analysis, you may want to\n",
        "\n",
        "  * export a new version of your dataset that might be more organized or contain additional data\n",
        "\n",
        "  * export a data summary for external reference"
      ],
      "metadata": {
        "id": "t6VaGZ0E7RCq"
      }
    },
    {
      "cell_type": "markdown",
      "source": [
        "* We can export our data outside of `R` using very similar functions!"
      ],
      "metadata": {
        "id": "JuOg2O2P7szg"
      }
    },
    {
      "cell_type": "markdown",
      "source": [
        "* The majority of the time, you will want to export your data as a `.csv` file"
      ],
      "metadata": {
        "id": "9GcV9KxO_1th"
      }
    },
    {
      "cell_type": "markdown",
      "source": [
        "<br>\n",
        "\n",
        "<br>"
      ],
      "metadata": {
        "id": "x7G3Fx8S7jnQ"
      }
    },
    {
      "cell_type": "markdown",
      "source": [
        "#### Exporting a `.csv` file"
      ],
      "metadata": {
        "id": "hN1l1UVhpBIK"
      }
    },
    {
      "cell_type": "markdown",
      "source": [
        "* We can export an `R` data frame as a `.csv` file using the function `write.csv()`"
      ],
      "metadata": {
        "id": "UYuZtT8774bV"
      }
    },
    {
      "cell_type": "markdown",
      "source": [
        "* There are three arguments that are commonly used\n",
        "\n",
        "  * `x` - the `R` data frame to exported\n",
        "\n",
        "  * `file` - the filename to where the data frame will be exported\n",
        "\n",
        "  * `row.names` - Whether or not you would like the row names of the data frame to also be exported. I often set this to `FALSE`, unless there is a special reason to include the row names"
      ],
      "metadata": {
        "id": "0gKpZBzf82qB"
      }
    },
    {
      "cell_type": "markdown",
      "source": [
        "<br>"
      ],
      "metadata": {
        "id": "pGrDdTB-83Ia"
      }
    },
    {
      "cell_type": "markdown",
      "source": [
        "* The script below exports the `murders` data frame as a `.csv` file"
      ],
      "metadata": {
        "id": "DrsH4x0V86wt"
      }
    },
    {
      "cell_type": "code",
      "source": [
        "# export data as a csv file\n",
        "write.csv(x    = murders,\n",
        "          file = \"murders_as_csv.csv\",\n",
        "          row.names = FALSE)"
      ],
      "metadata": {
        "id": "Nys2YM4-9Biz"
      },
      "execution_count": null,
      "outputs": []
    },
    {
      "cell_type": "markdown",
      "source": [
        "<br>\n",
        "\n",
        "<br>"
      ],
      "metadata": {
        "id": "CVsoHgdg9Zf9"
      }
    },
    {
      "cell_type": "markdown",
      "source": [
        "#### Exporting a `.txt` file"
      ],
      "metadata": {
        "id": "UdTio1hh9Zf-"
      }
    },
    {
      "cell_type": "markdown",
      "source": [
        "* We can export an `R` data frame as a `.txt` file using the function `write.table()`"
      ],
      "metadata": {
        "id": "mfVf8nDx9Zf_"
      }
    },
    {
      "cell_type": "markdown",
      "source": [
        "* There are four arguments that are commonly used\n",
        "\n",
        "  * `x` - the `R` data frame to exported\n",
        "\n",
        "  * `file` - the filename to where the data frame will be exported\n",
        "\n",
        "  * `sep` - the delimiter when exporting the data frame\n",
        "\n",
        "  * `row.names` - Whether or not you would like the row names of the data frame to also be exported. I often set this to `FALSE`, unless there is a special reason to include the row names"
      ],
      "metadata": {
        "id": "xtJ2zlqv9qAD"
      }
    },
    {
      "cell_type": "code",
      "source": [
        "# export data as a txt file with tab delimiter\n",
        "write.table(x         = murders,\n",
        "            file      = \"murders_as_tab.txt\",\n",
        "            sep       = \"\\t\",\n",
        "            row.names = FALSE)"
      ],
      "metadata": {
        "id": "kyRWuCGU96El"
      },
      "execution_count": null,
      "outputs": []
    },
    {
      "cell_type": "markdown",
      "source": [
        "<br>"
      ],
      "metadata": {
        "id": "Ck6ROz1y-FiX"
      }
    },
    {
      "cell_type": "code",
      "source": [
        "# export data as a txt file with | delimiter\n",
        "write.table(x         = murders,\n",
        "            file      = \"murders_as_pipe.txt\",\n",
        "            sep       = \"|\",\n",
        "            row.names = FALSE)"
      ],
      "metadata": {
        "id": "-ZJPKrzM-Gbd"
      },
      "execution_count": null,
      "outputs": []
    },
    {
      "cell_type": "markdown",
      "source": [
        "<br>\n",
        "\n",
        "<br>"
      ],
      "metadata": {
        "id": "ROv6ukF1-fsc"
      }
    },
    {
      "cell_type": "markdown",
      "source": [
        "#### Exporting a `.xlsx` file"
      ],
      "metadata": {
        "id": "DMwuYPgE-fse"
      }
    },
    {
      "cell_type": "markdown",
      "source": [
        "* We can export an `R` data frame as a `.xlsx` file using the function `write_xlsx()`\n",
        "\n",
        "  * `x` - the `R` data frame to exported\n",
        "\n",
        "  * `path` - the filename to where the data frame will be exported"
      ],
      "metadata": {
        "id": "ilE48pkg-fse"
      }
    },
    {
      "cell_type": "code",
      "source": [
        "write_xlsx(x    = murders,\n",
        "           path = \"murders_as_excel.xlsx\")"
      ],
      "metadata": {
        "id": "bZt7MD_K-3CV"
      },
      "execution_count": null,
      "outputs": []
    },
    {
      "cell_type": "markdown",
      "source": [
        "<br>\n",
        "\n",
        "<br>"
      ],
      "metadata": {
        "id": "o4vTIuVioni5"
      }
    },
    {
      "cell_type": "markdown",
      "source": [
        "---\n",
        "\n",
        "<br>"
      ],
      "metadata": {
        "id": "polxW90Doni7"
      }
    },
    {
      "cell_type": "markdown",
      "metadata": {
        "id": "4ngLAiLNpKDA"
      },
      "source": [
        "### Navigating File Directories"
      ]
    },
    {
      "cell_type": "markdown",
      "source": [
        "* Thus far, we have been loading data available from the internet\n",
        "\n",
        "* ...but what if your data is stored locally or in a special server?"
      ],
      "metadata": {
        "id": "rLFfd0-PlLwy"
      }
    },
    {
      "cell_type": "markdown",
      "source": [
        "<br>"
      ],
      "metadata": {
        "id": "SZDe18SAEK0i"
      }
    },
    {
      "cell_type": "markdown",
      "source": [
        "* A useful skill is the ability to navigate to different files on your own system using scripts/code\n",
        "\n",
        "* This is analogous to clicking through folders, except we do this with code!"
      ],
      "metadata": {
        "id": "CmmI4_CBELn-"
      }
    },
    {
      "cell_type": "markdown",
      "source": [
        "<br>"
      ],
      "metadata": {
        "id": "65n5p2xUCbZD"
      }
    },
    {
      "cell_type": "markdown",
      "source": [
        "* Below are functions that can help you navigate your directories/file system"
      ],
      "metadata": {
        "id": "VV2vSE2JCcSs"
      }
    },
    {
      "cell_type": "markdown",
      "source": [
        "<br>"
      ],
      "metadata": {
        "id": "IqYo11i1AbUI"
      }
    },
    {
      "cell_type": "markdown",
      "source": [
        "#### `getwd()`"
      ],
      "metadata": {
        "id": "LESA-RZIB0mm"
      }
    },
    {
      "cell_type": "markdown",
      "source": [
        "* The `getwd()` function \"gets\" your current working directory\n",
        "\n",
        "* That is, `getwd()` shows the location that `R` is currently importing/exporting data from/to"
      ],
      "metadata": {
        "id": "lxVPiHy0Ciud"
      }
    },
    {
      "cell_type": "markdown",
      "source": [
        "<br>"
      ],
      "metadata": {
        "id": "oBdihQSxDG3L"
      }
    },
    {
      "cell_type": "markdown",
      "source": [
        "* By default, Google Colaboratory sets our working directory to the folder `\"/content\"`"
      ],
      "metadata": {
        "id": "4PCL2dhSC-Dy"
      }
    },
    {
      "cell_type": "code",
      "source": [
        "# get our current working directory\n",
        "getwd()"
      ],
      "metadata": {
        "id": "BlreNTFQCy3R"
      },
      "execution_count": null,
      "outputs": []
    },
    {
      "cell_type": "markdown",
      "source": [
        "<br>\n",
        "\n",
        "<br>"
      ],
      "metadata": {
        "id": "29cFdaXSEZvj"
      }
    },
    {
      "cell_type": "markdown",
      "source": [
        "#### `list.files()`"
      ],
      "metadata": {
        "id": "yZF69G9-EZvl"
      }
    },
    {
      "cell_type": "markdown",
      "source": [
        "* The `list.files()` function lists the files and folders in a directory\n",
        "\n",
        "* If no arguments are given, the `list.files()` function simply lists the files in your current working directory"
      ],
      "metadata": {
        "id": "hWBqors5EZvl"
      }
    },
    {
      "cell_type": "markdown",
      "source": [
        "<br>"
      ],
      "metadata": {
        "id": "7cQ_r9krEZvm"
      }
    },
    {
      "cell_type": "code",
      "source": [
        "# list files in the current working directory\n",
        "print(list.files())"
      ],
      "metadata": {
        "id": "FbkBeytfEZvn"
      },
      "execution_count": null,
      "outputs": []
    },
    {
      "cell_type": "markdown",
      "source": [
        "<br>"
      ],
      "metadata": {
        "id": "gaaalgSRE_qT"
      }
    },
    {
      "cell_type": "code",
      "source": [
        "# list files in a specified working directory\n",
        "print(list.files(\"/content\"))"
      ],
      "metadata": {
        "id": "JwYqpMemE7vP"
      },
      "execution_count": null,
      "outputs": []
    },
    {
      "cell_type": "markdown",
      "source": [
        "<br>\n",
        "\n",
        "<br>"
      ],
      "metadata": {
        "id": "TJAgRbF2FKPL"
      }
    },
    {
      "cell_type": "markdown",
      "source": [
        "#### `dir.create()`"
      ],
      "metadata": {
        "id": "rNsMLFNMFKPL"
      }
    },
    {
      "cell_type": "markdown",
      "source": [
        "* The `dir.create()` function can create a new folder from a specified filepath\n",
        "\n",
        "* The script below creates a folder called `\"my_data\"` in the existing folder `\"content\"`\n",
        "\n",
        "* To do so, we specify the filepath `\"/content/my_data\"`"
      ],
      "metadata": {
        "id": "IV31n1_aFKPL"
      }
    },
    {
      "cell_type": "code",
      "source": [
        "# create a new folder within a directory\n",
        "dir.create(\"/content/my_data\")"
      ],
      "metadata": {
        "id": "UKfrbQmIFKPM"
      },
      "execution_count": null,
      "outputs": []
    },
    {
      "cell_type": "markdown",
      "source": [
        "<br>"
      ],
      "metadata": {
        "id": "jmY23h4mMaEB"
      }
    },
    {
      "cell_type": "markdown",
      "source": [
        "* Note that attempting to creating a directory that already exists produces a warning message"
      ],
      "metadata": {
        "id": "eLLy2Y4tMbAR"
      }
    },
    {
      "cell_type": "code",
      "source": [
        "# create a new folder within a directory when it already exists\n",
        "dir.create(\"/content/my_data\")"
      ],
      "metadata": {
        "id": "ZRlVSug9Mijt"
      },
      "execution_count": null,
      "outputs": []
    },
    {
      "cell_type": "markdown",
      "source": [
        "<br>\n",
        "\n",
        "<br>"
      ],
      "metadata": {
        "id": "cXb3A_p0Di-Q"
      }
    },
    {
      "cell_type": "markdown",
      "source": [
        "#### `setwd()`"
      ],
      "metadata": {
        "id": "UK7m9hYWDi-R"
      }
    },
    {
      "cell_type": "markdown",
      "source": [
        "* The `setwd()` function \"sets\" your working directory to a specified working directory\n",
        "\n",
        "* We can use `setwd()` to navigate to the recently created `\"my_data\"` folder"
      ],
      "metadata": {
        "id": "lHMExf4fDi-S"
      }
    },
    {
      "cell_type": "code",
      "source": [
        "# set our current working directory\n",
        "setwd(\"/content/my_data\")"
      ],
      "metadata": {
        "id": "biKV5FMUDi-U"
      },
      "execution_count": null,
      "outputs": []
    },
    {
      "cell_type": "code",
      "source": [
        "# check our current working directory\n",
        "getwd()"
      ],
      "metadata": {
        "id": "EoCSzfqCGF1r"
      },
      "execution_count": null,
      "outputs": []
    },
    {
      "cell_type": "code",
      "source": [
        "# list files in the current directory\n",
        "list.files()\n",
        "\n",
        "# print the number of\n",
        "print(length(list.files()))"
      ],
      "metadata": {
        "id": "50ox8z3WGJQm"
      },
      "execution_count": null,
      "outputs": []
    },
    {
      "cell_type": "markdown",
      "source": [
        "* Currently, there are no files in the directory!"
      ],
      "metadata": {
        "id": "yYO0LY7CG2Lo"
      }
    },
    {
      "cell_type": "markdown",
      "source": [
        "<br>\n",
        "\n",
        "<br>"
      ],
      "metadata": {
        "id": "Z4rYW11GG1hE"
      }
    },
    {
      "cell_type": "markdown",
      "source": [
        "#### `file.path()`"
      ],
      "metadata": {
        "id": "WNy6VZfpG1hF"
      }
    },
    {
      "cell_type": "markdown",
      "source": [
        "* Notice how we separate each folder and file location using a forward slash `/`\n",
        "\n",
        "* We can create filepaths manually by typing the entire character string with forward slashes\n",
        "\n",
        "* Or we can use the `file.path()` function to do this for us!"
      ],
      "metadata": {
        "id": "9Z72TNZAG1hF"
      }
    },
    {
      "cell_type": "code",
      "source": [
        "# type it out ourselves\n",
        "my_path <- \"/content/my_data\"\n",
        "my_path"
      ],
      "metadata": {
        "id": "t1UpTxE-G1hG"
      },
      "execution_count": null,
      "outputs": []
    },
    {
      "cell_type": "code",
      "source": [
        "# using list.files()\n",
        "my_path <- file.path(\"/content\", \"my_data\")\n",
        "my_path"
      ],
      "metadata": {
        "id": "dIEo1yMvHqub"
      },
      "execution_count": null,
      "outputs": []
    },
    {
      "cell_type": "markdown",
      "source": [
        "<br>\n",
        "\n",
        "<br>"
      ],
      "metadata": {
        "id": "6O_CvQpLIAIx"
      }
    },
    {
      "cell_type": "markdown",
      "source": [
        "#### Example"
      ],
      "metadata": {
        "id": "AXj5vIbJIAIx"
      }
    },
    {
      "cell_type": "markdown",
      "source": [
        "* Let's store our `murders` data frames in different file formats into their own respective folders"
      ],
      "metadata": {
        "id": "CiDl_IRRIHmN"
      }
    },
    {
      "cell_type": "code",
      "source": [
        "# check our current working directory\n",
        "getwd()"
      ],
      "metadata": {
        "id": "l9nOeYkRIblx"
      },
      "execution_count": null,
      "outputs": []
    },
    {
      "cell_type": "code",
      "source": [
        "# set our working directory\n",
        "setwd(\"/content\")"
      ],
      "metadata": {
        "id": "Jz7CLg6EIne9"
      },
      "execution_count": null,
      "outputs": []
    },
    {
      "cell_type": "code",
      "source": [
        "# check we are in the correct directory\n",
        "getwd()"
      ],
      "metadata": {
        "id": "ApPePBeAItqY"
      },
      "execution_count": null,
      "outputs": []
    },
    {
      "cell_type": "markdown",
      "source": [
        "<br>"
      ],
      "metadata": {
        "id": "pKWo0ucwIx-N"
      }
    },
    {
      "cell_type": "markdown",
      "source": [
        "* Use `dir.create()` to create folders for each type file format (`.csv`, `.txt`, `.xlsx`)"
      ],
      "metadata": {
        "id": "dl9kTFGCGqxf"
      }
    },
    {
      "cell_type": "code",
      "source": [
        "# csv folder\n",
        "dir.create(file.path(\"/content\", \"csv\"))\n",
        "\n",
        "# txt folder\n",
        "dir.create(file.path(\"/content\", \"txt\"))\n",
        "\n",
        "# xlsx folder\n",
        "dir.create(file.path(\"/content\", \"xlsx\"))"
      ],
      "metadata": {
        "id": "nHML6g6lJCCL"
      },
      "execution_count": null,
      "outputs": []
    },
    {
      "cell_type": "code",
      "source": [
        "# check our work\n",
        "print(list.files())"
      ],
      "metadata": {
        "id": "-fF6KJoFJXAd"
      },
      "execution_count": null,
      "outputs": []
    },
    {
      "cell_type": "markdown",
      "source": [
        "<br>"
      ],
      "metadata": {
        "id": "EHCGYC7EJbNf"
      }
    },
    {
      "cell_type": "markdown",
      "source": [
        "* Write files to the Colaboratory computer"
      ],
      "metadata": {
        "id": "X9_yhv4RJbNg"
      }
    },
    {
      "cell_type": "code",
      "source": [
        "# create csv path\n",
        "csv_path <- file.path(\"/content\", \"csv\")\n",
        "csv_path"
      ],
      "metadata": {
        "id": "vE7UG_QIJbNh"
      },
      "execution_count": null,
      "outputs": []
    },
    {
      "cell_type": "code",
      "source": [
        "# export data to file\n",
        "write.csv(x    = murders,\n",
        "          file = file.path(csv_path, \"murders_as_csv.csv\"),\n",
        "          row.names = FALSE)"
      ],
      "metadata": {
        "id": "aK9wF7twJuxz"
      },
      "execution_count": null,
      "outputs": []
    },
    {
      "cell_type": "markdown",
      "source": [
        "<br>"
      ],
      "metadata": {
        "id": "FJiuJx3MJVO2"
      }
    },
    {
      "cell_type": "code",
      "source": [
        "# create txt path\n",
        "txt_path <- file.path(\"/content\", \"txt\")\n",
        "\n",
        "# export data to tab delimited file\n",
        "write.table(x         = murders,\n",
        "            file      = file.path(txt_path, \"murders_as_tab.txt\"),\n",
        "            sep       = \"\\t\",\n",
        "            row.names = FALSE)\n",
        "\n",
        "# export data to pipe delimited file\n",
        "write.table(x         = murders,\n",
        "            file      = file.path(txt_path, \"murders_as_pipe.txt\"),\n",
        "            sep       = \"|\",\n",
        "            row.names = FALSE)"
      ],
      "metadata": {
        "id": "M2u48fDRJ6_l"
      },
      "execution_count": null,
      "outputs": []
    },
    {
      "cell_type": "markdown",
      "source": [
        "<br>"
      ],
      "metadata": {
        "id": "gBmMAetGKnDp"
      }
    },
    {
      "cell_type": "code",
      "source": [
        "# create xlsx path\n",
        "xlsx_path <- file.path(\"/content\", \"xlsx\")\n",
        "\n",
        "# export data to file\n",
        "write_xlsx(x    = murders,\n",
        "           path = file.path(xlsx_path, \"xlsx_file.xlsx\"))"
      ],
      "metadata": {
        "id": "2F59W0_VKnDq"
      },
      "execution_count": null,
      "outputs": []
    },
    {
      "cell_type": "markdown",
      "source": [
        "<br>"
      ],
      "metadata": {
        "id": "eKF0ozd4MddB"
      }
    },
    {
      "cell_type": "markdown",
      "source": [
        "<br>"
      ],
      "metadata": {
        "id": "G3fTK4kMCYoR"
      }
    }
  ]
}