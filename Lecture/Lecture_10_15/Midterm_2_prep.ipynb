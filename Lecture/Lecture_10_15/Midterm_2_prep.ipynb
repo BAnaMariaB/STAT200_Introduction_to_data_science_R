{
 "cells": [
  {
   "cell_type": "markdown",
   "metadata": {},
   "source": [
    "# Lecture 10: If Statements and Functions\n"
   ]
  },
  {
   "cell_type": "markdown",
   "metadata": {},
   "source": [
    "## If Statements"
   ]
  },
  {
   "cell_type": "markdown",
   "metadata": {},
   "source": [
    "#### Definition of if Statement\n",
    "`if` statements are scripts that incorporate conditional logic in your code, \n",
    "* they run lines of code only when a \"statement\" is `TRUE`\n",
    "* can avoid running lines of code when a \"statement\" is `FALSE`\n",
    "\n",
    "Purpose of If Statemnts: \n",
    "* can be used to automate data preprocessing and data analysis\n",
    "* can also be used to help with debugging\n",
    "* cannot process vectors of length >1"
   ]
  },
  {
   "cell_type": "markdown",
   "metadata": {},
   "source": [
    "#### Syntax\n",
    "\n",
    "```\n",
    "if (Boolean Expression) {\n",
    "  if statement body\n",
    "}else if(Boolean Expression){\n",
    "   else if statement body\n",
    "}else{\n",
    "   else statement body \n",
    "}\n",
    "```\n",
    "\n",
    "* Boolean Expression can be located in parenthesis, this will produce a `TRUE` or `FALSE`\n",
    "* Statement Body\n",
    "  * If Boolean expression == `TRUE`, then the code in the `if` statement body is executed\n",
    "  * If Boolean expression == `FALSE`, then the code in the `if` statement body is NOT executed\n",
    "\n"
   ]
  },
  {
   "cell_type": "markdown",
   "metadata": {},
   "source": [
    "#### ifelse vs Else if\n",
    "\n",
    "**else if**\n",
    "* is used within if statemnts for conditional branching\n",
    "* checking multiple conditions sequentially<br>\n",
    "\n",
    "**ifelse** <br>\n",
    "* is a function used for element-wise conditional evaluation in vectors\n",
    "* it evaluates a condtions and returns one value for True and another for false\n",
    "* syntax : ifelse(condition, value_if_true, value_if_false)\n"
   ]
  },
  {
   "cell_type": "markdown",
   "metadata": {},
   "source": [
    "## Functions"
   ]
  },
  {
   "cell_type": "markdown",
   "metadata": {},
   "source": [
    "#### Definition\n",
    "They take one or more arguments as input, perform a given task using these inputs, and return one or more objects as output.\n",
    "\n",
    "**Why use functions?**<br>\n",
    "* Avoid running several lines over and over again = more efficient\n",
    "* Allows us to use functions others have built without having to know what it does internally\n"
   ]
  },
  {
   "cell_type": "markdown",
   "metadata": {},
   "source": [
    "#### Syntax\n",
    "```\n",
    "function_name <- function(arg_1, arg_2, ...) {\n",
    "   Function body\n",
    "   return(output)\n",
    "}\n",
    "```\n",
    "\n",
    "* Function Name : the actual name of the function and is stored as an R object of class type 'function'\n",
    "* Arguments: are placeholders. When you call a function, you pass a value to the argument\n",
    "* Function Body : a collection of commands performed by the function when it is called\n",
    "* Return Value : Returns the value of the function and is the last expression in the function body\n"
   ]
  },
  {
   "cell_type": "markdown",
   "metadata": {},
   "source": [
    "#### Verbosity\n",
    "Verbosity is the amount of information the function prints or logs while executing. It is typically controlled by a verbose argument, which is a logical (TRUE/FALSE) parameter that determines whether the function should output detailed messages about its progress.<br>\n",
    "* FALSE : no text will be added\n",
    "* TRUE : the function will print the statement\n"
   ]
  },
  {
   "cell_type": "markdown",
   "metadata": {},
   "source": [
    "#### Scope\n",
    "Scope refers to the context in which variables and functions are defined and accessed. \n",
    "There are two main types: \n",
    "* global scope, where variables are accessible throughout the script or session\n",
    "* local scope, where variables exist only within a function or block. \n",
    "Functions first look for variables in their local environment before checking parent environments, ensuring predictable behavior."
   ]
  },
  {
   "cell_type": "markdown",
   "metadata": {},
   "source": [
    "# Lecture 11: Loops"
   ]
  },
  {
   "cell_type": "markdown",
   "metadata": {},
   "source": [
    "#### What are loops\n",
    "A loop is a sequence of statements carried out several times in succession.\n",
    "There are three major types of loops:\n",
    "  * `for` loops\n",
    "  * `while` loops\n",
    "  * `repeat` loops\n"
   ]
  },
  {
   "cell_type": "markdown",
   "metadata": {},
   "source": [
    "## For\n",
    "#### Definition\n",
    "The `for` loop iterates through each element of a vector or list and performs a task at each iteration. It completes execution after iterating through all elements of a vector or list.\n",
    "\n",
    "#### Syntax\n",
    "\n",
    "  ```\n",
    "  for (iterator in vector/list) {\n",
    "    for loop body\n",
    "  }\n",
    "  ```\n",
    "* `for`:  is initiated using the `for` keyword\n",
    "\n",
    "* `iterator` :  is a variable that iterates through each element of the vector\n",
    "\n",
    "* `in`: is a special keyword that says we want to iterate through the elements \"in\" the vector or list\n",
    "\n",
    "*  `vector/list`:  The `for` loop will use the `iterator` to iterate through each element of a vector or list. This includes columns of data frames since data frames are structured lists.\n",
    "\n",
    "* `for` loop body : At each iteration, the code in the `for` loop body is executed\n",
    "\n",
    "#### Nested loops\n",
    "A for loop in a for loop. In R it isn't generally very useful since we'll have  function who can do this more efficiently."
   ]
  },
  {
   "cell_type": "markdown",
   "metadata": {},
   "source": [
    "## While\n",
    "#### Definition\n",
    "* The `while` loop repeatedly iterates \"while\" a certain condition is true.They are very useful for stopping an algorithm when convergence is met.\n",
    "\n",
    "\n",
    "#### Syntax\n",
    "\n",
    "```\n",
    "while (boolean expression) {\n",
    "  while loop body\n",
    "}\n",
    "```\n",
    "* `while`:  is initiated using the `while` keyword\n",
    "* `boolean expression`:  An expression that produces a `TRUE` or `FALSE`\n",
    "* `while` loop body :  Code in the `while` loop body is only performed if the `boolean expression` is `TRUE`"
   ]
  },
  {
   "cell_type": "markdown",
   "metadata": {},
   "source": [
    "\n",
    "## Repeat\n",
    "#### Definition\n",
    "* The `repeat` loop...well...repeats a task forever! Notice that there is not condition statement. A `break` statement is used to \"break\" out of the loop one a condition is met.\n",
    "\n",
    "#### Syntax\n",
    "```\n",
    "repeat {\n",
    "  repeat loop body\n",
    "  conditional break statement\n",
    "}\n",
    "```\n",
    "* `repeat`:  is initiated using the `repeat` keyword\n",
    "\n",
    "* `repeat loop body`:  Code that is executed at each iteration of the loop\n",
    "\n",
    "* `conditional break statement` : the conditional statement, typically an `if` statement, that indicates whether or not we should `break` out of the loop/end the loop\n"
   ]
  },
  {
   "cell_type": "markdown",
   "metadata": {},
   "source": [
    "# Lecture 12: Apply family"
   ]
  },
  {
   "cell_type": "markdown",
   "metadata": {},
   "source": [
    "## What is the apply family?"
   ]
  },
  {
   "cell_type": "markdown",
   "metadata": {},
   "source": [
    "The `apply` family, performs implicit looping, most of the time, we can use these functions instead of creating our own for loops!\n",
    "We have : apply(), lapply(), sapply(), tapply()."
   ]
  },
  {
   "cell_type": "markdown",
   "metadata": {},
   "source": []
  },
  {
   "cell_type": "markdown",
   "metadata": {},
   "source": []
  },
  {
   "cell_type": "markdown",
   "metadata": {},
   "source": [
    "### apply()\n",
    "#### Definition\n",
    "The `apply()` function applies a function to the rows or the columns of a matrix or dataframe and outputs a vector or list. It takes a data structure, a margin (specifying whether to operate along rows or columns), and a function to apply. It returns a vector or matrix depending on the input and the margin.\n",
    "\n",
    "#### Syntax\n",
    "\n",
    "`apply(X, MARGIN, FUN, _)`\n",
    "\n",
    "* X :  an array or a matrix\n",
    "* Margin : a vector giving the subscripts which the functions will be applied over. \n",
    "    * 1 for rows\n",
    "    * 2 for columns\n",
    "* Fun : the function to be applied\n",
    "* _ : optional argumnet for fun "
   ]
  },
  {
   "cell_type": "markdown",
   "metadata": {},
   "source": [
    "### lapply()\n",
    "#### Definition\n",
    "The `lapply()` function applies a function to each element of a list and outputs another list. This function applies a function to each element of a list, returning a list of the results. It maintains the structure of the input list.\n",
    "\n",
    "#### Syntax\n",
    "`lapply(X, FUN)`\n",
    "\n",
    "* X :  a vector or list or an expression object\n",
    "* Fun : the function to be applied\n"
   ]
  },
  {
   "cell_type": "markdown",
   "metadata": {},
   "source": [
    "### sapply()\n",
    "#### Definition\n",
    "* The `sapply()` function outputs a vector or matrix instead of an unstructured list. Similar to lapply, but it attempts to simplify the output if possible, returning a vector or matrix instead of a list. This is useful when the output of the function is consistent across all elements.\n",
    "\n",
    "#### Syntax\n",
    "`sapply(X, FUN)`\n",
    "\n",
    "* X :  a vector or list or an expression object\n",
    "* Fun : the function to be applied"
   ]
  },
  {
   "cell_type": "markdown",
   "metadata": {},
   "source": [
    "### tapply()\n",
    "#### Definition\n",
    "The `tapply()` functions applies a function for each factor level in a variable. This function applies a function to elements grouped by a factor or categorical variable, returning a table of results.\n",
    "\n",
    "#### Syntax\n",
    "`tapply(X,INDEX, FUN)`\n",
    "\n",
    "* X :  a vector or list or an expression object\n",
    "* Index : a list or one or more factors each of the smae length as X. these elements can be coerced to factors by as.factor.\n",
    "* Fun : the function to be applied"
   ]
  },
  {
   "cell_type": "markdown",
   "metadata": {},
   "source": [
    "## do.call()\n",
    "do.call : constructs and executes a function call from a name or a function and a list of arguments to be passed to it."
   ]
  },
  {
   "cell_type": "markdown",
   "metadata": {},
   "source": [
    "# Lecture 13: Importing/Exporting Data"
   ]
  },
  {
   "cell_type": "markdown",
   "metadata": {},
   "source": [
    "## Different methodes of storing data\n",
    "\n",
    "### CSV Definition\n",
    "* The file extension `.csv` means \"comma separated value\"\n",
    "* Data within `.csv` files is stored as a table with rows and columns\n",
    "* Each row of data is a separate line\n",
    "* Each column of data is separated by a comma (\",\")\n",
    "\n",
    "#### Syntax Import\n",
    "to import we use : read.csv(file, header = TRUE/FALSE, sep=\",\")\n",
    "* `file` - filepath to the dataset\n",
    "* `header` - Set to `TRUE` if the first line in your data contains the variable names\n",
    "* `sep` - The delimiter in your file. This is by default a \",\" for comma separated files\n",
    "\n",
    "#### Syntax Export\n",
    "to export we use : write.csv(x, filename, row.names=TRUE/FALSE)\n",
    "* `x` - the `R` data frame to exported\n",
    "* `filename` - the filename to where the data frame will be exported\n",
    "* `row.names` - Whether or not you would like the row names of the data frame to also be exported. I often set this to `FALSE`, unless there is a special reason to include the row names\n"
   ]
  },
  {
   "cell_type": "markdown",
   "metadata": {},
   "source": [
    "\n",
    "#### TXT Definition\n",
    "TXT and CSV are related the main diference are the delimiters.\n",
    "* Other than a comma, the tab is the most common delimiter when storing data as a `.txt` file. To specify a \"tab\" in `R`, we use the delimiter `\"\\t\"`\n",
    "* Other delimiters include period `\".\"`, `\"|\"`, `\";\"` etc.\n",
    "#### Syntax Import\n",
    "to import  data we generaly use : read.table(file, header = TRUE/FALSE, sep=\"?\")\n",
    "* `file` - filepath to the dataset\n",
    "* `header` - Set to `TRUE` if the first line in your data contains the variable names\n",
    "* `sep` - The delimiter in your file. This is by default an empty string.\n",
    "\n",
    "#### Syntax Export\n",
    "to export data we generaly use : write.table(x,filename, sep=\"?\", row.names=TRUE/FALSE)\n",
    "  * `x` - the `R` data frame to exported\n",
    "  * `file` - the filename to where the data frame will be exported\n",
    "  * `sep` - the delimiter when exporting the data frame\n",
    "  * `row.names` - Whether or not you would like the row names of the data frame to also be exported. I often set this to `FALSE`, unless there is a special reason to include the row names\n"
   ]
  },
  {
   "cell_type": "markdown",
   "metadata": {},
   "source": [
    "#### XLSX Definition\n",
    "* To import data from spreadsheets, namely files in Microsoft Excel (`.xlsx`) format. This one need us to literaly import the data in the folder structure. Unlike the previous two we can't use an URL.\n",
    "\n",
    "#### Syntax Import\n",
    "to import from an excel sheetThe `read_excel(path, sheet)`\n",
    "  * `path` - filepath to the dataset\n",
    "  * `sheet` - An optional arugment specifying the sheet number you would like to import\n",
    "\n",
    "#### Syntax Export\n",
    "to exportto  to an excel sheetThe `write_xlsx(x, path)`\n",
    "  * `x` - the `R` data frame to exported\n",
    "  * `path` - the filename to where the data frame will be exported"
   ]
  },
  {
   "cell_type": "markdown",
   "metadata": {},
   "source": [
    "## Navigate Directories"
   ]
  },
  {
   "cell_type": "markdown",
   "metadata": {},
   "source": [
    "\n",
    "\n",
    "| Function Name  | Parameter             | Description |\n",
    "|---------------|----------------------|-------------|\n",
    "| `getwd()`     | None                 | Gets the current working directory. |\n",
    "| `list.files()` | directory (optional) | Lists files and folders in a directory; defaults to the current working directory. |\n",
    "| `dir.create()` | filepath             | Creates a new folder from a specified filepath. |\n",
    "| `setwd()`     | directory path        | Sets the working directory to a specified location. |\n",
    "| `file.path()` | folder/file names     | Creates a file path by correctly joining folder and file names. |\n",
    "\n",
    "\n"
   ]
  },
  {
   "cell_type": "markdown",
   "metadata": {},
   "source": [
    "# Lecture 14: JavaScript Object Notation and APIs"
   ]
  },
  {
   "cell_type": "markdown",
   "metadata": {},
   "source": [
    "## JavaScript Object Notation\n",
    "#### Definition\n",
    "* Most datasets are stored in tabular format using `.csv`, `.txt`, or `.xlsx` file types,`R` loads these datasets as a data frame or \"structured list\". However, structured lists are highly inefficent at storing hierarchical or nested data structures\n",
    "* A more efficient way of storing nested data is JavaScript Object Notation (JSON). JSON format can be thought of as an unstructured (nested) list, where each list item can contain another data structure, i.e. a list of lists, data frames, vectors or a mixture of these. JSON format avoids the repetitive formatting of tabular representations of nested data\n",
    "\n",
    "#### Syntax - Loading JSON Data\n",
    "`R` loads JSON formatted data as unstructured lists [`list()`], We load JSON files using the `fromJSON()` function in the `jsonlite` library.<br>\n",
    "#load json data<br>\n",
    "data <- fromJSON(\"https://raw.githubusercontent.com/khasenst/datasets_teaching/refs/heads/main/nested_json_example.json\")<br>\n",
    "* To view the contents of the unstructured list, we can use the `str()` and `names()` functions"
   ]
  },
  {
   "cell_type": "markdown",
   "metadata": {},
   "source": [
    "## APIs\n",
    "#### Definitions\n",
    "* Given the efficiency of the JSON format for storing nested data, many companies make their data available as JSON files\n",
    "\n",
    "* The way in which they make their data available is through an application program interface (API). An API is a set of rules that allows different software applications to communicate with each other for data transfer. We can use an API to download data from an institution's servers to our R workspace!\n",
    "\n",
    "* An example is the API for the World Health Organization (WHO)  https://apps.who.int/gho/data/node.resources.api\n",
    "    * Different APIs have different rules for extracting data\n",
    "    * Institutions typically provide documentation on how to access their data\n",
    "    * We will focus on the WHO API as an example\n",
    "\n",
    "\n",
    "#### How is it tied to JSON files\n",
    "* Available \"variables\" are listed here: https://ghoapi.azureedge.net/api/\n",
    "* One of the variables is life expectancy (at birth) `WHOSIS_000001`. Let's take a look!\n",
    "\n",
    "```\n",
    "#path to data\n",
    "url_path <- \"https://ghoapi.azureedge.net/api/\"\n",
    "\n",
    "#selected variable\n",
    "variable <- \"WHOSIS_000001\"\n",
    "\n",
    "json_data <- fromJSON(paste0(url_path, variable),\n",
    "                     #simplifyDataFrame = FALSE  # if you want it as a list, not a data frame\n",
    "                     )\n",
    "```\n"
   ]
  },
  {
   "cell_type": "markdown",
   "metadata": {},
   "source": [
    "#### Filtering via URL\n",
    "* The previous example shows how to import data in JSON format from an institutional website using their API. Similar to filtering/subsetting in `R`, we can subset the data in the url itself.\n",
    "\n",
    "* For example, the script below downloads the same `WHOSIS_000001` dataset but with the following constraints\n",
    "  * `SpatialDimType` must be `REGION`\n",
    "  * `NumericValue` must not be missing (`NULL`)\n",
    "  * `TimeDim` must be greater than or equal to `2020`\n",
    "\n",
    "```\n",
    "# root path to API\n",
    "url_path <- \"https://ghoapi.azureedge.net/api/\"\n",
    "\n",
    "# selected variable\n",
    "variable <- \"WHOSIS_000001\"\n",
    "\n",
    "# filter query\n",
    "filter1 <- \"?$filter=SpatialDimType%20eq%20'REGION'\"\n",
    "filter2 <- \"%20and%20NumericValue%20ne%20null\"\n",
    "filter3 <- \"%20and%20TimeDim%20ge%202020\"\n",
    "```"
   ]
  },
  {
   "cell_type": "markdown",
   "metadata": {},
   "source": [
    "## Exporting data as a JSON file"
   ]
  },
  {
   "cell_type": "markdown",
   "metadata": {},
   "source": [
    "* We are able to export datasets as JSON files using\n",
    "  * `toJSON()` - converts the data into a json class similar to character string\n",
    "  * `write()` - then exports the character string using a given filename\n",
    "\n",
    "\n",
    "* Similar to `.csv` for comma separated value files, here, we use `.json` as the extension for JSON files\n",
    "* The `write()` function is similar to the other exporting functions [`write.csv()`, `write.table()`], where you specify the data and the filepath\n",
    "\n",
    "```\n",
    "# export the json data structure to Colab\n",
    "write(json_data, \"student_data.json\")\n",
    "```"
   ]
  },
  {
   "cell_type": "markdown",
   "metadata": {},
   "source": [
    "# Lecture 15: Shaping and Merging"
   ]
  },
  {
   "cell_type": "markdown",
   "metadata": {},
   "source": [
    "## Shaping\n",
    "#### Wide format\n",
    "Wide format: Each subject/observation has multiple columns for repeated measures.\n",
    "* In the format above,\n",
    "  * each row is populated with a single patient\n",
    "  * each row contains all repeated measurements (i.e. blood pressures across all time points)\n",
    "\n",
    "* Collecting more time points would increase the number of columns in the dataset, making it a \"wider\" dataset\n",
    "\n",
    "* Therefore, we refer to this format as ***wide format***\n",
    "\n",
    "\n",
    "#### Long format\n",
    "Long format: Each observation has its own row, with an identifier column and a key-value pair for the measured variables.\n",
    "* In the format above,\n",
    "  * each row is populated with a single blood pressure measurement from a single time point\n",
    "  * patients are included in multiple rows\n",
    "\n",
    "* Collecting more time points would increase the number of rows in the dataset, making it a \"longer\" dataset\n",
    "\n",
    "* Therefore, we refer to this format as ***long format***\n",
    "\n",
    "#### Syntax Coverting from long to wide format\n",
    " To convert long to wide format, we must specify the following arguments in the `reshape()` function\n",
    "  * `data` - Data frame you would like to convert to wide or long format\n",
    "  * `timevar` - Repeated observation variable. This is often \"time\" but can be variable that characterizes the repeated measurement\n",
    "  * `idvar` - Variable for which multiple observations are collected. This is often the patient ID in biomedical applications.\n",
    "  * `direction` - set to `\"wide\"` to convert to wide format and `\"long\"` to convert to long format\n",
    "\n",
    "#### Coverting from wide to long format\n",
    "To convert wide to long format, we must specify the following arguments in the `reshape()` function\n",
    "  * `data` - Data frame you would like to convert to wide or long format\n",
    "  * `varying` - Specifies the columns that we need to be combined into long format\n",
    "  * `idvar` - Variable for which multiple observations are collected. This is often the patient ID in biomedical applications.\n",
    "  * `v.names` - Names for the resulting value columns (Systolic and Diastolic)\n",
    "  * `timevar` - The name of the column for time points\n",
    "  * `times` - The labels for the time points\n",
    "  * `direction` - Set to `\"wide\"` to convert to wide format and `\"long\"` to convert to long format"
   ]
  },
  {
   "cell_type": "markdown",
   "metadata": {},
   "source": [
    "#### When we use Wide and Long format?\n",
    "* When to use long format?\n",
    "  * The majority of the time, we want our data in long format\n",
    "  * Most functions for statistical modeling and data visualization require data to be in long format\n",
    "  * Long format is more appropriate when each individual has varying numbers of repeated observations\n",
    "  * Data is stored vertically with multiple rows per subject\n",
    "  * Each row represents one observation and has a variable type column\n",
    "  * Used for analysis, visualization and modeling in R\n",
    "\n",
    "* When to use wide format?\n",
    "  * Wide format is more efficient for data storage\n",
    "  * Wide format is more efficient for data summaries\n",
    "  * Wide format is more appropriate when each individual has an equal number of observations\n",
    "  * Data is stored horizontally, with one row per subject\n",
    "  * Each column represents a different observation\n",
    "  * Useful for reporting and some statistical methods."
   ]
  },
  {
   "cell_type": "markdown",
   "metadata": {},
   "source": [
    "## Merging using Joins\n"
   ]
  },
  {
   "cell_type": "markdown",
   "metadata": {},
   "source": [
    "To join or merge two datasets/data frames, we must specify the following arguments in the `merge()` function\n",
    "  * `x` - The left data frame in the merge\n",
    "  * `y` - The right data frame in the merge\n",
    "  * `by.x` - Column in data frame `x` used in the merge\n",
    "  * `by.y` - Column in data frame `y` used in the merge\n",
    "  * `all.x` - if `TRUE`, keep all data from data frame `x`; default is `FALSE`\n",
    "  * `all.y` - if `TRUE`, keep all data from data frame `y`; default is `FALSE`"
   ]
  },
  {
   "cell_type": "markdown",
   "metadata": {},
   "source": [
    "| Join Type   | Definition | Syntax |\n",
    "|------------|------------|---------|\n",
    "| **Inner Join** | Returns only matching rows from both datasets based on the specified key(s). Non-matching rows are removed. | ```r  bp_inner <- merge(x = bp, y = demo, by.x = \"Patient.ID\", by.y = \"id\", all.x = FALSE, all.y = FALSE) ``` |\n",
    "| **Left Join** | Returns all rows from the left dataset (`bp`) and matching rows from the right dataset (`demo`). Non-matching rows in `demo` are filled with `NA`. | ```r  bp_left <- merge(x = bp, y = demo, by.x = \"Patient.ID\", by.y = \"id\", all.x = TRUE, all.y = FALSE) ``` |\n",
    "| **Right Join** | Returns all rows from the right dataset (`demo`) and matching rows from the left dataset (`bp`). Non-matching rows in `bp` are filled with `NA`. | ```r  bp_right <- merge(x = bp, y = demo, by.x = \"Patient.ID\", by.y = \"id\", all.x = FALSE, all.y = TRUE) ``` |\n",
    "| **Full Join** | Returns all rows from both datasets. If there is no match, `NA` is assigned for missing values from either dataset. | ```r  bp_full <- merge(x = bp, y = demo, by.x = \"Patient.ID\", by.y = \"id\", all.x = TRUE, all.y = TRUE) ``` |\n"
   ]
  },
  {
   "cell_type": "markdown",
   "metadata": {},
   "source": [
    "#### Inner Join\n",
    "* Consider two data frames `x` (left) and `y` (right)\n",
    "* Inner Join - Combines the rows between `x` and `y` based on values in a common variable\n",
    "  * If values in the common variable are not in both `x` and `y`, their data are excluded\n",
    "\n",
    "#### Left Join\n",
    "* Consider two data frames `x` (left) and `y` (right)\n",
    "* Left Join - Combines the rows between `x` and `y` based on values in a common variable\n",
    "  * If values in the common variable are in `y` but not `x`, their data are excluded\n",
    "  * If values in the common variable are in `x` but not `y`, their data are still included\n",
    "\n",
    "#### Right Join\n",
    "* Consider two data frames `x` (left) and `y` (right)\n",
    "* Right Join - Combines the rows between `x` and `y` based on values in a common variable\n",
    "  * If values in the common variable are in `x` but not `y`, their data are excluded\n",
    "  * If values in the common variable are in `y` but not `x`, their data are still included\n",
    "\n",
    "\n",
    "#### Full Join\n",
    "* Consider two data frames `x` (left) and `y` (right)\n",
    "* Full Join - Combines the rows between `x` and `y` based on values in a common variable\n",
    "  * If values in the common variable are in `x` but not `y`, their data are still included\n",
    "  * If values in the common variable are in `y` but not `x`, their data are still included"
   ]
  }
 ],
 "metadata": {
  "language_info": {
   "name": "python"
  }
 },
 "nbformat": 4,
 "nbformat_minor": 2
}
