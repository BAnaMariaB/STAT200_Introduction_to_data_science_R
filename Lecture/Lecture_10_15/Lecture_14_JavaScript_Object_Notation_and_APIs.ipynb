{
  "nbformat": 4,
  "nbformat_minor": 0,
  "metadata": {
    "colab": {
      "provenance": []
    },
    "kernelspec": {
      "name": "ir",
      "display_name": "R"
    }
  },
  "cells": [
    {
      "cell_type": "markdown",
      "metadata": {
        "id": "gtETsh5j8vHw"
      },
      "source": [
        "# **Lecture 14 - JavaScript Object Notation and APIs**\n",
        "\n",
        "---\n",
        "\n",
        "<br>"
      ]
    },
    {
      "cell_type": "markdown",
      "source": [
        "### Packages"
      ],
      "metadata": {
        "id": "QdyJzDgAsFNZ"
      }
    },
    {
      "cell_type": "code",
      "source": [
        "# install packages\n",
        "install.packages(\"jsonlite\")"
      ],
      "metadata": {
        "id": "O-drIaQ-4cWQ"
      },
      "execution_count": null,
      "outputs": []
    },
    {
      "cell_type": "code",
      "source": [
        "# load libraries\n",
        "library(jsonlite)"
      ],
      "metadata": {
        "id": "cA36kxW2pZMi"
      },
      "execution_count": null,
      "outputs": []
    },
    {
      "cell_type": "markdown",
      "source": [
        "<br>\n",
        "\n",
        "<br>"
      ],
      "metadata": {
        "id": "5hXqBQkzhere"
      }
    },
    {
      "cell_type": "markdown",
      "source": [
        "---\n",
        "\n",
        "<br>"
      ],
      "metadata": {
        "id": "jFiNcIjpjFs7"
      }
    },
    {
      "cell_type": "markdown",
      "metadata": {
        "id": "Am_oL_2OujkL"
      },
      "source": [
        "### JavaScript Object Notation (JSON)"
      ]
    },
    {
      "cell_type": "markdown",
      "metadata": {
        "id": "-LN92_P_uxgG"
      },
      "source": [
        "* Most datasets are stored in tabular format using `.csv`, `.txt`, or `.xlsx` file types\n",
        "\n",
        "* `R` loads these datasets as a data frame or \"structured list\"\n",
        "\n",
        "* However, structured lists are highly inefficent at storing hierarchical or nested data structures\n",
        "\n"
      ]
    },
    {
      "cell_type": "markdown",
      "source": [
        "<br>"
      ],
      "metadata": {
        "id": "tWX24NNK-53k"
      }
    },
    {
      "cell_type": "markdown",
      "source": [
        "* For example, the data below shows a very simple nested structure stored in tabular form\n",
        "\n",
        "* To accommdate the varying number of hobbies, we must repeat information across other columns\n",
        "\n",
        "* Storing data in this way can be inefficient in terms of data storage"
      ],
      "metadata": {
        "id": "HyZxQpZ9-7tY"
      }
    },
    {
      "cell_type": "code",
      "source": [
        "# load nested data in tabular format\n",
        "read.csv(\"https://raw.githubusercontent.com/khasenst/datasets_teaching/refs/heads/main/nested_csv_example.csv\",\n",
        "          header = TRUE)"
      ],
      "metadata": {
        "id": "wWI5B4gxIENU"
      },
      "execution_count": null,
      "outputs": []
    },
    {
      "cell_type": "markdown",
      "source": [
        "<br>"
      ],
      "metadata": {
        "id": "bIxnTbBzM2cx"
      }
    },
    {
      "cell_type": "markdown",
      "source": [
        "* A more efficient way of storing nested data is JavaScript Object Notation (JSON)\n",
        "\n",
        "* JSON format can be thought of as an unstructured (nested) list, where each list item can contain another data structure\n",
        "  * i.e. a list of lists, data frames, vectors or a mixture of these"
      ],
      "metadata": {
        "id": "9skIX3UVQEHa"
      }
    },
    {
      "cell_type": "markdown",
      "source": [
        "<br>"
      ],
      "metadata": {
        "id": "dyVVYnnmmPKs"
      }
    },
    {
      "cell_type": "markdown",
      "source": [
        "* The script below shows an example of JSON formatted data\n",
        "\n",
        "* List items are defined within curly braces `{}`\n",
        "\n",
        "* The colon `:` is followed by a data element\n",
        "\n",
        "* The square brackets `[]` represent an array"
      ],
      "metadata": {
        "id": "1wgFEihhmb0K"
      }
    },
    {
      "cell_type": "code",
      "source": [
        "# load nested file\n",
        "nested <- fromJSON(\"https://raw.githubusercontent.com/khasenst/datasets_teaching/refs/heads/main/nested_json_example.json\")\n",
        "\n",
        "# print nested file\n",
        "toJSON(nested, pretty = TRUE)"
      ],
      "metadata": {
        "id": "fwWV5VocJPYe"
      },
      "execution_count": null,
      "outputs": []
    },
    {
      "cell_type": "markdown",
      "source": [
        "* In this format,\n",
        "  * Activites are nested within \"hobbies\"\n",
        "  * Address details are nested within \"address\"\n",
        "  * All details are nested within \"students\"\n",
        "\n",
        "* JSON format avoids the repetitive formatting of tabular representations of nested data"
      ],
      "metadata": {
        "id": "aPGfKn5eVyTA"
      }
    },
    {
      "cell_type": "markdown",
      "source": [
        "<br>\n",
        "\n",
        "<br>"
      ],
      "metadata": {
        "id": "KpJ6Y2dnQ9n6"
      }
    },
    {
      "cell_type": "markdown",
      "source": [
        "---\n",
        "\n",
        "<br>"
      ],
      "metadata": {
        "id": "cGYcsC93Wn8I"
      }
    },
    {
      "cell_type": "markdown",
      "metadata": {
        "id": "PcSDsRKEV3Lv"
      },
      "source": [
        "#### Loading JSON Data"
      ]
    },
    {
      "cell_type": "markdown",
      "source": [
        "* `R` loads JSON formatted data as unstructured lists [`list()`]\n",
        "\n",
        "* We load JSON files using the `fromJSON()` function in the `jsonlite` library"
      ],
      "metadata": {
        "id": "4vwGkSp0Q-hi"
      }
    },
    {
      "cell_type": "code",
      "source": [
        "# load json data\n",
        "data <- fromJSON(\"https://raw.githubusercontent.com/khasenst/datasets_teaching/refs/heads/main/nested_json_example.json\")"
      ],
      "metadata": {
        "id": "14f6ynzdRNo_"
      },
      "execution_count": null,
      "outputs": []
    },
    {
      "cell_type": "markdown",
      "source": [
        "<br>"
      ],
      "metadata": {
        "id": "gnnyuXGSVPqg"
      }
    },
    {
      "cell_type": "markdown",
      "source": [
        "* Remember, it is an unstructured list, so we can use the `$` operator to pull the nested data!"
      ],
      "metadata": {
        "id": "sfmFm7G1RYnk"
      }
    },
    {
      "cell_type": "code",
      "source": [
        "# json data is loaded as an unstructured list\n",
        "class(data)"
      ],
      "metadata": {
        "id": "sGt0rZ9jS6-5"
      },
      "execution_count": null,
      "outputs": []
    },
    {
      "cell_type": "markdown",
      "source": [
        "<br>"
      ],
      "metadata": {
        "id": "ghmmDnDXUGfm"
      }
    },
    {
      "cell_type": "markdown",
      "source": [
        "* To view the contents of the unstructured list, we can use the `str()` and `names()` functions"
      ],
      "metadata": {
        "id": "Mb090V-8UEy2"
      }
    },
    {
      "cell_type": "code",
      "source": [
        "# view structure of json data in unstructured list format\n",
        "str(data)"
      ],
      "metadata": {
        "id": "W37U0FKDUHfI"
      },
      "execution_count": null,
      "outputs": []
    },
    {
      "cell_type": "code",
      "source": [
        "# using the names() function\n",
        "names(data)"
      ],
      "metadata": {
        "id": "bJHxgsjBU_sk"
      },
      "execution_count": null,
      "outputs": []
    },
    {
      "cell_type": "code",
      "source": [
        "# using the names() function\n",
        "names(data$students)"
      ],
      "metadata": {
        "id": "F6CalmvtVE3Y"
      },
      "execution_count": null,
      "outputs": []
    },
    {
      "cell_type": "code",
      "source": [
        "# using the $ to extract fields from the unstructured list\n",
        "data$students$name"
      ],
      "metadata": {
        "id": "GRwWeGQ_VVU9"
      },
      "execution_count": null,
      "outputs": []
    },
    {
      "cell_type": "code",
      "source": [
        "# pulling a field\n",
        "data$students$hobbies"
      ],
      "metadata": {
        "id": "hSdaEdcnVcph"
      },
      "execution_count": null,
      "outputs": []
    },
    {
      "cell_type": "code",
      "source": [
        "data$students$address"
      ],
      "metadata": {
        "id": "mJByjDSqrLQg"
      },
      "execution_count": null,
      "outputs": []
    },
    {
      "cell_type": "markdown",
      "source": [
        "<br>"
      ],
      "metadata": {
        "id": "Xy_pb_Vbpd8o"
      }
    },
    {
      "cell_type": "markdown",
      "source": [
        "* Depending on how the JSON data is structured, the `fromJSON()` function attempts to simplify our data into a dataframe\n",
        "\n",
        "* This only occurs if subfields do not further contains lists as indicated by curly braces `{}`"
      ],
      "metadata": {
        "id": "9kbSIksBnvqD"
      }
    },
    {
      "cell_type": "markdown",
      "source": [
        "<br>"
      ],
      "metadata": {
        "id": "KrREUyiIrE8a"
      }
    },
    {
      "cell_type": "markdown",
      "source": [
        "* For example, the new JSON formatted dataset now includes the address details as additional entries, as opposed to starting another list"
      ],
      "metadata": {
        "id": "TfgAlcEZrGAS"
      }
    },
    {
      "cell_type": "code",
      "source": [
        "# old format - address has a nested structure\n",
        "'{\n",
        "  \"students\": [\n",
        "    {\n",
        "      \"name\": \"Alice\",\n",
        "      \"age\": 19,\n",
        "      \"address\": {\n",
        "        \"street\": \"123 Main St\",\n",
        "        \"city\": \"San Diego\",\n",
        "        \"zipcode\": \"92182\"\n",
        "      },\n",
        "      \"hobbies\": [\"reading\", \"hiking\", \"surfing\"]\n",
        "    },\n",
        "    {\n",
        "      \"name\": \"Pedro\",\n",
        "      \"age\": 18,\n",
        "      \"address\": {\n",
        "        \"street\": \"456 Elm St\",\n",
        "        \"city\": \"Los Angeles\",\n",
        "        \"zipcode\": \"90745\"\n",
        "      },\n",
        "      \"hobbies\": [\"gaming\", \"cycling\"]\n",
        "    }\n",
        "  ]\n",
        "}'"
      ],
      "metadata": {
        "id": "YV4vmjecsRBZ"
      },
      "execution_count": null,
      "outputs": []
    },
    {
      "cell_type": "code",
      "source": [
        "# new json format without additional nesting for address\n",
        "json_string <-\n",
        "'{\n",
        "\n",
        "  \"students\": [\n",
        "    {\n",
        "      \"name\": \"Alice\",\n",
        "      \"age\": 19,\n",
        "      \"address_street\": \"123 Main St\",\n",
        "      \"address_city\" : \"San Diego\",\n",
        "      \"address_zip\" : \"92182\",\n",
        "      \"hobbies\": [\"reading\", \"hiking\", \"surfing\"]\n",
        "    },\n",
        "    {\n",
        "      \"name\": \"Pedro\",\n",
        "      \"age\": 18,\n",
        "      \"address_street\": \"456 Elm St\",\n",
        "      \"address_city\": \"Los Angeles\",\n",
        "      \"address_zip\": \"90745\",\n",
        "      \"hobbies\": [\"gaming\", \"cycling\"]\n",
        "    }\n",
        "  ]\n",
        "\n",
        "}'"
      ],
      "metadata": {
        "id": "yNFMUUsloDvf"
      },
      "execution_count": null,
      "outputs": []
    },
    {
      "cell_type": "code",
      "source": [
        "# load the string from the JSON format\n",
        "data2 <- fromJSON(json_string)"
      ],
      "metadata": {
        "id": "ck2bYB1Nqdv_"
      },
      "execution_count": null,
      "outputs": []
    },
    {
      "cell_type": "code",
      "source": [
        "#  list output\n",
        "str(data2)"
      ],
      "metadata": {
        "id": "0vqdxOe_3790"
      },
      "execution_count": null,
      "outputs": []
    },
    {
      "cell_type": "code",
      "source": [
        "#  Now a data frame\n",
        "data2$students"
      ],
      "metadata": {
        "id": "6Zlsz2LCpJmT"
      },
      "execution_count": null,
      "outputs": []
    },
    {
      "cell_type": "markdown",
      "source": [
        "<br>"
      ],
      "metadata": {
        "id": "D0CLyNlusZ4I"
      }
    },
    {
      "cell_type": "markdown",
      "source": [
        "* We typically prefer the latter because the `fromJSON()` function does the work for us!\n",
        "\n",
        "* If not, we must restructure our data using code to convert our data into a data frame"
      ],
      "metadata": {
        "id": "BUHSDkqlsbBv"
      }
    },
    {
      "cell_type": "markdown",
      "source": [
        "<br>\n",
        "\n",
        "<br>"
      ],
      "metadata": {
        "id": "ez3KD1O95fNk"
      }
    },
    {
      "cell_type": "markdown",
      "source": [
        "---\n",
        "\n",
        "<br>"
      ],
      "metadata": {
        "id": "_xfb0UiW5jeZ"
      }
    },
    {
      "cell_type": "markdown",
      "metadata": {
        "id": "9Pq6kFnKokii"
      },
      "source": [
        "### Application Program Interfaces (APIs)"
      ]
    },
    {
      "cell_type": "markdown",
      "source": [
        "* Given the efficiency of the JSON format for storing nested data, many companies make their data available as JSON files\n",
        "\n",
        "* The way in which they make their data available is through an application program interface (API)"
      ],
      "metadata": {
        "id": "1tvCgYJ9XpUP"
      }
    },
    {
      "cell_type": "markdown",
      "source": [
        "<br>"
      ],
      "metadata": {
        "id": "wP9_Br3eYG2S"
      }
    },
    {
      "cell_type": "markdown",
      "source": [
        "* An API is a set of rules that allows different software applications to communicate with each other for data transfer\n",
        "\n",
        "* We can use an API to download data from an institution's servers to our R workspace!"
      ],
      "metadata": {
        "id": "7XnadONKYHrN"
      }
    },
    {
      "cell_type": "markdown",
      "source": [
        "<br>"
      ],
      "metadata": {
        "id": "qgXwj_00Zjfy"
      }
    },
    {
      "cell_type": "markdown",
      "source": [
        "* An example is the API for the World Health Organization (WHO)\n",
        "\n",
        "  https://apps.who.int/gho/data/node.resources.api\n",
        "\n",
        "* Different APIs have different rules for extracting data\n",
        "\n",
        "* Institutions typically provide documentation on how to access their data\n",
        "\n",
        "* We will focus on the WHO API as an example"
      ],
      "metadata": {
        "id": "SfR0aSFpZiUY"
      }
    },
    {
      "cell_type": "markdown",
      "source": [
        "<br>\n",
        "\n",
        "<br>"
      ],
      "metadata": {
        "id": "BrrT6LjbacCJ"
      }
    },
    {
      "cell_type": "markdown",
      "source": [
        "---\n",
        "\n",
        "<br>"
      ],
      "metadata": {
        "id": "5trfJCAragS-"
      }
    },
    {
      "cell_type": "markdown",
      "metadata": {
        "id": "w1DyZsH-abiS"
      },
      "source": [
        "#### Extracting Data using the WHO API"
      ]
    },
    {
      "cell_type": "markdown",
      "source": [
        "* Available \"variables\" are listed here: https://ghoapi.azureedge.net/api/\n",
        "\n",
        "* One of the variables is life expectancy (at birth) `WHOSIS_000001`. Let's take a look!"
      ],
      "metadata": {
        "id": "bsdKLWTDaztu"
      }
    },
    {
      "cell_type": "markdown",
      "source": [
        "<br>"
      ],
      "metadata": {
        "id": "r7O-jKtIdW4Z"
      }
    },
    {
      "cell_type": "markdown",
      "source": [
        "* Loading the data on that variable\n",
        "\n",
        "  https://ghoapi.azureedge.net/api/WHOSIS_000001"
      ],
      "metadata": {
        "id": "h9muRC_ydX4H"
      }
    },
    {
      "cell_type": "code",
      "source": [
        "# path to data\n",
        "url_path <- \"https://ghoapi.azureedge.net/api/\"\n",
        "\n",
        "# selected variable\n",
        "variable <- \"WHOSIS_000001\"\n",
        "\n",
        "json_data <- fromJSON(paste0(url_path, variable),\n",
        "                     #simplifyDataFrame = FALSE  # if you want it as a list, not a data frame\n",
        "                     )"
      ],
      "metadata": {
        "id": "qKmIucRpbIti"
      },
      "execution_count": null,
      "outputs": []
    },
    {
      "cell_type": "code",
      "source": [
        "# check contents of dataset\n",
        "str(json_data)"
      ],
      "metadata": {
        "id": "_UW1RFh4dgwE"
      },
      "execution_count": null,
      "outputs": []
    },
    {
      "cell_type": "code",
      "source": [
        "# check headers of dataset\n",
        "names(json_data)"
      ],
      "metadata": {
        "id": "GyTAAuEmdwKY"
      },
      "execution_count": null,
      "outputs": []
    },
    {
      "cell_type": "markdown",
      "source": [
        "<br>"
      ],
      "metadata": {
        "id": "eMxevhndeEFz"
      }
    },
    {
      "cell_type": "markdown",
      "source": [
        "* For this particular API, the `value` list entry contains our data\n",
        "\n",
        "* Thankfully, the `fromJSON` function was able to convert the JSON values into an `R` data frame...thank you WHO!"
      ],
      "metadata": {
        "id": "8t6ips4PeFUs"
      }
    },
    {
      "cell_type": "code",
      "source": [
        "# view head of data frame\n",
        "head(json_data$value, 3)\n",
        "\n",
        "# store data\n",
        "data <- json_data$value"
      ],
      "metadata": {
        "id": "99JagpPsdzLX"
      },
      "execution_count": null,
      "outputs": []
    },
    {
      "cell_type": "markdown",
      "source": [
        "<br>"
      ],
      "metadata": {
        "id": "N3MS_4noodb1"
      }
    },
    {
      "cell_type": "markdown",
      "source": [
        "* Now that we have our dataset in a data frame in `R`, we can organize our data and do an analysis! We'll do this for our assignment."
      ],
      "metadata": {
        "id": "E1-YiT2Todb3"
      }
    },
    {
      "cell_type": "markdown",
      "source": [
        "<br>\n",
        "\n",
        "<br>"
      ],
      "metadata": {
        "id": "K0YVfA43tj75"
      }
    },
    {
      "cell_type": "markdown",
      "source": [
        "---\n",
        "\n",
        "<br>"
      ],
      "metadata": {
        "id": "1HLd0aQDtj77"
      }
    },
    {
      "cell_type": "markdown",
      "metadata": {
        "id": "5F4jeLtqtj78"
      },
      "source": [
        "#### Filtering/Subsetting via url"
      ]
    },
    {
      "cell_type": "markdown",
      "source": [
        "* The previous example shows how to import data in JSON format from an institutional website using their API"
      ],
      "metadata": {
        "id": "5OWSB5TYtnkH"
      }
    },
    {
      "cell_type": "markdown",
      "source": [
        "* But what if we don't want ALL of their data?\n",
        "* What if their data is way too large for our purposes?\n"
      ],
      "metadata": {
        "id": "6t5GQNiTx-Vl"
      }
    },
    {
      "cell_type": "markdown",
      "source": [
        "<br>"
      ],
      "metadata": {
        "id": "KBkDV5payFxK"
      }
    },
    {
      "cell_type": "markdown",
      "source": [
        "* Is there a way to select only what we need?\n",
        "* Is there a way to download their data in pieces?\n",
        "* Is there a way to subset on THEIR machines?"
      ],
      "metadata": {
        "id": "dWUhQ0KQyM_w"
      }
    },
    {
      "cell_type": "markdown",
      "source": [
        "<br>"
      ],
      "metadata": {
        "id": "bSQw-1sPyR-Y"
      }
    },
    {
      "cell_type": "markdown",
      "source": [
        "* The answer is Yes!\n",
        "\n",
        "* Similar to filtering/subsetting in `R`, we can subset the data in the url itself"
      ],
      "metadata": {
        "id": "NHJRiv2oyHsI"
      }
    },
    {
      "cell_type": "markdown",
      "source": [
        "<br>"
      ],
      "metadata": {
        "id": "_nHnZqrSyj4b"
      }
    },
    {
      "cell_type": "markdown",
      "source": [
        "* For example, the script below downloads the same `WHOSIS_000001` dataset but with the following constraints\n",
        "\n",
        "  * `SpatialDimType` must be `REGION`\n",
        "  * `NumericValue` must not be missing (`NULL`)\n",
        "  * `TimeDim` must be greater than or equal to `2020`\n",
        "\n"
      ],
      "metadata": {
        "id": "0yaUy5pfyk-p"
      }
    },
    {
      "cell_type": "code",
      "source": [
        "# root path to API\n",
        "url_path <- \"https://ghoapi.azureedge.net/api/\"\n",
        "\n",
        "# selected variable\n",
        "variable <- \"WHOSIS_000001\"\n",
        "\n",
        "# filter query\n",
        "filter1 <- \"?$filter=SpatialDimType%20eq%20'REGION'\"\n",
        "filter2 <- \"%20and%20NumericValue%20ne%20null\"\n",
        "filter3 <- \"%20and%20TimeDim%20ge%202020\""
      ],
      "metadata": {
        "id": "5XhcHNGyy9HN"
      },
      "execution_count": null,
      "outputs": []
    },
    {
      "cell_type": "code",
      "source": [
        "# query url\n",
        "query_url <- paste0(url_path, variable, filter1, filter2, filter3)\n",
        "query_url"
      ],
      "metadata": {
        "id": "6BOv9_MJzS87"
      },
      "execution_count": null,
      "outputs": []
    },
    {
      "cell_type": "code",
      "source": [
        "# import the data as an unstructured list\n",
        "json_data <- fromJSON(query_url,\n",
        "                     #simplifyDataFrame = FALSE  # if you want it as a list, not a data frame\n",
        "                     )"
      ],
      "metadata": {
        "id": "irEtlOWiy4Vz"
      },
      "execution_count": null,
      "outputs": []
    },
    {
      "cell_type": "markdown",
      "source": [
        "<br>"
      ],
      "metadata": {
        "id": "RqsFWDcA1bYz"
      }
    },
    {
      "cell_type": "markdown",
      "source": [
        "* Viewing the imported data, we see that our filtering/subsetting requirements are met"
      ],
      "metadata": {
        "id": "UoLv0L-d1cBH"
      }
    },
    {
      "cell_type": "code",
      "source": [
        "# the result\n",
        "str(json_data)"
      ],
      "metadata": {
        "id": "KvMsV3ftzbl6"
      },
      "execution_count": null,
      "outputs": []
    },
    {
      "cell_type": "markdown",
      "source": [
        "<br>"
      ],
      "metadata": {
        "id": "Gr31GHrq1ho1"
      }
    },
    {
      "cell_type": "markdown",
      "source": [
        "* Instructions on how to do this are typically on the institution's website\n",
        "\n",
        "* Note that in-depth API queries are outside the scope of this class"
      ],
      "metadata": {
        "id": "PRqFmucl1imt"
      }
    },
    {
      "cell_type": "markdown",
      "source": [
        "<br>\n",
        "\n",
        "<br>"
      ],
      "metadata": {
        "id": "XXWe6SxLtvJc"
      }
    },
    {
      "cell_type": "markdown",
      "source": [
        "---\n",
        "\n",
        "<br>"
      ],
      "metadata": {
        "id": "rnSucJd2tvJd"
      }
    },
    {
      "cell_type": "markdown",
      "metadata": {
        "id": "a-hbLCthtvJe"
      },
      "source": [
        "#### Exporting data as a JSON file"
      ]
    },
    {
      "cell_type": "markdown",
      "source": [
        "* We are able to export datasets as JSON files using\n",
        "  * `toJSON()` - converts the data into a json class similar to character string\n",
        "  * `write()` - then exports the character string using a given filename"
      ],
      "metadata": {
        "id": "gNQpLYv1tvJf"
      }
    },
    {
      "cell_type": "markdown",
      "source": [
        "<br>"
      ],
      "metadata": {
        "id": "9DvOwVKdviY2"
      }
    },
    {
      "cell_type": "markdown",
      "source": [
        "* Let's do this with our initial example data"
      ],
      "metadata": {
        "id": "yWLUc3mlvpcW"
      }
    },
    {
      "cell_type": "code",
      "source": [
        "# load nested file\n",
        "json_data <- fromJSON(\"https://raw.githubusercontent.com/khasenst/datasets_teaching/refs/heads/main/nested_json_example.json\")\n",
        "\n",
        "str(json_data)"
      ],
      "metadata": {
        "id": "5Y8ARbS0vvHc"
      },
      "execution_count": null,
      "outputs": []
    },
    {
      "cell_type": "markdown",
      "source": [
        "<br>"
      ],
      "metadata": {
        "id": "QaQd3z5cwJk8"
      }
    },
    {
      "cell_type": "markdown",
      "source": [
        "* We then convert the unstructured list into a JSON formatted string"
      ],
      "metadata": {
        "id": "vnJWKlJhwK2b"
      }
    },
    {
      "cell_type": "code",
      "source": [
        "# convert to json string\n",
        "json_data <- toJSON(json_data, pretty = TRUE)\n",
        "json_data"
      ],
      "metadata": {
        "id": "DdZehaOEvxmn"
      },
      "execution_count": null,
      "outputs": []
    },
    {
      "cell_type": "code",
      "source": [
        "# class after toJSON()\n",
        "class(json_data)"
      ],
      "metadata": {
        "id": "4yZZ08zSwREd"
      },
      "execution_count": null,
      "outputs": []
    },
    {
      "cell_type": "markdown",
      "source": [
        "<br>"
      ],
      "metadata": {
        "id": "zk__l0JxxBCN"
      }
    },
    {
      "cell_type": "markdown",
      "source": [
        "* Similar to `.csv` for comma separated value files, here, we use `.json` as the extension for JSON files\n",
        "\n",
        "* The `write()` function is similar to the other exporting functions [`write.csv()`, `write.table()`], where you specify the data and the filepath"
      ],
      "metadata": {
        "id": "s0z2UdMpxZ2T"
      }
    },
    {
      "cell_type": "code",
      "source": [
        "# export the json data structure to Colab\n",
        "write(json_data, \"student_data.json\")"
      ],
      "metadata": {
        "id": "Kw-SZxeQvzyu"
      },
      "execution_count": null,
      "outputs": []
    }
  ]
}