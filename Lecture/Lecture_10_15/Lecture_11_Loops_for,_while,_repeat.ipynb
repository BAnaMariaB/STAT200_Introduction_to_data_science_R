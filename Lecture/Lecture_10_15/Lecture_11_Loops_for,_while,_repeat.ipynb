{
  "cells": [
    {
      "cell_type": "markdown",
      "metadata": {
        "id": "gtETsh5j8vHw"
      },
      "source": [
        "# **Lecture 11 - Loops - `for`, `while`, `repeat`**\n",
        "\n",
        "---\n",
        "\n",
        "<br>"
      ]
    },
    {
      "cell_type": "markdown",
      "metadata": {
        "id": "QdyJzDgAsFNZ"
      },
      "source": [
        "## Packages"
      ]
    },
    {
      "cell_type": "code",
      "execution_count": null,
      "metadata": {
        "id": "O-drIaQ-4cWQ"
      },
      "outputs": [],
      "source": [
        "# none"
      ]
    },
    {
      "cell_type": "markdown",
      "metadata": {
        "id": "5hXqBQkzhere"
      },
      "source": [
        "<br>\n",
        "\n",
        "<br>"
      ]
    },
    {
      "cell_type": "markdown",
      "metadata": {
        "id": "jFiNcIjpjFs7"
      },
      "source": [
        "---\n",
        "\n",
        "<br>"
      ]
    },
    {
      "cell_type": "markdown",
      "metadata": {
        "id": "8NNJrHbIvuNV"
      },
      "source": [
        "## What are loops?"
      ]
    },
    {
      "cell_type": "markdown",
      "metadata": {
        "id": "qMsl45QEvxy-"
      },
      "source": [
        "* A loop is a sequence of statements carried out several times in succession."
      ]
    },
    {
      "cell_type": "markdown",
      "metadata": {
        "id": "qekwzgJHdL3q"
      },
      "source": [
        "* There are three major types of loops:\n",
        "  1. `for` loops\n",
        "  2. `while` loops\n",
        "  3. `repeat` loops"
      ]
    },
    {
      "cell_type": "markdown",
      "metadata": {
        "id": "jix0F_3dnInc"
      },
      "source": [
        "* `for` loops are by far the most commonly used type of looping mechanism, but `while` and `repeat` loops are better for certain situations."
      ]
    },
    {
      "cell_type": "markdown",
      "metadata": {
        "id": "QgB1O4TPnMD7"
      },
      "source": [
        "<br>\n",
        "\n",
        "<br>"
      ]
    },
    {
      "cell_type": "markdown",
      "metadata": {
        "id": "8W9tQaginZQy"
      },
      "source": [
        "---\n",
        "\n",
        "<br>"
      ]
    },
    {
      "cell_type": "markdown",
      "metadata": {
        "id": "YyVHXM6idi-r"
      },
      "source": [
        "## `for` Loops"
      ]
    },
    {
      "cell_type": "markdown",
      "metadata": {
        "id": "CxoqgAsudi-s"
      },
      "source": [
        "### `for` loop syntax"
      ]
    },
    {
      "cell_type": "markdown",
      "metadata": {
        "id": "x4K7Jal-du_h"
      },
      "source": [
        "* The `for` loop iterates through each element of a vector or list and performs a task at each iteration\n",
        "\n",
        "* The `for` loop completes execution after iterating through all elements of a vector or list"
      ]
    },
    {
      "cell_type": "markdown",
      "metadata": {
        "id": "kYAUqRF1rHFK"
      },
      "source": [
        "#### Syntax\n",
        " `for` loop syntax\n",
        "\n",
        "  ```\n",
        "  for (iterator in vector/list) {\n",
        "    for loop body\n",
        "  }\n",
        "  ```\n"
      ]
    },
    {
      "cell_type": "markdown",
      "metadata": {
        "id": "hxAnQKKarVTh"
      },
      "source": [
        "* `for`\n",
        "  * A `for` loop is initiated using the `for` keyword\n",
        "\n",
        "* `iterator`\n",
        "  * The iterator is a variable that iterates through each element of the vector\n",
        "\n",
        "* `in`\n",
        "  * `in` is a special keyword that tells `R` we want to iterate through the elements \"in\" the vector or list\n",
        "\n",
        "*  `vector/list`\n",
        "  * The `for` loop will use the `iterator` to iterate through each element of a vector or list. This includes columns of data frames since data frames are structured lists!\n",
        "\n",
        "* `for` loop body\n",
        "  * At each iteration, the code in the `for` loop body is executed"
      ]
    },
    {
      "cell_type": "markdown",
      "metadata": {
        "id": "IRkxU0swpNTd"
      },
      "source": [
        "<br>\n",
        "\n",
        "<br>"
      ]
    },
    {
      "cell_type": "markdown",
      "metadata": {
        "id": "DLvWefqCo8Kl"
      },
      "source": [
        "### `for` Loop Examples"
      ]
    },
    {
      "cell_type": "markdown",
      "metadata": {
        "id": "pfJOS1kbf62c"
      },
      "source": [
        "* Most often, `for` loops are used to iterate through a sequence of consecutive integers.\n",
        "\n",
        "* A vector of consecutive integers is created using a colon `:`"
      ]
    },
    {
      "cell_type": "code",
      "execution_count": null,
      "metadata": {
        "id": "5psTxC53Lp5r"
      },
      "outputs": [],
      "source": [
        "# create a vector of consecutive integers\n",
        "1:10"
      ]
    },
    {
      "cell_type": "markdown",
      "metadata": {
        "id": "P-m2aMf-rutD"
      },
      "source": [
        "<br>"
      ]
    },
    {
      "cell_type": "markdown",
      "metadata": {
        "id": "HN3OHxXqntzs"
      },
      "source": [
        "* The iterator `i` iterates through each entry in the vector `1:10` and performs the given `print()` task"
      ]
    },
    {
      "cell_type": "code",
      "execution_count": null,
      "metadata": {
        "id": "MmiwC9okde5V"
      },
      "outputs": [],
      "source": [
        "# simple for loop\n",
        "for (i in 1:10) {\n",
        "  print(i)\n",
        "}"
      ]
    },
    {
      "cell_type": "markdown",
      "metadata": {
        "id": "di66C6ScVoAM"
      },
      "source": [
        "<br>"
      ]
    },
    {
      "cell_type": "markdown",
      "metadata": {
        "id": "SMRDjxLLgYOD"
      },
      "source": [
        "* We can use the function `seq()` to iterate through other sequence patterns"
      ]
    },
    {
      "cell_type": "code",
      "execution_count": null,
      "metadata": {
        "id": "URCMq-XXgXDE"
      },
      "outputs": [],
      "source": [
        "# create a vector from 1 to 10 by 2\n",
        "vec <- seq(1, 10, 2)\n",
        "vec"
      ]
    },
    {
      "cell_type": "code",
      "execution_count": null,
      "metadata": {
        "id": "PZ9BeQTXgStE"
      },
      "outputs": [],
      "source": [
        "# loop through each entry in the variable vec\n",
        "for (j in vec) {\n",
        "  print(j)\n",
        "}"
      ]
    },
    {
      "cell_type": "markdown",
      "metadata": {
        "id": "kOaDvFFNgrqH"
      },
      "source": [
        "<br>"
      ]
    },
    {
      "cell_type": "markdown",
      "metadata": {
        "id": "xpUYnC0agrqI"
      },
      "source": [
        "* We can loop through character vectors as well!"
      ]
    },
    {
      "cell_type": "code",
      "execution_count": null,
      "metadata": {
        "id": "JEP_0z74grqJ"
      },
      "outputs": [],
      "source": [
        "vec <- c(\"Baby\", \"Yoda\", \"is\", \"not\", \"really\", \"baby\", \"Yoda\")\n",
        "for (ii in vec) {\n",
        "  print(ii)\n",
        "}"
      ]
    },
    {
      "cell_type": "markdown",
      "metadata": {
        "id": "4vhRdCetVnVd"
      },
      "source": [
        "<br>"
      ]
    },
    {
      "cell_type": "markdown",
      "metadata": {
        "id": "1mgFpozShRsH"
      },
      "source": [
        "* Remember, data frames are structured lists, where each column is a list item\n",
        "\n",
        "* Therefore, we can loop through each column"
      ]
    },
    {
      "cell_type": "code",
      "execution_count": null,
      "metadata": {
        "id": "DOb-ogRhhRsH"
      },
      "outputs": [],
      "source": [
        "# load sample dataset\n",
        "data(mtcars)\n",
        "head(mtcars)"
      ]
    },
    {
      "cell_type": "code",
      "execution_count": null,
      "metadata": {
        "id": "YZeJiGHIh4AX"
      },
      "outputs": [],
      "source": [
        "# Loop through columns and calculate means\n",
        "for (i in mtcars) {\n",
        "  print(mean(i))\n",
        "}"
      ]
    },
    {
      "cell_type": "markdown",
      "metadata": {
        "id": "zYQIoD6MiGVx"
      },
      "source": [
        "<br>"
      ]
    },
    {
      "cell_type": "markdown",
      "metadata": {
        "id": "r82v_vChiGV9"
      },
      "source": [
        "* But what if we are only interested in the numeric variables for their averages?"
      ]
    },
    {
      "cell_type": "code",
      "execution_count": null,
      "metadata": {
        "id": "IfdQE2csiGV_"
      },
      "outputs": [],
      "source": [
        "# only select mpg, hp, and wt\n",
        "head(mtcars[, c(\"mpg\", \"hp\", \"wt\")])"
      ]
    },
    {
      "cell_type": "code",
      "execution_count": null,
      "metadata": {
        "id": "MmSyFYq0h7pR"
      },
      "outputs": [],
      "source": [
        "# calculate means using a loop\n",
        "for (cols in mtcars[, c(\"mpg\", \"hp\", \"wt\")]) {\n",
        "  print(mean(cols))\n",
        "}"
      ]
    },
    {
      "cell_type": "markdown",
      "metadata": {
        "id": "RnhraeT6VmSp"
      },
      "source": [
        "<br>\n",
        "\n",
        "<br>"
      ]
    },
    {
      "cell_type": "markdown",
      "metadata": {
        "id": "Dct0HiDopCY-"
      },
      "source": [
        "### `for` Loops and Populating Empty Vectors"
      ]
    },
    {
      "cell_type": "markdown",
      "metadata": {
        "id": "9aHwnG0IoAZH"
      },
      "source": [
        "* The previous example calculates the mean of three variables in a data frame\n",
        "\n",
        "* However, what if we want to store these averages for future use?"
      ]
    },
    {
      "cell_type": "markdown",
      "metadata": {
        "id": "3yO7vtvLtpbc"
      },
      "source": [
        "<br>"
      ]
    },
    {
      "cell_type": "markdown",
      "metadata": {
        "id": "FYwnMbYFtq9L"
      },
      "source": [
        "* We can store the averages in an empty vector as we iterate through our loop!\n",
        "\n",
        "* The script below creates an empty vector"
      ]
    },
    {
      "cell_type": "code",
      "execution_count": null,
      "metadata": {
        "id": "01tSDzNZoZp0"
      },
      "outputs": [],
      "source": [
        "# create an empty vector\n",
        "mtcars_means <- vector(length = 3)\n",
        "mtcars_means"
      ]
    },
    {
      "cell_type": "markdown",
      "metadata": {
        "id": "T6ErWklbwsjR"
      },
      "source": [
        "<br>"
      ]
    },
    {
      "cell_type": "markdown",
      "metadata": {
        "id": "m4faP7AEuvSQ"
      },
      "source": [
        "* Numeric indexing and Boolean-based subsetting not only allows us to access entries of a vector...\n",
        "  * We can also overwrite these entries"
      ]
    },
    {
      "cell_type": "code",
      "execution_count": null,
      "metadata": {
        "id": "NChcrZyzutPD"
      },
      "outputs": [],
      "source": [
        "# access the second entry of this vector\n",
        "mtcars_means[2]"
      ]
    },
    {
      "cell_type": "code",
      "execution_count": null,
      "metadata": {
        "id": "Yn7aIcGyvALY"
      },
      "outputs": [],
      "source": [
        "# overwrite the second entry of this vector\n",
        "mtcars_means[2] <- 3.14\n",
        "mtcars_means"
      ]
    },
    {
      "cell_type": "markdown",
      "metadata": {
        "id": "hV4d9OyYumhp"
      },
      "source": [
        "<br>"
      ]
    },
    {
      "cell_type": "markdown",
      "metadata": {
        "id": "2DLf3cqqvKNp"
      },
      "source": [
        "* Let's use this concept to store our means"
      ]
    },
    {
      "cell_type": "code",
      "execution_count": null,
      "metadata": {
        "id": "cHJhtGWDUoxj"
      },
      "outputs": [],
      "source": [
        "1:ncol(mtcars_subset)"
      ]
    },
    {
      "cell_type": "code",
      "execution_count": null,
      "metadata": {
        "id": "qhswWBJNoAZJ"
      },
      "outputs": [],
      "source": [
        "# subset the columns in which we are interested\n",
        "mtcars_subset <- mtcars[, c(\"mpg\", \"hp\", \"wt\")]\n",
        "\n",
        "# create an empty vector\n",
        "mtcars_means <- vector(length = ncol(mtcars_subset))\n",
        "\n",
        "\n",
        "# loop through the columns\n",
        "for (cols in 1:ncol(mtcars_subset)) {\n",
        "\n",
        "  # store the means\n",
        "  mtcars_means[cols] <- mean(mtcars_subset[, cols])\n",
        "\n",
        "}"
      ]
    },
    {
      "cell_type": "code",
      "execution_count": null,
      "metadata": {
        "id": "4pEjyLEzolGS"
      },
      "outputs": [],
      "source": [
        "mtcars_means"
      ]
    },
    {
      "cell_type": "markdown",
      "metadata": {
        "id": "Vl5-LLxawzDB"
      },
      "source": [
        "<br>\n",
        "\n",
        "<br>"
      ]
    },
    {
      "cell_type": "markdown",
      "metadata": {
        "id": "IuMFPQvxw2Bh"
      },
      "source": [
        "* Another approach to storing values is to use `c()` to concatenate additional values to a vector"
      ]
    },
    {
      "cell_type": "code",
      "execution_count": null,
      "metadata": {
        "id": "MUMCz1Z6xIAQ"
      },
      "outputs": [],
      "source": [
        "# create an empty vector using c()\n",
        "mtcars_means <- c()\n",
        "mtcars_means"
      ]
    },
    {
      "cell_type": "code",
      "execution_count": null,
      "metadata": {
        "id": "UwVnbsAaxPBZ"
      },
      "outputs": [],
      "source": [
        "# use c() to concatenate a value to the empty vector\n",
        "mtcars_means <- c(mtcars_means, 3.14)\n",
        "mtcars_means"
      ]
    },
    {
      "cell_type": "code",
      "execution_count": null,
      "metadata": {
        "id": "DvzFwW5wxZZh"
      },
      "outputs": [],
      "source": [
        "# again, use c() to concatenate a value to the empty vector\n",
        "mtcars_means <- c(mtcars_means, 2.7)\n",
        "mtcars_means"
      ]
    },
    {
      "cell_type": "markdown",
      "metadata": {
        "id": "MtI-t-Mqxh2R"
      },
      "source": [
        "<br>"
      ]
    },
    {
      "cell_type": "markdown",
      "metadata": {
        "id": "gGhrv6A7xhTG"
      },
      "source": [
        "* Let's use this concept to store our means"
      ]
    },
    {
      "cell_type": "code",
      "execution_count": null,
      "metadata": {
        "id": "UZQsiMFcxhTH"
      },
      "outputs": [],
      "source": [
        "# subset the columns in which we are interested\n",
        "mtcars_subset <- mtcars[, c(\"mpg\", \"hp\", \"wt\")]\n",
        "\n",
        "# create an empty vector\n",
        "mtcars_means <- c()\n",
        "\n",
        "# loop through the columns\n",
        "for (cols in 1:ncol(mtcars_subset)) {\n",
        "\n",
        "  # store the means using concatenation\n",
        "  mtcars_means <- c(mtcars_means, mean(mtcars_subset[, cols]))\n",
        "  print(mtcars_means)\n",
        "\n",
        "}"
      ]
    },
    {
      "cell_type": "code",
      "execution_count": null,
      "metadata": {
        "id": "n4RSVTrQxhTI"
      },
      "outputs": [],
      "source": [
        "mtcars_means"
      ]
    },
    {
      "cell_type": "markdown",
      "metadata": {
        "id": "IVqGWNCyx90a"
      },
      "source": [
        "<br>"
      ]
    },
    {
      "cell_type": "markdown",
      "metadata": {
        "id": "8Tl60B7oxwBY"
      },
      "source": [
        "* The above approach is useful if the number of items being stored is unknown\n",
        "\n",
        "* For example, what if we only want to store means that are less than 100?"
      ]
    },
    {
      "cell_type": "code",
      "execution_count": null,
      "metadata": {
        "id": "TpVJGvlJyAnb"
      },
      "outputs": [],
      "source": [
        "# subset the columns in which we are interested\n",
        "mtcars_subset <- mtcars[, c(\"mpg\", \"hp\", \"wt\")]\n",
        "\n",
        "# create an empty vector\n",
        "mtcars_means <- c()\n",
        "\n",
        "# loop through the columns\n",
        "for (cols in 1:ncol(mtcars_subset)) {\n",
        "\n",
        "  # calculate mean\n",
        "  m <- mean(mtcars_subset[, cols])\n",
        "\n",
        "  if (m < 100) {\n",
        "    # store the means using concatenation\n",
        "    mtcars_means <- c(mtcars_means, m)\n",
        "  }\n",
        "\n",
        "}"
      ]
    },
    {
      "cell_type": "code",
      "execution_count": null,
      "metadata": {
        "id": "s_tVyHWgySe7"
      },
      "outputs": [],
      "source": [
        "mtcars_means"
      ]
    },
    {
      "cell_type": "markdown",
      "metadata": {
        "id": "nBsx5LGIpUCJ"
      },
      "source": [
        "<br>\n",
        "\n",
        "<br>"
      ]
    },
    {
      "cell_type": "markdown",
      "metadata": {
        "id": "fgG87WaOpYCS"
      },
      "source": [
        "### Nested `for` loops"
      ]
    },
    {
      "cell_type": "markdown",
      "metadata": {
        "id": "iM2v71yVpTvC"
      },
      "source": [
        "* We can also nest loops (loops within loops)\n",
        "\n",
        "* This is typically inefficient and can be alternatively performed using vectorization!"
      ]
    },
    {
      "cell_type": "code",
      "execution_count": null,
      "metadata": {
        "id": "vTfVraAwSj4c"
      },
      "outputs": [],
      "source": [
        "# what is it doing on the inside?\n",
        "for (jj in 1:ncol(mtcars_subset)) {\n",
        "\n",
        "  for (ii in 1:length(mtcars_subset[,jj])) {\n",
        "\n",
        "    print(paste(ii, jj))\n",
        "\n",
        "  } # end inner loop\n",
        "} # end outer loop"
      ]
    },
    {
      "cell_type": "markdown",
      "metadata": {
        "id": "km5oHqXUr_Gz"
      },
      "source": [
        "<br>\n",
        "\n",
        "<br>"
      ]
    },
    {
      "cell_type": "markdown",
      "metadata": {
        "id": "Csyk7pHcsAVP"
      },
      "source": [
        "## `while` loops"
      ]
    },
    {
      "cell_type": "markdown",
      "metadata": {
        "id": "GDNBNyISsAVQ"
      },
      "source": [
        "### `while` loop syntax"
      ]
    },
    {
      "cell_type": "markdown",
      "metadata": {
        "id": "HAvkyRaJsAVR"
      },
      "source": [
        "* The `while` loop repeatedly iterates \"while\" a certain condition is true.\n",
        "\n",
        "* `while` loops are very useful for stopping an algorithm when convergence is met.\n",
        "\n"
      ]
    },
    {
      "cell_type": "markdown",
      "metadata": {
        "id": "7iyi-lJB0XdS"
      },
      "source": [
        "* `while` loop syntax\n",
        "```\n",
        "while (boolean expression) {\n",
        "  while loop body\n",
        "}\n",
        "```"
      ]
    },
    {
      "cell_type": "markdown",
      "metadata": {
        "id": "t6IiUsikzuva"
      },
      "source": [
        "* `while`\n",
        "  * A `while` loop is initiated using the `while` keyword\n",
        "\n",
        "* `boolean expression`\n",
        "  * An expression that produces a `TRUE` or `FALSE`\n",
        "\n",
        "* `while` loop body\n",
        "  * Code in the `while` loop body is only performed if the `boolean expression` is `TRUE`"
      ]
    },
    {
      "cell_type": "markdown",
      "metadata": {
        "id": "7S-89dJhsnjP"
      },
      "source": [
        "<br>"
      ]
    },
    {
      "cell_type": "code",
      "execution_count": null,
      "metadata": {
        "id": "b_tGL2Osr09M"
      },
      "outputs": [],
      "source": [
        "# make sure we always sample the same random number\n",
        "set.seed(15)\n",
        "\n",
        "# initialize x such that the statement is true\n",
        "x <- 0\n",
        "while (x < 50) {\n",
        "\n",
        "  # randomly sample a number from 1 to 20\n",
        "  x <- sample(1:100, 1)\n",
        "  print(x)\n",
        "\n",
        "}\n"
      ]
    },
    {
      "cell_type": "markdown",
      "metadata": {
        "id": "H1lTRR_ssqco"
      },
      "source": [
        "<br>"
      ]
    },
    {
      "cell_type": "markdown",
      "metadata": {
        "id": "DyquTmgksrSa"
      },
      "source": [
        "* What do you think happens in the following?"
      ]
    },
    {
      "cell_type": "code",
      "execution_count": null,
      "metadata": {
        "id": "2o4DiwJQsqcp"
      },
      "outputs": [],
      "source": [
        "x <- 0\n",
        "while (TRUE) {\n",
        "  x <- x + 1\n",
        "}"
      ]
    },
    {
      "cell_type": "markdown",
      "metadata": {
        "id": "XIOQnBC2X1kg"
      },
      "source": [
        "<br>\n",
        "\n",
        "<br>"
      ]
    },
    {
      "cell_type": "markdown",
      "metadata": {
        "id": "b8mYMvYOt1p7"
      },
      "source": [
        "## `repeat` loops"
      ]
    },
    {
      "cell_type": "markdown",
      "metadata": {
        "id": "QG2ofuVPt1p8"
      },
      "source": [
        "### `repeat` loop syntax"
      ]
    },
    {
      "cell_type": "markdown",
      "metadata": {
        "id": "CdaIPSaBt1p9"
      },
      "source": [
        "* The `repeat` loop...well...repeats a task forever!\n",
        "\n",
        "* Notice that there is not condition statement. A `break` statement is used to \"break\" out of the loop one a condition is met"
      ]
    },
    {
      "cell_type": "markdown",
      "metadata": {
        "id": "3Ro5VOWr0tDj"
      },
      "source": [
        "* `repeat` loop syntax\n",
        "```\n",
        "repeat {\n",
        "  repeat loop body\n",
        "  conditional break statement\n",
        "}\n",
        "```"
      ]
    },
    {
      "cell_type": "markdown",
      "metadata": {
        "id": "ZlUMuZSy0wi-"
      },
      "source": [
        "* `repeat`\n",
        "  * A `repeat` loop is initiated using the `while` keyword\n",
        "\n",
        "* `repeat loop body`\n",
        "  * Code that is executed at each iteration of the loop\n",
        "\n",
        "* `conditional break statement`\n",
        "  * A conditional statement, typically an `if` statement, that indicates whether or not we should `break` out of the loop\n",
        "  * Note `break` is a keyword that tells `R` to end the loop"
      ]
    },
    {
      "cell_type": "markdown",
      "metadata": {
        "id": "AGujX5Hz1Nqj"
      },
      "source": [
        "<br>"
      ]
    },
    {
      "cell_type": "code",
      "execution_count": null,
      "metadata": {
        "id": "DoWgjHkItw93"
      },
      "outputs": [],
      "source": [
        "set.seed(15)\n",
        "\n",
        "# initialize x such that the statement is true\n",
        "repeat {\n",
        "\n",
        "  # randomly sample a number from 1 to 20\n",
        "  x <- sample(1:100, 1)\n",
        "  print(x)\n",
        "\n",
        "  if (x >= 50) { break }\n",
        "\n",
        "}\n"
      ]
    },
    {
      "cell_type": "markdown",
      "metadata": {
        "id": "AzK2ZZCa1YRb"
      },
      "source": [
        "<br>"
      ]
    },
    {
      "cell_type": "markdown",
      "metadata": {
        "id": "JSqvAicK1ZGa"
      },
      "source": [
        "* What do you think happens in the following?"
      ]
    },
    {
      "cell_type": "code",
      "execution_count": null,
      "metadata": {
        "id": "m1ULYMNp1ZGa"
      },
      "outputs": [],
      "source": [
        "x <- 0\n",
        "repeat {\n",
        "  x <- x + 1\n",
        "}"
      ]
    },
    {
      "cell_type": "markdown",
      "metadata": {
        "id": "3KhqvACNujj0"
      },
      "source": [
        "<br>"
      ]
    }
  ],
  "metadata": {
    "colab": {
      "collapsed_sections": [
        "Csyk7pHcsAVP",
        "b8mYMvYOt1p7",
        "QG2ofuVPt1p8"
      ],
      "provenance": []
    },
    "kernelspec": {
      "display_name": "R",
      "name": "ir"
    }
  },
  "nbformat": 4,
  "nbformat_minor": 0
}
