{
 "cells": [
  {
   "cell_type": "markdown",
   "id": "25071ca0",
   "metadata": {},
   "source": [
    "# L16 String Process"
   ]
  },
  {
   "cell_type": "markdown",
   "id": "4624f45a",
   "metadata": {},
   "source": []
  }
 ],
 "metadata": {
  "language_info": {
   "name": "python"
  }
 },
 "nbformat": 4,
 "nbformat_minor": 5
}
