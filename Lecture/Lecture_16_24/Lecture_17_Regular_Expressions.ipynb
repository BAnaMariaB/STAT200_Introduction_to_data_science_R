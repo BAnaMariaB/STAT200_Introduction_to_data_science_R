{
  "cells": [
    {
      "cell_type": "markdown",
      "metadata": {
        "id": "gtETsh5j8vHw"
      },
      "source": [
        "# **Lecture 17 - Regular Expressions**\n",
        "\n",
        "---\n",
        "\n",
        "<br>"
      ]
    },
    {
      "cell_type": "markdown",
      "metadata": {
        "id": "QdyJzDgAsFNZ"
      },
      "source": [
        "### Packages"
      ]
    },
    {
      "cell_type": "code",
      "execution_count": null,
      "metadata": {
        "id": "cA36kxW2pZMi"
      },
      "outputs": [],
      "source": [
        "# none! we will use base R"
      ]
    },
    {
      "cell_type": "markdown",
      "metadata": {
        "id": "jFiNcIjpjFs7"
      },
      "source": [
        "---\n",
        "\n",
        "<br>"
      ]
    },
    {
      "cell_type": "markdown",
      "metadata": {
        "id": "Am_oL_2OujkL"
      },
      "source": [
        "### String Processing with Regular Expressions"
      ]
    },
    {
      "cell_type": "markdown",
      "metadata": {
        "id": "iGtPOkZF9uCp"
      },
      "source": [
        "* Last lecture, we learned how to process and manipulate strings in `R` using base `R` functions\n",
        "\n",
        "* In particular, we learned a set of functions that could search for a ***fixed*** string pattern in a character vector\n",
        "  * `grepl(pattern, x)`\n",
        "    * Outputs a logical representing if a `pattern` is in a string `x`\n",
        "  * `grep(pattern, x)`\n",
        "    * Outputs which elements in a character vector `x` contains a `pattern`\n",
        "  * `gsub(pattern, replacement, x)`\n",
        "    * Replaces a `pattern` in string `x` with another string `replacement`\n",
        "  * `gregexpr(pattern, text)`\n",
        "    * Outputs the location of the first character of a `pattern` in a string `text`"
      ]
    },
    {
      "cell_type": "code",
      "execution_count": null,
      "metadata": {},
      "outputs": [],
      "source": [
        "# define strings\n",
        "strings <- c(\"Panda Express\", \"Vallarta's\")\n",
        "\n",
        "#________grepl_________\n",
        "# search for \"Express\" in a character vector -> returns logical representation\n",
        "grepl(pattern = \"Express\",\n",
        "      x       = strings)\n",
        "# oupput :  TRUE FALSE\n",
        "\n",
        "\n",
        "#________grep_________\n",
        "# search for \"Express\" in a character vector -> returns int \n",
        "grep(pattern = \"Express\",\n",
        "     x       = strings)\n",
        "# oupput :  1\n",
        "\n",
        "# Extract all strings with the pattern + value True -> returns char\n",
        "grep(pattern = \"Express\",\n",
        "     x       = strings,\n",
        "     value   = TRUE)\n",
        "# oupput :  'Panda Express'\n",
        "\n",
        "#________gsub_________\n",
        "# search for \"Express\" in a character vector and replace with \"express\" -> returns char depending on structure\n",
        "gsub(pattern     = \"Express\",\n",
        "     replacement = \"express\",\n",
        "     x           = strings)\n",
        "# oupput :    'Panda express''Vallarta\\'s'\n",
        "\n",
        "\n",
        "#________gregexpr_________\n",
        "# Show the location of \"Express\" in a character vector -> returns a list\n",
        "gregexpr(pattern = \"Express\",\n",
        "         text    = strings)\n",
        "# oupput :    1. 7 | 2. -1"
      ]
    },
    {
      "cell_type": "markdown",
      "metadata": {
        "id": "4YiKnw571hHm"
      },
      "source": [
        "<br>"
      ]
    },
    {
      "cell_type": "markdown",
      "metadata": {
        "id": "lIQ9jBNz9Jqb"
      },
      "source": [
        "* But what if the patterns for which we are searching are ***NOT*** fixed?\n",
        "* What if we want to search for a range of patterns, not just one string?\n",
        "* For example, the following script uses the `grepl()` function to determine if a string in a character vector contains the pattern `\"4\"`\n",
        "* The second entry of the logical vector output is `TRUE`, implying the second string in `vec` contains the pattern `\"4\"`\n",
        "\n",
        "* But what if we want to search for a range of patterns (e.g., a range of numbers from 2-4)\n",
        "* This can be performed using an approach called regular expressions\n",
        "* Regular expressions use sequences of characters to search for a variety of patterns within strings"
      ]
    },
    {
      "cell_type": "code",
      "execution_count": null,
      "metadata": {},
      "outputs": [],
      "source": [
        "# define vector\n",
        "vec <- c(    \"My height is 5'6\\\"\", \"5'11\\\"\",\"I'm 6'3\\\"\", \"5'2\\\"\", \"5'4\\\" tall\", \"HEIGHT 4'10\\\"\"    )\n",
        "\n",
        "# use grepl() to determine which entries contain the pattern \"4\" -> result is logical\n",
        "result <- grepl(\"4\", vec)\n",
        "cat(result, sep = \"\\n\") # print as new lines\n",
        "# output :  FALSE | FALSE | FALSE | FALSE | TRUE | TRUE\n",
        "\n",
        "# use grepl() to determine which entries contain a digit 2, 3, or 4 -> result is logical\n",
        "result <- grepl(\"[2-4]\", vec)\n",
        "cat(result, sep = \"\\n\") # print as new lines\n",
        "# output :  FALSE | FALSE | TRUE | TRUE | TRUE | TRUE"
      ]
    },
    {
      "cell_type": "markdown",
      "metadata": {
        "id": "sE7eQTy2CB5j"
      },
      "source": [
        "---\n",
        "\n",
        "<br>"
      ]
    },
    {
      "cell_type": "markdown",
      "metadata": {
        "id": "EDWro6BMCB5k"
      },
      "source": [
        "### Matching a range of numbers"
      ]
    },
    {
      "cell_type": "markdown",
      "metadata": {
        "id": "4TkYIL0QCGH4"
      },
      "source": [
        "* The script below searches for any occurrence of the characters `\"2\"`, `\"3\"`, or `\"4\"` in the character vector\n",
        "\n",
        "* Single digit ranges are specified with square brackets and a hyphen `\"[2-4]\"`\n",
        "\n",
        "* We read the script as follows:\n",
        "  * Search for a string containing a single numeric digit between 2 and 4\n",
        "\n",
        "* To view which entries in the character vector satisfy your regular expression pattern, there are two options\n",
        "  * `grepl()` outputs a `TRUE` if a string entry contains the pattern. We can use these logicals to subset the original character vector\n",
        "  * An alternative is to use `grep()` with the `value = TRUE` option"
      ]
    },
    {
      "cell_type": "code",
      "execution_count": null,
      "metadata": {},
      "outputs": [],
      "source": [
        "# define vector\n",
        "vec <- c(    \"My height is 5'6\\\"\", \"5'11\\\"\",\"I'm 6'3\\\"\", \"5'2\\\"\", \"5'4\\\" tall\", \"HEIGHT 4'10\\\"\"    )\n",
        "\n",
        "# use grepl() to determine which entries contain a digit 2, 3, or 4\n",
        "result <- grepl(\"[2-4]\", vec)\n",
        "cat(result, sep = \"\\n\") # print as new lines\n",
        "# output :  FALSE | FALSE | TRUE | TRUE | TRUE | TRUE\n",
        "\n",
        "\n",
        "# use grepl() to determine which entries contain a digit 2, 3, or 4\n",
        "result <- grepl(\"[2-4]\", vec)\n",
        "cat(vec[result], sep = \"\\n\")\n",
        "# output :  I'm 6'3\"\n",
        "# 5'2\"\n",
        "# 5'4\" tall\n",
        "# HEIGHT 4'10\"\n",
        "\n",
        "# use grep() to determine which entries contain a digit 2, 3, or 4\n",
        "result <- grep(\"[2-4]\", vec, value = TRUE)\n",
        "cat(result, sep = \"\\n\")\n",
        "# output :  I'm 6'3\"\n",
        "# 5'2\"\n",
        "# 5'4\" tall\n",
        "# HEIGHT 4'10\""
      ]
    },
    {
      "cell_type": "markdown",
      "metadata": {
        "id": "v9C9dg2hTM1u"
      },
      "source": [
        "---\n",
        "\n",
        "<br>"
      ]
    },
    {
      "cell_type": "markdown",
      "metadata": {
        "id": "aXMB3zCOTM1v"
      },
      "source": [
        "### Matching a range of letters"
      ]
    },
    {
      "cell_type": "markdown",
      "metadata": {
        "id": "h_xpdevRTPp6"
      },
      "source": [
        "* Similar to numbers, we can also match a range of letters, which are specified with square brackets and a hyphen `\"[a-z]\"`\n",
        "\n",
        "* The script below searches for any occurrence of a letter from lower case `\"a\"` to `\"z\"`\n",
        "\n",
        "* We read the script as follows:\n",
        "  * Search for a string containing a letter from `\"a\"` to `\"z\"`\n",
        "\n",
        "* Notice the last entry was not matched because the letter is in upper case\n",
        "\n",
        "* We read the script as follows:\n",
        "  * Search for a string containing a letter from `\"a\"` to `\"i\"`\n",
        "\n",
        "* You can also search for a range of upper case letters\n",
        "\n",
        "* We read the script as follows:\n",
        "  * Search for a string containing a letter from `\"A\"` to `\"I\"`\n",
        "\n",
        "* You can also mix the two together\n",
        "\n",
        "* We read the script as follows:\n",
        "  * Search for a string containing a letter from `\"a\"` to `\"i\"` or `\"A\"` to `\"I\"` or\n",
        "\n",
        "* You can also separate letters by a comma\n",
        "\n",
        "* We read the script as follows:\n",
        "  * Search for a string containing a letter either the letter `\"H\"` or `\"h\"`"
      ]
    },
    {
      "cell_type": "code",
      "execution_count": null,
      "metadata": {},
      "outputs": [],
      "source": [
        "# define vector\n",
        "vec <- c(    \"My height is 5'6\\\"\", \"5'11\\\"\",\"I'm 6'3\\\"\", \"5'2\\\"\", \"5'4\\\" tall\", \"HEIGHT 4'10\\\"\"    )\n",
        "\n",
        "# use grepl() to determine which entries contain a lower case letter in the alphabet - [a-z]\n",
        "result <- grepl(\"[a-z]\", vec)\n",
        "cat(result, sep = \"\\n\") # print as new lines\n",
        "# output :  TRUE | FALSE | TRUE | FALSE | TRUE | FALSE\n",
        "\n",
        "# use grepl() to determine which entries contain the letter a through i - [a-i]\n",
        "result <- grepl(\"[a-i]\", vec)\n",
        "cat(result, sep = \"\\n\")\n",
        "# output :  TRUE | FALSE | FALSE | FALSE | TRUE | FALSE\n",
        "\n",
        "# use grepl() to determine which entries contain the letter A through I\n",
        "result <- grepl(\"[A-I]\", vec)\n",
        "cat(result, sep = \"\\n\")\n",
        "# output :  FALSE | FALSE | TRUE | FALSE | FALSE | TRUE\n",
        "\n",
        "# use grepl() to determine which entries contain the letter a to i or A to I\n",
        "result <- grepl(\"[a-iA-I]\", vec)\n",
        "cat(result, sep = \"\\n\")\n",
        "# output :  TRUE | FALSE | TRUE | FALSE | TRUE | TRUE\n",
        "\n",
        "# use grepl() to determine which entries contain the letter h or H\n",
        "result <- grepl(\"[H,h]\", vec)\n",
        "cat(result, sep = \"\\n\")\n",
        "# output :  TRUE | FALSE | FALSE | FALSE | FALSE | TRUE\n"
      ]
    },
    {
      "cell_type": "markdown",
      "metadata": {
        "id": "H1gLEQsgUkfI"
      },
      "source": [
        "---\n",
        "\n",
        "<br>"
      ]
    },
    {
      "cell_type": "markdown",
      "metadata": {
        "id": "z25d-pf6UkfJ"
      },
      "source": [
        "### OR Operator `\"|\"`"
      ]
    },
    {
      "cell_type": "markdown",
      "metadata": {
        "id": "rbXBIZEhjwVP"
      },
      "source": [
        "#### OR `\"|\"`"
      ]
    },
    {
      "cell_type": "markdown",
      "metadata": {
        "id": "vlA6sy85UDT7"
      },
      "source": [
        "* In regular expressions, there is also an OR operation using the vertical bar `\"|\"`\n",
        "\n",
        "* We read the script as follows:\n",
        "  * Search for a string containing a letter from `\"a\"` to `\"i\"` OR a letter from `\"A\"` to `\"I\"`"
      ]
    },
    {
      "cell_type": "code",
      "execution_count": null,
      "metadata": {},
      "outputs": [],
      "source": [
        "# define vector\n",
        "vec <- c(    \"My height is 5'6\\\"\", \"5'11\\\"\",\"I'm 6'3\\\"\", \"5'2\\\"\", \"5'4\\\" tall\", \"HEIGHT 4'10\\\"\"    )\n",
        "\n",
        "# use grepl() to determine which entries contain the letter a to i OR A to I\n",
        "result <- grepl(\"[a-i]|[A-I]\", vec)\n",
        "cat(result, sep = \"\\n\")\n",
        "# output :  TRUE | FALSE | TRUE | FALSE | TRUE | TRUE"
      ]
    },
    {
      "cell_type": "markdown",
      "metadata": {
        "id": "czPDtIEoVihF"
      },
      "source": [
        "---\n",
        "\n",
        "<br>"
      ]
    },
    {
      "cell_type": "markdown",
      "metadata": {
        "id": "NO0vH0DRVihG"
      },
      "source": [
        "### Matching the Start (`\"^\"`) or End of a String `(\"$\")`"
      ]
    },
    {
      "cell_type": "markdown",
      "metadata": {
        "id": "qp_TDa9haY1d"
      },
      "source": [
        "#### `\"^\"`"
      ]
    },
    {
      "cell_type": "markdown",
      "metadata": {
        "id": "nErRknQcVww5"
      },
      "source": [
        "* The start of a string is matched using a caret symbol `\"^\"`\n",
        "\n",
        "* We read the following script as follows:\n",
        "  * Search for a string ***starting*** with a letter from `\"a\"` to `\"i\"` OR ***starting*** with a letter from `\"A\"` to `\"I\"`\n",
        "* If removing the starting caret symbol `\"^\"` from the first entry, notice how all three strings produce `TRUE`\n",
        "* This is because the `\"i\"` in `\"is\"` is matched despite not starting the string\n",
        "* We read the following script as follows:\n",
        "  * Search for a string ***containing*** a letter from `\"a\"` to `\"i\"` OR ***containing*** a letter from `\"A\"` to `\"I\"`"
      ]
    },
    {
      "cell_type": "code",
      "execution_count": null,
      "metadata": {},
      "outputs": [],
      "source": [
        "# define vector\n",
        "vec <- c(    \"I love it! Panda Express that is...\", \"i love Panda Express\", \"Panda Express is great!\"    )\n",
        "\n",
        "# search for strings starting with a through i or A through I\n",
        "result <- grepl(\"^[a-i]|^[A-I]\", vec)\n",
        "cat(result, sep = \"\\n\")\n",
        "# output :  TRUE | TRUE | FALSE\n",
        "\n",
        "\n",
        "# search for strings with a through i or starting with A through I\n",
        "result <- grepl(\"[a-i]|^[A-I]\", vec)\n",
        "cat(result, sep = \"\\n\") # output :  TRUE | TRUE | TRUE"
      ]
    },
    {
      "cell_type": "markdown",
      "metadata": {
        "id": "xLtc5qYtac7r"
      },
      "source": [
        "#### `\"$\"`"
      ]
    },
    {
      "cell_type": "markdown",
      "metadata": {
        "id": "eUqRvQH0WjMg"
      },
      "source": [
        "* The end of a string is matched using a dollar symbol `\"$\"`\n",
        "\n",
        "* We read the following script as follows:\n",
        "  * Search for a string ***ending*** with an exclamation point `\"!\"`\n",
        "\n",
        "* Removing the `\"$\"` then matches the first and third string\n",
        "\n",
        "* We read the following script as follows:\n",
        "  * Search for a string ***containing*** an exclamation point `\"!\"`"
      ]
    },
    {
      "cell_type": "code",
      "execution_count": null,
      "metadata": {},
      "outputs": [],
      "source": [
        "# define vector\n",
        "vec <- c(    \"I love it! Panda Express that is...\", \"i love Panda Express\", \"Panda Express is great!\"    )\n",
        "\n",
        "# use grepl() to determine which entries END WITH an exclamation point \"!\"\n",
        "result <- grepl(\"!$\", vec)\n",
        "cat(result, sep = \"\\n\")\n",
        "# output :  FALSE | FALSE | TRUE\n",
        "\n",
        "# use grepl() to determine which entries contain an exclamation point \"!\"\n",
        "result <- grepl(\"!\", vec)\n",
        "cat(result, sep = \"\\n\")\n",
        "# output :  TRUE | FALSE | TRUE"
      ]
    },
    {
      "cell_type": "markdown",
      "metadata": {
        "id": "9JX0XBsC-C3B"
      },
      "source": [
        "---\n",
        "\n",
        "<br>"
      ]
    },
    {
      "cell_type": "markdown",
      "metadata": {
        "id": "ILTS7CDr-C3C"
      },
      "source": [
        "#### Special Characters - `\".\"`, `\"*\"`, `\"?\"`, `\"+\"`"
      ]
    },
    {
      "cell_type": "markdown",
      "metadata": {
        "id": "UDoS_StqbY4k"
      },
      "source": [
        "#### `\"*\"`"
      ]
    },
    {
      "cell_type": "markdown",
      "metadata": {
        "id": "RrLC8wKHbY4l"
      },
      "source": [
        "* The asterisk `\"*\"` represents ***zero or more*** instances of the previous character\n",
        "\n",
        "* For example, we read the following script as follows:\n",
        "\n",
        "  * Search for a string ***containing*** an `\"A\"`, then a `\"1\"` zero or more times, then a `\"B\"`\n",
        "\n",
        "* All strings return a `TRUE` since all strings contain an `\"A\"`, zero or more instances of `\"1\"`, then one `\"B\"`"
      ]
    },
    {
      "cell_type": "code",
      "execution_count": null,
      "metadata": {},
      "outputs": [],
      "source": [
        "# define vector\n",
        "vec <- c(    \"AB\",\n",
        "             \"A1B\",\n",
        "             \"A11B\",\n",
        "             \"A111B\",\n",
        "             \"A1111B\")\n",
        "\n",
        "# grepl search with \"*\"\n",
        "result <- grepl(\"A1*B\", vec)\n",
        "cat(result, sep = \"\\n\")\n",
        "# output :  TRUE | TRUE | TRUE | TRUE | TRUE"
      ]
    },
    {
      "cell_type": "markdown",
      "metadata": {
        "id": "2tWTr6FwfS7-"
      },
      "source": [
        "#### `\"+\"`"
      ]
    },
    {
      "cell_type": "markdown",
      "metadata": {
        "id": "FGAyXHntfS7_"
      },
      "source": [
        "* The plus symbol `\"+\"` represents ***one or more instances*** of the previous character\n",
        "\n",
        "* For example, we read the following script as follows:\n",
        "\n",
        "  * Search for a string ***containing*** an `\"A\"`, then a `\"1\"` ***one or more*** times, then a `\"B\"`\n",
        "\n",
        "* The first string returns a `FALSE` since `\"1\"` does not occur one or more times\n",
        "\n",
        "* The remaining strings return a `TRUE` since these strings contain a `\"1\"` at least one time"
      ]
    },
    {
      "cell_type": "code",
      "execution_count": null,
      "metadata": {},
      "outputs": [],
      "source": [
        "# define vector\n",
        "vec <- c(    \"AB\",\n",
        "             \"A1B\",\n",
        "             \"A11B\",\n",
        "             \"A111B\",\n",
        "             \"A1111B\")\n",
        "\n",
        "# grepl search with \"+\"\n",
        "result <- grepl(\"A1+B\", vec)\n",
        "cat(result, sep = \"\\n\")\n",
        "# output :  FALSE | TRUE | TRUE | TRUE | TRUE"
      ]
    },
    {
      "cell_type": "markdown",
      "metadata": {
        "id": "P62tT64ub6c8"
      },
      "source": [
        "#### `\"?\"`"
      ]
    },
    {
      "cell_type": "markdown",
      "metadata": {
        "id": "xW5Feodbb6c8"
      },
      "source": [
        "* The period `\"?\"` represents ***none or one*** instance of the previous character.\n",
        "\n",
        "* For example, we read the following script as follows:\n",
        "\n",
        "  * Search for a string ***containing*** an `\"A\"`, then `\"1\"` ***zero or one*** time, then a `\"B\"`\n",
        "\n",
        "* The first two strings return a `TRUE` since the character `\"1\"` occurs ***zero or one*** time"
      ]
    },
    {
      "cell_type": "code",
      "execution_count": null,
      "metadata": {},
      "outputs": [],
      "source": [
        "# define vector\n",
        "vec <- c(    \"AB\",\n",
        "             \"A1B\",\n",
        "             \"A11B\",\n",
        "             \"A111B\",\n",
        "             \"A1111B\")\n",
        "\n",
        "# grepl search with \"?\"\n",
        "result <- grepl(\"A1?B\", vec)\n",
        "cat(result, sep = \"\\n\")\n",
        "# output :  TRUE | TRUE | FALSE | FALSE | FALSE"
      ]
    },
    {
      "cell_type": "markdown",
      "metadata": {
        "id": "QFFl7nQvafcn"
      },
      "source": [
        "#### `\".\"`"
      ]
    },
    {
      "cell_type": "markdown",
      "metadata": {
        "id": "DkBKNlASagmi"
      },
      "source": [
        "* The period `\".\"` represents ***any single*** character\n",
        "\n",
        "* For example, we read the following script as follows:\n",
        "\n",
        "  * Search for a string containing an `\"A\"`, then any single character, then a `\"B\"`\n",
        "\n",
        "* Notice how only the second string `\"A1B\"` results in a `TRUE`\n",
        "\n",
        "* All other strings have zero or more than one character between `\"A\"` and `\"B\"`, resulting in `FALSE`\n",
        "\n"
      ]
    },
    {
      "cell_type": "code",
      "execution_count": null,
      "metadata": {},
      "outputs": [],
      "source": [
        "# define vector\n",
        "vec <- c(    \"AB\",\n",
        "             \"A1B\",\n",
        "             \"A11B\",\n",
        "             \"A111B\",\n",
        "             \"A1111B\")\n",
        "\n",
        "# grepl search with \".\"\n",
        "result <- grepl(\"A.B\", vec)\n",
        "cat(result, sep = \"\\n\")\n",
        "# output :  FALSE | TRUE | FALSE | FALSE | FALSE"
      ]
    },
    {
      "cell_type": "markdown",
      "metadata": {
        "id": "E-cQ_7zQj-hS"
      },
      "source": [
        "---\n",
        "\n",
        "<br>"
      ]
    },
    {
      "cell_type": "markdown",
      "metadata": {
        "id": "Bw2gajzc6t5n"
      },
      "source": [
        "### Escaping"
      ]
    },
    {
      "cell_type": "markdown",
      "metadata": {
        "id": "EUyWATXI6xoN"
      },
      "source": [
        "* Last lecture, we learned that we can use the backslash `\\` to include specific formatting in a string\n",
        "\n",
        "* For example, we require a single backslash `\\` to include a quote in a string\n",
        "\n",
        "* In regular expressions, there are other characters that have a special meaning\n",
        "\n",
        "* Escaping these special characters requires two backslashes `\"\\\\\"`"
      ]
    },
    {
      "cell_type": "code",
      "execution_count": null,
      "metadata": {},
      "outputs": [],
      "source": [
        "# print a string with quotes -> outputs :  I am 5'6\" tall\n",
        "cat(\"I am 5'6\\\" tall\")\n",
        "\n",
        "# without the escape \\ outputs an error\n",
        "cat(\"I am 5'6\" tall\")"
      ]
    },
    {
      "cell_type": "markdown",
      "metadata": {
        "id": "7ErUUXf47wqa"
      },
      "source": [
        "#### The Digit Special Character `\"\\\\d\"`"
      ]
    },
    {
      "cell_type": "markdown",
      "metadata": {
        "id": "dg3aCVcO8d3B"
      },
      "source": [
        "* The special character `\"\\\\d\"` is equivalent to specifying `[\"0-9\"]`\n",
        "* You can specify the number of digits for which you are searching using curly braces `\"\\\\d{number digits}\"`\n",
        "\n",
        "* For example, we read the following script as follows:\n",
        "\n",
        "  * Search for a string containing 3 or 4 digits in a row"
      ]
    },
    {
      "cell_type": "code",
      "execution_count": null,
      "metadata": {},
      "outputs": [],
      "source": [
        "# define vector\n",
        "vec <- c(    \"My height is 5'6\\\"\",\n",
        "             \"5'11\\\"\",\n",
        "             \"I'm 6'3\\\"\",\n",
        "             \"5'2\\\"\",\n",
        "             \"5'4\\\" tall\",\n",
        "             \"HEIGHT 4'10\\\"\"    )\n",
        "\n",
        "# search for a numerical digit\n",
        "result <- grepl(\"[0-9]\", vec)\n",
        "cat(result, sep = \"\\n\")\n",
        "# output :  TRUE | TRUE | TRUE | TRUE | TRUE | TRUE\n",
        "\n",
        "# use grepl() to determine which entries contain a numerical digit\n",
        "result <- grepl(\"\\\\d\", vec)\n",
        "cat(result, sep = \"\\n\")\n",
        "# output :  TRUE | TRUE | TRUE | TRUE | TRUE | TRUE\n",
        "\n",
        "# use grepl() to determine which entries contain 3 or 4 digit numbers\n",
        "result <- grepl(\"\\\\d{3,4}\", vec)\n",
        "cat(result, sep = \"\\n\")\n",
        "# output :  FALSE | FALSE | FALSE | FALSE | FALSE | TRUE"
      ]
    },
    {
      "cell_type": "markdown",
      "metadata": {
        "id": "1K0pwytc9cxJ"
      },
      "source": [
        "#### The White Space Special Character `\"\\\\s\"`"
      ]
    },
    {
      "cell_type": "markdown",
      "metadata": {
        "id": "60zATVa59cxJ"
      },
      "source": [
        "* Often times, strings will contain white space\n",
        "\n",
        "* It can be useful to search for white space to debug or correct strings for an analysis"
      ]
    },
    {
      "cell_type": "code",
      "execution_count": null,
      "metadata": {},
      "outputs": [],
      "source": [
        "# define vector\n",
        "vec <- c(    \"My height is 5'6\\\"\",\n",
        "             \"5'11\\\"\",\n",
        "             \"I'm 6'3\\\"\",\n",
        "             \"5'2\\\"\",\n",
        "             \"5'4\\\" tall\",\n",
        "             \"HEIGHT 4'10\\\"\"    )\n",
        "\n",
        "# use grepl() to determine which entries contain white space\n",
        "result <- grepl(\"\\\\s\", vec)\n",
        "cat(result, sep = \"\\n\")\n",
        "# output :  TRUE |FALSE | TRUE | FALSE | TRUE | TRUE"
      ]
    },
    {
      "cell_type": "markdown",
      "metadata": {
        "id": "yPQGABY5RCTI"
      },
      "source": [
        "---\n",
        "\n",
        "<br>"
      ]
    },
    {
      "cell_type": "markdown",
      "metadata": {
        "id": "jEPFIi7fDNX3"
      },
      "source": [
        "#### The `regmatches()` Function"
      ]
    },
    {
      "cell_type": "markdown",
      "metadata": {
        "id": "H1NMzCWcDNX3"
      },
      "source": [
        "* Thus far, we have learned to find a range of patterns within a vector of strings\n",
        "\n",
        "* But what if we want to extract the content of these patterns?\n",
        "\n",
        "* For example, we may want to extract only heights and no other text\n",
        "\n",
        "* We can use the `regmatches(x, m)` function!\n",
        "\n",
        "  * `x`: a vector of character data types (strings)\n",
        "  \n",
        "  * `m`: output from the `gregexpr()` function\n",
        "\n",
        "* The script below first uses the `gregexpr()` function to find the location of the start of a pattern\n",
        "\n",
        "* Since we want to extract the heights, the pattern for which we are search reads as follows:\n",
        "  * Search for patterns that start with a number `\"\\\\d\"`\n",
        "\n",
        "  * followed by an single quote `\"'\"`\n",
        "\n",
        "  * followed by a number with 1 or two digits `\\\\d{1, 2}`\n",
        "\n",
        "  * followed by a double quote `\"\\\"\"`\n",
        "  * We can then use the `regmatches()` function and the pattern locations to extract the patterns themselves\n",
        "\n",
        "* Why is this useful?\n",
        "\n",
        "  * This process provides us with the ability to extract data from text for analysis!"
      ]
    },
    {
      "cell_type": "code",
      "execution_count": null,
      "metadata": {},
      "outputs": [],
      "source": [
        "# define vector\n",
        "vec <- c(    \"My height is 5'6\\\", is that short?\",\n",
        "             \"5'11\\\" maybe?\",\n",
        "             \"I'm 6'3\\\"\",\n",
        "             \"I am 5'2\\\" tall\",\n",
        "             \"5'4\\\" tall\",\n",
        "             \"HEIGHT 4'10\\\"\"    )\n",
        "\n",
        "# find location of pattern\n",
        "pattern_locations <- gregexpr(\"\\\\d\\'\\\\d{1,2}\\\"\", vec)\n",
        "pattern_locations \n",
        "# output : 1. 14 | 2. 1 | 3. 5 | 4. 6 | 5. 1 | 6. 8 \n",
        "\n",
        "\n",
        "# extract patterns from strings using locations\n",
        "extracted_patterns <- regmatches(vec, pattern_locations)\n",
        "cat(do.call(c,extracted_patterns), sep = \"\\n\")\n",
        "# output : 5'6\" | 5'11\" | 6'3\" | 5'2\" | 5'4\" | 4'11\" "
      ]
    },
    {
      "cell_type": "markdown",
      "metadata": {},
      "source": [
        "\n",
        "### 1. Character Classes\n",
        "| Pattern     | Meaning                              |\n",
        "|-------------|---------------------------------------|\n",
        "| `.`         | Any single character except newline    |\n",
        "| `[abc]`     | Matches one of: a, b, or c            |\n",
        "| `[^abc]`    | Matches anything except a, b, or c    |\n",
        "| `[a-z]`     | Matches any lowercase letter          |\n",
        "| `[0-9]` or `\\d` | Matches any digit                |\n",
        "| `\\D`        | Non-digit character                  |\n",
        "| `\\s`        | Whitespace character                 |\n",
        "| `\\S`        | Non-whitespace character             |\n",
        "| `\\w`        | Word character (letter, digit, `_`)  |\n",
        "| `\\W`        | Non-word character                   |\n",
        "\n",
        "### 2. Anchors\n",
        "| Pattern | Meaning                      |\n",
        "|---------|-------------------------------|\n",
        "| `^`     | Start of string               |\n",
        "| `$`     | End of string                 |\n",
        "\n",
        "### 3. Quantifiers\n",
        "| Pattern   | Meaning                          |\n",
        "|-----------|-----------------------------------|\n",
        "| `*`       | 0 or more occurrences              |\n",
        "| `+`       | 1 or more occurrences              |\n",
        "| `?`       | 0 or 1 occurrence                  |\n",
        "| `{n}`     | Exactly n occurrences              |\n",
        "| `{n,}`    | At least n occurrences             |\n",
        "| `{n,m}`   | Between n and m occurrences        |\n",
        "| `t*m`     | zero or more of the letter t       |\n",
        "\n",
        "### 4. Grouping and Alternation\n",
        "| Pattern     | Meaning                              |\n",
        "|-------------|---------------------------------------|\n",
        "| `(abc)`     | Grouping (for precedence/capture)     |\n",
        "| `a pipe b`       | Either a or b                         |"
      ]
    },
    {
      "cell_type": "markdown",
      "metadata": {
        "id": "awkUMjpUe77z"
      },
      "source": [
        "### Examples"
      ]
    },
    {
      "cell_type": "markdown",
      "metadata": {
        "id": "D3q7AQ-tqIwT"
      },
      "source": [
        "* Below are several examples of how you can use regular expressions to explore text data\n",
        "\n",
        "* We will explore strings from a twitter (now X) dataset related to the covid-19 pandemic"
      ]
    },
    {
      "cell_type": "code",
      "execution_count": null,
      "metadata": {
        "colab": {
          "base_uri": "https://localhost:8080/",
          "height": 390
        },
        "id": "4vBlIuU7MuJi",
        "outputId": "fd3019f3-f22c-439f-9c35-a2e8ff7b39de"
      },
      "outputs": [
        {
          "data": {
            "text/html": [
              "<table class=\"dataframe\">\n",
              "<caption>A data.frame: 6 × 4</caption>\n",
              "<thead>\n",
              "\t<tr><th></th><th scope=col>user_name</th><th scope=col>user_location</th><th scope=col>date</th><th scope=col>text</th></tr>\n",
              "\t<tr><th></th><th scope=col>&lt;chr&gt;</th><th scope=col>&lt;chr&gt;</th><th scope=col>&lt;chr&gt;</th><th scope=col>&lt;chr&gt;</th></tr>\n",
              "</thead>\n",
              "<tbody>\n",
              "\t<tr><th scope=row>1</th><td>ᏉᎥ☻լꂅϮ          </td><td>astroworld          </td><td>2020-07-25 12:27:21</td><td>If I smelled the scent of hand sanitizers today on someone in the past, I would think they were so intoxicated that… https://t.co/QZvYbrOgb0</td></tr>\n",
              "\t<tr><th scope=row>2</th><td>Tom Basile 🇺🇸    </td><td>New York, NY        </td><td>2020-07-25 12:27:17</td><td>Hey @Yankees @YankeesPR and @MLB - wouldn't it have made more sense to have the players pay their respects to the A… https://t.co/1QvW0zgyPu</td></tr>\n",
              "\t<tr><th scope=row>3</th><td>Time4fisticuffs  </td><td>Pewee Valley, KY    </td><td>2020-07-25 12:27:14</td><td>@diane3443 @wdunlap @realDonaldTrump Trump never once claimed #COVID19 was a hoax. We all claim that this effort to… https://t.co/Jkk8vHWHb3</td></tr>\n",
              "\t<tr><th scope=row>4</th><td>ethel mertz      </td><td>Stuck in the Middle </td><td>2020-07-25 12:27:10</td><td>@brookbanktv The one gift #COVID19 has give me is an appreciation for the simple things that were always around me… https://t.co/Z0pOAlFXcW </td></tr>\n",
              "\t<tr><th scope=row>5</th><td><span style=white-space:pre-wrap>DIPR-J&amp;K         </span></td><td><span style=white-space:pre-wrap>Jammu and Kashmir   </span></td><td>2020-07-25 12:27:08</td><td>25 July : Media Bulletin on Novel #CoronaVirusUpdates #COVID19 \n",
              "@kansalrohit69 @DrSyedSehrish @airnewsalerts @ANI… https://t.co/MN0EEcsJHh </td></tr>\n",
              "\t<tr><th scope=row>6</th><td>🎹 Franz Schubert</td><td>Новоро́ссия          </td><td>2020-07-25 12:27:06</td><td>#coronavirus #covid19 deaths continue to rise. It's almost  as bad as it ever was.  Politicians and businesses want… https://t.co/hXMHooXX2C</td></tr>\n",
              "</tbody>\n",
              "</table>\n"
            ],
            "text/latex": [
              "A data.frame: 6 × 4\n",
              "\\begin{tabular}{r|llll}\n",
              "  & user\\_name & user\\_location & date & text\\\\\n",
              "  & <chr> & <chr> & <chr> & <chr>\\\\\n",
              "\\hline\n",
              "\t1 & ᏉᎥ☻լꂅϮ           & astroworld           & 2020-07-25 12:27:21 & If I smelled the scent of hand sanitizers today on someone in the past, I would think they were so intoxicated that… https://t.co/QZvYbrOgb0\\\\\n",
              "\t2 & Tom Basile 🇺🇸     & New York, NY         & 2020-07-25 12:27:17 & Hey @Yankees @YankeesPR and @MLB - wouldn't it have made more sense to have the players pay their respects to the A… https://t.co/1QvW0zgyPu\\\\\n",
              "\t3 & Time4fisticuffs   & Pewee Valley, KY     & 2020-07-25 12:27:14 & @diane3443 @wdunlap @realDonaldTrump Trump never once claimed \\#COVID19 was a hoax. We all claim that this effort to… https://t.co/Jkk8vHWHb3\\\\\n",
              "\t4 & ethel mertz       & Stuck in the Middle  & 2020-07-25 12:27:10 & @brookbanktv The one gift \\#COVID19 has give me is an appreciation for the simple things that were always around me… https://t.co/Z0pOAlFXcW \\\\\n",
              "\t5 & DIPR-J\\&K          & Jammu and Kashmir    & 2020-07-25 12:27:08 & 25 July : Media Bulletin on Novel \\#CoronaVirusUpdates \\#COVID19 \n",
              "@kansalrohit69 @DrSyedSehrish @airnewsalerts @ANI… https://t.co/MN0EEcsJHh \\\\\n",
              "\t6 & 🎹 Franz Schubert & Новоро́ссия           & 2020-07-25 12:27:06 & \\#coronavirus \\#covid19 deaths continue to rise. It's almost  as bad as it ever was.  Politicians and businesses want… https://t.co/hXMHooXX2C\\\\\n",
              "\\end{tabular}\n"
            ],
            "text/markdown": [
              "\n",
              "A data.frame: 6 × 4\n",
              "\n",
              "| <!--/--> | user_name &lt;chr&gt; | user_location &lt;chr&gt; | date &lt;chr&gt; | text &lt;chr&gt; |\n",
              "|---|---|---|---|---|\n",
              "| 1 | ᏉᎥ☻լꂅϮ           | astroworld           | 2020-07-25 12:27:21 | If I smelled the scent of hand sanitizers today on someone in the past, I would think they were so intoxicated that… https://t.co/QZvYbrOgb0 |\n",
              "| 2 | Tom Basile 🇺🇸     | New York, NY         | 2020-07-25 12:27:17 | Hey @Yankees @YankeesPR and @MLB - wouldn't it have made more sense to have the players pay their respects to the A… https://t.co/1QvW0zgyPu |\n",
              "| 3 | Time4fisticuffs   | Pewee Valley, KY     | 2020-07-25 12:27:14 | @diane3443 @wdunlap @realDonaldTrump Trump never once claimed #COVID19 was a hoax. We all claim that this effort to… https://t.co/Jkk8vHWHb3 |\n",
              "| 4 | ethel mertz       | Stuck in the Middle  | 2020-07-25 12:27:10 | @brookbanktv The one gift #COVID19 has give me is an appreciation for the simple things that were always around me… https://t.co/Z0pOAlFXcW  |\n",
              "| 5 | DIPR-J&amp;K          | Jammu and Kashmir    | 2020-07-25 12:27:08 | 25 July : Media Bulletin on Novel #CoronaVirusUpdates #COVID19 \n",
              "@kansalrohit69 @DrSyedSehrish @airnewsalerts @ANI… https://t.co/MN0EEcsJHh  |\n",
              "| 6 | 🎹 Franz Schubert | Новоро́ссия           | 2020-07-25 12:27:06 | #coronavirus #covid19 deaths continue to rise. It's almost  as bad as it ever was.  Politicians and businesses want… https://t.co/hXMHooXX2C |\n",
              "\n"
            ],
            "text/plain": [
              "  user_name         user_location        date               \n",
              "1 ᏉᎥ☻լꂅϮ           astroworld           2020-07-25 12:27:21\n",
              "2 Tom Basile 🇺🇸     New York, NY         2020-07-25 12:27:17\n",
              "3 Time4fisticuffs   Pewee Valley, KY     2020-07-25 12:27:14\n",
              "4 ethel mertz       Stuck in the Middle  2020-07-25 12:27:10\n",
              "5 DIPR-J&K          Jammu and Kashmir    2020-07-25 12:27:08\n",
              "6 🎹 Franz Schubert Новоро́ссия           2020-07-25 12:27:06\n",
              "  text                                                                                                                                        \n",
              "1 If I smelled the scent of hand sanitizers today on someone in the past, I would think they were so intoxicated that… https://t.co/QZvYbrOgb0\n",
              "2 Hey @Yankees @YankeesPR and @MLB - wouldn't it have made more sense to have the players pay their respects to the A… https://t.co/1QvW0zgyPu\n",
              "3 @diane3443 @wdunlap @realDonaldTrump Trump never once claimed #COVID19 was a hoax. We all claim that this effort to… https://t.co/Jkk8vHWHb3\n",
              "4 @brookbanktv The one gift #COVID19 has give me is an appreciation for the simple things that were always around me… https://t.co/Z0pOAlFXcW \n",
              "5 25 July : Media Bulletin on Novel #CoronaVirusUpdates #COVID19 \\n@kansalrohit69 @DrSyedSehrish @airnewsalerts @ANI… https://t.co/MN0EEcsJHh \n",
              "6 #coronavirus #covid19 deaths continue to rise. It's almost  as bad as it ever was.  Politicians and businesses want… https://t.co/hXMHooXX2C"
            ]
          },
          "metadata": {},
          "output_type": "display_data"
        }
      ],
      "source": [
        "# load data\n",
        "tweets <- read.csv(\"https://raw.githubusercontent.com/khasenst/datasets_teaching/refs/heads/main/covid19tweets.csv\")\n",
        "\n",
        "# show first few lines\n",
        "head(tweets)"
      ]
    },
    {
      "cell_type": "code",
      "execution_count": null,
      "metadata": {
        "colab": {
          "base_uri": "https://localhost:8080/",
          "height": 121
        },
        "id": "l_x5du1UqpWW",
        "outputId": "e3783d0c-176a-4468-c934-93f62df4a06d"
      },
      "outputs": [
        {
          "data": {
            "text/html": [
              "<style>\n",
              ".list-inline {list-style: none; margin:0; padding: 0}\n",
              ".list-inline>li {display: inline-block}\n",
              ".list-inline>li:not(:last-child)::after {content: \"\\00b7\"; padding: 0 .5ex}\n",
              "</style>\n",
              "<ol class=list-inline><li>'If I smelled the scent of hand sanitizers today on someone in the past, I would think they were so intoxicated that… https://t.co/QZvYbrOgb0'</li><li>'Hey @Yankees @YankeesPR and @MLB - wouldn\\'t it have made more sense to have the players pay their respects to the A… https://t.co/1QvW0zgyPu'</li><li>'@diane3443 @wdunlap @realDonaldTrump Trump never once claimed #COVID19 was a hoax. We all claim that this effort to… https://t.co/Jkk8vHWHb3'</li><li>'@brookbanktv The one gift #COVID19 has give me is an appreciation for the simple things that were always around me… https://t.co/Z0pOAlFXcW'</li><li>'25 July : Media Bulletin on Novel #CoronaVirusUpdates #COVID19 \\n@kansalrohit69 @DrSyedSehrish @airnewsalerts @ANI… https://t.co/MN0EEcsJHh'</li><li><span style=white-space:pre-wrap>'#coronavirus #covid19 deaths continue to rise. It\\'s almost  as bad as it ever was.  Politicians and businesses want… https://t.co/hXMHooXX2C'</span></li></ol>\n"
            ],
            "text/latex": [
              "\\begin{enumerate*}\n",
              "\\item 'If I smelled the scent of hand sanitizers today on someone in the past, I would think they were so intoxicated that… https://t.co/QZvYbrOgb0'\n",
              "\\item 'Hey @Yankees @YankeesPR and @MLB - wouldn\\textbackslash{}'t it have made more sense to have the players pay their respects to the A… https://t.co/1QvW0zgyPu'\n",
              "\\item '@diane3443 @wdunlap @realDonaldTrump Trump never once claimed \\#COVID19 was a hoax. We all claim that this effort to… https://t.co/Jkk8vHWHb3'\n",
              "\\item '@brookbanktv The one gift \\#COVID19 has give me is an appreciation for the simple things that were always around me… https://t.co/Z0pOAlFXcW'\n",
              "\\item '25 July : Media Bulletin on Novel \\#CoronaVirusUpdates \\#COVID19 \\textbackslash{}n@kansalrohit69 @DrSyedSehrish @airnewsalerts @ANI… https://t.co/MN0EEcsJHh'\n",
              "\\item '\\#coronavirus \\#covid19 deaths continue to rise. It\\textbackslash{}'s almost  as bad as it ever was.  Politicians and businesses want… https://t.co/hXMHooXX2C'\n",
              "\\end{enumerate*}\n"
            ],
            "text/markdown": [
              "1. 'If I smelled the scent of hand sanitizers today on someone in the past, I would think they were so intoxicated that… https://t.co/QZvYbrOgb0'\n",
              "2. 'Hey @Yankees @YankeesPR and @MLB - wouldn\\'t it have made more sense to have the players pay their respects to the A… https://t.co/1QvW0zgyPu'\n",
              "3. '@diane3443 @wdunlap @realDonaldTrump Trump never once claimed #COVID19 was a hoax. We all claim that this effort to… https://t.co/Jkk8vHWHb3'\n",
              "4. '@brookbanktv The one gift #COVID19 has give me is an appreciation for the simple things that were always around me… https://t.co/Z0pOAlFXcW'\n",
              "5. '25 July : Media Bulletin on Novel #CoronaVirusUpdates #COVID19 \\n@kansalrohit69 @DrSyedSehrish @airnewsalerts @ANI… https://t.co/MN0EEcsJHh'\n",
              "6. <span style=white-space:pre-wrap>'#coronavirus #covid19 deaths continue to rise. It\\'s almost  as bad as it ever was.  Politicians and businesses want… https://t.co/hXMHooXX2C'</span>\n",
              "\n",
              "\n"
            ],
            "text/plain": [
              "[1] \"If I smelled the scent of hand sanitizers today on someone in the past, I would think they were so intoxicated that… https://t.co/QZvYbrOgb0\"\n",
              "[2] \"Hey @Yankees @YankeesPR and @MLB - wouldn't it have made more sense to have the players pay their respects to the A… https://t.co/1QvW0zgyPu\"\n",
              "[3] \"@diane3443 @wdunlap @realDonaldTrump Trump never once claimed #COVID19 was a hoax. We all claim that this effort to… https://t.co/Jkk8vHWHb3\"\n",
              "[4] \"@brookbanktv The one gift #COVID19 has give me is an appreciation for the simple things that were always around me… https://t.co/Z0pOAlFXcW\" \n",
              "[5] \"25 July : Media Bulletin on Novel #CoronaVirusUpdates #COVID19 \\n@kansalrohit69 @DrSyedSehrish @airnewsalerts @ANI… https://t.co/MN0EEcsJHh\" \n",
              "[6] \"#coronavirus #covid19 deaths continue to rise. It's almost  as bad as it ever was.  Politicians and businesses want… https://t.co/hXMHooXX2C\""
            ]
          },
          "metadata": {},
          "output_type": "display_data"
        }
      ],
      "source": [
        "# show lines of text column\n",
        "head(tweets$text)"
      ]
    },
    {
      "cell_type": "markdown",
      "metadata": {
        "id": "FgYd92aYqzrf"
      },
      "source": [
        "* The covid-19 pandemic caused quite a bit of panic\n",
        "\n",
        "* Let's see the pattern `\"anxiety\"` is included in the tweets"
      ]
    },
    {
      "cell_type": "code",
      "execution_count": null,
      "metadata": {
        "colab": {
          "base_uri": "https://localhost:8080/"
        },
        "id": "a206oJS8rAif",
        "outputId": "133634c9-2194-4661-cc43-5ef26e2648db"
      },
      "outputs": [
        {
          "name": "stdout",
          "output_type": "stream",
          "text": [
            " [1] \"For me, someone who has been affected by social anxiety, wearing a face mask is amazing. I feel slightly hidden fro… https://t.co/t5zBRcraUp\"    \n",
            " [2] \"“The anxiety surrounding COVID-19 has caused Bipolar and Chron’s Disease to flare up quite badly”\\n\\nRead more of you… https://t.co/oMFMm4ALPR\"  \n",
            " [3] \"For the last few months I’ve used #running &amp; #singing as ways of reducing #anxiety due to #COVID19 #pandemic. But a… https://t.co/HWZrvFysW7\"\n",
            " [4] \"So happy #MLB baseball is back, but this 60 game season is causing major fantasy league anxiety. 😩\\n\\nChanging your r… https://t.co/JZp2t9L7VX\" \n",
            " [5] \"My new article on mask anxiety. Please share to help those struggling with anxiety over wearing a mask. #mask… https://t.co/a5owXkMbow\"          \n",
            " [6] \"The Good Things From This Difficult Time... https://t.co/aeDljPsFpo | #covid19 #anxietyisreal #MentalHealthMatters\"                              \n",
            " [7] \"Stay #Fit and #Healthy through regular #Meditation when you are at home to drive away #anxiety &amp; #stress during thi… https://t.co/R8pile2xdZ\"\n",
            " [8] \"How COVID Has Affected Me... https://t.co/QIRTVxMpyA | #covid19 #anxietyisreal #mentalhealthawareness\"                                           \n",
            " [9] \"Battling anxiety and insecurity during #Covid times https://t.co/EURQCzUQ1b #cbcpnews #coronavirus #pandemic #covid19\"                           \n",
            "[10] \"Relaxing of strict lockdown rules can actually add to anxiety and stress. Here are some thoughts on how to manage t… https://t.co/eTUVdNyUpV\"    \n"
          ]
        }
      ],
      "source": [
        "results <- grep(\"anxiety\", tweets$text, value = TRUE)\n",
        "\n",
        "print(head(results, 10))"
      ]
    },
    {
      "cell_type": "markdown",
      "metadata": {
        "id": "Wzwg6HnErPXO"
      },
      "source": [
        "* What about tweets starting with the word `\"Anxiety\"`"
      ]
    },
    {
      "cell_type": "code",
      "execution_count": null,
      "metadata": {
        "colab": {
          "base_uri": "https://localhost:8080/"
        },
        "id": "6taiPnOSrPXP",
        "outputId": "fce9a110-e2bf-4b6d-c781-a23113f10b41"
      },
      "outputs": [
        {
          "name": "stdout",
          "output_type": "stream",
          "text": [
            "[1] \"Anxious days ahead for @AirAsia and @MAS, as second wave fears rise in #Malaysia. #COVID19 https://t.co/ff24R4jQOD\"                         \n",
            "[2] \"Anxiety is up - women are more likely to feel overwhelmed (39% for women; 26% for men), have trouble sleeping (35%… https://t.co/QPNyOmVwV4\"\n"
          ]
        }
      ],
      "source": [
        "# search for patterns starting with Anxi\n",
        "results <- grep(\"^Anxi\", tweets$text, value = TRUE)\n",
        "\n",
        "print(head(results))"
      ]
    },
    {
      "cell_type": "markdown",
      "metadata": {
        "id": "Tfz7ZEr8tn01"
      },
      "source": [
        "* What about tweets starting with the word `\"Depress\"`"
      ]
    },
    {
      "cell_type": "code",
      "execution_count": null,
      "metadata": {
        "colab": {
          "base_uri": "https://localhost:8080/"
        },
        "id": "8zPEbfR5mwNb",
        "outputId": "13c13792-c3dc-4497-ad71-6d2fdafd57b2"
      },
      "outputs": [
        {
          "name": "stdout",
          "output_type": "stream",
          "text": [
            "[1] \"Depression and other mental health disorders can cause a weakened immune response which can affect how we fight  il… https://t.co/kc6pdlLnia\"\n",
            "[2] \"Depressing. Keep men off the streets, (non-marital) rape and sexual assault decline. Keep men indoors, domestic vio… https://t.co/6b4527GeyA\"\n"
          ]
        }
      ],
      "source": [
        "# search for patterns starting with Depress\n",
        "results <- grep(\"^Depress\", tweets$text, value = TRUE)\n",
        "\n",
        "print(head(results))"
      ]
    },
    {
      "cell_type": "markdown",
      "metadata": {
        "id": "pYxxjmQftx23"
      },
      "source": [
        "* What about tweets starting with a number?"
      ]
    },
    {
      "cell_type": "code",
      "execution_count": null,
      "metadata": {
        "colab": {
          "base_uri": "https://localhost:8080/"
        },
        "id": "EWBm302utx23",
        "outputId": "dfc6d027-deac-454d-fa75-1c70951ce6ef"
      },
      "outputs": [
        {
          "name": "stdout",
          "output_type": "stream",
          "text": [
            "[1] \"25 July : Media Bulletin on Novel #CoronaVirusUpdates #COVID19 \\n@kansalrohit69 @DrSyedSehrish @airnewsalerts @ANI… https://t.co/MN0EEcsJHh\"   \n",
            "[2] \"49K+ Covid19 cases still no response from \\n@cbseindia29 @HRDMinistry @DrRPNishank.Please cancel the compartment exa… https://t.co/kV2ZKmumu1\" \n",
            "[3] \"1 municipality reports one new fatality due to #COVID19, compared to yesterday.\\n\\n1 new fatality is located and 0 fa… https://t.co/6iJ5lV7ZqR\"\n",
            "[4] \"2,000 women lawyers write to #AmitShah seeking 5 Lakh Loan per financially drained lawyer.\\n#COVID19 #Coronavirus \\nhttps://t.co/JEjVTeCjEn\"   \n",
            "[5] \"1.28% of the U.S. population is infected with Covid-19 \\n#COVID19 \\n#TrumpVirus \\n#MaskItOrCasket\"                                             \n",
            "[6] \"7813 new positive #COVID19 cases reported in #AndhraPradesh from last 24hours \\n\\n#APFightsCorona #StayHome https://t.co/MkpUtMvtyZ\"           \n"
          ]
        }
      ],
      "source": [
        "# search for patterns starting with a number\n",
        "results <- grep(\"^\\\\d\", tweets$text, value = TRUE)\n",
        "\n",
        "print(head(results))"
      ]
    },
    {
      "cell_type": "markdown",
      "metadata": {
        "id": "DBplQEB_uBa4"
      },
      "source": [
        "* What about tweets starting with a number and including strings related to \"depress\"?\n",
        "\n",
        "* We read the script as follows:\n",
        "  * Search for a string starting with a number and containing \"depress\" OR \"Depress\""
      ]
    },
    {
      "cell_type": "code",
      "execution_count": null,
      "metadata": {
        "colab": {
          "base_uri": "https://localhost:8080/"
        },
        "id": "v7vfRortuBa5",
        "outputId": "d5c9f732-07aa-457c-819f-5b74c04a5ac6"
      },
      "outputs": [
        {
          "name": "stdout",
          "output_type": "stream",
          "text": [
            "[1] \"10-15% of elderly suffer depression. Many are at risk of suicide. Another reason that #COVID19 is widespread amongs… https://t.co/pgQwqSNGHy\"\n"
          ]
        }
      ],
      "source": [
        "# search for patterns starting and containing \"depress\" or \"depress\"\n",
        "results <- grep(\"^\\\\d.*depress|^\\\\d.*Depress\", tweets$text, value = TRUE)\n",
        "\n",
        "print(head(results))"
      ]
    },
    {
      "cell_type": "markdown",
      "metadata": {
        "id": "iiO7kjJduZ-e"
      },
      "source": [
        "* It seems like tweets are reporting some statistics\n",
        "\n",
        "* Let's see of we can explore more of these reported numbers\n",
        "\n",
        "* We read the script as follows:\n",
        "  * Search for a string\n",
        "    * starting with 1 or more numbers, then a comma OR\n",
        "    * starting with 1 or more numbers then a decimal point OR\n",
        "    * starting with 1 or more numbers then a percentage"
      ]
    },
    {
      "cell_type": "markdown",
      "metadata": {
        "id": "g8vWKyQWry3m"
      },
      "source": [
        "What if we are looking for numbers people are reporting?"
      ]
    },
    {
      "cell_type": "code",
      "execution_count": null,
      "metadata": {
        "colab": {
          "base_uri": "https://localhost:8080/"
        },
        "id": "thTSXV_GrxKp",
        "outputId": "6c8b08e0-8d4d-45d6-9c3c-d02da2557cb2"
      },
      "outputs": [
        {
          "name": "stdout",
          "output_type": "stream",
          "text": [
            " [1] \"2,000 women lawyers write to #AmitShah seeking 5 Lakh Loan per financially drained lawyer.\\n#COVID19 #Coronavirus \\nhttps://t.co/JEjVTeCjEn\"     \n",
            " [2] \"1.28% of the U.S. population is infected with Covid-19 \\n#COVID19 \\n#TrumpVirus \\n#MaskItOrCasket\"                                               \n",
            " [3] \"1,142 #COVID19 positive cases, 2,137 patients recovered/discharged/migrated and 29 deaths in Delhi today. There are… https://t.co/qF6QYCjcmd\"    \n",
            " [4] \"100% feeling good and 0% some symptoms🙃 Long May it last 🤞🏻 #COVID19 🦠🤛🏻 https://t.co/37Dc8BweJO\"                                          \n",
            " [5] \"100%  feeling good ! Sounds like a soul song ! #COVID19 https://t.co/E5fp3sIBl5\"                                                                 \n",
            " [6] \"1,005 new cases and 18 new deaths in the United States \\n\\n[13:16 GMT] #coronavirus #CoronaVirusUpdate #COVID19 #CoronavirusPandemic\"            \n",
            " [7] \"1,142 #COVID19 positive cases, 2,137 patients recovered/discharged/migrated and 29 deaths in Delhi today. There are… https://t.co/nZYNdMHMHJ\"    \n",
            " [8] \"10,000+ #healthworkers have been infected with #COVID19.@WHO's Dr Talisuna on  the need for member states &amp; partner… https://t.co/cuBNlfzwMB\"\n",
            " [9] \"5,144 new cases and 58 new deaths in India \\n\\n[13:05 GMT] #coronavirus #CoronaVirusUpdate #COVID19 #CoronavirusPandemic\"                        \n",
            "[10] \"5,144 new cases and 58 new deaths in India \\n\\n[12:58 GMT] #coronavirus #CoronaVirusUpdate #COVID19 #CoronavirusPandemic\"                        \n",
            "[11] \"144,000+ dead in the US from #COVID19 and not slowing down.  Thanks @GOP\"                                                                        \n",
            "[12] \"173.19 MT Fresh Ginger has been exported from Manu LCS (#Tripura) to #Bangladesh.\\n#Agriculture #Farmers #APEDA… https://t.co/pMzhY9Tr25\"        \n"
          ]
        }
      ],
      "source": [
        "# search for strings starting with a number\n",
        "results <- grep(\"^\\\\d+,|^\\\\d+\\\\.|^\\\\d+%\", tweets$text, value = TRUE)\n",
        "\n",
        "print(head(results, 12))"
      ]
    },
    {
      "cell_type": "markdown",
      "metadata": {
        "id": "vKcWlt0dsI32"
      },
      "source": [
        "* What if we wanted to extract the relevant links?\n",
        "\n",
        "* Notice that all of the links at the end of the tweet start with `\"http\"`\n",
        "\n",
        "* We can use `gregexpr()` to determine the location of the link in the string"
      ]
    },
    {
      "cell_type": "code",
      "execution_count": null,
      "metadata": {
        "colab": {
          "base_uri": "https://localhost:8080/",
          "height": 149
        },
        "id": "sxgHQiB2smuI",
        "outputId": "41164622-8044-473a-fae1-887fb388a808"
      },
      "outputs": [
        {
          "data": {
            "text/html": [
              "<ol>\n",
              "\t<li>115</li>\n",
              "\t<li>-1</li>\n",
              "\t<li>118</li>\n",
              "\t<li>74</li>\n",
              "\t<li>57</li>\n",
              "\t<li>-1</li>\n",
              "</ol>\n"
            ],
            "text/latex": [
              "\\begin{enumerate}\n",
              "\\item 115\n",
              "\\item -1\n",
              "\\item 118\n",
              "\\item 74\n",
              "\\item 57\n",
              "\\item -1\n",
              "\\end{enumerate}\n"
            ],
            "text/markdown": [
              "1. 115\n",
              "2. -1\n",
              "3. 118\n",
              "4. 74\n",
              "5. 57\n",
              "6. -1\n",
              "\n",
              "\n"
            ],
            "text/plain": [
              "[[1]]\n",
              "[1] 115\n",
              "attr(,\"match.length\")\n",
              "[1] 23\n",
              "\n",
              "[[2]]\n",
              "[1] -1\n",
              "attr(,\"match.length\")\n",
              "[1] -1\n",
              "\n",
              "[[3]]\n",
              "[1] 118\n",
              "attr(,\"match.length\")\n",
              "[1] 23\n",
              "\n",
              "[[4]]\n",
              "[1] 74\n",
              "attr(,\"match.length\")\n",
              "[1] 23\n",
              "\n",
              "[[5]]\n",
              "[1] 57\n",
              "attr(,\"match.length\")\n",
              "[1] 23\n",
              "\n",
              "[[6]]\n",
              "[1] -1\n",
              "attr(,\"match.length\")\n",
              "[1] -1\n"
            ]
          },
          "metadata": {},
          "output_type": "display_data"
        }
      ],
      "source": [
        "# find location of the \"h\" in the url\n",
        "result_links <- gregexpr(\"http.*\", results)\n",
        "\n",
        "head(result_links)"
      ]
    },
    {
      "cell_type": "markdown",
      "metadata": {
        "id": "ZJNW9_w_6PlC"
      },
      "source": [
        "* We can then use a function called `regmatches()` to extract those links from the `gregexpr()` output"
      ]
    },
    {
      "cell_type": "code",
      "execution_count": null,
      "metadata": {
        "colab": {
          "base_uri": "https://localhost:8080/",
          "height": 149
        },
        "id": "rqX9JtLssj0V",
        "outputId": "4420c76f-e1dc-47f0-d635-3c98a2184d0d"
      },
      "outputs": [
        {
          "data": {
            "text/html": [
              "<ol>\n",
              "\t<li>'https://t.co/JEjVTeCjEn'</li>\n",
              "\t<li></li>\n",
              "\t<li>'https://t.co/qF6QYCjcmd'</li>\n",
              "\t<li>'https://t.co/37Dc8BweJO'</li>\n",
              "\t<li>'https://t.co/E5fp3sIBl5'</li>\n",
              "\t<li></li>\n",
              "</ol>\n"
            ],
            "text/latex": [
              "\\begin{enumerate}\n",
              "\\item 'https://t.co/JEjVTeCjEn'\n",
              "\\item \n",
              "\\item 'https://t.co/qF6QYCjcmd'\n",
              "\\item 'https://t.co/37Dc8BweJO'\n",
              "\\item 'https://t.co/E5fp3sIBl5'\n",
              "\\item \n",
              "\\end{enumerate}\n"
            ],
            "text/markdown": [
              "1. 'https://t.co/JEjVTeCjEn'\n",
              "2. \n",
              "3. 'https://t.co/qF6QYCjcmd'\n",
              "4. 'https://t.co/37Dc8BweJO'\n",
              "5. 'https://t.co/E5fp3sIBl5'\n",
              "6. \n",
              "\n",
              "\n"
            ],
            "text/plain": [
              "[[1]]\n",
              "[1] \"https://t.co/JEjVTeCjEn\"\n",
              "\n",
              "[[2]]\n",
              "character(0)\n",
              "\n",
              "[[3]]\n",
              "[1] \"https://t.co/qF6QYCjcmd\"\n",
              "\n",
              "[[4]]\n",
              "[1] \"https://t.co/37Dc8BweJO\"\n",
              "\n",
              "[[5]]\n",
              "[1] \"https://t.co/E5fp3sIBl5\"\n",
              "\n",
              "[[6]]\n",
              "character(0)\n"
            ]
          },
          "metadata": {},
          "output_type": "display_data"
        }
      ],
      "source": [
        "# extract links from the tweets using gregexpr() output\n",
        "links <- regmatches(results, gregexpr(\"http.*\", results))\n",
        "\n",
        "head(links)"
      ]
    },
    {
      "cell_type": "markdown",
      "metadata": {},
      "source": [
        "# Course Transcript"
      ]
    },
    {
      "cell_type": "markdown",
      "metadata": {},
      "source": [
        "Hi class. Welcome to today's lecture. So today, we're going to cover more string processing. And in particular, we're going to cover something called regular expression.\n",
        "\n",
        "Now, in last lecture we actually learned how to process and manipulate strings using several different base R functions, such as nchar for the number of characters in a string, toupper to convert strings to all uppercase, and substring to subset different patterns within a string.\n",
        "\n",
        "But in particular, toward the end we also learned another set of functions that can search for a fixed string pattern in a vector of character data types — or a character vector, or you could call that a vector of strings.\n",
        "\n",
        "So there are these functions here, very special regular expression functions. Now, just to recap: we have grepl. The \"l\" in grepl stands for logical, right? Because it outputs a Boolean or logical, which represents if a pattern is in a string.\n",
        "\n",
        "So just to recap: if I defined this character vector here with two entries, the first being \"Panda Express\" and the second being \"Vallartas,\" which are two different places to eat.\n",
        "\n",
        "I can call grepl, and I want to say I'm searching for the pattern \"Express\" with a capital E in each of the strings within this vector.\n",
        "\n",
        "And if I run that, I get a TRUE and a FALSE. The first element is TRUE because the first string in this vector contains this pattern.\n",
        "\n",
        "However, the second string in the vector does not.\n",
        "\n",
        "So that's how grepl works.\n",
        "\n",
        "There's also grep, which is very similar to grepl, but instead of outputting a logical vector, it outputs just a numeric vector — right — about which indexes or elements of the character vector contain that pattern.\n",
        "\n",
        "So when I run it on this same character vector here, it outputs a single 1. And this is because the first entry of this character vector contains the pattern \"Express.\"\n",
        "\n",
        "It doesn't output anything for 2, because the second string in that character vector does not contain this pattern.\n",
        "\n",
        "Now, something I didn't go over is: there is another option or argument for the grep function — it's called value. And the function of this argument value just simply outputs the corresponding string that contains your pattern.\n",
        "\n",
        "So what I mean by that is: since the first element of this character vector contains \"Express,\" if you put value = TRUE, it just gives you that entire string.\n",
        "\n",
        "If I run that, it outputs the first entry of that character vector. This is useful when you don't want to just extract the numeric index or location of the string containing the pattern — it essentially outputs the entire string itself.\n",
        "\n",
        "Then there's gsub, which just replaces a pattern in a string x with some replacement string. So again, if we're working with this same character vector — if I wanted to convert this \"E\" to a lowercase, I could say: search for this pattern in this character vector, and wherever you find that pattern, replace that pattern with this pattern here, which is just lowercase \"e\".\n",
        "\n",
        "So if I show that, you can see now that there is indeed a lowercase \"e\" there.\n",
        "\n",
        "And then finally, a bit more complicated is the gregexpr function. And this actually searches for the location of the pattern and outputs that location.\n",
        "\n",
        "So if I were to say, \"search in this character vector for this pattern and give me the location of the first character in that pattern,\" well, here we have a 7, and if we count:\n",
        "\n",
        "There's 1, 2, 3, 4, 5, 6, and then the 7th character is the \"E\", so it gives us the location of this pattern in this longer string.\n",
        "\n",
        "And for the second entry here, it outputted a -1, just because \"Vallartas\" doesn't contain anything related to this pattern here. So it outputs a negative number, saying there was no match. All right. So that's a quick recap.\n",
        "\n",
        "Now, as I said earlier,\n",
        "\n",
        "all of these functions — the way we learned them — was just searching for a fixed string pattern. So \"Express\" is just fixed — we are searching exactly for that pattern.\n",
        "\n",
        "The thing is, what if these patterns that we're searching for aren't fixed? What if we want to search for a range of different patterns?\n",
        "\n",
        "Here's an example:\n",
        "\n",
        "Say we have this vector here of several descriptions of individual heights. The first is \"my height is 5 foot 6\", second one says \"5 foot 11 inches\", and so on.\n",
        "\n",
        "Now, we could use grepl to search for this exact pattern of a \"4\" within this character vector,\n",
        "\n",
        "and then print it.\n",
        "\n",
        "You can ignore this, but this is just using the cat function and printing a new line in between each entry.\n",
        "\n",
        "Notice here: it outputs a vector of logicals where the first four are FALSE and the last two are TRUE.\n",
        "\n",
        "And the reason for this is: we have a \"4\" here and a \"4\" here in the last two entries, right? So there's a correct match there. However, there aren't any \"4\"s in the earlier entries.\n",
        "\n",
        "The thing is, what if we want to search for a range of numbers,\n",
        "\n",
        "such as all heights that contain a digit 2 to 4 — right — 2, 3, or 4? Well, you can perform this using the same function, but you need a different syntax called regular expressions.\n",
        "\n",
        "So I'll just show a quick example here, but then I'll go in depth into how this works in future videos.\n",
        "\n",
        "So I could say: grep — search for \"2 to 4\" — and then print the result. Now you see that the middle two are also TRUE.\n",
        "\n",
        "So here we have a 4, we have a 4,\n",
        "\n",
        "but in the middle two we have a \"3\", which is in the range 2 to 4,\n",
        "\n",
        "and we have a \"2\", which is in the range 2 to 4 as well.\n",
        "\n",
        "So we're actually able to search for a range of patterns — not only for numbers, but also letters — search for strings that start with certain letters, and so on, using this syntax of regular expressions.\n",
        "Alright. So how did we find strings that contain that pattern of a range of numbers in the last lecture video? Right? Well, let's look at this script once again.\n",
        "\n",
        "Single digit ranges in our pattern string that we're searching are specified with square brackets and a hyphen. So if you want to search for any digits in a string that are ranging from 2 to 4, you would include the quotes (because that's a string pattern), the bracket (which tells R \"I'm going to include a range\"), and then the numbers for which you'd like to search.\n",
        "\n",
        "So again, this was the result from the last video.\n",
        "\n",
        "Now, to view which entries in the character vector satisfy your regular expression pattern, there are two options. For one, remember grepl outputs a logical vector. So we can use subsetting to pull the entries in this character vector corresponding to TRUE.\n",
        "\n",
        "If the last four are TRUE, we can use subsetting to pull the last four strings from that vector. That's what I do here.\n",
        "\n",
        "So I have results, which is just this logical vector. I say I want from the vector everything that's TRUE.\n",
        "\n",
        "And it simply outputs all the strings that satisfy the pattern of having a number ranging from 2 to 4. But again, if I used value = TRUE, like we went over earlier in the last video, we can simply print that result and it will print these strings as well.\n",
        "\n",
        "Alright. So we've matched a range of numbers. Now we are working with text which will likely contain letters. So what if we want to match a range of letters?\n",
        "\n",
        "We can do it using similar syntax from before — using that bracketed syntax. We just specify a range of letters by including that range of letters within square brackets and separating the range with a dash or a hyphen.\n",
        "\n",
        "We read this script as: we would like to search for a string containing a lowercase letter, or anything from a lowercase letter a to a lowercase letter z. So this is the same character vector defined before.\n",
        "\n",
        "Except now, I'm searching for anything that contains a letter from a to z. Remember, you need these square brackets and this hyphen, which signifies a range. If I run this and print the result, we get: TRUE, FALSE, TRUE, FALSE, TRUE, FALSE.\n",
        "\n",
        "If we look at this result: the first is TRUE — the string contains at least one lowercase letter. The second string doesn't. The third does (an \"m\"). The fourth doesn't. The fifth does (\"TALL\"). Notice how the last doesn't, despite containing letters — because we're only searching for lowercase letters, whereas \"HEIGHT\" here is all uppercase.\n",
        "\n",
        "Another example: we can read this script as follows — I want to search for a string that contains a lowercase letter a through i. So I'm narrowing the range to just a through i and searching through this character vector.\n",
        "\n",
        "Notice we have TRUE, FALSE, and now the third one turns to FALSE. The reason is although \"I\" is contained in this third string, it's uppercase — so it's not included here. This is also uppercase, so it also outputs FALSE. No pattern match.\n",
        "\n",
        "Just like searching for a range of lowercase letters, we can search for a range of uppercase letters using the same syntax, but with capital letters. So I would read this script as: search for a string in this character vector that contains a letter A through I.\n",
        "\n",
        "If I run that, we get: FALSE, FALSE, and TRUE. Notice how this is now TRUE — that third entry — because there's a capital I matching with the I here.\n",
        "\n",
        "And the last entry is TRUE because we have an all-caps \"HEIGHT\" here.\n",
        "\n",
        "All the other ones are FALSE, because we're not matching any lowercase letters, and the capital M is not within the range of A through I.\n",
        "\n",
        "You can also mix the two together by including both lowercase and uppercase ranges in that same bracket syntax.\n",
        "\n",
        "I would read this script as: search for a string in this character vector that contains a letter in the range of lowercase a through i and uppercase A through I.\n",
        "\n",
        "Now you see: TRUE, FALSE, TRUE, FALSE, TRUE, TRUE, TRUE — basically anything with text is TRUE. The second and fourth entries are FALSE, because they do not contain any text at all.\n",
        "\n",
        "One more thing with letters: you can also separate them by a comma if you don’t want to search for a range, but just a few specific letters. Here I’m changing the pattern to Hh — uppercase and lowercase H.\n",
        "\n",
        "We are searching for a string in this character vector containing an uppercase H or a lowercase h.\n",
        "\n",
        "If I run that, you’ll see that everything is FALSE except the first and last entries. The first contains a lowercase h, and the last contains an uppercase H.\n",
        "\n",
        "So that’s searching for ranges of letters or patterns containing letters.\n",
        "WEBVTT\n",
        "\n",
        "1\n",
        "00:00:02.610 --> 00:00:13.310\n",
        "Kyle: So in regular expressions. You can also have Boolean operators. In particular, there is the or operator, which is also represented by a vertical bar, just like when we were subsetting.\n",
        "\n",
        "2\n",
        "00:00:13.430 --> 00:00:42.669\n",
        "Kyle: However, you need to include this vertical bar within the quotes because we are searching for patterns within strings. Okay, so here's a script which illustrates how to use that vertical bar. So we would read the script as follows, we're searching for a string containing a letter right? We're searching for a string within this character vector that contains a lowercase letter, a through I or that contains an uppercase letter, a through. I okay, so running that\n",
        "\n",
        "3\n",
        "00:00:42.790 --> 00:00:52.799\n",
        "Kyle: we get a true, false, true, false, true, true. And this is because we're searching for anything containing any letter, lowercase, or uppercase a through. I\n",
        "\n",
        "4\n",
        "00:00:53.140 --> 00:01:07.430\n",
        "Kyle: obviously you have false and false here. This is because these are just heights containing 0 letters, right? And this is essentially the same as the example above. If I scroll up here where you have a through, I or a through I.\n",
        "\n",
        "5\n",
        "00:01:07.640 --> 00:01:12.679\n",
        "Kyle: But the the utility of that or operator will become more apparent later in lecture.\n",
        "\n",
        "6\n",
        "00:01:14.130 --> 00:01:16.430\n",
        "Kyle: Okay? So this is the or operator.\n",
        "\n",
        "Now, instead of matching a range of numbers or a range of letters occurring anywhere in a string within a character vector, we can actually match letters or numbers at the start or end of a string as well. Here's an example of using regular expressions to find a pattern at the start of a string.\n",
        "\n",
        "The start of a string is matched using the caret symbol (^) — this little arrow pointing up. So the caret symbol is placed in quotes.\n",
        "\n",
        "We would like to search for a string in this character vector that starts with the letter a through i, or starts with the letter A through I. The way we do this is: we want to start with any of the range of letters inside brackets, either lowercase or uppercase A through I.\n",
        "\n",
        "When we run that, we only have three entries within this character vector — the first two produce TRUE.\n",
        "\n",
        "This is because the first letter in the first entry starts with a capital I, which is in the specified range. The first letter in the second entry starts with a lowercase i, also in the range. However, the third entry starts with a capital P, which is not within the range of A through I.\n",
        "\n",
        "Now, if we remove the starting caret symbol from that first entry, all three strings produce TRUE.\n",
        "\n",
        "This is because the i in the middle is still matched. So the caret symbol (^) essentially allows you to search for patterns at the beginning of a string.\n",
        "\n",
        "Similarly, you can use the dollar symbol ($) to search for patterns at the end of a string.\n",
        "\n",
        "We would like to search for a string within this character vector that ends with an exclamation point.\n",
        "\n",
        "In our grep statement, we're searching this character vector for an exclamation point at the end. We use the dollar symbol to indicate we're searching for a character at the end of the string. The character we're searching for comes before the dollar symbol.\n",
        "\n",
        "So we want the string to end with an exclamation point.\n",
        "\n",
        "When we run this, we get FALSE, FALSE, and TRUE, because the third string ends with an exclamation point.\n",
        "\n",
        "Now, if we were to remove the dollar symbol and just search for an exclamation point, then the first and third strings return TRUE, because there's an exclamation point in the middle of the first string and at the end of the third.\n",
        "\n",
        "Alright. So there are many, many special characters that we can use within regular expressions to search for string patterns. I'll just cover a few here today — the most important ones.\n",
        "\n",
        "First, we have the asterisk (*). This represents zero or more instances of a character that is shown previously. What that means is: if we look at this script, it reads — we are searching for a string in this character vector containing:\n",
        "\n",
        "    an \"A\",\n",
        "\n",
        "    then a \"1\",\n",
        "\n",
        "    but that \"1\" can occur zero or more times (because of the asterisk),\n",
        "\n",
        "    followed by \"AB\".\n",
        "\n",
        "If we run this, all of them are TRUE.\n",
        "\n",
        "Why? Because our rule is that we want it to start with an \"A\" — and all the strings in the character vector start with \"A\". Then we need a \"1\". All of these have a \"1\", except for the first one. But because of the asterisk, we're saying the \"1\" can occur zero or more times — so the first entry still qualifies. Then it's followed by \"AB\".\n",
        "\n",
        "The \"1\" can occur zero or more times. For example, it occurs four times in one entry, followed by \"AB\", so there's still a match.\n",
        "\n",
        "Now, similar to the asterisk, we can use a plus symbol (+).\n",
        "\n",
        "The plus symbol represents one or more instances. So if we take the same example but replace the asterisk with a plus:\n",
        "\n",
        "We are searching for a string that:\n",
        "\n",
        "    contains an \"A\",\n",
        "\n",
        "    then contains a \"1\" one or more times,\n",
        "\n",
        "    followed by \"AB\".\n",
        "\n",
        "If we run this, the first string returns FALSE, and everything else is TRUE. That’s because the first string starts with an \"A\", but there are zero \"1\"s, and we need one or more. The rest have at least one \"1\", so they satisfy the pattern.\n",
        "\n",
        "Now, the question mark (?) represents zero or one instance of the preceding character — not more than one.\n",
        "\n",
        "So in the script using the question mark, we’re searching for a string that:\n",
        "\n",
        "    contains an \"A\",\n",
        "\n",
        "    then a \"1\" that occurs zero or one time,\n",
        "\n",
        "    followed by a \"B\".\n",
        "\n",
        "If we run this, the first two strings return TRUE, and the rest are FALSE.\n",
        "\n",
        "Why? All strings start with \"A\". But for the first two, \"1\" occurs zero or one time. For the others, it occurs two or more times, which does not satisfy the condition.\n",
        "\n",
        "And finally, the period (.) represents any single character — it can be a number, letter, or symbol.\n",
        "\n",
        "So if the pattern is:\n",
        "\n",
        "    starts with \"A\",\n",
        "\n",
        "    followed by any single character,\n",
        "\n",
        "    then \"B\",\n",
        "\n",
        "Only the second string is TRUE.\n",
        "\n",
        "Why? The first string starts with \"A\" and ends with \"B\", but there is no character in between — so it's not a match. Others have more than one character between \"A\" and \"B\". Only the second has exactly one character in between.\n",
        "\n",
        "If we modify the first string, for example changing it to \"A7B\", now the pattern matches — \"A\" followed by a single character (\"7\") and then \"B\" — and the result is TRUE.\n",
        "\n",
        "Alright. Now we're getting into more advanced regular expressions. Just like with defining strings in the last lecture, we can also use escape characters — or escaping. In the last lecture, we used a single backslash to include some specific formatting like a quote.\n",
        "\n",
        "For example, to include this quote so it doesn't conflict with the surrounding quotes, we had to put a backslash to let R know we actually want to include that quote inside the string.\n",
        "\n",
        "If we don't use the escape character, R gets confused — and we end up with an error.\n",
        "\n",
        "In regular expressions, there are other special characters as well, and they have special meanings. But they can conflict with the single backslash in a regular string, so we end up needing two backslashes when using regular expressions in R.\n",
        "\n",
        "The first such special character requiring escaping is the digit special character, written as \\\\d.\n",
        "\n",
        "This is equivalent to specifying a range of digits 0-9. So if we search in a character vector for any pattern containing digits 0–9, we’ll find matches in all strings containing numbers.\n",
        "\n",
        "Instead of using [0-9], we can write \\\\d — a shorthand for any single digit. You need to use two backslashes (\\\\) or else you'll get an error, because \\d is a special regex character and needs to be escaped in R strings.\n",
        "\n",
        "With two backslashes, the results are equivalent to the earlier example — TRUE for each entry that contains at least one digit.\n",
        "\n",
        "Now, you can also specify the number of digits you're searching for using curly braces {} after \\\\d.\n",
        "\n",
        "For example: \\\\d{3,4} means you are searching for a string containing three or four digits in a row.\n",
        "\n",
        "If you modify an entry to have four digits in a row and run this search, it will return TRUE for that entry.\n",
        "\n",
        "You can try other combinations too. For instance, \\\\d{2} will match only entries with exactly two digits in a row.\n",
        "\n",
        "So if an entry has only one or more than two digits in a row, it won’t match.\n",
        "\n",
        "This is helpful when searching for numeric patterns with a specific number of digits, such as phone numbers, ZIP codes, etc.\n",
        "\n",
        "A second special character we’ll cover is the whitespace special character, written as \\\\s.\n",
        "\n",
        "Often, strings may contain inconsistent or excess whitespace, and you may want to search for or replace these. You might also want to detect words separated by spaces.\n",
        "\n",
        "If you search using \\\\s, it will return TRUE for strings that contain at least one whitespace character.\n",
        "\n",
        "For example, if we run this on a character vector, you might see something like: TRUE, FALSE, TRUE, FALSE, TRUE, TRUE.\n",
        "\n",
        "Here, the second and fourth entries return FALSE because they have no spaces.\n",
        "\n",
        "However, other entries include spaces — like between “I'm” and “6 foot 3”, or between “My height” and “is”.\n",
        "\n",
        "So, detecting whitespace with \\\\s is useful when processing real-world text data, especially where formatting is messy or inconsistent.\n",
        "\n",
        "Alright. So we're almost done covering all the new content before we jump into a sort of longer example. But first I want to cover a very useful and important function called regmatches. This is a new function that can be used in conjunction with some of the regular expression functions to extract the patterns for which we're searching — not the entire string, but the actual pattern.\n",
        "\n",
        "So far, we've learned to find ranges of patterns within a vector of strings — ranges of numbers and letters. But if we want to extract that actual pattern we're matching — for example, we have a vector of height descriptions, and we want to extract just the height for data analysis — we can use regmatches.\n",
        "\n",
        "This function takes two main arguments (there is a third optional one):\n",
        "\n",
        "    x, which is your character vector — the vector of strings we've been working with\n",
        "\n",
        "    m, which should be the output of a regular expression function that shows the locations of the matched patterns in the strings\n",
        "\n",
        "Using the locations from m, regmatches extracts the actual matching text pattern.\n",
        "\n",
        "For example, we can use gregexpr() to find the location of a pattern in a string. Here’s what we’re looking for: a number (e.g., \"5\"), followed by an apostrophe (foot symbol), followed by another number with one or two digits, followed by a quotation mark (inch symbol).\n",
        "\n",
        "So in the pattern:\n",
        "\n",
        "    a number\n",
        "\n",
        "    an apostrophe '\n",
        "\n",
        "    one or two digits\n",
        "\n",
        "    a quote \"\n",
        "\n",
        "This would match something like 5'10\".\n",
        "\n",
        "If we run gregexpr() on a character vector of height descriptions, we get the positions in the strings where these patterns start.\n",
        "\n",
        "For example, if the 14th character in the string is the start of the height pattern, it will return 14. For another entry, the pattern might start at the first character.\n",
        "\n",
        "Now, instead of manually trying to extract that substring, we can pass this output into regmatches along with the original vector.\n",
        "\n",
        "regmatches(x, m) will extract the exact substring that matched the regular expression — in this case, the height.\n",
        "\n",
        "Running this will give you a list of the matched patterns. You can clean this up by using do.call() to concatenate the list into a flat vector, and print it using cat().\n",
        "\n",
        "Now we have a clean list of height values extracted from messy text! This is really useful — if we wanted to build a dataset for analysis, we could scrape height values like this and insert them into a data frame.\n",
        "\n",
        "All right, let's so let's go over some examples to see how this can be used in practice. Alright so we're gonna explore strings from an X which is now X right? Twitter data set, related to the COVID-19 pandemic. And it's available from this link from my Github.\n",
        "\n",
        "So I'm going to load that data using, read dot Csv\n",
        "\n",
        "and show you the head. So the 1st few lines. Now, you can see, we have the person's username, the location, the date of the post, as well as the text from that post.\n",
        "\n",
        "Alright. Now we can just show you the text itself. Just so you could see that right? This is a character vector, so the text column\n",
        "\n",
        "from the Tweets data frame is simply a character. Vector, so we can use all of the character or the string processing and regular expressions. Code to work with this.\n",
        "\n",
        "Right? So say you have this data set, and you're just you don't even know what questions to ask. You're just thinking about, how can I analyze these data?\n",
        "\n",
        "Right? Well, the COVID-19 pandemic\n",
        "\n",
        "obviously, cause caused quite a bit of global panic. So maybe you want to search for you know, any posts related to the word anxiety.\n",
        "\n",
        "So what we'll use is Grep, we're going to use regular expressions to search this Tweet character vector or the pattern anxiety. And notice, this is a fixed pattern. I'm not using any of the special syntax that we've covered today. Yet.\n",
        "\n",
        "Alright. So if I print the 1st 10 results you could see here for me someone who has been affected by social anxiety wearing a face mask is amazing. So this person seems like they like the pandemic simply because they can wear a face mask.\n",
        "\n",
        "There's another person who says the anxiety surrounding Covid-nineteen has caused Bipolar and Crohn's disease to flare up. That's very unfortunate. Those are 2 very, very difficult health problems to deal with, and so on. Right? So this is quite interesting. You can already start searching for and seeing what people are saying related to anxiety.\n",
        "\n",
        "although this one's unrelated saying, Major Fantasy League anxiety. Okay.\n",
        "\n",
        "now, what if we want to search for the capital word anxiety?\n",
        "\n",
        "Moreover, what if we want to search for strings that start with just A and Xi for anxious or anxiety. We want to search for all of those\n",
        "\n",
        "right.\n",
        "\n",
        "So there are only 2 tweets in this data set.\n",
        "\n",
        "One talks about anxious days ahead for Airasia.\n",
        "\n",
        "Related to Covid. So they're talking about the flights and the fear surrounding that\n",
        "\n",
        "and talking about anxieties up. Women are more likely to be overwhelmed. I'm not sure how true that is this. Remember, these are tweets. So you need to take whatever facts, they say, quote unquote facts, they say, with a grain of salt. Right?\n",
        "\n",
        "What if you want to look for depression? So you're looking at depressed any strings that start with depressed\n",
        "\n",
        "right?\n",
        "\n",
        "Something I didn't mention is, we are using Grep, not grep, L, because I want to actually use value equals. True, to extract the text itself. Okay?\n",
        "\n",
        "So looking at this, we have 2 strings that matched\n",
        "\n",
        "depression and other mental health disorders can cause a weakened, immune response, which is definitely true.\n",
        "\n",
        "If it affects your immune system, you can get sick. You have depressing. Keep men off the streets. There's some\n",
        "\n",
        "wildly crazy and inappropriate tweets going on here. Right?\n",
        "\n",
        "What about tweets that start with a number? Say, we want to think about? I want to extract some data from these tweets, some relevant statistics that may or may not be true.\n",
        "\n",
        "Right? So I'm going to say, search in this character vector for any\n",
        "\n",
        "patterns or any strings with patterns that start right. The carrot start with a digit from 0 to 9 or this special character here.\n",
        "\n",
        "and I'm saying, value equals true to print all the results\n",
        "\n",
        "right? And you could see there are some statistics here. So 7,813 new positive cases. And already you can see how you can use tweets to extract some data, or even look at the the frequency of people mentioning certain words to correlate with some event. Right?\n",
        "\n",
        "Alright. So we have something here, another 1 49,000 plus COVID-19 cases. Still no response.\n",
        "\n",
        "Okay.\n",
        "\n",
        "now, what about tweets starting with a number and including strings related to say depression, right? So I'm gonna write this whole pattern here.\n",
        "\n",
        "It looks like a lot. But it's not too much right. It's saying, search for a string\n",
        "\n",
        "that starts with right. The caret symbol starts with a digit from 0 to 9.\n",
        "\n",
        "Then, after that digit, there's a period here. So any single character.\n",
        "\n",
        "However, it's followed by an asterisk. So I'm saying, this digit is followed by any number of characters, 0 or more characters\n",
        "\n",
        "then followed by the string to press.\n",
        "\n",
        "Okay, so I'm searching for that entire pattern, or\n",
        "\n",
        "I want it to start with a digit\n",
        "\n",
        "and be followed by any character that occurs any number of times.\n",
        "\n",
        "and then the pattern depressed with a capital D\n",
        "\n",
        "alright. So I'm searching for anything that starts with a number, and then is followed by\n",
        "\n",
        "depressed or contains the word depression.\n",
        "\n",
        "Alright. So already we just have a single match. You can see here, it says 10 to 15%, because it starts with a number\n",
        "\n",
        "of elderly suffer. Unfortunately, from depression, many are at risk of suicide. This just sounds true, right? But you'd obviously have to verify.\n",
        "\n",
        "and we've matched it successfully. Okay.\n",
        "\n",
        "now, it does seem like these tweets are reporting some statistics. So let's see if we can explore more of these numbers. Right?\n",
        "\n",
        "So I'm going to write out this pattern here.\n",
        "\n",
        "Right? So we're searching for a string in this character vector of tweets that starts with a number\n",
        "\n",
        "that occurs one or more times.\n",
        "\n",
        "Okay? And then may contain a comma. Right? So we're searching for numbers in the thousands or 100 thousands.\n",
        "\n",
        "And then we have a vertical bar here denoting, or the or operator.\n",
        "\n",
        "or we want to search for a string that starts with a number one or more times, and is followed by a period. So now we're searching for decimals.\n",
        "\n",
        "Finally, or we're searching for strings that start with a number\n",
        "\n",
        "with one or more numbers and then\n",
        "\n",
        "has a percentage symbol. So searching for any percentages there.\n",
        "\n",
        "Now, if I run this.\n",
        "\n",
        "you could see that many tweets are reporting certain statistics, and you could start evaluating whether or not they're true or verifying them. This one's obviously not\n",
        "\n",
        "relevant. It says 100% feeling good. So this person is just unaffected completely by the pandemic. Right now.\n",
        "\n",
        "these are nice. We can extract those numbers like we did before. But what if we wanted to extract, say, the relevant links just to see the complete tweet sometimes. You don't have the complete tweet right? What if we wanted to extract the relevant links just to verify and, you know, go forward with our analysis.\n",
        "\n",
        "Well, we can search for any strings that contain the pattern. Http, right?\n",
        "\n",
        "Because all of these end with Http or https.\n",
        "\n",
        "Okay, so what I'm going to do is use this Gregx function to search\n",
        "\n",
        "only these results, the ones with the numbers and the word or the numbers. That start the string\n",
        "\n",
        "right. And I'm going to search those results for any patterns that have Http\n",
        "\n",
        "and anything after it. Right? So the pattern needs to contain, or the string needs to contain, this pattern.\n",
        "\n",
        "followed by any character that occurs any number of time.\n",
        "\n",
        "Right? So that's to extract the entire URL.\n",
        "\n",
        "Alright. So we see here in this 1st entry the 115th character.\n",
        "\n",
        "So if we were to count a hundred 15, that would be this H in this URL here.\n",
        "\n",
        "right? So we've extracted the links, and then we can again use the Reg matches function to extract those corresponding links from the strings\n",
        "\n",
        "right? So here you could see we have each of these.\n",
        "\n",
        "And now we can store those links in, say, a data frame, and then search those to verify the accuracy of numbers, and so on.\n"
      ]
    },
    {
      "cell_type": "markdown",
      "metadata": {},
      "source": []
    },
    {
      "cell_type": "markdown",
      "metadata": {},
      "source": []
    },
    {
      "cell_type": "markdown",
      "metadata": {},
      "source": []
    },
    {
      "cell_type": "markdown",
      "metadata": {},
      "source": []
    },
    {
      "cell_type": "markdown",
      "metadata": {},
      "source": []
    },
    {
      "cell_type": "markdown",
      "metadata": {},
      "source": []
    },
    {
      "cell_type": "markdown",
      "metadata": {},
      "source": []
    }
  ],
  "metadata": {
    "colab": {
      "provenance": []
    },
    "kernelspec": {
      "display_name": "R",
      "name": "ir"
    }
  },
  "nbformat": 4,
  "nbformat_minor": 0
}
