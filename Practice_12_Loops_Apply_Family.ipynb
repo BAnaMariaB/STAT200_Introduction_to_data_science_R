{
  "cells": [
    {
      "cell_type": "markdown",
      "metadata": {
        "id": "gtETsh5j8vHw"
      },
      "source": [
        "# **Practice 12: Loops - Apply Family**\n",
        "\n",
        "#### **WRITE YOUR NAME HERE**"
      ]
    },
    {
      "cell_type": "markdown",
      "metadata": {
        "id": "Efu_Sse0Wp6P"
      },
      "source": [
        "---\n",
        "\n",
        "**IMPORTANT**:\n",
        "- Before starting the lab, save a copy to your google drive by navigating to `File > Save a copy in Drive` <br>\n",
        "\n",
        "<br>\n",
        "\n",
        "\n",
        "**Instructions**: Complete the lab below.\n",
        "\n",
        "- <font color=red>Tasks</font> indicated in red must be completed to receive credit\n",
        "- Include all code for your work\n",
        "- Include markdown cells with written answers explaining your work when prompted\n",
        "- **NOTE: Your completed lab must be submitted to Canvas as a .ipynb file by the end of the lab session**\n",
        "---"
      ]
    },
    {
      "cell_type": "markdown",
      "metadata": {
        "id": "wFVxj8nD-yIt"
      },
      "source": [
        "<br>"
      ]
    },
    {
      "cell_type": "markdown",
      "metadata": {
        "id": "omeTfTlN4Npb"
      },
      "source": [
        "####<font color=red>Organized</font>\n",
        "\n",
        "**Answers should be organized in the following format for organization and readability**\n"
      ]
    },
    {
      "cell_type": "markdown",
      "metadata": {
        "id": "uLialHuQ4-vU"
      },
      "source": [
        "<font color=red>Example task 1</font>"
      ]
    },
    {
      "cell_type": "code",
      "execution_count": null,
      "metadata": {
        "id": "Mxff4INi5Evt"
      },
      "outputs": [],
      "source": [
        "# 1.\n",
        "\n",
        "# This will be the code block to answer the first part of a task"
      ]
    },
    {
      "cell_type": "markdown",
      "metadata": {
        "id": "A-GtymRS5Syz"
      },
      "source": [
        "1. This will be the text answer/explanation (if prompted) for the first task"
      ]
    },
    {
      "cell_type": "markdown",
      "metadata": {
        "id": "fDAMP6ZC5Zqp"
      },
      "source": [
        "<font color=red>Example task 2</font>"
      ]
    },
    {
      "cell_type": "code",
      "execution_count": null,
      "metadata": {
        "id": "K94QMtU55Zqp"
      },
      "outputs": [],
      "source": [
        "# 2.\n",
        "\n",
        "# This will be the code block to answer the second part of a task"
      ]
    },
    {
      "cell_type": "markdown",
      "metadata": {
        "id": "xRfvDNu25Zqp"
      },
      "source": [
        "2. This will be the text answer/explanation (if prompted) for the second task"
      ]
    },
    {
      "cell_type": "markdown",
      "metadata": {
        "id": "JIEIhg5I5JfN"
      },
      "source": [
        "<br>\n",
        "\n",
        "Continue this format for the remaining subtasks\n"
      ]
    },
    {
      "cell_type": "markdown",
      "metadata": {
        "id": "rcQECH5y4RiC"
      },
      "source": [
        "<br>"
      ]
    },
    {
      "cell_type": "markdown",
      "source": [
        "---\n",
        "\n",
        "<br>"
      ],
      "metadata": {
        "id": "jFiNcIjpjFs7"
      }
    },
    {
      "cell_type": "markdown",
      "source": [
        "#### Packages"
      ],
      "metadata": {
        "id": "QdyJzDgAsFNZ"
      }
    },
    {
      "cell_type": "code",
      "source": [
        "# none"
      ],
      "metadata": {
        "id": "fYGjK4oX4jSn"
      },
      "execution_count": null,
      "outputs": []
    },
    {
      "cell_type": "markdown",
      "source": [
        "<br>\n",
        "\n",
        "<br>"
      ],
      "metadata": {
        "id": "5hXqBQkzhere"
      }
    },
    {
      "cell_type": "markdown",
      "metadata": {
        "id": "Q4n93wPOXOPB"
      },
      "source": [
        "<br>\n",
        "\n",
        "---"
      ]
    },
    {
      "cell_type": "markdown",
      "metadata": {
        "id": "gFPSdK5aXOPB"
      },
      "source": [
        "####<font color=red>Task 1</font> - Loading and Preprocessing the Dataset\n",
        "\n"
      ]
    },
    {
      "cell_type": "markdown",
      "metadata": {
        "id": "SXTflZVXXOPB"
      },
      "source": [
        "<font color=red>Task 1.1</font> Today, we'll be working with salary data available online.\n",
        "\n",
        "* Run the following script to load the salary dataset for today's assignment.\n",
        "\n",
        "```\n",
        "# load data frame\n",
        "data_url                       <- \"https://raw.githubusercontent.com/khasenst/datasets_teaching/refs/heads/main/salary_data.csv\"\n",
        "salary                         <- na.omit(read.csv(data_url, header = TRUE))\n",
        "\n",
        "# convert character variables to factors\n",
        "salary$Gender                  <- as.factor(salary$Gender)\n",
        "salary$Education.Level         <- as.factor(salary$Education.Level)\n",
        "salary$Job.Title               <- as.factor(salary$Job.Title)\n",
        "\n",
        "# reassign levels\n",
        "levels(salary$Education.Level) <-  c(\"missing\", \"BS\", \"BS\", \"HS\",\n",
        "                                     \"MS\", \"MS\", \"PhD\", \"PhD\")\n",
        "salary$Education.Level         <- factor(salary$Education.Level, levels = c(\"missing\", \"HS\", \"BS\", \"MS\", \"PhD\"))\n",
        "```\n"
      ]
    },
    {
      "cell_type": "code",
      "source": [
        "# load data frame\n",
        "data_url                       <- \"https://raw.githubusercontent.com/khasenst/datasets_teaching/refs/heads/main/salary_data.csv\"\n",
        "salary                         <- na.omit(read.csv(data_url, header = TRUE))\n",
        "\n",
        "# convert character variables to factors\n",
        "salary$Gender                  <- as.factor(salary$Gender)\n",
        "salary$Education.Level         <- as.factor(salary$Education.Level)\n",
        "salary$Job.Title               <- as.factor(salary$Job.Title)\n",
        "\n",
        "# reassign levels\n",
        "levels(salary$Education.Level) <-  c(\"missing\", \"BS\", \"BS\", \"HS\",\n",
        "                                     \"MS\", \"MS\", \"PhD\", \"PhD\")\n",
        "salary$Education.Level         <- factor(salary$Education.Level, levels = c(\"missing\", \"HS\", \"BS\", \"MS\", \"PhD\"))"
      ],
      "metadata": {
        "id": "Ybl9DZdz17O3"
      },
      "execution_count": 1,
      "outputs": []
    },
    {
      "cell_type": "markdown",
      "metadata": {
        "id": "D9Zi7RfgFC7t"
      },
      "source": [
        "<br>"
      ]
    },
    {
      "cell_type": "markdown",
      "metadata": {
        "id": "VdX6RYc8FD0Q"
      },
      "source": [
        "<font color=red>Task 1.2</font> View the first few lines of the `salary` data frame using the `head()` function."
      ]
    },
    {
      "cell_type": "code",
      "source": [
        "head(salary)"
      ],
      "metadata": {
        "id": "nL3NFFCm162g",
        "outputId": "c0428c50-6aa5-4768-fc91-d2f423f02ff1",
        "colab": {
          "base_uri": "https://localhost:8080/",
          "height": 286
        }
      },
      "execution_count": 2,
      "outputs": [
        {
          "output_type": "display_data",
          "data": {
            "text/html": [
              "<table class=\"dataframe\">\n",
              "<caption>A data.frame: 6 × 6</caption>\n",
              "<thead>\n",
              "\t<tr><th></th><th scope=col>Age</th><th scope=col>Gender</th><th scope=col>Education.Level</th><th scope=col>Job.Title</th><th scope=col>Years.of.Experience</th><th scope=col>Salary</th></tr>\n",
              "\t<tr><th></th><th scope=col>&lt;int&gt;</th><th scope=col>&lt;fct&gt;</th><th scope=col>&lt;fct&gt;</th><th scope=col>&lt;fct&gt;</th><th scope=col>&lt;dbl&gt;</th><th scope=col>&lt;int&gt;</th></tr>\n",
              "</thead>\n",
              "<tbody>\n",
              "\t<tr><th scope=row>1</th><td>32</td><td>Male  </td><td>BS </td><td>Software Engineer</td><td> 5</td><td> 90000</td></tr>\n",
              "\t<tr><th scope=row>2</th><td>28</td><td>Female</td><td>MS </td><td>Data Analyst     </td><td> 3</td><td> 65000</td></tr>\n",
              "\t<tr><th scope=row>3</th><td>45</td><td>Male  </td><td>PhD</td><td>Senior Manager   </td><td>15</td><td>150000</td></tr>\n",
              "\t<tr><th scope=row>4</th><td>36</td><td>Female</td><td>BS </td><td>Sales Associate  </td><td> 7</td><td> 60000</td></tr>\n",
              "\t<tr><th scope=row>5</th><td>52</td><td>Male  </td><td>MS </td><td>Director         </td><td>20</td><td>200000</td></tr>\n",
              "\t<tr><th scope=row>6</th><td>29</td><td>Male  </td><td>BS </td><td>Marketing Analyst</td><td> 2</td><td> 55000</td></tr>\n",
              "</tbody>\n",
              "</table>\n"
            ],
            "text/markdown": "\nA data.frame: 6 × 6\n\n| <!--/--> | Age &lt;int&gt; | Gender &lt;fct&gt; | Education.Level &lt;fct&gt; | Job.Title &lt;fct&gt; | Years.of.Experience &lt;dbl&gt; | Salary &lt;int&gt; |\n|---|---|---|---|---|---|---|\n| 1 | 32 | Male   | BS  | Software Engineer |  5 |  90000 |\n| 2 | 28 | Female | MS  | Data Analyst      |  3 |  65000 |\n| 3 | 45 | Male   | PhD | Senior Manager    | 15 | 150000 |\n| 4 | 36 | Female | BS  | Sales Associate   |  7 |  60000 |\n| 5 | 52 | Male   | MS  | Director          | 20 | 200000 |\n| 6 | 29 | Male   | BS  | Marketing Analyst |  2 |  55000 |\n\n",
            "text/latex": "A data.frame: 6 × 6\n\\begin{tabular}{r|llllll}\n  & Age & Gender & Education.Level & Job.Title & Years.of.Experience & Salary\\\\\n  & <int> & <fct> & <fct> & <fct> & <dbl> & <int>\\\\\n\\hline\n\t1 & 32 & Male   & BS  & Software Engineer &  5 &  90000\\\\\n\t2 & 28 & Female & MS  & Data Analyst      &  3 &  65000\\\\\n\t3 & 45 & Male   & PhD & Senior Manager    & 15 & 150000\\\\\n\t4 & 36 & Female & BS  & Sales Associate   &  7 &  60000\\\\\n\t5 & 52 & Male   & MS  & Director          & 20 & 200000\\\\\n\t6 & 29 & Male   & BS  & Marketing Analyst &  2 &  55000\\\\\n\\end{tabular}\n",
            "text/plain": [
              "  Age Gender Education.Level Job.Title         Years.of.Experience Salary\n",
              "1 32  Male   BS              Software Engineer  5                   90000\n",
              "2 28  Female MS              Data Analyst       3                   65000\n",
              "3 45  Male   PhD             Senior Manager    15                  150000\n",
              "4 36  Female BS              Sales Associate    7                   60000\n",
              "5 52  Male   MS              Director          20                  200000\n",
              "6 29  Male   BS              Marketing Analyst  2                   55000"
            ]
          },
          "metadata": {}
        }
      ]
    },
    {
      "cell_type": "markdown",
      "source": [
        "<br>\n",
        "\n",
        "<br>"
      ],
      "metadata": {
        "id": "qxS6ztRJqMdK"
      }
    },
    {
      "cell_type": "markdown",
      "metadata": {
        "id": "rbeRxp-3qMdM"
      },
      "source": [
        "<br>\n",
        "\n",
        "---"
      ]
    },
    {
      "cell_type": "markdown",
      "metadata": {
        "id": "oHahMLpO8A9D"
      },
      "source": [
        "####<font color=red>Task 2</font>\n"
      ]
    },
    {
      "cell_type": "markdown",
      "metadata": {
        "id": "ScjnfR6W8A9D"
      },
      "source": [
        "<font color=red>Task 2.1</font>\n",
        "\n",
        "* Write a `for` loop that loops through each column in the `salary` data frame and prints the `class()` of each column\n"
      ]
    },
    {
      "cell_type": "code",
      "source": [
        "for(i in colnames(salary)){\n",
        "  print(class(salary[[i]]))\n",
        "}"
      ],
      "metadata": {
        "id": "2w9LvpXI2NMn",
        "outputId": "0f48466f-ca18-4cc6-a849-f3583c357e80",
        "colab": {
          "base_uri": "https://localhost:8080/"
        }
      },
      "execution_count": 38,
      "outputs": [
        {
          "output_type": "stream",
          "name": "stdout",
          "text": [
            "[1] \"integer\"\n",
            "[1] \"factor\"\n",
            "[1] \"factor\"\n",
            "[1] \"factor\"\n",
            "[1] \"numeric\"\n",
            "[1] \"integer\"\n"
          ]
        }
      ]
    },
    {
      "cell_type": "markdown",
      "source": [
        "<br>"
      ],
      "metadata": {
        "id": "ek9vIwz7tqqZ"
      }
    },
    {
      "cell_type": "markdown",
      "metadata": {
        "id": "TxKWwr4F3kfV"
      },
      "source": [
        "<font color=red>Task 2.2</font>\n",
        "\n",
        "* Use `lapply()` to perform the same task from 2.1\n"
      ]
    },
    {
      "cell_type": "code",
      "source": [
        "lapply(salary,class)"
      ],
      "metadata": {
        "id": "Cvym7u7X3T4D",
        "outputId": "70446373-7c82-49e8-8838-9cdaf0791510",
        "colab": {
          "base_uri": "https://localhost:8080/",
          "height": 253
        }
      },
      "execution_count": 8,
      "outputs": [
        {
          "output_type": "display_data",
          "data": {
            "text/html": [
              "<dl>\n",
              "\t<dt>$Age</dt>\n",
              "\t\t<dd>'integer'</dd>\n",
              "\t<dt>$Gender</dt>\n",
              "\t\t<dd>'factor'</dd>\n",
              "\t<dt>$Education.Level</dt>\n",
              "\t\t<dd>'factor'</dd>\n",
              "\t<dt>$Job.Title</dt>\n",
              "\t\t<dd>'factor'</dd>\n",
              "\t<dt>$Years.of.Experience</dt>\n",
              "\t\t<dd>'numeric'</dd>\n",
              "\t<dt>$Salary</dt>\n",
              "\t\t<dd>'integer'</dd>\n",
              "</dl>\n"
            ],
            "text/markdown": "$Age\n:   'integer'\n$Gender\n:   'factor'\n$Education.Level\n:   'factor'\n$Job.Title\n:   'factor'\n$Years.of.Experience\n:   'numeric'\n$Salary\n:   'integer'\n\n\n",
            "text/latex": "\\begin{description}\n\\item[\\$Age] 'integer'\n\\item[\\$Gender] 'factor'\n\\item[\\$Education.Level] 'factor'\n\\item[\\$Job.Title] 'factor'\n\\item[\\$Years.of.Experience] 'numeric'\n\\item[\\$Salary] 'integer'\n\\end{description}\n",
            "text/plain": [
              "$Age\n",
              "[1] \"integer\"\n",
              "\n",
              "$Gender\n",
              "[1] \"factor\"\n",
              "\n",
              "$Education.Level\n",
              "[1] \"factor\"\n",
              "\n",
              "$Job.Title\n",
              "[1] \"factor\"\n",
              "\n",
              "$Years.of.Experience\n",
              "[1] \"numeric\"\n",
              "\n",
              "$Salary\n",
              "[1] \"integer\"\n"
            ]
          },
          "metadata": {}
        }
      ]
    },
    {
      "cell_type": "markdown",
      "source": [
        "<br>"
      ],
      "metadata": {
        "id": "Ve2rJoI83ufR"
      }
    },
    {
      "cell_type": "markdown",
      "metadata": {
        "id": "diTQlw2S3ufR"
      },
      "source": [
        "<font color=red>Task 2.3</font>\n",
        "\n",
        "* Use `sapply()` to perform the same task from 2.1\n"
      ]
    },
    {
      "cell_type": "code",
      "source": [
        "sapply(salary,class)"
      ],
      "metadata": {
        "id": "zy87Y5mZ3baD",
        "outputId": "59590b5a-b236-46e1-8c62-5ba54c4a3ce3",
        "colab": {
          "base_uri": "https://localhost:8080/",
          "height": 34
        }
      },
      "execution_count": 9,
      "outputs": [
        {
          "output_type": "display_data",
          "data": {
            "text/html": [
              "<style>\n",
              ".dl-inline {width: auto; margin:0; padding: 0}\n",
              ".dl-inline>dt, .dl-inline>dd {float: none; width: auto; display: inline-block}\n",
              ".dl-inline>dt::after {content: \":\\0020\"; padding-right: .5ex}\n",
              ".dl-inline>dt:not(:first-of-type) {padding-left: .5ex}\n",
              "</style><dl class=dl-inline><dt>Age</dt><dd>'integer'</dd><dt>Gender</dt><dd>'factor'</dd><dt>Education.Level</dt><dd>'factor'</dd><dt>Job.Title</dt><dd>'factor'</dd><dt>Years.of.Experience</dt><dd>'numeric'</dd><dt>Salary</dt><dd>'integer'</dd></dl>\n"
            ],
            "text/markdown": "Age\n:   'integer'Gender\n:   'factor'Education.Level\n:   'factor'Job.Title\n:   'factor'Years.of.Experience\n:   'numeric'Salary\n:   'integer'\n\n",
            "text/latex": "\\begin{description*}\n\\item[Age] 'integer'\n\\item[Gender] 'factor'\n\\item[Education.Level] 'factor'\n\\item[Job.Title] 'factor'\n\\item[Years.of.Experience] 'numeric'\n\\item[Salary] 'integer'\n\\end{description*}\n",
            "text/plain": [
              "                Age              Gender     Education.Level           Job.Title \n",
              "          \"integer\"            \"factor\"            \"factor\"            \"factor\" \n",
              "Years.of.Experience              Salary \n",
              "          \"numeric\"           \"integer\" "
            ]
          },
          "metadata": {}
        }
      ]
    },
    {
      "cell_type": "markdown",
      "source": [
        "<br>"
      ],
      "metadata": {
        "id": "9FJKKPnF30Mq"
      }
    },
    {
      "cell_type": "markdown",
      "metadata": {
        "id": "UUYqojtj30Ms"
      },
      "source": [
        "<font color=red>Task 2.4</font>\n",
        "\n",
        "* In a text cell, compare the outputs Tasks 2.1-2.3\n"
      ]
    },
    {
      "cell_type": "markdown",
      "source": [
        "**Task 2.4** <br>\n",
        "* lapply() - returns a list of column classes.\n",
        "* sapply() - returns a vector of column classes."
      ],
      "metadata": {
        "id": "YQ-3nqat3jQz"
      }
    },
    {
      "cell_type": "markdown",
      "source": [
        "<br>\n",
        "\n",
        "<br>"
      ],
      "metadata": {
        "id": "sp7IS3CF5Ggo"
      }
    },
    {
      "cell_type": "markdown",
      "metadata": {
        "id": "Nwsxjgxs5Ggp"
      },
      "source": [
        "<br>\n",
        "\n",
        "---"
      ]
    },
    {
      "cell_type": "markdown",
      "metadata": {
        "id": "0gDbLvUT5Ggq"
      },
      "source": [
        "####<font color=red>Task 3</font>\n"
      ]
    },
    {
      "cell_type": "markdown",
      "metadata": {
        "id": "-vYxWMao3XL-"
      },
      "source": [
        "<font color=red>Task 3.1</font>\n",
        "\n",
        "* Store the columns of `salary` that are either `integer` or `numeric` class into another data frame called `salary_numeric`\n"
      ]
    },
    {
      "cell_type": "code",
      "source": [
        "salary_numeric <- salary[, sapply(salary, function(col) is.numeric(col) | is.integer(col))]\n",
        "salary_numeric"
      ],
      "metadata": {
        "id": "fEd50lBD5AYr",
        "outputId": "43432ad4-2a0a-40c0-eadc-5a7f71a9b889",
        "colab": {
          "base_uri": "https://localhost:8080/",
          "height": 1000
        }
      },
      "execution_count": 42,
      "outputs": [
        {
          "output_type": "display_data",
          "data": {
            "text/html": [
              "<table class=\"dataframe\">\n",
              "<caption>A data.frame: 6699 × 3</caption>\n",
              "<thead>\n",
              "\t<tr><th></th><th scope=col>Age</th><th scope=col>Years.of.Experience</th><th scope=col>Salary</th></tr>\n",
              "\t<tr><th></th><th scope=col>&lt;int&gt;</th><th scope=col>&lt;dbl&gt;</th><th scope=col>&lt;int&gt;</th></tr>\n",
              "</thead>\n",
              "<tbody>\n",
              "\t<tr><th scope=row>1</th><td>32</td><td> 5</td><td> 90000</td></tr>\n",
              "\t<tr><th scope=row>2</th><td>28</td><td> 3</td><td> 65000</td></tr>\n",
              "\t<tr><th scope=row>3</th><td>45</td><td>15</td><td>150000</td></tr>\n",
              "\t<tr><th scope=row>4</th><td>36</td><td> 7</td><td> 60000</td></tr>\n",
              "\t<tr><th scope=row>5</th><td>52</td><td>20</td><td>200000</td></tr>\n",
              "\t<tr><th scope=row>6</th><td>29</td><td> 2</td><td> 55000</td></tr>\n",
              "\t<tr><th scope=row>7</th><td>42</td><td>12</td><td>120000</td></tr>\n",
              "\t<tr><th scope=row>8</th><td>31</td><td> 4</td><td> 80000</td></tr>\n",
              "\t<tr><th scope=row>9</th><td>26</td><td> 1</td><td> 45000</td></tr>\n",
              "\t<tr><th scope=row>10</th><td>38</td><td>10</td><td>110000</td></tr>\n",
              "\t<tr><th scope=row>11</th><td>29</td><td> 3</td><td> 75000</td></tr>\n",
              "\t<tr><th scope=row>12</th><td>48</td><td>18</td><td>140000</td></tr>\n",
              "\t<tr><th scope=row>13</th><td>35</td><td> 6</td><td> 65000</td></tr>\n",
              "\t<tr><th scope=row>14</th><td>40</td><td>14</td><td>130000</td></tr>\n",
              "\t<tr><th scope=row>15</th><td>27</td><td> 2</td><td> 40000</td></tr>\n",
              "\t<tr><th scope=row>16</th><td>44</td><td>16</td><td>125000</td></tr>\n",
              "\t<tr><th scope=row>17</th><td>33</td><td> 7</td><td> 90000</td></tr>\n",
              "\t<tr><th scope=row>18</th><td>39</td><td>12</td><td>115000</td></tr>\n",
              "\t<tr><th scope=row>19</th><td>25</td><td> 0</td><td> 35000</td></tr>\n",
              "\t<tr><th scope=row>20</th><td>51</td><td>22</td><td>180000</td></tr>\n",
              "\t<tr><th scope=row>21</th><td>34</td><td> 5</td><td> 80000</td></tr>\n",
              "\t<tr><th scope=row>22</th><td>47</td><td>19</td><td>190000</td></tr>\n",
              "\t<tr><th scope=row>23</th><td>30</td><td> 2</td><td> 50000</td></tr>\n",
              "\t<tr><th scope=row>24</th><td>36</td><td> 9</td><td> 60000</td></tr>\n",
              "\t<tr><th scope=row>25</th><td>41</td><td>13</td><td>140000</td></tr>\n",
              "\t<tr><th scope=row>26</th><td>28</td><td> 3</td><td> 45000</td></tr>\n",
              "\t<tr><th scope=row>27</th><td>37</td><td>11</td><td>110000</td></tr>\n",
              "\t<tr><th scope=row>28</th><td>24</td><td> 1</td><td> 40000</td></tr>\n",
              "\t<tr><th scope=row>29</th><td>43</td><td>15</td><td>140000</td></tr>\n",
              "\t<tr><th scope=row>30</th><td>33</td><td> 6</td><td> 90000</td></tr>\n",
              "\t<tr><th scope=row>⋮</th><td>⋮</td><td>⋮</td><td>⋮</td></tr>\n",
              "\t<tr><th scope=row>6675</th><td>46</td><td>14</td><td>140000</td></tr>\n",
              "\t<tr><th scope=row>6676</th><td>26</td><td> 1</td><td> 35000</td></tr>\n",
              "\t<tr><th scope=row>6677</th><td>42</td><td>13</td><td>130000</td></tr>\n",
              "\t<tr><th scope=row>6678</th><td>36</td><td>10</td><td>100000</td></tr>\n",
              "\t<tr><th scope=row>6679</th><td>24</td><td> 1</td><td> 35000</td></tr>\n",
              "\t<tr><th scope=row>6680</th><td>43</td><td>15</td><td>150000</td></tr>\n",
              "\t<tr><th scope=row>6681</th><td>27</td><td> 2</td><td> 40000</td></tr>\n",
              "\t<tr><th scope=row>6682</th><td>33</td><td> 8</td><td> 80000</td></tr>\n",
              "\t<tr><th scope=row>6683</th><td>28</td><td> 4</td><td> 55000</td></tr>\n",
              "\t<tr><th scope=row>6684</th><td>51</td><td>19</td><td>190000</td></tr>\n",
              "\t<tr><th scope=row>6685</th><td>37</td><td> 7</td><td> 90000</td></tr>\n",
              "\t<tr><th scope=row>6686</th><td>49</td><td>20</td><td>200000</td></tr>\n",
              "\t<tr><th scope=row>6687</th><td>32</td><td> 3</td><td> 40000</td></tr>\n",
              "\t<tr><th scope=row>6688</th><td>30</td><td> 5</td><td> 70000</td></tr>\n",
              "\t<tr><th scope=row>6689</th><td>46</td><td>16</td><td>160000</td></tr>\n",
              "\t<tr><th scope=row>6690</th><td>26</td><td> 1</td><td> 35000</td></tr>\n",
              "\t<tr><th scope=row>6691</th><td>42</td><td>13</td><td>130000</td></tr>\n",
              "\t<tr><th scope=row>6692</th><td>36</td><td> 9</td><td> 95000</td></tr>\n",
              "\t<tr><th scope=row>6693</th><td>24</td><td> 1</td><td> 35000</td></tr>\n",
              "\t<tr><th scope=row>6694</th><td>43</td><td>14</td><td>140000</td></tr>\n",
              "\t<tr><th scope=row>6695</th><td>27</td><td> 2</td><td> 40000</td></tr>\n",
              "\t<tr><th scope=row>6696</th><td>33</td><td> 7</td><td> 90000</td></tr>\n",
              "\t<tr><th scope=row>6697</th><td>28</td><td> 4</td><td> 55000</td></tr>\n",
              "\t<tr><th scope=row>6698</th><td>51</td><td>19</td><td>190000</td></tr>\n",
              "\t<tr><th scope=row>6699</th><td>37</td><td> 6</td><td> 75000</td></tr>\n",
              "\t<tr><th scope=row>6700</th><td>49</td><td>20</td><td>200000</td></tr>\n",
              "\t<tr><th scope=row>6701</th><td>32</td><td> 3</td><td> 50000</td></tr>\n",
              "\t<tr><th scope=row>6702</th><td>30</td><td> 4</td><td> 55000</td></tr>\n",
              "\t<tr><th scope=row>6703</th><td>46</td><td>14</td><td>140000</td></tr>\n",
              "\t<tr><th scope=row>6704</th><td>26</td><td> 1</td><td> 35000</td></tr>\n",
              "</tbody>\n",
              "</table>\n"
            ],
            "text/markdown": "\nA data.frame: 6699 × 3\n\n| <!--/--> | Age &lt;int&gt; | Years.of.Experience &lt;dbl&gt; | Salary &lt;int&gt; |\n|---|---|---|---|\n| 1 | 32 |  5 |  90000 |\n| 2 | 28 |  3 |  65000 |\n| 3 | 45 | 15 | 150000 |\n| 4 | 36 |  7 |  60000 |\n| 5 | 52 | 20 | 200000 |\n| 6 | 29 |  2 |  55000 |\n| 7 | 42 | 12 | 120000 |\n| 8 | 31 |  4 |  80000 |\n| 9 | 26 |  1 |  45000 |\n| 10 | 38 | 10 | 110000 |\n| 11 | 29 |  3 |  75000 |\n| 12 | 48 | 18 | 140000 |\n| 13 | 35 |  6 |  65000 |\n| 14 | 40 | 14 | 130000 |\n| 15 | 27 |  2 |  40000 |\n| 16 | 44 | 16 | 125000 |\n| 17 | 33 |  7 |  90000 |\n| 18 | 39 | 12 | 115000 |\n| 19 | 25 |  0 |  35000 |\n| 20 | 51 | 22 | 180000 |\n| 21 | 34 |  5 |  80000 |\n| 22 | 47 | 19 | 190000 |\n| 23 | 30 |  2 |  50000 |\n| 24 | 36 |  9 |  60000 |\n| 25 | 41 | 13 | 140000 |\n| 26 | 28 |  3 |  45000 |\n| 27 | 37 | 11 | 110000 |\n| 28 | 24 |  1 |  40000 |\n| 29 | 43 | 15 | 140000 |\n| 30 | 33 |  6 |  90000 |\n| ⋮ | ⋮ | ⋮ | ⋮ |\n| 6675 | 46 | 14 | 140000 |\n| 6676 | 26 |  1 |  35000 |\n| 6677 | 42 | 13 | 130000 |\n| 6678 | 36 | 10 | 100000 |\n| 6679 | 24 |  1 |  35000 |\n| 6680 | 43 | 15 | 150000 |\n| 6681 | 27 |  2 |  40000 |\n| 6682 | 33 |  8 |  80000 |\n| 6683 | 28 |  4 |  55000 |\n| 6684 | 51 | 19 | 190000 |\n| 6685 | 37 |  7 |  90000 |\n| 6686 | 49 | 20 | 200000 |\n| 6687 | 32 |  3 |  40000 |\n| 6688 | 30 |  5 |  70000 |\n| 6689 | 46 | 16 | 160000 |\n| 6690 | 26 |  1 |  35000 |\n| 6691 | 42 | 13 | 130000 |\n| 6692 | 36 |  9 |  95000 |\n| 6693 | 24 |  1 |  35000 |\n| 6694 | 43 | 14 | 140000 |\n| 6695 | 27 |  2 |  40000 |\n| 6696 | 33 |  7 |  90000 |\n| 6697 | 28 |  4 |  55000 |\n| 6698 | 51 | 19 | 190000 |\n| 6699 | 37 |  6 |  75000 |\n| 6700 | 49 | 20 | 200000 |\n| 6701 | 32 |  3 |  50000 |\n| 6702 | 30 |  4 |  55000 |\n| 6703 | 46 | 14 | 140000 |\n| 6704 | 26 |  1 |  35000 |\n\n",
            "text/latex": "A data.frame: 6699 × 3\n\\begin{tabular}{r|lll}\n  & Age & Years.of.Experience & Salary\\\\\n  & <int> & <dbl> & <int>\\\\\n\\hline\n\t1 & 32 &  5 &  90000\\\\\n\t2 & 28 &  3 &  65000\\\\\n\t3 & 45 & 15 & 150000\\\\\n\t4 & 36 &  7 &  60000\\\\\n\t5 & 52 & 20 & 200000\\\\\n\t6 & 29 &  2 &  55000\\\\\n\t7 & 42 & 12 & 120000\\\\\n\t8 & 31 &  4 &  80000\\\\\n\t9 & 26 &  1 &  45000\\\\\n\t10 & 38 & 10 & 110000\\\\\n\t11 & 29 &  3 &  75000\\\\\n\t12 & 48 & 18 & 140000\\\\\n\t13 & 35 &  6 &  65000\\\\\n\t14 & 40 & 14 & 130000\\\\\n\t15 & 27 &  2 &  40000\\\\\n\t16 & 44 & 16 & 125000\\\\\n\t17 & 33 &  7 &  90000\\\\\n\t18 & 39 & 12 & 115000\\\\\n\t19 & 25 &  0 &  35000\\\\\n\t20 & 51 & 22 & 180000\\\\\n\t21 & 34 &  5 &  80000\\\\\n\t22 & 47 & 19 & 190000\\\\\n\t23 & 30 &  2 &  50000\\\\\n\t24 & 36 &  9 &  60000\\\\\n\t25 & 41 & 13 & 140000\\\\\n\t26 & 28 &  3 &  45000\\\\\n\t27 & 37 & 11 & 110000\\\\\n\t28 & 24 &  1 &  40000\\\\\n\t29 & 43 & 15 & 140000\\\\\n\t30 & 33 &  6 &  90000\\\\\n\t⋮ & ⋮ & ⋮ & ⋮\\\\\n\t6675 & 46 & 14 & 140000\\\\\n\t6676 & 26 &  1 &  35000\\\\\n\t6677 & 42 & 13 & 130000\\\\\n\t6678 & 36 & 10 & 100000\\\\\n\t6679 & 24 &  1 &  35000\\\\\n\t6680 & 43 & 15 & 150000\\\\\n\t6681 & 27 &  2 &  40000\\\\\n\t6682 & 33 &  8 &  80000\\\\\n\t6683 & 28 &  4 &  55000\\\\\n\t6684 & 51 & 19 & 190000\\\\\n\t6685 & 37 &  7 &  90000\\\\\n\t6686 & 49 & 20 & 200000\\\\\n\t6687 & 32 &  3 &  40000\\\\\n\t6688 & 30 &  5 &  70000\\\\\n\t6689 & 46 & 16 & 160000\\\\\n\t6690 & 26 &  1 &  35000\\\\\n\t6691 & 42 & 13 & 130000\\\\\n\t6692 & 36 &  9 &  95000\\\\\n\t6693 & 24 &  1 &  35000\\\\\n\t6694 & 43 & 14 & 140000\\\\\n\t6695 & 27 &  2 &  40000\\\\\n\t6696 & 33 &  7 &  90000\\\\\n\t6697 & 28 &  4 &  55000\\\\\n\t6698 & 51 & 19 & 190000\\\\\n\t6699 & 37 &  6 &  75000\\\\\n\t6700 & 49 & 20 & 200000\\\\\n\t6701 & 32 &  3 &  50000\\\\\n\t6702 & 30 &  4 &  55000\\\\\n\t6703 & 46 & 14 & 140000\\\\\n\t6704 & 26 &  1 &  35000\\\\\n\\end{tabular}\n",
            "text/plain": [
              "     Age Years.of.Experience Salary\n",
              "1    32   5                   90000\n",
              "2    28   3                   65000\n",
              "3    45  15                  150000\n",
              "4    36   7                   60000\n",
              "5    52  20                  200000\n",
              "6    29   2                   55000\n",
              "7    42  12                  120000\n",
              "8    31   4                   80000\n",
              "9    26   1                   45000\n",
              "10   38  10                  110000\n",
              "11   29   3                   75000\n",
              "12   48  18                  140000\n",
              "13   35   6                   65000\n",
              "14   40  14                  130000\n",
              "15   27   2                   40000\n",
              "16   44  16                  125000\n",
              "17   33   7                   90000\n",
              "18   39  12                  115000\n",
              "19   25   0                   35000\n",
              "20   51  22                  180000\n",
              "21   34   5                   80000\n",
              "22   47  19                  190000\n",
              "23   30   2                   50000\n",
              "24   36   9                   60000\n",
              "25   41  13                  140000\n",
              "26   28   3                   45000\n",
              "27   37  11                  110000\n",
              "28   24   1                   40000\n",
              "29   43  15                  140000\n",
              "30   33   6                   90000\n",
              "⋮    ⋮   ⋮                   ⋮     \n",
              "6675 46  14                  140000\n",
              "6676 26   1                   35000\n",
              "6677 42  13                  130000\n",
              "6678 36  10                  100000\n",
              "6679 24   1                   35000\n",
              "6680 43  15                  150000\n",
              "6681 27   2                   40000\n",
              "6682 33   8                   80000\n",
              "6683 28   4                   55000\n",
              "6684 51  19                  190000\n",
              "6685 37   7                   90000\n",
              "6686 49  20                  200000\n",
              "6687 32   3                   40000\n",
              "6688 30   5                   70000\n",
              "6689 46  16                  160000\n",
              "6690 26   1                   35000\n",
              "6691 42  13                  130000\n",
              "6692 36   9                   95000\n",
              "6693 24   1                   35000\n",
              "6694 43  14                  140000\n",
              "6695 27   2                   40000\n",
              "6696 33   7                   90000\n",
              "6697 28   4                   55000\n",
              "6698 51  19                  190000\n",
              "6699 37   6                   75000\n",
              "6700 49  20                  200000\n",
              "6701 32   3                   50000\n",
              "6702 30   4                   55000\n",
              "6703 46  14                  140000\n",
              "6704 26   1                   35000"
            ]
          },
          "metadata": {}
        }
      ]
    },
    {
      "cell_type": "markdown",
      "source": [
        "<br>"
      ],
      "metadata": {
        "id": "Fc-Vaov_3kfU"
      }
    },
    {
      "cell_type": "markdown",
      "metadata": {
        "id": "ILbG7VmQ5owO"
      },
      "source": [
        "<font color=red>Task 3.2</font>\n",
        "\n",
        "* Use `apply()` to calculate the average of each column in `salary_numeric`\n"
      ]
    },
    {
      "cell_type": "code",
      "source": [
        "apply(salary_numeric, 2, mean)"
      ],
      "metadata": {
        "id": "OXO4XCkt6D2V",
        "outputId": "312dce2f-7b79-4fa8-bb3e-26a2b791b413",
        "colab": {
          "base_uri": "https://localhost:8080/",
          "height": 34
        }
      },
      "execution_count": 41,
      "outputs": [
        {
          "output_type": "display_data",
          "data": {
            "text/html": [
              "<style>\n",
              ".dl-inline {width: auto; margin:0; padding: 0}\n",
              ".dl-inline>dt, .dl-inline>dd {float: none; width: auto; display: inline-block}\n",
              ".dl-inline>dt::after {content: \":\\0020\"; padding-right: .5ex}\n",
              ".dl-inline>dt:not(:first-of-type) {padding-left: .5ex}\n",
              "</style><dl class=dl-inline><dt>Age</dt><dd>33.6220331392745</dd><dt>Years.of.Experience</dt><dd>8.09501418122108</dd><dt>Salary</dt><dd>115326.964770861</dd></dl>\n"
            ],
            "text/markdown": "Age\n:   33.6220331392745Years.of.Experience\n:   8.09501418122108Salary\n:   115326.964770861\n\n",
            "text/latex": "\\begin{description*}\n\\item[Age] 33.6220331392745\n\\item[Years.of.Experience] 8.09501418122108\n\\item[Salary] 115326.964770861\n\\end{description*}\n",
            "text/plain": [
              "                Age Years.of.Experience              Salary \n",
              "       3.362203e+01        8.095014e+00        1.153270e+05 "
            ]
          },
          "metadata": {}
        }
      ]
    },
    {
      "cell_type": "markdown",
      "source": [
        "<br>\n",
        "\n",
        "<br>"
      ],
      "metadata": {
        "id": "tOwe6tJk59ay"
      }
    },
    {
      "cell_type": "markdown",
      "metadata": {
        "id": "D04TXmnI59a0"
      },
      "source": [
        "<br>\n",
        "\n",
        "---"
      ]
    },
    {
      "cell_type": "markdown",
      "metadata": {
        "id": "KQAxjr8o59a1"
      },
      "source": [
        "####<font color=red>Task 4</font>\n"
      ]
    },
    {
      "cell_type": "markdown",
      "metadata": {
        "id": "yDgq4Nvqtcdf"
      },
      "source": [
        "<font color=red>Task 4.1</font>\n",
        "\n",
        "* Create a function called `calc_metrics` that calculates the mean and standard deviation of `numeric` or `integer` vector\n",
        "\n",
        "* The function should return the mean and standard deviation as a vector of length 2 using the `c()` function\n",
        "\n"
      ]
    },
    {
      "cell_type": "code",
      "source": [
        "calc_metrics <- function(x){\n",
        "  if(is.numeric(x) | is.integer(x)){\n",
        "    return(c(mean = mean(x), sd= sd(x)))\n",
        "  }else{\n",
        "    return -1\n",
        "  }\n",
        "}"
      ],
      "metadata": {
        "id": "9JxDswl46h4B"
      },
      "execution_count": 22,
      "outputs": []
    },
    {
      "cell_type": "markdown",
      "source": [
        "<br>"
      ],
      "metadata": {
        "id": "cs82dMfQ67N7"
      }
    },
    {
      "cell_type": "markdown",
      "metadata": {
        "id": "OhL1yM3w68BV"
      },
      "source": [
        "<font color=red>Task 4.2</font>\n",
        "\n",
        "* Use the `tapply()` function to calculate the mean and standard devation of salary for each unique education level\n",
        "\n",
        "* What is the `class()` of the output?\n",
        "\n"
      ]
    },
    {
      "cell_type": "code",
      "source": [
        "res <- tapply(salary$Salary, salary$Education.Level, calc_metrics)\n",
        "#res\n",
        "#class(res)"
      ],
      "metadata": {
        "id": "iELubKWD7HIG",
        "outputId": "af16a109-cd90-4388-920d-0de76f9e97ec",
        "colab": {
          "base_uri": "https://localhost:8080/",
          "height": 34
        }
      },
      "execution_count": 28,
      "outputs": [
        {
          "output_type": "display_data",
          "data": {
            "text/html": [
              "'array'"
            ],
            "text/markdown": "'array'",
            "text/latex": "'array'",
            "text/plain": [
              "[1] \"array\""
            ]
          },
          "metadata": {}
        }
      ]
    },
    {
      "cell_type": "markdown",
      "source": [
        "<br>"
      ],
      "metadata": {
        "id": "wQNAtNIZ7c5-"
      }
    },
    {
      "cell_type": "markdown",
      "metadata": {
        "id": "vzK155Sj7ceF"
      },
      "source": [
        "<font color=red>Task 4.3</font>\n",
        "\n",
        "* Use `do.call()` to \"row bind\" the output from Task 4.2\n",
        "\n"
      ]
    },
    {
      "cell_type": "code",
      "source": [
        "do.call(rbind, res)"
      ],
      "metadata": {
        "id": "7t_kml897gpf",
        "outputId": "eedcba66-14ac-4c2f-efdb-dc060f62627a",
        "colab": {
          "base_uri": "https://localhost:8080/",
          "height": 223
        }
      },
      "execution_count": 27,
      "outputs": [
        {
          "output_type": "display_data",
          "data": {
            "text/html": [
              "<table class=\"dataframe\">\n",
              "<caption>A matrix: 5 × 2 of type dbl</caption>\n",
              "<thead>\n",
              "\t<tr><th></th><th scope=col>mean</th><th scope=col>sd</th></tr>\n",
              "</thead>\n",
              "<tbody>\n",
              "\t<tr><th scope=row>missing</th><td>100000.00</td><td>      NA</td></tr>\n",
              "\t<tr><th scope=row>HS</th><td> 36706.69</td><td>22549.13</td></tr>\n",
              "\t<tr><th scope=row>BS</th><td> 95082.91</td><td>44091.79</td></tr>\n",
              "\t<tr><th scope=row>MS</th><td>130112.06</td><td>40640.82</td></tr>\n",
              "\t<tr><th scope=row>PhD</th><td>165651.46</td><td>34339.75</td></tr>\n",
              "</tbody>\n",
              "</table>\n"
            ],
            "text/markdown": "\nA matrix: 5 × 2 of type dbl\n\n| <!--/--> | mean | sd |\n|---|---|---|\n| missing | 100000.00 |       NA |\n| HS |  36706.69 | 22549.13 |\n| BS |  95082.91 | 44091.79 |\n| MS | 130112.06 | 40640.82 |\n| PhD | 165651.46 | 34339.75 |\n\n",
            "text/latex": "A matrix: 5 × 2 of type dbl\n\\begin{tabular}{r|ll}\n  & mean & sd\\\\\n\\hline\n\tmissing & 100000.00 &       NA\\\\\n\tHS &  36706.69 & 22549.13\\\\\n\tBS &  95082.91 & 44091.79\\\\\n\tMS & 130112.06 & 40640.82\\\\\n\tPhD & 165651.46 & 34339.75\\\\\n\\end{tabular}\n",
            "text/plain": [
              "        mean      sd      \n",
              "missing 100000.00       NA\n",
              "HS       36706.69 22549.13\n",
              "BS       95082.91 44091.79\n",
              "MS      130112.06 40640.82\n",
              "PhD     165651.46 34339.75"
            ]
          },
          "metadata": {}
        }
      ]
    },
    {
      "cell_type": "markdown",
      "source": [
        "<br>"
      ],
      "metadata": {
        "id": "n1p8qehI7yLN"
      }
    },
    {
      "cell_type": "markdown",
      "metadata": {
        "id": "LkJcaBP27yLN"
      },
      "source": [
        "<font color=red>Task 4.4</font>\n",
        "\n",
        "Convert your output from Task 4.3 into a data frame called `data_summary` with the following attributes:\n",
        "\n",
        "* The data frame should have 2 columns. One column should be named `salary_mean` and the other column should be named `salary_sd`.\n",
        "\n"
      ]
    },
    {
      "cell_type": "code",
      "source": [
        "data_summary <- data.frame(do.call(rbind, res))\n",
        "colnames(data_summary) <- c(\"salary_mean\",\"salary_sd\")\n",
        "data_summary"
      ],
      "metadata": {
        "id": "y0hY_jeC72i8",
        "outputId": "e61ba4cb-8c07-43d6-9823-e07f52239877",
        "colab": {
          "base_uri": "https://localhost:8080/",
          "height": 255
        }
      },
      "execution_count": 30,
      "outputs": [
        {
          "output_type": "display_data",
          "data": {
            "text/html": [
              "<table class=\"dataframe\">\n",
              "<caption>A data.frame: 5 × 2</caption>\n",
              "<thead>\n",
              "\t<tr><th></th><th scope=col>salary_mean</th><th scope=col>salary_sd</th></tr>\n",
              "\t<tr><th></th><th scope=col>&lt;dbl&gt;</th><th scope=col>&lt;dbl&gt;</th></tr>\n",
              "</thead>\n",
              "<tbody>\n",
              "\t<tr><th scope=row>missing</th><td>100000.00</td><td>      NA</td></tr>\n",
              "\t<tr><th scope=row>HS</th><td> 36706.69</td><td>22549.13</td></tr>\n",
              "\t<tr><th scope=row>BS</th><td> 95082.91</td><td>44091.79</td></tr>\n",
              "\t<tr><th scope=row>MS</th><td>130112.06</td><td>40640.82</td></tr>\n",
              "\t<tr><th scope=row>PhD</th><td>165651.46</td><td>34339.75</td></tr>\n",
              "</tbody>\n",
              "</table>\n"
            ],
            "text/markdown": "\nA data.frame: 5 × 2\n\n| <!--/--> | salary_mean &lt;dbl&gt; | salary_sd &lt;dbl&gt; |\n|---|---|---|\n| missing | 100000.00 |       NA |\n| HS |  36706.69 | 22549.13 |\n| BS |  95082.91 | 44091.79 |\n| MS | 130112.06 | 40640.82 |\n| PhD | 165651.46 | 34339.75 |\n\n",
            "text/latex": "A data.frame: 5 × 2\n\\begin{tabular}{r|ll}\n  & salary\\_mean & salary\\_sd\\\\\n  & <dbl> & <dbl>\\\\\n\\hline\n\tmissing & 100000.00 &       NA\\\\\n\tHS &  36706.69 & 22549.13\\\\\n\tBS &  95082.91 & 44091.79\\\\\n\tMS & 130112.06 & 40640.82\\\\\n\tPhD & 165651.46 & 34339.75\\\\\n\\end{tabular}\n",
            "text/plain": [
              "        salary_mean salary_sd\n",
              "missing 100000.00         NA \n",
              "HS       36706.69   22549.13 \n",
              "BS       95082.91   44091.79 \n",
              "MS      130112.06   40640.82 \n",
              "PhD     165651.46   34339.75 "
            ]
          },
          "metadata": {}
        }
      ]
    },
    {
      "cell_type": "markdown",
      "source": [
        "<br>\n",
        "\n",
        "<br>"
      ],
      "metadata": {
        "id": "6yx8wOxe8kid"
      }
    },
    {
      "cell_type": "markdown",
      "metadata": {
        "id": "b2kMHrtw8kif"
      },
      "source": [
        "<br>\n",
        "\n",
        "---"
      ]
    },
    {
      "cell_type": "markdown",
      "metadata": {
        "id": "7LP59zMs8kif"
      },
      "source": [
        "####<font color=red>Task 5</font>\n"
      ]
    },
    {
      "cell_type": "markdown",
      "metadata": {
        "id": "xQcCBmWa8kig"
      },
      "source": [
        "<font color=red>Task 5.1</font>\n",
        "\n",
        "* Repeat Task 4, except using `Age` instead of `Salary` and `Job.Title` instead `Education.Level`\n"
      ]
    },
    {
      "cell_type": "code",
      "source": [
        "res_1 <- tapply(salary$Age, salary$Job.Title, calc_metrics)\n",
        "\n",
        "data_summary_age <- data.frame(do.call(rbind, res_1))\n",
        "colnames(data_summary_age) <- c(\"age_mean\",\"age_sd\")\n",
        "\n",
        "data_summary_age"
      ],
      "metadata": {
        "id": "hF41vUPP8TpA",
        "outputId": "c8d76467-ee84-4a8d-eee6-8b2fa6223e5d",
        "colab": {
          "base_uri": "https://localhost:8080/",
          "height": 1000
        }
      },
      "execution_count": 33,
      "outputs": [
        {
          "output_type": "display_data",
          "data": {
            "text/html": [
              "<table class=\"dataframe\">\n",
              "<caption>A data.frame: 192 × 2</caption>\n",
              "<thead>\n",
              "\t<tr><th></th><th scope=col>age_mean</th><th scope=col>age_sd</th></tr>\n",
              "\t<tr><th></th><th scope=col>&lt;dbl&gt;</th><th scope=col>&lt;dbl&gt;</th></tr>\n",
              "</thead>\n",
              "<tbody>\n",
              "\t<tr><th scope=row>Account Manager</th><td>32.00000</td><td>       NA</td></tr>\n",
              "\t<tr><th scope=row>Accountant</th><td>31.00000</td><td>       NA</td></tr>\n",
              "\t<tr><th scope=row>Administrative Assistant</th><td>37.50000</td><td>2.1213203</td></tr>\n",
              "\t<tr><th scope=row>Back end Developer</th><td>30.93443</td><td>5.9742075</td></tr>\n",
              "\t<tr><th scope=row>Business Analyst</th><td>33.50000</td><td>0.7071068</td></tr>\n",
              "\t<tr><th scope=row>Business Development Manager</th><td>34.00000</td><td>       NA</td></tr>\n",
              "\t<tr><th scope=row>Business Intelligence Analyst</th><td>33.00000</td><td>       NA</td></tr>\n",
              "\t<tr><th scope=row>CEO</th><td>50.00000</td><td>       NA</td></tr>\n",
              "\t<tr><th scope=row>Chief Data Officer</th><td>44.00000</td><td>       NA</td></tr>\n",
              "\t<tr><th scope=row>Chief Technology Officer</th><td>52.00000</td><td>       NA</td></tr>\n",
              "\t<tr><th scope=row>Content Marketing Manager</th><td>38.46575</td><td>9.0093812</td></tr>\n",
              "\t<tr><th scope=row>Copywriter</th><td>28.00000</td><td>       NA</td></tr>\n",
              "\t<tr><th scope=row>Creative Director</th><td>42.00000</td><td>       NA</td></tr>\n",
              "\t<tr><th scope=row>Customer Service Manager</th><td>44.50000</td><td>9.1923882</td></tr>\n",
              "\t<tr><th scope=row>Customer Service Rep</th><td>27.00000</td><td>       NA</td></tr>\n",
              "\t<tr><th scope=row>Customer Service Representative</th><td>26.66667</td><td>2.6583203</td></tr>\n",
              "\t<tr><th scope=row>Customer Success Manager</th><td>28.00000</td><td>       NA</td></tr>\n",
              "\t<tr><th scope=row>Customer Success Rep</th><td>26.00000</td><td>       NA</td></tr>\n",
              "\t<tr><th scope=row>Data Analyst</th><td>28.68595</td><td>4.3354502</td></tr>\n",
              "\t<tr><th scope=row>Data Entry Clerk</th><td>25.00000</td><td>       NA</td></tr>\n",
              "\t<tr><th scope=row>Data Scientist</th><td>36.06402</td><td>7.1443931</td></tr>\n",
              "\t<tr><th scope=row>Delivery Driver</th><td>24.00000</td><td>0.0000000</td></tr>\n",
              "\t<tr><th scope=row>Developer</th><td>27.00000</td><td>       NA</td></tr>\n",
              "\t<tr><th scope=row>Digital Content Producer</th><td>30.00000</td><td>       NA</td></tr>\n",
              "\t<tr><th scope=row>Digital Marketing Manager</th><td>32.13462</td><td>6.7418181</td></tr>\n",
              "\t<tr><th scope=row>Digital Marketing Specialist</th><td>29.33333</td><td>0.4879500</td></tr>\n",
              "\t<tr><th scope=row>Director</th><td>52.00000</td><td>       NA</td></tr>\n",
              "\t<tr><th scope=row>Director of Business Development</th><td>47.00000</td><td>       NA</td></tr>\n",
              "\t<tr><th scope=row>Director of Data Science</th><td>44.47368</td><td>3.5862100</td></tr>\n",
              "\t<tr><th scope=row>Director of Engineering</th><td>46.00000</td><td>1.4142136</td></tr>\n",
              "\t<tr><th scope=row>⋮</th><td>⋮</td><td>⋮</td></tr>\n",
              "\t<tr><th scope=row>Senior Research Scientist</th><td>37.20408</td><td>2.1309191</td></tr>\n",
              "\t<tr><th scope=row>Senior Researcher</th><td>46.00000</td><td>       NA</td></tr>\n",
              "\t<tr><th scope=row>Senior Sales Manager</th><td>45.50000</td><td>2.1213203</td></tr>\n",
              "\t<tr><th scope=row>Senior Sales Representative</th><td>39.50000</td><td>0.7071068</td></tr>\n",
              "\t<tr><th scope=row>Senior Scientist</th><td>40.00000</td><td>3.4641016</td></tr>\n",
              "\t<tr><th scope=row>Senior Software Architect</th><td>37.00000</td><td>       NA</td></tr>\n",
              "\t<tr><th scope=row>Senior Software Developer</th><td>38.00000</td><td>6.0827625</td></tr>\n",
              "\t<tr><th scope=row>Senior Software Engineer</th><td>39.88115</td><td>6.4576981</td></tr>\n",
              "\t<tr><th scope=row>Senior Training Specialist</th><td>40.00000</td><td>       NA</td></tr>\n",
              "\t<tr><th scope=row>Senior UX Designer</th><td>44.66667</td><td>0.5773503</td></tr>\n",
              "\t<tr><th scope=row>Social Media Man</th><td>26.00000</td><td>       NA</td></tr>\n",
              "\t<tr><th scope=row>Social Media Manager</th><td>26.64286</td><td>1.0818178</td></tr>\n",
              "\t<tr><th scope=row>Social Media Specialist</th><td>28.00000</td><td>       NA</td></tr>\n",
              "\t<tr><th scope=row>Software Developer</th><td>26.90400</td><td>2.2768966</td></tr>\n",
              "\t<tr><th scope=row>Software Engineer</th><td>28.31853</td><td>2.6176170</td></tr>\n",
              "\t<tr><th scope=row>Software Engineer Manager</th><td>45.74202</td><td>8.3583054</td></tr>\n",
              "\t<tr><th scope=row>Software Manager</th><td>37.00000</td><td>       NA</td></tr>\n",
              "\t<tr><th scope=row>Software Project Manager</th><td>37.00000</td><td>       NA</td></tr>\n",
              "\t<tr><th scope=row>Strategy Consultant</th><td>41.00000</td><td>       NA</td></tr>\n",
              "\t<tr><th scope=row>Supply Chain Analyst</th><td>50.00000</td><td>       NA</td></tr>\n",
              "\t<tr><th scope=row>Supply Chain Manager</th><td>43.00000</td><td>       NA</td></tr>\n",
              "\t<tr><th scope=row>Technical Recruiter</th><td>36.00000</td><td>       NA</td></tr>\n",
              "\t<tr><th scope=row>Technical Support Specialist</th><td>28.00000</td><td>       NA</td></tr>\n",
              "\t<tr><th scope=row>Technical Writer</th><td>27.00000</td><td>       NA</td></tr>\n",
              "\t<tr><th scope=row>Training Specialist</th><td>39.00000</td><td>       NA</td></tr>\n",
              "\t<tr><th scope=row>UX Designer</th><td>34.00000</td><td>       NA</td></tr>\n",
              "\t<tr><th scope=row>UX Researcher</th><td>27.00000</td><td>       NA</td></tr>\n",
              "\t<tr><th scope=row>VP of Finance</th><td>47.00000</td><td>       NA</td></tr>\n",
              "\t<tr><th scope=row>VP of Operations</th><td>47.00000</td><td>       NA</td></tr>\n",
              "\t<tr><th scope=row>Web Developer</th><td>30.52874</td><td>4.0543949</td></tr>\n",
              "</tbody>\n",
              "</table>\n"
            ],
            "text/markdown": "\nA data.frame: 192 × 2\n\n| <!--/--> | age_mean &lt;dbl&gt; | age_sd &lt;dbl&gt; |\n|---|---|---|\n| Account Manager | 32.00000 |        NA |\n| Accountant | 31.00000 |        NA |\n| Administrative Assistant | 37.50000 | 2.1213203 |\n| Back end Developer | 30.93443 | 5.9742075 |\n| Business Analyst | 33.50000 | 0.7071068 |\n| Business Development Manager | 34.00000 |        NA |\n| Business Intelligence Analyst | 33.00000 |        NA |\n| CEO | 50.00000 |        NA |\n| Chief Data Officer | 44.00000 |        NA |\n| Chief Technology Officer | 52.00000 |        NA |\n| Content Marketing Manager | 38.46575 | 9.0093812 |\n| Copywriter | 28.00000 |        NA |\n| Creative Director | 42.00000 |        NA |\n| Customer Service Manager | 44.50000 | 9.1923882 |\n| Customer Service Rep | 27.00000 |        NA |\n| Customer Service Representative | 26.66667 | 2.6583203 |\n| Customer Success Manager | 28.00000 |        NA |\n| Customer Success Rep | 26.00000 |        NA |\n| Data Analyst | 28.68595 | 4.3354502 |\n| Data Entry Clerk | 25.00000 |        NA |\n| Data Scientist | 36.06402 | 7.1443931 |\n| Delivery Driver | 24.00000 | 0.0000000 |\n| Developer | 27.00000 |        NA |\n| Digital Content Producer | 30.00000 |        NA |\n| Digital Marketing Manager | 32.13462 | 6.7418181 |\n| Digital Marketing Specialist | 29.33333 | 0.4879500 |\n| Director | 52.00000 |        NA |\n| Director of Business Development | 47.00000 |        NA |\n| Director of Data Science | 44.47368 | 3.5862100 |\n| Director of Engineering | 46.00000 | 1.4142136 |\n| ⋮ | ⋮ | ⋮ |\n| Senior Research Scientist | 37.20408 | 2.1309191 |\n| Senior Researcher | 46.00000 |        NA |\n| Senior Sales Manager | 45.50000 | 2.1213203 |\n| Senior Sales Representative | 39.50000 | 0.7071068 |\n| Senior Scientist | 40.00000 | 3.4641016 |\n| Senior Software Architect | 37.00000 |        NA |\n| Senior Software Developer | 38.00000 | 6.0827625 |\n| Senior Software Engineer | 39.88115 | 6.4576981 |\n| Senior Training Specialist | 40.00000 |        NA |\n| Senior UX Designer | 44.66667 | 0.5773503 |\n| Social Media Man | 26.00000 |        NA |\n| Social Media Manager | 26.64286 | 1.0818178 |\n| Social Media Specialist | 28.00000 |        NA |\n| Software Developer | 26.90400 | 2.2768966 |\n| Software Engineer | 28.31853 | 2.6176170 |\n| Software Engineer Manager | 45.74202 | 8.3583054 |\n| Software Manager | 37.00000 |        NA |\n| Software Project Manager | 37.00000 |        NA |\n| Strategy Consultant | 41.00000 |        NA |\n| Supply Chain Analyst | 50.00000 |        NA |\n| Supply Chain Manager | 43.00000 |        NA |\n| Technical Recruiter | 36.00000 |        NA |\n| Technical Support Specialist | 28.00000 |        NA |\n| Technical Writer | 27.00000 |        NA |\n| Training Specialist | 39.00000 |        NA |\n| UX Designer | 34.00000 |        NA |\n| UX Researcher | 27.00000 |        NA |\n| VP of Finance | 47.00000 |        NA |\n| VP of Operations | 47.00000 |        NA |\n| Web Developer | 30.52874 | 4.0543949 |\n\n",
            "text/latex": "A data.frame: 192 × 2\n\\begin{tabular}{r|ll}\n  & age\\_mean & age\\_sd\\\\\n  & <dbl> & <dbl>\\\\\n\\hline\n\tAccount Manager & 32.00000 &        NA\\\\\n\tAccountant & 31.00000 &        NA\\\\\n\tAdministrative Assistant & 37.50000 & 2.1213203\\\\\n\tBack end Developer & 30.93443 & 5.9742075\\\\\n\tBusiness Analyst & 33.50000 & 0.7071068\\\\\n\tBusiness Development Manager & 34.00000 &        NA\\\\\n\tBusiness Intelligence Analyst & 33.00000 &        NA\\\\\n\tCEO & 50.00000 &        NA\\\\\n\tChief Data Officer & 44.00000 &        NA\\\\\n\tChief Technology Officer & 52.00000 &        NA\\\\\n\tContent Marketing Manager & 38.46575 & 9.0093812\\\\\n\tCopywriter & 28.00000 &        NA\\\\\n\tCreative Director & 42.00000 &        NA\\\\\n\tCustomer Service Manager & 44.50000 & 9.1923882\\\\\n\tCustomer Service Rep & 27.00000 &        NA\\\\\n\tCustomer Service Representative & 26.66667 & 2.6583203\\\\\n\tCustomer Success Manager & 28.00000 &        NA\\\\\n\tCustomer Success Rep & 26.00000 &        NA\\\\\n\tData Analyst & 28.68595 & 4.3354502\\\\\n\tData Entry Clerk & 25.00000 &        NA\\\\\n\tData Scientist & 36.06402 & 7.1443931\\\\\n\tDelivery Driver & 24.00000 & 0.0000000\\\\\n\tDeveloper & 27.00000 &        NA\\\\\n\tDigital Content Producer & 30.00000 &        NA\\\\\n\tDigital Marketing Manager & 32.13462 & 6.7418181\\\\\n\tDigital Marketing Specialist & 29.33333 & 0.4879500\\\\\n\tDirector & 52.00000 &        NA\\\\\n\tDirector of Business Development & 47.00000 &        NA\\\\\n\tDirector of Data Science & 44.47368 & 3.5862100\\\\\n\tDirector of Engineering & 46.00000 & 1.4142136\\\\\n\t⋮ & ⋮ & ⋮\\\\\n\tSenior Research Scientist & 37.20408 & 2.1309191\\\\\n\tSenior Researcher & 46.00000 &        NA\\\\\n\tSenior Sales Manager & 45.50000 & 2.1213203\\\\\n\tSenior Sales Representative & 39.50000 & 0.7071068\\\\\n\tSenior Scientist & 40.00000 & 3.4641016\\\\\n\tSenior Software Architect & 37.00000 &        NA\\\\\n\tSenior Software Developer & 38.00000 & 6.0827625\\\\\n\tSenior Software Engineer & 39.88115 & 6.4576981\\\\\n\tSenior Training Specialist & 40.00000 &        NA\\\\\n\tSenior UX Designer & 44.66667 & 0.5773503\\\\\n\tSocial Media Man & 26.00000 &        NA\\\\\n\tSocial Media Manager & 26.64286 & 1.0818178\\\\\n\tSocial Media Specialist & 28.00000 &        NA\\\\\n\tSoftware Developer & 26.90400 & 2.2768966\\\\\n\tSoftware Engineer & 28.31853 & 2.6176170\\\\\n\tSoftware Engineer Manager & 45.74202 & 8.3583054\\\\\n\tSoftware Manager & 37.00000 &        NA\\\\\n\tSoftware Project Manager & 37.00000 &        NA\\\\\n\tStrategy Consultant & 41.00000 &        NA\\\\\n\tSupply Chain Analyst & 50.00000 &        NA\\\\\n\tSupply Chain Manager & 43.00000 &        NA\\\\\n\tTechnical Recruiter & 36.00000 &        NA\\\\\n\tTechnical Support Specialist & 28.00000 &        NA\\\\\n\tTechnical Writer & 27.00000 &        NA\\\\\n\tTraining Specialist & 39.00000 &        NA\\\\\n\tUX Designer & 34.00000 &        NA\\\\\n\tUX Researcher & 27.00000 &        NA\\\\\n\tVP of Finance & 47.00000 &        NA\\\\\n\tVP of Operations & 47.00000 &        NA\\\\\n\tWeb Developer & 30.52874 & 4.0543949\\\\\n\\end{tabular}\n",
            "text/plain": [
              "                                 age_mean age_sd   \n",
              "Account Manager                  32.00000        NA\n",
              "Accountant                       31.00000        NA\n",
              "Administrative Assistant         37.50000 2.1213203\n",
              "Back end Developer               30.93443 5.9742075\n",
              "Business Analyst                 33.50000 0.7071068\n",
              "Business Development Manager     34.00000        NA\n",
              "Business Intelligence Analyst    33.00000        NA\n",
              "CEO                              50.00000        NA\n",
              "Chief Data Officer               44.00000        NA\n",
              "Chief Technology Officer         52.00000        NA\n",
              "Content Marketing Manager        38.46575 9.0093812\n",
              "Copywriter                       28.00000        NA\n",
              "Creative Director                42.00000        NA\n",
              "Customer Service Manager         44.50000 9.1923882\n",
              "Customer Service Rep             27.00000        NA\n",
              "Customer Service Representative  26.66667 2.6583203\n",
              "Customer Success Manager         28.00000        NA\n",
              "Customer Success Rep             26.00000        NA\n",
              "Data Analyst                     28.68595 4.3354502\n",
              "Data Entry Clerk                 25.00000        NA\n",
              "Data Scientist                   36.06402 7.1443931\n",
              "Delivery Driver                  24.00000 0.0000000\n",
              "Developer                        27.00000        NA\n",
              "Digital Content Producer         30.00000        NA\n",
              "Digital Marketing Manager        32.13462 6.7418181\n",
              "Digital Marketing Specialist     29.33333 0.4879500\n",
              "Director                         52.00000        NA\n",
              "Director of Business Development 47.00000        NA\n",
              "Director of Data Science         44.47368 3.5862100\n",
              "Director of Engineering          46.00000 1.4142136\n",
              "⋮                                ⋮        ⋮        \n",
              "Senior Research Scientist        37.20408 2.1309191\n",
              "Senior Researcher                46.00000        NA\n",
              "Senior Sales Manager             45.50000 2.1213203\n",
              "Senior Sales Representative      39.50000 0.7071068\n",
              "Senior Scientist                 40.00000 3.4641016\n",
              "Senior Software Architect        37.00000        NA\n",
              "Senior Software Developer        38.00000 6.0827625\n",
              "Senior Software Engineer         39.88115 6.4576981\n",
              "Senior Training Specialist       40.00000        NA\n",
              "Senior UX Designer               44.66667 0.5773503\n",
              "Social Media Man                 26.00000        NA\n",
              "Social Media Manager             26.64286 1.0818178\n",
              "Social Media Specialist          28.00000        NA\n",
              "Software Developer               26.90400 2.2768966\n",
              "Software Engineer                28.31853 2.6176170\n",
              "Software Engineer Manager        45.74202 8.3583054\n",
              "Software Manager                 37.00000        NA\n",
              "Software Project Manager         37.00000        NA\n",
              "Strategy Consultant              41.00000        NA\n",
              "Supply Chain Analyst             50.00000        NA\n",
              "Supply Chain Manager             43.00000        NA\n",
              "Technical Recruiter              36.00000        NA\n",
              "Technical Support Specialist     28.00000        NA\n",
              "Technical Writer                 27.00000        NA\n",
              "Training Specialist              39.00000        NA\n",
              "UX Designer                      34.00000        NA\n",
              "UX Researcher                    27.00000        NA\n",
              "VP of Finance                    47.00000        NA\n",
              "VP of Operations                 47.00000        NA\n",
              "Web Developer                    30.52874 4.0543949"
            ]
          },
          "metadata": {}
        }
      ]
    },
    {
      "cell_type": "markdown",
      "source": [
        "<br>"
      ],
      "metadata": {
        "id": "cCYJkkT_9X9u"
      }
    },
    {
      "cell_type": "markdown",
      "metadata": {
        "id": "vUCGas-HzsDB"
      },
      "source": [
        "<font color=red>Task 5.2</font>\n",
        "\n",
        "* Order the summary from Task 5.1 in increasing order\n",
        "\n",
        "* Which jobs have the youngest individuals on average? List the first two."
      ]
    },
    {
      "cell_type": "code",
      "source": [
        "df <- data_summary_age[order(data_summary_age$age_mean),]\n",
        "df"
      ],
      "metadata": {
        "id": "yGHPkrs99m7F",
        "outputId": "76efdf2d-29c8-4853-ee82-71efbb8c02b2",
        "colab": {
          "base_uri": "https://localhost:8080/",
          "height": 1000
        }
      },
      "execution_count": 36,
      "outputs": [
        {
          "output_type": "display_data",
          "data": {
            "text/html": [
              "<table class=\"dataframe\">\n",
              "<caption>A data.frame: 192 × 2</caption>\n",
              "<thead>\n",
              "\t<tr><th></th><th scope=col>age_mean</th><th scope=col>age_sd</th></tr>\n",
              "\t<tr><th></th><th scope=col>&lt;dbl&gt;</th><th scope=col>&lt;dbl&gt;</th></tr>\n",
              "</thead>\n",
              "<tbody>\n",
              "\t<tr><th scope=row>Receptionist</th><td>23.64912</td><td>0.7194052</td></tr>\n",
              "\t<tr><th scope=row>Delivery Driver</th><td>24.00000</td><td>0.0000000</td></tr>\n",
              "\t<tr><th scope=row>Junior Developer</th><td>24.00000</td><td>       NA</td></tr>\n",
              "\t<tr><th scope=row>Juniour HR Coordinator</th><td>24.33333</td><td>0.5773503</td></tr>\n",
              "\t<tr><th scope=row>Data Entry Clerk</th><td>25.00000</td><td>       NA</td></tr>\n",
              "\t<tr><th scope=row>Help Desk Analyst</th><td>25.00000</td><td>       NA</td></tr>\n",
              "\t<tr><th scope=row>Customer Success Rep</th><td>26.00000</td><td>       NA</td></tr>\n",
              "\t<tr><th scope=row>Junior Customer Support Specialist</th><td>26.00000</td><td>       NA</td></tr>\n",
              "\t<tr><th scope=row>Junior Data Scientist</th><td>26.00000</td><td>       NA</td></tr>\n",
              "\t<tr><th scope=row>Social Media Man</th><td>26.00000</td><td>       NA</td></tr>\n",
              "\t<tr><th scope=row>Junior Software Engineer</th><td>26.33333</td><td>0.7916228</td></tr>\n",
              "\t<tr><th scope=row>Junior Software Developer</th><td>26.53448</td><td>1.4535560</td></tr>\n",
              "\t<tr><th scope=row>Sales Representative</th><td>26.55263</td><td>3.6885313</td></tr>\n",
              "\t<tr><th scope=row>Sales Associate</th><td>26.55714</td><td>3.3346478</td></tr>\n",
              "\t<tr><th scope=row>Social Media Manager</th><td>26.64286</td><td>1.0818178</td></tr>\n",
              "\t<tr><th scope=row>Customer Service Representative</th><td>26.66667</td><td>2.6583203</td></tr>\n",
              "\t<tr><th scope=row>Sales Executive</th><td>26.68421</td><td>4.9816163</td></tr>\n",
              "\t<tr><th scope=row>Graphic Designer</th><td>26.72727</td><td>0.7672969</td></tr>\n",
              "\t<tr><th scope=row>Software Developer</th><td>26.90400</td><td>2.2768966</td></tr>\n",
              "\t<tr><th scope=row>Product Designer</th><td>26.96000</td><td>1.2129927</td></tr>\n",
              "\t<tr><th scope=row>Customer Service Rep</th><td>27.00000</td><td>       NA</td></tr>\n",
              "\t<tr><th scope=row>Developer</th><td>27.00000</td><td>       NA</td></tr>\n",
              "\t<tr><th scope=row>Junior Research Scientist</th><td>27.00000</td><td>       NA</td></tr>\n",
              "\t<tr><th scope=row>Junior UX Designer</th><td>27.00000</td><td>       NA</td></tr>\n",
              "\t<tr><th scope=row>Technical Writer</th><td>27.00000</td><td>       NA</td></tr>\n",
              "\t<tr><th scope=row>UX Researcher</th><td>27.00000</td><td>       NA</td></tr>\n",
              "\t<tr><th scope=row>Junior Sales Associate</th><td>27.15493</td><td>2.3316988</td></tr>\n",
              "\t<tr><th scope=row>Junior HR Generalist</th><td>27.55000</td><td>2.6960423</td></tr>\n",
              "\t<tr><th scope=row>Junior Sales Representative</th><td>27.58537</td><td>6.3244589</td></tr>\n",
              "\t<tr><th scope=row>Junior Accountant</th><td>27.66667</td><td>2.8867513</td></tr>\n",
              "\t<tr><th scope=row>⋮</th><td>⋮</td><td>⋮</td></tr>\n",
              "\t<tr><th scope=row>Customer Service Manager</th><td>44.50000</td><td>9.1923882</td></tr>\n",
              "\t<tr><th scope=row>Senior Data Engineer</th><td>44.50000</td><td>0.5773503</td></tr>\n",
              "\t<tr><th scope=row>Senior UX Designer</th><td>44.66667</td><td>0.5773503</td></tr>\n",
              "\t<tr><th scope=row>Director of Sales</th><td>45.00000</td><td>       NA</td></tr>\n",
              "\t<tr><th scope=row>Operations Analyst</th><td>45.00000</td><td>       NA</td></tr>\n",
              "\t<tr><th scope=row>Sales Operations Manager</th><td>45.00000</td><td>       NA</td></tr>\n",
              "\t<tr><th scope=row>Senior Manager</th><td>45.50000</td><td>0.7071068</td></tr>\n",
              "\t<tr><th scope=row>Senior Sales Manager</th><td>45.50000</td><td>2.1213203</td></tr>\n",
              "\t<tr><th scope=row>Senior Data Analyst</th><td>45.66667</td><td>0.5773503</td></tr>\n",
              "\t<tr><th scope=row>Software Engineer Manager</th><td>45.74202</td><td>8.3583054</td></tr>\n",
              "\t<tr><th scope=row>Director of Engineering</th><td>46.00000</td><td>1.4142136</td></tr>\n",
              "\t<tr><th scope=row>IT Manager</th><td>46.00000</td><td>       NA</td></tr>\n",
              "\t<tr><th scope=row>Senior HR Manager</th><td>46.00000</td><td>2.6457513</td></tr>\n",
              "\t<tr><th scope=row>Senior Researcher</th><td>46.00000</td><td>       NA</td></tr>\n",
              "\t<tr><th scope=row>Director of Business Development</th><td>47.00000</td><td>       NA</td></tr>\n",
              "\t<tr><th scope=row>VP of Finance</th><td>47.00000</td><td>       NA</td></tr>\n",
              "\t<tr><th scope=row>VP of Operations</th><td>47.00000</td><td>       NA</td></tr>\n",
              "\t<tr><th scope=row>Director of Product Management</th><td>48.00000</td><td>       NA</td></tr>\n",
              "\t<tr><th scope=row>Human Resources Director</th><td>48.00000</td><td>       NA</td></tr>\n",
              "\t<tr><th scope=row>Operations Director</th><td>48.00000</td><td>       NA</td></tr>\n",
              "\t<tr><th scope=row>Principal Engineer</th><td>48.00000</td><td>       NA</td></tr>\n",
              "\t<tr><th scope=row>Director of Operations</th><td>48.09091</td><td>2.3432689</td></tr>\n",
              "\t<tr><th scope=row>Director of Finance</th><td>48.50000</td><td>2.1213203</td></tr>\n",
              "\t<tr><th scope=row>Director of Human Capital</th><td>49.00000</td><td>       NA</td></tr>\n",
              "\t<tr><th scope=row>CEO</th><td>50.00000</td><td>       NA</td></tr>\n",
              "\t<tr><th scope=row>Director of Sales and Marketing</th><td>50.00000</td><td>       NA</td></tr>\n",
              "\t<tr><th scope=row>Supply Chain Analyst</th><td>50.00000</td><td>       NA</td></tr>\n",
              "\t<tr><th scope=row>Director of Human Resources</th><td>51.00000</td><td>0.0000000</td></tr>\n",
              "\t<tr><th scope=row>Chief Technology Officer</th><td>52.00000</td><td>       NA</td></tr>\n",
              "\t<tr><th scope=row>Director</th><td>52.00000</td><td>       NA</td></tr>\n",
              "</tbody>\n",
              "</table>\n"
            ],
            "text/markdown": "\nA data.frame: 192 × 2\n\n| <!--/--> | age_mean &lt;dbl&gt; | age_sd &lt;dbl&gt; |\n|---|---|---|\n| Receptionist | 23.64912 | 0.7194052 |\n| Delivery Driver | 24.00000 | 0.0000000 |\n| Junior Developer | 24.00000 |        NA |\n| Juniour HR Coordinator | 24.33333 | 0.5773503 |\n| Data Entry Clerk | 25.00000 |        NA |\n| Help Desk Analyst | 25.00000 |        NA |\n| Customer Success Rep | 26.00000 |        NA |\n| Junior Customer Support Specialist | 26.00000 |        NA |\n| Junior Data Scientist | 26.00000 |        NA |\n| Social Media Man | 26.00000 |        NA |\n| Junior Software Engineer | 26.33333 | 0.7916228 |\n| Junior Software Developer | 26.53448 | 1.4535560 |\n| Sales Representative | 26.55263 | 3.6885313 |\n| Sales Associate | 26.55714 | 3.3346478 |\n| Social Media Manager | 26.64286 | 1.0818178 |\n| Customer Service Representative | 26.66667 | 2.6583203 |\n| Sales Executive | 26.68421 | 4.9816163 |\n| Graphic Designer | 26.72727 | 0.7672969 |\n| Software Developer | 26.90400 | 2.2768966 |\n| Product Designer | 26.96000 | 1.2129927 |\n| Customer Service Rep | 27.00000 |        NA |\n| Developer | 27.00000 |        NA |\n| Junior Research Scientist | 27.00000 |        NA |\n| Junior UX Designer | 27.00000 |        NA |\n| Technical Writer | 27.00000 |        NA |\n| UX Researcher | 27.00000 |        NA |\n| Junior Sales Associate | 27.15493 | 2.3316988 |\n| Junior HR Generalist | 27.55000 | 2.6960423 |\n| Junior Sales Representative | 27.58537 | 6.3244589 |\n| Junior Accountant | 27.66667 | 2.8867513 |\n| ⋮ | ⋮ | ⋮ |\n| Customer Service Manager | 44.50000 | 9.1923882 |\n| Senior Data Engineer | 44.50000 | 0.5773503 |\n| Senior UX Designer | 44.66667 | 0.5773503 |\n| Director of Sales | 45.00000 |        NA |\n| Operations Analyst | 45.00000 |        NA |\n| Sales Operations Manager | 45.00000 |        NA |\n| Senior Manager | 45.50000 | 0.7071068 |\n| Senior Sales Manager | 45.50000 | 2.1213203 |\n| Senior Data Analyst | 45.66667 | 0.5773503 |\n| Software Engineer Manager | 45.74202 | 8.3583054 |\n| Director of Engineering | 46.00000 | 1.4142136 |\n| IT Manager | 46.00000 |        NA |\n| Senior HR Manager | 46.00000 | 2.6457513 |\n| Senior Researcher | 46.00000 |        NA |\n| Director of Business Development | 47.00000 |        NA |\n| VP of Finance | 47.00000 |        NA |\n| VP of Operations | 47.00000 |        NA |\n| Director of Product Management | 48.00000 |        NA |\n| Human Resources Director | 48.00000 |        NA |\n| Operations Director | 48.00000 |        NA |\n| Principal Engineer | 48.00000 |        NA |\n| Director of Operations | 48.09091 | 2.3432689 |\n| Director of Finance | 48.50000 | 2.1213203 |\n| Director of Human Capital | 49.00000 |        NA |\n| CEO | 50.00000 |        NA |\n| Director of Sales and Marketing | 50.00000 |        NA |\n| Supply Chain Analyst | 50.00000 |        NA |\n| Director of Human Resources | 51.00000 | 0.0000000 |\n| Chief Technology Officer | 52.00000 |        NA |\n| Director | 52.00000 |        NA |\n\n",
            "text/latex": "A data.frame: 192 × 2\n\\begin{tabular}{r|ll}\n  & age\\_mean & age\\_sd\\\\\n  & <dbl> & <dbl>\\\\\n\\hline\n\tReceptionist & 23.64912 & 0.7194052\\\\\n\tDelivery Driver & 24.00000 & 0.0000000\\\\\n\tJunior Developer & 24.00000 &        NA\\\\\n\tJuniour HR Coordinator & 24.33333 & 0.5773503\\\\\n\tData Entry Clerk & 25.00000 &        NA\\\\\n\tHelp Desk Analyst & 25.00000 &        NA\\\\\n\tCustomer Success Rep & 26.00000 &        NA\\\\\n\tJunior Customer Support Specialist & 26.00000 &        NA\\\\\n\tJunior Data Scientist & 26.00000 &        NA\\\\\n\tSocial Media Man & 26.00000 &        NA\\\\\n\tJunior Software Engineer & 26.33333 & 0.7916228\\\\\n\tJunior Software Developer & 26.53448 & 1.4535560\\\\\n\tSales Representative & 26.55263 & 3.6885313\\\\\n\tSales Associate & 26.55714 & 3.3346478\\\\\n\tSocial Media Manager & 26.64286 & 1.0818178\\\\\n\tCustomer Service Representative & 26.66667 & 2.6583203\\\\\n\tSales Executive & 26.68421 & 4.9816163\\\\\n\tGraphic Designer & 26.72727 & 0.7672969\\\\\n\tSoftware Developer & 26.90400 & 2.2768966\\\\\n\tProduct Designer & 26.96000 & 1.2129927\\\\\n\tCustomer Service Rep & 27.00000 &        NA\\\\\n\tDeveloper & 27.00000 &        NA\\\\\n\tJunior Research Scientist & 27.00000 &        NA\\\\\n\tJunior UX Designer & 27.00000 &        NA\\\\\n\tTechnical Writer & 27.00000 &        NA\\\\\n\tUX Researcher & 27.00000 &        NA\\\\\n\tJunior Sales Associate & 27.15493 & 2.3316988\\\\\n\tJunior HR Generalist & 27.55000 & 2.6960423\\\\\n\tJunior Sales Representative & 27.58537 & 6.3244589\\\\\n\tJunior Accountant & 27.66667 & 2.8867513\\\\\n\t⋮ & ⋮ & ⋮\\\\\n\tCustomer Service Manager & 44.50000 & 9.1923882\\\\\n\tSenior Data Engineer & 44.50000 & 0.5773503\\\\\n\tSenior UX Designer & 44.66667 & 0.5773503\\\\\n\tDirector of Sales & 45.00000 &        NA\\\\\n\tOperations Analyst & 45.00000 &        NA\\\\\n\tSales Operations Manager & 45.00000 &        NA\\\\\n\tSenior Manager & 45.50000 & 0.7071068\\\\\n\tSenior Sales Manager & 45.50000 & 2.1213203\\\\\n\tSenior Data Analyst & 45.66667 & 0.5773503\\\\\n\tSoftware Engineer Manager & 45.74202 & 8.3583054\\\\\n\tDirector of Engineering & 46.00000 & 1.4142136\\\\\n\tIT Manager & 46.00000 &        NA\\\\\n\tSenior HR Manager & 46.00000 & 2.6457513\\\\\n\tSenior Researcher & 46.00000 &        NA\\\\\n\tDirector of Business Development & 47.00000 &        NA\\\\\n\tVP of Finance & 47.00000 &        NA\\\\\n\tVP of Operations & 47.00000 &        NA\\\\\n\tDirector of Product Management & 48.00000 &        NA\\\\\n\tHuman Resources Director & 48.00000 &        NA\\\\\n\tOperations Director & 48.00000 &        NA\\\\\n\tPrincipal Engineer & 48.00000 &        NA\\\\\n\tDirector of Operations & 48.09091 & 2.3432689\\\\\n\tDirector of Finance & 48.50000 & 2.1213203\\\\\n\tDirector of Human Capital & 49.00000 &        NA\\\\\n\tCEO & 50.00000 &        NA\\\\\n\tDirector of Sales and Marketing & 50.00000 &        NA\\\\\n\tSupply Chain Analyst & 50.00000 &        NA\\\\\n\tDirector of Human Resources & 51.00000 & 0.0000000\\\\\n\tChief Technology Officer & 52.00000 &        NA\\\\\n\tDirector & 52.00000 &        NA\\\\\n\\end{tabular}\n",
            "text/plain": [
              "                                   age_mean age_sd   \n",
              "Receptionist                       23.64912 0.7194052\n",
              "Delivery Driver                    24.00000 0.0000000\n",
              "Junior Developer                   24.00000        NA\n",
              "Juniour HR Coordinator             24.33333 0.5773503\n",
              "Data Entry Clerk                   25.00000        NA\n",
              "Help Desk Analyst                  25.00000        NA\n",
              "Customer Success Rep               26.00000        NA\n",
              "Junior Customer Support Specialist 26.00000        NA\n",
              "Junior Data Scientist              26.00000        NA\n",
              "Social Media Man                   26.00000        NA\n",
              "Junior Software Engineer           26.33333 0.7916228\n",
              "Junior Software Developer          26.53448 1.4535560\n",
              "Sales Representative               26.55263 3.6885313\n",
              "Sales Associate                    26.55714 3.3346478\n",
              "Social Media Manager               26.64286 1.0818178\n",
              "Customer Service Representative    26.66667 2.6583203\n",
              "Sales Executive                    26.68421 4.9816163\n",
              "Graphic Designer                   26.72727 0.7672969\n",
              "Software Developer                 26.90400 2.2768966\n",
              "Product Designer                   26.96000 1.2129927\n",
              "Customer Service Rep               27.00000        NA\n",
              "Developer                          27.00000        NA\n",
              "Junior Research Scientist          27.00000        NA\n",
              "Junior UX Designer                 27.00000        NA\n",
              "Technical Writer                   27.00000        NA\n",
              "UX Researcher                      27.00000        NA\n",
              "Junior Sales Associate             27.15493 2.3316988\n",
              "Junior HR Generalist               27.55000 2.6960423\n",
              "Junior Sales Representative        27.58537 6.3244589\n",
              "Junior Accountant                  27.66667 2.8867513\n",
              "⋮                                  ⋮        ⋮        \n",
              "Customer Service Manager           44.50000 9.1923882\n",
              "Senior Data Engineer               44.50000 0.5773503\n",
              "Senior UX Designer                 44.66667 0.5773503\n",
              "Director of Sales                  45.00000        NA\n",
              "Operations Analyst                 45.00000        NA\n",
              "Sales Operations Manager           45.00000        NA\n",
              "Senior Manager                     45.50000 0.7071068\n",
              "Senior Sales Manager               45.50000 2.1213203\n",
              "Senior Data Analyst                45.66667 0.5773503\n",
              "Software Engineer Manager          45.74202 8.3583054\n",
              "Director of Engineering            46.00000 1.4142136\n",
              "IT Manager                         46.00000        NA\n",
              "Senior HR Manager                  46.00000 2.6457513\n",
              "Senior Researcher                  46.00000        NA\n",
              "Director of Business Development   47.00000        NA\n",
              "VP of Finance                      47.00000        NA\n",
              "VP of Operations                   47.00000        NA\n",
              "Director of Product Management     48.00000        NA\n",
              "Human Resources Director           48.00000        NA\n",
              "Operations Director                48.00000        NA\n",
              "Principal Engineer                 48.00000        NA\n",
              "Director of Operations             48.09091 2.3432689\n",
              "Director of Finance                48.50000 2.1213203\n",
              "Director of Human Capital          49.00000        NA\n",
              "CEO                                50.00000        NA\n",
              "Director of Sales and Marketing    50.00000        NA\n",
              "Supply Chain Analyst               50.00000        NA\n",
              "Director of Human Resources        51.00000 0.0000000\n",
              "Chief Technology Officer           52.00000        NA\n",
              "Director                           52.00000        NA"
            ]
          },
          "metadata": {}
        }
      ]
    },
    {
      "cell_type": "code",
      "source": [
        "head(df,2)"
      ],
      "metadata": {
        "id": "fzDFPLUf965A",
        "outputId": "72287a80-9072-402f-baee-71409aaf1cd3",
        "colab": {
          "base_uri": "https://localhost:8080/",
          "height": 161
        }
      },
      "execution_count": 37,
      "outputs": [
        {
          "output_type": "display_data",
          "data": {
            "text/html": [
              "<table class=\"dataframe\">\n",
              "<caption>A data.frame: 2 × 2</caption>\n",
              "<thead>\n",
              "\t<tr><th></th><th scope=col>age_mean</th><th scope=col>age_sd</th></tr>\n",
              "\t<tr><th></th><th scope=col>&lt;dbl&gt;</th><th scope=col>&lt;dbl&gt;</th></tr>\n",
              "</thead>\n",
              "<tbody>\n",
              "\t<tr><th scope=row>Receptionist</th><td>23.64912</td><td>0.7194052</td></tr>\n",
              "\t<tr><th scope=row>Delivery Driver</th><td>24.00000</td><td>0.0000000</td></tr>\n",
              "</tbody>\n",
              "</table>\n"
            ],
            "text/markdown": "\nA data.frame: 2 × 2\n\n| <!--/--> | age_mean &lt;dbl&gt; | age_sd &lt;dbl&gt; |\n|---|---|---|\n| Receptionist | 23.64912 | 0.7194052 |\n| Delivery Driver | 24.00000 | 0.0000000 |\n\n",
            "text/latex": "A data.frame: 2 × 2\n\\begin{tabular}{r|ll}\n  & age\\_mean & age\\_sd\\\\\n  & <dbl> & <dbl>\\\\\n\\hline\n\tReceptionist & 23.64912 & 0.7194052\\\\\n\tDelivery Driver & 24.00000 & 0.0000000\\\\\n\\end{tabular}\n",
            "text/plain": [
              "                age_mean age_sd   \n",
              "Receptionist    23.64912 0.7194052\n",
              "Delivery Driver 24.00000 0.0000000"
            ]
          },
          "metadata": {}
        }
      ]
    }
  ],
  "metadata": {
    "colab": {
      "provenance": [],
      "collapsed_sections": [
        "gFPSdK5aXOPB",
        "oHahMLpO8A9D",
        "0gDbLvUT5Ggq",
        "KQAxjr8o59a1",
        "7LP59zMs8kif"
      ]
    },
    "kernelspec": {
      "display_name": "R",
      "name": "ir"
    }
  },
  "nbformat": 4,
  "nbformat_minor": 0
}