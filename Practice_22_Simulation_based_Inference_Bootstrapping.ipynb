{
  "cells": [
    {
      "cell_type": "markdown",
      "metadata": {
        "id": "gtETsh5j8vHw"
      },
      "source": [
        "# **Practice 22 - Simulation-based Inference - Bootstrapping**\n",
        "\n",
        "#### Ana-Maria Borduselu"
      ]
    },
    {
      "cell_type": "markdown",
      "metadata": {
        "id": "Efu_Sse0Wp6P"
      },
      "source": [
        "---\n",
        "\n",
        "**IMPORTANT**:\n",
        "- Before starting the lab, save a copy to your google drive by navigating to `File > Save a copy in Drive` <br>\n",
        "\n",
        "<br>\n",
        "\n",
        "\n",
        "**Instructions**: Complete the lab below.\n",
        "\n",
        "- <font color=red>Tasks</font> indicated in red must be completed to receive credit\n",
        "- Include all code for your work\n",
        "- Include markdown cells with written answers explaining your work when prompted\n",
        "- **NOTE: Your completed lab must be submitted to Canvas as a .ipynb file by the end of the lab session**\n",
        "---"
      ]
    },
    {
      "cell_type": "markdown",
      "metadata": {
        "id": "wFVxj8nD-yIt"
      },
      "source": [
        "<br>"
      ]
    },
    {
      "cell_type": "markdown",
      "metadata": {
        "id": "omeTfTlN4Npb"
      },
      "source": [
        "####<font color=red>Organized</font>\n",
        "\n",
        "**Answers should be organized in the following format for organization and readability**\n"
      ]
    },
    {
      "cell_type": "markdown",
      "metadata": {
        "id": "uLialHuQ4-vU"
      },
      "source": [
        "<font color=red>Example task 1</font>"
      ]
    },
    {
      "cell_type": "code",
      "execution_count": 26,
      "metadata": {
        "id": "Mxff4INi5Evt"
      },
      "outputs": [],
      "source": [
        "# 1.\n",
        "\n",
        "# This will be the code block to answer the first part of a task"
      ]
    },
    {
      "cell_type": "markdown",
      "metadata": {
        "id": "A-GtymRS5Syz"
      },
      "source": [
        "1. This will be the text answer/explanation (if prompted) for the first task"
      ]
    },
    {
      "cell_type": "markdown",
      "metadata": {
        "id": "fDAMP6ZC5Zqp"
      },
      "source": [
        "<font color=red>Example task 2</font>"
      ]
    },
    {
      "cell_type": "code",
      "execution_count": 27,
      "metadata": {
        "id": "K94QMtU55Zqp"
      },
      "outputs": [],
      "source": [
        "# 2.\n",
        "\n",
        "# This will be the code block to answer the second part of a task"
      ]
    },
    {
      "cell_type": "markdown",
      "metadata": {
        "id": "xRfvDNu25Zqp"
      },
      "source": [
        "2. This will be the text answer/explanation (if prompted) for the second task"
      ]
    },
    {
      "cell_type": "markdown",
      "metadata": {
        "id": "JIEIhg5I5JfN"
      },
      "source": [
        "<br>\n",
        "\n",
        "Continue this format for the remaining subtasks\n"
      ]
    },
    {
      "cell_type": "markdown",
      "metadata": {
        "id": "rcQECH5y4RiC"
      },
      "source": [
        "<br>"
      ]
    },
    {
      "cell_type": "markdown",
      "source": [
        "---\n",
        "\n",
        "<br>"
      ],
      "metadata": {
        "id": "jFiNcIjpjFs7"
      }
    },
    {
      "cell_type": "markdown",
      "source": [
        "#### Packages"
      ],
      "metadata": {
        "id": "QdyJzDgAsFNZ"
      }
    },
    {
      "cell_type": "code",
      "source": [
        "# install packages\n",
        "install.packages(\"dslabs\")"
      ],
      "metadata": {
        "colab": {
          "base_uri": "https://localhost:8080/"
        },
        "id": "3kueWSTPPnbh",
        "outputId": "23646c46-cec0-470a-8fc8-28fac1890335"
      },
      "execution_count": 28,
      "outputs": [
        {
          "output_type": "stream",
          "name": "stderr",
          "text": [
            "Installing package into ‘/usr/local/lib/R/site-library’\n",
            "(as ‘lib’ is unspecified)\n",
            "\n"
          ]
        }
      ]
    },
    {
      "cell_type": "code",
      "source": [
        "# load libraries\n",
        "library(dslabs)\n",
        "library(ggplot2)"
      ],
      "metadata": {
        "id": "BA2Vnt-UZFYm"
      },
      "execution_count": 29,
      "outputs": []
    },
    {
      "cell_type": "markdown",
      "source": [
        "<br>\n",
        "\n",
        "<br>"
      ],
      "metadata": {
        "id": "SNO2ev8txX3p"
      }
    },
    {
      "cell_type": "markdown",
      "metadata": {
        "id": "Q4n93wPOXOPB"
      },
      "source": [
        "<br>\n",
        "\n",
        "---"
      ]
    },
    {
      "cell_type": "markdown",
      "metadata": {
        "id": "oHahMLpO8A9D"
      },
      "source": [
        "####<font color=red>Task 1</font>"
      ]
    },
    {
      "cell_type": "markdown",
      "metadata": {
        "id": "MYQzfdqoNr0b"
      },
      "source": [
        "<font color=red>Task 1.1</font>\n",
        "\n",
        "We will be working with the `gapminder` dataset from the `dslabs` package.\n",
        "\n",
        "* Show the first few lines of the `gapminder` dataset"
      ]
    },
    {
      "cell_type": "code",
      "source": [
        "#1.1\n",
        "head(gapminder)"
      ],
      "metadata": {
        "id": "clORBl4xiejV",
        "outputId": "78ef331b-0fac-43ef-c34a-f807752e0d67",
        "colab": {
          "base_uri": "https://localhost:8080/",
          "height": 286
        }
      },
      "execution_count": 30,
      "outputs": [
        {
          "output_type": "display_data",
          "data": {
            "text/html": [
              "<table class=\"dataframe\">\n",
              "<caption>A data.frame: 6 × 9</caption>\n",
              "<thead>\n",
              "\t<tr><th></th><th scope=col>country</th><th scope=col>year</th><th scope=col>infant_mortality</th><th scope=col>life_expectancy</th><th scope=col>fertility</th><th scope=col>population</th><th scope=col>gdp</th><th scope=col>continent</th><th scope=col>region</th></tr>\n",
              "\t<tr><th></th><th scope=col>&lt;fct&gt;</th><th scope=col>&lt;int&gt;</th><th scope=col>&lt;dbl&gt;</th><th scope=col>&lt;dbl&gt;</th><th scope=col>&lt;dbl&gt;</th><th scope=col>&lt;dbl&gt;</th><th scope=col>&lt;dbl&gt;</th><th scope=col>&lt;fct&gt;</th><th scope=col>&lt;fct&gt;</th></tr>\n",
              "</thead>\n",
              "<tbody>\n",
              "\t<tr><th scope=row>1</th><td>Albania            </td><td>1960</td><td>115.40</td><td>62.87</td><td>6.19</td><td> 1636054</td><td>          NA</td><td>Europe  </td><td>Southern Europe</td></tr>\n",
              "\t<tr><th scope=row>2</th><td>Algeria            </td><td>1960</td><td>148.20</td><td>47.50</td><td>7.65</td><td>11124892</td><td> 13828152297</td><td>Africa  </td><td>Northern Africa</td></tr>\n",
              "\t<tr><th scope=row>3</th><td>Angola             </td><td>1960</td><td>208.00</td><td>35.98</td><td>7.32</td><td> 5270844</td><td>          NA</td><td>Africa  </td><td>Middle Africa  </td></tr>\n",
              "\t<tr><th scope=row>4</th><td>Antigua and Barbuda</td><td>1960</td><td>    NA</td><td>62.97</td><td>4.43</td><td>   54681</td><td>          NA</td><td>Americas</td><td>Caribbean      </td></tr>\n",
              "\t<tr><th scope=row>5</th><td>Argentina          </td><td>1960</td><td> 59.87</td><td>65.39</td><td>3.11</td><td>20619075</td><td>108322326649</td><td>Americas</td><td>South America  </td></tr>\n",
              "\t<tr><th scope=row>6</th><td>Armenia            </td><td>1960</td><td>    NA</td><td>66.86</td><td>4.55</td><td> 1867396</td><td>          NA</td><td>Asia    </td><td>Western Asia   </td></tr>\n",
              "</tbody>\n",
              "</table>\n"
            ],
            "text/markdown": "\nA data.frame: 6 × 9\n\n| <!--/--> | country &lt;fct&gt; | year &lt;int&gt; | infant_mortality &lt;dbl&gt; | life_expectancy &lt;dbl&gt; | fertility &lt;dbl&gt; | population &lt;dbl&gt; | gdp &lt;dbl&gt; | continent &lt;fct&gt; | region &lt;fct&gt; |\n|---|---|---|---|---|---|---|---|---|---|\n| 1 | Albania             | 1960 | 115.40 | 62.87 | 6.19 |  1636054 |           NA | Europe   | Southern Europe |\n| 2 | Algeria             | 1960 | 148.20 | 47.50 | 7.65 | 11124892 |  13828152297 | Africa   | Northern Africa |\n| 3 | Angola              | 1960 | 208.00 | 35.98 | 7.32 |  5270844 |           NA | Africa   | Middle Africa   |\n| 4 | Antigua and Barbuda | 1960 |     NA | 62.97 | 4.43 |    54681 |           NA | Americas | Caribbean       |\n| 5 | Argentina           | 1960 |  59.87 | 65.39 | 3.11 | 20619075 | 108322326649 | Americas | South America   |\n| 6 | Armenia             | 1960 |     NA | 66.86 | 4.55 |  1867396 |           NA | Asia     | Western Asia    |\n\n",
            "text/latex": "A data.frame: 6 × 9\n\\begin{tabular}{r|lllllllll}\n  & country & year & infant\\_mortality & life\\_expectancy & fertility & population & gdp & continent & region\\\\\n  & <fct> & <int> & <dbl> & <dbl> & <dbl> & <dbl> & <dbl> & <fct> & <fct>\\\\\n\\hline\n\t1 & Albania             & 1960 & 115.40 & 62.87 & 6.19 &  1636054 &           NA & Europe   & Southern Europe\\\\\n\t2 & Algeria             & 1960 & 148.20 & 47.50 & 7.65 & 11124892 &  13828152297 & Africa   & Northern Africa\\\\\n\t3 & Angola              & 1960 & 208.00 & 35.98 & 7.32 &  5270844 &           NA & Africa   & Middle Africa  \\\\\n\t4 & Antigua and Barbuda & 1960 &     NA & 62.97 & 4.43 &    54681 &           NA & Americas & Caribbean      \\\\\n\t5 & Argentina           & 1960 &  59.87 & 65.39 & 3.11 & 20619075 & 108322326649 & Americas & South America  \\\\\n\t6 & Armenia             & 1960 &     NA & 66.86 & 4.55 &  1867396 &           NA & Asia     & Western Asia   \\\\\n\\end{tabular}\n",
            "text/plain": [
              "  country             year infant_mortality life_expectancy fertility\n",
              "1 Albania             1960 115.40           62.87           6.19     \n",
              "2 Algeria             1960 148.20           47.50           7.65     \n",
              "3 Angola              1960 208.00           35.98           7.32     \n",
              "4 Antigua and Barbuda 1960     NA           62.97           4.43     \n",
              "5 Argentina           1960  59.87           65.39           3.11     \n",
              "6 Armenia             1960     NA           66.86           4.55     \n",
              "  population gdp          continent region         \n",
              "1  1636054             NA Europe    Southern Europe\n",
              "2 11124892    13828152297 Africa    Northern Africa\n",
              "3  5270844             NA Africa    Middle Africa  \n",
              "4    54681             NA Americas  Caribbean      \n",
              "5 20619075   108322326649 Americas  South America  \n",
              "6  1867396             NA Asia      Western Asia   "
            ]
          },
          "metadata": {}
        }
      ]
    },
    {
      "cell_type": "markdown",
      "source": [
        "<br>"
      ],
      "metadata": {
        "id": "Ma1QACr714-o"
      }
    },
    {
      "cell_type": "markdown",
      "metadata": {
        "id": "X8sipmyn14-q"
      },
      "source": [
        "<font color=red>Task 1.2</font>\n",
        "\n",
        "* Subset the `gapminder` dataset to only include the year `2010`\n",
        "\n",
        "* Store the result as a new data frame called `gapminder2010`\n",
        "\n",
        "* Use `unique()` to show the unique years in `gapminder2010` to verify your work"
      ]
    },
    {
      "cell_type": "code",
      "source": [
        "#1.2\n",
        "gapminder2010 <- gapminder[gapminder$year ==2010,]\n",
        "unique(gapminder2010)"
      ],
      "metadata": {
        "id": "OSoKU_rEiiFm",
        "outputId": "1d5a5bff-5928-4dbd-ceaf-5817861b8756",
        "colab": {
          "base_uri": "https://localhost:8080/",
          "height": 1000
        }
      },
      "execution_count": 31,
      "outputs": [
        {
          "output_type": "display_data",
          "data": {
            "text/html": [
              "<table class=\"dataframe\">\n",
              "<caption>A data.frame: 185 × 9</caption>\n",
              "<thead>\n",
              "\t<tr><th></th><th scope=col>country</th><th scope=col>year</th><th scope=col>infant_mortality</th><th scope=col>life_expectancy</th><th scope=col>fertility</th><th scope=col>population</th><th scope=col>gdp</th><th scope=col>continent</th><th scope=col>region</th></tr>\n",
              "\t<tr><th></th><th scope=col>&lt;fct&gt;</th><th scope=col>&lt;int&gt;</th><th scope=col>&lt;dbl&gt;</th><th scope=col>&lt;dbl&gt;</th><th scope=col>&lt;dbl&gt;</th><th scope=col>&lt;dbl&gt;</th><th scope=col>&lt;dbl&gt;</th><th scope=col>&lt;fct&gt;</th><th scope=col>&lt;fct&gt;</th></tr>\n",
              "</thead>\n",
              "<tbody>\n",
              "\t<tr><th scope=row>9251</th><td>Albania               </td><td>2010</td><td> 14.8</td><td>77.20</td><td>1.74</td><td>  2901883</td><td>  6137563946</td><td>Europe  </td><td>Southern Europe          </td></tr>\n",
              "\t<tr><th scope=row>9252</th><td>Algeria               </td><td>2010</td><td> 23.5</td><td>76.00</td><td>2.82</td><td> 36036159</td><td> 79164339611</td><td>Africa  </td><td>Northern Africa          </td></tr>\n",
              "\t<tr><th scope=row>9253</th><td>Angola                </td><td>2010</td><td>109.6</td><td>57.60</td><td>6.22</td><td> 21219954</td><td> 26125663270</td><td>Africa  </td><td>Middle Africa            </td></tr>\n",
              "\t<tr><th scope=row>9254</th><td>Antigua and Barbuda   </td><td>2010</td><td>  7.7</td><td>75.80</td><td>2.13</td><td>    87233</td><td>   836686777</td><td>Americas</td><td>Caribbean                </td></tr>\n",
              "\t<tr><th scope=row>9255</th><td>Argentina             </td><td>2010</td><td> 13.0</td><td>75.80</td><td>2.22</td><td> 41222875</td><td>434405530244</td><td>Americas</td><td>South America            </td></tr>\n",
              "\t<tr><th scope=row>9256</th><td>Armenia               </td><td>2010</td><td> 16.1</td><td>73.00</td><td>1.55</td><td>  2963496</td><td>  4102285513</td><td>Asia    </td><td>Western Asia             </td></tr>\n",
              "\t<tr><th scope=row>9257</th><td>Aruba                 </td><td>2010</td><td>   NA</td><td>75.06</td><td>1.70</td><td>   101597</td><td>          NA</td><td>Americas</td><td>Caribbean                </td></tr>\n",
              "\t<tr><th scope=row>9258</th><td>Australia             </td><td>2010</td><td>  4.1</td><td>82.00</td><td>1.89</td><td> 22162863</td><td>563049439185</td><td>Oceania </td><td>Australia and New Zealand</td></tr>\n",
              "\t<tr><th scope=row>9259</th><td>Austria               </td><td>2010</td><td>  3.6</td><td>80.50</td><td>1.44</td><td>  8391986</td><td>223954137424</td><td>Europe  </td><td>Western Europe           </td></tr>\n",
              "\t<tr><th scope=row>9260</th><td>Azerbaijan            </td><td>2010</td><td> 33.9</td><td>70.10</td><td>1.97</td><td>  9099893</td><td> 21230696679</td><td>Asia    </td><td>Western Asia             </td></tr>\n",
              "\t<tr><th scope=row>9261</th><td>Bahamas               </td><td>2010</td><td> 11.4</td><td>72.70</td><td>1.90</td><td>   360830</td><td>  6650151639</td><td>Americas</td><td>Caribbean                </td></tr>\n",
              "\t<tr><th scope=row>9262</th><td>Bahrain               </td><td>2010</td><td>  7.1</td><td>78.70</td><td>2.14</td><td>  1261319</td><td> 14178489076</td><td>Asia    </td><td>Western Asia             </td></tr>\n",
              "\t<tr><th scope=row>9263</th><td>Bangladesh            </td><td>2010</td><td> 39.2</td><td>68.80</td><td>2.28</td><td>151616777</td><td> 82979485251</td><td>Asia    </td><td>Southern Asia            </td></tr>\n",
              "\t<tr><th scope=row>9264</th><td>Barbados              </td><td>2010</td><td> 13.6</td><td>75.20</td><td>1.84</td><td>   279566</td><td>          NA</td><td>Americas</td><td>Caribbean                </td></tr>\n",
              "\t<tr><th scope=row>9265</th><td>Belarus               </td><td>2010</td><td>  4.7</td><td>70.20</td><td>1.46</td><td>  9492122</td><td> 26002131603</td><td>Europe  </td><td>Eastern Europe           </td></tr>\n",
              "\t<tr><th scope=row>9266</th><td>Belgium               </td><td>2010</td><td>  3.6</td><td>80.10</td><td>1.84</td><td> 10929978</td><td>267143096398</td><td>Europe  </td><td>Western Europe           </td></tr>\n",
              "\t<tr><th scope=row>9267</th><td>Belize                </td><td>2010</td><td> 16.3</td><td>71.20</td><td>2.80</td><td>   321609</td><td>  1221526439</td><td>Americas</td><td>Central America          </td></tr>\n",
              "\t<tr><th scope=row>9268</th><td>Benin                 </td><td>2010</td><td> 71.0</td><td>60.80</td><td>5.10</td><td>  9509798</td><td>  3336801340</td><td>Africa  </td><td>Western Africa           </td></tr>\n",
              "\t<tr><th scope=row>9269</th><td>Bhutan                </td><td>2010</td><td> 34.1</td><td>71.40</td><td>2.38</td><td>   720246</td><td>   961365502</td><td>Asia    </td><td>Southern Asia            </td></tr>\n",
              "\t<tr><th scope=row>9270</th><td>Bolivia               </td><td>2010</td><td> 36.8</td><td>71.80</td><td>3.36</td><td>  9918245</td><td> 12240412986</td><td>Americas</td><td>South America            </td></tr>\n",
              "\t<tr><th scope=row>9271</th><td>Bosnia and Herzegovina</td><td>2010</td><td>  6.4</td><td>77.90</td><td>1.24</td><td>  3835258</td><td>  8209376700</td><td>Europe  </td><td>Southern Europe          </td></tr>\n",
              "\t<tr><th scope=row>9272</th><td>Botswana              </td><td>2010</td><td> 39.8</td><td>55.60</td><td>2.76</td><td>  2047831</td><td>  8408166868</td><td>Africa  </td><td>Southern Africa          </td></tr>\n",
              "\t<tr><th scope=row>9273</th><td>Brazil                </td><td>2010</td><td> 14.8</td><td>73.60</td><td>1.84</td><td>198614208</td><td>919487274118</td><td>Americas</td><td>South America            </td></tr>\n",
              "\t<tr><th scope=row>9274</th><td>Brunei                </td><td>2010</td><td>  7.7</td><td>77.10</td><td>2.05</td><td>   393302</td><td>  6871522907</td><td>Asia    </td><td>South-Eastern Asia       </td></tr>\n",
              "\t<tr><th scope=row>9275</th><td>Bulgaria              </td><td>2010</td><td> 11.2</td><td>73.70</td><td>1.49</td><td>  7407297</td><td> 19246713609</td><td>Europe  </td><td>Eastern Europe           </td></tr>\n",
              "\t<tr><th scope=row>9276</th><td>Burkina Faso          </td><td>2010</td><td> 69.7</td><td>59.00</td><td>5.87</td><td> 15632066</td><td>  4655655008</td><td>Africa  </td><td>Western Africa           </td></tr>\n",
              "\t<tr><th scope=row>9277</th><td>Burundi               </td><td>2010</td><td> 63.8</td><td>60.40</td><td>6.30</td><td>  9461117</td><td>  1158914103</td><td>Africa  </td><td>Eastern Africa           </td></tr>\n",
              "\t<tr><th scope=row>9278</th><td>Cambodia              </td><td>2010</td><td> 36.7</td><td>67.00</td><td>2.97</td><td> 14363586</td><td>  7888819881</td><td>Asia    </td><td>South-Eastern Asia       </td></tr>\n",
              "\t<tr><th scope=row>9279</th><td>Cameroon              </td><td>2010</td><td> 66.2</td><td>57.80</td><td>5.02</td><td> 20590666</td><td> 13986616694</td><td>Africa  </td><td>Middle Africa            </td></tr>\n",
              "\t<tr><th scope=row>9280</th><td>Canada                </td><td>2010</td><td>  4.9</td><td>81.30</td><td>1.63</td><td> 34126173</td><td>872784483603</td><td>Americas</td><td>Northern America         </td></tr>\n",
              "\t<tr><th scope=row>⋮</th><td>⋮</td><td>⋮</td><td>⋮</td><td>⋮</td><td>⋮</td><td>⋮</td><td>⋮</td><td>⋮</td><td>⋮</td></tr>\n",
              "\t<tr><th scope=row>9406</th><td>Sudan               </td><td>2010</td><td>53.3</td><td>66.1</td><td>4.64</td><td> 36114885</td><td>2.281908e+10</td><td>Africa  </td><td>Northern Africa   </td></tr>\n",
              "\t<tr><th scope=row>9407</th><td>Suriname            </td><td>2010</td><td>22.1</td><td>70.7</td><td>2.35</td><td>   518141</td><td>1.436104e+09</td><td>Americas</td><td>South America     </td></tr>\n",
              "\t<tr><th scope=row>9408</th><td>Swaziland           </td><td>2010</td><td>59.1</td><td>46.4</td><td>3.56</td><td>  1193148</td><td>1.911603e+09</td><td>Africa  </td><td>Southern Africa   </td></tr>\n",
              "\t<tr><th scope=row>9409</th><td>Sweden              </td><td>2010</td><td> 2.5</td><td>81.6</td><td>1.99</td><td>  9382297</td><td>3.048587e+11</td><td>Europe  </td><td>Northern Europe   </td></tr>\n",
              "\t<tr><th scope=row>9410</th><td>Switzerland         </td><td>2010</td><td> 3.9</td><td>82.3</td><td>1.50</td><td>  7830534</td><td>2.947487e+11</td><td>Europe  </td><td>Western Europe    </td></tr>\n",
              "\t<tr><th scope=row>9411</th><td>Syria               </td><td>2010</td><td>13.2</td><td>76.5</td><td>3.08</td><td> 20720602</td><td>3.119763e+10</td><td>Asia    </td><td>Western Asia      </td></tr>\n",
              "\t<tr><th scope=row>9412</th><td>Tajikistan          </td><td>2010</td><td>44.7</td><td>70.1</td><td>3.78</td><td>  7581696</td><td>1.918729e+09</td><td>Asia    </td><td>Central Asia      </td></tr>\n",
              "\t<tr><th scope=row>9413</th><td>Tanzania            </td><td>2010</td><td>42.4</td><td>61.4</td><td>5.43</td><td> 45648525</td><td>1.996568e+10</td><td>Africa  </td><td>Eastern Africa    </td></tr>\n",
              "\t<tr><th scope=row>9414</th><td>Thailand            </td><td>2010</td><td>12.5</td><td>74.2</td><td>1.44</td><td> 66692024</td><td>1.874946e+11</td><td>Asia    </td><td>South-Eastern Asia</td></tr>\n",
              "\t<tr><th scope=row>9415</th><td>Timor-Leste         </td><td>2010</td><td>53.1</td><td>70.8</td><td>6.24</td><td>  1057122</td><td>4.805401e+08</td><td>Asia    </td><td>South-Eastern Asia</td></tr>\n",
              "\t<tr><th scope=row>9416</th><td>Togo                </td><td>2010</td><td>59.3</td><td>58.7</td><td>4.79</td><td>  6390851</td><td>1.595793e+09</td><td>Africa  </td><td>Western Africa    </td></tr>\n",
              "\t<tr><th scope=row>9417</th><td>Tonga               </td><td>2010</td><td>15.0</td><td>70.7</td><td>3.91</td><td>   103947</td><td>2.106294e+08</td><td>Oceania </td><td>Polynesia         </td></tr>\n",
              "\t<tr><th scope=row>9418</th><td>Trinidad and Tobago </td><td>2010</td><td>21.0</td><td>71.8</td><td>1.80</td><td>  1328095</td><td>1.410353e+10</td><td>Americas</td><td>Caribbean         </td></tr>\n",
              "\t<tr><th scope=row>9419</th><td>Tunisia             </td><td>2010</td><td>14.9</td><td>77.1</td><td>2.04</td><td> 10639194</td><td>3.316145e+10</td><td>Africa  </td><td>Northern Africa   </td></tr>\n",
              "\t<tr><th scope=row>9420</th><td>Turkey              </td><td>2010</td><td>16.4</td><td>78.8</td><td>2.10</td><td> 72310416</td><td>3.896615e+11</td><td>Asia    </td><td>Western Asia      </td></tr>\n",
              "\t<tr><th scope=row>9421</th><td>Turkmenistan        </td><td>2010</td><td>50.4</td><td>68.1</td><td>2.41</td><td>  5041995</td><td>1.039724e+10</td><td>Asia    </td><td>Central Asia      </td></tr>\n",
              "\t<tr><th scope=row>9422</th><td>Uganda              </td><td>2010</td><td>49.5</td><td>57.8</td><td>6.16</td><td> 33149417</td><td>1.270110e+10</td><td>Africa  </td><td>Eastern Africa    </td></tr>\n",
              "\t<tr><th scope=row>9423</th><td>Ukraine             </td><td>2010</td><td>10.1</td><td>70.5</td><td>1.44</td><td> 45647497</td><td>4.751482e+10</td><td>Europe  </td><td>Eastern Europe    </td></tr>\n",
              "\t<tr><th scope=row>9424</th><td>United Arab Emirates</td><td>2010</td><td> 7.3</td><td>75.6</td><td>1.87</td><td>  8329453</td><td>1.584085e+11</td><td>Asia    </td><td>Western Asia      </td></tr>\n",
              "\t<tr><th scope=row>9425</th><td>United Kingdom      </td><td>2010</td><td> 4.4</td><td>80.2</td><td>1.90</td><td> 62716684</td><td>1.744580e+12</td><td>Europe  </td><td>Northern Europe   </td></tr>\n",
              "\t<tr><th scope=row>9426</th><td>United States       </td><td>2010</td><td> 6.3</td><td>78.8</td><td>1.93</td><td>309876170</td><td>1.154791e+13</td><td>Americas</td><td>Northern America  </td></tr>\n",
              "\t<tr><th scope=row>9427</th><td>Uruguay             </td><td>2010</td><td>10.6</td><td>76.2</td><td>2.08</td><td>  3374414</td><td>3.053415e+10</td><td>Americas</td><td>South America     </td></tr>\n",
              "\t<tr><th scope=row>9428</th><td>Uzbekistan          </td><td>2010</td><td>39.6</td><td>70.2</td><td>2.41</td><td> 27739764</td><td>2.689641e+10</td><td>Asia    </td><td>Central Asia      </td></tr>\n",
              "\t<tr><th scope=row>9429</th><td>Vanuatu             </td><td>2010</td><td>23.9</td><td>63.9</td><td>3.50</td><td>   236299</td><td>3.705495e+08</td><td>Oceania </td><td>Melanesia         </td></tr>\n",
              "\t<tr><th scope=row>9430</th><td>Venezuela           </td><td>2010</td><td>14.3</td><td>74.9</td><td>2.47</td><td> 28995745</td><td>1.594048e+11</td><td>Americas</td><td>South America     </td></tr>\n",
              "\t<tr><th scope=row>9431</th><td>West Bank and Gaza  </td><td>2010</td><td>20.2</td><td>74.3</td><td>4.22</td><td>  4068780</td><td>          NA</td><td>Asia    </td><td>Western Asia      </td></tr>\n",
              "\t<tr><th scope=row>9432</th><td>Vietnam             </td><td>2010</td><td>19.8</td><td>74.5</td><td>1.82</td><td> 88357775</td><td>6.283222e+10</td><td>Asia    </td><td>South-Eastern Asia</td></tr>\n",
              "\t<tr><th scope=row>9433</th><td>Yemen               </td><td>2010</td><td>42.4</td><td>66.6</td><td>4.50</td><td> 23591972</td><td>1.463827e+10</td><td>Asia    </td><td>Western Asia      </td></tr>\n",
              "\t<tr><th scope=row>9434</th><td>Zambia              </td><td>2010</td><td>52.9</td><td>53.1</td><td>5.81</td><td> 13917439</td><td>5.587390e+09</td><td>Africa  </td><td>Eastern Africa    </td></tr>\n",
              "\t<tr><th scope=row>9435</th><td>Zimbabwe            </td><td>2010</td><td>55.8</td><td>49.1</td><td>3.72</td><td> 13973897</td><td>4.032423e+09</td><td>Africa  </td><td>Eastern Africa    </td></tr>\n",
              "</tbody>\n",
              "</table>\n"
            ],
            "text/markdown": "\nA data.frame: 185 × 9\n\n| <!--/--> | country &lt;fct&gt; | year &lt;int&gt; | infant_mortality &lt;dbl&gt; | life_expectancy &lt;dbl&gt; | fertility &lt;dbl&gt; | population &lt;dbl&gt; | gdp &lt;dbl&gt; | continent &lt;fct&gt; | region &lt;fct&gt; |\n|---|---|---|---|---|---|---|---|---|---|\n| 9251 | Albania                | 2010 |  14.8 | 77.20 | 1.74 |   2901883 |   6137563946 | Europe   | Southern Europe           |\n| 9252 | Algeria                | 2010 |  23.5 | 76.00 | 2.82 |  36036159 |  79164339611 | Africa   | Northern Africa           |\n| 9253 | Angola                 | 2010 | 109.6 | 57.60 | 6.22 |  21219954 |  26125663270 | Africa   | Middle Africa             |\n| 9254 | Antigua and Barbuda    | 2010 |   7.7 | 75.80 | 2.13 |     87233 |    836686777 | Americas | Caribbean                 |\n| 9255 | Argentina              | 2010 |  13.0 | 75.80 | 2.22 |  41222875 | 434405530244 | Americas | South America             |\n| 9256 | Armenia                | 2010 |  16.1 | 73.00 | 1.55 |   2963496 |   4102285513 | Asia     | Western Asia              |\n| 9257 | Aruba                  | 2010 |    NA | 75.06 | 1.70 |    101597 |           NA | Americas | Caribbean                 |\n| 9258 | Australia              | 2010 |   4.1 | 82.00 | 1.89 |  22162863 | 563049439185 | Oceania  | Australia and New Zealand |\n| 9259 | Austria                | 2010 |   3.6 | 80.50 | 1.44 |   8391986 | 223954137424 | Europe   | Western Europe            |\n| 9260 | Azerbaijan             | 2010 |  33.9 | 70.10 | 1.97 |   9099893 |  21230696679 | Asia     | Western Asia              |\n| 9261 | Bahamas                | 2010 |  11.4 | 72.70 | 1.90 |    360830 |   6650151639 | Americas | Caribbean                 |\n| 9262 | Bahrain                | 2010 |   7.1 | 78.70 | 2.14 |   1261319 |  14178489076 | Asia     | Western Asia              |\n| 9263 | Bangladesh             | 2010 |  39.2 | 68.80 | 2.28 | 151616777 |  82979485251 | Asia     | Southern Asia             |\n| 9264 | Barbados               | 2010 |  13.6 | 75.20 | 1.84 |    279566 |           NA | Americas | Caribbean                 |\n| 9265 | Belarus                | 2010 |   4.7 | 70.20 | 1.46 |   9492122 |  26002131603 | Europe   | Eastern Europe            |\n| 9266 | Belgium                | 2010 |   3.6 | 80.10 | 1.84 |  10929978 | 267143096398 | Europe   | Western Europe            |\n| 9267 | Belize                 | 2010 |  16.3 | 71.20 | 2.80 |    321609 |   1221526439 | Americas | Central America           |\n| 9268 | Benin                  | 2010 |  71.0 | 60.80 | 5.10 |   9509798 |   3336801340 | Africa   | Western Africa            |\n| 9269 | Bhutan                 | 2010 |  34.1 | 71.40 | 2.38 |    720246 |    961365502 | Asia     | Southern Asia             |\n| 9270 | Bolivia                | 2010 |  36.8 | 71.80 | 3.36 |   9918245 |  12240412986 | Americas | South America             |\n| 9271 | Bosnia and Herzegovina | 2010 |   6.4 | 77.90 | 1.24 |   3835258 |   8209376700 | Europe   | Southern Europe           |\n| 9272 | Botswana               | 2010 |  39.8 | 55.60 | 2.76 |   2047831 |   8408166868 | Africa   | Southern Africa           |\n| 9273 | Brazil                 | 2010 |  14.8 | 73.60 | 1.84 | 198614208 | 919487274118 | Americas | South America             |\n| 9274 | Brunei                 | 2010 |   7.7 | 77.10 | 2.05 |    393302 |   6871522907 | Asia     | South-Eastern Asia        |\n| 9275 | Bulgaria               | 2010 |  11.2 | 73.70 | 1.49 |   7407297 |  19246713609 | Europe   | Eastern Europe            |\n| 9276 | Burkina Faso           | 2010 |  69.7 | 59.00 | 5.87 |  15632066 |   4655655008 | Africa   | Western Africa            |\n| 9277 | Burundi                | 2010 |  63.8 | 60.40 | 6.30 |   9461117 |   1158914103 | Africa   | Eastern Africa            |\n| 9278 | Cambodia               | 2010 |  36.7 | 67.00 | 2.97 |  14363586 |   7888819881 | Asia     | South-Eastern Asia        |\n| 9279 | Cameroon               | 2010 |  66.2 | 57.80 | 5.02 |  20590666 |  13986616694 | Africa   | Middle Africa             |\n| 9280 | Canada                 | 2010 |   4.9 | 81.30 | 1.63 |  34126173 | 872784483603 | Americas | Northern America          |\n| ⋮ | ⋮ | ⋮ | ⋮ | ⋮ | ⋮ | ⋮ | ⋮ | ⋮ | ⋮ |\n| 9406 | Sudan                | 2010 | 53.3 | 66.1 | 4.64 |  36114885 | 2.281908e+10 | Africa   | Northern Africa    |\n| 9407 | Suriname             | 2010 | 22.1 | 70.7 | 2.35 |    518141 | 1.436104e+09 | Americas | South America      |\n| 9408 | Swaziland            | 2010 | 59.1 | 46.4 | 3.56 |   1193148 | 1.911603e+09 | Africa   | Southern Africa    |\n| 9409 | Sweden               | 2010 |  2.5 | 81.6 | 1.99 |   9382297 | 3.048587e+11 | Europe   | Northern Europe    |\n| 9410 | Switzerland          | 2010 |  3.9 | 82.3 | 1.50 |   7830534 | 2.947487e+11 | Europe   | Western Europe     |\n| 9411 | Syria                | 2010 | 13.2 | 76.5 | 3.08 |  20720602 | 3.119763e+10 | Asia     | Western Asia       |\n| 9412 | Tajikistan           | 2010 | 44.7 | 70.1 | 3.78 |   7581696 | 1.918729e+09 | Asia     | Central Asia       |\n| 9413 | Tanzania             | 2010 | 42.4 | 61.4 | 5.43 |  45648525 | 1.996568e+10 | Africa   | Eastern Africa     |\n| 9414 | Thailand             | 2010 | 12.5 | 74.2 | 1.44 |  66692024 | 1.874946e+11 | Asia     | South-Eastern Asia |\n| 9415 | Timor-Leste          | 2010 | 53.1 | 70.8 | 6.24 |   1057122 | 4.805401e+08 | Asia     | South-Eastern Asia |\n| 9416 | Togo                 | 2010 | 59.3 | 58.7 | 4.79 |   6390851 | 1.595793e+09 | Africa   | Western Africa     |\n| 9417 | Tonga                | 2010 | 15.0 | 70.7 | 3.91 |    103947 | 2.106294e+08 | Oceania  | Polynesia          |\n| 9418 | Trinidad and Tobago  | 2010 | 21.0 | 71.8 | 1.80 |   1328095 | 1.410353e+10 | Americas | Caribbean          |\n| 9419 | Tunisia              | 2010 | 14.9 | 77.1 | 2.04 |  10639194 | 3.316145e+10 | Africa   | Northern Africa    |\n| 9420 | Turkey               | 2010 | 16.4 | 78.8 | 2.10 |  72310416 | 3.896615e+11 | Asia     | Western Asia       |\n| 9421 | Turkmenistan         | 2010 | 50.4 | 68.1 | 2.41 |   5041995 | 1.039724e+10 | Asia     | Central Asia       |\n| 9422 | Uganda               | 2010 | 49.5 | 57.8 | 6.16 |  33149417 | 1.270110e+10 | Africa   | Eastern Africa     |\n| 9423 | Ukraine              | 2010 | 10.1 | 70.5 | 1.44 |  45647497 | 4.751482e+10 | Europe   | Eastern Europe     |\n| 9424 | United Arab Emirates | 2010 |  7.3 | 75.6 | 1.87 |   8329453 | 1.584085e+11 | Asia     | Western Asia       |\n| 9425 | United Kingdom       | 2010 |  4.4 | 80.2 | 1.90 |  62716684 | 1.744580e+12 | Europe   | Northern Europe    |\n| 9426 | United States        | 2010 |  6.3 | 78.8 | 1.93 | 309876170 | 1.154791e+13 | Americas | Northern America   |\n| 9427 | Uruguay              | 2010 | 10.6 | 76.2 | 2.08 |   3374414 | 3.053415e+10 | Americas | South America      |\n| 9428 | Uzbekistan           | 2010 | 39.6 | 70.2 | 2.41 |  27739764 | 2.689641e+10 | Asia     | Central Asia       |\n| 9429 | Vanuatu              | 2010 | 23.9 | 63.9 | 3.50 |    236299 | 3.705495e+08 | Oceania  | Melanesia          |\n| 9430 | Venezuela            | 2010 | 14.3 | 74.9 | 2.47 |  28995745 | 1.594048e+11 | Americas | South America      |\n| 9431 | West Bank and Gaza   | 2010 | 20.2 | 74.3 | 4.22 |   4068780 |           NA | Asia     | Western Asia       |\n| 9432 | Vietnam              | 2010 | 19.8 | 74.5 | 1.82 |  88357775 | 6.283222e+10 | Asia     | South-Eastern Asia |\n| 9433 | Yemen                | 2010 | 42.4 | 66.6 | 4.50 |  23591972 | 1.463827e+10 | Asia     | Western Asia       |\n| 9434 | Zambia               | 2010 | 52.9 | 53.1 | 5.81 |  13917439 | 5.587390e+09 | Africa   | Eastern Africa     |\n| 9435 | Zimbabwe             | 2010 | 55.8 | 49.1 | 3.72 |  13973897 | 4.032423e+09 | Africa   | Eastern Africa     |\n\n",
            "text/latex": "A data.frame: 185 × 9\n\\begin{tabular}{r|lllllllll}\n  & country & year & infant\\_mortality & life\\_expectancy & fertility & population & gdp & continent & region\\\\\n  & <fct> & <int> & <dbl> & <dbl> & <dbl> & <dbl> & <dbl> & <fct> & <fct>\\\\\n\\hline\n\t9251 & Albania                & 2010 &  14.8 & 77.20 & 1.74 &   2901883 &   6137563946 & Europe   & Southern Europe          \\\\\n\t9252 & Algeria                & 2010 &  23.5 & 76.00 & 2.82 &  36036159 &  79164339611 & Africa   & Northern Africa          \\\\\n\t9253 & Angola                 & 2010 & 109.6 & 57.60 & 6.22 &  21219954 &  26125663270 & Africa   & Middle Africa            \\\\\n\t9254 & Antigua and Barbuda    & 2010 &   7.7 & 75.80 & 2.13 &     87233 &    836686777 & Americas & Caribbean                \\\\\n\t9255 & Argentina              & 2010 &  13.0 & 75.80 & 2.22 &  41222875 & 434405530244 & Americas & South America            \\\\\n\t9256 & Armenia                & 2010 &  16.1 & 73.00 & 1.55 &   2963496 &   4102285513 & Asia     & Western Asia             \\\\\n\t9257 & Aruba                  & 2010 &    NA & 75.06 & 1.70 &    101597 &           NA & Americas & Caribbean                \\\\\n\t9258 & Australia              & 2010 &   4.1 & 82.00 & 1.89 &  22162863 & 563049439185 & Oceania  & Australia and New Zealand\\\\\n\t9259 & Austria                & 2010 &   3.6 & 80.50 & 1.44 &   8391986 & 223954137424 & Europe   & Western Europe           \\\\\n\t9260 & Azerbaijan             & 2010 &  33.9 & 70.10 & 1.97 &   9099893 &  21230696679 & Asia     & Western Asia             \\\\\n\t9261 & Bahamas                & 2010 &  11.4 & 72.70 & 1.90 &    360830 &   6650151639 & Americas & Caribbean                \\\\\n\t9262 & Bahrain                & 2010 &   7.1 & 78.70 & 2.14 &   1261319 &  14178489076 & Asia     & Western Asia             \\\\\n\t9263 & Bangladesh             & 2010 &  39.2 & 68.80 & 2.28 & 151616777 &  82979485251 & Asia     & Southern Asia            \\\\\n\t9264 & Barbados               & 2010 &  13.6 & 75.20 & 1.84 &    279566 &           NA & Americas & Caribbean                \\\\\n\t9265 & Belarus                & 2010 &   4.7 & 70.20 & 1.46 &   9492122 &  26002131603 & Europe   & Eastern Europe           \\\\\n\t9266 & Belgium                & 2010 &   3.6 & 80.10 & 1.84 &  10929978 & 267143096398 & Europe   & Western Europe           \\\\\n\t9267 & Belize                 & 2010 &  16.3 & 71.20 & 2.80 &    321609 &   1221526439 & Americas & Central America          \\\\\n\t9268 & Benin                  & 2010 &  71.0 & 60.80 & 5.10 &   9509798 &   3336801340 & Africa   & Western Africa           \\\\\n\t9269 & Bhutan                 & 2010 &  34.1 & 71.40 & 2.38 &    720246 &    961365502 & Asia     & Southern Asia            \\\\\n\t9270 & Bolivia                & 2010 &  36.8 & 71.80 & 3.36 &   9918245 &  12240412986 & Americas & South America            \\\\\n\t9271 & Bosnia and Herzegovina & 2010 &   6.4 & 77.90 & 1.24 &   3835258 &   8209376700 & Europe   & Southern Europe          \\\\\n\t9272 & Botswana               & 2010 &  39.8 & 55.60 & 2.76 &   2047831 &   8408166868 & Africa   & Southern Africa          \\\\\n\t9273 & Brazil                 & 2010 &  14.8 & 73.60 & 1.84 & 198614208 & 919487274118 & Americas & South America            \\\\\n\t9274 & Brunei                 & 2010 &   7.7 & 77.10 & 2.05 &    393302 &   6871522907 & Asia     & South-Eastern Asia       \\\\\n\t9275 & Bulgaria               & 2010 &  11.2 & 73.70 & 1.49 &   7407297 &  19246713609 & Europe   & Eastern Europe           \\\\\n\t9276 & Burkina Faso           & 2010 &  69.7 & 59.00 & 5.87 &  15632066 &   4655655008 & Africa   & Western Africa           \\\\\n\t9277 & Burundi                & 2010 &  63.8 & 60.40 & 6.30 &   9461117 &   1158914103 & Africa   & Eastern Africa           \\\\\n\t9278 & Cambodia               & 2010 &  36.7 & 67.00 & 2.97 &  14363586 &   7888819881 & Asia     & South-Eastern Asia       \\\\\n\t9279 & Cameroon               & 2010 &  66.2 & 57.80 & 5.02 &  20590666 &  13986616694 & Africa   & Middle Africa            \\\\\n\t9280 & Canada                 & 2010 &   4.9 & 81.30 & 1.63 &  34126173 & 872784483603 & Americas & Northern America         \\\\\n\t⋮ & ⋮ & ⋮ & ⋮ & ⋮ & ⋮ & ⋮ & ⋮ & ⋮ & ⋮\\\\\n\t9406 & Sudan                & 2010 & 53.3 & 66.1 & 4.64 &  36114885 & 2.281908e+10 & Africa   & Northern Africa   \\\\\n\t9407 & Suriname             & 2010 & 22.1 & 70.7 & 2.35 &    518141 & 1.436104e+09 & Americas & South America     \\\\\n\t9408 & Swaziland            & 2010 & 59.1 & 46.4 & 3.56 &   1193148 & 1.911603e+09 & Africa   & Southern Africa   \\\\\n\t9409 & Sweden               & 2010 &  2.5 & 81.6 & 1.99 &   9382297 & 3.048587e+11 & Europe   & Northern Europe   \\\\\n\t9410 & Switzerland          & 2010 &  3.9 & 82.3 & 1.50 &   7830534 & 2.947487e+11 & Europe   & Western Europe    \\\\\n\t9411 & Syria                & 2010 & 13.2 & 76.5 & 3.08 &  20720602 & 3.119763e+10 & Asia     & Western Asia      \\\\\n\t9412 & Tajikistan           & 2010 & 44.7 & 70.1 & 3.78 &   7581696 & 1.918729e+09 & Asia     & Central Asia      \\\\\n\t9413 & Tanzania             & 2010 & 42.4 & 61.4 & 5.43 &  45648525 & 1.996568e+10 & Africa   & Eastern Africa    \\\\\n\t9414 & Thailand             & 2010 & 12.5 & 74.2 & 1.44 &  66692024 & 1.874946e+11 & Asia     & South-Eastern Asia\\\\\n\t9415 & Timor-Leste          & 2010 & 53.1 & 70.8 & 6.24 &   1057122 & 4.805401e+08 & Asia     & South-Eastern Asia\\\\\n\t9416 & Togo                 & 2010 & 59.3 & 58.7 & 4.79 &   6390851 & 1.595793e+09 & Africa   & Western Africa    \\\\\n\t9417 & Tonga                & 2010 & 15.0 & 70.7 & 3.91 &    103947 & 2.106294e+08 & Oceania  & Polynesia         \\\\\n\t9418 & Trinidad and Tobago  & 2010 & 21.0 & 71.8 & 1.80 &   1328095 & 1.410353e+10 & Americas & Caribbean         \\\\\n\t9419 & Tunisia              & 2010 & 14.9 & 77.1 & 2.04 &  10639194 & 3.316145e+10 & Africa   & Northern Africa   \\\\\n\t9420 & Turkey               & 2010 & 16.4 & 78.8 & 2.10 &  72310416 & 3.896615e+11 & Asia     & Western Asia      \\\\\n\t9421 & Turkmenistan         & 2010 & 50.4 & 68.1 & 2.41 &   5041995 & 1.039724e+10 & Asia     & Central Asia      \\\\\n\t9422 & Uganda               & 2010 & 49.5 & 57.8 & 6.16 &  33149417 & 1.270110e+10 & Africa   & Eastern Africa    \\\\\n\t9423 & Ukraine              & 2010 & 10.1 & 70.5 & 1.44 &  45647497 & 4.751482e+10 & Europe   & Eastern Europe    \\\\\n\t9424 & United Arab Emirates & 2010 &  7.3 & 75.6 & 1.87 &   8329453 & 1.584085e+11 & Asia     & Western Asia      \\\\\n\t9425 & United Kingdom       & 2010 &  4.4 & 80.2 & 1.90 &  62716684 & 1.744580e+12 & Europe   & Northern Europe   \\\\\n\t9426 & United States        & 2010 &  6.3 & 78.8 & 1.93 & 309876170 & 1.154791e+13 & Americas & Northern America  \\\\\n\t9427 & Uruguay              & 2010 & 10.6 & 76.2 & 2.08 &   3374414 & 3.053415e+10 & Americas & South America     \\\\\n\t9428 & Uzbekistan           & 2010 & 39.6 & 70.2 & 2.41 &  27739764 & 2.689641e+10 & Asia     & Central Asia      \\\\\n\t9429 & Vanuatu              & 2010 & 23.9 & 63.9 & 3.50 &    236299 & 3.705495e+08 & Oceania  & Melanesia         \\\\\n\t9430 & Venezuela            & 2010 & 14.3 & 74.9 & 2.47 &  28995745 & 1.594048e+11 & Americas & South America     \\\\\n\t9431 & West Bank and Gaza   & 2010 & 20.2 & 74.3 & 4.22 &   4068780 &           NA & Asia     & Western Asia      \\\\\n\t9432 & Vietnam              & 2010 & 19.8 & 74.5 & 1.82 &  88357775 & 6.283222e+10 & Asia     & South-Eastern Asia\\\\\n\t9433 & Yemen                & 2010 & 42.4 & 66.6 & 4.50 &  23591972 & 1.463827e+10 & Asia     & Western Asia      \\\\\n\t9434 & Zambia               & 2010 & 52.9 & 53.1 & 5.81 &  13917439 & 5.587390e+09 & Africa   & Eastern Africa    \\\\\n\t9435 & Zimbabwe             & 2010 & 55.8 & 49.1 & 3.72 &  13973897 & 4.032423e+09 & Africa   & Eastern Africa    \\\\\n\\end{tabular}\n",
            "text/plain": [
              "     country                year infant_mortality life_expectancy fertility\n",
              "9251 Albania                2010  14.8            77.20           1.74     \n",
              "9252 Algeria                2010  23.5            76.00           2.82     \n",
              "9253 Angola                 2010 109.6            57.60           6.22     \n",
              "9254 Antigua and Barbuda    2010   7.7            75.80           2.13     \n",
              "9255 Argentina              2010  13.0            75.80           2.22     \n",
              "9256 Armenia                2010  16.1            73.00           1.55     \n",
              "9257 Aruba                  2010    NA            75.06           1.70     \n",
              "9258 Australia              2010   4.1            82.00           1.89     \n",
              "9259 Austria                2010   3.6            80.50           1.44     \n",
              "9260 Azerbaijan             2010  33.9            70.10           1.97     \n",
              "9261 Bahamas                2010  11.4            72.70           1.90     \n",
              "9262 Bahrain                2010   7.1            78.70           2.14     \n",
              "9263 Bangladesh             2010  39.2            68.80           2.28     \n",
              "9264 Barbados               2010  13.6            75.20           1.84     \n",
              "9265 Belarus                2010   4.7            70.20           1.46     \n",
              "9266 Belgium                2010   3.6            80.10           1.84     \n",
              "9267 Belize                 2010  16.3            71.20           2.80     \n",
              "9268 Benin                  2010  71.0            60.80           5.10     \n",
              "9269 Bhutan                 2010  34.1            71.40           2.38     \n",
              "9270 Bolivia                2010  36.8            71.80           3.36     \n",
              "9271 Bosnia and Herzegovina 2010   6.4            77.90           1.24     \n",
              "9272 Botswana               2010  39.8            55.60           2.76     \n",
              "9273 Brazil                 2010  14.8            73.60           1.84     \n",
              "9274 Brunei                 2010   7.7            77.10           2.05     \n",
              "9275 Bulgaria               2010  11.2            73.70           1.49     \n",
              "9276 Burkina Faso           2010  69.7            59.00           5.87     \n",
              "9277 Burundi                2010  63.8            60.40           6.30     \n",
              "9278 Cambodia               2010  36.7            67.00           2.97     \n",
              "9279 Cameroon               2010  66.2            57.80           5.02     \n",
              "9280 Canada                 2010   4.9            81.30           1.63     \n",
              "⋮    ⋮                      ⋮    ⋮                ⋮               ⋮        \n",
              "9406 Sudan                  2010 53.3             66.1            4.64     \n",
              "9407 Suriname               2010 22.1             70.7            2.35     \n",
              "9408 Swaziland              2010 59.1             46.4            3.56     \n",
              "9409 Sweden                 2010  2.5             81.6            1.99     \n",
              "9410 Switzerland            2010  3.9             82.3            1.50     \n",
              "9411 Syria                  2010 13.2             76.5            3.08     \n",
              "9412 Tajikistan             2010 44.7             70.1            3.78     \n",
              "9413 Tanzania               2010 42.4             61.4            5.43     \n",
              "9414 Thailand               2010 12.5             74.2            1.44     \n",
              "9415 Timor-Leste            2010 53.1             70.8            6.24     \n",
              "9416 Togo                   2010 59.3             58.7            4.79     \n",
              "9417 Tonga                  2010 15.0             70.7            3.91     \n",
              "9418 Trinidad and Tobago    2010 21.0             71.8            1.80     \n",
              "9419 Tunisia                2010 14.9             77.1            2.04     \n",
              "9420 Turkey                 2010 16.4             78.8            2.10     \n",
              "9421 Turkmenistan           2010 50.4             68.1            2.41     \n",
              "9422 Uganda                 2010 49.5             57.8            6.16     \n",
              "9423 Ukraine                2010 10.1             70.5            1.44     \n",
              "9424 United Arab Emirates   2010  7.3             75.6            1.87     \n",
              "9425 United Kingdom         2010  4.4             80.2            1.90     \n",
              "9426 United States          2010  6.3             78.8            1.93     \n",
              "9427 Uruguay                2010 10.6             76.2            2.08     \n",
              "9428 Uzbekistan             2010 39.6             70.2            2.41     \n",
              "9429 Vanuatu                2010 23.9             63.9            3.50     \n",
              "9430 Venezuela              2010 14.3             74.9            2.47     \n",
              "9431 West Bank and Gaza     2010 20.2             74.3            4.22     \n",
              "9432 Vietnam                2010 19.8             74.5            1.82     \n",
              "9433 Yemen                  2010 42.4             66.6            4.50     \n",
              "9434 Zambia                 2010 52.9             53.1            5.81     \n",
              "9435 Zimbabwe               2010 55.8             49.1            3.72     \n",
              "     population gdp          continent region                   \n",
              "9251   2901883    6137563946 Europe    Southern Europe          \n",
              "9252  36036159   79164339611 Africa    Northern Africa          \n",
              "9253  21219954   26125663270 Africa    Middle Africa            \n",
              "9254     87233     836686777 Americas  Caribbean                \n",
              "9255  41222875  434405530244 Americas  South America            \n",
              "9256   2963496    4102285513 Asia      Western Asia             \n",
              "9257    101597            NA Americas  Caribbean                \n",
              "9258  22162863  563049439185 Oceania   Australia and New Zealand\n",
              "9259   8391986  223954137424 Europe    Western Europe           \n",
              "9260   9099893   21230696679 Asia      Western Asia             \n",
              "9261    360830    6650151639 Americas  Caribbean                \n",
              "9262   1261319   14178489076 Asia      Western Asia             \n",
              "9263 151616777   82979485251 Asia      Southern Asia            \n",
              "9264    279566            NA Americas  Caribbean                \n",
              "9265   9492122   26002131603 Europe    Eastern Europe           \n",
              "9266  10929978  267143096398 Europe    Western Europe           \n",
              "9267    321609    1221526439 Americas  Central America          \n",
              "9268   9509798    3336801340 Africa    Western Africa           \n",
              "9269    720246     961365502 Asia      Southern Asia            \n",
              "9270   9918245   12240412986 Americas  South America            \n",
              "9271   3835258    8209376700 Europe    Southern Europe          \n",
              "9272   2047831    8408166868 Africa    Southern Africa          \n",
              "9273 198614208  919487274118 Americas  South America            \n",
              "9274    393302    6871522907 Asia      South-Eastern Asia       \n",
              "9275   7407297   19246713609 Europe    Eastern Europe           \n",
              "9276  15632066    4655655008 Africa    Western Africa           \n",
              "9277   9461117    1158914103 Africa    Eastern Africa           \n",
              "9278  14363586    7888819881 Asia      South-Eastern Asia       \n",
              "9279  20590666   13986616694 Africa    Middle Africa            \n",
              "9280  34126173  872784483603 Americas  Northern America         \n",
              "⋮    ⋮          ⋮            ⋮         ⋮                        \n",
              "9406  36114885  2.281908e+10 Africa    Northern Africa          \n",
              "9407    518141  1.436104e+09 Americas  South America            \n",
              "9408   1193148  1.911603e+09 Africa    Southern Africa          \n",
              "9409   9382297  3.048587e+11 Europe    Northern Europe          \n",
              "9410   7830534  2.947487e+11 Europe    Western Europe           \n",
              "9411  20720602  3.119763e+10 Asia      Western Asia             \n",
              "9412   7581696  1.918729e+09 Asia      Central Asia             \n",
              "9413  45648525  1.996568e+10 Africa    Eastern Africa           \n",
              "9414  66692024  1.874946e+11 Asia      South-Eastern Asia       \n",
              "9415   1057122  4.805401e+08 Asia      South-Eastern Asia       \n",
              "9416   6390851  1.595793e+09 Africa    Western Africa           \n",
              "9417    103947  2.106294e+08 Oceania   Polynesia                \n",
              "9418   1328095  1.410353e+10 Americas  Caribbean                \n",
              "9419  10639194  3.316145e+10 Africa    Northern Africa          \n",
              "9420  72310416  3.896615e+11 Asia      Western Asia             \n",
              "9421   5041995  1.039724e+10 Asia      Central Asia             \n",
              "9422  33149417  1.270110e+10 Africa    Eastern Africa           \n",
              "9423  45647497  4.751482e+10 Europe    Eastern Europe           \n",
              "9424   8329453  1.584085e+11 Asia      Western Asia             \n",
              "9425  62716684  1.744580e+12 Europe    Northern Europe          \n",
              "9426 309876170  1.154791e+13 Americas  Northern America         \n",
              "9427   3374414  3.053415e+10 Americas  South America            \n",
              "9428  27739764  2.689641e+10 Asia      Central Asia             \n",
              "9429    236299  3.705495e+08 Oceania   Melanesia                \n",
              "9430  28995745  1.594048e+11 Americas  South America            \n",
              "9431   4068780            NA Asia      Western Asia             \n",
              "9432  88357775  6.283222e+10 Asia      South-Eastern Asia       \n",
              "9433  23591972  1.463827e+10 Asia      Western Asia             \n",
              "9434  13917439  5.587390e+09 Africa    Eastern Africa           \n",
              "9435  13973897  4.032423e+09 Africa    Eastern Africa           "
            ]
          },
          "metadata": {}
        }
      ]
    },
    {
      "cell_type": "markdown",
      "source": [
        "<br>"
      ],
      "metadata": {
        "id": "uXCxkl1H3oQI"
      }
    },
    {
      "cell_type": "markdown",
      "metadata": {
        "id": "iQ8U8wQs3oQK"
      },
      "source": [
        "<font color=red>Task 1.3</font>\n",
        "\n",
        "* Run the script below to remove missing values (`NA`) from the data frame\n",
        "\n",
        "  `gapminder2010 <- na.omit(gapminder2010)`"
      ]
    },
    {
      "cell_type": "code",
      "source": [
        "#1.3\n",
        "gapminder2010 <- na.omit(gapminder2010)"
      ],
      "metadata": {
        "id": "pu1Ynw8XijQo"
      },
      "execution_count": 32,
      "outputs": []
    },
    {
      "cell_type": "markdown",
      "source": [
        "<br>\n",
        "\n",
        "<br>"
      ],
      "metadata": {
        "id": "35feTotSMLa-"
      }
    },
    {
      "cell_type": "markdown",
      "metadata": {
        "id": "70soSJqvMLa-"
      },
      "source": [
        "<br>\n",
        "\n",
        "---"
      ]
    },
    {
      "cell_type": "markdown",
      "metadata": {
        "id": "bvrLjB-MMLa-"
      },
      "source": [
        "####<font color=red>Task 2</font> - Confidence Interval of the Mean"
      ]
    },
    {
      "cell_type": "markdown",
      "metadata": {
        "id": "trL9MwyfMLa-"
      },
      "source": [
        "<font color=red>Task 2.1</font>\n",
        "\n",
        "* Calculate the average life expectancy across countries from the `gapminder2010` dataset\n",
        "\n",
        "* Based on this average, are we able to say if the true average life expectancy across countries is greater than 70? Why/why not?\n",
        "\n",
        "  Hint: The dataset is a sample from the population."
      ]
    },
    {
      "cell_type": "code",
      "source": [
        "#2.1\n",
        "mean_le_2010 <- mean(gapminder2010$life_expectancy)\n",
        "mean_le_2010"
      ],
      "metadata": {
        "id": "uEAhdraDik3d",
        "outputId": "6a38cc8c-ddc4-4607-9779-5c77675a10d1",
        "colab": {
          "base_uri": "https://localhost:8080/",
          "height": 34
        }
      },
      "execution_count": 33,
      "outputs": [
        {
          "output_type": "display_data",
          "data": {
            "text/html": [
              "70.5156069364162"
            ],
            "text/markdown": "70.5156069364162",
            "text/latex": "70.5156069364162",
            "text/plain": [
              "[1] 70.51561"
            ]
          },
          "metadata": {}
        }
      ]
    },
    {
      "cell_type": "markdown",
      "source": [
        "**Task 2.1**<br>\n",
        "* 70.52 is the average for this sample, not the entire population\n",
        "* We need a confidence interval a 95% CI to know if the true average is really greater than 70."
      ],
      "metadata": {
        "id": "XjIYx36LG1Vm"
      }
    },
    {
      "cell_type": "markdown",
      "source": [
        "<br>"
      ],
      "metadata": {
        "id": "CmIr6mNrklN0"
      }
    },
    {
      "cell_type": "markdown",
      "metadata": {
        "id": "Dz7f_tcokniP"
      },
      "source": [
        "<font color=red>Task 2.2</font>\n",
        "\n",
        "* Use bootstrapping with 2000 bootstrap samples to create a 95% confidence interval for the true average life expectancy across countries"
      ]
    },
    {
      "cell_type": "code",
      "source": [
        "#2.2\n",
        "set.seed(100)\n",
        "B <- 2000\n",
        "n <- nrow(gapminder2010)\n",
        "boot_means <- numeric(B)\n",
        "\n",
        "for(i in 1:B){\n",
        "  boot_ind <- sample(1:n, size = n, replace = TRUE)\n",
        "  boot_sample <- gapminder2010$life_expectancy[boot_ind]\n",
        "  boot_means[i] <- mean(boot_sample)\n",
        "}\n",
        "\n",
        "ci_95 <- quantile(boot_means, probs = c(0.025, 0.975))\n",
        "ci_95"
      ],
      "metadata": {
        "id": "9RmcPM04imbu",
        "outputId": "f149a869-4ab9-4119-cc41-a422b6d9ef7f",
        "colab": {
          "base_uri": "https://localhost:8080/",
          "height": 34
        }
      },
      "execution_count": 56,
      "outputs": [
        {
          "output_type": "display_data",
          "data": {
            "text/html": [
              "<style>\n",
              ".dl-inline {width: auto; margin:0; padding: 0}\n",
              ".dl-inline>dt, .dl-inline>dd {float: none; width: auto; display: inline-block}\n",
              ".dl-inline>dt::after {content: \":\\0020\"; padding-right: .5ex}\n",
              ".dl-inline>dt:not(:first-of-type) {padding-left: .5ex}\n",
              "</style><dl class=dl-inline><dt>2.5%</dt><dd>69.247789017341</dd><dt>97.5%</dt><dd>71.7787427745665</dd></dl>\n"
            ],
            "text/markdown": "2.5%\n:   69.24778901734197.5%\n:   71.7787427745665\n\n",
            "text/latex": "\\begin{description*}\n\\item[2.5\\textbackslash{}\\%] 69.247789017341\n\\item[97.5\\textbackslash{}\\%] 71.7787427745665\n\\end{description*}\n",
            "text/plain": [
              "    2.5%    97.5% \n",
              "69.24779 71.77874 "
            ]
          },
          "metadata": {}
        }
      ]
    },
    {
      "cell_type": "markdown",
      "source": [
        "<br>"
      ],
      "metadata": {
        "id": "J-G0rc8llUMt"
      }
    },
    {
      "cell_type": "markdown",
      "metadata": {
        "id": "FCB3__0FqTM4"
      },
      "source": [
        "<font color=red>Task 2.3</font>\n",
        "\n",
        "* Plot a histogram of all of your bootstrap means\n",
        "\n",
        "* Explain this plot using the concept of a sampling distribution"
      ]
    },
    {
      "cell_type": "code",
      "source": [
        "#2.3\n",
        "hist(boot_means, breaks = 30,\n",
        "      main = \"Bootstrap Distribution of Mean Life Expectancy (2010)\",\n",
        "      xlab = \"Bootstrap Means of Life Expectancy\")\n",
        "abline(v = ci_95, col = \"red\", lwd = 2, lty = 2)"
      ],
      "metadata": {
        "id": "9CwsetNEinfn",
        "outputId": "7e4bdaad-adb2-412a-9f94-25a31c83398f",
        "colab": {
          "base_uri": "https://localhost:8080/",
          "height": 437
        }
      },
      "execution_count": 57,
      "outputs": [
        {
          "output_type": "display_data",
          "data": {
            "text/plain": [
              "Plot with title “Bootstrap Distribution of Mean Life Expectancy (2010)”"
            ],
            "image/png": "[encoded data removed]"
          },
          "metadata": {
            "image/png": {
              "width": 420,
              "height": 420
            }
          }
        }
      ]
    },
    {
      "cell_type": "markdown",
      "source": [
        "<br>"
      ],
      "metadata": {
        "id": "ZpJvZ8MIqTM2"
      }
    },
    {
      "cell_type": "markdown",
      "metadata": {
        "id": "GnlP2bc6lUMv"
      },
      "source": [
        "<font color=red>Task 2.4</font>\n",
        "\n",
        "* What is the interpretation of the 95% confidence interval from Task 2.2?"
      ]
    },
    {
      "cell_type": "markdown",
      "source": [
        "**Task 2.4**<br>\n",
        "We are 95% confident that the true average life expectancy across countries in 2010 is between approximately 69 and 72 years."
      ],
      "metadata": {
        "id": "E9AhEYGDO5x2"
      }
    },
    {
      "cell_type": "markdown",
      "source": [
        "<br>"
      ],
      "metadata": {
        "id": "a-wZ4c6ul7yj"
      }
    },
    {
      "cell_type": "markdown",
      "metadata": {
        "id": "ckgdEYC_l7yj"
      },
      "source": [
        "<font color=red>Task 2.5</font>\n",
        "\n",
        "* Is the true average life expectancy across countries significantly different from 70 years?\n",
        "\n",
        "* Is the true average life expectancy across countries significantly different from 68 years?"
      ]
    },
    {
      "cell_type": "markdown",
      "source": [
        "**Task 2.5**<br>\n",
        "* the true average life expectancy across isn't significantly different from 70 years, since 70 is inside your 95% confidence interval (which is about 69 to 72).\n",
        "* the true average life expectancy across countries is significantly different from 68 years, since 68 is outside your 95% confidence interval"
      ],
      "metadata": {
        "id": "lP8qeNRXmvcd"
      }
    },
    {
      "cell_type": "markdown",
      "metadata": {
        "id": "4JbA9-4Hmvce"
      },
      "source": [
        "<font color=red>Task 2.6</font>\n",
        "\n",
        "* Create an 80% confidence interval for the true average life expectancy across countries.\n",
        "\n",
        "  Hint: You don't need to perform the bootstrapping again! Only the quantile calculation.\n",
        "\n",
        "* Is the 80% confidence interval narrow or wider than the 95% confidence interval? Why/why not? Explain your answer."
      ]
    },
    {
      "cell_type": "code",
      "source": [
        "#2.6\n",
        "ci_80 <- quantile(boot_means, probs = c(0.10, 0.90))\n",
        "ci_80"
      ],
      "metadata": {
        "id": "luMg8qcKitQm",
        "outputId": "d3d29950-988e-47a4-c2b1-989b5131aeb4",
        "colab": {
          "base_uri": "https://localhost:8080/",
          "height": 34
        }
      },
      "execution_count": 38,
      "outputs": [
        {
          "output_type": "display_data",
          "data": {
            "text/html": [
              "<style>\n",
              ".dl-inline {width: auto; margin:0; padding: 0}\n",
              ".dl-inline>dt, .dl-inline>dd {float: none; width: auto; display: inline-block}\n",
              ".dl-inline>dt::after {content: \":\\0020\"; padding-right: .5ex}\n",
              ".dl-inline>dt:not(:first-of-type) {padding-left: .5ex}\n",
              "</style><dl class=dl-inline><dt>10%</dt><dd>70.5156069364162</dd><dt>90%</dt><dd>70.5156069364162</dd></dl>\n"
            ],
            "text/markdown": "10%\n:   70.515606936416290%\n:   70.5156069364162\n\n",
            "text/latex": "\\begin{description*}\n\\item[10\\textbackslash{}\\%] 70.5156069364162\n\\item[90\\textbackslash{}\\%] 70.5156069364162\n\\end{description*}\n",
            "text/plain": [
              "     10%      90% \n",
              "70.51561 70.51561 "
            ]
          },
          "metadata": {}
        }
      ]
    },
    {
      "cell_type": "markdown",
      "source": [
        "**Task 2.6** <br>\n",
        "* The 80% confidence interval narrower then the 95%\n",
        "* Smaller confidence level implies a smaller (narrower) interval."
      ],
      "metadata": {
        "id": "x2ZwCPtpRFn6"
      }
    },
    {
      "cell_type": "markdown",
      "source": [
        "<br>\n",
        "\n",
        "<br>"
      ],
      "metadata": {
        "id": "N1u8GaY3mgIw"
      }
    },
    {
      "cell_type": "markdown",
      "metadata": {
        "id": "uyRgAAXvmgIy"
      },
      "source": [
        "\n",
        "---"
      ]
    },
    {
      "cell_type": "markdown",
      "metadata": {
        "id": "dPuEPR9nmgIy"
      },
      "source": [
        "####<font color=red>Task 3</font> - Confidence Interval of other Statistics"
      ]
    },
    {
      "cell_type": "markdown",
      "metadata": {
        "id": "eyS1ciY6mgIz"
      },
      "source": [
        "<font color=red>Task 3.1</font>\n",
        "\n",
        "It turns out we can use bootstrapping to create confidence intervals for most other statistics!\n",
        "\n",
        "* Use bootstrapping with 2000 bootstrap samples to create a 95% confidence interval for the true ***median*** life expectancy across countries"
      ]
    },
    {
      "cell_type": "code",
      "source": [
        "#3.1\n",
        "\n",
        "set.seed(100)\n",
        "B <- 2000\n",
        "boot_medians <- numeric(B)\n",
        "n <- nrow(gapminder2010)\n",
        "\n",
        "for(i in 1:B){\n",
        "  boot_ind  <- sample(1:n, size = n, replace = TRUE)\n",
        "  boot_data <- gapminder2010$life_expectancy[boot_ind]\n",
        "  boot_medians[i] <- median(boot_data)\n",
        "}\n",
        "\n",
        "ci_median_95 <- quantile(boot_medians, probs = c(0.025, 0.975))\n",
        "ci_median_95\n"
      ],
      "metadata": {
        "id": "fKsshxHxiuwa",
        "outputId": "842c63a3-1536-476c-fafe-26a6b7d9437f",
        "colab": {
          "base_uri": "https://localhost:8080/",
          "height": 34
        }
      },
      "execution_count": 58,
      "outputs": [
        {
          "output_type": "display_data",
          "data": {
            "text/html": [
              "<style>\n",
              ".dl-inline {width: auto; margin:0; padding: 0}\n",
              ".dl-inline>dt, .dl-inline>dd {float: none; width: auto; display: inline-block}\n",
              ".dl-inline>dt::after {content: \":\\0020\"; padding-right: .5ex}\n",
              ".dl-inline>dt:not(:first-of-type) {padding-left: .5ex}\n",
              "</style><dl class=dl-inline><dt>2.5%</dt><dd>70.8</dd><dt>97.5%</dt><dd>74.3</dd></dl>\n"
            ],
            "text/markdown": "2.5%\n:   70.897.5%\n:   74.3\n\n",
            "text/latex": "\\begin{description*}\n\\item[2.5\\textbackslash{}\\%] 70.8\n\\item[97.5\\textbackslash{}\\%] 74.3\n\\end{description*}\n",
            "text/plain": [
              " 2.5% 97.5% \n",
              " 70.8  74.3 "
            ]
          },
          "metadata": {}
        }
      ]
    },
    {
      "cell_type": "markdown",
      "source": [
        "<br>"
      ],
      "metadata": {
        "id": "zeg3QExcop1i"
      }
    },
    {
      "cell_type": "markdown",
      "metadata": {
        "id": "P8sfCr7tor07"
      },
      "source": [
        "<font color=red>Task 3.2</font>\n",
        "\n",
        "* What is the interpretation of the 95% confidence interval from Task 3.1?\n",
        "\n",
        "* Conduct a statistical test comparing the true median life expectancy across countries to a life expectancy of 70 years. What is your conclusion?"
      ]
    },
    {
      "cell_type": "markdown",
      "source": [
        "**Task 3.2** <br>\n",
        "* We are 95% confident that the true median life expectancy across countries in 2010 is between approximately 70.8 and 74.3 years.\n",
        "* The true median life expectancy is significantly greater than 70 years.\n",
        "* Since 70 is not included in the 95% CI,\n",
        "* We can reject the idea that the true median is 70 at the 5% significance level."
      ],
      "metadata": {
        "id": "p-8tdob1R1px"
      }
    },
    {
      "cell_type": "markdown",
      "source": [
        "<br>"
      ],
      "metadata": {
        "id": "4T2ut64QpG6H"
      }
    },
    {
      "cell_type": "markdown",
      "metadata": {
        "id": "K9VO27YypG6I"
      },
      "source": [
        "<font color=red>Task 3.3</font>\n",
        "\n",
        "* Use bootstrapping with 2000 bootstrap samples to create a 95% confidence interval for the true ***standard deviation*** of life expectancy across countries"
      ]
    },
    {
      "cell_type": "code",
      "source": [
        "#3.3\n",
        "set.seed(100)\n",
        "B <- 2000\n",
        "boot_sds <- numeric(B)\n",
        "n <- nrow(gapminder2010)\n",
        "\n",
        "for(i in 1:B){\n",
        "  boot_ind  <- sample(1:n, size = n, replace = TRUE)\n",
        "  boot_data <- gapminder2010$life_expectancy[boot_ind]\n",
        "  boot_sds[i] <- sd(boot_data)\n",
        "}\n",
        "\n",
        "ci_sd_95 <- quantile(boot_sds, probs = c(0.025, 0.975))\n",
        "ci_sd_95"
      ],
      "metadata": {
        "id": "mmYtdXnTizU4",
        "outputId": "e5320ef3-9cb5-4dc0-fae5-efa58d7bcb04",
        "colab": {
          "base_uri": "https://localhost:8080/",
          "height": 34
        }
      },
      "execution_count": 41,
      "outputs": [
        {
          "output_type": "display_data",
          "data": {
            "text/html": [
              "<style>\n",
              ".dl-inline {width: auto; margin:0; padding: 0}\n",
              ".dl-inline>dt, .dl-inline>dd {float: none; width: auto; display: inline-block}\n",
              ".dl-inline>dt::after {content: \":\\0020\"; padding-right: .5ex}\n",
              ".dl-inline>dt:not(:first-of-type) {padding-left: .5ex}\n",
              "</style><dl class=dl-inline><dt>2.5%</dt><dd>7.92233217205723</dd><dt>97.5%</dt><dd>10.2490130573261</dd></dl>\n"
            ],
            "text/markdown": "2.5%\n:   7.9223321720572397.5%\n:   10.2490130573261\n\n",
            "text/latex": "\\begin{description*}\n\\item[2.5\\textbackslash{}\\%] 7.92233217205723\n\\item[97.5\\textbackslash{}\\%] 10.2490130573261\n\\end{description*}\n",
            "text/plain": [
              "     2.5%     97.5% \n",
              " 7.922332 10.249013 "
            ]
          },
          "metadata": {}
        }
      ]
    },
    {
      "cell_type": "markdown",
      "source": [
        "<br>"
      ],
      "metadata": {
        "id": "uBGmQNT4pZiS"
      }
    },
    {
      "cell_type": "markdown",
      "metadata": {
        "id": "yFN4pLCspZiS"
      },
      "source": [
        "<font color=red>Task 3.4</font>\n",
        "\n",
        "* Is the true standard deviation of life expectancy significantly greater than 10 years? What is your conclusion?"
      ]
    },
    {
      "cell_type": "markdown",
      "source": [
        "**Task 3.4** <br>\n",
        "* 10 years is inside the confidence interval (7.92, 10.25)\n",
        "* There is no strong evidence that the true standard deviation of life expectancy is significantly greater than 10 years."
      ],
      "metadata": {
        "id": "V-rEWXdvTAAY"
      }
    },
    {
      "cell_type": "markdown",
      "source": [
        "<br>\n",
        "\n",
        "<br>"
      ],
      "metadata": {
        "id": "WSzYWWWmZXK6"
      }
    },
    {
      "cell_type": "markdown",
      "metadata": {
        "id": "Lvhnq3A6ZXK8"
      },
      "source": [
        "\n",
        "---"
      ]
    },
    {
      "cell_type": "markdown",
      "metadata": {
        "id": "sn4GQRlJZXK9"
      },
      "source": [
        "####<font color=red>Task 4</font> - Confidence Intervals to Compare Statistics"
      ]
    },
    {
      "cell_type": "markdown",
      "source": [
        "We can also use boostrapping to create confidence intervals for the difference between statistics!\n",
        "\n",
        "For example, comparing the means between groups."
      ],
      "metadata": {
        "id": "8BQVonQCZk_l"
      }
    },
    {
      "cell_type": "markdown",
      "metadata": {
        "id": "ECd8hGJNZtDy"
      },
      "source": [
        "<font color=red>Task 4.1</font>\n",
        "\n",
        "* Using `ggplot`, plot a boxplot of life expectancy and continent"
      ]
    },
    {
      "cell_type": "code",
      "source": [
        "#4.1\n",
        "ggplot(gapminder2010, aes(x = continent, y = life_expectancy)) +\n",
        "  geom_boxplot() +\n",
        "  labs(\n",
        "    title = \"Boxplot of Life Expectancy by Continent (2010)\",\n",
        "    x = \"Continent\",\n",
        "    y = \"Life Expectancy\"\n",
        "  )"
      ],
      "metadata": {
        "id": "17B5xTpTi2R4",
        "outputId": "9e1b90e9-7bef-4e3f-b6b1-2033d5ac27dc",
        "colab": {
          "base_uri": "https://localhost:8080/",
          "height": 437
        }
      },
      "execution_count": 43,
      "outputs": [
        {
          "output_type": "display_data",
          "data": {
            "text/plain": [
              "plot without title"
            ],
            "image/png": "[encoded data removed]"
          },
          "metadata": {
            "image/png": {
              "width": 420,
              "height": 420
            }
          }
        }
      ]
    },
    {
      "cell_type": "markdown",
      "source": [
        "<br>"
      ],
      "metadata": {
        "id": "3pYUfNecahjY"
      }
    },
    {
      "cell_type": "markdown",
      "metadata": {
        "id": "rTTF_LIvai_f"
      },
      "source": [
        "<font color=red>Task 4.2</font>\n",
        "\n",
        "* Using your boxplot from Task 4.1, ***visually*** compare the average life expectancy between\n",
        "\n",
        "  *  Africa and Americas\n",
        "\n",
        "  *  Americas and Asia\n",
        "\n",
        "You should NOT use the word \"significant\" here since we are NOT performing a statistical test (yet)!"
      ]
    },
    {
      "cell_type": "markdown",
      "source": [
        "**Task 4.2**<br>\n",
        "* The average life expectancy in the Americas seems higher than in Africa, with Africa has more variability and lower values.\n",
        "* The average life expectancy in Asia and the Americas seems similar, although Asia has slightly more variability"
      ],
      "metadata": {
        "id": "unVfibZRWc0V"
      }
    },
    {
      "cell_type": "markdown",
      "source": [
        "<br>"
      ],
      "metadata": {
        "id": "Vos3Dz3mfO2h"
      }
    },
    {
      "cell_type": "markdown",
      "metadata": {
        "id": "1zGz1QbsfO2j"
      },
      "source": [
        "<font color=red>Task 4.3</font>\n",
        "\n",
        "* Calculate the difference in mean life expectancy between\n",
        "\n",
        "  * Africa and the Americas (should be 12.44)\n",
        "\n",
        "  * Asia and the Americas (should be 0.05)"
      ]
    },
    {
      "cell_type": "code",
      "source": [
        "#4.3\n",
        "africa_mean   <- mean(gapminder2010$life_expectancy[gapminder2010$continent == \"Africa\"])\n",
        "americas_mean <- mean(gapminder2010$life_expectancy[gapminder2010$continent == \"Americas\"])\n",
        "\n",
        "diff_africa_americas <- americas_mean - africa_mean\n",
        "diff_africa_americas\n",
        "\n",
        "# Asia vs Americas\n",
        "asia_mean <- mean(gapminder2010$life_expectancy[gapminder2010$continent == \"Asia\"])\n",
        "diff_asia_americas <- asia_mean - americas_mean\n",
        "diff_asia_americas"
      ],
      "metadata": {
        "id": "bfTSpQhsi9uJ",
        "outputId": "e1d0636a-cda0-4834-848e-456558df2901",
        "colab": {
          "base_uri": "https://localhost:8080/",
          "height": 52
        }
      },
      "execution_count": 60,
      "outputs": [
        {
          "output_type": "display_data",
          "data": {
            "text/html": [
              "12.4416454081633"
            ],
            "text/markdown": "12.4416454081633",
            "text/latex": "12.4416454081633",
            "text/plain": [
              "[1] 12.44165"
            ]
          },
          "metadata": {}
        },
        {
          "output_type": "display_data",
          "data": {
            "text/html": [
              "0.0465843023255701"
            ],
            "text/markdown": "0.0465843023255701",
            "text/latex": "0.0465843023255701",
            "text/plain": [
              "[1] 0.0465843"
            ]
          },
          "metadata": {}
        }
      ]
    },
    {
      "cell_type": "markdown",
      "source": [
        "<br>"
      ],
      "metadata": {
        "id": "F6_jdzhbZt7X"
      }
    },
    {
      "cell_type": "markdown",
      "metadata": {
        "id": "6PvivPFTZXK-"
      },
      "source": [
        "<font color=red>Task 4.4</font>\n",
        "\n",
        "* Use bootstrapping with 2000 bootstrap samples to create a 95% confidence interval for the difference in means between Africa and Americas.\n",
        "\n",
        "  Hint: At each `for` loop iteration, calculate the difference between mean life expectancy in Americas and mean life expectancy in Africa. Part of what you need is shown below.\n",
        "\n",
        "  ```\n",
        "  # bootstrap sample of size n\n",
        "  boot_ind  <- sample(1:nrow(gapminder2010), size = n, replace = TRUE)\n",
        "  boot_samp <- gapminder2010[boot_ind,]\n",
        "\n",
        "  # subset life expectancies for africa\n",
        "  africa    <- boot_samp[boot_samp$continent == \"Africa\", \"life_expectancy\"]\n",
        "# subset life expectancies for americas\n",
        "americas  <- boot_samp[boot_samp$continent == \"Americas\", \"life_expectancy\"]\n",
        "\n",
        "  # compute mean difference of single bootstrap sample\n",
        "  boot_stat <- mean(americas) - mean(africa)\n",
        "  ```"
      ]
    },
    {
      "cell_type": "code",
      "source": [
        "# bootstrap sample of size n\n",
        "boot_ind  <- sample(1:nrow(gapminder2010), size = n, replace = TRUE)\n",
        "boot_samp <- gapminder2010[boot_ind,]\n",
        "\n",
        "# subset life expectancies for africa\n",
        "africa    <- boot_samp[boot_samp$continent == \"Africa\", \"life_expectancy\"]\n",
        "# subset life expectancies for americas\n",
        "americas  <- boot_samp[boot_samp$continent == \"Americas\", \"life_expectancy\"]\n",
        "\n",
        "# compute mean difference of single bootstrap sample\n",
        "boot_stat <- mean(americas) - mean(africa)"
      ],
      "metadata": {
        "id": "BdmtRyb4XMUP"
      },
      "execution_count": 59,
      "outputs": []
    },
    {
      "cell_type": "code",
      "source": [
        "#4.4\n",
        "set.seed(100)\n",
        "B <- 2000\n",
        "n <- nrow(gapminder2010)\n",
        "boot_diff_aa <- numeric(B)\n",
        "\n",
        "for(i in 1:B){\n",
        "\n",
        "  boot_ind <- sample(1:n, size = n, replace = TRUE)\n",
        "  boot_samp <- gapminder2010[boot_ind, ]\n",
        "\n",
        "  # subset Africa\n",
        "  africa_samp <- boot_samp[boot_samp$continent == \"Africa\", \"life_expectancy\"]\n",
        "\n",
        "  # subset Americas\n",
        "  americas_samp <- boot_samp[boot_samp$continent == \"Americas\", \"life_expectancy\"]\n",
        "\n",
        "  # difference\n",
        "  boot_diff_aa[i] <- mean(americas_samp) - mean(africa_samp)\n",
        "}\n",
        "\n",
        "# 95% CI\n",
        "ci_diff_aa_95 <- quantile(boot_diff_aa, probs = c(0.025, 0.975), na.rm = TRUE)\n",
        "ci_diff_aa_95"
      ],
      "metadata": {
        "id": "REdYeQcUi_Sz",
        "outputId": "4d839042-af64-4b42-97ab-d3116e32aa42",
        "colab": {
          "base_uri": "https://localhost:8080/",
          "height": 34
        }
      },
      "execution_count": 61,
      "outputs": [
        {
          "output_type": "display_data",
          "data": {
            "text/html": [
              "<style>\n",
              ".dl-inline {width: auto; margin:0; padding: 0}\n",
              ".dl-inline>dt, .dl-inline>dd {float: none; width: auto; display: inline-block}\n",
              ".dl-inline>dt::after {content: \":\\0020\"; padding-right: .5ex}\n",
              ".dl-inline>dt:not(:first-of-type) {padding-left: .5ex}\n",
              "</style><dl class=dl-inline><dt>2.5%</dt><dd>8.63994330357143</dd><dt>97.5%</dt><dd>15.5069727740795</dd></dl>\n"
            ],
            "text/markdown": "2.5%\n:   8.6399433035714397.5%\n:   15.5069727740795\n\n",
            "text/latex": "\\begin{description*}\n\\item[2.5\\textbackslash{}\\%] 8.63994330357143\n\\item[97.5\\textbackslash{}\\%] 15.5069727740795\n\\end{description*}\n",
            "text/plain": [
              "     2.5%     97.5% \n",
              " 8.639943 15.506973 "
            ]
          },
          "metadata": {}
        }
      ]
    },
    {
      "cell_type": "markdown",
      "source": [
        "<br>"
      ],
      "metadata": {
        "id": "HjoQiLYvf9_c"
      }
    },
    {
      "cell_type": "markdown",
      "metadata": {
        "id": "dKNy_d-uf9_c"
      },
      "source": [
        "<font color=red>Task 4.5</font>\n",
        "\n",
        "* Use bootstrapping with 2000 bootstrap samples to create a 95% confidence interval for the difference in means between Asia and Americas."
      ]
    },
    {
      "cell_type": "code",
      "source": [
        "#4.5\n",
        "set.seed(100)\n",
        "B <- 2000\n",
        "boot_diff_as_am <- numeric(B)\n",
        "\n",
        "for(i in 1:B){\n",
        "  boot_ind <- sample(1:n, size = n, replace = TRUE)\n",
        "  boot_samp <- gapminder2010[boot_ind, ]\n",
        "\n",
        "  asia_samp <- boot_samp[boot_samp$continent == \"Asia\", \"life_expectancy\"]\n",
        "  americas_samp <- boot_samp[boot_samp$continent == \"Americas\", \"life_expectancy\"]\n",
        "\n",
        "  boot_diff_as_am[i] <- mean(asia_samp) - mean(americas_samp)\n",
        "}\n",
        "\n",
        "ci_diff_as_am_95 <- quantile(boot_diff_as_am, probs = c(0.025, 0.975), na.rm = TRUE)\n",
        "ci_diff_as_am_95"
      ],
      "metadata": {
        "id": "cuVxWZeNjAR2",
        "outputId": "632607ae-dc49-4534-eab7-e20234904584",
        "colab": {
          "base_uri": "https://localhost:8080/",
          "height": 34
        }
      },
      "execution_count": 47,
      "outputs": [
        {
          "output_type": "display_data",
          "data": {
            "text/html": [
              "<style>\n",
              ".dl-inline {width: auto; margin:0; padding: 0}\n",
              ".dl-inline>dt, .dl-inline>dd {float: none; width: auto; display: inline-block}\n",
              ".dl-inline>dt::after {content: \":\\0020\"; padding-right: .5ex}\n",
              ".dl-inline>dt:not(:first-of-type) {padding-left: .5ex}\n",
              "</style><dl class=dl-inline><dt>2.5%</dt><dd>-2.77972286453383</dd><dt>97.5%</dt><dd>3.83075979344728</dd></dl>\n"
            ],
            "text/markdown": "2.5%\n:   -2.7797228645338397.5%\n:   3.83075979344728\n\n",
            "text/latex": "\\begin{description*}\n\\item[2.5\\textbackslash{}\\%] -2.77972286453383\n\\item[97.5\\textbackslash{}\\%] 3.83075979344728\n\\end{description*}\n",
            "text/plain": [
              "     2.5%     97.5% \n",
              "-2.779723  3.830760 "
            ]
          },
          "metadata": {}
        }
      ]
    },
    {
      "cell_type": "markdown",
      "source": [
        "<br>"
      ],
      "metadata": {
        "id": "WaDZGs8Td78C"
      }
    },
    {
      "cell_type": "markdown",
      "metadata": {
        "id": "ZbJMNZOWd78D"
      },
      "source": [
        "<font color=red>Task 4.6</font>\n",
        "\n",
        "* Is the average life expectancy in the Americas significantly different than the average life expectancy in ***Africa***? Explain using your bootstrap confidence interval\n",
        "\n",
        "* Is the average life expectancy in the Americas significantly different than the average life expectancy in ***Asia***? Explain using your bootstrap confidence interval\n",
        "\n",
        "* Do your conclusions agree with your visual assessment from the boxplot in Task 4.1?"
      ]
    },
    {
      "cell_type": "markdown",
      "source": [
        "**Task 4.6** <br>\n",
        "* Summary\n",
        "   * Africa vs Americas: 95% CI = [8.64, 15.51]\n",
        "   * Asia vs Americas: 95% CI = [-2.78, 3.83]\n",
        "\n",
        "* The average life expectancy in the Americas is significantly higher than in Africa because the 95% bootstrap confidence interval for the difference does not include 0.\n",
        "\n",
        "* The average life expectancy in the Americas is not significantly different from that in Asia because the 95% bootstrap confidence interval for the difference includes 0.\n",
        "\n",
        "* The conclusions from the bootstrap confidence intervals agreeswith the visual assessment from the boxplot. The Americas show a higher average life expectancy than Africa, but similar average life expectancy to Asia."
      ],
      "metadata": {
        "id": "IjeiKQ84X7Y-"
      }
    }
  ],
  "metadata": {
    "colab": {
      "provenance": []
    },
    "kernelspec": {
      "display_name": "R",
      "name": "ir"
    }
  },
  "nbformat": 4,
  "nbformat_minor": 0
}