{
  "cells": [
    {
      "cell_type": "markdown",
      "metadata": {
        "id": "gtETsh5j8vHw"
      },
      "source": [
        "# **Practice 13: Importing/Exporting Data**\n",
        "\n",
        "#### **WRITE YOUR NAME HERE**"
      ]
    },
    {
      "cell_type": "markdown",
      "metadata": {
        "id": "Efu_Sse0Wp6P"
      },
      "source": [
        "---\n",
        "\n",
        "**IMPORTANT**:\n",
        "- Before starting the lab, save a copy to your google drive by navigating to `File > Save a copy in Drive` <br>\n",
        "\n",
        "<br>\n",
        "\n",
        "\n",
        "**Instructions**: Complete the lab below.\n",
        "\n",
        "- <font color=red>Tasks</font> indicated in red must be completed to receive credit\n",
        "- Include all code for your work\n",
        "- Include markdown cells with written answers explaining your work when prompted\n",
        "- **NOTE: Your completed lab must be submitted to Canvas as a .ipynb file by the end of the lab session**\n",
        "---"
      ]
    },
    {
      "cell_type": "markdown",
      "metadata": {
        "id": "wFVxj8nD-yIt"
      },
      "source": [
        "<br>"
      ]
    },
    {
      "cell_type": "markdown",
      "metadata": {
        "id": "omeTfTlN4Npb"
      },
      "source": [
        "####<font color=red>Organized</font>\n",
        "\n",
        "**Answers should be organized in the following format for organization and readability**\n"
      ]
    },
    {
      "cell_type": "markdown",
      "metadata": {
        "id": "uLialHuQ4-vU"
      },
      "source": [
        "<font color=red>Example task 1</font>"
      ]
    },
    {
      "cell_type": "code",
      "execution_count": null,
      "metadata": {
        "id": "Mxff4INi5Evt"
      },
      "outputs": [],
      "source": [
        "# 1.\n",
        "\n",
        "# This will be the code block to answer the first part of a task"
      ]
    },
    {
      "cell_type": "markdown",
      "metadata": {
        "id": "A-GtymRS5Syz"
      },
      "source": [
        "1. This will be the text answer/explanation (if prompted) for the first task"
      ]
    },
    {
      "cell_type": "markdown",
      "metadata": {
        "id": "fDAMP6ZC5Zqp"
      },
      "source": [
        "<font color=red>Example task 2</font>"
      ]
    },
    {
      "cell_type": "code",
      "execution_count": null,
      "metadata": {
        "id": "K94QMtU55Zqp"
      },
      "outputs": [],
      "source": [
        "# 2.\n",
        "\n",
        "# This will be the code block to answer the second part of a task"
      ]
    },
    {
      "cell_type": "markdown",
      "metadata": {
        "id": "xRfvDNu25Zqp"
      },
      "source": [
        "2. This will be the text answer/explanation (if prompted) for the second task"
      ]
    },
    {
      "cell_type": "markdown",
      "metadata": {
        "id": "JIEIhg5I5JfN"
      },
      "source": [
        "<br>\n",
        "\n",
        "Continue this format for the remaining subtasks\n"
      ]
    },
    {
      "cell_type": "markdown",
      "metadata": {
        "id": "rcQECH5y4RiC"
      },
      "source": [
        "<br>"
      ]
    },
    {
      "cell_type": "markdown",
      "source": [
        "---\n",
        "\n",
        "<br>"
      ],
      "metadata": {
        "id": "jFiNcIjpjFs7"
      }
    },
    {
      "cell_type": "markdown",
      "source": [
        "#### Packages"
      ],
      "metadata": {
        "id": "QdyJzDgAsFNZ"
      }
    },
    {
      "cell_type": "code",
      "source": [
        "# install packages\n",
        "install.packages(\"dslabs\")\n",
        "install.packages(\"readxl\")   # imports excel spreadsheets\n",
        "install.packages(\"writexl\")  # exports excel spreadsheets"
      ],
      "metadata": {
        "id": "fYGjK4oX4jSn",
        "outputId": "e415c4e8-247f-4d52-9e4e-9823dd4efc78",
        "colab": {
          "base_uri": "https://localhost:8080/"
        }
      },
      "execution_count": 27,
      "outputs": [
        {
          "output_type": "stream",
          "name": "stderr",
          "text": [
            "Installing package into ‘/usr/local/lib/R/site-library’\n",
            "(as ‘lib’ is unspecified)\n",
            "\n",
            "Installing package into ‘/usr/local/lib/R/site-library’\n",
            "(as ‘lib’ is unspecified)\n",
            "\n",
            "Installing package into ‘/usr/local/lib/R/site-library’\n",
            "(as ‘lib’ is unspecified)\n",
            "\n"
          ]
        }
      ]
    },
    {
      "cell_type": "code",
      "source": [
        "# load libraries\n",
        "library(dslabs)\n",
        "library(readxl)\n",
        "library(writexl)"
      ],
      "metadata": {
        "id": "hyIrgK3amFQl"
      },
      "execution_count": 29,
      "outputs": []
    },
    {
      "cell_type": "markdown",
      "source": [
        "<br>\n",
        "\n",
        "<br>"
      ],
      "metadata": {
        "id": "5hXqBQkzhere"
      }
    },
    {
      "cell_type": "markdown",
      "metadata": {
        "id": "Q4n93wPOXOPB"
      },
      "source": [
        "<br>\n",
        "\n",
        "---"
      ]
    },
    {
      "cell_type": "markdown",
      "metadata": {
        "id": "gFPSdK5aXOPB"
      },
      "source": [
        "####<font color=red>Task 1</font>\n",
        "\n",
        "* The goal of this assignment is to load data contained in separate folder locations.\n",
        "\n",
        "* We will use our knowledge of importing data and directory navigation."
      ]
    },
    {
      "cell_type": "markdown",
      "source": [
        "<br>"
      ],
      "metadata": {
        "id": "KYkm7F8eqmcI"
      }
    },
    {
      "cell_type": "markdown",
      "metadata": {
        "id": "SXTflZVXXOPB"
      },
      "source": [
        "<font color=red>Task 1.1</font> Downloading our data\n",
        "\n",
        "* Run the following script to download our salary data in file directory format\n",
        "\n",
        "  ```\n",
        "  source(\"https://raw.githubusercontent.com/khasenst/datasets_teaching/refs/heads/main/salary_parse.R\")\n",
        "  ```\n"
      ]
    },
    {
      "cell_type": "code",
      "source": [
        "#1.1\n",
        "source(\"https://raw.githubusercontent.com/khasenst/datasets_teaching/refs/heads/main/salary_parse.R\")\n"
      ],
      "metadata": {
        "id": "r1kwWEbUiAH3"
      },
      "execution_count": 9,
      "outputs": []
    },
    {
      "cell_type": "markdown",
      "metadata": {
        "id": "D9Zi7RfgFC7t"
      },
      "source": [
        "<br>"
      ]
    },
    {
      "cell_type": "markdown",
      "metadata": {
        "id": "VdX6RYc8FD0Q"
      },
      "source": [
        "<font color=red>Task 1.2</font>\n",
        "\n",
        "* Use the `getwd()` command to view your current working directory\n",
        "\n",
        "* Use the `list.files()` command to view the files in your current working directory"
      ]
    },
    {
      "cell_type": "code",
      "source": [
        "#1.2\n",
        "getwd()\n",
        "list.files()"
      ],
      "metadata": {
        "colab": {
          "base_uri": "https://localhost:8080/",
          "height": 106
        },
        "id": "p8Ek0o4giuFQ",
        "outputId": "4cdf691e-4e22-470e-829d-facd16df15b9"
      },
      "execution_count": 10,
      "outputs": [
        {
          "output_type": "display_data",
          "data": {
            "text/html": [
              "'/content'"
            ],
            "text/markdown": "'/content'",
            "text/latex": "'/content'",
            "text/plain": [
              "[1] \"/content\""
            ]
          },
          "metadata": {}
        },
        {
          "output_type": "display_data",
          "data": {
            "text/html": [
              "<style>\n",
              ".list-inline {list-style: none; margin:0; padding: 0}\n",
              ".list-inline>li {display: inline-block}\n",
              ".list-inline>li:not(:last-child)::after {content: \"\\00b7\"; padding: 0 .5ex}\n",
              "</style>\n",
              "<ol class=list-inline><li>'salary_data'</li><li>'sample_data'</li></ol>\n"
            ],
            "text/markdown": "1. 'salary_data'\n2. 'sample_data'\n\n\n",
            "text/latex": "\\begin{enumerate*}\n\\item 'salary\\_data'\n\\item 'sample\\_data'\n\\end{enumerate*}\n",
            "text/plain": [
              "[1] \"salary_data\" \"sample_data\""
            ]
          },
          "metadata": {}
        }
      ]
    },
    {
      "cell_type": "markdown",
      "metadata": {
        "id": "PsVmRprFnQ-0"
      },
      "source": [
        "<br>"
      ]
    },
    {
      "cell_type": "markdown",
      "metadata": {
        "id": "KubpQkLZnQ-2"
      },
      "source": [
        "<font color=red>Task 1.3</font>\n",
        "\n",
        "* Use the `setwd()` function to change your current working directory to the `salary_data` folder containing our data\n",
        "\n",
        "* Use `getwd()` to ensure you are in the correct directory\n",
        "\n",
        "* Use the `list.files()` function to view which files are in the `salary_data` folder. What do you observe?"
      ]
    },
    {
      "cell_type": "code",
      "source": [
        "#1.3\n",
        "setwd(\"/content/salary_data\")\n",
        "getwd()\n",
        "list.files()"
      ],
      "metadata": {
        "colab": {
          "base_uri": "https://localhost:8080/",
          "height": 1000
        },
        "id": "BsdIX6g7i9zk",
        "outputId": "916c3952-72ff-491c-b77b-147249c954db"
      },
      "execution_count": 11,
      "outputs": [
        {
          "output_type": "display_data",
          "data": {
            "text/html": [
              "'/content/salary_data'"
            ],
            "text/markdown": "'/content/salary_data'",
            "text/latex": "'/content/salary\\_data'",
            "text/plain": [
              "[1] \"/content/salary_data\""
            ]
          },
          "metadata": {}
        },
        {
          "output_type": "display_data",
          "data": {
            "text/html": [
              "<style>\n",
              ".list-inline {list-style: none; margin:0; padding: 0}\n",
              ".list-inline>li {display: inline-block}\n",
              ".list-inline>li:not(:last-child)::after {content: \"\\00b7\"; padding: 0 .5ex}\n",
              "</style>\n",
              "<ol class=list-inline><li>'Account Manager'</li><li>'Accountant'</li><li>'Administrative Assistant'</li><li>'Back end Developer'</li><li>'Business Analyst'</li><li>'Business Development Manager'</li><li>'Business Intelligence Analyst'</li><li>'CEO'</li><li>'Chief Data Officer'</li><li>'Chief Technology Officer'</li><li>'Content Marketing Manager'</li><li>'Copywriter'</li><li>'Creative Director'</li><li>'Customer Service Manager'</li><li>'Customer Service Rep'</li><li>'Customer Service Representative'</li><li>'Customer Success Manager'</li><li>'Customer Success Rep'</li><li>'Data Analyst'</li><li>'Data Entry Clerk'</li><li>'Data Scientist'</li><li>'Delivery Driver'</li><li>'Developer'</li><li>'Digital Content Producer'</li><li>'Digital Marketing Manager'</li><li>'Digital Marketing Specialist'</li><li>'Director'</li><li>'Director of Business Development'</li><li>'Director of Data Science'</li><li>'Director of Engineering'</li><li>'Director of Finance'</li><li>'Director of HR'</li><li>'Director of Human Capital'</li><li>'Director of Human Resources'</li><li>'Director of Marketing'</li><li>'Director of Operations'</li><li>'Director of Product Management'</li><li>'Director of Sales'</li><li>'Director of Sales and Marketing'</li><li>'Event Coordinator'</li><li>'Financial Advisor'</li><li>'Financial Analyst'</li><li>'Financial Manager'</li><li>'Front end Developer'</li><li>'Front End Developer'</li><li>'Full Stack Engineer'</li><li>'Graphic Designer'</li><li>'Help Desk Analyst'</li><li>'HR Generalist'</li><li>'HR Manager'</li><li>'Human Resources Coordinator'</li><li>'Human Resources Director'</li><li>'Human Resources Manager'</li><li>'IT Manager'</li><li>'IT Support'</li><li>'IT Support Specialist'</li><li>'Junior Account Manager'</li><li>'Junior Accountant'</li><li>'Junior Advertising Coordinator'</li><li>'Junior Business Analyst'</li><li>'Junior Business Development Associate'</li><li>'Junior Business Operations Analyst'</li><li>'Junior Copywriter'</li><li>'Junior Customer Support Specialist'</li><li>'Junior Data Analyst'</li><li>'Junior Data Scientist'</li><li>'Junior Designer'</li><li>'Junior Developer'</li><li>'Junior Financial Advisor'</li><li>'Junior Financial Analyst'</li><li>'Junior HR Coordinator'</li><li>'Junior HR Generalist'</li><li>'Junior Marketing Analyst'</li><li>'Junior Marketing Coordinator'</li><li>'Junior Marketing Manager'</li><li>'Junior Marketing Specialist'</li><li>'Junior Operations Analyst'</li><li>'Junior Operations Coordinator'</li><li>'Junior Operations Manager'</li><li>'Junior Product Manager'</li><li>'Junior Project Manager'</li><li>'Junior Recruiter'</li><li>'Junior Research Scientist'</li><li>'Junior Sales Associate'</li><li>'Junior Sales Representative'</li><li>'Junior Social Media Manager'</li><li>'Junior Social Media Specialist'</li><li>'Junior Software Developer'</li><li>'Junior Software Engineer'</li><li>'Junior UX Designer'</li><li>'Junior Web Designer'</li><li>'Junior Web Developer'</li><li>'Juniour HR Coordinator'</li><li>'Juniour HR Generalist'</li><li>'Marketing Analyst'</li><li>'Marketing Coordinator'</li><li>'Marketing Director'</li><li>'Marketing Manager'</li><li>'Marketing Specialist'</li><li>'Network Engineer'</li><li>'Office Manager'</li><li>'Operations Analyst'</li><li>'Operations Director'</li><li>'Operations Manager'</li><li>'Principal Engineer'</li><li>'Principal Scientist'</li><li>'Product Designer'</li><li>'Product Manager'</li><li>'Product Marketing Manager'</li><li>'Project Engineer'</li><li>'Project Manager'</li><li>'Public Relations Manager'</li><li>'Receptionist'</li><li>'Recruiter'</li><li>'Research Director'</li><li>'Research Scientist'</li><li>'Sales Associate'</li><li>'Sales Director'</li><li>'Sales Executive'</li><li>'Sales Manager'</li><li>'Sales Operations Manager'</li><li>'Sales Representative'</li><li>'Senior Account Executive'</li><li>'Senior Account Manager'</li><li>'Senior Accountant'</li><li>'Senior Business Analyst'</li><li>'Senior Business Development Manager'</li><li>'Senior Consultant'</li><li>'Senior Data Analyst'</li><li>'Senior Data Engineer'</li><li>'Senior Data Scientist'</li><li>'Senior Engineer'</li><li>'Senior Financial Advisor'</li><li>'Senior Financial Analyst'</li><li>'Senior Financial Manager'</li><li>'Senior Graphic Designer'</li><li>'Senior HR Generalist'</li><li>'Senior HR Manager'</li><li>'Senior HR Specialist'</li><li>'Senior Human Resources Coordinator'</li><li>'Senior Human Resources Manager'</li><li>'Senior Human Resources Specialist'</li><li>'Senior IT Consultant'</li><li>'Senior IT Project Manager'</li><li>'Senior IT Support Specialist'</li><li>'Senior Manager'</li><li>'Senior Marketing Analyst'</li><li>'Senior Marketing Coordinator'</li><li>'Senior Marketing Director'</li><li>'Senior Marketing Manager'</li><li>'Senior Marketing Specialist'</li><li>'Senior Operations Analyst'</li><li>'Senior Operations Coordinator'</li><li>'Senior Operations Manager'</li><li>'Senior Product Designer'</li><li>'Senior Product Development Manager'</li><li>'Senior Product Manager'</li><li>'Senior Product Marketing Manager'</li><li>'Senior Project Coordinator'</li><li>'Senior Project Engineer'</li><li>'Senior Project Manager'</li><li>'Senior Quality Assurance Analyst'</li><li>'Senior Research Scientist'</li><li>'Senior Researcher'</li><li>'Senior Sales Manager'</li><li>'Senior Sales Representative'</li><li>'Senior Scientist'</li><li>'Senior Software Architect'</li><li>'Senior Software Developer'</li><li>'Senior Software Engineer'</li><li>'Senior Training Specialist'</li><li>'Senior UX Designer'</li><li>'Social Media Man'</li><li>'Social Media Manager'</li><li>'Social Media Specialist'</li><li>'Software Developer'</li><li>'Software Engineer'</li><li>'Software Engineer Manager'</li><li>'Software Manager'</li><li>'Software Project Manager'</li><li>'Strategy Consultant'</li><li>'Supply Chain Analyst'</li><li>'Supply Chain Manager'</li><li>'Technical Recruiter'</li><li>'Technical Support Specialist'</li><li>'Technical Writer'</li><li>'Training Specialist'</li><li>'UX Designer'</li><li>'UX Researcher'</li><li>'VP of Finance'</li><li>'VP of Operations'</li><li>'Web Developer'</li></ol>\n"
            ],
            "text/markdown": "1. 'Account Manager'\n2. 'Accountant'\n3. 'Administrative Assistant'\n4. 'Back end Developer'\n5. 'Business Analyst'\n6. 'Business Development Manager'\n7. 'Business Intelligence Analyst'\n8. 'CEO'\n9. 'Chief Data Officer'\n10. 'Chief Technology Officer'\n11. 'Content Marketing Manager'\n12. 'Copywriter'\n13. 'Creative Director'\n14. 'Customer Service Manager'\n15. 'Customer Service Rep'\n16. 'Customer Service Representative'\n17. 'Customer Success Manager'\n18. 'Customer Success Rep'\n19. 'Data Analyst'\n20. 'Data Entry Clerk'\n21. 'Data Scientist'\n22. 'Delivery Driver'\n23. 'Developer'\n24. 'Digital Content Producer'\n25. 'Digital Marketing Manager'\n26. 'Digital Marketing Specialist'\n27. 'Director'\n28. 'Director of Business Development'\n29. 'Director of Data Science'\n30. 'Director of Engineering'\n31. 'Director of Finance'\n32. 'Director of HR'\n33. 'Director of Human Capital'\n34. 'Director of Human Resources'\n35. 'Director of Marketing'\n36. 'Director of Operations'\n37. 'Director of Product Management'\n38. 'Director of Sales'\n39. 'Director of Sales and Marketing'\n40. 'Event Coordinator'\n41. 'Financial Advisor'\n42. 'Financial Analyst'\n43. 'Financial Manager'\n44. 'Front end Developer'\n45. 'Front End Developer'\n46. 'Full Stack Engineer'\n47. 'Graphic Designer'\n48. 'Help Desk Analyst'\n49. 'HR Generalist'\n50. 'HR Manager'\n51. 'Human Resources Coordinator'\n52. 'Human Resources Director'\n53. 'Human Resources Manager'\n54. 'IT Manager'\n55. 'IT Support'\n56. 'IT Support Specialist'\n57. 'Junior Account Manager'\n58. 'Junior Accountant'\n59. 'Junior Advertising Coordinator'\n60. 'Junior Business Analyst'\n61. 'Junior Business Development Associate'\n62. 'Junior Business Operations Analyst'\n63. 'Junior Copywriter'\n64. 'Junior Customer Support Specialist'\n65. 'Junior Data Analyst'\n66. 'Junior Data Scientist'\n67. 'Junior Designer'\n68. 'Junior Developer'\n69. 'Junior Financial Advisor'\n70. 'Junior Financial Analyst'\n71. 'Junior HR Coordinator'\n72. 'Junior HR Generalist'\n73. 'Junior Marketing Analyst'\n74. 'Junior Marketing Coordinator'\n75. 'Junior Marketing Manager'\n76. 'Junior Marketing Specialist'\n77. 'Junior Operations Analyst'\n78. 'Junior Operations Coordinator'\n79. 'Junior Operations Manager'\n80. 'Junior Product Manager'\n81. 'Junior Project Manager'\n82. 'Junior Recruiter'\n83. 'Junior Research Scientist'\n84. 'Junior Sales Associate'\n85. 'Junior Sales Representative'\n86. 'Junior Social Media Manager'\n87. 'Junior Social Media Specialist'\n88. 'Junior Software Developer'\n89. 'Junior Software Engineer'\n90. 'Junior UX Designer'\n91. 'Junior Web Designer'\n92. 'Junior Web Developer'\n93. 'Juniour HR Coordinator'\n94. 'Juniour HR Generalist'\n95. 'Marketing Analyst'\n96. 'Marketing Coordinator'\n97. 'Marketing Director'\n98. 'Marketing Manager'\n99. 'Marketing Specialist'\n100. 'Network Engineer'\n101. 'Office Manager'\n102. 'Operations Analyst'\n103. 'Operations Director'\n104. 'Operations Manager'\n105. 'Principal Engineer'\n106. 'Principal Scientist'\n107. 'Product Designer'\n108. 'Product Manager'\n109. 'Product Marketing Manager'\n110. 'Project Engineer'\n111. 'Project Manager'\n112. 'Public Relations Manager'\n113. 'Receptionist'\n114. 'Recruiter'\n115. 'Research Director'\n116. 'Research Scientist'\n117. 'Sales Associate'\n118. 'Sales Director'\n119. 'Sales Executive'\n120. 'Sales Manager'\n121. 'Sales Operations Manager'\n122. 'Sales Representative'\n123. 'Senior Account Executive'\n124. 'Senior Account Manager'\n125. 'Senior Accountant'\n126. 'Senior Business Analyst'\n127. 'Senior Business Development Manager'\n128. 'Senior Consultant'\n129. 'Senior Data Analyst'\n130. 'Senior Data Engineer'\n131. 'Senior Data Scientist'\n132. 'Senior Engineer'\n133. 'Senior Financial Advisor'\n134. 'Senior Financial Analyst'\n135. 'Senior Financial Manager'\n136. 'Senior Graphic Designer'\n137. 'Senior HR Generalist'\n138. 'Senior HR Manager'\n139. 'Senior HR Specialist'\n140. 'Senior Human Resources Coordinator'\n141. 'Senior Human Resources Manager'\n142. 'Senior Human Resources Specialist'\n143. 'Senior IT Consultant'\n144. 'Senior IT Project Manager'\n145. 'Senior IT Support Specialist'\n146. 'Senior Manager'\n147. 'Senior Marketing Analyst'\n148. 'Senior Marketing Coordinator'\n149. 'Senior Marketing Director'\n150. 'Senior Marketing Manager'\n151. 'Senior Marketing Specialist'\n152. 'Senior Operations Analyst'\n153. 'Senior Operations Coordinator'\n154. 'Senior Operations Manager'\n155. 'Senior Product Designer'\n156. 'Senior Product Development Manager'\n157. 'Senior Product Manager'\n158. 'Senior Product Marketing Manager'\n159. 'Senior Project Coordinator'\n160. 'Senior Project Engineer'\n161. 'Senior Project Manager'\n162. 'Senior Quality Assurance Analyst'\n163. 'Senior Research Scientist'\n164. 'Senior Researcher'\n165. 'Senior Sales Manager'\n166. 'Senior Sales Representative'\n167. 'Senior Scientist'\n168. 'Senior Software Architect'\n169. 'Senior Software Developer'\n170. 'Senior Software Engineer'\n171. 'Senior Training Specialist'\n172. 'Senior UX Designer'\n173. 'Social Media Man'\n174. 'Social Media Manager'\n175. 'Social Media Specialist'\n176. 'Software Developer'\n177. 'Software Engineer'\n178. 'Software Engineer Manager'\n179. 'Software Manager'\n180. 'Software Project Manager'\n181. 'Strategy Consultant'\n182. 'Supply Chain Analyst'\n183. 'Supply Chain Manager'\n184. 'Technical Recruiter'\n185. 'Technical Support Specialist'\n186. 'Technical Writer'\n187. 'Training Specialist'\n188. 'UX Designer'\n189. 'UX Researcher'\n190. 'VP of Finance'\n191. 'VP of Operations'\n192. 'Web Developer'\n\n\n",
            "text/latex": "\\begin{enumerate*}\n\\item 'Account Manager'\n\\item 'Accountant'\n\\item 'Administrative Assistant'\n\\item 'Back end Developer'\n\\item 'Business Analyst'\n\\item 'Business Development Manager'\n\\item 'Business Intelligence Analyst'\n\\item 'CEO'\n\\item 'Chief Data Officer'\n\\item 'Chief Technology Officer'\n\\item 'Content Marketing Manager'\n\\item 'Copywriter'\n\\item 'Creative Director'\n\\item 'Customer Service Manager'\n\\item 'Customer Service Rep'\n\\item 'Customer Service Representative'\n\\item 'Customer Success Manager'\n\\item 'Customer Success Rep'\n\\item 'Data Analyst'\n\\item 'Data Entry Clerk'\n\\item 'Data Scientist'\n\\item 'Delivery Driver'\n\\item 'Developer'\n\\item 'Digital Content Producer'\n\\item 'Digital Marketing Manager'\n\\item 'Digital Marketing Specialist'\n\\item 'Director'\n\\item 'Director of Business Development'\n\\item 'Director of Data Science'\n\\item 'Director of Engineering'\n\\item 'Director of Finance'\n\\item 'Director of HR'\n\\item 'Director of Human Capital'\n\\item 'Director of Human Resources'\n\\item 'Director of Marketing'\n\\item 'Director of Operations'\n\\item 'Director of Product Management'\n\\item 'Director of Sales'\n\\item 'Director of Sales and Marketing'\n\\item 'Event Coordinator'\n\\item 'Financial Advisor'\n\\item 'Financial Analyst'\n\\item 'Financial Manager'\n\\item 'Front end Developer'\n\\item 'Front End Developer'\n\\item 'Full Stack Engineer'\n\\item 'Graphic Designer'\n\\item 'Help Desk Analyst'\n\\item 'HR Generalist'\n\\item 'HR Manager'\n\\item 'Human Resources Coordinator'\n\\item 'Human Resources Director'\n\\item 'Human Resources Manager'\n\\item 'IT Manager'\n\\item 'IT Support'\n\\item 'IT Support Specialist'\n\\item 'Junior Account Manager'\n\\item 'Junior Accountant'\n\\item 'Junior Advertising Coordinator'\n\\item 'Junior Business Analyst'\n\\item 'Junior Business Development Associate'\n\\item 'Junior Business Operations Analyst'\n\\item 'Junior Copywriter'\n\\item 'Junior Customer Support Specialist'\n\\item 'Junior Data Analyst'\n\\item 'Junior Data Scientist'\n\\item 'Junior Designer'\n\\item 'Junior Developer'\n\\item 'Junior Financial Advisor'\n\\item 'Junior Financial Analyst'\n\\item 'Junior HR Coordinator'\n\\item 'Junior HR Generalist'\n\\item 'Junior Marketing Analyst'\n\\item 'Junior Marketing Coordinator'\n\\item 'Junior Marketing Manager'\n\\item 'Junior Marketing Specialist'\n\\item 'Junior Operations Analyst'\n\\item 'Junior Operations Coordinator'\n\\item 'Junior Operations Manager'\n\\item 'Junior Product Manager'\n\\item 'Junior Project Manager'\n\\item 'Junior Recruiter'\n\\item 'Junior Research Scientist'\n\\item 'Junior Sales Associate'\n\\item 'Junior Sales Representative'\n\\item 'Junior Social Media Manager'\n\\item 'Junior Social Media Specialist'\n\\item 'Junior Software Developer'\n\\item 'Junior Software Engineer'\n\\item 'Junior UX Designer'\n\\item 'Junior Web Designer'\n\\item 'Junior Web Developer'\n\\item 'Juniour HR Coordinator'\n\\item 'Juniour HR Generalist'\n\\item 'Marketing Analyst'\n\\item 'Marketing Coordinator'\n\\item 'Marketing Director'\n\\item 'Marketing Manager'\n\\item 'Marketing Specialist'\n\\item 'Network Engineer'\n\\item 'Office Manager'\n\\item 'Operations Analyst'\n\\item 'Operations Director'\n\\item 'Operations Manager'\n\\item 'Principal Engineer'\n\\item 'Principal Scientist'\n\\item 'Product Designer'\n\\item 'Product Manager'\n\\item 'Product Marketing Manager'\n\\item 'Project Engineer'\n\\item 'Project Manager'\n\\item 'Public Relations Manager'\n\\item 'Receptionist'\n\\item 'Recruiter'\n\\item 'Research Director'\n\\item 'Research Scientist'\n\\item 'Sales Associate'\n\\item 'Sales Director'\n\\item 'Sales Executive'\n\\item 'Sales Manager'\n\\item 'Sales Operations Manager'\n\\item 'Sales Representative'\n\\item 'Senior Account Executive'\n\\item 'Senior Account Manager'\n\\item 'Senior Accountant'\n\\item 'Senior Business Analyst'\n\\item 'Senior Business Development Manager'\n\\item 'Senior Consultant'\n\\item 'Senior Data Analyst'\n\\item 'Senior Data Engineer'\n\\item 'Senior Data Scientist'\n\\item 'Senior Engineer'\n\\item 'Senior Financial Advisor'\n\\item 'Senior Financial Analyst'\n\\item 'Senior Financial Manager'\n\\item 'Senior Graphic Designer'\n\\item 'Senior HR Generalist'\n\\item 'Senior HR Manager'\n\\item 'Senior HR Specialist'\n\\item 'Senior Human Resources Coordinator'\n\\item 'Senior Human Resources Manager'\n\\item 'Senior Human Resources Specialist'\n\\item 'Senior IT Consultant'\n\\item 'Senior IT Project Manager'\n\\item 'Senior IT Support Specialist'\n\\item 'Senior Manager'\n\\item 'Senior Marketing Analyst'\n\\item 'Senior Marketing Coordinator'\n\\item 'Senior Marketing Director'\n\\item 'Senior Marketing Manager'\n\\item 'Senior Marketing Specialist'\n\\item 'Senior Operations Analyst'\n\\item 'Senior Operations Coordinator'\n\\item 'Senior Operations Manager'\n\\item 'Senior Product Designer'\n\\item 'Senior Product Development Manager'\n\\item 'Senior Product Manager'\n\\item 'Senior Product Marketing Manager'\n\\item 'Senior Project Coordinator'\n\\item 'Senior Project Engineer'\n\\item 'Senior Project Manager'\n\\item 'Senior Quality Assurance Analyst'\n\\item 'Senior Research Scientist'\n\\item 'Senior Researcher'\n\\item 'Senior Sales Manager'\n\\item 'Senior Sales Representative'\n\\item 'Senior Scientist'\n\\item 'Senior Software Architect'\n\\item 'Senior Software Developer'\n\\item 'Senior Software Engineer'\n\\item 'Senior Training Specialist'\n\\item 'Senior UX Designer'\n\\item 'Social Media Man'\n\\item 'Social Media Manager'\n\\item 'Social Media Specialist'\n\\item 'Software Developer'\n\\item 'Software Engineer'\n\\item 'Software Engineer Manager'\n\\item 'Software Manager'\n\\item 'Software Project Manager'\n\\item 'Strategy Consultant'\n\\item 'Supply Chain Analyst'\n\\item 'Supply Chain Manager'\n\\item 'Technical Recruiter'\n\\item 'Technical Support Specialist'\n\\item 'Technical Writer'\n\\item 'Training Specialist'\n\\item 'UX Designer'\n\\item 'UX Researcher'\n\\item 'VP of Finance'\n\\item 'VP of Operations'\n\\item 'Web Developer'\n\\end{enumerate*}\n",
            "text/plain": [
              "  [1] \"Account Manager\"                      \n",
              "  [2] \"Accountant\"                           \n",
              "  [3] \"Administrative Assistant\"             \n",
              "  [4] \"Back end Developer\"                   \n",
              "  [5] \"Business Analyst\"                     \n",
              "  [6] \"Business Development Manager\"         \n",
              "  [7] \"Business Intelligence Analyst\"        \n",
              "  [8] \"CEO\"                                  \n",
              "  [9] \"Chief Data Officer\"                   \n",
              " [10] \"Chief Technology Officer\"             \n",
              " [11] \"Content Marketing Manager\"            \n",
              " [12] \"Copywriter\"                           \n",
              " [13] \"Creative Director\"                    \n",
              " [14] \"Customer Service Manager\"             \n",
              " [15] \"Customer Service Rep\"                 \n",
              " [16] \"Customer Service Representative\"      \n",
              " [17] \"Customer Success Manager\"             \n",
              " [18] \"Customer Success Rep\"                 \n",
              " [19] \"Data Analyst\"                         \n",
              " [20] \"Data Entry Clerk\"                     \n",
              " [21] \"Data Scientist\"                       \n",
              " [22] \"Delivery Driver\"                      \n",
              " [23] \"Developer\"                            \n",
              " [24] \"Digital Content Producer\"             \n",
              " [25] \"Digital Marketing Manager\"            \n",
              " [26] \"Digital Marketing Specialist\"         \n",
              " [27] \"Director\"                             \n",
              " [28] \"Director of Business Development\"     \n",
              " [29] \"Director of Data Science\"             \n",
              " [30] \"Director of Engineering\"              \n",
              " [31] \"Director of Finance\"                  \n",
              " [32] \"Director of HR\"                       \n",
              " [33] \"Director of Human Capital\"            \n",
              " [34] \"Director of Human Resources\"          \n",
              " [35] \"Director of Marketing\"                \n",
              " [36] \"Director of Operations\"               \n",
              " [37] \"Director of Product Management\"       \n",
              " [38] \"Director of Sales\"                    \n",
              " [39] \"Director of Sales and Marketing\"      \n",
              " [40] \"Event Coordinator\"                    \n",
              " [41] \"Financial Advisor\"                    \n",
              " [42] \"Financial Analyst\"                    \n",
              " [43] \"Financial Manager\"                    \n",
              " [44] \"Front end Developer\"                  \n",
              " [45] \"Front End Developer\"                  \n",
              " [46] \"Full Stack Engineer\"                  \n",
              " [47] \"Graphic Designer\"                     \n",
              " [48] \"Help Desk Analyst\"                    \n",
              " [49] \"HR Generalist\"                        \n",
              " [50] \"HR Manager\"                           \n",
              " [51] \"Human Resources Coordinator\"          \n",
              " [52] \"Human Resources Director\"             \n",
              " [53] \"Human Resources Manager\"              \n",
              " [54] \"IT Manager\"                           \n",
              " [55] \"IT Support\"                           \n",
              " [56] \"IT Support Specialist\"                \n",
              " [57] \"Junior Account Manager\"               \n",
              " [58] \"Junior Accountant\"                    \n",
              " [59] \"Junior Advertising Coordinator\"       \n",
              " [60] \"Junior Business Analyst\"              \n",
              " [61] \"Junior Business Development Associate\"\n",
              " [62] \"Junior Business Operations Analyst\"   \n",
              " [63] \"Junior Copywriter\"                    \n",
              " [64] \"Junior Customer Support Specialist\"   \n",
              " [65] \"Junior Data Analyst\"                  \n",
              " [66] \"Junior Data Scientist\"                \n",
              " [67] \"Junior Designer\"                      \n",
              " [68] \"Junior Developer\"                     \n",
              " [69] \"Junior Financial Advisor\"             \n",
              " [70] \"Junior Financial Analyst\"             \n",
              " [71] \"Junior HR Coordinator\"                \n",
              " [72] \"Junior HR Generalist\"                 \n",
              " [73] \"Junior Marketing Analyst\"             \n",
              " [74] \"Junior Marketing Coordinator\"         \n",
              " [75] \"Junior Marketing Manager\"             \n",
              " [76] \"Junior Marketing Specialist\"          \n",
              " [77] \"Junior Operations Analyst\"            \n",
              " [78] \"Junior Operations Coordinator\"        \n",
              " [79] \"Junior Operations Manager\"            \n",
              " [80] \"Junior Product Manager\"               \n",
              " [81] \"Junior Project Manager\"               \n",
              " [82] \"Junior Recruiter\"                     \n",
              " [83] \"Junior Research Scientist\"            \n",
              " [84] \"Junior Sales Associate\"               \n",
              " [85] \"Junior Sales Representative\"          \n",
              " [86] \"Junior Social Media Manager\"          \n",
              " [87] \"Junior Social Media Specialist\"       \n",
              " [88] \"Junior Software Developer\"            \n",
              " [89] \"Junior Software Engineer\"             \n",
              " [90] \"Junior UX Designer\"                   \n",
              " [91] \"Junior Web Designer\"                  \n",
              " [92] \"Junior Web Developer\"                 \n",
              " [93] \"Juniour HR Coordinator\"               \n",
              " [94] \"Juniour HR Generalist\"                \n",
              " [95] \"Marketing Analyst\"                    \n",
              " [96] \"Marketing Coordinator\"                \n",
              " [97] \"Marketing Director\"                   \n",
              " [98] \"Marketing Manager\"                    \n",
              " [99] \"Marketing Specialist\"                 \n",
              "[100] \"Network Engineer\"                     \n",
              "[101] \"Office Manager\"                       \n",
              "[102] \"Operations Analyst\"                   \n",
              "[103] \"Operations Director\"                  \n",
              "[104] \"Operations Manager\"                   \n",
              "[105] \"Principal Engineer\"                   \n",
              "[106] \"Principal Scientist\"                  \n",
              "[107] \"Product Designer\"                     \n",
              "[108] \"Product Manager\"                      \n",
              "[109] \"Product Marketing Manager\"            \n",
              "[110] \"Project Engineer\"                     \n",
              "[111] \"Project Manager\"                      \n",
              "[112] \"Public Relations Manager\"             \n",
              "[113] \"Receptionist\"                         \n",
              "[114] \"Recruiter\"                            \n",
              "[115] \"Research Director\"                    \n",
              "[116] \"Research Scientist\"                   \n",
              "[117] \"Sales Associate\"                      \n",
              "[118] \"Sales Director\"                       \n",
              "[119] \"Sales Executive\"                      \n",
              "[120] \"Sales Manager\"                        \n",
              "[121] \"Sales Operations Manager\"             \n",
              "[122] \"Sales Representative\"                 \n",
              "[123] \"Senior Account Executive\"             \n",
              "[124] \"Senior Account Manager\"               \n",
              "[125] \"Senior Accountant\"                    \n",
              "[126] \"Senior Business Analyst\"              \n",
              "[127] \"Senior Business Development Manager\"  \n",
              "[128] \"Senior Consultant\"                    \n",
              "[129] \"Senior Data Analyst\"                  \n",
              "[130] \"Senior Data Engineer\"                 \n",
              "[131] \"Senior Data Scientist\"                \n",
              "[132] \"Senior Engineer\"                      \n",
              "[133] \"Senior Financial Advisor\"             \n",
              "[134] \"Senior Financial Analyst\"             \n",
              "[135] \"Senior Financial Manager\"             \n",
              "[136] \"Senior Graphic Designer\"              \n",
              "[137] \"Senior HR Generalist\"                 \n",
              "[138] \"Senior HR Manager\"                    \n",
              "[139] \"Senior HR Specialist\"                 \n",
              "[140] \"Senior Human Resources Coordinator\"   \n",
              "[141] \"Senior Human Resources Manager\"       \n",
              "[142] \"Senior Human Resources Specialist\"    \n",
              "[143] \"Senior IT Consultant\"                 \n",
              "[144] \"Senior IT Project Manager\"            \n",
              "[145] \"Senior IT Support Specialist\"         \n",
              "[146] \"Senior Manager\"                       \n",
              "[147] \"Senior Marketing Analyst\"             \n",
              "[148] \"Senior Marketing Coordinator\"         \n",
              "[149] \"Senior Marketing Director\"            \n",
              "[150] \"Senior Marketing Manager\"             \n",
              "[151] \"Senior Marketing Specialist\"          \n",
              "[152] \"Senior Operations Analyst\"            \n",
              "[153] \"Senior Operations Coordinator\"        \n",
              "[154] \"Senior Operations Manager\"            \n",
              "[155] \"Senior Product Designer\"              \n",
              "[156] \"Senior Product Development Manager\"   \n",
              "[157] \"Senior Product Manager\"               \n",
              "[158] \"Senior Product Marketing Manager\"     \n",
              "[159] \"Senior Project Coordinator\"           \n",
              "[160] \"Senior Project Engineer\"              \n",
              "[161] \"Senior Project Manager\"               \n",
              "[162] \"Senior Quality Assurance Analyst\"     \n",
              "[163] \"Senior Research Scientist\"            \n",
              "[164] \"Senior Researcher\"                    \n",
              "[165] \"Senior Sales Manager\"                 \n",
              "[166] \"Senior Sales Representative\"          \n",
              "[167] \"Senior Scientist\"                     \n",
              "[168] \"Senior Software Architect\"            \n",
              "[169] \"Senior Software Developer\"            \n",
              "[170] \"Senior Software Engineer\"             \n",
              "[171] \"Senior Training Specialist\"           \n",
              "[172] \"Senior UX Designer\"                   \n",
              "[173] \"Social Media Man\"                     \n",
              "[174] \"Social Media Manager\"                 \n",
              "[175] \"Social Media Specialist\"              \n",
              "[176] \"Software Developer\"                   \n",
              "[177] \"Software Engineer\"                    \n",
              "[178] \"Software Engineer Manager\"            \n",
              "[179] \"Software Manager\"                     \n",
              "[180] \"Software Project Manager\"             \n",
              "[181] \"Strategy Consultant\"                  \n",
              "[182] \"Supply Chain Analyst\"                 \n",
              "[183] \"Supply Chain Manager\"                 \n",
              "[184] \"Technical Recruiter\"                  \n",
              "[185] \"Technical Support Specialist\"         \n",
              "[186] \"Technical Writer\"                     \n",
              "[187] \"Training Specialist\"                  \n",
              "[188] \"UX Designer\"                          \n",
              "[189] \"UX Researcher\"                        \n",
              "[190] \"VP of Finance\"                        \n",
              "[191] \"VP of Operations\"                     \n",
              "[192] \"Web Developer\"                        "
            ]
          },
          "metadata": {}
        }
      ]
    },
    {
      "cell_type": "markdown",
      "source": [
        "**Task1.3**<br><br>\n",
        "after executing the list.files() function, we get all a list of all the folders inside salary_data."
      ],
      "metadata": {
        "id": "8P-u5rLKjisW"
      }
    },
    {
      "cell_type": "markdown",
      "metadata": {
        "id": "mjhtxAGKnoZj"
      },
      "source": [
        "<br>"
      ]
    },
    {
      "cell_type": "markdown",
      "metadata": {
        "id": "V76VMKSDnoZl"
      },
      "source": [
        "<font color=red>Task 1.4</font>\n",
        "\n",
        "* Use the `list.files()` function to view all the files in the \"Data Scientist\" folder\n",
        "\n",
        "* What type of files are in the folder?\n",
        "\n"
      ]
    },
    {
      "cell_type": "code",
      "source": [
        "#1.4\n",
        "print(list.files(\"/content/salary_data/Data Scientist\" ))"
      ],
      "metadata": {
        "colab": {
          "base_uri": "https://localhost:8080/"
        },
        "id": "XgiQprFgkCNf",
        "outputId": "285e5731-e446-4653-f694-25b9fce96cee"
      },
      "execution_count": 12,
      "outputs": [
        {
          "output_type": "stream",
          "name": "stdout",
          "text": [
            "  [1] \"entry1.csv\"   \"entry10.csv\"  \"entry100.csv\" \"entry101.csv\" \"entry102.csv\"\n",
            "  [6] \"entry103.csv\" \"entry104.csv\" \"entry105.csv\" \"entry106.csv\" \"entry107.csv\"\n",
            " [11] \"entry108.csv\" \"entry109.csv\" \"entry11.csv\"  \"entry110.csv\" \"entry111.csv\"\n",
            " [16] \"entry112.csv\" \"entry113.csv\" \"entry114.csv\" \"entry115.csv\" \"entry116.csv\"\n",
            " [21] \"entry117.csv\" \"entry118.csv\" \"entry119.csv\" \"entry12.csv\"  \"entry120.csv\"\n",
            " [26] \"entry121.csv\" \"entry122.csv\" \"entry123.csv\" \"entry124.csv\" \"entry125.csv\"\n",
            " [31] \"entry126.csv\" \"entry127.csv\" \"entry128.csv\" \"entry129.csv\" \"entry13.csv\" \n",
            " [36] \"entry130.csv\" \"entry131.csv\" \"entry132.csv\" \"entry133.csv\" \"entry134.csv\"\n",
            " [41] \"entry135.csv\" \"entry136.csv\" \"entry137.csv\" \"entry138.csv\" \"entry139.csv\"\n",
            " [46] \"entry14.csv\"  \"entry140.csv\" \"entry141.csv\" \"entry142.csv\" \"entry143.csv\"\n",
            " [51] \"entry144.csv\" \"entry145.csv\" \"entry146.csv\" \"entry147.csv\" \"entry148.csv\"\n",
            " [56] \"entry149.csv\" \"entry15.csv\"  \"entry150.csv\" \"entry151.csv\" \"entry152.csv\"\n",
            " [61] \"entry153.csv\" \"entry154.csv\" \"entry155.csv\" \"entry156.csv\" \"entry157.csv\"\n",
            " [66] \"entry158.csv\" \"entry159.csv\" \"entry16.csv\"  \"entry160.csv\" \"entry161.csv\"\n",
            " [71] \"entry162.csv\" \"entry163.csv\" \"entry164.csv\" \"entry165.csv\" \"entry166.csv\"\n",
            " [76] \"entry167.csv\" \"entry168.csv\" \"entry169.csv\" \"entry17.csv\"  \"entry170.csv\"\n",
            " [81] \"entry171.csv\" \"entry172.csv\" \"entry173.csv\" \"entry174.csv\" \"entry175.csv\"\n",
            " [86] \"entry176.csv\" \"entry177.csv\" \"entry178.csv\" \"entry179.csv\" \"entry18.csv\" \n",
            " [91] \"entry180.csv\" \"entry181.csv\" \"entry182.csv\" \"entry183.csv\" \"entry184.csv\"\n",
            " [96] \"entry185.csv\" \"entry186.csv\" \"entry187.csv\" \"entry188.csv\" \"entry189.csv\"\n",
            "[101] \"entry19.csv\"  \"entry190.csv\" \"entry191.csv\" \"entry192.csv\" \"entry193.csv\"\n",
            "[106] \"entry194.csv\" \"entry195.csv\" \"entry196.csv\" \"entry197.csv\" \"entry198.csv\"\n",
            "[111] \"entry199.csv\" \"entry2.csv\"   \"entry20.csv\"  \"entry200.csv\" \"entry201.csv\"\n",
            "[116] \"entry202.csv\" \"entry203.csv\" \"entry204.csv\" \"entry205.csv\" \"entry206.csv\"\n",
            "[121] \"entry207.csv\" \"entry208.csv\" \"entry209.csv\" \"entry21.csv\"  \"entry210.csv\"\n",
            "[126] \"entry211.csv\" \"entry212.csv\" \"entry213.csv\" \"entry214.csv\" \"entry215.csv\"\n",
            "[131] \"entry216.csv\" \"entry217.csv\" \"entry218.csv\" \"entry219.csv\" \"entry22.csv\" \n",
            "[136] \"entry220.csv\" \"entry221.csv\" \"entry222.csv\" \"entry223.csv\" \"entry224.csv\"\n",
            "[141] \"entry225.csv\" \"entry226.csv\" \"entry227.csv\" \"entry228.csv\" \"entry229.csv\"\n",
            "[146] \"entry23.csv\"  \"entry230.csv\" \"entry231.csv\" \"entry232.csv\" \"entry233.csv\"\n",
            "[151] \"entry234.csv\" \"entry235.csv\" \"entry236.csv\" \"entry237.csv\" \"entry238.csv\"\n",
            "[156] \"entry239.csv\" \"entry24.csv\"  \"entry240.csv\" \"entry241.csv\" \"entry242.csv\"\n",
            "[161] \"entry243.csv\" \"entry244.csv\" \"entry245.csv\" \"entry246.csv\" \"entry247.csv\"\n",
            "[166] \"entry248.csv\" \"entry249.csv\" \"entry25.csv\"  \"entry250.csv\" \"entry251.csv\"\n",
            "[171] \"entry252.csv\" \"entry253.csv\" \"entry254.csv\" \"entry255.csv\" \"entry256.csv\"\n",
            "[176] \"entry257.csv\" \"entry258.csv\" \"entry259.csv\" \"entry26.csv\"  \"entry260.csv\"\n",
            "[181] \"entry261.csv\" \"entry262.csv\" \"entry263.csv\" \"entry264.csv\" \"entry265.csv\"\n",
            "[186] \"entry266.csv\" \"entry267.csv\" \"entry268.csv\" \"entry269.csv\" \"entry27.csv\" \n",
            "[191] \"entry270.csv\" \"entry271.csv\" \"entry272.csv\" \"entry273.csv\" \"entry274.csv\"\n",
            "[196] \"entry275.csv\" \"entry276.csv\" \"entry277.csv\" \"entry278.csv\" \"entry279.csv\"\n",
            "[201] \"entry28.csv\"  \"entry280.csv\" \"entry281.csv\" \"entry282.csv\" \"entry283.csv\"\n",
            "[206] \"entry284.csv\" \"entry285.csv\" \"entry286.csv\" \"entry287.csv\" \"entry288.csv\"\n",
            "[211] \"entry289.csv\" \"entry29.csv\"  \"entry290.csv\" \"entry291.csv\" \"entry292.csv\"\n",
            "[216] \"entry293.csv\" \"entry294.csv\" \"entry295.csv\" \"entry296.csv\" \"entry297.csv\"\n",
            "[221] \"entry298.csv\" \"entry299.csv\" \"entry3.csv\"   \"entry30.csv\"  \"entry300.csv\"\n",
            "[226] \"entry301.csv\" \"entry302.csv\" \"entry303.csv\" \"entry304.csv\" \"entry305.csv\"\n",
            "[231] \"entry306.csv\" \"entry307.csv\" \"entry308.csv\" \"entry309.csv\" \"entry31.csv\" \n",
            "[236] \"entry310.csv\" \"entry311.csv\" \"entry312.csv\" \"entry313.csv\" \"entry314.csv\"\n",
            "[241] \"entry315.csv\" \"entry316.csv\" \"entry317.csv\" \"entry318.csv\" \"entry319.csv\"\n",
            "[246] \"entry32.csv\"  \"entry320.csv\" \"entry321.csv\" \"entry322.csv\" \"entry323.csv\"\n",
            "[251] \"entry324.csv\" \"entry325.csv\" \"entry326.csv\" \"entry327.csv\" \"entry328.csv\"\n",
            "[256] \"entry329.csv\" \"entry33.csv\"  \"entry330.csv\" \"entry331.csv\" \"entry332.csv\"\n",
            "[261] \"entry333.csv\" \"entry334.csv\" \"entry335.csv\" \"entry336.csv\" \"entry337.csv\"\n",
            "[266] \"entry338.csv\" \"entry339.csv\" \"entry34.csv\"  \"entry340.csv\" \"entry341.csv\"\n",
            "[271] \"entry342.csv\" \"entry343.csv\" \"entry344.csv\" \"entry345.csv\" \"entry346.csv\"\n",
            "[276] \"entry347.csv\" \"entry348.csv\" \"entry349.csv\" \"entry35.csv\"  \"entry350.csv\"\n",
            "[281] \"entry351.csv\" \"entry352.csv\" \"entry353.csv\" \"entry354.csv\" \"entry355.csv\"\n",
            "[286] \"entry356.csv\" \"entry357.csv\" \"entry358.csv\" \"entry359.csv\" \"entry36.csv\" \n",
            "[291] \"entry360.csv\" \"entry361.csv\" \"entry362.csv\" \"entry363.csv\" \"entry364.csv\"\n",
            "[296] \"entry365.csv\" \"entry366.csv\" \"entry367.csv\" \"entry368.csv\" \"entry369.csv\"\n",
            "[301] \"entry37.csv\"  \"entry370.csv\" \"entry371.csv\" \"entry372.csv\" \"entry373.csv\"\n",
            "[306] \"entry374.csv\" \"entry375.csv\" \"entry376.csv\" \"entry377.csv\" \"entry378.csv\"\n",
            "[311] \"entry379.csv\" \"entry38.csv\"  \"entry380.csv\" \"entry381.csv\" \"entry382.csv\"\n",
            "[316] \"entry383.csv\" \"entry384.csv\" \"entry385.csv\" \"entry386.csv\" \"entry387.csv\"\n",
            "[321] \"entry388.csv\" \"entry389.csv\" \"entry39.csv\"  \"entry390.csv\" \"entry391.csv\"\n",
            "[326] \"entry392.csv\" \"entry393.csv\" \"entry394.csv\" \"entry395.csv\" \"entry396.csv\"\n",
            "[331] \"entry397.csv\" \"entry398.csv\" \"entry399.csv\" \"entry4.csv\"   \"entry40.csv\" \n",
            "[336] \"entry400.csv\" \"entry401.csv\" \"entry402.csv\" \"entry403.csv\" \"entry404.csv\"\n",
            "[341] \"entry405.csv\" \"entry406.csv\" \"entry407.csv\" \"entry408.csv\" \"entry409.csv\"\n",
            "[346] \"entry41.csv\"  \"entry410.csv\" \"entry411.csv\" \"entry412.csv\" \"entry413.csv\"\n",
            "[351] \"entry414.csv\" \"entry415.csv\" \"entry416.csv\" \"entry417.csv\" \"entry418.csv\"\n",
            "[356] \"entry419.csv\" \"entry42.csv\"  \"entry420.csv\" \"entry421.csv\" \"entry422.csv\"\n",
            "[361] \"entry423.csv\" \"entry424.csv\" \"entry425.csv\" \"entry426.csv\" \"entry427.csv\"\n",
            "[366] \"entry428.csv\" \"entry429.csv\" \"entry43.csv\"  \"entry430.csv\" \"entry431.csv\"\n",
            "[371] \"entry432.csv\" \"entry433.csv\" \"entry434.csv\" \"entry435.csv\" \"entry436.csv\"\n",
            "[376] \"entry437.csv\" \"entry438.csv\" \"entry439.csv\" \"entry44.csv\"  \"entry440.csv\"\n",
            "[381] \"entry441.csv\" \"entry442.csv\" \"entry443.csv\" \"entry444.csv\" \"entry445.csv\"\n",
            "[386] \"entry446.csv\" \"entry447.csv\" \"entry448.csv\" \"entry449.csv\" \"entry45.csv\" \n",
            "[391] \"entry450.csv\" \"entry451.csv\" \"entry452.csv\" \"entry453.csv\" \"entry46.csv\" \n",
            "[396] \"entry47.csv\"  \"entry48.csv\"  \"entry49.csv\"  \"entry5.csv\"   \"entry50.csv\" \n",
            "[401] \"entry51.csv\"  \"entry52.csv\"  \"entry53.csv\"  \"entry54.csv\"  \"entry55.csv\" \n",
            "[406] \"entry56.csv\"  \"entry57.csv\"  \"entry58.csv\"  \"entry59.csv\"  \"entry6.csv\"  \n",
            "[411] \"entry60.csv\"  \"entry61.csv\"  \"entry62.csv\"  \"entry63.csv\"  \"entry64.csv\" \n",
            "[416] \"entry65.csv\"  \"entry66.csv\"  \"entry67.csv\"  \"entry68.csv\"  \"entry69.csv\" \n",
            "[421] \"entry7.csv\"   \"entry70.csv\"  \"entry71.csv\"  \"entry72.csv\"  \"entry73.csv\" \n",
            "[426] \"entry74.csv\"  \"entry75.csv\"  \"entry76.csv\"  \"entry77.csv\"  \"entry78.csv\" \n",
            "[431] \"entry79.csv\"  \"entry8.csv\"   \"entry80.csv\"  \"entry81.csv\"  \"entry82.csv\" \n",
            "[436] \"entry83.csv\"  \"entry84.csv\"  \"entry85.csv\"  \"entry86.csv\"  \"entry87.csv\" \n",
            "[441] \"entry88.csv\"  \"entry89.csv\"  \"entry9.csv\"   \"entry90.csv\"  \"entry91.csv\" \n",
            "[446] \"entry92.csv\"  \"entry93.csv\"  \"entry94.csv\"  \"entry95.csv\"  \"entry96.csv\" \n",
            "[451] \"entry97.csv\"  \"entry98.csv\"  \"entry99.csv\" \n"
          ]
        }
      ]
    },
    {
      "cell_type": "markdown",
      "source": [
        "**Task 1.4**<br><br>\n",
        "We get a list of entries of csv files"
      ],
      "metadata": {
        "id": "ZusqNXYLk0ao"
      }
    },
    {
      "cell_type": "markdown",
      "metadata": {
        "id": "kpxLhz3YpZXE"
      },
      "source": [
        "<br>"
      ]
    },
    {
      "cell_type": "markdown",
      "metadata": {
        "id": "_me1SgExpZXF"
      },
      "source": [
        "<font color=red>Task 1.5</font>\n",
        "\n",
        "* Load one of these files into `R` using one of the functions covered in lecture\n",
        "\n"
      ]
    },
    {
      "cell_type": "code",
      "source": [
        "#1.5\n",
        "raw_entry <- read.csv(file = \"/content/salary_data/Data Scientist/entry99.csv\",\n",
        "                      header = TRUE,\n",
        "                      )\n",
        "head(raw_entry)"
      ],
      "metadata": {
        "colab": {
          "base_uri": "https://localhost:8080/",
          "height": 167
        },
        "id": "XQcbZGyllIgS",
        "outputId": "8d129024-f9cf-4ec1-8d9b-ae6e946e45da"
      },
      "execution_count": 13,
      "outputs": [
        {
          "output_type": "display_data",
          "data": {
            "text/html": [
              "<table class=\"dataframe\">\n",
              "<caption>A data.frame: 1 × 6</caption>\n",
              "<thead>\n",
              "\t<tr><th></th><th scope=col>Age</th><th scope=col>Gender</th><th scope=col>Education.Level</th><th scope=col>Job.Title</th><th scope=col>Years.of.Experience</th><th scope=col>Salary</th></tr>\n",
              "\t<tr><th></th><th scope=col>&lt;int&gt;</th><th scope=col>&lt;chr&gt;</th><th scope=col>&lt;chr&gt;</th><th scope=col>&lt;chr&gt;</th><th scope=col>&lt;int&gt;</th><th scope=col>&lt;int&gt;</th></tr>\n",
              "</thead>\n",
              "<tbody>\n",
              "\t<tr><th scope=row>1</th><td>29</td><td>Female</td><td>MS</td><td>Data Scientist</td><td>6</td><td>180000</td></tr>\n",
              "</tbody>\n",
              "</table>\n"
            ],
            "text/markdown": "\nA data.frame: 1 × 6\n\n| <!--/--> | Age &lt;int&gt; | Gender &lt;chr&gt; | Education.Level &lt;chr&gt; | Job.Title &lt;chr&gt; | Years.of.Experience &lt;int&gt; | Salary &lt;int&gt; |\n|---|---|---|---|---|---|---|\n| 1 | 29 | Female | MS | Data Scientist | 6 | 180000 |\n\n",
            "text/latex": "A data.frame: 1 × 6\n\\begin{tabular}{r|llllll}\n  & Age & Gender & Education.Level & Job.Title & Years.of.Experience & Salary\\\\\n  & <int> & <chr> & <chr> & <chr> & <int> & <int>\\\\\n\\hline\n\t1 & 29 & Female & MS & Data Scientist & 6 & 180000\\\\\n\\end{tabular}\n",
            "text/plain": [
              "  Age Gender Education.Level Job.Title      Years.of.Experience Salary\n",
              "1 29  Female MS              Data Scientist 6                   180000"
            ]
          },
          "metadata": {}
        }
      ]
    },
    {
      "cell_type": "markdown",
      "source": [
        "<br>\n",
        "\n",
        "<br>"
      ],
      "metadata": {
        "id": "qxS6ztRJqMdK"
      }
    },
    {
      "cell_type": "markdown",
      "metadata": {
        "id": "rbeRxp-3qMdM"
      },
      "source": [
        "<br>\n",
        "\n",
        "---"
      ]
    },
    {
      "cell_type": "markdown",
      "metadata": {
        "id": "oHahMLpO8A9D"
      },
      "source": [
        "####<font color=red>Task 2</font>\n"
      ]
    },
    {
      "cell_type": "markdown",
      "metadata": {
        "id": "ScjnfR6W8A9D"
      },
      "source": [
        "<font color=red>Task 2.1</font>\n",
        "\n",
        "* Write a `for` loop that loads each file in the \"Data Scientist\" folder and stores it into an unstructured list\n",
        "\n",
        "  Pseudo code hint:\n",
        "  ```\n",
        "  # create empty list\n",
        "  data <- list()\n",
        "\n",
        "  # loop through files\n",
        "  for (i in 1:number_of_files) {\n",
        "    # store as entry in list\n",
        "    data[[i]] <- read.file...\n",
        "  }\n",
        "  ```\n"
      ]
    },
    {
      "cell_type": "code",
      "source": [
        "# 2.1\n",
        "data <- list()\n",
        "\n",
        "# loop through files\n",
        "for (i in 1:length(list.files(\"/content/salary_data/Data Scientist\"))) {\n",
        "  # store as entry in list\n",
        "  data[[i]] <- read.csv(file = \"/content/salary_data/Data Scientist/entry99.csv\",\n",
        "  header = TRUE)\n",
        "}"
      ],
      "metadata": {
        "id": "FZ_pP3dqmQB8"
      },
      "execution_count": 14,
      "outputs": []
    },
    {
      "cell_type": "markdown",
      "source": [
        "<br>"
      ],
      "metadata": {
        "id": "hmCs30yhrszf"
      }
    },
    {
      "cell_type": "markdown",
      "metadata": {
        "id": "d-Xm5b0Xrtic"
      },
      "source": [
        "<font color=red>Task 2.2</font>\n",
        "\n",
        "* Use `do.call()` to combine all of the unstructured list items into a single data frame of all individuals who have the \"Data Scientist\" job title.\n",
        "\n",
        "* Use the `head()` function to check your work"
      ]
    },
    {
      "cell_type": "code",
      "source": [
        "#2.2\n",
        "data_scientist <- do.call(rbind, data)\n",
        "str(data_scientist)\n",
        "\n",
        "head(data_scientist)"
      ],
      "metadata": {
        "colab": {
          "base_uri": "https://localhost:8080/",
          "height": 410
        },
        "id": "oHePt5C9nN03",
        "outputId": "5872ee67-5559-4b6a-9643-96d02c0aa292"
      },
      "execution_count": 15,
      "outputs": [
        {
          "output_type": "stream",
          "name": "stdout",
          "text": [
            "'data.frame':\t453 obs. of  6 variables:\n",
            " $ Age                : int  29 29 29 29 29 29 29 29 29 29 ...\n",
            " $ Gender             : chr  \"Female\" \"Female\" \"Female\" \"Female\" ...\n",
            " $ Education.Level    : chr  \"MS\" \"MS\" \"MS\" \"MS\" ...\n",
            " $ Job.Title          : chr  \"Data Scientist\" \"Data Scientist\" \"Data Scientist\" \"Data Scientist\" ...\n",
            " $ Years.of.Experience: int  6 6 6 6 6 6 6 6 6 6 ...\n",
            " $ Salary             : int  180000 180000 180000 180000 180000 180000 180000 180000 180000 180000 ...\n"
          ]
        },
        {
          "output_type": "display_data",
          "data": {
            "text/html": [
              "<table class=\"dataframe\">\n",
              "<caption>A data.frame: 6 × 6</caption>\n",
              "<thead>\n",
              "\t<tr><th></th><th scope=col>Age</th><th scope=col>Gender</th><th scope=col>Education.Level</th><th scope=col>Job.Title</th><th scope=col>Years.of.Experience</th><th scope=col>Salary</th></tr>\n",
              "\t<tr><th></th><th scope=col>&lt;int&gt;</th><th scope=col>&lt;chr&gt;</th><th scope=col>&lt;chr&gt;</th><th scope=col>&lt;chr&gt;</th><th scope=col>&lt;int&gt;</th><th scope=col>&lt;int&gt;</th></tr>\n",
              "</thead>\n",
              "<tbody>\n",
              "\t<tr><th scope=row>1</th><td>29</td><td>Female</td><td>MS</td><td>Data Scientist</td><td>6</td><td>180000</td></tr>\n",
              "\t<tr><th scope=row>2</th><td>29</td><td>Female</td><td>MS</td><td>Data Scientist</td><td>6</td><td>180000</td></tr>\n",
              "\t<tr><th scope=row>3</th><td>29</td><td>Female</td><td>MS</td><td>Data Scientist</td><td>6</td><td>180000</td></tr>\n",
              "\t<tr><th scope=row>4</th><td>29</td><td>Female</td><td>MS</td><td>Data Scientist</td><td>6</td><td>180000</td></tr>\n",
              "\t<tr><th scope=row>5</th><td>29</td><td>Female</td><td>MS</td><td>Data Scientist</td><td>6</td><td>180000</td></tr>\n",
              "\t<tr><th scope=row>6</th><td>29</td><td>Female</td><td>MS</td><td>Data Scientist</td><td>6</td><td>180000</td></tr>\n",
              "</tbody>\n",
              "</table>\n"
            ],
            "text/markdown": "\nA data.frame: 6 × 6\n\n| <!--/--> | Age &lt;int&gt; | Gender &lt;chr&gt; | Education.Level &lt;chr&gt; | Job.Title &lt;chr&gt; | Years.of.Experience &lt;int&gt; | Salary &lt;int&gt; |\n|---|---|---|---|---|---|---|\n| 1 | 29 | Female | MS | Data Scientist | 6 | 180000 |\n| 2 | 29 | Female | MS | Data Scientist | 6 | 180000 |\n| 3 | 29 | Female | MS | Data Scientist | 6 | 180000 |\n| 4 | 29 | Female | MS | Data Scientist | 6 | 180000 |\n| 5 | 29 | Female | MS | Data Scientist | 6 | 180000 |\n| 6 | 29 | Female | MS | Data Scientist | 6 | 180000 |\n\n",
            "text/latex": "A data.frame: 6 × 6\n\\begin{tabular}{r|llllll}\n  & Age & Gender & Education.Level & Job.Title & Years.of.Experience & Salary\\\\\n  & <int> & <chr> & <chr> & <chr> & <int> & <int>\\\\\n\\hline\n\t1 & 29 & Female & MS & Data Scientist & 6 & 180000\\\\\n\t2 & 29 & Female & MS & Data Scientist & 6 & 180000\\\\\n\t3 & 29 & Female & MS & Data Scientist & 6 & 180000\\\\\n\t4 & 29 & Female & MS & Data Scientist & 6 & 180000\\\\\n\t5 & 29 & Female & MS & Data Scientist & 6 & 180000\\\\\n\t6 & 29 & Female & MS & Data Scientist & 6 & 180000\\\\\n\\end{tabular}\n",
            "text/plain": [
              "  Age Gender Education.Level Job.Title      Years.of.Experience Salary\n",
              "1 29  Female MS              Data Scientist 6                   180000\n",
              "2 29  Female MS              Data Scientist 6                   180000\n",
              "3 29  Female MS              Data Scientist 6                   180000\n",
              "4 29  Female MS              Data Scientist 6                   180000\n",
              "5 29  Female MS              Data Scientist 6                   180000\n",
              "6 29  Female MS              Data Scientist 6                   180000"
            ]
          },
          "metadata": {}
        }
      ]
    },
    {
      "cell_type": "markdown",
      "source": [
        "<br>"
      ],
      "metadata": {
        "id": "y2j5CWmfsK56"
      }
    },
    {
      "cell_type": "markdown",
      "metadata": {
        "id": "lXkFX3cYsK58"
      },
      "source": [
        "<font color=red>Task 2.3</font>\n",
        "\n",
        "* Use `dir.create()` to create a folder called \"processed_data\" in the file folder\n",
        "\n",
        "* Export your data frame from Task 2.2 into the \"processed_data\" folder as a tab delimited file called \"ds_salaries.txt\"\n",
        "\n",
        "* Export your data frame from Task 2.2 into the \"processed_data\" folder as an excel spreadsheet called \"ds_salaries.xlsx\""
      ]
    },
    {
      "cell_type": "code",
      "source": [
        "#2.3\n",
        "setwd(\"/content\")\n",
        "dir.create(\"/content/processed_data\")\n",
        "\n",
        "list.files()"
      ],
      "metadata": {
        "colab": {
          "base_uri": "https://localhost:8080/",
          "height": 34
        },
        "id": "2KKCMouTsOCP",
        "outputId": "edd8b08d-1117-4cd1-f61e-842e0a337cce"
      },
      "execution_count": 18,
      "outputs": [
        {
          "output_type": "display_data",
          "data": {
            "text/html": [
              "<style>\n",
              ".list-inline {list-style: none; margin:0; padding: 0}\n",
              ".list-inline>li {display: inline-block}\n",
              ".list-inline>li:not(:last-child)::after {content: \"\\00b7\"; padding: 0 .5ex}\n",
              "</style>\n",
              "<ol class=list-inline><li>'processed_data'</li><li>'salary_data'</li><li>'sample_data'</li></ol>\n"
            ],
            "text/markdown": "1. 'processed_data'\n2. 'salary_data'\n3. 'sample_data'\n\n\n",
            "text/latex": "\\begin{enumerate*}\n\\item 'processed\\_data'\n\\item 'salary\\_data'\n\\item 'sample\\_data'\n\\end{enumerate*}\n",
            "text/plain": [
              "[1] \"processed_data\" \"salary_data\"    \"sample_data\"   "
            ]
          },
          "metadata": {}
        }
      ]
    },
    {
      "cell_type": "code",
      "source": [
        "setwd(\"/content/processed_data\")\n",
        "write.table(data_scientist,\n",
        "            file = \"ds_salaries.txt\",\n",
        "            sep = \"\\t\")\n",
        "\n",
        "write.xlsx(x = data_scientist,\n",
        "           file = \"ds_salaries.xlsx\"\n",
        "           )\n",
        "list.files()"
      ],
      "metadata": {
        "colab": {
          "base_uri": "https://localhost:8080/",
          "height": 34
        },
        "id": "fvvxYzbptrMZ",
        "outputId": "b9f70afd-4b3e-4066-cfef-200bb225572d"
      },
      "execution_count": 37,
      "outputs": [
        {
          "output_type": "display_data",
          "data": {
            "text/html": [
              "<style>\n",
              ".list-inline {list-style: none; margin:0; padding: 0}\n",
              ".list-inline>li {display: inline-block}\n",
              ".list-inline>li:not(:last-child)::after {content: \"\\00b7\"; padding: 0 .5ex}\n",
              "</style>\n",
              "<ol class=list-inline><li>'ds_salaries.txt'</li><li>'ds_salaries.xlsx'</li></ol>\n"
            ],
            "text/markdown": "1. 'ds_salaries.txt'\n2. 'ds_salaries.xlsx'\n\n\n",
            "text/latex": "\\begin{enumerate*}\n\\item 'ds\\_salaries.txt'\n\\item 'ds\\_salaries.xlsx'\n\\end{enumerate*}\n",
            "text/plain": [
              "[1] \"ds_salaries.txt\"  \"ds_salaries.xlsx\""
            ]
          },
          "metadata": {}
        }
      ]
    },
    {
      "cell_type": "markdown",
      "source": [
        "<br>\n",
        "\n",
        "<br>"
      ],
      "metadata": {
        "id": "KGRG0psLt5Sa"
      }
    },
    {
      "cell_type": "markdown",
      "metadata": {
        "id": "ZGdnbBSwt5Sb"
      },
      "source": [
        "<br>\n",
        "\n",
        "---"
      ]
    },
    {
      "cell_type": "markdown",
      "metadata": {
        "id": "Q_48AMSDt5Sc"
      },
      "source": [
        "####<font color=red>Task 3</font>\n"
      ]
    },
    {
      "cell_type": "markdown",
      "metadata": {
        "id": "CMra9MFRt5Sc"
      },
      "source": [
        "<font color=red>Task 3.1</font>\n",
        "\n",
        "* Write down steps for how you would load data from all job titles into `R` as a single data frame"
      ]
    },
    {
      "cell_type": "markdown",
      "source": [
        "<br>"
      ],
      "metadata": {
        "id": "BUUhLdTbvgq3"
      }
    },
    {
      "cell_type": "markdown",
      "source": [
        "<font color=red>Task 3.2</font>\n",
        "\n",
        "* Try it out! This can be difficult when just learning `R`, but work with others and try your best."
      ],
      "metadata": {
        "id": "BUrWsanhvhid"
      }
    }
  ],
  "metadata": {
    "colab": {
      "provenance": []
    },
    "kernelspec": {
      "display_name": "R",
      "name": "ir"
    }
  },
  "nbformat": 4,
  "nbformat_minor": 0
}